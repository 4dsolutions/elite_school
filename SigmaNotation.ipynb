{
 "cells": [
  {
   "cell_type": "markdown",
   "id": "f990cdb4",
   "metadata": {},
   "source": [
    "[Home](Home.ipynb)\n",
    "\n",
    "# Example Study Sheet:  Sigma Notation\n",
    "\n",
    "This student is grappling with Sigma notation i.e. notation that might be understood in terms of a computer language, with a looping construct.  Most languages have that, including Python.\n",
    "\n",
    "In Jupyter Markdown, we can represent Sigma using $\\LaTeX$:\n",
    "\n",
    "$$\n",
    "\\sum\\limits_{i=1}^n i^2 = \\frac{n(n+1)(2n+1)}{6}\n",
    "$$\n",
    "\n",
    "The ```Sigma``` function below is meant to be very generic, meaning as long as the single variable, the index, is sufficient to drive the output of successive terms, we're free to provide the corresponding [callable object](Internals.ipynb).\n",
    "\n",
    "For example, the expression ```lambda x: 1/x**2``` is callable and may be passed directly as the last argument to ```Sigma```.\n",
    "\n",
    "Capitalizing the name of a Python function is a slight break with style conventions.  However, the allusion here is to the ```\\Sigma``` in $\\LaTeX$, i.e. to get the uppercase Greek sigma, we spell it with a capital S.  Otherwise we get $\\sigma$ i.e. the lowercase Greek sigma."
   ]
  },
  {
   "cell_type": "code",
   "execution_count": 1,
   "id": "885678e4",
   "metadata": {},
   "outputs": [
    {
     "data": {
      "text/plain": [
       "1.6349839001848923"
      ]
     },
     "execution_count": 1,
     "metadata": {},
     "output_type": "execute_result"
    }
   ],
   "source": [
    "def Sigma(start, stop, any_callable):\n",
    "    total = 0\n",
    "    for i in range(start, stop+1):\n",
    "        total += any_callable(i) # running total\n",
    "    return total\n",
    "\n",
    "Sigma(1, 100, lambda x: 1/x**2) # sum 1/1 + 1/4 + 1/9 + 1/16... 1/100**2"
   ]
  },
  {
   "cell_type": "markdown",
   "id": "4e14571a",
   "metadata": {},
   "source": [
    "Python lets us fuel the very same expression with an entirely different number type, the Fraction, here renamed Q, a letter commonly reserved for \"rational numbers\" i.e. \"ratios\" -- the same as fractions really."
   ]
  },
  {
   "cell_type": "code",
   "execution_count": 2,
   "id": "1ce21e19",
   "metadata": {},
   "outputs": [],
   "source": [
    "from fractions import Fraction as Q"
   ]
  },
  {
   "cell_type": "code",
   "execution_count": 3,
   "id": "c28eeef6",
   "metadata": {},
   "outputs": [],
   "source": [
    "the_sum = Sigma(1, 100, lambda x: Q(1, x**2))"
   ]
  },
  {
   "cell_type": "code",
   "execution_count": 4,
   "id": "7add82fc",
   "metadata": {},
   "outputs": [
    {
     "data": {
      "text/plain": [
       "Fraction(1589508694133037873112297928517553859702383498543709859889432834803818131090369901, 972186144434381030589657976672623144161975583995746241782720354705517986165248000)"
      ]
     },
     "execution_count": 4,
     "metadata": {},
     "output_type": "execute_result"
    }
   ],
   "source": [
    "the_sum"
   ]
  },
  {
   "cell_type": "code",
   "execution_count": 5,
   "id": "5c47c363",
   "metadata": {},
   "outputs": [
    {
     "data": {
      "text/plain": [
       "1.634983900184893"
      ]
     },
     "execution_count": 5,
     "metadata": {},
     "output_type": "execute_result"
    }
   ],
   "source": [
    "the_sum.numerator / the_sum.denominator  # same floating point answer"
   ]
  },
  {
   "cell_type": "markdown",
   "id": "ff47a0fc",
   "metadata": {},
   "source": [
    "The next number type we might test (after floats and Fractions), is the Decimal, which will allow us many more digits of precision.  We get to control with how much precision.  Default is 28 decimal digits."
   ]
  },
  {
   "cell_type": "code",
   "execution_count": 6,
   "id": "c3b82683",
   "metadata": {},
   "outputs": [
    {
     "data": {
      "text/plain": [
       "Decimal('1.644834071848059769806081814')"
      ]
     },
     "execution_count": 6,
     "metadata": {},
     "output_type": "execute_result"
    }
   ],
   "source": [
    "from decimal import Decimal\n",
    "the_sum = Sigma(1, 10000, lambda x: 1/Decimal(x)**2)\n",
    "the_sum"
   ]
  },
  {
   "cell_type": "markdown",
   "id": "2b7ea7d3",
   "metadata": {},
   "source": [
    "We don't have to use lambda expressions.  What's done to x, to compute the term, may be more than we can comfortably fit in a one-liner.\n",
    "\n",
    "Now our student does more background research on this specific sequence.  Does it converge and, if yes, to what?"
   ]
  },
  {
   "cell_type": "code",
   "execution_count": 7,
   "id": "8e2acb55",
   "metadata": {},
   "outputs": [],
   "source": [
    "from IPython.display import YouTubeVideo"
   ]
  },
  {
   "cell_type": "code",
   "execution_count": 8,
   "id": "b6fd629f",
   "metadata": {},
   "outputs": [
    {
     "data": {
      "image/jpeg": "[encoded data removed]",
      "text/html": [
       "\n",
       "        <iframe\n",
       "            width=\"400\"\n",
       "            height=\"300\"\n",
       "            src=\"https://www.youtube.com/embed/9euTxoCC8Hk\"\n",
       "            frameborder=\"0\"\n",
       "            allowfullscreen\n",
       "        ></iframe>\n",
       "        "
      ],
      "text/plain": [
       "<IPython.lib.display.YouTubeVideo at 0x10e52b590>"
      ]
     },
     "execution_count": 8,
     "metadata": {},
     "output_type": "execute_result"
    }
   ],
   "source": [
    "YouTubeVideo(\"9euTxoCC8Hk\")"
   ]
  },
  {
   "cell_type": "markdown",
   "id": "de556e0c",
   "metadata": {},
   "source": [
    "So, we have learned that:\n",
    "\n",
    "$$\n",
    "\\sum\\limits_{i=1}^\\infty 1/i^2 = \\pi^{2}/6\n",
    "$$"
   ]
  },
  {
   "cell_type": "markdown",
   "id": "96cc0e9d",
   "metadata": {},
   "source": [
    "Lets verify the identity we showcased up top:\n",
    "\n",
    "$$\n",
    "\\sum\\limits_{i=1}^n i^2 = \\frac{n(n+1)(2n+1)}{6}\n",
    "$$"
   ]
  },
  {
   "cell_type": "code",
   "execution_count": 9,
   "id": "89952c43",
   "metadata": {},
   "outputs": [],
   "source": [
    "def right_side(n):\n",
    "    return n*(n+1)*(2*n + 1)//6\n",
    "\n",
    "def left_side(n):\n",
    "    return Sigma(1, n, lambda x: x**2)"
   ]
  },
  {
   "cell_type": "code",
   "execution_count": 10,
   "id": "30e5740b",
   "metadata": {},
   "outputs": [
    {
     "data": {
      "text/plain": [
       "True"
      ]
     },
     "execution_count": 10,
     "metadata": {},
     "output_type": "execute_result"
    }
   ],
   "source": [
    "right_side(100) == left_side(100)"
   ]
  },
  {
   "cell_type": "code",
   "execution_count": 11,
   "id": "2960b164",
   "metadata": {},
   "outputs": [
    {
     "data": {
      "text/plain": [
       "True"
      ]
     },
     "execution_count": 11,
     "metadata": {},
     "output_type": "execute_result"
    }
   ],
   "source": [
    "right_side(1) == left_side(1)"
   ]
  },
  {
   "cell_type": "code",
   "execution_count": 12,
   "id": "2b46cf23",
   "metadata": {},
   "outputs": [
    {
     "data": {
      "text/plain": [
       "True"
      ]
     },
     "execution_count": 12,
     "metadata": {},
     "output_type": "execute_result"
    }
   ],
   "source": [
    "right_side(12345) == left_side(12345)"
   ]
  },
  {
   "cell_type": "markdown",
   "id": "ec7a698e",
   "metadata": {},
   "source": [
    "$\\Sigma$ is used for adding all the terms.  Suppose we want to multiply them all together instead, is there a Greek letter for that too?  You betcha.\n",
    "\n",
    "$$\n",
    "\\prod\\limits_{i=1}^n x = x!\n",
    "$$"
   ]
  },
  {
   "cell_type": "markdown",
   "id": "9511cac5",
   "metadata": {},
   "source": [
    "Since Σ is a codepoint in Unicode, might we use Σ for our Python function name?  Lets try:"
   ]
  },
  {
   "cell_type": "code",
   "execution_count": 13,
   "id": "3d7d99c7",
   "metadata": {},
   "outputs": [],
   "source": [
    "Σ = Sigma  # make a synonym"
   ]
  },
  {
   "cell_type": "code",
   "execution_count": 14,
   "id": "3d91bd5c",
   "metadata": {},
   "outputs": [
    {
     "data": {
      "text/plain": [
       "55"
      ]
     },
     "execution_count": 14,
     "metadata": {},
     "output_type": "execute_result"
    }
   ],
   "source": [
    "Σ(1, 10, lambda x: x)"
   ]
  },
  {
   "cell_type": "markdown",
   "id": "ae9c8bb3",
   "metadata": {},
   "source": [
    "Wow, we can!"
   ]
  },
  {
   "cell_type": "markdown",
   "id": "28e999e6",
   "metadata": {},
   "source": [
    "Sigma Notation is often used to express infinite sums, meaning there's no defined end to the number of terms, and \"at the limit\" i.e. as we approach infinity, we may converge to a very specific number.\n",
    "\n",
    "A lot of mathematics, including high school mathematics, if focused on these finite and infinite sums.  Sigma Notation comes in handy.  However you may also wish to write some analogous Python."
   ]
  }
 ],
 "metadata": {
  "kernelspec": {
   "display_name": "Python 3",
   "language": "python",
   "name": "python3"
  },
  "language_info": {
   "codemirror_mode": {
    "name": "ipython",
    "version": 3
   },
   "file_extension": ".py",
   "mimetype": "text/x-python",
   "name": "python",
   "nbconvert_exporter": "python",
   "pygments_lexer": "ipython3",
   "version": "3.7.9"
  }
 },
 "nbformat": 4,
 "nbformat_minor": 5
}
