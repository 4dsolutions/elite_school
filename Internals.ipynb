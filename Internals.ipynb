{
 "cells": [
  {
   "cell_type": "markdown",
   "metadata": {},
   "source": [
    "[Home](Home.ipynb)\n",
    "\n",
    "# Calling Python Objects\n",
    "\n",
    "We say an object is \"callable\" if it \"has a mouth\" meaning it makes sense to put parentheses after it.  Object( ) \"has a mouth\" in that \"( )\" looks a \"lips\" turned sideways, as in the old sideways emoticons, such as ;-() instead of a \"winking face\" emoji.\n",
    "\n",
    "Careful though:  putting parens after an object may also be a harmless use of syntax that doesn't end up triggering the object's ```__call__``` method.\n",
    "\n",
    "For example you may write:\n",
    "\n",
    "    if(1 != 2):\n",
    "       print(\"OK then\")\n",
    "   \n",
    "The parens after the ```if``` are harmless.  ```if``` is a keyword and none of the keywords are callable. \n",
    "\n",
    "Likewise, if this were Python 2.7, the ```print``` statement would still work, even though ```print``` is not actually being called.  In Python 3.x, on the other hand, print is most definitely a callable.  ```print``` is now a function, not a keyword."
   ]
  },
  {
   "cell_type": "code",
   "execution_count": 1,
   "metadata": {},
   "outputs": [
    {
     "data": {
      "text/plain": [
       "True"
      ]
     },
     "execution_count": 1,
     "metadata": {},
     "output_type": "execute_result"
    }
   ],
   "source": [
    "callable(print)"
   ]
  },
  {
   "cell_type": "code",
   "execution_count": 2,
   "metadata": {},
   "outputs": [
    {
     "name": "stdout",
     "output_type": "stream",
     "text": [
      "3.9.1 | packaged by conda-forge | (default, Jan 10 2021, 02:52:42) \n",
      "[Clang 11.0.0 ]\n"
     ]
    }
   ],
   "source": [
    "import sys\n",
    "print(sys.version)"
   ]
  },
  {
   "cell_type": "markdown",
   "metadata": {},
   "source": [
    "### About Arguments\n",
    "\n",
    "Once you have determined an object is callable, the next question is does it take arguments.  Not all callables do.\n",
    "\n",
    "A related question would be:  how do I define my own callables, including specifying its arguments.\n",
    "\n",
    "Technically speaking, we may want to distinguish parameters from arguments.  What you pass to a callable at runtime are arguments.  What they match up with, are parameters defined at design time."
   ]
  },
  {
   "cell_type": "code",
   "execution_count": 3,
   "metadata": {},
   "outputs": [],
   "source": [
    "def function_0(a, b): # two positional arguments\n",
    "    pass\n",
    "\n",
    "def function_1(a, b=0): # one positional, one named\n",
    "    pass\n",
    "\n",
    "def function_2(a=0, b=1): # two named arguments\n",
    "    pass\n",
    "\n",
    "# no errors\n",
    "function_0(1, 2)\n",
    "function_1(1)\n",
    "function_2()"
   ]
  },
  {
   "cell_type": "markdown",
   "metadata": {},
   "source": [
    "Above you'll see three functions having their parameters defined at design time.  Parameters come in two basic flavors:  positional and named.  Named arguments are also sometimes called keyword arguments, not to be confused with Python keywords.\n",
    "\n",
    "Then each of the functions gets called, with as few arguments as necessary.  Named arguments supply default values, which may be overridden, or left alone."
   ]
  },
  {
   "cell_type": "markdown",
   "metadata": {},
   "source": [
    "### Scatter / Gather Operators\n",
    "\n",
    "Wouldn't it be lovely if parameters could be defined in a more open-ended manner, such that any number of positional and/or named arguments might be passed, and get matched up with something.\n",
    "\n",
    "That's exactly what the star and double-star operators are for. Used with parameters, they allow for positionals and named arguments to get collected into a tuple and dictionary respectively."
   ]
  },
  {
   "cell_type": "code",
   "execution_count": 4,
   "metadata": {},
   "outputs": [],
   "source": [
    "def function_3(a, *b): # two positional arguments\n",
    "    print(\"a:\", a, \"b:\", b)\n",
    "\n",
    "def function_4(a, **b): # one positional, one named\n",
    "    print(\"a:\", a, \"b:\", b)\n",
    "\n",
    "def function_5(a, *, b): # one named but no default\n",
    "    print(\"a:\", a, \"b:\", b)"
   ]
  },
  {
   "cell_type": "code",
   "execution_count": 5,
   "metadata": {},
   "outputs": [
    {
     "name": "stdout",
     "output_type": "stream",
     "text": [
      "a: 1 b: (2, 3, 4, 5, 6)\n"
     ]
    }
   ],
   "source": [
    "function_3(1, 2, 3, 4, 5, 6)"
   ]
  },
  {
   "cell_type": "code",
   "execution_count": 6,
   "metadata": {},
   "outputs": [
    {
     "name": "stdout",
     "output_type": "stream",
     "text": [
      "a: 1 b: {'r': 2, 's': 3, 't': 4}\n"
     ]
    }
   ],
   "source": [
    "function_4(a=1, r=2, s=3, t=4) # naming a positional is OK"
   ]
  },
  {
   "cell_type": "code",
   "execution_count": 7,
   "metadata": {},
   "outputs": [
    {
     "name": "stdout",
     "output_type": "stream",
     "text": [
      "a: 1 b: {'r': 2, 's': 3, 't': 4}\n"
     ]
    }
   ],
   "source": [
    "function_4(1, r=2, s=3, t=4)"
   ]
  },
  {
   "cell_type": "code",
   "execution_count": 8,
   "metadata": {},
   "outputs": [
    {
     "name": "stdout",
     "output_type": "stream",
     "text": [
      "a: 1 b: 2\n"
     ]
    }
   ],
   "source": [
    "function_5(1, b=2) # b must be named"
   ]
  },
  {
   "cell_type": "code",
   "execution_count": 13,
   "metadata": {},
   "outputs": [],
   "source": [
    "# Python 3.9 and above\n",
    "def function_6(a, b, /, c):\n",
    "    pass"
   ]
  },
  {
   "cell_type": "code",
   "execution_count": 15,
   "metadata": {},
   "outputs": [],
   "source": [
    "function_6(1,2,c=3)"
   ]
  },
  {
   "cell_type": "markdown",
   "metadata": {},
   "source": [
    "### Packing / Unpacking (Continued)"
   ]
  },
  {
   "cell_type": "code",
   "execution_count": 2,
   "metadata": {},
   "outputs": [
    {
     "data": {
      "text/plain": [
       "{'tetrahedron': 4, 'cube': 6, 'octahedron': 8}"
      ]
     },
     "execution_count": 2,
     "metadata": {},
     "output_type": "execute_result"
    }
   ],
   "source": [
    "shapes = {\"tetrahedron\": 4, \"cube\": 6, \"octahedron\": 8}\n",
    "{**shapes} # unpacking a dict and repacking"
   ]
  },
  {
   "cell_type": "code",
   "execution_count": 3,
   "metadata": {},
   "outputs": [
    {
     "data": {
      "text/plain": [
       "{'tetrahedron': 4, 'cube': 6, 'octahedron': 8}"
      ]
     },
     "execution_count": 3,
     "metadata": {},
     "output_type": "execute_result"
    }
   ],
   "source": [
    "dict(shapes.items()) # dict eats tuple of tuples"
   ]
  },
  {
   "cell_type": "code",
   "execution_count": 4,
   "metadata": {},
   "outputs": [
    {
     "data": {
      "text/plain": [
       "{'tetrahedron': 4, 'cube': 6, 'octahedron': 8}"
      ]
     },
     "execution_count": 4,
     "metadata": {},
     "output_type": "execute_result"
    }
   ],
   "source": [
    "dict(**shapes) # dict eats named arguments"
   ]
  },
  {
   "cell_type": "code",
   "execution_count": null,
   "metadata": {},
   "outputs": [],
   "source": []
  }
 ],
 "metadata": {
  "kernelspec": {
   "display_name": "Python 3",
   "language": "python",
   "name": "python3"
  },
  "language_info": {
   "codemirror_mode": {
    "name": "ipython",
    "version": 3
   },
   "file_extension": ".py",
   "mimetype": "text/x-python",
   "name": "python",
   "nbconvert_exporter": "python",
   "pygments_lexer": "ipython3",
   "version": "3.7.9"
  }
 },
 "nbformat": 4,
 "nbformat_minor": 4
}
