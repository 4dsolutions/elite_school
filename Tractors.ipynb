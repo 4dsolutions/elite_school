{
 "cells": [
  {
   "cell_type": "markdown",
   "id": "3e31cb65",
   "metadata": {},
   "source": [
    "# Tractors in a Field\n",
    "\n",
    "Looking down from above, we see a tractor plowing a field.  The field is our ASCII art canvas in some stories.  In others, it's an Argand Plane.  The tractor is on a track which puts it at every point in the field.  We model both Field and Tractor as Python classes.\n",
    "\n",
    "If you eyeball the source code for [tractor_1.py](tractor_1.py), you will see that it uses a dict as its base data structure.  Often times we think of a rectangular matrix as more like a list of lists.  However, given dictionary keys might serve as lookup coordinates, the dict-based version may be functionally the same, and end up saving memory."
   ]
  },
  {
   "cell_type": "code",
   "execution_count": 2,
   "id": "6d1ba712",
   "metadata": {},
   "outputs": [
    {
     "name": "stdout",
     "output_type": "stream",
     "text": [
      "<Tractor @ (0, 0); Fuel 29; Phrase JUST USE IT>\n",
      "\n",
      "...........\n",
      "...........\n",
      "...........\n",
      "...........\n",
      "...........\n",
      "...JUST USE\n",
      " IT........\n",
      "...........\n",
      "...........\n",
      "...........\n",
      "...........\n"
     ]
    }
   ],
   "source": [
    "! python tractor_1.py"
   ]
  },
  {
   "cell_type": "markdown",
   "id": "826268fe",
   "metadata": {},
   "source": [
    "The [farmworld.py](farmworld.py) code is rather similar.  One interesting aspect of the design pattern is we have access to the tractors in the field through the field. However we also have access to the field through the tractors.  \n",
    "\n",
    "It's as if each tractor contains a memorized version of the field, which would be true of either a human or robot driven machine."
   ]
  },
  {
   "cell_type": "code",
   "execution_count": 3,
   "id": "97dec2dc",
   "metadata": {},
   "outputs": [],
   "source": [
    "import farmworld"
   ]
  },
  {
   "cell_type": "code",
   "execution_count": 4,
   "id": "70430c52",
   "metadata": {},
   "outputs": [
    {
     "name": "stdout",
     "output_type": "stream",
     "text": [
      "make a movie\n",
      "Empty field, all is peaceful\n",
      "\n",
      "********************\n",
      "********************\n",
      "********************\n",
      "********************\n",
      "********************\n",
      "********************\n",
      "********************\n",
      "********************\n",
      "********************\n",
      "********************\n",
      "********************\n",
      "********************\n",
      "********************\n",
      "********************\n",
      "********************\n",
      "********************\n",
      "********************\n",
      "********************\n",
      "********************\n",
      "********************\n",
      "\n",
      "Showing the tractors in a list: \n",
      "Tractor(pos=[10, 10], facing=N, marker=O, fuel=100)\n",
      "Tractor(pos=[10, 11], facing=S, marker=X, fuel=100)\n",
      "===\n",
      "A busy day begins...\n",
      "\n",
      "********************\n",
      "********************\n",
      "********************\n",
      "********************\n",
      "********************\n",
      "********************\n",
      "********************\n",
      "********************\n",
      "********************\n",
      "********************\n",
      "**********OX********\n",
      "********************\n",
      "********************\n",
      "********************\n",
      "********************\n",
      "********************\n",
      "********************\n",
      "********************\n",
      "********************\n",
      "********************\n",
      "\n",
      "Advance the film: Frame 0\n",
      "Advance the film: Frame 1\n",
      "Advance the film: Frame 2\n",
      "After 3 ticks of the clock, the tractors have moved...\n",
      "\n",
      "********************\n",
      "********************\n",
      "********************\n",
      "********************\n",
      "********************\n",
      "********************\n",
      "********************\n",
      "**********O*********\n",
      "********************\n",
      "********************\n",
      "********************\n",
      "********************\n",
      "********************\n",
      "***********X********\n",
      "********************\n",
      "********************\n",
      "********************\n",
      "********************\n",
      "********************\n",
      "********************\n",
      "\n"
     ]
    }
   ],
   "source": [
    "farmworld._test()"
   ]
  },
  {
   "cell_type": "code",
   "execution_count": 6,
   "id": "75398141",
   "metadata": {},
   "outputs": [
    {
     "name": "stdout",
     "output_type": "stream",
     "text": [
      "['In', 'Out', '_', '_5', '__', '___', '__builtin__', '__builtins__', '__doc__', '__loader__', '__name__', '__package__', '__spec__', '_dh', '_exit_code', '_i', '_i1', '_i2', '_i3', '_i4', '_i5', '_i6', '_ih', '_ii', '_iii', '_oh', 'exit', 'farmworld', 'get_ipython', 'quit', 'tractor_1']\n"
     ]
    }
   ],
   "source": [
    "print(dir())"
   ]
  },
  {
   "cell_type": "code",
   "execution_count": 11,
   "id": "b5a1ec70",
   "metadata": {},
   "outputs": [
    {
     "data": {
      "text/plain": [
       "Farm(20,20) @ 4457466256"
      ]
     },
     "execution_count": 11,
     "metadata": {},
     "output_type": "execute_result"
    }
   ],
   "source": [
    "thefarm = farmworld.Farm(20,20)\n",
    "thefarm   # fires __repr__"
   ]
  },
  {
   "cell_type": "code",
   "execution_count": 13,
   "id": "c68e35f4",
   "metadata": {},
   "outputs": [
    {
     "name": "stdout",
     "output_type": "stream",
     "text": [
      "********************\n",
      "********************\n",
      "********************\n",
      "********************\n",
      "********************\n",
      "********************\n",
      "********************\n",
      "********************\n",
      "********************\n",
      "********************\n",
      "********************\n",
      "********************\n",
      "********************\n",
      "********************\n",
      "********************\n",
      "********************\n",
      "********************\n",
      "********************\n",
      "********************\n",
      "********************\n",
      "\n"
     ]
    }
   ],
   "source": [
    "print(str(thefarm))  # str triggers __str__ which calls Farm.render(self)"
   ]
  },
  {
   "cell_type": "code",
   "execution_count": 16,
   "id": "1f4ba860",
   "metadata": {},
   "outputs": [
    {
     "name": "stdout",
     "output_type": "stream",
     "text": [
      "********************\n",
      "********************\n",
      "********************\n",
      "********************\n",
      "********************\n",
      "********************\n",
      "********************\n",
      "********************\n",
      "********************\n",
      "********************\n",
      "**********$*********\n",
      "********************\n",
      "********************\n",
      "********************\n",
      "********************\n",
      "********************\n",
      "********************\n",
      "********************\n",
      "********************\n",
      "********************\n",
      "\n"
     ]
    }
   ],
   "source": [
    "t1 = farmworld.Tractor(thefarm, pos=[10,10], marker=\"$\", facing=\"N\")\n",
    "t1.plow()\n",
    "print(str(thefarm))"
   ]
  },
  {
   "cell_type": "markdown",
   "id": "dbc7140d",
   "metadata": {},
   "source": [
    "Let's look at the Tractor type initializer, the ```__init__```:\n",
    "\n",
    "```python\n",
    "    \n",
    "    class Tractor:\n",
    "\n",
    "        def __init__(self, farm , pos = [0,0], \n",
    "                     facing=\"N\", marker=\"*\" , fuel=100):\n",
    "            self.thefarm = farm\n",
    "            self.pos = pos\n",
    "            self.facing = facing\n",
    "            self.marker = marker\n",
    "            self.thefarm.add(self)\n",
    "            self.fuel = fuel\n",
    "```\n",
    "\n",
    "The default position is ```[0,0]```, in the middle of the farm.  However no marker (character) gets planted in the farm's field, until we actually plow the ground, by activating the ```plow``` method inside of ```Tractor```.\n",
    "\n",
    "```python\n",
    "\n",
    "    class Tractor:\n",
    "        \n",
    "    ...\n",
    "    \n",
    "        def plow(self, marker=None):\n",
    "            if marker:\n",
    "                self.marker = marker\n",
    "            y,x = self.pos\n",
    "            self.thefarm.field[y][x] = self.marker\n",
    "\n",
    "```\n",
    "\n",
    "Here's where the rubber meets the road, or the tractor meets the dirt, as through the list of lists ```self.thefarm.field``` is any tractor's way to address (plow in) said field.\n",
    "\n",
    "Notice also that our Tractor is defined as a generator, meaning it implements the ```__next__``` method, such that by triggering ```__next__``` we cause the tractor to move in whatever direction it's facing, until reaching an edge, it which point it's not smart enough to do anything put sit there, as time passes.\n",
    "\n",
    "\n",
    "```python\n",
    "\n",
    "    class Tractor:\n",
    "        \n",
    "        ...\n",
    "        \n",
    "      \n",
    "        def __next__(self):\n",
    "            \"\"\"\n",
    "            Makes me an iterator\n",
    "            \"\"\"\n",
    "            y,x = self.pos\n",
    "\n",
    "            if self.fuel > 0:\n",
    "\n",
    "                if self.facing   == \"N\":\n",
    "                    if y > 0:\n",
    "                        y -= 1\n",
    "                    else:\n",
    "                        raise StopIteration\n",
    "\n",
    "                elif self.facing == \"S\":\n",
    "                    if y < self.thefarm.h - 1:\n",
    "                        y += 1\n",
    "                    else:\n",
    "                        raise StopIteration\n",
    "\n",
    "                elif self.facing == \"W\":\n",
    "                    if x > 0:\n",
    "                        x -= 1\n",
    "                    else:\n",
    "                        raise StopIteration\n",
    "\n",
    "                elif self.facing == \"E\":\n",
    "                    if x < self.thefarm.w - 1:\n",
    "                        x += 1\n",
    "                    else:\n",
    "                        raise StopIteration\n",
    "\n",
    "                self.fuel -= 1\n",
    "                self.pos = (y,x)\n",
    "\n",
    "            else:  # outta gas\n",
    "                raise StopIteration\n",
    "\n",
    "            return self.thefarm.field[y][x]\n",
    "  \n",
    "\n",
    "```\n",
    "\n",
    "\n",
    "By hooking all the tractors (we may have many) to the farm's tiktok method, we cause them all to advance.\n",
    "\n",
    "```python\n",
    "\n",
    "    class Farm:\n",
    "        \n",
    "        ...\n",
    "        \n",
    "        def ticktock(self):  # controller\n",
    "            \"\"\"tick tock o' the clock\n",
    "            time marches on!\n",
    "            Advance each tractor in the direction it's facing,\n",
    "            ignoring stuck tractors already at a fence (some\n",
    "            types of Tractor are smarter than others about fences).\n",
    "            \"\"\"\n",
    "            for tractor in self.tractors:\n",
    "                try:\n",
    "                    next(tractor) # state changer\n",
    "                except StopIteration:\n",
    "                    pass  # harmless stuck tractor signal\n",
    "\n",
    "            self.framenumber += 1\n",
    "            return self.framenumber     \n",
    "```    "
   ]
  },
  {
   "cell_type": "code",
   "execution_count": 17,
   "id": "96324279",
   "metadata": {},
   "outputs": [
    {
     "name": "stdout",
     "output_type": "stream",
     "text": [
      "********************\n",
      "********************\n",
      "********************\n",
      "********************\n",
      "********************\n",
      "********************\n",
      "**********$*********\n",
      "********************\n",
      "********************\n",
      "********************\n",
      "**********$*********\n",
      "********************\n",
      "********************\n",
      "********************\n",
      "********************\n",
      "********************\n",
      "********************\n",
      "********************\n",
      "********************\n",
      "********************\n",
      "\n"
     ]
    }
   ],
   "source": [
    "next(t1)\n",
    "next(t1)\n",
    "next(t1)\n",
    "next(t1)\n",
    "t1.plow()\n",
    "print(str(thefarm))"
   ]
  },
  {
   "cell_type": "code",
   "execution_count": null,
   "id": "ee65d47f",
   "metadata": {},
   "outputs": [],
   "source": []
  }
 ],
 "metadata": {
  "kernelspec": {
   "display_name": "Python 3",
   "language": "python",
   "name": "python3"
  },
  "language_info": {
   "codemirror_mode": {
    "name": "ipython",
    "version": 3
   },
   "file_extension": ".py",
   "mimetype": "text/x-python",
   "name": "python",
   "nbconvert_exporter": "python",
   "pygments_lexer": "ipython3",
   "version": "3.7.9"
  }
 },
 "nbformat": 4,
 "nbformat_minor": 5
}
