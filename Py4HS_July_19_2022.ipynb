{
 "cells": [
  {
   "cell_type": "markdown",
   "id": "468e25aa-24a4-4eaf-b4e0-c47792f38b1c",
   "metadata": {
    "tags": []
   },
   "source": [
    "##### Python for High School (Summer 2022)\n",
    "\n",
    "* [Table of Contents](PY4HS.ipynb)\n",
    "* <a href=\"https://colab.research.google.com/github/4dsolutions/elite_school/blob/master/Py4HS_July_19_2022.ipynb\"><img align=\"left\" src=\"https://colab.research.google.com/assets/colab-badge.svg\" alt=\"Open in Colab\" title=\"Open and Execute in Google Colaboratory\"></a>\n",
    "* [![nbviewer](https://raw.githubusercontent.com/jupyter/design/master/logos/Badges/nbviewer_badge.svg)](https://nbviewer.org/github/4dsolutions/elite_school/blob/master/Py4HS_July_19_2022.ipynb)"
   ]
  },
  {
   "cell_type": "markdown",
   "id": "052631c6-3403-491f-997d-6fd9af783a66",
   "metadata": {},
   "source": [
    "### Data Structures\n",
    "\n",
    "In the previous chapter, we introduced (again) the built-in collection types, such as the dictionary, list and even string.\n",
    "\n",
    "\n",
    "- Numeric Types\n",
    "    * int     -- the integer, any number of digits\n",
    "    * float   -- numbers with decimal points, 128 bits\n",
    "    * Decimal -- like floats, but open ended precision\n",
    "    * Fraction -- like the Rat we've been coding\n",
    "- String Type\n",
    "    * str -- all of Unicode (alphabets, Chinese, emoji)\n",
    "- Collection Types\n",
    "    * list -- left to right sequence\n",
    "    * tuple -- less mutable list (sequence)\n",
    "    * str -- also a collection (sequenc)\n",
    "    * range -- similar to a list of integers (sequence)\n",
    "    * dict -- key:value pairs  (mapping)\n",
    "    * set -- keys with no duplicates (mapping)\n",
    "    \n",
    "In many cases, those will be your primary data structures in a program. In other cases, you will want to think of your structures by other names, based more on what they do for your program.\n",
    "\n",
    "### Adjacency Matrix\n",
    "\n",
    "For example, an \"adjacency matrix\" records how rooms interconnect via doors, or underground chambers by means of tunnels, or towns by means of roads. \n",
    "\n",
    "The specifics do not matter much at this level.  In every case we're thinking about a network or graph.  A graph is defined in terms of edges and nodes.\n",
    "\n",
    "Nodes are the places were edges come together, as in a railway system, where nodes are the stations and terminals, and the edges are the rail lines (the tracks) between them."
   ]
  },
  {
   "cell_type": "code",
   "execution_count": 2,
   "id": "6a1054b0-08dd-4b14-b533-755205d71aa6",
   "metadata": {},
   "outputs": [
    {
     "data": {
      "text/plain": [
       "[[0, 1, 0, 1], [1, 0, 1, 0], [0, 1, 0, 1], [1, 0, 1, 0]]"
      ]
     },
     "execution_count": 2,
     "metadata": {},
     "output_type": "execute_result"
    }
   ],
   "source": [
    "graph = [[0,1,0,1],\n",
    "         [1,0,1,0],\n",
    "         [0,1,0,1],\n",
    "         [1,0,1,0]]\n",
    "\n",
    "graph"
   ]
  },
  {
   "cell_type": "markdown",
   "id": "91c46179-8977-4887-aa37-9954cfa214f8",
   "metadata": {},
   "source": [
    "Lets number four rooms and give them each a description.  The way an adjacency matrix works is we imagine the room numbers as both the row and column numbers of our matrix (the same rooms label the rows and columns).\n",
    "\n",
    "If you wish to know what other rooms connect to room 2, check row 2 of the matrix.  Any column with a 1 is a connected room, with the room number likewise the column index.\n",
    "\n",
    "For example, if row 2 of the graph is `[0, 1, 0, 1]` then that means it connects to rooms 1 and 3, because columns 1 and 3 contain the number 1."
   ]
  },
  {
   "cell_type": "code",
   "execution_count": 3,
   "id": "ad5b9943-1343-4470-8e60-00ebd25c96af",
   "metadata": {},
   "outputs": [],
   "source": [
    "rooms = {0: \"Great Hall\", 1: \"Map Room\", 2: \"Library\", 3: \"Private Suite\"}"
   ]
  },
  {
   "cell_type": "code",
   "execution_count": 6,
   "id": "20b51ebf-daff-4997-9e95-fc56640e62ea",
   "metadata": {},
   "outputs": [],
   "source": [
    "def get_links(room_no, graph):\n",
    "    row = graph[room_no]\n",
    "    connected = [rm for rm in range(len(row)) if row[rm] == 1]\n",
    "    return connected"
   ]
  },
  {
   "cell_type": "code",
   "execution_count": 10,
   "id": "0229c05f-b6fb-455f-a817-5446f5d873fa",
   "metadata": {},
   "outputs": [
    {
     "data": {
      "text/plain": [
       "[0, 2]"
      ]
     },
     "execution_count": 10,
     "metadata": {},
     "output_type": "execute_result"
    }
   ],
   "source": [
    "get_links(1, graph)"
   ]
  },
  {
   "cell_type": "code",
   "execution_count": 13,
   "id": "7f001bd7-a3c2-4bf4-b841-460b3680b93b",
   "metadata": {},
   "outputs": [],
   "source": [
    "def play():\n",
    "    curr_room = 0\n",
    "    while True:\n",
    "        print(\"Your are in the {}\".format(rooms[curr_room]))\n",
    "        print(\"Where would you like to go next?\")\n",
    "        next_rooms = get_links(curr_room, graph)\n",
    "        for option in next_rooms:\n",
    "            print(f\"{option}. {rooms[option]}\")\n",
    "        ans = input(\"# or Q > \")\n",
    "        if ans.upper() == \"Q\":\n",
    "            break\n",
    "        if ans.isdigit():\n",
    "            curr_room = int(ans)"
   ]
  },
  {
   "cell_type": "code",
   "execution_count": 14,
   "id": "5852210e-b214-414b-8748-0a3429ae5601",
   "metadata": {},
   "outputs": [
    {
     "name": "stdout",
     "output_type": "stream",
     "text": [
      "Your are in the Great Hall\n",
      "Where would you like to go next?\n",
      "1. Map Room\n",
      "3. Private Suite\n"
     ]
    },
    {
     "name": "stdin",
     "output_type": "stream",
     "text": [
      "# or Q >  1\n"
     ]
    },
    {
     "name": "stdout",
     "output_type": "stream",
     "text": [
      "Your are in the Map Room\n",
      "Where would you like to go next?\n",
      "0. Great Hall\n",
      "2. Library\n"
     ]
    },
    {
     "name": "stdin",
     "output_type": "stream",
     "text": [
      "# or Q >  2\n"
     ]
    },
    {
     "name": "stdout",
     "output_type": "stream",
     "text": [
      "Your are in the Library\n",
      "Where would you like to go next?\n",
      "1. Map Room\n",
      "3. Private Suite\n"
     ]
    },
    {
     "name": "stdin",
     "output_type": "stream",
     "text": [
      "# or Q >  Q\n"
     ]
    }
   ],
   "source": [
    "play()"
   ]
  },
  {
   "cell_type": "markdown",
   "id": "8d5886fa-4441-4717-8978-54d4aa76a941",
   "metadata": {},
   "source": [
    "### Polyhedrons as Networks\n",
    "\n",
    "Given we live on a spherical planet, we often think of our networks (or graphs) as edges on a sphere.  Think of how a global airline or shipping company might encircle the world in various ways.\n",
    "\n",
    "In the case of polyhedrons (or polyhedra) in particular, we refer to nodes and vertices (or vertexes).  The edges connect the vertexes, creating \"fenced in\" areas, called openings or faces.  We use the capital letters V, F and E to refer to the sets of Vertexes, Faces and Edges.\n",
    "\n",
    "Euler's Law for Polyhedrons fits in here: V + F = E + 2\n",
    "\n",
    "What would the Adjacency Matrix of a Tetrahedron look like?  Every vertex, A, B, C, D connects to the other three."
   ]
  },
  {
   "cell_type": "code",
   "execution_count": 15,
   "id": "27fada12-7ea7-4ced-b424-eb7cd412acfa",
   "metadata": {},
   "outputs": [
    {
     "data": {
      "text/plain": [
       "[[0, 1, 1, 1], [1, 0, 1, 1], [1, 1, 0, 1], [1, 1, 1, 0]]"
      ]
     },
     "execution_count": 15,
     "metadata": {},
     "output_type": "execute_result"
    }
   ],
   "source": [
    "tetra = [[0,1,1,1],\n",
    "         [1,0,1,1],\n",
    "         [1,1,0,1],\n",
    "         [1,1,1,0]]\n",
    "\n",
    "tetra"
   ]
  },
  {
   "cell_type": "markdown",
   "id": "07a303df-c970-4796-a2ac-6b125c3c87b2",
   "metadata": {},
   "source": [
    "How about an Octahedron?  An Octahedron consists of six vertexes, like rooms 0 to 5.  Every vertex connects to four others, but not the one \"directly across\".\n",
    "\n",
    "The octahedron shown below has some additional details. For now, lets focus on the six vertices where four green edges come together.  \n",
    "\n",
    "The computer software used to make it is known as [vZome](https://www.vzome.com/home/), a free installable and/or cloud experience by Scott Vorthmann.  vZome models itself after the construction kit known as [Zome or ZomeTool](https://www.zometool.com/).\n",
    "\n",
    "<a data-flickr-embed=\"true\" href=\"https://www.flickr.com/photos/kirbyurner/4207923932\" title=\"1/8 Octahedron\"><img src=\"https://live.staticflickr.com/2648/4207923932_ec9f81edb3.jpg\" width=\"500\" height=\"458\" alt=\"1/8 Octahedron\"></a><script async src=\"//embedr.flickr.com/assets/client-code.js\" charset=\"utf-8\"></script>\n",
    "\n",
    "Here's a spherical octahedron that is more planet-shaped:\n",
    "\n",
    "<a data-flickr-embed=\"true\" href=\"https://www.flickr.com/photos/kirbyurner/5236267711\" title=\"Spherical Octahedron\"><img src=\"https://live.staticflickr.com/5083/5236267711_79076a1851_w.jpg\" width=\"300\" height=\"400\" alt=\"Spherical Octahedron\"></a><script async src=\"//embedr.flickr.com/assets/client-code.js\" charset=\"utf-8\"></script>"
   ]
  },
  {
   "cell_type": "code",
   "execution_count": null,
   "id": "7dfbb1f6-395e-45af-886f-43f6ac0bc0a5",
   "metadata": {},
   "outputs": [],
   "source": []
  }
 ],
 "metadata": {
  "kernelspec": {
   "display_name": "Python 3 (ipykernel)",
   "language": "python",
   "name": "python3"
  },
  "language_info": {
   "codemirror_mode": {
    "name": "ipython",
    "version": 3
   },
   "file_extension": ".py",
   "mimetype": "text/x-python",
   "name": "python",
   "nbconvert_exporter": "python",
   "pygments_lexer": "ipython3",
   "version": "3.9.12"
  }
 },
 "nbformat": 4,
 "nbformat_minor": 5
}
