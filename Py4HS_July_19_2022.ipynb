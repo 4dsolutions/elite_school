{
 "cells": [
  {
   "cell_type": "markdown",
   "id": "468e25aa-24a4-4eaf-b4e0-c47792f38b1c",
   "metadata": {
    "tags": []
   },
   "source": [
    "##### Python for High School (Summer 2022)\n",
    "\n",
    "* [Table of Contents](PY4HS.ipynb)\n",
    "* <a href=\"https://colab.research.google.com/github/4dsolutions/elite_school/blob/master/Py4HS_July_19_2022.ipynb\"><img align=\"left\" src=\"https://colab.research.google.com/assets/colab-badge.svg\" alt=\"Open in Colab\" title=\"Open and Execute in Google Colaboratory\"></a>\n",
    "* [![nbviewer](https://raw.githubusercontent.com/jupyter/design/master/logos/Badges/nbviewer_badge.svg)](https://nbviewer.org/github/4dsolutions/elite_school/blob/master/Py4HS_July_19_2022.ipynb)"
   ]
  },
  {
   "cell_type": "markdown",
   "id": "052631c6-3403-491f-997d-6fd9af783a66",
   "metadata": {},
   "source": [
    "### Data Structures\n",
    "\n",
    "In the previous chapter, we introduced (again) the built-in collection types, such as the dictionary, list and even string.\n",
    "\n",
    "\n",
    "- Numeric Types\n",
    "    * int     -- the integer, any number of digits\n",
    "    * float   -- numbers with decimal points, 64 bits (IEEE 754)\n",
    "    * complex -- real and imaginary parts (not ordered)\n",
    "    * Decimal -- like floats, but open ended precision\n",
    "    * Fraction -- like the Rat we've been coding\n",
    "- String Type\n",
    "    * str -- all of Unicode (alphabets, Chinese, emoji)\n",
    "- Collection Types\n",
    "    * list -- left to right sequence\n",
    "    * tuple -- less mutable list (sequence)\n",
    "    * str -- also a collection (sequenc)\n",
    "    * range -- similar to a list of integers (sequence)\n",
    "    * dict -- key:value pairs  (mapping)\n",
    "    * set -- keys with no duplicates (mapping)\n",
    "    \n",
    "In many cases, those will be your primary data structures in a program. In other cases, you will want to think of your structures by other names, based more on what they do for your program.\n",
    "\n",
    "[More about the float type](https://www.pythontutorial.net/advanced-python/python-float/)\n",
    "\n",
    "### Adjacency Matrix\n",
    "\n",
    "For example, an \"adjacency matrix\" records how rooms interconnect via doors, or underground chambers by means of tunnels, or towns by means of roads. \n",
    "\n",
    "The specifics do not matter much at this level.  In every case we're thinking about a network or graph.  A graph is defined in terms of edges and nodes.\n",
    "\n",
    "Nodes are the places were edges come together, as in a railway system, where nodes are the stations and terminals, and the edges are the rail lines (the tracks) between them."
   ]
  },
  {
   "cell_type": "code",
   "execution_count": 29,
   "id": "6a1054b0-08dd-4b14-b533-755205d71aa6",
   "metadata": {},
   "outputs": [
    {
     "data": {
      "text/plain": [
       "[[0, 1, 0, 1], [1, 0, 1, 0], [0, 1, 0, 1], [1, 0, 1, 0]]"
      ]
     },
     "execution_count": 29,
     "metadata": {},
     "output_type": "execute_result"
    }
   ],
   "source": [
    "graph = [[0,1,0,1],\n",
    "         [1,0,1,0],\n",
    "         [0,1,0,1],\n",
    "         [1,0,1,0]]\n",
    "\n",
    "graph"
   ]
  },
  {
   "cell_type": "markdown",
   "id": "91c46179-8977-4887-aa37-9954cfa214f8",
   "metadata": {},
   "source": [
    "Lets number four rooms and give them each a description.  The way an adjacency matrix works is we imagine the room numbers as both the row and column numbers of our matrix (the same rooms label the rows and columns).\n",
    "\n",
    "If you wish to know what other rooms connect to room 2, check row 2 of the matrix.  Any column with a 1 is a connected room, with the room number likewise the column index.\n",
    "\n",
    "For example, if row 2 of the graph is `[0, 1, 0, 1]` then that means it connects to rooms 1 and 3, because columns 1 and 3 contain the number 1."
   ]
  },
  {
   "cell_type": "code",
   "execution_count": 30,
   "id": "ad5b9943-1343-4470-8e60-00ebd25c96af",
   "metadata": {},
   "outputs": [],
   "source": [
    "rooms = {0: \"Great Hall\", 1: \"Map Room\", 2: \"Library\", 3: \"Private Suite\"}"
   ]
  },
  {
   "cell_type": "code",
   "execution_count": 31,
   "id": "20b51ebf-daff-4997-9e95-fc56640e62ea",
   "metadata": {},
   "outputs": [],
   "source": [
    "def get_links(room_no, graph):\n",
    "    row = graph[room_no]\n",
    "    connected = [rm for rm in range(len(row)) if row[rm] == 1]\n",
    "    return connected"
   ]
  },
  {
   "cell_type": "code",
   "execution_count": 32,
   "id": "0229c05f-b6fb-455f-a817-5446f5d873fa",
   "metadata": {},
   "outputs": [
    {
     "data": {
      "text/plain": [
       "[0, 2]"
      ]
     },
     "execution_count": 32,
     "metadata": {},
     "output_type": "execute_result"
    }
   ],
   "source": [
    "get_links(1, graph)"
   ]
  },
  {
   "cell_type": "code",
   "execution_count": 33,
   "id": "7f001bd7-a3c2-4bf4-b841-460b3680b93b",
   "metadata": {},
   "outputs": [],
   "source": [
    "def play():\n",
    "    curr_room = 0\n",
    "    while True:\n",
    "        print(\"Your are in the {}\".format(rooms[curr_room]))\n",
    "        print(\"Where would you like to go next?\")\n",
    "        next_rooms = get_links(curr_room, graph)\n",
    "        for option in next_rooms:\n",
    "            print(f\"{option}. {rooms[option]}\")\n",
    "        ans = input(\"# or Q > \")\n",
    "        if ans.upper() == \"Q\":\n",
    "            break\n",
    "        if ans.isdigit():\n",
    "            curr_room = int(ans)"
   ]
  },
  {
   "cell_type": "code",
   "execution_count": 34,
   "id": "5852210e-b214-414b-8748-0a3429ae5601",
   "metadata": {},
   "outputs": [
    {
     "name": "stdout",
     "output_type": "stream",
     "text": [
      "Your are in the Great Hall\n",
      "Where would you like to go next?\n",
      "1. Map Room\n",
      "3. Private Suite\n"
     ]
    },
    {
     "name": "stdin",
     "output_type": "stream",
     "text": [
      "# or Q >  1\n"
     ]
    },
    {
     "name": "stdout",
     "output_type": "stream",
     "text": [
      "Your are in the Map Room\n",
      "Where would you like to go next?\n",
      "0. Great Hall\n",
      "2. Library\n"
     ]
    },
    {
     "name": "stdin",
     "output_type": "stream",
     "text": [
      "# or Q >  2\n"
     ]
    },
    {
     "name": "stdout",
     "output_type": "stream",
     "text": [
      "Your are in the Library\n",
      "Where would you like to go next?\n",
      "1. Map Room\n",
      "3. Private Suite\n"
     ]
    },
    {
     "name": "stdin",
     "output_type": "stream",
     "text": [
      "# or Q >  q\n"
     ]
    }
   ],
   "source": [
    "play()"
   ]
  },
  {
   "cell_type": "markdown",
   "id": "e280d106-4f3c-4253-a2fb-9ce820132dfc",
   "metadata": {},
   "source": [
    "What if we want a wandering ActionHero type that knows how to move through a \"maze\" (graph) but only by following the edges provided by an adjacency matrix.  \n",
    "\n",
    "Here's a sketch of such a type, nudged to move forward by `next()`.\n",
    "\n",
    "We're getting back to using those funny looking \"special names\" again.  Each instance of the ActionHero type remembers its own name, what room it is in, and any other attributes we might provide."
   ]
  },
  {
   "cell_type": "code",
   "execution_count": 25,
   "id": "b0bed40f-8156-4f20-9892-10d1d79462e7",
   "metadata": {},
   "outputs": [],
   "source": [
    "from random import choice  # no harm in reimporting\n",
    "\n",
    "class ActionHero:\n",
    "\n",
    "    rooms = {0: \"Great Hall\", 1: \"Map Room\", 2: \"Library\", 3: \"Private Suite\"}\n",
    "    \n",
    "    def __init__(self, the_name, the_map):\n",
    "        self.hero_name = the_name\n",
    "        self.hero_map = the_map\n",
    "        self.current_room = 0 # Great Hall?\n",
    "        \n",
    "    def __next__(self):\n",
    "        \"\"\"\n",
    "        I go to a next room when you nudge me with next\n",
    "        \"\"\"\n",
    "        row = self.hero_map[self.current_room]     # this room as a row\n",
    "        connected = [rm for rm in range(len(row)) \n",
    "                     if row[rm] == 1]              # find the 1s\n",
    "        self.current_room = choice(connected)      # pick a next room\n",
    "        print(self)                                # triggers __str__\n",
    "    \n",
    "    def __str__(self):\n",
    "        return \"ActionHero('{name}') in the {room}\".format(name=self.hero_name, \n",
    "                                                       room=self.rooms[self.current_room])\n",
    "    \n",
    "    def __iter__(self):\n",
    "        \"\"\"\n",
    "        I'm the kinda guy you can nudge with next\n",
    "        \"\"\"\n",
    "        return self  # I am my own iterator (whatever that means)\n",
    "    \n",
    "    def __repr__(self):\n",
    "        return \"ActionHero('{}'}\".format(self.hero_name)"
   ]
  },
  {
   "cell_type": "code",
   "execution_count": 26,
   "id": "763542dc-b64f-4898-95c5-0aa345efbf82",
   "metadata": {},
   "outputs": [],
   "source": [
    "graph = [[0,1,0,1],\n",
    "         [1,0,1,0],\n",
    "         [0,1,0,1],\n",
    "         [1,0,1,0]]\n",
    "\n",
    "hero0 = ActionHero(\"Hercules\", graph)\n",
    "hero1 = ActionHero(\"Bat Woman\", graph)"
   ]
  },
  {
   "cell_type": "code",
   "execution_count": 27,
   "id": "6b6d4f34-6836-4edd-ae30-12b546e81afb",
   "metadata": {},
   "outputs": [
    {
     "name": "stdout",
     "output_type": "stream",
     "text": [
      "ActionHero('Hercules') in the Great Hall\n"
     ]
    }
   ],
   "source": [
    "print(hero0)"
   ]
  },
  {
   "cell_type": "code",
   "execution_count": 28,
   "id": "a4a1d8e3-6c54-4938-9b16-7d92512f7e21",
   "metadata": {},
   "outputs": [
    {
     "name": "stdout",
     "output_type": "stream",
     "text": [
      "ActionHero('Hercules') in the Map Room\n"
     ]
    }
   ],
   "source": [
    "next(hero0)"
   ]
  },
  {
   "cell_type": "code",
   "execution_count": 29,
   "id": "cb53908b-a77a-4bfe-a316-0977db507d85",
   "metadata": {},
   "outputs": [
    {
     "name": "stdout",
     "output_type": "stream",
     "text": [
      "ActionHero('Hercules') in the Library\n"
     ]
    }
   ],
   "source": [
    "next(hero0)"
   ]
  },
  {
   "cell_type": "code",
   "execution_count": 30,
   "id": "7716e673-9e00-4bee-80b3-fc4b2c9604ad",
   "metadata": {},
   "outputs": [
    {
     "name": "stdout",
     "output_type": "stream",
     "text": [
      "ActionHero('Bat Woman') in the Great Hall\n"
     ]
    }
   ],
   "source": [
    "print(hero1)"
   ]
  },
  {
   "cell_type": "code",
   "execution_count": 31,
   "id": "b340ecbf-28f0-495f-8746-caeeb2e6a814",
   "metadata": {},
   "outputs": [
    {
     "name": "stdout",
     "output_type": "stream",
     "text": [
      "ActionHero('Bat Woman') in the Private Suite\n"
     ]
    }
   ],
   "source": [
    "next(hero1)"
   ]
  },
  {
   "cell_type": "markdown",
   "id": "ea92321c-fa76-4ec7-8233-b7f97993e2ce",
   "metadata": {},
   "source": [
    "So now we have two ActionHero selves (instances) moving around, following the same map.  You can imagine adding more methods having to do with magical powers, health, collected treasures and so on."
   ]
  },
  {
   "cell_type": "markdown",
   "id": "8d5886fa-4441-4717-8978-54d4aa76a941",
   "metadata": {},
   "source": [
    "### Polyhedrons as Networks\n",
    "\n",
    "<a data-flickr-embed=\"true\" href=\"https://www.flickr.com/photos/fdecomite/5912303770/in/photolist-a1s6VU-a8SP9h-bpkBaZ-p4EuYq-bH7CNv-bKUoWi-88TnDi-8ThCVo-J2dq5C-7nwLZT-3EvxAx-8FPiR9-21njijs-HYdqw-kAuA6-dnwMud-8enHvo-D8ZQ59-ahLWMY-ahLVru-nbDkuQ-Lh1jTh-aotLNa-6odksE-89oQVE-7n1c1g-ENcEXk-2i8xFNp-CKE1-6KKsH8-99s3B1-9o6ADd-p3mzwe-7APGc1-8cJYDu-7AsFGT-rCiDH3-22en2KM-7XhDKA-hkjcpP-rGjDF6-jgW4ZL-J2dqhw-4seujo-J2dq9W-bGV7J6-4s9DKX-6WCDBo-6A12tX-2hrmdVV\" title=\"Global Network\"><img src=\"https://live.staticflickr.com/5079/5912303770_a60cd8ab88_c.jpg\" width=\"800\" height=\"600\" alt=\"Global Network\"></a><script async src=\"//embedr.flickr.com/assets/client-code.js\" charset=\"utf-8\"></script>\n",
    "\n",
    "Given we live on a spherical planet, we often think of our networks (or graphs) as edges on a sphere.  Think of how a global airline or shipping company might encircle the world in various ways.\n",
    "\n",
    "In the case of polyhedrons (or polyhedra) in particular, we refer to nodes and vertices (or vertexes).  The edges connect the vertexes, creating \"fenced in\" areas, called openings or faces.  We use the capital letters V, F and E to refer to the sets of Vertexes, Faces and Edges.\n",
    "\n",
    "Euler's Law for Polyhedrons fits in here: V + F = E + 2\n",
    "\n",
    "What would the Adjacency Matrix of a Tetrahedron look like?  Every vertex, A, B, C, D connects to the other three."
   ]
  },
  {
   "cell_type": "code",
   "execution_count": 35,
   "id": "27fada12-7ea7-4ced-b424-eb7cd412acfa",
   "metadata": {},
   "outputs": [
    {
     "data": {
      "text/plain": [
       "[[0, 1, 1, 1], [1, 0, 1, 1], [1, 1, 0, 1], [1, 1, 1, 0]]"
      ]
     },
     "execution_count": 35,
     "metadata": {},
     "output_type": "execute_result"
    }
   ],
   "source": [
    "tetra = [[0,1,1,1],\n",
    "         [1,0,1,1],\n",
    "         [1,1,0,1],\n",
    "         [1,1,1,0]]\n",
    "\n",
    "tetra"
   ]
  },
  {
   "cell_type": "markdown",
   "id": "07a303df-c970-4796-a2ac-6b125c3c87b2",
   "metadata": {},
   "source": [
    "How about an Octahedron?  An Octahedron consists of six vertexes, like rooms 0 to 5.  Every vertex connects to four others, but not the one \"directly across\".\n",
    "\n",
    "The octahedron shown below has some additional details. For now, lets focus on the six vertices where four green edges come together.  \n",
    "\n",
    "The computer software used to make it is known as [vZome](https://www.vzome.com/home/), a free installable and/or cloud experience by Scott Vorthmann.  vZome models itself after the construction kit known as [Zome or ZomeTool](https://www.zometool.com/).\n",
    "\n",
    "<a data-flickr-embed=\"true\" href=\"https://www.flickr.com/photos/kirbyurner/4207923932\" title=\"1/8 Octahedron\"><img src=\"https://live.staticflickr.com/2648/4207923932_ec9f81edb3.jpg\" width=\"500\" height=\"458\" alt=\"1/8 Octahedron\"></a><script async src=\"//embedr.flickr.com/assets/client-code.js\" charset=\"utf-8\"></script>\n",
    "\n",
    "Here's a spherical octahedron that is more planet-shaped:\n",
    "\n",
    "<a data-flickr-embed=\"true\" href=\"https://www.flickr.com/photos/kirbyurner/5236267711\" title=\"Spherical Octahedron\"><img src=\"https://live.staticflickr.com/5083/5236267711_79076a1851_w.jpg\" width=\"300\" height=\"400\" alt=\"Spherical Octahedron\"></a><script async src=\"//embedr.flickr.com/assets/client-code.js\" charset=\"utf-8\"></script>\n",
    "\n",
    "One difference between a rigid polyhedron and a network is in how they are diagrammed. A network just has to get the circuits right, in terms of what connects to what.  A polyhedron has to obey all the laws of triangulation, meaning a lot more data needs to be structured, namely angles and edge lengths.  Road and rail networks are closer to polyhedra in having rigid edges instead of noodle spaghetti.\n",
    "\n",
    "In other words, when we turn from networks (graphs) to rigid body polyhedrons, we will need something more than simple an adjacency matrices. We will have to keep track of arc and chord lengths, as well as central and surface angles.\n",
    "\n",
    "One way to store polyhedrons:\n",
    "\n",
    "* A set of pointers from the polyhedron center to each each corner\n",
    "* A set of faces organizing defining the corner-to-corner fences\n",
    "\n",
    "Defining the pointers requires a space-spanning coordinate system, like imaginary scaffolding, that allows us to give any point in space a unique address."
   ]
  },
  {
   "cell_type": "markdown",
   "id": "a4773f30-b842-4e09-ac25-ef65a7396b00",
   "metadata": {},
   "source": [
    "### Graph Theory\n",
    "\n",
    "The shoptalk around graphs gets more detailed in a branch of mathematics known as Graph Theory.  \n",
    "\n",
    "Q: How much graph theory should we get in high school?  \n",
    "\n",
    "A: At least enough to know what weighted and/or directed graphs are.\n",
    "\n",
    "[More About Graph Theory](ADS_sandbox_6.ipynb) in [Algorithms and Data Structures](ADS_TOC.ipynb)."
   ]
  },
  {
   "cell_type": "markdown",
   "id": "431577bb-b7b7-4e7b-b1f5-d8257a4b8076",
   "metadata": {},
   "source": [
    "### Adjacency Matrix as a DataFrame\n",
    "\n",
    "Referring to rooms by number may be inconvenient.  Might we have a matrix or table type object that is also more like a dictionary, in being friendly to longer labels?  Or maybe we just want to name our rooms A, B, C, D.\n",
    "\n",
    "Here is where pandas enters the picture, a Python package built around just such a table type, called a DataFrame."
   ]
  },
  {
   "cell_type": "code",
   "execution_count": 36,
   "id": "8c941553-a855-4300-81a8-b403b1a4e1b5",
   "metadata": {},
   "outputs": [],
   "source": [
    "import pandas as pd  # if you get an error here, pandas not in the current environment"
   ]
  },
  {
   "cell_type": "code",
   "execution_count": 37,
   "id": "7d4f8be6-635a-49be-862b-76cd5ef17963",
   "metadata": {},
   "outputs": [],
   "source": [
    "graph = pd.DataFrame({\"A\":[0,1,1,1],          # column labels\n",
    "                      \"B\":[1,0,1,1], \n",
    "                      \"C\":[1,1,0,1], \n",
    "                      \"D\":[1,1,1,0]}, \n",
    "                     index=['A','B','C','D']) # row labels"
   ]
  },
  {
   "cell_type": "code",
   "execution_count": 38,
   "id": "7e4dd415-bc45-4685-a511-0f2fbaae3907",
   "metadata": {},
   "outputs": [
    {
     "data": {
      "text/html": [
       "<div>\n",
       "<style scoped>\n",
       "    .dataframe tbody tr th:only-of-type {\n",
       "        vertical-align: middle;\n",
       "    }\n",
       "\n",
       "    .dataframe tbody tr th {\n",
       "        vertical-align: top;\n",
       "    }\n",
       "\n",
       "    .dataframe thead th {\n",
       "        text-align: right;\n",
       "    }\n",
       "</style>\n",
       "<table border=\"1\" class=\"dataframe\">\n",
       "  <thead>\n",
       "    <tr style=\"text-align: right;\">\n",
       "      <th></th>\n",
       "      <th>A</th>\n",
       "      <th>B</th>\n",
       "      <th>C</th>\n",
       "      <th>D</th>\n",
       "    </tr>\n",
       "  </thead>\n",
       "  <tbody>\n",
       "    <tr>\n",
       "      <th>A</th>\n",
       "      <td>0</td>\n",
       "      <td>1</td>\n",
       "      <td>1</td>\n",
       "      <td>1</td>\n",
       "    </tr>\n",
       "    <tr>\n",
       "      <th>B</th>\n",
       "      <td>1</td>\n",
       "      <td>0</td>\n",
       "      <td>1</td>\n",
       "      <td>1</td>\n",
       "    </tr>\n",
       "    <tr>\n",
       "      <th>C</th>\n",
       "      <td>1</td>\n",
       "      <td>1</td>\n",
       "      <td>0</td>\n",
       "      <td>1</td>\n",
       "    </tr>\n",
       "    <tr>\n",
       "      <th>D</th>\n",
       "      <td>1</td>\n",
       "      <td>1</td>\n",
       "      <td>1</td>\n",
       "      <td>0</td>\n",
       "    </tr>\n",
       "  </tbody>\n",
       "</table>\n",
       "</div>"
      ],
      "text/plain": [
       "   A  B  C  D\n",
       "A  0  1  1  1\n",
       "B  1  0  1  1\n",
       "C  1  1  0  1\n",
       "D  1  1  1  0"
      ]
     },
     "execution_count": 38,
     "metadata": {},
     "output_type": "execute_result"
    }
   ],
   "source": [
    "graph"
   ]
  },
  {
   "cell_type": "code",
   "execution_count": 39,
   "id": "f7e5c80e-7de9-4a35-a739-c0caa891c1c3",
   "metadata": {},
   "outputs": [
    {
     "data": {
      "text/plain": [
       "1"
      ]
     },
     "execution_count": 39,
     "metadata": {},
     "output_type": "execute_result"
    }
   ],
   "source": [
    "graph.loc['A','B']"
   ]
  },
  {
   "cell_type": "code",
   "execution_count": 40,
   "id": "f1a0ec72-c278-4680-8843-e01ba9183cf5",
   "metadata": {},
   "outputs": [
    {
     "data": {
      "text/plain": [
       "0"
      ]
     },
     "execution_count": 40,
     "metadata": {},
     "output_type": "execute_result"
    }
   ],
   "source": [
    "graph.loc['C','C']"
   ]
  },
  {
   "cell_type": "markdown",
   "id": "2b982903-b579-46a5-9645-c274ae032fd2",
   "metadata": {},
   "source": [
    "This use of `.loc` is something new too.  Because we're now working with a DataFrame, we have these new methods.  `.loc` expects to be followed by square brackets, then row and column, separated by a comma.  `.loc` also allows slice notation (see last chapter)."
   ]
  },
  {
   "cell_type": "code",
   "execution_count": 41,
   "id": "2bb56238-6a5d-4048-9e91-f31341116557",
   "metadata": {},
   "outputs": [
    {
     "data": {
      "text/html": [
       "<div>\n",
       "<style scoped>\n",
       "    .dataframe tbody tr th:only-of-type {\n",
       "        vertical-align: middle;\n",
       "    }\n",
       "\n",
       "    .dataframe tbody tr th {\n",
       "        vertical-align: top;\n",
       "    }\n",
       "\n",
       "    .dataframe thead th {\n",
       "        text-align: right;\n",
       "    }\n",
       "</style>\n",
       "<table border=\"1\" class=\"dataframe\">\n",
       "  <thead>\n",
       "    <tr style=\"text-align: right;\">\n",
       "      <th></th>\n",
       "      <th>B</th>\n",
       "    </tr>\n",
       "  </thead>\n",
       "  <tbody>\n",
       "    <tr>\n",
       "      <th>A</th>\n",
       "      <td>1</td>\n",
       "    </tr>\n",
       "    <tr>\n",
       "      <th>B</th>\n",
       "      <td>0</td>\n",
       "    </tr>\n",
       "    <tr>\n",
       "      <th>C</th>\n",
       "      <td>1</td>\n",
       "    </tr>\n",
       "  </tbody>\n",
       "</table>\n",
       "</div>"
      ],
      "text/plain": [
       "   B\n",
       "A  1\n",
       "B  0\n",
       "C  1"
      ]
     },
     "execution_count": 41,
     "metadata": {},
     "output_type": "execute_result"
    }
   ],
   "source": [
    "graph.loc['A':'C','B':'B']"
   ]
  },
  {
   "cell_type": "markdown",
   "id": "10c0c4e5-70b6-4914-afe1-539f8fbe5653",
   "metadata": {},
   "source": [
    "Lets remember where pandas fits in:\n",
    "\n",
    "Five Dimensions of Python:\n",
    "\n",
    "1. syntax and punctuation, keywords\n",
    "2. the builtins (like print, int, str... Exceptions)\n",
    "3. ```__ribs__``` i.e. special names (magic methods)\n",
    "4. Standard Library\n",
    "5. Ecosystem (3rd party packages such as numpy, pandas, django)\n",
    "\n",
    "It's a 3rd party package that has dependencies; like it needs numpy to be there also.  \n",
    "\n",
    "To get pandas running inside your Jupyter Notebook, or in your IDE, you will need to use a command line tool such as `pip` (to access PyPI, the Python Package Index) or `conda` (if using the Anaconda distro)."
   ]
  },
  {
   "cell_type": "markdown",
   "id": "647f2f17-124d-4740-8f6d-a2001fd3a370",
   "metadata": {},
   "source": [
    "### About \"virtual environments\"\n",
    "\n",
    "Once you have several Python projects going on the same computer, you will likely have wished for a way to keep project spaces apart.  Some need numpy and pandas, others need other things.  Why jumble all these needs together, at risk of having them tread on one anothers' toes?\n",
    "\n",
    "For example, if I upgrade package A because for one project I need the latest version, how am I to protect my other projects from breakage, because they need an older package A?  Managing the stack of dependencies gets to be complex.  Virtual environments have been a big part of the answer.\n",
    "\n",
    "With a virtual environment or venv, I can have a customized `sys.path` with access to just the dependencies I need, on a per project basis.  Newer Pythons have [venv](https://docs.python.org/3/tutorial/venv.html) in their Standard Library, while conda likewise provides virtual environment capabilities."
   ]
  },
  {
   "cell_type": "code",
   "execution_count": 42,
   "id": "1ea1ba6d-99d1-4724-82ce-7938bd03cb7d",
   "metadata": {},
   "outputs": [
    {
     "data": {
      "text/plain": [
       "['/Users/mac/Documents/elite_school',\n",
       " '/Users/mac/opt/anaconda3/envs/new_world/lib/python39.zip',\n",
       " '/Users/mac/opt/anaconda3/envs/new_world/lib/python3.9',\n",
       " '/Users/mac/opt/anaconda3/envs/new_world/lib/python3.9/lib-dynload',\n",
       " '',\n",
       " '/Users/mac/opt/anaconda3/envs/new_world/lib/python3.9/site-packages']"
      ]
     },
     "execution_count": 42,
     "metadata": {},
     "output_type": "execute_result"
    }
   ],
   "source": [
    "import sys\n",
    "sys.path"
   ]
  }
 ],
 "metadata": {
  "kernelspec": {
   "display_name": "Python 3 (ipykernel)",
   "language": "python",
   "name": "python3"
  },
  "language_info": {
   "codemirror_mode": {
    "name": "ipython",
    "version": 3
   },
   "file_extension": ".py",
   "mimetype": "text/x-python",
   "name": "python",
   "nbconvert_exporter": "python",
   "pygments_lexer": "ipython3",
   "version": "3.9.12"
  }
 },
 "nbformat": 4,
 "nbformat_minor": 5
}
