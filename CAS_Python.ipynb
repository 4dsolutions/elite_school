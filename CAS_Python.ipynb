{
 "cells": [
  {
   "cell_type": "markdown",
   "id": "2e7629ac",
   "metadata": {},
   "source": [
    "[Home](Home.ipynb)\n",
    "\n",
    "# Computer Assisted Algebra (sympy)\n"
   ]
  },
  {
   "cell_type": "code",
   "execution_count": 1,
   "id": "09567da6",
   "metadata": {},
   "outputs": [],
   "source": [
    "from sympy import *\n",
    "import sympy"
   ]
  },
  {
   "cell_type": "code",
   "execution_count": 2,
   "id": "04a0fd37",
   "metadata": {},
   "outputs": [
    {
     "name": "stdout",
     "output_type": "stream",
     "text": [
      "IPython console for SymPy 1.7.1 (Python 3.7.9-64-bit) (ground types: gmpy)\n",
      "\n",
      "These commands were executed:\n",
      ">>> from __future__ import division\n",
      ">>> from sympy import *\n",
      ">>> x, y, z, t = symbols('x y z t')\n",
      ">>> k, m, n = symbols('k m n', integer=True)\n",
      ">>> f, g, h = symbols('f g h', cls=Function)\n",
      ">>> init_printing()\n",
      "\n",
      "Documentation can be found at https://docs.sympy.org/1.7.1/\n",
      "\n"
     ]
    }
   ],
   "source": [
    "init_session()"
   ]
  },
  {
   "cell_type": "code",
   "execution_count": 3,
   "id": "2eaf3df8",
   "metadata": {},
   "outputs": [
    {
     "data": {
      "image/png": "[encoded data removed]",
      "text/latex": [
       "$\\displaystyle \\frac{1}{3}$"
      ],
      "text/plain": [
       "1/3"
      ]
     },
     "execution_count": 3,
     "metadata": {},
     "output_type": "execute_result"
    }
   ],
   "source": [
    "Integer(1) / Integer(3)"
   ]
  },
  {
   "cell_type": "code",
   "execution_count": 4,
   "id": "6630791d",
   "metadata": {},
   "outputs": [],
   "source": [
    "phi = (1 + sqrt(5))/2"
   ]
  },
  {
   "cell_type": "code",
   "execution_count": 5,
   "id": "6ebe20d2",
   "metadata": {},
   "outputs": [
    {
     "data": {
      "image/png": "[encoded data removed]",
      "text/latex": [
       "$\\displaystyle \\frac{1}{2} + \\frac{\\sqrt{5}}{2}$"
      ],
      "text/plain": [
       "1   √5\n",
       "─ + ──\n",
       "2   2 "
      ]
     },
     "execution_count": 5,
     "metadata": {},
     "output_type": "execute_result"
    }
   ],
   "source": [
    "phi"
   ]
  },
  {
   "cell_type": "code",
   "execution_count": 6,
   "id": "f2e0f3e7",
   "metadata": {},
   "outputs": [
    {
     "data": {
      "image/png": "[encoded data removed]",
      "text/latex": [
       "$\\displaystyle 1.6180339887498948482045868343656381177203091798058$"
      ],
      "text/plain": [
       "1.6180339887498948482045868343656381177203091798058"
      ]
     },
     "execution_count": 6,
     "metadata": {},
     "output_type": "execute_result"
    }
   ],
   "source": [
    "phi.evalf(50)"
   ]
  },
  {
   "cell_type": "markdown",
   "id": "21aa98e4",
   "metadata": {},
   "source": [
    "# Quadratic Equations\n",
    "\n",
    "Polynomials of the 2nd degree conventionly get a lot of focus in high school.  We learn to factor them, solve them, and plot them.\n",
    "\n",
    "Lets take an example:"
   ]
  },
  {
   "cell_type": "code",
   "execution_count": 7,
   "id": "a923d89f",
   "metadata": {},
   "outputs": [],
   "source": [
    "parabola = x**2 - 81"
   ]
  },
  {
   "cell_type": "code",
   "execution_count": 8,
   "id": "6b391ad7",
   "metadata": {},
   "outputs": [
    {
     "data": {
      "image/png": "[encoded data removed]",
      "text/latex": [
       "$\\displaystyle x^{2} - 81$"
      ],
      "text/plain": [
       " 2     \n",
       "x  - 81"
      ]
     },
     "execution_count": 8,
     "metadata": {},
     "output_type": "execute_result"
    }
   ],
   "source": [
    "parabola"
   ]
  },
  {
   "cell_type": "markdown",
   "id": "639b9ea0",
   "metadata": {},
   "source": [
    "In $\\LaTeX$, the multiplication symbol goes away:"
   ]
  },
  {
   "cell_type": "code",
   "execution_count": 9,
   "id": "cbabe510",
   "metadata": {},
   "outputs": [
    {
     "data": {
      "image/png": "[encoded data removed]",
      "text/latex": [
       "$\\displaystyle \\left(x - 9\\right) \\left(x + 9\\right)$"
      ],
      "text/plain": [
       "(x - 9)⋅(x + 9)"
      ]
     },
     "execution_count": 9,
     "metadata": {},
     "output_type": "execute_result"
    }
   ],
   "source": [
    "factor(parabola)"
   ]
  },
  {
   "cell_type": "markdown",
   "id": "9de292a9",
   "metadata": {},
   "source": [
    "You're not confined to polynomials of the 2nd degree of course."
   ]
  },
  {
   "cell_type": "code",
   "execution_count": 10,
   "id": "fbc19b15",
   "metadata": {},
   "outputs": [],
   "source": [
    "polynomial = (x - 4)*(x + 1)*(x - 3)*(x + 2)"
   ]
  },
  {
   "cell_type": "code",
   "execution_count": 11,
   "id": "14b99fc2",
   "metadata": {},
   "outputs": [
    {
     "data": {
      "image/png": "[encoded data removed]",
      "text/latex": [
       "$\\displaystyle x^{4} - 4 x^{3} - 7 x^{2} + 22 x + 24$"
      ],
      "text/plain": [
       " 4      3      2            \n",
       "x  - 4⋅x  - 7⋅x  + 22⋅x + 24"
      ]
     },
     "execution_count": 11,
     "metadata": {},
     "output_type": "execute_result"
    }
   ],
   "source": [
    "expand(polynomial)"
   ]
  },
  {
   "cell_type": "code",
   "execution_count": 12,
   "id": "7ab3777e",
   "metadata": {},
   "outputs": [
    {
     "data": {
      "image/png": "[encoded data removed]",
      "text/latex": [
       "$\\displaystyle \\left(x - 4\\right) \\left(x - 3\\right) \\left(x + 1\\right) \\left(x + 2\\right)$"
      ],
      "text/plain": [
       "(x - 4)⋅(x - 3)⋅(x + 1)⋅(x + 2)"
      ]
     },
     "execution_count": 12,
     "metadata": {},
     "output_type": "execute_result"
    }
   ],
   "source": [
    "factor(expand(polynomial))"
   ]
  },
  {
   "cell_type": "markdown",
   "id": "1c343763",
   "metadata": {},
   "source": [
    "Sympy makes use of ```matplotlib``` to implement its own plotting API."
   ]
  },
  {
   "cell_type": "code",
   "execution_count": 13,
   "id": "ad8f87be",
   "metadata": {},
   "outputs": [
    {
     "data": {
      "image/png": "[encoded data removed]",
      "text/plain": [
       "<Figure size 432x288 with 1 Axes>"
      ]
     },
     "metadata": {
      "needs_background": "light"
     },
     "output_type": "display_data"
    }
   ],
   "source": [
    "%matplotlib inline  \n",
    "plotting.plot(polynomial, (x, -3, 5), x=\"x\", title=\"Polynomial\");"
   ]
  }
 ],
 "metadata": {
  "kernelspec": {
   "display_name": "Python 3",
   "language": "python",
   "name": "python3"
  },
  "language_info": {
   "codemirror_mode": {
    "name": "ipython",
    "version": 3
   },
   "file_extension": ".py",
   "mimetype": "text/x-python",
   "name": "python",
   "nbconvert_exporter": "python",
   "pygments_lexer": "ipython3",
   "version": "3.7.9"
  }
 },
 "nbformat": 4,
 "nbformat_minor": 5
}
