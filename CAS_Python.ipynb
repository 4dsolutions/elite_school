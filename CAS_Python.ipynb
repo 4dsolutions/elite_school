{
 "cells": [
  {
   "cell_type": "markdown",
   "id": "c6971647",
   "metadata": {},
   "source": [
    "[Home](Home.ipynb)\n",
    "\n",
    "# Sympy: A Computer Algebra System (CAS)\n"
   ]
  },
  {
   "cell_type": "code",
   "execution_count": 1,
   "id": "dc163aaf",
   "metadata": {},
   "outputs": [],
   "source": [
    "from sympy import *\n",
    "import sympy"
   ]
  },
  {
   "cell_type": "code",
   "execution_count": 2,
   "id": "54539097",
   "metadata": {},
   "outputs": [
    {
     "name": "stdout",
     "output_type": "stream",
     "text": [
      "IPython console for SymPy 1.7.1 (Python 3.7.9-64-bit) (ground types: gmpy)\n",
      "\n",
      "These commands were executed:\n",
      ">>> from __future__ import division\n",
      ">>> from sympy import *\n",
      ">>> x, y, z, t = symbols('x y z t')\n",
      ">>> k, m, n = symbols('k m n', integer=True)\n",
      ">>> f, g, h = symbols('f g h', cls=Function)\n",
      ">>> init_printing()\n",
      "\n",
      "Documentation can be found at https://docs.sympy.org/1.7.1/\n",
      "\n"
     ]
    }
   ],
   "source": [
    "init_session()"
   ]
  },
  {
   "cell_type": "code",
   "execution_count": 3,
   "id": "810d3b32",
   "metadata": {},
   "outputs": [
    {
     "data": {
      "image/png": "[encoded data removed]",
      "text/latex": [
       "$\\displaystyle \\frac{1}{3}$"
      ],
      "text/plain": [
       "1/3"
      ]
     },
     "execution_count": 3,
     "metadata": {},
     "output_type": "execute_result"
    }
   ],
   "source": [
    "Integer(1) / Integer(3)"
   ]
  },
  {
   "cell_type": "code",
   "execution_count": 4,
   "id": "4dd2a4f3",
   "metadata": {},
   "outputs": [],
   "source": [
    "phi = (1 + sqrt(5))/2"
   ]
  },
  {
   "cell_type": "code",
   "execution_count": 5,
   "id": "476b6b37",
   "metadata": {},
   "outputs": [
    {
     "data": {
      "image/png": "[encoded data removed]",
      "text/latex": [
       "$\\displaystyle \\frac{1}{2} + \\frac{\\sqrt{5}}{2}$"
      ],
      "text/plain": [
       "1   √5\n",
       "─ + ──\n",
       "2   2 "
      ]
     },
     "execution_count": 5,
     "metadata": {},
     "output_type": "execute_result"
    }
   ],
   "source": [
    "phi"
   ]
  },
  {
   "cell_type": "code",
   "execution_count": 6,
   "id": "ebef0d21",
   "metadata": {},
   "outputs": [
    {
     "data": {
      "image/png": "[encoded data removed]",
      "text/latex": [
       "$\\displaystyle 1.6180339887498948482045868343656381177203091798058$"
      ],
      "text/plain": [
       "1.6180339887498948482045868343656381177203091798058"
      ]
     },
     "execution_count": 6,
     "metadata": {},
     "output_type": "execute_result"
    }
   ],
   "source": [
    "phi.evalf(50)"
   ]
  },
  {
   "cell_type": "markdown",
   "id": "433cbe6a",
   "metadata": {},
   "source": [
    "![phi diagram](https://photos1.blogger.com/blogger/1134/545/1600/pentatrig.jpg)"
   ]
  },
  {
   "cell_type": "markdown",
   "id": "5fdd58c5",
   "metadata": {},
   "source": [
    "# Quadratic Equations\n",
    "\n",
    "Polynomials of the 2nd degree conventionly get a lot of focus in high school.  We learn to factor them, solve them, and plot them.\n",
    "\n",
    "Lets take an example:"
   ]
  },
  {
   "cell_type": "code",
   "execution_count": 7,
   "id": "66cc1619",
   "metadata": {},
   "outputs": [],
   "source": [
    "parabola = x**2 - 81"
   ]
  },
  {
   "cell_type": "code",
   "execution_count": 8,
   "id": "67c2b25e",
   "metadata": {},
   "outputs": [
    {
     "data": {
      "image/png": "[encoded data removed]",
      "text/latex": [
       "$\\displaystyle x^{2} - 81$"
      ],
      "text/plain": [
       " 2     \n",
       "x  - 81"
      ]
     },
     "execution_count": 8,
     "metadata": {},
     "output_type": "execute_result"
    }
   ],
   "source": [
    "parabola"
   ]
  },
  {
   "cell_type": "markdown",
   "id": "c17c29ac",
   "metadata": {},
   "source": [
    "In $\\LaTeX$, the multiplication symbol goes away:"
   ]
  },
  {
   "cell_type": "code",
   "execution_count": 9,
   "id": "5b477de6",
   "metadata": {},
   "outputs": [
    {
     "data": {
      "image/png": "[encoded data removed]",
      "text/latex": [
       "$\\displaystyle \\left(x - 9\\right) \\left(x + 9\\right)$"
      ],
      "text/plain": [
       "(x - 9)⋅(x + 9)"
      ]
     },
     "execution_count": 9,
     "metadata": {},
     "output_type": "execute_result"
    }
   ],
   "source": [
    "factor(parabola)"
   ]
  },
  {
   "cell_type": "markdown",
   "id": "85cfaccc",
   "metadata": {},
   "source": [
    "You're not confined to polynomials of the 2nd degree of course."
   ]
  },
  {
   "cell_type": "code",
   "execution_count": 10,
   "id": "718804d4",
   "metadata": {},
   "outputs": [],
   "source": [
    "polynomial = (x - 4)*(x + 1)*(x - 3)*(x + 2)"
   ]
  },
  {
   "cell_type": "code",
   "execution_count": 11,
   "id": "750e82bb",
   "metadata": {},
   "outputs": [
    {
     "data": {
      "image/png": "[encoded data removed]",
      "text/latex": [
       "$\\displaystyle x^{4} - 4 x^{3} - 7 x^{2} + 22 x + 24$"
      ],
      "text/plain": [
       " 4      3      2            \n",
       "x  - 4⋅x  - 7⋅x  + 22⋅x + 24"
      ]
     },
     "execution_count": 11,
     "metadata": {},
     "output_type": "execute_result"
    }
   ],
   "source": [
    "expand(polynomial)"
   ]
  },
  {
   "cell_type": "markdown",
   "id": "f77e1c71",
   "metadata": {},
   "source": [
    "The factors of the polynomial let you determine its \"zeroes\" which is where the plot crosses the x-axis, presuming the solution is in the set of real numbers.  Sympy assumes the complex field as its default domain, with real numbers of subset."
   ]
  },
  {
   "cell_type": "code",
   "execution_count": 12,
   "id": "9fe2b583",
   "metadata": {},
   "outputs": [
    {
     "data": {
      "image/png": "[encoded data removed]",
      "text/latex": [
       "$\\displaystyle \\left(x - 4\\right) \\left(x - 3\\right) \\left(x + 1\\right) \\left(x + 2\\right)$"
      ],
      "text/plain": [
       "(x - 4)⋅(x - 3)⋅(x + 1)⋅(x + 2)"
      ]
     },
     "execution_count": 12,
     "metadata": {},
     "output_type": "execute_result"
    }
   ],
   "source": [
    "factor(expand(polynomial))"
   ]
  },
  {
   "cell_type": "markdown",
   "id": "58c07253",
   "metadata": {},
   "source": [
    "Sympy makes use of ```matplotlib``` to implement its own plotting API."
   ]
  },
  {
   "cell_type": "code",
   "execution_count": 14,
   "id": "983eda48",
   "metadata": {},
   "outputs": [
    {
     "data": {
      "image/png": "[encoded data removed]",
      "text/plain": [
       "<Figure size 432x288 with 1 Axes>"
      ]
     },
     "metadata": {
      "needs_background": "light"
     },
     "output_type": "display_data"
    }
   ],
   "source": [
    "%matplotlib inline  \n",
    "plotting.plot(polynomial, (x, -3, 5), x=\"x\", title=\"Four Zeroes or Roots\");"
   ]
  }
 ],
 "metadata": {
  "kernelspec": {
   "display_name": "Python 3",
   "language": "python",
   "name": "python3"
  },
  "language_info": {
   "codemirror_mode": {
    "name": "ipython",
    "version": 3
   },
   "file_extension": ".py",
   "mimetype": "text/x-python",
   "name": "python",
   "nbconvert_exporter": "python",
   "pygments_lexer": "ipython3",
   "version": "3.7.9"
  }
 },
 "nbformat": 4,
 "nbformat_minor": 5
}
