{
 "cells": [
  {
   "cell_type": "markdown",
   "id": "c75ff63b",
   "metadata": {},
   "source": [
    "[Home](Home.ipynb)\n",
    "\n",
    "# Sympy: A Computer Algebra System (CAS)\n"
   ]
  },
  {
   "cell_type": "code",
   "execution_count": 2,
   "id": "59ce086d",
   "metadata": {},
   "outputs": [],
   "source": [
    "from sympy import *\n",
    "import sympy"
   ]
  },
  {
   "cell_type": "code",
   "execution_count": 3,
   "id": "f925ae2f",
   "metadata": {},
   "outputs": [
    {
     "name": "stdout",
     "output_type": "stream",
     "text": [
      "IPython console for SymPy 1.7.1 (Python 3.7.9-64-bit) (ground types: gmpy)\n",
      "\n",
      "These commands were executed:\n",
      ">>> from __future__ import division\n",
      ">>> from sympy import *\n",
      ">>> x, y, z, t = symbols('x y z t')\n",
      ">>> k, m, n = symbols('k m n', integer=True)\n",
      ">>> f, g, h = symbols('f g h', cls=Function)\n",
      ">>> init_printing()\n",
      "\n",
      "Documentation can be found at https://docs.sympy.org/1.7.1/\n",
      "\n"
     ]
    }
   ],
   "source": [
    "init_session()"
   ]
  },
  {
   "cell_type": "code",
   "execution_count": 27,
   "id": "6479ab9b",
   "metadata": {},
   "outputs": [
    {
     "data": {
      "image/png": "[encoded data removed]",
      "text/latex": [
       "$\\displaystyle \\frac{1}{3}$"
      ],
      "text/plain": [
       "1/3"
      ]
     },
     "execution_count": 27,
     "metadata": {},
     "output_type": "execute_result"
    }
   ],
   "source": [
    "Integer(1) / Integer(3)"
   ]
  },
  {
   "cell_type": "code",
   "execution_count": 28,
   "id": "1798e5f2",
   "metadata": {},
   "outputs": [],
   "source": [
    "phi = (1 + sqrt(5))/2"
   ]
  },
  {
   "cell_type": "code",
   "execution_count": 29,
   "id": "c57d48f7",
   "metadata": {},
   "outputs": [
    {
     "data": {
      "image/png": "[encoded data removed]",
      "text/latex": [
       "$\\displaystyle \\frac{1}{2} + \\frac{\\sqrt{5}}{2}$"
      ],
      "text/plain": [
       "1   √5\n",
       "─ + ──\n",
       "2   2 "
      ]
     },
     "execution_count": 29,
     "metadata": {},
     "output_type": "execute_result"
    }
   ],
   "source": [
    "phi"
   ]
  },
  {
   "cell_type": "code",
   "execution_count": 30,
   "id": "db12399b",
   "metadata": {},
   "outputs": [
    {
     "data": {
      "image/png": "[encoded data removed]",
      "text/latex": [
       "$\\displaystyle 1.618033988749894848204586834365638117720309179805762862135448622705260462818902449707207204189391137$"
      ],
      "text/plain": [
       "1.6180339887498948482045868343656381177203091798057628621354486227052604628189\n",
       "02449707207204189391137"
      ]
     },
     "execution_count": 30,
     "metadata": {},
     "output_type": "execute_result"
    }
   ],
   "source": [
    "phi.evalf(100)"
   ]
  },
  {
   "cell_type": "markdown",
   "id": "7f457d67",
   "metadata": {},
   "source": [
    "![phi diagram](https://photos1.blogger.com/blogger/1134/545/1600/pentatrig.jpg)"
   ]
  },
  {
   "cell_type": "markdown",
   "id": "225344b9",
   "metadata": {},
   "source": [
    "We can derive Phi by asking:  what whole, consisting of $1 + x$, ratioed to 1, equals 1 ratioed to that smaller $x$?  The whole $1 + x$ is to 1, as 1 is to what number $x$?\n",
    "\n",
    "Check out how we symbolize equality between two symbolic expressions."
   ]
  },
  {
   "cell_type": "code",
   "execution_count": 22,
   "id": "d8ee0a02",
   "metadata": {},
   "outputs": [
    {
     "data": {
      "image/png": "[encoded data removed]",
      "text/latex": [
       "$\\displaystyle x + 1 = \\frac{1}{x}$"
      ],
      "text/plain": [
       "        1\n",
       "x + 1 = ─\n",
       "        x"
      ]
     },
     "execution_count": 22,
     "metadata": {},
     "output_type": "execute_result"
    }
   ],
   "source": [
    "equation = Eq((x+1)/1, 1/x)\n",
    "equation"
   ]
  },
  {
   "cell_type": "markdown",
   "id": "253a9625",
   "metadata": {},
   "source": [
    "Since our equation is in one variable, we should be able to solve it, using ```solve```."
   ]
  },
  {
   "cell_type": "code",
   "execution_count": 23,
   "id": "ab8a88ef",
   "metadata": {},
   "outputs": [
    {
     "data": {
      "image/png": "[encoded data removed]",
      "text/latex": [
       "$\\displaystyle \\left[ - \\frac{1}{2} + \\frac{\\sqrt{5}}{2}, \\  - \\frac{\\sqrt{5}}{2} - \\frac{1}{2}\\right]$"
      ],
      "text/plain": [
       "⎡  1   √5    √5   1⎤\n",
       "⎢- ─ + ──, - ── - ─⎥\n",
       "⎣  2   2     2    2⎦"
      ]
     },
     "execution_count": 23,
     "metadata": {},
     "output_type": "execute_result"
    }
   ],
   "source": [
    "solve(equation, x)"
   ]
  },
  {
   "cell_type": "markdown",
   "id": "0af59875",
   "metadata": {},
   "source": [
    "We have one positive root and one negative root. The positive root corresponds to a length or distance, and therefore should be our mystery $x$."
   ]
  },
  {
   "cell_type": "code",
   "execution_count": 18,
   "id": "5c7c9be0",
   "metadata": {},
   "outputs": [
    {
     "data": {
      "image/png": "[encoded data removed]",
      "text/latex": [
       "$\\displaystyle - \\frac{1}{2} + \\frac{\\sqrt{5}}{2}$"
      ],
      "text/plain": [
       "  1   √5\n",
       "- ─ + ──\n",
       "  2   2 "
      ]
     },
     "execution_count": 18,
     "metadata": {},
     "output_type": "execute_result"
    }
   ],
   "source": [
    "tau = (-1 + sqrt(5))/2\n",
    "tau"
   ]
  },
  {
   "cell_type": "code",
   "execution_count": 19,
   "id": "bce69561",
   "metadata": {},
   "outputs": [
    {
     "data": {
      "image/png": "[encoded data removed]",
      "text/latex": [
       "$\\displaystyle 0.61803398874989484820458683436563811772030917980576$"
      ],
      "text/plain": [
       "0.61803398874989484820458683436563811772030917980576"
      ]
     },
     "execution_count": 19,
     "metadata": {},
     "output_type": "execute_result"
    }
   ],
   "source": [
    "tau.evalf(50)"
   ]
  },
  {
   "cell_type": "markdown",
   "id": "3f68f3f9",
   "metadata": {},
   "source": [
    "The question though, was what is the whole, or 1 + x?  \n",
    "\n",
    "We can just take the reciprocal of our answer for x, i.e. tau."
   ]
  },
  {
   "cell_type": "code",
   "execution_count": 20,
   "id": "671f19d2",
   "metadata": {},
   "outputs": [
    {
     "data": {
      "image/png": "[encoded data removed]",
      "text/latex": [
       "$\\displaystyle 1.6180339887498948482045868343656381177203091798058$"
      ],
      "text/plain": [
       "1.6180339887498948482045868343656381177203091798058"
      ]
     },
     "execution_count": 20,
     "metadata": {},
     "output_type": "execute_result"
    }
   ],
   "source": [
    "1/tau.evalf(50)"
   ]
  },
  {
   "cell_type": "code",
   "execution_count": 64,
   "id": "c4bcd1cb",
   "metadata": {},
   "outputs": [
    {
     "data": {
      "image/png": "[encoded data removed]",
      "text/latex": [
       "$\\displaystyle x + \\frac{1}{x + \\frac{1}{x + \\frac{1}{x + \\frac{1}{x}}}}$"
      ],
      "text/plain": [
       "          1      \n",
       "x + ─────────────\n",
       "            1    \n",
       "    x + ─────────\n",
       "              1  \n",
       "        x + ─────\n",
       "                1\n",
       "            x + ─\n",
       "                x"
      ]
     },
     "execution_count": 64,
     "metadata": {},
     "output_type": "execute_result"
    }
   ],
   "source": [
    "def list_to_frac(l):\n",
    "    expr = Integer(0)\n",
    "    for i in reversed(l[1:]):\n",
    "        expr += i\n",
    "        expr = 1/expr\n",
    "    return l[0] + expr\n",
    "\n",
    "list_to_frac([x]*5)"
   ]
  },
  {
   "cell_type": "code",
   "execution_count": 40,
   "id": "d8ed515c",
   "metadata": {},
   "outputs": [
    {
     "data": {
      "image/png": "[encoded data removed]",
      "text/latex": [
       "$\\displaystyle \\frac{20365011074}{12586269025}$"
      ],
      "text/plain": [
       "20365011074\n",
       "───────────\n",
       "12586269025"
      ]
     },
     "execution_count": 40,
     "metadata": {},
     "output_type": "execute_result"
    }
   ],
   "source": [
    "continued_fraction = list_to_frac([x]*50)\n",
    "continued_fraction.subs(x, 1)"
   ]
  },
  {
   "cell_type": "code",
   "execution_count": 42,
   "id": "78b17d11",
   "metadata": {},
   "outputs": [
    {
     "data": {
      "image/png": "[encoded data removed]",
      "text/latex": [
       "$\\displaystyle 1.6180339887498948482$"
      ],
      "text/plain": [
       "1.6180339887498948482"
      ]
     },
     "execution_count": 42,
     "metadata": {},
     "output_type": "execute_result"
    }
   ],
   "source": [
    "continued_fraction.subs(x, 1).evalf(20)"
   ]
  },
  {
   "cell_type": "markdown",
   "id": "dfa2f4bf",
   "metadata": {},
   "source": [
    "# Polynomials\n",
    "\n",
    "Polynomials of the 2nd degree conventionly get a lot of focus in high school.  We learn to factor them, solve them, and plot them.\n",
    "\n",
    "Lets take an example:"
   ]
  },
  {
   "cell_type": "code",
   "execution_count": 7,
   "id": "e6394e00",
   "metadata": {},
   "outputs": [],
   "source": [
    "parabola = x**2 - 81"
   ]
  },
  {
   "cell_type": "code",
   "execution_count": 8,
   "id": "43804e8b",
   "metadata": {},
   "outputs": [
    {
     "data": {
      "image/png": "[encoded data removed]",
      "text/latex": [
       "$\\displaystyle x^{2} - 81$"
      ],
      "text/plain": [
       " 2     \n",
       "x  - 81"
      ]
     },
     "execution_count": 8,
     "metadata": {},
     "output_type": "execute_result"
    }
   ],
   "source": [
    "parabola"
   ]
  },
  {
   "cell_type": "markdown",
   "id": "334ba68e",
   "metadata": {},
   "source": [
    "In $\\LaTeX$, the multiplication symbol goes away:"
   ]
  },
  {
   "cell_type": "code",
   "execution_count": 9,
   "id": "1fc0a735",
   "metadata": {},
   "outputs": [
    {
     "data": {
      "image/png": "[encoded data removed]",
      "text/latex": [
       "$\\displaystyle \\left(x - 9\\right) \\left(x + 9\\right)$"
      ],
      "text/plain": [
       "(x - 9)⋅(x + 9)"
      ]
     },
     "execution_count": 9,
     "metadata": {},
     "output_type": "execute_result"
    }
   ],
   "source": [
    "factor(parabola)"
   ]
  },
  {
   "cell_type": "markdown",
   "id": "e7087139",
   "metadata": {},
   "source": [
    "You're not confined to polynomials of the 2nd degree of course."
   ]
  },
  {
   "cell_type": "code",
   "execution_count": 10,
   "id": "cd7f1790",
   "metadata": {},
   "outputs": [],
   "source": [
    "polynomial = (x - 4)*(x + 1)*(x - 3)*(x + 2)"
   ]
  },
  {
   "cell_type": "code",
   "execution_count": 11,
   "id": "fe53ebac",
   "metadata": {},
   "outputs": [
    {
     "data": {
      "image/png": "[encoded data removed]",
      "text/latex": [
       "$\\displaystyle x^{4} - 4 x^{3} - 7 x^{2} + 22 x + 24$"
      ],
      "text/plain": [
       " 4      3      2            \n",
       "x  - 4⋅x  - 7⋅x  + 22⋅x + 24"
      ]
     },
     "execution_count": 11,
     "metadata": {},
     "output_type": "execute_result"
    }
   ],
   "source": [
    "expand(polynomial)"
   ]
  },
  {
   "cell_type": "markdown",
   "id": "10eb5126",
   "metadata": {},
   "source": [
    "The factors of the polynomial let you determine its \"zeroes\" which is where the plot crosses the x-axis, presuming the solution is in the set of real numbers.  Sympy assumes the complex field as its default domain, with real numbers of subset."
   ]
  },
  {
   "cell_type": "code",
   "execution_count": 12,
   "id": "9ea27dbb",
   "metadata": {},
   "outputs": [
    {
     "data": {
      "image/png": "[encoded data removed]",
      "text/latex": [
       "$\\displaystyle \\left(x - 4\\right) \\left(x - 3\\right) \\left(x + 1\\right) \\left(x + 2\\right)$"
      ],
      "text/plain": [
       "(x - 4)⋅(x - 3)⋅(x + 1)⋅(x + 2)"
      ]
     },
     "execution_count": 12,
     "metadata": {},
     "output_type": "execute_result"
    }
   ],
   "source": [
    "factor(expand(polynomial))"
   ]
  },
  {
   "cell_type": "markdown",
   "id": "0b11442b",
   "metadata": {},
   "source": [
    "AKS Test for Primality:  are the coefficients of the polynomial expansion of $(x-1)^{p}$ all multiples of p?  \n",
    "\n",
    "We're ignoring when the coefficients are 1.  \n",
    "\n",
    "$(x+1)^{p}$ would have the same coefficients but for differences in sign."
   ]
  },
  {
   "cell_type": "code",
   "execution_count": 46,
   "id": "3fa72362",
   "metadata": {},
   "outputs": [
    {
     "name": "stdout",
     "output_type": "stream",
     "text": [
      "[2, 3, 5, 7, 11, 13, 17, 19, 23, 29, 31, 37, 41, 43, 47, 53, 59, 61, 67, 71, 73, 79, 83, 89, 97, 101, 103, 107, 109, 113, 127, 131, 137, 139, 149, 151, 157, 163, 167, 173, 179, 181, 191, 193, 197, 199]\n"
     ]
    }
   ],
   "source": [
    "def isprime(p):\n",
    "    poly = Poly(expand((x-1)**p - (x**p - 1)))\n",
    "    return 0==sum([C % p for C in poly.coeffs()[:p//2]])\n",
    "\n",
    "print(list(filter(isprime, [2] + list(range(3,200,2)))))"
   ]
  },
  {
   "cell_type": "markdown",
   "id": "8ef5e4e0",
   "metadata": {},
   "source": [
    "Sympy makes use of ```matplotlib``` to implement its own plotting API."
   ]
  },
  {
   "cell_type": "code",
   "execution_count": 14,
   "id": "6f2d8327",
   "metadata": {},
   "outputs": [
    {
     "data": {
      "image/png": "[encoded data removed]",
      "text/plain": [
       "<Figure size 432x288 with 1 Axes>"
      ]
     },
     "metadata": {
      "needs_background": "light"
     },
     "output_type": "display_data"
    }
   ],
   "source": [
    "%matplotlib inline  \n",
    "plotting.plot(polynomial, (x, -3, 5), x=\"x\", title=\"Four Zeroes or Roots\");"
   ]
  },
  {
   "cell_type": "code",
   "execution_count": 76,
   "id": "29af8532",
   "metadata": {},
   "outputs": [],
   "source": [
    "f = lambdify(x, polynomial, \"numpy\")"
   ]
  },
  {
   "cell_type": "markdown",
   "id": "7d175b9b",
   "metadata": {},
   "source": [
    "Below we tap ```matplotlib``` more directly.  Sometimes we might want to use legacy code with already well-thought-out cosmetic arguments.  Why reinvent the wheel?  A lot of this legacy code is using ```matplotlib.pyplot``` imported as ```plt```. We find it convenient to recycle a lot of what we find."
   ]
  },
  {
   "cell_type": "code",
   "execution_count": 82,
   "id": "806b884c",
   "metadata": {},
   "outputs": [],
   "source": [
    "import numpy as np\n",
    "import matplotlib.pyplot as plt"
   ]
  },
  {
   "cell_type": "code",
   "execution_count": 95,
   "id": "b5f861bb",
   "metadata": {},
   "outputs": [],
   "source": [
    "a = np.arange(-3, 5, 0.1) # start, up to, interval"
   ]
  },
  {
   "cell_type": "code",
   "execution_count": 96,
   "id": "7280e21f",
   "metadata": {},
   "outputs": [
    {
     "data": {
      "text/plain": [
       "array([84.    , 69.6141, 56.7936, 45.4461, 35.4816, 26.8125, 19.3536,\n",
       "       13.0221,  7.7376,  3.4221])"
      ]
     },
     "execution_count": 96,
     "metadata": {},
     "output_type": "execute_result"
    }
   ],
   "source": [
    "f(a)[:10]  # the target polynomial f is from a lambdification"
   ]
  },
  {
   "cell_type": "code",
   "execution_count": 97,
   "id": "250af36a",
   "metadata": {},
   "outputs": [
    {
     "data": {
      "image/png": "[encoded data removed]",
      "text/plain": [
       "<Figure size 432x288 with 1 Axes>"
      ]
     },
     "metadata": {
      "needs_background": "light"
     },
     "output_type": "display_data"
    }
   ],
   "source": [
    "# familiar looking code, anchored by plt\n",
    "plt.title(\"Polynomial\") \n",
    "plt.xlabel(\"X axis\") \n",
    "plt.ylabel(\"Y axis\") \n",
    "plt.grid()\n",
    "plt.plot(a, f(a), color =\"red\") \n",
    "plt.show()"
   ]
  },
  {
   "cell_type": "markdown",
   "id": "201ffa8a",
   "metadata": {},
   "source": [
    "# Sequences\n",
    "\n",
    "A great way to unify algebraic and geometric thinking is with rules giving the growth pattern of various objects.\n",
    "\n",
    "For example, we start with a box of unit radius balls, like ball bearings or uniformly sized marbles, and pack them in what's known as the CCP arrangement, as dense as it gets (about 74% solid).\n",
    "\n",
    "Start with a ball at the top and build downward by layers, using triangular numbers of balls:  1, 3, 6, 10, 15, 21, 28...  That's the number in each layer, but what is the cumulative number, the number in an n-frequency tetrahedron?\n",
    "\n",
    "Now we ask the same question for a half-octahedron, and a full octahedron, and maybe a cuboctahedron...\n",
    "\n",
    "What are the numeric sequences.  With the octahedron, we're starting again at the top, with one ball, which we underpin with 4, the 9, then 16... the \"square\" numbers.  What's the cumulative number?\n",
    "\n",
    "Finally, instead of counting balls, perhaps we would like to count \"kissing points\" i.e. the number of points at which two balls are intertangent.  Balls at the boundary have fewer touching neighbors.  Balls in the thick of the CCP, completely surrounded, have exactly 12 neighbors.\n",
    "\n",
    "The formulae below correspond to these edge counts."
   ]
  },
  {
   "cell_type": "code",
   "execution_count": 34,
   "id": "3dbb99ba",
   "metadata": {},
   "outputs": [
    {
     "data": {
      "image/png": "[encoded data removed]",
      "text/latex": [
       "$\\displaystyle x^{3} + 3 x^{2} + 2 x$"
      ],
      "text/plain": [
       " 3      2      \n",
       "x  + 3⋅x  + 2⋅x"
      ]
     },
     "execution_count": 34,
     "metadata": {},
     "output_type": "execute_result"
    }
   ],
   "source": [
    "expand(x*(x+1)*(x+2)) # a007531"
   ]
  },
  {
   "cell_type": "code",
   "execution_count": 33,
   "id": "bd657325",
   "metadata": {},
   "outputs": [
    {
     "data": {
      "image/png": "[encoded data removed]",
      "text/latex": [
       "$\\displaystyle 4 x^{3} + 6 x^{2} + 2 x$"
      ],
      "text/plain": [
       "   3      2      \n",
       "4⋅x  + 6⋅x  + 2⋅x"
      ]
     },
     "execution_count": 33,
     "metadata": {},
     "output_type": "execute_result"
    }
   ],
   "source": [
    "expand(2*x*(x+1)*(2*x+1)) # a300758"
   ]
  },
  {
   "cell_type": "code",
   "execution_count": 44,
   "id": "62b9e2a0",
   "metadata": {},
   "outputs": [
    {
     "data": {
      "image/png": "[encoded data removed]",
      "text/latex": [
       "$\\displaystyle 2 x^{3} + 4 x^{2} + 2 x$"
      ],
      "text/plain": [
       "   3      2      \n",
       "2⋅x  + 4⋅x  + 2⋅x"
      ]
     },
     "execution_count": 44,
     "metadata": {},
     "output_type": "execute_result"
    }
   ],
   "source": [
    "expand(x*2*(x+1)**2) # a035006"
   ]
  },
  {
   "cell_type": "code",
   "execution_count": 48,
   "id": "5e27b90e",
   "metadata": {},
   "outputs": [
    {
     "data": {
      "image/png": "[encoded data removed]",
      "text/latex": [
       "$\\displaystyle 20 x^{3} + 12 x^{2} + 4 x$"
      ],
      "text/plain": [
       "    3       2      \n",
       "20⋅x  + 12⋅x  + 4⋅x"
      ]
     },
     "execution_count": 48,
     "metadata": {},
     "output_type": "execute_result"
    }
   ],
   "source": [
    "expand(20*(x+1)**3 - 48*(x+1)**2 + 40*(x+1) - 12)"
   ]
  },
  {
   "cell_type": "code",
   "execution_count": 49,
   "id": "df0e23b7",
   "metadata": {},
   "outputs": [
    {
     "data": {
      "image/png": "[encoded data removed]",
      "text/latex": [
       "$\\displaystyle 20 x^{3} - 48 x^{2} + 40 x - 12$"
      ],
      "text/plain": [
       "    3       2            \n",
       "20⋅x  - 48⋅x  + 40⋅x - 12"
      ]
     },
     "execution_count": 49,
     "metadata": {},
     "output_type": "execute_result"
    }
   ],
   "source": [
    "20*x**3 - 48*x**2 + 40*x - 12"
   ]
  },
  {
   "cell_type": "code",
   "execution_count": 52,
   "id": "2fd50e06",
   "metadata": {},
   "outputs": [],
   "source": [
    "def ruleVE(f): \n",
    "    \"\"\"\n",
    "    cumulative number of edges in x frequency\n",
    "    cuboctahedral ball packing\n",
    "    \"\"\"\n",
    "    x = f + 1\n",
    "    return 20*x**3 - 48*x**2 + 40*x - 12"
   ]
  },
  {
   "cell_type": "code",
   "execution_count": 53,
   "id": "a9efd35d",
   "metadata": {},
   "outputs": [
    {
     "data": {
      "image/png": "[encoded data removed]",
      "text/latex": [
       "$\\displaystyle \\left[ 0, \\  36, \\  216, \\  660, \\  1488, \\  2820, \\  4776, \\  7476, \\  11040, \\  15588\\right]$"
      ],
      "text/plain": [
       "[0, 36, 216, 660, 1488, 2820, 4776, 7476, 11040, 15588]"
      ]
     },
     "execution_count": 53,
     "metadata": {},
     "output_type": "execute_result"
    }
   ],
   "source": [
    "[ruleVE(x) for x in range(0, 10)]"
   ]
  },
  {
   "cell_type": "code",
   "execution_count": 56,
   "id": "3b3ecb02",
   "metadata": {},
   "outputs": [
    {
     "data": {
      "image/png": "[encoded data removed]",
      "text/latex": [
       "$\\displaystyle 8 n^{3} + 36 n^{2} + 52 n + 24$"
      ],
      "text/plain": [
       "   3       2            \n",
       "8⋅n  + 36⋅n  + 52⋅n + 24"
      ]
     },
     "execution_count": 56,
     "metadata": {},
     "output_type": "execute_result"
    }
   ],
   "source": [
    "eq = expand((2*n+2)*(2*n+3)*(2*n+4) )\n",
    "eq"
   ]
  },
  {
   "cell_type": "code",
   "execution_count": 70,
   "id": "44feb467",
   "metadata": {},
   "outputs": [
    {
     "data": {
      "image/png": "[encoded data removed]",
      "text/latex": [
       "$\\displaystyle 24$"
      ],
      "text/plain": [
       "24"
      ]
     },
     "execution_count": 70,
     "metadata": {},
     "output_type": "execute_result"
    }
   ],
   "source": [
    "eq.subs(n, 0)"
   ]
  },
  {
   "cell_type": "code",
   "execution_count": 67,
   "id": "bb05152d",
   "metadata": {},
   "outputs": [],
   "source": [
    "a = np.arange(10) "
   ]
  },
  {
   "cell_type": "code",
   "execution_count": 68,
   "id": "7572bf10",
   "metadata": {},
   "outputs": [],
   "source": [
    "f = lambdify(n, eq, 'numpy')"
   ]
  },
  {
   "cell_type": "code",
   "execution_count": 69,
   "id": "3c121bfd",
   "metadata": {},
   "outputs": [
    {
     "data": {
      "text/plain": [
       "array([  24,  120,  336,  720, 1320, 2184, 3360, 4896, 6840, 9240])"
      ]
     },
     "execution_count": 69,
     "metadata": {},
     "output_type": "execute_result"
    }
   ],
   "source": [
    "f(a)"
   ]
  },
  {
   "cell_type": "code",
   "execution_count": null,
   "id": "4fe1af42",
   "metadata": {},
   "outputs": [],
   "source": []
  }
 ],
 "metadata": {
  "kernelspec": {
   "display_name": "Python 3",
   "language": "python",
   "name": "python3"
  },
  "language_info": {
   "codemirror_mode": {
    "name": "ipython",
    "version": 3
   },
   "file_extension": ".py",
   "mimetype": "text/x-python",
   "name": "python",
   "nbconvert_exporter": "python",
   "pygments_lexer": "ipython3",
   "version": "3.7.9"
  }
 },
 "nbformat": 4,
 "nbformat_minor": 5
}
