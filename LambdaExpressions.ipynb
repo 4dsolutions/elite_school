{
 "cells": [
  {
   "cell_type": "markdown",
   "id": "9cb100eb",
   "metadata": {},
   "source": [
    "[Home](Home.ipynb)\n",
    "\n",
    "# Lambda Expressions\n",
    "\n",
    "\n",
    "### Bigger Picture\n",
    "\n",
    "The Lambda Calculus arose under a bevy of thinkers, at the Institute for Advanced Study at Princeton and elsewhere, to formalize the algebra of composing and defining callables.  Recursion is key.\n",
    "\n",
    "In the context of our subculture, Lambda Calculus may increase its scope to define a track parallel to Delta Calculus through high school.  What used to be the college prep and vocational tracks (shop) has morphed into $\\Delta$ versus $\\Lambda$ calculus, with the latter being \"computer science\" and/or \"discrete math\" in disguise."
   ]
  },
  {
   "cell_type": "markdown",
   "id": "83e0c142",
   "metadata": {},
   "source": [
    "### Python in Particular \n",
    "\"Mary had a little lambda\" we Pythonistas sometimes say, reminding us of the nursery rhyme, but also the Python's lambdas are little. \n",
    "\n",
    "\"If you need more than a one liner, you need a named object\" is the implicit advice.  In other words, the so-called anonymous function is for expressing simple, primitive operations."
   ]
  },
  {
   "cell_type": "markdown",
   "id": "a243e03c",
   "metadata": {},
   "source": [
    "The lambda expression below gets passed as a first argument to map.  map expects a callable and an iterable as arguments, and outputs a map type with \"just in time\" characteristics.  Converting a map to a list causes every element to evaluate and we get a final result."
   ]
  },
  {
   "cell_type": "code",
   "execution_count": 1,
   "id": "bb47bd30",
   "metadata": {},
   "outputs": [
    {
     "data": {
      "text/plain": [
       "[0, 0, 1, 1, 2, 2, 3, 3, 4, 4]"
      ]
     },
     "execution_count": 1,
     "metadata": {},
     "output_type": "execute_result"
    }
   ],
   "source": [
    "list(map(lambda x: x//2, range(10)))"
   ]
  },
  {
   "cell_type": "markdown",
   "id": "8716e5ff",
   "metadata": {},
   "source": [
    "Map expects a callable that eats a single positional object.  You may nevertheless break those objects apart in the body of the callable, including within a lambda expression.  \n",
    "\n",
    "Fraction expects two arguments, numerator and denominator.  The star in front of each tuple *t* e.g. (1, 2) then (1, 3), breaks each tuple into two separate positional arguments."
   ]
  },
  {
   "cell_type": "code",
   "execution_count": 4,
   "id": "891fe7dd",
   "metadata": {},
   "outputs": [
    {
     "data": {
      "text/plain": [
       "[Fraction(1, 2), Fraction(1, 3), Fraction(3, 7), Fraction(5, 12)]"
      ]
     },
     "execution_count": 4,
     "metadata": {},
     "output_type": "execute_result"
    }
   ],
   "source": [
    "from fractions import Fraction\n",
    "list(map(lambda t: Fraction(*t), ((1,2),(1,3),(3,7),(5,12))))"
   ]
  },
  {
   "cell_type": "markdown",
   "id": "6a54d60f",
   "metadata": {},
   "source": [
    "Python does include a version of map, called starmap, that \"explodes\" each object as it comes in, into separate positional arguments.  Imagine passing ```*(1,2)``` instead of just ```(1,2)```."
   ]
  },
  {
   "cell_type": "code",
   "execution_count": 10,
   "id": "caa2f80c",
   "metadata": {},
   "outputs": [
    {
     "name": "stdout",
     "output_type": "stream",
     "text": [
      "Wrong number of args\n",
      "a=1 b=2\n",
      "All good\n"
     ]
    }
   ],
   "source": [
    "# a short sketch\n",
    "\n",
    "def f(a,b):\n",
    "    print(f\"a={a} b={b}\")\n",
    "\n",
    "try:\n",
    "    f((1,2))\n",
    "except:\n",
    "    print(\"Wrong number of args\")\n",
    "    \n",
    "try:\n",
    "    f(*(1,2))\n",
    "except:\n",
    "    print(\"Bad news\")\n",
    "else:\n",
    "    print(\"All good\")"
   ]
  },
  {
   "cell_type": "code",
   "execution_count": 5,
   "id": "2c052f7c",
   "metadata": {},
   "outputs": [
    {
     "data": {
      "text/plain": [
       "[Fraction(1, 2), Fraction(1, 3), Fraction(3, 7), Fraction(5, 12)]"
      ]
     },
     "execution_count": 5,
     "metadata": {},
     "output_type": "execute_result"
    }
   ],
   "source": [
    "from itertools import starmap\n",
    "list(starmap(lambda n,d: Fraction(n,d), ((1,2),(1,3),(3,7),(5,12))))"
   ]
  },
  {
   "cell_type": "markdown",
   "id": "76515c3e",
   "metadata": {},
   "source": [
    "You might call a lambda expression an \"eater\".  \n",
    "\n",
    "Try mentally replacing the word lambda with the word eat, and see the expression after the colon as \"doing the thing\" (some operation, some procedure) with whatever's eaten.\n",
    "\n",
    "The purpose of the eater is to digest (perform a transformation) and give back (evaluate to a result)."
   ]
  },
  {
   "cell_type": "code",
   "execution_count": null,
   "id": "e2a7fc01",
   "metadata": {},
   "outputs": [],
   "source": []
  }
 ],
 "metadata": {
  "kernelspec": {
   "display_name": "Python 3",
   "language": "python",
   "name": "python3"
  },
  "language_info": {
   "codemirror_mode": {
    "name": "ipython",
    "version": 3
   },
   "file_extension": ".py",
   "mimetype": "text/x-python",
   "name": "python",
   "nbconvert_exporter": "python",
   "pygments_lexer": "ipython3",
   "version": "3.7.9"
  }
 },
 "nbformat": 4,
 "nbformat_minor": 5
}
