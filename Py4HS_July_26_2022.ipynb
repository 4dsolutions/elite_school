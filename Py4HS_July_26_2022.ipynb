{
 "cells": [
  {
   "cell_type": "markdown",
   "id": "468e25aa-24a4-4eaf-b4e0-c47792f38b1c",
   "metadata": {
    "tags": []
   },
   "source": [
    "##### Python for High School (Summer 2022)\n",
    "\n",
    "* [Table of Contents](PY4HS.ipynb)\n",
    "* <a href=\"https://colab.research.google.com/github/4dsolutions/elite_school/blob/master/Py4HS_July_26_2022.ipynb\"><img align=\"left\" src=\"https://colab.research.google.com/assets/colab-badge.svg\" alt=\"Open in Colab\" title=\"Open and Execute in Google Colaboratory\"></a>\n",
    "* [![nbviewer](https://raw.githubusercontent.com/jupyter/design/master/logos/Badges/nbviewer_badge.svg)](https://nbviewer.org/github/4dsolutions/elite_school/blob/master/Py4HS_July_26_2022.ipynb)"
   ]
  },
  {
   "cell_type": "markdown",
   "id": "79642689-2068-4064-8d46-c49cfc12682e",
   "metadata": {},
   "source": [
    "### Logarithms\n",
    "\n",
    "![log keys](https://upload.wikimedia.org/wikipedia/commons/thumb/8/88/Logarithm_keys.jpg/320px-Logarithm_keys.jpg)\n",
    "\n",
    "[Attribution](https://commons.wikimedia.org/wiki/File:Logarithm_keys.jpg)\n",
    "\n",
    "In this chapter we're focusing on a function key present on any scientific calculator, which, as a rule of thumb, makes it topical in high school math courses.  The \"log\" key is the key in question.  In Python, you could say it's opposite (or inverse) is the \"pow\" key (not that Python has keys, but it has functions)."
   ]
  },
  {
   "cell_type": "code",
   "execution_count": 42,
   "id": "2e943ee9-c374-43f4-8484-a0f8fe8a3bcb",
   "metadata": {},
   "outputs": [],
   "source": [
    "from math import log"
   ]
  },
  {
   "cell_type": "code",
   "execution_count": 44,
   "id": "4150d8c6-7e51-4274-a5fe-3507ad63637d",
   "metadata": {},
   "outputs": [
    {
     "data": {
      "text/plain": [
       "1.1073093649624544"
      ]
     },
     "execution_count": 44,
     "metadata": {},
     "output_type": "execute_result"
    }
   ],
   "source": [
    "b = 8        # base (change base)\n",
    "target = 10  # raise b to what power to get target? (change target)\n",
    "\n",
    "a = log(target, b)  # in the old days, look it up in a big table \n",
    "a"
   ]
  },
  {
   "cell_type": "code",
   "execution_count": 46,
   "id": "1b75b918-8507-44f6-ac81-9bd2d6392c46",
   "metadata": {},
   "outputs": [
    {
     "data": {
      "text/plain": [
       "10.000000000000005"
      ]
     },
     "execution_count": 46,
     "metadata": {},
     "output_type": "execute_result"
    }
   ],
   "source": [
    "checking = pow(b, a)    # show that we hit the target (pretty close anyway) \n",
    "checking"
   ]
  },
  {
   "cell_type": "markdown",
   "id": "843d5503-4dc0-4d93-9e67-b55670e22005",
   "metadata": {},
   "source": [
    "However we're also talking about: \n",
    "\n",
    "* your ability to embed standard math notations in Jupyter Markdown cells, by means of $\\LaTeX$, a way of encoding typography, and ultimately, entire books.\n",
    "\n",
    "* your ability to plot a function, as you might on a graphing calculator, starting with data"
   ]
  },
  {
   "cell_type": "markdown",
   "id": "f7f7425a-7d59-420c-b3cc-0ec249bc466a",
   "metadata": {},
   "source": [
    "The the idea of getting the logarithm of a number is the inverse of raising a number to a power.\n",
    "\n",
    "Ask yourself:  \"what number would I have to raise a number **b** to, to get another number **N**?\"  That first number, **b** is your base, and with that you want to find the \"log\" (to that base) of your target number **N**.\n",
    "\n",
    "$$\n",
    "\\log_{b}(N)\n",
    "$$\n",
    "\n",
    "For example, I would have to raise 10 to the 2nd power to get 100.  That means the base 10 log of 100 is 2.\n",
    "\n",
    "$$\n",
    "\\log_{10}(100) = 2\n",
    "$$\n",
    "\n",
    "To what power would I need to raise the number 2 to get 10?  That's the same as asking \"what is the base 2 log of 10?\""
   ]
  },
  {
   "cell_type": "code",
   "execution_count": 31,
   "id": "9d895b90-e65e-4ac0-b53f-0ce38526066e",
   "metadata": {},
   "outputs": [
    {
     "data": {
      "text/plain": [
       "32"
      ]
     },
     "execution_count": 31,
     "metadata": {},
     "output_type": "execute_result"
    }
   ],
   "source": [
    "pow(2, 5)  ## too low"
   ]
  },
  {
   "cell_type": "code",
   "execution_count": 32,
   "id": "d9b9165a-71cb-46cf-9bc5-8c7989002456",
   "metadata": {},
   "outputs": [
    {
     "data": {
      "text/plain": [
       "128"
      ]
     },
     "execution_count": 32,
     "metadata": {},
     "output_type": "execute_result"
    }
   ],
   "source": [
    "pow(2, 7)  ## too high, but closer"
   ]
  },
  {
   "cell_type": "code",
   "execution_count": 35,
   "id": "fee59090-4c81-4c6a-9470-cd90b3a9838b",
   "metadata": {},
   "outputs": [
    {
     "data": {
      "text/plain": [
       "103.96830673359815"
      ]
     },
     "execution_count": 35,
     "metadata": {},
     "output_type": "execute_result"
    }
   ],
   "source": [
    "pow(2, 6.7)  # very close"
   ]
  },
  {
   "cell_type": "markdown",
   "id": "abe27d9b-1208-414e-be80-cb16be53f94b",
   "metadata": {},
   "source": [
    "Lets use Python to find a more precise answer:"
   ]
  },
  {
   "cell_type": "code",
   "execution_count": 47,
   "id": "aa6beb9e-e8b4-414b-9b26-5a18ea03df77",
   "metadata": {},
   "outputs": [],
   "source": [
    "from math import log"
   ]
  },
  {
   "cell_type": "code",
   "execution_count": 48,
   "id": "e7372d0a-f6cd-45b9-afca-2b9e2f2c959e",
   "metadata": {},
   "outputs": [
    {
     "data": {
      "text/plain": [
       "\u001b[0;31mDocstring:\u001b[0m\n",
       "log(x, [base=math.e])\n",
       "Return the logarithm of x to the given base.\n",
       "\n",
       "If the base not specified, returns the natural logarithm (base e) of x.\n",
       "\u001b[0;31mType:\u001b[0m      builtin_function_or_method\n"
      ]
     },
     "metadata": {},
     "output_type": "display_data"
    }
   ],
   "source": [
    "? log"
   ]
  },
  {
   "cell_type": "code",
   "execution_count": 37,
   "id": "db0b4f78-34d2-4a05-9511-336e77237fd6",
   "metadata": {},
   "outputs": [
    {
     "data": {
      "text/plain": [
       "6.643856189774725"
      ]
     },
     "execution_count": 37,
     "metadata": {},
     "output_type": "execute_result"
    }
   ],
   "source": [
    "log(100, 2)"
   ]
  },
  {
   "cell_type": "markdown",
   "id": "29784f37-89eb-46d2-8fcf-e33c8f7a1b92",
   "metadata": {},
   "source": [
    "That's it!\n",
    "\n",
    "$$\n",
    "\\log_{2}(100) \\approx 6.643856189774725\n",
    "$$"
   ]
  },
  {
   "cell_type": "code",
   "execution_count": 39,
   "id": "dc983574-27fd-4219-92c3-d0e44d269de9",
   "metadata": {},
   "outputs": [
    {
     "data": {
      "text/plain": [
       "100.00000000000004"
      ]
     },
     "execution_count": 39,
     "metadata": {},
     "output_type": "execute_result"
    }
   ],
   "source": [
    "2 ** 6.643856189774725  # same as pow(2, 6.643856189774725)"
   ]
  },
  {
   "cell_type": "code",
   "execution_count": 38,
   "id": "209aa855-2099-4109-8693-3f78d95c499f",
   "metadata": {},
   "outputs": [
    {
     "data": {
      "text/plain": [
       "2.0"
      ]
     },
     "execution_count": 38,
     "metadata": {},
     "output_type": "execute_result"
    }
   ],
   "source": [
    "log(100, 10)"
   ]
  },
  {
   "cell_type": "markdown",
   "id": "8c1d9d6c-451a-465d-87ea-14f53a353884",
   "metadata": {},
   "source": [
    "Back in the days before electronic calculators, engineers used slide rules.  You could multiply two large numbers by adding their logarithms.\n",
    "\n",
    "<a data-flickr-embed=\"true\" href=\"https://www.flickr.com/photos/51764518@N02/41646298500/in/pool-55459290@N00/\" title=\"Vintage Aristo Darmstadt Slide Rule, Model 867U, Transparent Linear Scale, Back Advertising - Gildemeister &amp; Company, 6-Inch, Made In Hamburg Germany, Circa 1960s\"><img src=\"https://live.staticflickr.com/838/41646298500_2a359d5fcc.jpg\" width=\"500\" height=\"281\" alt=\"Vintage Aristo Darmstadt Slide Rule, Model 867U, Transparent Linear Scale, Back Advertising - Gildemeister &amp; Company, 6-Inch, Made In Hamburg Germany, Circa 1960s\"></a><script async src=\"//embedr.flickr.com/assets/client-code.js\" charset=\"utf-8\"></script>\n",
    "[Attribution](https://flic.kr/p/26s9aBj)\n",
    "\n",
    "For example, suppose I wanted to multiply 185 by 987.  The slide rule showed numbers as powers of some base."
   ]
  },
  {
   "cell_type": "code",
   "execution_count": 24,
   "id": "adb604b6-8851-4376-aa87-b978009fc623",
   "metadata": {},
   "outputs": [],
   "source": [
    "import math\n",
    "from math import log10  # Python as a special function for base 10"
   ]
  },
  {
   "cell_type": "markdown",
   "id": "34e5917c-c944-4b72-ae95-a9014a97ffe8",
   "metadata": {},
   "source": [
    "What power of 10 gives me 185?  \n",
    "\n",
    "`10**2` means 10 times 10 in Python and equals 100.  \n",
    "\n",
    "`10**3` means 10 times 10 times 10 and equals 1000.  \n",
    "\n",
    "However we're allowed to have fractional exponents, so an exponent of 10 just a tad more than 2 should do it."
   ]
  },
  {
   "cell_type": "code",
   "execution_count": 16,
   "id": "5918b935-c11c-4abc-8b87-e3c282b63b51",
   "metadata": {},
   "outputs": [
    {
     "data": {
      "text/plain": [
       "2.2671717284030137"
      ]
     },
     "execution_count": 16,
     "metadata": {},
     "output_type": "execute_result"
    }
   ],
   "source": [
    "log10(185)"
   ]
  },
  {
   "cell_type": "markdown",
   "id": "f7b788e6-1b1c-4f54-92c7-f527f5773af5",
   "metadata": {},
   "source": [
    "Likewise 987 is close to 1000, so an exponent of almost 3 is not that surprising.  The log10 function figures out a precise answer."
   ]
  },
  {
   "cell_type": "code",
   "execution_count": 17,
   "id": "9f6e259a-f2b5-467e-bb2d-79af9e25f83d",
   "metadata": {},
   "outputs": [
    {
     "data": {
      "text/plain": [
       "2.9943171526696366"
      ]
     },
     "execution_count": 17,
     "metadata": {},
     "output_type": "execute_result"
    }
   ],
   "source": [
    "log10(987)"
   ]
  },
  {
   "cell_type": "markdown",
   "id": "281585d2-2c45-4e89-b293-09a8e927f483",
   "metadata": {},
   "source": [
    "Now we add these two exponents..."
   ]
  },
  {
   "cell_type": "code",
   "execution_count": 18,
   "id": "b8dc5ac9-9398-4c20-a757-7fedd251369e",
   "metadata": {},
   "outputs": [
    {
     "data": {
      "text/plain": [
       "5.26148888107265"
      ]
     },
     "execution_count": 18,
     "metadata": {},
     "output_type": "execute_result"
    }
   ],
   "source": [
    "log10(185) + log10(987)"
   ]
  },
  {
   "cell_type": "markdown",
   "id": "06c34371-7127-4f2d-abb2-2a4a82c4aa35",
   "metadata": {},
   "source": [
    "... and now raise 10 to that power, to get our final answer.\n",
    "\n",
    "On a slide rule, we could read these values (to fewer decimal places) off the sliding sticks.  \n",
    "\n",
    "We had the results of a multiplication, but thanks to logs, we got there by addition.  Someone good with a slide rule could get precise enough answers quite quickly."
   ]
  },
  {
   "cell_type": "code",
   "execution_count": 25,
   "id": "cdedf774-e229-4879-a4f1-77e3556e6169",
   "metadata": {},
   "outputs": [
    {
     "data": {
      "text/plain": [
       "182594.9999999999"
      ]
     },
     "execution_count": 25,
     "metadata": {},
     "output_type": "execute_result"
    }
   ],
   "source": [
    "log_sum = log10(185) + log10(987)\n",
    "pow(10, log_sum)"
   ]
  },
  {
   "cell_type": "code",
   "execution_count": 40,
   "id": "fb1eb2b7-2d61-4c74-a558-9ba7b68842d3",
   "metadata": {},
   "outputs": [
    {
     "data": {
      "text/plain": [
       "182595"
      ]
     },
     "execution_count": 40,
     "metadata": {},
     "output_type": "execute_result"
    }
   ],
   "source": [
    "185 * 987  # checking"
   ]
  },
  {
   "cell_type": "markdown",
   "id": "6777e475-2598-4025-b226-26ce4575d1c4",
   "metadata": {},
   "source": [
    "In general:  `a * b == pow(10, log10(a) + log10(b))`\n",
    "\n",
    "or, using our friend $\\LaTeX$, the typesetting language understood by Jupyter:\n",
    "\n",
    "$$\n",
    "(A)(B) = b^{\\log_b(A) + \\log_{b}(B)}\n",
    "$$ \n",
    "\n",
    "Except with floating point numbers, precise equality is not assured.  The math module has an `isclose` we can use, which means \"almost equal\""
   ]
  },
  {
   "cell_type": "code",
   "execution_count": 41,
   "id": "26f115a2-373c-4718-8f3d-a2fbc54b9896",
   "metadata": {},
   "outputs": [
    {
     "data": {
      "text/plain": [
       "\u001b[0;31mSignature:\u001b[0m \u001b[0mmath\u001b[0m\u001b[0;34m.\u001b[0m\u001b[0misclose\u001b[0m\u001b[0;34m(\u001b[0m\u001b[0ma\u001b[0m\u001b[0;34m,\u001b[0m \u001b[0mb\u001b[0m\u001b[0;34m,\u001b[0m \u001b[0;34m*\u001b[0m\u001b[0;34m,\u001b[0m \u001b[0mrel_tol\u001b[0m\u001b[0;34m=\u001b[0m\u001b[0;36m1e-09\u001b[0m\u001b[0;34m,\u001b[0m \u001b[0mabs_tol\u001b[0m\u001b[0;34m=\u001b[0m\u001b[0;36m0.0\u001b[0m\u001b[0;34m)\u001b[0m\u001b[0;34m\u001b[0m\u001b[0;34m\u001b[0m\u001b[0m\n",
       "\u001b[0;31mDocstring:\u001b[0m\n",
       "Determine whether two floating point numbers are close in value.\n",
       "\n",
       "  rel_tol\n",
       "    maximum difference for being considered \"close\", relative to the\n",
       "    magnitude of the input values\n",
       "  abs_tol\n",
       "    maximum difference for being considered \"close\", regardless of the\n",
       "    magnitude of the input values\n",
       "\n",
       "Return True if a is close in value to b, and False otherwise.\n",
       "\n",
       "For the values to be considered close, the difference between them\n",
       "must be smaller than at least one of the tolerances.\n",
       "\n",
       "-inf, inf and NaN behave similarly to the IEEE 754 Standard.  That\n",
       "is, NaN is not close to anything, even itself.  inf and -inf are\n",
       "only close to themselves.\n",
       "\u001b[0;31mType:\u001b[0m      builtin_function_or_method\n"
      ]
     },
     "metadata": {},
     "output_type": "display_data"
    }
   ],
   "source": [
    "? math.isclose"
   ]
  },
  {
   "cell_type": "code",
   "execution_count": 27,
   "id": "5386c945-bba5-4fc5-94ba-c24cee6a019a",
   "metadata": {},
   "outputs": [],
   "source": [
    "def test_log(a, b):\n",
    "    return math.isclose(a * b, pow(10, log10(a) + log10(b)))"
   ]
  },
  {
   "cell_type": "code",
   "execution_count": 28,
   "id": "fba13bb2-e3bf-4178-a467-24bf28a18fc1",
   "metadata": {},
   "outputs": [
    {
     "data": {
      "text/plain": [
       "True"
      ]
     },
     "execution_count": 28,
     "metadata": {},
     "output_type": "execute_result"
    }
   ],
   "source": [
    "test_log(185, 987)"
   ]
  },
  {
   "cell_type": "code",
   "execution_count": 30,
   "id": "ceda64ad-ddca-4968-b7bc-dbd520515b76",
   "metadata": {},
   "outputs": [
    {
     "data": {
      "text/plain": [
       "True"
      ]
     },
     "execution_count": 30,
     "metadata": {},
     "output_type": "execute_result"
    }
   ],
   "source": [
    "test_log(17, 8947)"
   ]
  },
  {
   "cell_type": "markdown",
   "id": "ba58d6e8-9fba-4714-b976-999a5859aecb",
   "metadata": {},
   "source": [
    "Before electronic calculators, the \"computers\" (people who computed) would use giant lookup tables, same for trig functions.\n",
    "\n",
    "![log tables](https://upload.wikimedia.org/wikipedia/commons/thumb/2/2e/Abramowitz%26Stegun.page97.agr.jpg/640px-Abramowitz%26Stegun.page97.agr.jpg)\n",
    "\n",
    "[Attribution](https://commons.wikimedia.org/wiki/File:Abramowitz%26Stegun.page97.agr.jpg)"
   ]
  },
  {
   "cell_type": "markdown",
   "id": "ee7a8afb-ff60-4d36-9248-20d2bd4da05a",
   "metadata": {},
   "source": [
    "### Plotting Logarithmic and Exponential Functions\n",
    "\n"
   ]
  },
  {
   "cell_type": "code",
   "execution_count": 69,
   "id": "429c9e90-bb55-4708-8ec9-212a0ddf9d87",
   "metadata": {},
   "outputs": [],
   "source": [
    "import pandas as pd\n",
    "import numpy as np"
   ]
  },
  {
   "cell_type": "code",
   "execution_count": 99,
   "id": "440e0de6-9031-4332-8287-e73dab6e4914",
   "metadata": {},
   "outputs": [],
   "source": [
    "domain = np.linspace(0.1, 1000, 200) # give me 200 points between .1 and a thousand\n",
    "log10_range = np.log10(domain)"
   ]
  },
  {
   "cell_type": "code",
   "execution_count": 100,
   "id": "95e0fdc2-9be7-4bd4-9202-69c7a9760c84",
   "metadata": {},
   "outputs": [
    {
     "data": {
      "text/html": [
       "<div>\n",
       "<style scoped>\n",
       "    .dataframe tbody tr th:only-of-type {\n",
       "        vertical-align: middle;\n",
       "    }\n",
       "\n",
       "    .dataframe tbody tr th {\n",
       "        vertical-align: top;\n",
       "    }\n",
       "\n",
       "    .dataframe thead th {\n",
       "        text-align: right;\n",
       "    }\n",
       "</style>\n",
       "<table border=\"1\" class=\"dataframe\">\n",
       "  <thead>\n",
       "    <tr style=\"text-align: right;\">\n",
       "      <th></th>\n",
       "      <th>Domain</th>\n",
       "      <th>Log 10</th>\n",
       "    </tr>\n",
       "  </thead>\n",
       "  <tbody>\n",
       "    <tr>\n",
       "      <th>195</th>\n",
       "      <td>979.901508</td>\n",
       "      <td>2.991182</td>\n",
       "    </tr>\n",
       "    <tr>\n",
       "      <th>196</th>\n",
       "      <td>984.926131</td>\n",
       "      <td>2.993404</td>\n",
       "    </tr>\n",
       "    <tr>\n",
       "      <th>197</th>\n",
       "      <td>989.950754</td>\n",
       "      <td>2.995614</td>\n",
       "    </tr>\n",
       "    <tr>\n",
       "      <th>198</th>\n",
       "      <td>994.975377</td>\n",
       "      <td>2.997812</td>\n",
       "    </tr>\n",
       "    <tr>\n",
       "      <th>199</th>\n",
       "      <td>1000.000000</td>\n",
       "      <td>3.000000</td>\n",
       "    </tr>\n",
       "  </tbody>\n",
       "</table>\n",
       "</div>"
      ],
      "text/plain": [
       "          Domain    Log 10\n",
       "195   979.901508  2.991182\n",
       "196   984.926131  2.993404\n",
       "197   989.950754  2.995614\n",
       "198   994.975377  2.997812\n",
       "199  1000.000000  3.000000"
      ]
     },
     "execution_count": 100,
     "metadata": {},
     "output_type": "execute_result"
    }
   ],
   "source": [
    "df1 = pd.DataFrame({\"Domain\": domain, \"Log 10\": log10_range})\n",
    "df1.tail()"
   ]
  },
  {
   "cell_type": "code",
   "execution_count": 101,
   "id": "f00710ab-8f5e-4cc2-99cf-a3593445d439",
   "metadata": {},
   "outputs": [
    {
     "data": {
      "image/png": "[encoded data removed]",
      "text/plain": [
       "<Figure size 432x288 with 1 Axes>"
      ]
     },
     "metadata": {
      "needs_background": "light"
     },
     "output_type": "display_data"
    }
   ],
   "source": [
    "df1.plot(x=\"Domain\", y=\"Log 10\", grid=True);"
   ]
  },
  {
   "cell_type": "code",
   "execution_count": 102,
   "id": "287e351e-57ec-4e2a-97d2-53b2d0d92053",
   "metadata": {},
   "outputs": [],
   "source": [
    "pow_range = np.power(10, log10_range)"
   ]
  },
  {
   "cell_type": "code",
   "execution_count": 103,
   "id": "1189da17-5e72-4e38-b6bd-97ba9443f714",
   "metadata": {},
   "outputs": [
    {
     "data": {
      "text/html": [
       "<div>\n",
       "<style scoped>\n",
       "    .dataframe tbody tr th:only-of-type {\n",
       "        vertical-align: middle;\n",
       "    }\n",
       "\n",
       "    .dataframe tbody tr th {\n",
       "        vertical-align: top;\n",
       "    }\n",
       "\n",
       "    .dataframe thead th {\n",
       "        text-align: right;\n",
       "    }\n",
       "</style>\n",
       "<table border=\"1\" class=\"dataframe\">\n",
       "  <thead>\n",
       "    <tr style=\"text-align: right;\">\n",
       "      <th></th>\n",
       "      <th>Domain</th>\n",
       "      <th>10 ** x</th>\n",
       "    </tr>\n",
       "  </thead>\n",
       "  <tbody>\n",
       "    <tr>\n",
       "      <th>0</th>\n",
       "      <td>-1.000000</td>\n",
       "      <td>0.100000</td>\n",
       "    </tr>\n",
       "    <tr>\n",
       "      <th>1</th>\n",
       "      <td>0.709662</td>\n",
       "      <td>5.124623</td>\n",
       "    </tr>\n",
       "    <tr>\n",
       "      <th>2</th>\n",
       "      <td>1.006434</td>\n",
       "      <td>10.149246</td>\n",
       "    </tr>\n",
       "    <tr>\n",
       "      <th>3</th>\n",
       "      <td>1.181096</td>\n",
       "      <td>15.173869</td>\n",
       "    </tr>\n",
       "    <tr>\n",
       "      <th>4</th>\n",
       "      <td>1.305319</td>\n",
       "      <td>20.198492</td>\n",
       "    </tr>\n",
       "  </tbody>\n",
       "</table>\n",
       "</div>"
      ],
      "text/plain": [
       "     Domain    10 ** x\n",
       "0 -1.000000   0.100000\n",
       "1  0.709662   5.124623\n",
       "2  1.006434  10.149246\n",
       "3  1.181096  15.173869\n",
       "4  1.305319  20.198492"
      ]
     },
     "execution_count": 103,
     "metadata": {},
     "output_type": "execute_result"
    }
   ],
   "source": [
    "df2 = pd.DataFrame({\"Domain\": log10_range, \"10 ** x\": pow_range})\n",
    "df2.head()"
   ]
  },
  {
   "cell_type": "code",
   "execution_count": 104,
   "id": "85340863-46b8-4525-ba83-fc512de3d004",
   "metadata": {},
   "outputs": [
    {
     "data": {
      "image/png": "[encoded data removed]",
      "text/plain": [
       "<Figure size 432x288 with 1 Axes>"
      ]
     },
     "metadata": {
      "needs_background": "light"
     },
     "output_type": "display_data"
    }
   ],
   "source": [
    "df2.plot(x=\"Domain\", y=\"10 ** x\", grid=True);"
   ]
  },
  {
   "cell_type": "markdown",
   "id": "57806b93-3f71-4579-8ece-f1190bc0764e",
   "metadata": {},
   "source": [
    "Getting a little fancier, we can put two plots into one figure, by means of subplots.  \n",
    "\n",
    "To do this, we need to import another library that pandas has been using all along.  Now we would like to gain more control of the nitty gritty details, so we import it and talk to it directly.  About our subplots."
   ]
  },
  {
   "cell_type": "code",
   "execution_count": 119,
   "id": "4bf77f49-bb40-4962-9513-4b0057e5b502",
   "metadata": {},
   "outputs": [
    {
     "data": {
      "image/png": "[encoded data removed]",
      "text/plain": [
       "<Figure size 432x288 with 2 Axes>"
      ]
     },
     "metadata": {
      "needs_background": "light"
     },
     "output_type": "display_data"
    }
   ],
   "source": [
    "import matplotlib.pyplot as plt\n",
    "\n",
    "# makes two subplots, each with its own axis object in axes\n",
    "fig, axes = plt.subplots(nrows=2, ncols=1, sharey=False, sharex=False)\n",
    "\n",
    "axes[0].set_ylim(-2, 4) # set the vertical limits on the first axis object\n",
    "\n",
    "# df1, df2 are pandas DataFrames, which will plot on their own, but\n",
    "# here we direct them to use the axis objects associated with each \n",
    "# subplot\n",
    "\n",
    "df1.plot(x=\"Domain\", y=\"Log 10\",   ax=axes[0])\n",
    "df2.plot(x=\"Domain\", y=\"10 ** x\",  ax=axes[1]);"
   ]
  },
  {
   "cell_type": "code",
   "execution_count": null,
   "id": "08291fad-60e0-4d27-a62a-8f5d41b7d446",
   "metadata": {},
   "outputs": [],
   "source": []
  }
 ],
 "metadata": {
  "kernelspec": {
   "display_name": "Python 3 (ipykernel)",
   "language": "python",
   "name": "python3"
  },
  "language_info": {
   "codemirror_mode": {
    "name": "ipython",
    "version": 3
   },
   "file_extension": ".py",
   "mimetype": "text/x-python",
   "name": "python",
   "nbconvert_exporter": "python",
   "pygments_lexer": "ipython3",
   "version": "3.9.12"
  }
 },
 "nbformat": 4,
 "nbformat_minor": 5
}
