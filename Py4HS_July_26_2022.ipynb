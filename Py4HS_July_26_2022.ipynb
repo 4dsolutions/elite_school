{
 "cells": [
  {
   "cell_type": "markdown",
   "id": "468e25aa-24a4-4eaf-b4e0-c47792f38b1c",
   "metadata": {
    "tags": []
   },
   "source": [
    "##### Python for High School (Summer 2022)\n",
    "\n",
    "* [Table of Contents](PY4HS.ipynb)\n",
    "* <a href=\"https://colab.research.google.com/github/4dsolutions/elite_school/blob/master/Py4HS_July_26_2022.ipynb\"><img align=\"left\" src=\"https://colab.research.google.com/assets/colab-badge.svg\" alt=\"Open in Colab\" title=\"Open and Execute in Google Colaboratory\"></a>\n",
    "* [![nbviewer](https://raw.githubusercontent.com/jupyter/design/master/logos/Badges/nbviewer_badge.svg)](https://nbviewer.org/github/4dsolutions/elite_school/blob/master/Py4HS_July_26_2022.ipynb)"
   ]
  },
  {
   "cell_type": "markdown",
   "id": "79642689-2068-4064-8d46-c49cfc12682e",
   "metadata": {},
   "source": [
    "### Logarithms\n",
    "\n",
    "![log keys](https://upload.wikimedia.org/wikipedia/commons/thumb/8/88/Logarithm_keys.jpg/320px-Logarithm_keys.jpg)\n",
    "\n",
    "[Attribution](https://commons.wikimedia.org/wiki/File:Logarithm_keys.jpg)\n",
    "\n",
    "In this chapter we're focusing on a function key present on any scientific calculator, which, as a rule of thumb, makes it topical in high school math courses.  The \"log\" key is the key in question.  In Python, you could say it's opposite (or inverse) is the \"pow\" key (not that Python has keys, but it has functions)."
   ]
  },
  {
   "cell_type": "code",
   "execution_count": 1,
   "id": "2e943ee9-c374-43f4-8484-a0f8fe8a3bcb",
   "metadata": {},
   "outputs": [],
   "source": [
    "from math import log"
   ]
  },
  {
   "cell_type": "code",
   "execution_count": 2,
   "id": "4150d8c6-7e51-4274-a5fe-3507ad63637d",
   "metadata": {},
   "outputs": [
    {
     "data": {
      "text/plain": [
       "1.1073093649624544"
      ]
     },
     "execution_count": 2,
     "metadata": {},
     "output_type": "execute_result"
    }
   ],
   "source": [
    "b = 8        # base (change base)\n",
    "target = 10  # raise b to what power to get target? (change target)\n",
    "\n",
    "a = log(target, b)  # in the old days, look it up in a big table \n",
    "a"
   ]
  },
  {
   "cell_type": "code",
   "execution_count": 3,
   "id": "1b75b918-8507-44f6-ac81-9bd2d6392c46",
   "metadata": {},
   "outputs": [
    {
     "data": {
      "text/plain": [
       "10.000000000000005"
      ]
     },
     "execution_count": 3,
     "metadata": {},
     "output_type": "execute_result"
    }
   ],
   "source": [
    "checking = pow(b, a)    # show that we hit the target (pretty close anyway) \n",
    "checking"
   ]
  },
  {
   "cell_type": "markdown",
   "id": "843d5503-4dc0-4d93-9e67-b55670e22005",
   "metadata": {},
   "source": [
    "However we're also talking about: \n",
    "\n",
    "* your ability to embed standard math notations in Jupyter Markdown cells, by means of $\\LaTeX$, a way of encoding typography, and ultimately, entire books.\n",
    "\n",
    "* your ability to plot a function, as you might on a graphing calculator, starting with data"
   ]
  },
  {
   "cell_type": "markdown",
   "id": "f7f7425a-7d59-420c-b3cc-0ec249bc466a",
   "metadata": {},
   "source": [
    "The the idea of getting the logarithm of a number is the inverse of raising a number to a power.\n",
    "\n",
    "Ask yourself:  \"what number would I have to raise a number **b** to, to get another number **N**?\"  That first number, **b** is your base, and with that you want to find the \"log\" (to that base) of your target number **N**.\n",
    "\n",
    "$$\n",
    "\\log_{b}(N)\n",
    "$$\n",
    "\n",
    "For example, I would have to raise 10 to the 2nd power to get 100.  That means the base 10 log of 100 is 2.\n",
    "\n",
    "$$\n",
    "\\log_{10}(100) = 2\n",
    "$$\n",
    "\n",
    "To what power would I need to raise the number 2 to get 10?  That's the same as asking \"what is the base 2 log of 10?\""
   ]
  },
  {
   "cell_type": "code",
   "execution_count": 4,
   "id": "9d895b90-e65e-4ac0-b53f-0ce38526066e",
   "metadata": {},
   "outputs": [
    {
     "data": {
      "text/plain": [
       "32"
      ]
     },
     "execution_count": 4,
     "metadata": {},
     "output_type": "execute_result"
    }
   ],
   "source": [
    "pow(2, 5)  ## too low"
   ]
  },
  {
   "cell_type": "code",
   "execution_count": 5,
   "id": "d9b9165a-71cb-46cf-9bc5-8c7989002456",
   "metadata": {},
   "outputs": [
    {
     "data": {
      "text/plain": [
       "128"
      ]
     },
     "execution_count": 5,
     "metadata": {},
     "output_type": "execute_result"
    }
   ],
   "source": [
    "pow(2, 7)  ## too high, but closer"
   ]
  },
  {
   "cell_type": "code",
   "execution_count": 6,
   "id": "fee59090-4c81-4c6a-9470-cd90b3a9838b",
   "metadata": {},
   "outputs": [
    {
     "data": {
      "text/plain": [
       "103.96830673359815"
      ]
     },
     "execution_count": 6,
     "metadata": {},
     "output_type": "execute_result"
    }
   ],
   "source": [
    "pow(2, 6.7)  # very close"
   ]
  },
  {
   "cell_type": "markdown",
   "id": "abe27d9b-1208-414e-be80-cb16be53f94b",
   "metadata": {},
   "source": [
    "Lets use Python to find a more precise answer:"
   ]
  },
  {
   "cell_type": "code",
   "execution_count": 7,
   "id": "aa6beb9e-e8b4-414b-9b26-5a18ea03df77",
   "metadata": {},
   "outputs": [],
   "source": [
    "from math import log"
   ]
  },
  {
   "cell_type": "code",
   "execution_count": 8,
   "id": "e7372d0a-f6cd-45b9-afca-2b9e2f2c959e",
   "metadata": {},
   "outputs": [
    {
     "data": {
      "text/plain": [
       "\u001b[0;31mDocstring:\u001b[0m\n",
       "log(x, [base=math.e])\n",
       "Return the logarithm of x to the given base.\n",
       "\n",
       "If the base not specified, returns the natural logarithm (base e) of x.\n",
       "\u001b[0;31mType:\u001b[0m      builtin_function_or_method\n"
      ]
     },
     "metadata": {},
     "output_type": "display_data"
    }
   ],
   "source": [
    "? log"
   ]
  },
  {
   "cell_type": "code",
   "execution_count": 9,
   "id": "db0b4f78-34d2-4a05-9511-336e77237fd6",
   "metadata": {},
   "outputs": [
    {
     "data": {
      "text/plain": [
       "6.643856189774725"
      ]
     },
     "execution_count": 9,
     "metadata": {},
     "output_type": "execute_result"
    }
   ],
   "source": [
    "log(100, 2)"
   ]
  },
  {
   "cell_type": "markdown",
   "id": "29784f37-89eb-46d2-8fcf-e33c8f7a1b92",
   "metadata": {},
   "source": [
    "That's it!\n",
    "\n",
    "$$\n",
    "\\log_{2}(100) \\approx 6.643856189774725\n",
    "$$"
   ]
  },
  {
   "cell_type": "code",
   "execution_count": 10,
   "id": "dc983574-27fd-4219-92c3-d0e44d269de9",
   "metadata": {},
   "outputs": [
    {
     "data": {
      "text/plain": [
       "100.00000000000004"
      ]
     },
     "execution_count": 10,
     "metadata": {},
     "output_type": "execute_result"
    }
   ],
   "source": [
    "2 ** 6.643856189774725  # same as pow(2, 6.643856189774725)"
   ]
  },
  {
   "cell_type": "code",
   "execution_count": 11,
   "id": "209aa855-2099-4109-8693-3f78d95c499f",
   "metadata": {},
   "outputs": [
    {
     "data": {
      "text/plain": [
       "2.0"
      ]
     },
     "execution_count": 11,
     "metadata": {},
     "output_type": "execute_result"
    }
   ],
   "source": [
    "log(100, 10)"
   ]
  },
  {
   "cell_type": "markdown",
   "id": "8c1d9d6c-451a-465d-87ea-14f53a353884",
   "metadata": {},
   "source": [
    "Back in the days before electronic calculators, engineers used slide rules.  You could multiply two large numbers by adding their logarithms.\n",
    "\n",
    "<a data-flickr-embed=\"true\" href=\"https://www.flickr.com/photos/51764518@N02/41646298500/in/pool-55459290@N00/\" title=\"Vintage Aristo Darmstadt Slide Rule, Model 867U, Transparent Linear Scale, Back Advertising - Gildemeister &amp; Company, 6-Inch, Made In Hamburg Germany, Circa 1960s\"><img src=\"https://live.staticflickr.com/838/41646298500_2a359d5fcc.jpg\" width=\"500\" height=\"281\" alt=\"Vintage Aristo Darmstadt Slide Rule, Model 867U, Transparent Linear Scale, Back Advertising - Gildemeister &amp; Company, 6-Inch, Made In Hamburg Germany, Circa 1960s\"></a><script async src=\"//embedr.flickr.com/assets/client-code.js\" charset=\"utf-8\"></script>\n",
    "[Attribution](https://flic.kr/p/26s9aBj)\n",
    "\n",
    "For example, suppose I wanted to multiply 185 by 987.  The slide rule showed numbers as powers of some base."
   ]
  },
  {
   "cell_type": "code",
   "execution_count": 12,
   "id": "adb604b6-8851-4376-aa87-b978009fc623",
   "metadata": {},
   "outputs": [],
   "source": [
    "import math\n",
    "from math import log10  # Python as a special function for base 10"
   ]
  },
  {
   "cell_type": "markdown",
   "id": "34e5917c-c944-4b72-ae95-a9014a97ffe8",
   "metadata": {},
   "source": [
    "What power of 10 gives me 185?  \n",
    "\n",
    "`10**2` means 10 times 10 in Python and equals 100.  \n",
    "\n",
    "`10**3` means 10 times 10 times 10 and equals 1000.  \n",
    "\n",
    "However we're allowed to have fractional exponents, so an exponent of 10 just a tad more than 2 should do it."
   ]
  },
  {
   "cell_type": "code",
   "execution_count": 13,
   "id": "5918b935-c11c-4abc-8b87-e3c282b63b51",
   "metadata": {},
   "outputs": [
    {
     "data": {
      "text/plain": [
       "2.2671717284030137"
      ]
     },
     "execution_count": 13,
     "metadata": {},
     "output_type": "execute_result"
    }
   ],
   "source": [
    "log10(185)"
   ]
  },
  {
   "cell_type": "markdown",
   "id": "f7b788e6-1b1c-4f54-92c7-f527f5773af5",
   "metadata": {},
   "source": [
    "Likewise 987 is close to 1000, so an exponent of almost 3 is not that surprising.  The log10 function figures out a precise answer."
   ]
  },
  {
   "cell_type": "code",
   "execution_count": 14,
   "id": "9f6e259a-f2b5-467e-bb2d-79af9e25f83d",
   "metadata": {},
   "outputs": [
    {
     "data": {
      "text/plain": [
       "2.9943171526696366"
      ]
     },
     "execution_count": 14,
     "metadata": {},
     "output_type": "execute_result"
    }
   ],
   "source": [
    "log10(987)"
   ]
  },
  {
   "cell_type": "markdown",
   "id": "281585d2-2c45-4e89-b293-09a8e927f483",
   "metadata": {},
   "source": [
    "Now we add these two exponents..."
   ]
  },
  {
   "cell_type": "code",
   "execution_count": 15,
   "id": "b8dc5ac9-9398-4c20-a757-7fedd251369e",
   "metadata": {},
   "outputs": [
    {
     "data": {
      "text/plain": [
       "5.26148888107265"
      ]
     },
     "execution_count": 15,
     "metadata": {},
     "output_type": "execute_result"
    }
   ],
   "source": [
    "log10(185) + log10(987)"
   ]
  },
  {
   "cell_type": "markdown",
   "id": "06c34371-7127-4f2d-abb2-2a4a82c4aa35",
   "metadata": {},
   "source": [
    "... and now raise 10 to that power, to get our final answer.\n",
    "\n",
    "On a slide rule, we could read these values (to fewer decimal places) off the sliding sticks.  \n",
    "\n",
    "We had the results of a multiplication, but thanks to logs, we got there by addition.  Someone good with a slide rule could get precise enough answers quite quickly."
   ]
  },
  {
   "cell_type": "code",
   "execution_count": 16,
   "id": "cdedf774-e229-4879-a4f1-77e3556e6169",
   "metadata": {},
   "outputs": [
    {
     "data": {
      "text/plain": [
       "182594.9999999999"
      ]
     },
     "execution_count": 16,
     "metadata": {},
     "output_type": "execute_result"
    }
   ],
   "source": [
    "log_sum = log10(185) + log10(987)\n",
    "pow(10, log_sum)"
   ]
  },
  {
   "cell_type": "code",
   "execution_count": 17,
   "id": "fb1eb2b7-2d61-4c74-a558-9ba7b68842d3",
   "metadata": {},
   "outputs": [
    {
     "data": {
      "text/plain": [
       "182595"
      ]
     },
     "execution_count": 17,
     "metadata": {},
     "output_type": "execute_result"
    }
   ],
   "source": [
    "185 * 987  # checking"
   ]
  },
  {
   "cell_type": "markdown",
   "id": "6777e475-2598-4025-b226-26ce4575d1c4",
   "metadata": {},
   "source": [
    "In general:  `a * b == pow(10, log10(a) + log10(b))`\n",
    "\n",
    "or, using our friend $\\LaTeX$, the typesetting language understood by Jupyter:\n",
    "\n",
    "$$\n",
    "(A)(B) = b^{\\log_b(A) + \\log_{b}(B)}\n",
    "$$ \n",
    "\n",
    "Except with floating point numbers, precise equality is not assured.  The math module has an `isclose` we can use, which means \"almost equal\""
   ]
  },
  {
   "cell_type": "code",
   "execution_count": 18,
   "id": "26f115a2-373c-4718-8f3d-a2fbc54b9896",
   "metadata": {},
   "outputs": [
    {
     "data": {
      "text/plain": [
       "\u001b[0;31mSignature:\u001b[0m  \u001b[0mmath\u001b[0m\u001b[0;34m.\u001b[0m\u001b[0misclose\u001b[0m\u001b[0;34m(\u001b[0m\u001b[0ma\u001b[0m\u001b[0;34m,\u001b[0m \u001b[0mb\u001b[0m\u001b[0;34m,\u001b[0m \u001b[0;34m*\u001b[0m\u001b[0;34m,\u001b[0m \u001b[0mrel_tol\u001b[0m\u001b[0;34m=\u001b[0m\u001b[0;36m1e-09\u001b[0m\u001b[0;34m,\u001b[0m \u001b[0mabs_tol\u001b[0m\u001b[0;34m=\u001b[0m\u001b[0;36m0.0\u001b[0m\u001b[0;34m)\u001b[0m\u001b[0;34m\u001b[0m\u001b[0;34m\u001b[0m\u001b[0m\n",
       "\u001b[0;31mDocstring:\u001b[0m\n",
       "Determine whether two floating point numbers are close in value.\n",
       "\n",
       "  rel_tol\n",
       "    maximum difference for being considered \"close\", relative to the\n",
       "    magnitude of the input values\n",
       "  abs_tol\n",
       "    maximum difference for being considered \"close\", regardless of the\n",
       "    magnitude of the input values\n",
       "\n",
       "Return True if a is close in value to b, and False otherwise.\n",
       "\n",
       "For the values to be considered close, the difference between them\n",
       "must be smaller than at least one of the tolerances.\n",
       "\n",
       "-inf, inf and NaN behave similarly to the IEEE 754 Standard.  That\n",
       "is, NaN is not close to anything, even itself.  inf and -inf are\n",
       "only close to themselves.\n",
       "\u001b[0;31mType:\u001b[0m      builtin_function_or_method\n"
      ]
     },
     "metadata": {},
     "output_type": "display_data"
    }
   ],
   "source": [
    "? math.isclose"
   ]
  },
  {
   "cell_type": "code",
   "execution_count": 19,
   "id": "5386c945-bba5-4fc5-94ba-c24cee6a019a",
   "metadata": {},
   "outputs": [],
   "source": [
    "def test_log(a, b):\n",
    "    return math.isclose(a * b, pow(10, log10(a) + log10(b)))"
   ]
  },
  {
   "cell_type": "code",
   "execution_count": 20,
   "id": "fba13bb2-e3bf-4178-a467-24bf28a18fc1",
   "metadata": {},
   "outputs": [
    {
     "data": {
      "text/plain": [
       "True"
      ]
     },
     "execution_count": 20,
     "metadata": {},
     "output_type": "execute_result"
    }
   ],
   "source": [
    "test_log(185, 987)"
   ]
  },
  {
   "cell_type": "code",
   "execution_count": 21,
   "id": "ceda64ad-ddca-4968-b7bc-dbd520515b76",
   "metadata": {},
   "outputs": [
    {
     "data": {
      "text/plain": [
       "True"
      ]
     },
     "execution_count": 21,
     "metadata": {},
     "output_type": "execute_result"
    }
   ],
   "source": [
    "test_log(17, 8947)"
   ]
  },
  {
   "cell_type": "markdown",
   "id": "ba58d6e8-9fba-4714-b976-999a5859aecb",
   "metadata": {},
   "source": [
    "Before electronic calculators, the \"computers\" (people who computed) would use giant lookup tables, same for trig functions.\n",
    "\n",
    "![log tables](https://upload.wikimedia.org/wikipedia/commons/thumb/2/2e/Abramowitz%26Stegun.page97.agr.jpg/640px-Abramowitz%26Stegun.page97.agr.jpg)\n",
    "\n",
    "[Attribution](https://commons.wikimedia.org/wiki/File:Abramowitz%26Stegun.page97.agr.jpg)"
   ]
  },
  {
   "cell_type": "markdown",
   "id": "ee7a8afb-ff60-4d36-9248-20d2bd4da05a",
   "metadata": {},
   "source": [
    "### Plotting Logarithmic and Exponential Functions\n",
    "\n"
   ]
  },
  {
   "cell_type": "code",
   "execution_count": 22,
   "id": "429c9e90-bb55-4708-8ec9-212a0ddf9d87",
   "metadata": {},
   "outputs": [],
   "source": [
    "import pandas as pd\n",
    "import numpy as np"
   ]
  },
  {
   "cell_type": "code",
   "execution_count": 23,
   "id": "440e0de6-9031-4332-8287-e73dab6e4914",
   "metadata": {},
   "outputs": [],
   "source": [
    "domain = np.linspace(0.1, 1000, 200) # give me 200 points between .1 and a thousand\n",
    "log10_range = np.log10(domain)"
   ]
  },
  {
   "cell_type": "code",
   "execution_count": 24,
   "id": "95e0fdc2-9be7-4bd4-9202-69c7a9760c84",
   "metadata": {},
   "outputs": [
    {
     "data": {
      "text/html": [
       "<div>\n",
       "<style scoped>\n",
       "    .dataframe tbody tr th:only-of-type {\n",
       "        vertical-align: middle;\n",
       "    }\n",
       "\n",
       "    .dataframe tbody tr th {\n",
       "        vertical-align: top;\n",
       "    }\n",
       "\n",
       "    .dataframe thead th {\n",
       "        text-align: right;\n",
       "    }\n",
       "</style>\n",
       "<table border=\"1\" class=\"dataframe\">\n",
       "  <thead>\n",
       "    <tr style=\"text-align: right;\">\n",
       "      <th></th>\n",
       "      <th>Domain</th>\n",
       "      <th>Log 10</th>\n",
       "    </tr>\n",
       "  </thead>\n",
       "  <tbody>\n",
       "    <tr>\n",
       "      <th>195</th>\n",
       "      <td>979.901508</td>\n",
       "      <td>2.991182</td>\n",
       "    </tr>\n",
       "    <tr>\n",
       "      <th>196</th>\n",
       "      <td>984.926131</td>\n",
       "      <td>2.993404</td>\n",
       "    </tr>\n",
       "    <tr>\n",
       "      <th>197</th>\n",
       "      <td>989.950754</td>\n",
       "      <td>2.995614</td>\n",
       "    </tr>\n",
       "    <tr>\n",
       "      <th>198</th>\n",
       "      <td>994.975377</td>\n",
       "      <td>2.997812</td>\n",
       "    </tr>\n",
       "    <tr>\n",
       "      <th>199</th>\n",
       "      <td>1000.000000</td>\n",
       "      <td>3.000000</td>\n",
       "    </tr>\n",
       "  </tbody>\n",
       "</table>\n",
       "</div>"
      ],
      "text/plain": [
       "          Domain    Log 10\n",
       "195   979.901508  2.991182\n",
       "196   984.926131  2.993404\n",
       "197   989.950754  2.995614\n",
       "198   994.975377  2.997812\n",
       "199  1000.000000  3.000000"
      ]
     },
     "execution_count": 24,
     "metadata": {},
     "output_type": "execute_result"
    }
   ],
   "source": [
    "df1 = pd.DataFrame({\"Domain\": domain, \"Log 10\": log10_range})\n",
    "df1.tail()"
   ]
  },
  {
   "cell_type": "code",
   "execution_count": 25,
   "id": "f00710ab-8f5e-4cc2-99cf-a3593445d439",
   "metadata": {},
   "outputs": [
    {
     "data": {
      "image/png": "[encoded data removed]",
      "text/plain": [
       "<Figure size 432x288 with 1 Axes>"
      ]
     },
     "metadata": {
      "needs_background": "light"
     },
     "output_type": "display_data"
    }
   ],
   "source": [
    "df1.plot(x=\"Domain\", y=\"Log 10\", grid=True, lw=4);"
   ]
  },
  {
   "cell_type": "code",
   "execution_count": 26,
   "id": "287e351e-57ec-4e2a-97d2-53b2d0d92053",
   "metadata": {},
   "outputs": [],
   "source": [
    "pow_range = np.power(10, log10_range)"
   ]
  },
  {
   "cell_type": "code",
   "execution_count": 27,
   "id": "1189da17-5e72-4e38-b6bd-97ba9443f714",
   "metadata": {},
   "outputs": [
    {
     "data": {
      "text/html": [
       "<div>\n",
       "<style scoped>\n",
       "    .dataframe tbody tr th:only-of-type {\n",
       "        vertical-align: middle;\n",
       "    }\n",
       "\n",
       "    .dataframe tbody tr th {\n",
       "        vertical-align: top;\n",
       "    }\n",
       "\n",
       "    .dataframe thead th {\n",
       "        text-align: right;\n",
       "    }\n",
       "</style>\n",
       "<table border=\"1\" class=\"dataframe\">\n",
       "  <thead>\n",
       "    <tr style=\"text-align: right;\">\n",
       "      <th></th>\n",
       "      <th>Domain</th>\n",
       "      <th>10 ** x</th>\n",
       "    </tr>\n",
       "  </thead>\n",
       "  <tbody>\n",
       "    <tr>\n",
       "      <th>0</th>\n",
       "      <td>-1.000000</td>\n",
       "      <td>0.100000</td>\n",
       "    </tr>\n",
       "    <tr>\n",
       "      <th>1</th>\n",
       "      <td>0.709662</td>\n",
       "      <td>5.124623</td>\n",
       "    </tr>\n",
       "    <tr>\n",
       "      <th>2</th>\n",
       "      <td>1.006434</td>\n",
       "      <td>10.149246</td>\n",
       "    </tr>\n",
       "    <tr>\n",
       "      <th>3</th>\n",
       "      <td>1.181096</td>\n",
       "      <td>15.173869</td>\n",
       "    </tr>\n",
       "    <tr>\n",
       "      <th>4</th>\n",
       "      <td>1.305319</td>\n",
       "      <td>20.198492</td>\n",
       "    </tr>\n",
       "  </tbody>\n",
       "</table>\n",
       "</div>"
      ],
      "text/plain": [
       "     Domain    10 ** x\n",
       "0 -1.000000   0.100000\n",
       "1  0.709662   5.124623\n",
       "2  1.006434  10.149246\n",
       "3  1.181096  15.173869\n",
       "4  1.305319  20.198492"
      ]
     },
     "execution_count": 27,
     "metadata": {},
     "output_type": "execute_result"
    }
   ],
   "source": [
    "df2 = pd.DataFrame({\"Domain\": log10_range, \"10 ** x\": pow_range})\n",
    "df2.head()"
   ]
  },
  {
   "cell_type": "code",
   "execution_count": 28,
   "id": "85340863-46b8-4525-ba83-fc512de3d004",
   "metadata": {},
   "outputs": [
    {
     "data": {
      "image/png": "[encoded data removed]",
      "text/plain": [
       "<Figure size 432x288 with 1 Axes>"
      ]
     },
     "metadata": {
      "needs_background": "light"
     },
     "output_type": "display_data"
    }
   ],
   "source": [
    "df2.plot(x=\"Domain\", y=\"10 ** x\", grid=True, lw=4);"
   ]
  },
  {
   "cell_type": "markdown",
   "id": "57806b93-3f71-4579-8ece-f1190bc0764e",
   "metadata": {},
   "source": [
    "Getting a little fancier, we can put two plots into one figure, by means of subplots.  \n",
    "\n",
    "To do this, we need to import another library that pandas has been using all along.  Now we would like to gain more control of the nitty gritty details, so we import it and talk to it directly.  About our subplots."
   ]
  },
  {
   "cell_type": "code",
   "execution_count": 29,
   "id": "4bf77f49-bb40-4962-9513-4b0057e5b502",
   "metadata": {},
   "outputs": [
    {
     "data": {
      "image/png": "[encoded data removed]",
      "text/plain": [
       "<Figure size 432x288 with 2 Axes>"
      ]
     },
     "metadata": {
      "needs_background": "light"
     },
     "output_type": "display_data"
    }
   ],
   "source": [
    "import matplotlib.pyplot as plt\n",
    "\n",
    "# makes two subplots, each with its own axis object in axes\n",
    "fig, axes = plt.subplots(nrows=2, ncols=1, sharey=False, sharex=False)\n",
    "\n",
    "axes[0].set_ylim(-2, 4) # set the vertical limits on the first axis object\n",
    "\n",
    "# df1, df2 are pandas DataFrames, which will plot on their own, but\n",
    "# here we direct them to use the axis objects associated with each \n",
    "# subplot\n",
    "\n",
    "df1.plot(x=\"Domain\", y=\"Log 10\",   ax=axes[0], lw=4)\n",
    "df2.plot(x=\"Domain\", y=\"10 ** x\",  ax=axes[1], lw=4);"
   ]
  },
  {
   "cell_type": "markdown",
   "id": "101c2f8a-8edf-411a-bb76-4c30f1e9e4cd",
   "metadata": {},
   "source": [
    "### Natural Logarithms\n",
    "\n",
    "We're not done with the story of logarithms.  Logarithms of many bases have suggested themselves.  We might even use an irrational base."
   ]
  },
  {
   "cell_type": "code",
   "execution_count": 30,
   "id": "0d8a9e4d-053b-4619-b2a1-c9a6f1b2a4bc",
   "metadata": {},
   "outputs": [],
   "source": [
    "from math import log\n",
    "import math"
   ]
  },
  {
   "cell_type": "code",
   "execution_count": 31,
   "id": "7df53500-6556-4705-873a-9341e01405b0",
   "metadata": {},
   "outputs": [
    {
     "data": {
      "text/plain": [
       "3.0"
      ]
     },
     "execution_count": 31,
     "metadata": {},
     "output_type": "execute_result"
    }
   ],
   "source": [
    "log(math.pi ** 3, math.pi)"
   ]
  },
  {
   "cell_type": "markdown",
   "id": "491630bf-1efe-464e-ad65-942d127e8c67",
   "metadata": {},
   "source": [
    "Suprisingly, there is a \"best base\" or at least one that stands out as the most natural.  The number has many interesting properties.  One of them is, the exponential curve for this number has a y coordinate equal to its slope.\n",
    "\n",
    "$$\n",
    "e^{x} \\approx \\frac{e^{x+h} - e^{x}}{h}\n",
    "$$\n",
    "\n",
    "High school topics include some calculus.  Here is one of those times, as we're interested in the slope of a curve at a specific point.  The slope of a curve is \"rise over run\" meaning how much it changes vertically versus how much it (the curve) changes horizontally.  We set our horizontal change to a tiny h (h for horizontal) and see how much wiggling x, wiggles y.\n",
    "\n",
    "What's the change in the y coordinate, per a tiny (to infinitessimal) change in x?\n",
    "\n",
    "As h goes to 0, the result gets more precise:\n",
    "\n",
    "$$\n",
    "\\lim_{h \\to 0} \\frac{e^{x+h} - e^{x}}{h} = e^{x}\n",
    "$$\n"
   ]
  },
  {
   "cell_type": "code",
   "execution_count": 32,
   "id": "4a56ce3b-a72e-43c4-8415-d27264ee087c",
   "metadata": {},
   "outputs": [],
   "source": [
    "def slope_at(x, h=1e-8):\n",
    "    return (math.exp(x+h) - math.exp(x))/h"
   ]
  },
  {
   "cell_type": "code",
   "execution_count": 33,
   "id": "bcaf95d2-b4b7-40b9-ab02-e3caeb148788",
   "metadata": {},
   "outputs": [
    {
     "data": {
      "text/plain": [
       "54.59815000108392"
      ]
     },
     "execution_count": 33,
     "metadata": {},
     "output_type": "execute_result"
    }
   ],
   "source": [
    "slope_at(4)"
   ]
  },
  {
   "cell_type": "code",
   "execution_count": 34,
   "id": "551a0193-2b54-405e-bc5d-45c4d2271b45",
   "metadata": {},
   "outputs": [
    {
     "data": {
      "text/html": [
       "<div>\n",
       "<style scoped>\n",
       "    .dataframe tbody tr th:only-of-type {\n",
       "        vertical-align: middle;\n",
       "    }\n",
       "\n",
       "    .dataframe tbody tr th {\n",
       "        vertical-align: top;\n",
       "    }\n",
       "\n",
       "    .dataframe thead th {\n",
       "        text-align: right;\n",
       "    }\n",
       "</style>\n",
       "<table border=\"1\" class=\"dataframe\">\n",
       "  <thead>\n",
       "    <tr style=\"text-align: right;\">\n",
       "      <th></th>\n",
       "      <th>Domain</th>\n",
       "      <th>e ** x</th>\n",
       "    </tr>\n",
       "  </thead>\n",
       "  <tbody>\n",
       "    <tr>\n",
       "      <th>0</th>\n",
       "      <td>-5.000000</td>\n",
       "      <td>0.006738</td>\n",
       "    </tr>\n",
       "    <tr>\n",
       "      <th>1</th>\n",
       "      <td>-4.747475</td>\n",
       "      <td>0.008674</td>\n",
       "    </tr>\n",
       "    <tr>\n",
       "      <th>2</th>\n",
       "      <td>-4.494949</td>\n",
       "      <td>0.011165</td>\n",
       "    </tr>\n",
       "    <tr>\n",
       "      <th>3</th>\n",
       "      <td>-4.242424</td>\n",
       "      <td>0.014373</td>\n",
       "    </tr>\n",
       "    <tr>\n",
       "      <th>4</th>\n",
       "      <td>-3.989899</td>\n",
       "      <td>0.018502</td>\n",
       "    </tr>\n",
       "  </tbody>\n",
       "</table>\n",
       "</div>"
      ],
      "text/plain": [
       "     Domain    e ** x\n",
       "0 -5.000000  0.006738\n",
       "1 -4.747475  0.008674\n",
       "2 -4.494949  0.011165\n",
       "3 -4.242424  0.014373\n",
       "4 -3.989899  0.018502"
      ]
     },
     "execution_count": 34,
     "metadata": {},
     "output_type": "execute_result"
    }
   ],
   "source": [
    "domain = np.linspace(-5, 20, 100)\n",
    "exp_range = np.exp(domain) # e to these powers\n",
    "df3 = pd.DataFrame({\"Domain\": domain, \"e ** x\": exp_range})\n",
    "df3.head()"
   ]
  },
  {
   "cell_type": "code",
   "execution_count": 35,
   "id": "cb97c37f-88b2-4682-b5ec-e7c6583fa98c",
   "metadata": {},
   "outputs": [
    {
     "data": {
      "image/png": "[encoded data removed]",
      "text/plain": [
       "<Figure size 432x288 with 1 Axes>"
      ]
     },
     "metadata": {
      "needs_background": "light"
     },
     "output_type": "display_data"
    }
   ],
   "source": [
    "df3.plot(x=\"Domain\", y=\"e ** x\", grid=True, lw=4);"
   ]
  },
  {
   "cell_type": "code",
   "execution_count": 36,
   "id": "c0ad05ae-03fd-454b-a263-24596814ddc2",
   "metadata": {},
   "outputs": [
    {
     "data": {
      "text/plain": [
       "0.018315638936061696"
      ]
     },
     "execution_count": 36,
     "metadata": {},
     "output_type": "execute_result"
    }
   ],
   "source": [
    "slope = slope_at(-4)  # close to 0 slope\n",
    "slope"
   ]
  },
  {
   "cell_type": "code",
   "execution_count": 37,
   "id": "40c9ecbf-e3ae-46c4-ba7f-fb92991b13fb",
   "metadata": {},
   "outputs": [
    {
     "data": {
      "text/plain": [
       "0.018315638888734186"
      ]
     },
     "execution_count": 37,
     "metadata": {},
     "output_type": "execute_result"
    }
   ],
   "source": [
    "pow(math.e, -4) # almost the same (off because h > 0)"
   ]
  },
  {
   "cell_type": "code",
   "execution_count": 38,
   "id": "c37f17e1-cb65-499d-bc4e-8821396d5ac8",
   "metadata": {},
   "outputs": [
    {
     "data": {
      "text/plain": [
       "3.206031351510319e-08"
      ]
     },
     "execution_count": 38,
     "metadata": {},
     "output_type": "execute_result"
    }
   ],
   "source": [
    "math.exp(4) - slope_at(4)  # almost the same"
   ]
  },
  {
   "cell_type": "code",
   "execution_count": 40,
   "id": "4bd4ab6e-33b6-4368-a0b2-f0e91f7e6eb6",
   "metadata": {},
   "outputs": [
    {
     "data": {
      "text/plain": [
       "2.7182818218562943"
      ]
     },
     "execution_count": 40,
     "metadata": {},
     "output_type": "execute_result"
    }
   ],
   "source": [
    "slope_at(1) # reveals our base (approximately)"
   ]
  },
  {
   "cell_type": "code",
   "execution_count": 41,
   "id": "d46476b2-b4b3-495d-ab64-9730b5f8ff5f",
   "metadata": {},
   "outputs": [
    {
     "data": {
      "text/plain": [
       "2.718281828459045"
      ]
     },
     "execution_count": 41,
     "metadata": {},
     "output_type": "execute_result"
    }
   ],
   "source": [
    "math.exp(1)"
   ]
  },
  {
   "cell_type": "markdown",
   "id": "6dc30184-03af-4168-b9ef-2e1f92d4bef3",
   "metadata": {},
   "source": [
    "That's the number.  We call it `e`."
   ]
  },
  {
   "cell_type": "code",
   "execution_count": 42,
   "id": "b527c239-0f14-47ed-8bb4-1be236f20508",
   "metadata": {},
   "outputs": [
    {
     "data": {
      "text/plain": [
       "2.718281828459045"
      ]
     },
     "execution_count": 42,
     "metadata": {},
     "output_type": "execute_result"
    }
   ],
   "source": [
    "math.e"
   ]
  },
  {
   "cell_type": "markdown",
   "id": "d9dfed77-10d3-463e-91b3-c90723f55b5e",
   "metadata": {},
   "source": [
    "A log to this base has it's own symbol, LN for Natural Log, although more often it's written in lowercase. $\\ln(x)$\n",
    "\n",
    "In Python, the `log` function we've been using all along, uses base e as its default."
   ]
  },
  {
   "cell_type": "code",
   "execution_count": 43,
   "id": "7ce4adac-3a55-4d44-87c5-5643094cddc7",
   "metadata": {},
   "outputs": [
    {
     "data": {
      "text/plain": [
       "6.907755278982137"
      ]
     },
     "execution_count": 43,
     "metadata": {},
     "output_type": "execute_result"
    }
   ],
   "source": [
    "log(1000)"
   ]
  },
  {
   "cell_type": "code",
   "execution_count": 44,
   "id": "c4b09aaa-105c-4a7e-bf0e-fd3fad07a526",
   "metadata": {},
   "outputs": [
    {
     "data": {
      "text/plain": [
       "6.907755278982137"
      ]
     },
     "execution_count": 44,
     "metadata": {},
     "output_type": "execute_result"
    }
   ],
   "source": [
    "log(1000, math.e)"
   ]
  },
  {
   "cell_type": "markdown",
   "id": "651e7ceb-2b94-46bf-98c4-dbd8e783e0b4",
   "metadata": {},
   "source": [
    "### Exploring e with Sympy\n",
    "\n",
    "If you have sympy installed, then you're equipped to explore the wonderful world of a computer-assisted algebra system (CAS).  Sympy will help you check your concepts, including in calculus."
   ]
  },
  {
   "cell_type": "code",
   "execution_count": 45,
   "id": "60196e4d-7f99-4cc9-b36d-905e06388cfd",
   "metadata": {},
   "outputs": [],
   "source": [
    "import sympy as sym"
   ]
  },
  {
   "cell_type": "code",
   "execution_count": 46,
   "id": "cf5067ca-f7a8-4ed6-9362-b70559ec398f",
   "metadata": {},
   "outputs": [
    {
     "data": {
      "text/latex": [
       "$\\displaystyle e$"
      ],
      "text/plain": [
       "E"
      ]
     },
     "execution_count": 46,
     "metadata": {},
     "output_type": "execute_result"
    }
   ],
   "source": [
    "sym.exp(1)"
   ]
  },
  {
   "cell_type": "code",
   "execution_count": 47,
   "id": "a0897af7-9751-4d95-8473-b2700cbbd55f",
   "metadata": {},
   "outputs": [
    {
     "name": "stdout",
     "output_type": "stream",
     "text": [
      "2.718281828459045235360287471352662497757247093699959574966967627724076630353547594571382178525166427\n"
     ]
    }
   ],
   "source": [
    "print(sym.exp(1).evalf(100))"
   ]
  },
  {
   "cell_type": "markdown",
   "id": "4a127998-7600-4714-8023-08a6ddbfe25c",
   "metadata": {},
   "source": [
    "Here we're differentiating, meaning asking for a function that will give the rate at which $e^{x}$ is changing (the \"slope\") at any x.  \n",
    "\n",
    "As we have seen, this function is $e^{x}$ itself."
   ]
  },
  {
   "cell_type": "code",
   "execution_count": 48,
   "id": "148b576a-9ab3-4487-a323-9e8bb2925616",
   "metadata": {},
   "outputs": [
    {
     "data": {
      "text/latex": [
       "$\\displaystyle e^{x}$"
      ],
      "text/plain": [
       "exp(x)"
      ]
     },
     "execution_count": 48,
     "metadata": {},
     "output_type": "execute_result"
    }
   ],
   "source": [
    "x = sym.Symbol('x')\n",
    "sym.diff(sym.exp(x))"
   ]
  },
  {
   "cell_type": "markdown",
   "id": "f3116399-e5bf-4a9b-ba9d-5ab4c44bc790",
   "metadata": {},
   "source": [
    "The way we write that in calculus is:\n",
    "\n",
    "$$\n",
    "\\dfrac{d e^{x}}{dx}  = e^{x} \n",
    "$$"
   ]
  },
  {
   "cell_type": "markdown",
   "id": "5f2b6e3d-48f2-48c2-9d4e-1a4b32d8d248",
   "metadata": {},
   "source": [
    "Here's a means for approaching e to whatever degree of precision you wish."
   ]
  },
  {
   "cell_type": "code",
   "execution_count": 49,
   "id": "008254d5-e164-463e-9649-1f6a5fbd02da",
   "metadata": {},
   "outputs": [
    {
     "data": {
      "text/latex": [
       "$\\displaystyle \\left(1 + \\frac{1}{n}\\right)^{n}$"
      ],
      "text/plain": [
       "(1 + 1/n)**n"
      ]
     },
     "execution_count": 49,
     "metadata": {},
     "output_type": "execute_result"
    }
   ],
   "source": [
    "n = sym.Symbol('n')\n",
    "expr = (1 + 1/n)**n\n",
    "expr"
   ]
  },
  {
   "cell_type": "markdown",
   "id": "5d4fbe24-8a01-46d1-8ea8-babd07fa990d",
   "metadata": {},
   "source": [
    "What happens as n grows larger and larger?  \n",
    "\n",
    "The exponent tends to make the number bigger, since it's greater than 1.  But 1/n gets smaller, meaning the number being raised to the nth power is getting ever closer to exactly 1.\n",
    "\n",
    "The tension between these two tendencies, to blow up because of exponentiation vs to settle on 1 because of the vanishing difference from 1, actually resolves to a specific number, the number e.\n",
    "\n",
    "$$\n",
    "\\lim_{n \\to \\infty} (1 + 1/n)^{n} = e\n",
    "$$"
   ]
  },
  {
   "cell_type": "markdown",
   "id": "7521cb4b-5ff6-4df1-8d8a-2c443cc5e11e",
   "metadata": {},
   "source": [
    "Sympy lets us compute that limit directly, for a symbolic answer."
   ]
  },
  {
   "cell_type": "code",
   "execution_count": 50,
   "id": "51390251-05f5-4f24-ba75-5b23f48961e0",
   "metadata": {},
   "outputs": [
    {
     "data": {
      "text/latex": [
       "$\\displaystyle e$"
      ],
      "text/plain": [
       "E"
      ]
     },
     "execution_count": 50,
     "metadata": {},
     "output_type": "execute_result"
    }
   ],
   "source": [
    "sym.limit(expr, n, sym.oo)"
   ]
  }
 ],
 "metadata": {
  "kernelspec": {
   "display_name": "Python 3 (ipykernel)",
   "language": "python",
   "name": "python3"
  },
  "language_info": {
   "codemirror_mode": {
    "name": "ipython",
    "version": 3
   },
   "file_extension": ".py",
   "mimetype": "text/x-python",
   "name": "python",
   "nbconvert_exporter": "python",
   "pygments_lexer": "ipython3",
   "version": "3.9.12"
  }
 },
 "nbformat": 4,
 "nbformat_minor": 5
}
