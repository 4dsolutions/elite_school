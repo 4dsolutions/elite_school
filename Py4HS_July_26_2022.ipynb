{
 "cells": [
  {
   "cell_type": "markdown",
   "id": "468e25aa-24a4-4eaf-b4e0-c47792f38b1c",
   "metadata": {
    "tags": []
   },
   "source": [
    "##### Python for High School (Summer 2022)\n",
    "\n",
    "* [Table of Contents](PY4HS.ipynb)\n",
    "* <a href=\"https://colab.research.google.com/github/4dsolutions/elite_school/blob/master/Py4HS_July_26_2022.ipynb\"><img align=\"left\" src=\"https://colab.research.google.com/assets/colab-badge.svg\" alt=\"Open in Colab\" title=\"Open and Execute in Google Colaboratory\"></a>\n",
    "* [![nbviewer](https://raw.githubusercontent.com/jupyter/design/master/logos/Badges/nbviewer_badge.svg)](https://nbviewer.org/github/4dsolutions/elite_school/blob/master/Py4HS_July_26_2022.ipynb)"
   ]
  },
  {
   "cell_type": "markdown",
   "id": "714de613-e333-4f46-8e71-0213f985be40",
   "metadata": {},
   "source": [
    "### Logarithms\n",
    "\n",
    "![log keys](https://upload.wikimedia.org/wikipedia/commons/thumb/8/88/Logarithm_keys.jpg/320px-Logarithm_keys.jpg)\n",
    "\n",
    "[Attribution](https://commons.wikimedia.org/wiki/File:Logarithm_keys.jpg)\n",
    "\n",
    "In this chapter we're focusing on a function key present on any scientific calculator, which, as a rule of thumb, makes it topical in high school math courses.  The \"log\" key is the key in question.  In Python, you could say it's opposite (or inverse) is the \"pow\" key (not that Python has keys, but it has functions).\n",
    "\n",
    "When are logs used?  Many times, we are confronted by what's called exponential growth and/or exponential shrinkage.  If every few days, we have twice as much, that's exponential growth. If we have half as much, with each passing interval, that could be considered following the same curve, to the left instead of the right.\n",
    "\n",
    "Two examples of log scales you may have heard of:  the Decibel scale and the Richter scale.\n",
    "\n",
    "[The Decibel scale](https://en.wikipedia.org/wiki/Decibel) (named for Alexander Graham Bell) is used to measure loudness.  [Linked Youtube](https://youtu.be/WZLQoP6CM0k). An increase of 6 to 10 decibels roughly doubles perceived loudness.\n",
    "\n",
    "[The Richter scale](https://en.wikipedia.org/wiki/Richter_magnitude_scale) (named for Charles Francis Richter) is used to measure the severity of earthquakes.  [Linked Youtube](https://youtu.be/1qbg7orb1lc).  An increase of 1 unit signifies a 10-fold increase in the earthquake's energy level.\n",
    "\n",
    "These YouTubes have been embedded in the final Gallery section, along with some others.  If you view a  publicly stored version of this notebook through nbviewer (cut and paste the URL), those YouTubes may come across as both as viewable and playable, as they would on a locally stored and trusted version."
   ]
  },
  {
   "cell_type": "markdown",
   "id": "21f0a7c2-4b42-46e8-811f-fa396f22c91e",
   "metadata": {},
   "source": [
    "### Starting with a Power curve:\n",
    "\n",
    "What we would like, is to find the horizontal X axis position along an exponential curve, to reach a target number on the curve, its height of the Y axis.  \n",
    "\n",
    "For example, to reach a vertical reading of 1000, we might need an X value of 3, whereas to reach 100 would take only 2 and x = 10 would be the Y value above x = 1.  \n",
    "\n",
    "Are we simply counting the zeros {1000:3, 100:2, 10:1, 1:0}?  \n",
    "\n",
    "It's more complicated than that, as every number in between will have some corresponding exponent also.  When 10 is our base, we will hit those points:  (1000, 3), (100, 2) and (10, 1)."
   ]
  },
  {
   "cell_type": "code",
   "execution_count": 1,
   "id": "2e943ee9-c374-43f4-8484-a0f8fe8a3bcb",
   "metadata": {},
   "outputs": [],
   "source": [
    "from math import log, log10"
   ]
  },
  {
   "cell_type": "code",
   "execution_count": 2,
   "id": "8d4a9bcc-f913-44ab-9b00-5580e7a7d3e7",
   "metadata": {},
   "outputs": [],
   "source": [
    "y_values = range(1,1001)\n",
    "x_values = [log10(y) for y in y_values]\n",
    "table = dict(zip(y_values, x_values))"
   ]
  },
  {
   "cell_type": "code",
   "execution_count": 3,
   "id": "e8080438-65d2-4f61-83f2-75de0b1414f9",
   "metadata": {},
   "outputs": [
    {
     "data": {
      "text/plain": [
       "2.0"
      ]
     },
     "execution_count": 3,
     "metadata": {},
     "output_type": "execute_result"
    }
   ],
   "source": [
    "table[100]"
   ]
  },
  {
   "cell_type": "code",
   "execution_count": 4,
   "id": "2500c0fc-8b4a-4a10-a27a-64e887b179f0",
   "metadata": {},
   "outputs": [
    {
     "data": {
      "text/plain": [
       "3.0"
      ]
     },
     "execution_count": 4,
     "metadata": {},
     "output_type": "execute_result"
    }
   ],
   "source": [
    "table[1000]"
   ]
  },
  {
   "cell_type": "code",
   "execution_count": 5,
   "id": "06c0afcd-6968-45f4-ac25-be3d143d4811",
   "metadata": {},
   "outputs": [
    {
     "data": {
      "text/plain": [
       "1.1760912590556813"
      ]
     },
     "execution_count": 5,
     "metadata": {},
     "output_type": "execute_result"
    }
   ],
   "source": [
    "table[15]  # what exponent of 10 do I need to reach 15?"
   ]
  },
  {
   "cell_type": "code",
   "execution_count": 6,
   "id": "794a398f-4a05-418f-8b9c-5ffe84916bb1",
   "metadata": {},
   "outputs": [
    {
     "data": {
      "text/plain": [
       "15.000000000000004"
      ]
     },
     "execution_count": 6,
     "metadata": {},
     "output_type": "execute_result"
    }
   ],
   "source": [
    "10 ** table[15]  # lets check that... close enough for floating point"
   ]
  },
  {
   "cell_type": "code",
   "execution_count": 7,
   "id": "f7cbd4ad-bacd-4ce4-9b18-c3415fac1d49",
   "metadata": {},
   "outputs": [],
   "source": [
    "import pandas as pd  # lets start using pandas for plotting"
   ]
  },
  {
   "cell_type": "code",
   "execution_count": 8,
   "id": "d2b8ea32-c482-4daf-974c-62a8875f5b15",
   "metadata": {},
   "outputs": [
    {
     "data": {
      "image/png": "[encoded data removed]",
      "text/plain": [
       "<Figure size 432x288 with 1 Axes>"
      ]
     },
     "metadata": {
      "needs_background": "light"
     },
     "output_type": "display_data"
    }
   ],
   "source": [
    "# pow curve\n",
    "pd.DataFrame({'x':table.values(),'y':table.keys()}).plot(x='x',y='y',lw=2, grid=True);"
   ]
  },
  {
   "cell_type": "code",
   "execution_count": 9,
   "id": "4c64a485-66d6-4b51-ac6e-95cb97db34fd",
   "metadata": {},
   "outputs": [
    {
     "data": {
      "image/png": "[encoded data removed]",
      "text/plain": [
       "<Figure size 432x288 with 1 Axes>"
      ]
     },
     "metadata": {
      "needs_background": "light"
     },
     "output_type": "display_data"
    }
   ],
   "source": [
    "# reversing x with y gives the inverse function\n",
    "# log curve\n",
    "pd.DataFrame({'x':table.keys(),'y':table.values()}).plot(x='x',y='y',lw=2, grid=True);"
   ]
  },
  {
   "cell_type": "markdown",
   "id": "163232ca-d171-4d8f-9a0e-ba2e37ee3923",
   "metadata": {},
   "source": [
    "Lets play the game of \"hitting the target\" by dialing in an exponenet for base b.  To what must I raise b, to hit my target?  Say b is 2:"
   ]
  },
  {
   "cell_type": "code",
   "execution_count": 10,
   "id": "4150d8c6-7e51-4274-a5fe-3507ad63637d",
   "metadata": {},
   "outputs": [
    {
     "data": {
      "text/plain": [
       "8.0"
      ]
     },
     "execution_count": 10,
     "metadata": {},
     "output_type": "execute_result"
    }
   ],
   "source": [
    "b = 2         # base (change base)\n",
    "target = 256  # raise b to what power to get target? (change target)\n",
    "\n",
    "answer = log(target, b)  # in the old days, maybe look it up in a big table \n",
    "answer"
   ]
  },
  {
   "cell_type": "markdown",
   "id": "429a4a1d-4b99-4110-83e3-aeee533c5c8e",
   "metadata": {},
   "source": [
    "**Exercise**\n",
    "\n",
    "Think of \"hit my target\" as a looping game with an input prompt, and a \"too high\" \"too low\" pair of hints.  Once the guesser gets it right to three significant digits, the game ends.  Q to quit any time.  What would the code look like?\n",
    "\n",
    "To get you started:"
   ]
  },
  {
   "cell_type": "code",
   "execution_count": 11,
   "id": "8c18a2bc-10f4-4c21-91e2-dc62a314de5b",
   "metadata": {},
   "outputs": [],
   "source": [
    "from random import randint\n",
    "\n",
    "def game():\n",
    "    target = randint(0, 100)\n",
    "    exponent = log10(target)  # what to guess\n",
    "\n",
    "    playing = True\n",
    "    while playing:\n",
    "        answer = input(\"Raise 10 to what power to get {target}? > \")\n",
    "        if answer.upper() == \"Q\":\n",
    "            playing = False\n",
    "            continue\n",
    "        # check if answer.isdigit, answer too high or too low or just right"
   ]
  },
  {
   "cell_type": "code",
   "execution_count": 12,
   "id": "e98833fd-fc80-4dcc-a72a-1c8dd6d9ca57",
   "metadata": {},
   "outputs": [],
   "source": [
    "# game()"
   ]
  },
  {
   "cell_type": "markdown",
   "id": "5137f1b5-8982-4ec7-acc9-27e066f672f2",
   "metadata": {},
   "source": [
    "Why not a long irrational-looking floating point value for an answer, in the case of $\\log_{2}(256)$?  Because 256 is a whole number power of 2.  Numbers that are not whole number powers get these \"many significant digit\" answers."
   ]
  },
  {
   "cell_type": "code",
   "execution_count": 14,
   "id": "1b75b918-8507-44f6-ac81-9bd2d6392c46",
   "metadata": {},
   "outputs": [
    {
     "data": {
      "text/plain": [
       "256.0"
      ]
     },
     "execution_count": 14,
     "metadata": {},
     "output_type": "execute_result"
    }
   ],
   "source": [
    "checking = pow(b, answer)    # show that we hit the target, up above\n",
    "checking"
   ]
  },
  {
   "cell_type": "code",
   "execution_count": 15,
   "id": "6fbdb0f8-4416-45ea-9410-40a5ad28bc8a",
   "metadata": {},
   "outputs": [
    {
     "data": {
      "text/plain": [
       "6.266786540694902"
      ]
     },
     "execution_count": 15,
     "metadata": {},
     "output_type": "execute_result"
    }
   ],
   "source": [
    "answer = log(77, 2)     # not a whole number power of 2\n",
    "answer"
   ]
  },
  {
   "cell_type": "code",
   "execution_count": 16,
   "id": "c5310d3f-a41a-48aa-87e4-d6426c3da337",
   "metadata": {},
   "outputs": [
    {
     "data": {
      "text/plain": [
       "77.00000000000003"
      ]
     },
     "execution_count": 16,
     "metadata": {},
     "output_type": "execute_result"
    }
   ],
   "source": [
    "checking = pow(2, answer)\n",
    "checking"
   ]
  },
  {
   "cell_type": "code",
   "execution_count": 17,
   "id": "033ab0a2-7b4a-4df7-9519-e2ebdf857911",
   "metadata": {},
   "outputs": [
    {
     "data": {
      "text/plain": [
       "4.0"
      ]
     },
     "execution_count": 17,
     "metadata": {},
     "output_type": "execute_result"
    }
   ],
   "source": [
    "b = 10\n",
    "target = 10000\n",
    "log(target, b)"
   ]
  },
  {
   "cell_type": "code",
   "execution_count": 18,
   "id": "98607540-e16e-4c01-8601-10005caafdd8",
   "metadata": {},
   "outputs": [
    {
     "data": {
      "text/plain": [
       "1.8864907251724818"
      ]
     },
     "execution_count": 18,
     "metadata": {},
     "output_type": "execute_result"
    }
   ],
   "source": [
    "log(77, 10) "
   ]
  },
  {
   "cell_type": "markdown",
   "id": "214c5de8-20a0-49da-81c4-96314f74e6fb",
   "metadata": {},
   "source": [
    "The log of a huge target number need not itself be be huge, as a rule of thumb, because raising a base to a power is a fast way to shrink and grow i.e. exponentially.\n",
    "\n",
    "With X in the role of exponenet, it covers a huge breadth of verticality, from insect height to mountain height.\n",
    "\n",
    "The idea is to fit our desired range, from very tiny to very large, within the domain of a reasonably-wide X, say from -10 to 10."
   ]
  },
  {
   "cell_type": "code",
   "execution_count": 19,
   "id": "9467e133-11a0-49ad-8990-2105f650b58f",
   "metadata": {},
   "outputs": [
    {
     "data": {
      "text/plain": [
       "16.172963232704753"
      ]
     },
     "execution_count": 19,
     "metadata": {},
     "output_type": "execute_result"
    }
   ],
   "source": [
    "log10(14892349939984940)  # log base 10 of a large number"
   ]
  },
  {
   "cell_type": "markdown",
   "id": "843d5503-4dc0-4d93-9e67-b55670e22005",
   "metadata": {},
   "source": [
    "**What we're also exercising and talking about in this Notebook:**\n",
    "\n",
    "* your ability to embed standard math notations in Jupyter Markdown cells, by means of $\\LaTeX$, a way of encoding math typography, and ultimately, entire books using $\\TeX$.\n",
    "\n",
    "* your ability to plot a function, as you might on a graphing calculator, starting with data, using `pandas` and `matplotlib`, both 3rd party Python packages, which in turn depend on `numpy`."
   ]
  },
  {
   "cell_type": "markdown",
   "id": "f7f7425a-7d59-420c-b3cc-0ec249bc466a",
   "metadata": {},
   "source": [
    "### Getting the Log of N\n",
    "\n",
    "The the idea of getting the logarithm of a number is the inverse of raising a number to a power.\n",
    "\n",
    "Ask yourself:  \"what number would I have to raise a number **b** to, to get another number **N**?\"  That first number, **b** is your base, and with that you want to find the \"log\" (to that base) of your target number **N**.\n",
    "\n",
    "$$\n",
    "\\log_{b}(N)\n",
    "$$\n",
    "\n",
    "For example, I would have to raise 10 to the 2nd power to get 100.  That means the base 10 log of 100 is 2.\n",
    "\n",
    "$$\n",
    "\\log_{10}(100) = 2\n",
    "$$\n",
    "\n",
    "To what power would I need to raise the number 2 to get 100?  That's the same as asking \"what is the base 2 log of 10?\""
   ]
  },
  {
   "cell_type": "code",
   "execution_count": 20,
   "id": "9d895b90-e65e-4ac0-b53f-0ce38526066e",
   "metadata": {},
   "outputs": [
    {
     "data": {
      "text/plain": [
       "32"
      ]
     },
     "execution_count": 20,
     "metadata": {},
     "output_type": "execute_result"
    }
   ],
   "source": [
    "pow(2, 5)  ## too low"
   ]
  },
  {
   "cell_type": "code",
   "execution_count": 21,
   "id": "d9b9165a-71cb-46cf-9bc5-8c7989002456",
   "metadata": {},
   "outputs": [
    {
     "data": {
      "text/plain": [
       "128"
      ]
     },
     "execution_count": 21,
     "metadata": {},
     "output_type": "execute_result"
    }
   ],
   "source": [
    "pow(2, 7)  ## too high, but closer"
   ]
  },
  {
   "cell_type": "code",
   "execution_count": 22,
   "id": "fee59090-4c81-4c6a-9470-cd90b3a9838b",
   "metadata": {},
   "outputs": [
    {
     "data": {
      "text/plain": [
       "103.96830673359815"
      ]
     },
     "execution_count": 22,
     "metadata": {},
     "output_type": "execute_result"
    }
   ],
   "source": [
    "pow(2, 6.7)  # very close"
   ]
  },
  {
   "cell_type": "markdown",
   "id": "abe27d9b-1208-414e-be80-cb16be53f94b",
   "metadata": {},
   "source": [
    "Lets use Python to find a more precise answer:"
   ]
  },
  {
   "cell_type": "code",
   "execution_count": 23,
   "id": "aa6beb9e-e8b4-414b-9b26-5a18ea03df77",
   "metadata": {},
   "outputs": [],
   "source": [
    "from math import log"
   ]
  },
  {
   "cell_type": "code",
   "execution_count": 24,
   "id": "e7372d0a-f6cd-45b9-afca-2b9e2f2c959e",
   "metadata": {},
   "outputs": [
    {
     "data": {
      "text/plain": [
       "\u001b[0;31mDocstring:\u001b[0m\n",
       "log(x, [base=math.e])\n",
       "Return the logarithm of x to the given base.\n",
       "\n",
       "If the base not specified, returns the natural logarithm (base e) of x.\n",
       "\u001b[0;31mType:\u001b[0m      builtin_function_or_method\n"
      ]
     },
     "metadata": {},
     "output_type": "display_data"
    }
   ],
   "source": [
    "? log"
   ]
  },
  {
   "cell_type": "code",
   "execution_count": 25,
   "id": "db0b4f78-34d2-4a05-9511-336e77237fd6",
   "metadata": {},
   "outputs": [
    {
     "data": {
      "text/plain": [
       "6.643856189774725"
      ]
     },
     "execution_count": 25,
     "metadata": {},
     "output_type": "execute_result"
    }
   ],
   "source": [
    "log(100, 2)"
   ]
  },
  {
   "cell_type": "markdown",
   "id": "29784f37-89eb-46d2-8fcf-e33c8f7a1b92",
   "metadata": {},
   "source": [
    "That's it!\n",
    "\n",
    "$$\n",
    "\\log_{2}(100) \\approx 6.643856189774725\n",
    "$$"
   ]
  },
  {
   "cell_type": "code",
   "execution_count": 26,
   "id": "dc983574-27fd-4219-92c3-d0e44d269de9",
   "metadata": {},
   "outputs": [
    {
     "data": {
      "text/plain": [
       "100.00000000000004"
      ]
     },
     "execution_count": 26,
     "metadata": {},
     "output_type": "execute_result"
    }
   ],
   "source": [
    "2 ** 6.643856189774725  # same as pow(2, 6.643856189774725)"
   ]
  },
  {
   "cell_type": "code",
   "execution_count": 27,
   "id": "209aa855-2099-4109-8693-3f78d95c499f",
   "metadata": {},
   "outputs": [
    {
     "data": {
      "text/plain": [
       "2.0"
      ]
     },
     "execution_count": 27,
     "metadata": {},
     "output_type": "execute_result"
    }
   ],
   "source": [
    "log(100, 10)"
   ]
  },
  {
   "cell_type": "markdown",
   "id": "8c1d9d6c-451a-465d-87ea-14f53a353884",
   "metadata": {},
   "source": [
    "Back in the days before electronic calculators, engineers used slide rules.  You could multiply two large numbers by adding their logarithms.\n",
    "\n",
    "<a data-flickr-embed=\"true\" href=\"https://www.flickr.com/photos/51764518@N02/41646298500/in/pool-55459290@N00/\" title=\"Vintage Aristo Darmstadt Slide Rule, Model 867U, Transparent Linear Scale, Back Advertising - Gildemeister &amp; Company, 6-Inch, Made In Hamburg Germany, Circa 1960s\"><img src=\"https://live.staticflickr.com/838/41646298500_2a359d5fcc.jpg\" width=\"500\" height=\"281\" alt=\"Vintage Aristo Darmstadt Slide Rule, Model 867U, Transparent Linear Scale, Back Advertising - Gildemeister &amp; Company, 6-Inch, Made In Hamburg Germany, Circa 1960s\"></a><script async src=\"//embedr.flickr.com/assets/client-code.js\" charset=\"utf-8\"></script>\n",
    "\n",
    "[Attribution](https://flic.kr/p/26s9aBj)\n",
    "\n",
    "For example, suppose I wanted to multiply 185 by 987.  The slide rule showed numbers as powers of some base."
   ]
  },
  {
   "cell_type": "code",
   "execution_count": 28,
   "id": "adb604b6-8851-4376-aa87-b978009fc623",
   "metadata": {},
   "outputs": [],
   "source": [
    "import math\n",
    "from math import log10  # Python as a special function for base 10"
   ]
  },
  {
   "cell_type": "markdown",
   "id": "34e5917c-c944-4b72-ae95-a9014a97ffe8",
   "metadata": {},
   "source": [
    "What power of 10 gives me 185?  \n",
    "\n",
    "`10**2` means 10 times 10 in Python and equals 100.  \n",
    "\n",
    "`10**3` means 10 times 10 times 10 and equals 1000.  \n",
    "\n",
    "However we're allowed to have fractional exponents, so an exponent of 10 just a tad more than 2 should do it."
   ]
  },
  {
   "cell_type": "code",
   "execution_count": 29,
   "id": "5918b935-c11c-4abc-8b87-e3c282b63b51",
   "metadata": {},
   "outputs": [
    {
     "data": {
      "text/plain": [
       "2.2671717284030137"
      ]
     },
     "execution_count": 29,
     "metadata": {},
     "output_type": "execute_result"
    }
   ],
   "source": [
    "log10(185)"
   ]
  },
  {
   "cell_type": "markdown",
   "id": "f7b788e6-1b1c-4f54-92c7-f527f5773af5",
   "metadata": {},
   "source": [
    "Likewise 987 is close to 1000, so an exponent of almost 3 is not that surprising.  The log10 function figures out a precise answer."
   ]
  },
  {
   "cell_type": "code",
   "execution_count": 30,
   "id": "9f6e259a-f2b5-467e-bb2d-79af9e25f83d",
   "metadata": {},
   "outputs": [
    {
     "data": {
      "text/plain": [
       "2.9943171526696366"
      ]
     },
     "execution_count": 30,
     "metadata": {},
     "output_type": "execute_result"
    }
   ],
   "source": [
    "log10(987)"
   ]
  },
  {
   "cell_type": "markdown",
   "id": "281585d2-2c45-4e89-b293-09a8e927f483",
   "metadata": {},
   "source": [
    "Now we add these two exponents..."
   ]
  },
  {
   "cell_type": "code",
   "execution_count": 31,
   "id": "b8dc5ac9-9398-4c20-a757-7fedd251369e",
   "metadata": {},
   "outputs": [
    {
     "data": {
      "text/plain": [
       "5.26148888107265"
      ]
     },
     "execution_count": 31,
     "metadata": {},
     "output_type": "execute_result"
    }
   ],
   "source": [
    "log10(185) + log10(987)"
   ]
  },
  {
   "cell_type": "markdown",
   "id": "06c34371-7127-4f2d-abb2-2a4a82c4aa35",
   "metadata": {},
   "source": [
    "... and now raise 10 to that power, to get our final answer.\n",
    "\n",
    "On a slide rule, we could read these values (to fewer decimal places) off the sliding sticks.  \n",
    "\n",
    "We had the results of a multiplication, but thanks to logs, we got there by addition.  Someone good with a slide rule could get precise enough answers quite quickly."
   ]
  },
  {
   "cell_type": "code",
   "execution_count": 32,
   "id": "cdedf774-e229-4879-a4f1-77e3556e6169",
   "metadata": {},
   "outputs": [
    {
     "data": {
      "text/plain": [
       "182594.9999999999"
      ]
     },
     "execution_count": 32,
     "metadata": {},
     "output_type": "execute_result"
    }
   ],
   "source": [
    "log_sum = log10(185) + log10(987)\n",
    "pow(10, log_sum)"
   ]
  },
  {
   "cell_type": "code",
   "execution_count": 33,
   "id": "fb1eb2b7-2d61-4c74-a558-9ba7b68842d3",
   "metadata": {},
   "outputs": [
    {
     "data": {
      "text/plain": [
       "182595"
      ]
     },
     "execution_count": 33,
     "metadata": {},
     "output_type": "execute_result"
    }
   ],
   "source": [
    "185 * 987  # checking"
   ]
  },
  {
   "cell_type": "markdown",
   "id": "6777e475-2598-4025-b226-26ce4575d1c4",
   "metadata": {},
   "source": [
    "In general:  `a * b == pow(10, log10(a) + log10(b))`\n",
    "\n",
    "or, using our friend $\\LaTeX$, the typesetting language understood by Jupyter:\n",
    "\n",
    "$$\n",
    "(A)(B) = b^{\\log_b(A) + \\log_{b}(B)}\n",
    "$$ \n",
    "\n",
    "What this shows is a way of turning a multiplication problem into an addition problem.  Adding is simpler than multiplying, if working by hand.  When logs were first invented, this was their most valued application:  to provide a short cut to multiplication.  Lookup tables played a role.  You could look up log to the base 10 of A and B, add them, and then look up 10 to the answer power, to get A times B.  You have reached your product by adding and consulting tables.\n",
    "\n",
    "With floating point numbers, as with lookup tables, precise equality with the desired outcome is not assured.  The answer for A times B will only have so many significant digits. \n",
    "\n",
    "The math module has an `isclose` we can use, which means \"almost equal\".  This function comes in handy when working with floating point numbers, whereas asking for precise equality can be dangerous, as one may never get it, even when one would, were these numbers entirely precise."
   ]
  },
  {
   "cell_type": "code",
   "execution_count": 34,
   "id": "26f115a2-373c-4718-8f3d-a2fbc54b9896",
   "metadata": {},
   "outputs": [
    {
     "data": {
      "text/plain": [
       "\u001b[0;31mSignature:\u001b[0m  \u001b[0mmath\u001b[0m\u001b[0;34m.\u001b[0m\u001b[0misclose\u001b[0m\u001b[0;34m(\u001b[0m\u001b[0ma\u001b[0m\u001b[0;34m,\u001b[0m \u001b[0mb\u001b[0m\u001b[0;34m,\u001b[0m \u001b[0;34m*\u001b[0m\u001b[0;34m,\u001b[0m \u001b[0mrel_tol\u001b[0m\u001b[0;34m=\u001b[0m\u001b[0;36m1e-09\u001b[0m\u001b[0;34m,\u001b[0m \u001b[0mabs_tol\u001b[0m\u001b[0;34m=\u001b[0m\u001b[0;36m0.0\u001b[0m\u001b[0;34m)\u001b[0m\u001b[0;34m\u001b[0m\u001b[0;34m\u001b[0m\u001b[0m\n",
       "\u001b[0;31mDocstring:\u001b[0m\n",
       "Determine whether two floating point numbers are close in value.\n",
       "\n",
       "  rel_tol\n",
       "    maximum difference for being considered \"close\", relative to the\n",
       "    magnitude of the input values\n",
       "  abs_tol\n",
       "    maximum difference for being considered \"close\", regardless of the\n",
       "    magnitude of the input values\n",
       "\n",
       "Return True if a is close in value to b, and False otherwise.\n",
       "\n",
       "For the values to be considered close, the difference between them\n",
       "must be smaller than at least one of the tolerances.\n",
       "\n",
       "-inf, inf and NaN behave similarly to the IEEE 754 Standard.  That\n",
       "is, NaN is not close to anything, even itself.  inf and -inf are\n",
       "only close to themselves.\n",
       "\u001b[0;31mType:\u001b[0m      builtin_function_or_method\n"
      ]
     },
     "metadata": {},
     "output_type": "display_data"
    }
   ],
   "source": [
    "? math.isclose"
   ]
  },
  {
   "cell_type": "code",
   "execution_count": 35,
   "id": "5386c945-bba5-4fc5-94ba-c24cee6a019a",
   "metadata": {},
   "outputs": [],
   "source": [
    "def test_log(a, b):\n",
    "    return math.isclose(a * b, pow(10, log10(a) + log10(b)))"
   ]
  },
  {
   "cell_type": "code",
   "execution_count": 36,
   "id": "fba13bb2-e3bf-4178-a467-24bf28a18fc1",
   "metadata": {},
   "outputs": [
    {
     "data": {
      "text/plain": [
       "True"
      ]
     },
     "execution_count": 36,
     "metadata": {},
     "output_type": "execute_result"
    }
   ],
   "source": [
    "test_log(185, 987)"
   ]
  },
  {
   "cell_type": "code",
   "execution_count": 37,
   "id": "ceda64ad-ddca-4968-b7bc-dbd520515b76",
   "metadata": {},
   "outputs": [
    {
     "data": {
      "text/plain": [
       "True"
      ]
     },
     "execution_count": 37,
     "metadata": {},
     "output_type": "execute_result"
    }
   ],
   "source": [
    "test_log(17, 8947)"
   ]
  },
  {
   "cell_type": "markdown",
   "id": "ba58d6e8-9fba-4714-b976-999a5859aecb",
   "metadata": {},
   "source": [
    "Before electronic calculators, the \"computers\" (people who computed) would use giant lookup tables, same for trig functions.\n",
    "\n",
    "![log tables](https://upload.wikimedia.org/wikipedia/commons/thumb/2/2e/Abramowitz%26Stegun.page97.agr.jpg/640px-Abramowitz%26Stegun.page97.agr.jpg)\n",
    "\n",
    "[Attribution](https://commons.wikimedia.org/wiki/File:Abramowitz%26Stegun.page97.agr.jpg)"
   ]
  },
  {
   "cell_type": "markdown",
   "id": "ee7a8afb-ff60-4d36-9248-20d2bd4da05a",
   "metadata": {},
   "source": [
    "### Plotting Logarithmic and Exponential Functions\n",
    "\n"
   ]
  },
  {
   "cell_type": "code",
   "execution_count": 38,
   "id": "429c9e90-bb55-4708-8ec9-212a0ddf9d87",
   "metadata": {},
   "outputs": [],
   "source": [
    "import pandas as pd\n",
    "import numpy as np"
   ]
  },
  {
   "cell_type": "code",
   "execution_count": 39,
   "id": "440e0de6-9031-4332-8287-e73dab6e4914",
   "metadata": {},
   "outputs": [],
   "source": [
    "domain = np.linspace(0.1, 1000, 200) # give me 200 points between .1 and a thousand\n",
    "log10_range = np.log10(domain)"
   ]
  },
  {
   "cell_type": "code",
   "execution_count": 40,
   "id": "95e0fdc2-9be7-4bd4-9202-69c7a9760c84",
   "metadata": {},
   "outputs": [
    {
     "data": {
      "text/html": [
       "<div>\n",
       "<style scoped>\n",
       "    .dataframe tbody tr th:only-of-type {\n",
       "        vertical-align: middle;\n",
       "    }\n",
       "\n",
       "    .dataframe tbody tr th {\n",
       "        vertical-align: top;\n",
       "    }\n",
       "\n",
       "    .dataframe thead th {\n",
       "        text-align: right;\n",
       "    }\n",
       "</style>\n",
       "<table border=\"1\" class=\"dataframe\">\n",
       "  <thead>\n",
       "    <tr style=\"text-align: right;\">\n",
       "      <th></th>\n",
       "      <th>Domain</th>\n",
       "      <th>Log 10</th>\n",
       "    </tr>\n",
       "  </thead>\n",
       "  <tbody>\n",
       "    <tr>\n",
       "      <th>195</th>\n",
       "      <td>979.901508</td>\n",
       "      <td>2.991182</td>\n",
       "    </tr>\n",
       "    <tr>\n",
       "      <th>196</th>\n",
       "      <td>984.926131</td>\n",
       "      <td>2.993404</td>\n",
       "    </tr>\n",
       "    <tr>\n",
       "      <th>197</th>\n",
       "      <td>989.950754</td>\n",
       "      <td>2.995614</td>\n",
       "    </tr>\n",
       "    <tr>\n",
       "      <th>198</th>\n",
       "      <td>994.975377</td>\n",
       "      <td>2.997812</td>\n",
       "    </tr>\n",
       "    <tr>\n",
       "      <th>199</th>\n",
       "      <td>1000.000000</td>\n",
       "      <td>3.000000</td>\n",
       "    </tr>\n",
       "  </tbody>\n",
       "</table>\n",
       "</div>"
      ],
      "text/plain": [
       "          Domain    Log 10\n",
       "195   979.901508  2.991182\n",
       "196   984.926131  2.993404\n",
       "197   989.950754  2.995614\n",
       "198   994.975377  2.997812\n",
       "199  1000.000000  3.000000"
      ]
     },
     "execution_count": 40,
     "metadata": {},
     "output_type": "execute_result"
    }
   ],
   "source": [
    "df1 = pd.DataFrame({\"Domain\": domain, \"Log 10\": log10_range})\n",
    "df1.tail()"
   ]
  },
  {
   "cell_type": "code",
   "execution_count": 41,
   "id": "f00710ab-8f5e-4cc2-99cf-a3593445d439",
   "metadata": {},
   "outputs": [
    {
     "data": {
      "image/png": "[encoded data removed]",
      "text/plain": [
       "<Figure size 432x288 with 1 Axes>"
      ]
     },
     "metadata": {
      "needs_background": "light"
     },
     "output_type": "display_data"
    }
   ],
   "source": [
    "df1.plot(x=\"Domain\", y=\"Log 10\", grid=True, lw=4);"
   ]
  },
  {
   "cell_type": "code",
   "execution_count": 42,
   "id": "287e351e-57ec-4e2a-97d2-53b2d0d92053",
   "metadata": {},
   "outputs": [],
   "source": [
    "pow_range = np.power(10, log10_range)"
   ]
  },
  {
   "cell_type": "code",
   "execution_count": 43,
   "id": "1189da17-5e72-4e38-b6bd-97ba9443f714",
   "metadata": {},
   "outputs": [
    {
     "data": {
      "text/html": [
       "<div>\n",
       "<style scoped>\n",
       "    .dataframe tbody tr th:only-of-type {\n",
       "        vertical-align: middle;\n",
       "    }\n",
       "\n",
       "    .dataframe tbody tr th {\n",
       "        vertical-align: top;\n",
       "    }\n",
       "\n",
       "    .dataframe thead th {\n",
       "        text-align: right;\n",
       "    }\n",
       "</style>\n",
       "<table border=\"1\" class=\"dataframe\">\n",
       "  <thead>\n",
       "    <tr style=\"text-align: right;\">\n",
       "      <th></th>\n",
       "      <th>Domain</th>\n",
       "      <th>10 ** x</th>\n",
       "    </tr>\n",
       "  </thead>\n",
       "  <tbody>\n",
       "    <tr>\n",
       "      <th>0</th>\n",
       "      <td>-1.000000</td>\n",
       "      <td>0.100000</td>\n",
       "    </tr>\n",
       "    <tr>\n",
       "      <th>1</th>\n",
       "      <td>0.709662</td>\n",
       "      <td>5.124623</td>\n",
       "    </tr>\n",
       "    <tr>\n",
       "      <th>2</th>\n",
       "      <td>1.006434</td>\n",
       "      <td>10.149246</td>\n",
       "    </tr>\n",
       "    <tr>\n",
       "      <th>3</th>\n",
       "      <td>1.181096</td>\n",
       "      <td>15.173869</td>\n",
       "    </tr>\n",
       "    <tr>\n",
       "      <th>4</th>\n",
       "      <td>1.305319</td>\n",
       "      <td>20.198492</td>\n",
       "    </tr>\n",
       "  </tbody>\n",
       "</table>\n",
       "</div>"
      ],
      "text/plain": [
       "     Domain    10 ** x\n",
       "0 -1.000000   0.100000\n",
       "1  0.709662   5.124623\n",
       "2  1.006434  10.149246\n",
       "3  1.181096  15.173869\n",
       "4  1.305319  20.198492"
      ]
     },
     "execution_count": 43,
     "metadata": {},
     "output_type": "execute_result"
    }
   ],
   "source": [
    "df2 = pd.DataFrame({\"Domain\": log10_range, \"10 ** x\": pow_range})\n",
    "df2.head()"
   ]
  },
  {
   "cell_type": "code",
   "execution_count": 44,
   "id": "85340863-46b8-4525-ba83-fc512de3d004",
   "metadata": {},
   "outputs": [
    {
     "data": {
      "image/png": "[encoded data removed]",
      "text/plain": [
       "<Figure size 432x288 with 1 Axes>"
      ]
     },
     "metadata": {
      "needs_background": "light"
     },
     "output_type": "display_data"
    }
   ],
   "source": [
    "df2.plot(x=\"Domain\", y=\"10 ** x\", grid=True, lw=4);"
   ]
  },
  {
   "cell_type": "markdown",
   "id": "57806b93-3f71-4579-8ece-f1190bc0764e",
   "metadata": {},
   "source": [
    "Getting a little fancier, we can put two plots into one figure, by means of subplots.  \n",
    "\n",
    "To do this, we need to import another library that pandas has been using all along.  Now we would like to gain more control of the nitty gritty details, so we import it and talk to it directly.  About our subplots."
   ]
  },
  {
   "cell_type": "code",
   "execution_count": 45,
   "id": "4bf77f49-bb40-4962-9513-4b0057e5b502",
   "metadata": {},
   "outputs": [
    {
     "data": {
      "image/png": "[encoded data removed]",
      "text/plain": [
       "<Figure size 432x288 with 2 Axes>"
      ]
     },
     "metadata": {
      "needs_background": "light"
     },
     "output_type": "display_data"
    }
   ],
   "source": [
    "import matplotlib.pyplot as plt\n",
    "\n",
    "# makes two subplots, each with its own axis object in axes\n",
    "fig, axes = plt.subplots(nrows=2, ncols=1, sharey=False, sharex=False)\n",
    "\n",
    "axes[0].set_ylim(-2, 4) # set the vertical limits on the first axis object\n",
    "\n",
    "# df1, df2 are pandas DataFrames, which will plot on their own, but\n",
    "# here we direct them to use the axis objects associated with each \n",
    "# subplot\n",
    "\n",
    "df1.plot(x=\"Domain\", y=\"Log 10\",   ax=axes[0], lw=4)\n",
    "df2.plot(x=\"Domain\", y=\"10 ** x\",  ax=axes[1], lw=4);"
   ]
  },
  {
   "cell_type": "markdown",
   "id": "101c2f8a-8edf-411a-bb76-4c30f1e9e4cd",
   "metadata": {},
   "source": [
    "### Natural Logarithms\n",
    "\n",
    "We're not done with the story of logarithms.  Logarithms of many bases have suggested themselves.  We might even use an irrational base."
   ]
  },
  {
   "cell_type": "code",
   "execution_count": 46,
   "id": "0d8a9e4d-053b-4619-b2a1-c9a6f1b2a4bc",
   "metadata": {},
   "outputs": [],
   "source": [
    "from math import log\n",
    "import math"
   ]
  },
  {
   "cell_type": "code",
   "execution_count": 47,
   "id": "7df53500-6556-4705-873a-9341e01405b0",
   "metadata": {},
   "outputs": [
    {
     "data": {
      "text/plain": [
       "3.0"
      ]
     },
     "execution_count": 47,
     "metadata": {},
     "output_type": "execute_result"
    }
   ],
   "source": [
    "log(math.pi ** 3, math.pi)"
   ]
  },
  {
   "cell_type": "markdown",
   "id": "491630bf-1efe-464e-ad65-942d127e8c67",
   "metadata": {},
   "source": [
    "Suprisingly, there is a \"best base\" or at least one that stands out as the most natural.  The number has many interesting properties.  One of them is, the exponential curve for this number has a y coordinate equal to its slope.\n",
    "\n",
    "$$\n",
    "e^{x} \\approx \\frac{e^{x+h} - e^{x}}{h}\n",
    "$$\n",
    "\n",
    "High school topics include some calculus.  Here is one of those times, as we're interested in the slope of a curve at a specific point.  The slope of a curve is \"rise over run\" meaning how much it changes vertically versus how much it (the curve) changes horizontally.  We set our horizontal change to a tiny h (h for horizontal) and see how much wiggling x, wiggles y.\n",
    "\n",
    "What's the change in the y coordinate, per a tiny (to infinitessimal) change in x?\n",
    "\n",
    "As h goes to 0, the result gets more precise:\n",
    "\n",
    "$$\n",
    "\\lim_{h \\to 0} \\frac{e^{x+h} - e^{x}}{h} = e^{x}\n",
    "$$\n",
    "\n",
    "From another point of view, the skill in focus here, possibly getting some exercise, is maybe not calculus so much, as that of typesetting.  How does one get standard math notations to appear in a Notebook short of taking screen shots?  \n",
    "\n",
    "Here is where $\\LaTeX$ fits in, as a puzzle piece and as a workout opportunity that pays off in the long run.  \n",
    "\n",
    "**Exercise**\n",
    "\n",
    "On your local device, pop open a Markdown cell and practice entering some mathy expressions, you're more than welcome to use any of those here.  In Markdown, we use single or double dollar signs to signal \"LaTeX Within\".  \n",
    "\n",
    "* Single dollar signs when embedded in a sentence\n",
    "* Double dollar when centering math expressions in their own \"div boxes\" (HTML-speak)."
   ]
  },
  {
   "cell_type": "markdown",
   "id": "0ab74568-699d-45cb-a9c9-f4acef10fcd3",
   "metadata": {},
   "source": [
    "### How Steep?\n",
    "\n",
    "We frequently encounter the phenomenon of \"gradient\" in life, meaning an uphill or downhill path, most simply.  \n",
    "\n",
    "Steps count, as providing gradients and they're manageably steep we hope, except to babies, others with different abilities.\n",
    "\n",
    "We may speak of a \"learning curve\" again using steps as a metaphor.  When the steps get too steep, we feel frustrated by the inaccessibility of this path, unless we're rock climbers of some kind.\n",
    "\n",
    "Thinking back to our work with graphs, one might add \"steepness\" as a characteristic of an edge.  In electric circuits, edges stand for wires and may come with voltage drops associated with resistence and loads.\n",
    "\n",
    "A roller coaster is a great example of a curving track of varying slope.  In riding a roller coaster, we experience the changing acceleration, perhaps as exhileration.\n",
    "\n",
    "When looking at a curve, we see varying steepness, which we define as vertical change per horizontal change.  When a curve is rising steeply to my right, that means if I step right just a little, the y-position over my head is skyrocketing.  It may double in altitude with every step to my right.  \n",
    "\n",
    "Real projectiles would not behave in this way, doubling in speed indefinitely.  A mathematical curve is the construct of our imaginations.\n",
    "\n",
    "The solution Newton and others came up with, for measuring the slope of a curve at any given point, was to wiggle the X-axis position a tiny bit, by adding some h (a step to the right), and seeing how that changed Y.  \n",
    "\n",
    "The ratio of the change in y -- a function of x, so f(x) -- to the change in h, could be expressed as:\n",
    "\n",
    "$$\n",
    "\\frac{f(x+h) - f(x)}{h}\n",
    "$$\n",
    "\n",
    "where x is allowed to vary, giving us changing slopes (potentially) throughout the curve.  x is where we make our measurement of \"steepness\" or \"slope\".  A curve may slope up (positive) or slope down (negative).  A curve with 0 slope at a point, is momentarily tangent to a perfectly horizontal straight line."
   ]
  },
  {
   "cell_type": "code",
   "execution_count": 48,
   "id": "4a56ce3b-a72e-43c4-8415-d27264ee087c",
   "metadata": {},
   "outputs": [],
   "source": [
    "def slope_at(x, h=1e-8):\n",
    "    \"\"\"\n",
    "    Our measuring technique:  change x (horizontal) a very tiny bit \n",
    "    and ratio that with the resulting change in y (vertical)\n",
    "    \"\"\"\n",
    "    return (math.exp(x+h) - math.exp(x))/h"
   ]
  },
  {
   "cell_type": "code",
   "execution_count": 49,
   "id": "bcaf95d2-b4b7-40b9-ab02-e3caeb148788",
   "metadata": {},
   "outputs": [
    {
     "data": {
      "text/plain": [
       "54.59815000108392"
      ]
     },
     "execution_count": 49,
     "metadata": {},
     "output_type": "execute_result"
    }
   ],
   "source": [
    "slope_at(4)  # pretty steep already"
   ]
  },
  {
   "cell_type": "markdown",
   "id": "a917f00f-cae6-4423-9f8a-bd7064d7ea9c",
   "metadata": {},
   "source": [
    "Looking at the curve below, we see by x = 4 we have already left the ground and are climbing steeply past 50."
   ]
  },
  {
   "cell_type": "code",
   "execution_count": 50,
   "id": "88263afd-b2d0-4f08-8e51-bca5d77d76e9",
   "metadata": {},
   "outputs": [
    {
     "data": {
      "text/html": [
       "<div>\n",
       "<style scoped>\n",
       "    .dataframe tbody tr th:only-of-type {\n",
       "        vertical-align: middle;\n",
       "    }\n",
       "\n",
       "    .dataframe tbody tr th {\n",
       "        vertical-align: top;\n",
       "    }\n",
       "\n",
       "    .dataframe thead th {\n",
       "        text-align: right;\n",
       "    }\n",
       "</style>\n",
       "<table border=\"1\" class=\"dataframe\">\n",
       "  <thead>\n",
       "    <tr style=\"text-align: right;\">\n",
       "      <th></th>\n",
       "      <th>Domain</th>\n",
       "      <th>e ** x</th>\n",
       "    </tr>\n",
       "  </thead>\n",
       "  <tbody>\n",
       "    <tr>\n",
       "      <th>0</th>\n",
       "      <td>0.000000</td>\n",
       "      <td>1.000000</td>\n",
       "    </tr>\n",
       "    <tr>\n",
       "      <th>1</th>\n",
       "      <td>0.060606</td>\n",
       "      <td>1.062480</td>\n",
       "    </tr>\n",
       "    <tr>\n",
       "      <th>2</th>\n",
       "      <td>0.121212</td>\n",
       "      <td>1.128864</td>\n",
       "    </tr>\n",
       "    <tr>\n",
       "      <th>3</th>\n",
       "      <td>0.181818</td>\n",
       "      <td>1.199396</td>\n",
       "    </tr>\n",
       "    <tr>\n",
       "      <th>4</th>\n",
       "      <td>0.242424</td>\n",
       "      <td>1.274335</td>\n",
       "    </tr>\n",
       "  </tbody>\n",
       "</table>\n",
       "</div>"
      ],
      "text/plain": [
       "     Domain    e ** x\n",
       "0  0.000000  1.000000\n",
       "1  0.060606  1.062480\n",
       "2  0.121212  1.128864\n",
       "3  0.181818  1.199396\n",
       "4  0.242424  1.274335"
      ]
     },
     "execution_count": 50,
     "metadata": {},
     "output_type": "execute_result"
    }
   ],
   "source": [
    "domain = np.linspace(0, 6, 100)\n",
    "exp_range = np.exp(domain) # e to these powers\n",
    "df3 = pd.DataFrame({\"Domain\": domain, \"e ** x\": exp_range})\n",
    "df3.head()"
   ]
  },
  {
   "cell_type": "code",
   "execution_count": 51,
   "id": "7be1423e-34e7-4a26-bfde-248be8546de7",
   "metadata": {},
   "outputs": [
    {
     "data": {
      "image/png": "[encoded data removed]",
      "text/plain": [
       "<Figure size 432x288 with 1 Axes>"
      ]
     },
     "metadata": {
      "needs_background": "light"
     },
     "output_type": "display_data"
    }
   ],
   "source": [
    "df3.plot(x=\"Domain\", y=\"e ** x\", grid=True, lw=4);"
   ]
  },
  {
   "cell_type": "markdown",
   "id": "cfff9a72-8af8-4a8a-b197-28e858838eb0",
   "metadata": {},
   "source": [
    "Now let's zoom out by computing over a wider domain.  Note that the y-axis is in units of many thousands, don't let those single digits fool you."
   ]
  },
  {
   "cell_type": "code",
   "execution_count": 52,
   "id": "551a0193-2b54-405e-bc5d-45c4d2271b45",
   "metadata": {},
   "outputs": [
    {
     "data": {
      "text/html": [
       "<div>\n",
       "<style scoped>\n",
       "    .dataframe tbody tr th:only-of-type {\n",
       "        vertical-align: middle;\n",
       "    }\n",
       "\n",
       "    .dataframe tbody tr th {\n",
       "        vertical-align: top;\n",
       "    }\n",
       "\n",
       "    .dataframe thead th {\n",
       "        text-align: right;\n",
       "    }\n",
       "</style>\n",
       "<table border=\"1\" class=\"dataframe\">\n",
       "  <thead>\n",
       "    <tr style=\"text-align: right;\">\n",
       "      <th></th>\n",
       "      <th>Domain</th>\n",
       "      <th>e ** x</th>\n",
       "    </tr>\n",
       "  </thead>\n",
       "  <tbody>\n",
       "    <tr>\n",
       "      <th>0</th>\n",
       "      <td>-5.000000</td>\n",
       "      <td>0.006738</td>\n",
       "    </tr>\n",
       "    <tr>\n",
       "      <th>1</th>\n",
       "      <td>-4.747475</td>\n",
       "      <td>0.008674</td>\n",
       "    </tr>\n",
       "    <tr>\n",
       "      <th>2</th>\n",
       "      <td>-4.494949</td>\n",
       "      <td>0.011165</td>\n",
       "    </tr>\n",
       "    <tr>\n",
       "      <th>3</th>\n",
       "      <td>-4.242424</td>\n",
       "      <td>0.014373</td>\n",
       "    </tr>\n",
       "    <tr>\n",
       "      <th>4</th>\n",
       "      <td>-3.989899</td>\n",
       "      <td>0.018502</td>\n",
       "    </tr>\n",
       "  </tbody>\n",
       "</table>\n",
       "</div>"
      ],
      "text/plain": [
       "     Domain    e ** x\n",
       "0 -5.000000  0.006738\n",
       "1 -4.747475  0.008674\n",
       "2 -4.494949  0.011165\n",
       "3 -4.242424  0.014373\n",
       "4 -3.989899  0.018502"
      ]
     },
     "execution_count": 52,
     "metadata": {},
     "output_type": "execute_result"
    }
   ],
   "source": [
    "domain = np.linspace(-5, 20, 100)\n",
    "exp_range = np.exp(domain) # e to these powers\n",
    "df4 = pd.DataFrame({\"Domain\": domain, \"e ** x\": exp_range})\n",
    "df4.head()"
   ]
  },
  {
   "cell_type": "code",
   "execution_count": 53,
   "id": "e46eead4-4f07-42fd-b20f-67b1f3b422d7",
   "metadata": {},
   "outputs": [
    {
     "data": {
      "text/html": [
       "<div>\n",
       "<style scoped>\n",
       "    .dataframe tbody tr th:only-of-type {\n",
       "        vertical-align: middle;\n",
       "    }\n",
       "\n",
       "    .dataframe tbody tr th {\n",
       "        vertical-align: top;\n",
       "    }\n",
       "\n",
       "    .dataframe thead th {\n",
       "        text-align: right;\n",
       "    }\n",
       "</style>\n",
       "<table border=\"1\" class=\"dataframe\">\n",
       "  <thead>\n",
       "    <tr style=\"text-align: right;\">\n",
       "      <th></th>\n",
       "      <th>Domain</th>\n",
       "      <th>e ** x</th>\n",
       "    </tr>\n",
       "  </thead>\n",
       "  <tbody>\n",
       "    <tr>\n",
       "      <th>6</th>\n",
       "      <td>-3.484848</td>\n",
       "      <td>3.065840e-02</td>\n",
       "    </tr>\n",
       "    <tr>\n",
       "      <th>35</th>\n",
       "      <td>3.838384</td>\n",
       "      <td>4.645034e+01</td>\n",
       "    </tr>\n",
       "    <tr>\n",
       "      <th>83</th>\n",
       "      <td>15.959596</td>\n",
       "      <td>8.534232e+06</td>\n",
       "    </tr>\n",
       "    <tr>\n",
       "      <th>86</th>\n",
       "      <td>16.717172</td>\n",
       "      <td>1.820436e+07</td>\n",
       "    </tr>\n",
       "    <tr>\n",
       "      <th>70</th>\n",
       "      <td>12.676768</td>\n",
       "      <td>3.202213e+05</td>\n",
       "    </tr>\n",
       "    <tr>\n",
       "      <th>20</th>\n",
       "      <td>0.050505</td>\n",
       "      <td>1.051802e+00</td>\n",
       "    </tr>\n",
       "    <tr>\n",
       "      <th>73</th>\n",
       "      <td>13.434343</td>\n",
       "      <td>6.830637e+05</td>\n",
       "    </tr>\n",
       "    <tr>\n",
       "      <th>19</th>\n",
       "      <td>-0.202020</td>\n",
       "      <td>8.170784e-01</td>\n",
       "    </tr>\n",
       "    <tr>\n",
       "      <th>69</th>\n",
       "      <td>12.424242</td>\n",
       "      <td>2.487596e+05</td>\n",
       "    </tr>\n",
       "    <tr>\n",
       "      <th>84</th>\n",
       "      <td>16.212121</td>\n",
       "      <td>1.098588e+07</td>\n",
       "    </tr>\n",
       "  </tbody>\n",
       "</table>\n",
       "</div>"
      ],
      "text/plain": [
       "       Domain        e ** x\n",
       "6   -3.484848  3.065840e-02\n",
       "35   3.838384  4.645034e+01\n",
       "83  15.959596  8.534232e+06\n",
       "86  16.717172  1.820436e+07\n",
       "70  12.676768  3.202213e+05\n",
       "20   0.050505  1.051802e+00\n",
       "73  13.434343  6.830637e+05\n",
       "19  -0.202020  8.170784e-01\n",
       "69  12.424242  2.487596e+05\n",
       "84  16.212121  1.098588e+07"
      ]
     },
     "execution_count": 53,
     "metadata": {},
     "output_type": "execute_result"
    }
   ],
   "source": [
    "df4.sample(10)"
   ]
  },
  {
   "cell_type": "code",
   "execution_count": 54,
   "id": "cb97c37f-88b2-4682-b5ec-e7c6583fa98c",
   "metadata": {},
   "outputs": [
    {
     "data": {
      "image/png": "[encoded data removed]",
      "text/plain": [
       "<Figure size 432x288 with 1 Axes>"
      ]
     },
     "metadata": {
      "needs_background": "light"
     },
     "output_type": "display_data"
    }
   ],
   "source": [
    "df4.plot(x=\"Domain\", y=\"e ** x\", grid=True, lw=4);"
   ]
  },
  {
   "cell_type": "markdown",
   "id": "77d2ab7e-5588-4d56-ae4f-dbe05aa842e9",
   "metadata": {},
   "source": [
    "In exercising with the cells below, changing arguments, you will find that the slope as computed by our measuring technique, with tiny h, is very close to the y-axis value of the curve at that same point.  The curve is registering as own slope as it goes, starting from extremely flat (slope almost 0) and transitioning to extremely vertical."
   ]
  },
  {
   "cell_type": "code",
   "execution_count": 55,
   "id": "c0ad05ae-03fd-454b-a263-24596814ddc2",
   "metadata": {},
   "outputs": [
    {
     "data": {
      "text/plain": [
       "0.018315638936061696"
      ]
     },
     "execution_count": 55,
     "metadata": {},
     "output_type": "execute_result"
    }
   ],
   "source": [
    "slope = slope_at(-4)  # close to 0 slope\n",
    "slope"
   ]
  },
  {
   "cell_type": "code",
   "execution_count": 56,
   "id": "40c9ecbf-e3ae-46c4-ba7f-fb92991b13fb",
   "metadata": {},
   "outputs": [
    {
     "data": {
      "text/plain": [
       "0.018315638888734186"
      ]
     },
     "execution_count": 56,
     "metadata": {},
     "output_type": "execute_result"
    }
   ],
   "source": [
    "pow(math.e, -4) # almost the same (off because h > 0)"
   ]
  },
  {
   "cell_type": "code",
   "execution_count": 57,
   "id": "c37f17e1-cb65-499d-bc4e-8821396d5ac8",
   "metadata": {},
   "outputs": [
    {
     "data": {
      "text/plain": [
       "3.206031351510319e-08"
      ]
     },
     "execution_count": 57,
     "metadata": {},
     "output_type": "execute_result"
    }
   ],
   "source": [
    "math.exp(4) - slope_at(4)  # almost the same"
   ]
  },
  {
   "cell_type": "code",
   "execution_count": 58,
   "id": "4bd4ab6e-33b6-4368-a0b2-f0e91f7e6eb6",
   "metadata": {},
   "outputs": [
    {
     "data": {
      "text/plain": [
       "2.7182818218562943"
      ]
     },
     "execution_count": 58,
     "metadata": {},
     "output_type": "execute_result"
    }
   ],
   "source": [
    "slope_at(1) # reveals our base (approximately)"
   ]
  },
  {
   "cell_type": "code",
   "execution_count": 59,
   "id": "d46476b2-b4b3-495d-ab64-9730b5f8ff5f",
   "metadata": {},
   "outputs": [
    {
     "data": {
      "text/plain": [
       "2.718281828459045"
      ]
     },
     "execution_count": 59,
     "metadata": {},
     "output_type": "execute_result"
    }
   ],
   "source": [
    "math.exp(1)"
   ]
  },
  {
   "cell_type": "markdown",
   "id": "6dc30184-03af-4168-b9ef-2e1f92d4bef3",
   "metadata": {},
   "source": [
    "That's the number.  We call it `e`."
   ]
  },
  {
   "cell_type": "code",
   "execution_count": 60,
   "id": "b527c239-0f14-47ed-8bb4-1be236f20508",
   "metadata": {},
   "outputs": [
    {
     "data": {
      "text/plain": [
       "2.718281828459045"
      ]
     },
     "execution_count": 60,
     "metadata": {},
     "output_type": "execute_result"
    }
   ],
   "source": [
    "math.e"
   ]
  },
  {
   "cell_type": "markdown",
   "id": "d9dfed77-10d3-463e-91b3-c90723f55b5e",
   "metadata": {},
   "source": [
    "A log to this base has it's own symbol, LN for Natural Log, although more often it's written in lowercase. $\\ln(x)$\n",
    "\n",
    "In Python, the `log` function we've been using all along, uses base e as its default."
   ]
  },
  {
   "cell_type": "code",
   "execution_count": 61,
   "id": "7ce4adac-3a55-4d44-87c5-5643094cddc7",
   "metadata": {},
   "outputs": [
    {
     "data": {
      "text/plain": [
       "6.907755278982137"
      ]
     },
     "execution_count": 61,
     "metadata": {},
     "output_type": "execute_result"
    }
   ],
   "source": [
    "log(1000)"
   ]
  },
  {
   "cell_type": "code",
   "execution_count": 62,
   "id": "c4b09aaa-105c-4a7e-bf0e-fd3fad07a526",
   "metadata": {},
   "outputs": [
    {
     "data": {
      "text/plain": [
       "6.907755278982137"
      ]
     },
     "execution_count": 62,
     "metadata": {},
     "output_type": "execute_result"
    }
   ],
   "source": [
    "log(1000, math.e)"
   ]
  },
  {
   "cell_type": "markdown",
   "id": "651e7ceb-2b94-46bf-98c4-dbd8e783e0b4",
   "metadata": {},
   "source": [
    "### Exploring e with Sympy\n",
    "\n",
    "If you have sympy installed, then you're equipped to explore the wonderful world of a computer-assisted algebra system (CAS).  Sympy will help you check your concepts, including in calculus."
   ]
  },
  {
   "cell_type": "code",
   "execution_count": 63,
   "id": "60196e4d-7f99-4cc9-b36d-905e06388cfd",
   "metadata": {},
   "outputs": [],
   "source": [
    "import sympy as sym"
   ]
  },
  {
   "cell_type": "code",
   "execution_count": 64,
   "id": "cf5067ca-f7a8-4ed6-9362-b70559ec398f",
   "metadata": {},
   "outputs": [
    {
     "data": {
      "text/latex": [
       "$\\displaystyle e$"
      ],
      "text/plain": [
       "E"
      ]
     },
     "execution_count": 64,
     "metadata": {},
     "output_type": "execute_result"
    }
   ],
   "source": [
    "sym.exp(1)"
   ]
  },
  {
   "cell_type": "code",
   "execution_count": 65,
   "id": "a0897af7-9751-4d95-8473-b2700cbbd55f",
   "metadata": {},
   "outputs": [
    {
     "name": "stdout",
     "output_type": "stream",
     "text": [
      "2.718281828459045235360287471352662497757247093699959574966967627724076630353547594571382178525166427\n"
     ]
    }
   ],
   "source": [
    "print(sym.exp(1).evalf(100))"
   ]
  },
  {
   "cell_type": "markdown",
   "id": "4a127998-7600-4714-8023-08a6ddbfe25c",
   "metadata": {},
   "source": [
    "Here we're differentiating, meaning asking for a function that will give the rate at which $e^{x}$ is changing (the \"slope\") at any x.  \n",
    "\n",
    "As we have seen, this function is $e^{x}$ itself."
   ]
  },
  {
   "cell_type": "code",
   "execution_count": 66,
   "id": "148b576a-9ab3-4487-a323-9e8bb2925616",
   "metadata": {},
   "outputs": [
    {
     "data": {
      "text/latex": [
       "$\\displaystyle e^{x}$"
      ],
      "text/plain": [
       "exp(x)"
      ]
     },
     "execution_count": 66,
     "metadata": {},
     "output_type": "execute_result"
    }
   ],
   "source": [
    "x = sym.Symbol('x')\n",
    "sym.diff(sym.exp(x))"
   ]
  },
  {
   "cell_type": "markdown",
   "id": "f3116399-e5bf-4a9b-ba9d-5ab4c44bc790",
   "metadata": {},
   "source": [
    "The way we write that in calculus is:\n",
    "\n",
    "$$\n",
    "\\dfrac{d e^{x}}{dx}  = e^{x} \n",
    "$$"
   ]
  },
  {
   "cell_type": "markdown",
   "id": "5f2b6e3d-48f2-48c2-9d4e-1a4b32d8d248",
   "metadata": {},
   "source": [
    "Here's a means for approaching e to whatever degree of precision you wish."
   ]
  },
  {
   "cell_type": "code",
   "execution_count": 67,
   "id": "008254d5-e164-463e-9649-1f6a5fbd02da",
   "metadata": {},
   "outputs": [
    {
     "data": {
      "text/latex": [
       "$\\displaystyle \\left(1 + \\frac{1}{n}\\right)^{n}$"
      ],
      "text/plain": [
       "(1 + 1/n)**n"
      ]
     },
     "execution_count": 67,
     "metadata": {},
     "output_type": "execute_result"
    }
   ],
   "source": [
    "n = sym.Symbol('n')\n",
    "expr = (1 + 1/n)**n\n",
    "expr"
   ]
  },
  {
   "cell_type": "markdown",
   "id": "5d4fbe24-8a01-46d1-8ea8-babd07fa990d",
   "metadata": {},
   "source": [
    "What happens as n grows larger and larger?  \n",
    "\n",
    "The exponent tends to make the number bigger, since it's greater than 1.  But 1/n gets smaller, meaning the number being raised to the nth power is getting ever closer to exactly 1.\n",
    "\n",
    "The tension between these two tendencies, to blow up because of exponentiation vs to settle on 1 because of the vanishing difference from 1, actually resolves to a specific number, the number e.\n",
    "\n",
    "$$\n",
    "\\lim_{n \\to \\infty} (1 + 1/n)^{n} = e\n",
    "$$"
   ]
  },
  {
   "cell_type": "markdown",
   "id": "7521cb4b-5ff6-4df1-8d8a-2c443cc5e11e",
   "metadata": {},
   "source": [
    "Sympy lets us compute that limit directly, for a symbolic answer."
   ]
  },
  {
   "cell_type": "code",
   "execution_count": 68,
   "id": "51390251-05f5-4f24-ba75-5b23f48961e0",
   "metadata": {},
   "outputs": [
    {
     "data": {
      "text/latex": [
       "$\\displaystyle e$"
      ],
      "text/plain": [
       "E"
      ]
     },
     "execution_count": 68,
     "metadata": {},
     "output_type": "execute_result"
    }
   ],
   "source": [
    "sym.limit(expr, n, sym.oo)"
   ]
  },
  {
   "cell_type": "markdown",
   "id": "747b1736-02d2-4126-ae89-f8710546103a",
   "metadata": {},
   "source": [
    "How about the area under the $e^{x}$ curve?  The operation of \"accumulating\" (integration) is the opposite of \"slicing thinly\" (differentiation)."
   ]
  },
  {
   "cell_type": "code",
   "execution_count": 69,
   "id": "5f313a4d-6810-4eba-be0b-7db9a0575962",
   "metadata": {},
   "outputs": [
    {
     "data": {
      "text/latex": [
       "$\\displaystyle e^{x}$"
      ],
      "text/plain": [
       "exp(x)"
      ]
     },
     "execution_count": 69,
     "metadata": {},
     "output_type": "execute_result"
    }
   ],
   "source": [
    "sym.integrate(sym.exp(x), x)"
   ]
  },
  {
   "cell_type": "code",
   "execution_count": 70,
   "id": "b1d3000e-bd7d-4a92-96f0-31e49028a523",
   "metadata": {},
   "outputs": [
    {
     "data": {
      "text/latex": [
       "$\\displaystyle e$"
      ],
      "text/plain": [
       "E"
      ]
     },
     "execution_count": 70,
     "metadata": {},
     "output_type": "execute_result"
    }
   ],
   "source": [
    "sym.integrate(sym.exp(x), (x, -sym.oo, 1))"
   ]
  },
  {
   "cell_type": "code",
   "execution_count": 71,
   "id": "c330f191-5039-4105-9eb2-9bcc29aaf5f3",
   "metadata": {},
   "outputs": [
    {
     "data": {
      "text/latex": [
       "$\\displaystyle 15.1542622414793$"
      ],
      "text/plain": [
       "15.1542622414793"
      ]
     },
     "execution_count": 71,
     "metadata": {},
     "output_type": "execute_result"
    }
   ],
   "source": [
    "sym.integrate(sym.exp(x), (x, -sym.oo, math.e))"
   ]
  },
  {
   "cell_type": "code",
   "execution_count": 72,
   "id": "118dd919-9bde-4e96-8b05-2e5f956be4a2",
   "metadata": {},
   "outputs": [
    {
     "data": {
      "text/plain": [
       "15.154262241479262"
      ]
     },
     "execution_count": 72,
     "metadata": {},
     "output_type": "execute_result"
    }
   ],
   "source": [
    "math.exp(math.e)"
   ]
  },
  {
   "cell_type": "markdown",
   "id": "643d01fb-e711-4b4b-be17-f9cf4e5be57f",
   "metadata": {},
   "source": [
    "We get to read off the area under the curve by reading the y-coodinate, just as we're able to read the slope the same way.  The slope at exp(x) matches the area under the curve up to that point x.\n",
    "\n",
    "So we get a sense that e is indeed a \"special number\" in the Mathematics Hall of Fame."
   ]
  },
  {
   "cell_type": "markdown",
   "id": "e62f98a8-5db1-4b36-ae6f-7456b33761a2",
   "metadata": {},
   "source": [
    "### Segue to Probability Studies\n",
    "\n",
    "Data Science. Statistics. Casino Math... \n",
    "\n",
    "The field goes by many names and nicknames, and has to do with likelihood and expectations, and whether a sample size is \"good enough\" for predicting the characteristics of a larger population.\n",
    "\n",
    "At this juncture, showing $e$ working in tandem with $\\pi$ to give us a Gaussian, along with the typesetting, reinforces the $e$ deserves its Hall of Fame status."
   ]
  },
  {
   "cell_type": "code",
   "execution_count": 73,
   "id": "3af7699e-08bd-47fc-8bae-246b2c94ce27",
   "metadata": {},
   "outputs": [
    {
     "data": {
      "text/latex": [
       "$\\displaystyle \\frac{\\sqrt{2} e^{- \\frac{x^{2}}{2}}}{2 \\sqrt{\\pi}}$"
      ],
      "text/plain": [
       "sqrt(2)*exp(-x**2/2)/(2*sqrt(pi))"
      ]
     },
     "execution_count": 73,
     "metadata": {},
     "output_type": "execute_result"
    }
   ],
   "source": [
    "x, σ, μ, f = sym.symbols(['x','σ', 'μ', 'f'])\n",
    "expr1 = (1/(σ * sym.sqrt(2 * sym.pi)))\n",
    "expr2 = sym.exp(sym.Rational(-1,2) * ((x - μ)/σ)**2)\n",
    "gaussian = expr2 * expr1\n",
    "standard = gaussian.copy()\n",
    "standard = standard.subs(μ, 0)\n",
    "standard = standard.subs(σ, 1)\n",
    "standard"
   ]
  },
  {
   "cell_type": "code",
   "execution_count": 74,
   "id": "57c69e48-6acb-4f77-8b3f-18f9714097aa",
   "metadata": {},
   "outputs": [
    {
     "data": {
      "image/png": "[encoded data removed]",
      "text/plain": [
       "<Figure size 432x288 with 1 Axes>"
      ]
     },
     "metadata": {
      "needs_background": "light"
     },
     "output_type": "display_data"
    }
   ],
   "source": [
    "domain = np.linspace(-6, 6, 500)\n",
    "f = sym.lambdify(x, standard, 'numpy') \n",
    "bell_curve = f(domain)\n",
    "df5 = pd.DataFrame({'x':domain, 'y':bell_curve})\n",
    "ax = df5.plot(x='x', y='y', lw=4)\n",
    "ax.set_title(\"Probability Density Function\");\n",
    "ax.legend(['PDF']);"
   ]
  },
  {
   "cell_type": "markdown",
   "id": "5d02dd9f-3a1b-432f-939d-4ee66ecf3bf7",
   "metadata": {},
   "source": [
    "### YouTube Gallery\n"
   ]
  },
  {
   "cell_type": "code",
   "execution_count": 2,
   "id": "0fa101ef-23ba-4c2e-9c0c-33dd16b7a6b4",
   "metadata": {},
   "outputs": [],
   "source": [
    "from IPython.display import YouTubeVideo"
   ]
  },
  {
   "cell_type": "code",
   "execution_count": 3,
   "id": "1ebf0992-bb7c-4a5c-a735-e7bf44920a51",
   "metadata": {},
   "outputs": [
    {
     "data": {
      "image/jpeg": "[encoded data removed]",
      "text/html": [
       "\n",
       "        <iframe\n",
       "            width=\"400\"\n",
       "            height=\"300\"\n",
       "            src=\"https://www.youtube.com/embed/VRzH4xB0GdM\"\n",
       "            frameborder=\"0\"\n",
       "            allowfullscreen\n",
       "            \n",
       "        ></iframe>\n",
       "        "
      ],
      "text/plain": [
       "<IPython.lib.display.YouTubeVideo at 0x1152fdd30>"
      ]
     },
     "execution_count": 3,
     "metadata": {},
     "output_type": "execute_result"
    }
   ],
   "source": [
    "YouTubeVideo(\"VRzH4xB0GdM\")"
   ]
  },
  {
   "cell_type": "code",
   "execution_count": 76,
   "id": "d7f92503-692a-4953-948c-155c94c4c35a",
   "metadata": {},
   "outputs": [
    {
     "data": {
      "image/jpeg": "[encoded data removed]",
      "text/html": [
       "\n",
       "        <iframe\n",
       "            width=\"400\"\n",
       "            height=\"300\"\n",
       "            src=\"https://www.youtube.com/embed/WZLQoP6CM0k\"\n",
       "            frameborder=\"0\"\n",
       "            allowfullscreen\n",
       "            \n",
       "        ></iframe>\n",
       "        "
      ],
      "text/plain": [
       "<IPython.lib.display.YouTubeVideo at 0x12c315c40>"
      ]
     },
     "execution_count": 76,
     "metadata": {},
     "output_type": "execute_result"
    }
   ],
   "source": [
    "YouTubeVideo(\"WZLQoP6CM0k\") "
   ]
  },
  {
   "cell_type": "code",
   "execution_count": 77,
   "id": "a2d9f164-4cbc-4e01-b203-073ac0f69b6b",
   "metadata": {},
   "outputs": [
    {
     "data": {
      "image/jpeg": "[encoded data removed]",
      "text/html": [
       "\n",
       "        <iframe\n",
       "            width=\"400\"\n",
       "            height=\"300\"\n",
       "            src=\"https://www.youtube.com/embed/1qbg7orb1lc\"\n",
       "            frameborder=\"0\"\n",
       "            allowfullscreen\n",
       "            \n",
       "        ></iframe>\n",
       "        "
      ],
      "text/plain": [
       "<IPython.lib.display.YouTubeVideo at 0x12c3f4cd0>"
      ]
     },
     "execution_count": 77,
     "metadata": {},
     "output_type": "execute_result"
    }
   ],
   "source": [
    "YouTubeVideo(\"1qbg7orb1lc\") # Bill Nye"
   ]
  },
  {
   "cell_type": "code",
   "execution_count": 78,
   "id": "d0a9d574-c69b-4d58-b517-8ce6bc8dae38",
   "metadata": {},
   "outputs": [
    {
     "data": {
      "image/jpeg": "[encoded data removed]",
      "text/html": [
       "\n",
       "        <iframe\n",
       "            width=\"400\"\n",
       "            height=\"300\"\n",
       "            src=\"https://www.youtube.com/embed/UaGifkgfmWk\"\n",
       "            frameborder=\"0\"\n",
       "            allowfullscreen\n",
       "            \n",
       "        ></iframe>\n",
       "        "
      ],
      "text/plain": [
       "<IPython.lib.display.YouTubeVideo at 0x12c3f4940>"
      ]
     },
     "execution_count": 78,
     "metadata": {},
     "output_type": "execute_result"
    }
   ],
   "source": [
    "YouTubeVideo(\"UaGifkgfmWk\") # logs, powers, atomic physics"
   ]
  }
 ],
 "metadata": {
  "kernelspec": {
   "display_name": "Python 3 (ipykernel)",
   "language": "python",
   "name": "python3"
  },
  "language_info": {
   "codemirror_mode": {
    "name": "ipython",
    "version": 3
   },
   "file_extension": ".py",
   "mimetype": "text/x-python",
   "name": "python",
   "nbconvert_exporter": "python",
   "pygments_lexer": "ipython3",
   "version": "3.9.12"
  }
 },
 "nbformat": 4,
 "nbformat_minor": 5
}
