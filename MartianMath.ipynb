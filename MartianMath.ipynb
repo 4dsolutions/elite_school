{
 "cells": [
  {
   "cell_type": "markdown",
   "id": "856a821b-5d9e-41f9-99f1-cf655f621cc7",
   "metadata": {},
   "source": [
    "# Elite Academy\n",
    "\n",
    "<a data-flickr-embed=\"true\" href=\"https://www.flickr.com/photos/kirbyurner/4723737184/in/photolist-AnbBkg-88zTZp-ND1MWm-q2jK2i-oyiLca-dapWFp-bWYZGz-cemfyA-c5RPLS-bpXDry-aKmGAt-az4XYn-9XLU4D-9XPMjh-9XPMqw-9KBauT-9BjBnh-9wxrcs-8UWbsi-8TpVug-8xCmYu-8cqouy-7r34KX-7cWHMd-79vjSo-59qUNC-6vT1cM-6kynp4-6ciDzB-65TgBb-5Y1a8T-5QB2pe-5HjGxR-5ye8QF-5yhNus-5tR7MY-5nnFth-5niqFn-5abLDr\" title=\"Classic Geodesic Dome\"><img src=\"https://live.staticflickr.com/1210/4723737184_4c33270733_c.jpg\" width=\"800\" height=\"600\" alt=\"Classic Geodesic Dome\"></a><script async src=\"//embedr.flickr.com/assets/client-code.js\" charset=\"utf-8\"></script>\n",
    "Long Beach: adjacent the [Queen Mary](https://flic.kr/p/cGoQ29) (former [Spruce Goose](https://www.drivearchive.co.uk/xplanes/goose.htm) garage)\n",
    "\n",
    "Another take on linear algebra involves importing from what we call Martian Math.  A goal is to connect both to science fiction and to the notion of something alien, as in unfamiliar.  The coordinate system and vector apparatus shared below is anything but mainstream.\n",
    "\n",
    "<a data-flickr-embed=\"true\" href=\"https://www.flickr.com/photos/kirbyurner/4863914712/in/album-72157622961425831/\" title=\"Relative Volumes with Beans\"><img src=\"https://live.staticflickr.com/4117/4863914712_4158174b32.jpg\" width=\"500\" height=\"375\" alt=\"Relative Volumes with Beans\"></a><script async src=\"//embedr.flickr.com/assets/client-code.js\" charset=\"utf-8\"></script>\n",
    "\n",
    "We call it Quadrays.  The picture below is a screen shot, so clicking on the links only takes you to the archive for the picture.\n",
    "\n",
    "<a data-flickr-embed=\"true\" href=\"https://www.flickr.com/photos/kirbyurner/51834954399\" title=\"Quadray Papers\"><img src=\"https://live.staticflickr.com/65535/51834954399_7c6787529f.jpg\" width=\"486\" height=\"500\" alt=\"Quadray Papers\"></a><script async src=\"//embedr.flickr.com/assets/client-code.js\" charset=\"utf-8\"></script>"
   ]
  },
  {
   "cell_type": "code",
   "execution_count": 1,
   "id": "192c98ac-db21-49a1-af47-b8a904ad4cd0",
   "metadata": {},
   "outputs": [],
   "source": [
    "import qrays\n",
    "from qrays import Qvector as Martian"
   ]
  },
  {
   "cell_type": "code",
   "execution_count": 2,
   "id": "65bd5b21-21f3-4c1a-9fc8-2a666a0aa2f7",
   "metadata": {},
   "outputs": [],
   "source": [
    "from itertools import permutations as perm"
   ]
  },
  {
   "cell_type": "code",
   "execution_count": 3,
   "id": "78fa3ba1-f700-423d-b756-e8d5c574fcf8",
   "metadata": {},
   "outputs": [
    {
     "data": {
      "text/plain": [
       "{(0, 0, 0, 1), (0, 0, 1, 0), (0, 1, 0, 0), (1, 0, 0, 0)}"
      ]
     },
     "execution_count": 3,
     "metadata": {},
     "output_type": "execute_result"
    }
   ],
   "source": [
    "dir_4 = {spoke for spoke in perm((0,0,0,1))} # dupeless\n",
    "dir_4"
   ]
  },
  {
   "cell_type": "markdown",
   "id": "890a00fb-7102-45a8-96a4-c05581869105",
   "metadata": {},
   "source": [
    "<a data-flickr-embed=\"true\" href=\"https://www.flickr.com/photos/kirbyurner/4723083407\" title=\"Quadray Coordinates\"><img src=\"https://live.staticflickr.com/1213/4723083407_1e315f2877_o.gif\" width=\"400\" height=\"350\" alt=\"Quadray Coordinates\"></a><script async src=\"//embedr.flickr.com/assets/client-code.js\" charset=\"utf-8\"></script>\n",
    "\n",
    "Four rays splay from the origin to carve space into four quadrants.  Linear combinations of vectors in these four directions span all of space.  \n",
    "\n",
    "These four elementary rays need not be unit length.  Rather, the bounding tetrahedron has unit edges and unit volume.\n",
    "\n",
    "In a lowest terms representation of any point, at least one coordinate is always zero, the ray not directly bounding the quadrant wherein the point resides.  The remaining three vectors add together positively to reach the point i.e. quadray coordinates in lowest terms are always non-negative."
   ]
  },
  {
   "cell_type": "code",
   "execution_count": 4,
   "id": "d328d0e4-1997-4840-a82b-b559f1463eec",
   "metadata": {},
   "outputs": [],
   "source": [
    "a,b,c,d = [Martian(coords) for coords in dir_4]"
   ]
  },
  {
   "cell_type": "code",
   "execution_count": 5,
   "id": "33e17c8e-29d6-43fd-8b9d-8364bdd1d34f",
   "metadata": {},
   "outputs": [
    {
     "data": {
      "text/plain": [
       "ivm_vector(a=0, b=0, c=0, d=0)"
      ]
     },
     "execution_count": 5,
     "metadata": {},
     "output_type": "execute_result"
    }
   ],
   "source": [
    "a + b + c + d"
   ]
  },
  {
   "cell_type": "code",
   "execution_count": 6,
   "id": "df1a9b7f-9a28-4c6a-82c3-956369e1d10e",
   "metadata": {},
   "outputs": [
    {
     "data": {
      "text/plain": [
       "0.6123724356957945"
      ]
     },
     "execution_count": 6,
     "metadata": {},
     "output_type": "execute_result"
    }
   ],
   "source": [
    "a.length()"
   ]
  },
  {
   "cell_type": "code",
   "execution_count": 7,
   "id": "0d714ab9-9286-4bcb-a907-d045e925f750",
   "metadata": {},
   "outputs": [
    {
     "data": {
      "text/plain": [
       "1.0"
      ]
     },
     "execution_count": 7,
     "metadata": {},
     "output_type": "execute_result"
    }
   ],
   "source": [
    "(a - b).length()"
   ]
  },
  {
   "cell_type": "code",
   "execution_count": 8,
   "id": "ee3cad63-fadd-4239-96b7-abb68859727b",
   "metadata": {},
   "outputs": [
    {
     "data": {
      "text/plain": [
       "109.4712206325"
      ]
     },
     "execution_count": 8,
     "metadata": {},
     "output_type": "execute_result"
    }
   ],
   "source": [
    "a.angle(b)"
   ]
  },
  {
   "cell_type": "markdown",
   "id": "f58c3421-3863-45ac-9aef-eebfb4c95181",
   "metadata": {},
   "source": [
    "Two of one quadray, added to one of two others, with a fourth set to zero, equals one of the twelve directions from a ball center to a neighboring ball center within the IVM (isotropic vector matrix).  The ball packing in question is known as the CCP (cubic close packing).\n",
    "\n"
   ]
  },
  {
   "cell_type": "code",
   "execution_count": 9,
   "id": "a7fced32-903e-453a-a2d5-c6d291bfa24d",
   "metadata": {},
   "outputs": [
    {
     "data": {
      "text/plain": [
       "{(0, 1, 1, 2),\n",
       " (0, 1, 2, 1),\n",
       " (0, 2, 1, 1),\n",
       " (1, 0, 1, 2),\n",
       " (1, 0, 2, 1),\n",
       " (1, 1, 0, 2),\n",
       " (1, 1, 2, 0),\n",
       " (1, 2, 0, 1),\n",
       " (1, 2, 1, 0),\n",
       " (2, 0, 1, 1),\n",
       " (2, 1, 0, 1),\n",
       " (2, 1, 1, 0)}"
      ]
     },
     "execution_count": 9,
     "metadata": {},
     "output_type": "execute_result"
    }
   ],
   "source": [
    "dir_12 = {spoke for spoke in perm((0,1,1,2))} # dupeless\n",
    "dir_12"
   ]
  },
  {
   "cell_type": "markdown",
   "id": "4c2229cb-d7fd-4a43-894c-8105b2d07f43",
   "metadata": {},
   "source": [
    "From Wikipedia:\n",
    "\n",
    "<a data-flickr-embed=\"true\" href=\"https://www.flickr.com/photos/kirbyurner/25124483907/in/photolist-Bpf1cD-JotMo-dXVxsM-EhaxK2-2mK3nhE-bhjf7P-GsURhL-8cn39x-7cVeMN-KjMqQP-jjQKR2-2jxGLDx-jjTX9Q-8P2cs1-jjPxdF-dj1wJw-jjQPyH-jjTYJ3-jjRh9s-jjPNN8-2mZq5Lb-2mYtG3k-2i4pkK8-2i4pkLf-2mTB9R8-jpfFXG-jKwah8-jnjYkJ-Gc21oL-2mFYn7K-dq3Pno-7rwtU1-2mZzfpD-4ZEr4-4ZEr3-2m29ok8-2myMppk\" title=\"quadrays\"><img src=\"https://live.staticflickr.com/4712/25124483907_76e2743303_z.jpg\" width=\"640\" height=\"333\" alt=\"quadrays\"></a><script async src=\"//embedr.flickr.com/assets/client-code.js\" charset=\"utf-8\"></script>\n",
    "\n",
    "<a data-flickr-embed=\"true\" href=\"https://www.flickr.com/photos/kirbyurner/4208340720/in/album-72157622961425831/\" title=\"2F Cuboctahedron\"><img src=\"https://live.staticflickr.com/4041/4208340720_835b3b6780.jpg\" width=\"500\" height=\"375\" alt=\"2F Cuboctahedron\"></a><script async src=\"//embedr.flickr.com/assets/client-code.js\" charset=\"utf-8\"></script>"
   ]
  },
  {
   "cell_type": "code",
   "execution_count": 10,
   "id": "77cb17f4-9b43-4ec7-bed9-8fb737df2335",
   "metadata": {},
   "outputs": [
    {
     "name": "stdout",
     "output_type": "stream",
     "text": [
      "spokes.pov ready for rendering\n"
     ]
    }
   ],
   "source": [
    "from pov import POV_Vector, pov_header\n",
    "beacon = [Martian((t)) for t in dir_12]\n",
    "xyz_beacon = [POV_Vector(v.xyz.x, v.xyz.y, v.xyz.z) for v in beacon]\n",
    "\n",
    "# POV-Ray\n",
    "edge_color = \"rgb <1, 0.4, 0>\"\n",
    "edge_radius= 0.03\n",
    "vert_color = \"rgb <0, 0, 1>\"\n",
    "vert_radius= 0.05\n",
    "\n",
    "with open(\"spokes.pov\", 'w') as output:\n",
    "    print(pov_header, file=output)  # print to the output file\n",
    "    for v in xyz_beacon:\n",
    "        v.draw_edge(edge_color, edge_radius, output)\n",
    "        v.draw_vert(vert_color, vert_radius, output)        \n",
    "    \n",
    "print(\"spokes.pov ready for rendering\")"
   ]
  },
  {
   "cell_type": "code",
   "execution_count": 11,
   "id": "b8d492f3-7fac-4900-9a2d-c41cf0db037a",
   "metadata": {},
   "outputs": [
    {
     "name": "stdout",
     "output_type": "stream",
     "text": [
      "/bin/bash: /usr/local/bin/povray: No such file or directory\n"
     ]
    }
   ],
   "source": [
    "! /usr/local/bin/povray +A +H768 +W1024 -GA ./spokes.pov"
   ]
  },
  {
   "cell_type": "markdown",
   "id": "45d813e8-07dd-46ef-8e7b-73c07912b945",
   "metadata": {},
   "source": [
    "![spokes](spokes.png)"
   ]
  },
  {
   "cell_type": "code",
   "execution_count": 12,
   "id": "03b0bb7d-5a34-4016-be64-301eb42a3f13",
   "metadata": {},
   "outputs": [],
   "source": [
    "o,p,q,r,s,t,u,v,w,x,y,z = [Martian((t)) for t in dir_12]"
   ]
  },
  {
   "cell_type": "markdown",
   "id": "c19be080-493f-4d79-85b1-910e80eba897",
   "metadata": {},
   "source": [
    "## Multiplication\n",
    "\n",
    "* vector times vector = area\n",
    "* vector times vector times vector = volume\n",
    "\n",
    "In the case of the XYZ coordinate system, three vectors from the origin, in x, y and z directions, define a 90-90-90 degree corner.  If the lengths of the three vectors are a, b, c then the volume of the resulting parallelopiped is their product. \n",
    "\n",
    "In the case of the IVM, consider any three vectors defining a 60-60-60 degree corner with lengths a, b and c.  Their volume is the resulting tetrahedron, and is likewise their product.\n",
    "\n",
    "<a data-flickr-embed=\"true\" href=\"https://www.flickr.com/photos/kirbyurner/41211295565/in/album-72157622961425831/\" title=\"Martian Multiplication\"><img src=\"https://live.staticflickr.com/907/41211295565_59145e2f63.jpg\" width=\"500\" height=\"312\" alt=\"Martian Multiplication\"></a><script async src=\"//embedr.flickr.com/assets/client-code.js\" charset=\"utf-8\"></script>"
   ]
  },
  {
   "cell_type": "code",
   "execution_count": 13,
   "id": "6d0f5e43-ca57-464c-9169-1820273eb96e",
   "metadata": {},
   "outputs": [],
   "source": [
    "origin = Martian((0,0,0,0))"
   ]
  },
  {
   "cell_type": "markdown",
   "id": "0f0541c3-2eea-4852-807d-b4e71f9c367f",
   "metadata": {},
   "source": [
    "The absolute value of the determinant of a matrix, times 1/4, gives the volume, in tetravolumes, of the tetrahedron determined by four quadrays (a, b, c, d), each with four coordinates (e.g. a0, a1, a2, a3).\n",
    "\n",
    "<br />\n",
    "$$\n",
    "V_{ivm} = (1/4) \n",
    "\\begin{vmatrix}\n",
    "a0&a1&a2&a3&1\\\\\n",
    "b0&b1&b2&b3&1\\\\\n",
    "c0&c1&c2&c3&1\\\\\n",
    "d0&d1&d2&d3&1\\\\\n",
    "1&1&1&1&0\\\\\n",
    "\\end{vmatrix}\n",
    "$$\n",
    "<br />"
   ]
  },
  {
   "cell_type": "markdown",
   "id": "653087e8-5d6a-4f16-895c-0c2c9480d972",
   "metadata": {},
   "source": [
    "Lets find three vectors from our 12 above, that form a 60-60-60 corner.  We may then scale each to a different length and compute the resulting volume.  The quadray to the origin, (0,0,0,0), will be one of the four points."
   ]
  },
  {
   "cell_type": "code",
   "execution_count": 14,
   "id": "6ce04095-f34b-47dd-94a6-30af98e16688",
   "metadata": {},
   "outputs": [
    {
     "data": {
      "text/plain": [
       "60.0"
      ]
     },
     "execution_count": 14,
     "metadata": {},
     "output_type": "execute_result"
    }
   ],
   "source": [
    "o.angle(s)"
   ]
  },
  {
   "cell_type": "code",
   "execution_count": 15,
   "id": "9bb223c3-497b-44e6-9271-bbedb5ae01ff",
   "metadata": {},
   "outputs": [
    {
     "data": {
      "text/plain": [
       "60.0"
      ]
     },
     "execution_count": 15,
     "metadata": {},
     "output_type": "execute_result"
    }
   ],
   "source": [
    "s.angle(v)"
   ]
  },
  {
   "cell_type": "code",
   "execution_count": 16,
   "id": "e29822b9-ad92-4a3b-80fd-4fb21ce85293",
   "metadata": {},
   "outputs": [
    {
     "data": {
      "text/plain": [
       "60.0"
      ]
     },
     "execution_count": 16,
     "metadata": {},
     "output_type": "execute_result"
    }
   ],
   "source": [
    "o.angle(v)"
   ]
  },
  {
   "cell_type": "code",
   "execution_count": 17,
   "id": "cd34d391-6d90-4cba-be9d-9bb0c2824f4c",
   "metadata": {},
   "outputs": [],
   "source": [
    "from sympy import Matrix\n",
    "import sympy as sp"
   ]
  },
  {
   "cell_type": "markdown",
   "id": "c8bafb14-683e-4442-84be-94a6aab4025e",
   "metadata": {},
   "source": [
    "[The Matrix object in sympy](https://docs.sympy.org/latest/tutorial/matrices.html)\n",
    "\n",
    "[Volume Talk](https://github.com/4dsolutions/School_of_Tomorrow/blob/master/VolumeTalk.ipynb)\n",
    "\n",
    "[Tetravolumes from Quadrays](https://github.com/4dsolutions/School_of_Tomorrow/blob/master/Qvolume.ipynb)"
   ]
  },
  {
   "cell_type": "code",
   "execution_count": 18,
   "id": "2b87d179-b3e8-4b79-9b82-30e4a187d6de",
   "metadata": {},
   "outputs": [],
   "source": [
    "# try varying scale factors\n",
    "e0, e1, e2 = o*3, s*3, v*3  # per picture: 2, 2, 5"
   ]
  },
  {
   "cell_type": "markdown",
   "id": "c52905c7-61e8-4d27-9864-abe465d07ec6",
   "metadata": {},
   "source": [
    "The four corners of a tetrahedron with a 60-60-60 degree corner at the origin, e0, e1, e2."
   ]
  },
  {
   "cell_type": "code",
   "execution_count": 19,
   "id": "9db5d99f-e7d5-4199-92e6-94ef4e213bb0",
   "metadata": {},
   "outputs": [
    {
     "data": {
      "text/latex": [
       "$\\displaystyle \\left[\\begin{matrix}0 & 0 & 0 & 0 & 1\\\\3 & 0 & 3 & 6 & 1\\\\3 & 0 & 6 & 3 & 1\\\\6 & 0 & 3 & 3 & 1\\\\1 & 1 & 1 & 1 & 0\\end{matrix}\\right]$"
      ],
      "text/plain": [
       "Matrix([\n",
       "[0, 0, 0, 0, 1],\n",
       "[3, 0, 3, 6, 1],\n",
       "[3, 0, 6, 3, 1],\n",
       "[6, 0, 3, 3, 1],\n",
       "[1, 1, 1, 1, 0]])"
      ]
     },
     "execution_count": 19,
     "metadata": {},
     "output_type": "execute_result"
    }
   ],
   "source": [
    "uvt = Matrix([[*origin.coords,1],  # origin\n",
    "              [*e0.coords, 1],     # e0\n",
    "              [*e1.coords, 1],     # e1\n",
    "              [*e2.coords, 1],     # e2\n",
    "              [1,1,1,1,0]])\n",
    "uvt"
   ]
  },
  {
   "cell_type": "code",
   "execution_count": 20,
   "id": "ee44d4f1-ec90-41a2-9240-a8a8ae4572ba",
   "metadata": {},
   "outputs": [
    {
     "data": {
      "text/latex": [
       "$\\displaystyle 27$"
      ],
      "text/plain": [
       "27"
      ]
     },
     "execution_count": 20,
     "metadata": {},
     "output_type": "execute_result"
    }
   ],
   "source": [
    "abs(uvt.det())/4"
   ]
  },
  {
   "cell_type": "code",
   "execution_count": 21,
   "id": "6aa831cf-38c6-4ea4-b0f8-f2c1b9000969",
   "metadata": {},
   "outputs": [
    {
     "data": {
      "text/plain": [
       "1.0000000000000002"
      ]
     },
     "execution_count": 21,
     "metadata": {},
     "output_type": "execute_result"
    }
   ],
   "source": [
    "s.area(v)"
   ]
  },
  {
   "cell_type": "markdown",
   "id": "52ad411d-925f-480c-8a06-8e183c08237f",
   "metadata": {},
   "source": [
    "<a data-flickr-embed=\"true\" href=\"https://www.flickr.com/photos/kirbyurner/42107444461/in/album-72157622961425831/\" title=\"6 x 2 &#x3D; 12\"><img src=\"https://live.staticflickr.com/830/42107444461_d299ff6aed.jpg\" width=\"500\" height=\"312\" alt=\"6 x 2 &#x3D; 12\"></a><script async src=\"//embedr.flickr.com/assets/client-code.js\" charset=\"utf-8\"></script>"
   ]
  },
  {
   "cell_type": "markdown",
   "id": "18926605-ab2a-488a-a210-23c4a5b2ade9",
   "metadata": {},
   "source": [
    "## Volumes Table\n",
    "\n",
    "Now that we have the notion of \"tetravolumes\" firmly nailed down, we're able to create a new volumes table:\n",
    "\n",
    "<a data-flickr-embed=\"true\" href=\"https://www.flickr.com/photos/kirbyurner/51959110212/in/photolist-2mZv5LL-2nas2eN-2narEqo-2mVNrUK\" title=\"Master Volumes Table\"><img src=\"https://live.staticflickr.com/65535/51959110212_423782c3c2_o.jpg\" width=\"684\" height=\"697\" alt=\"Master Volumes Table\"></a><script async src=\"//embedr.flickr.com/assets/client-code.js\" charset=\"utf-8\"></script>"
   ]
  }
 ],
 "metadata": {
  "kernelspec": {
   "display_name": "Python 3 (ipykernel)",
   "language": "python",
   "name": "python3"
  },
  "language_info": {
   "codemirror_mode": {
    "name": "ipython",
    "version": 3
   },
   "file_extension": ".py",
   "mimetype": "text/x-python",
   "name": "python",
   "nbconvert_exporter": "python",
   "pygments_lexer": "ipython3",
   "version": "3.9.12"
  }
 },
 "nbformat": 4,
 "nbformat_minor": 5
}
