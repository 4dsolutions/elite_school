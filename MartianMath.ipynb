{
 "cells": [
  {
   "cell_type": "markdown",
   "id": "856a821b-5d9e-41f9-99f1-cf655f621cc7",
   "metadata": {},
   "source": [
    "# Elite Academy\n",
    "\n",
    "<a data-flickr-embed=\"true\" href=\"https://www.flickr.com/photos/kirbyurner/4723737184/in/photolist-AnbBkg-88zTZp-ND1MWm-q2jK2i-oyiLca-dapWFp-bWYZGz-cemfyA-c5RPLS-bpXDry-aKmGAt-az4XYn-9XLU4D-9XPMjh-9XPMqw-9KBauT-9BjBnh-9wxrcs-8UWbsi-8TpVug-8xCmYu-8cqouy-7r34KX-7cWHMd-79vjSo-59qUNC-6vT1cM-6kynp4-6ciDzB-65TgBb-5Y1a8T-5QB2pe-5HjGxR-5ye8QF-5yhNus-5tR7MY-5nnFth-5niqFn-5abLDr\" title=\"Classic Geodesic Dome\"><img src=\"https://live.staticflickr.com/1210/4723737184_4c33270733_c.jpg\" width=\"800\" height=\"600\" alt=\"Classic Geodesic Dome\"></a><script async src=\"//embedr.flickr.com/assets/client-code.js\" charset=\"utf-8\"></script>\n",
    "Long Beach: adjacent the [Queen Mary](https://flic.kr/p/cGoQ29) (former [Spruce Goose](https://www.drivearchive.co.uk/xplanes/goose.htm) garage)"
   ]
  },
  {
   "cell_type": "code",
   "execution_count": 3,
   "id": "192c98ac-db21-49a1-af47-b8a904ad4cd0",
   "metadata": {},
   "outputs": [],
   "source": [
    "import qrays\n",
    "from qrays import Qvector as Martian"
   ]
  },
  {
   "cell_type": "code",
   "execution_count": 4,
   "id": "ef3f1aa0-f6ea-479a-b9ed-69d4318398aa",
   "metadata": {},
   "outputs": [],
   "source": [
    "a = Martian((1,0,0,0))\n",
    "b = Martian((0,1,0,0))\n",
    "c = Martian((0,0,1,0))\n",
    "d = Martian((0,0,0,1))"
   ]
  },
  {
   "cell_type": "code",
   "execution_count": 38,
   "id": "65bd5b21-21f3-4c1a-9fc8-2a666a0aa2f7",
   "metadata": {},
   "outputs": [],
   "source": [
    "from itertools import permutations as perm"
   ]
  },
  {
   "cell_type": "code",
   "execution_count": 39,
   "id": "78fa3ba1-f700-423d-b756-e8d5c574fcf8",
   "metadata": {},
   "outputs": [
    {
     "data": {
      "text/plain": [
       "{(0, 0, 0, 1), (0, 0, 1, 0), (0, 1, 0, 0), (1, 0, 0, 0)}"
      ]
     },
     "execution_count": 39,
     "metadata": {},
     "output_type": "execute_result"
    }
   ],
   "source": [
    "dir_4 = {spoke for spoke in perm((0,0,0,1))} # dupeless\n",
    "dir_4"
   ]
  },
  {
   "cell_type": "code",
   "execution_count": 40,
   "id": "a7fced32-903e-453a-a2d5-c6d291bfa24d",
   "metadata": {},
   "outputs": [
    {
     "data": {
      "text/plain": [
       "{(0, 1, 1, 2),\n",
       " (0, 1, 2, 1),\n",
       " (0, 2, 1, 1),\n",
       " (1, 0, 1, 2),\n",
       " (1, 0, 2, 1),\n",
       " (1, 1, 0, 2),\n",
       " (1, 1, 2, 0),\n",
       " (1, 2, 0, 1),\n",
       " (1, 2, 1, 0),\n",
       " (2, 0, 1, 1),\n",
       " (2, 1, 0, 1),\n",
       " (2, 1, 1, 0)}"
      ]
     },
     "execution_count": 40,
     "metadata": {},
     "output_type": "execute_result"
    }
   ],
   "source": [
    "dir_12 = {spoke for spoke in perm((0,1,1,2))} # dupeless\n",
    "dir_12"
   ]
  },
  {
   "cell_type": "code",
   "execution_count": 44,
   "id": "77cb17f4-9b43-4ec7-bed9-8fb737df2335",
   "metadata": {},
   "outputs": [
    {
     "name": "stdout",
     "output_type": "stream",
     "text": [
      "spokes.pov ready for rendering\n"
     ]
    }
   ],
   "source": [
    "from pov import POV_Vector, pov_header\n",
    "beacon = [Martian((t)) for t in dir_12]\n",
    "xyz_beacon = [POV_Vector(v.xyz.x, v.xyz.y, v.xyz.z) for v in beacon]\n",
    "\n",
    "# POV-Ray\n",
    "edge_color = \"rgb <1, 0.4, 0>\"\n",
    "edge_radius= 0.03\n",
    "vert_color = \"rgb <0, 0, 1>\"\n",
    "vert_radius= 0.05\n",
    "\n",
    "with open(\"spokes.pov\", 'w') as output:\n",
    "    print(pov_header, file=output)  # print to the output file\n",
    "    for v in xyz_beacon:\n",
    "        v.draw_edge(edge_color, edge_radius, output)\n",
    "        v.draw_vert(vert_color, vert_radius, output)        \n",
    "    \n",
    "print(\"spokes.pov ready for rendering\")"
   ]
  },
  {
   "cell_type": "code",
   "execution_count": 45,
   "id": "b8d492f3-7fac-4900-9a2d-c41cf0db037a",
   "metadata": {},
   "outputs": [
    {
     "name": "stdout",
     "output_type": "stream",
     "text": [
      "Persistence of Vision(tm) Ray Tracer Version 3.7.0.8.unofficial (clang++ 4.2.1 @\n",
      " x86_64-apple-darwin14.5.0)\n",
      "This is an unofficial version compiled by:\n",
      " homebrew\n",
      " The POV-Ray Team is not responsible for supporting this version.\n",
      "\n",
      "POV-Ray is based on DKBTrace 2.12 by David K. Buck & Aaron A. Collins\n",
      "Copyright 1991-2013 Persistence of Vision Raytracer Pty. Ltd.\n",
      "\n",
      "Primary POV-Ray 3.7 Architects/Developers: (Alphabetically)\n",
      "  Chris Cason         Thorsten Froehlich  Christoph Lipka   \n",
      "\n",
      "With Assistance From: (Alphabetically)\n",
      "  Nicolas Calimet     Jerome Grimbert     James Holsenback    Christoph Hormann \n",
      "  Nathan Kopp         Juha Nieminen     \n",
      "\n",
      "Past Contributors: (Alphabetically)\n",
      "  Steve Anger         Eric Barish         Dieter Bayer        David K. Buck     \n",
      "  Nicolas Calimet     Chris Cason         Aaron A. Collins    Chris Dailey      \n",
      "  Steve Demlow        Andreas Dilger      Alexander Enzmann   Dan Farmer        \n",
      "  Thorsten Froehlich  Mark Gordon         James Holsenback    Christoph Hormann \n",
      "  Mike Hough          Chris Huff          Kari Kivisalo       Nathan Kopp       \n",
      "  Lutz Kretzschmar    Christoph Lipka     Jochen Lippert      Pascal Massimino  \n",
      "  Jim McElhiney       Douglas Muir        Juha Nieminen       Ron Parker        \n",
      "  Bill Pulver         Eduard Schwan       Wlodzimierz Skiba   Robert Skinner    \n",
      "  Yvo Smellenbergh    Zsolt Szalavari     Scott Taylor        Massimo Valentini \n",
      "  Timothy Wegner      Drew Wells          Chris Young       \n",
      "\n",
      "Other contributors are listed in the documentation.\n",
      "\n",
      "Support libraries used by POV-Ray:\n",
      "  ZLib 1.2.5, Copyright 1995-2012 Jean-loup Gailly and Mark Adler\n",
      "  LibPNG 1.6.37, Copyright 1998-2012 Glenn Randers-Pehrson\n",
      "  LibJPEG 90, Copyright 1991-2013 Thomas G. Lane, Guido Vollbeding\n",
      "  LibTIFF 4.3.0, Copyright 1988-1997 Sam Leffler, 1991-1997 SGI\n",
      "  Boost 1.70, http://www.boost.org/\n",
      "\n",
      "==== [Parsing...] ==========================================================\n",
      "==== [Rendering...] ========================================================\n",
      "Rendered 786432 of 786432 pixels (100%)\n",
      "POV-Ray finished\n",
      "\n"
     ]
    }
   ],
   "source": [
    "! /usr/local/bin/povray +A +H768 +W1024 -GA ./spokes.pov"
   ]
  },
  {
   "cell_type": "markdown",
   "id": "45d813e8-07dd-46ef-8e7b-73c07912b945",
   "metadata": {},
   "source": [
    "![spokes](spokes.png)"
   ]
  }
 ],
 "metadata": {
  "kernelspec": {
   "display_name": "Python 3 (ipykernel)",
   "language": "python",
   "name": "python3"
  },
  "language_info": {
   "codemirror_mode": {
    "name": "ipython",
    "version": 3
   },
   "file_extension": ".py",
   "mimetype": "text/x-python",
   "name": "python",
   "nbconvert_exporter": "python",
   "pygments_lexer": "ipython3",
   "version": "3.9.12"
  }
 },
 "nbformat": 4,
 "nbformat_minor": 5
}
