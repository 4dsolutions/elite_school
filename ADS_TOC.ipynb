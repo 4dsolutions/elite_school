{
 "cells": [
  {
   "cell_type": "markdown",
   "id": "9f9864ab-98d8-4e75-b4f7-5db9240a3d1f",
   "metadata": {
    "tags": []
   },
   "source": [
    "##### Algorithms and Data Structures (Winter - Spring 2022)\n",
    "\n",
    "# Table of Contents\n",
    "\n",
    "\n",
    "* Main Text \n",
    "    -   [Algorithms and Data Structures](ADS_intro_1.ipynb) \n",
    "    -   [Algorithms (continued)](ADS_intro_2.ipynb)\n",
    "    -   [Structured Data](ADS_intro_3.ipynb)\n",
    "    \n",
    "* Projects \n",
    "    - [Wordle](ADS_project_1.ipynb)\n",
    "    - [ACSL / USACO](Exercises.ipynb)\n",
    "    - [Repo](https://github.com/4dsolutions/elite_school/)\n",
    "    \n",
    "* Sandboxes \n",
    "    -   [Spatial Geometry](ADS_sandbox.ipynb)  \n",
    "    -   [Finite Groups](ADS_sandbox_2.ipynb)  \n",
    "    -   [Chess](ADS_sandbox_3.ipynb)\n",
    "    -   [Soccer](ADS_sandbox_4.ipynb)\n",
    "    -   [Maps](ADS_sandbox_5.ipynb)\n",
    "    -   [Graphs](ADS_sandbox_6.ipynb)\n",
    "    -   [Sorting](ADS_sandbox_7.ipynb)\n",
    "    \n",
    "* Research \n",
    "    -   [Word Sets and Graph Theory](ADS_research_1.ipynb)"
   ]
  },
  {
   "cell_type": "code",
   "execution_count": null,
   "id": "ef899a2b-0bca-43f9-b23c-53811ce4ce30",
   "metadata": {},
   "outputs": [],
   "source": []
  }
 ],
 "metadata": {
  "kernelspec": {
   "display_name": "Python 3 (ipykernel)",
   "language": "python",
   "name": "python3"
  },
  "language_info": {
   "codemirror_mode": {
    "name": "ipython",
    "version": 3
   },
   "file_extension": ".py",
   "mimetype": "text/x-python",
   "name": "python",
   "nbconvert_exporter": "python",
   "pygments_lexer": "ipython3",
   "version": "3.9.12"
  }
 },
 "nbformat": 4,
 "nbformat_minor": 5
}
