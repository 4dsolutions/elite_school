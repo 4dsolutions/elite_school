{
 "cells": [
  {
   "cell_type": "markdown",
   "id": "5b130d8a",
   "metadata": {},
   "source": [
    "# The Rootful Cuboid\n",
    "\n",
    "\n",
    "<a data-flickr-embed=\"true\" href=\"https://www.flickr.com/photos/kirbyurner/51493063586/in/dateposted-public/\" title=\"cuboid\"><img src=\"https://live.staticflickr.com/65535/51493063586_d7576b6cab_o.jpg\" width=\"321\" height=\"321\" alt=\"cuboid\"></a><script async src=\"//embedr.flickr.com/assets/client-code.js\" charset=\"utf-8\"></script>\n",
    "\n",
    "A round of applause for this David Koski discovery, perhaps known to nomads, but missing from contemporary popularizations: \n",
    "\n",
    "The cuboid of height, width, depth $\\sqrt{1}$ $\\sqrt{2}$ $\\sqrt{4}$, and face diagonals $\\sqrt{3}$ $\\sqrt{5}$ $\\sqrt{6}$ and body diagonal  $\\sqrt{7}$.  \n",
    "\n",
    "That's a parellelopiped with an inscribed tetrahedron of only face diagonals, and four right tetrahedrons each involving a corner and three right angles.  \n",
    "\n",
    "The inscribed tetrahedron will have a volume 1/3rd that of the paralleopiped, with the corner tetrahedrons each having 1/6th that total volume. This is a generic truth for parallelopipeds.\n",
    "\n",
    "Lets label the two ends of the cuboic (brick) ABCD counter-clockwise with EFGH at the other end, and matching A with E, B with F and so on, such that the six faces of the cuboid are:  \n",
    "\n",
    "* ABCD, EFGH (opposite front/back)\n",
    "* AEFB, DHGF (parallel sides)\n",
    "* ADHE, BCGF (parallel top/bottom)\n",
    "\n",
    "The convention for naming edges is to write the two corner points alphabetically, to keep them unique.  We write AB, but not BA, as these describe the same edge and we want a unique canonical identifier for each one."
   ]
  },
  {
   "cell_type": "code",
   "execution_count": 1,
   "id": "47ce8341",
   "metadata": {},
   "outputs": [],
   "source": [
    "from math import sqrt as rt2\n",
    "\n",
    "# cuboid\n",
    "AB = EF = CD = GH = rt2(1)/2\n",
    "AD = BC = FG = EH = rt2(2)/2\n",
    "AC = BD = EG = FH = rt2(3)/2\n",
    "AE = BF = CG = DH = rt2(4)/2\n",
    "AF = BE = CH = DG = rt2(5)/2\n",
    "AH = BG = CF = DE = rt2(6)/2\n",
    "AG = BH = CE = DF = rt2(7)/2"
   ]
  },
  {
   "cell_type": "markdown",
   "id": "38de5b83",
   "metadata": {},
   "source": [
    "Enter our frame of reference made of unit radius spheres packed in the CCP interconnected by IVM vectors.  Four such spheres packed together define a tetrahedron of edges one sphere diameter (D), or twice the radius (R).  \n",
    "\n",
    "<a data-flickr-embed=\"true\" href=\"https://www.flickr.com/photos/kirbyurner/4949801610/in/photolist-2m29ojG-5DsYaY-2i3qGpP-8EDNfx-8xp2z5-6wUiRq\" title=\"Sphere Packing\"><img src=\"https://live.staticflickr.com/4146/4949801610_da3fc94b2c_n.jpg\" width=\"240\" height=\"320\" alt=\"Sphere Packing\"></a><script async src=\"//embedr.flickr.com/assets/client-code.js\" charset=\"utf-8\"></script>\n",
    "\n",
    "If we wish our home base tetrahedron of edges one, to have volume one, then set we set our unit length to D (= 2 R).\n",
    "\n",
    "The reason for scaling the entire cuboid describe above by 1/2 is to imagine we're going from R as unit length to D as unit length.  Every length gets halved, and the result is an inscribed tetradron of unit tetravolume, the same as our reference tetrahedron's, even though this one is irregular.\n",
    "\n",
    "The transformation from XYZ volume to IVM volume is baked into the constant S3, such that we sometimes say \"XYZ volume times S3 gives IVM volume\" with 1/S3 used to go the other direction.  S3 = $\\sqrt{9/8}$ or $(3\\sqrt{2})/4$."
   ]
  },
  {
   "cell_type": "code",
   "execution_count": 2,
   "id": "93c4e34a",
   "metadata": {
    "tags": []
   },
   "outputs": [],
   "source": [
    "import tetravolume as tv"
   ]
  },
  {
   "cell_type": "markdown",
   "id": "86e15241",
   "metadata": {},
   "source": [
    "The volume method used below takes the six lengths of a tetrahedron as input.  \n",
    "\n",
    "Order matters.  \n",
    "\n",
    "Pick a corner, any corner, of the tetrahedron, and start with the three lengths stemming from that corner, to the corners of the opposite face.  \n",
    "\n",
    "Then provide the segments around the opposite face, in the same order mentioned.\n",
    "\n",
    "For example, given tetrahedron ABCD, lets pick A and go AB, AC, AD.  \n",
    "\n",
    "The opposite face is BCD and the lengths should be in the order mentioned the first time i.e. B first, so B-to-C, C-to-D and D-back-to-B i.e. BC, CD, BD.  \n",
    "\n",
    "Remember how edges have a unique representation and we write BD versus DB, because B is before D alphabetically."
   ]
  },
  {
   "cell_type": "code",
   "execution_count": 3,
   "id": "eeb0d28f",
   "metadata": {},
   "outputs": [],
   "source": [
    "unit_vol = tv.Tetrahedron(1, 1, 1, 1, 1, 1) # reference tetrahedron"
   ]
  },
  {
   "cell_type": "code",
   "execution_count": 4,
   "id": "7035634d",
   "metadata": {},
   "outputs": [
    {
     "data": {
      "text/plain": [
       "1.0"
      ]
     },
     "execution_count": 4,
     "metadata": {},
     "output_type": "execute_result"
    }
   ],
   "source": [
    "unit_vol.ivm_volume()"
   ]
  },
  {
   "cell_type": "code",
   "execution_count": 5,
   "id": "cc229831",
   "metadata": {},
   "outputs": [
    {
     "data": {
      "text/plain": [
       "1.0"
      ]
     },
     "execution_count": 5,
     "metadata": {},
     "output_type": "execute_result"
    }
   ],
   "source": [
    "ACHF = tv.Tetrahedron(AC, AH, AF, CH, FH, CF) # inscribed tetrahedron, all face diagonals\n",
    "ACHF.ivm_volume()"
   ]
  },
  {
   "cell_type": "code",
   "execution_count": 6,
   "id": "883affbf",
   "metadata": {},
   "outputs": [
    {
     "data": {
      "text/plain": [
       "0.9428090415820635"
      ]
     },
     "execution_count": 6,
     "metadata": {},
     "output_type": "execute_result"
    }
   ],
   "source": [
    "ACHF.xyz_volume()"
   ]
  },
  {
   "cell_type": "code",
   "execution_count": 7,
   "id": "11b9c83a",
   "metadata": {},
   "outputs": [
    {
     "data": {
      "text/plain": [
       "0.5"
      ]
     },
     "execution_count": 7,
     "metadata": {},
     "output_type": "execute_result"
    }
   ],
   "source": [
    "AEDB = tv.Tetrahedron(AB, AE, AD, BE, DE, BD) # right angles at A\n",
    "AEDB.ivm_volume()"
   ]
  },
  {
   "cell_type": "code",
   "execution_count": 8,
   "id": "cb625ff5",
   "metadata": {},
   "outputs": [
    {
     "data": {
      "text/plain": [
       "0.49999999999999956"
      ]
     },
     "execution_count": 8,
     "metadata": {},
     "output_type": "execute_result"
    }
   ],
   "source": [
    "ABCE = tv.Tetrahedron(AB, AC, AE, BC, CE, BE) # right angles at B\n",
    "ABCE.ivm_volume()"
   ]
  },
  {
   "cell_type": "code",
   "execution_count": 9,
   "id": "02df5c95",
   "metadata": {},
   "outputs": [
    {
     "data": {
      "text/plain": [
       "0.5"
      ]
     },
     "execution_count": 9,
     "metadata": {},
     "output_type": "execute_result"
    }
   ],
   "source": [
    "ACDH = tv.Tetrahedron(AD, CD, DH, AC, CH, AH)  # right angles at H\n",
    "ACDH.ivm_volume()"
   ]
  },
  {
   "cell_type": "code",
   "execution_count": 10,
   "id": "5b30cb2c",
   "metadata": {},
   "outputs": [
    {
     "data": {
      "text/plain": [
       "0.5"
      ]
     },
     "execution_count": 10,
     "metadata": {},
     "output_type": "execute_result"
    }
   ],
   "source": [
    "FGHC = tv.Tetrahedron(FG, GH, CG, FH, CH, CF) # right angles at G\n",
    "FGHC.ivm_volume()"
   ]
  },
  {
   "cell_type": "code",
   "execution_count": 11,
   "id": "3c3cd23e",
   "metadata": {},
   "outputs": [
    {
     "data": {
      "text/plain": [
       "0.5"
      ]
     },
     "execution_count": 11,
     "metadata": {},
     "output_type": "execute_result"
    }
   ],
   "source": [
    "ABCF = tv.Tetrahedron(AB, AC, AF, BC, CF, BF) # includes body diagonal\n",
    "ABCF.ivm_volume()"
   ]
  },
  {
   "cell_type": "code",
   "execution_count": 12,
   "id": "5ee1524d",
   "metadata": {},
   "outputs": [],
   "source": [
    "S3 = rt2(9/8)"
   ]
  },
  {
   "cell_type": "code",
   "execution_count": 13,
   "id": "88749f8a",
   "metadata": {},
   "outputs": [
    {
     "data": {
      "text/plain": [
       "2.8284271247461903"
      ]
     },
     "execution_count": 13,
     "metadata": {},
     "output_type": "execute_result"
    }
   ],
   "source": [
    "1/S3 * 3"
   ]
  },
  {
   "cell_type": "code",
   "execution_count": 14,
   "id": "3445a090",
   "metadata": {},
   "outputs": [
    {
     "data": {
      "text/plain": [
       "2.8284271247461907"
      ]
     },
     "execution_count": 14,
     "metadata": {},
     "output_type": "execute_result"
    }
   ],
   "source": [
    "rt2(2)**3"
   ]
  }
 ],
 "metadata": {
  "kernelspec": {
   "display_name": "Python 3",
   "language": "python",
   "name": "python3"
  },
  "language_info": {
   "codemirror_mode": {
    "name": "ipython",
    "version": 3
   },
   "file_extension": ".py",
   "mimetype": "text/x-python",
   "name": "python",
   "nbconvert_exporter": "python",
   "pygments_lexer": "ipython3",
   "version": "3.7.9"
  }
 },
 "nbformat": 4,
 "nbformat_minor": 5
}
