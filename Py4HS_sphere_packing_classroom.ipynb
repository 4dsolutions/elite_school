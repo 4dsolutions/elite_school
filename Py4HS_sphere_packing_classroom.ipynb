{
 "cells": [
  {
   "cell_type": "markdown",
   "id": "161f1d9b-7001-4478-bbb8-ce1fd8043591",
   "metadata": {},
   "source": [
    "### Looking at Sphere Packing using OEIS\n",
    "\n",
    "<pre>\n",
    " 1 -- center ball\n",
    "12 -- layer 1\n",
    "42 -- layer 2\n",
    "92 -- layer 3\n",
    "...\n",
    "</pre>"
   ]
  },
  {
   "cell_type": "code",
   "execution_count": 6,
   "id": "c081ad1b-0721-4369-ab5f-c56d2610813a",
   "metadata": {},
   "outputs": [],
   "source": [
    "def a005901(layer : int) -> int:\n",
    "    \"\"\"\n",
    "    https://oeis.org/A005901\n",
    "    layer >= 0\n",
    "    \"\"\"\n",
    "    if int(layer) < 0:\n",
    "        raise ValueError\n",
    "    if not (int(layer) == float(layer)):\n",
    "        raise ValueError\n",
    "        \n",
    "    if layer == 0:\n",
    "        return 1\n",
    "    return 10 * layer ** 2 + 2"
   ]
  },
  {
   "cell_type": "code",
   "execution_count": 37,
   "id": "609a2d74-16a3-40d7-a177-026482891d39",
   "metadata": {},
   "outputs": [
    {
     "name": "stdout",
     "output_type": "stream",
     "text": [
      "[1, 12, 42, 92, 162, 252, 362, 492, 642, 812, 1002, 1212, 1442, 1692, 1962, 2252, 2562, 2892, 3242, 3612, 4002, 4412, 4842, 5292, 5762, 6252, 6762, 7292, 7842, 8412]\n"
     ]
    }
   ],
   "source": [
    "print([a005901(x) for x in range(30)])"
   ]
  },
  {
   "cell_type": "code",
   "execution_count": 16,
   "id": "c33ed68d-9898-4be0-a18f-b7e06b576cff",
   "metadata": {},
   "outputs": [],
   "source": [
    "def accum_a005901(layer):\n",
    "    \"\"\"\n",
    "    A005902 cumulative version of A005901\n",
    "    \"\"\"\n",
    "    total = 0\n",
    "    for x in range(layer + 1):\n",
    "        total = total + a005901(x)\n",
    "    return total"
   ]
  },
  {
   "cell_type": "code",
   "execution_count": 34,
   "id": "a6464325-f5ac-4eae-a480-6f1f0de240ae",
   "metadata": {},
   "outputs": [],
   "source": [
    "def short_cut(layer):\n",
    "    if layer == 0:\n",
    "        return 1\n",
    "    return ((2 * layer + 1) * (5 * layer**2 + 5 * layer + 3)) // 3"
   ]
  },
  {
   "cell_type": "code",
   "execution_count": 35,
   "id": "7fdd39c5-1013-4e7a-b759-45ba35d3522c",
   "metadata": {},
   "outputs": [
    {
     "data": {
      "text/plain": [
       "55"
      ]
     },
     "execution_count": 35,
     "metadata": {},
     "output_type": "execute_result"
    }
   ],
   "source": [
    "short_cut(2)"
   ]
  },
  {
   "cell_type": "code",
   "execution_count": 38,
   "id": "50cf7bb2-9958-435c-ad6b-195af3467d07",
   "metadata": {},
   "outputs": [
    {
     "name": "stdout",
     "output_type": "stream",
     "text": [
      "[1, 13, 55, 147, 309, 561, 923, 1415, 2057, 2869, 3871, 5083, 6525, 8217, 10179, 12431, 14993, 17885, 21127, 24739, 28741, 33153, 37995, 43287, 49049, 55301, 62063, 69355, 77197, 85609]\n"
     ]
    }
   ],
   "source": [
    "print([short_cut(x) for x in range(30)])"
   ]
  },
  {
   "cell_type": "markdown",
   "id": "91958f11-5f72-4429-abcd-7dc81002597d",
   "metadata": {},
   "source": [
    "### Remember how divsion works:  / versus //"
   ]
  },
  {
   "cell_type": "code",
   "execution_count": 39,
   "id": "7150b7c6-7664-4436-8079-6df7d54c9ebc",
   "metadata": {},
   "outputs": [
    {
     "data": {
      "text/plain": [
       "3.0"
      ]
     },
     "execution_count": 39,
     "metadata": {},
     "output_type": "execute_result"
    }
   ],
   "source": [
    "6 / 2"
   ]
  },
  {
   "cell_type": "code",
   "execution_count": 40,
   "id": "3fe97b3e-617f-4a2b-baf1-a3462fabc53a",
   "metadata": {},
   "outputs": [
    {
     "data": {
      "text/plain": [
       "3"
      ]
     },
     "execution_count": 40,
     "metadata": {},
     "output_type": "execute_result"
    }
   ],
   "source": [
    "6 // 2"
   ]
  },
  {
   "cell_type": "code",
   "execution_count": 33,
   "id": "690b4cbb-91e8-49f8-b19a-c182282dd2a7",
   "metadata": {},
   "outputs": [
    {
     "data": {
      "text/plain": [
       "0.75"
      ]
     },
     "execution_count": 33,
     "metadata": {},
     "output_type": "execute_result"
    }
   ],
   "source": [
    "6 / 8"
   ]
  }
 ],
 "metadata": {
  "kernelspec": {
   "display_name": "Python 3 (ipykernel)",
   "language": "python",
   "name": "python3"
  },
  "language_info": {
   "codemirror_mode": {
    "name": "ipython",
    "version": 3
   },
   "file_extension": ".py",
   "mimetype": "text/x-python",
   "name": "python",
   "nbconvert_exporter": "python",
   "pygments_lexer": "ipython3",
   "version": "3.9.12"
  }
 },
 "nbformat": 4,
 "nbformat_minor": 5
}
