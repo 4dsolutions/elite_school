{
 "cells": [
  {
   "cell_type": "markdown",
   "id": "7d6576f1-764f-4cbe-996b-8c1f0a6ff7b3",
   "metadata": {},
   "source": [
    "##### Python for High School (Winter 2022)\n",
    "\n",
    "* [Table of Contents](PY4HS.ipynb)\n",
    "* <a href=\"https://colab.research.google.com/github/4dsolutions/elite_school/blob/master/Py4HS_Matrix_Math.ipynb\"><img align=\"left\" src=\"https://colab.research.google.com/assets/colab-badge.svg\" alt=\"Open in Colab\" title=\"Open and Execute in Google Colaboratory\"></a>\n",
    "* [![nbviewer](https://raw.githubusercontent.com/jupyter/design/master/logos/Badges/nbviewer_badge.svg)](https://nbviewer.org/github/4dsolutions/elite_school/blob/master/Py4HS_Matrix_Math.ipynb)"
   ]
  },
  {
   "cell_type": "markdown",
   "id": "998f061b-d9fd-49fd-89f5-37dc3d70b7f8",
   "metadata": {},
   "source": [
    "# Matrix Math\n",
    "\n",
    "Let's start with notation, and with what we do in Markdown, with our Jupyter Notebooks.  \n",
    "\n",
    "When wanting to typeset mathematics in Jupyter, we use $\\LaTeX$.\n",
    "\n",
    "Like this:\n",
    "\n",
    "$$\n",
    "\\frac{d}{dx}\\sin{x}=\\cos{x}\n",
    "$$\n",
    "\n",
    "Or like this:\n",
    "\n",
    "A matrix is a notational device, an artifact in typesetting one could say, a rectangular arrangement that we generalize to more and more axes within the underlying theory (the algebra).  \n",
    "\n",
    "A matrix is also an operational object, encoded in Python, versus typeset.\n",
    "\n",
    "We might do matrix operations with the following packages: \n",
    "\n",
    "* [numpy.linalg](https://numpy.org/doc/stable/reference/routines.linalg.html#module-numpy.linalg)\n",
    "* [scipy.linalg](https://docs.scipy.org/doc/scipy/reference/linalg.html#module-scipy.linalg) \n",
    "\n",
    "in Python."
   ]
  },
  {
   "cell_type": "code",
   "execution_count": 1,
   "id": "03a80996-7116-4a6c-848f-f1ec8a9283d2",
   "metadata": {},
   "outputs": [],
   "source": [
    "import numpy as np\n",
    "import scipy.linalg as sp_la"
   ]
  },
  {
   "cell_type": "code",
   "execution_count": 2,
   "id": "cc4b19d8-0cfb-470c-9ec6-03bf6b152772",
   "metadata": {},
   "outputs": [
    {
     "data": {
      "text/plain": [
       "<module 'numpy.linalg' from '/Users/kirbyurner/opt/anaconda3/lib/python3.9/site-packages/numpy/linalg/__init__.py'>"
      ]
     },
     "execution_count": 2,
     "metadata": {},
     "output_type": "execute_result"
    }
   ],
   "source": [
    "np.linalg"
   ]
  },
  {
   "cell_type": "code",
   "execution_count": 3,
   "id": "7c8e016a-dcab-4d22-9dc8-7433f9ddf1c3",
   "metadata": {},
   "outputs": [
    {
     "data": {
      "text/plain": [
       "<module 'scipy.linalg' from '/Users/kirbyurner/opt/anaconda3/lib/python3.9/site-packages/scipy/linalg/__init__.py'>"
      ]
     },
     "execution_count": 3,
     "metadata": {},
     "output_type": "execute_result"
    }
   ],
   "source": [
    "sp_la"
   ]
  },
  {
   "cell_type": "markdown",
   "id": "ce22ac8b-b638-49c7-a1b9-b46e0f25f521",
   "metadata": {},
   "source": [
    "Let's say we're especially keen to use the symbols from the quantum mechanics literature, such as the little dagger symbol next to a matrix.  [Where did that come from?](https://hsm.stackexchange.com/questions/11426/who-introduced-the-daggersymbol-as-conjugate-transpose-in-quantum-mechanics)\n",
    "\n",
    "It represents [\"cojugate transpose of\"](https://en.wikipedia.org/wiki/Conjugate_transpose), meaning the matrix is transposed, then each term is replaced with its complex conjugate."
   ]
  },
  {
   "cell_type": "code",
   "execution_count": 4,
   "id": "cd96e7ae-7630-4ba4-91f1-19c81aa66eaf",
   "metadata": {},
   "outputs": [
    {
     "data": {
      "text/plain": [
       "(1+2j)"
      ]
     },
     "execution_count": 4,
     "metadata": {},
     "output_type": "execute_result"
    }
   ],
   "source": [
    "c = 1 + 2j\n",
    "c"
   ]
  },
  {
   "cell_type": "code",
   "execution_count": 5,
   "id": "c0e9a421-5655-433f-b864-af83a181d620",
   "metadata": {},
   "outputs": [
    {
     "data": {
      "text/plain": [
       "(1-2j)"
      ]
     },
     "execution_count": 5,
     "metadata": {},
     "output_type": "execute_result"
    }
   ],
   "source": [
    "c.conjugate()"
   ]
  },
  {
   "cell_type": "code",
   "execution_count": 6,
   "id": "28cc03e7-4373-439e-bd09-7219af078b3c",
   "metadata": {},
   "outputs": [],
   "source": [
    "d = 3 - 5j"
   ]
  },
  {
   "cell_type": "code",
   "execution_count": 7,
   "id": "5c872af3-7c77-4e7f-89c6-1ea46b399631",
   "metadata": {},
   "outputs": [
    {
     "data": {
      "text/plain": [
       "array([[1.+2.j, 3.-5.j],\n",
       "       [3.-5.j, 1.+2.j]])"
      ]
     },
     "execution_count": 7,
     "metadata": {},
     "output_type": "execute_result"
    }
   ],
   "source": [
    "matrix = np.array([c, d, d, c]).reshape(2,2)\n",
    "matrix"
   ]
  },
  {
   "cell_type": "code",
   "execution_count": 8,
   "id": "f09e25e7-8ee4-4ae7-8580-62200d3959d7",
   "metadata": {},
   "outputs": [
    {
     "data": {
      "text/plain": [
       "array([[1.-2.j, 3.+5.j],\n",
       "       [3.+5.j, 1.-2.j]])"
      ]
     },
     "execution_count": 8,
     "metadata": {},
     "output_type": "execute_result"
    }
   ],
   "source": [
    "matrix.conjugate()"
   ]
  },
  {
   "cell_type": "code",
   "execution_count": 9,
   "id": "94063602-c7ea-4b92-ab11-544b4f6a03bc",
   "metadata": {},
   "outputs": [
    {
     "data": {
      "text/plain": [
       "array([[1.-2.j, 3.+5.j],\n",
       "       [3.+5.j, 1.-2.j]])"
      ]
     },
     "execution_count": 9,
     "metadata": {},
     "output_type": "execute_result"
    }
   ],
   "source": [
    "matrix.T.conjugate()"
   ]
  },
  {
   "cell_type": "code",
   "execution_count": 10,
   "id": "ea83efb3-6b75-48ca-832d-c8440409993a",
   "metadata": {},
   "outputs": [
    {
     "data": {
      "text/plain": [
       "array([[1.-2.j, 3.+5.j],\n",
       "       [3.+5.j, 1.-2.j]])"
      ]
     },
     "execution_count": 10,
     "metadata": {},
     "output_type": "execute_result"
    }
   ],
   "source": [
    "matrix.conjugate().T"
   ]
  },
  {
   "cell_type": "markdown",
   "id": "20a3e228-21ed-41ac-92fe-caec78df12ab",
   "metadata": {},
   "source": [
    "From the [Wikipedia example](https://en.wikipedia.org/wiki/Conjugate_transpose#Example):\n",
    "\n",
    "$$\n",
    "\\boldsymbol{A} = \\begin{bmatrix} 1 & -2 - i & 5 \\\\ 1 + i & i & 4-2i \\end{bmatrix}\n",
    "$$\n",
    "\n",
    "$$\n",
    "\\boldsymbol{A}^\\mathsf{T} = \\begin{bmatrix} 1 & 1 + i \\\\ -2 - i & i \\\\ 5 & 4-2i\\end{bmatrix}\n",
    "$$\n",
    "\n",
    "$$\n",
    "\\boldsymbol{A}^\\mathrm{H} = \\begin{bmatrix} 1 & 1 - i \\\\ -2 + i & -i \\\\ 5 & 4+2i\\end{bmatrix}\n",
    "$$"
   ]
  },
  {
   "cell_type": "code",
   "execution_count": 11,
   "id": "1ce56ab2-9704-4f5e-9ce9-72cfaf247c7d",
   "metadata": {},
   "outputs": [
    {
     "data": {
      "text/plain": [
       "array([[ 1.+0.j, -2.-1.j,  5.+0.j],\n",
       "       [ 1.+1.j,  0.+1.j,  4.-2.j]])"
      ]
     },
     "execution_count": 11,
     "metadata": {},
     "output_type": "execute_result"
    }
   ],
   "source": [
    "A = np.array([[1, -2-1j, 5], [1+1j, 1j, 4-2j]], dtype=complex)\n",
    "A"
   ]
  },
  {
   "cell_type": "code",
   "execution_count": 12,
   "id": "2ab982e4-dd86-4ec6-b00f-0a3a64cda9e3",
   "metadata": {},
   "outputs": [
    {
     "data": {
      "text/plain": [
       "array([[ 1.+0.j,  1.+1.j],\n",
       "       [-2.-1.j,  0.+1.j],\n",
       "       [ 5.+0.j,  4.-2.j]])"
      ]
     },
     "execution_count": 12,
     "metadata": {},
     "output_type": "execute_result"
    }
   ],
   "source": [
    "A.T"
   ]
  },
  {
   "cell_type": "code",
   "execution_count": 13,
   "id": "d17db09e-2429-4258-b3c8-f1e82b7eabb0",
   "metadata": {},
   "outputs": [
    {
     "data": {
      "text/plain": [
       "array([[ 1.-0.j,  1.-1.j],\n",
       "       [-2.+1.j,  0.-1.j],\n",
       "       [ 5.-0.j,  4.+2.j]])"
      ]
     },
     "execution_count": 13,
     "metadata": {},
     "output_type": "execute_result"
    }
   ],
   "source": [
    "A.T.conjugate()"
   ]
  },
  {
   "cell_type": "markdown",
   "id": "43537227-87e7-427f-a786-d6ff1e535fcc",
   "metadata": {},
   "source": [
    "[Dr. Shouke Wei](https://medium.com/@shouke.wei) has done some excellent work online to distill $\\LaTeX$'s abilities for us.  I'm not finding the dagger per se, but I've got what I need to make a matrix.\n",
    "\n",
    "I'm drawing from his *Commonly Used Equations and Symbols with Latex in Jupyter Notebook* [on Medium](https://medium.com/@shouke.wei/commonly-used-equations-and-symbols-with-latex-in-jupyter-notebook-c5812ac15e90). If you have exhausted your quota on Medium, not to worry.  What you need is right here in this Notebook."
   ]
  },
  {
   "cell_type": "markdown",
   "id": "302c11df-ed9c-4fcd-9d8b-a2a6cd87089e",
   "metadata": {},
   "source": [
    "$$\n",
    "\\begin{bmatrix}\n",
    "    x_{11} & x_{12} & x_{13} & \\dots & x_{1n} \\\\\n",
    "    x_{21} & x_{22} & x_{23} & \\dots & x_{2n} \\\\\n",
    "    \\ldots &\\ldots &\\ldots &\\ldots &\\ldots \\\\\n",
    "    x_{d1}       & x_{d2} & x_{d3} & \\dots & x_{dn}\n",
    "\\end{bmatrix}\n",
    "=\n",
    "\\begin{bmatrix}\n",
    "    x_{11} & x_{12} & x_{13} & \\dots  & x_{1n} \\\\\n",
    "    x_{21} & x_{22} & x_{23} & \\dots  & x_{2n} \\\\\n",
    "    \\vdots & \\vdots & \\vdots & \\ddots & \\vdots \\\\\n",
    "    x_{d1} & x_{d2} & x_{d3} & \\dots  & x_{dn}\n",
    "\\end{bmatrix}\n",
    "$$\n",
    "\n",
    "Adapting what we've learned above, let's go below:"
   ]
  },
  {
   "cell_type": "markdown",
   "id": "2f7d440c-6b3e-45fe-aceb-ea2f2b5023bf",
   "metadata": {},
   "source": [
    "$$\n",
    "\\begin{bmatrix}\n",
    "    x_{11} & x_{12} & x_{13} & \\dots & x_{1n} \\\\\n",
    "    x_{21} & x_{22} & x_{23} & \\dots & x_{2n} \\\\\n",
    "    \\ldots &\\ldots &\\ldots &\\ldots &\\ldots \\\\\n",
    "    x_{d1}       & x_{d2} & x_{d3} & \\dots & x_{dn}\n",
    "\\end{bmatrix}{\\Large ^{\\dagger}}\n",
    "$$\n",
    "\n",
    "That's pretty good right?  There's some playing with [font size](https://latex-tutorial.com/changing-font-size/).\n",
    "\n",
    "And besides, we're usually fine representing an entire matrix with one letter, thusly:"
   ]
  },
  {
   "cell_type": "markdown",
   "id": "cab41590-7629-4bad-861b-12aae6416f88",
   "metadata": {},
   "source": [
    "$$\n",
    "A^{\\dagger}\n",
    "$$"
   ]
  },
  {
   "cell_type": "markdown",
   "id": "f5dce917-e046-41de-ab41-157dcf0d4be0",
   "metadata": {},
   "source": [
    "But what does it all mean:  the Hermitian adjoint and so on?"
   ]
  },
  {
   "cell_type": "code",
   "execution_count": 14,
   "id": "bf0cc140-bcfe-4f1f-9bc4-89791b69bf0d",
   "metadata": {},
   "outputs": [],
   "source": [
    "from IPython.display import YouTubeVideo"
   ]
  },
  {
   "cell_type": "code",
   "execution_count": 15,
   "id": "1b42e2d3-0e7e-413f-a5e6-02cc0fbbc0f5",
   "metadata": {},
   "outputs": [
    {
     "data": {
      "image/jpeg": "[encoded data removed]",
      "text/html": [
       "\n",
       "        <iframe\n",
       "            width=\"400\"\n",
       "            height=\"300\"\n",
       "            src=\"https://www.youtube.com/embed/t2z3Tinoi04\"\n",
       "            frameborder=\"0\"\n",
       "            allowfullscreen\n",
       "            \n",
       "        ></iframe>\n",
       "        "
      ],
      "text/plain": [
       "<IPython.lib.display.YouTubeVideo at 0x7fb4d6304250>"
      ]
     },
     "execution_count": 15,
     "metadata": {},
     "output_type": "execute_result"
    }
   ],
   "source": [
    "YouTubeVideo(\"t2z3Tinoi04\")"
   ]
  },
  {
   "cell_type": "markdown",
   "id": "d9bdb881-5f34-4d5e-97ab-12205c973d30",
   "metadata": {},
   "source": [
    "We're going to need the eigen stuff, complex conjugates, the star operator...  more $\\LaTeX$ and more operational objects, in other words."
   ]
  },
  {
   "cell_type": "markdown",
   "id": "a65dd612-9713-4b02-b876-76c8a263e919",
   "metadata": {},
   "source": [
    "$$\n",
    "A^{\\star}\n",
    "$$"
   ]
  },
  {
   "cell_type": "markdown",
   "id": "c5124e82-2a42-4370-adff-c77dd0cd27b7",
   "metadata": {},
   "source": [
    "Is that the right star?"
   ]
  },
  {
   "cell_type": "markdown",
   "id": "a6456cf8-6bc1-428a-909d-be3bd172f964",
   "metadata": {},
   "source": [
    "$$\n",
    "A^{*}\n",
    "$$"
   ]
  },
  {
   "cell_type": "markdown",
   "id": "66f168f7-2f6d-4e3c-892a-d8c428002fb1",
   "metadata": {},
   "source": [
    "might be better."
   ]
  }
 ],
 "metadata": {
  "kernelspec": {
   "display_name": "Python 3 (ipykernel)",
   "language": "python",
   "name": "python3"
  },
  "language_info": {
   "codemirror_mode": {
    "name": "ipython",
    "version": 3
   },
   "file_extension": ".py",
   "mimetype": "text/x-python",
   "name": "python",
   "nbconvert_exporter": "python",
   "pygments_lexer": "ipython3",
   "version": "3.9.15"
  }
 },
 "nbformat": 4,
 "nbformat_minor": 5
}
