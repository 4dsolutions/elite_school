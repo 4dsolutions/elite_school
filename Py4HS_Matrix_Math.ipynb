{
 "cells": [
  {
   "cell_type": "markdown",
   "id": "7d6576f1-764f-4cbe-996b-8c1f0a6ff7b3",
   "metadata": {},
   "source": [
    "##### Python for High School (Winter 2022)\n",
    "\n",
    "* [Table of Contents](PY4HS.ipynb)\n",
    "* <a href=\"https://colab.research.google.com/github/4dsolutions/elite_school/blob/master/Py4HS_Matrix_Math.ipynb\"><img align=\"left\" src=\"https://colab.research.google.com/assets/colab-badge.svg\" alt=\"Open in Colab\" title=\"Open and Execute in Google Colaboratory\"></a>\n",
    "* [![nbviewer](https://raw.githubusercontent.com/jupyter/design/master/logos/Badges/nbviewer_badge.svg)](https://nbviewer.org/github/4dsolutions/elite_school/blob/master/Py4HS_Matrix_Math.ipynb)"
   ]
  },
  {
   "cell_type": "markdown",
   "id": "998f061b-d9fd-49fd-89f5-37dc3d70b7f8",
   "metadata": {},
   "source": [
    "# Matrix Math\n",
    "\n",
    "Let's start with notation, and with what we do in Markdown, with our Jupyter Notebooks.  \n",
    "\n",
    "When wanting to typeset mathematics in Jupyter, we use $\\LaTeX$.\n",
    "\n",
    "Like this:\n",
    "\n",
    "$$\n",
    "\\frac{d}{dx}\\sin{x}=\\cos{x}\n",
    "$$\n",
    "\n",
    "Or like this:\n",
    "\n",
    "\\begin{equation*}\n",
    "\\frac{1}{\\Bigl(\\sqrt{\\phi \\sqrt{5}}-\\phi\\Bigr) e^{\\frac25 \\pi}} =\n",
    "1+\\frac{e^{-2\\pi}} {1+\\frac{e^{-4\\pi}} {1+\\frac{e^{-6\\pi}}\n",
    "{1+\\frac{e^{-8\\pi}} {1+\\ldots} } } }\n",
    "\\end{equation*}\n",
    "\n",
    "A matrix is a notational device, an artifact in typesetting one could say, a rectangular arrangement that we generalize to more and more axes within the underlying theory (the algebra).  \n",
    "\n",
    "$$\n",
    "\\boldsymbol{A} = \\begin{bmatrix} 1 & -2 - i & 5 \\\\ 1 + i & i & 4-2i \\end{bmatrix}\n",
    "$$\n",
    "\n",
    "A matrix is also an operational object, encoded in Python, versus typeset.\n",
    "\n",
    "We might do matrix operations with the following packages: \n",
    "\n",
    "* [numpy.linalg](https://numpy.org/doc/stable/reference/routines.linalg.html#module-numpy.linalg)\n",
    "* [scipy.linalg](https://docs.scipy.org/doc/scipy/reference/linalg.html#module-scipy.linalg) \n",
    "\n",
    "in Python."
   ]
  },
  {
   "cell_type": "code",
   "execution_count": 1,
   "id": "03a80996-7116-4a6c-848f-f1ec8a9283d2",
   "metadata": {},
   "outputs": [],
   "source": [
    "import numpy as np\n",
    "import scipy.linalg as sp_la"
   ]
  },
  {
   "cell_type": "code",
   "execution_count": 2,
   "id": "cc4b19d8-0cfb-470c-9ec6-03bf6b152772",
   "metadata": {},
   "outputs": [
    {
     "data": {
      "text/plain": [
       "<module 'numpy.linalg' from '/Users/kirbyurner/opt/anaconda3/lib/python3.9/site-packages/numpy/linalg/__init__.py'>"
      ]
     },
     "execution_count": 2,
     "metadata": {},
     "output_type": "execute_result"
    }
   ],
   "source": [
    "np.linalg"
   ]
  },
  {
   "cell_type": "code",
   "execution_count": 3,
   "id": "7c8e016a-dcab-4d22-9dc8-7433f9ddf1c3",
   "metadata": {},
   "outputs": [
    {
     "data": {
      "text/plain": [
       "<module 'scipy.linalg' from '/Users/kirbyurner/opt/anaconda3/lib/python3.9/site-packages/scipy/linalg/__init__.py'>"
      ]
     },
     "execution_count": 3,
     "metadata": {},
     "output_type": "execute_result"
    }
   ],
   "source": [
    "sp_la"
   ]
  },
  {
   "cell_type": "markdown",
   "id": "ce22ac8b-b638-49c7-a1b9-b46e0f25f521",
   "metadata": {},
   "source": [
    "Let's say we're especially keen to use the symbols from the quantum mechanics literature, such as the little dagger symbol next to a matrix.  [Where did that come from?](https://hsm.stackexchange.com/questions/11426/who-introduced-the-daggersymbol-as-conjugate-transpose-in-quantum-mechanics)\n",
    "\n",
    "It represents [\"cojugate transpose of\"](https://en.wikipedia.org/wiki/Conjugate_transpose), meaning the matrix is transposed, then each term is replaced with its complex conjugate."
   ]
  },
  {
   "cell_type": "code",
   "execution_count": 4,
   "id": "cd96e7ae-7630-4ba4-91f1-19c81aa66eaf",
   "metadata": {},
   "outputs": [
    {
     "data": {
      "text/plain": [
       "(1+2j)"
      ]
     },
     "execution_count": 4,
     "metadata": {},
     "output_type": "execute_result"
    }
   ],
   "source": [
    "c = 1 + 2j\n",
    "c"
   ]
  },
  {
   "cell_type": "code",
   "execution_count": 5,
   "id": "c0e9a421-5655-433f-b864-af83a181d620",
   "metadata": {},
   "outputs": [
    {
     "data": {
      "text/plain": [
       "(1-2j)"
      ]
     },
     "execution_count": 5,
     "metadata": {},
     "output_type": "execute_result"
    }
   ],
   "source": [
    "c.conjugate()"
   ]
  },
  {
   "cell_type": "code",
   "execution_count": 6,
   "id": "28cc03e7-4373-439e-bd09-7219af078b3c",
   "metadata": {},
   "outputs": [],
   "source": [
    "d = 3 - 5j"
   ]
  },
  {
   "cell_type": "code",
   "execution_count": 7,
   "id": "5c872af3-7c77-4e7f-89c6-1ea46b399631",
   "metadata": {},
   "outputs": [
    {
     "data": {
      "text/plain": [
       "array([[1.+2.j, 3.-5.j],\n",
       "       [3.-5.j, 1.+2.j]])"
      ]
     },
     "execution_count": 7,
     "metadata": {},
     "output_type": "execute_result"
    }
   ],
   "source": [
    "matrix = np.array([c, d, d, c]).reshape(2,2)\n",
    "matrix"
   ]
  },
  {
   "cell_type": "code",
   "execution_count": 8,
   "id": "f09e25e7-8ee4-4ae7-8580-62200d3959d7",
   "metadata": {},
   "outputs": [
    {
     "data": {
      "text/plain": [
       "array([[1.-2.j, 3.+5.j],\n",
       "       [3.+5.j, 1.-2.j]])"
      ]
     },
     "execution_count": 8,
     "metadata": {},
     "output_type": "execute_result"
    }
   ],
   "source": [
    "matrix.conjugate()"
   ]
  },
  {
   "cell_type": "code",
   "execution_count": 9,
   "id": "94063602-c7ea-4b92-ab11-544b4f6a03bc",
   "metadata": {},
   "outputs": [
    {
     "data": {
      "text/plain": [
       "array([[1.-2.j, 3.+5.j],\n",
       "       [3.+5.j, 1.-2.j]])"
      ]
     },
     "execution_count": 9,
     "metadata": {},
     "output_type": "execute_result"
    }
   ],
   "source": [
    "matrix.T.conjugate()"
   ]
  },
  {
   "cell_type": "code",
   "execution_count": 10,
   "id": "ea83efb3-6b75-48ca-832d-c8440409993a",
   "metadata": {},
   "outputs": [
    {
     "data": {
      "text/plain": [
       "array([[1.-2.j, 3.+5.j],\n",
       "       [3.+5.j, 1.-2.j]])"
      ]
     },
     "execution_count": 10,
     "metadata": {},
     "output_type": "execute_result"
    }
   ],
   "source": [
    "matrix.conjugate().T"
   ]
  },
  {
   "cell_type": "markdown",
   "id": "20a3e228-21ed-41ac-92fe-caec78df12ab",
   "metadata": {},
   "source": [
    "From the [Wikipedia example](https://en.wikipedia.org/wiki/Conjugate_transpose#Example):\n",
    "\n",
    "$$\n",
    "\\boldsymbol{A} = \\begin{bmatrix} 1 & -2 - i & 5 \\\\ 1 + i & i & 4-2i \\end{bmatrix}\n",
    "$$\n",
    "\n",
    "$$\n",
    "\\boldsymbol{A}^\\mathsf{T} = \\begin{bmatrix} 1 & 1 + i \\\\ -2 - i & i \\\\ 5 & 4-2i\\end{bmatrix}\n",
    "$$\n",
    "\n",
    "$$\n",
    "\\boldsymbol{A}^\\mathrm{H} = \\begin{bmatrix} 1 & 1 - i \\\\ -2 + i & -i \\\\ 5 & 4+2i\\end{bmatrix}\n",
    "$$"
   ]
  },
  {
   "cell_type": "code",
   "execution_count": 11,
   "id": "1ce56ab2-9704-4f5e-9ce9-72cfaf247c7d",
   "metadata": {},
   "outputs": [
    {
     "data": {
      "text/plain": [
       "array([[ 1.+0.j, -2.-1.j,  5.+0.j],\n",
       "       [ 1.+1.j,  0.+1.j,  4.-2.j]])"
      ]
     },
     "execution_count": 11,
     "metadata": {},
     "output_type": "execute_result"
    }
   ],
   "source": [
    "A = np.array([[1, -2-1j, 5], [1+1j, 1j, 4-2j]], dtype=complex)\n",
    "A"
   ]
  },
  {
   "cell_type": "code",
   "execution_count": 12,
   "id": "2ab982e4-dd86-4ec6-b00f-0a3a64cda9e3",
   "metadata": {},
   "outputs": [
    {
     "data": {
      "text/plain": [
       "array([[ 1.+0.j,  1.+1.j],\n",
       "       [-2.-1.j,  0.+1.j],\n",
       "       [ 5.+0.j,  4.-2.j]])"
      ]
     },
     "execution_count": 12,
     "metadata": {},
     "output_type": "execute_result"
    }
   ],
   "source": [
    "A.T"
   ]
  },
  {
   "cell_type": "code",
   "execution_count": 13,
   "id": "d17db09e-2429-4258-b3c8-f1e82b7eabb0",
   "metadata": {},
   "outputs": [
    {
     "data": {
      "text/plain": [
       "array([[ 1.-0.j,  1.-1.j],\n",
       "       [-2.+1.j,  0.-1.j],\n",
       "       [ 5.-0.j,  4.+2.j]])"
      ]
     },
     "execution_count": 13,
     "metadata": {},
     "output_type": "execute_result"
    }
   ],
   "source": [
    "A.T.conjugate()"
   ]
  },
  {
   "cell_type": "markdown",
   "id": "43537227-87e7-427f-a786-d6ff1e535fcc",
   "metadata": {},
   "source": [
    "[Dr. Shouke Wei](https://medium.com/@shouke.wei) has done some excellent work online to distill $\\LaTeX$'s abilities for us.  I'm not finding the dagger per se, but I've got what I need to make a matrix.\n",
    "\n",
    "I'm drawing from his *Commonly Used Equations and Symbols with Latex in Jupyter Notebook* [on Medium](https://medium.com/@shouke.wei/commonly-used-equations-and-symbols-with-latex-in-jupyter-notebook-c5812ac15e90). If you have exhausted your quota on Medium, not to worry.  What you need is right here in this Notebook."
   ]
  },
  {
   "cell_type": "markdown",
   "id": "302c11df-ed9c-4fcd-9d8b-a2a6cd87089e",
   "metadata": {},
   "source": [
    "$$\n",
    "\\begin{bmatrix}\n",
    "    x_{11} & x_{12} & x_{13} & \\dots & x_{1n} \\\\\n",
    "    x_{21} & x_{22} & x_{23} & \\dots & x_{2n} \\\\\n",
    "    \\ldots &\\ldots &\\ldots &\\ldots &\\ldots \\\\\n",
    "    x_{d1}       & x_{d2} & x_{d3} & \\dots & x_{dn}\n",
    "\\end{bmatrix}\n",
    "=\n",
    "\\begin{bmatrix}\n",
    "    x_{11} & x_{12} & x_{13} & \\dots  & x_{1n} \\\\\n",
    "    x_{21} & x_{22} & x_{23} & \\dots  & x_{2n} \\\\\n",
    "    \\vdots & \\vdots & \\vdots & \\ddots & \\vdots \\\\\n",
    "    x_{d1} & x_{d2} & x_{d3} & \\dots  & x_{dn}\n",
    "\\end{bmatrix}\n",
    "$$\n",
    "\n",
    "Adapting what we've learned above, let's go below:"
   ]
  },
  {
   "cell_type": "markdown",
   "id": "2f7d440c-6b3e-45fe-aceb-ea2f2b5023bf",
   "metadata": {},
   "source": [
    "$$\n",
    "\\begin{bmatrix}\n",
    "    x_{11} & x_{12} & x_{13} & \\dots & x_{1n} \\\\\n",
    "    x_{21} & x_{22} & x_{23} & \\dots & x_{2n} \\\\\n",
    "    \\ldots &\\ldots &\\ldots &\\ldots &\\ldots \\\\\n",
    "    x_{d1}       & x_{d2} & x_{d3} & \\dots & x_{dn}\n",
    "\\end{bmatrix}{\\Large ^{\\dagger}}\n",
    "$$\n",
    "\n",
    "That's pretty good right?  There's some playing with [font size](https://latex-tutorial.com/changing-font-size/).\n",
    "\n",
    "And besides, we're usually fine representing an entire matrix with one letter, thusly:"
   ]
  },
  {
   "cell_type": "markdown",
   "id": "cab41590-7629-4bad-861b-12aae6416f88",
   "metadata": {},
   "source": [
    "$$\n",
    "A^{\\dagger}\n",
    "$$"
   ]
  },
  {
   "cell_type": "markdown",
   "id": "f5dce917-e046-41de-ab41-157dcf0d4be0",
   "metadata": {},
   "source": [
    "But what does it all mean:  the Hermitian adjoint and so on?"
   ]
  },
  {
   "cell_type": "code",
   "execution_count": 14,
   "id": "bf0cc140-bcfe-4f1f-9bc4-89791b69bf0d",
   "metadata": {},
   "outputs": [],
   "source": [
    "from IPython.display import YouTubeVideo"
   ]
  },
  {
   "cell_type": "code",
   "execution_count": 15,
   "id": "1b42e2d3-0e7e-413f-a5e6-02cc0fbbc0f5",
   "metadata": {},
   "outputs": [
    {
     "data": {
      "image/jpeg": "[encoded data removed]",
      "text/html": [
       "\n",
       "        <iframe\n",
       "            width=\"400\"\n",
       "            height=\"300\"\n",
       "            src=\"https://www.youtube.com/embed/t2z3Tinoi04\"\n",
       "            frameborder=\"0\"\n",
       "            allowfullscreen\n",
       "            \n",
       "        ></iframe>\n",
       "        "
      ],
      "text/plain": [
       "<IPython.lib.display.YouTubeVideo at 0x7fb4d6304250>"
      ]
     },
     "execution_count": 15,
     "metadata": {},
     "output_type": "execute_result"
    }
   ],
   "source": [
    "YouTubeVideo(\"t2z3Tinoi04\")"
   ]
  },
  {
   "cell_type": "markdown",
   "id": "d9bdb881-5f34-4d5e-97ab-12205c973d30",
   "metadata": {},
   "source": [
    "We're going to need the eigen stuff, complex conjugates, the star operator...  more $\\LaTeX$ and more operational objects, in other words."
   ]
  },
  {
   "cell_type": "markdown",
   "id": "a65dd612-9713-4b02-b876-76c8a263e919",
   "metadata": {},
   "source": [
    "$$\n",
    "A^{\\star}\n",
    "$$"
   ]
  },
  {
   "cell_type": "markdown",
   "id": "c5124e82-2a42-4370-adff-c77dd0cd27b7",
   "metadata": {},
   "source": [
    "Is that the right star?"
   ]
  },
  {
   "cell_type": "markdown",
   "id": "a6456cf8-6bc1-428a-909d-be3bd172f964",
   "metadata": {},
   "source": [
    "$$\n",
    "A^{*}\n",
    "$$"
   ]
  },
  {
   "cell_type": "markdown",
   "id": "66f168f7-2f6d-4e3c-892a-d8c428002fb1",
   "metadata": {},
   "source": [
    "might be better."
   ]
  },
  {
   "cell_type": "markdown",
   "id": "665abe35-f1a8-4632-bb1f-cd50b3a3714d",
   "metadata": {},
   "source": [
    "### Note to Teachers\n",
    "\n",
    "Our Notebooks are not meant to serve as a comprehensive recap of mathematics in general.  We're not engaged in the project of forming an encyclopedia.  Far from it.  The purpose of these Notebooks is more to demonstrate a methodolgy a teacher or student might adopt in order to give rise to (to float) a curriculum. \n",
    "\n",
    "A curriculum is a host of topics that hang together and mutually refer to one another, more like a mini-language or simple system.\n",
    "\n",
    "This Matrix Math page is a case in point.  The Pauli Matricies usually appear in the context of particle physics aka quantum mechanics, which features groups, such as SU(2) and SU(3).  That context is mentioned in the embedded Youtubes, but this Notebook itself is silent about the physics of whatsons (e.g. electrons) but for here.\n",
    "\n",
    "Many of our pages contain the word sandbox in their filenames, or otherwise remind that they're more like playgrounds, or one could say launch pads, or jumping off points, into wider studies.\n",
    "\n",
    "An individual curriculum developer and/or team will crystallize only so much content.  For example Stephen Wolfram and his brother Conrad likewise advocate, through demonstration, span mathematics with Mathematica and its Wolfram Language, another set of landscapes in a different ecosystem, not featuring the Python language.  \n",
    "\n",
    "For many students, a curriculum such as this one might serve as a stepping stone to the Wolfram universe. Tour in other lands, and return with baubles.  Take forth our Quadrays and Cabal of Polyhedrons to these other worlds, bring back skills and insights.\n",
    "\n",
    "One way to approach a math is to let its jargon pile up for awhile, as you keep exercising the jargon to make sure you have it down.  \n",
    "\n",
    "Spending too much time on one concept may actually be a pitfall, because it depends for its meaning on other concepts.  To delay reaching these other concepts is to make understanding even a first one all that more difficult.\n",
    "\n",
    "For example, the idea of a complex conjugate, of a number or matrix, as distinct from its inverse or transpose, may not at first be clear.  \n",
    "\n",
    "However, already, we know a matrix has an inverse and so on.  That could be the news right there.  Then we go back and add more flesh."
   ]
  },
  {
   "cell_type": "code",
   "execution_count": 2,
   "id": "f144b657-d38f-4c94-a6a8-ad7b32fb5c3e",
   "metadata": {},
   "outputs": [
    {
     "data": {
      "image/jpeg": "[encoded data removed]",
      "text/html": [
       "\n",
       "        <iframe\n",
       "            width=\"400\"\n",
       "            height=\"300\"\n",
       "            src=\"https://www.youtube.com/embed/yeK2N7FbkVI\"\n",
       "            frameborder=\"0\"\n",
       "            allowfullscreen\n",
       "            \n",
       "        ></iframe>\n",
       "        "
      ],
      "text/plain": [
       "<IPython.lib.display.YouTubeVideo at 0x7f9765e17490>"
      ]
     },
     "execution_count": 2,
     "metadata": {},
     "output_type": "execute_result"
    }
   ],
   "source": [
    "YouTubeVideo(\"yeK2N7FbkVI\")"
   ]
  },
  {
   "cell_type": "code",
   "execution_count": 3,
   "id": "08039ff2-4db6-4a2d-99f2-3c6259d524d5",
   "metadata": {},
   "outputs": [
    {
     "data": {
      "image/jpeg": "[encoded data removed]",
      "text/html": [
       "\n",
       "        <iframe\n",
       "            width=\"400\"\n",
       "            height=\"300\"\n",
       "            src=\"https://www.youtube.com/embed/DUuTx2nbizM\"\n",
       "            frameborder=\"0\"\n",
       "            allowfullscreen\n",
       "            \n",
       "        ></iframe>\n",
       "        "
      ],
      "text/plain": [
       "<IPython.lib.display.YouTubeVideo at 0x7f9765e5c730>"
      ]
     },
     "execution_count": 3,
     "metadata": {},
     "output_type": "execute_result"
    }
   ],
   "source": [
    "YouTubeVideo(\"DUuTx2nbizM\")"
   ]
  },
  {
   "cell_type": "code",
   "execution_count": 4,
   "id": "0f02be42-d390-41f5-bba9-6a02884f05c3",
   "metadata": {},
   "outputs": [
    {
     "data": {
      "image/jpeg": "[encoded data removed]",
      "text/html": [
       "\n",
       "        <iframe\n",
       "            width=\"400\"\n",
       "            height=\"300\"\n",
       "            src=\"https://www.youtube.com/embed/7rE9gcj5I2U\"\n",
       "            frameborder=\"0\"\n",
       "            allowfullscreen\n",
       "            \n",
       "        ></iframe>\n",
       "        "
      ],
      "text/plain": [
       "<IPython.lib.display.YouTubeVideo at 0x7f9765e5c400>"
      ]
     },
     "execution_count": 4,
     "metadata": {},
     "output_type": "execute_result"
    }
   ],
   "source": [
    "YouTubeVideo(\"7rE9gcj5I2U\")"
   ]
  },
  {
   "cell_type": "code",
   "execution_count": 5,
   "id": "f1a61c7b-9d44-45b0-95cc-6d8729b9e798",
   "metadata": {},
   "outputs": [
    {
     "data": {
      "image/jpeg": "[encoded data removed]",
      "text/html": [
       "\n",
       "        <iframe\n",
       "            width=\"400\"\n",
       "            height=\"300\"\n",
       "            src=\"https://www.youtube.com/embed/ganF52dxL1U\"\n",
       "            frameborder=\"0\"\n",
       "            allowfullscreen\n",
       "            \n",
       "        ></iframe>\n",
       "        "
      ],
      "text/plain": [
       "<IPython.lib.display.YouTubeVideo at 0x7f9765e5cbe0>"
      ]
     },
     "execution_count": 5,
     "metadata": {},
     "output_type": "execute_result"
    }
   ],
   "source": [
    "YouTubeVideo(\"ganF52dxL1U\")"
   ]
  },
  {
   "cell_type": "code",
   "execution_count": 6,
   "id": "b8ed1382-8e86-4715-87ba-6b74ca6b926c",
   "metadata": {},
   "outputs": [],
   "source": [
    "import sympy as sp\n",
    "from sympy import Matrix"
   ]
  },
  {
   "cell_type": "markdown",
   "id": "75ded17a-77db-407f-8225-03c7602de205",
   "metadata": {},
   "source": [
    "We're in the realm of $\\mathbb{C}$.\n",
    "\n",
    "* A Matrix is Hermitian if it equals its own conjugate transpose.\n",
    "* A Matrix is Skew Hermitian if its negative equals its conjugate transpose\n",
    "* A Matrix is Unitary if its inverse equals its conjugate transpose\n",
    "* A Matrix is Special Unitary if it is unitary and has a determinant of 1."
   ]
  },
  {
   "cell_type": "code",
   "execution_count": 7,
   "id": "116206d8-46b6-485c-a190-b8e013730e0f",
   "metadata": {},
   "outputs": [],
   "source": [
    "σ0, σ1, σ2, σ3 = sp.symbols('σ0 σ1 σ2 σ3')"
   ]
  },
  {
   "cell_type": "markdown",
   "id": "c6ccc52c-6837-4e99-a79f-a24ce63a47f2",
   "metadata": {
    "jp-MarkdownHeadingCollapsed": true,
    "tags": []
   },
   "source": [
    "## Sandbox Area"
   ]
  },
  {
   "cell_type": "code",
   "execution_count": 8,
   "id": "0de6a2e7-0571-41da-97c5-d4ba2686d29f",
   "metadata": {},
   "outputs": [
    {
     "data": {
      "text/latex": [
       "$\\displaystyle i$"
      ],
      "text/plain": [
       "I"
      ]
     },
     "execution_count": 8,
     "metadata": {},
     "output_type": "execute_result"
    }
   ],
   "source": [
    "sp.sqrt(-1)"
   ]
  },
  {
   "cell_type": "code",
   "execution_count": 9,
   "id": "7c0f6f9a-6c8e-4c7d-974e-dcc5e49f548b",
   "metadata": {
    "tags": []
   },
   "outputs": [
    {
     "data": {
      "text/latex": [
       "$\\displaystyle i$"
      ],
      "text/plain": [
       "I"
      ]
     },
     "execution_count": 9,
     "metadata": {},
     "output_type": "execute_result"
    }
   ],
   "source": [
    "sp.I"
   ]
  },
  {
   "cell_type": "code",
   "execution_count": 10,
   "id": "6ef15fab-b841-4b32-bf6c-4e0160fccc6d",
   "metadata": {},
   "outputs": [
    {
     "data": {
      "text/latex": [
       "$\\displaystyle - i$"
      ],
      "text/plain": [
       "-I"
      ]
     },
     "execution_count": 10,
     "metadata": {},
     "output_type": "execute_result"
    }
   ],
   "source": [
    "sp.I.conjugate()"
   ]
  },
  {
   "cell_type": "code",
   "execution_count": 11,
   "id": "77bc3914-c95c-4e53-bad0-c9580e5baed2",
   "metadata": {},
   "outputs": [
    {
     "data": {
      "text/latex": [
       "$\\displaystyle 3 + 2 i$"
      ],
      "text/plain": [
       "3 + 2*I"
      ]
     },
     "execution_count": 11,
     "metadata": {},
     "output_type": "execute_result"
    }
   ],
   "source": [
    "c = 3 + 2*sp.I; c"
   ]
  },
  {
   "cell_type": "code",
   "execution_count": 12,
   "id": "8547e399-2fb7-4766-b367-b01e170f9422",
   "metadata": {},
   "outputs": [
    {
     "data": {
      "text/latex": [
       "$\\displaystyle 3 - 2 i$"
      ],
      "text/plain": [
       "3 - 2*I"
      ]
     },
     "execution_count": 12,
     "metadata": {},
     "output_type": "execute_result"
    }
   ],
   "source": [
    "c.conjugate() # change the sign of the imaginary part"
   ]
  },
  {
   "cell_type": "code",
   "execution_count": 13,
   "id": "0a6119b5-b628-4112-9a4a-110b2483b235",
   "metadata": {},
   "outputs": [
    {
     "data": {
      "text/latex": [
       "$\\displaystyle \\left(3 - 2 i\\right) \\left(3 + 2 i\\right)$"
      ],
      "text/plain": [
       "(3 - 2*I)*(3 + 2*I)"
      ]
     },
     "execution_count": 13,
     "metadata": {},
     "output_type": "execute_result"
    }
   ],
   "source": [
    "c * c.conjugate()"
   ]
  },
  {
   "cell_type": "code",
   "execution_count": 14,
   "id": "ae6df35b-5039-4d0b-a560-a491099a4e84",
   "metadata": {},
   "outputs": [
    {
     "data": {
      "text/latex": [
       "$\\displaystyle 13$"
      ],
      "text/plain": [
       "13"
      ]
     },
     "execution_count": 14,
     "metadata": {},
     "output_type": "execute_result"
    }
   ],
   "source": [
    "_.expand()"
   ]
  },
  {
   "cell_type": "code",
   "execution_count": 15,
   "id": "ba88e3f0-c570-4a39-8623-25450f6b83af",
   "metadata": {},
   "outputs": [],
   "source": [
    "a, b = sp.symbols('a b')"
   ]
  },
  {
   "cell_type": "markdown",
   "id": "d6173c63-ca13-40d8-8072-7a65f9d08066",
   "metadata": {},
   "source": [
    "Here are the four 2x2 Pauli matrices, including I itself as \"sigma zero\" (σ0)."
   ]
  },
  {
   "cell_type": "code",
   "execution_count": 16,
   "id": "64072061-3faa-4f49-a9b1-284ad7c51609",
   "metadata": {},
   "outputs": [
    {
     "data": {
      "text/latex": [
       "$\\displaystyle \\left[\\begin{matrix}1 & 0\\\\0 & 1\\end{matrix}\\right]$"
      ],
      "text/plain": [
       "Matrix([\n",
       "[1, 0],\n",
       "[0, 1]])"
      ]
     },
     "execution_count": 16,
     "metadata": {},
     "output_type": "execute_result"
    }
   ],
   "source": [
    "σ0 = sp.eye(2)\n",
    "σ0"
   ]
  },
  {
   "cell_type": "code",
   "execution_count": 17,
   "id": "1cddce39-87c6-4904-9e2c-24b5cc2dda5b",
   "metadata": {},
   "outputs": [
    {
     "data": {
      "text/latex": [
       "$\\displaystyle \\left[\\begin{matrix}0 & 1\\\\1 & 0\\end{matrix}\\right]$"
      ],
      "text/plain": [
       "Matrix([\n",
       "[0, 1],\n",
       "[1, 0]])"
      ]
     },
     "execution_count": 17,
     "metadata": {},
     "output_type": "execute_result"
    }
   ],
   "source": [
    "σ1 = Matrix([[0, 1], [1, 0]])\n",
    "σ1"
   ]
  },
  {
   "cell_type": "code",
   "execution_count": 18,
   "id": "6179e67c-9140-4afc-a1f2-c55a8534935e",
   "metadata": {},
   "outputs": [
    {
     "data": {
      "text/latex": [
       "$\\displaystyle \\left[\\begin{matrix}0 & - i\\\\i & 0\\end{matrix}\\right]$"
      ],
      "text/plain": [
       "Matrix([\n",
       "[0, -I],\n",
       "[I,  0]])"
      ]
     },
     "execution_count": 18,
     "metadata": {},
     "output_type": "execute_result"
    }
   ],
   "source": [
    "σ2 = Matrix([[0, -sp.I], [sp.I, 0]])\n",
    "σ2"
   ]
  },
  {
   "cell_type": "code",
   "execution_count": 19,
   "id": "e731fc2b-badc-4e1a-acd8-4fe7a03aa7f7",
   "metadata": {},
   "outputs": [
    {
     "data": {
      "text/latex": [
       "$\\displaystyle \\left[\\begin{matrix}1 & 0\\\\0 & -1\\end{matrix}\\right]$"
      ],
      "text/plain": [
       "Matrix([\n",
       "[1,  0],\n",
       "[0, -1]])"
      ]
     },
     "execution_count": 19,
     "metadata": {},
     "output_type": "execute_result"
    }
   ],
   "source": [
    "σ3 = Matrix([[1, 0], [0, -1]])\n",
    "σ3"
   ]
  },
  {
   "cell_type": "markdown",
   "id": "632462fd-7613-4fd1-8f1f-ef9a7b35432a",
   "metadata": {},
   "source": [
    "That Pauli matrices self multiply to give an inverse is another way of saying they're self inverses.\n",
    "\n",
    "$$\n",
    "A A^{-1} = I\n",
    "$$\n",
    "\n",
    "$$\n",
    "A = 1/A\n",
    "$$"
   ]
  },
  {
   "cell_type": "code",
   "execution_count": 20,
   "id": "139d10a6-2e00-4b85-8d41-d9d8baf5c304",
   "metadata": {},
   "outputs": [
    {
     "data": {
      "text/plain": [
       "(Matrix([\n",
       " [1, 0],\n",
       " [0, 1]]),\n",
       " Matrix([\n",
       " [1, 0],\n",
       " [0, 1]]),\n",
       " Matrix([\n",
       " [1, 0],\n",
       " [0, 1]]),\n",
       " Matrix([\n",
       " [1, 0],\n",
       " [0, 1]]))"
      ]
     },
     "execution_count": 20,
     "metadata": {},
     "output_type": "execute_result"
    }
   ],
   "source": [
    "σ0 ** 2, σ1 ** 2, σ2 ** 2, σ3 ** 2"
   ]
  },
  {
   "cell_type": "code",
   "execution_count": 21,
   "id": "6609e84a-03db-4739-bfa5-c34ddaeb0507",
   "metadata": {},
   "outputs": [
    {
     "data": {
      "text/latex": [
       "$\\displaystyle \\left[\\begin{matrix}0 & - i\\\\- i & 0\\end{matrix}\\right]$"
      ],
      "text/plain": [
       "Matrix([\n",
       "[ 0, -I],\n",
       "[-I,  0]])"
      ]
     },
     "execution_count": 21,
     "metadata": {},
     "output_type": "execute_result"
    }
   ],
   "source": [
    "σ3 * σ2"
   ]
  },
  {
   "cell_type": "code",
   "execution_count": 22,
   "id": "17dbc205-b675-4e60-8fe5-ccddd919993e",
   "metadata": {},
   "outputs": [
    {
     "data": {
      "text/latex": [
       "$\\displaystyle \\left[\\begin{matrix}0 & i\\\\i & 0\\end{matrix}\\right]$"
      ],
      "text/plain": [
       "Matrix([\n",
       "[0, I],\n",
       "[I, 0]])"
      ]
     },
     "execution_count": 22,
     "metadata": {},
     "output_type": "execute_result"
    }
   ],
   "source": [
    "σ2 * σ3"
   ]
  },
  {
   "cell_type": "code",
   "execution_count": 23,
   "id": "c60193a6-2e2c-427f-8db2-f3be4bfb5dc0",
   "metadata": {},
   "outputs": [
    {
     "data": {
      "text/latex": [
       "$\\displaystyle \\left[\\begin{matrix}0 & - 2 i\\\\- 2 i & 0\\end{matrix}\\right]$"
      ],
      "text/plain": [
       "Matrix([\n",
       "[   0, -2*I],\n",
       "[-2*I,    0]])"
      ]
     },
     "execution_count": 23,
     "metadata": {},
     "output_type": "execute_result"
    }
   ],
   "source": [
    "σ3 * σ2 - σ2 * σ3"
   ]
  },
  {
   "cell_type": "code",
   "execution_count": 24,
   "id": "3d5c3407-aa77-4656-8364-e637fd433ac2",
   "metadata": {},
   "outputs": [
    {
     "data": {
      "text/latex": [
       "$\\displaystyle \\left[\\begin{matrix}0 & 2 i\\\\2 i & 0\\end{matrix}\\right]$"
      ],
      "text/plain": [
       "Matrix([\n",
       "[  0, 2*I],\n",
       "[2*I,   0]])"
      ]
     },
     "execution_count": 24,
     "metadata": {},
     "output_type": "execute_result"
    }
   ],
   "source": [
    "m = 2 * sp.I * σ1; m"
   ]
  },
  {
   "cell_type": "code",
   "execution_count": 25,
   "id": "e77cdc37-1446-4b03-be23-6e174ef36fb5",
   "metadata": {},
   "outputs": [
    {
     "data": {
      "text/latex": [
       "$\\displaystyle \\left[\\begin{matrix}0 & - 2 i\\\\- 2 i & 0\\end{matrix}\\right]$"
      ],
      "text/plain": [
       "Matrix([\n",
       "[   0, -2*I],\n",
       "[-2*I,    0]])"
      ]
     },
     "execution_count": 25,
     "metadata": {},
     "output_type": "execute_result"
    }
   ],
   "source": [
    "m.conjugate()  # change the sign of any imaginary part"
   ]
  },
  {
   "cell_type": "code",
   "execution_count": 26,
   "id": "34af819a-36b6-4478-8de1-7f86d3fb70db",
   "metadata": {},
   "outputs": [
    {
     "data": {
      "text/latex": [
       "$\\displaystyle \\left[\\begin{matrix}0 & - 2 i\\\\- 2 i & 0\\end{matrix}\\right]$"
      ],
      "text/plain": [
       "Matrix([\n",
       "[   0, -2*I],\n",
       "[-2*I,    0]])"
      ]
     },
     "execution_count": 26,
     "metadata": {},
     "output_type": "execute_result"
    }
   ],
   "source": [
    "m_h = m.conjugate().transpose()\n",
    "m_h"
   ]
  },
  {
   "cell_type": "markdown",
   "id": "f8dde0fe-3c3c-4de4-9181-e424c1e30d1f",
   "metadata": {},
   "source": [
    "\n",
    "* Hermitian: $A^{\\dagger} = A$\n",
    "* Unitary:  $A^{\\dagger} = A^{-1}$"
   ]
  },
  {
   "cell_type": "code",
   "execution_count": 27,
   "id": "045f2bd8-2a28-4369-886e-722238e47c68",
   "metadata": {},
   "outputs": [
    {
     "data": {
      "text/latex": [
       "$\\displaystyle \\left[\\begin{matrix}4 & 0\\\\0 & 4\\end{matrix}\\right]$"
      ],
      "text/plain": [
       "Matrix([\n",
       "[4, 0],\n",
       "[0, 4]])"
      ]
     },
     "execution_count": 27,
     "metadata": {},
     "output_type": "execute_result"
    }
   ],
   "source": [
    "m * m_h"
   ]
  },
  {
   "cell_type": "code",
   "execution_count": 28,
   "id": "656e640e-414e-49bb-af15-4bd6c28ae81f",
   "metadata": {},
   "outputs": [
    {
     "data": {
      "text/latex": [
       "$\\displaystyle \\left[\\begin{matrix}0 & - \\frac{i}{2}\\\\- \\frac{i}{2} & 0\\end{matrix}\\right]$"
      ],
      "text/plain": [
       "Matrix([\n",
       "[   0, -I/2],\n",
       "[-I/2,    0]])"
      ]
     },
     "execution_count": 28,
     "metadata": {},
     "output_type": "execute_result"
    }
   ],
   "source": [
    "m.inv()"
   ]
  },
  {
   "cell_type": "code",
   "execution_count": 29,
   "id": "57219b91-10c7-48e8-b194-64b59ab111b9",
   "metadata": {},
   "outputs": [
    {
     "data": {
      "text/latex": [
       "$\\displaystyle \\left[\\begin{matrix}1 & 0\\\\0 & 1\\end{matrix}\\right]$"
      ],
      "text/plain": [
       "Matrix([\n",
       "[1, 0],\n",
       "[0, 1]])"
      ]
     },
     "execution_count": 29,
     "metadata": {},
     "output_type": "execute_result"
    }
   ],
   "source": [
    "m * m.inv()"
   ]
  },
  {
   "cell_type": "code",
   "execution_count": 30,
   "id": "af41b859-3915-4d1d-ad1d-74b30128d48e",
   "metadata": {},
   "outputs": [
    {
     "data": {
      "text/plain": [
       "False"
      ]
     },
     "execution_count": 30,
     "metadata": {},
     "output_type": "execute_result"
    }
   ],
   "source": [
    "m.is_hermitian  # complex conjugate is also the inverse"
   ]
  },
  {
   "cell_type": "code",
   "execution_count": 31,
   "id": "d7e342b4-4c3b-4cbf-a5b0-fcd19edca82c",
   "metadata": {},
   "outputs": [
    {
     "data": {
      "text/plain": [
       "True"
      ]
     },
     "execution_count": 31,
     "metadata": {},
     "output_type": "execute_result"
    }
   ],
   "source": [
    "σ3.is_hermitian"
   ]
  },
  {
   "cell_type": "code",
   "execution_count": 32,
   "id": "cd12d5a8-a3fa-4fc8-84e7-305587ce8c3f",
   "metadata": {},
   "outputs": [
    {
     "data": {
      "text/plain": [
       "True"
      ]
     },
     "execution_count": 32,
     "metadata": {},
     "output_type": "execute_result"
    }
   ],
   "source": [
    "σ3 == σ3.conjugate().transpose()"
   ]
  },
  {
   "cell_type": "code",
   "execution_count": 33,
   "id": "46880ea1-56c7-4278-b6b0-ef71aea2036f",
   "metadata": {},
   "outputs": [
    {
     "data": {
      "text/plain": [
       "True"
      ]
     },
     "execution_count": 33,
     "metadata": {},
     "output_type": "execute_result"
    }
   ],
   "source": [
    "σ2.is_hermitian"
   ]
  },
  {
   "cell_type": "code",
   "execution_count": 34,
   "id": "0dbe30a2-bf06-4af6-8da4-7c7ed437553d",
   "metadata": {},
   "outputs": [
    {
     "data": {
      "text/plain": [
       "True"
      ]
     },
     "execution_count": 34,
     "metadata": {},
     "output_type": "execute_result"
    }
   ],
   "source": [
    "σ2.inv() == σ2.conjugate().transpose()"
   ]
  },
  {
   "cell_type": "code",
   "execution_count": 35,
   "id": "2d08fd67-5ab3-4cc8-82f8-a81571fd3a20",
   "metadata": {},
   "outputs": [
    {
     "data": {
      "text/plain": [
       "True"
      ]
     },
     "execution_count": 35,
     "metadata": {},
     "output_type": "execute_result"
    }
   ],
   "source": [
    "σ1.is_hermitian"
   ]
  },
  {
   "cell_type": "code",
   "execution_count": 36,
   "id": "0a2426d1-1ff9-449d-91d5-bffddc1dde72",
   "metadata": {},
   "outputs": [
    {
     "data": {
      "text/latex": [
       "$\\displaystyle \\left[\\begin{matrix}0 & 1\\\\1 & 0\\end{matrix}\\right]$"
      ],
      "text/plain": [
       "Matrix([\n",
       "[0, 1],\n",
       "[1, 0]])"
      ]
     },
     "execution_count": 36,
     "metadata": {},
     "output_type": "execute_result"
    }
   ],
   "source": [
    "σ1.inv()"
   ]
  },
  {
   "cell_type": "code",
   "execution_count": 37,
   "id": "15438c62-094e-402f-b82c-fd96fe211983",
   "metadata": {},
   "outputs": [
    {
     "data": {
      "text/latex": [
       "$\\displaystyle \\left[\\begin{matrix}1 & 0\\\\0 & 1\\end{matrix}\\right]$"
      ],
      "text/plain": [
       "Matrix([\n",
       "[1, 0],\n",
       "[0, 1]])"
      ]
     },
     "execution_count": 37,
     "metadata": {},
     "output_type": "execute_result"
    }
   ],
   "source": [
    "σ1.inv() * σ1"
   ]
  },
  {
   "cell_type": "code",
   "execution_count": 38,
   "id": "5b6c6ff6-3042-443b-b63c-0fc496ed6bc9",
   "metadata": {},
   "outputs": [
    {
     "data": {
      "text/latex": [
       "$\\displaystyle \\left[\\begin{matrix}0 & 1\\\\1 & 0\\end{matrix}\\right]$"
      ],
      "text/plain": [
       "Matrix([\n",
       "[0, 1],\n",
       "[1, 0]])"
      ]
     },
     "execution_count": 38,
     "metadata": {},
     "output_type": "execute_result"
    }
   ],
   "source": [
    "σ1.conjugate().transpose()"
   ]
  },
  {
   "cell_type": "code",
   "execution_count": 39,
   "id": "dadffdc0-be7a-4a4a-b28f-5d8ab41d9a1f",
   "metadata": {},
   "outputs": [
    {
     "data": {
      "text/latex": [
       "$\\displaystyle -1$"
      ],
      "text/plain": [
       "-1"
      ]
     },
     "execution_count": 39,
     "metadata": {},
     "output_type": "execute_result"
    }
   ],
   "source": [
    "σ1.det()"
   ]
  },
  {
   "cell_type": "code",
   "execution_count": 40,
   "id": "6d4a588f-05fb-430d-9935-1a5930b55ddf",
   "metadata": {},
   "outputs": [
    {
     "data": {
      "text/latex": [
       "$\\displaystyle -1$"
      ],
      "text/plain": [
       "-1"
      ]
     },
     "execution_count": 40,
     "metadata": {},
     "output_type": "execute_result"
    }
   ],
   "source": [
    "σ2.det()"
   ]
  },
  {
   "cell_type": "code",
   "execution_count": 41,
   "id": "8b03481b-636c-4b25-b07c-7f81d7f6b22d",
   "metadata": {},
   "outputs": [
    {
     "data": {
      "text/latex": [
       "$\\displaystyle -1$"
      ],
      "text/plain": [
       "-1"
      ]
     },
     "execution_count": 41,
     "metadata": {},
     "output_type": "execute_result"
    }
   ],
   "source": [
    "σ3.det()"
   ]
  }
 ],
 "metadata": {
  "kernelspec": {
   "display_name": "Python 3 (ipykernel)",
   "language": "python",
   "name": "python3"
  },
  "language_info": {
   "codemirror_mode": {
    "name": "ipython",
    "version": 3
   },
   "file_extension": ".py",
   "mimetype": "text/x-python",
   "name": "python",
   "nbconvert_exporter": "python",
   "pygments_lexer": "ipython3",
   "version": "3.9.15"
  }
 },
 "nbformat": 4,
 "nbformat_minor": 5
}
