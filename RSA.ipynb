{
 "cells": [
  {
   "cell_type": "markdown",
   "id": "1261204c",
   "metadata": {},
   "source": [
    "[Home](Home.ipynb) <br/>\n",
    "[Crypto](Crypto.ipynb)\n",
    "\n",
    "# RSA Algorithm\n",
    "\n",
    "RSA gets focus in this curriculum because of the number and group theory concepts it ties together, not only because it's still heavily used as a part of the Web's security layer (SSL/TLS).  \n",
    "\n",
    "A similar curriculum might swap out RSA for ECC (Elliptic Curve Cryptography), which plays the same role in web browsers, and adjust other curriculum segments accordingly.\n",
    "\n",
    "Even if RSA gradually gives way to ECC, understanding how and why it works remains a valuable source of insights into the inner workings of important algorithms.\n",
    "\n",
    "### RSA History\n",
    "\n",
    "The essentials of RSA were first discovered by cryptographers working for GHCQ, a UK institution.  \n",
    "\n",
    "The algorithm was kept secret at that point, for fear of aiding some generic enemy.  Unleashing it upon the world could have unforeseen consequences.  World War 2, in which cryptography had played a major role, was still close behind in the rear view mirror.\n",
    "\n",
    "The acronym RSA is made of the initial letters of the surnames of Ron Rivest (cryptographer and professor at MIT), Adi Shamir (Israeli Cryptographer), and Leonard Adleman (American computer scientist), who first publicly described the algorithm in 1978.\n",
    "\n",
    "The community which developed and promoted the RSA algorithm was not beholden to GHCQ and resisted the NSA's efforts to keep a lid on it.  \n",
    "\n",
    "Phil Zimmerman helped popularize and spread the whole idea of public key crypto, if not RSA in particular.\n",
    "\n",
    "The web was emerging and businesses needed to offer a secure way to encrypt transactions.  The commercial sector needed this technology.\n",
    "\n",
    "Pubic key cryptography had come of age."
   ]
  },
  {
   "cell_type": "markdown",
   "id": "3df1d30c",
   "metadata": {},
   "source": [
    "RSA depends on components introduced elsewhere in this text, most notably:\n",
    "\n",
    "* [the concept of prime versus composite](Crypto.ipynb)\n",
    "* [the concepts of totatives and totients](Crypto.ipynb)\n",
    "* [Euler's Theorem involving the totient](Euler.ipynb)\n",
    "* [Euclid's Extended Algorithm (EEA)](EEA.ipynb)\n",
    "* [Review of RSA in context](https://nbviewer.jupyter.org/github/4dsolutions/School_of_Tomorrow/blob/master/NumberTheory.ipynb) (School of Tomorrow)"
   ]
  },
  {
   "cell_type": "code",
   "execution_count": 1,
   "id": "5106a385",
   "metadata": {},
   "outputs": [],
   "source": [
    "from IPython.display import YouTubeVideo"
   ]
  },
  {
   "cell_type": "markdown",
   "id": "a1427331",
   "metadata": {},
   "source": [
    "Curate your own Youtubes?"
   ]
  }
 ],
 "metadata": {
  "kernelspec": {
   "display_name": "Python 3",
   "language": "python",
   "name": "python3"
  },
  "language_info": {
   "codemirror_mode": {
    "name": "ipython",
    "version": 3
   },
   "file_extension": ".py",
   "mimetype": "text/x-python",
   "name": "python",
   "nbconvert_exporter": "python",
   "pygments_lexer": "ipython3",
   "version": "3.7.9"
  }
 },
 "nbformat": 4,
 "nbformat_minor": 5
}
