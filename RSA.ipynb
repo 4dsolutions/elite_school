{
 "cells": [
  {
   "cell_type": "markdown",
   "id": "3797456b",
   "metadata": {},
   "source": [
    "[Home](Home.ipynb) <br/>\n",
    "[Crypto](Crypto.ipynb)\n",
    "\n",
    "# RSA Algorithm\n",
    "\n",
    "RSA gets focus in this curriculum because of the number and group theory concepts it ties together, not only because it's still heavily used as a part of the Web's security layer (SSL/TLS).  \n",
    "\n",
    "A similar curriculum might swap out RSA for ECC (Elliptic Curve Cryptography), which plays the same role in web browsers, and adjust other curriculum segments accordingly.\n",
    "\n",
    "Even if RSA gradually gives way to ECC, understanding how and why it works remains a valuable source of insights into the inner workings of important algorithms.\n",
    "\n",
    "### RSA History\n",
    "\n",
    "The essentials of RSA were first discovered by cryptographers working for GHCQ, a UK institution.  \n",
    "\n",
    "The algorithm was kept secret at that point, for fear of aiding some generic enemy.  Unleashing it upon the world could have unforeseen consequences.  World War 2, in which cryptography had played a major role, was still close behind in the rear view mirror.\n",
    "\n",
    "The acronym RSA is made of the initial letters of the surnames of Ron Rivest (cryptographer and professor at MIT), Adi Shamir (Israeli Cryptographer), and Leonard Adleman (American computer scientist), who first publicly described the algorithm in 1978.\n",
    "\n",
    "The community which developed and promoted the RSA algorithm was not beholden to GHCQ and resisted the NSA's efforts to keep a lid on it.  \n",
    "\n",
    "Phil Zimmerman helped popularize and spread the whole idea of public key crypto, if not RSA in particular.\n",
    "\n",
    "The web was emerging and businesses needed to offer a secure way to encrypt transactions.  The commercial sector needed this technology.\n",
    "\n",
    "Pubic key cryptography had come of age."
   ]
  },
  {
   "cell_type": "markdown",
   "id": "950fe5b3",
   "metadata": {},
   "source": [
    "RSA depends on components introduced elsewhere in this text, most notably:\n",
    "\n",
    "* [the concept of prime versus composite](Crypto.ipynb)\n",
    "* [the concepts of totatives and totients](Crypto.ipynb)\n",
    "* [Euler's Theorem involving the totient](Euler.ipynb)\n",
    "* [Euclid's Extended Algorithm (EEA)](EEA.ipynb)\n",
    "* [Review of RSA in context](https://nbviewer.jupyter.org/github/4dsolutions/School_of_Tomorrow/blob/master/NumberTheory.ipynb) (School of Tomorrow)"
   ]
  },
  {
   "cell_type": "code",
   "execution_count": 1,
   "id": "90f50f44",
   "metadata": {},
   "outputs": [],
   "source": [
    "from IPython.display import YouTubeVideo"
   ]
  },
  {
   "cell_type": "markdown",
   "id": "28b7d20d",
   "metadata": {},
   "source": [
    "Curate your own Youtubes?"
   ]
  },
  {
   "cell_type": "code",
   "execution_count": null,
   "id": "d8bafc3c",
   "metadata": {},
   "outputs": [],
   "source": []
  },
  {
   "cell_type": "code",
   "execution_count": 9,
   "id": "8498061f",
   "metadata": {},
   "outputs": [
    {
     "name": "stdout",
     "output_type": "stream",
     "text": [
      "Generating:  p,q\n",
      "Generating:  u\n",
      "Generating:  d\n",
      "<_RSAobj @0x10af28cd0 n(1024),e,d,p,q,u,private>\n"
     ]
    }
   ],
   "source": [
    "# %load ./primes/rsacrypto_test.py\n",
    "#!/usr/bin/env python3\n",
    "\"\"\"\n",
    "Created on Sat Dec  2 21:07:56 2017\n",
    "\n",
    "@author: Kirby Urner\n",
    "\n",
    "conda install pycrypto\n",
    "pip3 install pycrypto\n",
    "\n",
    "https://www.dlitz.net/software/pycrypto/\n",
    "\n",
    "Note that OpenSSL is the more frequently used not-Python\n",
    "util, run from the OS command line.\n",
    "\"\"\"\n",
    "\n",
    "from primes import invmod\n",
    "\n",
    "import Crypto.PublicKey.RSA as rsa\n",
    "\n",
    "def generating(s):\n",
    "    print(\"Generating: \", s, end=\"\")\n",
    "    \n",
    "rsaobj = rsa.generate(1024, progress_func=generating, e=17)\n",
    "\n",
    "print(rsaobj)\n",
    "\n",
    "p = rsaobj.p  # prime1\n",
    "q = rsaobj.q  # prime2\n",
    "n = rsaobj.n  # public key (p * q)\n",
    "e = rsaobj.e  # public encrypt exponent\n",
    "d = rsaobj.d  # secret decrypt key\n",
    "\n",
    "def test_n():\n",
    "    return p*q == n\n",
    "\n",
    "def test_inverse():\n",
    "    return d == invmod(e, (p-1)*(q-1))\n",
    "    \n",
    "def test_euler():\n",
    "    totient_of_n = (p-1)*(q-1)\n",
    "    return (e*d) % totient_of_n == 1\n",
    "\n",
    "def test_decrypt():\n",
    "    plaintext = b\"able was i ere i saw elba\"  # famous palindrome\n",
    "    ciphertext = rsaobj.encrypt(plaintext, b\"K\")\n",
    "    return rsaobj.decrypt(ciphertext[0]) == plaintext\n"
   ]
  },
  {
   "cell_type": "code",
   "execution_count": 3,
   "id": "d95f18cb",
   "metadata": {},
   "outputs": [
    {
     "data": {
      "text/plain": [
       "True"
      ]
     },
     "execution_count": 3,
     "metadata": {},
     "output_type": "execute_result"
    }
   ],
   "source": [
    "test_inverse()"
   ]
  },
  {
   "cell_type": "code",
   "execution_count": 4,
   "id": "78b8c6c0",
   "metadata": {},
   "outputs": [
    {
     "data": {
      "text/plain": [
       "\u001b[0;31mSignature:\u001b[0m  \u001b[0mrsaobj\u001b[0m\u001b[0;34m.\u001b[0m\u001b[0mencrypt\u001b[0m\u001b[0;34m(\u001b[0m\u001b[0mplaintext\u001b[0m\u001b[0;34m,\u001b[0m \u001b[0mK\u001b[0m\u001b[0;34m)\u001b[0m\u001b[0;34m\u001b[0m\u001b[0;34m\u001b[0m\u001b[0m\n",
       "\u001b[0;31mSource:\u001b[0m   \n",
       "    \u001b[0;32mdef\u001b[0m \u001b[0mencrypt\u001b[0m\u001b[0;34m(\u001b[0m\u001b[0mself\u001b[0m\u001b[0;34m,\u001b[0m \u001b[0mplaintext\u001b[0m\u001b[0;34m,\u001b[0m \u001b[0mK\u001b[0m\u001b[0;34m)\u001b[0m\u001b[0;34m:\u001b[0m\u001b[0;34m\u001b[0m\n",
       "\u001b[0;34m\u001b[0m        \u001b[0;34m\"\"\"Encrypt a piece of data with RSA.\u001b[0m\n",
       "\u001b[0;34m\u001b[0m\n",
       "\u001b[0;34m        :Parameter plaintext: The piece of data to encrypt with RSA. It may not\u001b[0m\n",
       "\u001b[0;34m         be numerically larger than the RSA module (**n**).\u001b[0m\n",
       "\u001b[0;34m        :Type plaintext: byte string or long\u001b[0m\n",
       "\u001b[0;34m\u001b[0m\n",
       "\u001b[0;34m        :Parameter K: A random parameter (*for compatibility only. This\u001b[0m\n",
       "\u001b[0;34m         value will be ignored*)\u001b[0m\n",
       "\u001b[0;34m        :Type K: byte string or long\u001b[0m\n",
       "\u001b[0;34m\u001b[0m\n",
       "\u001b[0;34m        :attention: this function performs the plain, primitive RSA encryption\u001b[0m\n",
       "\u001b[0;34m         (*textbook*). In real applications, you always need to use proper\u001b[0m\n",
       "\u001b[0;34m         cryptographic padding, and you should not directly encrypt data with\u001b[0m\n",
       "\u001b[0;34m         this method. Failure to do so may lead to security vulnerabilities.\u001b[0m\n",
       "\u001b[0;34m         It is recommended to use modules\u001b[0m\n",
       "\u001b[0;34m         `Crypto.Cipher.PKCS1_OAEP` or `Crypto.Cipher.PKCS1_v1_5` instead.\u001b[0m\n",
       "\u001b[0;34m\u001b[0m\n",
       "\u001b[0;34m        :Return: A tuple with two items. The first item is the ciphertext\u001b[0m\n",
       "\u001b[0;34m         of the same type as the plaintext (string or long). The second item\u001b[0m\n",
       "\u001b[0;34m         is always None.\u001b[0m\n",
       "\u001b[0;34m        \"\"\"\u001b[0m\u001b[0;34m\u001b[0m\n",
       "\u001b[0;34m\u001b[0m        \u001b[0;32mreturn\u001b[0m \u001b[0mpubkey\u001b[0m\u001b[0;34m.\u001b[0m\u001b[0mpubkey\u001b[0m\u001b[0;34m.\u001b[0m\u001b[0mencrypt\u001b[0m\u001b[0;34m(\u001b[0m\u001b[0mself\u001b[0m\u001b[0;34m,\u001b[0m \u001b[0mplaintext\u001b[0m\u001b[0;34m,\u001b[0m \u001b[0mK\u001b[0m\u001b[0;34m)\u001b[0m\u001b[0;34m\u001b[0m\u001b[0;34m\u001b[0m\u001b[0m\n",
       "\u001b[0;31mFile:\u001b[0m      ~/opt/anaconda3/lib/python3.7/site-packages/Crypto/PublicKey/RSA.py\n",
       "\u001b[0;31mType:\u001b[0m      method\n"
      ]
     },
     "metadata": {},
     "output_type": "display_data"
    }
   ],
   "source": [
    "?? rsaobj.encrypt"
   ]
  },
  {
   "cell_type": "code",
   "execution_count": 5,
   "id": "370d9484",
   "metadata": {},
   "outputs": [],
   "source": [
    "c = rsaobj.encrypt(b\"attack at dawn\", b\"K\")"
   ]
  },
  {
   "cell_type": "code",
   "execution_count": 6,
   "id": "285ad43a",
   "metadata": {},
   "outputs": [
    {
     "data": {
      "text/plain": [
       "(b'r\\xeb2\\xbc\\xc4*w\\xa5\\xb7\\xfdvf9\\x19 \\xe5\\xdd()\\x01$J\\x14\\x1do\\x8c[Ih\\xb7$\\x99\\xfc1\\x99\\xbd@\\xd4\\x1b)w\\x15\\x1f\\xaa\\xab\\xec\\x96\\x1a{\\x97-\\x9d\\x98V-\\xef\\xc0\\xd7\\xca\\x90>\\r#\\x96\\xe4N^\\xf3\\xd9\\x88\\xcf8\\x8f\\x14B\\xeaB\\xaf\\x9c\\x03\\x01\\xc07\\xb5\\x9f\\xc5\\xed\\x04\\x7f\\xd9\\xcdO\\xa3\\xd1\\xcc\\xd4_,\\xbb\\x10\\x05\\xf50\\xcd\\xdb*\\xe6\\xd9\\xc0\\x9d6\\xe6\\xc0\\x1e\\xde\\x93\\x01V\\xda\\xed\\xfb\\x9c;6\\x14lM\\x97',)"
      ]
     },
     "execution_count": 6,
     "metadata": {},
     "output_type": "execute_result"
    }
   ],
   "source": [
    "c"
   ]
  },
  {
   "cell_type": "code",
   "execution_count": 7,
   "id": "c24872f0",
   "metadata": {},
   "outputs": [
    {
     "data": {
      "text/plain": [
       "b'attack at dawn'"
      ]
     },
     "execution_count": 7,
     "metadata": {},
     "output_type": "execute_result"
    }
   ],
   "source": [
    "rsaobj.decrypt(c[0])"
   ]
  },
  {
   "cell_type": "code",
   "execution_count": 10,
   "id": "f760deae",
   "metadata": {},
   "outputs": [
    {
     "data": {
      "text/plain": [
       "129932039170329845922751979223385561480816848865439266311560605748255463461305374560926382635692521533192748954366967079227328254964126365213075218468364040214668117427295445588046511752722240360250671469487066577596205943067835113608915676583064436452400467979623065581006852988693743348161484842052795449261"
      ]
     },
     "execution_count": 10,
     "metadata": {},
     "output_type": "execute_result"
    }
   ],
   "source": [
    "p * q"
   ]
  },
  {
   "cell_type": "code",
   "execution_count": null,
   "id": "0786e9aa",
   "metadata": {},
   "outputs": [],
   "source": []
  }
 ],
 "metadata": {
  "kernelspec": {
   "display_name": "Python 3",
   "language": "python",
   "name": "python3"
  },
  "language_info": {
   "codemirror_mode": {
    "name": "ipython",
    "version": 3
   },
   "file_extension": ".py",
   "mimetype": "text/x-python",
   "name": "python",
   "nbconvert_exporter": "python",
   "pygments_lexer": "ipython3",
   "version": "3.7.9"
  }
 },
 "nbformat": 4,
 "nbformat_minor": 5
}
