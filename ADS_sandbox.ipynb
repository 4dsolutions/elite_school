{
 "cells": [
  {
   "cell_type": "markdown",
   "id": "1e789bf7-cbdc-48f1-8fff-a8eb38ce2d1a",
   "metadata": {},
   "source": [
    "## Practice with pandas\n",
    "\n",
    "The pandas.DataFrame type lets you join pandas.Series type columns into a multi-column data table, complete with row and column names of your choice, both re-orderable.\n",
    "\n",
    "Once you have a DataFrame defined, adding new columns based on the old, getting summary statistics, applying functions, generating visualizations, is all within reach."
   ]
  },
  {
   "cell_type": "code",
   "execution_count": 1,
   "id": "b6114f65-cb48-4e34-a3c4-bd10491c2022",
   "metadata": {},
   "outputs": [],
   "source": [
    "# be skeptical of code like this -- but maybe?\n",
    "name = 'math'\n",
    "exec(f'import {name} as clc')"
   ]
  },
  {
   "cell_type": "code",
   "execution_count": 2,
   "id": "ab279057-b37f-40c5-aae1-6b19b7d895bc",
   "metadata": {},
   "outputs": [
    {
     "data": {
      "text/plain": [
       "1.0"
      ]
     },
     "execution_count": 2,
     "metadata": {},
     "output_type": "execute_result"
    }
   ],
   "source": [
    "clc.sin(clc.radians(90)) # remembering trig"
   ]
  },
  {
   "cell_type": "code",
   "execution_count": 3,
   "id": "4d4c048b-bea2-4cc4-84b0-7a9e0d13a69a",
   "metadata": {},
   "outputs": [],
   "source": [
    "# and now for something completely different...\n",
    "import numpy as np\n",
    "import pandas as pd"
   ]
  },
  {
   "cell_type": "markdown",
   "id": "aa7c6642-782f-4ded-82e0-3a24eae10ee8",
   "metadata": {},
   "source": [
    "Lets stack up a column of polyhedron names, using a kind of jargon or shorthand."
   ]
  },
  {
   "cell_type": "code",
   "execution_count": 79,
   "id": "ad1864a7-4ac2-4e7d-a3c5-9bcd030b9ad3",
   "metadata": {},
   "outputs": [
    {
     "data": {
      "text/plain": [
       "array(['Tetra', 'Cubocta', 'Icosa', 'Cube', 'Octa', 'RT5', 'RT5+', 'RD',\n",
       "       'Icosa', 'Cubocta', 'SuperRT', 'Cube'], dtype='<U7')"
      ]
     },
     "execution_count": 79,
     "metadata": {},
     "output_type": "execute_result"
    }
   ],
   "source": [
    "shapes = np.array([\"Tetra\", \"Cubocta\", \"Icosa\", \"Cube\", \"Octa\", \n",
    "                    \"RT5\", \"RT5+\", \"RD\", \"Icosa\", \"Cubocta\", \n",
    "                    \"SuperRT\", \"Cube\"], \n",
    "                    dtype=np.str_) \n",
    "shapes"
   ]
  },
  {
   "cell_type": "markdown",
   "id": "226e5997-52a1-4fb4-811d-befde7afc632",
   "metadata": {},
   "source": [
    "So far that's a `numpy.ndarray` we've created.  Now lets bring that into a Series."
   ]
  },
  {
   "cell_type": "code",
   "execution_count": 80,
   "id": "29786b36-be5f-4b5d-998d-750d27d92a26",
   "metadata": {},
   "outputs": [
    {
     "data": {
      "text/plain": [
       "0       Tetra\n",
       "1     Cubocta\n",
       "2       Icosa\n",
       "3        Cube\n",
       "4        Octa\n",
       "5         RT5\n",
       "6        RT5+\n",
       "7          RD\n",
       "8       Icosa\n",
       "9     Cubocta\n",
       "10    SuperRT\n",
       "11       Cube\n",
       "Name: Shape, dtype: object"
      ]
     },
     "execution_count": 80,
     "metadata": {},
     "output_type": "execute_result"
    }
   ],
   "source": [
    "shapes_col = pd.Series(shapes, name=\"Shape\")\n",
    "shapes_col"
   ]
  },
  {
   "cell_type": "markdown",
   "id": "a86f696f-4155-4490-8824-119128f743c0",
   "metadata": {},
   "source": [
    "The vertical Series, a column of some data type (dtype), is the building block of the DataFrame, which sets them side by side in a tabular arrangement."
   ]
  },
  {
   "cell_type": "code",
   "execution_count": 81,
   "id": "17fd5511-6b21-4dad-9a2d-46ac24eadc22",
   "metadata": {},
   "outputs": [],
   "source": [
    "# geometric constants\n",
    "phi = (1 + clc.sqrt(5))/2\n",
    "\n",
    "# volumes of specific tetrahedral wedges\n",
    "Emod  = clc.sqrt(2)/8 * 1/phi**3\n",
    "Emod3 = clc.sqrt(2)/8\n",
    "Smod  = (phi**-5) / 2\n",
    "\n",
    "Sfactor = Smod/Emod\n",
    "\n",
    "S3 = clc.sqrt(9/8)\n",
    "\n",
    "# defined to have edges = 2R or 1D\n",
    "Icosa = 100 * E3 + 20 * E\n",
    "\n",
    "# volumes corresponding to our shapes\n",
    "volumes = np.array([1, 2.5, 2.5 * Sfactor**2, 3, 4, 5, 120 * E, 6, Icosa, 20, 20 * S3, 24],  dtype=np.float)"
   ]
  },
  {
   "cell_type": "code",
   "execution_count": 82,
   "id": "20092cbb-0059-4bf3-8467-99ea4849b7ec",
   "metadata": {},
   "outputs": [],
   "source": [
    "volumes_col = pd.Series(volumes, name=\"IVM Volume\")  # turn np.array into a pd.Series"
   ]
  },
  {
   "cell_type": "code",
   "execution_count": 83,
   "id": "2047be0f-d03a-459b-bc52-b77343b90e26",
   "metadata": {},
   "outputs": [
    {
     "data": {
      "text/plain": [
       "0      1.000000\n",
       "1      2.500000\n",
       "2      2.917961\n",
       "3      3.000000\n",
       "4      4.000000\n",
       "5      5.000000\n",
       "6      5.007758\n",
       "7      6.000000\n",
       "8     18.512296\n",
       "9     20.000000\n",
       "10    21.213203\n",
       "11    24.000000\n",
       "Name: IVM Volume, dtype: float64"
      ]
     },
     "execution_count": 83,
     "metadata": {},
     "output_type": "execute_result"
    }
   ],
   "source": [
    "volumes_col"
   ]
  },
  {
   "cell_type": "code",
   "execution_count": 84,
   "id": "59b27db3-3eb9-41db-9589-2b81601aa27e",
   "metadata": {},
   "outputs": [],
   "source": [
    "vols_table = pd.DataFrame(volumes_col)\n",
    "vols_table.index = shapes_col  #  the shapes column is the index"
   ]
  },
  {
   "cell_type": "code",
   "execution_count": 85,
   "id": "bf8c0e87-6c3b-4581-bb31-6cea1dc2213c",
   "metadata": {},
   "outputs": [
    {
     "data": {
      "text/html": [
       "<div>\n",
       "<style scoped>\n",
       "    .dataframe tbody tr th:only-of-type {\n",
       "        vertical-align: middle;\n",
       "    }\n",
       "\n",
       "    .dataframe tbody tr th {\n",
       "        vertical-align: top;\n",
       "    }\n",
       "\n",
       "    .dataframe thead th {\n",
       "        text-align: right;\n",
       "    }\n",
       "</style>\n",
       "<table border=\"1\" class=\"dataframe\">\n",
       "  <thead>\n",
       "    <tr style=\"text-align: right;\">\n",
       "      <th></th>\n",
       "      <th>IVM Volume</th>\n",
       "    </tr>\n",
       "    <tr>\n",
       "      <th>Shape</th>\n",
       "      <th></th>\n",
       "    </tr>\n",
       "  </thead>\n",
       "  <tbody>\n",
       "    <tr>\n",
       "      <th>Tetra</th>\n",
       "      <td>1.000000</td>\n",
       "    </tr>\n",
       "    <tr>\n",
       "      <th>Cubocta</th>\n",
       "      <td>2.500000</td>\n",
       "    </tr>\n",
       "    <tr>\n",
       "      <th>Icosa</th>\n",
       "      <td>2.917961</td>\n",
       "    </tr>\n",
       "    <tr>\n",
       "      <th>Cube</th>\n",
       "      <td>3.000000</td>\n",
       "    </tr>\n",
       "    <tr>\n",
       "      <th>Octa</th>\n",
       "      <td>4.000000</td>\n",
       "    </tr>\n",
       "    <tr>\n",
       "      <th>RT5</th>\n",
       "      <td>5.000000</td>\n",
       "    </tr>\n",
       "    <tr>\n",
       "      <th>RT5+</th>\n",
       "      <td>5.007758</td>\n",
       "    </tr>\n",
       "    <tr>\n",
       "      <th>RD</th>\n",
       "      <td>6.000000</td>\n",
       "    </tr>\n",
       "    <tr>\n",
       "      <th>Icosa</th>\n",
       "      <td>18.512296</td>\n",
       "    </tr>\n",
       "    <tr>\n",
       "      <th>Cubocta</th>\n",
       "      <td>20.000000</td>\n",
       "    </tr>\n",
       "    <tr>\n",
       "      <th>SuperRT</th>\n",
       "      <td>21.213203</td>\n",
       "    </tr>\n",
       "    <tr>\n",
       "      <th>Cube</th>\n",
       "      <td>24.000000</td>\n",
       "    </tr>\n",
       "  </tbody>\n",
       "</table>\n",
       "</div>"
      ],
      "text/plain": [
       "         IVM Volume\n",
       "Shape              \n",
       "Tetra      1.000000\n",
       "Cubocta    2.500000\n",
       "Icosa      2.917961\n",
       "Cube       3.000000\n",
       "Octa       4.000000\n",
       "RT5        5.000000\n",
       "RT5+       5.007758\n",
       "RD         6.000000\n",
       "Icosa     18.512296\n",
       "Cubocta   20.000000\n",
       "SuperRT   21.213203\n",
       "Cube      24.000000"
      ]
     },
     "execution_count": 85,
     "metadata": {},
     "output_type": "execute_result"
    }
   ],
   "source": [
    "vols_table"
   ]
  },
  {
   "cell_type": "code",
   "execution_count": 86,
   "id": "1811085d-215b-4eae-8dd1-5edd51696084",
   "metadata": {},
   "outputs": [],
   "source": [
    "vols_table['XYZ Volume'] = vols_table['IVM Volume'] * 1/S3"
   ]
  },
  {
   "cell_type": "code",
   "execution_count": 87,
   "id": "1804f934-9920-43ca-9cf3-26760d71c282",
   "metadata": {},
   "outputs": [
    {
     "data": {
      "text/html": [
       "<div>\n",
       "<style scoped>\n",
       "    .dataframe tbody tr th:only-of-type {\n",
       "        vertical-align: middle;\n",
       "    }\n",
       "\n",
       "    .dataframe tbody tr th {\n",
       "        vertical-align: top;\n",
       "    }\n",
       "\n",
       "    .dataframe thead th {\n",
       "        text-align: right;\n",
       "    }\n",
       "</style>\n",
       "<table border=\"1\" class=\"dataframe\">\n",
       "  <thead>\n",
       "    <tr style=\"text-align: right;\">\n",
       "      <th></th>\n",
       "      <th>IVM Volume</th>\n",
       "      <th>XYZ Volume</th>\n",
       "    </tr>\n",
       "    <tr>\n",
       "      <th>Shape</th>\n",
       "      <th></th>\n",
       "      <th></th>\n",
       "    </tr>\n",
       "  </thead>\n",
       "  <tbody>\n",
       "    <tr>\n",
       "      <th>Tetra</th>\n",
       "      <td>1.000000</td>\n",
       "      <td>0.942809</td>\n",
       "    </tr>\n",
       "    <tr>\n",
       "      <th>Cubocta</th>\n",
       "      <td>2.500000</td>\n",
       "      <td>2.357023</td>\n",
       "    </tr>\n",
       "    <tr>\n",
       "      <th>Icosa</th>\n",
       "      <td>2.917961</td>\n",
       "      <td>2.751080</td>\n",
       "    </tr>\n",
       "    <tr>\n",
       "      <th>Cube</th>\n",
       "      <td>3.000000</td>\n",
       "      <td>2.828427</td>\n",
       "    </tr>\n",
       "    <tr>\n",
       "      <th>Octa</th>\n",
       "      <td>4.000000</td>\n",
       "      <td>3.771236</td>\n",
       "    </tr>\n",
       "    <tr>\n",
       "      <th>RT5</th>\n",
       "      <td>5.000000</td>\n",
       "      <td>4.714045</td>\n",
       "    </tr>\n",
       "    <tr>\n",
       "      <th>RT5+</th>\n",
       "      <td>5.007758</td>\n",
       "      <td>4.721360</td>\n",
       "    </tr>\n",
       "    <tr>\n",
       "      <th>RD</th>\n",
       "      <td>6.000000</td>\n",
       "      <td>5.656854</td>\n",
       "    </tr>\n",
       "    <tr>\n",
       "      <th>Icosa</th>\n",
       "      <td>18.512296</td>\n",
       "      <td>17.453560</td>\n",
       "    </tr>\n",
       "    <tr>\n",
       "      <th>Cubocta</th>\n",
       "      <td>20.000000</td>\n",
       "      <td>18.856181</td>\n",
       "    </tr>\n",
       "    <tr>\n",
       "      <th>SuperRT</th>\n",
       "      <td>21.213203</td>\n",
       "      <td>20.000000</td>\n",
       "    </tr>\n",
       "    <tr>\n",
       "      <th>Cube</th>\n",
       "      <td>24.000000</td>\n",
       "      <td>22.627417</td>\n",
       "    </tr>\n",
       "  </tbody>\n",
       "</table>\n",
       "</div>"
      ],
      "text/plain": [
       "         IVM Volume  XYZ Volume\n",
       "Shape                          \n",
       "Tetra      1.000000    0.942809\n",
       "Cubocta    2.500000    2.357023\n",
       "Icosa      2.917961    2.751080\n",
       "Cube       3.000000    2.828427\n",
       "Octa       4.000000    3.771236\n",
       "RT5        5.000000    4.714045\n",
       "RT5+       5.007758    4.721360\n",
       "RD         6.000000    5.656854\n",
       "Icosa     18.512296   17.453560\n",
       "Cubocta   20.000000   18.856181\n",
       "SuperRT   21.213203   20.000000\n",
       "Cube      24.000000   22.627417"
      ]
     },
     "execution_count": 87,
     "metadata": {},
     "output_type": "execute_result"
    }
   ],
   "source": [
    "vols_table"
   ]
  },
  {
   "cell_type": "markdown",
   "id": "df0f0c9d-33d0-41ed-87df-b837bac930c0",
   "metadata": {},
   "source": [
    "Practice with `df.loc[rows, columns]`."
   ]
  },
  {
   "cell_type": "code",
   "execution_count": 89,
   "id": "2657ed55-170e-4006-8c93-7689180652fa",
   "metadata": {},
   "outputs": [
    {
     "data": {
      "text/plain": [
       "IVM Volume    24.000000\n",
       "XYZ Volume    22.627417\n",
       "Name: Cube, dtype: float64"
      ]
     },
     "execution_count": 89,
     "metadata": {},
     "output_type": "execute_result"
    }
   ],
   "source": [
    "vols_table.iloc[11]  # entire row"
   ]
  },
  {
   "cell_type": "code",
   "execution_count": 90,
   "id": "a2c0c8a5-fe0f-4271-b3a5-27597e28581b",
   "metadata": {},
   "outputs": [
    {
     "data": {
      "text/plain": [
       "IVM Volume    1.000000\n",
       "XYZ Volume    0.942809\n",
       "Name: Tetra, dtype: float64"
      ]
     },
     "execution_count": 90,
     "metadata": {},
     "output_type": "execute_result"
    }
   ],
   "source": [
    "vols_table.iloc[0]  # entire row"
   ]
  },
  {
   "cell_type": "code",
   "execution_count": 91,
   "id": "dd54d71c-4e48-40f3-82f0-8987683a64cd",
   "metadata": {},
   "outputs": [
    {
     "data": {
      "text/plain": [
       "20.0"
      ]
     },
     "execution_count": 91,
     "metadata": {},
     "output_type": "execute_result"
    }
   ],
   "source": [
    "vols_table.loc['SuperRT', 'XYZ Volume'] # specific cell"
   ]
  },
  {
   "cell_type": "markdown",
   "id": "592bc7ac-83fe-4bbd-ab9e-710464c8bfdb",
   "metadata": {},
   "source": [
    "Now lets add some constituent modules that may be used to assemble the above shapes."
   ]
  },
  {
   "cell_type": "code",
   "execution_count": 64,
   "id": "409c5a28-292c-42e5-8f84-ecbcf511d358",
   "metadata": {},
   "outputs": [],
   "source": [
    "modules = np.array([\"A\",\"B\", \"T\", \"E\", \"S\"],\n",
    "                    dtype=np.str_) \n",
    "\n",
    "mods_col = pd.Series(modules, name=\"Shape\")\n",
    "\n",
    "mod_vols = np.array([1/24, 1/24, 1/24, E, (phi**-5) / 2],  dtype=np.float)\n",
    "mod_vols_col = pd.Series(mod_vols, name=\"IVM Volume\")\n",
    "\n",
    "mods_table = pd.DataFrame(mod_vols_col)\n",
    "mods_table.index = mods_col"
   ]
  },
  {
   "cell_type": "code",
   "execution_count": 17,
   "id": "07046a0d-501b-49e6-a0c9-42b56bc7ba90",
   "metadata": {},
   "outputs": [
    {
     "data": {
      "text/html": [
       "<div>\n",
       "<style scoped>\n",
       "    .dataframe tbody tr th:only-of-type {\n",
       "        vertical-align: middle;\n",
       "    }\n",
       "\n",
       "    .dataframe tbody tr th {\n",
       "        vertical-align: top;\n",
       "    }\n",
       "\n",
       "    .dataframe thead th {\n",
       "        text-align: right;\n",
       "    }\n",
       "</style>\n",
       "<table border=\"1\" class=\"dataframe\">\n",
       "  <thead>\n",
       "    <tr style=\"text-align: right;\">\n",
       "      <th></th>\n",
       "      <th>IVM Volume</th>\n",
       "    </tr>\n",
       "    <tr>\n",
       "      <th>Shape</th>\n",
       "      <th></th>\n",
       "    </tr>\n",
       "  </thead>\n",
       "  <tbody>\n",
       "    <tr>\n",
       "      <th>A</th>\n",
       "      <td>0.041667</td>\n",
       "    </tr>\n",
       "    <tr>\n",
       "      <th>B</th>\n",
       "      <td>0.041667</td>\n",
       "    </tr>\n",
       "    <tr>\n",
       "      <th>T</th>\n",
       "      <td>0.041667</td>\n",
       "    </tr>\n",
       "    <tr>\n",
       "      <th>E</th>\n",
       "      <td>0.041731</td>\n",
       "    </tr>\n",
       "    <tr>\n",
       "      <th>S</th>\n",
       "      <td>0.045085</td>\n",
       "    </tr>\n",
       "  </tbody>\n",
       "</table>\n",
       "</div>"
      ],
      "text/plain": [
       "       IVM Volume\n",
       "Shape            \n",
       "A        0.041667\n",
       "B        0.041667\n",
       "T        0.041667\n",
       "E        0.041731\n",
       "S        0.045085"
      ]
     },
     "execution_count": 17,
     "metadata": {},
     "output_type": "execute_result"
    }
   ],
   "source": [
    "mods_table"
   ]
  },
  {
   "cell_type": "code",
   "execution_count": 66,
   "id": "1084d98c-1366-41ec-9d17-afa75b3118d5",
   "metadata": {},
   "outputs": [],
   "source": [
    "mods_table['XYZ Volume'] = mods_table['IVM Volume'] * 1/S3"
   ]
  },
  {
   "cell_type": "code",
   "execution_count": 19,
   "id": "03b6756a-006f-4fa5-8122-880fff6aa928",
   "metadata": {},
   "outputs": [
    {
     "data": {
      "text/html": [
       "<div>\n",
       "<style scoped>\n",
       "    .dataframe tbody tr th:only-of-type {\n",
       "        vertical-align: middle;\n",
       "    }\n",
       "\n",
       "    .dataframe tbody tr th {\n",
       "        vertical-align: top;\n",
       "    }\n",
       "\n",
       "    .dataframe thead th {\n",
       "        text-align: right;\n",
       "    }\n",
       "</style>\n",
       "<table border=\"1\" class=\"dataframe\">\n",
       "  <thead>\n",
       "    <tr style=\"text-align: right;\">\n",
       "      <th></th>\n",
       "      <th>IVM Volume</th>\n",
       "      <th>XYZ Volume</th>\n",
       "    </tr>\n",
       "    <tr>\n",
       "      <th>Shape</th>\n",
       "      <th></th>\n",
       "      <th></th>\n",
       "    </tr>\n",
       "  </thead>\n",
       "  <tbody>\n",
       "    <tr>\n",
       "      <th>A</th>\n",
       "      <td>0.041667</td>\n",
       "      <td>0.039284</td>\n",
       "    </tr>\n",
       "    <tr>\n",
       "      <th>B</th>\n",
       "      <td>0.041667</td>\n",
       "      <td>0.039284</td>\n",
       "    </tr>\n",
       "    <tr>\n",
       "      <th>T</th>\n",
       "      <td>0.041667</td>\n",
       "      <td>0.039284</td>\n",
       "    </tr>\n",
       "    <tr>\n",
       "      <th>E</th>\n",
       "      <td>0.041731</td>\n",
       "      <td>0.039345</td>\n",
       "    </tr>\n",
       "    <tr>\n",
       "      <th>S</th>\n",
       "      <td>0.045085</td>\n",
       "      <td>0.042507</td>\n",
       "    </tr>\n",
       "  </tbody>\n",
       "</table>\n",
       "</div>"
      ],
      "text/plain": [
       "       IVM Volume  XYZ Volume\n",
       "Shape                        \n",
       "A        0.041667    0.039284\n",
       "B        0.041667    0.039284\n",
       "T        0.041667    0.039284\n",
       "E        0.041731    0.039345\n",
       "S        0.045085    0.042507"
      ]
     },
     "execution_count": 19,
     "metadata": {},
     "output_type": "execute_result"
    }
   ],
   "source": [
    "mods_table"
   ]
  },
  {
   "cell_type": "markdown",
   "id": "4f9a552a-72d2-4590-a8c7-e069192b2f4f",
   "metadata": {},
   "source": [
    "And now it's time to assemble the full table."
   ]
  },
  {
   "cell_type": "code",
   "execution_count": 92,
   "id": "2271c1a2-aeba-4eee-98b7-87b4c286a688",
   "metadata": {},
   "outputs": [
    {
     "data": {
      "text/html": [
       "<div>\n",
       "<style scoped>\n",
       "    .dataframe tbody tr th:only-of-type {\n",
       "        vertical-align: middle;\n",
       "    }\n",
       "\n",
       "    .dataframe tbody tr th {\n",
       "        vertical-align: top;\n",
       "    }\n",
       "\n",
       "    .dataframe thead th {\n",
       "        text-align: right;\n",
       "    }\n",
       "</style>\n",
       "<table border=\"1\" class=\"dataframe\">\n",
       "  <thead>\n",
       "    <tr style=\"text-align: right;\">\n",
       "      <th></th>\n",
       "      <th>IVM Volume</th>\n",
       "      <th>XYZ Volume</th>\n",
       "    </tr>\n",
       "    <tr>\n",
       "      <th>Shape</th>\n",
       "      <th></th>\n",
       "      <th></th>\n",
       "    </tr>\n",
       "  </thead>\n",
       "  <tbody>\n",
       "    <tr>\n",
       "      <th>A</th>\n",
       "      <td>0.041667</td>\n",
       "      <td>0.039284</td>\n",
       "    </tr>\n",
       "    <tr>\n",
       "      <th>B</th>\n",
       "      <td>0.041667</td>\n",
       "      <td>0.039284</td>\n",
       "    </tr>\n",
       "    <tr>\n",
       "      <th>T</th>\n",
       "      <td>0.041667</td>\n",
       "      <td>0.039284</td>\n",
       "    </tr>\n",
       "    <tr>\n",
       "      <th>E</th>\n",
       "      <td>0.041731</td>\n",
       "      <td>0.039345</td>\n",
       "    </tr>\n",
       "    <tr>\n",
       "      <th>S</th>\n",
       "      <td>0.045085</td>\n",
       "      <td>0.042507</td>\n",
       "    </tr>\n",
       "    <tr>\n",
       "      <th>Tetra</th>\n",
       "      <td>1.000000</td>\n",
       "      <td>0.942809</td>\n",
       "    </tr>\n",
       "    <tr>\n",
       "      <th>Cubocta</th>\n",
       "      <td>2.500000</td>\n",
       "      <td>2.357023</td>\n",
       "    </tr>\n",
       "    <tr>\n",
       "      <th>Icosa</th>\n",
       "      <td>2.917961</td>\n",
       "      <td>2.751080</td>\n",
       "    </tr>\n",
       "    <tr>\n",
       "      <th>Cube</th>\n",
       "      <td>3.000000</td>\n",
       "      <td>2.828427</td>\n",
       "    </tr>\n",
       "    <tr>\n",
       "      <th>Octa</th>\n",
       "      <td>4.000000</td>\n",
       "      <td>3.771236</td>\n",
       "    </tr>\n",
       "    <tr>\n",
       "      <th>RT5</th>\n",
       "      <td>5.000000</td>\n",
       "      <td>4.714045</td>\n",
       "    </tr>\n",
       "    <tr>\n",
       "      <th>RT5+</th>\n",
       "      <td>5.007758</td>\n",
       "      <td>4.721360</td>\n",
       "    </tr>\n",
       "    <tr>\n",
       "      <th>RD</th>\n",
       "      <td>6.000000</td>\n",
       "      <td>5.656854</td>\n",
       "    </tr>\n",
       "    <tr>\n",
       "      <th>Icosa</th>\n",
       "      <td>18.512296</td>\n",
       "      <td>17.453560</td>\n",
       "    </tr>\n",
       "    <tr>\n",
       "      <th>Cubocta</th>\n",
       "      <td>20.000000</td>\n",
       "      <td>18.856181</td>\n",
       "    </tr>\n",
       "    <tr>\n",
       "      <th>SuperRT</th>\n",
       "      <td>21.213203</td>\n",
       "      <td>20.000000</td>\n",
       "    </tr>\n",
       "    <tr>\n",
       "      <th>Cube</th>\n",
       "      <td>24.000000</td>\n",
       "      <td>22.627417</td>\n",
       "    </tr>\n",
       "  </tbody>\n",
       "</table>\n",
       "</div>"
      ],
      "text/plain": [
       "         IVM Volume  XYZ Volume\n",
       "Shape                          \n",
       "A          0.041667    0.039284\n",
       "B          0.041667    0.039284\n",
       "T          0.041667    0.039284\n",
       "E          0.041731    0.039345\n",
       "S          0.045085    0.042507\n",
       "Tetra      1.000000    0.942809\n",
       "Cubocta    2.500000    2.357023\n",
       "Icosa      2.917961    2.751080\n",
       "Cube       3.000000    2.828427\n",
       "Octa       4.000000    3.771236\n",
       "RT5        5.000000    4.714045\n",
       "RT5+       5.007758    4.721360\n",
       "RD         6.000000    5.656854\n",
       "Icosa     18.512296   17.453560\n",
       "Cubocta   20.000000   18.856181\n",
       "SuperRT   21.213203   20.000000\n",
       "Cube      24.000000   22.627417"
      ]
     },
     "execution_count": 92,
     "metadata": {},
     "output_type": "execute_result"
    }
   ],
   "source": [
    "pd.concat([mods_table, vols_table])"
   ]
  },
  {
   "cell_type": "code",
   "execution_count": 94,
   "id": "cc714313-6a54-44f6-8e31-7348c3b00908",
   "metadata": {},
   "outputs": [],
   "source": [
    "CH = pd.concat([mods_table, vols_table])"
   ]
  },
  {
   "cell_type": "code",
   "execution_count": 101,
   "id": "d4fc2643-cd26-4974-9ba0-827eebed5855",
   "metadata": {},
   "outputs": [
    {
     "name": "stdout",
     "output_type": "stream",
     "text": [
      "<class 'pandas.core.frame.DataFrame'>\n",
      "Index: 17 entries, A to Cube\n",
      "Data columns (total 3 columns):\n",
      " #   Column      Non-Null Count  Dtype  \n",
      "---  ------      --------------  -----  \n",
      " 0   IVM Volume  17 non-null     float64\n",
      " 1   XYZ Volume  17 non-null     float64\n",
      " 2   Comments    15 non-null     object \n",
      "dtypes: float64(2), object(1)\n",
      "memory usage: 1.1+ KB\n"
     ]
    }
   ],
   "source": [
    "CH.info()"
   ]
  },
  {
   "cell_type": "code",
   "execution_count": 97,
   "id": "a9e565bc-dcc7-4e13-8fc8-8d887d2b11d5",
   "metadata": {},
   "outputs": [],
   "source": [
    "# df['new'] = pd.Series(dtype='int')\n",
    "CH['Comments'] = pd.Series(dtype='str_')"
   ]
  },
  {
   "cell_type": "code",
   "execution_count": 114,
   "id": "b62eca1a-738b-462a-a5a4-3777affe378c",
   "metadata": {},
   "outputs": [],
   "source": [
    "CH.iloc[0, -1] = '24 make a Tetra'\n",
    "CH.iloc[1, -1] = 'AAB = BAA = Mite'\n",
    "CH.iloc[2, -1] = '1/120 RT5'\n",
    "CH.iloc[3, -1] = '1/120 RT5+'\n",
    "CH.iloc[4, -1] = '(φ**-5) / 2'\n",
    "CH.loc[\"Tetra\", \"Comments\"] = \"edges D, from 4 IVM balls\"\n",
    "CH.iloc[6, -1] = 'some faces flush with Octa 4'\n",
    "CH.iloc[7, -1] = 'some faces flush with Octa 4'\n",
    "CH.iloc[8, -1] = 'Duo-Tet, face diagonals = D'\n",
    "CH.iloc[9, -1] = 'Dual of Cube, edges D'\n",
    "CH.iloc[10, -1] = '120 T mods'\n",
    "CH.iloc[11, -1] = '120 E mods'\n",
    "CH.loc['RD', 'Comments'] = 'long diagonals = D, sphere domain'\n",
    "CH.iloc[13, -1] = 'edges = D'\n",
    "CH.iloc[14, -1] = 'edges = D, 1F, 12-balls around nuclear ball'\n",
    "CH.iloc[15, -1] = 'icosa of edges D + dual'\n",
    "CH.iloc[16, -1] = 'face diagonals = 2D, 2F'"
   ]
  },
  {
   "cell_type": "code",
   "execution_count": 112,
   "id": "1b7c5540-5cd5-4a2e-b5ce-e39bd306e8d4",
   "metadata": {},
   "outputs": [
    {
     "data": {
      "text/html": [
       "<div>\n",
       "<style scoped>\n",
       "    .dataframe tbody tr th:only-of-type {\n",
       "        vertical-align: middle;\n",
       "    }\n",
       "\n",
       "    .dataframe tbody tr th {\n",
       "        vertical-align: top;\n",
       "    }\n",
       "\n",
       "    .dataframe thead th {\n",
       "        text-align: right;\n",
       "    }\n",
       "</style>\n",
       "<table border=\"1\" class=\"dataframe\">\n",
       "  <thead>\n",
       "    <tr style=\"text-align: right;\">\n",
       "      <th></th>\n",
       "      <th>IVM Volume</th>\n",
       "      <th>XYZ Volume</th>\n",
       "      <th>Comments</th>\n",
       "    </tr>\n",
       "    <tr>\n",
       "      <th>Shape</th>\n",
       "      <th></th>\n",
       "      <th></th>\n",
       "      <th></th>\n",
       "    </tr>\n",
       "  </thead>\n",
       "  <tbody>\n",
       "    <tr>\n",
       "      <th>A</th>\n",
       "      <td>0.041667</td>\n",
       "      <td>0.039284</td>\n",
       "      <td>24 make a Tetra</td>\n",
       "    </tr>\n",
       "    <tr>\n",
       "      <th>B</th>\n",
       "      <td>0.041667</td>\n",
       "      <td>0.039284</td>\n",
       "      <td>AAB = BAA = Mite</td>\n",
       "    </tr>\n",
       "    <tr>\n",
       "      <th>T</th>\n",
       "      <td>0.041667</td>\n",
       "      <td>0.039284</td>\n",
       "      <td>1/120 RT5</td>\n",
       "    </tr>\n",
       "    <tr>\n",
       "      <th>E</th>\n",
       "      <td>0.041731</td>\n",
       "      <td>0.039345</td>\n",
       "      <td>1/120 RT5+</td>\n",
       "    </tr>\n",
       "    <tr>\n",
       "      <th>S</th>\n",
       "      <td>0.045085</td>\n",
       "      <td>0.042507</td>\n",
       "      <td>(φ**-5) / 2</td>\n",
       "    </tr>\n",
       "    <tr>\n",
       "      <th>Tetra</th>\n",
       "      <td>1.000000</td>\n",
       "      <td>0.942809</td>\n",
       "      <td>edges D, from 4 IVM balls</td>\n",
       "    </tr>\n",
       "    <tr>\n",
       "      <th>Cubocta</th>\n",
       "      <td>2.500000</td>\n",
       "      <td>2.357023</td>\n",
       "      <td>some faces flush with Octa 4</td>\n",
       "    </tr>\n",
       "    <tr>\n",
       "      <th>Icosa</th>\n",
       "      <td>2.917961</td>\n",
       "      <td>2.751080</td>\n",
       "      <td>some faces flush with Octa 4</td>\n",
       "    </tr>\n",
       "    <tr>\n",
       "      <th>Cube</th>\n",
       "      <td>3.000000</td>\n",
       "      <td>2.828427</td>\n",
       "      <td>Duo-Tet, face diagonals = D</td>\n",
       "    </tr>\n",
       "    <tr>\n",
       "      <th>Octa</th>\n",
       "      <td>4.000000</td>\n",
       "      <td>3.771236</td>\n",
       "      <td>Dual of Cube, edges D</td>\n",
       "    </tr>\n",
       "    <tr>\n",
       "      <th>RT5</th>\n",
       "      <td>5.000000</td>\n",
       "      <td>4.714045</td>\n",
       "      <td>120 T mods</td>\n",
       "    </tr>\n",
       "    <tr>\n",
       "      <th>RT5+</th>\n",
       "      <td>5.007758</td>\n",
       "      <td>4.721360</td>\n",
       "      <td>120 E mods</td>\n",
       "    </tr>\n",
       "    <tr>\n",
       "      <th>RD</th>\n",
       "      <td>6.000000</td>\n",
       "      <td>5.656854</td>\n",
       "      <td>long diagonals = D, sphere domain</td>\n",
       "    </tr>\n",
       "    <tr>\n",
       "      <th>Icosa</th>\n",
       "      <td>18.512296</td>\n",
       "      <td>17.453560</td>\n",
       "      <td>edges = D</td>\n",
       "    </tr>\n",
       "    <tr>\n",
       "      <th>Cubocta</th>\n",
       "      <td>20.000000</td>\n",
       "      <td>18.856181</td>\n",
       "      <td>edges = D, 1F, 12-balls around nuclear ball</td>\n",
       "    </tr>\n",
       "    <tr>\n",
       "      <th>SuperRT</th>\n",
       "      <td>21.213203</td>\n",
       "      <td>20.000000</td>\n",
       "      <td>icosa of edges D + dual</td>\n",
       "    </tr>\n",
       "    <tr>\n",
       "      <th>Cube</th>\n",
       "      <td>24.000000</td>\n",
       "      <td>22.627417</td>\n",
       "      <td>face diagonals = 2D, 2F</td>\n",
       "    </tr>\n",
       "  </tbody>\n",
       "</table>\n",
       "</div>"
      ],
      "text/plain": [
       "         IVM Volume  XYZ Volume                                     Comments\n",
       "Shape                                                                       \n",
       "A          0.041667    0.039284                              24 make a Tetra\n",
       "B          0.041667    0.039284                             AAB = BAA = Mite\n",
       "T          0.041667    0.039284                                    1/120 RT5\n",
       "E          0.041731    0.039345                                   1/120 RT5+\n",
       "S          0.045085    0.042507                                  (φ**-5) / 2\n",
       "Tetra      1.000000    0.942809                    edges D, from 4 IVM balls\n",
       "Cubocta    2.500000    2.357023                 some faces flush with Octa 4\n",
       "Icosa      2.917961    2.751080                 some faces flush with Octa 4\n",
       "Cube       3.000000    2.828427                  Duo-Tet, face diagonals = D\n",
       "Octa       4.000000    3.771236                        Dual of Cube, edges D\n",
       "RT5        5.000000    4.714045                                   120 T mods\n",
       "RT5+       5.007758    4.721360                                   120 E mods\n",
       "RD         6.000000    5.656854            long diagonals = D, sphere domain\n",
       "Icosa     18.512296   17.453560                                    edges = D\n",
       "Cubocta   20.000000   18.856181  edges = D, 1F, 12-balls around nuclear ball\n",
       "SuperRT   21.213203   20.000000                      icosa of edges D + dual\n",
       "Cube      24.000000   22.627417                      face diagonals = 2D, 2F"
      ]
     },
     "execution_count": 112,
     "metadata": {},
     "output_type": "execute_result"
    }
   ],
   "source": [
    "CH"
   ]
  },
  {
   "cell_type": "code",
   "execution_count": 113,
   "id": "235e2fc2-a6f4-41d4-adfb-a686b8f0f9b1",
   "metadata": {},
   "outputs": [
    {
     "data": {
      "text/html": [
       "<div>\n",
       "<style scoped>\n",
       "    .dataframe tbody tr th:only-of-type {\n",
       "        vertical-align: middle;\n",
       "    }\n",
       "\n",
       "    .dataframe tbody tr th {\n",
       "        vertical-align: top;\n",
       "    }\n",
       "\n",
       "    .dataframe thead th {\n",
       "        text-align: right;\n",
       "    }\n",
       "</style>\n",
       "<table border=\"1\" class=\"dataframe\">\n",
       "  <thead>\n",
       "    <tr style=\"text-align: right;\">\n",
       "      <th></th>\n",
       "      <th>IVM Volume</th>\n",
       "      <th>XYZ Volume</th>\n",
       "      <th>Comments</th>\n",
       "    </tr>\n",
       "    <tr>\n",
       "      <th>Shape</th>\n",
       "      <th></th>\n",
       "      <th></th>\n",
       "      <th></th>\n",
       "    </tr>\n",
       "  </thead>\n",
       "  <tbody>\n",
       "    <tr>\n",
       "      <th>A</th>\n",
       "      <td>0.041667</td>\n",
       "      <td>0.039284</td>\n",
       "      <td>24 make a Tetra</td>\n",
       "    </tr>\n",
       "    <tr>\n",
       "      <th>B</th>\n",
       "      <td>0.041667</td>\n",
       "      <td>0.039284</td>\n",
       "      <td>AAB = BAA = Mite</td>\n",
       "    </tr>\n",
       "    <tr>\n",
       "      <th>T</th>\n",
       "      <td>0.041667</td>\n",
       "      <td>0.039284</td>\n",
       "      <td>1/120 RT5</td>\n",
       "    </tr>\n",
       "    <tr>\n",
       "      <th>E</th>\n",
       "      <td>0.041731</td>\n",
       "      <td>0.039345</td>\n",
       "      <td>1/120 RT5+</td>\n",
       "    </tr>\n",
       "    <tr>\n",
       "      <th>S</th>\n",
       "      <td>0.045085</td>\n",
       "      <td>0.042507</td>\n",
       "      <td>(φ**-5) / 2</td>\n",
       "    </tr>\n",
       "    <tr>\n",
       "      <th>Tetra</th>\n",
       "      <td>1.000000</td>\n",
       "      <td>0.942809</td>\n",
       "      <td>edges D, from 4 IVM balls</td>\n",
       "    </tr>\n",
       "    <tr>\n",
       "      <th>Cubocta</th>\n",
       "      <td>2.500000</td>\n",
       "      <td>2.357023</td>\n",
       "      <td>some faces flush with Octa 4</td>\n",
       "    </tr>\n",
       "    <tr>\n",
       "      <th>Icosa</th>\n",
       "      <td>2.917961</td>\n",
       "      <td>2.751080</td>\n",
       "      <td>some faces flush with Octa 4</td>\n",
       "    </tr>\n",
       "    <tr>\n",
       "      <th>Cube</th>\n",
       "      <td>3.000000</td>\n",
       "      <td>2.828427</td>\n",
       "      <td>Duo-Tet, face diagonals = D</td>\n",
       "    </tr>\n",
       "    <tr>\n",
       "      <th>Octa</th>\n",
       "      <td>4.000000</td>\n",
       "      <td>3.771236</td>\n",
       "      <td>Dual of Cube, edges D</td>\n",
       "    </tr>\n",
       "    <tr>\n",
       "      <th>RT5</th>\n",
       "      <td>5.000000</td>\n",
       "      <td>4.714045</td>\n",
       "      <td>120 T mods</td>\n",
       "    </tr>\n",
       "    <tr>\n",
       "      <th>RT5+</th>\n",
       "      <td>5.007758</td>\n",
       "      <td>4.721360</td>\n",
       "      <td>120 E mods</td>\n",
       "    </tr>\n",
       "    <tr>\n",
       "      <th>RD</th>\n",
       "      <td>6.000000</td>\n",
       "      <td>5.656854</td>\n",
       "      <td>long diagonals = D, sphere domain</td>\n",
       "    </tr>\n",
       "    <tr>\n",
       "      <th>Icosa</th>\n",
       "      <td>18.512296</td>\n",
       "      <td>17.453560</td>\n",
       "      <td>edges = D</td>\n",
       "    </tr>\n",
       "    <tr>\n",
       "      <th>Cubocta</th>\n",
       "      <td>20.000000</td>\n",
       "      <td>18.856181</td>\n",
       "      <td>edges = D, 1F, 12-balls around nuclear ball</td>\n",
       "    </tr>\n",
       "    <tr>\n",
       "      <th>SuperRT</th>\n",
       "      <td>21.213203</td>\n",
       "      <td>20.000000</td>\n",
       "      <td>icosa of edges D + dual</td>\n",
       "    </tr>\n",
       "    <tr>\n",
       "      <th>Cube</th>\n",
       "      <td>24.000000</td>\n",
       "      <td>22.627417</td>\n",
       "      <td>face diagonals = 2D, 2F</td>\n",
       "    </tr>\n",
       "  </tbody>\n",
       "</table>\n",
       "</div>"
      ],
      "text/plain": [
       "         IVM Volume  XYZ Volume                                     Comments\n",
       "Shape                                                                       \n",
       "A          0.041667    0.039284                              24 make a Tetra\n",
       "B          0.041667    0.039284                             AAB = BAA = Mite\n",
       "T          0.041667    0.039284                                    1/120 RT5\n",
       "E          0.041731    0.039345                                   1/120 RT5+\n",
       "S          0.045085    0.042507                                  (φ**-5) / 2\n",
       "Tetra      1.000000    0.942809                    edges D, from 4 IVM balls\n",
       "Cubocta    2.500000    2.357023                 some faces flush with Octa 4\n",
       "Icosa      2.917961    2.751080                 some faces flush with Octa 4\n",
       "Cube       3.000000    2.828427                  Duo-Tet, face diagonals = D\n",
       "Octa       4.000000    3.771236                        Dual of Cube, edges D\n",
       "RT5        5.000000    4.714045                                   120 T mods\n",
       "RT5+       5.007758    4.721360                                   120 E mods\n",
       "RD         6.000000    5.656854            long diagonals = D, sphere domain\n",
       "Icosa     18.512296   17.453560                                    edges = D\n",
       "Cubocta   20.000000   18.856181  edges = D, 1F, 12-balls around nuclear ball\n",
       "SuperRT   21.213203   20.000000                      icosa of edges D + dual\n",
       "Cube      24.000000   22.627417                      face diagonals = 2D, 2F"
      ]
     },
     "execution_count": 113,
     "metadata": {},
     "output_type": "execute_result"
    }
   ],
   "source": [
    "CH"
   ]
  },
  {
   "cell_type": "code",
   "execution_count": null,
   "id": "fc46323b-a8bb-41ce-b9f5-10896d4e479b",
   "metadata": {},
   "outputs": [],
   "source": []
  }
 ],
 "metadata": {
  "kernelspec": {
   "display_name": "Python 3 (ipykernel)",
   "language": "python",
   "name": "python3"
  },
  "language_info": {
   "codemirror_mode": {
    "name": "ipython",
    "version": 3
   },
   "file_extension": ".py",
   "mimetype": "text/x-python",
   "name": "python",
   "nbconvert_exporter": "python",
   "pygments_lexer": "ipython3",
   "version": "3.7.9"
  }
 },
 "nbformat": 4,
 "nbformat_minor": 5
}
