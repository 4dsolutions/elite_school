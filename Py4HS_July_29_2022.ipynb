{
 "cells": [
  {
   "cell_type": "markdown",
   "id": "468e25aa-24a4-4eaf-b4e0-c47792f38b1c",
   "metadata": {
    "tags": []
   },
   "source": [
    "##### Python for High School (Summer 2022)\n",
    "\n",
    "* [Table of Contents](PY4HS.ipynb)\n",
    "* <a href=\"https://colab.research.google.com/github/4dsolutions/elite_school/blob/master/Py4HS_July_26_2022.ipynb\"><img align=\"left\" src=\"https://colab.research.google.com/assets/colab-badge.svg\" alt=\"Open in Colab\" title=\"Open and Execute in Google Colaboratory\"></a>\n",
    "* [![nbviewer](https://raw.githubusercontent.com/jupyter/design/master/logos/Badges/nbviewer_badge.svg)](https://nbviewer.org/github/4dsolutions/elite_school/blob/master/Py4HS_July_26_2022.ipynb)"
   ]
  },
  {
   "cell_type": "markdown",
   "id": "f2627473-a197-4296-b90b-213f88805786",
   "metadata": {},
   "source": [
    "### Trigonometry\n",
    "\n",
    "The study of triangles goes way back, and for a good reason:  you often want to know distances it would be impractical to measure directly, but given locally obtainable information, you are able to deduce, by the laws of trigonometry, what the unknown measure is.\n",
    "\n",
    "Put another way:  trigonometry allows us to fill in the blanks regarding a triangle, provided only a few blanks (how few?) are filled in.\n",
    "\n",
    "If I tell you the two sides of a triangle, have I told you enough to know exactly which triangle I mean?  If so, you might build a congruent one, based on just the information I have given.  But no, the two edges might \"scissor\" without changing length.  That variable angle between the two edges is what leaves the triangle unspecified.  Lock in that angle, and you're ready to deduce the 3rd side, and the remaining angles.\n",
    "\n",
    "Another core feature of trigonometry are its coordinate systems, in particular the spherical coordinate system, which it marries up to XYZ, making these Vector types interconvertible."
   ]
  },
  {
   "cell_type": "markdown",
   "id": "08b4a736-afbf-4bdb-9306-ba4b7f9883e7",
   "metadata": {},
   "source": [
    "![](https://upload.wikimedia.org/wikipedia/commons/thumb/6/64/Spherical_coords.svg/254px-Spherical_coords.svg.png)\n",
    "\n",
    "[Attribution](https://commons.wikimedia.org/wiki/File:Spherical_coords.svg)"
   ]
  },
  {
   "cell_type": "code",
   "execution_count": 42,
   "id": "d5e0fc41-5da5-4149-9ddd-11be1173269a",
   "metadata": {},
   "outputs": [],
   "source": [
    "from qrays import Vector, Svector"
   ]
  },
  {
   "cell_type": "code",
   "execution_count": 43,
   "id": "96f7bd31-4e44-493a-ba7d-7605bbe50da3",
   "metadata": {},
   "outputs": [
    {
     "data": {
      "text/plain": [
       "\u001b[0;31mInit signature:\u001b[0m  \u001b[0mSvector\u001b[0m\u001b[0;34m(\u001b[0m\u001b[0marg\u001b[0m\u001b[0;34m)\u001b[0m\u001b[0;34m\u001b[0m\u001b[0;34m\u001b[0m\u001b[0m\n",
       "\u001b[0;31mDocstring:\u001b[0m      Subclass of Vector that takes spherical coordinate args.\n",
       "\u001b[0;31mInit docstring:\u001b[0m initialize a vector at an (r,phi,theta) tuple (= arg)        \n",
       "\u001b[0;31mFile:\u001b[0m           ~/Documents/elite_school/qrays.py\n",
       "\u001b[0;31mType:\u001b[0m           type\n",
       "\u001b[0;31mSubclasses:\u001b[0m     \n"
      ]
     },
     "metadata": {},
     "output_type": "display_data"
    }
   ],
   "source": [
    "? Svector"
   ]
  },
  {
   "cell_type": "code",
   "execution_count": 44,
   "id": "e1007e36-349c-4d84-bc03-ce1da7f15c50",
   "metadata": {},
   "outputs": [],
   "source": [
    "v = Svector((1, 45, 45))"
   ]
  },
  {
   "cell_type": "code",
   "execution_count": 45,
   "id": "6f7a36b4-f9c2-4dce-a0ba-b85321004d11",
   "metadata": {},
   "outputs": [
    {
     "data": {
      "text/plain": [
       "Svector (1.00000000000000, 45.0000000000000, 45.0000000000000)"
      ]
     },
     "execution_count": 45,
     "metadata": {},
     "output_type": "execute_result"
    }
   ],
   "source": [
    "v"
   ]
  },
  {
   "cell_type": "code",
   "execution_count": 46,
   "id": "59f398af-4e6f-4cee-be88-79cb5ec6946b",
   "metadata": {},
   "outputs": [
    {
     "data": {
      "text/plain": [
       "xyz_vector(x=0.500000000000000, y=0.500000000000000, z=0.707106781186548)"
      ]
     },
     "execution_count": 46,
     "metadata": {},
     "output_type": "execute_result"
    }
   ],
   "source": [
    "v.xyz"
   ]
  },
  {
   "cell_type": "markdown",
   "id": "d9c93073-cca9-45ed-aedd-9378454c57cf",
   "metadata": {},
   "source": [
    "**Exercise**\n",
    "\n",
    "Initialize several Svectors and try to guess the output in terms of xyz."
   ]
  },
  {
   "cell_type": "code",
   "execution_count": 40,
   "id": "03dd9756-1da9-4233-81c8-274122a74ab2",
   "metadata": {},
   "outputs": [
    {
     "data": {
      "text/plain": [
       "Svector (4.00000000000000, 90.0000000000000, 90.0000000000000)"
      ]
     },
     "execution_count": 40,
     "metadata": {},
     "output_type": "execute_result"
    }
   ],
   "source": [
    "v = Svector((4, 90, 90))\n",
    "v"
   ]
  },
  {
   "cell_type": "code",
   "execution_count": 41,
   "id": "ac68521f-c65f-4bf0-870d-1551719819df",
   "metadata": {},
   "outputs": [
    {
     "data": {
      "text/plain": [
       "xyz_vector(x=2.44929359829471e-16, y=4.00000000000000, z=2.44929359829471e-16)"
      ]
     },
     "execution_count": 41,
     "metadata": {},
     "output_type": "execute_result"
    }
   ],
   "source": [
    "v.xyz"
   ]
  },
  {
   "cell_type": "markdown",
   "id": "ef880a78-7480-4f83-8225-cf27e841f9bf",
   "metadata": {},
   "source": [
    "### Astronomy \n",
    "\n",
    "Astronomy is about synchronizing our clocks and calendars, by tracking the stars and planets.  \n",
    "\n",
    "Pointing to stars and constellations very precisely takes a spherical coordinate system that's also sensitive to the Earth's rotation around its own axis, as well as to its orbital position with respect to the sun.  The Earth gets to be at the origin of a coordinate system of its own, for the purpose of some of the lookup tables.\n",
    "\n",
    "![](https://upload.wikimedia.org/wikipedia/commons/thumb/8/8c/Celestial_Sphere_-_Equatorial_Coordinate_System_-_no_stars.png/240px-Celestial_Sphere_-_Equatorial_Coordinate_System_-_no_stars.png)\n",
    "\n",
    "[Attribution](https://commons.wikimedia.org/wiki/File:Celestial_Sphere_-_Equatorial_Coordinate_System_-_no_stars.png)\n",
    "\n",
    "The world of trigonometry is that of sundials and shadows, navigation, spherical coordinates, global positioning, and satellites.  We use trigonometry to answer the all important question:  where am I right now, in space and time?"
   ]
  },
  {
   "cell_type": "markdown",
   "id": "79642689-2068-4064-8d46-c49cfc12682e",
   "metadata": {},
   "source": [
    "### Trig Functions\n",
    "\n",
    "![trig keys](https://upload.wikimedia.org/wikipedia/commons/thumb/5/5d/TI-30_eco_RS_detail.jpg/299px-TI-30_eco_RS_detail.jpg)\n",
    "\n",
    "[Attribution](https://commons.wikimedia.org/wiki/File:TI-30_eco_RS_detail.jpg)\n",
    "\n",
    "The trigonometric functions appear on scientific calculators, right next to the log keys.  This makes them relevant to high school, wherein practically everything a scientific calculator does gets covered, and then some.\n",
    "\n",
    "Any key that makes it to a scientific calculator must be pretty important, as \"real estate\" on a keypad is pretty tight.  Computers do not suffer from these same constraints -- unless emulating a calculator of course."
   ]
  },
  {
   "cell_type": "code",
   "execution_count": 1,
   "id": "2e943ee9-c374-43f4-8484-a0f8fe8a3bcb",
   "metadata": {},
   "outputs": [],
   "source": [
    "import math\n",
    "from math import cos, sin, tan, acos, asin, atan, radians, degrees"
   ]
  },
  {
   "cell_type": "markdown",
   "id": "80bdb311-c74b-4122-8d57-54af121434e6",
   "metadata": {},
   "source": [
    "The number of degrees around a circle of unit radius, or any radius, is 360.  Each degree takes you 1/360th of the way around a circle, in steps of one degree.\n",
    "\n",
    "A standard 12-hour clock face has 60 minutes around the perimeter, marked with ticks.  A minute is 6 degrees, as 6 times 60 = 360, one complete rotation.\n",
    "\n",
    "The second hand treats a minute as 60 seconds, so the tick marks stand for 1/60th of a minute, a single second.  The second hand moves one second (of distance) per one second (of time)."
   ]
  },
  {
   "cell_type": "markdown",
   "id": "bbd0a86b-ce8b-4fd4-9f29-626cdec638c3",
   "metadata": {},
   "source": [
    "![svg clock](https://upload.wikimedia.org/wikipedia/commons/3/3e/Swiss_railway_clock_1.svg)\n",
    "\n",
    "[Attribution](https://commons.wikimedia.org/wiki/File:Swiss_railway_clock_1.svg)"
   ]
  },
  {
   "cell_type": "code",
   "execution_count": 2,
   "id": "0bac726d-69b5-4649-ac05-eb59a785bf9a",
   "metadata": {},
   "outputs": [],
   "source": [
    "circle_degrees = range(0, 361)"
   ]
  },
  {
   "cell_type": "markdown",
   "id": "3325ddc6-7266-43ee-8d37-602cd4cceba1",
   "metadata": {},
   "source": [
    "A unit radius circle has perimeter (circumferance) of exactly $2 \\pi$.  So every degree is 1/360th of that total distance.  \n",
    "\n",
    "We measure the distance around the perimeter of a unit radius circle in radians, and then have degree equivalents."
   ]
  },
  {
   "cell_type": "code",
   "execution_count": 3,
   "id": "3413b091-29f5-418e-9909-1e4588b41acf",
   "metadata": {},
   "outputs": [],
   "source": [
    "from math import pi"
   ]
  },
  {
   "cell_type": "code",
   "execution_count": 4,
   "id": "7c57b231-14e9-474d-a9de-4be8493df3bf",
   "metadata": {},
   "outputs": [],
   "source": [
    "circumference = 2 * pi"
   ]
  },
  {
   "cell_type": "code",
   "execution_count": 5,
   "id": "646c4179-04a7-40af-a944-6c39be463236",
   "metadata": {},
   "outputs": [
    {
     "data": {
      "text/plain": [
       "0.017453292519943295"
      ]
     },
     "execution_count": 5,
     "metadata": {},
     "output_type": "execute_result"
    }
   ],
   "source": [
    "one_degree_in_radians = 2 * pi / 360\n",
    "one_degree_in_radians"
   ]
  },
  {
   "cell_type": "code",
   "execution_count": 6,
   "id": "613c095b-5829-4d51-8365-1c37fdc123f6",
   "metadata": {},
   "outputs": [
    {
     "data": {
      "text/plain": [
       "0.017453292519943295"
      ]
     },
     "execution_count": 6,
     "metadata": {},
     "output_type": "execute_result"
    }
   ],
   "source": [
    "radians(1) # degree input"
   ]
  },
  {
   "cell_type": "code",
   "execution_count": 7,
   "id": "be5c9bf8-baa7-49df-a61d-5957d6471c05",
   "metadata": {},
   "outputs": [
    {
     "data": {
      "text/plain": [
       "0.10471975511965978"
      ]
     },
     "execution_count": 7,
     "metadata": {},
     "output_type": "execute_result"
    }
   ],
   "source": [
    "radians(6) # radians in one minute on a clock"
   ]
  },
  {
   "cell_type": "code",
   "execution_count": 8,
   "id": "6e5f24bc-4031-4b10-b3dd-6b12b48b015d",
   "metadata": {},
   "outputs": [
    {
     "data": {
      "text/plain": [
       "6.283185307179587"
      ]
     },
     "execution_count": 8,
     "metadata": {},
     "output_type": "execute_result"
    }
   ],
   "source": [
    "radians(6) * 60 # a full hour"
   ]
  },
  {
   "cell_type": "code",
   "execution_count": 9,
   "id": "b1be7ef5-b466-4d73-9cdb-2db952edd558",
   "metadata": {},
   "outputs": [
    {
     "data": {
      "text/plain": [
       "6.283185307179586"
      ]
     },
     "execution_count": 9,
     "metadata": {},
     "output_type": "execute_result"
    }
   ],
   "source": [
    "2 * pi"
   ]
  },
  {
   "cell_type": "markdown",
   "id": "f945c67d-4ea7-47af-8ac0-b8ff1e139275",
   "metadata": {},
   "source": [
    "### Right Triangles\n",
    "\n",
    "The trig functions get introduced in two ways.  Starting with any right triangle, of any size, the focus is on ratios between edges.\n",
    "\n",
    "Pick an angle on a right triangle that is not the right angle.  Call this angle theta.\n",
    "\n",
    "Now we have two edges, or legs, that are not the hypotenuse (not opposite the right angle), or **Hyp** for short.\n",
    "\n",
    "The edge that is \"adjacent\" to theta, forming one of its sides, has length **Adj**.  The edge that is \"opposite\" theta may be called edge **Opp**.\n",
    "\n",
    "Here's what we say:\n",
    "\n",
    "$$\n",
    "\\cos (\\theta) = \\frac{Adj}{Hyp}\n",
    "$$\n",
    "\n",
    "$$\n",
    "\\sin (\\theta) = \\frac{Opp}{Hyp}\n",
    "$$\n",
    "\n",
    "$$\n",
    "\\tan (\\theta) = \\frac{Opp}{Adj}\n",
    "$$"
   ]
  },
  {
   "cell_type": "markdown",
   "id": "10da2d91-6932-4be1-bfad-1aee2517f02d",
   "metadata": {},
   "source": [
    "For example, say the opposite and adjacent sides have equal length, and it's a right triangle.  Therefore we know the length of the hypotenuse, by the Pythagorean Theorem.  We also know what the value of $\\theta$ has to be:  45 degrees.  Because it's essentially bisecting the angle of a square (90 degrees).\n",
    "\n",
    "By this reasoning, the sine and cosine of 45 degrees should be:\n",
    "\n",
    "$$\n",
    "\\frac{x}{\\sqrt{2x^{2}}}\n",
    "$$\n",
    "\n",
    "The trig functions expect their argument to be in radians though, so:"
   ]
  },
  {
   "cell_type": "code",
   "execution_count": 10,
   "id": "924d72d1-2d08-445f-8434-6df46d36458b",
   "metadata": {},
   "outputs": [
    {
     "data": {
      "text/plain": [
       "0.7071067811865476"
      ]
     },
     "execution_count": 10,
     "metadata": {},
     "output_type": "execute_result"
    }
   ],
   "source": [
    "cos(radians(45))"
   ]
  },
  {
   "cell_type": "code",
   "execution_count": 11,
   "id": "0a328bc1-0d7c-4c52-bc07-21492a94f30b",
   "metadata": {},
   "outputs": [
    {
     "data": {
      "text/plain": [
       "0.7071067811865475"
      ]
     },
     "execution_count": 11,
     "metadata": {},
     "output_type": "execute_result"
    }
   ],
   "source": [
    "sin(radians(45))"
   ]
  },
  {
   "cell_type": "code",
   "execution_count": 12,
   "id": "2cf30af5-d7d0-44de-a3a5-bd8f6f1e5974",
   "metadata": {},
   "outputs": [],
   "source": [
    "def edge_hyp_ratio(x):\n",
    "    return x / math.sqrt(2 * x**2)"
   ]
  },
  {
   "cell_type": "code",
   "execution_count": 13,
   "id": "35d0951c-3958-4770-847d-46019189eb2a",
   "metadata": {},
   "outputs": [
    {
     "data": {
      "text/plain": [
       "0.7071067811865475"
      ]
     },
     "execution_count": 13,
     "metadata": {},
     "output_type": "execute_result"
    }
   ],
   "source": [
    "edge_hyp_ratio(4)"
   ]
  },
  {
   "cell_type": "code",
   "execution_count": 14,
   "id": "64a41bea-fd64-49e8-8ad6-4d70650ab1b0",
   "metadata": {},
   "outputs": [
    {
     "data": {
      "text/plain": [
       "0.7071067811865475"
      ]
     },
     "execution_count": 14,
     "metadata": {},
     "output_type": "execute_result"
    }
   ],
   "source": [
    "edge_hyp_ratio(2.5)"
   ]
  },
  {
   "cell_type": "markdown",
   "id": "8fc3bb74-aaae-42bf-b480-3b03b5c23c3f",
   "metadata": {},
   "source": [
    "The value of x does not matter.  The ratio is the same regardless."
   ]
  },
  {
   "cell_type": "markdown",
   "id": "eaab8854-aec2-4e9b-812b-9bea32f9632e",
   "metadata": {},
   "source": [
    "### Unit Circle\n",
    "\n",
    "The other way by which trigonometric functions are often introduced is by means of a \"unit circle\".  \n",
    "\n",
    "We still use right triangles, but hold the hypotenuse fixed, with a value of 1.  The two legs correspond to distances along the x and y axes between -1 and 1.\n",
    "\n",
    "The same ratios apply, as above, however **Hyp** = 1.\n",
    "\n",
    "Starting with some angle $\\alpha$ between 0 and 360, we are able to use cosine and sine to get the corresponding point on the unit circle in (x, y) coordinates or as a Vector in other words.  \n",
    "\n",
    "$x = \\cos(\\alpha)$ and $y = \\sin(\\alpha)$\n",
    "\n",
    "![](https://upload.wikimedia.org/wikipedia/commons/thumb/1/14/Triangle-unit-circle.svg/485px-Triangle-unit-circle.svg.png)\n",
    "\n",
    "[Attribution](https://commons.wikimedia.org/wiki/File:Triangle-unit-circle.svg)\n",
    "\n",
    "![](https://upload.wikimedia.org/wikipedia/en/thumb/3/3a/Sin-cos-defn-II.png/476px-Sin-cos-defn-II.png)\n",
    "\n",
    "[Attribution](https://en.wikipedia.org/wiki/File:Sin-cos-defn-II.png)"
   ]
  },
  {
   "cell_type": "markdown",
   "id": "a1f086cc-5136-4023-a98a-3fdb2a4f6e84",
   "metadata": {},
   "source": [
    "If you already know the ratio N and want to find the angle, that's where the inverse functions come in, as: \n",
    "\n",
    "$\\arccos(N)$ and $\\arcsin(N)$\n",
    "\n",
    "or as: \n",
    "\n",
    "`acos(N)` and `asin(N)` \n",
    "\n",
    "in Python, or as \n",
    "\n",
    "$\\cos^{-1}(N)$ and $\\sin^{-1}(N)$\n",
    "\n",
    "with the -1 exponent in this case signifying these are \"inverse functions\" going from ratio to angle versus angle to ratio."
   ]
  },
  {
   "cell_type": "markdown",
   "id": "519da19b-45f9-4674-8e6c-003ed5218449",
   "metadata": {},
   "source": [
    "$$\n",
    "\\theta = \\arccos (\\frac{Adj}{Hyp})\n",
    "$$\n",
    "\n",
    "$$\n",
    "\\theta = \\arcsin (\\frac{Opp}{Hyp})\n",
    "$$\n",
    "\n",
    "$$\n",
    "\\theta = \\arctan (\\frac{Opp}{Adj})\n",
    "$$"
   ]
  },
  {
   "cell_type": "code",
   "execution_count": 16,
   "id": "75852bd5-b7c1-4ae0-908b-994b58d1e753",
   "metadata": {},
   "outputs": [
    {
     "data": {
      "text/plain": [
       "45.00000000000001"
      ]
     },
     "execution_count": 16,
     "metadata": {},
     "output_type": "execute_result"
    }
   ],
   "source": [
    "degrees(acos(edge_hyp_ratio(4)))"
   ]
  },
  {
   "cell_type": "code",
   "execution_count": 17,
   "id": "bf8f9316-5f3d-450a-bb0b-c038c2d6a3c5",
   "metadata": {},
   "outputs": [
    {
     "data": {
      "text/plain": [
       "44.99999999999999"
      ]
     },
     "execution_count": 17,
     "metadata": {},
     "output_type": "execute_result"
    }
   ],
   "source": [
    "degrees(asin(edge_hyp_ratio(5)))  # ratio(N) always returns the same thing"
   ]
  },
  {
   "cell_type": "code",
   "execution_count": 18,
   "id": "01885615-6647-4895-970a-55c5d7c809da",
   "metadata": {},
   "outputs": [
    {
     "data": {
      "text/plain": [
       "45.0"
      ]
     },
     "execution_count": 18,
     "metadata": {},
     "output_type": "execute_result"
    }
   ],
   "source": [
    "degrees(atan(1))"
   ]
  }
 ],
 "metadata": {
  "kernelspec": {
   "display_name": "Python 3 (ipykernel)",
   "language": "python",
   "name": "python3"
  },
  "language_info": {
   "codemirror_mode": {
    "name": "ipython",
    "version": 3
   },
   "file_extension": ".py",
   "mimetype": "text/x-python",
   "name": "python",
   "nbconvert_exporter": "python",
   "pygments_lexer": "ipython3",
   "version": "3.9.12"
  }
 },
 "nbformat": 4,
 "nbformat_minor": 5
}
