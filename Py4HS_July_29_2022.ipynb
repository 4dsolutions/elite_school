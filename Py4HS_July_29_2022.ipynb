{
 "cells": [
  {
   "cell_type": "markdown",
   "id": "468e25aa-24a4-4eaf-b4e0-c47792f38b1c",
   "metadata": {
    "tags": []
   },
   "source": [
    "##### Python for High School (Summer 2022)\n",
    "\n",
    "* [Table of Contents](PY4HS.ipynb)\n",
    "* <a href=\"https://colab.research.google.com/github/4dsolutions/elite_school/blob/master/Py4HS_July_26_2022.ipynb\"><img align=\"left\" src=\"https://colab.research.google.com/assets/colab-badge.svg\" alt=\"Open in Colab\" title=\"Open and Execute in Google Colaboratory\"></a>\n",
    "* [![nbviewer](https://raw.githubusercontent.com/jupyter/design/master/logos/Badges/nbviewer_badge.svg)](https://nbviewer.org/github/4dsolutions/elite_school/blob/master/Py4HS_July_26_2022.ipynb)"
   ]
  },
  {
   "cell_type": "markdown",
   "id": "79642689-2068-4064-8d46-c49cfc12682e",
   "metadata": {},
   "source": [
    "### Trig Functions\n",
    "\n",
    "![trig keys](https://upload.wikimedia.org/wikipedia/commons/thumb/5/5d/TI-30_eco_RS_detail.jpg/299px-TI-30_eco_RS_detail.jpg)\n",
    "\n",
    "[Attribution](https://commons.wikimedia.org/wiki/File:TI-30_eco_RS_detail.jpg)\n",
    "\n",
    "The trigonometric functions appear on scientific calculators, right next to the log keys.  This makes them relevant to high school, wherein practically everything a scientific calculator does gets covered, and then some.\n",
    "\n",
    "Any key that makes it to a scientific calculator must be pretty important, as \"real estate\" on a keypad is pretty tight.  Computers do not suffer from these same constraints -- unless emulating a calculator of course."
   ]
  },
  {
   "cell_type": "code",
   "execution_count": 1,
   "id": "2e943ee9-c374-43f4-8484-a0f8fe8a3bcb",
   "metadata": {},
   "outputs": [],
   "source": [
    "import math\n",
    "from math import cos, sin, tan, acos, asin, atan, radians, degrees"
   ]
  },
  {
   "cell_type": "markdown",
   "id": "80bdb311-c74b-4122-8d57-54af121434e6",
   "metadata": {},
   "source": [
    "The number of degrees around a circle of unit radius, or any radius, is 360.  Each degree takes you 1/360th of the way around a circle, in steps of one degree.\n",
    "\n",
    "A standard 12-hour clock face has 60 minutes around the perimeter, marked with ticks.  A minute is 6 degrees, as 6 times 60 = 360, one complete rotation.\n",
    "\n",
    "The second hand treats a minute as 60 seconds, so the tick marks stand for 1/60th of a minute, a single second.  The second hand moves one second (of distance) per one second (of time)."
   ]
  },
  {
   "cell_type": "markdown",
   "id": "bbd0a86b-ce8b-4fd4-9f29-626cdec638c3",
   "metadata": {},
   "source": [
    "![svg clock](https://upload.wikimedia.org/wikipedia/commons/3/3e/Swiss_railway_clock_1.svg)\n",
    "\n",
    "[Attribution](https://commons.wikimedia.org/wiki/File:Swiss_railway_clock_1.svg)"
   ]
  },
  {
   "cell_type": "code",
   "execution_count": 2,
   "id": "0bac726d-69b5-4649-ac05-eb59a785bf9a",
   "metadata": {},
   "outputs": [],
   "source": [
    "circle_degrees = range(0, 361)"
   ]
  },
  {
   "cell_type": "markdown",
   "id": "3325ddc6-7266-43ee-8d37-602cd4cceba1",
   "metadata": {},
   "source": [
    "A unit radius circle has perimeter (circumferance) of exactly $2 \\pi$.  So every degree is 1/360th of that total distance.  \n",
    "\n",
    "We measure the distance around the perimeter of a unit radius circle in radians, and then have degree equivalents."
   ]
  },
  {
   "cell_type": "code",
   "execution_count": 3,
   "id": "3413b091-29f5-418e-9909-1e4588b41acf",
   "metadata": {},
   "outputs": [],
   "source": [
    "from math import pi"
   ]
  },
  {
   "cell_type": "code",
   "execution_count": 4,
   "id": "7c57b231-14e9-474d-a9de-4be8493df3bf",
   "metadata": {},
   "outputs": [],
   "source": [
    "circumference = 2 * pi"
   ]
  },
  {
   "cell_type": "code",
   "execution_count": 5,
   "id": "646c4179-04a7-40af-a944-6c39be463236",
   "metadata": {},
   "outputs": [
    {
     "data": {
      "text/plain": [
       "0.017453292519943295"
      ]
     },
     "execution_count": 5,
     "metadata": {},
     "output_type": "execute_result"
    }
   ],
   "source": [
    "one_degree_in_radians = 2 * pi / 360\n",
    "one_degree_in_radians"
   ]
  },
  {
   "cell_type": "code",
   "execution_count": 6,
   "id": "613c095b-5829-4d51-8365-1c37fdc123f6",
   "metadata": {},
   "outputs": [
    {
     "data": {
      "text/plain": [
       "0.017453292519943295"
      ]
     },
     "execution_count": 6,
     "metadata": {},
     "output_type": "execute_result"
    }
   ],
   "source": [
    "radians(1) # degree input"
   ]
  },
  {
   "cell_type": "code",
   "execution_count": 7,
   "id": "be5c9bf8-baa7-49df-a61d-5957d6471c05",
   "metadata": {},
   "outputs": [
    {
     "data": {
      "text/plain": [
       "0.10471975511965978"
      ]
     },
     "execution_count": 7,
     "metadata": {},
     "output_type": "execute_result"
    }
   ],
   "source": [
    "radians(6) # radians in one minute on a clock"
   ]
  },
  {
   "cell_type": "code",
   "execution_count": 8,
   "id": "6e5f24bc-4031-4b10-b3dd-6b12b48b015d",
   "metadata": {},
   "outputs": [
    {
     "data": {
      "text/plain": [
       "6.283185307179587"
      ]
     },
     "execution_count": 8,
     "metadata": {},
     "output_type": "execute_result"
    }
   ],
   "source": [
    "radians(6) * 60 # a full hour"
   ]
  },
  {
   "cell_type": "code",
   "execution_count": 9,
   "id": "b1be7ef5-b466-4d73-9cdb-2db952edd558",
   "metadata": {},
   "outputs": [
    {
     "data": {
      "text/plain": [
       "6.283185307179586"
      ]
     },
     "execution_count": 9,
     "metadata": {},
     "output_type": "execute_result"
    }
   ],
   "source": [
    "2 * pi"
   ]
  },
  {
   "cell_type": "markdown",
   "id": "f945c67d-4ea7-47af-8ac0-b8ff1e139275",
   "metadata": {},
   "source": [
    "### Right Triangles\n",
    "\n",
    "The trig functions get introduced in two ways.  Starting with any right triangle, of any size, the focus is on ratios between edges.\n",
    "\n",
    "Pick an angle on a right triangle that is not the right angle.  Call this angle theta.\n",
    "\n",
    "Now we have two edges, or legs, that are not the hypotenuse (not opposite the right angle), or **Hyp** for short.\n",
    "\n",
    "The edge that is \"adjacent\" to theta, forming one of its sides, has length **Adj**.  The edge that is \"opposite\" theta may be called edge **Opp**.\n",
    "\n",
    "Here's what we say:\n",
    "\n",
    "$$\n",
    "\\cos (\\theta) = \\frac{Adj}{Hyp}\n",
    "$$\n",
    "\n",
    "$$\n",
    "\\sin (\\theta) = \\frac{Opp}{Hyp}\n",
    "$$\n",
    "\n",
    "$$\n",
    "\\tan (\\theta) = \\frac{Opp}{Adj}\n",
    "$$"
   ]
  },
  {
   "cell_type": "markdown",
   "id": "10da2d91-6932-4be1-bfad-1aee2517f02d",
   "metadata": {},
   "source": [
    "For example, say the opposite and adjacent sides have equal length, and it's a right triangle.  Therefore we know the length of the hypotenuse, by the Pythagorean Theorem.  We also know what the value of $\\theta$ has to be:  45 degrees.  Because it's essentially bisecting the angle of a square (90 degrees).\n",
    "\n",
    "By this reasoning, the sine and cosine of 45 degrees should be:\n",
    "\n",
    "$$\n",
    "\\frac{x}{\\sqrt{2x^{2}}}\n",
    "$$\n",
    "\n",
    "The trig functions expect their argument to be in radians though, so:"
   ]
  },
  {
   "cell_type": "code",
   "execution_count": 10,
   "id": "924d72d1-2d08-445f-8434-6df46d36458b",
   "metadata": {},
   "outputs": [
    {
     "data": {
      "text/plain": [
       "0.7071067811865476"
      ]
     },
     "execution_count": 10,
     "metadata": {},
     "output_type": "execute_result"
    }
   ],
   "source": [
    "cos(radians(45))"
   ]
  },
  {
   "cell_type": "code",
   "execution_count": 11,
   "id": "0a328bc1-0d7c-4c52-bc07-21492a94f30b",
   "metadata": {},
   "outputs": [
    {
     "data": {
      "text/plain": [
       "0.7071067811865475"
      ]
     },
     "execution_count": 11,
     "metadata": {},
     "output_type": "execute_result"
    }
   ],
   "source": [
    "sin(radians(45))"
   ]
  },
  {
   "cell_type": "code",
   "execution_count": 12,
   "id": "2cf30af5-d7d0-44de-a3a5-bd8f6f1e5974",
   "metadata": {},
   "outputs": [],
   "source": [
    "def edge_hyp_ratio(x):\n",
    "    return x / math.sqrt(2 * x**2)"
   ]
  },
  {
   "cell_type": "code",
   "execution_count": 13,
   "id": "35d0951c-3958-4770-847d-46019189eb2a",
   "metadata": {},
   "outputs": [
    {
     "data": {
      "text/plain": [
       "0.7071067811865475"
      ]
     },
     "execution_count": 13,
     "metadata": {},
     "output_type": "execute_result"
    }
   ],
   "source": [
    "edge_hyp_ratio(4)"
   ]
  },
  {
   "cell_type": "code",
   "execution_count": 14,
   "id": "64a41bea-fd64-49e8-8ad6-4d70650ab1b0",
   "metadata": {},
   "outputs": [
    {
     "data": {
      "text/plain": [
       "0.7071067811865475"
      ]
     },
     "execution_count": 14,
     "metadata": {},
     "output_type": "execute_result"
    }
   ],
   "source": [
    "edge_hyp_ratio(2.5)"
   ]
  },
  {
   "cell_type": "markdown",
   "id": "8fc3bb74-aaae-42bf-b480-3b03b5c23c3f",
   "metadata": {},
   "source": [
    "The value of x does not matter.  The ratio is the same regardless."
   ]
  },
  {
   "cell_type": "markdown",
   "id": "eaab8854-aec2-4e9b-812b-9bea32f9632e",
   "metadata": {},
   "source": [
    "### Unit Circle\n",
    "\n",
    "The other way by which trigonometric functions are often introduced is by means of a \"unit circle\".  \n",
    "\n",
    "We still use right triangles, but hold the hypotenuse fixed, with a value of 1.  The two legs correspond to distances along the x and y axes between -1 and 1.\n",
    "\n",
    "The same ratios apply, as above, however **Hyp** = 1.\n",
    "\n",
    "Starting with some angle $\\alpha$ between 0 and 360, we are able to use cosine and sine to get the corresponding point on the unit circle in (x, y) coordinates or as a Vector in other words.  \n",
    "\n",
    "$x = \\cos(\\alpha)$ and $y = \\sin(\\alpha)$\n",
    "\n",
    "![](https://upload.wikimedia.org/wikipedia/commons/thumb/1/14/Triangle-unit-circle.svg/485px-Triangle-unit-circle.svg.png)\n",
    "\n",
    "[Attribution](https://commons.wikimedia.org/wiki/File:Triangle-unit-circle.svg)\n",
    "\n",
    "![](https://upload.wikimedia.org/wikipedia/en/thumb/3/3a/Sin-cos-defn-II.png/476px-Sin-cos-defn-II.png)\n",
    "\n",
    "[Attribution](https://en.wikipedia.org/wiki/File:Sin-cos-defn-II.png)"
   ]
  },
  {
   "cell_type": "markdown",
   "id": "a1f086cc-5136-4023-a98a-3fdb2a4f6e84",
   "metadata": {},
   "source": [
    "If you already know the ratio N and want to find the angle, that's where the inverse functions come in, as: \n",
    "\n",
    "$\\arccos(N)$ and $\\arcsin(N)$\n",
    "\n",
    "or as: \n",
    "\n",
    "`acos(N)` and `asin(N)` \n",
    "\n",
    "in Python, or as \n",
    "\n",
    "$\\cos^{-1}(N)$ and $\\sin^{-1}(N)$\n",
    "\n",
    "with the -1 exponent in this case signifying these are \"inverse functions\" going from ratio to angle versus angle to ratio."
   ]
  },
  {
   "cell_type": "markdown",
   "id": "519da19b-45f9-4674-8e6c-003ed5218449",
   "metadata": {},
   "source": [
    "$$\n",
    "\\theta = \\arccos (\\frac{Adj}{Hyp})\n",
    "$$\n",
    "\n",
    "$$\n",
    "\\theta = \\arcsin (\\frac{Opp}{Hyp})\n",
    "$$\n",
    "\n",
    "$$\n",
    "\\theta = \\arctan (\\frac{Opp}{Adj})\n",
    "$$"
   ]
  },
  {
   "cell_type": "code",
   "execution_count": 16,
   "id": "75852bd5-b7c1-4ae0-908b-994b58d1e753",
   "metadata": {},
   "outputs": [
    {
     "data": {
      "text/plain": [
       "45.00000000000001"
      ]
     },
     "execution_count": 16,
     "metadata": {},
     "output_type": "execute_result"
    }
   ],
   "source": [
    "degrees(acos(edge_hyp_ratio(4)))"
   ]
  },
  {
   "cell_type": "code",
   "execution_count": 17,
   "id": "bf8f9316-5f3d-450a-bb0b-c038c2d6a3c5",
   "metadata": {},
   "outputs": [
    {
     "data": {
      "text/plain": [
       "44.99999999999999"
      ]
     },
     "execution_count": 17,
     "metadata": {},
     "output_type": "execute_result"
    }
   ],
   "source": [
    "degrees(asin(edge_hyp_ratio(5)))  # ratio(N) always returns the same thing"
   ]
  },
  {
   "cell_type": "code",
   "execution_count": 18,
   "id": "01885615-6647-4895-970a-55c5d7c809da",
   "metadata": {},
   "outputs": [
    {
     "data": {
      "text/plain": [
       "45.0"
      ]
     },
     "execution_count": 18,
     "metadata": {},
     "output_type": "execute_result"
    }
   ],
   "source": [
    "degrees(atan(1))"
   ]
  }
 ],
 "metadata": {
  "kernelspec": {
   "display_name": "Python 3 (ipykernel)",
   "language": "python",
   "name": "python3"
  },
  "language_info": {
   "codemirror_mode": {
    "name": "ipython",
    "version": 3
   },
   "file_extension": ".py",
   "mimetype": "text/x-python",
   "name": "python",
   "nbconvert_exporter": "python",
   "pygments_lexer": "ipython3",
   "version": "3.9.12"
  }
 },
 "nbformat": 4,
 "nbformat_minor": 5
}
