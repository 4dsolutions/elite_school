{
 "cells": [
  {
   "cell_type": "markdown",
   "id": "ranging-salon",
   "metadata": {},
   "source": [
    "[Home](Home.ipynb)\n",
    "\n",
    "# Calendar\n",
    "\n",
    "There's much to learn about dates and times, irrespective on any computer language. Our timekeeping systems are among the most complex of measuring devices, multi-base and tied to astronomical phenomena at every turn.\n",
    "\n",
    "For now this page is a Student Sandbox, meaning I encourage my students to replace it with a Jupyter Notebook of their own creation, taking up some aspect of the calendar, using Python.\n",
    "\n",
    "*Proposed project*:\n",
    "\n",
    "How many days have you been alive, starting from your birthday until today?  \n",
    "\n",
    "Write a function to figure that out for any birthday, with a second argument defaulting to today.\n",
    "\n",
    "Hint:  start with [the Python docs](https://docs.python.org/3/library/datetime.html) on the ```datetime``` module and look for ways to convert a calendar date to an integer and back.  Also, what's a ```timedelta```?"
   ]
  },
  {
   "cell_type": "code",
   "execution_count": null,
   "id": "lesser-prediction",
   "metadata": {},
   "outputs": [],
   "source": []
  }
 ],
 "metadata": {
  "kernelspec": {
   "display_name": "Python 3",
   "language": "python",
   "name": "python3"
  },
  "language_info": {
   "codemirror_mode": {
    "name": "ipython",
    "version": 3
   },
   "file_extension": ".py",
   "mimetype": "text/x-python",
   "name": "python",
   "nbconvert_exporter": "python",
   "pygments_lexer": "ipython3",
   "version": "3.9.1"
  }
 },
 "nbformat": 4,
 "nbformat_minor": 5
}
