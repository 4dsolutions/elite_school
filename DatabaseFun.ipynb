{
 "cells": [
  {
   "cell_type": "markdown",
   "metadata": {},
   "source": [
    "[Home](Home.ipynb)\n",
    "\n",
    "# Database Fun\n",
    "\n",
    "We're going to do something sophisticated:  define a context manager for connecting to and disconnecting from any SQLite database.  A context manager is triggered by the Python keyword ```with```.\n",
    "\n",
    "When we connect to a database, successfully, we get a \"connection object\".  From said connection object, we get an object called a \"cursor\".  The cursor is our go-between, accepting SQL directives, such as SELECT, and providing fetch methods to get the results.\n",
    "\n",
    "When you're finished with the database, close the connection.  The connection is also used to \"commit\" changes (after UPDATE and DELETE).\n",
    "\n",
    "The class below is triggered to run through ```__enter__``` when used with ```with```.  Whatever ```__enter__``` returns becomes a nameable object, the result of the \"as\", is in\n",
    "\n",
    "```\n",
    "  with DB(\"airports.db\") as some_object:  \n",
    "      print(some_object.dbname)\n",
    "```\n",
    "\n",
    "The connection and cursor objects get created by ```__enter__``` and remain accessible through some_object, usuable with the indented scope (context) that follows."
   ]
  },
  {
   "cell_type": "code",
   "execution_count": 1,
   "metadata": {},
   "outputs": [],
   "source": [
    "import sqlite3 as sql\n",
    "\n",
    "class DB:\n",
    "    \n",
    "    def __init__(self, the_db): # triggered by DB(\"airports.db\")\n",
    "        self.dbname = the_db\n",
    "    \n",
    "    def __enter__(self):\n",
    "        \"\"\"\n",
    "        connect and get conn, curs\n",
    "        \"\"\"\n",
    "        print(\"Connecting...\")\n",
    "        self.conn = sql.connect(self.dbname)\n",
    "        self.curs = self.conn.cursor()  \n",
    "        return self  # as db\n",
    "        \n",
    "    def __exit__(self, *oops): # triggered by leaving the context scope\n",
    "        if self.conn:\n",
    "            print(\"Disconnecting...\")\n",
    "            self.conn.close()\n",
    "        if oops[0]:  # exception occurred, else None\n",
    "            print(\"Exception raised...\")\n",
    "            return False  # not handling it...\n",
    "        return True       # nothing to handle"
   ]
  },
  {
   "cell_type": "markdown",
   "metadata": {},
   "source": [
    "Perhaps the first thing you'll want to do, when connecting to a database, is get a read-out of the tables and structure.  What are the tables, the column names, and what types of data go in the columns (integers? text?  what?). \n",
    "\n",
    "Typically, that information is stored in additional tables.  In SQLite, you will find this info in ```sqlite_schema```.  [Here's some documentation](https://www.sqlite.com/schematab.html)."
   ]
  },
  {
   "cell_type": "code",
   "execution_count": 2,
   "metadata": {},
   "outputs": [
    {
     "name": "stdout",
     "output_type": "stream",
     "text": [
      "Connecting...\n",
      "CREATE TABLE Airports\n",
      "         (iata text,\n",
      "          iso text,\n",
      "          name text,\n",
      "          continent text,\n",
      "          type text,\n",
      "          lat float,\n",
      "          lon float,\n",
      "          size text,\n",
      "          status int)\n",
      "Disconnecting...\n"
     ]
    }
   ],
   "source": [
    "with DB(\"airports.db\") as db:\n",
    "    db.curs.execute(\"SELECT * FROM sqlite_schema\")  # contains metadata\n",
    "    for row in db.curs.fetchall():\n",
    "        print(row[4])\n",
    "    #=== scope ends, triggering __exit__ ==="
   ]
  },
  {
   "cell_type": "code",
   "execution_count": 3,
   "metadata": {},
   "outputs": [
    {
     "name": "stdout",
     "output_type": "stream",
     "text": [
      "Connecting...\n",
      "('PDX', 'US', 'Portland International Airport', 'NA', 'airport', 45.588997, -122.5929, 'large', 1)\n",
      "Disconnecting...\n"
     ]
    }
   ],
   "source": [
    "with DB(\"airports.db\") as db:\n",
    "    db.curs.execute(\"SELECT * FROM Airports where iata='PDX'\")\n",
    "    for row in db.curs.fetchall():\n",
    "        print(row)"
   ]
  },
  {
   "cell_type": "code",
   "execution_count": 4,
   "metadata": {},
   "outputs": [
    {
     "name": "stdout",
     "output_type": "stream",
     "text": [
      "Connecting...\n",
      "('SFO', 'US', 'San Francisco International Airport', 'NA', 'airport', 37.615215, -122.38988, 'large', 1)\n",
      "Disconnecting...\n"
     ]
    }
   ],
   "source": [
    "with DB(\"airports.db\") as db:\n",
    "    db.curs.execute(\"SELECT * FROM Airports where iata='SFO'\")\n",
    "    for row in db.curs.fetchall():\n",
    "        print(row)"
   ]
  },
  {
   "cell_type": "code",
   "execution_count": 5,
   "metadata": {},
   "outputs": [],
   "source": [
    "class DBplus(DB):\n",
    "\n",
    "    def schema(self):\n",
    "        print(\"getting schema\")\n",
    "        self.curs.execute(\"SELECT * FROM sqlite_schema\")  # contains metadata\n",
    "        for row in self.curs.fetchall():\n",
    "            if row[0] == 'table':\n",
    "                print(row[4])\n",
    "            else:\n",
    "                print(row)"
   ]
  },
  {
   "cell_type": "markdown",
   "metadata": {},
   "source": [
    "This ability to dump out metadata looks useful in a generic sense.  Lets define a class DBplus that does everything DB does, in addition to incorporating the schema behavior."
   ]
  },
  {
   "cell_type": "code",
   "execution_count": 6,
   "metadata": {},
   "outputs": [
    {
     "data": {
      "text/plain": [
       "(__main__.DBplus, __main__.DB, object)"
      ]
     },
     "execution_count": 6,
     "metadata": {},
     "output_type": "execute_result"
    }
   ],
   "source": [
    "DBplus.__mro__"
   ]
  },
  {
   "cell_type": "code",
   "execution_count": 7,
   "metadata": {},
   "outputs": [
    {
     "name": "stdout",
     "output_type": "stream",
     "text": [
      "Connecting...\n",
      "bookmarks.db\n",
      "getting schema\n",
      "CREATE TABLE Bookmarks\n",
      "            (bk_place text PRIMARY KEY,\n",
      "             bk_url text,\n",
      "             bk_tags text)\n",
      "('index', 'sqlite_autoindex_Bookmarks_1', 'Bookmarks', 3, None)\n",
      "Disconnecting...\n"
     ]
    }
   ],
   "source": [
    "with DBplus('bookmarks.db') as marks:\n",
    "    print(marks.dbname)\n",
    "    marks.schema()"
   ]
  },
  {
   "cell_type": "code",
   "execution_count": 8,
   "metadata": {},
   "outputs": [
    {
     "name": "stdout",
     "output_type": "stream",
     "text": [
      "Connecting...\n",
      "(\"'New Math' by Tom Lehrer (animated)\",)\n",
      "('In Defense of Ada',)\n",
      "('Warriors of the Net',)\n",
      "('Will Geeks Rule? CBS News (world domination meme)',)\n",
      "('World Domination meme',)\n",
      "('XKCD',)\n",
      "Disconnecting...\n"
     ]
    }
   ],
   "source": [
    "with DB(\"bookmarks.db\") as db:\n",
    "    db.curs.execute(\"SELECT bk_place FROM Bookmarks WHERE bk_tags LIKE ? \", (\"%comedy%\",))\n",
    "    for row in db.curs.fetchall():\n",
    "        print(row)"
   ]
  }
 ],
 "metadata": {
  "kernelspec": {
   "display_name": "Python 3",
   "language": "python",
   "name": "python3"
  },
  "language_info": {
   "codemirror_mode": {
    "name": "ipython",
    "version": 3
   },
   "file_extension": ".py",
   "mimetype": "text/x-python",
   "name": "python",
   "nbconvert_exporter": "python",
   "pygments_lexer": "ipython3",
   "version": "3.7.9"
  }
 },
 "nbformat": 4,
 "nbformat_minor": 4
}
