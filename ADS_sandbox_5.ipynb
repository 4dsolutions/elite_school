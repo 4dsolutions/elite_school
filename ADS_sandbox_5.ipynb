{
 "cells": [
  {
   "cell_type": "markdown",
   "id": "august-tucson",
   "metadata": {},
   "source": [
    "##### Algorithms and Data Structures (Winter - Spring 2022)\n",
    "\n",
    "\n",
    "* [Table of Contents](ADS_TOC.ipynb)\n",
    "* <a href=\"https://colab.research.google.com/github/4dsolutions/elite_school/blob/master/ADS_sandbox_5.ipynb\"><img align=\"left\" src=\"https://colab.research.google.com/assets/colab-badge.svg\" alt=\"Open in Colab\" title=\"Open and Execute in Google Colaboratory\"></a>\n",
    "* [![nbviewer](https://raw.githubusercontent.com/jupyter/design/master/logos/Badges/nbviewer_badge.svg)](https://nbviewer.org/github/4dsolutions/elite_school/blob/master/ADS_sandbox_5.ipynb)"
   ]
  },
  {
   "cell_type": "markdown",
   "id": "suspended-firewall",
   "metadata": {},
   "source": [
    "# Global Data Vizualization Tools\n",
    "\n",
    "<a data-flickr-embed=\"true\" href=\"https://www.flickr.com/photos/kirbyurner/52164191703/in/dateposted-public/\" title=\"Screen Shot 2022-06-19 at 10.33.47 AM\"><img src=\"https://live.staticflickr.com/65535/52164191703_8e4b3bb27e_c.jpg\" width=\"800\" height=\"500\" alt=\"Screen Shot 2022-06-19 at 10.33.47 AM\"></a><script async src=\"//embedr.flickr.com/assets/client-code.js\" charset=\"utf-8\"></script>\n",
    "\n",
    "[Global Projections](https://www.mapthematics.com/ProjectionsList.php)\n",
    "\n",
    "Contemporary globe data is typically obtain from a \"tile server\" where \"tiles\" are what make the globe a mosaic of regularly sized areas.  Different tiling schemes come with different ways to address the tiles.  Several addressing schemes may interconvert.\n",
    "\n",
    "[The Geoscope](http://www.bfi.org/geoscope)"
   ]
  },
  {
   "cell_type": "markdown",
   "id": "frank-recruitment",
   "metadata": {},
   "source": [
    "#### Teacher Emails re Geoscope\n",
    "\n",
    "<pre>\n",
    "From: kirby urner <kirby.urner@gmail.com>\n",
    "Date: Sunday, June 19, 2022 at 9:56:56 AM UTC-7\n",
    "Subject: Re: Geoscope recommendations / key concepts?\n",
    "To: Trimtab Book Club <trimtab-book-club@googlegroups.com>\n",
    "Cc: Bonnie DeVarco <devarco@cruzio.com>\n",
    "\n",
    "\n",
    "\n",
    "I'd make the link twixt Geoscope (the meme, see macroscope) and Control Room, both tropes in the Bucky canon.\n",
    "\n",
    "A few posts back I was extolling the expository clarity of Bucky's \"me in the navy\" narrative, which features both \"radio\" (flash forward) and \"a control room\".\n",
    "\n",
    "We've all seen the Hollywood situation room movies, or mission control on live TV in Houston during Apollo or one of those. A geoscope, as distinct from, say, the Xtian Science Mapparium (with control room attached), would by rights have a Fuller Projection on at least a few of the monitors, and hexapent grids in addition to lat / long.\n",
    "\n",
    "The hexapent (a type of Goldberg in a taxonomy sense -- polyhedra are endlessly classifiable) seems clearly of growing importance in cartography, and by extension in the design crafts taking inspiration from cartography.  The gaming and simulation world is likewise hexagonally aware.  In space, the correlated voxel is the rhombic dodecahedron, with twelve portals to next neighbors.\n",
    "\n",
    "One can add the AI glasses to make it all more affordable i.e. we get to configure our control room in the cloud as a rendered reality (like a 3D desktop) and carry it with us, whereas on Planet Earth we keep physically moving around and don't get too attached to any one \"base\".  That's the world game playing aspect.\n",
    "\n",
    "Kirby\n",
    "</pre>\n",
    "\n",
    "<hr />\n",
    "\n",
    "<pre>\n",
    "From: kirby urner <kirby.urner@gmail.com>\n",
    "Date: Monday, June 20, 2022 at 12:21:56 PM UTC-7\n",
    "Subject: Re: Geoscope recommendations / key concepts?\n",
    "To: Trimtab Book Club <trimtab-book-club@googlegroups.com>, Bonnie DeVarco <devarco@cruzio.com>, wwwanderers@googlegroups.com <wwwanderers@googlegroups.com>\n",
    "\n",
    "\n",
    "\n",
    "[ from a thread about Bucky Fuller's Geoscope big idea -- bfi.org/geoscope ]\n",
    "\n",
    "There's a Bob Gray paper out there, meaning Dr. Robert W. Gray, the host of Synergetics and Synergetics Dictionary, showing how the algorithm Fuller invented for his Dymaxion flat projection, has about the same accuracy (in terms of a distortion measure called the gaussian) as the best non-dymaxion, in particular the Snyder projection. \n",
    "\n",
    "I don't have the paper in front of me, but it argues one could not tell the difference between a Dymaxion and other high precision maps were it not for how the former slices into the oceans, leaving the \"one world island\" default configuration we all know so well.  Shoji Sadao worked on that particular challenge as I recall, although I forget from which narrative. \n",
    "\n",
    "https://en.wikipedia.org/wiki/Dymaxion_map\n",
    "\n",
    "What's unique about the Fuller Projection is\n",
    "\n",
    "* the cut (in the sense of a tailor's cut) and\n",
    "* the absence of the obligatory nation-states usually included on every world map by consensus and/or decree. \n",
    "\n",
    "Because Fuller had intellectual property rights vis-a-vis his own invention, he was able to swim against the current and publish accurate world maps sans the data layer most in the Davos crowd would deem essential i.e. there's no \"behind the scenes\" if we don't have the masking scenery.  I'd say his elimination of that particular data layer on most editions marked his map as both heretical and scandalous.  When curators gathered world maps together, his would be prominently excluded.  People've grown up some, since those days.\n",
    "\n",
    "What Fuller harps on in the USIS era (buildup to \"the Taj\" i.e. Montreal 67) is the fold / unfold dynamic which is of course a bridge to Synergetics and his concentric hierarchy.  It'd be easy for Google to do an experimental unfolding of the ostensibly spherical globe presentation (still flat, as Curt points out), and have it end up in the Dymaxion configuration [tm].  My understanding from ESRI is that they already have this capability. \n",
    "\n",
    "Maybe \"easy\" from a technical point of view (with a little help from Bob?) but \"hard\" in a socioeconomic sense i.e. funding BFI's research perpetuity or something. We've already seen the Chris Rywalt animated GIF version propagated everywhere (he and I met along the Hudson, across from Hoboken that time).\n",
    "\n",
    "Any debate over exactly what a geoscope is or isn't should not tie Google's hands vis-a-vis the Dymaxion, whereas the hexapent tilings (ala multifrequency Goldbergs) are already a staple in modern geodesy and cartography. \n",
    "\n",
    "Keeping those memes alive while showing Bucky's gossamer rendering of a true geoscope in the middle of the East River (facing the NYC UN, in Critical Path) reminds us that we have little choice but to think globally, even if we're \"anti-globalist\". We also have little choice but to act locally, given we each have our avatar on the board, so to speak.\n",
    "\n",
    "If the UN doesn't get to see global data for free, out the window (where we all could see it, i.e. open data), then its officers have to scramble for better access internally.  But from whom?  From the UN itself of course, but also from Google?  From other sources?  Where's the meta map of GIS data flows?\n",
    "\n",
    "What I know for sure is in this world of refugees and refugee cities, senior planners need reliable visualization tools, extensions of such as we find in Postgres and Geopandas.\n",
    "\n",
    "https://arctype.com/blog/geospatial-data-postgres/\n",
    "https://www.sqlshack.com/install-and-upgrade-postgresql-to-support-spatial-data/\n",
    "https://geopandas.org/en/stable/\n",
    "https://foursquare.com/article/introducing-hex-tiles-our-next-gen-tiling-system/\n",
    "https://geographicdata.science/book/data/h3_grid/build_sd_h3_grid.html\n",
    "\n",
    "Kirby\n",
    "\n",
    "\n",
    "\n",
    "</pre>"
   ]
  },
  {
   "cell_type": "markdown",
   "id": "ae01d547-442e-4b6f-bce6-aae955bb2434",
   "metadata": {},
   "source": [
    "\n",
    "<a data-flickr-embed=\"true\" href=\"https://www.flickr.com/photos/kirbyurner/2935448332/\" title=\"Childrens Program Maps\"><img src=\"https://live.staticflickr.com/3135/2935448332_be9cbf3ee0_z.jpg\" width=\"640\" height=\"480\" alt=\"Childrens Program Maps\"></a><script async src=\"//embedr.flickr.com/assets/client-code.js\" charset=\"utf-8\"></script>\n",
    "<i>Stark Street Quaker Meetinghouse, Program Room</i>\n"
   ]
  }
 ],
 "metadata": {
  "kernelspec": {
   "display_name": "Python 3 (ipykernel)",
   "language": "python",
   "name": "python3"
  },
  "language_info": {
   "codemirror_mode": {
    "name": "ipython",
    "version": 3
   },
   "file_extension": ".py",
   "mimetype": "text/x-python",
   "name": "python",
   "nbconvert_exporter": "python",
   "pygments_lexer": "ipython3",
   "version": "3.9.12"
  }
 },
 "nbformat": 4,
 "nbformat_minor": 5
}
