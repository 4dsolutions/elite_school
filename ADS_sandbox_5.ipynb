{
 "cells": [
  {
   "cell_type": "markdown",
   "id": "august-tucson",
   "metadata": {},
   "source": [
    "##### Algorithms and Data Structures (Winter - Spring 2022)\n",
    "\n",
    "* [Colab view](https://colab.research.google.com/github/4dsolutions/elite_school/blob/master/ADS_intro_1.ipynb)\n",
    "* [nbviewer view](https://nbviewer.org/github/4dsolutions/elite_school/blob/master/ADS_intro_1.ipynb)\n",
    "* [ACSL / USACO](Exercises.ipynb)\n",
    "* [Repo](https://github.com/4dsolutions/elite_school/)\n",
    "* Main Text \n",
    "    -   [Algorithms](ADS_intro_1.ipynb) \n",
    "    -   [Algorithms (continued)](ADS_intro_2.ipynb)\n",
    "    -   [Structured Data](ADS_intro_3.ipynb)\n",
    "* Projects \n",
    "    -   [Wordle](ADS_project_1.ipynb)\n",
    "* Research \n",
    "    -   [Word Sets and Graph Theory](ADS_research_1.ipynb)\n",
    "* Sandboxes \n",
    "    -   [Spatial Geometry](ADS_sandbox.ipynb)  \n",
    "    -   [Finite Groups](ADS_sandbox_2.ipynb)  \n",
    "    -   [Chess](ADS_sandbox_3.ipynb)\n",
    "    -   [Soccer](ADS_sandbox_4.ipynb)\n",
    "    -   [Maps](ADS_sandbox_5.ipynb)"
   ]
  },
  {
   "cell_type": "markdown",
   "id": "suspended-firewall",
   "metadata": {},
   "source": [
    "# Maps\n",
    "\n",
    "<a data-flickr-embed=\"true\" href=\"https://www.flickr.com/photos/kirbyurner/2935448332/\" title=\"Childrens Program Maps\"><img src=\"https://live.staticflickr.com/3135/2935448332_be9cbf3ee0_z.jpg\" width=\"640\" height=\"480\" alt=\"Childrens Program Maps\"></a><script async src=\"//embedr.flickr.com/assets/client-code.js\" charset=\"utf-8\"></script>\n",
    "\n",
    "[Global Projections](https://www.mapthematics.com/ProjectionsList.php)\n",
    "\n",
    "Contemporary globe data is typically obtain from a \"tile server\" where \"tiles\" are what make the globe a mosaic of regularly sized areas.  Different tiling schemes come with different ways to address the tiles.  Several addressing schemes may interconvert."
   ]
  },
  {
   "cell_type": "code",
   "execution_count": 1,
   "id": "unavailable-killing",
   "metadata": {},
   "outputs": [
    {
     "ename": "ModuleNotFoundError",
     "evalue": "No module named 'ipyleaflet'",
     "output_type": "error",
     "traceback": [
      "\u001b[0;31m---------------------------------------------------------------------------\u001b[0m",
      "\u001b[0;31mModuleNotFoundError\u001b[0m                       Traceback (most recent call last)",
      "\u001b[0;32m<ipython-input-1-5238455e2e0a>\u001b[0m in \u001b[0;36m<module>\u001b[0;34m\u001b[0m\n\u001b[0;32m----> 1\u001b[0;31m \u001b[0;32mimport\u001b[0m \u001b[0mipyleaflet\u001b[0m\u001b[0;34m\u001b[0m\u001b[0;34m\u001b[0m\u001b[0m\n\u001b[0m\u001b[1;32m      2\u001b[0m \u001b[0;32mimport\u001b[0m \u001b[0mipywidgets\u001b[0m\u001b[0;34m\u001b[0m\u001b[0;34m\u001b[0m\u001b[0m\n",
      "\u001b[0;31mModuleNotFoundError\u001b[0m: No module named 'ipyleaflet'"
     ]
    }
   ],
   "source": [
    "import ipyleaflet\n",
    "import ipywidgets"
   ]
  },
  {
   "cell_type": "code",
   "execution_count": 7,
   "id": "prepared-absence",
   "metadata": {},
   "outputs": [
    {
     "data": {
      "application/vnd.jupyter.widget-view+json": {
       "model_id": "feae61f6debe47e687f0580c67307c31",
       "version_major": 2,
       "version_minor": 0
      },
      "text/plain": [
       "Map(center=[0.0, 0.0], controls=(ZoomControl(options=['position', 'zoom_in_text', 'zoom_in_title', 'zoom_out_t…"
      ]
     },
     "metadata": {},
     "output_type": "display_data"
    }
   ],
   "source": [
    "from ipyleaflet import Map\n",
    "basic_map = ipyleaflet.Map(zoom=1)\n",
    "display(basic_map)"
   ]
  },
  {
   "cell_type": "markdown",
   "id": "frank-recruitment",
   "metadata": {},
   "source": [
    "#### Teacher Note\n",
    "\n",
    "This is where I attempted to upgrade my Anaconda environment but ended up corrupting it instead. I've shifted to a newer base, around Python 3.9, where I'm writing this now.  I'll need some time to effect repairs."
   ]
  }
 ],
 "metadata": {
  "kernelspec": {
   "display_name": "Python 3",
   "language": "python",
   "name": "python3"
  },
  "language_info": {
   "codemirror_mode": {
    "name": "ipython",
    "version": 3
   },
   "file_extension": ".py",
   "mimetype": "text/x-python",
   "name": "python",
   "nbconvert_exporter": "python",
   "pygments_lexer": "ipython3",
   "version": "3.9.2"
  }
 },
 "nbformat": 4,
 "nbformat_minor": 5
}
