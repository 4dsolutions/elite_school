{
 "cells": [
  {
   "cell_type": "markdown",
   "id": "august-tucson",
   "metadata": {},
   "source": [
    "##### Algorithms and Data Structures (Winter - Spring 2022)\n",
    "\n",
    "* [Table of Contents](ADS_TOC.ipynb)\n",
    "* [Colab view](https://colab.research.google.com/github/4dsolutions/elite_school/blob/master/ADS_sandbox_5.ipynb)\n",
    "* [nbviewer view](https://nbviewer.org/github/4dsolutions/elite_school/blob/master/ADS_sandbox_5.ipynb)"
   ]
  },
  {
   "cell_type": "markdown",
   "id": "suspended-firewall",
   "metadata": {},
   "source": [
    "# Maps\n",
    "\n",
    "<a data-flickr-embed=\"true\" href=\"https://www.flickr.com/photos/kirbyurner/2935448332/\" title=\"Childrens Program Maps\"><img src=\"https://live.staticflickr.com/3135/2935448332_be9cbf3ee0_z.jpg\" width=\"640\" height=\"480\" alt=\"Childrens Program Maps\"></a><script async src=\"//embedr.flickr.com/assets/client-code.js\" charset=\"utf-8\"></script>\n",
    "<i>Stark Street Quaker Meetinghouse, Program Room</i>\n",
    "\n",
    "[Global Projections](https://www.mapthematics.com/ProjectionsList.php)\n",
    "\n",
    "Contemporary globe data is typically obtain from a \"tile server\" where \"tiles\" are what make the globe a mosaic of regularly sized areas.  Different tiling schemes come with different ways to address the tiles.  Several addressing schemes may interconvert."
   ]
  },
  {
   "cell_type": "markdown",
   "id": "frank-recruitment",
   "metadata": {},
   "source": [
    "#### Teacher Note\n",
    "\n",
    "This is where I attempted to upgrade my Anaconda environment but ended up corrupting it instead. I've shifted to a newer base, around Python 3.9, where I'm writing this now.  I'll need some time to effect repairs."
   ]
  }
 ],
 "metadata": {
  "kernelspec": {
   "display_name": "Python 3 (ipykernel)",
   "language": "python",
   "name": "python3"
  },
  "language_info": {
   "codemirror_mode": {
    "name": "ipython",
    "version": 3
   },
   "file_extension": ".py",
   "mimetype": "text/x-python",
   "name": "python",
   "nbconvert_exporter": "python",
   "pygments_lexer": "ipython3",
   "version": "3.9.12"
  }
 },
 "nbformat": 4,
 "nbformat_minor": 5
}
