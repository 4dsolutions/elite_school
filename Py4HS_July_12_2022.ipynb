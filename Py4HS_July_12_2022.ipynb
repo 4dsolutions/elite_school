{
 "cells": [
  {
   "cell_type": "markdown",
   "id": "468e25aa-24a4-4eaf-b4e0-c47792f38b1c",
   "metadata": {
    "tags": []
   },
   "source": [
    "##### Python for High School (Summer 2022)\n",
    "\n",
    "* [Table of Contents](PY4HS.ipynb)\n",
    "* <a href=\"https://colab.research.google.com/github/4dsolutions/elite_school/blob/master/Py4HS_July_12_2022.ipynb\"><img align=\"left\" src=\"https://colab.research.google.com/assets/colab-badge.svg\" alt=\"Open in Colab\" title=\"Open and Execute in Google Colaboratory\"></a>\n",
    "* [![nbviewer](https://raw.githubusercontent.com/jupyter/design/master/logos/Badges/nbviewer_badge.svg)](https://nbviewer.org/github/4dsolutions/elite_school/blob/master/Py4HS_July_12_2022.ipynb)"
   ]
  },
  {
   "cell_type": "markdown",
   "id": "8d898b43-f9b3-4232-bf9c-bb9da6e8f9db",
   "metadata": {},
   "source": [
    "### Recap\n",
    "\n",
    "What have we been learning so far?\n",
    "\n",
    "Our focus has been the Python computer language and how to [make types](Py4HS_MakingTypes.ipynb) or classes.  \n",
    "\n",
    "Once we have a couple Animal classes, we discover the power of inheritance:  let your classes \"pass the buck\" sometimes, to a superclass that's already debugged and trusted.  Why reinvent the wheel (or \"stomach\" or \"eat method\" as the case may be)?\n",
    "\n",
    "Let's take another look at the [Animals](https://replit.com/@kurner/Animals#main.py) on Replit."
   ]
  },
  {
   "cell_type": "markdown",
   "id": "6389011b-2f13-4632-8dd8-fe67a9c55a55",
   "metadata": {},
   "source": [
    "Five Dimensions of Python:\n",
    "\n",
    "1. syntax and punctuation\n",
    "2. the builtins\n",
    "3. ```__ribs__``` i.e. special names (magic methods)\n",
    "4. Standard Library\n",
    "5. Ecosystem (3rd party packages such as numpy, pandas, django)\n",
    "\n"
   ]
  },
  {
   "cell_type": "markdown",
   "id": "5873222d-0e9e-47c1-bf4d-d5ef59a74d94",
   "metadata": {},
   "source": [
    "A complete understanding of our syntax so far also requires understanding string formatting, which includes the act of string substitution.\n",
    "\n",
    "Lets take some time to review some of those details."
   ]
  },
  {
   "cell_type": "markdown",
   "id": "464d04ed-25f4-447e-94eb-6b930f26c5fa",
   "metadata": {
    "tags": []
   },
   "source": [
    "### Rational Numbers\n",
    "\n",
    "Our next task is to develop a Rational Number type or class.  We'll call it Rat, for Rational, but Rat also reminds us of the animal, which is intentional, because of our coding theme so far.\n",
    "\n",
    "Lets remember where the rationals fit into our hierarchy of numeric sets:\n",
    "* Counting Numbers, or set $\\mathbb{N}$ \n",
    "* Whole Numbers $\\mathbb{W}$ (add 0 to $\\mathbb{N}$)\n",
    "* Integers $\\mathbb{Z}$ (add negatives of positives)\n",
    "* Rationals $\\mathbb{Q}$ (integer:integer ratios)\n",
    "* Reals $\\mathbb{R}$ (no holes)\n",
    "* Complex numbers (add root of -1 to $\\mathbb{R}$)\n",
    "\n",
    "each a superset of the next previous.\n",
    "\n",
    "$$\n",
    "\\mathbb{N} \\subset  \n",
    "\\mathbb{W} \\subset \n",
    "\\mathbb{Z} \\subset \n",
    "\\mathbb{Q} \\subset \n",
    "\\mathbb{R} \\subset \n",
    "\\mathbb{C}\n",
    "$$"
   ]
  },
  {
   "cell_type": "markdown",
   "id": "94d83a2d-6a96-4e49-adb2-d70307ac7f43",
   "metadata": {},
   "source": [
    "Lets check a Rat class implementation on Replit.\n",
    "\n",
    "[Rat class on Replit](https://replit.com/@kurner/rationals#main.py)"
   ]
  },
  {
   "cell_type": "code",
   "execution_count": 1,
   "id": "8c43f2a6-572e-4fcc-a449-4799c6d2f7b6",
   "metadata": {},
   "outputs": [],
   "source": [
    "from math import gcd\n",
    "\n",
    "class Rat:\n",
    "\n",
    "    def __init__(self, n, d=None):\n",
    "        \"\"\"\n",
    "        Allow ints and other Rats to create new Rats\n",
    "        not just the two ints, numerator and denominator\n",
    "        \"\"\"\n",
    "        if (   (type(n) == int and not d)\n",
    "            or (type(n) == Rat and not d)):\n",
    "            d = n.denominator\n",
    "            n = n.numerator\n",
    "            \n",
    "        GCD = gcd(n, d)\n",
    "        self.numerator = n // GCD \n",
    "        self.denominator = d // GCD\n",
    "\n",
    "    def __mul__(self, other):\n",
    "        new_n = self.numerator * other.numerator\n",
    "        new_d = self.denominator * other.denominator\n",
    "        return Rat(new_n, new_d)\n",
    "\n",
    "    def __add__(self, other):\n",
    "        new_n = self.numerator * other.denominator + other.numerator * self.denominator\n",
    "        new_d = self.denominator * other.denominator\n",
    "        return Rat(new_n, new_d)\n",
    "\n",
    "    def __neg__(self):\n",
    "        return Rat(-self.numerator, self.denominator)\n",
    "\n",
    "    def __sub__(self, other):\n",
    "        return self + (- other)\n",
    "\n",
    "    def __invert__(self):\n",
    "        return Rat(self.denominator, self.numerator)\n",
    "\n",
    "    def __truediv__(self, other):\n",
    "        return self * ~other\n",
    "\n",
    "    def __eq__(self, other):\n",
    "        return ((self.numerator == other.numerator)\n",
    "            and (self.denominator == other.denominator))\n",
    "\n",
    "    def __repr__(self):\n",
    "        return \"({} / {})\".format(self.numerator, self.denominator)\n",
    "\n",
    "    def __float__(self):\n",
    "        return self.numerator / self.denominator"
   ]
  },
  {
   "cell_type": "code",
   "execution_count": 2,
   "id": "19b7e0b9-ca91-4eb8-ba96-f2f5837ba78e",
   "metadata": {},
   "outputs": [
    {
     "data": {
      "text/plain": [
       "(1 / 2)"
      ]
     },
     "execution_count": 2,
     "metadata": {},
     "output_type": "execute_result"
    }
   ],
   "source": [
    "q = Rat(1, 2)\n",
    "Rat(q)"
   ]
  },
  {
   "cell_type": "code",
   "execution_count": 3,
   "id": "aa0d9625-7556-49b3-b00e-6b0c4cfce340",
   "metadata": {},
   "outputs": [
    {
     "data": {
      "text/plain": [
       "1"
      ]
     },
     "execution_count": 3,
     "metadata": {},
     "output_type": "execute_result"
    }
   ],
   "source": [
    "3 .denominator  # the int type has these properties built in"
   ]
  },
  {
   "cell_type": "markdown",
   "id": "81965834-b890-42c8-860b-914de42b4f66",
   "metadata": {},
   "source": [
    "Still missing from the above implementation:  the ability to put the Rat to the right of the operator in question.  We also don't yet have powering i.e. ```__pow__```.  Even without these features, our Rat is fairly functional."
   ]
  },
  {
   "cell_type": "markdown",
   "id": "2511a107-75ea-43e2-baf1-e24336f51150",
   "metadata": {},
   "source": [
    "### Fibonacci Numbers\n",
    "\n",
    "Number sequences figure centrally in this high school curriculum, as they do in so many.  Figurate and polyhedral numbers, their gnomons and running totals, primes, Carmichael Numbers... all of these may be researched in [the Online Dictionary of Integer Sequences](https://oeis.org/)."
   ]
  },
  {
   "cell_type": "code",
   "execution_count": 4,
   "id": "36cef86a-773b-4889-a832-0f23836353de",
   "metadata": {},
   "outputs": [],
   "source": [
    "def fibo(a=0, b=1):\n",
    "    while True:\n",
    "        yield a\n",
    "        a, b = b, a + b"
   ]
  },
  {
   "cell_type": "code",
   "execution_count": 5,
   "id": "b1578c65-1bec-4e41-8306-6ecbdce35554",
   "metadata": {},
   "outputs": [
    {
     "data": {
      "text/plain": [
       "0"
      ]
     },
     "execution_count": 5,
     "metadata": {},
     "output_type": "execute_result"
    }
   ],
   "source": [
    "gen_fib = fibo()\n",
    "next(gen_fib)"
   ]
  },
  {
   "cell_type": "code",
   "execution_count": 6,
   "id": "fcefe659-87f7-44de-9f3e-212708d1371d",
   "metadata": {},
   "outputs": [
    {
     "data": {
      "text/plain": [
       "1"
      ]
     },
     "execution_count": 6,
     "metadata": {},
     "output_type": "execute_result"
    }
   ],
   "source": [
    "next(gen_fib)"
   ]
  },
  {
   "cell_type": "code",
   "execution_count": 7,
   "id": "a8dde62d-5ab9-4153-b35b-57e12fafbce0",
   "metadata": {},
   "outputs": [
    {
     "data": {
      "text/plain": [
       "1"
      ]
     },
     "execution_count": 7,
     "metadata": {},
     "output_type": "execute_result"
    }
   ],
   "source": [
    "next(gen_fib)"
   ]
  },
  {
   "cell_type": "code",
   "execution_count": 8,
   "id": "49d6f827-2687-4e56-a12c-ca8de77bcf0a",
   "metadata": {},
   "outputs": [
    {
     "data": {
      "text/plain": [
       "2"
      ]
     },
     "execution_count": 8,
     "metadata": {},
     "output_type": "execute_result"
    }
   ],
   "source": [
    "next(gen_fib)"
   ]
  },
  {
   "cell_type": "code",
   "execution_count": 9,
   "id": "716acb42-2a64-4c5f-a3b0-8373a287e849",
   "metadata": {},
   "outputs": [
    {
     "data": {
      "text/plain": [
       "3"
      ]
     },
     "execution_count": 9,
     "metadata": {},
     "output_type": "execute_result"
    }
   ],
   "source": [
    "next(gen_fib)"
   ]
  },
  {
   "cell_type": "code",
   "execution_count": 10,
   "id": "abcc954e-d1c1-4405-a932-fcd4d870bce1",
   "metadata": {},
   "outputs": [
    {
     "name": "stdout",
     "output_type": "stream",
     "text": [
      "5\n",
      "8\n",
      "13\n",
      "21\n",
      "34\n",
      "55\n",
      "89\n",
      "144\n",
      "233\n",
      "377\n"
     ]
    }
   ],
   "source": [
    "for _ in range(10):\n",
    "    print(next(gen_fib))"
   ]
  },
  {
   "cell_type": "code",
   "execution_count": 11,
   "id": "cf5abab5-5fdb-4aac-ac5c-2f4133b1d92a",
   "metadata": {},
   "outputs": [
    {
     "data": {
      "text/plain": [
       "(987 / 610)"
      ]
     },
     "execution_count": 11,
     "metadata": {},
     "output_type": "execute_result"
    }
   ],
   "source": [
    "denom, numer = next(gen_fib), next(gen_fib)\n",
    "ratio = Rat(numer, denom)\n",
    "ratio"
   ]
  },
  {
   "cell_type": "code",
   "execution_count": 12,
   "id": "69d75891-b91f-4269-a87a-ea8e5991c417",
   "metadata": {},
   "outputs": [
    {
     "data": {
      "text/plain": [
       "1.618032786885246"
      ]
     },
     "execution_count": 12,
     "metadata": {},
     "output_type": "execute_result"
    }
   ],
   "source": [
    "float(ratio)"
   ]
  },
  {
   "cell_type": "markdown",
   "id": "b88d973f-4893-4666-a7c4-97bddc4444a6",
   "metadata": {},
   "source": [
    "The whole (1 + the part) is to 1, as 1 is to the part."
   ]
  },
  {
   "cell_type": "code",
   "execution_count": 13,
   "id": "a6366207-bf22-44b0-9ead-29ff706a0000",
   "metadata": {},
   "outputs": [
    {
     "data": {
      "text/latex": [
       "$\\displaystyle φ = \\frac{φ + 1}{φ}$"
      ],
      "text/plain": [
       "Eq(φ, (φ + 1)/φ)"
      ]
     },
     "execution_count": 13,
     "metadata": {},
     "output_type": "execute_result"
    }
   ],
   "source": [
    "import sympy as sp\n",
    "φ = sp.Symbol('φ')\n",
    "equation = sp.Eq(φ/1, (φ+1)/φ) # 1 is to φ as φ is to x + 1\n",
    "equation"
   ]
  },
  {
   "cell_type": "code",
   "execution_count": 14,
   "id": "d5b2a450-9698-4c5e-b46d-26da316ad98c",
   "metadata": {},
   "outputs": [
    {
     "data": {
      "text/plain": [
       "[1/2 - sqrt(5)/2, 1/2 + sqrt(5)/2]"
      ]
     },
     "execution_count": 14,
     "metadata": {},
     "output_type": "execute_result"
    }
   ],
   "source": [
    "ans = sp.solve(equation)\n",
    "ans"
   ]
  },
  {
   "cell_type": "code",
   "execution_count": 15,
   "id": "9dfcc8a9-a949-4800-bce8-2ca78874319a",
   "metadata": {},
   "outputs": [
    {
     "data": {
      "text/latex": [
       "$\\displaystyle 1.6180339887498948482$"
      ],
      "text/plain": [
       "1.6180339887498948482"
      ]
     },
     "execution_count": 15,
     "metadata": {},
     "output_type": "execute_result"
    }
   ],
   "source": [
    "ans[1].evalf(20)"
   ]
  },
  {
   "cell_type": "code",
   "execution_count": 16,
   "id": "3aa89ca6-edf8-4065-b139-0a3f5d22034a",
   "metadata": {},
   "outputs": [
    {
     "data": {
      "text/latex": [
       "$\\displaystyle 1.6180339887498948482$"
      ],
      "text/plain": [
       "1.6180339887498948482"
      ]
     },
     "execution_count": 16,
     "metadata": {},
     "output_type": "execute_result"
    }
   ],
   "source": [
    "sp.S.GoldenRatio.n(20)"
   ]
  },
  {
   "cell_type": "markdown",
   "id": "1847b1cf-80c2-4518-ba86-143bd3b52231",
   "metadata": {},
   "source": [
    "How shall we visualize Phi?\n",
    "\n",
    "This arrangement of 3 segments scales up and down, meaning it's a ratio we are looking for, but there's an additive aspect to this particular ratio.\n",
    "\n",
    "<a data-flickr-embed=\"true\" href=\"https://www.flickr.com/photos/kirbyurner/52212428143/in/dateposted-public/\" title=\"Flipped Phi\"><img src=\"https://live.staticflickr.com/65535/52212428143_d821f0fc55_w.jpg\" width=\"400\" height=\"382\" alt=\"Flipped Phi\"></a><script async src=\"//embedr.flickr.com/assets/client-code.js\" charset=\"utf-8\"></script>\n",
    "\n",
    "<a data-flickr-embed=\"true\" href=\"https://www.flickr.com/photos/kirbyurner/52212676884/in/dateposted-public/\" title=\"Phi\"><img src=\"https://live.staticflickr.com/65535/52212676884_18d40243f6_w.jpg\" width=\"400\" height=\"382\" alt=\"Phi\"></a><script async src=\"//embedr.flickr.com/assets/client-code.js\" charset=\"utf-8\"></script>"
   ]
  }
 ],
 "metadata": {
  "kernelspec": {
   "display_name": "Python 3 (ipykernel)",
   "language": "python",
   "name": "python3"
  },
  "language_info": {
   "codemirror_mode": {
    "name": "ipython",
    "version": 3
   },
   "file_extension": ".py",
   "mimetype": "text/x-python",
   "name": "python",
   "nbconvert_exporter": "python",
   "pygments_lexer": "ipython3",
   "version": "3.9.12"
  }
 },
 "nbformat": 4,
 "nbformat_minor": 5
}
