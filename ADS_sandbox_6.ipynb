{
 "cells": [
  {
   "cell_type": "markdown",
   "id": "53202a96-60e8-4c8e-88f6-2a1b7850dc2c",
   "metadata": {},
   "source": [
    "##### Algorithms and Data Structures (Winter - Spring 2022)\n",
    "\n",
    "* [Colab view](https://colab.research.google.com/github/4dsolutions/elite_school/blob/master/ADS_intro_1.ipynb)\n",
    "* [nbviewer view](https://nbviewer.org/github/4dsolutions/elite_school/blob/master/ADS_intro_1.ipynb)\n",
    "* [ACSL / USACO](Exercises.ipynb)\n",
    "* [Repo](https://github.com/4dsolutions/elite_school/)\n",
    "* Main Text \n",
    "    -   [Algorithms](ADS_intro_1.ipynb) \n",
    "    -   [Algorithms (continued)](ADS_intro_2.ipynb)\n",
    "    -   [Structured Data](ADS_intro_3.ipynb)\n",
    "* Projects \n",
    "    -   [Wordle](ADS_project_1.ipynb)\n",
    "* Research \n",
    "    -   [Word Sets and Graph Theory](ADS_research_1.ipynb)\n",
    "* Sandboxes \n",
    "    -   [Spatial Geometry](ADS_sandbox.ipynb)  \n",
    "    -   [Finite Groups](ADS_sandbox_2.ipynb)  \n",
    "    -   [Chess](ADS_sandbox_3.ipynb)\n",
    "    -   [Soccer](ADS_sandbox_4.ipynb)\n",
    "    -   [Maps](ADS_sandbox_5.ipynb)\n",
    "    -   [Graphs](ADS_sandbox_6.ipynb)"
   ]
  },
  {
   "cell_type": "markdown",
   "id": "fe5582c1-b9c1-43c0-8cbb-3778d332b7a3",
   "metadata": {
    "tags": []
   },
   "source": [
    "*Lets talk more about...*\n",
    "# Graph Theory\n",
    "\n",
    "FAQ: \n",
    "* Q: What is a graph? <br /> \n",
    "  A: Nodes connected by edges.\n",
    "* Q: Is a polyhedron a graph? <br />A: Yes, by some definitions.\n",
    "* Q: What terminology applies, pertaining to Graphs? <br /> \n",
    "  A: I'm so glad you asked.\n",
    "\n",
    "What computer scientists often talk about, in connection with Graph Theory, are road and rail networks.  Roads come together at intersections, which are sometimes traffic circles.  Rail roads have switches and round houses, allowing trains to access all the connected tracks, even if they must reverse direction to do so sometimes.\n",
    "\n",
    "In thinking about road and rail, we also think about direction.  A directed graph tells us in which direction a road runs, perhaps in both, perhaps not. Ditto with railways.  \n",
    "\n",
    "Perhaps a route is one way north to south for some hours, and south to north at other hours.  Freeways with extra express lanes may change their directionality to coincide with rush hour requirements.\n",
    "\n",
    "A final factor we will consider is \"weight\" which can mean a lot of things, such as distance.  \n",
    "\n",
    "However \"weight\" may fold in many more measurements than simply \"time between nodes\" at a certain speed.  \n",
    "\n",
    "Regarding the \"weightiness\" of a Route:\n",
    "\n",
    "* How twisty is this road? \n",
    "* Do wild animals suddenly appear in the headlights?\n",
    "* What about the number of lanes?  \n",
    "* How stressful is this road to drive?  \n",
    "* Does this road have any gas stops or other facilities?\n",
    "* Does this road feature steep drop offs with no guard rails?  \n",
    "\n",
    "One might imagine a long checklist of criteria, adding up to what we would call a segment's score.  \n",
    "\n",
    "Once we have a score associated with each edge, we're ready to apply such algorithm's as Djikstra's.\n",
    "\n",
    "Djikstra's Algorithm is about minizine the total weight between any starting node, and every other node in the network."
   ]
  },
  {
   "cell_type": "markdown",
   "id": "00a05075-d20a-49e3-a35d-f3a6804c2668",
   "metadata": {},
   "source": [
    "#### Representing Graph Data Structures\n",
    "\n",
    "However, before we start implementing the repeating steps of the Djikstra Algorithm, or other algorithms, we need a way to store and retrieve graph representations.  \n",
    "\n",
    "How will we tell ourselves what nodes could be next, from where we are now?  \n",
    "\n",
    "We will need to know what node are reachable from the current node. We may need to remember where we've come from, so we don't hop back.  \n",
    "\n",
    "If the graph has directionality (some are always both directional along every edge), and/or if it's weighted, how will we register this information for the various algorithms to make sense of?"
   ]
  },
  {
   "cell_type": "markdown",
   "id": "6cf90318-79eb-4d1e-bb0a-3a01c0f12ed5",
   "metadata": {},
   "source": [
    "Let's consider some articles: \n",
    "\n",
    "* [Graph Basics Contributed by: Ruchi Nayyar](https://www.mygreatlearning.com/blog/representing-graphs-in-data-structures/)\n",
    "\n",
    "* [Representing Graph Data Structures by Jackson Gilkey](https://towardsdatascience.com/representing-graph-data-structures-6e3c19ccd677)\n",
    "\n",
    "* [Weighted Graphs at Emory](https://www.mathcs.emory.edu/~cheung/Courses/171/Syllabus/11-Graph/weighted.html)"
   ]
  },
  {
   "cell_type": "markdown",
   "id": "abd7ef30-7037-4096-b372-e8e82b534af2",
   "metadata": {},
   "source": [
    "A graph can be represented using 3 data structures: \n",
    "\n",
    "* adjacency matrix\n",
    "* adjacency list\n",
    "* adjacency set"
   ]
  },
  {
   "cell_type": "markdown",
   "id": "75877ca6-d428-4c91-be6c-858588618def",
   "metadata": {},
   "source": [
    "####  Adjacency Matrix\n",
    "\n",
    "This is one solution for storing both directionality and weighting. Think of a Cartesian product, or just product, pairing every element in a set with every other, including itself."
   ]
  },
  {
   "cell_type": "code",
   "execution_count": 11,
   "id": "655eaf95-a38b-4455-9279-281ce2d379ad",
   "metadata": {},
   "outputs": [],
   "source": [
    "import numpy as np\n",
    "import pandas as pd"
   ]
  },
  {
   "cell_type": "code",
   "execution_count": 12,
   "id": "29ba2466-654b-456f-a302-3b62aa7ccf1c",
   "metadata": {},
   "outputs": [
    {
     "data": {
      "text/plain": [
       "array([[1, 2, 3],\n",
       "       [2, 4, 6],\n",
       "       [3, 6, 9]])"
      ]
     },
     "execution_count": 12,
     "metadata": {},
     "output_type": "execute_result"
    }
   ],
   "source": [
    "mult_table = np.product([np.array([1,2,3], dtype=int).reshape(1, 3), \n",
    "             np.array([1,2,3], dtype=int).reshape(3,1)])\n",
    "mult_table"
   ]
  },
  {
   "cell_type": "code",
   "execution_count": 13,
   "id": "cdcb482c-8da9-4dc0-833d-2c01fad78d53",
   "metadata": {},
   "outputs": [
    {
     "data": {
      "text/html": [
       "<div>\n",
       "<style scoped>\n",
       "    .dataframe tbody tr th:only-of-type {\n",
       "        vertical-align: middle;\n",
       "    }\n",
       "\n",
       "    .dataframe tbody tr th {\n",
       "        vertical-align: top;\n",
       "    }\n",
       "\n",
       "    .dataframe thead th {\n",
       "        text-align: right;\n",
       "    }\n",
       "</style>\n",
       "<table border=\"1\" class=\"dataframe\">\n",
       "  <thead>\n",
       "    <tr style=\"text-align: right;\">\n",
       "      <th></th>\n",
       "      <th>a</th>\n",
       "      <th>b</th>\n",
       "      <th>c</th>\n",
       "    </tr>\n",
       "  </thead>\n",
       "  <tbody>\n",
       "    <tr>\n",
       "      <th>a</th>\n",
       "      <td>1</td>\n",
       "      <td>2</td>\n",
       "      <td>3</td>\n",
       "    </tr>\n",
       "    <tr>\n",
       "      <th>b</th>\n",
       "      <td>2</td>\n",
       "      <td>4</td>\n",
       "      <td>6</td>\n",
       "    </tr>\n",
       "    <tr>\n",
       "      <th>c</th>\n",
       "      <td>3</td>\n",
       "      <td>6</td>\n",
       "      <td>9</td>\n",
       "    </tr>\n",
       "  </tbody>\n",
       "</table>\n",
       "</div>"
      ],
      "text/plain": [
       "   a  b  c\n",
       "a  1  2  3\n",
       "b  2  4  6\n",
       "c  3  6  9"
      ]
     },
     "execution_count": 13,
     "metadata": {},
     "output_type": "execute_result"
    }
   ],
   "source": [
    "caley_table = pd.DataFrame(data = mult_table, \n",
    "                           index = ['a','b','c'], \n",
    "                           columns=['a','b','c'])\n",
    "caley_table"
   ]
  },
  {
   "cell_type": "markdown",
   "id": "45486160-747c-4ea2-a59f-b40fc1b2806f",
   "metadata": {},
   "source": [
    "However in an adjacency matrix, we're not looking for a product, but whether the two nodes are connected, yes or no.  \n",
    "\n",
    "If the idea is \"row to column\", then a 1 in (a, b) but not in (b, a) would mean traffic could only go in the (a, b) direction -- in which case we have our directionality.  \n",
    "\n",
    "Then if the nodes k, m are connected, they might have some number stored at W(k, m), not just 1 or 0.  A positive number would be the weight, whereas a 0 would mean the obvious: that a node is connected to only itself.\n",
    "\n",
    "Therefore an adjacency matrix might look like this, using random lengths, randomly interconnection some nodes."
   ]
  },
  {
   "cell_type": "code",
   "execution_count": 34,
   "id": "d1927153-6311-4af2-b716-9bc49cdbaa4d",
   "metadata": {},
   "outputs": [
    {
     "data": {
      "text/plain": [
       "array([[0, 0, 7, 0, 0],\n",
       "       [0, 6, 1, 0, 0],\n",
       "       [0, 8, 3, 8, 3],\n",
       "       [0, 0, 0, 0, 5],\n",
       "       [0, 9, 4, 0, 0]])"
      ]
     },
     "execution_count": 34,
     "metadata": {},
     "output_type": "execute_result"
    }
   ],
   "source": [
    "mult_table = np.random.randint(0, 10, (5, 5))\n",
    "graph_data = mult_table * np.random.randint(0, 2, (5,5), dtype = int)\n",
    "graph_data"
   ]
  },
  {
   "cell_type": "code",
   "execution_count": 36,
   "id": "823fb46b-bd17-46af-b701-fd10e94e3a51",
   "metadata": {},
   "outputs": [
    {
     "data": {
      "text/html": [
       "<div>\n",
       "<style scoped>\n",
       "    .dataframe tbody tr th:only-of-type {\n",
       "        vertical-align: middle;\n",
       "    }\n",
       "\n",
       "    .dataframe tbody tr th {\n",
       "        vertical-align: top;\n",
       "    }\n",
       "\n",
       "    .dataframe thead th {\n",
       "        text-align: right;\n",
       "    }\n",
       "</style>\n",
       "<table border=\"1\" class=\"dataframe\">\n",
       "  <thead>\n",
       "    <tr style=\"text-align: right;\">\n",
       "      <th></th>\n",
       "      <th>a</th>\n",
       "      <th>b</th>\n",
       "      <th>c</th>\n",
       "      <th>d</th>\n",
       "      <th>e</th>\n",
       "    </tr>\n",
       "  </thead>\n",
       "  <tbody>\n",
       "    <tr>\n",
       "      <th>a</th>\n",
       "      <td>0</td>\n",
       "      <td>0</td>\n",
       "      <td>7</td>\n",
       "      <td>0</td>\n",
       "      <td>0</td>\n",
       "    </tr>\n",
       "    <tr>\n",
       "      <th>b</th>\n",
       "      <td>0</td>\n",
       "      <td>6</td>\n",
       "      <td>1</td>\n",
       "      <td>0</td>\n",
       "      <td>0</td>\n",
       "    </tr>\n",
       "    <tr>\n",
       "      <th>c</th>\n",
       "      <td>0</td>\n",
       "      <td>8</td>\n",
       "      <td>3</td>\n",
       "      <td>8</td>\n",
       "      <td>3</td>\n",
       "    </tr>\n",
       "    <tr>\n",
       "      <th>d</th>\n",
       "      <td>0</td>\n",
       "      <td>0</td>\n",
       "      <td>0</td>\n",
       "      <td>0</td>\n",
       "      <td>5</td>\n",
       "    </tr>\n",
       "    <tr>\n",
       "      <th>e</th>\n",
       "      <td>0</td>\n",
       "      <td>9</td>\n",
       "      <td>4</td>\n",
       "      <td>0</td>\n",
       "      <td>0</td>\n",
       "    </tr>\n",
       "  </tbody>\n",
       "</table>\n",
       "</div>"
      ],
      "text/plain": [
       "   a  b  c  d  e\n",
       "a  0  0  7  0  0\n",
       "b  0  6  1  0  0\n",
       "c  0  8  3  8  3\n",
       "d  0  0  0  0  5\n",
       "e  0  9  4  0  0"
      ]
     },
     "execution_count": 36,
     "metadata": {},
     "output_type": "execute_result"
    }
   ],
   "source": [
    "graph_table = pd.DataFrame(data = graph_data, \n",
    "                           index = ['a', 'b', 'c', 'd', 'e'], \n",
    "                           columns = ['a','b', 'c', 'd', 'e'], dtype=int)\n",
    "\n",
    "graph_table"
   ]
  },
  {
   "cell_type": "markdown",
   "id": "9f764388-fa63-4ee4-8f62-9db1cde8baa8",
   "metadata": {},
   "source": [
    "####  Adjacency List\n",
    "\n",
    "An adjacency list might use (node1, node2) tuples, with node1 -> node2 the implied direction.  Store (node2, node1) for a route in the other direction.  Tuples are valid keys in a dictionary.  The values will be the weights of each road."
   ]
  },
  {
   "cell_type": "code",
   "execution_count": 38,
   "id": "ed8b45b0-fd98-4e1a-bfa4-9d99c945434a",
   "metadata": {},
   "outputs": [],
   "source": [
    "graph = {('a','b'): 5,\n",
    "         ('b','a'): 5,\n",
    "         ('b','c'): 6,\n",
    "         ('b','d'): 3,\n",
    "         ('d','e'): 1,\n",
    "         ('e','d'): 2,\n",
    "         ('e','a'): 5,\n",
    "         ('a','e'): 2}"
   ]
  },
  {
   "cell_type": "markdown",
   "id": "6da2fa26-7396-4c27-9f4d-2429012d1b06",
   "metadata": {},
   "source": [
    "####  Adjacency Set"
   ]
  },
  {
   "cell_type": "code",
   "execution_count": null,
   "id": "33aaf198-7a0f-4627-903d-f2612e6174ae",
   "metadata": {},
   "outputs": [],
   "source": []
  }
 ],
 "metadata": {
  "kernelspec": {
   "display_name": "Python 3 (ipykernel)",
   "language": "python",
   "name": "python3"
  },
  "language_info": {
   "codemirror_mode": {
    "name": "ipython",
    "version": 3
   },
   "file_extension": ".py",
   "mimetype": "text/x-python",
   "name": "python",
   "nbconvert_exporter": "python",
   "pygments_lexer": "ipython3",
   "version": "3.9.12"
  }
 },
 "nbformat": 4,
 "nbformat_minor": 5
}
