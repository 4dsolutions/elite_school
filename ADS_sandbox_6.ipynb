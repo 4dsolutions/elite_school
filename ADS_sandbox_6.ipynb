{
 "cells": [
  {
   "cell_type": "markdown",
   "id": "53202a96-60e8-4c8e-88f6-2a1b7850dc2c",
   "metadata": {},
   "source": [
    "##### Algorithms and Data Structures (Winter - Spring 2022)\n",
    "\n",
    "* [Colab view](https://colab.research.google.com/github/4dsolutions/elite_school/blob/master/ADS_intro_1.ipynb)\n",
    "* [nbviewer view](https://nbviewer.org/github/4dsolutions/elite_school/blob/master/ADS_intro_1.ipynb)\n",
    "* [ACSL / USACO](Exercises.ipynb)\n",
    "* [Repo](https://github.com/4dsolutions/elite_school/)\n",
    "* Main Text \n",
    "    -   [Algorithms](ADS_intro_1.ipynb) \n",
    "    -   [Algorithms (continued)](ADS_intro_2.ipynb)\n",
    "    -   [Structured Data](ADS_intro_3.ipynb)\n",
    "* Projects \n",
    "    -   [Wordle](ADS_project_1.ipynb)\n",
    "* Research \n",
    "    -   [Word Sets and Graph Theory](ADS_research_1.ipynb)\n",
    "* Sandboxes \n",
    "    -   [Spatial Geometry](ADS_sandbox.ipynb)  \n",
    "    -   [Finite Groups](ADS_sandbox_2.ipynb)  \n",
    "    -   [Chess](ADS_sandbox_3.ipynb)\n",
    "    -   [Soccer](ADS_sandbox_4.ipynb)\n",
    "    -   [Maps](ADS_sandbox_5.ipynb)\n",
    "    -   [Graphs](ADS_sandbox_6.ipynb)"
   ]
  },
  {
   "cell_type": "markdown",
   "id": "fe5582c1-b9c1-43c0-8cbb-3778d332b7a3",
   "metadata": {
    "tags": []
   },
   "source": [
    "*Lets talk more about...*\n",
    "# Graph Theory\n",
    "\n",
    "FAQ: \n",
    "* Q: What is a graph? <br /> \n",
    "  A: Nodes connected by edges.\n",
    "* Q: Is a polyhedron a graph? <br />A: Yes, by some definitions.\n",
    "* Q: What terminology applies, pertaining to Graphs? <br /> \n",
    "  A: I'm so glad you asked.\n",
    "\n",
    "What computer scientists often talk about, in connection with Graph Theory, are road and rail networks.  Roads come together at intersections, which are sometimes traffic circles.  Rail roads have switches and round houses, allowing trains to access all the connected tracks, even if they must reverse direction to do so sometimes.\n",
    "\n",
    "In thinking about road and rail, we also think about direction.  A directed graph tells us in which direction a road runs, perhaps in both, perhaps not. Ditto with railways.  \n",
    "\n",
    "Perhaps a route is one way north to south for some hours, and south to north at other hours.  Freeways with extra express lanes may change their directionality to coincide with rush hour requirements.\n",
    "\n",
    "A final factor we will consider is \"weight\" which can mean a lot of things, such as distance.  \n",
    "\n",
    "However \"weight\" may fold in many more measurements than simply \"time between nodes\" at a certain speed.  \n",
    "\n",
    "Regarding the \"weightiness\" of a Route:\n",
    "\n",
    "* How twisty is this road? \n",
    "* Do wild animals suddenly appear in the headlights?\n",
    "* What about the number of lanes?  \n",
    "* How stressful is this road to drive?  \n",
    "* Does this road have any gas stops or other facilities?\n",
    "* Does this road feature steep drop offs with no guard rails?  \n",
    "\n",
    "One might imagine a long checklist of criteria, adding up to what we would call a segment's score.  \n",
    "\n",
    "Once we have a score associated with each edge, we're ready to apply such algorithm's as Djikstra's.\n",
    "\n",
    "Djikstra's Algorithm is about minizine the total weight between any starting node, and every other node in the network."
   ]
  },
  {
   "cell_type": "markdown",
   "id": "00a05075-d20a-49e3-a35d-f3a6804c2668",
   "metadata": {},
   "source": [
    "#### Representing Graph Data Structures\n",
    "\n",
    "However, before we start implementing the repeating steps of the Djikstra Algorithm, or other algorithms, we need a way to store and retrieve graph representations.  \n",
    "\n",
    "How will we tell ourselves what nodes could be next, from where we are now?  \n",
    "\n",
    "We will need to know what node are reachable from the current node. We may need to remember where we've come from, so we don't hop back.  \n",
    "\n",
    "If the graph has directionality (some are always both directional along every edge), and/or if it's weighted, how will we register this information for the various algorithms to make sense of?"
   ]
  },
  {
   "cell_type": "markdown",
   "id": "6cf90318-79eb-4d1e-bb0a-3a01c0f12ed5",
   "metadata": {},
   "source": [
    "Let's consider some articles: \n",
    "\n",
    "* [Graph Basics Contributed by: Ruchi Nayyar](https://www.mygreatlearning.com/blog/representing-graphs-in-data-structures/)\n",
    "\n",
    "* [Representing Graph Data Structures by Jackson Gilkey](https://towardsdatascience.com/representing-graph-data-structures-6e3c19ccd677)\n",
    "\n",
    "* [Weighted Graphs at Emory](https://www.mathcs.emory.edu/~cheung/Courses/171/Syllabus/11-Graph/weighted.html)"
   ]
  },
  {
   "cell_type": "markdown",
   "id": "abd7ef30-7037-4096-b372-e8e82b534af2",
   "metadata": {},
   "source": [
    "A graph can be represented using 3 data structures: \n",
    "\n",
    "* adjacency matrix\n",
    "* adjacency list\n",
    "* adjacency set"
   ]
  },
  {
   "cell_type": "markdown",
   "id": "75877ca6-d428-4c91-be6c-858588618def",
   "metadata": {},
   "source": [
    "####  Adjacency Matrix\n",
    "\n",
    "This is one solution for storing both directionality and weighting. Think of a Cartesian product, or just product, pairing every element in a set with every other, including itself."
   ]
  },
  {
   "cell_type": "code",
   "execution_count": 1,
   "id": "655eaf95-a38b-4455-9279-281ce2d379ad",
   "metadata": {},
   "outputs": [],
   "source": [
    "import numpy as np\n",
    "import pandas as pd"
   ]
  },
  {
   "cell_type": "markdown",
   "id": "45486160-747c-4ea2-a59f-b40fc1b2806f",
   "metadata": {},
   "source": [
    "In an adjacency matrix, we're not looking for a product of row times column, but whether the two nodes are connected, yes or no.  \n",
    "\n",
    "If the idea is \"row to column\", then a 1 in (a, b) but not in (b, a) would mean traffic could only go in the (a, b) direction -- in which case we have our directionality.  \n",
    "\n",
    "Then if the nodes k, m are connected, they might have some number stored at W(k, m), not just 1 or 0.  A positive number would be the weight, whereas a 0 would mean the obvious: that a node is connected to only itself.\n",
    "\n",
    "Therefore an adjacency matrix might look like this, using random lengths, randomly interconnection some nodes."
   ]
  },
  {
   "cell_type": "code",
   "execution_count": 2,
   "id": "d1927153-6311-4af2-b716-9bc49cdbaa4d",
   "metadata": {},
   "outputs": [
    {
     "data": {
      "text/plain": [
       "array([[0, 0, 0, 3, 0],\n",
       "       [8, 0, 0, 0, 0],\n",
       "       [0, 0, 0, 9, 0],\n",
       "       [9, 0, 0, 0, 9],\n",
       "       [9, 0, 8, 0, 0]])"
      ]
     },
     "execution_count": 2,
     "metadata": {},
     "output_type": "execute_result"
    }
   ],
   "source": [
    "mult_table = np.random.randint(0, 10, (5, 5))\n",
    "graph_data = mult_table * np.random.randint(0, 2, (5,5), dtype = int)\n",
    "np.fill_diagonal(graph_data, 0)\n",
    "graph_data"
   ]
  },
  {
   "cell_type": "code",
   "execution_count": 3,
   "id": "823fb46b-bd17-46af-b701-fd10e94e3a51",
   "metadata": {},
   "outputs": [
    {
     "data": {
      "text/html": [
       "<div>\n",
       "<style scoped>\n",
       "    .dataframe tbody tr th:only-of-type {\n",
       "        vertical-align: middle;\n",
       "    }\n",
       "\n",
       "    .dataframe tbody tr th {\n",
       "        vertical-align: top;\n",
       "    }\n",
       "\n",
       "    .dataframe thead th {\n",
       "        text-align: right;\n",
       "    }\n",
       "</style>\n",
       "<table border=\"1\" class=\"dataframe\">\n",
       "  <thead>\n",
       "    <tr style=\"text-align: right;\">\n",
       "      <th></th>\n",
       "      <th>a</th>\n",
       "      <th>b</th>\n",
       "      <th>c</th>\n",
       "      <th>d</th>\n",
       "      <th>e</th>\n",
       "    </tr>\n",
       "  </thead>\n",
       "  <tbody>\n",
       "    <tr>\n",
       "      <th>a</th>\n",
       "      <td>0</td>\n",
       "      <td>0</td>\n",
       "      <td>0</td>\n",
       "      <td>3</td>\n",
       "      <td>0</td>\n",
       "    </tr>\n",
       "    <tr>\n",
       "      <th>b</th>\n",
       "      <td>8</td>\n",
       "      <td>0</td>\n",
       "      <td>0</td>\n",
       "      <td>0</td>\n",
       "      <td>0</td>\n",
       "    </tr>\n",
       "    <tr>\n",
       "      <th>c</th>\n",
       "      <td>0</td>\n",
       "      <td>0</td>\n",
       "      <td>0</td>\n",
       "      <td>9</td>\n",
       "      <td>0</td>\n",
       "    </tr>\n",
       "    <tr>\n",
       "      <th>d</th>\n",
       "      <td>9</td>\n",
       "      <td>0</td>\n",
       "      <td>0</td>\n",
       "      <td>0</td>\n",
       "      <td>9</td>\n",
       "    </tr>\n",
       "    <tr>\n",
       "      <th>e</th>\n",
       "      <td>9</td>\n",
       "      <td>0</td>\n",
       "      <td>8</td>\n",
       "      <td>0</td>\n",
       "      <td>0</td>\n",
       "    </tr>\n",
       "  </tbody>\n",
       "</table>\n",
       "</div>"
      ],
      "text/plain": [
       "   a  b  c  d  e\n",
       "a  0  0  0  3  0\n",
       "b  8  0  0  0  0\n",
       "c  0  0  0  9  0\n",
       "d  9  0  0  0  9\n",
       "e  9  0  8  0  0"
      ]
     },
     "execution_count": 3,
     "metadata": {},
     "output_type": "execute_result"
    }
   ],
   "source": [
    "graph_table = pd.DataFrame(data = graph_data, \n",
    "                           index = ['a', 'b', 'c', 'd', 'e'], \n",
    "                           columns = ['a','b', 'c', 'd', 'e'], dtype=int)\n",
    "\n",
    "graph_table"
   ]
  },
  {
   "cell_type": "markdown",
   "id": "9f764388-fa63-4ee4-8f62-9db1cde8baa8",
   "metadata": {},
   "source": [
    "####  Adjacency List\n",
    "\n",
    "An adjacency list might use (node1, node2) tuples, with node1 -> node2 the implied direction.  Store (node2, node1) for a route in the other direction.  Tuples are valid keys in a dictionary.  The values will be the weights of each road."
   ]
  },
  {
   "cell_type": "markdown",
   "id": "dec2fcbf-55f8-423c-9399-02e01cc1774d",
   "metadata": {},
   "source": [
    "Once we have selected our workaday data structure for the graph itself, we will need additional structures in order to accomplish Djikstra's algorithm.  \n",
    "\n",
    "For example, we will need a dictionary associating every node with a shortest distance attained for it so far.  We will also want lists of visted and unvisited nodes.\n",
    "\n",
    "Suppose we have selected the data structure below to represent our graph.  \n",
    "\n",
    "`('node0', node1'): weight` \n",
    "\n",
    "would be one item in our graph's dict."
   ]
  },
  {
   "cell_type": "code",
   "execution_count": 4,
   "id": "ed8b45b0-fd98-4e1a-bfa4-9d99c945434a",
   "metadata": {},
   "outputs": [],
   "source": [
    "G = {('a','b'): 5,\n",
    "     ('b','a'): 5,\n",
    "     ('b','c'): 6,\n",
    "     ('b','d'): 3,\n",
    "     ('d','e'): 1,\n",
    "     ('e','d'): 2,\n",
    "     ('e','a'): 5,\n",
    "     ('a','e'): 2}"
   ]
  },
  {
   "cell_type": "code",
   "execution_count": 6,
   "id": "28e759fb-6404-43dc-91cd-9f5011b828c9",
   "metadata": {},
   "outputs": [],
   "source": [
    "current = 'b'\n",
    "previous = 'a'\n",
    "f = filter(lambda pair: \n",
    "           (pair[0] == current) and \n",
    "           (pair[1] != previous), \n",
    "           G)"
   ]
  },
  {
   "cell_type": "code",
   "execution_count": 7,
   "id": "fd841e70-2139-47df-8fd6-c46c935a94a7",
   "metadata": {},
   "outputs": [
    {
     "data": {
      "text/plain": [
       "[('b', 'c'), ('b', 'd')]"
      ]
     },
     "execution_count": 7,
     "metadata": {},
     "output_type": "execute_result"
    }
   ],
   "source": [
    "list(f)"
   ]
  },
  {
   "cell_type": "code",
   "execution_count": 8,
   "id": "33aaf198-7a0f-4627-903d-f2612e6174ae",
   "metadata": {},
   "outputs": [],
   "source": [
    "def get_next(current: str, previous: str, G: dict) -> list:\n",
    "    results = []\n",
    "    f = filter(lambda pair: (pair[0] == current) and (pair[1] != previous), G)\n",
    "    for e in f:\n",
    "        results.append((e, G[e]))\n",
    "    return sorted(results, key=lambda p: p[1])  # sort by ascending weight"
   ]
  },
  {
   "cell_type": "code",
   "execution_count": 10,
   "id": "da9f0ba7-8d5c-4595-a827-7b9e7ff4ed5a",
   "metadata": {},
   "outputs": [
    {
     "data": {
      "text/plain": [
       "[(('b', 'd'), 3), (('b', 'c'), 6)]"
      ]
     },
     "execution_count": 10,
     "metadata": {},
     "output_type": "execute_result"
    }
   ],
   "source": [
    "get_next('b', 'a', G)"
   ]
  },
  {
   "cell_type": "code",
   "execution_count": 11,
   "id": "2ad0e4d5-e75c-4940-8f7a-0ff8cef7d228",
   "metadata": {},
   "outputs": [],
   "source": [
    "def get_nodes(G:dict) -> list:\n",
    "    the_nodes = [ ]\n",
    "    # more code goes here\n",
    "    return the_nodes"
   ]
  },
  {
   "cell_type": "markdown",
   "id": "1238ac02-3b47-4a9b-ab07-4d8d000ce24c",
   "metadata": {},
   "source": [
    "### How Do We Represent Polyhedrons?\n",
    "\n",
    "The data structure for a polyhedron often starts with faces as a list of nodes.  We go around the face in order, clockwise or counter-clockwise.  Does it matter in which way?  It might.  To be clear, clockwise looking from the outside in is the same as counterclockwise looking from inside out.\n",
    "\n",
    "Given faces are nodes in a ring, that last node connects the the first.\n",
    "\n",
    "From faces we may distill edges, e.g. if a face is (a, b, c, d) then the edges used would be (a, b) (b, c), (c, d) and (a, d).  Keeping edge pairs unique may involve keeping them alphabetical e.g. store (a, b) only as (a, b) and not as (b, a). If what we have is a directed graph, this design might change.\n",
    "\n",
    "The nodes themselves get to be vectors with tails at the origin i.e. if edge (a, b) is a segment between two vectors, then a and b are both vectors with tails at the origin and with tips at points a and b respectively.\n",
    "\n",
    "With this apparatus in place we're ready to:\n",
    "\n",
    "* scale a polyhedron (grow and shrink the vectors)\n",
    "* rotate a polyhedron (rotate each of the vectors)\n",
    "* write the polyhedron in POV-Ray scene description language\n",
    "\n"
   ]
  },
  {
   "cell_type": "markdown",
   "id": "b99d740a-dcb0-41eb-a2f4-51f48f8f5a76",
   "metadata": {},
   "source": [
    "## Djikstra's Algorithm for Minimizing Path Weights\n",
    "\n",
    "The following dp data structures will be needed:\n",
    "\n",
    "* shortest path so far, per node e.g. shortest = `{'s':0, 'a':100000000, 'b':100000000 ...}`\n",
    "* nodes already visited e.g. `{'s', 'a', 'c'}`\n",
    "* nodes yet to be visted e.g. `{'b', 'd', 'f'}`\n",
    "* previous nodes, when updating a shortest path e.g. `previous['d'] = 'c'`\n",
    "\n",
    "Then perform the following steps until the yet to be visited set is empty:\n",
    "\n",
    "1. choose a node with lowest distance from the start node (which is S itself to get going) and make this the new start node\n",
    "2. visit all of that start node's neighors, obeying directionality if this is a digraph\n",
    "3. if a visited node's \"shortest path on file\" is greater than start node + hop (weight), replace shortest on file\" for the visited node, and record the current starting node as the associated previous node i.e. \"hopped from where\".\n",
    "4. place the current node in \"visited\" and remove it from unvisited. Reminder: a node is \"visited\" *not* when first landed upon, but *only after* all of its next neighbors have been visited, i.e. it has featured as a start node itself (step 2)\n",
    "5. return to step one until all nodes have been visited\n",
    "\n",
    "<a data-flickr-embed=\"true\" href=\"https://www.flickr.com/photos/kirbyurner/52046115336/in/dateposted-public/\" title=\"Our Graph\"><img src=\"https://live.staticflickr.com/65535/52046115336_e34c61bd74_z.jpg\" width=\"640\" height=\"480\" alt=\"Our Graph\"></a><script async src=\"//embedr.flickr.com/assets/client-code.js\" charset=\"utf-8\"></script>\n",
    "\n",
    "This is the messed up version, after the double arrows got added to make the point that a directed graph could have different weights in the opposite directions.  Lets look more closely at the graph we started with.\n",
    "\n",
    "<a data-flickr-embed=\"true\" href=\"https://www.flickr.com/photos/kirbyurner/52048920660/in/dateposted-public/\" title=\"djikstra_graph\"><img src=\"https://live.staticflickr.com/65535/52048920660_29f8d4c788_z.jpg\" width=\"640\" height=\"485\" alt=\"djikstra_graph\"></a><script async src=\"//embedr.flickr.com/assets/client-code.js\" charset=\"utf-8\"></script>\n",
    "\n",
    "Now let's look at the above graph as a data structure.  Another option would be an adjacency matrix."
   ]
  },
  {
   "cell_type": "code",
   "execution_count": 12,
   "id": "dadc8a56-a17a-4546-9bea-d191d03be27f",
   "metadata": {},
   "outputs": [],
   "source": [
    "# for debugging and reimporting (workflow loop)\n",
    "# import djikstra\n",
    "# import imp\n",
    "# imp.reload(djikstra)"
   ]
  },
  {
   "cell_type": "code",
   "execution_count": 13,
   "id": "4ec61fdb-8d80-496f-ad03-453083a3a789",
   "metadata": {},
   "outputs": [],
   "source": [
    "from djikstra import Solution"
   ]
  },
  {
   "cell_type": "code",
   "execution_count": 14,
   "id": "b8efa1b3-7052-4b05-b74a-240647d7ed3b",
   "metadata": {},
   "outputs": [],
   "source": [
    "G = \\\n",
    "{('s','a'): 1,\n",
    " ('s','c'): 3,\n",
    " ('a','b'): 5,\n",
    " ('c','b'): 1,\n",
    " ('c','d'): 7,\n",
    " ('b','d'): 4,\n",
    " ('d','f'): 5,\n",
    " ('b','f'): 8}\n",
    "\n",
    "infinity = int(1e8)"
   ]
  },
  {
   "cell_type": "code",
   "execution_count": 15,
   "id": "c3f6ea71-94b4-4395-a5c7-c301f013cf36",
   "metadata": {},
   "outputs": [
    {
     "data": {
      "text/plain": [
       "{'a', 'b', 'c', 'd', 'f'}"
      ]
     },
     "execution_count": 15,
     "metadata": {},
     "output_type": "execute_result"
    }
   ],
   "source": [
    "sol = Solution(G)\n",
    "sol.not_visited"
   ]
  },
  {
   "cell_type": "code",
   "execution_count": 16,
   "id": "63c3ad6b-192d-47db-a3c2-d9aa0a714336",
   "metadata": {},
   "outputs": [
    {
     "data": {
      "text/plain": [
       "{'s'}"
      ]
     },
     "execution_count": 16,
     "metadata": {},
     "output_type": "execute_result"
    }
   ],
   "source": [
    "sol.visited"
   ]
  },
  {
   "cell_type": "code",
   "execution_count": 17,
   "id": "41521034-fbaf-4ded-8f01-df99e85a4b2d",
   "metadata": {},
   "outputs": [
    {
     "data": {
      "text/plain": [
       "[('a', 1), ('c', 3)]"
      ]
     },
     "execution_count": 17,
     "metadata": {},
     "output_type": "execute_result"
    }
   ],
   "source": [
    "sol.get_neighbors('s')"
   ]
  },
  {
   "cell_type": "code",
   "execution_count": 18,
   "id": "27cf0092-49b6-4064-aaea-8384dc3e686e",
   "metadata": {},
   "outputs": [
    {
     "name": "stdout",
     "output_type": "stream",
     "text": [
      "Next to check: s(0) \n",
      "Neighbors of s: [('a', 1), ('c', 3)]\n",
      "s(1) --> a(100000000)\n",
      "Updating a with old dist=100000000 with shorter 1, prev = s\n",
      "s(3) --> c(100000000)\n",
      "Updating c with old dist=100000000 with shorter 3, prev = s\n",
      "s has now been visited, removing from not_visited\n",
      "Visited:  {'s'}\n",
      "Not Visited:  {'d', 'a', 'c', 'b', 'f'}\n",
      "Next to check: a(1) \n",
      "Neighbors of a: [('b', 5), ('s', 1)]\n",
      "a(6) --> b(100000000)\n",
      "Updating b with old dist=100000000 with shorter 6, prev = a\n",
      "a(2) --> s(0)\n",
      "a has now been visited, removing from not_visited\n",
      "Visited:  {'a', 's'}\n",
      "Not Visited:  {'d', 'c', 'b', 'f'}\n",
      "Next to check: c(3) \n",
      "Neighbors of c: [('b', 1), ('d', 7), ('s', 3)]\n",
      "c(4) --> b(6)\n",
      "Updating b with old dist=6 with shorter 4, prev = c\n",
      "c(10) --> d(100000000)\n",
      "Updating d with old dist=100000000 with shorter 10, prev = c\n",
      "c(6) --> s(0)\n",
      "c has now been visited, removing from not_visited\n",
      "Visited:  {'a', 'c', 's'}\n",
      "Not Visited:  {'d', 'b', 'f'}\n",
      "Next to check: b(4) \n",
      "Neighbors of b: [('d', 4), ('f', 8), ('a', 5), ('c', 1)]\n",
      "b(8) --> d(10)\n",
      "Updating d with old dist=10 with shorter 8, prev = b\n",
      "b(12) --> f(100000000)\n",
      "Updating f with old dist=100000000 with shorter 12, prev = b\n",
      "b(9) --> a(1)\n",
      "b(5) --> c(3)\n",
      "b has now been visited, removing from not_visited\n",
      "Visited:  {'a', 'c', 'b', 's'}\n",
      "Not Visited:  {'d', 'f'}\n",
      "Next to check: d(8) \n",
      "Neighbors of d: [('f', 5), ('c', 7), ('b', 4)]\n",
      "d(13) --> f(12)\n",
      "d(15) --> c(3)\n",
      "d(12) --> b(4)\n",
      "d has now been visited, removing from not_visited\n",
      "Visited:  {'d', 'a', 'c', 'b', 's'}\n",
      "Not Visited:  {'f'}\n",
      "Next to check: f(12) \n",
      "Neighbors of f: [('d', 5), ('b', 8)]\n",
      "f(17) --> d(8)\n",
      "f(20) --> b(4)\n",
      "f has now been visited, removing from not_visited\n",
      "Visited:  {'d', 'a', 'c', 'b', 'f', 's'}\n",
      "Not Visited:  set()\n",
      "Done\n"
     ]
    }
   ],
   "source": [
    "sol.main()"
   ]
  },
  {
   "cell_type": "code",
   "execution_count": 19,
   "id": "cc9e2272-0d3a-44f1-bce4-56459d9a45e0",
   "metadata": {},
   "outputs": [
    {
     "data": {
      "text/plain": [
       "{'d': 8, 'a': 1, 'c': 3, 'b': 4, 'f': 12, 's': 0}"
      ]
     },
     "execution_count": 19,
     "metadata": {},
     "output_type": "execute_result"
    }
   ],
   "source": [
    "sol.shortest"
   ]
  },
  {
   "cell_type": "code",
   "execution_count": 20,
   "id": "3f6e1859-4cdc-4dfd-94d0-343f94334275",
   "metadata": {},
   "outputs": [
    {
     "data": {
      "text/plain": [
       "{'a': 's', 'c': 's', 'b': 'c', 'd': 'b', 'f': 'b'}"
      ]
     },
     "execution_count": 20,
     "metadata": {},
     "output_type": "execute_result"
    }
   ],
   "source": [
    "sol.previous"
   ]
  },
  {
   "cell_type": "code",
   "execution_count": 21,
   "id": "74a4b872-7bf1-4418-b5f5-fc0af3e6576e",
   "metadata": {},
   "outputs": [
    {
     "data": {
      "text/plain": [
       "(12, ['f', 'b', 'c', 's'])"
      ]
     },
     "execution_count": 21,
     "metadata": {},
     "output_type": "execute_result"
    }
   ],
   "source": [
    "sol.get_shortest('f')"
   ]
  }
 ],
 "metadata": {
  "kernelspec": {
   "display_name": "Python 3 (ipykernel)",
   "language": "python",
   "name": "python3"
  },
  "language_info": {
   "codemirror_mode": {
    "name": "ipython",
    "version": 3
   },
   "file_extension": ".py",
   "mimetype": "text/x-python",
   "name": "python",
   "nbconvert_exporter": "python",
   "pygments_lexer": "ipython3",
   "version": "3.9.12"
  }
 },
 "nbformat": 4,
 "nbformat_minor": 5
}
