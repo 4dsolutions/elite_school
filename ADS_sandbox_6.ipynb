{
 "cells": [
  {
   "cell_type": "markdown",
   "id": "53202a96-60e8-4c8e-88f6-2a1b7850dc2c",
   "metadata": {},
   "source": [
    "##### Algorithms and Data Structures (Winter - Spring 2022)\n",
    "\n",
    "\n",
    "* [Table of Contents](ADS_TOC.ipynb)\n",
    "* <a href=\"https://colab.research.google.com/github/4dsolutions/elite_school/blob/master/ADS_sandbox_6.ipynb\"><img align=\"left\" src=\"https://colab.research.google.com/assets/colab-badge.svg\" alt=\"Open in Colab\" title=\"Open and Execute in Google Colaboratory\"></a>\n",
    "* [![nbviewer](https://raw.githubusercontent.com/jupyter/design/master/logos/Badges/nbviewer_badge.svg)](https://nbviewer.org/github/4dsolutions/elite_school/blob/master/ADS_sandbox_6.ipynb)"
   ]
  },
  {
   "cell_type": "markdown",
   "id": "fe5582c1-b9c1-43c0-8cbb-3778d332b7a3",
   "metadata": {
    "tags": []
   },
   "source": [
    "*Lets talk more about...*\n",
    "# Graph Theory\n",
    "\n",
    "FAQ: \n",
    "* Q: What is a graph? <br /> \n",
    "  A: Nodes connected by edges.\n",
    "* Q: Is a polyhedron a graph? <br />A: Yes, by some definitions.\n",
    "* Q: What terminology applies, pertaining to Graphs? <br /> \n",
    "  A: I'm so glad you asked.\n",
    "\n",
    "What computer scientists often talk about, in connection with Graph Theory, are road and rail networks.  Roads come together at intersections, which are sometimes traffic circles.  Rail roads have switches and round houses, allowing trains to access all the connected tracks, even if they must reverse direction to do so sometimes.\n",
    "\n",
    "In thinking about road and rail, we also think about direction.  A directed graph tells us in which direction a road runs, perhaps in both, perhaps not. Ditto with railways.  \n",
    "\n",
    "Perhaps a route is one way north to south for some hours, and south to north at other hours.  Freeways with extra express lanes may change their directionality to coincide with rush hour requirements.\n",
    "\n",
    "A final factor we will consider is \"weight\" which can mean a lot of things, such as distance.  \n",
    "\n",
    "However \"weight\" may fold in many more measurements than simply \"time between nodes\" at a certain speed.  \n",
    "\n",
    "Regarding the \"weightiness\" of a Route:\n",
    "\n",
    "* How twisty is this road? \n",
    "* Do wild animals suddenly appear in the headlights?\n",
    "* What about the number of lanes?  \n",
    "* How stressful is this road to drive?  \n",
    "* Does this road have any gas stops or other facilities?\n",
    "* Does this road feature steep drop offs with no guard rails?  \n",
    "\n",
    "One might imagine a long checklist of criteria, adding up to what we would call a segment's score.  \n",
    "\n",
    "Once we have a score associated with each edge, we're ready to apply such algorithm's as Djikstra's.\n",
    "\n",
    "Djikstra's Algorithm is about minizine the total weight between any starting node, and every other node in the network."
   ]
  },
  {
   "cell_type": "markdown",
   "id": "00a05075-d20a-49e3-a35d-f3a6804c2668",
   "metadata": {},
   "source": [
    "#### Representing Graph Data Structures\n",
    "\n",
    "However, before we start implementing the repeating steps of the Djikstra Algorithm, or other algorithms, we need a way to store and retrieve graph representations.  \n",
    "\n",
    "How will we tell ourselves what nodes could be next, from where we are now?  \n",
    "\n",
    "We will need to know what node are reachable from the current node. We may need to remember where we've come from, so we don't hop back.  \n",
    "\n",
    "If the graph has directionality (some are always both directional along every edge), and/or if it's weighted, how will we register this information for the various algorithms to make sense of?"
   ]
  },
  {
   "cell_type": "markdown",
   "id": "6cf90318-79eb-4d1e-bb0a-3a01c0f12ed5",
   "metadata": {},
   "source": [
    "Let's consider some articles: \n",
    "\n",
    "* [Graph Basics Contributed by: Ruchi Nayyar](https://www.mygreatlearning.com/blog/representing-graphs-in-data-structures/)\n",
    "\n",
    "* [Representing Graph Data Structures by Jackson Gilkey](https://towardsdatascience.com/representing-graph-data-structures-6e3c19ccd677)\n",
    "\n",
    "* [Weighted Graphs at Emory](https://www.mathcs.emory.edu/~cheung/Courses/171/Syllabus/11-Graph/weighted.html)\n",
    "\n",
    "* [New Insights on the Power of Graphs](https://towardsdatascience.com/new-insights-on-the-power-of-graphs-48ad39f61307)\n",
    "\n",
    "* [Graph Traversal at Wikipedia](https://en.wikipedia.org/wiki/Graph_traversal)\n",
    "\n",
    "* [Graph Algorithms at Wikipedia](https://en.wikipedia.org/wiki/Category:Graph_algorithms)\n",
    "\n",
    "* [Journal of Graph Algorithms and Applications](https://jgaa.info/)"
   ]
  },
  {
   "cell_type": "code",
   "execution_count": 1,
   "id": "29a49a3e-10cd-4888-8061-f5245ab43af3",
   "metadata": {},
   "outputs": [],
   "source": [
    "from IPython.display import YouTubeVideo"
   ]
  },
  {
   "cell_type": "code",
   "execution_count": 46,
   "id": "cd00a2c3-47c7-4245-a2cf-f648d12b0437",
   "metadata": {},
   "outputs": [],
   "source": [
    "# https://youtu.be/RqQBh_Wbcu4  to embed"
   ]
  },
  {
   "cell_type": "markdown",
   "id": "abd7ef30-7037-4096-b372-e8e82b534af2",
   "metadata": {},
   "source": [
    "A graph can be represented using 3 data structures: \n",
    "\n",
    "* adjacency matrix\n",
    "* adjacency list\n",
    "* adjacency set"
   ]
  },
  {
   "cell_type": "markdown",
   "id": "75877ca6-d428-4c91-be6c-858588618def",
   "metadata": {},
   "source": [
    "####  Adjacency Matrix\n",
    "\n",
    "This is one solution for storing both directionality and weighting. Think of a Cartesian product, or just product, pairing every element in a set with every other, including itself."
   ]
  },
  {
   "cell_type": "code",
   "execution_count": 47,
   "id": "655eaf95-a38b-4455-9279-281ce2d379ad",
   "metadata": {},
   "outputs": [],
   "source": [
    "import numpy as np\n",
    "import pandas as pd"
   ]
  },
  {
   "cell_type": "markdown",
   "id": "45486160-747c-4ea2-a59f-b40fc1b2806f",
   "metadata": {},
   "source": [
    "In an adjacency matrix, we're not looking for a product of row times column, but whether the two nodes are connected, yes or no.  \n",
    "\n",
    "If the idea is \"row to column\", then a 1 in (a, b) but not in (b, a) would mean traffic could only go in the (a, b) direction -- in which case we have our directionality.  \n",
    "\n",
    "Then if the nodes k, m are connected, they might have some number stored at W(k, m), not just 1 or 0.  A positive number would be the weight, whereas a 0 would mean the obvious: that a node is connected to only itself.\n",
    "\n",
    "Therefore an adjacency matrix might look like this, using random lengths, randomly interconnection some nodes."
   ]
  },
  {
   "cell_type": "code",
   "execution_count": 48,
   "id": "d1927153-6311-4af2-b716-9bc49cdbaa4d",
   "metadata": {},
   "outputs": [
    {
     "data": {
      "text/plain": [
       "array([[0, 0, 0, 0, 0],\n",
       "       [0, 0, 9, 4, 7],\n",
       "       [0, 3, 0, 0, 5],\n",
       "       [2, 6, 0, 0, 0],\n",
       "       [3, 1, 0, 0, 0]])"
      ]
     },
     "execution_count": 48,
     "metadata": {},
     "output_type": "execute_result"
    }
   ],
   "source": [
    "mult_table = np.random.randint(0, 10, (5, 5))\n",
    "graph_data = mult_table * np.random.randint(0, 2, (5,5), dtype = int)\n",
    "np.fill_diagonal(graph_data, 0)\n",
    "graph_data"
   ]
  },
  {
   "cell_type": "code",
   "execution_count": 49,
   "id": "823fb46b-bd17-46af-b701-fd10e94e3a51",
   "metadata": {},
   "outputs": [
    {
     "data": {
      "text/html": [
       "<div>\n",
       "<style scoped>\n",
       "    .dataframe tbody tr th:only-of-type {\n",
       "        vertical-align: middle;\n",
       "    }\n",
       "\n",
       "    .dataframe tbody tr th {\n",
       "        vertical-align: top;\n",
       "    }\n",
       "\n",
       "    .dataframe thead th {\n",
       "        text-align: right;\n",
       "    }\n",
       "</style>\n",
       "<table border=\"1\" class=\"dataframe\">\n",
       "  <thead>\n",
       "    <tr style=\"text-align: right;\">\n",
       "      <th></th>\n",
       "      <th>a</th>\n",
       "      <th>b</th>\n",
       "      <th>c</th>\n",
       "      <th>d</th>\n",
       "      <th>e</th>\n",
       "    </tr>\n",
       "  </thead>\n",
       "  <tbody>\n",
       "    <tr>\n",
       "      <th>a</th>\n",
       "      <td>0</td>\n",
       "      <td>0</td>\n",
       "      <td>0</td>\n",
       "      <td>0</td>\n",
       "      <td>0</td>\n",
       "    </tr>\n",
       "    <tr>\n",
       "      <th>b</th>\n",
       "      <td>0</td>\n",
       "      <td>0</td>\n",
       "      <td>9</td>\n",
       "      <td>4</td>\n",
       "      <td>7</td>\n",
       "    </tr>\n",
       "    <tr>\n",
       "      <th>c</th>\n",
       "      <td>0</td>\n",
       "      <td>3</td>\n",
       "      <td>0</td>\n",
       "      <td>0</td>\n",
       "      <td>5</td>\n",
       "    </tr>\n",
       "    <tr>\n",
       "      <th>d</th>\n",
       "      <td>2</td>\n",
       "      <td>6</td>\n",
       "      <td>0</td>\n",
       "      <td>0</td>\n",
       "      <td>0</td>\n",
       "    </tr>\n",
       "    <tr>\n",
       "      <th>e</th>\n",
       "      <td>3</td>\n",
       "      <td>1</td>\n",
       "      <td>0</td>\n",
       "      <td>0</td>\n",
       "      <td>0</td>\n",
       "    </tr>\n",
       "  </tbody>\n",
       "</table>\n",
       "</div>"
      ],
      "text/plain": [
       "   a  b  c  d  e\n",
       "a  0  0  0  0  0\n",
       "b  0  0  9  4  7\n",
       "c  0  3  0  0  5\n",
       "d  2  6  0  0  0\n",
       "e  3  1  0  0  0"
      ]
     },
     "execution_count": 49,
     "metadata": {},
     "output_type": "execute_result"
    }
   ],
   "source": [
    "graph_table = pd.DataFrame(data = graph_data, \n",
    "                           index = ['a', 'b', 'c', 'd', 'e'], \n",
    "                           columns = ['a','b', 'c', 'd', 'e'], dtype=int)\n",
    "\n",
    "graph_table"
   ]
  },
  {
   "cell_type": "markdown",
   "id": "9f764388-fa63-4ee4-8f62-9db1cde8baa8",
   "metadata": {},
   "source": [
    "####  Adjacency List\n",
    "\n",
    "An adjacency list might use (node1, node2) tuples, with node1 -> node2 the implied direction.  Store (node2, node1) for a route in the other direction.  Tuples are valid keys in a dictionary.  The values will be the weights of each road."
   ]
  },
  {
   "cell_type": "markdown",
   "id": "dec2fcbf-55f8-423c-9399-02e01cc1774d",
   "metadata": {},
   "source": [
    "Once we have selected our workaday data structure for the graph itself, we will need additional structures in order to accomplish Djikstra's algorithm.  \n",
    "\n",
    "For example, we will need a dictionary associating every node with a shortest distance attained for it so far.  We will also want lists of visted and unvisited nodes.\n",
    "\n",
    "Suppose we have selected the data structure below to represent our graph.  \n",
    "\n",
    "`('node0', node1'): weight` \n",
    "\n",
    "would be one item in our graph's dict."
   ]
  },
  {
   "cell_type": "code",
   "execution_count": 50,
   "id": "ed8b45b0-fd98-4e1a-bfa4-9d99c945434a",
   "metadata": {},
   "outputs": [],
   "source": [
    "G = {('a','b'): 5,\n",
    "     ('b','a'): 5,\n",
    "     ('b','c'): 6,\n",
    "     ('b','d'): 3,\n",
    "     ('d','e'): 1,\n",
    "     ('e','d'): 2,\n",
    "     ('e','a'): 5,\n",
    "     ('a','e'): 2}"
   ]
  },
  {
   "cell_type": "code",
   "execution_count": 51,
   "id": "28e759fb-6404-43dc-91cd-9f5011b828c9",
   "metadata": {},
   "outputs": [],
   "source": [
    "current = 'b'\n",
    "previous = 'a'\n",
    "f = filter(lambda pair: \n",
    "           (pair[0] == current) and \n",
    "           (pair[1] != previous), \n",
    "           G)"
   ]
  },
  {
   "cell_type": "code",
   "execution_count": 52,
   "id": "fd841e70-2139-47df-8fd6-c46c935a94a7",
   "metadata": {},
   "outputs": [
    {
     "data": {
      "text/plain": [
       "[('b', 'c'), ('b', 'd')]"
      ]
     },
     "execution_count": 52,
     "metadata": {},
     "output_type": "execute_result"
    }
   ],
   "source": [
    "list(f)"
   ]
  },
  {
   "cell_type": "code",
   "execution_count": 53,
   "id": "33aaf198-7a0f-4627-903d-f2612e6174ae",
   "metadata": {},
   "outputs": [],
   "source": [
    "def get_next(current: str, previous: str, G: dict) -> list:\n",
    "    results = []\n",
    "    f = filter(lambda pair: (pair[0] == current) and (pair[1] != previous), G)\n",
    "    for e in f:\n",
    "        results.append((e, G[e]))\n",
    "    return sorted(results, key=lambda p: p[1])  # sort by ascending weight"
   ]
  },
  {
   "cell_type": "code",
   "execution_count": 54,
   "id": "da9f0ba7-8d5c-4595-a827-7b9e7ff4ed5a",
   "metadata": {},
   "outputs": [
    {
     "data": {
      "text/plain": [
       "[(('b', 'd'), 3), (('b', 'c'), 6)]"
      ]
     },
     "execution_count": 54,
     "metadata": {},
     "output_type": "execute_result"
    }
   ],
   "source": [
    "get_next('b', 'a', G)"
   ]
  },
  {
   "cell_type": "code",
   "execution_count": 55,
   "id": "2ad0e4d5-e75c-4940-8f7a-0ff8cef7d228",
   "metadata": {},
   "outputs": [],
   "source": [
    "def get_nodes(G:dict) -> list:\n",
    "    the_nodes = [ ]\n",
    "    # more code goes here\n",
    "    return the_nodes"
   ]
  },
  {
   "cell_type": "markdown",
   "id": "1238ac02-3b47-4a9b-ab07-4d8d000ce24c",
   "metadata": {},
   "source": [
    "### How Do We Represent Polyhedrons?\n",
    "\n",
    "The data structure for a polyhedron often starts with faces as a list of nodes.  We go around the face in order, clockwise or counter-clockwise.  Does it matter in which way?  It might.  To be clear, clockwise looking from the outside in is the same as counterclockwise looking from inside out.\n",
    "\n",
    "Given faces are nodes in a ring, that last node connects the the first.\n",
    "\n",
    "From faces we may distill edges, e.g. if a face is (a, b, c, d) then the edges used would be (a, b) (b, c), (c, d) and (a, d).  Keeping edge pairs unique may involve keeping them alphabetical e.g. store (a, b) only as (a, b) and not as (b, a). If what we have is a directed graph, this design might change.\n",
    "\n",
    "The nodes themselves get to be vectors with tails at the origin i.e. if edge (a, b) is a segment between two vectors, then a and b are both vectors with tails at the origin and with tips at points a and b respectively.\n",
    "\n",
    "With this apparatus in place we're ready to:\n",
    "\n",
    "* scale a polyhedron (grow and shrink the vectors)\n",
    "* rotate a polyhedron (rotate each of the vectors)\n",
    "* write the polyhedron in POV-Ray scene description language"
   ]
  },
  {
   "cell_type": "markdown",
   "id": "a5094727-45ce-4a08-8f00-f171ead85533",
   "metadata": {},
   "source": [
    "Additional Resources:\n",
    "\n",
    "* [Discovering Math With Python: Chapter 7 Polyhedrons](https://github.com/4dsolutions/Python5/blob/master/Polyhedrons.ipynb)\n",
    "* [Polyhedrons and SQL](https://github.com/4dsolutions/Python5/blob/master/Polyhedrons%20101.ipynb)\n",
    "* [Polyhedrons and Algorithms course outline](https://cs.uwaterloo.ca/~alubiw/polyhedra.html)\n",
    "* [The Winged Edge Data Structure](https://pages.mtu.edu/~shene/COURSES/cs3621/NOTES/model/winged-e.html)\n",
    "* [Antiprism by Adrian Rossiter](https://antiprism.com/)\n",
    "* [POV-Ray](https://www.povray.org)\n",
    "* [Oregon Curriculum Network](http://4dsolutions.net/ocn/cp4e.html)"
   ]
  },
  {
   "cell_type": "markdown",
   "id": "b99d740a-dcb0-41eb-a2f4-51f48f8f5a76",
   "metadata": {
    "tags": []
   },
   "source": [
    "## Djikstra's Algorithm for Minimizing Path Weights\n",
    "\n",
    "The following dp data structures will be needed:\n",
    "\n",
    "* shortest path so far, per node e.g. shortest = `{'s':0, 'a':100000000, 'b':100000000 ...}`\n",
    "* nodes already visited e.g. `{'s', 'a', 'c'}`\n",
    "* nodes yet to be visted e.g. `{'b', 'd', 'f'}`\n",
    "* previous nodes, when updating a shortest path e.g. `previous['d'] = 'c'`\n",
    "\n",
    "Then perform the following steps until the yet to be visited set is empty:\n",
    "\n",
    "1. choose a node with lowest distance from the start node (which is S itself to get going) and make this the new start node\n",
    "2. visit all of that start node's neighors, obeying directionality if this is a digraph\n",
    "3. if a visited node's \"shortest path on file\" is greater than start node + hop (weight), replace shortest on file\" for the visited node, and record the current starting node as the associated previous node i.e. \"hopped from where\".\n",
    "4. place the current node in \"visited\" and remove it from unvisited. Reminder: a node is \"visited\" *not* when first landed upon, but *only after* all of its next neighbors have been visited, i.e. it has featured as a start node itself (step 2)\n",
    "5. return to step one until all nodes have been visited\n",
    "\n",
    "<a data-flickr-embed=\"true\" href=\"https://www.flickr.com/photos/kirbyurner/52046115336/in/dateposted-public/\" title=\"Our Graph\"><img src=\"https://live.staticflickr.com/65535/52046115336_e34c61bd74_z.jpg\" width=\"640\" height=\"480\" alt=\"Our Graph\"></a><script async src=\"//embedr.flickr.com/assets/client-code.js\" charset=\"utf-8\"></script>\n",
    "\n",
    "This is the messed up version, after the double arrows got added to make the point that a directed graph could have different weights in the opposite directions.  Lets look more closely at the graph we started with.\n",
    "\n",
    "<a data-flickr-embed=\"true\" href=\"https://www.flickr.com/photos/kirbyurner/52048920660/in/dateposted-public/\" title=\"djikstra_graph\"><img src=\"https://live.staticflickr.com/65535/52048920660_29f8d4c788_z.jpg\" width=\"640\" height=\"485\" alt=\"djikstra_graph\"></a><script async src=\"//embedr.flickr.com/assets/client-code.js\" charset=\"utf-8\"></script>\n",
    "\n",
    "<a data-flickr-embed=\"true\" href=\"https://www.flickr.com/photos/kirbyurner/52053593766/in/dateposted-public/\" title=\"djikstra_zoom\"><img src=\"https://live.staticflickr.com/65535/52053593766_e3b1180ec1_z.jpg\" width=\"640\" height=\"455\" alt=\"djikstra_zoom\"></a><script async src=\"//embedr.flickr.com/assets/client-code.js\" charset=\"utf-8\"></script>\n",
    "\n",
    "Now let's look at the above graph as a data structure.  Another option would be an adjacency matrix."
   ]
  },
  {
   "cell_type": "code",
   "execution_count": 56,
   "id": "dadc8a56-a17a-4546-9bea-d191d03be27f",
   "metadata": {},
   "outputs": [],
   "source": [
    "# for debugging and reimporting (workflow loop)\n",
    "#import djikstra\n",
    "#import imp\n",
    "#imp.reload(djikstra)"
   ]
  },
  {
   "cell_type": "code",
   "execution_count": 57,
   "id": "95215eca-0bbd-4003-b3ad-cfcc6ab1ae7c",
   "metadata": {},
   "outputs": [],
   "source": [
    "G = {\n",
    "    ('s', 'a'): 1,\n",
    "    ('s', 'c'): 3,\n",
    "    ('c', 'd'): 7,\n",
    "    ('d', 'f'): 5,\n",
    "    ('c', 'b'): 1,\n",
    "    ('a', 'b'): 5,\n",
    "    ('b', 'f'): 8}"
   ]
  },
  {
   "cell_type": "code",
   "execution_count": 58,
   "id": "4ec61fdb-8d80-496f-ad03-453083a3a789",
   "metadata": {},
   "outputs": [],
   "source": [
    "from djikstra import Solution"
   ]
  },
  {
   "cell_type": "code",
   "execution_count": 59,
   "id": "c3f6ea71-94b4-4395-a5c7-c301f013cf36",
   "metadata": {},
   "outputs": [
    {
     "data": {
      "text/plain": [
       "{'a', 'b', 'c', 'd', 'f'}"
      ]
     },
     "execution_count": 59,
     "metadata": {},
     "output_type": "execute_result"
    }
   ],
   "source": [
    "sol = Solution(G)\n",
    "sol.not_visited"
   ]
  },
  {
   "cell_type": "code",
   "execution_count": 60,
   "id": "63c3ad6b-192d-47db-a3c2-d9aa0a714336",
   "metadata": {},
   "outputs": [
    {
     "data": {
      "text/plain": [
       "{'s'}"
      ]
     },
     "execution_count": 60,
     "metadata": {},
     "output_type": "execute_result"
    }
   ],
   "source": [
    "sol.visited"
   ]
  },
  {
   "cell_type": "code",
   "execution_count": 61,
   "id": "41521034-fbaf-4ded-8f01-df99e85a4b2d",
   "metadata": {},
   "outputs": [
    {
     "data": {
      "text/plain": [
       "[('a', 1), ('c', 3)]"
      ]
     },
     "execution_count": 61,
     "metadata": {},
     "output_type": "execute_result"
    }
   ],
   "source": [
    "sol.get_neighbors('s')"
   ]
  },
  {
   "cell_type": "code",
   "execution_count": 62,
   "id": "27cf0092-49b6-4064-aaea-8384dc3e686e",
   "metadata": {},
   "outputs": [
    {
     "name": "stdout",
     "output_type": "stream",
     "text": [
      "Next to check: s(0) \n",
      "Neighbors of s: [('a', 1), ('c', 3)]\n",
      "s(1) --> a(100000000)\n",
      "Updating a with old dist=100000000 with shorter 1, prev = s\n",
      "s(3) --> c(100000000)\n",
      "Updating c with old dist=100000000 with shorter 3, prev = s\n",
      "s has now been visited, removing from not_visited\n",
      "Visited:  {'s'}\n",
      "Not Visited:  {'b', 'f', 'a', 'd', 'c'}\n",
      "Next to check: a(1) \n",
      "Neighbors of a: [('b', 5)]\n",
      "a(6) --> b(100000000)\n",
      "Updating b with old dist=100000000 with shorter 6, prev = a\n",
      "a has now been visited, removing from not_visited\n",
      "Visited:  {'s', 'a'}\n",
      "Not Visited:  {'b', 'f', 'd', 'c'}\n",
      "Next to check: c(3) \n",
      "Neighbors of c: [('d', 7), ('b', 1)]\n",
      "c(10) --> d(100000000)\n",
      "Updating d with old dist=100000000 with shorter 10, prev = c\n",
      "c(4) --> b(6)\n",
      "Updating b with old dist=6 with shorter 4, prev = c\n",
      "c has now been visited, removing from not_visited\n",
      "Visited:  {'c', 's', 'a'}\n",
      "Not Visited:  {'b', 'f', 'd'}\n",
      "Next to check: b(4) \n",
      "Neighbors of b: [('f', 8)]\n",
      "b(12) --> f(100000000)\n",
      "Updating f with old dist=100000000 with shorter 12, prev = b\n",
      "b has now been visited, removing from not_visited\n",
      "Visited:  {'b', 'c', 's', 'a'}\n",
      "Not Visited:  {'f', 'd'}\n",
      "Next to check: d(10) \n",
      "Neighbors of d: [('f', 5)]\n",
      "d(15) --> f(12)\n",
      "d has now been visited, removing from not_visited\n",
      "Visited:  {'b', 's', 'a', 'd', 'c'}\n",
      "Not Visited:  {'f'}\n",
      "Next to check: f(12) \n",
      "Neighbors of f: []\n",
      "f has now been visited, removing from not_visited\n",
      "Visited:  {'b', 'f', 's', 'a', 'd', 'c'}\n",
      "Not Visited:  set()\n",
      "Done\n"
     ]
    }
   ],
   "source": [
    "sol.main()"
   ]
  },
  {
   "cell_type": "code",
   "execution_count": 63,
   "id": "cc9e2272-0d3a-44f1-bce4-56459d9a45e0",
   "metadata": {},
   "outputs": [
    {
     "data": {
      "text/plain": [
       "{'b': 4, 'f': 12, 'a': 1, 'd': 10, 'c': 3, 's': 0}"
      ]
     },
     "execution_count": 63,
     "metadata": {},
     "output_type": "execute_result"
    }
   ],
   "source": [
    "sol.shortest"
   ]
  },
  {
   "cell_type": "code",
   "execution_count": 64,
   "id": "3f6e1859-4cdc-4dfd-94d0-343f94334275",
   "metadata": {},
   "outputs": [
    {
     "data": {
      "text/plain": [
       "{'a': 's', 'c': 's', 'b': 'c', 'd': 'c', 'f': 'b'}"
      ]
     },
     "execution_count": 64,
     "metadata": {},
     "output_type": "execute_result"
    }
   ],
   "source": [
    "sol.previous"
   ]
  },
  {
   "cell_type": "code",
   "execution_count": 65,
   "id": "74a4b872-7bf1-4418-b5f5-fc0af3e6576e",
   "metadata": {},
   "outputs": [
    {
     "data": {
      "text/plain": [
       "(12, ['f', 'b', 'c', 's'])"
      ]
     },
     "execution_count": 65,
     "metadata": {},
     "output_type": "execute_result"
    }
   ],
   "source": [
    "sol.get_shortest('f')"
   ]
  },
  {
   "cell_type": "markdown",
   "id": "83e2f78f-1009-441d-b0fb-85bfe2fa0ee9",
   "metadata": {},
   "source": [
    "Further resources:\n",
    "\n",
    "[Single Source Shortest Paths: Djikstra's Algorithm](https://www.techiedelight.com/single-source-shortest-paths-dijkstras-algorithm/)\n",
    "\n",
    "[Student Python Solution](https://replit.com/@DaviTheDino/Djisktra#main.py)\n",
    "\n",
    "[Student Python Solution](https://replit.com/@AZSMagiC/Dijkstra#main.py)\n",
    "\n",
    "[Student C++ Solution](http://cpp.sh/8edmw)"
   ]
  },
  {
   "cell_type": "markdown",
   "id": "8f1b0b45-a162-4277-9f11-623d59e52a7b",
   "metadata": {},
   "source": [
    "## Prim's Algorithm for the Minimum Spanning Tree (no cycles)\n",
    "\n",
    "Prim's Algorithm, not unlike Djikstra's, involves paying attention to weights, and visited versus unvisited nodes. We also want to keep track of already visited edges.\n",
    "\n",
    "At any given point in the algorithm, we have all edges from visited to unvisted nodes to consider, when picking the lowest weight."
   ]
  },
  {
   "cell_type": "code",
   "execution_count": 67,
   "id": "ff421b2d-a7f3-40b6-943a-25c57921d17b",
   "metadata": {},
   "outputs": [
    {
     "data": {
      "image/jpeg": "[encoded data removed]",
      "text/html": [
       "\n",
       "        <iframe\n",
       "            width=\"400\"\n",
       "            height=\"300\"\n",
       "            src=\"https://www.youtube.com/embed/Uj47dxYPow8\"\n",
       "            frameborder=\"0\"\n",
       "            allowfullscreen\n",
       "            \n",
       "        ></iframe>\n",
       "        "
      ],
      "text/plain": [
       "<IPython.lib.display.YouTubeVideo at 0x12b217670>"
      ]
     },
     "execution_count": 67,
     "metadata": {},
     "output_type": "execute_result"
    }
   ],
   "source": [
    "YouTubeVideo(\"Uj47dxYPow8\")"
   ]
  },
  {
   "cell_type": "markdown",
   "id": "b027bde7-4a8d-4937-bc70-4f79f1abc2f0",
   "metadata": {},
   "source": [
    "\n",
    "\n",
    "<a data-flickr-embed=\"true\" href=\"https://www.flickr.com/photos/kirbyurner/52058112725/in/dateposted-public/\" title=\"prim_youtube\"><img src=\"https://live.staticflickr.com/65535/52058112725_8e06a77fcf_z.jpg\" width=\"640\" height=\"509\" alt=\"prim_youtube\"></a><script async src=\"//embedr.flickr.com/assets/client-code.js\" charset=\"utf-8\"></script>"
   ]
  },
  {
   "cell_type": "code",
   "execution_count": 68,
   "id": "39808e83-4a81-4807-8b0d-e245e7f7a6e9",
   "metadata": {},
   "outputs": [],
   "source": [
    "G = {\n",
    "('a', 'b'): 4,\n",
    "('a', 'h'): 8,\n",
    "('b', 'h'): 11,\n",
    "('b', 'c'): 8,\n",
    "('c', 'd'): 7,\n",
    "('c', 'i'): 2,\n",
    "('c', 'f'): 4,\n",
    "('d', 'f'): 14,\n",
    "('d', 'e'): 9,\n",
    "('h', 'g'): 1,\n",
    "('h', 'i'): 7,\n",
    "('i', 'g'): 6,\n",
    "('g', 'f'): 2,\n",
    "('f', 'e'): 10,\n",
    "}"
   ]
  },
  {
   "cell_type": "code",
   "execution_count": 69,
   "id": "e9818beb-6be4-478c-9dcd-87cdb9dea253",
   "metadata": {},
   "outputs": [
    {
     "data": {
      "text/plain": [
       "array([[ 0,  4,  0,  0,  0,  0,  0,  8,  0],\n",
       "       [ 4,  0,  8,  0,  0,  0,  0, 11,  0],\n",
       "       [ 0,  8,  0,  7,  0,  4,  0,  0,  2],\n",
       "       [ 0,  0,  7,  0,  9, 14,  0,  0,  0],\n",
       "       [ 0,  0,  0,  9,  0, 10,  0,  0,  0],\n",
       "       [ 0,  0,  4, 14, 10,  0,  2,  0,  0],\n",
       "       [ 0,  0,  0,  0,  0,  2,  0,  1,  6],\n",
       "       [ 8, 11,  0,  0,  0,  0,  1,  0,  7],\n",
       "       [ 0,  0,  2,  0,  0,  0,  6,  7,  0]])"
      ]
     },
     "execution_count": 69,
     "metadata": {},
     "output_type": "execute_result"
    }
   ],
   "source": [
    "G_matrix = np.zeros((9,9), dtype=int)\n",
    "verts = 'abcdefghi'\n",
    "for i, j in G:\n",
    "    w = G[(i, j)]\n",
    "    i = verts.index(i)\n",
    "    j = verts.index(j)\n",
    "    G_matrix[i][j] = w\n",
    "    G_matrix[j][i] = w\n",
    "G_matrix"
   ]
  },
  {
   "cell_type": "code",
   "execution_count": 70,
   "id": "e5c99660-1e82-4bcf-bf56-9c4955efc4d4",
   "metadata": {},
   "outputs": [
    {
     "data": {
      "text/plain": [
       "[[0, 4, 0, 0, 0, 0, 0, 8, 0],\n",
       " [4, 0, 8, 0, 0, 0, 0, 11, 0],\n",
       " [0, 8, 0, 7, 0, 4, 0, 0, 2],\n",
       " [0, 0, 7, 0, 9, 14, 0, 0, 0],\n",
       " [0, 0, 0, 9, 0, 10, 0, 0, 0],\n",
       " [0, 0, 4, 14, 10, 0, 2, 0, 0],\n",
       " [0, 0, 0, 0, 0, 2, 0, 1, 6],\n",
       " [8, 11, 0, 0, 0, 0, 1, 0, 7],\n",
       " [0, 0, 2, 0, 0, 0, 6, 7, 0]]"
      ]
     },
     "execution_count": 70,
     "metadata": {},
     "output_type": "execute_result"
    }
   ],
   "source": [
    "G_matrix.tolist()"
   ]
  },
  {
   "cell_type": "code",
   "execution_count": 71,
   "id": "f6dbe339-1716-47c1-a5fb-5e416a0fd386",
   "metadata": {},
   "outputs": [
    {
     "name": "stdout",
     "output_type": "stream",
     "text": [
      "{{0, 4, 0, 0, 0, 0, 0, 8, 0},\n",
      " {4, 0, 8, 0, 0, 0, 0, 11, 0},\n",
      " {0, 8, 0, 7, 0, 4, 0, 0, 2},\n",
      " {0, 0, 7, 0, 9, 14, 0, 0, 0},\n",
      " {0, 0, 0, 9, 0, 10, 0, 0, 0},\n",
      " {0, 0, 4, 14, 10, 0, 2, 0, 0},\n",
      " {0, 0, 0, 0, 0, 2, 0, 1, 6},\n",
      " {8, 11, 0, 0, 0, 0, 1, 0, 7},\n",
      " {0, 0, 2, 0, 0, 0, 6, 7, 0}}\n"
     ]
    }
   ],
   "source": [
    "G_str = str(\n",
    "    G_matrix.tolist()).\\\n",
    "    replace(\"[\",\"{\").replace(\"],\",\"},\\n\").replace(\"]]\",\"}}\")\n",
    "print(G_str)"
   ]
  },
  {
   "cell_type": "code",
   "execution_count": 72,
   "id": "fd1b568b-04b4-4874-8550-65554b21caa1",
   "metadata": {},
   "outputs": [],
   "source": [
    "#for debugging\n",
    "#import prim\n",
    "#import imp\n",
    "#imp.reload(prim)"
   ]
  },
  {
   "cell_type": "code",
   "execution_count": 73,
   "id": "fde9122e-d8ee-48b1-a770-d3bd35161523",
   "metadata": {},
   "outputs": [],
   "source": [
    "from prim import Solution"
   ]
  },
  {
   "cell_type": "code",
   "execution_count": 74,
   "id": "06e8ece3-21e3-4ed8-9a0e-558d3e8d815b",
   "metadata": {},
   "outputs": [],
   "source": [
    "s = Solution(G)"
   ]
  },
  {
   "cell_type": "code",
   "execution_count": 75,
   "id": "53d81bc0-9497-45f6-b22c-609993696332",
   "metadata": {},
   "outputs": [
    {
     "data": {
      "text/plain": [
       "{'a', 'b', 'c', 'd', 'e', 'f', 'g', 'h', 'i'}"
      ]
     },
     "execution_count": 75,
     "metadata": {},
     "output_type": "execute_result"
    }
   ],
   "source": [
    "s.nodes_not_visited"
   ]
  },
  {
   "cell_type": "code",
   "execution_count": 76,
   "id": "1ca14307-1dab-4a5c-ae64-90750cbb96b3",
   "metadata": {},
   "outputs": [
    {
     "data": {
      "text/plain": [
       "{('f', 'e'): 10, ('f', 'c'): 4, ('f', 'd'): 14, ('f', 'g'): 2}"
      ]
     },
     "execution_count": 76,
     "metadata": {},
     "output_type": "execute_result"
    }
   ],
   "source": [
    "s.get_neighbors('f')"
   ]
  },
  {
   "cell_type": "code",
   "execution_count": 77,
   "id": "46f45b5e-405c-472d-88a2-9d1877abf40c",
   "metadata": {},
   "outputs": [
    {
     "data": {
      "text/plain": [
       "{}"
      ]
     },
     "execution_count": 77,
     "metadata": {},
     "output_type": "execute_result"
    }
   ],
   "source": [
    "s.edges_available"
   ]
  },
  {
   "cell_type": "code",
   "execution_count": 78,
   "id": "aff2ce8f-152f-43d2-8ac7-364e6e7b545b",
   "metadata": {},
   "outputs": [],
   "source": [
    "s.get_lowest_edge()"
   ]
  },
  {
   "cell_type": "code",
   "execution_count": 79,
   "id": "324bc831-2bd2-4e23-8447-18fe92af9a39",
   "metadata": {},
   "outputs": [
    {
     "name": "stdout",
     "output_type": "stream",
     "text": [
      "Starting at a\n",
      "Neighbors: ['b', 'h']\n",
      "Possible edges: {('a', 'b'): 4, ('a', 'h'): 8}\n",
      "Visited:  {'a'}\n",
      "Adding next edge: ('a', 'b')\n",
      "Starting at b\n",
      "Neighbors: ['h', 'c']\n",
      "Possible edges: {('a', 'h'): 8, ('b', 'h'): 11, ('b', 'c'): 8}\n",
      "Visited:  {'b', 'a'}\n",
      "Adding next edge: ('a', 'h')\n",
      "Starting at h\n",
      "Neighbors: ['g', 'i']\n",
      "Possible edges: {('b', 'h'): 11, ('b', 'c'): 8, ('h', 'g'): 1, ('h', 'i'): 7}\n",
      "Visited:  {'b', 'a', 'h'}\n",
      "Adding next edge: ('h', 'g')\n",
      "Starting at g\n",
      "Neighbors: ['f', 'i']\n",
      "Possible edges: {('b', 'h'): 11, ('b', 'c'): 8, ('h', 'i'): 7, ('g', 'f'): 2, ('g', 'i'): 6}\n",
      "Visited:  {'g', 'b', 'a', 'h'}\n",
      "Adding next edge: ('g', 'f')\n",
      "Starting at f\n",
      "Neighbors: ['e', 'c', 'd']\n",
      "Possible edges: {('b', 'h'): 11, ('b', 'c'): 8, ('h', 'i'): 7, ('g', 'i'): 6, ('f', 'e'): 10, ('f', 'c'): 4, ('f', 'd'): 14}\n",
      "Visited:  {'b', 'f', 'a', 'h', 'g'}\n",
      "Adding next edge: ('f', 'c')\n",
      "Starting at c\n",
      "Neighbors: ['d', 'i']\n",
      "Possible edges: {('b', 'h'): 11, ('b', 'c'): 8, ('h', 'i'): 7, ('g', 'i'): 6, ('f', 'e'): 10, ('f', 'd'): 14, ('c', 'd'): 7, ('c', 'i'): 2}\n",
      "Visited:  {'b', 'f', 'a', 'h', 'g', 'c'}\n",
      "Adding next edge: ('c', 'i')\n",
      "Starting at i\n",
      "Neighbors: []\n",
      "Possible edges: {('b', 'h'): 11, ('b', 'c'): 8, ('h', 'i'): 7, ('g', 'i'): 6, ('f', 'e'): 10, ('f', 'd'): 14, ('c', 'd'): 7}\n",
      "Visited:  {'b', 'f', 'a', 'h', 'g', 'i', 'c'}\n",
      "Adding next edge: ('c', 'd')\n",
      "Starting at d\n",
      "Neighbors: ['e']\n",
      "Possible edges: {('b', 'h'): 11, ('b', 'c'): 8, ('h', 'i'): 7, ('g', 'i'): 6, ('f', 'e'): 10, ('f', 'd'): 14, ('d', 'e'): 9}\n",
      "Visited:  {'b', 'f', 'd', 'a', 'h', 'g', 'i', 'c'}\n",
      "Adding next edge: ('d', 'e')\n",
      "Starting at e\n",
      "Neighbors: []\n",
      "Possible edges: {('b', 'h'): 11, ('b', 'c'): 8, ('h', 'i'): 7, ('g', 'i'): 6, ('f', 'e'): 10, ('f', 'd'): 14}\n",
      "Visited:  {'b', 'e', 'f', 'd', 'a', 'h', 'g', 'i', 'c'}\n",
      "Done!\n"
     ]
    }
   ],
   "source": [
    "s.task()"
   ]
  },
  {
   "cell_type": "code",
   "execution_count": 80,
   "id": "202dd718-76c3-4092-b46d-b5a67bc7fd56",
   "metadata": {},
   "outputs": [
    {
     "data": {
      "text/plain": [
       "[('a', 'b'),\n",
       " ('a', 'h'),\n",
       " ('h', 'g'),\n",
       " ('g', 'f'),\n",
       " ('f', 'c'),\n",
       " ('c', 'i'),\n",
       " ('c', 'd'),\n",
       " ('d', 'e')]"
      ]
     },
     "execution_count": 80,
     "metadata": {},
     "output_type": "execute_result"
    }
   ],
   "source": [
    "s.path"
   ]
  },
  {
   "cell_type": "code",
   "execution_count": 81,
   "id": "aa56d4cf-5370-4d24-9c14-440a078cebda",
   "metadata": {},
   "outputs": [
    {
     "data": {
      "text/plain": [
       "37"
      ]
     },
     "execution_count": 81,
     "metadata": {},
     "output_type": "execute_result"
    }
   ],
   "source": [
    "total_cost = 0\n",
    "for e in s.path:\n",
    "    total_cost += G[e]\n",
    "total_cost"
   ]
  },
  {
   "cell_type": "code",
   "execution_count": 82,
   "id": "afef9170-7219-4d27-ad3e-826cb52a35e0",
   "metadata": {},
   "outputs": [
    {
     "data": {
      "text/plain": [
       "set()"
      ]
     },
     "execution_count": 82,
     "metadata": {},
     "output_type": "execute_result"
    }
   ],
   "source": [
    "s.nodes_not_visited"
   ]
  },
  {
   "cell_type": "code",
   "execution_count": 83,
   "id": "55f9a0a5-37fa-427e-94b2-d70bd09f77a3",
   "metadata": {},
   "outputs": [
    {
     "data": {
      "text/plain": [
       "{('b', 'h'): 11,\n",
       " ('b', 'c'): 8,\n",
       " ('h', 'i'): 7,\n",
       " ('g', 'i'): 6,\n",
       " ('f', 'e'): 10,\n",
       " ('f', 'd'): 14}"
      ]
     },
     "execution_count": 83,
     "metadata": {},
     "output_type": "execute_result"
    }
   ],
   "source": [
    "s.edges_available"
   ]
  },
  {
   "cell_type": "markdown",
   "id": "02c980f4-2dc5-45b1-996b-1c01d5dcbeb6",
   "metadata": {
    "tags": []
   },
   "source": [
    "\n",
    "<a data-flickr-embed=\"true\" href=\"https://www.flickr.com/photos/kirbyurner/52057807528/in/dateposted-public/\" title=\"prim_solved\"><img src=\"https://live.staticflickr.com/65535/52057807528_b0cec06fff_z.jpg\" width=\"640\" height=\"521\" alt=\"prim_solved\"></a><script async src=\"//embedr.flickr.com/assets/client-code.js\" charset=\"utf-8\"></script>\n"
   ]
  },
  {
   "cell_type": "markdown",
   "id": "0f6d49ec-a4df-4fd0-9a16-2984ce54877d",
   "metadata": {
    "tags": []
   },
   "source": [
    "Student code:  Anay\n",
    "\n",
    "```c++\n",
    "#include <bits/stdc++.h>\n",
    "\n",
    "using namespace std;\n",
    "\n",
    "int main(){\n",
    "    vector<pair<int, int>> T = {}; // spanning tree\n",
    "    vector<int> U = {0}; // visited\n",
    "    vector<int> notU = {1,2,3,4,5,6,7,8}; // not visited\n",
    "\n",
    "/*    \n",
    "    int G[5][5] = {     // adjacency matrix for graph (see graph and final spanning tree generated by algorithm here: https://ibb.co/vm6RTpX)\n",
    "  {0, 9, 75, 0, 0},\n",
    "  {9, 0, 95, 19, 42},\n",
    "  {75, 95, 0, 51, 66},\n",
    "  {0, 19, 51, 0, 31},\n",
    "  {0, 42, 66, 31, 0}};\n",
    "*/\n",
    "\n",
    "    int G[9][9] = {\n",
    " {0, 4, 0, 0, 0, 0, 0, 8, 0},\n",
    " {4, 0, 8, 0, 0, 0, 0, 11, 0},\n",
    " {0, 8, 0, 7, 0, 4, 0, 0, 2},\n",
    " {0, 0, 7, 0, 9, 14, 0, 0, 0},\n",
    " {0, 0, 0, 9, 0, 10, 0, 0, 0},\n",
    " {0, 0, 4, 14, 10, 0, 2, 0, 0},\n",
    " {0, 0, 0, 0, 0, 2, 0, 1, 6},\n",
    " {8, 11, 0, 0, 0, 0, 1, 0, 7},\n",
    " {0, 0, 2, 0, 0, 0, 6, 7, 0}};\n",
    "\n",
    "\n",
    "    int V = 9; // number of vertices\n",
    "    \n",
    "    while (U.size() < V) { // while we haven't visited all the vertices\n",
    "        int min = INFINITY;\n",
    "        int i,j;\n",
    "        for (auto& u: U) {\n",
    "            for (auto& v: notU) {\n",
    "                if (min>G[u][v] && G[u][v]!=0) { // searching for minimum cost edge in graph\n",
    "                    min = G[u][v];\n",
    "                    i = u;\n",
    "                    j = v;\n",
    "                }        \n",
    "            }\n",
    "        }\n",
    "        T.push_back(make_pair(i,j)); // adding that edge to tree\n",
    "        U.push_back(j); // adding the new vertex to visited\n",
    "        notU.erase(std::remove(notU.begin(), notU.end(), j), notU.end()); // removing the new vertex from not visited\n",
    "    }\n",
    "    int cost = 0;\n",
    "    for (auto&entry: T) {\n",
    "        cout<<entry.first<<\" \"<<entry.second<<endl; // outputting the edges in the tree\n",
    "        cost += G[entry.first][entry.second]; // generating the total cost in the meantime\n",
    "    }    \n",
    "    \n",
    "    cout<<\"Total cost: \"<<cost<<endl; // outputting the total cost\n",
    "```"
   ]
  },
  {
   "cell_type": "markdown",
   "id": "c6fe3b85-7e1a-4ff0-803b-8d87e7dc3e76",
   "metadata": {
    "tags": []
   },
   "source": [
    "OUTPUT:\n",
    "\n",
    "0 1\n",
    "0 9\n",
    "0 7\n",
    "7 6\n",
    "6 5\n",
    "5 2\n",
    "2 8\n",
    "2 3\n",
    "Total cost: 32"
   ]
  },
  {
   "cell_type": "markdown",
   "id": "7fc8fc0b-b058-46b6-8edd-42dd56f19707",
   "metadata": {},
   "source": [
    "<a data-flickr-embed=\"true\" href=\"https://www.flickr.com/photos/kirbyurner/52057807528/in/dateposted-public/\" title=\"prim_solved\"><img src=\"https://live.staticflickr.com/65535/52057807528_b0cec06fff_z.jpg\" width=\"640\" height=\"521\" alt=\"prim_solved\"></a><script async src=\"//embedr.flickr.com/assets/client-code.js\" charset=\"utf-8\"></script>"
   ]
  },
  {
   "cell_type": "code",
   "execution_count": 2,
   "id": "05915e92-5f9b-40f6-9e72-881fbd885e63",
   "metadata": {},
   "outputs": [],
   "source": [
    "\"\"\"\n",
    "Python version of Anay's C++ solution for Prim's Algorithm\n",
    "\n",
    "Alternative test data\n",
    "\n",
    "adjacency matrix for graph (see graph and final spanning \n",
    "tree generated by algorithm here: https://ibb.co/vm6RTpX)\n",
    "\n",
    "G[5][5] = [     \n",
    "  [0, 9, 75, 0, 0],\n",
    "  [9, 0, 95, 19, 42],\n",
    "  [75, 95, 0, 51, 66],\n",
    "  [0, 19, 51, 0, 31],\n",
    "  [0, 42, 66, 31, 0]]\n",
    "\"\"\"\n",
    "# alternative test data from ADS_sandbox_6.ipynb \n",
    "G = [\n",
    " [0, 4, 0, 0, 0, 0, 0, 8, 0],\n",
    " [4, 0, 8, 0, 0, 0, 0, 11, 0],\n",
    " [0, 8, 0, 7, 0, 4, 0, 0, 2],\n",
    " [0, 0, 7, 0, 9, 14, 0, 0, 0],\n",
    " [0, 0, 0, 9, 0, 10, 0, 0, 0],\n",
    " [0, 0, 4, 14, 10, 0, 2, 0, 0],\n",
    " [0, 0, 0, 0, 0, 2, 0, 1, 6],\n",
    " [8, 11, 0, 0, 0, 0, 1, 0, 7],\n",
    " [0, 0, 2, 0, 0, 0, 6, 7, 0]]\n",
    "\n",
    "\n",
    "def main():\n",
    "    T = [] # spanning tree of edges (int, int)\n",
    "    U = [0] # visited\n",
    "    notU = [1,2,3,4,5,6,7,8] # not visited\n",
    "    V = 9  # number of vertices\n",
    "    \n",
    "    #  while we haven't visited all the vertices\n",
    "    while (len(U) < V):\n",
    "        min_cost = float('inf')\n",
    "        for u in U:\n",
    "            for v in notU: \n",
    "                # searching for minimum cost edge in graph\n",
    "                if min_cost > G[u][v] and G[u][v] != 0:\n",
    "                    min_cost = int(G[u][v])\n",
    "                    i = u\n",
    "                    j = v\n",
    "\n",
    "        T.append((i,j)) # adding that edge to tree\n",
    "        U.append(j)     # adding the new vertex to visited\n",
    "        # removing the new vertex from not visited\n",
    "        notU.remove(j)\n",
    "\n",
    "    cost = 0\n",
    "    for entry in T:\n",
    "        # outputting the edges in the tree\n",
    "        print(entry)\n",
    "        # generating the total cost in the meantime\n",
    "        cost += G[entry[0]][entry[1]]\n",
    " \n",
    "    \n",
    "    print(\"Total cost: \", cost) # outputting the total cost"
   ]
  },
  {
   "cell_type": "code",
   "execution_count": 85,
   "id": "9833b47b-63d3-4ee1-91f6-ed28bb0a18dc",
   "metadata": {},
   "outputs": [
    {
     "name": "stdout",
     "output_type": "stream",
     "text": [
      "(0, 1)\n",
      "(0, 7)\n",
      "(7, 6)\n",
      "(6, 5)\n",
      "(5, 2)\n",
      "(2, 8)\n",
      "(2, 3)\n",
      "(3, 4)\n",
      "Total cost:  37\n"
     ]
    }
   ],
   "source": [
    "main()"
   ]
  },
  {
   "cell_type": "markdown",
   "id": "c35d764c-3ba7-461b-8f30-42284639dc9e",
   "metadata": {},
   "source": [
    "## Convex Hull\n",
    "\n",
    "Is a disperson of dots on a 2D surface a \"graph\"?  We can call them nodes, and we're looking for the outermost edges that will encompass these points while always turning in the same direction, like in a circle (convex from the outside) but by varying amounts of turn.  \n",
    "\n",
    "For example, if always turning left, then find the next point that requires the least amount of left.  If there's a tie, pick the closer one."
   ]
  },
  {
   "cell_type": "code",
   "execution_count": 1,
   "id": "dd91dc4d-d20b-44e4-9de8-cda96b508c62",
   "metadata": {},
   "outputs": [],
   "source": [
    "import graham_scan as gs"
   ]
  },
  {
   "cell_type": "code",
   "execution_count": 3,
   "id": "1dd33643-a805-4783-8eed-ae22d6297a7d",
   "metadata": {},
   "outputs": [
    {
     "name": "stdout",
     "output_type": "stream",
     "text": [
      "Points: [[10, 2], [12, 4], [35, 6], [34, 44], [17, 21], [43, 18], [21, 35], [9, 35], [3, 11], [9, 46]]\n"
     ]
    },
    {
     "data": {
      "image/png": "[encoded data removed]",
      "text/plain": [
       "<Figure size 432x288 with 1 Axes>"
      ]
     },
     "metadata": {
      "needs_background": "light"
     },
     "output_type": "display_data"
    },
    {
     "data": {
      "image/png": "[encoded data removed]",
      "text/plain": [
       "<Figure size 432x288 with 1 Axes>"
      ]
     },
     "metadata": {
      "needs_background": "light"
     },
     "output_type": "display_data"
    },
    {
     "data": {
      "image/png": "[encoded data removed]",
      "text/plain": [
       "<Figure size 432x288 with 1 Axes>"
      ]
     },
     "metadata": {
      "needs_background": "light"
     },
     "output_type": "display_data"
    },
    {
     "data": {
      "image/png": "[encoded data removed]",
      "text/plain": [
       "<Figure size 432x288 with 1 Axes>"
      ]
     },
     "metadata": {
      "needs_background": "light"
     },
     "output_type": "display_data"
    },
    {
     "data": {
      "image/png": "[encoded data removed]",
      "text/plain": [
       "<Figure size 432x288 with 1 Axes>"
      ]
     },
     "metadata": {
      "needs_background": "light"
     },
     "output_type": "display_data"
    },
    {
     "data": {
      "image/png": "[encoded data removed]",
      "text/plain": [
       "<Figure size 432x288 with 1 Axes>"
      ]
     },
     "metadata": {
      "needs_background": "light"
     },
     "output_type": "display_data"
    },
    {
     "data": {
      "image/png": "[encoded data removed]",
      "text/plain": [
       "<Figure size 432x288 with 1 Axes>"
      ]
     },
     "metadata": {
      "needs_background": "light"
     },
     "output_type": "display_data"
    },
    {
     "data": {
      "image/png": "[encoded data removed]",
      "text/plain": [
       "<Figure size 432x288 with 1 Axes>"
      ]
     },
     "metadata": {
      "needs_background": "light"
     },
     "output_type": "display_data"
    },
    {
     "name": "stdout",
     "output_type": "stream",
     "text": [
      "Hull: [[10, 2], [35, 6], [43, 18], [34, 44], [9, 46], [3, 11]]\n"
     ]
    },
    {
     "data": {
      "image/png": "[encoded data removed]",
      "text/plain": [
       "<Figure size 432x288 with 1 Axes>"
      ]
     },
     "metadata": {
      "needs_background": "light"
     },
     "output_type": "display_data"
    }
   ],
   "source": [
    "gs.main()"
   ]
  },
  {
   "cell_type": "code",
   "execution_count": null,
   "id": "b00c80c5-c687-4a1a-86f0-bd67cf8a3d98",
   "metadata": {},
   "outputs": [],
   "source": []
  }
 ],
 "metadata": {
  "kernelspec": {
   "display_name": "Python 3 (ipykernel)",
   "language": "python",
   "name": "python3"
  },
  "language_info": {
   "codemirror_mode": {
    "name": "ipython",
    "version": 3
   },
   "file_extension": ".py",
   "mimetype": "text/x-python",
   "name": "python",
   "nbconvert_exporter": "python",
   "pygments_lexer": "ipython3",
   "version": "3.9.12"
  }
 },
 "nbformat": 4,
 "nbformat_minor": 5
}
