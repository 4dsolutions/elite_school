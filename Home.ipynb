{
 "cells": [
  {
   "cell_type": "markdown",
   "metadata": {},
   "source": [
    "# Welcome!\n",
    "\n",
    "Welcome to the wonderful world of Python.\n",
    "\n",
    "Python was Made in Holland, then enhanced by a global team.  BDFL emeritus:  Guido van Rossum. \n",
    "\n",
    "Guido named his language after Monty Python, the BBC comedy troupe that also became popular in America. However, there's no ignoring that a python is a snake, important [in Greek mythology](https://www.greeklegendsandmyths.com/python.html).\n",
    "\n",
    "What you are looking at now is a [Jupyter Notebook](https://jupyter.org/) file transformed into HTML, which in turn instructs your browser in how to [render](https://dictionary.cambridge.org/us/dictionary/english/render) the page."
   ]
  },
  {
   "cell_type": "markdown",
   "metadata": {},
   "source": [
    "### Course Framework\n",
    "\n",
    "The main tools we'll be using:\n",
    "\n",
    "* Python\n",
    "* an IDE\n",
    "* Github / Git\n",
    "* JupyterLab\n",
    "\n",
    "##### Python\n",
    "\n",
    "<a data-flickr-embed=\"true\" href=\"https://www.flickr.com/photos/kirbyurner/3213390685/in/album-72157612943105800/\" title=\"PSF Approved\"><img src=\"https://live.staticflickr.com/3421/3213390685_6807cb4693_m.jpg\" width=\"211\" height=\"71\" alt=\"PSF Approved\"></a><script async src=\"//embedr.flickr.com/assets/client-code.js\" charset=\"utf-8\"></script>\n",
    "\n",
    "\n",
    "##### IDE\n",
    "\n",
    "<img src=\"https://miro.medium.com/max/1600/0*5vSccKOZ9Y_aNcVN.png\" alt=\"Python IDEs\" width=\"415\" height=\"146\">\n",
    "\n",
    "##### Github / Git\n",
    "\n",
    "<a data-flickr-embed=\"true\" href=\"https://www.flickr.com/photos/kirbyurner/24486349324/in/album-72157660337424600/\" title=\"Complex Topic\"><img src=\"https://live.staticflickr.com/1539/24486349324_0bc346ecee_n.jpg\" width=\"240\" height=\"320\" alt=\"Complex Topic\"></a><script async src=\"//embedr.flickr.com/assets/client-code.js\" charset=\"utf-8\"></script>\n",
    "\n",
    "![Github Logo](https://siliconangle.com/files/2012/03/github_logo.jpg)\n",
    "\n",
    "##### JupyterLab\n",
    "\n",
    "<a data-flickr-embed=\"true\" href=\"https://www.flickr.com/photos/kirbyurner/24967014810/in/photolist-2kbBdo3-22iJXHg-MQRUEh-Nsr8q9-JycA3v-HDKJxu-E3ftEA\" title=\"jupyter_window\"><img src=\"https://live.staticflickr.com/1564/24967014810_f14df78080_w.jpg\" width=\"400\" height=\"322\" alt=\"jupyter_window\"></a><script async src=\"//embedr.flickr.com/assets/client-code.js\" charset=\"utf-8\"></script>"
   ]
  },
  {
   "cell_type": "markdown",
   "metadata": {},
   "source": [
    "### Topics:\n",
    "\n",
    "* mutability versus immutability\n",
    "* [callability](Internals.ipynb)\n",
    "* sorting sequences\n",
    "* randomness\n",
    "* slicing and dicing sequences\n",
    "* Unicode\n",
    "* [date and time related topics](Calendar.ipynb)\n",
    "* [named tuples](Bridge2OOP.ipynb)"
   ]
  },
  {
   "cell_type": "markdown",
   "metadata": {},
   "source": [
    "### Immutability versus Mutability\n",
    "\n",
    "The tuple of tuples below is read only."
   ]
  },
  {
   "cell_type": "code",
   "execution_count": 1,
   "metadata": {},
   "outputs": [],
   "source": [
    "zoo = ((\"Ape\", 4), (\"Zebra\", 2), (\"Penguin\", 1))"
   ]
  },
  {
   "cell_type": "markdown",
   "metadata": {},
   "source": [
    "The tuple of lists below looks like it might be immutable but is it?"
   ]
  },
  {
   "cell_type": "code",
   "execution_count": 2,
   "metadata": {},
   "outputs": [],
   "source": [
    "L = ([] , [])"
   ]
  },
  {
   "cell_type": "code",
   "execution_count": 3,
   "metadata": {},
   "outputs": [
    {
     "data": {
      "text/plain": [
       "([], [])"
      ]
     },
     "execution_count": 3,
     "metadata": {},
     "output_type": "execute_result"
    }
   ],
   "source": [
    "L  # is L immutable?"
   ]
  },
  {
   "cell_type": "code",
   "execution_count": 4,
   "metadata": {},
   "outputs": [
    {
     "data": {
      "text/plain": [
       "([], ['dog'])"
      ]
     },
     "execution_count": 4,
     "metadata": {},
     "output_type": "execute_result"
    }
   ],
   "source": [
    "L[1].append(\"dog\")\n",
    "L  # no!"
   ]
  },
  {
   "cell_type": "markdown",
   "metadata": {},
   "source": [
    "### Callability\n",
    "\n",
    "This topic is worth a [whole page to itself](Internals.ipynb)."
   ]
  },
  {
   "cell_type": "markdown",
   "metadata": {},
   "source": [
    "### Sorting Sequences"
   ]
  },
  {
   "cell_type": "markdown",
   "metadata": {},
   "source": [
    "How might you sort zoo tuples by either animal or age?  \n",
    "\n",
    "Here's a way I would not expect a beginner to find right away:"
   ]
  },
  {
   "cell_type": "code",
   "execution_count": 5,
   "metadata": {},
   "outputs": [],
   "source": [
    "from operator import itemgetter"
   ]
  },
  {
   "cell_type": "code",
   "execution_count": 6,
   "metadata": {},
   "outputs": [
    {
     "data": {
      "text/plain": [
       "[('Penguin', 1), ('Zebra', 2), ('Ape', 4)]"
      ]
     },
     "execution_count": 6,
     "metadata": {},
     "output_type": "execute_result"
    }
   ],
   "source": [
    "sorted(zoo, key=itemgetter(1))"
   ]
  },
  {
   "cell_type": "code",
   "execution_count": 7,
   "metadata": {},
   "outputs": [
    {
     "data": {
      "text/plain": [
       "[('Ape', 4), ('Penguin', 1), ('Zebra', 2)]"
      ]
     },
     "execution_count": 7,
     "metadata": {},
     "output_type": "execute_result"
    }
   ],
   "source": [
    "sorted(zoo, key=itemgetter(0))"
   ]
  },
  {
   "cell_type": "markdown",
   "metadata": {},
   "source": [
    "### Randomness"
   ]
  },
  {
   "cell_type": "code",
   "execution_count": 8,
   "metadata": {},
   "outputs": [],
   "source": [
    "from random import choice, shuffle"
   ]
  },
  {
   "cell_type": "code",
   "execution_count": 9,
   "metadata": {},
   "outputs": [
    {
     "data": {
      "text/plain": [
       "(('Ape', 4), ('Zebra', 2), ('Penguin', 1))"
      ]
     },
     "execution_count": 9,
     "metadata": {},
     "output_type": "execute_result"
    }
   ],
   "source": [
    "zoo"
   ]
  },
  {
   "cell_type": "markdown",
   "metadata": {},
   "source": [
    "```shuffle``` mutates its argument, and since ```zoo``` is immutable, it's not a legal argument to ```shuffle```.  However, we may replace the outer tuple with a mutable list and then apply randomness."
   ]
  },
  {
   "cell_type": "code",
   "execution_count": 10,
   "metadata": {},
   "outputs": [
    {
     "data": {
      "text/plain": [
       "[('Ape', 4), ('Penguin', 1), ('Zebra', 2)]"
      ]
     },
     "execution_count": 10,
     "metadata": {},
     "output_type": "execute_result"
    }
   ],
   "source": [
    "shake_up = list(zoo)\n",
    "shuffle(shake_up)\n",
    "shake_up"
   ]
  },
  {
   "cell_type": "code",
   "execution_count": 11,
   "metadata": {},
   "outputs": [
    {
     "data": {
      "text/plain": [
       "[('Ape', 4), ('Penguin', 1), ('Zebra', 2)]"
      ]
     },
     "execution_count": 11,
     "metadata": {},
     "output_type": "execute_result"
    }
   ],
   "source": [
    "shuffle(shake_up)\n",
    "shake_up"
   ]
  },
  {
   "cell_type": "code",
   "execution_count": 12,
   "metadata": {},
   "outputs": [
    {
     "data": {
      "text/plain": [
       "('Penguin', 1)"
      ]
     },
     "execution_count": 12,
     "metadata": {},
     "output_type": "execute_result"
    }
   ],
   "source": [
    "choice(shake_up) # pick an element at random"
   ]
  },
  {
   "cell_type": "code",
   "execution_count": 13,
   "metadata": {},
   "outputs": [
    {
     "data": {
      "text/plain": [
       "'b7w36ccchl4s8ap36ageof9ox'"
      ]
     },
     "execution_count": 13,
     "metadata": {},
     "output_type": "execute_result"
    }
   ],
   "source": [
    "def get_token(n=25):\n",
    "    chars = \"abcdefghijklmnopqrstuvwxyz1234567890\"\n",
    "    return \"\".join([choice(chars) for _ in range(n)])\n",
    "\n",
    "get_token()"
   ]
  },
  {
   "cell_type": "markdown",
   "metadata": {},
   "source": [
    "### Slicing and Dicing Sequences\n",
    "\n",
    "Sequences (like lists, tuples, ranges) have left-to-right (right-to-left) order, are sortable and reversible.  \n",
    "\n",
    "Mappings (dicts, sets), in contrast, are more general, in that the same content, in arbitrary order, connotes equality."
   ]
  },
  {
   "cell_type": "code",
   "execution_count": 14,
   "metadata": {},
   "outputs": [
    {
     "data": {
      "text/plain": [
       "True"
      ]
     },
     "execution_count": 14,
     "metadata": {},
     "output_type": "execute_result"
    }
   ],
   "source": [
    "{\"a\":\"b\", \"c\":\"d\"} == {\"c\":\"d\", \"a\":\"b\"}"
   ]
  },
  {
   "cell_type": "code",
   "execution_count": 15,
   "metadata": {},
   "outputs": [
    {
     "data": {
      "text/plain": [
       "False"
      ]
     },
     "execution_count": 15,
     "metadata": {},
     "output_type": "execute_result"
    }
   ],
   "source": [
    "[\"a\", \"b\", \"c\", \"d\"] == [\"c\", \"b\", \"a\", \"d\"]"
   ]
  },
  {
   "cell_type": "code",
   "execution_count": 16,
   "metadata": {},
   "outputs": [
    {
     "data": {
      "text/plain": [
       "True"
      ]
     },
     "execution_count": 16,
     "metadata": {},
     "output_type": "execute_result"
    }
   ],
   "source": [
    "set([\"a\", \"b\", \"c\", \"d\"]) == set([\"c\", \"b\", \"a\", \"d\"])"
   ]
  },
  {
   "cell_type": "markdown",
   "metadata": {},
   "source": [
    "Recent Pythons implement [PEP 448](https://www.python.org/dev/peps/pep-0448/), expanding the powers of the single- and double-star when used as prefixing unary packing / unpacking operators."
   ]
  },
  {
   "cell_type": "code",
   "execution_count": 17,
   "metadata": {},
   "outputs": [
    {
     "data": {
      "text/plain": [
       "(('Ape', 4),\n",
       " ('Zebra', 2),\n",
       " ('Penguin', 1),\n",
       " ('Ape', 4),\n",
       " ('Zebra', 2),\n",
       " ('Penguin', 1))"
      ]
     },
     "execution_count": 17,
     "metadata": {},
     "output_type": "execute_result"
    }
   ],
   "source": [
    "(*zoo, *zoo)"
   ]
  },
  {
   "cell_type": "code",
   "execution_count": 18,
   "metadata": {},
   "outputs": [
    {
     "data": {
      "text/plain": [
       "(('Ape', 4), ('Penguin', 1), ('Zebra', 2))"
      ]
     },
     "execution_count": 18,
     "metadata": {},
     "output_type": "execute_result"
    }
   ],
   "source": [
    "a_slice = slice(0,None,2)\n",
    "(*zoo, *zoo)[a_slice]"
   ]
  },
  {
   "cell_type": "code",
   "execution_count": 19,
   "metadata": {},
   "outputs": [
    {
     "data": {
      "text/plain": [
       "{'Ape': 4, 'Penguin': 1, 'Zebra': 2}"
      ]
     },
     "execution_count": 19,
     "metadata": {},
     "output_type": "execute_result"
    }
   ],
   "source": [
    "to_ship_tupl = (*zoo, *zoo)[a_slice]\n",
    "to_ship_dict = dict(to_ship_tupl)\n",
    "to_ship_dict "
   ]
  },
  {
   "cell_type": "markdown",
   "metadata": {},
   "source": [
    "When a dict cries out to be converted into named arguments, to any callable, the double-star unary operator, prefixed, comes to our aid.\n",
    "\n",
    "Likewise, as we learn in when studying [callability](Internals.ipynb), the double-star operator, in front of a parameter name, will match any remaining named arguments to a dict, by that name. "
   ]
  },
  {
   "cell_type": "code",
   "execution_count": 20,
   "metadata": {},
   "outputs": [
    {
     "data": {
      "text/plain": [
       "{'Llama': 2, 'Ape': 4, 'Penguin': 1, 'Zebra': 2}"
      ]
     },
     "execution_count": 20,
     "metadata": {},
     "output_type": "execute_result"
    }
   ],
   "source": [
    "dict(**{\"Llama\":2}, **to_ship_dict)"
   ]
  },
  {
   "cell_type": "markdown",
   "metadata": {},
   "source": [
    "### Unicode"
   ]
  },
  {
   "cell_type": "markdown",
   "metadata": {},
   "source": [
    "As we discussed in our first meetup, Unicode is the successor to ASCII both in the sense of superceding, and in the sense of swallowing and including.\n",
    "\n",
    "Python libraries will let programmers continue working in pure ASCII, or in any of several codecs whereby plain text is decoded and encoded.\n",
    "\n",
    "UTF-8 is the most common flavor of Unicode and is Python's default.  The format commits varying numbers of bytes to the Unicode codepoints, with information up front (front byte) regarding how many bytes follow (picture a tiny train of one to four cars, car = byte)."
   ]
  },
  {
   "cell_type": "code",
   "execution_count": 21,
   "metadata": {},
   "outputs": [],
   "source": [
    "import fooding"
   ]
  },
  {
   "cell_type": "code",
   "execution_count": 22,
   "metadata": {},
   "outputs": [
    {
     "data": {
      "text/plain": [
       "['🍗', '🍩', '🎂', '🍟', '🍞']"
      ]
     },
     "execution_count": 22,
     "metadata": {},
     "output_type": "execute_result"
    }
   ],
   "source": [
    "fooding.foods"
   ]
  },
  {
   "cell_type": "code",
   "execution_count": 23,
   "metadata": {},
   "outputs": [
    {
     "data": {
      "text/plain": [
       "['🍇', '🍈', '🍉', '🍊', '🍋', '🍌', '🍍', '🍎', '🍏', '🍐', '🍑', '🍒']"
      ]
     },
     "execution_count": 23,
     "metadata": {},
     "output_type": "execute_result"
    }
   ],
   "source": [
    "fooding.fruits"
   ]
  },
  {
   "cell_type": "markdown",
   "metadata": {},
   "source": [
    "[Fooding?](https://d65im9osfb1r5.cloudfront.net/thesaurus.net/fooding-and-lodging.png)"
   ]
  },
  {
   "cell_type": "markdown",
   "metadata": {},
   "source": [
    "*Explorations with Unicode*:\n",
    "\n",
    "The script below is designed to run at the command line, and therefore has to read arguments from the command line.\n",
    "\n",
    "[unicode_fun.py](https://github.com/4dsolutions/python_camp/blob/master/unicode_fun.py)\n",
    "\n",
    "*Proposed project*:\n",
    "\n",
    "Add another language section to the ```unicode_fun.py``` menu and to the output."
   ]
  },
  {
   "cell_type": "markdown",
   "metadata": {},
   "source": [
    "## For Further Reading\n",
    "\n",
    "[History of Python](https://kirbyurner.medium.com/some-python-history-72f2510d1930?sk=a1e91af7d5be0afbea084359e7b112ff) on Medium, Friend Link \n",
    "\n",
    "[First Wiki](https://wiki.c2.com/?WhyDoesntWikiDoHtml) sample wiki page\n",
    "\n",
    "[Intro to Python Flickr Album](https://flic.kr/s/aHsknZHG75) used in courses\n",
    "\n",
    "[Answering Questions on Quora](https://www.quora.com/profile/Kirby-Urner) (doing my civic duty)\n",
    "\n",
    "[PyCamp: Another Repo for Teens](https://github.com/4dsolutions/python_camp/blob/master/README.md) by me\n",
    "\n",
    "[Python Release Schedule](https://www.python.org/dev/peps/pep-0602/) (3.9, 3.10, 3.11...)\n",
    "\n",
    "[In the Beginning Was the Command Line](https://www.nealstephenson.com/in-the-beginning-was-the-command-line.html) by Neal Stephenson, a classic\n",
    "\n",
    "[Revolution OS](https://youtu.be/Eluzi70O-P4) movie documentary\n",
    "\n",
    "[A Monty Python Story](https://www.newyorker.com/magazine/1976/03/29/naughty-bits) in the *New Yorker* (1976)"
   ]
  }
 ],
 "metadata": {
  "kernelspec": {
   "display_name": "Python 3",
   "language": "python",
   "name": "python3"
  },
  "language_info": {
   "codemirror_mode": {
    "name": "ipython",
    "version": 3
   },
   "file_extension": ".py",
   "mimetype": "text/x-python",
   "name": "python",
   "nbconvert_exporter": "python",
   "pygments_lexer": "ipython3",
   "version": "3.9.1"
  }
 },
 "nbformat": 4,
 "nbformat_minor": 4
}
