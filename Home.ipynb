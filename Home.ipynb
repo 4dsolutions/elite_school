{
 "cells": [
  {
   "cell_type": "markdown",
   "metadata": {},
   "source": [
    "# Welcome!\n",
    "\n",
    "Welcome to the wonderful world of Python.\n",
    "\n",
    "Python was Made in Holland, then enhanced by a global team.  BDFL emeritus:  Guido van Rossum.\n",
    "\n",
    "What you are looking at now is a Jupyter Notebook file transformed into HTML, which in turn instructs your browser in how to [render](https://dictionary.cambridge.org/us/dictionary/english/render) the page."
   ]
  },
  {
   "cell_type": "code",
   "execution_count": 1,
   "metadata": {},
   "outputs": [],
   "source": [
    "import fooding"
   ]
  },
  {
   "cell_type": "markdown",
   "metadata": {},
   "source": [
    "[Fooding?](https://d65im9osfb1r5.cloudfront.net/thesaurus.net/fooding-and-lodging.png)"
   ]
  },
  {
   "cell_type": "code",
   "execution_count": 2,
   "metadata": {},
   "outputs": [
    {
     "data": {
      "text/plain": [
       "['🍗', '🍩', '🎂', '🍟', '🍞']"
      ]
     },
     "execution_count": 2,
     "metadata": {},
     "output_type": "execute_result"
    }
   ],
   "source": [
    "fooding.foods"
   ]
  },
  {
   "cell_type": "code",
   "execution_count": 3,
   "metadata": {},
   "outputs": [
    {
     "data": {
      "text/plain": [
       "['🍇', '🍈', '🍉', '🍊', '🍋', '🍌', '🍍', '🍎', '🍏', '🍐', '🍑', '🍒']"
      ]
     },
     "execution_count": 3,
     "metadata": {},
     "output_type": "execute_result"
    }
   ],
   "source": [
    "fooding.fruits"
   ]
  },
  {
   "cell_type": "markdown",
   "metadata": {},
   "source": [
    "Topics:\n",
    "\n",
    "* mutability versus immutability\n",
    "* [callability](Internals.ipynb)\n",
    "* sorting sequences\n",
    "* randomness\n",
    "* slicing sequences\n",
    "* Unicode"
   ]
  },
  {
   "cell_type": "markdown",
   "metadata": {},
   "source": [
    "### Immutability versus Mutability\n",
    "\n",
    "The tuple of tuples below is read only."
   ]
  },
  {
   "cell_type": "code",
   "execution_count": 4,
   "metadata": {},
   "outputs": [],
   "source": [
    "zoo = ((\"Ape\", 4), (\"Zebra\", 2), (\"Penguin\", 1))"
   ]
  },
  {
   "cell_type": "markdown",
   "metadata": {},
   "source": [
    "The tuple of lists below looks like it might be immutable but is it?"
   ]
  },
  {
   "cell_type": "code",
   "execution_count": 5,
   "metadata": {},
   "outputs": [],
   "source": [
    "L = ([] , [])"
   ]
  },
  {
   "cell_type": "code",
   "execution_count": 6,
   "metadata": {},
   "outputs": [
    {
     "data": {
      "text/plain": [
       "([], [])"
      ]
     },
     "execution_count": 6,
     "metadata": {},
     "output_type": "execute_result"
    }
   ],
   "source": [
    "L  # is L immutable?"
   ]
  },
  {
   "cell_type": "code",
   "execution_count": 7,
   "metadata": {},
   "outputs": [
    {
     "data": {
      "text/plain": [
       "([], ['dog'])"
      ]
     },
     "execution_count": 7,
     "metadata": {},
     "output_type": "execute_result"
    }
   ],
   "source": [
    "L[1].append(\"dog\")\n",
    "L  # no!"
   ]
  },
  {
   "cell_type": "markdown",
   "metadata": {},
   "source": [
    "### Sorting Sequences"
   ]
  },
  {
   "cell_type": "markdown",
   "metadata": {},
   "source": [
    "How might you sort zoo tuples by either animal or age?  \n",
    "\n",
    "Here's a way I would not expect a beginner to find right away:"
   ]
  },
  {
   "cell_type": "code",
   "execution_count": 8,
   "metadata": {},
   "outputs": [],
   "source": [
    "from operator import itemgetter"
   ]
  },
  {
   "cell_type": "code",
   "execution_count": 9,
   "metadata": {},
   "outputs": [
    {
     "data": {
      "text/plain": [
       "[('Penguin', 1), ('Zebra', 2), ('Ape', 4)]"
      ]
     },
     "execution_count": 9,
     "metadata": {},
     "output_type": "execute_result"
    }
   ],
   "source": [
    "sorted(zoo, key=itemgetter(1))"
   ]
  },
  {
   "cell_type": "code",
   "execution_count": 10,
   "metadata": {},
   "outputs": [
    {
     "data": {
      "text/plain": [
       "[('Ape', 4), ('Penguin', 1), ('Zebra', 2)]"
      ]
     },
     "execution_count": 10,
     "metadata": {},
     "output_type": "execute_result"
    }
   ],
   "source": [
    "sorted(zoo, key=itemgetter(0))"
   ]
  },
  {
   "cell_type": "markdown",
   "metadata": {},
   "source": [
    "### Randomness"
   ]
  },
  {
   "cell_type": "code",
   "execution_count": 11,
   "metadata": {},
   "outputs": [],
   "source": [
    "from random import choice, shuffle"
   ]
  },
  {
   "cell_type": "code",
   "execution_count": 12,
   "metadata": {},
   "outputs": [
    {
     "data": {
      "text/plain": [
       "(('Ape', 4), ('Zebra', 2), ('Penguin', 1))"
      ]
     },
     "execution_count": 12,
     "metadata": {},
     "output_type": "execute_result"
    }
   ],
   "source": [
    "zoo"
   ]
  },
  {
   "cell_type": "markdown",
   "metadata": {},
   "source": [
    "```shuffle``` mutates its argument, and since ```zoo``` is immutable, it's not a legal argument to ```shuffle```.  However, we may replace the outer tuple with a mutable list and then apply randomness."
   ]
  },
  {
   "cell_type": "code",
   "execution_count": 13,
   "metadata": {},
   "outputs": [
    {
     "data": {
      "text/plain": [
       "[('Zebra', 2), ('Ape', 4), ('Penguin', 1)]"
      ]
     },
     "execution_count": 13,
     "metadata": {},
     "output_type": "execute_result"
    }
   ],
   "source": [
    "shake_up = list(zoo)\n",
    "shuffle(shake_up)\n",
    "shake_up"
   ]
  },
  {
   "cell_type": "code",
   "execution_count": 14,
   "metadata": {},
   "outputs": [
    {
     "data": {
      "text/plain": [
       "[('Ape', 4), ('Zebra', 2), ('Penguin', 1)]"
      ]
     },
     "execution_count": 14,
     "metadata": {},
     "output_type": "execute_result"
    }
   ],
   "source": [
    "shuffle(shake_up)\n",
    "shake_up"
   ]
  },
  {
   "cell_type": "code",
   "execution_count": 15,
   "metadata": {},
   "outputs": [
    {
     "data": {
      "text/plain": [
       "('Zebra', 2)"
      ]
     },
     "execution_count": 15,
     "metadata": {},
     "output_type": "execute_result"
    }
   ],
   "source": [
    "choice(shake_up) # pick an element at random"
   ]
  },
  {
   "cell_type": "markdown",
   "metadata": {},
   "source": [
    "*For further reading*:\n",
    "\n",
    "[History of Python](https://kirbyurner.medium.com/some-python-history-72f2510d1930?sk=a1e91af7d5be0afbea084359e7b112ff) on Medium, Friend Link \n",
    "\n",
    "[Wiki Version](https://en.citizendium.org/wiki/Python_(programming_language)) developed for Citizendium\n",
    "\n",
    "[First Wiki](https://wiki.c2.com/?WhyDoesntWikiDoHtml) sample wiki page\n",
    "\n",
    "[Intro to Python Flickr Album](https://flic.kr/s/aHsknZHG75) used in courses\n",
    "\n",
    "[Answering Questions on Quora](https://www.quora.com/profile/Kirby-Urner) (doing my civic duty)\n",
    "\n",
    "[Python Release Schedule](https://www.python.org/dev/peps/pep-0602/)"
   ]
  }
 ],
 "metadata": {
  "kernelspec": {
   "display_name": "Python 3",
   "language": "python",
   "name": "python3"
  },
  "language_info": {
   "codemirror_mode": {
    "name": "ipython",
    "version": 3
   },
   "file_extension": ".py",
   "mimetype": "text/x-python",
   "name": "python",
   "nbconvert_exporter": "python",
   "pygments_lexer": "ipython3",
   "version": "3.7.9"
  }
 },
 "nbformat": 4,
 "nbformat_minor": 4
}
