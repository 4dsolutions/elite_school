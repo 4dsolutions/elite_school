{
 "cells": [
  {
   "cell_type": "markdown",
   "id": "c29b1f3f",
   "metadata": {},
   "source": [
    "Algebra City Project\n",
    "\n",
    "# Sphere Packing with Julia\n",
    "#### by [Kirby Urner](https://kirbyurner.academia.edu/)\n",
    "\n",
    "<a data-flickr-embed=\"true\" href=\"https://www.flickr.com/photos/kirbyurner/51522139740/in/dateposted-public/\" title=\"Growing Sphere Packing\"><img src=\"https://live.staticflickr.com/65535/51522139740_bf8b551d6d_o.gif\" width=\"225\" height=\"210\" alt=\"Growing Sphere Packing\"></a><script async src=\"//embedr.flickr.com/assets/client-code.js\" charset=\"utf-8\"></script>\n",
    "\n",
    "My pedagogy around teaching any computer language is to have the target language e.g. Python on the front burner but then compare and contrast with one or more back burner languages e.g. Julia, Clojure... \n",
    "\n",
    "[Replit makes it easy](https://replit.com/@EliteSchool/Sequence-City-Julia#main.jl) to walk my talk in this respect.\n",
    " \n",
    "I'm eager to demonstrate starting a new Jupyter Notebook and having a choice among languages: Ju for Julia, Pyt for Python, Er for R.\n",
    "\n",
    "The focus is ball packing: triangular and square numbers (figurate on a plain (plane)); tetrahedral and [cuboctahedral](https://oeis.org/A005901) (= icosahedral) in space.\n",
    "\n",
    "A student is co-developing a lexical skill (coding language) with a graphical skill (visualizing balls packing in space). "
   ]
  },
  {
   "cell_type": "markdown",
   "id": "4581cd71",
   "metadata": {},
   "source": [
    "### Triangular Numbers\n",
    "\n",
    "![trinumb](http://4dsolutions.net/ocn/graphics/trinumbs.gif)"
   ]
  },
  {
   "cell_type": "code",
   "execution_count": 1,
   "id": "2c1179b4",
   "metadata": {},
   "outputs": [
    {
     "name": "stdout",
     "output_type": "stream",
     "text": [
      "A000217:[0, 1, 3, 6, 10, 15, 21, 28, 36, 45, 55]\n"
     ]
    }
   ],
   "source": [
    "# Triangular Numbers\n",
    "# https://oeis.org/A000217\n",
    "tri = n -> ((n == 0) ? 0 : n + tri(n - 1)) # recursive\n",
    "println(\"A000217:\", [tri(x) for x in 0:10])"
   ]
  },
  {
   "cell_type": "markdown",
   "id": "c44852ca",
   "metadata": {},
   "source": [
    "Alternative function syntax, as well as a different algorithm:"
   ]
  },
  {
   "cell_type": "code",
   "execution_count": 2,
   "id": "80d535a3",
   "metadata": {},
   "outputs": [
    {
     "name": "stdout",
     "output_type": "stream",
     "text": [
      "A000217:[0, 1, 3, 6, 10, 15, 21, 28, 36, 45, 55]\n"
     ]
    }
   ],
   "source": [
    "function tri2(n) \n",
    "  Int(n * (n + 1) / 2)\n",
    "end\n",
    "println(\"A000217:\", [tri2(x) for x in 0:10])"
   ]
  },
  {
   "cell_type": "markdown",
   "id": "674e7fbe",
   "metadata": {},
   "source": [
    "### Tetrahedral Numbers\n",
    "\n",
    "![synergetics](http://4dsolutions.net/ocn/graphics/tetrapack.gif)"
   ]
  },
  {
   "cell_type": "code",
   "execution_count": 3,
   "id": "18076bc6",
   "metadata": {},
   "outputs": [
    {
     "name": "stdout",
     "output_type": "stream",
     "text": [
      "A000292:[1, 4, 10, 20, 35, 56, 84, 120, 165, 220]\n"
     ]
    }
   ],
   "source": [
    "# https://en.wikipedia.org/wiki/Tetrahedral_number\n",
    "# https://oeis.org/A000292\n",
    "function tetra(n)\n",
    "    Int((n * (n + 1) * (n + 2))/6)\n",
    "end\n",
    "println(\"A000292:\", [tetra(x) for x in 1:10])"
   ]
  },
  {
   "cell_type": "markdown",
   "id": "f2f9a468",
   "metadata": {},
   "source": [
    "### Cuboctahedral Numbers ( = Icosahedral Numbers)\n",
    "\n",
    "![icosa](http://4dsolutions.net/ocn/graphics/ico5.gif)"
   ]
  },
  {
   "cell_type": "code",
   "execution_count": 4,
   "id": "50689083",
   "metadata": {},
   "outputs": [
    {
     "name": "stdout",
     "output_type": "stream",
     "text": [
      "A005901:[1, 12, 42, 92, 162, 252, 362, 492, 642, 812, 1002]\n"
     ]
    }
   ],
   "source": [
    "# https://oeis.org/A005901\n",
    "cubocta = n -> ((n == 0) ? 1 : 10 * n * n + 2)\n",
    "println(\"A005901:\",[cubocta(x) for x in 0:10])"
   ]
  },
  {
   "cell_type": "markdown",
   "id": "2f1f79b0",
   "metadata": {},
   "source": [
    "Why do cuboctahedral shells and icosahedral shells have the same number of balls?  A transformation named the Jitterbug by Buckminster Fuller, shows why:\n",
    "\n",
    "![466.00a](http://4dsolutions.net/ocn/graphics/sphjit.gif)\n",
    "\n",
    "Just as tetrahedral numbers may be viewed as cumulative triangular numbers, so may we accumulate successive layers (1, 12, 42, 92...) in the cuboctahedral packing (1, 13, 55, 147...)."
   ]
  },
  {
   "cell_type": "code",
   "execution_count": 5,
   "id": "d6f1dcb4",
   "metadata": {},
   "outputs": [
    {
     "name": "stdout",
     "output_type": "stream",
     "text": [
      "A005902:[1, 13, 55, 147, 309, 561, 923, 1415, 2057, 2869, 3871]\n"
     ]
    }
   ],
   "source": [
    "# https://oeis.org/A005902\n",
    "accum_cubocta(n) = (\n",
    "  (n == 0) ? 1 : \n",
    "  cubocta(n) + accum_cubocta(n-1)) # recursive\n",
    "println(\"A005902:\", [accum_cubocta(x) for x in 0:10])"
   ]
  },
  {
   "cell_type": "code",
   "execution_count": 6,
   "id": "33925433",
   "metadata": {},
   "outputs": [
    {
     "name": "stdout",
     "output_type": "stream",
     "text": [
      "A005902:[1, 13, 55, 147, 309, 561, 923, 1415, 2057, 2869, 3871]\n"
     ]
    }
   ],
   "source": [
    "# http://www.4dsolutions.net/ocn/sphpack2.html\n",
    "# http://www.4dsolutions.net/synergetica/synergetica2.html\n",
    "function accum_cubocta2(n)\n",
    "  Int(round((10/3)*n^3 + 5*n^2 + (11/3)*n + 1, digits=0))\n",
    "end\n",
    "println(\"A005902:\",[accum_cubocta2(x) for x in 0:10])"
   ]
  },
  {
   "cell_type": "markdown",
   "id": "485caf24",
   "metadata": {},
   "source": [
    "![tomb](http://www.grunch.net/synergetics/images/khomeini_tomb.jpg)\n",
    "\n",
    "Tomb of Ayatollah Khomeini (سید روح‌الله موسوی خمینی) with an [octet truss](http://www.grunch.net/synergetics/octet.html) as a part of its architectural design. "
   ]
  },
  {
   "cell_type": "markdown",
   "id": "6f2ce3ed",
   "metadata": {},
   "source": [
    "Relevant Readings:\n",
    "\n",
    "* *Gnomon* by Midhat Gazale\n",
    "* *The Book of Numbers* by Conway and Guy\n",
    "* *Synergetics* by Buckminster Fuller"
   ]
  }
 ],
 "metadata": {
  "kernelspec": {
   "display_name": "Julia 1.0.5",
   "language": "julia",
   "name": "julia-1.0"
  },
  "language_info": {
   "file_extension": ".jl",
   "mimetype": "application/julia",
   "name": "julia",
   "version": "1.0.5"
  }
 },
 "nbformat": 4,
 "nbformat_minor": 5
}
