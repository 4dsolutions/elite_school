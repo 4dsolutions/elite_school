{
 "cells": [
  {
   "cell_type": "markdown",
   "id": "3086278c",
   "metadata": {},
   "source": [
    "[Home](Home.ipynb)\n",
    "\n",
    "# Tabular Python (numpy + pandas)\n",
    "\n",
    "Although numpy's n-dimensional arrays may have as many axes as we like, we're typically working with rows and columns, like a spreadsheet.  We call this a two dimensional array.\n",
    "\n",
    "Numpy does the number crunching with respect to these arrays.  Pandas provides a DataFrame much like a picture frame around a canvas.  You get to label and reorder rows and columns, will mixing columns (called Series type objects) of different types."
   ]
  },
  {
   "cell_type": "code",
   "execution_count": 4,
   "id": "98053d4d",
   "metadata": {},
   "outputs": [],
   "source": [
    "import numpy as np\n",
    "import pandas as pd"
   ]
  },
  {
   "cell_type": "code",
   "execution_count": 20,
   "id": "d6e81f25",
   "metadata": {},
   "outputs": [
    {
     "data": {
      "text/plain": [
       "'numpy ver: 1.17.3; pandas ver: 1.2.3'"
      ]
     },
     "execution_count": 20,
     "metadata": {},
     "output_type": "execute_result"
    }
   ],
   "source": [
    "\"numpy ver: {}; pandas ver: {}\".format(np.__version__, pd.__version__)"
   ]
  },
  {
   "cell_type": "markdown",
   "id": "567d1d32",
   "metadata": {},
   "source": [
    "Python's native range type is all fine and good when you want consecutive integers. Thanks to list comprehension syntax, defining floating point inputs at some constant interval is likewise doable."
   ]
  },
  {
   "cell_type": "code",
   "execution_count": 3,
   "id": "37e0b024",
   "metadata": {},
   "outputs": [
    {
     "data": {
      "text/plain": [
       "[0.1, 0.2, 0.3, 0.4, 0.5, 0.6, 0.7, 0.8, 0.9, 1.0]"
      ]
     },
     "execution_count": 3,
     "metadata": {},
     "output_type": "execute_result"
    }
   ],
   "source": [
    "[i/10 for i in range(1, 11)] # range has no native floating point ability"
   ]
  },
  {
   "cell_type": "markdown",
   "id": "cbc8af22",
   "metadata": {},
   "source": [
    "However, numpy introduces two new domain-makers that make life easier yet, in that both return np.ndarray type objects, equipped with all manner of methods.\n",
    "\n",
    "```arange``` gets a start and up-to-but-not-including argument, followed by the discrete interval between adjacent values.  "
   ]
  },
  {
   "cell_type": "code",
   "execution_count": 4,
   "id": "d4199b3e",
   "metadata": {},
   "outputs": [
    {
     "data": {
      "text/plain": [
       "array([0.1, 0.2, 0.3, 0.4, 0.5, 0.6, 0.7, 0.8, 0.9, 1. ])"
      ]
     },
     "execution_count": 4,
     "metadata": {},
     "output_type": "execute_result"
    }
   ],
   "source": [
    "np.arange(0.1, 1.1, 0.1) # start, up to, interval"
   ]
  },
  {
   "cell_type": "markdown",
   "id": "03b1cb3a",
   "metadata": {},
   "source": [
    "```linspace``` is similar, but a third argument specifies how many points should appear between start and stop values.  The stop value is inclusive in this case."
   ]
  },
  {
   "cell_type": "code",
   "execution_count": 5,
   "id": "dafab421",
   "metadata": {},
   "outputs": [
    {
     "data": {
      "text/plain": [
       "array([0.1, 0.2, 0.3, 0.4, 0.5, 0.6, 0.7, 0.8, 0.9, 1. ])"
      ]
     },
     "execution_count": 5,
     "metadata": {},
     "output_type": "execute_result"
    }
   ],
   "source": [
    "np.linspace(0.1, 1.0, 10) # start, stop, how many"
   ]
  },
  {
   "cell_type": "markdown",
   "id": "1e9cb2b0",
   "metadata": {},
   "source": [
    "### Parabolas\n",
    "\n",
    "The cells below may be used as a worksheet.  Try different polynomials with varied domains, tabulating and plotting the results."
   ]
  },
  {
   "cell_type": "code",
   "execution_count": 21,
   "id": "c6561651",
   "metadata": {},
   "outputs": [],
   "source": [
    "x = np.arange(-3, 3.1, 0.1)"
   ]
  },
  {
   "cell_type": "code",
   "execution_count": 22,
   "id": "e46c5b58",
   "metadata": {},
   "outputs": [],
   "source": [
    "y = x**2 - 1"
   ]
  },
  {
   "cell_type": "markdown",
   "id": "8c6d8cbc",
   "metadata": {},
   "source": [
    "A DataFrame may be initialized in several ways, the most straightforward being a shown below, with a dict.  The dict keys are column headers, whereas the values should be numpy arrays with the corresponding column data."
   ]
  },
  {
   "cell_type": "code",
   "execution_count": 23,
   "id": "166c1b40",
   "metadata": {},
   "outputs": [],
   "source": [
    "points = pd.DataFrame({\"X\":x, \"Y\":y})"
   ]
  },
  {
   "cell_type": "markdown",
   "id": "1a5051a1",
   "metadata": {},
   "source": [
    "Notice how pretty the formatting, with middle rows left out."
   ]
  },
  {
   "cell_type": "code",
   "execution_count": 24,
   "id": "9a68fccb",
   "metadata": {},
   "outputs": [
    {
     "data": {
      "text/html": [
       "<div>\n",
       "<style scoped>\n",
       "    .dataframe tbody tr th:only-of-type {\n",
       "        vertical-align: middle;\n",
       "    }\n",
       "\n",
       "    .dataframe tbody tr th {\n",
       "        vertical-align: top;\n",
       "    }\n",
       "\n",
       "    .dataframe thead th {\n",
       "        text-align: right;\n",
       "    }\n",
       "</style>\n",
       "<table border=\"1\" class=\"dataframe\">\n",
       "  <thead>\n",
       "    <tr style=\"text-align: right;\">\n",
       "      <th></th>\n",
       "      <th>X</th>\n",
       "      <th>Y</th>\n",
       "    </tr>\n",
       "  </thead>\n",
       "  <tbody>\n",
       "    <tr>\n",
       "      <th>0</th>\n",
       "      <td>-3.0</td>\n",
       "      <td>8.00</td>\n",
       "    </tr>\n",
       "    <tr>\n",
       "      <th>1</th>\n",
       "      <td>-2.9</td>\n",
       "      <td>7.41</td>\n",
       "    </tr>\n",
       "    <tr>\n",
       "      <th>2</th>\n",
       "      <td>-2.8</td>\n",
       "      <td>6.84</td>\n",
       "    </tr>\n",
       "    <tr>\n",
       "      <th>3</th>\n",
       "      <td>-2.7</td>\n",
       "      <td>6.29</td>\n",
       "    </tr>\n",
       "    <tr>\n",
       "      <th>4</th>\n",
       "      <td>-2.6</td>\n",
       "      <td>5.76</td>\n",
       "    </tr>\n",
       "    <tr>\n",
       "      <th>...</th>\n",
       "      <td>...</td>\n",
       "      <td>...</td>\n",
       "    </tr>\n",
       "    <tr>\n",
       "      <th>56</th>\n",
       "      <td>2.6</td>\n",
       "      <td>5.76</td>\n",
       "    </tr>\n",
       "    <tr>\n",
       "      <th>57</th>\n",
       "      <td>2.7</td>\n",
       "      <td>6.29</td>\n",
       "    </tr>\n",
       "    <tr>\n",
       "      <th>58</th>\n",
       "      <td>2.8</td>\n",
       "      <td>6.84</td>\n",
       "    </tr>\n",
       "    <tr>\n",
       "      <th>59</th>\n",
       "      <td>2.9</td>\n",
       "      <td>7.41</td>\n",
       "    </tr>\n",
       "    <tr>\n",
       "      <th>60</th>\n",
       "      <td>3.0</td>\n",
       "      <td>8.00</td>\n",
       "    </tr>\n",
       "  </tbody>\n",
       "</table>\n",
       "<p>61 rows × 2 columns</p>\n",
       "</div>"
      ],
      "text/plain": [
       "      X     Y\n",
       "0  -3.0  8.00\n",
       "1  -2.9  7.41\n",
       "2  -2.8  6.84\n",
       "3  -2.7  6.29\n",
       "4  -2.6  5.76\n",
       "..  ...   ...\n",
       "56  2.6  5.76\n",
       "57  2.7  6.29\n",
       "58  2.8  6.84\n",
       "59  2.9  7.41\n",
       "60  3.0  8.00\n",
       "\n",
       "[61 rows x 2 columns]"
      ]
     },
     "execution_count": 24,
     "metadata": {},
     "output_type": "execute_result"
    }
   ],
   "source": [
    "points"
   ]
  },
  {
   "cell_type": "code",
   "execution_count": 27,
   "id": "81f3f8a1",
   "metadata": {},
   "outputs": [
    {
     "data": {
      "text/html": [
       "<div>\n",
       "<style scoped>\n",
       "    .dataframe tbody tr th:only-of-type {\n",
       "        vertical-align: middle;\n",
       "    }\n",
       "\n",
       "    .dataframe tbody tr th {\n",
       "        vertical-align: top;\n",
       "    }\n",
       "\n",
       "    .dataframe thead th {\n",
       "        text-align: right;\n",
       "    }\n",
       "</style>\n",
       "<table border=\"1\" class=\"dataframe\">\n",
       "  <thead>\n",
       "    <tr style=\"text-align: right;\">\n",
       "      <th></th>\n",
       "      <th>X</th>\n",
       "      <th>Y</th>\n",
       "    </tr>\n",
       "  </thead>\n",
       "  <tbody>\n",
       "    <tr>\n",
       "      <th>51</th>\n",
       "      <td>2.1</td>\n",
       "      <td>3.41</td>\n",
       "    </tr>\n",
       "    <tr>\n",
       "      <th>52</th>\n",
       "      <td>2.2</td>\n",
       "      <td>3.84</td>\n",
       "    </tr>\n",
       "    <tr>\n",
       "      <th>53</th>\n",
       "      <td>2.3</td>\n",
       "      <td>4.29</td>\n",
       "    </tr>\n",
       "    <tr>\n",
       "      <th>54</th>\n",
       "      <td>2.4</td>\n",
       "      <td>4.76</td>\n",
       "    </tr>\n",
       "    <tr>\n",
       "      <th>55</th>\n",
       "      <td>2.5</td>\n",
       "      <td>5.25</td>\n",
       "    </tr>\n",
       "    <tr>\n",
       "      <th>56</th>\n",
       "      <td>2.6</td>\n",
       "      <td>5.76</td>\n",
       "    </tr>\n",
       "    <tr>\n",
       "      <th>57</th>\n",
       "      <td>2.7</td>\n",
       "      <td>6.29</td>\n",
       "    </tr>\n",
       "    <tr>\n",
       "      <th>58</th>\n",
       "      <td>2.8</td>\n",
       "      <td>6.84</td>\n",
       "    </tr>\n",
       "    <tr>\n",
       "      <th>59</th>\n",
       "      <td>2.9</td>\n",
       "      <td>7.41</td>\n",
       "    </tr>\n",
       "    <tr>\n",
       "      <th>60</th>\n",
       "      <td>3.0</td>\n",
       "      <td>8.00</td>\n",
       "    </tr>\n",
       "  </tbody>\n",
       "</table>\n",
       "</div>"
      ],
      "text/plain": [
       "      X     Y\n",
       "51  2.1  3.41\n",
       "52  2.2  3.84\n",
       "53  2.3  4.29\n",
       "54  2.4  4.76\n",
       "55  2.5  5.25\n",
       "56  2.6  5.76\n",
       "57  2.7  6.29\n",
       "58  2.8  6.84\n",
       "59  2.9  7.41\n",
       "60  3.0  8.00"
      ]
     },
     "execution_count": 27,
     "metadata": {},
     "output_type": "execute_result"
    }
   ],
   "source": [
    "points.tail(10)"
   ]
  },
  {
   "cell_type": "markdown",
   "id": "735bdf7a",
   "metadata": {},
   "source": [
    "Once we have a DataFrame, we may invoke its plot method directly, with axis labels and title for named arguments."
   ]
  },
  {
   "cell_type": "code",
   "execution_count": 11,
   "id": "4e650f34",
   "metadata": {},
   "outputs": [
    {
     "data": {
      "image/png": "[encoded data removed]",
      "text/plain": [
       "<Figure size 432x288 with 1 Axes>"
      ]
     },
     "metadata": {
      "needs_background": "light"
     },
     "output_type": "display_data"
    }
   ],
   "source": [
    "points.plot(x=\"x\", y=\"y\", title=\"Parabola\");"
   ]
  },
  {
   "cell_type": "markdown",
   "id": "f67e8060",
   "metadata": {},
   "source": [
    "# pandas & SQL\n",
    "\n",
    "Where else have we seen tabular data?  In spreadsheets, certainly.  And in SQL databases, where we have CRUD powers (Create, Retrieve, Update, Delete). We want all these powers, and many more, over our DataFrames as well.\n",
    "\n",
    "Remember [our context manager studies](DatabaseFun.ipynb)?  That's where [context1](context1.py) gets more context."
   ]
  },
  {
   "cell_type": "code",
   "execution_count": 2,
   "id": "798013e9",
   "metadata": {},
   "outputs": [],
   "source": [
    "from context1 import DB"
   ]
  },
  {
   "cell_type": "code",
   "execution_count": 7,
   "id": "fbde4a7f",
   "metadata": {},
   "outputs": [
    {
     "data": {
      "text/html": [
       "<div>\n",
       "<style scoped>\n",
       "    .dataframe tbody tr th:only-of-type {\n",
       "        vertical-align: middle;\n",
       "    }\n",
       "\n",
       "    .dataframe tbody tr th {\n",
       "        vertical-align: top;\n",
       "    }\n",
       "\n",
       "    .dataframe thead th {\n",
       "        text-align: right;\n",
       "    }\n",
       "</style>\n",
       "<table border=\"1\" class=\"dataframe\">\n",
       "  <thead>\n",
       "    <tr style=\"text-align: right;\">\n",
       "      <th></th>\n",
       "      <th>Name</th>\n",
       "      <th>Park</th>\n",
       "      <th>State</th>\n",
       "    </tr>\n",
       "  </thead>\n",
       "  <tbody>\n",
       "    <tr>\n",
       "      <th>0</th>\n",
       "      <td>Superman The Escape</td>\n",
       "      <td>Six Flags Magic Mountain</td>\n",
       "      <td>California</td>\n",
       "    </tr>\n",
       "    <tr>\n",
       "      <th>1</th>\n",
       "      <td>Goliath</td>\n",
       "      <td>Six Flags Magic Mountain</td>\n",
       "      <td>California</td>\n",
       "    </tr>\n",
       "    <tr>\n",
       "      <th>2</th>\n",
       "      <td>Xcelerator</td>\n",
       "      <td>Knott's Berry Farm</td>\n",
       "      <td>California</td>\n",
       "    </tr>\n",
       "    <tr>\n",
       "      <th>3</th>\n",
       "      <td>Tower of Terror</td>\n",
       "      <td>Dreamworld</td>\n",
       "      <td>Coomera</td>\n",
       "    </tr>\n",
       "    <tr>\n",
       "      <th>4</th>\n",
       "      <td>Fujiyama</td>\n",
       "      <td>Fuji-Q Highlands</td>\n",
       "      <td>FujiYoshida-shi</td>\n",
       "    </tr>\n",
       "    <tr>\n",
       "      <th>5</th>\n",
       "      <td>Steel Dragon 2000</td>\n",
       "      <td>Nagashima Spa Land</td>\n",
       "      <td>Nagashima</td>\n",
       "    </tr>\n",
       "    <tr>\n",
       "      <th>6</th>\n",
       "      <td>Desperado</td>\n",
       "      <td>Buffalo Bill's Resort &amp; Casino</td>\n",
       "      <td>Nevada</td>\n",
       "    </tr>\n",
       "    <tr>\n",
       "      <th>7</th>\n",
       "      <td>Nitro</td>\n",
       "      <td>Six Flags Great Adventure</td>\n",
       "      <td>New Jersey</td>\n",
       "    </tr>\n",
       "    <tr>\n",
       "      <th>8</th>\n",
       "      <td>Top Thrill Dragster</td>\n",
       "      <td>Cedar Point</td>\n",
       "      <td>Ohio</td>\n",
       "    </tr>\n",
       "    <tr>\n",
       "      <th>9</th>\n",
       "      <td>Millennium Force</td>\n",
       "      <td>Cedar Point</td>\n",
       "      <td>Ohio</td>\n",
       "    </tr>\n",
       "    <tr>\n",
       "      <th>10</th>\n",
       "      <td>Phantom's Revenge</td>\n",
       "      <td>Kennywood Park</td>\n",
       "      <td>Pennsylvania</td>\n",
       "    </tr>\n",
       "    <tr>\n",
       "      <th>11</th>\n",
       "      <td>Thunder Dolphin</td>\n",
       "      <td>LaQua</td>\n",
       "      <td>Tokyo</td>\n",
       "    </tr>\n",
       "    <tr>\n",
       "      <th>12</th>\n",
       "      <td>HyperSonic XLC</td>\n",
       "      <td>Paramount's Kings Dominion</td>\n",
       "      <td>Virginia</td>\n",
       "    </tr>\n",
       "  </tbody>\n",
       "</table>\n",
       "</div>"
      ],
      "text/plain": [
       "                   Name                            Park            State\n",
       "0   Superman The Escape        Six Flags Magic Mountain       California\n",
       "1               Goliath        Six Flags Magic Mountain       California\n",
       "2            Xcelerator              Knott's Berry Farm       California\n",
       "3       Tower of Terror                      Dreamworld          Coomera\n",
       "4              Fujiyama                Fuji-Q Highlands  FujiYoshida-shi\n",
       "5     Steel Dragon 2000              Nagashima Spa Land        Nagashima\n",
       "6             Desperado  Buffalo Bill's Resort & Casino           Nevada\n",
       "7                 Nitro       Six Flags Great Adventure       New Jersey\n",
       "8   Top Thrill Dragster                     Cedar Point             Ohio\n",
       "9      Millennium Force                     Cedar Point             Ohio\n",
       "10    Phantom's Revenge                  Kennywood Park     Pennsylvania\n",
       "11      Thunder Dolphin                           LaQua            Tokyo\n",
       "12       HyperSonic XLC      Paramount's Kings Dominion         Virginia"
      ]
     },
     "execution_count": 7,
     "metadata": {},
     "output_type": "execute_result"
    }
   ],
   "source": [
    "with DB(\"roller_coasters.db\") as db:\n",
    "    sql_query = pd.read_sql_query(\"SELECT Name, Park, State FROM Coasters WHERE speed >= 80 ORDER BY State\", db.conn)\n",
    "    coasters = pd.DataFrame(sql_query)\n",
    "    \n",
    "coasters.head(20)"
   ]
  },
  {
   "cell_type": "code",
   "execution_count": 17,
   "id": "6d2ae092",
   "metadata": {},
   "outputs": [
    {
     "data": {
      "text/html": [
       "<div>\n",
       "<style scoped>\n",
       "    .dataframe tbody tr th:only-of-type {\n",
       "        vertical-align: middle;\n",
       "    }\n",
       "\n",
       "    .dataframe tbody tr th {\n",
       "        vertical-align: top;\n",
       "    }\n",
       "\n",
       "    .dataframe thead th {\n",
       "        text-align: right;\n",
       "    }\n",
       "</style>\n",
       "<table border=\"1\" class=\"dataframe\">\n",
       "  <thead>\n",
       "    <tr style=\"text-align: right;\">\n",
       "      <th></th>\n",
       "      <th>iata</th>\n",
       "      <th>iso</th>\n",
       "      <th>name</th>\n",
       "      <th>continent</th>\n",
       "      <th>type</th>\n",
       "      <th>lat</th>\n",
       "      <th>lon</th>\n",
       "      <th>size</th>\n",
       "      <th>status</th>\n",
       "    </tr>\n",
       "  </thead>\n",
       "  <tbody>\n",
       "    <tr>\n",
       "      <th>0</th>\n",
       "      <td>UTK</td>\n",
       "      <td>MH</td>\n",
       "      <td>Utirik Airport</td>\n",
       "      <td>OC</td>\n",
       "      <td>airport</td>\n",
       "      <td>11.233333</td>\n",
       "      <td>169.86667</td>\n",
       "      <td>small</td>\n",
       "      <td>1</td>\n",
       "    </tr>\n",
       "    <tr>\n",
       "      <th>1</th>\n",
       "      <td>FIV</td>\n",
       "      <td>US</td>\n",
       "      <td>Five Finger CG Heliport</td>\n",
       "      <td>NA</td>\n",
       "      <td>heliport</td>\n",
       "      <td>NaN</td>\n",
       "      <td>NaN</td>\n",
       "      <td>None</td>\n",
       "      <td>1</td>\n",
       "    </tr>\n",
       "    <tr>\n",
       "      <th>2</th>\n",
       "      <td>FAK</td>\n",
       "      <td>US</td>\n",
       "      <td>False Island Seaplane Base</td>\n",
       "      <td>NA</td>\n",
       "      <td>seaplanes</td>\n",
       "      <td>NaN</td>\n",
       "      <td>NaN</td>\n",
       "      <td>None</td>\n",
       "      <td>1</td>\n",
       "    </tr>\n",
       "    <tr>\n",
       "      <th>3</th>\n",
       "      <td>BWS</td>\n",
       "      <td>US</td>\n",
       "      <td>Blaine Municipal Airport</td>\n",
       "      <td>NA</td>\n",
       "      <td>closed</td>\n",
       "      <td>NaN</td>\n",
       "      <td>NaN</td>\n",
       "      <td>None</td>\n",
       "      <td>0</td>\n",
       "    </tr>\n",
       "    <tr>\n",
       "      <th>4</th>\n",
       "      <td>WKK</td>\n",
       "      <td>US</td>\n",
       "      <td>Aleknagik / New Airport</td>\n",
       "      <td>NA</td>\n",
       "      <td>airport</td>\n",
       "      <td>59.277780</td>\n",
       "      <td>-158.61111</td>\n",
       "      <td>medium</td>\n",
       "      <td>1</td>\n",
       "    </tr>\n",
       "  </tbody>\n",
       "</table>\n",
       "</div>"
      ],
      "text/plain": [
       "  iata iso                        name continent       type        lat  \\\n",
       "0  UTK  MH              Utirik Airport        OC    airport  11.233333   \n",
       "1  FIV  US     Five Finger CG Heliport        NA   heliport        NaN   \n",
       "2  FAK  US  False Island Seaplane Base        NA  seaplanes        NaN   \n",
       "3  BWS  US    Blaine Municipal Airport        NA     closed        NaN   \n",
       "4  WKK  US     Aleknagik / New Airport        NA    airport  59.277780   \n",
       "\n",
       "         lon    size  status  \n",
       "0  169.86667   small       1  \n",
       "1        NaN    None       1  \n",
       "2        NaN    None       1  \n",
       "3        NaN    None       0  \n",
       "4 -158.61111  medium       1  "
      ]
     },
     "execution_count": 17,
     "metadata": {},
     "output_type": "execute_result"
    }
   ],
   "source": [
    "with DB(\"airports.db\") as db:\n",
    "    sql_query = pd.read_sql_query(\"SELECT * FROM Airports\", db.conn)\n",
    "    airports = pd.DataFrame(sql_query)\n",
    "    \n",
    "airports.head()"
   ]
  },
  {
   "cell_type": "markdown",
   "id": "fca2ed94",
   "metadata": {},
   "source": [
    "For further reading:\n",
    "\n",
    "* [Help with DELETE on Quora](https://qr.ae/pGNaYy)"
   ]
  }
 ],
 "metadata": {
  "kernelspec": {
   "display_name": "Python 3",
   "language": "python",
   "name": "python3"
  },
  "language_info": {
   "codemirror_mode": {
    "name": "ipython",
    "version": 3
   },
   "file_extension": ".py",
   "mimetype": "text/x-python",
   "name": "python",
   "nbconvert_exporter": "python",
   "pygments_lexer": "ipython3",
   "version": "3.7.9"
  }
 },
 "nbformat": 4,
 "nbformat_minor": 5
}
