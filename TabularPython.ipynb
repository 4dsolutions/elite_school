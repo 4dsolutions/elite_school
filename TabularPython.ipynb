{
 "cells": [
  {
   "cell_type": "markdown",
   "id": "5c2b25e7",
   "metadata": {},
   "source": [
    "[Home](Home.ipynb)\n",
    "\n",
    "# Tabular Python (numpy + pandas)\n"
   ]
  },
  {
   "cell_type": "code",
   "execution_count": null,
   "id": "6f2bc938",
   "metadata": {},
   "outputs": [],
   "source": []
  }
 ],
 "metadata": {
  "kernelspec": {
   "display_name": "Python 3",
   "language": "python",
   "name": "python3"
  },
  "language_info": {
   "codemirror_mode": {
    "name": "ipython",
    "version": 3
   },
   "file_extension": ".py",
   "mimetype": "text/x-python",
   "name": "python",
   "nbconvert_exporter": "python",
   "pygments_lexer": "ipython3",
   "version": "3.7.9"
  }
 },
 "nbformat": 4,
 "nbformat_minor": 5
}
