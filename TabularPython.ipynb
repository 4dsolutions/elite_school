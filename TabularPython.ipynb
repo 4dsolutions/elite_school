{
 "cells": [
  {
   "cell_type": "markdown",
   "id": "358750ca",
   "metadata": {},
   "source": [
    "[Home](Home.ipynb)\n",
    "\n",
    "# Tabular Python (numpy + pandas)\n",
    "\n",
    "Although numpy's n-dimensional arrays may have as many axes as we like, we're typically working with rows and columns, like a spreadsheet.  We call this a two dimensional array.\n",
    "\n",
    "Numpy does the number crunching with respect to these arrays.  Pandas provides a DataFrame much like a picture frame around a canvas.  You get to label and reorder rows and columns, will mixing columns (called Series type objects) of different types."
   ]
  },
  {
   "cell_type": "code",
   "execution_count": 1,
   "id": "2bedea52",
   "metadata": {},
   "outputs": [],
   "source": [
    "import numpy as np\n",
    "import pandas as pd"
   ]
  },
  {
   "cell_type": "code",
   "execution_count": 4,
   "id": "88c77086",
   "metadata": {},
   "outputs": [
    {
     "data": {
      "text/plain": [
       "'numpy ver: 1.17.3; pandas ver: 1.2.3'"
      ]
     },
     "execution_count": 4,
     "metadata": {},
     "output_type": "execute_result"
    }
   ],
   "source": [
    "\"numpy ver: {}; pandas ver: {}\".format(np.__version__, pd.__version__)"
   ]
  },
  {
   "cell_type": "markdown",
   "id": "753324e5",
   "metadata": {},
   "source": [
    "Python's native range type is all fine and good when you want consecutive integers. Thanks to list comprehension syntax, defining floating point inputs at some constant interval is likewise doable."
   ]
  },
  {
   "cell_type": "code",
   "execution_count": 6,
   "id": "4ebfee37",
   "metadata": {},
   "outputs": [
    {
     "data": {
      "text/plain": [
       "[0.1, 0.2, 0.3, 0.4, 0.5, 0.6, 0.7, 0.8, 0.9, 1.0]"
      ]
     },
     "execution_count": 6,
     "metadata": {},
     "output_type": "execute_result"
    }
   ],
   "source": [
    "[i/10 for i in range(1, 11)] # range has no native floating point ability"
   ]
  },
  {
   "cell_type": "markdown",
   "id": "f61024f1",
   "metadata": {},
   "source": [
    "However, numpy introduces two new domain-makers that make life easier yet, in that both return np.ndarray type objects, equipped with all manner of methods.\n",
    "\n",
    "```arange``` gets a start and up-to-but-not-including argument, followed by the discrete interval between adjacent values.  "
   ]
  },
  {
   "cell_type": "code",
   "execution_count": 7,
   "id": "2de5d161",
   "metadata": {},
   "outputs": [
    {
     "data": {
      "text/plain": [
       "array([0.1, 0.2, 0.3, 0.4, 0.5, 0.6, 0.7, 0.8, 0.9, 1. ])"
      ]
     },
     "execution_count": 7,
     "metadata": {},
     "output_type": "execute_result"
    }
   ],
   "source": [
    "np.arange(0.1, 1.1, 0.1) # start, up to, interval"
   ]
  },
  {
   "cell_type": "markdown",
   "id": "08782460",
   "metadata": {},
   "source": [
    "```linspace``` is similar, but a third argument specifies how many points should appear between start and stop values.  The stop value is inclusive in this case."
   ]
  },
  {
   "cell_type": "code",
   "execution_count": 8,
   "id": "53ad4d82",
   "metadata": {},
   "outputs": [
    {
     "data": {
      "text/plain": [
       "array([0.1, 0.2, 0.3, 0.4, 0.5, 0.6, 0.7, 0.8, 0.9, 1. ])"
      ]
     },
     "execution_count": 8,
     "metadata": {},
     "output_type": "execute_result"
    }
   ],
   "source": [
    "np.linspace(0.1, 1.0, 10) # start, stop, how many"
   ]
  },
  {
   "cell_type": "markdown",
   "id": "d28bf091",
   "metadata": {},
   "source": [
    "### Plotting Polynomials\n",
    "\n",
    "The cells below may be used as a worksheet.  Try different polynomials with varied domains, tabulating and plotting the results."
   ]
  },
  {
   "cell_type": "code",
   "execution_count": 13,
   "id": "95654719",
   "metadata": {},
   "outputs": [],
   "source": [
    "x = np.arange(-3, 3.1, 0.1)"
   ]
  },
  {
   "cell_type": "code",
   "execution_count": 24,
   "id": "82b65cd7",
   "metadata": {},
   "outputs": [],
   "source": [
    "y = x**2 - 2*x + 1"
   ]
  },
  {
   "cell_type": "markdown",
   "id": "ff10e61d",
   "metadata": {},
   "source": [
    "A DataFrame may be initialized in several ways, the most straightforward being a shown below, with a dict.  The dict keys are column headers, whereas the values should be numpy arrays with the corresponding column data."
   ]
  },
  {
   "cell_type": "code",
   "execution_count": 25,
   "id": "250ec10a",
   "metadata": {},
   "outputs": [],
   "source": [
    "points = pd.DataFrame({\"x\":x, \"y\":y})"
   ]
  },
  {
   "cell_type": "markdown",
   "id": "f0583c03",
   "metadata": {},
   "source": [
    "Notice how pretty the formatting, with middle rows left out."
   ]
  },
  {
   "cell_type": "code",
   "execution_count": 27,
   "id": "5fa23c10",
   "metadata": {},
   "outputs": [
    {
     "data": {
      "text/html": [
       "<div>\n",
       "<style scoped>\n",
       "    .dataframe tbody tr th:only-of-type {\n",
       "        vertical-align: middle;\n",
       "    }\n",
       "\n",
       "    .dataframe tbody tr th {\n",
       "        vertical-align: top;\n",
       "    }\n",
       "\n",
       "    .dataframe thead th {\n",
       "        text-align: right;\n",
       "    }\n",
       "</style>\n",
       "<table border=\"1\" class=\"dataframe\">\n",
       "  <thead>\n",
       "    <tr style=\"text-align: right;\">\n",
       "      <th></th>\n",
       "      <th>x</th>\n",
       "      <th>y</th>\n",
       "    </tr>\n",
       "  </thead>\n",
       "  <tbody>\n",
       "    <tr>\n",
       "      <th>0</th>\n",
       "      <td>-3.0</td>\n",
       "      <td>16.00</td>\n",
       "    </tr>\n",
       "    <tr>\n",
       "      <th>1</th>\n",
       "      <td>-2.9</td>\n",
       "      <td>15.21</td>\n",
       "    </tr>\n",
       "    <tr>\n",
       "      <th>2</th>\n",
       "      <td>-2.8</td>\n",
       "      <td>14.44</td>\n",
       "    </tr>\n",
       "    <tr>\n",
       "      <th>3</th>\n",
       "      <td>-2.7</td>\n",
       "      <td>13.69</td>\n",
       "    </tr>\n",
       "    <tr>\n",
       "      <th>4</th>\n",
       "      <td>-2.6</td>\n",
       "      <td>12.96</td>\n",
       "    </tr>\n",
       "    <tr>\n",
       "      <th>...</th>\n",
       "      <td>...</td>\n",
       "      <td>...</td>\n",
       "    </tr>\n",
       "    <tr>\n",
       "      <th>56</th>\n",
       "      <td>2.6</td>\n",
       "      <td>2.56</td>\n",
       "    </tr>\n",
       "    <tr>\n",
       "      <th>57</th>\n",
       "      <td>2.7</td>\n",
       "      <td>2.89</td>\n",
       "    </tr>\n",
       "    <tr>\n",
       "      <th>58</th>\n",
       "      <td>2.8</td>\n",
       "      <td>3.24</td>\n",
       "    </tr>\n",
       "    <tr>\n",
       "      <th>59</th>\n",
       "      <td>2.9</td>\n",
       "      <td>3.61</td>\n",
       "    </tr>\n",
       "    <tr>\n",
       "      <th>60</th>\n",
       "      <td>3.0</td>\n",
       "      <td>4.00</td>\n",
       "    </tr>\n",
       "  </tbody>\n",
       "</table>\n",
       "<p>61 rows × 2 columns</p>\n",
       "</div>"
      ],
      "text/plain": [
       "      x      y\n",
       "0  -3.0  16.00\n",
       "1  -2.9  15.21\n",
       "2  -2.8  14.44\n",
       "3  -2.7  13.69\n",
       "4  -2.6  12.96\n",
       "..  ...    ...\n",
       "56  2.6   2.56\n",
       "57  2.7   2.89\n",
       "58  2.8   3.24\n",
       "59  2.9   3.61\n",
       "60  3.0   4.00\n",
       "\n",
       "[61 rows x 2 columns]"
      ]
     },
     "execution_count": 27,
     "metadata": {},
     "output_type": "execute_result"
    }
   ],
   "source": [
    "points"
   ]
  },
  {
   "cell_type": "code",
   "execution_count": 28,
   "id": "3ae565b5",
   "metadata": {},
   "outputs": [
    {
     "data": {
      "text/html": [
       "<div>\n",
       "<style scoped>\n",
       "    .dataframe tbody tr th:only-of-type {\n",
       "        vertical-align: middle;\n",
       "    }\n",
       "\n",
       "    .dataframe tbody tr th {\n",
       "        vertical-align: top;\n",
       "    }\n",
       "\n",
       "    .dataframe thead th {\n",
       "        text-align: right;\n",
       "    }\n",
       "</style>\n",
       "<table border=\"1\" class=\"dataframe\">\n",
       "  <thead>\n",
       "    <tr style=\"text-align: right;\">\n",
       "      <th></th>\n",
       "      <th>x</th>\n",
       "      <th>y</th>\n",
       "    </tr>\n",
       "  </thead>\n",
       "  <tbody>\n",
       "    <tr>\n",
       "      <th>0</th>\n",
       "      <td>-3.0</td>\n",
       "      <td>16.00</td>\n",
       "    </tr>\n",
       "    <tr>\n",
       "      <th>1</th>\n",
       "      <td>-2.9</td>\n",
       "      <td>15.21</td>\n",
       "    </tr>\n",
       "    <tr>\n",
       "      <th>2</th>\n",
       "      <td>-2.8</td>\n",
       "      <td>14.44</td>\n",
       "    </tr>\n",
       "    <tr>\n",
       "      <th>3</th>\n",
       "      <td>-2.7</td>\n",
       "      <td>13.69</td>\n",
       "    </tr>\n",
       "    <tr>\n",
       "      <th>4</th>\n",
       "      <td>-2.6</td>\n",
       "      <td>12.96</td>\n",
       "    </tr>\n",
       "  </tbody>\n",
       "</table>\n",
       "</div>"
      ],
      "text/plain": [
       "     x      y\n",
       "0 -3.0  16.00\n",
       "1 -2.9  15.21\n",
       "2 -2.8  14.44\n",
       "3 -2.7  13.69\n",
       "4 -2.6  12.96"
      ]
     },
     "execution_count": 28,
     "metadata": {},
     "output_type": "execute_result"
    }
   ],
   "source": [
    "points.head()"
   ]
  },
  {
   "cell_type": "markdown",
   "id": "394c9036",
   "metadata": {},
   "source": [
    "Once we have a DataFrame, we may invoke its plot method directly, with axis labels and title for named arguments."
   ]
  },
  {
   "cell_type": "code",
   "execution_count": 26,
   "id": "0906d52f",
   "metadata": {},
   "outputs": [
    {
     "data": {
      "image/png": "[encoded data removed]",
      "text/plain": [
       "<Figure size 432x288 with 1 Axes>"
      ]
     },
     "metadata": {
      "needs_background": "light"
     },
     "output_type": "display_data"
    }
   ],
   "source": [
    "points.plot(x=\"x\", y=\"y\", title=\"Parabola\");"
   ]
  }
 ],
 "metadata": {
  "kernelspec": {
   "display_name": "Python 3",
   "language": "python",
   "name": "python3"
  },
  "language_info": {
   "codemirror_mode": {
    "name": "ipython",
    "version": 3
   },
   "file_extension": ".py",
   "mimetype": "text/x-python",
   "name": "python",
   "nbconvert_exporter": "python",
   "pygments_lexer": "ipython3",
   "version": "3.7.9"
  }
 },
 "nbformat": 4,
 "nbformat_minor": 5
}
