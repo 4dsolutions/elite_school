{
 "cells": [
  {
   "cell_type": "markdown",
   "metadata": {},
   "source": [
    "## Kaggle Worksheet\n",
    "\n",
    "\n",
    "Instructions:\n",
    "\n",
    "1.   go to [the dataset](https://www.kaggle.com/datasets/martj42/international-football-results-from-1872-to-2017), and sign in to Kaggle\n",
    "2.   start a New Notebook \n",
    "3.   choose Import a Notebook\n",
    "4.   Select Github icon and navigate to:\n",
    "     * Org: 4dsolutions\n",
    "     * Repo: elite_school\n",
    "     * Notebook: kaggle-italy-vs-brazil.ipynb\n",
    "\n",
    "<a data-flickr-embed=\"true\" href=\"https://www.flickr.com/photos/kirbyurner/51993307235/in/dateposted-public/\" title=\"importing_into_kaggle\"><img src=\"https://live.staticflickr.com/65535/51993307235_de4084572c_c.jpg\" width=\"800\" height=\"460\" alt=\"importing_into_kaggle\"></a><script async src=\"//embedr.flickr.com/assets/client-code.js\" charset=\"utf-8\"></script>"
   ]
  },
  {
   "cell_type": "code",
   "execution_count": 1,
   "metadata": {
    "_cell_guid": "b1076dfc-b9ad-4769-8c92-a6c4dae69d19",
    "_uuid": "8f2839f25d086af736a60e9eeb907d3b93b6e0e5",
    "tags": []
   },
   "outputs": [],
   "source": [
    "# This Python 3 environment comes with many helpful analytics libraries installed\n",
    "# It is defined by the kaggle/python Docker image: https://github.com/kaggle/docker-python\n",
    "# For example, here's several helpful packages to load\n",
    "\n",
    "import numpy as np # linear algebra\n",
    "import pandas as pd # data processing, CSV file I/O (e.g. pd.read_csv)\n",
    "\n",
    "# Input data files are available in the read-only \"../input/\" directory\n",
    "# For example, running this (by clicking run or pressing Shift+Enter) will list all files under the input directory\n",
    "\n",
    "import os\n",
    "for dirname, _, filenames in os.walk('/kaggle/input'):\n",
    "    for filename in filenames:\n",
    "        print(os.path.join(dirname, filename))\n",
    "\n",
    "# You can write up to 20GB to the current directory (/kaggle/working/) that gets preserved as output when you create a version using \"Save & Run All\" \n",
    "# You can also write temporary files to /kaggle/temp/, but they won't be saved outside of the current session"
   ]
  },
  {
   "cell_type": "code",
   "execution_count": 2,
   "metadata": {
    "execution": {
     "iopub.execute_input": "2022-04-09T17:19:06.311514Z",
     "iopub.status.busy": "2022-04-09T17:19:06.311183Z",
     "iopub.status.idle": "2022-04-09T17:19:06.424655Z",
     "shell.execute_reply": "2022-04-09T17:19:06.423846Z",
     "shell.execute_reply.started": "2022-04-09T17:19:06.311467Z"
    }
   },
   "outputs": [],
   "source": [
    "df = pd.read_csv(\"/kaggle/input/international-football-results-from-1872-to-2017/results.csv\")"
   ]
  },
  {
   "cell_type": "code",
   "execution_count": 3,
   "metadata": {
    "execution": {
     "iopub.execute_input": "2022-04-09T17:19:06.426290Z",
     "iopub.status.busy": "2022-04-09T17:19:06.426081Z",
     "iopub.status.idle": "2022-04-09T17:19:06.448596Z",
     "shell.execute_reply": "2022-04-09T17:19:06.447811Z",
     "shell.execute_reply.started": "2022-04-09T17:19:06.426265Z"
    }
   },
   "outputs": [],
   "source": [
    "df.head()"
   ]
  },
  {
   "cell_type": "code",
   "execution_count": 4,
   "metadata": {
    "execution": {
     "iopub.execute_input": "2022-04-09T17:19:06.449970Z",
     "iopub.status.busy": "2022-04-09T17:19:06.449743Z",
     "iopub.status.idle": "2022-04-09T17:19:08.989572Z",
     "shell.execute_reply": "2022-04-09T17:19:08.988459Z",
     "shell.execute_reply.started": "2022-04-09T17:19:06.449944Z"
    }
   },
   "outputs": [],
   "source": [
    "dg_home = df.groupby('home_team').aggregate([\"describe\"])"
   ]
  },
  {
   "cell_type": "code",
   "execution_count": 5,
   "metadata": {
    "execution": {
     "iopub.execute_input": "2022-04-09T17:19:08.991091Z",
     "iopub.status.busy": "2022-04-09T17:19:08.990854Z",
     "iopub.status.idle": "2022-04-09T17:19:08.996722Z",
     "shell.execute_reply": "2022-04-09T17:19:08.996073Z",
     "shell.execute_reply.started": "2022-04-09T17:19:08.991064Z"
    }
   },
   "outputs": [],
   "source": [
    "type(dg_home)"
   ]
  },
  {
   "cell_type": "code",
   "execution_count": 6,
   "metadata": {
    "execution": {
     "iopub.execute_input": "2022-04-09T17:19:08.999391Z",
     "iopub.status.busy": "2022-04-09T17:19:08.998611Z",
     "iopub.status.idle": "2022-04-09T17:19:09.006618Z",
     "shell.execute_reply": "2022-04-09T17:19:09.005922Z",
     "shell.execute_reply.started": "2022-04-09T17:19:08.999350Z"
    }
   },
   "outputs": [],
   "source": [
    "df_group_home = df.groupby('home_team')"
   ]
  },
  {
   "cell_type": "code",
   "execution_count": 7,
   "metadata": {
    "execution": {
     "iopub.execute_input": "2022-04-09T17:19:09.010186Z",
     "iopub.status.busy": "2022-04-09T17:19:09.009908Z",
     "iopub.status.idle": "2022-04-09T17:19:09.023225Z",
     "shell.execute_reply": "2022-04-09T17:19:09.022462Z",
     "shell.execute_reply.started": "2022-04-09T17:19:09.010158Z"
    }
   },
   "outputs": [],
   "source": [
    "italy_home = df_group_home.get_group(\"Italy\")"
   ]
  },
  {
   "cell_type": "code",
   "execution_count": 8,
   "metadata": {
    "execution": {
     "iopub.execute_input": "2022-04-09T17:19:09.024750Z",
     "iopub.status.busy": "2022-04-09T17:19:09.024339Z",
     "iopub.status.idle": "2022-04-09T17:19:09.039528Z",
     "shell.execute_reply": "2022-04-09T17:19:09.038723Z",
     "shell.execute_reply.started": "2022-04-09T17:19:09.024718Z"
    }
   },
   "outputs": [],
   "source": [
    "italy_home[italy_home.away_team == \"Brazil\"]"
   ]
  },
  {
   "cell_type": "code",
   "execution_count": 9,
   "metadata": {
    "execution": {
     "iopub.execute_input": "2022-04-09T17:19:09.041217Z",
     "iopub.status.busy": "2022-04-09T17:19:09.040848Z",
     "iopub.status.idle": "2022-04-09T17:19:09.047740Z",
     "shell.execute_reply": "2022-04-09T17:19:09.047120Z",
     "shell.execute_reply.started": "2022-04-09T17:19:09.041174Z"
    }
   },
   "outputs": [],
   "source": [
    "df_group_away = df.groupby('away_team')"
   ]
  },
  {
   "cell_type": "code",
   "execution_count": 10,
   "metadata": {
    "execution": {
     "iopub.execute_input": "2022-04-09T17:19:09.049650Z",
     "iopub.status.busy": "2022-04-09T17:19:09.048972Z",
     "iopub.status.idle": "2022-04-09T17:19:09.064405Z",
     "shell.execute_reply": "2022-04-09T17:19:09.063705Z",
     "shell.execute_reply.started": "2022-04-09T17:19:09.049605Z"
    }
   },
   "outputs": [],
   "source": [
    "italy_away = df_group_away.get_group(\"Italy\")"
   ]
  },
  {
   "cell_type": "code",
   "execution_count": 11,
   "metadata": {
    "execution": {
     "iopub.execute_input": "2022-04-09T17:19:09.066068Z",
     "iopub.status.busy": "2022-04-09T17:19:09.065675Z",
     "iopub.status.idle": "2022-04-09T17:19:09.080947Z",
     "shell.execute_reply": "2022-04-09T17:19:09.080142Z",
     "shell.execute_reply.started": "2022-04-09T17:19:09.066041Z"
    }
   },
   "outputs": [],
   "source": [
    "italy_away[italy_away.home_team == \"Brazil\"]"
   ]
  },
  {
   "cell_type": "code",
   "execution_count": 12,
   "metadata": {
    "execution": {
     "iopub.execute_input": "2022-04-09T17:19:09.082365Z",
     "iopub.status.busy": "2022-04-09T17:19:09.082174Z",
     "iopub.status.idle": "2022-04-09T17:19:09.111095Z",
     "shell.execute_reply": "2022-04-09T17:19:09.110323Z",
     "shell.execute_reply.started": "2022-04-09T17:19:09.082342Z"
    }
   },
   "outputs": [],
   "source": [
    "italy_vs_brazil = pd.concat([ df[(df.home_team == 'Brazil') & (df.away_team == 'Italy')],\n",
    "                              df[(df.home_team == 'Italy')  & (df.away_team == 'Brazil')]], \n",
    "                              axis=0).sort_values('date')\n",
    "italy_vs_brazil.head()"
   ]
  },
  {
   "cell_type": "code",
   "execution_count": 13,
   "metadata": {
    "execution": {
     "iopub.execute_input": "2022-04-09T17:19:09.113606Z",
     "iopub.status.busy": "2022-04-09T17:19:09.113403Z",
     "iopub.status.idle": "2022-04-09T17:19:09.119816Z",
     "shell.execute_reply": "2022-04-09T17:19:09.119054Z",
     "shell.execute_reply.started": "2022-04-09T17:19:09.113573Z"
    }
   },
   "outputs": [],
   "source": [
    "def get_winner(x):\n",
    "    if x[\"home_score\"] > x[\"away_score\"]:\n",
    "        return x[\"home_team\"]\n",
    "    if x[\"home_score\"] < x[\"away_score\"]:\n",
    "        return x[\"away_team\"]\n",
    "    return \"Draw\"\n",
    "\n",
    "italy_vs_brazil[\"winner\"] = italy_vs_brazil.apply(lambda row: get_winner(row), axis=1)"
   ]
  },
  {
   "cell_type": "code",
   "execution_count": 14,
   "metadata": {
    "execution": {
     "iopub.execute_input": "2022-04-09T17:19:09.121621Z",
     "iopub.status.busy": "2022-04-09T17:19:09.120972Z",
     "iopub.status.idle": "2022-04-09T17:19:09.139804Z",
     "shell.execute_reply": "2022-04-09T17:19:09.139030Z",
     "shell.execute_reply.started": "2022-04-09T17:19:09.121583Z"
    }
   },
   "outputs": [],
   "source": [
    "italy_vs_brazil.head()"
   ]
  },
  {
   "cell_type": "code",
   "execution_count": 15,
   "metadata": {
    "execution": {
     "iopub.execute_input": "2022-04-09T17:19:09.141045Z",
     "iopub.status.busy": "2022-04-09T17:19:09.140833Z",
     "iopub.status.idle": "2022-04-09T17:19:09.146069Z",
     "shell.execute_reply": "2022-04-09T17:19:09.145327Z",
     "shell.execute_reply.started": "2022-04-09T17:19:09.141020Z"
    }
   },
   "outputs": [],
   "source": [
    "cols = italy_vs_brazil.columns.to_list()\n",
    "cols.insert(3, \"winner\")\n",
    "cols.pop()\n",
    "cols"
   ]
  },
  {
   "cell_type": "code",
   "execution_count": 16,
   "metadata": {
    "execution": {
     "iopub.execute_input": "2022-04-09T17:19:09.147139Z",
     "iopub.status.busy": "2022-04-09T17:19:09.146951Z",
     "iopub.status.idle": "2022-04-09T17:19:09.159126Z",
     "shell.execute_reply": "2022-04-09T17:19:09.158390Z",
     "shell.execute_reply.started": "2022-04-09T17:19:09.147117Z"
    }
   },
   "outputs": [],
   "source": [
    "italy_vs_brazil = italy_vs_brazil.reindex(columns = cols)"
   ]
  },
  {
   "cell_type": "code",
   "execution_count": 17,
   "metadata": {
    "execution": {
     "iopub.execute_input": "2022-04-09T17:19:09.161108Z",
     "iopub.status.busy": "2022-04-09T17:19:09.160796Z",
     "iopub.status.idle": "2022-04-09T17:19:09.178242Z",
     "shell.execute_reply": "2022-04-09T17:19:09.177688Z",
     "shell.execute_reply.started": "2022-04-09T17:19:09.161057Z"
    }
   },
   "outputs": [],
   "source": [
    "italy_vs_brazil.head()"
   ]
  }
 ],
 "metadata": {
  "kernelspec": {
   "display_name": "Python 3 (ipykernel)",
   "language": "python",
   "name": "python3"
  },
  "language_info": {
   "codemirror_mode": {
    "name": "ipython",
    "version": 3
   },
   "file_extension": ".py",
   "mimetype": "text/x-python",
   "name": "python",
   "nbconvert_exporter": "python",
   "pygments_lexer": "ipython3",
   "version": "3.7.9"
  }
 },
 "nbformat": 4,
 "nbformat_minor": 4
}
