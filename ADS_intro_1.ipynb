{
 "cells": [
  {
   "cell_type": "markdown",
   "id": "ae01d5f4-08dd-4621-a403-27645dcc8459",
   "metadata": {
    "tags": []
   },
   "source": [
    "##### Algorithms and Data Structures (Winter - Spring 2022)\n",
    "\n",
    "* [Colab view](https://colab.research.google.com/github/4dsolutions/elite_school/blob/master/ADS_intro_1.ipynb)\n",
    "* [nbviewer view](https://nbviewer.org/github/4dsolutions/elite_school/blob/master/ADS_intro_1.ipynb)\n",
    "* [ADS Page 2](ADS_intro_2.ipynb)\n",
    "* [ADS Project](ADS_project_1.ipynb)\n",
    "* [Repo](https://github.com/4dsolutions/elite_school/)"
   ]
  },
  {
   "cell_type": "markdown",
   "id": "041bf7d2-5837-4936-a603-2d408d0ab96b",
   "metadata": {},
   "source": [
    "# Algorithms\n",
    "\n",
    "The contemporary term \"algorithm\" derives from the proper name of a Persian polymath who worked out of the Wisdom School in Baghdad over a thousand years ago. Iraq had not yet been invented as a country back then.\n",
    " \n",
    "His name in Persian was: محمد بن موسی خوارزمی, which gets Latinized as Muḥammad ibn Mūsā al-Khwārizmī (c. 780 – c. 850), or Al Khwarizmi for short, which sounds a little bit like \"Al Gorithm\" (but not a lot).  \"Algorithm\" sounds a lot more like \"Al Gore\" (a joke, why?  See note [1] below).\n",
    "\n",
    "<a data-flickr-embed=\"true\" href=\"https://www.flickr.com/photos/kirbyurner/51843248720/in/dateposted-public/\" title=\"Khwarizmi_Amirkabir_University_of_Technology\"><img src=\"https://live.staticflickr.com/65535/51843248720_4251c8dc12.jpg\" width=\"255\" height=\"500\" alt=\"Khwarizmi_Amirkabir_University_of_Technology\"></a><script async src=\"//embedr.flickr.com/assets/client-code.js\" charset=\"utf-8\"></script>\n",
    "\n",
    "But what is an \"algorithm\" anyway?\n",
    "\n",
    "An algorithm is a step-by-step numerical recipe, something to follow.\n",
    "\n",
    "The idea of \"numerical recipes\" is at the basis of  arithmetic and is what we learn in school as addition, subtraction, multiplication and division. When school teachers talk about elementary school math, they talk about teaching algorithms, such as how to perform long division, or how to find a square root.\n",
    "\n",
    "This idea of \"numerical recipes\" spread to the Italian peninsula and to the rest of Europe, through the Republic of Pisa, where the famous Leonardo Fibonacci (c. 1170 - c. 1250) wrote *Liber Abaci*, based on Al Khwarizmi's work.  \n",
    "\n",
    "If you learned to use Arabic numerals, Fibonacci told his readers, you could get free of relatively clunky Roman numbers and the abacus.  You could learn to compute on paper or on a chalkboard.\n",
    "\n",
    "You might be thinking \"if algorithm means step-by-step number crunching then isn't any computer program an algorithm?\"  \n",
    "\n",
    "That's pretty close to how people use the word nowadays.  People talk about the \"recommendation algorithm\" used by online sellers to suggest other, related products you might want ot buy."
   ]
  },
  {
   "cell_type": "markdown",
   "id": "794de8ba-d32c-4370-9c3f-00565c1fb71e",
   "metadata": {},
   "source": [
    "### Fibonacci Numbers\n",
    "\n",
    "You may have heard of this famous sequence of numbers, named for Fibonacci.  Below is some Python code for generating the first ten terms in the sequence, starting from 0.\n",
    "\n",
    "Don't worry if you're not familiar with the idea of a \"generator function\" in Python, which uses the ```yield``` keyword instead of ```return```.  We will be introducing features of the Python language as we go.\n",
    "\n",
    "You could call this short program \"an algorithm for generating the Fibonacci numbers\".  See Note [2] below."
   ]
  },
  {
   "cell_type": "code",
   "execution_count": 1,
   "id": "c62e9a59-27d9-4bef-9051-5ae5fdc54962",
   "metadata": {},
   "outputs": [
    {
     "name": "stdout",
     "output_type": "stream",
     "text": [
      "[0, 1, 1, 2, 3, 5, 8, 13, 21, 34]\n"
     ]
    }
   ],
   "source": [
    "# Fibonacci Numbers\n",
    "# https://oeis.org/A000045\n",
    "\n",
    "def fibo(a=0, b=1):\n",
    "    while True:\n",
    "        yield a\n",
    "        b, a = a + b, b\n",
    "        \n",
    "gen = fibo()\n",
    "fibs = [next(gen) for _ in range(10)]\n",
    "print(fibs)"
   ]
  },
  {
   "cell_type": "markdown",
   "id": "c5c1ca02-dd7f-4177-b3d7-9eccda8ba55e",
   "metadata": {},
   "source": [
    "# Data Structures\n",
    "\n",
    "When you cook, following a recipe, you need ways to store your ingredients, as well as places to mix them.  Containers of various types come to mind: liquid measuring spoons, sized cups, bags and jars.  We also need cutting boards and other work surfaces.\n",
    "\n",
    "Algorithms likewise require lots of data containers, named amounts, for organizing all the ingredients in a numerical recipe.\n",
    "\n",
    "For example, in the Fibonacci Numbers code, we stored the sequence in a Python list named fibs.  The Python list is a type of data structure.  What are some other data structures in Python?\n",
    "\n",
    "We will begin our study of data structures by using them within algorithms.\n",
    "\n",
    "Python's data structures may be classified into two major categories:  *sequences* and *mappings*. "
   ]
  },
  {
   "cell_type": "markdown",
   "id": "c9ee6a16-1041-4db9-90ed-fab11c2b8a29",
   "metadata": {},
   "source": [
    "### Sequences"
   ]
  },
  {
   "cell_type": "code",
   "execution_count": 2,
   "id": "673e96b2-5b65-4716-8439-42c42e8567aa",
   "metadata": {},
   "outputs": [],
   "source": [
    "# List\n",
    "\n",
    "L = [5, 2, 7, 0, 10]"
   ]
  },
  {
   "cell_type": "code",
   "execution_count": 3,
   "id": "4c5208d3-4c9d-4f44-b5ef-1ef1aadd868d",
   "metadata": {},
   "outputs": [
    {
     "data": {
      "text/plain": [
       "[10, 0, 7, 2, 5]"
      ]
     },
     "execution_count": 3,
     "metadata": {},
     "output_type": "execute_result"
    }
   ],
   "source": [
    "L.reverse()  # some algorithm knows how to reverse any list\n",
    "L"
   ]
  },
  {
   "cell_type": "code",
   "execution_count": 4,
   "id": "566fa4f8-3806-4be9-83c3-cbe0648cc32c",
   "metadata": {},
   "outputs": [
    {
     "data": {
      "text/plain": [
       "[0, 2, 5, 7, 10]"
      ]
     },
     "execution_count": 4,
     "metadata": {},
     "output_type": "execute_result"
    }
   ],
   "source": [
    "L.sort()  # some algorithm knows how to sort some lists\n",
    "L"
   ]
  },
  {
   "cell_type": "code",
   "execution_count": 5,
   "id": "d4bab4d9-8f47-46d3-9349-ded447e6d848",
   "metadata": {},
   "outputs": [
    {
     "name": "stdout",
     "output_type": "stream",
     "text": [
      "'<' not supported between instances of 'int' and 'str'\n"
     ]
    }
   ],
   "source": [
    "M = ['a', 10, True]  # but not all lists can be sorted\n",
    "try:\n",
    "    M.sort()\n",
    "except Exception as e:\n",
    "    print(e)"
   ]
  },
  {
   "cell_type": "markdown",
   "id": "b2ccf79e-4b7c-4557-8baf-34ab3cd67a6b",
   "metadata": {},
   "source": [
    "Any data structure that has a first-to-last ordering is a sequence.  A list is a sequence.  So is a string."
   ]
  },
  {
   "cell_type": "code",
   "execution_count": 6,
   "id": "21aae940-93d5-4499-8ac5-b50eda5e8e6d",
   "metadata": {},
   "outputs": [],
   "source": [
    "# all of these may be indexed\n",
    "a_tuple = (1, 7, 9, 12)\n",
    "a_list = [1, 7, 9, 12]\n",
    "a_string = \"1 7 9 12\""
   ]
  },
  {
   "cell_type": "code",
   "execution_count": 7,
   "id": "cdb3751c-edc1-4d03-81f5-2abb3aee1438",
   "metadata": {},
   "outputs": [
    {
     "data": {
      "text/plain": [
       "7"
      ]
     },
     "execution_count": 7,
     "metadata": {},
     "output_type": "execute_result"
    }
   ],
   "source": [
    "a_tuple[1] # tuples are like lists but fight being changed"
   ]
  },
  {
   "cell_type": "code",
   "execution_count": 8,
   "id": "ff8263ef-b72a-4205-b040-a122dc8f0481",
   "metadata": {},
   "outputs": [
    {
     "data": {
      "text/plain": [
       "12"
      ]
     },
     "execution_count": 8,
     "metadata": {},
     "output_type": "execute_result"
    }
   ],
   "source": [
    "a_list[-1] # negative index:  coming from the right"
   ]
  },
  {
   "cell_type": "code",
   "execution_count": 9,
   "id": "89fcbf20-99c0-4eb8-bf27-f1ff7af3ecaa",
   "metadata": {},
   "outputs": [
    {
     "data": {
      "text/plain": [
       "'1 7 9'"
      ]
     },
     "execution_count": 9,
     "metadata": {},
     "output_type": "execute_result"
    }
   ],
   "source": [
    "a_string[0:5]  # slice notation, still indexing"
   ]
  },
  {
   "cell_type": "markdown",
   "id": "01d021d7-e30e-4753-929f-9f6efed64a8d",
   "metadata": {},
   "source": [
    "### Mappings\n",
    "\n",
    "A mapping holds data, perhaps key:value pairs, as in a dict (dictionary), but has no special first-to-last order such that indexes might be used."
   ]
  },
  {
   "cell_type": "code",
   "execution_count": 10,
   "id": "8d5f9cb1-8d38-4c78-bfce-7d03c90d34f4",
   "metadata": {},
   "outputs": [],
   "source": [
    "d = {\"Fibonacci\": (1170, 1250),\n",
    "     \"Al Khwarizmi\": (780, 850),\n",
    "     \"Al Gore\": (1948,)}"
   ]
  },
  {
   "cell_type": "code",
   "execution_count": 11,
   "id": "833a7d4f-4065-4b5b-9b3d-6145dc167ac9",
   "metadata": {},
   "outputs": [
    {
     "data": {
      "text/plain": [
       "dict_keys(['Fibonacci', 'Al Khwarizmi', 'Al Gore'])"
      ]
     },
     "execution_count": 11,
     "metadata": {},
     "output_type": "execute_result"
    }
   ],
   "source": [
    "d.keys()"
   ]
  },
  {
   "cell_type": "code",
   "execution_count": 12,
   "id": "82a5e65b-b5a0-4ccb-b25b-be471b787d70",
   "metadata": {},
   "outputs": [
    {
     "data": {
      "text/plain": [
       "dict_values([(1170, 1250), (780, 850), (1948,)])"
      ]
     },
     "execution_count": 12,
     "metadata": {},
     "output_type": "execute_result"
    }
   ],
   "source": [
    "d.values()"
   ]
  },
  {
   "cell_type": "code",
   "execution_count": 13,
   "id": "7a3dfebf-6da3-4da2-88dc-9d40178ab1dd",
   "metadata": {},
   "outputs": [
    {
     "data": {
      "text/plain": [
       "dict_items([('Fibonacci', (1170, 1250)), ('Al Khwarizmi', (780, 850)), ('Al Gore', (1948,))])"
      ]
     },
     "execution_count": 13,
     "metadata": {},
     "output_type": "execute_result"
    }
   ],
   "source": [
    "d.items()"
   ]
  },
  {
   "cell_type": "code",
   "execution_count": 14,
   "id": "06f4beff-6c22-435a-a32d-9257ca34b340",
   "metadata": {},
   "outputs": [
    {
     "data": {
      "text/plain": [
       "(1170, 1250)"
      ]
     },
     "execution_count": 14,
     "metadata": {},
     "output_type": "execute_result"
    }
   ],
   "source": [
    "default = \"Not Found\"\n",
    "d.get(\"Fibonacci\", default)  # get method allows a default"
   ]
  },
  {
   "cell_type": "code",
   "execution_count": 15,
   "id": "939646f8-4418-44b6-ad6d-1c5fb016a0d5",
   "metadata": {},
   "outputs": [
    {
     "data": {
      "text/plain": [
       "'Not Found'"
      ]
     },
     "execution_count": 15,
     "metadata": {},
     "output_type": "execute_result"
    }
   ],
   "source": [
    "d.get(\"Joe\", default)"
   ]
  },
  {
   "cell_type": "code",
   "execution_count": 16,
   "id": "dfd54917-c628-45b2-b35d-0886d7588d50",
   "metadata": {},
   "outputs": [
    {
     "data": {
      "text/plain": [
       "(780, 850)"
      ]
     },
     "execution_count": 16,
     "metadata": {},
     "output_type": "execute_result"
    }
   ],
   "source": [
    "d[\"Al Khwarizmi\"]  # direct access using the key"
   ]
  },
  {
   "cell_type": "markdown",
   "id": "78493d39-2044-43ae-9e34-c0deac49fb02",
   "metadata": {},
   "source": [
    "We will talk a lot more about the fine points of Python's data structures as the class progresses.  \n",
    "\n",
    "We will also look at data structures we need to build ourselves, but from built-in data structures."
   ]
  },
  {
   "cell_type": "markdown",
   "id": "d100d366-671f-4dc9-86b9-cb4a8ca8a9ea",
   "metadata": {},
   "source": [
    "#### Notes:\n",
    "\n",
    "1. Politician Al Gore took credit for \"inventing the internet\" which many considered too much of an exaggeration, leading to many jokes at Al's expense.\n",
    "\n",
    "2. Fibonacci Numbers are derived by adding the previous two terms to get the next term, starting from 0 and 1. The closely related [Lucas Numbers](https://oeis.org/A000032) start off with 2 and 1 instead of 0 and 1."
   ]
  },
  {
   "cell_type": "code",
   "execution_count": 17,
   "id": "68fcda40-5678-45bf-83e7-374f1d7be77b",
   "metadata": {},
   "outputs": [
    {
     "name": "stdout",
     "output_type": "stream",
     "text": [
      "[2, 1, 3, 4, 7, 11, 18, 29, 47, 76]\n"
     ]
    }
   ],
   "source": [
    "gen = fibo(2, 1)  # reusing the same generator, changing defaults\n",
    "lucas = [next(gen) for _ in range(10)] # OEIS A000032\n",
    "print(lucas)"
   ]
  },
  {
   "cell_type": "markdown",
   "id": "15214574-8e53-4616-8056-3752bca30986",
   "metadata": {},
   "source": [
    "Resources:\n",
    "\n",
    "*  [Official Python Docs on Data Structures](https://docs.python.org/3/tutorial/datastructures.html)\n",
    "*  A whole Github repo devoted to [Python Data Structures](https://github.com/okeeffed/cheat-sheets/blob/master/Python-Data-Structures.md#data-structures-with-python), by Dennis O'Keeffe \n"
   ]
  },
  {
   "cell_type": "markdown",
   "id": "688da712-6125-440f-9a94-41e8b2863584",
   "metadata": {},
   "source": [
    "#### Collectible / Recommended Books:\n",
    "\n",
    "<a data-flickr-embed=\"true\" href=\"https://www.flickr.com/photos/kirbyurner/51836242767/in/dateposted-public/\" title=\"Old Fave\"><img src=\"https://live.staticflickr.com/65535/51836242767_e9bf8daa1a_w.jpg\" width=\"300\" height=\"400\" alt=\"Old Fave\"></a><script async src=\"//embedr.flickr.com/assets/client-code.js\" charset=\"utf-8\"></script>\n",
    "\n",
    "Used at [Phillips Academy / Andover](https://www.andover.edu/).  Introduces the cryptographic algorithm named [RSA](https://github.com/4dsolutions/elite_school/blob/master/RSA.ipynb).\n",
    "\n",
    "<a data-flickr-embed=\"true\" href=\"https://www.flickr.com/photos/kirbyurner/51837924600/in/dateposted-public/\" title=\"Sigma\"><img src=\"https://live.staticflickr.com/65535/51837924600_93b7a663be_w.jpg\" width=\"300\" height=\"400\" alt=\"Sigma\"></a><script async src=\"//embedr.flickr.com/assets/client-code.js\" charset=\"utf-8\"></script>\n",
    "\n",
    "Used at Stanford University to help make *The Art of Computer Programming* more understandable."
   ]
  }
 ],
 "metadata": {
  "kernelspec": {
   "display_name": "Python 3 (ipykernel)",
   "language": "python",
   "name": "python3"
  },
  "language_info": {
   "codemirror_mode": {
    "name": "ipython",
    "version": 3
   },
   "file_extension": ".py",
   "mimetype": "text/x-python",
   "name": "python",
   "nbconvert_exporter": "python",
   "pygments_lexer": "ipython3",
   "version": "3.7.9"
  }
 },
 "nbformat": 4,
 "nbformat_minor": 5
}
