{
 "cells": [
  {
   "cell_type": "markdown",
   "id": "disabled-withdrawal",
   "metadata": {
    "tags": []
   },
   "source": [
    "##### Algorithms and Data Structures (Winter - Spring 2022)\n",
    "\n",
    "* [Colab view](https://colab.research.google.com/github/4dsolutions/elite_school/blob/master/ADS_intro_1.ipynb)\n",
    "* [nbviewer view](https://nbviewer.org/github/4dsolutions/elite_school/blob/master/ADS_intro_1.ipynb)\n",
    "* [ACSL / USACO](Exercises.ipynb)\n",
    "* [Repo](https://github.com/4dsolutions/elite_school/)\n",
    "* Main Text \n",
    "    -   [Algorithms](ADS_intro_1.ipynb) \n",
    "    -   [Algorithms (continued)](ADS_intro_2.ipynb)\n",
    "    -   [Structured Data](ADS_intro_3.ipynb)\n",
    "* Projects \n",
    "    -   [Wordle](ADS_project_1.ipynb)\n",
    "* Research \n",
    "    -   [Word Sets and Graph Theory](ADS_research_1.ipynb)\n",
    "* Sandboxes \n",
    "    -   [Spatial Geometry](ADS_sandbox.ipynb)  \n",
    "    -   [Finite Groups](ADS_sandbox_2.ipynb)  \n",
    "    -   [Chess](ADS_sandbox_3.ipynb)\n",
    "    -   [Soccer](ADS_sandbox_4.ipynb)\n",
    "    -   [Maps](ADS_sandbox_5.ipynb)"
   ]
  },
  {
   "cell_type": "markdown",
   "id": "1a88a468-f08f-4e27-a685-1c0b7f66a67d",
   "metadata": {},
   "source": [
    "# Introduction\n",
    "\n",
    "A course in <i>Algorithms and Data Structures</i> does well to begin with some overview of scope.  What might we cover?  The short answer is:  everything.  \n",
    "\n",
    "Data structures include the periodic table, recipe books, tabular data, entire libraries, not just arrays, queues, stacks and heaps, trees and networks.  \n",
    "\n",
    "We may analyze some in terms of the others.  A pandas DataFrame is made from Series.  The hash table may be implemented using a binary tree structure.\n",
    "\n",
    "Algorithms accompany all these data structures, lending them their dynamism. How do we store and retrieve, update and delete?  What mathematical operations might we perform?  \n",
    "\n",
    "If our structures represent geometric objects, we might want to rescale them, spin them, distort them, measure them, alter their properties.  Think of [Blender](https://blender.org).\n",
    "\n",
    "Perhaps we're looking for routes on a map.  Shortest paths.\n",
    "\n",
    "In this implementation, we don't shy away from \"array based computing\" meaning we consider the namespaces of both numpy and pandas.  \n",
    "\n",
    "On the other hand, at the middle and high school level, *Algorithms and Data Structures* is [likely to draw heavily from CP](https://mail.python.org/archives/list/edu-sig@python.org/message/6AROZYQQSAJORH2DUGXV3FAJCXYLECMF/) (\"competitive programming\").  We go there too."
   ]
  },
  {
   "cell_type": "markdown",
   "id": "central-obligation",
   "metadata": {
    "tags": []
   },
   "source": [
    "# Algorithms\n",
    "\n",
    "The contemporary term \"algorithm\" derives from the proper name of a Persian polymath who worked out of the Wisdom School in Baghdad over a thousand years ago. Iraq had not yet been invented as a country back then.\n",
    " \n",
    "His name in Persian was: محمد بن موسی خوارزمی, which gets Latinized as Muḥammad ibn Mūsā al-Khwārizmī (c. 780 – c. 850), or Al Khwarizmi for short, which sounds a little bit like \"Al Gorithm\" (but not a lot).  \"Algorithm\" sounds a lot more like \"Al Gore\" (a joke, why?  See note [1] below).\n",
    "\n",
    "Note to teachers:  I recommend using this statue as a kind of \"home base\" for your version of *Algorithms and Data Structures*.\n",
    "\n",
    "<a data-flickr-embed=\"true\" href=\"https://www.flickr.com/photos/kirbyurner/51843248720/in/dateposted-public/\" title=\"Khwarizmi_Amirkabir_University_of_Technology\"><img src=\"https://live.staticflickr.com/65535/51843248720_4251c8dc12.jpg\" width=\"255\" height=\"500\" alt=\"Khwarizmi_Amirkabir_University_of_Technology\"></a><script async src=\"//embedr.flickr.com/assets/client-code.js\" charset=\"utf-8\"></script>"
   ]
  },
  {
   "cell_type": "markdown",
   "id": "third-heading",
   "metadata": {
    "tags": []
   },
   "source": [
    "But what is an \"algorithm\" anyway?\n",
    "\n",
    "An algorithm is a step-by-step recipe, not necessarily numerical. It's very closely related to the mathematical idea of \"a function\" i.e. a procedure for taking in a set of inputs, and creating corresponding results or outputs.\n",
    "\n",
    "When you follow a recipe for baking a cake, you start with certain ingredients, measuring cups, other containers (data structures), an oven for adding heat over time (called \"baking\"), and you end up, one hopes, with a cake.\n",
    "\n",
    "Allen Downey extracts one connotation of \"algorithm\" which is:  followed mindlessly by a machine.\n",
    "\n",
    "[Quoting from <i>Think Python</i>](https://greenteapress.com/thinkpython2/html/thinkpython2008.html#sec87), by Allen Downey:\n",
    "\n",
    "<blockquote>\n",
    "    One of the characteristics of algorithms is that they do not require any intelligence to carry out. They are mechanical processes where each step follows from the last according to a simple set of rules.<br />\n",
    "    \n",
    "    \n",
    "Executing algorithms is boring, but designing them is interesting, intellectually challenging, and a central part of computer science.<br />\n",
    "\n",
    "Some of the things that people do naturally, without difficulty or conscious thought, are the hardest to express algorithmically. Understanding natural language is a good example. We all do it, but so far no one has been able to explain how we do it, at least not in the form of an algorithm.\n",
    "   </blockquote>\n",
    "\n",
    "Clearly cooking is more creative and may involve making snap judgements.  \n",
    "\n",
    "You might think of algorithms as \"what we fall back on\" and \"do by rote\".  \n",
    "\n",
    "An athlete has a playbook of maneuvers known \"by heart\".  \n",
    "\n",
    "This is what we mean by \"mindlessly\" -- it need not mean \"recklessly\" or \"carelessly\" but it could.  Think about how you would use all these words in real life."
   ]
  },
  {
   "cell_type": "markdown",
   "id": "accomplished-holly",
   "metadata": {
    "tags": []
   },
   "source": [
    "### Algorithms in Science Fiction\n",
    "\n",
    "What is science fiction in one era, may become science fact in another.  Take the idea of a chess-playing automaton.  An automaton is a machine that appears to have agency, to act on its own, in response to stimuli, much as we humans do.  \n",
    "\n",
    "If a machine is so life-like we cannot tell it from a human being, at least from its conversation, we might say it \"passes the Turing Test\".  Alan Turing help establish contemporary computer science, and like many before and since, speculated as to the possibility of \"mechanized\" human intelligence.\n",
    "\n",
    "The first apparent chess-playing automaton was named [<i>The Turk</i>](https://interestingengineering.com/the-turk-fake-automaton-chess-player), and was actually a \"magic act\" in the sense of involving deception.  \n",
    "\n",
    "![The Turk](https://upload.wikimedia.org/wikipedia/commons/thumb/5/52/The_Turk.jpg/640px-The_Turk.jpg)\n",
    "<br/><i>[The Turk](https://commons.wikimedia.org/wiki/File:The_Turk.jpg) - Mechanical Turk or Automaton Chess Player (German: Schachtürke), exposed in Heinz Nixdorf MuseumsForum, Paderborn, Germany.</i>\n",
    "\n",
    "Spectators believed they were looking at an automaton, whereas in fact a midget inside, tucked in among the gearworks, actually played the game in real time, in very cramped circumstances.  Such a midget once beat Napoleon, whom we imagine was taken in by the hoax.  \n",
    "\n",
    "Today, however, game playing automatons are science fact, from [IBM's Deep Blue](https://www.ibm.com/ibm/history/ibm100/us/en/icons/deepblue/) and [Watson](https://www.ibm.com/watson) to [Google's AlphaGo](https://www.deepmind.com/research/highlighted-research/alphago).\n",
    "\n",
    "An automaton (robot) by Hanson Robotics, dubbed Sophia, stars in [short amusing skits](https://youtu.be/Ml9v3wHLuWI) and emulates facial expressions convincingly enough to appear human.  Sophia demonstrates what we imagine real Artificial Intelligence might be like i.e. a seemingly human intelligence powered by mindlessly executing algorithms.  \n",
    "Short of that [so far unattainable goal](https://groups.io/g/synergeo/message/1239), algorithms had gotten a lot better at speech recognition, and indeed pattern recognition of all sorts.  These dramatic improvements have come as a consequence of breakthroughs in the area of Machine Learning (ML).\n",
    "\n",
    "A few of the very many science fiction movies featuring AI:\n",
    "\n",
    "* [A.I. Artificial Intelligence](https://www.imdb.com/title/tt0212720/?ref_=fn_al_tt_4):  the Spielberg version of a production started by Stanley Kubrick.\n",
    "* [Her](https://www.imdb.com/title/tt1798709/?ref_=fn_al_tt_1): a man falls in love with an operating system, which then evolves beyond his control\n",
    "* [C.O.D.E Guardian](https://www.youtube.com/watch?v=PQ-UP2zieSI):  a World War 2 movie homage featuring life-like giant military robots (CG)\n",
    "* [Logan's Run](https://www.imdb.com/title/tt0074812/?ref_=fn_tt_tt_1): a futuristic city in which no one lives beyond age thirty, is policed by an AI computer\n",
    "* [Ex Machina](https://www.imdb.com/title/tt0470752/?ref_=fn_al_tt_1): a billionaire inventor genius creates life-like robots who plot to escape their prison"
   ]
  },
  {
   "cell_type": "markdown",
   "id": "ordered-lawyer",
   "metadata": {
    "tags": []
   },
   "source": [
    "### The Origins of Arithmetic Algorithms\n",
    "\n",
    "The idea of \"numerical recipes\" is at the basis of  arithmetic and is what we learn in school as addition, subtraction, multiplication and division. When school teachers talk about elementary school math, they talk about teaching algorithms, such as how to perform long division, or how to find a square root.\n",
    "\n",
    "This idea of \"numerical recipes\" spread to the Italian peninsula and to the rest of Europe, through the Republic of Pisa, where the famous Leonardo Fibonacci (c. 1170 - c. 1250) wrote *Liber Abaci*, based on Al Khwarizmi's work.  \n",
    "\n",
    "Here's how storyteller Buckminster Fuller tells the tale in his [Synergetics 2](https://archive.org/details/synergetics2expl00full/page/n35/mode/2up?q=carthage) (1979):\n",
    "\n",
    "<blockquote>\n",
    "When the archaeologists' artifact-proven history of mathematics opens 4,000 years ago in Babylon and Mesopotamia, it is already a very sophisticated science. Mathematics may well have had its beginnings much earlier in India or Indochina, as it is an art and science that has traveled consistently westward. Over 3,000 years ago the Greeks made further magnificent contributions to geometry, algebra, and calculation. Then about 2,000 years ago the Roman Empire all but obliterated mathematics. A little more than 1,000 years ago Arabs and Hindus traveling through North Africa began to restore some of the ancient mathematics to the westward-evolving culture. When al-Khwarizmi's original a.d. 800 treatise on algebra was republished in Latin in Carthage in 1200, it required a further 200 years for his elucidation of the function of zero — the cipher — to be diffused into the university systems of Europe.</blockquote>   \n",
    "\n",
    "If you learned to use Arabic numerals, [Fibonacci of Pisa](https://mathshistory.st-andrews.ac.uk/Biographies/Fibonacci/) told his readers, you could get free of relatively clunky Roman numbers and the abacus.  You could learn to compute on paper or on a chalkboard.\n",
    "\n",
    "You might be thinking \"if algorithm means step-by-step number crunching then isn't any computer program an algorithm?\"  \n",
    "\n",
    "That's pretty close to how people use the word nowadays.  People talk about the \"recommendation algorithm\" used by online merchants to suggest other, related products you might want to borrow or buy.  Many algorithms are \"semi-numerical\" meaning they involve more than just number crunching.\n",
    "\n",
    "Think of the globe as a data structure, storing information about the world, and of a projection from that globe, to a flat surface, as an algorithm.  \n",
    "\n",
    "We need data types and algorithms that mirror our practices around [spatial and temporal information](ADS_project_2.ipynb), in order to create data visualizations such as Google Earth.\n",
    "\n",
    "<a data-flickr-embed=\"true\" href=\"https://www.flickr.com/photos/kirbyurner/51978151490/in/dateposted-public/\" title=\"Spaceship Moon\"><img src=\"https://live.staticflickr.com/65535/51978151490_ee196a9d2c.jpg\" width=\"500\" height=\"246\" alt=\"Spaceship Moon\"></a><script async src=\"//embedr.flickr.com/assets/client-code.js\" charset=\"utf-8\"></script>\n",
    "\n",
    "*screenshot of MSG Sphere website, April 2022*"
   ]
  },
  {
   "cell_type": "code",
   "execution_count": 1,
   "id": "animated-crime",
   "metadata": {},
   "outputs": [],
   "source": [
    "from IPython.display import YouTubeVideo"
   ]
  },
  {
   "cell_type": "code",
   "execution_count": 2,
   "id": "terminal-album",
   "metadata": {},
   "outputs": [
    {
     "data": {
      "image/jpeg": "[encoded data removed]",
      "text/html": [
       "\n",
       "        <iframe\n",
       "            width=\"400\"\n",
       "            height=\"300\"\n",
       "            src=\"https://www.youtube.com/embed/oRkNaF0QvnI\"\n",
       "            frameborder=\"0\"\n",
       "            allowfullscreen\n",
       "            \n",
       "        ></iframe>\n",
       "        "
      ],
      "text/plain": [
       "<IPython.lib.display.YouTubeVideo at 0x110dc4c10>"
      ]
     },
     "execution_count": 2,
     "metadata": {},
     "output_type": "execute_result"
    }
   ],
   "source": [
    "YouTubeVideo(\"oRkNaF0QvnI\")"
   ]
  },
  {
   "cell_type": "code",
   "execution_count": 3,
   "id": "laughing-finder",
   "metadata": {},
   "outputs": [
    {
     "data": {
      "image/jpeg": "[encoded data removed]",
      "text/html": [
       "\n",
       "        <iframe\n",
       "            width=\"400\"\n",
       "            height=\"300\"\n",
       "            src=\"https://www.youtube.com/embed/ZnBF2GeAKbo\"\n",
       "            frameborder=\"0\"\n",
       "            allowfullscreen\n",
       "            \n",
       "        ></iframe>\n",
       "        "
      ],
      "text/plain": [
       "<IPython.lib.display.YouTubeVideo at 0x110ddfdf0>"
      ]
     },
     "execution_count": 3,
     "metadata": {},
     "output_type": "execute_result"
    }
   ],
   "source": [
    "YouTubeVideo(\"ZnBF2GeAKbo\")"
   ]
  },
  {
   "cell_type": "markdown",
   "id": "extended-correlation",
   "metadata": {},
   "source": [
    "### Rule-Generated Sequences\n",
    "\n",
    "#### Fibonacci Numbers\n",
    "\n",
    "You may have heard of this famous sequence of numbers, named for Fibonacci.  Below is some Python code for generating the first ten terms in the sequence, starting from 0.\n",
    "\n",
    "Don't worry if you're not yet familiar with the idea of a \"generator function\" in Python, which uses the ```yield``` keyword instead of ```return```.  We will be introducing features of the Python language as we go.\n",
    "\n",
    "You could call this short program \"an algorithm for generating the Fibonacci numbers\".  See Note [2] below."
   ]
  },
  {
   "cell_type": "code",
   "execution_count": 2,
   "id": "presidential-prediction",
   "metadata": {},
   "outputs": [
    {
     "name": "stdout",
     "output_type": "stream",
     "text": [
      "[0, 1, 1, 2, 3, 5, 8, 13, 21, 34]\n"
     ]
    }
   ],
   "source": [
    "# Fibonacci Numbers\n",
    "# https://oeis.org/A000045\n",
    "\n",
    "def fibo(a=0, b=1):\n",
    "    while True:\n",
    "        yield a\n",
    "        b, a = a + b, b\n",
    "        \n",
    "gen = fibo()\n",
    "fibs = [next(gen) for _ in range(10)]\n",
    "print(fibs)"
   ]
  },
  {
   "cell_type": "markdown",
   "id": "5a342dad-6e68-4ea1-8ee0-7d9e15a65d03",
   "metadata": {},
   "source": [
    "From the above, we might return the nth Fibonacci number as follows:"
   ]
  },
  {
   "cell_type": "code",
   "execution_count": 3,
   "id": "6295f492-523f-42c4-86a4-c04e39ce5ba1",
   "metadata": {},
   "outputs": [],
   "source": [
    "def fibonacci(nth):\n",
    "    gen = fibo()\n",
    "    return [next(gen) for _ in range(nth+1)][-1]"
   ]
  },
  {
   "cell_type": "code",
   "execution_count": 4,
   "id": "724e84bf-b571-4ce0-9b57-0b66d6d8e001",
   "metadata": {},
   "outputs": [
    {
     "data": {
      "text/plain": [
       "8"
      ]
     },
     "execution_count": 4,
     "metadata": {},
     "output_type": "execute_result"
    }
   ],
   "source": [
    "fibonacci(6)"
   ]
  },
  {
   "cell_type": "markdown",
   "id": "02e557ca-8e17-4365-a446-7548a20c9cd6",
   "metadata": {},
   "source": [
    "That's using a Python generator, which is interesting, but how about using recursion?  Since Fib(N) = Fib(N-1) + Fib(N-2), why not call the Fib function from inside itself?"
   ]
  },
  {
   "cell_type": "code",
   "execution_count": 5,
   "id": "e068a6c5-6e75-4c0e-bb02-4571d6eafe16",
   "metadata": {},
   "outputs": [],
   "source": [
    "def Fib(nth):\n",
    "    if nth == 0:\n",
    "        return 0\n",
    "    if nth == 1:\n",
    "        return 1\n",
    "    return Fib(nth-1) + Fib(nth-2)"
   ]
  },
  {
   "cell_type": "code",
   "execution_count": 6,
   "id": "974aedf3-324b-476c-9c9f-5d42d0eea1c8",
   "metadata": {},
   "outputs": [
    {
     "data": {
      "text/plain": [
       "8"
      ]
     },
     "execution_count": 6,
     "metadata": {},
     "output_type": "execute_result"
    }
   ],
   "source": [
    "Fib(6)"
   ]
  },
  {
   "cell_type": "code",
   "execution_count": 7,
   "id": "c0c4be51-94c3-46a3-871b-8c79e906cf64",
   "metadata": {},
   "outputs": [
    {
     "name": "stdout",
     "output_type": "stream",
     "text": [
      "6.3 µs ± 575 ns per loop (mean ± std. dev. of 7 runs, 100,000 loops each)\n"
     ]
    }
   ],
   "source": [
    "%timeit fibonacci(10)"
   ]
  },
  {
   "cell_type": "code",
   "execution_count": 8,
   "id": "c1451c27-b51b-4679-ae33-d4f39d1c7b57",
   "metadata": {},
   "outputs": [
    {
     "name": "stdout",
     "output_type": "stream",
     "text": [
      "2.57 ms ± 929 µs per loop (mean ± std. dev. of 7 runs, 100 loops each)\n"
     ]
    }
   ],
   "source": [
    "%timeit Fib(15)"
   ]
  },
  {
   "cell_type": "markdown",
   "id": "efde683b-22be-4891-9281-8754a90009d0",
   "metadata": {},
   "source": [
    "Fib is very inefficient because recursion redundantly calls for the same computation multiple times.  A solution:  memoization.  Memoization prevents unnecessary recomputations of the same answer."
   ]
  },
  {
   "cell_type": "code",
   "execution_count": 10,
   "id": "d0e7034a-85b9-47f1-b2fc-efb2de9b257f",
   "metadata": {},
   "outputs": [],
   "source": [
    "fibs = {}\n",
    "\n",
    "def Fib(nth, fibs):\n",
    "    if nth in fibs:\n",
    "        r = fibs[nth]\n",
    "    elif nth == 0:\n",
    "        r = 0\n",
    "    elif nth == 1:\n",
    "        r = 1\n",
    "    else:\n",
    "        r = Fib(nth-1, fibs) + Fib(nth-2, fibs)\n",
    "        fibs[nth] = r\n",
    "    return r"
   ]
  },
  {
   "cell_type": "code",
   "execution_count": 11,
   "id": "709d1ca7-1fad-407b-9fcb-441d89279aa7",
   "metadata": {},
   "outputs": [
    {
     "data": {
      "text/plain": [
       "8"
      ]
     },
     "execution_count": 11,
     "metadata": {},
     "output_type": "execute_result"
    }
   ],
   "source": [
    "Fib(5, {0:1, 1:1})"
   ]
  },
  {
   "cell_type": "code",
   "execution_count": 12,
   "id": "4a9f3846-2664-4425-97b8-be8692df1804",
   "metadata": {},
   "outputs": [
    {
     "name": "stdout",
     "output_type": "stream",
     "text": [
      "25.4 µs ± 12.1 µs per loop (mean ± std. dev. of 7 runs, 10,000 loops each)\n"
     ]
    }
   ],
   "source": [
    "%timeit Fib(15, {0:1, 1:1}) # much faster with memoization"
   ]
  },
  {
   "cell_type": "code",
   "execution_count": 15,
   "id": "3695de1b-9578-4733-a0c3-1fec5ce3b2b9",
   "metadata": {},
   "outputs": [
    {
     "data": {
      "text/plain": [
       "573147844013817084101"
      ]
     },
     "execution_count": 15,
     "metadata": {},
     "output_type": "execute_result"
    }
   ],
   "source": [
    "Fib(100, {0:1, 1:1})"
   ]
  },
  {
   "cell_type": "markdown",
   "id": "f1382f09-a12b-4c63-981c-9e92291f3c3f",
   "metadata": {},
   "source": [
    "Links:\n",
    "\n",
    "* [Fibonacci Numbers in multiple languages and algorithms](https://the-algorithms.com/algorithm/fibonacci-numbers)\n",
    "* [Fibonacci Numbers at OEIS](https://oeis.org/A000045)\n",
    "* [Recursion](https://youtu.be/IJDJ0kBx2LM) (Youtube: freecodecamp.org)\n",
    "* [Dynamic Programming](https://youtu.be/oBt53YbR9Kk) (Youtube: freecodecamp.org)"
   ]
  },
  {
   "cell_type": "markdown",
   "id": "alternative-professor",
   "metadata": {},
   "source": [
    "# Data Structures & Structured Data\n",
    "\n",
    "When you cook, following a recipe, you need ways to store your ingredients, as well as places to mix them.  Containers of various types come to mind: liquid measuring spoons, sized cups, bags and jars.  We also need cutting boards and other work surfaces.\n",
    "\n",
    "Algorithms likewise require lots of containers, for organizing all the ingredients in a numerical, semi-numerical, or non-numerical recipe.  We might call these containers data structures, or refer to their role as one of structuring (organizing) our data. \n",
    "\n",
    "To quote Wes McKinney, in *Python for Data Analysis*, 3rd Edition:\n",
    "\n",
    "<blockquote>\n",
    "    When I say “data,” what am I referring to exactly? The primary focus is on structured data, a deliberately vague term that encompasses many different common forms of data, such as:\n",
    "\n",
    "* Tabular or spreadsheet-like data in which each column may be a different type (string, numeric, date, or otherwise). This includes most kinds of data commonly stored in relational databases or tab- or comma-delimited text files.\n",
    "\n",
    "* Multidimensional arrays (matrices).\n",
    "\n",
    "* Multiple tables of data interrelated by key columns (what would be primary or foreign keys for a SQL user).\n",
    "\n",
    "* Evenly or unevenly spaced time series.\n",
    "</blockquote>\n",
    "\n",
    "For example, in the Fibonacci Numbers code, we stored the sequence in a Python list named fibs.  The Python list is a type of data structure.  What are some other data structures in Python?\n",
    "\n",
    "We will begin our study of data structures by using them within algorithms.  \n",
    "\n",
    "In an object oriented programming language, such as Python, we imagine objects as a combination of data, and algorithms for working with that data."
   ]
  },
  {
   "cell_type": "markdown",
   "id": "featured-criminal",
   "metadata": {},
   "source": [
    "The Python type defined below allows for the creation of any number of individual Pythons through the \"birthing\" process, or `__init__`.  Each new Python starts out with a name and an empty stomach.  The eat method, defined at the class level (along with the other methods) is a way to append foods to the stomach object contained in each snake."
   ]
  },
  {
   "cell_type": "code",
   "execution_count": 5,
   "id": "public-conjunction",
   "metadata": {},
   "outputs": [],
   "source": [
    "class Python:\n",
    "  family = \"snake\"\n",
    "\n",
    "  def __init__(self, nm):\n",
    "      self.name = nm\n",
    "      self.stomach = [ ]  # <-- built-in data structure\n",
    "\n",
    "  def eat(self, food):\n",
    "      self.stomach.append(food)\n",
    "\n",
    "  def __repr__(self):\n",
    "      return 'Python named ' + self.name"
   ]
  },
  {
   "cell_type": "code",
   "execution_count": 6,
   "id": "ordinary-pulse",
   "metadata": {},
   "outputs": [
    {
     "data": {
      "text/plain": [
       "Python named Shelly"
      ]
     },
     "execution_count": 6,
     "metadata": {},
     "output_type": "execute_result"
    }
   ],
   "source": [
    "snake1 = Python(\"Shelly\")\n",
    "snake1"
   ]
  },
  {
   "cell_type": "code",
   "execution_count": 7,
   "id": "thirty-nursery",
   "metadata": {},
   "outputs": [
    {
     "data": {
      "text/plain": [
       "['emoji']"
      ]
     },
     "execution_count": 7,
     "metadata": {},
     "output_type": "execute_result"
    }
   ],
   "source": [
    "snake1.eat(\"emoji\")\n",
    "snake1.stomach"
   ]
  },
  {
   "cell_type": "code",
   "execution_count": 8,
   "id": "digital-packet",
   "metadata": {},
   "outputs": [
    {
     "data": {
      "text/plain": [
       "{'name': 'Guido', 'stomach': ['eggs']}"
      ]
     },
     "execution_count": 8,
     "metadata": {},
     "output_type": "execute_result"
    }
   ],
   "source": [
    "snake2 = Python(\"Guido\")\n",
    "snake2.eat(\"eggs\")\n",
    "snake2.__dict__"
   ]
  },
  {
   "cell_type": "code",
   "execution_count": 9,
   "id": "martial-science",
   "metadata": {},
   "outputs": [
    {
     "data": {
      "text/plain": [
       "'snake'"
      ]
     },
     "execution_count": 9,
     "metadata": {},
     "output_type": "execute_result"
    }
   ],
   "source": [
    "Python.family"
   ]
  },
  {
   "cell_type": "markdown",
   "id": "tribal-release",
   "metadata": {},
   "source": [
    "Python's data structures may be classified into two major categories:  *sequences* and *mappings*. "
   ]
  },
  {
   "cell_type": "markdown",
   "id": "mounted-greek",
   "metadata": {},
   "source": [
    "### Sequences"
   ]
  },
  {
   "cell_type": "code",
   "execution_count": 10,
   "id": "taken-stadium",
   "metadata": {},
   "outputs": [],
   "source": [
    "# List\n",
    "\n",
    "L = [5, 2, 7, 0, 10]"
   ]
  },
  {
   "cell_type": "code",
   "execution_count": 11,
   "id": "hearing-metabolism",
   "metadata": {},
   "outputs": [
    {
     "data": {
      "text/plain": [
       "[10, 0, 7, 2, 5]"
      ]
     },
     "execution_count": 11,
     "metadata": {},
     "output_type": "execute_result"
    }
   ],
   "source": [
    "L.reverse()  # some algorithm knows how to reverse any list\n",
    "L"
   ]
  },
  {
   "cell_type": "code",
   "execution_count": 12,
   "id": "impossible-integration",
   "metadata": {},
   "outputs": [
    {
     "data": {
      "text/plain": [
       "[0, 2, 5, 7, 10]"
      ]
     },
     "execution_count": 12,
     "metadata": {},
     "output_type": "execute_result"
    }
   ],
   "source": [
    "L.sort()  # some algorithm knows how to sort some lists\n",
    "L"
   ]
  },
  {
   "cell_type": "code",
   "execution_count": 13,
   "id": "applicable-distribution",
   "metadata": {},
   "outputs": [
    {
     "name": "stdout",
     "output_type": "stream",
     "text": [
      "'<' not supported between instances of 'int' and 'str'\n"
     ]
    }
   ],
   "source": [
    "M = ['a', 10, True]  # but not all lists can be sorted\n",
    "try:\n",
    "    M.sort()\n",
    "except Exception as e:\n",
    "    print(e)"
   ]
  },
  {
   "cell_type": "markdown",
   "id": "stupid-legend",
   "metadata": {},
   "source": [
    "Any data structure that has a first-to-last ordering is a sequence.  A list is a sequence.  So is a string."
   ]
  },
  {
   "cell_type": "code",
   "execution_count": 14,
   "id": "urban-chorus",
   "metadata": {},
   "outputs": [],
   "source": [
    "# all of these may be indexed\n",
    "a_tuple = (1, 7, 9, 12)\n",
    "a_list = [1, 7, 9, 12]\n",
    "a_string = \"1 7 9 12\""
   ]
  },
  {
   "cell_type": "code",
   "execution_count": 15,
   "id": "equal-homework",
   "metadata": {},
   "outputs": [
    {
     "data": {
      "text/plain": [
       "7"
      ]
     },
     "execution_count": 15,
     "metadata": {},
     "output_type": "execute_result"
    }
   ],
   "source": [
    "a_tuple[1] # tuples are like lists but fight being changed"
   ]
  },
  {
   "cell_type": "code",
   "execution_count": 16,
   "id": "coordinate-contamination",
   "metadata": {},
   "outputs": [
    {
     "data": {
      "text/plain": [
       "12"
      ]
     },
     "execution_count": 16,
     "metadata": {},
     "output_type": "execute_result"
    }
   ],
   "source": [
    "a_list[-1] # negative index:  coming from the right"
   ]
  },
  {
   "cell_type": "code",
   "execution_count": 17,
   "id": "artificial-paper",
   "metadata": {},
   "outputs": [
    {
     "data": {
      "text/plain": [
       "'1 7 9'"
      ]
     },
     "execution_count": 17,
     "metadata": {},
     "output_type": "execute_result"
    }
   ],
   "source": [
    "a_string[0:5]  # slice notation, still indexing"
   ]
  },
  {
   "cell_type": "markdown",
   "id": "failing-kitchen",
   "metadata": {},
   "source": [
    "### NamedTuple\n",
    "\n",
    "![Periodic Table](https://upload.wikimedia.org/wikipedia/commons/thumb/f/fe/Periodic_table_large-es.svg/800px-Periodic_table_large-es.svg.png)\n",
    "\n",
    "The namedtuple type, importable from the collections library, allows us to access elements by name, not just by index number.  \n",
    "\n",
    "For example, consider an Element from the Periodic Table, such as [iron](https://www.britannica.com/science/iron-chemical-element):"
   ]
  },
  {
   "cell_type": "code",
   "execution_count": 18,
   "id": "numeric-beijing",
   "metadata": {},
   "outputs": [],
   "source": [
    "from collections import namedtuple"
   ]
  },
  {
   "cell_type": "code",
   "execution_count": 19,
   "id": "textile-defense",
   "metadata": {},
   "outputs": [],
   "source": [
    "Element = namedtuple(\"Atom\", 'protons weight symbol name category')"
   ]
  },
  {
   "cell_type": "code",
   "execution_count": 20,
   "id": "demographic-party",
   "metadata": {},
   "outputs": [],
   "source": [
    "iron = Element(*(26, 55.845, \"Fe\", \"Iron\", 'transition metal')) # the star \"explodes\" the tuple into individual arguments"
   ]
  },
  {
   "cell_type": "code",
   "execution_count": 21,
   "id": "dutch-avatar",
   "metadata": {},
   "outputs": [
    {
     "data": {
      "text/plain": [
       "26"
      ]
     },
     "execution_count": 21,
     "metadata": {},
     "output_type": "execute_result"
    }
   ],
   "source": [
    "iron.protons  # named attribute"
   ]
  },
  {
   "cell_type": "code",
   "execution_count": 22,
   "id": "involved-sheriff",
   "metadata": {},
   "outputs": [
    {
     "data": {
      "text/plain": [
       "'Fe'"
      ]
     },
     "execution_count": 22,
     "metadata": {},
     "output_type": "execute_result"
    }
   ],
   "source": [
    "iron[2]       # symbol"
   ]
  },
  {
   "cell_type": "markdown",
   "id": "successful-olive",
   "metadata": {},
   "source": [
    "### Numpy Array\n",
    "\n",
    "The numpy array is the workhorse of array-based computing throughout business and industry.  Computing is array-based, or \"vectorized\", when all elements may be given the same treatment, as inputs to some operation, without explicit looping and/or indexing.\n",
    "\n",
    "For example, lets import the numpy library and take advantage of its powerful random number generating capabilities."
   ]
  },
  {
   "cell_type": "code",
   "execution_count": 23,
   "id": "occasional-privacy",
   "metadata": {},
   "outputs": [],
   "source": [
    "import numpy as np"
   ]
  },
  {
   "cell_type": "code",
   "execution_count": 24,
   "id": "divided-banking",
   "metadata": {},
   "outputs": [],
   "source": [
    "rng = np.random.default_rng()"
   ]
  },
  {
   "cell_type": "code",
   "execution_count": 25,
   "id": "improved-creation",
   "metadata": {},
   "outputs": [],
   "source": [
    "# rng?"
   ]
  },
  {
   "cell_type": "code",
   "execution_count": 26,
   "id": "separated-condition",
   "metadata": {},
   "outputs": [
    {
     "data": {
      "text/plain": [
       "array([[23, 15, 87, 98, 99, 61, 83, 25, 10, 34],\n",
       "       [11, 84, 53, 54, 54,  2,  1, 37, 88, 61],\n",
       "       [18, 94, 71, 30, 46, 28, 81, 65, 43, 60],\n",
       "       [17,  3, 80, 16, 22, 56, 72, 17, 24, 23],\n",
       "       [ 0, 98, 82, 74, 14,  4, 88, 84, 33, 63]])"
      ]
     },
     "execution_count": 26,
     "metadata": {},
     "output_type": "execute_result"
    }
   ],
   "source": [
    "arr_2d = rng.integers(0, 101, 50).reshape(5, 10)\n",
    "arr_2d"
   ]
  },
  {
   "cell_type": "code",
   "execution_count": 27,
   "id": "unable-harvard",
   "metadata": {},
   "outputs": [
    {
     "data": {
      "text/plain": [
       "(5, 10)"
      ]
     },
     "execution_count": 27,
     "metadata": {},
     "output_type": "execute_result"
    }
   ],
   "source": [
    "arr_2d.shape"
   ]
  },
  {
   "cell_type": "code",
   "execution_count": 28,
   "id": "considered-hybrid",
   "metadata": {},
   "outputs": [
    {
     "data": {
      "text/plain": [
       "array([13.8, 58.8, 74.6, 54.4, 47. , 30.2, 65. , 45.6, 39.6, 48.2])"
      ]
     },
     "execution_count": 28,
     "metadata": {},
     "output_type": "execute_result"
    }
   ],
   "source": [
    "arr_2d.mean(axis=0) # averages for each row"
   ]
  },
  {
   "cell_type": "code",
   "execution_count": 29,
   "id": "diagnostic-kingdom",
   "metadata": {},
   "outputs": [
    {
     "data": {
      "text/plain": [
       "array([53.5, 44.5, 53.6, 33. , 54. ])"
      ]
     },
     "execution_count": 29,
     "metadata": {},
     "output_type": "execute_result"
    }
   ],
   "source": [
    "arr_2d.mean(axis=1) # averages for each column"
   ]
  },
  {
   "cell_type": "code",
   "execution_count": 30,
   "id": "contained-diagram",
   "metadata": {},
   "outputs": [
    {
     "data": {
      "text/plain": [
       "array([[11,  3,  3,  2,  3,  1, 11,  1, 10, 10],\n",
       "       [11,  0,  5,  6,  6,  2,  1,  1,  4,  1],\n",
       "       [ 6, 10, 11,  6, 10,  4,  9,  5,  7,  0],\n",
       "       [ 5,  3,  8,  4, 10,  8,  0,  5,  0, 11],\n",
       "       [ 0,  2, 10,  2,  2,  4,  4,  0,  9,  3]])"
      ]
     },
     "execution_count": 30,
     "metadata": {},
     "output_type": "execute_result"
    }
   ],
   "source": [
    "np.mod(arr_2d, 12)"
   ]
  },
  {
   "cell_type": "markdown",
   "id": "whole-activity",
   "metadata": {},
   "source": [
    "### Mappings\n",
    "\n",
    "#### The Python Dictionary \n",
    "\n",
    "A mapping holds data, perhaps key:value pairs, as in a dict (dictionary), but has no special first-to-last order such that indexes might be used."
   ]
  },
  {
   "cell_type": "code",
   "execution_count": 31,
   "id": "meaningful-trance",
   "metadata": {},
   "outputs": [],
   "source": [
    "bio_data = { \"Leo Fibonacci\": (1170, 1250),\n",
    "             \"Al Khwarizmi\": (780, 850),\n",
    "             \"Al Gore\": (1948,)}"
   ]
  },
  {
   "cell_type": "code",
   "execution_count": 32,
   "id": "reflected-bennett",
   "metadata": {},
   "outputs": [
    {
     "data": {
      "text/plain": [
       "dict_keys(['Leo Fibonacci', 'Al Khwarizmi', 'Al Gore'])"
      ]
     },
     "execution_count": 32,
     "metadata": {},
     "output_type": "execute_result"
    }
   ],
   "source": [
    "bio_data.keys()"
   ]
  },
  {
   "cell_type": "code",
   "execution_count": 33,
   "id": "transsexual-ordering",
   "metadata": {},
   "outputs": [
    {
     "data": {
      "text/plain": [
       "dict_values([(1170, 1250), (780, 850), (1948,)])"
      ]
     },
     "execution_count": 33,
     "metadata": {},
     "output_type": "execute_result"
    }
   ],
   "source": [
    "bio_data.values()"
   ]
  },
  {
   "cell_type": "code",
   "execution_count": 34,
   "id": "celtic-abraham",
   "metadata": {},
   "outputs": [
    {
     "data": {
      "text/plain": [
       "dict_items([('Leo Fibonacci', (1170, 1250)), ('Al Khwarizmi', (780, 850)), ('Al Gore', (1948,))])"
      ]
     },
     "execution_count": 34,
     "metadata": {},
     "output_type": "execute_result"
    }
   ],
   "source": [
    "bio_data.items()"
   ]
  },
  {
   "cell_type": "code",
   "execution_count": 35,
   "id": "ahead-regular",
   "metadata": {},
   "outputs": [
    {
     "data": {
      "text/plain": [
       "'Not Found'"
      ]
     },
     "execution_count": 35,
     "metadata": {},
     "output_type": "execute_result"
    }
   ],
   "source": [
    "default = \"Not Found\"\n",
    "bio_data.get(\"Fibonacci\", default)  # get method allows a default"
   ]
  },
  {
   "cell_type": "code",
   "execution_count": 36,
   "id": "vocational-october",
   "metadata": {},
   "outputs": [
    {
     "data": {
      "text/plain": [
       "'Not Found'"
      ]
     },
     "execution_count": 36,
     "metadata": {},
     "output_type": "execute_result"
    }
   ],
   "source": [
    "bio_data.get(\"Joe\", default)"
   ]
  },
  {
   "cell_type": "code",
   "execution_count": 37,
   "id": "emerging-promise",
   "metadata": {},
   "outputs": [
    {
     "data": {
      "text/plain": [
       "(780, 850)"
      ]
     },
     "execution_count": 37,
     "metadata": {},
     "output_type": "execute_result"
    }
   ],
   "source": [
    "bio_data[\"Al Khwarizmi\"]  # direct access using the key"
   ]
  },
  {
   "cell_type": "markdown",
   "id": "casual-property",
   "metadata": {},
   "source": [
    "We will talk a lot more about the fine points of Python's data structures as the class progresses.  \n",
    "\n",
    "We will also look at data structures we need to build ourselves, but from built-in data structures."
   ]
  },
  {
   "cell_type": "markdown",
   "id": "injured-intent",
   "metadata": {},
   "source": [
    "#### Notes:\n",
    "\n",
    "1. Politician Al Gore took credit for \"inventing the internet\" which many considered too much of an exaggeration, leading to many jokes at Al's expense.\n",
    "\n",
    "2. Fibonacci Numbers are derived by adding the previous two terms to get the next term, starting from 0 and 1. The closely related [Lucas Numbers](https://oeis.org/A000032) start off with 2 and 1 instead of 0 and 1."
   ]
  },
  {
   "cell_type": "code",
   "execution_count": 38,
   "id": "naughty-navigation",
   "metadata": {},
   "outputs": [
    {
     "name": "stdout",
     "output_type": "stream",
     "text": [
      "[2, 1, 3, 4, 7, 11, 18, 29, 47, 76]\n"
     ]
    }
   ],
   "source": [
    "gen = fibo(2, 1)  # reusing the same generator, changing defaults\n",
    "lucas = [next(gen) for _ in range(10)] # OEIS A000032\n",
    "print(lucas)"
   ]
  },
  {
   "cell_type": "markdown",
   "id": "secondary-basin",
   "metadata": {},
   "source": [
    "#### The Python Set\n",
    "\n",
    "The Python set is a lot like a dictionary, except it only has keys, no values.  Like with a dict, the keys must be unique, and therefore immutable.  If keys were allowed to change in place, like lists might, then originally unique keys could be made the same, and that would corrupt the entire data structure.\n",
    "\n",
    "Sets themselves are mutable, however if you \"freeze\" a set by turning it into a \"frozen set\", then it too may be used, like a tuple, like a string, as a set element and/or key."
   ]
  },
  {
   "cell_type": "code",
   "execution_count": 39,
   "id": "original-crown",
   "metadata": {},
   "outputs": [
    {
     "data": {
      "text/plain": [
       "4"
      ]
     },
     "execution_count": 39,
     "metadata": {},
     "output_type": "execute_result"
    }
   ],
   "source": [
    "# a set comprehension\n",
    "\n",
    "with open(\"wordkeep.txt\", \"r\") as the_file:\n",
    "    five_letter_starting_x = {word[:-1] for word \n",
    "                                in the_file.readlines()\n",
    "                                if \"x\" == word[0]}\n",
    "    \n",
    "    the_file.seek(0) # move pointer back to the top\n",
    "    five_letter_starting_y = {word[:-1] for word \n",
    "                                in the_file.readlines()\n",
    "                                if \"y\" == word[0]}\n",
    "\n",
    "# file closes when with-scope ends\n",
    "len(five_letter_starting_x)"
   ]
  },
  {
   "cell_type": "code",
   "execution_count": 40,
   "id": "legal-basket",
   "metadata": {},
   "outputs": [
    {
     "data": {
      "text/plain": [
       "47"
      ]
     },
     "execution_count": 40,
     "metadata": {},
     "output_type": "execute_result"
    }
   ],
   "source": [
    "len(five_letter_starting_y)"
   ]
  },
  {
   "cell_type": "code",
   "execution_count": 41,
   "id": "alleged-netherlands",
   "metadata": {},
   "outputs": [
    {
     "data": {
      "text/plain": [
       "['yurts',\n",
       " 'yokes',\n",
       " 'yoked',\n",
       " 'yoyos',\n",
       " 'yecch',\n",
       " 'yella',\n",
       " 'yacht',\n",
       " 'yawny',\n",
       " 'yokel']"
      ]
     },
     "execution_count": 41,
     "metadata": {},
     "output_type": "execute_result"
    }
   ],
   "source": [
    "list(five_letter_starting_y)[30:39]  # sample the set"
   ]
  },
  {
   "cell_type": "code",
   "execution_count": 42,
   "id": "distinguished-suite",
   "metadata": {},
   "outputs": [
    {
     "data": {
      "text/plain": [
       "{'xenon', 'xerox', 'xored', 'xylem'}"
      ]
     },
     "execution_count": 42,
     "metadata": {},
     "output_type": "execute_result"
    }
   ],
   "source": [
    "five_letter_starting_x"
   ]
  },
  {
   "cell_type": "code",
   "execution_count": 43,
   "id": "suspended-hartford",
   "metadata": {},
   "outputs": [
    {
     "data": {
      "text/plain": [
       "{frozenset({'xenon', 'xerox', 'xored', 'xylem'}): 'must start with x'}"
      ]
     },
     "execution_count": 43,
     "metadata": {},
     "output_type": "execute_result"
    }
   ],
   "source": [
    "x_words = frozenset(five_letter_starting_x)\n",
    "test_dict = {x_words: \"must start with x\"}\n",
    "test_dict"
   ]
  },
  {
   "cell_type": "markdown",
   "id": "neural-porcelain",
   "metadata": {},
   "source": [
    "### The pandas Series\n",
    "\n",
    "pandas is the premier Python data analysis library, although it's not alone on stage.  \n",
    "\n",
    "pandas shines when used with additional libraries and packages.  It depends on numpy and matplotlib.\n",
    "\n",
    "Inside of pandas are the Series and the DataFrame types.\n",
    "\n",
    "A Series is like a one-dimensional numpy array, but potentially with string labels for indexing, making it more like a namedtuple or dictionary.\n"
   ]
  },
  {
   "cell_type": "markdown",
   "id": "collected-nightlife",
   "metadata": {},
   "source": [
    "### The pandas DataFrame¶\n",
    "\n",
    "\n",
    "A DataFrame is an arrangement of Series, left to right, serving as successive columns and sharing a common row index, i.e. a tabular, 2-dimensional format."
   ]
  },
  {
   "cell_type": "markdown",
   "id": "frequent-transcript",
   "metadata": {},
   "source": [
    "Resources:\n",
    "\n",
    "*  [Official Python Docs on Data Structures](https://docs.python.org/3/tutorial/datastructures.html)\n",
    "*  A whole Github repo devoted to [Python Data Structures](https://github.com/okeeffed/cheat-sheets/blob/master/Python-Data-Structures.md#data-structures-with-python), by Dennis O'Keeffe \n",
    "* [List, Dict and Set Comprehensions (Notebook)](List_Comprehensions.ipynb)\n"
   ]
  },
  {
   "cell_type": "markdown",
   "id": "criminal-poverty",
   "metadata": {},
   "source": [
    "#### Collectible / Recommended Books:\n",
    "\n",
    "<a data-flickr-embed=\"true\" href=\"https://www.flickr.com/photos/kirbyurner/51836242767/in/dateposted-public/\" title=\"Old Fave\"><img src=\"https://live.staticflickr.com/65535/51836242767_e9bf8daa1a_w.jpg\" width=\"300\" height=\"400\" alt=\"Old Fave\"></a><script async src=\"//embedr.flickr.com/assets/client-code.js\" charset=\"utf-8\"></script>\n",
    "\n",
    "Used at [Phillips Academy / Andover](https://www.andover.edu/).  Introduces the cryptographic algorithm named [RSA](https://github.com/4dsolutions/elite_school/blob/master/RSA.ipynb).\n",
    "\n",
    "<a data-flickr-embed=\"true\" href=\"https://www.flickr.com/photos/kirbyurner/51837924600/in/dateposted-public/\" title=\"Sigma\"><img src=\"https://live.staticflickr.com/65535/51837924600_93b7a663be_w.jpg\" width=\"300\" height=\"400\" alt=\"Sigma\"></a><script async src=\"//embedr.flickr.com/assets/client-code.js\" charset=\"utf-8\"></script>\n",
    "\n",
    "Used at Stanford University to help make *The Art of Computer Programming* more understandable."
   ]
  }
 ],
 "metadata": {
  "kernelspec": {
   "display_name": "Python 3 (ipykernel)",
   "language": "python",
   "name": "python3"
  },
  "language_info": {
   "codemirror_mode": {
    "name": "ipython",
    "version": 3
   },
   "file_extension": ".py",
   "mimetype": "text/x-python",
   "name": "python",
   "nbconvert_exporter": "python",
   "pygments_lexer": "ipython3",
   "version": "3.9.12"
  }
 },
 "nbformat": 4,
 "nbformat_minor": 5
}
