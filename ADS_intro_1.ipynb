{
 "cells": [
  {
   "cell_type": "markdown",
   "id": "ae01d5f4-08dd-4621-a403-27645dcc8459",
   "metadata": {
    "tags": []
   },
   "source": [
    "##### Algorithms and Data Structures (Winter - Spring 2022)\n",
    "\n",
    "* [Colab view](https://colab.research.google.com/github/4dsolutions/elite_school/blob/master/ADS_intro_1.ipynb)\n",
    "* [nbviewer view](https://nbviewer.org/github/4dsolutions/elite_school/blob/master/ADS_intro_1.ipynb)\n",
    "* [ADS Page 2](ADS_intro_2.ipynb)\n",
    "* [ADS Page 3](ADS_intro_3.ipynb)\n",
    "* [ADS Projects](ADS_project_1.ipynb)\n",
    "* [ADS Research](ADS_research_1.ipynb)\n",
    "* [ACSL](Exercises.ipynb)\n",
    "* [Repo](https://github.com/4dsolutions/elite_school/)"
   ]
  },
  {
   "cell_type": "markdown",
   "id": "041bf7d2-5837-4936-a603-2d408d0ab96b",
   "metadata": {},
   "source": [
    "# Algorithms\n",
    "\n",
    "The contemporary term \"algorithm\" derives from the proper name of a Persian polymath who worked out of the Wisdom School in Baghdad over a thousand years ago. Iraq had not yet been invented as a country back then.\n",
    " \n",
    "His name in Persian was: محمد بن موسی خوارزمی, which gets Latinized as Muḥammad ibn Mūsā al-Khwārizmī (c. 780 – c. 850), or Al Khwarizmi for short, which sounds a little bit like \"Al Gorithm\" (but not a lot).  \"Algorithm\" sounds a lot more like \"Al Gore\" (a joke, why?  See note [1] below).\n",
    "\n",
    "Note to teachers:  I recommend using this statue as a kind of \"home base\" for your version *Algorithms and Data Structures*.\n",
    "\n",
    "<a data-flickr-embed=\"true\" href=\"https://www.flickr.com/photos/kirbyurner/51843248720/in/dateposted-public/\" title=\"Khwarizmi_Amirkabir_University_of_Technology\"><img src=\"https://live.staticflickr.com/65535/51843248720_4251c8dc12.jpg\" width=\"255\" height=\"500\" alt=\"Khwarizmi_Amirkabir_University_of_Technology\"></a><script async src=\"//embedr.flickr.com/assets/client-code.js\" charset=\"utf-8\"></script>\n",
    "\n",
    "But what is an \"algorithm\" anyway?\n",
    "\n",
    "An algorithm is a step-by-step recipe, not necessarily numerical. It's very closely related to the mathematical idea of \"a function\" i.e. a procedure for taking in a set of inputs, and creating corresponding results or outputs.\n",
    "\n",
    "When you follow a recipe for baking a cake, you start with certain ingredients, measuring cups, other containers (data structures), and oven for adding heat over time, and you end up, one hopes, with a cake.\n",
    "\n",
    "[Quoting from Think Python](https://greenteapress.com/thinkpython2/html/thinkpython2008.html#sec87), by Allen Downey:\n",
    "\n",
    "<blockquote>\n",
    "    One of the characteristics of algorithms is that they do not require any intelligence to carry out. They are mechanical processes where each step follows from the last according to a simple set of rules.\n",
    "\n",
    "Executing algorithms is boring, but designing them is interesting, intellectually challenging, and a central part of computer science.\n",
    "\n",
    "Some of the things that people do naturally, without difficulty or conscious thought, are the hardest to express algorithmically. Understanding natural language is a good example. We all do it, but so far no one has been able to explain how we do it, at least not in the form of an algorithm.\n",
    "   </blockquote>\n",
    "   \n",
    "The idea of \"numerical recipes\" is at the basis of  arithmetic and is what we learn in school as addition, subtraction, multiplication and division. When school teachers talk about elementary school math, they talk about teaching algorithms, such as how to perform long division, or how to find a square root.\n",
    "\n",
    "This idea of \"numerical recipes\" spread to the Italian peninsula and to the rest of Europe, through the Republic of Pisa, where the famous Leonardo Fibonacci (c. 1170 - c. 1250) wrote *Liber Abaci*, based on Al Khwarizmi's work.  \n",
    "\n",
    "If you learned to use Arabic numerals, Fibonacci told his readers, you could get free of relatively clunky Roman numbers and the abacus.  You could learn to compute on paper or on a chalkboard.\n",
    "\n",
    "You might be thinking \"if algorithm means step-by-step number crunching then isn't any computer program an algorithm?\"  \n",
    "\n",
    "That's pretty close to how people use the word nowadays.  People talk about the \"recommendation algorithm\" used by online sellers to suggest other, related products you might want ot buy.  Many algorithms are \"semi-numerical\" meaning they involve more than just number crunching.\n",
    "\n",
    "Think of the globe as a data structure, storing information about the world, and of a projection from that globe, to a flat surface, as an algorithm.  \n",
    "\n",
    "We need data types and algorithms that mirror our practices around [spatial and temporal information](ADS_project_2.ipynb), in order to create data visualizations such as Google Earth."
   ]
  },
  {
   "cell_type": "markdown",
   "id": "794de8ba-d32c-4370-9c3f-00565c1fb71e",
   "metadata": {},
   "source": [
    "### Fibonacci Numbers\n",
    "\n",
    "You may have heard of this famous sequence of numbers, named for Fibonacci.  Below is some Python code for generating the first ten terms in the sequence, starting from 0.\n",
    "\n",
    "Don't worry if you're not yet familiar with the idea of a \"generator function\" in Python, which uses the ```yield``` keyword instead of ```return```.  We will be introducing features of the Python language as we go.\n",
    "\n",
    "You could call this short program \"an algorithm for generating the Fibonacci numbers\".  See Note [2] below."
   ]
  },
  {
   "cell_type": "code",
   "execution_count": 1,
   "id": "c62e9a59-27d9-4bef-9051-5ae5fdc54962",
   "metadata": {},
   "outputs": [
    {
     "name": "stdout",
     "output_type": "stream",
     "text": [
      "[0, 1, 1, 2, 3, 5, 8, 13, 21, 34]\n"
     ]
    }
   ],
   "source": [
    "# Fibonacci Numbers\n",
    "# https://oeis.org/A000045\n",
    "\n",
    "def fibo(a=0, b=1):\n",
    "    while True:\n",
    "        yield a\n",
    "        b, a = a + b, b\n",
    "        \n",
    "gen = fibo()\n",
    "fibs = [next(gen) for _ in range(10)]\n",
    "print(fibs)"
   ]
  },
  {
   "cell_type": "markdown",
   "id": "56611bd9-2131-4614-b641-ca3162e4fbc8",
   "metadata": {},
   "source": [
    "# Data Structures & Structured Data\n",
    "\n",
    "When you cook, following a recipe, you need ways to store your ingredients, as well as places to mix them.  Containers of various types come to mind: liquid measuring spoons, sized cups, bags and jars.  We also need cutting boards and other work surfaces.\n",
    "\n",
    "Algorithms likewise require lots of containers, for organizing all the ingredients in a numerical, semi-numerical, or non-numerical recipe.  We might call these containers data structures, or refer to their role as one of structuring (organizing) our data. \n",
    "\n",
    "To quote Wes McKinney, in *Python for Data Analysis*, 3rd Edition:\n",
    "\n",
    "<blockquote>\n",
    "    When I say “data,” what am I referring to exactly? The primary focus is on structured data, a deliberately vague term that encompasses many different common forms of data, such as:\n",
    "\n",
    "* Tabular or spreadsheet-like data in which each column may be a different type (string, numeric, date, or otherwise). This includes most kinds of data commonly stored in relational databases or tab- or comma-delimited text files.\n",
    "\n",
    "* Multidimensional arrays (matrices).\n",
    "\n",
    "* Multiple tables of data interrelated by key columns (what would be primary or foreign keys for a SQL user).\n",
    "\n",
    "* Evenly or unevenly spaced time series.\n",
    "</blockquote>\n",
    "\n",
    "For example, in the Fibonacci Numbers code, we stored the sequence in a Python list named fibs.  The Python list is a type of data structure.  What are some other data structures in Python?\n",
    "\n",
    "We will begin our study of data structures by using them within algorithms.  \n",
    "\n",
    "In an object oriented programming language, such as Python, we imagine objects as a combination of data, and algorithms for working with that data."
   ]
  },
  {
   "cell_type": "markdown",
   "id": "38042db7-b7d7-4867-9522-f24b00ccb87b",
   "metadata": {},
   "source": [
    "The Python type defined below allows for the creation of any number of individual Pythons through the \"birthing\" process, or `__init__`.  Each new Python starts out with a name and an empty stomach.  The eat method, defined at the class level (along with the other methods) is a way to append foods to the stomach object contained in each snake."
   ]
  },
  {
   "cell_type": "code",
   "execution_count": 2,
   "id": "38cc082e-7734-4035-abf8-fdd122806e6e",
   "metadata": {},
   "outputs": [],
   "source": [
    "class Python:\n",
    "  family = \"snake\"\n",
    "\n",
    "  def __init__(self, nm):\n",
    "      self.name = nm\n",
    "      self.stomach = [ ]  # <-- built-in data structure\n",
    "\n",
    "  def eat(self, food):\n",
    "      self.stomach.append(food)\n",
    "\n",
    "  def __repr__(self):\n",
    "      return 'Python named ' + self.name"
   ]
  },
  {
   "cell_type": "code",
   "execution_count": 3,
   "id": "632c69b0-fcf1-40bd-b3ce-3567b4222f79",
   "metadata": {},
   "outputs": [
    {
     "data": {
      "text/plain": [
       "Python named Shelly"
      ]
     },
     "execution_count": 3,
     "metadata": {},
     "output_type": "execute_result"
    }
   ],
   "source": [
    "snake1 = Python(\"Shelly\")\n",
    "snake1"
   ]
  },
  {
   "cell_type": "code",
   "execution_count": 4,
   "id": "998ba3b7-755e-4e8a-8627-e8e2343376e4",
   "metadata": {},
   "outputs": [
    {
     "data": {
      "text/plain": [
       "['emoji']"
      ]
     },
     "execution_count": 4,
     "metadata": {},
     "output_type": "execute_result"
    }
   ],
   "source": [
    "snake1.eat(\"emoji\")\n",
    "snake1.stomach"
   ]
  },
  {
   "cell_type": "code",
   "execution_count": 5,
   "id": "79765b83-72cc-47d7-9a47-1811a03ab7c1",
   "metadata": {},
   "outputs": [
    {
     "data": {
      "text/plain": [
       "{'name': 'Guido', 'stomach': ['eggs']}"
      ]
     },
     "execution_count": 5,
     "metadata": {},
     "output_type": "execute_result"
    }
   ],
   "source": [
    "snake2 = Python(\"Guido\")\n",
    "snake2.eat(\"eggs\")\n",
    "snake2.__dict__"
   ]
  },
  {
   "cell_type": "code",
   "execution_count": 6,
   "id": "5132772a-8e43-4a1c-bf20-2d0e1d286787",
   "metadata": {},
   "outputs": [
    {
     "data": {
      "text/plain": [
       "'snake'"
      ]
     },
     "execution_count": 6,
     "metadata": {},
     "output_type": "execute_result"
    }
   ],
   "source": [
    "Python.family"
   ]
  },
  {
   "cell_type": "markdown",
   "id": "9f1e2180-00f2-456e-bcd4-bc819c69b308",
   "metadata": {},
   "source": [
    "Python's data structures may be classified into two major categories:  *sequences* and *mappings*. "
   ]
  },
  {
   "cell_type": "markdown",
   "id": "c9ee6a16-1041-4db9-90ed-fab11c2b8a29",
   "metadata": {},
   "source": [
    "### Sequences"
   ]
  },
  {
   "cell_type": "code",
   "execution_count": 7,
   "id": "673e96b2-5b65-4716-8439-42c42e8567aa",
   "metadata": {},
   "outputs": [],
   "source": [
    "# List\n",
    "\n",
    "L = [5, 2, 7, 0, 10]"
   ]
  },
  {
   "cell_type": "code",
   "execution_count": 8,
   "id": "4c5208d3-4c9d-4f44-b5ef-1ef1aadd868d",
   "metadata": {},
   "outputs": [
    {
     "data": {
      "text/plain": [
       "[10, 0, 7, 2, 5]"
      ]
     },
     "execution_count": 8,
     "metadata": {},
     "output_type": "execute_result"
    }
   ],
   "source": [
    "L.reverse()  # some algorithm knows how to reverse any list\n",
    "L"
   ]
  },
  {
   "cell_type": "code",
   "execution_count": 9,
   "id": "566fa4f8-3806-4be9-83c3-cbe0648cc32c",
   "metadata": {},
   "outputs": [
    {
     "data": {
      "text/plain": [
       "[0, 2, 5, 7, 10]"
      ]
     },
     "execution_count": 9,
     "metadata": {},
     "output_type": "execute_result"
    }
   ],
   "source": [
    "L.sort()  # some algorithm knows how to sort some lists\n",
    "L"
   ]
  },
  {
   "cell_type": "code",
   "execution_count": 10,
   "id": "d4bab4d9-8f47-46d3-9349-ded447e6d848",
   "metadata": {},
   "outputs": [
    {
     "name": "stdout",
     "output_type": "stream",
     "text": [
      "'<' not supported between instances of 'int' and 'str'\n"
     ]
    }
   ],
   "source": [
    "M = ['a', 10, True]  # but not all lists can be sorted\n",
    "try:\n",
    "    M.sort()\n",
    "except Exception as e:\n",
    "    print(e)"
   ]
  },
  {
   "cell_type": "markdown",
   "id": "b2ccf79e-4b7c-4557-8baf-34ab3cd67a6b",
   "metadata": {},
   "source": [
    "Any data structure that has a first-to-last ordering is a sequence.  A list is a sequence.  So is a string."
   ]
  },
  {
   "cell_type": "code",
   "execution_count": 11,
   "id": "21aae940-93d5-4499-8ac5-b50eda5e8e6d",
   "metadata": {},
   "outputs": [],
   "source": [
    "# all of these may be indexed\n",
    "a_tuple = (1, 7, 9, 12)\n",
    "a_list = [1, 7, 9, 12]\n",
    "a_string = \"1 7 9 12\""
   ]
  },
  {
   "cell_type": "code",
   "execution_count": 12,
   "id": "cdb3751c-edc1-4d03-81f5-2abb3aee1438",
   "metadata": {},
   "outputs": [
    {
     "data": {
      "text/plain": [
       "7"
      ]
     },
     "execution_count": 12,
     "metadata": {},
     "output_type": "execute_result"
    }
   ],
   "source": [
    "a_tuple[1] # tuples are like lists but fight being changed"
   ]
  },
  {
   "cell_type": "code",
   "execution_count": 13,
   "id": "ff8263ef-b72a-4205-b040-a122dc8f0481",
   "metadata": {},
   "outputs": [
    {
     "data": {
      "text/plain": [
       "12"
      ]
     },
     "execution_count": 13,
     "metadata": {},
     "output_type": "execute_result"
    }
   ],
   "source": [
    "a_list[-1] # negative index:  coming from the right"
   ]
  },
  {
   "cell_type": "code",
   "execution_count": 14,
   "id": "89fcbf20-99c0-4eb8-bf27-f1ff7af3ecaa",
   "metadata": {},
   "outputs": [
    {
     "data": {
      "text/plain": [
       "'1 7 9'"
      ]
     },
     "execution_count": 14,
     "metadata": {},
     "output_type": "execute_result"
    }
   ],
   "source": [
    "a_string[0:5]  # slice notation, still indexing"
   ]
  },
  {
   "cell_type": "markdown",
   "id": "01d021d7-e30e-4753-929f-9f6efed64a8d",
   "metadata": {},
   "source": [
    "### Mappings\n",
    "\n",
    "#### The Python Dictionary \n",
    "\n",
    "A mapping holds data, perhaps key:value pairs, as in a dict (dictionary), but has no special first-to-last order such that indexes might be used."
   ]
  },
  {
   "cell_type": "code",
   "execution_count": 15,
   "id": "8d5f9cb1-8d38-4c78-bfce-7d03c90d34f4",
   "metadata": {},
   "outputs": [],
   "source": [
    "d = {\"Fibonacci\": (1170, 1250),\n",
    "     \"Al Khwarizmi\": (780, 850),\n",
    "     \"Al Gore\": (1948,)}"
   ]
  },
  {
   "cell_type": "code",
   "execution_count": 16,
   "id": "833a7d4f-4065-4b5b-9b3d-6145dc167ac9",
   "metadata": {},
   "outputs": [
    {
     "data": {
      "text/plain": [
       "dict_keys(['Fibonacci', 'Al Khwarizmi', 'Al Gore'])"
      ]
     },
     "execution_count": 16,
     "metadata": {},
     "output_type": "execute_result"
    }
   ],
   "source": [
    "d.keys()"
   ]
  },
  {
   "cell_type": "code",
   "execution_count": 17,
   "id": "82a5e65b-b5a0-4ccb-b25b-be471b787d70",
   "metadata": {},
   "outputs": [
    {
     "data": {
      "text/plain": [
       "dict_values([(1170, 1250), (780, 850), (1948,)])"
      ]
     },
     "execution_count": 17,
     "metadata": {},
     "output_type": "execute_result"
    }
   ],
   "source": [
    "d.values()"
   ]
  },
  {
   "cell_type": "code",
   "execution_count": 18,
   "id": "7a3dfebf-6da3-4da2-88dc-9d40178ab1dd",
   "metadata": {},
   "outputs": [
    {
     "data": {
      "text/plain": [
       "dict_items([('Fibonacci', (1170, 1250)), ('Al Khwarizmi', (780, 850)), ('Al Gore', (1948,))])"
      ]
     },
     "execution_count": 18,
     "metadata": {},
     "output_type": "execute_result"
    }
   ],
   "source": [
    "d.items()"
   ]
  },
  {
   "cell_type": "code",
   "execution_count": 19,
   "id": "06f4beff-6c22-435a-a32d-9257ca34b340",
   "metadata": {},
   "outputs": [
    {
     "data": {
      "text/plain": [
       "(1170, 1250)"
      ]
     },
     "execution_count": 19,
     "metadata": {},
     "output_type": "execute_result"
    }
   ],
   "source": [
    "default = \"Not Found\"\n",
    "d.get(\"Fibonacci\", default)  # get method allows a default"
   ]
  },
  {
   "cell_type": "code",
   "execution_count": 20,
   "id": "939646f8-4418-44b6-ad6d-1c5fb016a0d5",
   "metadata": {},
   "outputs": [
    {
     "data": {
      "text/plain": [
       "'Not Found'"
      ]
     },
     "execution_count": 20,
     "metadata": {},
     "output_type": "execute_result"
    }
   ],
   "source": [
    "d.get(\"Joe\", default)"
   ]
  },
  {
   "cell_type": "code",
   "execution_count": 21,
   "id": "dfd54917-c628-45b2-b35d-0886d7588d50",
   "metadata": {},
   "outputs": [
    {
     "data": {
      "text/plain": [
       "(780, 850)"
      ]
     },
     "execution_count": 21,
     "metadata": {},
     "output_type": "execute_result"
    }
   ],
   "source": [
    "d[\"Al Khwarizmi\"]  # direct access using the key"
   ]
  },
  {
   "cell_type": "markdown",
   "id": "78493d39-2044-43ae-9e34-c0deac49fb02",
   "metadata": {},
   "source": [
    "We will talk a lot more about the fine points of Python's data structures as the class progresses.  \n",
    "\n",
    "We will also look at data structures we need to build ourselves, but from built-in data structures."
   ]
  },
  {
   "cell_type": "markdown",
   "id": "d100d366-671f-4dc9-86b9-cb4a8ca8a9ea",
   "metadata": {},
   "source": [
    "#### Notes:\n",
    "\n",
    "1. Politician Al Gore took credit for \"inventing the internet\" which many considered too much of an exaggeration, leading to many jokes at Al's expense.\n",
    "\n",
    "2. Fibonacci Numbers are derived by adding the previous two terms to get the next term, starting from 0 and 1. The closely related [Lucas Numbers](https://oeis.org/A000032) start off with 2 and 1 instead of 0 and 1."
   ]
  },
  {
   "cell_type": "code",
   "execution_count": 22,
   "id": "68fcda40-5678-45bf-83e7-374f1d7be77b",
   "metadata": {},
   "outputs": [
    {
     "name": "stdout",
     "output_type": "stream",
     "text": [
      "[2, 1, 3, 4, 7, 11, 18, 29, 47, 76]\n"
     ]
    }
   ],
   "source": [
    "gen = fibo(2, 1)  # reusing the same generator, changing defaults\n",
    "lucas = [next(gen) for _ in range(10)] # OEIS A000032\n",
    "print(lucas)"
   ]
  },
  {
   "cell_type": "markdown",
   "id": "ad5d6d2f-7e9e-4869-9589-495c1b138f2a",
   "metadata": {},
   "source": [
    "#### The Python Set\n",
    "\n",
    "The Python set is a lot like a dictionary, except it only has keys, no values.  Like with a dict, the keys must be unique, and therefore immutable.  If keys were allowed to change in place, like lists might, then originally unique keys could be made the same, and that would corrupt the entire data structure.\n",
    "\n",
    "Sets themselves are mutable, however if you \"freeze\" a set by turning it into a \"frozen set\", then it too may be used, like a tuple, like a string, as a set element and/or key."
   ]
  },
  {
   "cell_type": "code",
   "execution_count": 23,
   "id": "ab1535cc-f57d-476e-be10-30b0c1812dea",
   "metadata": {},
   "outputs": [
    {
     "data": {
      "text/plain": [
       "4"
      ]
     },
     "execution_count": 23,
     "metadata": {},
     "output_type": "execute_result"
    }
   ],
   "source": [
    "# a set comprehension\n",
    "\n",
    "with open(\"wordkeep.txt\", \"r\") as the_file:\n",
    "    five_letter_starting_x = {word[:-1] for word \n",
    "                                in the_file.readlines()\n",
    "                                if \"x\" == word[0]}\n",
    "    \n",
    "    the_file.seek(0) # move pointer back to the top\n",
    "    five_letter_starting_y = {word[:-1] for word \n",
    "                                in the_file.readlines()\n",
    "                                if \"y\" == word[0]}\n",
    "\n",
    "# file closes when with-scope ends\n",
    "len(five_letter_starting_x)"
   ]
  },
  {
   "cell_type": "code",
   "execution_count": 24,
   "id": "270f0183-af71-4296-bcf2-83b322b0e666",
   "metadata": {},
   "outputs": [
    {
     "data": {
      "text/plain": [
       "47"
      ]
     },
     "execution_count": 24,
     "metadata": {},
     "output_type": "execute_result"
    }
   ],
   "source": [
    "len(five_letter_starting_y)"
   ]
  },
  {
   "cell_type": "code",
   "execution_count": 25,
   "id": "c1721059-44b7-41a2-b2ec-e0138b34471f",
   "metadata": {},
   "outputs": [
    {
     "data": {
      "text/plain": [
       "['yella',\n",
       " 'yurts',\n",
       " 'yanks',\n",
       " 'yecch',\n",
       " 'yokes',\n",
       " 'yelps',\n",
       " 'yells',\n",
       " 'yobbo',\n",
       " 'yores']"
      ]
     },
     "execution_count": 25,
     "metadata": {},
     "output_type": "execute_result"
    }
   ],
   "source": [
    "list(five_letter_starting_y)[30:39]  # sample the set"
   ]
  },
  {
   "cell_type": "code",
   "execution_count": 26,
   "id": "591222b2-a42b-4c81-a8c2-213680abad9e",
   "metadata": {},
   "outputs": [
    {
     "data": {
      "text/plain": [
       "{'xenon', 'xerox', 'xored', 'xylem'}"
      ]
     },
     "execution_count": 26,
     "metadata": {},
     "output_type": "execute_result"
    }
   ],
   "source": [
    "five_letter_starting_x"
   ]
  },
  {
   "cell_type": "code",
   "execution_count": 27,
   "id": "fdd96337-d98f-400b-8ce4-9e08fcd63f59",
   "metadata": {},
   "outputs": [
    {
     "data": {
      "text/plain": [
       "{frozenset({'xenon', 'xerox', 'xored', 'xylem'}): 'must start with x'}"
      ]
     },
     "execution_count": 27,
     "metadata": {},
     "output_type": "execute_result"
    }
   ],
   "source": [
    "x_words = frozenset(five_letter_starting_x)\n",
    "test_dict = {x_words: \"must start with x\"}\n",
    "test_dict"
   ]
  },
  {
   "cell_type": "markdown",
   "id": "15214574-8e53-4616-8056-3752bca30986",
   "metadata": {},
   "source": [
    "Resources:\n",
    "\n",
    "*  [Official Python Docs on Data Structures](https://docs.python.org/3/tutorial/datastructures.html)\n",
    "*  A whole Github repo devoted to [Python Data Structures](https://github.com/okeeffed/cheat-sheets/blob/master/Python-Data-Structures.md#data-structures-with-python), by Dennis O'Keeffe \n",
    "* [List, Dict and Set Comprehensions (Notebook)](List_Comprehensions.ipynb)\n"
   ]
  },
  {
   "cell_type": "markdown",
   "id": "688da712-6125-440f-9a94-41e8b2863584",
   "metadata": {},
   "source": [
    "#### Collectible / Recommended Books:\n",
    "\n",
    "<a data-flickr-embed=\"true\" href=\"https://www.flickr.com/photos/kirbyurner/51836242767/in/dateposted-public/\" title=\"Old Fave\"><img src=\"https://live.staticflickr.com/65535/51836242767_e9bf8daa1a_w.jpg\" width=\"300\" height=\"400\" alt=\"Old Fave\"></a><script async src=\"//embedr.flickr.com/assets/client-code.js\" charset=\"utf-8\"></script>\n",
    "\n",
    "Used at [Phillips Academy / Andover](https://www.andover.edu/).  Introduces the cryptographic algorithm named [RSA](https://github.com/4dsolutions/elite_school/blob/master/RSA.ipynb).\n",
    "\n",
    "<a data-flickr-embed=\"true\" href=\"https://www.flickr.com/photos/kirbyurner/51837924600/in/dateposted-public/\" title=\"Sigma\"><img src=\"https://live.staticflickr.com/65535/51837924600_93b7a663be_w.jpg\" width=\"300\" height=\"400\" alt=\"Sigma\"></a><script async src=\"//embedr.flickr.com/assets/client-code.js\" charset=\"utf-8\"></script>\n",
    "\n",
    "Used at Stanford University to help make *The Art of Computer Programming* more understandable."
   ]
  }
 ],
 "metadata": {
  "kernelspec": {
   "display_name": "Python 3 (ipykernel)",
   "language": "python",
   "name": "python3"
  },
  "language_info": {
   "codemirror_mode": {
    "name": "ipython",
    "version": 3
   },
   "file_extension": ".py",
   "mimetype": "text/x-python",
   "name": "python",
   "nbconvert_exporter": "python",
   "pygments_lexer": "ipython3",
   "version": "3.7.9"
  }
 },
 "nbformat": 4,
 "nbformat_minor": 5
}
