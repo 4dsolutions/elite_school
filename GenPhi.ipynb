{
 "cells": [
  {
   "cell_type": "markdown",
   "id": "ba1c428c",
   "metadata": {},
   "source": [
    "[Home](Home.ipynb)\n",
    "\n",
    "# Generating $\\phi$\n",
    "\n",
    "Check out this code:\n",
    "\n",
    "```python\n",
    "def continuedint():\n",
    "    \n",
    "    patt = \"+ 1/(1\"\n",
    "    the_expr = ''  # empty\n",
    "    n = 1\n",
    "    \n",
    "    while True:\n",
    "        the_expr = the_expr + patt\n",
    "        the_frac = \"1 \" + (the_expr + \")\" * n)\n",
    "        \n",
    "        # print(the_frac)\n",
    "        yield the_frac  # or show the_frac\n",
    "        \n",
    "        n += 1\n",
    "```"
   ]
  },
  {
   "cell_type": "code",
   "execution_count": 1,
   "id": "0fd2a7eb",
   "metadata": {},
   "outputs": [],
   "source": [
    "from gen_phi import continuedint"
   ]
  },
  {
   "cell_type": "code",
   "execution_count": 2,
   "id": "0ede3664",
   "metadata": {},
   "outputs": [],
   "source": [
    "gp = continuedint()"
   ]
  },
  {
   "cell_type": "code",
   "execution_count": 3,
   "id": "d30e4996",
   "metadata": {},
   "outputs": [
    {
     "data": {
      "text/plain": [
       "'1 + 1/(1)'"
      ]
     },
     "execution_count": 3,
     "metadata": {},
     "output_type": "execute_result"
    }
   ],
   "source": [
    "next(gp)"
   ]
  },
  {
   "cell_type": "code",
   "execution_count": 4,
   "id": "dfc5d75e",
   "metadata": {},
   "outputs": [
    {
     "data": {
      "text/plain": [
       "2.0"
      ]
     },
     "execution_count": 4,
     "metadata": {},
     "output_type": "execute_result"
    }
   ],
   "source": [
    "eval('1 + 1/(1)')"
   ]
  },
  {
   "cell_type": "code",
   "execution_count": 5,
   "id": "4aa21fec",
   "metadata": {},
   "outputs": [
    {
     "data": {
      "text/plain": [
       "'1 + 1/(1+ 1/(1))'"
      ]
     },
     "execution_count": 5,
     "metadata": {},
     "output_type": "execute_result"
    }
   ],
   "source": [
    "next(gp)"
   ]
  },
  {
   "cell_type": "code",
   "execution_count": 6,
   "id": "d066adb4",
   "metadata": {},
   "outputs": [
    {
     "data": {
      "text/plain": [
       "'1 + 1/(1+ 1/(1+ 1/(1)))'"
      ]
     },
     "execution_count": 6,
     "metadata": {},
     "output_type": "execute_result"
    }
   ],
   "source": [
    "next(gp)"
   ]
  },
  {
   "cell_type": "code",
   "execution_count": 7,
   "id": "f5164092",
   "metadata": {},
   "outputs": [
    {
     "data": {
      "text/plain": [
       "'1 + 1/(1+ 1/(1+ 1/(1+ 1/(1))))'"
      ]
     },
     "execution_count": 7,
     "metadata": {},
     "output_type": "execute_result"
    }
   ],
   "source": [
    "fraction = next(gp)\n",
    "fraction"
   ]
  },
  {
   "cell_type": "code",
   "execution_count": 8,
   "id": "38e79a3a",
   "metadata": {},
   "outputs": [
    {
     "data": {
      "text/plain": [
       "1.6"
      ]
     },
     "execution_count": 8,
     "metadata": {},
     "output_type": "execute_result"
    }
   ],
   "source": [
    "eval(fraction)"
   ]
  },
  {
   "cell_type": "code",
   "execution_count": 9,
   "id": "002439f2",
   "metadata": {},
   "outputs": [
    {
     "data": {
      "text/plain": [
       "1.6180327868852458"
      ]
     },
     "execution_count": 9,
     "metadata": {},
     "output_type": "execute_result"
    }
   ],
   "source": [
    "for _ in range(10):\n",
    "    fraction = next(gp)\n",
    "eval(fraction)"
   ]
  },
  {
   "cell_type": "code",
   "execution_count": 10,
   "id": "e05f98b4",
   "metadata": {},
   "outputs": [
    {
     "data": {
      "text/plain": [
       "'1 + 1/(1+ 1/(1+ 1/(1+ 1/(1+ 1/(1+ 1/(1+ 1/(1+ 1/(1+ 1/(1+ 1/(1+ 1/(1+ 1/(1+ 1/(1+ 1/(1))))))))))))))'"
      ]
     },
     "execution_count": 10,
     "metadata": {},
     "output_type": "execute_result"
    }
   ],
   "source": [
    "fraction"
   ]
  },
  {
   "cell_type": "code",
   "execution_count": 11,
   "id": "c32b5b2d",
   "metadata": {},
   "outputs": [
    {
     "data": {
      "text/plain": [
       "1.6180339886704433"
      ]
     },
     "execution_count": 11,
     "metadata": {},
     "output_type": "execute_result"
    }
   ],
   "source": [
    "for _ in range(10):\n",
    "    fraction = next(gp)\n",
    "eval(fraction)"
   ]
  },
  {
   "cell_type": "code",
   "execution_count": 12,
   "id": "14d136ba",
   "metadata": {},
   "outputs": [
    {
     "data": {
      "text/plain": [
       "1.6180339887498896"
      ]
     },
     "execution_count": 12,
     "metadata": {},
     "output_type": "execute_result"
    }
   ],
   "source": [
    "for _ in range(10):\n",
    "    fraction = next(gp)\n",
    "eval(fraction)"
   ]
  },
  {
   "cell_type": "markdown",
   "id": "074ccecd",
   "metadata": {},
   "source": [
    "Floating point numbers have limited precision, as we have seen.  The Decimal type has limited precision also, but we get to set the precision.\n",
    "\n",
    "```python\n",
    "\n",
    "from decimal import Decimal, getcontext\n",
    "\n",
    "getcontext().prec = 35\n",
    "\n",
    "one = Decimal('1')\n",
    "five = Decimal('5')\n",
    "check = (one + five.sqrt())/2\n",
    "\n",
    "def continued():\n",
    "    \n",
    "    patt = \"+ one/(one\"\n",
    "    the_expr = ''  # empty\n",
    "    n = 1\n",
    "    \n",
    "    while True:\n",
    "        the_expr = the_expr + patt\n",
    "        the_frac = \"1 \" + (the_expr + \")\" * n)\n",
    "        \n",
    "        # print(the_frac)\n",
    "        yield eval(the_frac)  # or show the_frac\n",
    "        \n",
    "        n += 1\n",
    "        \n",
    "def test_me():\n",
    "    the_gen = continued()\n",
    "    last_time = 1\n",
    "    while True:\n",
    "        approx = next(the_gen)\n",
    "        print(approx)\n",
    "        if approx == check:\n",
    "            break\n",
    "        if abs(approx - last_time) < Decimal(1e-35): \n",
    "            break\n",
    "        last_time = approx\n",
    "\n",
    "    print(\"Approx:\", approx)\n",
    "    print(\"Check :\", check)\n",
    "    \n",
    "if __name__ == \"__main__\":\n",
    "    test_me()\n",
    "```"
   ]
  },
  {
   "cell_type": "code",
   "execution_count": 40,
   "id": "1a92c1e9",
   "metadata": {},
   "outputs": [
    {
     "name": "stdout",
     "output_type": "stream",
     "text": [
      "2\n",
      "1.5\n",
      "1.6666666666666666666666666666666667\n",
      "1.6000000000000000000000000000000000\n",
      "1.625\n",
      "1.6153846153846153846153846153846154\n",
      "1.6190476190476190476190476190476190\n",
      "1.6176470588235294117647058823529412\n",
      "1.6181818181818181818181818181818182\n",
      "1.6179775280898876404494382022471910\n",
      "1.6180555555555555555555555555555556\n",
      "1.6180257510729613733905579399141631\n",
      "1.6180371352785145888594164456233422\n",
      "1.6180327868852459016393442622950820\n",
      "1.6180344478216818642350557244174265\n",
      "1.6180338134001252348152786474639950\n",
      "1.6180340557275541795665634674922601\n",
      "1.6180339631667065295383879454675915\n",
      "1.6180339985218033998521803399852180\n",
      "1.6180339850173579389731408733784031\n",
      "1.6180339901755970865563773925808819\n",
      "1.6180339882053250514708448197648044\n",
      "1.6180339889579020013802622498274672\n",
      "1.6180339886704431856047984005331556\n",
      "1.6180339887802426828565073768668704\n",
      "1.6180339887383030068527324379639341\n",
      "1.6180339887543225376088304054925726\n",
      "1.6180339887482036213437981910782939\n",
      "1.6180339887505408393827219845199750\n",
      "1.6180339887496481015309718934328875\n",
      "1.6180339887499890970472967792907250\n",
      "1.6180339887498588483500719802484156\n",
      "1.6180339887499085989254214575880602\n",
      "1.6180339887498895958965978196611962\n",
      "1.6180339887498968544077192553799134\n",
      "1.6180339887498940819031785860452540\n",
      "1.6180339887498951409056791583151413\n",
      "1.6180339887498947364027181108378957\n",
      "1.6180339887498948909091006809994180\n",
      "1.6180339887498948318929140179920490\n",
      "1.6180339887498948544350914368526269\n",
      "1.6180339887498948458247458432782610\n",
      "1.6180339887498948491136052051407806\n",
      "1.6180339887498948478573727131275878\n",
      "1.6180339887498948483372108273046466\n",
      "1.6180339887498948481539289767866629\n",
      "1.6180339887498948482239364141635552\n",
      "1.6180339887498948481971959525508621\n",
      "1.6180339887498948482074099000120490\n",
      "1.6180339887498948482035085192411814\n",
      "1.6180339887498948482049987140925975\n",
      "1.6180339887498948482044295103092167\n",
      "1.6180339887498948482046469268079431\n",
      "1.6180339887498948482045638810951446\n",
      "1.6180339887498948482045956017348137\n",
      "1.6180339887498948482045834855286050\n",
      "1.6180339887498948482045881135075620\n",
      "1.6180339887498948482045863457768996\n",
      "1.6180339887498948482045870209899297\n",
      "1.6180339887498948482045867630815019\n",
      "1.6180339887498948482045868615937553\n",
      "1.6180339887498948482045868239654228\n",
      "1.6180339887498948482045868383381669\n",
      "1.6180339887498948482045868328482671\n",
      "1.6180339887498948482045868349452223\n",
      "1.6180339887498948482045868341442567\n",
      "1.6180339887498948482045868344501983\n",
      "1.6180339887498948482045868343333390\n",
      "1.6180339887498948482045868343779753\n",
      "1.6180339887498948482045868343609257\n",
      "1.6180339887498948482045868343674381\n",
      "1.6180339887498948482045868343649506\n",
      "1.6180339887498948482045868343659007\n",
      "1.6180339887498948482045868343655378\n",
      "1.6180339887498948482045868343656764\n",
      "1.6180339887498948482045868343656235\n",
      "1.6180339887498948482045868343656437\n",
      "1.6180339887498948482045868343656360\n",
      "1.6180339887498948482045868343656389\n",
      "1.6180339887498948482045868343656378\n",
      "1.6180339887498948482045868343656382\n",
      "1.6180339887498948482045868343656381\n",
      "Approx: 1.6180339887498948482045868343656381\n",
      "Check : 1.6180339887498948482045868343656381\n"
     ]
    }
   ],
   "source": [
    "! python gen_phi.py"
   ]
  },
  {
   "cell_type": "markdown",
   "id": "5c789141",
   "metadata": {},
   "source": [
    "Convergence!"
   ]
  }
 ],
 "metadata": {
  "kernelspec": {
   "display_name": "Python 3",
   "language": "python",
   "name": "python3"
  },
  "language_info": {
   "codemirror_mode": {
    "name": "ipython",
    "version": 3
   },
   "file_extension": ".py",
   "mimetype": "text/x-python",
   "name": "python",
   "nbconvert_exporter": "python",
   "pygments_lexer": "ipython3",
   "version": "3.7.9"
  }
 },
 "nbformat": 4,
 "nbformat_minor": 5
}
