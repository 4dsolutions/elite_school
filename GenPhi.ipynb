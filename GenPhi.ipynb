{
 "cells": [
  {
   "cell_type": "markdown",
   "id": "dfc8e080",
   "metadata": {},
   "source": [
    "[Home](Home.ipynb)\n",
    "\n",
    "# Generating $\\phi$\n",
    "\n",
    "Check out this code:\n",
    "\n",
    "```python\n",
    "def continuedint():\n",
    "    \n",
    "    patt = \"+ 1/(1\"\n",
    "    the_expr = ''  # empty\n",
    "    n = 1\n",
    "    \n",
    "    while True:\n",
    "        the_expr = the_expr + patt\n",
    "        the_frac = \"1 \" + (the_expr + \")\" * n)\n",
    "        \n",
    "        # print(the_frac)\n",
    "        yield the_frac  # or show the_frac\n",
    "        \n",
    "        n += 1\n",
    "```"
   ]
  },
  {
   "cell_type": "code",
   "execution_count": 1,
   "id": "23b47764",
   "metadata": {},
   "outputs": [],
   "source": [
    "from gen_phi import continuedint"
   ]
  },
  {
   "cell_type": "code",
   "execution_count": 14,
   "id": "bc928221",
   "metadata": {},
   "outputs": [],
   "source": [
    "gp = continuedint()"
   ]
  },
  {
   "cell_type": "code",
   "execution_count": 15,
   "id": "62def6fc",
   "metadata": {},
   "outputs": [
    {
     "data": {
      "text/plain": [
       "'1 + 1/(1)'"
      ]
     },
     "execution_count": 15,
     "metadata": {},
     "output_type": "execute_result"
    }
   ],
   "source": [
    "next(gp)"
   ]
  },
  {
   "cell_type": "code",
   "execution_count": 16,
   "id": "9616854c",
   "metadata": {},
   "outputs": [
    {
     "data": {
      "text/plain": [
       "'1 + 1/(1+ 1/(1))'"
      ]
     },
     "execution_count": 16,
     "metadata": {},
     "output_type": "execute_result"
    }
   ],
   "source": [
    "next(gp)"
   ]
  },
  {
   "cell_type": "code",
   "execution_count": 17,
   "id": "3ba967b9",
   "metadata": {},
   "outputs": [
    {
     "data": {
      "text/plain": [
       "'1 + 1/(1+ 1/(1+ 1/(1)))'"
      ]
     },
     "execution_count": 17,
     "metadata": {},
     "output_type": "execute_result"
    }
   ],
   "source": [
    "next(gp)"
   ]
  },
  {
   "cell_type": "code",
   "execution_count": 18,
   "id": "b96af585",
   "metadata": {},
   "outputs": [
    {
     "data": {
      "text/plain": [
       "'1 + 1/(1+ 1/(1+ 1/(1+ 1/(1))))'"
      ]
     },
     "execution_count": 18,
     "metadata": {},
     "output_type": "execute_result"
    }
   ],
   "source": [
    "fraction = next(gp)\n",
    "fraction"
   ]
  },
  {
   "cell_type": "code",
   "execution_count": 19,
   "id": "3f477e9d",
   "metadata": {},
   "outputs": [
    {
     "data": {
      "text/plain": [
       "1.6"
      ]
     },
     "execution_count": 19,
     "metadata": {},
     "output_type": "execute_result"
    }
   ],
   "source": [
    "eval(fraction)"
   ]
  },
  {
   "cell_type": "code",
   "execution_count": 20,
   "id": "842e76de",
   "metadata": {},
   "outputs": [
    {
     "data": {
      "text/plain": [
       "1.6180327868852458"
      ]
     },
     "execution_count": 20,
     "metadata": {},
     "output_type": "execute_result"
    }
   ],
   "source": [
    "for _ in range(10):\n",
    "    fraction = next(gp)\n",
    "eval(fraction)"
   ]
  },
  {
   "cell_type": "code",
   "execution_count": 21,
   "id": "e6eed33a",
   "metadata": {},
   "outputs": [
    {
     "data": {
      "text/plain": [
       "1.6180339886704433"
      ]
     },
     "execution_count": 21,
     "metadata": {},
     "output_type": "execute_result"
    }
   ],
   "source": [
    "for _ in range(10):\n",
    "    fraction = next(gp)\n",
    "eval(fraction)"
   ]
  },
  {
   "cell_type": "code",
   "execution_count": 22,
   "id": "1020cb6c",
   "metadata": {},
   "outputs": [
    {
     "data": {
      "text/plain": [
       "1.6180339887498896"
      ]
     },
     "execution_count": 22,
     "metadata": {},
     "output_type": "execute_result"
    }
   ],
   "source": [
    "for _ in range(10):\n",
    "    fraction = next(gp)\n",
    "eval(fraction)"
   ]
  },
  {
   "cell_type": "markdown",
   "id": "423711bd",
   "metadata": {},
   "source": [
    "Floating point numbers have limited precision, as we have seen.  The Decimal type has limited precision also, but we get to set the precision.\n",
    "\n",
    "```python\n",
    "\n",
    "from decimal import Decimal, getcontext\n",
    "\n",
    "getcontext().prec = 35\n",
    "\n",
    "one = Decimal('1')\n",
    "five = Decimal('5')\n",
    "check = (one + five.sqrt())/2\n",
    "\n",
    "def continued():\n",
    "    \n",
    "    patt = \"+ one/(one\"\n",
    "    the_expr = ''  # empty\n",
    "    n = 1\n",
    "    \n",
    "    while True:\n",
    "        the_expr = the_expr + patt\n",
    "        the_frac = \"1 \" + (the_expr + \")\" * n)\n",
    "        \n",
    "        # print(the_frac)\n",
    "        yield eval(the_frac)  # or show the_frac\n",
    "        \n",
    "        n += 1\n",
    "        \n",
    "def test_me():\n",
    "    the_gen = continued()\n",
    "    last_time = 1\n",
    "    while True:\n",
    "        approx = next(the_gen)\n",
    "        print(approx)\n",
    "        if approx == check:\n",
    "            break\n",
    "        if abs(approx - last_time) < Decimal(1e-30): \n",
    "            break\n",
    "        last_time = approx\n",
    "\n",
    "    print(\"Approx:\", approx)\n",
    "    print(\"Check :\", check)\n",
    "```"
   ]
  },
  {
   "cell_type": "code",
   "execution_count": 23,
   "id": "d6d55476",
   "metadata": {},
   "outputs": [],
   "source": [
    "from gen_phi import test_me"
   ]
  },
  {
   "cell_type": "code",
   "execution_count": 24,
   "id": "0843985e",
   "metadata": {},
   "outputs": [
    {
     "name": "stdout",
     "output_type": "stream",
     "text": [
      "2\n",
      "1.5\n",
      "1.666666666666666666666666667\n",
      "1.600000000000000000000000000\n",
      "1.625\n",
      "1.615384615384615384615384615\n",
      "1.619047619047619047619047619\n",
      "1.617647058823529411764705882\n",
      "1.618181818181818181818181818\n",
      "1.617977528089887640449438202\n",
      "1.618055555555555555555555556\n",
      "1.618025751072961373390557940\n",
      "1.618037135278514588859416446\n",
      "1.618032786885245901639344262\n",
      "1.618034447821681864235055724\n",
      "1.618033813400125234815278648\n",
      "1.618034055727554179566563467\n",
      "1.618033963166706529538387946\n",
      "1.618033998521803399852180340\n",
      "1.618033985017357938973140873\n",
      "1.618033990175597086556377393\n",
      "1.618033988205325051470844820\n",
      "1.618033988957902001380262250\n",
      "1.618033988670443185604798400\n",
      "1.618033988780242682856507377\n",
      "1.618033988738303006852732438\n",
      "1.618033988754322537608830406\n",
      "1.618033988748203621343798191\n",
      "1.618033988750540839382721984\n",
      "1.618033988749648101530971894\n",
      "1.618033988749989097047296779\n",
      "1.618033988749858848350071980\n",
      "1.618033988749908598925421458\n",
      "1.618033988749889595896597820\n",
      "1.618033988749896854407719255\n",
      "1.618033988749894081903178586\n",
      "1.618033988749895140905679158\n",
      "1.618033988749894736402718111\n",
      "1.618033988749894890909100681\n",
      "1.618033988749894831892914018\n",
      "1.618033988749894854435091437\n",
      "1.618033988749894845824745843\n",
      "1.618033988749894849113605205\n",
      "1.618033988749894847857372713\n",
      "1.618033988749894848337210827\n",
      "1.618033988749894848153928977\n",
      "1.618033988749894848223936414\n",
      "1.618033988749894848197195953\n",
      "1.618033988749894848207409900\n",
      "1.618033988749894848203508519\n",
      "1.618033988749894848204998714\n",
      "1.618033988749894848204429510\n",
      "1.618033988749894848204646927\n",
      "1.618033988749894848204563881\n",
      "1.618033988749894848204595602\n",
      "1.618033988749894848204583485\n",
      "1.618033988749894848204588114\n",
      "1.618033988749894848204586346\n",
      "1.618033988749894848204587021\n",
      "1.618033988749894848204586763\n",
      "1.618033988749894848204586862\n",
      "1.618033988749894848204586824\n",
      "1.618033988749894848204586838\n",
      "1.618033988749894848204586833\n",
      "1.618033988749894848204586835\n",
      "1.618033988749894848204586834\n",
      "1.618033988749894848204586834\n",
      "Approx: 1.618033988749894848204586834\n",
      "Check : 1.6180339887498948482045868343656381\n"
     ]
    }
   ],
   "source": [
    "test_me()"
   ]
  },
  {
   "cell_type": "markdown",
   "id": "42169893",
   "metadata": {},
   "source": [
    "Convergence!"
   ]
  }
 ],
 "metadata": {
  "kernelspec": {
   "display_name": "Python 3",
   "language": "python",
   "name": "python3"
  },
  "language_info": {
   "codemirror_mode": {
    "name": "ipython",
    "version": 3
   },
   "file_extension": ".py",
   "mimetype": "text/x-python",
   "name": "python",
   "nbconvert_exporter": "python",
   "pygments_lexer": "ipython3",
   "version": "3.7.9"
  }
 },
 "nbformat": 4,
 "nbformat_minor": 5
}
