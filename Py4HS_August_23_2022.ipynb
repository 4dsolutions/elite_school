{
 "cells": [
  {
   "cell_type": "markdown",
   "id": "468e25aa-24a4-4eaf-b4e0-c47792f38b1c",
   "metadata": {
    "tags": []
   },
   "source": [
    "##### Python for High School (Summer 2022)\n",
    "\n",
    "* [Table of Contents](PY4HS.ipynb)\n",
    "* <a href=\"https://colab.research.google.com/github/4dsolutions/elite_school/blob/master/Py4HS_August_23_2022.ipynb\"><img align=\"left\" src=\"https://colab.research.google.com/assets/colab-badge.svg\" alt=\"Open in Colab\" title=\"Open and Execute in Google Colaboratory\"></a>\n",
    "* [![nbviewer](https://raw.githubusercontent.com/jupyter/design/master/logos/Badges/nbviewer_badge.svg)](https://nbviewer.org/github/4dsolutions/elite_school/blob/master/Py4HS_August_23_2022.ipynb)"
   ]
  },
  {
   "cell_type": "markdown",
   "id": "2bf03240-8054-4385-bd65-14c9f786e995",
   "metadata": {},
   "source": [
    "# A Place Based Curriculum\n",
    "\n",
    "Place Based Education means using a student's locale to anchor the geographic dimension, and to expand from there in the \"adjacency matrix\" to other topics.\n",
    "\n",
    "One criticism of Place Based Curricula (PBC) is they're too parochial i.e. one promotes narrow-mindedness and identification with a specific time and space.  That would have been impractical in the age of mass \"one size fits all\" textbooks, I agree.\n",
    "\n",
    "If you wish to expand your appreciation for the world, consult the PBCs of many schools.  Even if a curriculum is place based, that doesn't mean we, as scholars, are confined to any particular one of them.\n",
    "\n",
    "Think of Guide Books, to various places, and curating a bookshelf of same.\n",
    "\n",
    "PBE does not mean fixating on the past only.  Brainstorming about the future is likewise encouraged.  Invent some science fiction."
   ]
  },
  {
   "cell_type": "code",
   "execution_count": 1,
   "id": "45c14859-1401-40d2-b75a-cefc638818de",
   "metadata": {},
   "outputs": [],
   "source": [
    "from IPython.display import YouTubeVideo"
   ]
  },
  {
   "cell_type": "code",
   "execution_count": 2,
   "id": "9ed1f86d-04f1-4f5d-9b53-135a87f14c5c",
   "metadata": {},
   "outputs": [
    {
     "data": {
      "image/jpeg": "[encoded data removed]",
      "text/html": [
       "\n",
       "        <iframe\n",
       "            width=\"400\"\n",
       "            height=\"300\"\n",
       "            src=\"https://www.youtube.com/embed/3MFXstt81YI\"\n",
       "            frameborder=\"0\"\n",
       "            allowfullscreen\n",
       "            \n",
       "        ></iframe>\n",
       "        "
      ],
      "text/plain": [
       "<IPython.lib.display.YouTubeVideo at 0x1112ee820>"
      ]
     },
     "execution_count": 2,
     "metadata": {},
     "output_type": "execute_result"
    }
   ],
   "source": [
    "YouTubeVideo('3MFXstt81YI')"
   ]
  },
  {
   "cell_type": "markdown",
   "id": "0c22862b-1ec6-40a1-b6e2-365e97bb018f",
   "metadata": {},
   "source": [
    "### Ground Zero (our origin):  OMSI\n",
    "\n",
    "<a data-flickr-embed=\"true\" href=\"https://www.flickr.com/photos/kirbyurner/497101672/in/album-72157600211750089/\" title=\"Power Station Hall\"><img src=\"https://live.staticflickr.com/197/497101672_f69affabf0.jpg\" width=\"500\" height=\"375\" alt=\"Power Station Hall\"></a><script async src=\"//embedr.flickr.com/assets/client-code.js\" charset=\"utf-8\"></script>"
   ]
  },
  {
   "cell_type": "markdown",
   "id": "63165686-df4b-4509-a8e2-b65d1ffb575c",
   "metadata": {},
   "source": [
    "### News Story:  Plans for the Neighborhood\n",
    "\n",
    "Here's [a plan for the OMSI area](https://www.kgw.com/article/money/omsi-new-portland-waterfront-remodel-120-million/283-d5bbe8c2-f869-46a7-9262-8aee992bc53d), floated by the TV station KGW recently.\n",
    "\n",
    "<a data-flickr-embed=\"true\" href=\"https://www.flickr.com/photos/kirbyurner/52306907224/in/dateposted-public/\" title=\"Screen Shot 2022-08-23 at 1.19.30 PM\"><img src=\"https://live.staticflickr.com/65535/52306907224_84e4384abb_w.jpg\" width=\"400\" height=\"338\" alt=\"Screen Shot 2022-08-23 at 1.19.30 PM\"></a><script async src=\"//embedr.flickr.com/assets/client-code.js\" charset=\"utf-8\"></script>\n",
    "\n",
    "Here's [a plan I had](https://coffeeshopsnet.blogspot.com/2009/02/in-news.html):  to showcase a \"Fly's Eye Dome\" at OMSI.  \n",
    "\n",
    "[Miami](  https://flic.kr/p/2ksfZwz) went ahead with the idea.  Part of Place Based Education is brainstorming possible futures for the place.\n",
    "\n",
    "<a data-flickr-embed=\"true\" href=\"https://www.flickr.com/photos/kirbyurner/52307146273/in/dateposted-public/\" title=\"Fly&#x27;s Eye Dome in Miami\"><img src=\"https://live.staticflickr.com/65535/52307146273_b5e93c12be.jpg\" width=\"500\" height=\"298\" alt=\"Fly&#x27;s Eye Dome in Miami\"></a><script async src=\"//embedr.flickr.com/assets/client-code.js\" charset=\"utf-8\"></script>\n",
    "\n",
    "\n",
    "<img src=\"https://www.miamidesigndistrict.net/images/listings/large/395_buckminster-fuller-flys-eye-dome-1979802014_1571250526341628.jpg\" height=\"238\" width=\"409\">"
   ]
  },
  {
   "cell_type": "markdown",
   "id": "f6ef53e5-e286-43be-91a1-0b1b79f4d95b",
   "metadata": {},
   "source": [
    "### The Requests Library\n",
    "\n",
    "<img src=\"https://requests.readthedocs.io/en/latest/_static/requests-sidebar.png\" alt=\"requests logo\" width=\"276\" height=\"358\">/>\n",
    "\n",
    "One of the more popular Python libraries in 2022.  Expect to have it in conda. At [ReadTheDocs](https://requests.readthedocs.io/en/latest/).\n",
    "\n",
    "A more asynchronous package is also available: [httpx](https://www.python-httpx.org/)."
   ]
  },
  {
   "cell_type": "code",
   "execution_count": 3,
   "id": "b64f8646-9df1-418e-ab0a-64f3e58c9b7c",
   "metadata": {},
   "outputs": [],
   "source": [
    "import requests as w3\n",
    "import re"
   ]
  },
  {
   "cell_type": "code",
   "execution_count": 4,
   "id": "3ec8653b-3d73-4c09-80ed-abbbcf5b7998",
   "metadata": {},
   "outputs": [],
   "source": [
    "URL = \"https://www.kgw.com/article/money/omsi-new-portland-waterfront-remodel-120-million/283-d5bbe8c2-f869-46a7-9262-8aee992bc53d\""
   ]
  },
  {
   "cell_type": "code",
   "execution_count": 5,
   "id": "3866344a-18d4-43ed-9367-e9f8b026e290",
   "metadata": {},
   "outputs": [],
   "source": [
    "the_response = w3.get(URL)"
   ]
  },
  {
   "cell_type": "code",
   "execution_count": 6,
   "id": "6518fc67-65cb-419b-80dd-9f255ac7c91b",
   "metadata": {},
   "outputs": [
    {
     "data": {
      "text/plain": [
       "requests.models.Response"
      ]
     },
     "execution_count": 6,
     "metadata": {},
     "output_type": "execute_result"
    }
   ],
   "source": [
    "type(the_response)"
   ]
  },
  {
   "cell_type": "markdown",
   "id": "ea4fa975-cf03-430e-abd2-85dbe56acac8",
   "metadata": {},
   "source": [
    "What do Response type objects do?  To get an idea, we check `dir()` while dropping the dunder methods."
   ]
  },
  {
   "cell_type": "code",
   "execution_count": 7,
   "id": "a867392d-2133-4a18-9d42-36fd0c4edf63",
   "metadata": {},
   "outputs": [
    {
     "name": "stdout",
     "output_type": "stream",
     "text": [
      "['_content', '_content_consumed', '_next', 'apparent_encoding', 'close', 'connection', 'content', 'cookies', 'elapsed', 'encoding', 'headers', 'history', 'is_permanent_redirect', 'is_redirect', 'iter_content', 'iter_lines', 'json', 'links', 'next', 'ok', 'raise_for_status', 'raw', 'reason', 'request', 'status_code', 'text', 'url']\n"
     ]
    }
   ],
   "source": [
    "print([method for method in dir(the_response) if \"__\" not in method]) # that's a double underline"
   ]
  },
  {
   "cell_type": "code",
   "execution_count": 8,
   "id": "90cda5be-0b34-4163-abeb-394f2903867b",
   "metadata": {},
   "outputs": [
    {
     "data": {
      "text/plain": [
       "200"
      ]
     },
     "execution_count": 8,
     "metadata": {},
     "output_type": "execute_result"
    }
   ],
   "source": [
    "the_response.status_code  # 200 means everything went well"
   ]
  },
  {
   "cell_type": "code",
   "execution_count": 9,
   "id": "977c5e19-d845-4fe3-8ae7-85bdf498900b",
   "metadata": {},
   "outputs": [
    {
     "data": {
      "text/plain": [
       "'<!DOCTYPE html>\\r\\n<html class=\"root root_js_disabled\" lang=\"en-US\" data-version=\"2.6.6.6\" data-platfo'"
      ]
     },
     "execution_count": 9,
     "metadata": {},
     "output_type": "execute_result"
    }
   ],
   "source": [
    "the_response.text[:100]   # The HTML itself"
   ]
  },
  {
   "cell_type": "code",
   "execution_count": null,
   "id": "086e47ff-9344-40fd-81cf-1ffd6ec8034c",
   "metadata": {},
   "outputs": [
    {
     "data": {
      "text/plain": [
       "['>Proposed OMSI neighborh',\n",
       " '\"Proposed OMSI District ',\n",
       " '\"Proposed OMSI District ',\n",
       " 'n process,OMSI District,',\n",
       " '\"Proposed OMSI District ',\n",
       " '\"Proposed OMSI District ',\n",
       " '\"Proposed OMSI District ',\n",
       " 'headline=\"OMSI to help b',\n",
       " '\"Proposed OMSI District ',\n",
       " '\"Proposed OMSI neighborh',\n",
       " 'n process,OMSI District,',\n",
       " 'headline=\"OMSI to help b',\n",
       " '>Proposed OMSI District ',\n",
       " 'ta-title=\"OMSI new distr',\n",
       " 'ight, the OMSI project w',\n",
       " 'er-title=\"OMSI new distr',\n",
       " ' \"name\": \"OMSI new distr',\n",
       " 'ight, the OMSI project w',\n",
       " 'roposed%20OMSI%20Distric',\n",
       " 'k\">&nbsp;(OMSI)</a> pres',\n",
       " 'estate at OMSI. “So, we ',\n",
       " '_caption\">OMSI DISTRIST<',\n",
       " ' —between OMSI, a privat',\n",
       " '_caption\">OMSI ECONOMIC ',\n",
       " '_caption\">OMSI DISTRICT<',\n",
       " '\"Proposed OMSI District ']"
      ]
     },
     "execution_count": 10,
     "metadata": {},
     "output_type": "execute_result"
    }
   ],
   "source": [
    "re.findall(\".{10}OMSI.{10}\", the_response.text)  # lets look for stuff"
   ]
  },
  {
   "cell_type": "code",
   "execution_count": 32,
   "id": "ae367b0c-be51-445d-a1a0-30759dbb907b",
   "metadata": {},
   "outputs": [
    {
     "data": {
      "text/plain": [
       "[' total of 16,300 jobs and ', ' total of 16,300 jobs and ']"
      ]
     },
     "execution_count": 32,
     "metadata": {},
     "output_type": "execute_result"
    }
   ],
   "source": [
    "re.findall(\".{10}16,300.{10}\", the_response.text)  # lets look for stuff"
   ]
  },
  {
   "cell_type": "code",
   "execution_count": 34,
   "id": "3fee4ea8-8283-452d-a9d0-a356ffd164ba",
   "metadata": {},
   "outputs": [
    {
     "data": {
      "text/plain": [
       "<re.Match object; span=(145930, 145954), match='ight, the OMSI project w'>"
      ]
     },
     "execution_count": 34,
     "metadata": {},
     "output_type": "execute_result"
    }
   ],
   "source": [
    "match = re.search(\"ight, the OMSI project w\", the_response.text)  # this looked promising\n",
    "match"
   ]
  },
  {
   "cell_type": "code",
   "execution_count": 35,
   "id": "984060c8-87fc-41e8-a34b-38cba7b80c85",
   "metadata": {},
   "outputs": [
    {
     "name": "stdout",
     "output_type": "stream",
     "text": [
      "a>\n",
      "            <h1 class=\"article__headline\">Proposed OMSI District in East Portland will cost $120 million to build</h1>\n",
      "            <div class=\"article__summary\">This 24-acre and $120 million project would span up to three million square feet — it would include things like retail, office space, hospitality and housing.</div>\n",
      "        <div class=\"article__lead-asset \">\n",
      "        <div data-module=\"video\" class=\"video video_docked_false\"\n",
      "             data-stream=\"https://video.tegna-media.com/a\n"
     ]
    }
   ],
   "source": [
    "print(the_response.text[145000:145000 + 500])  # here's the neighborhood"
   ]
  },
  {
   "cell_type": "markdown",
   "id": "6fb0dc34-4237-45f3-a7b0-834053edf840",
   "metadata": {},
   "source": [
    "If you really want to do serious screen scraping, you would be better off with [scrapy](https://docs.scrapy.org/en/latest/) and/or [Beautiful Soup](https://www.crummy.com/software/BeautifulSoup/bs4/doc/)."
   ]
  },
  {
   "cell_type": "markdown",
   "id": "1ed3367a-8f5d-449c-9e31-6983042a070d",
   "metadata": {},
   "source": [
    "How this area looked in Google Earth in August, 2022.\n",
    "\n",
    "<a data-flickr-embed=\"true\" href=\"https://www.flickr.com/photos/kirbyurner/52306840558/in/dateposted-public/\" title=\"OMSI Area\"><img src=\"https://live.staticflickr.com/65535/52306840558_7fbd69ca73_z.jpg\" width=\"640\" height=\"379\" alt=\"OMSI Area\"></a><script async src=\"//embedr.flickr.com/assets/client-code.js\" charset=\"utf-8\"></script>\n",
    "\n",
    "<a data-flickr-embed=\"true\" href=\"https://www.flickr.com/photos/kirbyurner/52306927789/in/dateposted-public/\" title=\"OMSI Lower Right\"><img src=\"https://live.staticflickr.com/65535/52306927789_98429e7ca2_z.jpg\" width=\"640\" height=\"381\" alt=\"OMSI Lower Right\"></a><script async src=\"//embedr.flickr.com/assets/client-code.js\" charset=\"utf-8\"></script>\n",
    "\n",
    "<a data-flickr-embed=\"true\" href=\"https://www.flickr.com/photos/kirbyurner/52306444856/in/dateposted-public/\" title=\"Looking west towards OMSI\"><img src=\"https://live.staticflickr.com/65535/52306444856_fdde3b4d8d_z.jpg\" width=\"640\" height=\"381\" alt=\"Looking west towards OMSI\"></a><script async src=\"//embedr.flickr.com/assets/client-code.js\" charset=\"utf-8\"></script>\n",
    "\n",
    "<a data-flickr-embed=\"true\" href=\"https://www.flickr.com/photos/kirbyurner/52307093033/in/dateposted-public/\" title=\"Powell to Ross Island Bridge\"><img src=\"https://live.staticflickr.com/65535/52307093033_b0e1c89415_z.jpg\" width=\"640\" height=\"381\" alt=\"Powell to Ross Island Bridge\"></a><script async src=\"//embedr.flickr.com/assets/client-code.js\" charset=\"utf-8\"></script>"
   ]
  },
  {
   "cell_type": "markdown",
   "id": "3a53853e-5f1b-47a9-bbf6-f331227b0efd",
   "metadata": {},
   "source": [
    "Place based education does not mean \"stuck in one place\".  It means that when we start learning about a topic, we look for a geographic angle, and then we branch out after anchoring ourselves in a time and place.  Find a home base, explore from there."
   ]
  },
  {
   "cell_type": "markdown",
   "id": "cb2cb0b4-3846-421c-9ee0-f026934a5aac",
   "metadata": {},
   "source": [
    "For example, another neigborhood could be \"in the vicinity of Journal Square, Jersey City\".  Why not?\n",
    "\n",
    "<a data-flickr-embed=\"true\" href=\"https://www.flickr.com/photos/kirbyurner/2560252510/in/photolist-9UAhMa-65aMfw-4UeXSE-4UeXPb-4UeXUQ\" title=\"JSQ\"><img src=\"https://live.staticflickr.com/3184/2560252510_5dd8aabbba.jpg\" width=\"500\" height=\"355\" alt=\"JSQ\"></a><script async src=\"//embedr.flickr.com/assets/client-code.js\" charset=\"utf-8\"></script>\n",
    "\n",
    "<a data-flickr-embed=\"true\" href=\"https://www.flickr.com/photos/kirbyurner/52307082328/in/dateposted-public/\" title=\"PWS 284\"><img src=\"https://live.staticflickr.com/65535/52307082328_05ee693f88_z.jpg\" width=\"640\" height=\"379\" alt=\"PWS 284\"></a><script async src=\"//embedr.flickr.com/assets/client-code.js\" charset=\"utf-8\"></script>"
   ]
  },
  {
   "cell_type": "markdown",
   "id": "3178d845-4053-4783-b795-0755113b9dff",
   "metadata": {},
   "source": [
    "I had science fiction dreams for this place too.\n",
    "\n",
    "* an illuminated billboard for the back of Loew's theater, whereon the Dymaxion Map would sometimes feature\n",
    "* an IMAX theater in the then abandoned Stanley Theater, designed to show \"curriculum films\" to area students\n",
    "* a \"train to the plane\" out to EWR (Newark Airport) extending the local rail system (they did one to JFK)"
   ]
  },
  {
   "cell_type": "markdown",
   "id": "689cb95f-f51f-4dd2-b470-745a2e842c00",
   "metadata": {},
   "source": [
    "### The Airports Database\n",
    "\n",
    "airports.db is a SQLite flat file, ready for your enjoyment."
   ]
  },
  {
   "cell_type": "code",
   "execution_count": 18,
   "id": "fc43e3fb-aa47-400e-a5d8-71861407c695",
   "metadata": {},
   "outputs": [],
   "source": [
    "import sqlite3 as sql\n",
    "import pandas as db"
   ]
  },
  {
   "cell_type": "code",
   "execution_count": 16,
   "id": "69d40128-d3a8-41d3-9d87-904ccd891f6b",
   "metadata": {},
   "outputs": [],
   "source": [
    "conn = sql.connect(\"airports.db\")"
   ]
  },
  {
   "cell_type": "code",
   "execution_count": 17,
   "id": "29d9e317-227e-436e-95a9-4f0129515f8e",
   "metadata": {},
   "outputs": [],
   "source": [
    "curs = conn.cursor()"
   ]
  },
  {
   "cell_type": "code",
   "execution_count": 24,
   "id": "37f31bd8-b04e-4dbb-9068-b0a7569c917b",
   "metadata": {},
   "outputs": [],
   "source": [
    "df = db.read_sql(\"SELECT * FROM Airports\", con=conn)"
   ]
  },
  {
   "cell_type": "code",
   "execution_count": 25,
   "id": "a0040cbf-3546-42c5-9338-fe18e0b7f5d3",
   "metadata": {},
   "outputs": [
    {
     "data": {
      "text/html": [
       "<div>\n",
       "<style scoped>\n",
       "    .dataframe tbody tr th:only-of-type {\n",
       "        vertical-align: middle;\n",
       "    }\n",
       "\n",
       "    .dataframe tbody tr th {\n",
       "        vertical-align: top;\n",
       "    }\n",
       "\n",
       "    .dataframe thead th {\n",
       "        text-align: right;\n",
       "    }\n",
       "</style>\n",
       "<table border=\"1\" class=\"dataframe\">\n",
       "  <thead>\n",
       "    <tr style=\"text-align: right;\">\n",
       "      <th></th>\n",
       "      <th>iata</th>\n",
       "      <th>iso</th>\n",
       "      <th>name</th>\n",
       "      <th>continent</th>\n",
       "      <th>type</th>\n",
       "      <th>lat</th>\n",
       "      <th>lon</th>\n",
       "      <th>size</th>\n",
       "      <th>status</th>\n",
       "    </tr>\n",
       "  </thead>\n",
       "  <tbody>\n",
       "    <tr>\n",
       "      <th>0</th>\n",
       "      <td>UTK</td>\n",
       "      <td>MH</td>\n",
       "      <td>Utirik Airport</td>\n",
       "      <td>OC</td>\n",
       "      <td>airport</td>\n",
       "      <td>11.233333</td>\n",
       "      <td>169.86667</td>\n",
       "      <td>small</td>\n",
       "      <td>1</td>\n",
       "    </tr>\n",
       "    <tr>\n",
       "      <th>1</th>\n",
       "      <td>FIV</td>\n",
       "      <td>US</td>\n",
       "      <td>Five Finger CG Heliport</td>\n",
       "      <td>NA</td>\n",
       "      <td>heliport</td>\n",
       "      <td>NaN</td>\n",
       "      <td>NaN</td>\n",
       "      <td>None</td>\n",
       "      <td>1</td>\n",
       "    </tr>\n",
       "    <tr>\n",
       "      <th>2</th>\n",
       "      <td>FAK</td>\n",
       "      <td>US</td>\n",
       "      <td>False Island Seaplane Base</td>\n",
       "      <td>NA</td>\n",
       "      <td>seaplanes</td>\n",
       "      <td>NaN</td>\n",
       "      <td>NaN</td>\n",
       "      <td>None</td>\n",
       "      <td>1</td>\n",
       "    </tr>\n",
       "    <tr>\n",
       "      <th>3</th>\n",
       "      <td>BWS</td>\n",
       "      <td>US</td>\n",
       "      <td>Blaine Municipal Airport</td>\n",
       "      <td>NA</td>\n",
       "      <td>closed</td>\n",
       "      <td>NaN</td>\n",
       "      <td>NaN</td>\n",
       "      <td>None</td>\n",
       "      <td>0</td>\n",
       "    </tr>\n",
       "    <tr>\n",
       "      <th>4</th>\n",
       "      <td>WKK</td>\n",
       "      <td>US</td>\n",
       "      <td>Aleknagik / New Airport</td>\n",
       "      <td>NA</td>\n",
       "      <td>airport</td>\n",
       "      <td>59.277780</td>\n",
       "      <td>-158.61111</td>\n",
       "      <td>medium</td>\n",
       "      <td>1</td>\n",
       "    </tr>\n",
       "  </tbody>\n",
       "</table>\n",
       "</div>"
      ],
      "text/plain": [
       "  iata iso                        name continent       type        lat  \\\n",
       "0  UTK  MH              Utirik Airport        OC    airport  11.233333   \n",
       "1  FIV  US     Five Finger CG Heliport        NA   heliport        NaN   \n",
       "2  FAK  US  False Island Seaplane Base        NA  seaplanes        NaN   \n",
       "3  BWS  US    Blaine Municipal Airport        NA     closed        NaN   \n",
       "4  WKK  US     Aleknagik / New Airport        NA    airport  59.277780   \n",
       "\n",
       "         lon    size  status  \n",
       "0  169.86667   small       1  \n",
       "1        NaN    None       1  \n",
       "2        NaN    None       1  \n",
       "3        NaN    None       0  \n",
       "4 -158.61111  medium       1  "
      ]
     },
     "execution_count": 25,
     "metadata": {},
     "output_type": "execute_result"
    }
   ],
   "source": [
    "df.head()"
   ]
  },
  {
   "cell_type": "code",
   "execution_count": 28,
   "id": "881f2b82-faf9-4744-8d1d-28536346e4d1",
   "metadata": {},
   "outputs": [
    {
     "data": {
      "text/html": [
       "<div>\n",
       "<style scoped>\n",
       "    .dataframe tbody tr th:only-of-type {\n",
       "        vertical-align: middle;\n",
       "    }\n",
       "\n",
       "    .dataframe tbody tr th {\n",
       "        vertical-align: top;\n",
       "    }\n",
       "\n",
       "    .dataframe thead th {\n",
       "        text-align: right;\n",
       "    }\n",
       "</style>\n",
       "<table border=\"1\" class=\"dataframe\">\n",
       "  <thead>\n",
       "    <tr style=\"text-align: right;\">\n",
       "      <th></th>\n",
       "      <th>iata</th>\n",
       "      <th>iso</th>\n",
       "      <th>name</th>\n",
       "      <th>continent</th>\n",
       "      <th>type</th>\n",
       "      <th>lat</th>\n",
       "      <th>lon</th>\n",
       "      <th>size</th>\n",
       "      <th>status</th>\n",
       "    </tr>\n",
       "  </thead>\n",
       "  <tbody>\n",
       "    <tr>\n",
       "      <th>2577</th>\n",
       "      <td>PDX</td>\n",
       "      <td>US</td>\n",
       "      <td>Portland International Airport</td>\n",
       "      <td>NA</td>\n",
       "      <td>airport</td>\n",
       "      <td>45.588997</td>\n",
       "      <td>-122.5929</td>\n",
       "      <td>large</td>\n",
       "      <td>1</td>\n",
       "    </tr>\n",
       "  </tbody>\n",
       "</table>\n",
       "</div>"
      ],
      "text/plain": [
       "     iata iso                            name continent     type        lat  \\\n",
       "2577  PDX  US  Portland International Airport        NA  airport  45.588997   \n",
       "\n",
       "           lon   size  status  \n",
       "2577 -122.5929  large       1  "
      ]
     },
     "execution_count": 28,
     "metadata": {},
     "output_type": "execute_result"
    }
   ],
   "source": [
    "df.query(\"iata == 'PDX'\")"
   ]
  },
  {
   "cell_type": "code",
   "execution_count": 29,
   "id": "c13fdab0-0da5-4d39-87e1-93f005183067",
   "metadata": {},
   "outputs": [
    {
     "data": {
      "text/html": [
       "<div>\n",
       "<style scoped>\n",
       "    .dataframe tbody tr th:only-of-type {\n",
       "        vertical-align: middle;\n",
       "    }\n",
       "\n",
       "    .dataframe tbody tr th {\n",
       "        vertical-align: top;\n",
       "    }\n",
       "\n",
       "    .dataframe thead th {\n",
       "        text-align: right;\n",
       "    }\n",
       "</style>\n",
       "<table border=\"1\" class=\"dataframe\">\n",
       "  <thead>\n",
       "    <tr style=\"text-align: right;\">\n",
       "      <th></th>\n",
       "      <th>iata</th>\n",
       "      <th>iso</th>\n",
       "      <th>name</th>\n",
       "      <th>continent</th>\n",
       "      <th>type</th>\n",
       "      <th>lat</th>\n",
       "      <th>lon</th>\n",
       "      <th>size</th>\n",
       "      <th>status</th>\n",
       "    </tr>\n",
       "  </thead>\n",
       "  <tbody>\n",
       "    <tr>\n",
       "      <th>2639</th>\n",
       "      <td>SFO</td>\n",
       "      <td>US</td>\n",
       "      <td>San Francisco International Airport</td>\n",
       "      <td>NA</td>\n",
       "      <td>airport</td>\n",
       "      <td>37.615215</td>\n",
       "      <td>-122.38988</td>\n",
       "      <td>large</td>\n",
       "      <td>1</td>\n",
       "    </tr>\n",
       "  </tbody>\n",
       "</table>\n",
       "</div>"
      ],
      "text/plain": [
       "     iata iso                                 name continent     type  \\\n",
       "2639  SFO  US  San Francisco International Airport        NA  airport   \n",
       "\n",
       "            lat        lon   size  status  \n",
       "2639  37.615215 -122.38988  large       1  "
      ]
     },
     "execution_count": 29,
     "metadata": {},
     "output_type": "execute_result"
    }
   ],
   "source": [
    "df.query(\"iata == 'SFO'\")"
   ]
  },
  {
   "cell_type": "code",
   "execution_count": 30,
   "id": "ad4eee7a-3714-4522-b43f-43f5d3b48bbd",
   "metadata": {},
   "outputs": [
    {
     "data": {
      "text/html": [
       "<div>\n",
       "<style scoped>\n",
       "    .dataframe tbody tr th:only-of-type {\n",
       "        vertical-align: middle;\n",
       "    }\n",
       "\n",
       "    .dataframe tbody tr th {\n",
       "        vertical-align: top;\n",
       "    }\n",
       "\n",
       "    .dataframe thead th {\n",
       "        text-align: right;\n",
       "    }\n",
       "</style>\n",
       "<table border=\"1\" class=\"dataframe\">\n",
       "  <thead>\n",
       "    <tr style=\"text-align: right;\">\n",
       "      <th></th>\n",
       "      <th>iata</th>\n",
       "      <th>iso</th>\n",
       "      <th>name</th>\n",
       "      <th>continent</th>\n",
       "      <th>type</th>\n",
       "      <th>lat</th>\n",
       "      <th>lon</th>\n",
       "      <th>size</th>\n",
       "      <th>status</th>\n",
       "    </tr>\n",
       "  </thead>\n",
       "  <tbody>\n",
       "    <tr>\n",
       "      <th>2637</th>\n",
       "      <td>SEA</td>\n",
       "      <td>US</td>\n",
       "      <td>Seattle Tacoma International Airport</td>\n",
       "      <td>NA</td>\n",
       "      <td>airport</td>\n",
       "      <td>47.44384</td>\n",
       "      <td>-122.301735</td>\n",
       "      <td>large</td>\n",
       "      <td>1</td>\n",
       "    </tr>\n",
       "  </tbody>\n",
       "</table>\n",
       "</div>"
      ],
      "text/plain": [
       "     iata iso                                  name continent     type  \\\n",
       "2637  SEA  US  Seattle Tacoma International Airport        NA  airport   \n",
       "\n",
       "           lat         lon   size  status  \n",
       "2637  47.44384 -122.301735  large       1  "
      ]
     },
     "execution_count": 30,
     "metadata": {},
     "output_type": "execute_result"
    }
   ],
   "source": [
    "df.query(\"iata == 'SEA'\")"
   ]
  },
  {
   "cell_type": "code",
   "execution_count": 31,
   "id": "3ac6eca5-33cb-4ab3-8010-653a39c3b3e3",
   "metadata": {},
   "outputs": [
    {
     "data": {
      "text/html": [
       "<div>\n",
       "<style scoped>\n",
       "    .dataframe tbody tr th:only-of-type {\n",
       "        vertical-align: middle;\n",
       "    }\n",
       "\n",
       "    .dataframe tbody tr th {\n",
       "        vertical-align: top;\n",
       "    }\n",
       "\n",
       "    .dataframe thead th {\n",
       "        text-align: right;\n",
       "    }\n",
       "</style>\n",
       "<table border=\"1\" class=\"dataframe\">\n",
       "  <thead>\n",
       "    <tr style=\"text-align: right;\">\n",
       "      <th></th>\n",
       "      <th>iata</th>\n",
       "      <th>iso</th>\n",
       "      <th>name</th>\n",
       "      <th>continent</th>\n",
       "      <th>type</th>\n",
       "      <th>lat</th>\n",
       "      <th>lon</th>\n",
       "      <th>size</th>\n",
       "      <th>status</th>\n",
       "    </tr>\n",
       "  </thead>\n",
       "  <tbody>\n",
       "    <tr>\n",
       "      <th>2386</th>\n",
       "      <td>EWR</td>\n",
       "      <td>US</td>\n",
       "      <td>Newark Liberty International Airport</td>\n",
       "      <td>NA</td>\n",
       "      <td>airport</td>\n",
       "      <td>40.68907</td>\n",
       "      <td>-74.17876</td>\n",
       "      <td>large</td>\n",
       "      <td>1</td>\n",
       "    </tr>\n",
       "  </tbody>\n",
       "</table>\n",
       "</div>"
      ],
      "text/plain": [
       "     iata iso                                  name continent     type  \\\n",
       "2386  EWR  US  Newark Liberty International Airport        NA  airport   \n",
       "\n",
       "           lat       lon   size  status  \n",
       "2386  40.68907 -74.17876  large       1  "
      ]
     },
     "execution_count": 31,
     "metadata": {},
     "output_type": "execute_result"
    }
   ],
   "source": [
    "df.query(\"iata == 'EWR'\")"
   ]
  },
  {
   "cell_type": "code",
   "execution_count": 3,
   "id": "7beaf1f2-d23c-44d2-8441-2f4016612c96",
   "metadata": {},
   "outputs": [
    {
     "data": {
      "image/jpeg": "[encoded data removed]",
      "text/html": [
       "\n",
       "        <iframe\n",
       "            width=\"400\"\n",
       "            height=\"300\"\n",
       "            src=\"https://www.youtube.com/embed/Yak2UUMm55s\"\n",
       "            frameborder=\"0\"\n",
       "            allowfullscreen\n",
       "            \n",
       "        ></iframe>\n",
       "        "
      ],
      "text/plain": [
       "<IPython.lib.display.YouTubeVideo at 0x11130e820>"
      ]
     },
     "execution_count": 3,
     "metadata": {},
     "output_type": "execute_result"
    }
   ],
   "source": [
    "YouTubeVideo('Yak2UUMm55s') # https://youtu.be/Yak2UUMm55s"
   ]
  }
 ],
 "metadata": {
  "kernelspec": {
   "display_name": "Python 3 (ipykernel)",
   "language": "python",
   "name": "python3"
  },
  "language_info": {
   "codemirror_mode": {
    "name": "ipython",
    "version": 3
   },
   "file_extension": ".py",
   "mimetype": "text/x-python",
   "name": "python",
   "nbconvert_exporter": "python",
   "pygments_lexer": "ipython3",
   "version": "3.9.12"
  }
 },
 "nbformat": 4,
 "nbformat_minor": 5
}
