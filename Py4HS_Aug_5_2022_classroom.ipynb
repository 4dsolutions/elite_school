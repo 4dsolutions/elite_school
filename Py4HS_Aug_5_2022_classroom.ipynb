{
 "cells": [
  {
   "cell_type": "markdown",
   "id": "5b33e14f-1d60-435f-84e3-8b0f1b1730e0",
   "metadata": {},
   "source": [
    "### Worksheet August 5, 2022\n",
    "\n",
    "Our goal tonight was to explore encryption as a concept.  How do we make our plaintext messages unreadable to anyone but the intended reader?\n",
    "\n",
    "I talked about Queen Alice and King Bob wanting to have private communications over a distance, in a time when people, even royalty, had to rely on horse-mounted couriers.  How would Alice and Bob established a shared encryption-decryption key?  \n",
    "\n",
    "Wouldn't Eve (the Eavesdropper, the one who listens in) be able to bribe the courier into sharing a copy of the key?\n",
    "\n",
    "When Bob and Alice need to share a secret key in common before the encrypted exchange can happen, that's called symmetric key cryptography.  When no such shared secret key is required beforehand, chances are they're using something called \"public key\" cryptography."
   ]
  },
  {
   "cell_type": "markdown",
   "id": "c71c6376-80ee-4ebc-9a0d-5f4e7582e682",
   "metadata": {},
   "source": [
    "The Python below is about creating a Python dictionary (dict) that maps every lowercase letter, plus the space, to an alternative letter or space."
   ]
  },
  {
   "cell_type": "code",
   "execution_count": 1,
   "id": "f8fd2940-ed0b-466a-bdf9-889b3a065ce0",
   "metadata": {},
   "outputs": [],
   "source": [
    "import string\n",
    "_domain = string.ascii_lowercase + \" \" \n",
    "from random import shuffle\n",
    "import random\n",
    "random.seed(42)\n",
    "\n",
    "def mkcode():\n",
    "    \"\"\"\n",
    "    Return a string containi`mng the elements in _domain\n",
    "    randomly permuted\n",
    "    \"\"\"\n",
    "    targ = list(_domain)\n",
    "    targ_copy = targ.copy()\n",
    "    shuffle(targ)\n",
    "    return dict(zip(targ_copy, targ))"
   ]
  },
  {
   "cell_type": "code",
   "execution_count": 2,
   "id": "f6ff09a7-4bcf-4392-a72d-3f428297dd17",
   "metadata": {},
   "outputs": [
    {
     "data": {
      "text/plain": [
       "'abcdefghijklmnopqrstuvwxyz '"
      ]
     },
     "execution_count": 2,
     "metadata": {},
     "output_type": "execute_result"
    }
   ],
   "source": [
    "_domain"
   ]
  },
  {
   "cell_type": "code",
   "execution_count": 3,
   "id": "52f652ef-d9eb-44c7-8d40-245626633e44",
   "metadata": {},
   "outputs": [
    {
     "name": "stdout",
     "output_type": "stream",
     "text": [
      "{'a': 'q', 'b': 'm', 'c': 'j', 'd': ' ', 'e': 't', 'f': 'g', 'g': 'f', 'h': 'k', 'i': 'p', 'j': 'w', 'k': 'l', 'l': 's', 'm': 'b', 'n': 'o', 'o': 'y', 'p': 'n', 'q': 'c', 'r': 'r', 's': 'z', 't': 'e', 'u': 'v', 'v': 'h', 'w': 'i', 'x': 'x', 'y': 'a', 'z': 'd', ' ': 'u'}\n"
     ]
    }
   ],
   "source": [
    "sk = mkcode()  # run many times, sk different each time\n",
    "print(sk)"
   ]
  },
  {
   "cell_type": "code",
   "execution_count": 4,
   "id": "1f9512d6-5ca6-4cb2-9ade-ec9830f18d62",
   "metadata": {},
   "outputs": [],
   "source": [
    "def encrypt(plaintext, secret_key):\n",
    "    \"\"\"\n",
    "    Clubhouse code:  easy to crack, represents any symmetric key system\n",
    "    \"\"\"\n",
    "    ciphertext = \"\"\n",
    "    for c in plaintext:\n",
    "        ciphertext = ciphertext + secret_key[c]\n",
    "    return ciphertext"
   ]
  },
  {
   "cell_type": "code",
   "execution_count": 5,
   "id": "c86570ad-d0a9-4846-a6d2-e9e0d8592b35",
   "metadata": {},
   "outputs": [
    {
     "data": {
      "text/plain": [
       "'ktssyuiyrs '"
      ]
     },
     "execution_count": 5,
     "metadata": {},
     "output_type": "execute_result"
    }
   ],
   "source": [
    "encrypt(\"hello world\", sk)"
   ]
  },
  {
   "cell_type": "code",
   "execution_count": 6,
   "id": "0490501b-a480-4767-b956-178d2e676763",
   "metadata": {},
   "outputs": [
    {
     "data": {
      "text/plain": [
       "'qucvpjlumryiougyxuwvbnzuyhtruektusqdau yf'"
      ]
     },
     "execution_count": 6,
     "metadata": {},
     "output_type": "execute_result"
    }
   ],
   "source": [
    "encrypt(\"a quick brown fox jumps over the lazy dog\", sk)"
   ]
  },
  {
   "cell_type": "code",
   "execution_count": 7,
   "id": "c3d5f114-403d-41f1-ab81-8f1fb73172a6",
   "metadata": {},
   "outputs": [],
   "source": [
    "def reverse(d):\n",
    "    \"\"\"\n",
    "    take a dictionary, exchange keys for values to\n",
    "    get reversed dict\n",
    "    \"\"\"\n",
    "    old_values = d.values()\n",
    "    old_keys   = d.keys()\n",
    "    return dict(zip(old_values, old_keys))"
   ]
  },
  {
   "cell_type": "code",
   "execution_count": 8,
   "id": "864f660d-9bbd-4919-9dcb-d5b7cdb005fa",
   "metadata": {},
   "outputs": [
    {
     "name": "stdout",
     "output_type": "stream",
     "text": [
      "{'q': 'a', 'm': 'b', 'j': 'c', ' ': 'd', 't': 'e', 'g': 'f', 'f': 'g', 'k': 'h', 'p': 'i', 'w': 'j', 'l': 'k', 's': 'l', 'b': 'm', 'o': 'n', 'y': 'o', 'n': 'p', 'c': 'q', 'r': 'r', 'z': 's', 'e': 't', 'v': 'u', 'h': 'v', 'i': 'w', 'x': 'x', 'a': 'y', 'd': 'z', 'u': ' '}\n"
     ]
    }
   ],
   "source": [
    "print(reverse(sk))"
   ]
  },
  {
   "cell_type": "code",
   "execution_count": 9,
   "id": "1b36bb3f-72ac-49ec-b17c-98256f575e6b",
   "metadata": {},
   "outputs": [
    {
     "name": "stdout",
     "output_type": "stream",
     "text": [
      "{'a': 'q', 'b': 'm', 'c': 'j', 'd': ' ', 'e': 't', 'f': 'g', 'g': 'f', 'h': 'k', 'i': 'p', 'j': 'w', 'k': 'l', 'l': 's', 'm': 'b', 'n': 'o', 'o': 'y', 'p': 'n', 'q': 'c', 'r': 'r', 's': 'z', 't': 'e', 'u': 'v', 'v': 'h', 'w': 'i', 'x': 'x', 'y': 'a', 'z': 'd', ' ': 'u'}\n"
     ]
    }
   ],
   "source": [
    "print(sk)"
   ]
  },
  {
   "cell_type": "code",
   "execution_count": 10,
   "id": "57a58a12-0f88-4287-8075-356eac57d4c4",
   "metadata": {},
   "outputs": [
    {
     "data": {
      "text/plain": [
       "'a quick brown fox jumps over the lazy dog'"
      ]
     },
     "execution_count": 10,
     "metadata": {},
     "output_type": "execute_result"
    }
   ],
   "source": [
    "encrypt('qucvpjlumryiougyxuwvbnzuyhtruektusqdau yf', reverse(sk))"
   ]
  },
  {
   "cell_type": "markdown",
   "id": "5fec5940-f5f8-41e3-8946-1363ed6c3e4a",
   "metadata": {},
   "source": [
    "### Permutation Objects\n",
    "\n",
    "Now lets look at these same ideas as encapsulated my the P type object.  Each P stands for a dict such as we saw above, saved as `self._code`.  Thanks to \"special names\" (Python's `__ribs__`) a P type object is able to invert (~) and to multiply (\\*) with other P type objects."
   ]
  },
  {
   "cell_type": "markdown",
   "id": "083f3f1f-02d7-4aff-9fd9-212b6f50cb14",
   "metadata": {},
   "source": [
    "We spent the rest of the evening playing with the P type, but also talking about RSA, as described at [this other Notebook](RSA.ipynb).\n",
    "\n",
    "Thanks to RSA, Bob and Alice are able to publish public numbers N, that correspond to secret numbers d in the background.  Only Bob knows the d paired with his N, ditto for Alice as in (\"Bob's d\", \"Bob's N\"), (\"Alice's d\", \"Alice's N\").  \n",
    "\n",
    "Bob goes RSA.encrypt(message, Alice's N) when writing to Alice, and Alice goes RSA.decrypt(encrypted message from Bob, Alice's d) to decode the message.  At no point did Bob need to send anything secret to Alice.  Eve has no one to bribe.\n",
    "\n",
    "Here as some links regarding RSA you might find interesting.\n",
    "\n",
    "* [Unsolved Problems](http://unsolvedproblems.org/index_files/RSA.htm)\n",
    "* [Crypto Pages at Oregon Curriculum Network](http://4dsolutions.net/ocn/crypto0.html)\n",
    "* [Clubhouse Crypto](http://4dsolutions.net/ocn/clubhouse.html)\n",
    "* [Code for Permutation type P](px_class.py)"
   ]
  },
  {
   "cell_type": "markdown",
   "id": "09eb20ca-6dbf-4285-b57a-70d2c1a8ffa9",
   "metadata": {},
   "source": [
    "### Sandbox Area\n",
    "\n",
    "The seed is set to 42 at the top of the worksheet, which is why your results may be exactly the same, even though a pseudo-random number generator (RNG) is used."
   ]
  },
  {
   "cell_type": "code",
   "execution_count": 11,
   "id": "7b97a48f-f7b9-45e4-a2ce-a9a5879f5933",
   "metadata": {},
   "outputs": [],
   "source": [
    "from px_class import P"
   ]
  },
  {
   "cell_type": "code",
   "execution_count": 12,
   "id": "4a473661-4e22-4d88-a13f-cfbdc5d6f42a",
   "metadata": {},
   "outputs": [],
   "source": [
    "p0 = P()"
   ]
  },
  {
   "cell_type": "code",
   "execution_count": 13,
   "id": "6eb52c83-c070-49f4-8df0-a59478089d87",
   "metadata": {},
   "outputs": [
    {
     "data": {
      "text/plain": [
       "P class: (('a', 'a'), ('b', 'b'), ('c', 'c'))..."
      ]
     },
     "execution_count": 13,
     "metadata": {},
     "output_type": "execute_result"
    }
   ],
   "source": [
    "p0"
   ]
  },
  {
   "cell_type": "code",
   "execution_count": 14,
   "id": "3f852a76-6a65-47d6-9b9e-6d77ace4dd7a",
   "metadata": {},
   "outputs": [
    {
     "data": {
      "text/plain": [
       "'race car'"
      ]
     },
     "execution_count": 14,
     "metadata": {},
     "output_type": "execute_result"
    }
   ],
   "source": [
    "p0.encrypt(\"race car\")"
   ]
  },
  {
   "cell_type": "code",
   "execution_count": 15,
   "id": "da834bdb-76aa-4993-9dd7-29666683513f",
   "metadata": {},
   "outputs": [],
   "source": [
    "p1 = p0.shuffle()  # doesn't change the original"
   ]
  },
  {
   "cell_type": "code",
   "execution_count": 16,
   "id": "4eacff68-8e89-4d6c-89a8-d646a0c96800",
   "metadata": {},
   "outputs": [
    {
     "data": {
      "text/plain": [
       "P class: (('a', 'a'), ('b', 'b'), ('c', 'c'))..."
      ]
     },
     "execution_count": 16,
     "metadata": {},
     "output_type": "execute_result"
    }
   ],
   "source": [
    "p0"
   ]
  },
  {
   "cell_type": "code",
   "execution_count": 17,
   "id": "c63463a7-242c-4398-b51b-4817a45f2ead",
   "metadata": {},
   "outputs": [
    {
     "data": {
      "text/plain": [
       "P class: (('a', 'c'), ('b', 'v'), ('c', 'm'))..."
      ]
     },
     "execution_count": 17,
     "metadata": {},
     "output_type": "execute_result"
    }
   ],
   "source": [
    "p1"
   ]
  },
  {
   "cell_type": "code",
   "execution_count": 18,
   "id": "ef32c4b3-f13d-4c45-a7d1-aef8ea741d38",
   "metadata": {},
   "outputs": [
    {
     "name": "stdout",
     "output_type": "stream",
     "text": [
      "{'_code': {'a': 'c', 'b': 'v', 'c': 'm', 'd': 'h', 'e': 't', 'f': 'p', 'g': 'q', 'h': 'y', 'i': ' ', 'j': 'j', 'k': 'l', 'l': 'x', 'm': 'o', 'n': 'r', 'o': 'b', 'p': 'd', 'q': 'u', 'r': 'g', 's': 'e', 't': 'z', 'u': 'k', 'v': 'n', 'w': 'w', 'x': 'f', 'y': 'a', 'z': 'i', ' ': 's'}}\n"
     ]
    }
   ],
   "source": [
    "print(p1.__dict__)"
   ]
  },
  {
   "cell_type": "code",
   "execution_count": 19,
   "id": "75f2dc60-8f31-40ba-b27a-3d15e50fa1f6",
   "metadata": {},
   "outputs": [
    {
     "name": "stdout",
     "output_type": "stream",
     "text": [
      "P class: (('a', 'c'), ('b', 'v'), ('c', 'm'))...\n"
     ]
    }
   ],
   "source": [
    "print(p1)"
   ]
  },
  {
   "cell_type": "code",
   "execution_count": 20,
   "id": "c03dd945-0f98-454c-a68a-46b7670370f3",
   "metadata": {},
   "outputs": [
    {
     "data": {
      "text/plain": [
       "'gcmtsmcg'"
      ]
     },
     "execution_count": 20,
     "metadata": {},
     "output_type": "execute_result"
    }
   ],
   "source": [
    "p1.encrypt('race car')"
   ]
  },
  {
   "cell_type": "code",
   "execution_count": 21,
   "id": "061ed4d0-5502-417c-8dee-c24375c7d52a",
   "metadata": {},
   "outputs": [
    {
     "data": {
      "text/plain": [
       "P class: (('a', 'c'), ('b', 'v'), ('c', 'm'))..."
      ]
     },
     "execution_count": 21,
     "metadata": {},
     "output_type": "execute_result"
    }
   ],
   "source": [
    "p1"
   ]
  },
  {
   "cell_type": "code",
   "execution_count": 22,
   "id": "88c0d322-bcbd-4f43-82bf-591a2d7fc124",
   "metadata": {},
   "outputs": [
    {
     "data": {
      "text/plain": [
       "P class: (('c', 'a'), ('v', 'b'), ('m', 'c'))..."
      ]
     },
     "execution_count": 22,
     "metadata": {},
     "output_type": "execute_result"
    }
   ],
   "source": [
    "~p1"
   ]
  },
  {
   "cell_type": "code",
   "execution_count": 23,
   "id": "ab6a92a4-73b4-43c3-b23f-12a12d06da7a",
   "metadata": {},
   "outputs": [
    {
     "data": {
      "text/plain": [
       "P class: (('a', 'c'), ('b', 'v'), ('c', 'm'))..."
      ]
     },
     "execution_count": 23,
     "metadata": {},
     "output_type": "execute_result"
    }
   ],
   "source": [
    "p1"
   ]
  },
  {
   "cell_type": "code",
   "execution_count": 24,
   "id": "66fb7159-6f88-4254-b3dc-80d47483090d",
   "metadata": {},
   "outputs": [],
   "source": [
    "inv_p1 = ~p1"
   ]
  },
  {
   "cell_type": "code",
   "execution_count": 25,
   "id": "7cfed9dd-e5c6-458a-884b-75ef1a2b6186",
   "metadata": {},
   "outputs": [
    {
     "data": {
      "text/plain": [
       "'cvxtswces stgts secwstxvc'"
      ]
     },
     "execution_count": 25,
     "metadata": {},
     "output_type": "execute_result"
    }
   ],
   "source": [
    "p1.encrypt(\"able was i ere i saw elba\")"
   ]
  },
  {
   "cell_type": "code",
   "execution_count": 26,
   "id": "beffd5cb-473a-4da1-bf9c-a5d5600e0343",
   "metadata": {},
   "outputs": [
    {
     "data": {
      "text/plain": [
       "'able was i ere i saw elba'"
      ]
     },
     "execution_count": 26,
     "metadata": {},
     "output_type": "execute_result"
    }
   ],
   "source": [
    "inv_p1.encrypt('cvxtswces stgts secwstxvc')"
   ]
  },
  {
   "cell_type": "code",
   "execution_count": 27,
   "id": "a291c1c0-ba11-44c1-91e7-161116b3871d",
   "metadata": {},
   "outputs": [
    {
     "data": {
      "text/plain": [
       "P class: (('a', 'c'), ('b', 'v'), ('c', 'm'))..."
      ]
     },
     "execution_count": 27,
     "metadata": {},
     "output_type": "execute_result"
    }
   ],
   "source": [
    "p1"
   ]
  },
  {
   "cell_type": "code",
   "execution_count": 28,
   "id": "6256bb2c-bf51-460f-bfd1-0884423259c8",
   "metadata": {},
   "outputs": [],
   "source": [
    "p2 = P().shuffle()"
   ]
  },
  {
   "cell_type": "code",
   "execution_count": 29,
   "id": "41dac211-b3bb-4b82-ba1d-860a0af7d78e",
   "metadata": {},
   "outputs": [
    {
     "data": {
      "text/plain": [
       "'o'"
      ]
     },
     "execution_count": 29,
     "metadata": {},
     "output_type": "execute_result"
    }
   ],
   "source": [
    "p2['c']"
   ]
  },
  {
   "cell_type": "code",
   "execution_count": 30,
   "id": "4535e398-5321-4c4b-a997-5f75448930ac",
   "metadata": {},
   "outputs": [
    {
     "data": {
      "text/plain": [
       "'ccccccc'"
      ]
     },
     "execution_count": 30,
     "metadata": {},
     "output_type": "execute_result"
    }
   ],
   "source": [
    "p1.encrypt(\"aaaaaaa\")"
   ]
  },
  {
   "cell_type": "code",
   "execution_count": 31,
   "id": "cb0513ea-ae9e-42a0-a143-ae0d1c2c964d",
   "metadata": {},
   "outputs": [
    {
     "data": {
      "text/plain": [
       "'ooooooo'"
      ]
     },
     "execution_count": 31,
     "metadata": {},
     "output_type": "execute_result"
    }
   ],
   "source": [
    "p2.encrypt(\"ccccccc\")"
   ]
  },
  {
   "cell_type": "code",
   "execution_count": 32,
   "id": "977f935b-916d-42be-81e8-014ee2d6c544",
   "metadata": {},
   "outputs": [],
   "source": [
    "test1 = p1 * p2"
   ]
  },
  {
   "cell_type": "code",
   "execution_count": 33,
   "id": "3bdad47f-39fc-42be-8053-5054104e1b0a",
   "metadata": {},
   "outputs": [
    {
     "data": {
      "text/plain": [
       "'o'"
      ]
     },
     "execution_count": 33,
     "metadata": {},
     "output_type": "execute_result"
    }
   ],
   "source": [
    "test1['a']"
   ]
  },
  {
   "cell_type": "code",
   "execution_count": 34,
   "id": "36f0e253-4a9a-4b04-a5f9-46949b9ca62a",
   "metadata": {},
   "outputs": [],
   "source": [
    "test2 = p1 * p1 * p1"
   ]
  },
  {
   "cell_type": "code",
   "execution_count": 35,
   "id": "f996796a-e677-4e05-becc-62f3cfadc70c",
   "metadata": {},
   "outputs": [
    {
     "data": {
      "text/plain": [
       "'ooooo'"
      ]
     },
     "execution_count": 35,
     "metadata": {},
     "output_type": "execute_result"
    }
   ],
   "source": [
    "test2.encrypt('aaaaa')"
   ]
  },
  {
   "cell_type": "code",
   "execution_count": 36,
   "id": "6a0f4a5c-9193-4352-bb72-8975b3d365cc",
   "metadata": {},
   "outputs": [
    {
     "data": {
      "text/plain": [
       "'o'"
      ]
     },
     "execution_count": 36,
     "metadata": {},
     "output_type": "execute_result"
    }
   ],
   "source": [
    "p1[p1[p1['a']]]"
   ]
  },
  {
   "cell_type": "code",
   "execution_count": 37,
   "id": "a4df5142-2e6c-4dae-bbec-83c16248b538",
   "metadata": {},
   "outputs": [
    {
     "data": {
      "text/plain": [
       "P class: (('a', 'a'), ('b', 'b'), ('c', 'c'))..."
      ]
     },
     "execution_count": 37,
     "metadata": {},
     "output_type": "execute_result"
    }
   ],
   "source": [
    "p1 * inv_p1"
   ]
  },
  {
   "cell_type": "code",
   "execution_count": 38,
   "id": "2cd30a42-d55f-4796-b27b-5bcc2279113e",
   "metadata": {},
   "outputs": [
    {
     "data": {
      "text/plain": [
       "P class: (('a', 'a'), ('b', 'b'), ('c', 'c'))..."
      ]
     },
     "execution_count": 38,
     "metadata": {},
     "output_type": "execute_result"
    }
   ],
   "source": [
    "p0"
   ]
  },
  {
   "cell_type": "code",
   "execution_count": 39,
   "id": "6a4a2d22-5218-4bf1-9835-a1514dcdc44d",
   "metadata": {},
   "outputs": [
    {
     "data": {
      "text/plain": [
       "P class: (('a', 'c'), ('b', 'v'), ('c', 'm'))..."
      ]
     },
     "execution_count": 39,
     "metadata": {},
     "output_type": "execute_result"
    }
   ],
   "source": [
    "p1 * p0"
   ]
  },
  {
   "cell_type": "code",
   "execution_count": 40,
   "id": "9fddcbba-88f9-48e9-b6be-855a4d97be3c",
   "metadata": {},
   "outputs": [
    {
     "data": {
      "text/plain": [
       "P class: (('a', 'c'), ('b', 'v'), ('c', 'm'))..."
      ]
     },
     "execution_count": 40,
     "metadata": {},
     "output_type": "execute_result"
    }
   ],
   "source": [
    "p0 * p1"
   ]
  },
  {
   "cell_type": "code",
   "execution_count": 41,
   "id": "cf561640-8ed5-4538-957f-b763f5f8d77f",
   "metadata": {},
   "outputs": [],
   "source": [
    "from math import factorial"
   ]
  },
  {
   "cell_type": "code",
   "execution_count": 42,
   "id": "dd8c306e-4edc-4e26-97b4-d58ca31f2852",
   "metadata": {},
   "outputs": [
    {
     "data": {
      "text/plain": [
       "10888869450418352160768000000"
      ]
     },
     "execution_count": 42,
     "metadata": {},
     "output_type": "execute_result"
    }
   ],
   "source": [
    "factorial(27)"
   ]
  },
  {
   "cell_type": "code",
   "execution_count": 43,
   "id": "23c50bc0-b5f8-460d-b9cd-aa5dab567a54",
   "metadata": {},
   "outputs": [
    {
     "data": {
      "text/plain": [
       "80658175170943878571660636856403766975289505440883277824000000000000"
      ]
     },
     "execution_count": 43,
     "metadata": {},
     "output_type": "execute_result"
    }
   ],
   "source": [
    "factorial(52)"
   ]
  }
 ],
 "metadata": {
  "kernelspec": {
   "display_name": "Python 3 (ipykernel)",
   "language": "python",
   "name": "python3"
  },
  "language_info": {
   "codemirror_mode": {
    "name": "ipython",
    "version": 3
   },
   "file_extension": ".py",
   "mimetype": "text/x-python",
   "name": "python",
   "nbconvert_exporter": "python",
   "pygments_lexer": "ipython3",
   "version": "3.9.12"
  }
 },
 "nbformat": 4,
 "nbformat_minor": 5
}
