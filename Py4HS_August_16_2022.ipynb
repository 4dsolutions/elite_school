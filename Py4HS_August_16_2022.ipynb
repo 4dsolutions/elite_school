{
 "cells": [
  {
   "cell_type": "markdown",
   "id": "468e25aa-24a4-4eaf-b4e0-c47792f38b1c",
   "metadata": {
    "tags": []
   },
   "source": [
    "##### Python for High School (Summer 2022)\n",
    "\n",
    "* [Table of Contents](PY4HS.ipynb)\n",
    "* <a href=\"https://colab.research.google.com/github/4dsolutions/elite_school/blob/master/Py4HS_August_16_2022.ipynb\"><img align=\"left\" src=\"https://colab.research.google.com/assets/colab-badge.svg\" alt=\"Open in Colab\" title=\"Open and Execute in Google Colaboratory\"></a>\n",
    "* [![nbviewer](https://raw.githubusercontent.com/jupyter/design/master/logos/Badges/nbviewer_badge.svg)](https://nbviewer.org/github/4dsolutions/elite_school/blob/master/Py4HS_August_16_2022.ipynb)"
   ]
  },
  {
   "cell_type": "markdown",
   "id": "394385ec-4610-483b-b928-bf5300b5964c",
   "metadata": {},
   "source": [
    "### Regular Expressions\n",
    "\n",
    "Regular Expressions have the potential to become an entertaining passtime, if not a full-fledged hobby.  Python's implementation may not be the very best (in the sense of complete) out there, but it's certainly world class.\n",
    "\n",
    "From Wikipedia:\n",
    "\n",
    "<blockquote>\n",
    "A regular expression (shortened as regex or regexp; sometimes referred to as rational expression) is a sequence of characters that specifies a search pattern in text. Usually such patterns are used by string-searching algorithms for \"find\" or \"find and replace\" operations on strings, or for input validation. Regular expression techniques are developed in theoretical computer science and formal language theory. \n",
    "</blockquote>\n",
    "    \n",
    "Regexes were not featured as a part of the relic high school *mathematics* textbooks we've considered.  However they may have been included in an optional [computer science track](https://www.w3schools.com/python/python_regex.asp).\n",
    "\n",
    "Back in those days, computer science (compsci) and mathematics were kept apart at the high school level, to a degree we might today find dumbfounding.\n",
    "\n",
    "Regular Expression syntax was actually invented by Stephen Cole Kleene, [a mathematician](https://en.wikipedia.org/wiki/Stephen_Cole_Kleene), who was in turn a student of [Alonzo Church](https://en.wikipedia.org/wiki/Alonzo_Church) of [lambda calculus](https://en.wikipedia.org/wiki/Lambda_calculus) ($\\lambda$ calc) fame."
   ]
  },
  {
   "cell_type": "code",
   "execution_count": 2,
   "id": "af932697-e7c3-43e9-b32d-e1d901e4a310",
   "metadata": {},
   "outputs": [],
   "source": [
    "import re"
   ]
  },
  {
   "cell_type": "markdown",
   "id": "37969142-7700-47e6-882e-fbd944799868",
   "metadata": {},
   "source": [
    "Let's start with [`findall`](https://pynative.com/python-regex-findall-finditer/) (link)."
   ]
  },
  {
   "cell_type": "markdown",
   "id": "ce574818-6240-4883-b25d-68aa81a05877",
   "metadata": {},
   "source": [
    "Find all four-digit strings. ```\\d``` stands for \"any digit\"."
   ]
  },
  {
   "cell_type": "code",
   "execution_count": 3,
   "id": "bb0acc8e-608f-4463-92df-a0e616a0d3a7",
   "metadata": {},
   "outputs": [
    {
     "data": {
      "text/plain": [
       "['8974', '1059']"
      ]
     },
     "execution_count": 3,
     "metadata": {},
     "output_type": "execute_result"
    }
   ],
   "source": [
    "pattern = r\"\\d\\d\\d\\d\"  # raw string, prefix r\n",
    "target  = \"these four digit sequences: 8974 and 1059, will be matched.  Cool!\"\n",
    "re.findall(pattern, target)"
   ]
  },
  {
   "cell_type": "markdown",
   "id": "c0441131-f39c-4d69-8fe0-8843a410d8ed",
   "metadata": {},
   "source": [
    "Another way to say it:"
   ]
  },
  {
   "cell_type": "code",
   "execution_count": 4,
   "id": "34c21cfb-7eb9-4b77-98af-dbd2737cb3a7",
   "metadata": {},
   "outputs": [
    {
     "data": {
      "text/plain": [
       "['8945', '9910']"
      ]
     },
     "execution_count": 4,
     "metadata": {},
     "output_type": "execute_result"
    }
   ],
   "source": [
    "re.findall(r\"\\d{4}\", \"$8945 is a pretty good price for that speed boat, better than $9910\")"
   ]
  },
  {
   "cell_type": "markdown",
   "id": "6579d83e-9a4b-48b2-b086-c6655048755a",
   "metadata": {},
   "source": [
    "Any number of digits (in a row):"
   ]
  },
  {
   "cell_type": "code",
   "execution_count": 5,
   "id": "e715dab3-82ed-4deb-9a5f-5217d1aa1f7d",
   "metadata": {},
   "outputs": [
    {
     "data": {
      "text/plain": [
       "['18030', '18030', '2312', '1', '18030', '2312', '936', '1', '0']"
      ]
     },
     "execution_count": 5,
     "metadata": {},
     "output_type": "execute_result"
    }
   ],
   "source": [
    "target = \"\"\"GB 18030 is a Chinese government standard, \n",
    "described as Information Technology — Chinese coded character \n",
    "set and defines the required language and character support \n",
    "necessary for software in China. GB18030 is the registered \n",
    "Internet name for the official character set of the People's \n",
    "Republic of China (PRC) superseding GB2312.[1] \n",
    "As a Unicode Transformation Format[a] (i.e. an encoding of \n",
    "all Unicode code points), GB18030 supports both simplified \n",
    "and traditional Chinese characters. It is also compatible \n",
    "with legacy encodings including GB2312, CP936,[b] and GBK 1.0. \n",
    "\"\"\"\n",
    "# https://en.wikipedia.org/wiki/GB_18030\n",
    "\n",
    "re.findall(r\"\\d+\", target)"
   ]
  },
  {
   "cell_type": "markdown",
   "id": "17d1b713-0868-451a-80f6-166b712b9799",
   "metadata": {},
   "source": [
    "Between four and six digits:"
   ]
  },
  {
   "cell_type": "code",
   "execution_count": 6,
   "id": "4b53d7f3-5177-409f-ae14-f2a8e50b50ac",
   "metadata": {},
   "outputs": [
    {
     "data": {
      "text/plain": [
       "['8974', '10599']"
      ]
     },
     "execution_count": 6,
     "metadata": {},
     "output_type": "execute_result"
    }
   ],
   "source": [
    "re.findall(r\"\\d{4,6}\", \"seeking 12, 134, 8974, 10599 and 2\")"
   ]
  },
  {
   "cell_type": "markdown",
   "id": "4de20bc2-589c-4611-ab47-5586acf53d55",
   "metadata": {},
   "source": [
    "The Regular Expression language is complex and yet ubiquitous enough to merit study.  \n",
    "\n",
    "You may use regexes not only to find, but to find and replace:"
   ]
  },
  {
   "cell_type": "code",
   "execution_count": 7,
   "id": "e575b8fb-316e-4aa0-9972-f36275f05143",
   "metadata": {},
   "outputs": [
    {
     "data": {
      "text/plain": [
       "'Your Visa card number is xxxx-xxxx-xxxx-xxxx'"
      ]
     },
     "execution_count": 7,
     "metadata": {},
     "output_type": "execute_result"
    }
   ],
   "source": [
    "re.sub(\"\\d\\d\\d\\d\", \"xxxx\", \"Your Visa card number is 9845-9049-7754-0011\")"
   ]
  },
  {
   "cell_type": "markdown",
   "id": "eca6fb7e-4f00-4ed0-9d7a-4a61333b434c",
   "metadata": {},
   "source": [
    "And to split apart:"
   ]
  },
  {
   "cell_type": "code",
   "execution_count": 8,
   "id": "19b643ec-9f91-497a-bbbc-9237341ad53c",
   "metadata": {},
   "outputs": [
    {
     "data": {
      "text/plain": [
       "['splitting', 'on', 'a', 'word', 'boundary']"
      ]
     },
     "execution_count": 8,
     "metadata": {},
     "output_type": "execute_result"
    }
   ],
   "source": [
    "re.split(\"\\s+\", \"splitting on  a word   boundary\")"
   ]
  },
  {
   "cell_type": "markdown",
   "id": "cc0cc5be-0bf0-4a4f-92b5-add9dedce161",
   "metadata": {},
   "source": [
    "Including regexes in the study of mathematics expands one's innate sense of what mathematics contains, preparing the ground for future logic and/or typesetting and/or markup notations.  \n",
    "\n",
    "To some extent, mathematics is a practice of cultivating fluency and proficiency with various symbol systems.  Does chess, with its corresponding symbol language, count as a mathematical?  Perhaps.  \n",
    "\n",
    "A more restrictive definition might insist that mathematical languages concern themselves with proofs. Regular Expressions would not qualify as mathematical either, in that case."
   ]
  },
  {
   "cell_type": "code",
   "execution_count": 9,
   "id": "46073c97-8e58-45f8-94da-c0b31c29bee6",
   "metadata": {},
   "outputs": [
    {
     "data": {
      "image/jpeg": "[encoded data removed]",
      "text/html": [
       "\n",
       "        <iframe\n",
       "            width=\"400\"\n",
       "            height=\"300\"\n",
       "            src=\"https://www.youtube.com/embed/wnuBwl2ekmo\"\n",
       "            frameborder=\"0\"\n",
       "            allowfullscreen\n",
       "            \n",
       "        ></iframe>\n",
       "        "
      ],
      "text/plain": [
       "<IPython.lib.display.YouTubeVideo at 0x1110fcb20>"
      ]
     },
     "execution_count": 9,
     "metadata": {},
     "output_type": "execute_result"
    }
   ],
   "source": [
    "from IPython.display import YouTubeVideo\n",
    "YouTubeVideo(\"wnuBwl2ekmo\")  # https://youtu.be/wnuBwl2ekmo"
   ]
  }
 ],
 "metadata": {
  "kernelspec": {
   "display_name": "Python 3 (ipykernel)",
   "language": "python",
   "name": "python3"
  },
  "language_info": {
   "codemirror_mode": {
    "name": "ipython",
    "version": 3
   },
   "file_extension": ".py",
   "mimetype": "text/x-python",
   "name": "python",
   "nbconvert_exporter": "python",
   "pygments_lexer": "ipython3",
   "version": "3.9.12"
  }
 },
 "nbformat": 4,
 "nbformat_minor": 5
}
