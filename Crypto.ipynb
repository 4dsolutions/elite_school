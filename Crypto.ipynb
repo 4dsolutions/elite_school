{
 "cells": [
  {
   "cell_type": "markdown",
   "id": "fa4886a6",
   "metadata": {},
   "source": [
    "# Algorithms in Cryptography\n",
    "\n",
    "Building mathematical knowledge up to where RSA (named for inventors Ron Rivest, Adi Shamir and Leonard Adleman) makes sense, gives you many useful concepts and insights along the way.\n",
    "\n",
    "For example, we should start with one of the oldest algorithms in history, called Euclid's Method.  Euclid probably got it from some earlier source.\n",
    "\n",
    "Python will help us, by expressing these algorithms succinctly.  We'll be able to test them interactively.\n",
    "\n",
    "However, before we get to Euclid's Method, we should review the basic concepts of prime versus composite positive integers.\n",
    "\n",
    "### Primes vs Composites\n",
    "\n",
    "Primes have no divisors.  Trying to divide them by another integer always leaves some remainder.\n",
    "\n",
    "Composities are products of prime factors and comprise the rest of the positive integers.  \n",
    "\n",
    "All integers are either composite or prime.  \n",
    "\n",
    "Telling which is which is not always easy, because huge composites with only two prime factors may look just like primes, and finding these factors can be extremely difficult.  \n",
    "\n",
    "In fact, RSA depends on factoring large composites being next to impossible, if they're large enough."
   ]
  },
  {
   "cell_type": "markdown",
   "id": "fb4c92be",
   "metadata": {},
   "source": [
    "### Modulo Arithmetic in Python\n",
    "\n",
    "When we talk about factoring numbers, that gets us thinking about remainders, like if there is one.  We say m divides n \"evenly\" not because m goes into n an even number of times (which may be true too) but because there's no remainder.  m divides n with nothing left over.  That makes m a factor of n."
   ]
  },
  {
   "cell_type": "code",
   "execution_count": 12,
   "id": "e26016f9",
   "metadata": {},
   "outputs": [
    {
     "data": {
      "text/plain": [
       "0"
      ]
     },
     "execution_count": 12,
     "metadata": {},
     "output_type": "execute_result"
    }
   ],
   "source": [
    "12 % 3  # no remainder, 3 divides 12 evenly"
   ]
  },
  {
   "cell_type": "code",
   "execution_count": 14,
   "id": "f0b9775d",
   "metadata": {},
   "outputs": [
    {
     "data": {
      "text/plain": [
       "5"
      ]
     },
     "execution_count": 14,
     "metadata": {},
     "output_type": "execute_result"
    }
   ],
   "source": [
    "12 % 7  # yes remainder, 7 is not a factor of 12"
   ]
  },
  {
   "cell_type": "code",
   "execution_count": 16,
   "id": "6347c722",
   "metadata": {},
   "outputs": [
    {
     "data": {
      "text/plain": [
       "(8, 4)"
      ]
     },
     "execution_count": 16,
     "metadata": {},
     "output_type": "execute_result"
    }
   ],
   "source": [
    "divmod(100, 12)"
   ]
  },
  {
   "cell_type": "markdown",
   "id": "57dab9d7",
   "metadata": {},
   "source": [
    "12 goes into 100 eight times, leaving a remainder of 4."
   ]
  },
  {
   "cell_type": "code",
   "execution_count": 22,
   "id": "f13b405b",
   "metadata": {},
   "outputs": [],
   "source": [
    "def always_true(n, m):\n",
    "    q, r = divmod(n, m)\n",
    "    print(q, r)\n",
    "    return n == q * m + r  # should always be True"
   ]
  },
  {
   "cell_type": "code",
   "execution_count": 23,
   "id": "fa7012fc",
   "metadata": {},
   "outputs": [
    {
     "name": "stdout",
     "output_type": "stream",
     "text": [
      "38 12\n"
     ]
    },
    {
     "data": {
      "text/plain": [
       "True"
      ]
     },
     "execution_count": 23,
     "metadata": {},
     "output_type": "execute_result"
    }
   ],
   "source": [
    "always_true(28398, 747)  # try a bunch of examples"
   ]
  },
  {
   "cell_type": "markdown",
   "id": "72fd2764",
   "metadata": {},
   "source": [
    "### Prime Numbers"
   ]
  },
  {
   "cell_type": "code",
   "execution_count": 29,
   "id": "e329fa94",
   "metadata": {},
   "outputs": [],
   "source": [
    "import primes  # a package (has __init__.py)"
   ]
  },
  {
   "cell_type": "code",
   "execution_count": 30,
   "id": "4e120c77",
   "metadata": {},
   "outputs": [
    {
     "data": {
      "text/plain": [
       "['PrimeNumbers',\n",
       " '__builtins__',\n",
       " '__cached__',\n",
       " '__doc__',\n",
       " '__file__',\n",
       " '__loader__',\n",
       " '__name__',\n",
       " '__package__',\n",
       " '__path__',\n",
       " '__spec__',\n",
       " 'all_factors',\n",
       " 'eratosthenes',\n",
       " 'factors',\n",
       " 'isprime',\n",
       " 'primes_gen',\n",
       " 'primesplay']"
      ]
     },
     "execution_count": 30,
     "metadata": {},
     "output_type": "execute_result"
    }
   ],
   "source": [
    "dir(primes)    # not everything is exposed"
   ]
  },
  {
   "cell_type": "code",
   "execution_count": 4,
   "id": "0d5717ec",
   "metadata": {},
   "outputs": [
    {
     "data": {
      "text/plain": [
       "(1, 2, 2, 5, 5)"
      ]
     },
     "execution_count": 4,
     "metadata": {},
     "output_type": "execute_result"
    }
   ],
   "source": [
    "primes.factors(100)"
   ]
  },
  {
   "cell_type": "code",
   "execution_count": 5,
   "id": "d4416595",
   "metadata": {},
   "outputs": [
    {
     "data": {
      "text/plain": [
       "[1, 2, 4, 5, 10, 20, 25, 50, 100]"
      ]
     },
     "execution_count": 5,
     "metadata": {},
     "output_type": "execute_result"
    }
   ],
   "source": [
    "primes.all_factors(100)"
   ]
  },
  {
   "cell_type": "code",
   "execution_count": 10,
   "id": "f38903de",
   "metadata": {},
   "outputs": [
    {
     "data": {
      "text/plain": [
       "[2, 3, 5, 7, 11, 13, 17, 19, 23, 29, 31, 37, 41, 43, 47, 53, 59, 61, 67, 71]"
      ]
     },
     "execution_count": 10,
     "metadata": {},
     "output_type": "execute_result"
    }
   ],
   "source": [
    "p = primes.primes_gen.PrimeNumbers()\n",
    "[next(p) for _ in range(20)]"
   ]
  },
  {
   "cell_type": "markdown",
   "id": "e199a478",
   "metadata": {},
   "source": [
    "### Coprimes (Strangers)\n",
    "\n",
    "Coprimes are not necessarily prime themselves.  Two numbers are coprime if they have no factors in common.  We also call them \"strangers\" in that case.\n",
    "\n",
    "For example 10 and 7 are coprime, but not 27 and 15.  Those two (27 and 15) have the common factor 3.  \n",
    "\n",
    "So that means:  if the greatest common divisor (GCD) of two positive integers is > 1 (greater than 1), then these two integers are *not* coprime.  Otherwise, if their GCD == 1, they are."
   ]
  },
  {
   "cell_type": "code",
   "execution_count": 24,
   "id": "16691c74",
   "metadata": {},
   "outputs": [],
   "source": [
    "def euclid(a, b):\n",
    "    while a % b:  # when remainder is 0, b is gcd\n",
    "        b, a = a % b, b  # chopping down to 1\n",
    "    return b"
   ]
  },
  {
   "cell_type": "code",
   "execution_count": 25,
   "id": "3699d9c4",
   "metadata": {},
   "outputs": [
    {
     "data": {
      "text/plain": [
       "5"
      ]
     },
     "execution_count": 25,
     "metadata": {},
     "output_type": "execute_result"
    }
   ],
   "source": [
    "euclid(10, 5)"
   ]
  },
  {
   "cell_type": "code",
   "execution_count": 26,
   "id": "f8e2857e",
   "metadata": {},
   "outputs": [
    {
     "data": {
      "text/plain": [
       "3"
      ]
     },
     "execution_count": 26,
     "metadata": {},
     "output_type": "execute_result"
    }
   ],
   "source": [
    "euclid(27, 15)"
   ]
  },
  {
   "cell_type": "code",
   "execution_count": 27,
   "id": "bb3e306d",
   "metadata": {},
   "outputs": [
    {
     "data": {
      "text/plain": [
       "1"
      ]
     },
     "execution_count": 27,
     "metadata": {},
     "output_type": "execute_result"
    }
   ],
   "source": [
    "euclid(10, 7)"
   ]
  },
  {
   "cell_type": "markdown",
   "id": "1b19d13c",
   "metadata": {},
   "source": [
    "So 10 and 7 are strangers."
   ]
  }
 ],
 "metadata": {
  "kernelspec": {
   "display_name": "Python 3",
   "language": "python",
   "name": "python3"
  },
  "language_info": {
   "codemirror_mode": {
    "name": "ipython",
    "version": 3
   },
   "file_extension": ".py",
   "mimetype": "text/x-python",
   "name": "python",
   "nbconvert_exporter": "python",
   "pygments_lexer": "ipython3",
   "version": "3.7.9"
  }
 },
 "nbformat": 4,
 "nbformat_minor": 5
}
