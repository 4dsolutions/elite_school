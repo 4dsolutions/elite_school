{
 "cells": [
  {
   "cell_type": "markdown",
   "id": "d199c990",
   "metadata": {},
   "source": [
    "[Home](Home.ipynb)\n",
    "\n",
    "# Algorithms in Cryptography\n",
    "\n",
    "<a data-flickr-embed=\"true\" href=\"https://www.flickr.com/photos/kirbyurner/30269841575/in/album-72157660337424600/\" title=\"DSCF9928\"><img src=\"https://live.staticflickr.com/5691/30269841575_8bea763a54_w.jpg\" width=\"300\" height=\"400\" alt=\"DSCF9928\"></a><script async src=\"//embedr.flickr.com/assets/client-code.js\" charset=\"utf-8\"></script>\n",
    "\n",
    "\n",
    "Building mathematical knowledge up to where RSA (named for inventors Ron Rivest, Adi Shamir and Leonard Adleman) makes sense, gives you many useful concepts and insights along the way.\n",
    "\n",
    "For example, we should start with one of the oldest algorithms in history, called Euclid's Method.  Euclid probably got it from some earlier source.\n",
    "\n",
    "Python will help us, by expressing these algorithms succinctly.  We'll be able to test them interactively.\n",
    "\n",
    "However, before we get to [Euclid's Algorithm (EA)](https://en.wikipedia.org/wiki/Euclidean_algorithm), and then [Euclid's Extended Algorithm (EEA)](https://en.wikipedia.org/wiki/Extended_Euclidean_algorithm) we should review the basic concepts of prime versus composite positive integers.\n",
    "\n",
    "### Primes vs Composites\n",
    "\n",
    "Primes have no divisors.  Trying to divide them by another integer always leaves some remainder.\n",
    "\n",
    "Composities are products of prime factors and comprise the rest of the positive integers.  \n",
    "\n",
    "All integers are either composite or prime.  \n",
    "\n",
    "Telling which is which is not always easy, because huge composites with only two prime factors may look just like primes, and finding these factors can be extremely difficult.  \n",
    "\n",
    "In fact, RSA depends on factoring large composites being next to impossible, if they're large enough."
   ]
  },
  {
   "cell_type": "markdown",
   "id": "61a6b068",
   "metadata": {},
   "source": [
    "### Modulo Arithmetic in Python\n",
    "\n",
    "When we talk about factoring numbers, that gets us thinking about remainders, like if there is one.  We say m divides n \"evenly\" not because m goes into n an even number of times (which may be true too) but because there's no remainder.  m divides n with nothing left over.  That makes m a factor of n."
   ]
  },
  {
   "cell_type": "code",
   "execution_count": 12,
   "id": "64613e53",
   "metadata": {},
   "outputs": [
    {
     "data": {
      "text/plain": [
       "0"
      ]
     },
     "execution_count": 12,
     "metadata": {},
     "output_type": "execute_result"
    }
   ],
   "source": [
    "12 % 3  # no remainder, 3 divides 12 evenly"
   ]
  },
  {
   "cell_type": "code",
   "execution_count": 14,
   "id": "cd4b2289",
   "metadata": {},
   "outputs": [
    {
     "data": {
      "text/plain": [
       "5"
      ]
     },
     "execution_count": 14,
     "metadata": {},
     "output_type": "execute_result"
    }
   ],
   "source": [
    "12 % 7  # yes remainder, 7 is not a factor of 12"
   ]
  },
  {
   "cell_type": "code",
   "execution_count": 16,
   "id": "2aceb1d7",
   "metadata": {},
   "outputs": [
    {
     "data": {
      "text/plain": [
       "(8, 4)"
      ]
     },
     "execution_count": 16,
     "metadata": {},
     "output_type": "execute_result"
    }
   ],
   "source": [
    "divmod(100, 12)"
   ]
  },
  {
   "cell_type": "markdown",
   "id": "b21b9970",
   "metadata": {},
   "source": [
    "12 goes into 100 eight times, leaving a remainder of 4."
   ]
  },
  {
   "cell_type": "code",
   "execution_count": 22,
   "id": "e33c2a8c",
   "metadata": {},
   "outputs": [],
   "source": [
    "def always_true(n, m):\n",
    "    q, r = divmod(n, m)\n",
    "    print(q, r)\n",
    "    return n == q * m + r  # should always be True"
   ]
  },
  {
   "cell_type": "code",
   "execution_count": 23,
   "id": "dd253908",
   "metadata": {},
   "outputs": [
    {
     "name": "stdout",
     "output_type": "stream",
     "text": [
      "38 12\n"
     ]
    },
    {
     "data": {
      "text/plain": [
       "True"
      ]
     },
     "execution_count": 23,
     "metadata": {},
     "output_type": "execute_result"
    }
   ],
   "source": [
    "always_true(28398, 747)  # try a bunch of examples"
   ]
  },
  {
   "cell_type": "markdown",
   "id": "a35c3457",
   "metadata": {},
   "source": [
    "### Prime Numbers"
   ]
  },
  {
   "cell_type": "code",
   "execution_count": 29,
   "id": "a1072daa",
   "metadata": {},
   "outputs": [],
   "source": [
    "import primes  # a package (has __init__.py)"
   ]
  },
  {
   "cell_type": "code",
   "execution_count": 30,
   "id": "19c64c9c",
   "metadata": {},
   "outputs": [
    {
     "data": {
      "text/plain": [
       "['PrimeNumbers',\n",
       " '__builtins__',\n",
       " '__cached__',\n",
       " '__doc__',\n",
       " '__file__',\n",
       " '__loader__',\n",
       " '__name__',\n",
       " '__package__',\n",
       " '__path__',\n",
       " '__spec__',\n",
       " 'all_factors',\n",
       " 'eratosthenes',\n",
       " 'factors',\n",
       " 'isprime',\n",
       " 'primes_gen',\n",
       " 'primesplay']"
      ]
     },
     "execution_count": 30,
     "metadata": {},
     "output_type": "execute_result"
    }
   ],
   "source": [
    "dir(primes)    # not everything is exposed"
   ]
  },
  {
   "cell_type": "code",
   "execution_count": 4,
   "id": "1dc97e19",
   "metadata": {},
   "outputs": [
    {
     "data": {
      "text/plain": [
       "(1, 2, 2, 5, 5)"
      ]
     },
     "execution_count": 4,
     "metadata": {},
     "output_type": "execute_result"
    }
   ],
   "source": [
    "primes.factors(100)"
   ]
  },
  {
   "cell_type": "code",
   "execution_count": 5,
   "id": "3c59a02e",
   "metadata": {},
   "outputs": [
    {
     "data": {
      "text/plain": [
       "[1, 2, 4, 5, 10, 20, 25, 50, 100]"
      ]
     },
     "execution_count": 5,
     "metadata": {},
     "output_type": "execute_result"
    }
   ],
   "source": [
    "primes.all_factors(100)"
   ]
  },
  {
   "cell_type": "code",
   "execution_count": 10,
   "id": "63bce317",
   "metadata": {},
   "outputs": [
    {
     "data": {
      "text/plain": [
       "[2, 3, 5, 7, 11, 13, 17, 19, 23, 29, 31, 37, 41, 43, 47, 53, 59, 61, 67, 71]"
      ]
     },
     "execution_count": 10,
     "metadata": {},
     "output_type": "execute_result"
    }
   ],
   "source": [
    "p = primes.primes_gen.PrimeNumbers()\n",
    "[next(p) for _ in range(20)]"
   ]
  },
  {
   "cell_type": "markdown",
   "id": "1c368a16",
   "metadata": {},
   "source": [
    "### Coprimes (Strangers)\n",
    "\n",
    "Coprimes are not necessarily prime themselves.  Two numbers are coprime if they have no factors in common.  We also call them \"strangers\" in that case.\n",
    "\n",
    "For example 10 and 7 are coprime, but not 27 and 15.  Those two (27 and 15) have the common factor 3.  \n",
    "\n",
    "So that means:  if the greatest common divisor (GCD) of two positive integers is > 1 (greater than 1), then these two integers are *not* coprime.  Otherwise, if their GCD == 1, they are."
   ]
  },
  {
   "cell_type": "code",
   "execution_count": 24,
   "id": "21ae215b",
   "metadata": {},
   "outputs": [],
   "source": [
    "def euclid(a, b):\n",
    "    while a % b:         # when remainder is 0, b is gcd\n",
    "        b, a = a % b, b  # chopping down to 1\n",
    "    return b"
   ]
  },
  {
   "cell_type": "code",
   "execution_count": 25,
   "id": "41ccaa20",
   "metadata": {},
   "outputs": [
    {
     "data": {
      "text/plain": [
       "5"
      ]
     },
     "execution_count": 25,
     "metadata": {},
     "output_type": "execute_result"
    }
   ],
   "source": [
    "euclid(10, 5)"
   ]
  },
  {
   "cell_type": "code",
   "execution_count": 26,
   "id": "74f07d10",
   "metadata": {},
   "outputs": [
    {
     "data": {
      "text/plain": [
       "3"
      ]
     },
     "execution_count": 26,
     "metadata": {},
     "output_type": "execute_result"
    }
   ],
   "source": [
    "euclid(27, 15)"
   ]
  },
  {
   "cell_type": "code",
   "execution_count": 27,
   "id": "9ab707b1",
   "metadata": {},
   "outputs": [
    {
     "data": {
      "text/plain": [
       "1"
      ]
     },
     "execution_count": 27,
     "metadata": {},
     "output_type": "execute_result"
    }
   ],
   "source": [
    "euclid(10, 7)"
   ]
  },
  {
   "cell_type": "markdown",
   "id": "77139256",
   "metadata": {},
   "source": [
    "So 10 and 7 are strangers."
   ]
  },
  {
   "cell_type": "markdown",
   "id": "c3702846",
   "metadata": {},
   "source": [
    "How does Euclid's Method get the job done?\n",
    "\n",
    "If I'm looking for the greatest divisor of a and b, I should first see if a divides b or b divides a, with no remainder.  If $b > a$, then divmod(a, b) is (0, a)."
   ]
  },
  {
   "cell_type": "code",
   "execution_count": 32,
   "id": "cc416542",
   "metadata": {},
   "outputs": [
    {
     "data": {
      "text/plain": [
       "(0, 4)"
      ]
     },
     "execution_count": 32,
     "metadata": {},
     "output_type": "execute_result"
    }
   ],
   "source": [
    "divmod(4, 12)"
   ]
  },
  {
   "cell_type": "markdown",
   "id": "464c3082",
   "metadata": {},
   "source": [
    "This means a and b will swap in the next line:"
   ]
  },
  {
   "cell_type": "code",
   "execution_count": 34,
   "id": "f4d76636",
   "metadata": {},
   "outputs": [
    {
     "name": "stdout",
     "output_type": "stream",
     "text": [
      "4 12\n",
      "12 4\n"
     ]
    }
   ],
   "source": [
    "a=4\n",
    "b=12\n",
    "\n",
    "print(a, b)  # before\n",
    "\n",
    "if a % b:\n",
    "    b, a = a % b, b\n",
    "\n",
    "print(a, b)  # after\n",
    "    "
   ]
  },
  {
   "cell_type": "markdown",
   "id": "b341acdd",
   "metadata": {},
   "source": [
    "Therefore, we don't really care if a > b or b < a at the start.\n",
    "\n",
    "Going forward, whenever there's a remainder, the question becomes \"what divides both this new remainder, and the smaller of the two numbers just compared?\"  \n",
    "\n",
    "In other words, the problem keeps transferring to finding a divisor that works for the smaller size, and the remainder upon dividing into the larger size.  The quantities get smaller and smaller.  \n",
    "\n",
    "Once 1 is reached, as the smaller size b, we're done, as gcd = b = 1 always divides into an integer with no remainder.  Remember, if gcd(a, b) is 1, then a and b are coprime."
   ]
  },
  {
   "cell_type": "markdown",
   "id": "74a0512e",
   "metadata": {},
   "source": [
    "To be continued...\n",
    "\n",
    "* Fermat's Primality Test\n",
    "* Carmichael Numbers\n",
    "* Totatives and Totient\n",
    "* Euler's Theorem\n",
    "* RSA Algorithm"
   ]
  }
 ],
 "metadata": {
  "kernelspec": {
   "display_name": "Python 3",
   "language": "python",
   "name": "python3"
  },
  "language_info": {
   "codemirror_mode": {
    "name": "ipython",
    "version": 3
   },
   "file_extension": ".py",
   "mimetype": "text/x-python",
   "name": "python",
   "nbconvert_exporter": "python",
   "pygments_lexer": "ipython3",
   "version": "3.7.9"
  }
 },
 "nbformat": 4,
 "nbformat_minor": 5
}
