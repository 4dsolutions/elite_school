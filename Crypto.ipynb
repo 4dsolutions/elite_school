{
 "cells": [
  {
   "cell_type": "markdown",
   "id": "ed3b12ed",
   "metadata": {},
   "source": [
    "[Home](Home.ipynb)\n",
    "\n",
    "# Algorithms in Cryptography\n",
    "\n",
    "<a data-flickr-embed=\"true\" href=\"https://www.flickr.com/photos/kirbyurner/30269841575/in/album-72157660337424600/\" title=\"DSCF9928\"><img src=\"https://live.staticflickr.com/5691/30269841575_8bea763a54_w.jpg\" width=\"300\" height=\"400\" alt=\"DSCF9928\"></a><script async src=\"//embedr.flickr.com/assets/client-code.js\" charset=\"utf-8\"></script>\n",
    "\n",
    "\n",
    "Building mathematical knowledge up to where RSA (named for inventors Ron Rivest, Adi Shamir and Leonard Adleman) makes sense, gives you many useful concepts and insights along the way.\n",
    "\n",
    "Not that RSA is by any means the only cryptographic algorithm we care about.  On the contrary, RSA is relatively new and we may build our concepts and insights by exploring the field of cyptography more generally.\n",
    "\n",
    "* [Clubhouse Codes](http://4dsolutions.net/ocn/clubhouse.html) (inspired by [Cryptonomicon](https://www.nealstephenson.com/cryptonomicon.html))\n",
    "* [Crypto Pages](http://4dsolutions.net/ocn/crypto0.html) (more from the Oregon Curriculum Network)\n",
    "\n",
    "We should start with one of the oldest algorithms in history, called Euclid's Algorithm (EA).  Euclid probably got it from some earlier source.  It has applications far beyond cryptography.\n",
    "\n",
    "Python will help us, by expressing this and other  algorithms succinctly.  We'll be able to test them interactively.\n",
    "\n",
    "However, before we get to [Euclid's Algorithm (EA)](https://en.wikipedia.org/wiki/Euclidean_algorithm), and then [Euclid's Extended Algorithm (EEA)](https://en.wikipedia.org/wiki/Extended_Euclidean_algorithm) we should review the basic concepts of prime versus composite positive integers.\n",
    "\n",
    "### Primes vs Composites\n",
    "\n",
    "Primes have no divisors other than themselves, and one.  Trying to divide them by another integer greater than 1 always leaves some remainder.\n",
    "\n",
    "Composities are products of prime factors and comprise the rest of the positive integers.  \n",
    "\n",
    "All positive integers [except 1](https://www.quora.com/Is-1-a-composite-number?share=1) are either composite or prime.  Mathematician J. H. Conway suggested we make -1 a prime, as then negative integers could also be reduced to prime factors.\n",
    "\n",
    "Discovering whether a giant integer is composite or prime is not always easy, because huge composites with only two prime factors may behave just like primes, and finding these factors can be really hard to do.  Absent any factorization, the number might be prime after all, right?\n",
    "\n",
    "In fact, RSA depends on factoring large composites being next to impossible, if they're large enough."
   ]
  },
  {
   "cell_type": "markdown",
   "id": "651949a9",
   "metadata": {},
   "source": [
    "### Modulo Arithmetic in Python\n",
    "\n",
    "When we talk about factoring numbers, that gets us thinking about remainders, like if there is one.  We say m divides n \"evenly\" not because m goes into n an even number of times (which may be true too) but because there's no remainder.  m divides n with nothing left over.  That makes m a factor of n."
   ]
  },
  {
   "cell_type": "code",
   "execution_count": null,
   "id": "6c1976d5",
   "metadata": {},
   "outputs": [],
   "source": [
    "12 % 3  # no remainder, 3 divides 12 evenly"
   ]
  },
  {
   "cell_type": "code",
   "execution_count": null,
   "id": "a7e353fc",
   "metadata": {},
   "outputs": [],
   "source": [
    "12 % 7  # yes remainder, 7 is not a factor of 12"
   ]
  },
  {
   "cell_type": "markdown",
   "id": "89dbb397",
   "metadata": {},
   "source": [
    "The divmod function (built in, no need to import it from anywhere), returns a tuple with two pieces of information:  how many times b went into a, and the remainder after so doing."
   ]
  },
  {
   "cell_type": "code",
   "execution_count": null,
   "id": "24494880",
   "metadata": {},
   "outputs": [],
   "source": [
    "divmod(100, 12)"
   ]
  },
  {
   "cell_type": "markdown",
   "id": "21be2003",
   "metadata": {},
   "source": [
    "12 goes into 100 eight times, leaving a remainder of 4."
   ]
  },
  {
   "cell_type": "markdown",
   "id": "7cc47460",
   "metadata": {},
   "source": [
    "By definition, the 2nd argument $m$ times the first output $q$, plus the 2nd output $r$, should equal the 1st argument $n$ to divmod(n, m).  \n",
    "\n",
    "Think about it for awhile.  We're looking at lots of moving parts.\n",
    "\n",
    "$q$ stands for quotient and $r$ for remainder.  divmod(n, m) returns (n//m, n%m)."
   ]
  },
  {
   "cell_type": "code",
   "execution_count": null,
   "id": "8de45e03",
   "metadata": {},
   "outputs": [],
   "source": [
    "def _divmod(n, m):\n",
    "    return (n//m, n%m)\n",
    "\n",
    "_divmod(28398, 747)"
   ]
  },
  {
   "cell_type": "code",
   "execution_count": null,
   "id": "c1120880",
   "metadata": {},
   "outputs": [],
   "source": [
    "def always_true(n, m):\n",
    "    q, r = divmod(n, m)\n",
    "    print((q, r))\n",
    "    return n == q * m + r  # should always be True"
   ]
  },
  {
   "cell_type": "code",
   "execution_count": null,
   "id": "0166eaa5",
   "metadata": {},
   "outputs": [],
   "source": [
    "always_true(28398, 747)  # try a bunch of examples"
   ]
  },
  {
   "cell_type": "markdown",
   "id": "721224f5",
   "metadata": {},
   "source": [
    "### Prime Numbers"
   ]
  },
  {
   "cell_type": "code",
   "execution_count": null,
   "id": "571cae38",
   "metadata": {},
   "outputs": [],
   "source": [
    "import primes  # a package (has __init__.py)"
   ]
  },
  {
   "cell_type": "code",
   "execution_count": null,
   "id": "70bd57d0",
   "metadata": {},
   "outputs": [],
   "source": [
    "dir(primes)    # not everything is exposed"
   ]
  },
  {
   "cell_type": "code",
   "execution_count": null,
   "id": "a721d414",
   "metadata": {},
   "outputs": [],
   "source": [
    "primes.factors(100)"
   ]
  },
  {
   "cell_type": "code",
   "execution_count": null,
   "id": "e62c9ff2",
   "metadata": {},
   "outputs": [],
   "source": [
    "primes.all_factors(100)"
   ]
  },
  {
   "cell_type": "code",
   "execution_count": null,
   "id": "81562faa",
   "metadata": {},
   "outputs": [],
   "source": [
    "p = primes.primes_gen.PrimeNumbers()\n",
    "[next(p) for _ in range(20)]"
   ]
  },
  {
   "cell_type": "markdown",
   "id": "3f271b00",
   "metadata": {},
   "source": [
    "[Source Code](./primes/primes_gen.py) for the ```PrimeNumbers``` iterator."
   ]
  },
  {
   "cell_type": "markdown",
   "id": "7aeb5119",
   "metadata": {},
   "source": [
    "### Coprimes (Strangers)\n",
    "\n",
    "Coprimes are not necessarily prime themselves.  Two numbers are coprime if they have no factors in common.  We also call them \"strangers\" in that case.\n",
    "\n",
    "For example 10 and 7 are coprime, but not 27 and 15.  Those two (27 and 15) have the common factor 3.  \n",
    "\n",
    "So that means:  if the greatest common divisor (GCD) of two positive integers is > 1 (greater than 1), then these two integers are *not* coprime.  They have some factor in common.  If the greatest number that divides evenly into both of them, is 1, then they're \"strangers\" to one another.\n",
    "\n",
    "Clearly it would be useful to have a sure-fire way to obtain the GCD of any two positive integers."
   ]
  },
  {
   "cell_type": "markdown",
   "id": "2dab1f97",
   "metadata": {},
   "source": [
    "### Greatest Common Divisor (GCD)\n",
    "\n",
    "One way we're taught to find the GCD in school is to get the prime factors of m and n, to find out what factors they have in common.  \n",
    "\n",
    "The product of all in-common factors, including of the same prime more than once, gives the GCD."
   ]
  },
  {
   "cell_type": "code",
   "execution_count": null,
   "id": "d5ef9f33",
   "metadata": {},
   "outputs": [],
   "source": [
    "factors = primes.factors\n",
    "from operator import mul, add\n",
    "from functools import reduce\n",
    "\n",
    "def gcd(a, b):\n",
    "    p_b = list(factors(b))\n",
    "    common_ab = []\n",
    "    for p_a in factors(a):\n",
    "        if p_a in p_b:\n",
    "            common_ab.append(p_a)\n",
    "            p_b.remove(p_a)\n",
    "    return reduce(mul, common_ab)  # product of all primes in common"
   ]
  },
  {
   "cell_type": "markdown",
   "id": "022046c0",
   "metadata": {},
   "source": [
    "One issue with this method, is prime factorization gets to be difficult with larger numbers.  \n",
    "\n",
    "Euclid's Algorithm, introduced below, does not suffer from this deficiency."
   ]
  },
  {
   "cell_type": "code",
   "execution_count": null,
   "id": "55ab726c",
   "metadata": {},
   "outputs": [],
   "source": [
    "def euclid(a, b):\n",
    "    while a % b:         # when remainder is 0, b is gcd\n",
    "        b, a = a % b, b  # chopping down to 1\n",
    "    return b"
   ]
  },
  {
   "cell_type": "code",
   "execution_count": null,
   "id": "d10eecea",
   "metadata": {},
   "outputs": [],
   "source": [
    "euclid(5, 12)"
   ]
  },
  {
   "cell_type": "code",
   "execution_count": null,
   "id": "d6462be2",
   "metadata": {},
   "outputs": [],
   "source": [
    "euclid(27, 15)"
   ]
  },
  {
   "cell_type": "code",
   "execution_count": null,
   "id": "7a0fc7bf",
   "metadata": {},
   "outputs": [],
   "source": [
    "euclid(10, 7)"
   ]
  },
  {
   "cell_type": "markdown",
   "id": "d48c4c5f",
   "metadata": {},
   "source": [
    "So 10 and 7 are strangers."
   ]
  },
  {
   "cell_type": "code",
   "execution_count": null,
   "id": "10e3dcb4",
   "metadata": {},
   "outputs": [],
   "source": [
    "def strangers(a: int, b: int) -> bool:\n",
    "    return euclid(a,b)==1"
   ]
  },
  {
   "cell_type": "code",
   "execution_count": null,
   "id": "9c4deb0d",
   "metadata": {},
   "outputs": [],
   "source": [
    "strangers(10, 7)"
   ]
  },
  {
   "cell_type": "markdown",
   "id": "b2de6ca1",
   "metadata": {},
   "source": [
    "### Totatives\n",
    "\n",
    "Now that we have a working GCD function (or just import it from math), lets define the \"totatives\" of a number n, to be all coprimes < n, including 1 itself.  Remember coprimes to n are not necessarily prime themselves, it's just that they don't divide n evenly or contain any factors that do.\n",
    "\n",
    "A quick way to compute totatives is with a list comprehension."
   ]
  },
  {
   "cell_type": "code",
   "execution_count": null,
   "id": "bbdfb44d",
   "metadata": {},
   "outputs": [],
   "source": [
    "def totatives(n):\n",
    "    return [m for m in range(1, n) if strangers(m, n)]"
   ]
  },
  {
   "cell_type": "code",
   "execution_count": null,
   "id": "f38b3dbb",
   "metadata": {},
   "outputs": [],
   "source": [
    "totatives(12)"
   ]
  },
  {
   "cell_type": "code",
   "execution_count": null,
   "id": "8fa7fd2d",
   "metadata": {},
   "outputs": [],
   "source": [
    "print(totatives(29))"
   ]
  },
  {
   "cell_type": "markdown",
   "id": "e3e12b74",
   "metadata": {},
   "source": [
    "If every positive number < n is coprime to n, then n itself is a prime number."
   ]
  },
  {
   "cell_type": "markdown",
   "id": "0e179fb5",
   "metadata": {},
   "source": [
    "### Totient\n",
    "\n",
    "The totient of n is the number of totatives of n.  This concept will come in handy when we look at Euler's Theorem, a generalization of Fermat's Little Theorem.\n",
    "\n",
    "Since we have a function for totatives already, counting them will give us the info."
   ]
  },
  {
   "cell_type": "code",
   "execution_count": null,
   "id": "d2150ca4",
   "metadata": {},
   "outputs": [],
   "source": [
    "def totient(n):\n",
    "    return len(totatives(n))"
   ]
  },
  {
   "cell_type": "code",
   "execution_count": null,
   "id": "2a9c064c",
   "metadata": {},
   "outputs": [],
   "source": [
    "totient(12)"
   ]
  },
  {
   "cell_type": "code",
   "execution_count": null,
   "id": "e322a28f",
   "metadata": {},
   "outputs": [],
   "source": [
    "totient(100)"
   ]
  },
  {
   "cell_type": "markdown",
   "id": "a4942646",
   "metadata": {},
   "source": [
    "Euler sometimes used the lowercase Greek letter $\\phi$ for totient.  We might provide that as a synonym:"
   ]
  },
  {
   "cell_type": "code",
   "execution_count": null,
   "id": "177946c5",
   "metadata": {},
   "outputs": [],
   "source": [
    "𝜙 = totient\n",
    "𝜙(12)"
   ]
  },
  {
   "cell_type": "markdown",
   "id": "d04e5572",
   "metadata": {},
   "source": [
    "### GCD (continued)\n",
    "\n",
    "GCD and LCD are often used, especially when simplifying fractions.  To get the fraction $(m/n)$ in lowest terms, one divides both $m$ and $n$ by gcd(m,n).  \n",
    "\n",
    "Clearly gcd is a workhorse at the core of our numeric computations.\n",
    "\n",
    "How does Euclid's Method get the job done?\n",
    "\n",
    "Let's break it down, step by step.\n",
    "\n",
    "If I'm looking for the greatest divisor of a and b, I should first see if a divides b or b divides a, with no remainder.  If $b > a$, then divmod(a, b) is (0, a)."
   ]
  },
  {
   "cell_type": "code",
   "execution_count": null,
   "id": "fe94c099",
   "metadata": {},
   "outputs": [],
   "source": [
    "divmod(4, 12)"
   ]
  },
  {
   "cell_type": "markdown",
   "id": "476f21c5",
   "metadata": {},
   "source": [
    "This means a and b will swap in the next line:"
   ]
  },
  {
   "cell_type": "code",
   "execution_count": null,
   "id": "b890a7d8",
   "metadata": {},
   "outputs": [],
   "source": [
    "a=4\n",
    "b=12\n",
    "\n",
    "print(a, b)  # before\n",
    "\n",
    "if a % b:\n",
    "    b, a = a % b, b\n",
    "\n",
    "print(a, b)  # after\n",
    "    "
   ]
  },
  {
   "cell_type": "markdown",
   "id": "59db2851",
   "metadata": {},
   "source": [
    "Therefore, we don't really care if a > b or b < a at the start.\n",
    "\n",
    "Going forward, whenever there's a remainder, the question becomes \"what divides both this new remainder, and the smaller of the two numbers just compared?\"  \n",
    "\n",
    "In other words, the problem keeps transferring to finding a divisor that works for the smaller size, and the remainder upon dividing into the larger size.  The quantities get smaller and smaller.  \n",
    "\n",
    "Once 1 is reached, as the smaller size b, we're done, as gcd = b = 1 always divides into an integer with no remainder.  Remember, if gcd(a, b) is 1, then a and b are coprime."
   ]
  },
  {
   "cell_type": "markdown",
   "id": "b5c5ca27",
   "metadata": {},
   "source": [
    "### LCD\n",
    "\n",
    "We may define the lowest common divisor ```lcd(a, b)``` as ```(a * b)/gcd(a, b)``` i.e. their product, after canceling all factors in common.\n",
    "\n",
    "The LCD is the smallest number both $a$ and $b$ will divide into, evenly (without remainder)."
   ]
  },
  {
   "cell_type": "code",
   "execution_count": null,
   "id": "1869a85e",
   "metadata": {},
   "outputs": [],
   "source": [
    "gcd = euclid  # make a synonym\n",
    "\n",
    "def lcd(a, b):\n",
    "    return (a * b)//gcd(a, b)"
   ]
  },
  {
   "cell_type": "code",
   "execution_count": null,
   "id": "f036ff02",
   "metadata": {},
   "outputs": [],
   "source": [
    "lcd(679, 301)\n",
    "\n",
    "29197//301, 2917//679"
   ]
  },
  {
   "cell_type": "markdown",
   "id": "29e8d58e",
   "metadata": {},
   "source": [
    "### Python's reduce function\n",
    "\n",
    "Suppose we want to find the greatest common divisor of a whole long list of numbers?  Ditto LCD.  The idea makes sense.  We can use the ```reduce``` function in functools. \n",
    "\n",
    "\n",
    "```reduce``` eats the first two arguments, gets a result, eats the next argument to combine with the earlier result, and so on, a cumulative strategy.  Think of adding and/or multiplying a whole list of numbers together."
   ]
  },
  {
   "cell_type": "code",
   "execution_count": null,
   "id": "4613518d",
   "metadata": {},
   "outputs": [],
   "source": [
    "? reduce"
   ]
  },
  {
   "cell_type": "code",
   "execution_count": null,
   "id": "d87a39e0",
   "metadata": {},
   "outputs": [],
   "source": [
    "reduce(add, [1,2,3,4]) # sum(sum(sum(0, 1), 2), 3)..."
   ]
  },
  {
   "cell_type": "code",
   "execution_count": null,
   "id": "63516362",
   "metadata": {},
   "outputs": [],
   "source": [
    "reduce(mul, range(1, 10)) # factorial 9!"
   ]
  },
  {
   "cell_type": "code",
   "execution_count": null,
   "id": "2f26fc16",
   "metadata": {},
   "outputs": [],
   "source": [
    "import math\n",
    "from math import factorial\n",
    "\n",
    "factorial(9)"
   ]
  },
  {
   "cell_type": "code",
   "execution_count": null,
   "id": "309c916d",
   "metadata": {},
   "outputs": [],
   "source": [
    "reduce(gcd, [25, 27, 32, 17])"
   ]
  },
  {
   "cell_type": "code",
   "execution_count": null,
   "id": "6444127b",
   "metadata": {},
   "outputs": [],
   "source": [
    "reduce(lcd, [25, 27, 32, 17])"
   ]
  },
  {
   "cell_type": "markdown",
   "id": "2fcc0752",
   "metadata": {},
   "source": [
    "### AKS Primality Test\n",
    "\n",
    "This topic is introduced in the [Pascal's Triangle Notebook](PascalsTriangle.ipynb) as well as in the [Sympy Notebook](CAS_Python.ipynb).  \n",
    "\n",
    "We're revisiting it here as an application for ```reduce``` along with ```gcd```.\n",
    "\n",
    "Lets define a function to give the nth row of Pascal's Triangle.  \n",
    "\n",
    "The [Binomial Theorem](https://www.mathsisfun.com/algebra/binomial-theorem.html) gives use an expression we can use.  Our goal is to introduce a new primality test, called AKS."
   ]
  },
  {
   "cell_type": "code",
   "execution_count": null,
   "id": "477d447e",
   "metadata": {},
   "outputs": [],
   "source": [
    "import sys\n",
    "sys.version[:3]"
   ]
  },
  {
   "cell_type": "code",
   "execution_count": null,
   "id": "cb24fa89",
   "metadata": {},
   "outputs": [],
   "source": [
    "from math import gcd as euclid\n",
    "\n",
    "try:\n",
    "    from math import binom # included in Python 3.8 up\n",
    "except:  \n",
    "    def binom(n, k):\n",
    "        return math.factorial(n) // math.factorial(k) // math.factorial(n - k)"
   ]
  },
  {
   "cell_type": "code",
   "execution_count": null,
   "id": "3ec24e03",
   "metadata": {},
   "outputs": [],
   "source": [
    "p = 19\n",
    "coeffs = [binom(p, k) for k in range(0,p+1)]\n",
    "coeffs"
   ]
  },
  {
   "cell_type": "markdown",
   "id": "71c64e77",
   "metadata": {},
   "source": [
    "Note the symmetry here.  With an odd number as input, two terms always repeat at the center.  For our AKS test, we don't need to test any coefficient but once.  The theorem behind AKS states that only a prime will be a divisor of every coefficient in the the corresponding row of Pascal's Triangle."
   ]
  },
  {
   "cell_type": "code",
   "execution_count": null,
   "id": "4900e953",
   "metadata": {},
   "outputs": [],
   "source": [
    "coeffs[1:p//2 + 1]  # just left side, keeping coefficient p"
   ]
  },
  {
   "cell_type": "code",
   "execution_count": null,
   "id": "9ade3f50",
   "metadata": {},
   "outputs": [],
   "source": [
    "reduce(euclid, coeffs[1:p//2 + 1])"
   ]
  },
  {
   "cell_type": "markdown",
   "id": "a0c15027",
   "metadata": {},
   "source": [
    "If the gcd is p itself, then we know p is a divisor of all the coefficients in question, and therefore p is prime."
   ]
  },
  {
   "cell_type": "markdown",
   "id": "80033dd7",
   "metadata": {},
   "source": [
    "See the [Youtube Gallery](YoutubeGallery.ipynb#Number_Theory) for a video on this recently discovered Primality Test."
   ]
  },
  {
   "cell_type": "code",
   "execution_count": null,
   "id": "76d9a7d6",
   "metadata": {},
   "outputs": [],
   "source": [
    "def aks_test(c):\n",
    "    \"\"\"\n",
    "    p divides evenly into the coefficients of the pth\n",
    "    row of Pascal's Triangle, if and only if p is prime\n",
    "    \"\"\"\n",
    "    coeffs = [binom(c, k) for k in range(1, c//2 + 1)]\n",
    "    return c == reduce(euclid, coeffs)  # gcd is the candidate prime?\n",
    "\n",
    "aks_test(11)"
   ]
  },
  {
   "cell_type": "code",
   "execution_count": null,
   "id": "c861eb2e",
   "metadata": {},
   "outputs": [],
   "source": [
    "aks_test(17)"
   ]
  },
  {
   "cell_type": "code",
   "execution_count": null,
   "id": "5e0ac7b7",
   "metadata": {},
   "outputs": [],
   "source": [
    "print(list(filter(aks_test, [2, *range(3, 200, 2)])))"
   ]
  },
  {
   "cell_type": "markdown",
   "id": "40ca50a1",
   "metadata": {},
   "source": [
    "To be continued...\n",
    "\n",
    "* EEA\n",
    "* [Fermat's Little Theorem](Fermat.ipynb#Fermat's-Little-Theorem)\n",
    "* [Fermat's Primality Test](Fermat.ipynb#Fermat's-Primality-Test)\n",
    "* [Fermat Pseudo Primes](Fermat.ipynb#Carmichael-Numbers)\n",
    "* Euler's Theorem\n",
    "* RSA Algorithm"
   ]
  }
 ],
 "metadata": {
  "kernelspec": {
   "display_name": "Python 3",
   "language": "python",
   "name": "python3"
  },
  "language_info": {
   "codemirror_mode": {
    "name": "ipython",
    "version": 3
   },
   "file_extension": ".py",
   "mimetype": "text/x-python",
   "name": "python",
   "nbconvert_exporter": "python",
   "pygments_lexer": "ipython3",
   "version": "3.7.9"
  }
 },
 "nbformat": 4,
 "nbformat_minor": 5
}
