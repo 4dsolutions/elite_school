{
 "cells": [
  {
   "cell_type": "markdown",
   "id": "8879f4c5",
   "metadata": {},
   "source": [
    "[Home](Home.ipynb)\n",
    "\n",
    "# Algorithms in Cryptography\n",
    "\n",
    "<a data-flickr-embed=\"true\" href=\"https://www.flickr.com/photos/kirbyurner/30269841575/in/album-72157660337424600/\" title=\"DSCF9928\"><img src=\"https://live.staticflickr.com/5691/30269841575_8bea763a54_w.jpg\" width=\"300\" height=\"400\" alt=\"DSCF9928\"></a><script async src=\"//embedr.flickr.com/assets/client-code.js\" charset=\"utf-8\"></script>\n",
    "\n",
    "\n",
    "Building mathematical knowledge up to where RSA (named for inventors Ron Rivest, Adi Shamir and Leonard Adleman) makes sense, gives you many useful concepts and insights along the way.\n",
    "\n",
    "For example, we should start with one of the oldest algorithms in history, called Euclid's Method.  Euclid probably got it from some earlier source.\n",
    "\n",
    "Python will help us, by expressing these algorithms succinctly.  We'll be able to test them interactively.\n",
    "\n",
    "However, before we get to [Euclid's Algorithm (EA)](https://en.wikipedia.org/wiki/Euclidean_algorithm), and then [Euclid's Extended Algorithm (EEA)](https://en.wikipedia.org/wiki/Extended_Euclidean_algorithm) we should review the basic concepts of prime versus composite positive integers.\n",
    "\n",
    "### Primes vs Composites\n",
    "\n",
    "Primes have no divisors other than themselves, and one.  Trying to divide them by another integer greater than 1 always leaves some remainder.\n",
    "\n",
    "Composities are products of prime factors and comprise the rest of the positive integers.  \n",
    "\n",
    "All positive integers except 1 are either composite or prime.  Mathematician J. H. Conway suggested we make -1 a prime, as then negative integers could also be reduced to prime factors.\n",
    "\n",
    "Telling which is which is not always easy, because huge composites with only two prime factors may look just like primes, and finding these factors can be extremely difficult.  \n",
    "\n",
    "In fact, RSA depends on factoring large composites being next to impossible, if they're large enough."
   ]
  },
  {
   "cell_type": "markdown",
   "id": "e2838fef",
   "metadata": {},
   "source": [
    "### Modulo Arithmetic in Python\n",
    "\n",
    "When we talk about factoring numbers, that gets us thinking about remainders, like if there is one.  We say m divides n \"evenly\" not because m goes into n an even number of times (which may be true too) but because there's no remainder.  m divides n with nothing left over.  That makes m a factor of n."
   ]
  },
  {
   "cell_type": "code",
   "execution_count": 1,
   "id": "a4b073f5",
   "metadata": {},
   "outputs": [
    {
     "data": {
      "text/plain": [
       "0"
      ]
     },
     "execution_count": 1,
     "metadata": {},
     "output_type": "execute_result"
    }
   ],
   "source": [
    "12 % 3  # no remainder, 3 divides 12 evenly"
   ]
  },
  {
   "cell_type": "code",
   "execution_count": 2,
   "id": "7047b52d",
   "metadata": {},
   "outputs": [
    {
     "data": {
      "text/plain": [
       "5"
      ]
     },
     "execution_count": 2,
     "metadata": {},
     "output_type": "execute_result"
    }
   ],
   "source": [
    "12 % 7  # yes remainder, 7 is not a factor of 12"
   ]
  },
  {
   "cell_type": "code",
   "execution_count": 3,
   "id": "0643d296",
   "metadata": {},
   "outputs": [
    {
     "data": {
      "text/plain": [
       "(8, 4)"
      ]
     },
     "execution_count": 3,
     "metadata": {},
     "output_type": "execute_result"
    }
   ],
   "source": [
    "divmod(100, 12)"
   ]
  },
  {
   "cell_type": "markdown",
   "id": "02240eb5",
   "metadata": {},
   "source": [
    "12 goes into 100 eight times, leaving a remainder of 4."
   ]
  },
  {
   "cell_type": "code",
   "execution_count": 4,
   "id": "7731368f",
   "metadata": {},
   "outputs": [],
   "source": [
    "def always_true(n, m):\n",
    "    q, r = divmod(n, m)\n",
    "    print(q, r)\n",
    "    return n == q * m + r  # should always be True"
   ]
  },
  {
   "cell_type": "code",
   "execution_count": 5,
   "id": "21fb22c0",
   "metadata": {},
   "outputs": [
    {
     "name": "stdout",
     "output_type": "stream",
     "text": [
      "38 12\n"
     ]
    },
    {
     "data": {
      "text/plain": [
       "True"
      ]
     },
     "execution_count": 5,
     "metadata": {},
     "output_type": "execute_result"
    }
   ],
   "source": [
    "always_true(28398, 747)  # try a bunch of examples"
   ]
  },
  {
   "cell_type": "markdown",
   "id": "16adea1f",
   "metadata": {},
   "source": [
    "### Prime Numbers"
   ]
  },
  {
   "cell_type": "code",
   "execution_count": 6,
   "id": "60c5a438",
   "metadata": {},
   "outputs": [],
   "source": [
    "import primes  # a package (has __init__.py)"
   ]
  },
  {
   "cell_type": "code",
   "execution_count": 7,
   "id": "5f3cd8f2",
   "metadata": {},
   "outputs": [
    {
     "data": {
      "text/plain": [
       "['PrimeNumbers',\n",
       " '__builtins__',\n",
       " '__cached__',\n",
       " '__doc__',\n",
       " '__file__',\n",
       " '__loader__',\n",
       " '__name__',\n",
       " '__package__',\n",
       " '__path__',\n",
       " '__spec__',\n",
       " 'all_factors',\n",
       " 'eratosthenes',\n",
       " 'factors',\n",
       " 'isprime',\n",
       " 'primes_gen',\n",
       " 'primesplay']"
      ]
     },
     "execution_count": 7,
     "metadata": {},
     "output_type": "execute_result"
    }
   ],
   "source": [
    "dir(primes)    # not everything is exposed"
   ]
  },
  {
   "cell_type": "code",
   "execution_count": 8,
   "id": "517417ad",
   "metadata": {},
   "outputs": [
    {
     "data": {
      "text/plain": [
       "(1, 2, 2, 5, 5)"
      ]
     },
     "execution_count": 8,
     "metadata": {},
     "output_type": "execute_result"
    }
   ],
   "source": [
    "primes.factors(100)"
   ]
  },
  {
   "cell_type": "code",
   "execution_count": 9,
   "id": "d75fe23b",
   "metadata": {},
   "outputs": [
    {
     "data": {
      "text/plain": [
       "[1, 2, 4, 5, 10, 20, 25, 50, 100]"
      ]
     },
     "execution_count": 9,
     "metadata": {},
     "output_type": "execute_result"
    }
   ],
   "source": [
    "primes.all_factors(100)"
   ]
  },
  {
   "cell_type": "code",
   "execution_count": 10,
   "id": "cb3c0cf9",
   "metadata": {},
   "outputs": [
    {
     "data": {
      "text/plain": [
       "[2, 3, 5, 7, 11, 13, 17, 19, 23, 29, 31, 37, 41, 43, 47, 53, 59, 61, 67, 71]"
      ]
     },
     "execution_count": 10,
     "metadata": {},
     "output_type": "execute_result"
    }
   ],
   "source": [
    "p = primes.primes_gen.PrimeNumbers()\n",
    "[next(p) for _ in range(20)]"
   ]
  },
  {
   "cell_type": "markdown",
   "id": "ecf7b639",
   "metadata": {},
   "source": [
    "### Coprimes (Strangers)\n",
    "\n",
    "Coprimes are not necessarily prime themselves.  Two numbers are coprime if they have no factors in common.  We also call them \"strangers\" in that case.\n",
    "\n",
    "For example 10 and 7 are coprime, but not 27 and 15.  Those two (27 and 15) have the common factor 3.  \n",
    "\n",
    "So that means:  if the greatest common divisor (GCD) of two positive integers is > 1 (greater than 1), then these two integers are *not* coprime.  Otherwise, if their GCD == 1, they are."
   ]
  },
  {
   "cell_type": "markdown",
   "id": "df626b34",
   "metadata": {},
   "source": [
    "### Greatest Common Divisor (GCD)\n",
    "\n",
    "GCD and LCD are often used, especially when simplifying fractions.  To get the fraction $(m/n)$ in lowest terms, one divides both $m$ and $n$ by gcd(m,n).\n",
    "\n",
    "One way we're taught to find the GCD in school is to get the prime factors of m and n, to find out what factors they have in common.  The product of all in-common factors, including of the same prime more than once, gives the GCD."
   ]
  },
  {
   "cell_type": "code",
   "execution_count": 11,
   "id": "39543b6b",
   "metadata": {},
   "outputs": [],
   "source": [
    "factors = primes.factors\n",
    "from operator import mul, add\n",
    "from functools import reduce\n",
    "\n",
    "def gcd(a, b):\n",
    "    p_b = list(factors(b))\n",
    "    common_ab = []\n",
    "    for p_a in factors(a):\n",
    "        if p_a in p_b:\n",
    "            common_ab.append(p_a)\n",
    "            p_b.remove(p_a)\n",
    "    return reduce(mul, common_ab)  # product of all primes in common"
   ]
  },
  {
   "cell_type": "code",
   "execution_count": 12,
   "id": "74569fc0",
   "metadata": {},
   "outputs": [
    {
     "data": {
      "text/plain": [
       "1"
      ]
     },
     "execution_count": 12,
     "metadata": {},
     "output_type": "execute_result"
    }
   ],
   "source": [
    "gcd(19, 7)"
   ]
  },
  {
   "cell_type": "markdown",
   "id": "d8fd66a4",
   "metadata": {},
   "source": [
    "One issue with this method, is prime factorization gets to be difficult with larger numbers.  Euclid's Algorithm does not suffer from this deficiency."
   ]
  },
  {
   "cell_type": "code",
   "execution_count": 13,
   "id": "ca8fb1e5",
   "metadata": {},
   "outputs": [],
   "source": [
    "def euclid(a, b):\n",
    "    while a % b:         # when remainder is 0, b is gcd\n",
    "        b, a = a % b, b  # chopping down to 1\n",
    "    return b"
   ]
  },
  {
   "cell_type": "code",
   "execution_count": 14,
   "id": "c0643e54",
   "metadata": {},
   "outputs": [
    {
     "data": {
      "text/plain": [
       "5"
      ]
     },
     "execution_count": 14,
     "metadata": {},
     "output_type": "execute_result"
    }
   ],
   "source": [
    "euclid(10, 5)"
   ]
  },
  {
   "cell_type": "code",
   "execution_count": 15,
   "id": "fbd036d0",
   "metadata": {},
   "outputs": [
    {
     "data": {
      "text/plain": [
       "3"
      ]
     },
     "execution_count": 15,
     "metadata": {},
     "output_type": "execute_result"
    }
   ],
   "source": [
    "euclid(27, 15)"
   ]
  },
  {
   "cell_type": "code",
   "execution_count": 16,
   "id": "86688abf",
   "metadata": {},
   "outputs": [
    {
     "data": {
      "text/plain": [
       "1"
      ]
     },
     "execution_count": 16,
     "metadata": {},
     "output_type": "execute_result"
    }
   ],
   "source": [
    "euclid(10, 7)"
   ]
  },
  {
   "cell_type": "markdown",
   "id": "2d910832",
   "metadata": {},
   "source": [
    "So 10 and 7 are strangers."
   ]
  },
  {
   "cell_type": "markdown",
   "id": "ef58cf2b",
   "metadata": {},
   "source": [
    "How does Euclid's Method get the job done?\n",
    "\n",
    "If I'm looking for the greatest divisor of a and b, I should first see if a divides b or b divides a, with no remainder.  If $b > a$, then divmod(a, b) is (0, a)."
   ]
  },
  {
   "cell_type": "code",
   "execution_count": 17,
   "id": "67c3c174",
   "metadata": {},
   "outputs": [
    {
     "data": {
      "text/plain": [
       "(0, 4)"
      ]
     },
     "execution_count": 17,
     "metadata": {},
     "output_type": "execute_result"
    }
   ],
   "source": [
    "divmod(4, 12)"
   ]
  },
  {
   "cell_type": "markdown",
   "id": "dfc076a5",
   "metadata": {},
   "source": [
    "This means a and b will swap in the next line:"
   ]
  },
  {
   "cell_type": "code",
   "execution_count": 18,
   "id": "c4ca835e",
   "metadata": {},
   "outputs": [
    {
     "name": "stdout",
     "output_type": "stream",
     "text": [
      "4 12\n",
      "12 4\n"
     ]
    }
   ],
   "source": [
    "a=4\n",
    "b=12\n",
    "\n",
    "print(a, b)  # before\n",
    "\n",
    "if a % b:\n",
    "    b, a = a % b, b\n",
    "\n",
    "print(a, b)  # after\n",
    "    "
   ]
  },
  {
   "cell_type": "markdown",
   "id": "ead173d1",
   "metadata": {},
   "source": [
    "Therefore, we don't really care if a > b or b < a at the start.\n",
    "\n",
    "Going forward, whenever there's a remainder, the question becomes \"what divides both this new remainder, and the smaller of the two numbers just compared?\"  \n",
    "\n",
    "In other words, the problem keeps transferring to finding a divisor that works for the smaller size, and the remainder upon dividing into the larger size.  The quantities get smaller and smaller.  \n",
    "\n",
    "Once 1 is reached, as the smaller size b, we're done, as gcd = b = 1 always divides into an integer with no remainder.  Remember, if gcd(a, b) is 1, then a and b are coprime."
   ]
  },
  {
   "cell_type": "markdown",
   "id": "9f6d83f8",
   "metadata": {},
   "source": [
    "### LCD\n",
    "\n",
    "We may define the lowest common divisor lcd(a, b) as (a * b)/gcd(a, b) i.e. their product, after canceling all factors in common.\n",
    "\n",
    "The LCD is the smallest number both $a$ and $b$ will divide into, evenly (without remainder)."
   ]
  },
  {
   "cell_type": "code",
   "execution_count": 19,
   "id": "4b360be7",
   "metadata": {},
   "outputs": [],
   "source": [
    "gcd = euclid  # make a synonym\n",
    "\n",
    "def lcd(a, b):\n",
    "    return (a * b)//gcd(a, b)"
   ]
  },
  {
   "cell_type": "code",
   "execution_count": 20,
   "id": "0d304177",
   "metadata": {},
   "outputs": [
    {
     "data": {
      "text/plain": [
       "24"
      ]
     },
     "execution_count": 20,
     "metadata": {},
     "output_type": "execute_result"
    }
   ],
   "source": [
    "lcd(12, 8)"
   ]
  },
  {
   "cell_type": "markdown",
   "id": "1f03de8c",
   "metadata": {},
   "source": [
    "Suppose we want to find the greatest common divisor of a whole long list of numbers?  Ditto LCD.  The idea makes sense.  We can use the reduce function in functools.  \n",
    "\n",
    "reduce eats the first two arguments, gets a result, eats the next argument to combine with that cumulative result, and so on."
   ]
  },
  {
   "cell_type": "code",
   "execution_count": 21,
   "id": "418daf00",
   "metadata": {},
   "outputs": [],
   "source": [
    "import math\n",
    "from math import factorial"
   ]
  },
  {
   "cell_type": "code",
   "execution_count": 22,
   "id": "f5c8b6c8",
   "metadata": {},
   "outputs": [
    {
     "data": {
      "text/plain": [
       "\u001b[0;31mDocstring:\u001b[0m\n",
       "reduce(function, sequence[, initial]) -> value\n",
       "\n",
       "Apply a function of two arguments cumulatively to the items of a sequence,\n",
       "from left to right, so as to reduce the sequence to a single value.\n",
       "For example, reduce(lambda x, y: x+y, [1, 2, 3, 4, 5]) calculates\n",
       "((((1+2)+3)+4)+5).  If initial is present, it is placed before the items\n",
       "of the sequence in the calculation, and serves as a default when the\n",
       "sequence is empty.\n",
       "\u001b[0;31mType:\u001b[0m      builtin_function_or_method\n"
      ]
     },
     "metadata": {},
     "output_type": "display_data"
    }
   ],
   "source": [
    "? reduce"
   ]
  },
  {
   "cell_type": "code",
   "execution_count": 23,
   "id": "ab3020b3",
   "metadata": {},
   "outputs": [
    {
     "data": {
      "text/plain": [
       "10"
      ]
     },
     "execution_count": 23,
     "metadata": {},
     "output_type": "execute_result"
    }
   ],
   "source": [
    "reduce(add, [1,2,3,4]) # sum(sum(sum(0, 1), 2), 3)..."
   ]
  },
  {
   "cell_type": "code",
   "execution_count": 24,
   "id": "f11bcd97",
   "metadata": {},
   "outputs": [
    {
     "data": {
      "text/plain": [
       "362880"
      ]
     },
     "execution_count": 24,
     "metadata": {},
     "output_type": "execute_result"
    }
   ],
   "source": [
    "reduce(mul, range(1, 10)) # factorial 9!"
   ]
  },
  {
   "cell_type": "code",
   "execution_count": 25,
   "id": "632ce7d4",
   "metadata": {},
   "outputs": [
    {
     "data": {
      "text/plain": [
       "362880"
      ]
     },
     "execution_count": 25,
     "metadata": {},
     "output_type": "execute_result"
    }
   ],
   "source": [
    "factorial(9)"
   ]
  },
  {
   "cell_type": "code",
   "execution_count": 26,
   "id": "2c7a0b1d",
   "metadata": {},
   "outputs": [
    {
     "data": {
      "text/plain": [
       "1"
      ]
     },
     "execution_count": 26,
     "metadata": {},
     "output_type": "execute_result"
    }
   ],
   "source": [
    "reduce(gcd, [25, 27, 32, 17])"
   ]
  },
  {
   "cell_type": "code",
   "execution_count": 27,
   "id": "24ae8e96",
   "metadata": {},
   "outputs": [
    {
     "data": {
      "text/plain": [
       "367200"
      ]
     },
     "execution_count": 27,
     "metadata": {},
     "output_type": "execute_result"
    }
   ],
   "source": [
    "reduce(lcd, [25, 27, 32, 17])"
   ]
  },
  {
   "cell_type": "markdown",
   "id": "4d1a3eb0",
   "metadata": {},
   "source": [
    "Next, lets define a function to give the nth row of Pascal's Triangle.  The [Binomial Theorem](https://www.mathsisfun.com/algebra/binomial-theorem.html) gives use an expression we can use.  Our goal is to introduce a new primality test, called AKS."
   ]
  },
  {
   "cell_type": "code",
   "execution_count": 28,
   "id": "c4ac3446",
   "metadata": {},
   "outputs": [
    {
     "data": {
      "text/plain": [
       "'3.7'"
      ]
     },
     "execution_count": 28,
     "metadata": {},
     "output_type": "execute_result"
    }
   ],
   "source": [
    "import sys\n",
    "sys.version[:3]"
   ]
  },
  {
   "cell_type": "code",
   "execution_count": 29,
   "id": "76fd0fe7",
   "metadata": {},
   "outputs": [],
   "source": [
    "if sys.version[:3] > '3.7':\n",
    "    from math import binom # included in Python 3.8 up\n",
    "else:  \n",
    "    def binom(n, k):\n",
    "        return math.factorial(n) // math.factorial(k) // math.factorial(n - k)"
   ]
  },
  {
   "cell_type": "code",
   "execution_count": 30,
   "id": "93dce9a7",
   "metadata": {},
   "outputs": [
    {
     "data": {
      "text/plain": [
       "[1,\n",
       " 19,\n",
       " 171,\n",
       " 969,\n",
       " 3876,\n",
       " 11628,\n",
       " 27132,\n",
       " 50388,\n",
       " 75582,\n",
       " 92378,\n",
       " 92378,\n",
       " 75582,\n",
       " 50388,\n",
       " 27132,\n",
       " 11628,\n",
       " 3876,\n",
       " 969,\n",
       " 171,\n",
       " 19,\n",
       " 1]"
      ]
     },
     "execution_count": 30,
     "metadata": {},
     "output_type": "execute_result"
    }
   ],
   "source": [
    "p = 19\n",
    "coeffs = [binom(p, k) for k in range(0,p+1)]\n",
    "coeffs"
   ]
  },
  {
   "cell_type": "markdown",
   "id": "11ee38b7",
   "metadata": {},
   "source": [
    "Note the symmetry here.  With an odd number as input, two terms always repeat at the center.  For our AKS test, we don't need to test any coefficient but once.  The theorem behind AKS states that only a prime will be a divisor of every coefficient in the the corresponding row of Pascal's Triangle."
   ]
  },
  {
   "cell_type": "code",
   "execution_count": 31,
   "id": "95b3fee9",
   "metadata": {},
   "outputs": [
    {
     "data": {
      "text/plain": [
       "[19, 171, 969, 3876, 11628, 27132, 50388, 75582, 92378]"
      ]
     },
     "execution_count": 31,
     "metadata": {},
     "output_type": "execute_result"
    }
   ],
   "source": [
    "coeffs[1:p//2 + 1]  # just left side, keeping coefficient p"
   ]
  },
  {
   "cell_type": "code",
   "execution_count": 32,
   "id": "6c02573b",
   "metadata": {},
   "outputs": [
    {
     "data": {
      "text/plain": [
       "19"
      ]
     },
     "execution_count": 32,
     "metadata": {},
     "output_type": "execute_result"
    }
   ],
   "source": [
    "reduce(euclid, coeffs[1:p//2 + 1])"
   ]
  },
  {
   "cell_type": "markdown",
   "id": "1d1065b5",
   "metadata": {},
   "source": [
    "If the gcd is p itself, then we know p is a divisor of all the coefficients in question, and therefore p is prime."
   ]
  },
  {
   "cell_type": "markdown",
   "id": "6eadb4e7",
   "metadata": {},
   "source": [
    "See the [Youtube Gallery](YoutubeGallery.ipynb#Number_Theory) for a video on this recently discovered Primality Test."
   ]
  },
  {
   "cell_type": "code",
   "execution_count": 33,
   "id": "fd3aea7d",
   "metadata": {},
   "outputs": [
    {
     "data": {
      "text/plain": [
       "True"
      ]
     },
     "execution_count": 33,
     "metadata": {},
     "output_type": "execute_result"
    }
   ],
   "source": [
    "def aks_test(c):\n",
    "    \"\"\"\n",
    "    p divides evenly into the coefficients of the pth\n",
    "    row of Pascal's Triangle, if and only if p is prime\n",
    "    \"\"\"\n",
    "    coeffs = [binom(c, k) for k in range(1, c//2 + 1)]\n",
    "    return c == reduce(euclid, coeffs)  # gcd is the candidate prime?\n",
    "\n",
    "aks_test(11)"
   ]
  },
  {
   "cell_type": "code",
   "execution_count": 34,
   "id": "00d24e68",
   "metadata": {},
   "outputs": [
    {
     "data": {
      "text/plain": [
       "True"
      ]
     },
     "execution_count": 34,
     "metadata": {},
     "output_type": "execute_result"
    }
   ],
   "source": [
    "aks_test(17)"
   ]
  },
  {
   "cell_type": "code",
   "execution_count": 35,
   "id": "e02804a6",
   "metadata": {},
   "outputs": [
    {
     "name": "stdout",
     "output_type": "stream",
     "text": [
      "[2, 3, 5, 7, 11, 13, 17, 19, 23, 29, 31, 37, 41, 43, 47, 53, 59, 61, 67, 71, 73, 79, 83, 89, 97, 101, 103, 107, 109, 113, 127, 131, 137, 139, 149, 151, 157, 163, 167, 173, 179, 181, 191, 193, 197, 199]\n"
     ]
    }
   ],
   "source": [
    "print(list(filter(aks_test, [2, *range(3, 200, 2)])))"
   ]
  },
  {
   "cell_type": "markdown",
   "id": "bc8332e0",
   "metadata": {},
   "source": [
    "To be continued...\n",
    "\n",
    "* EEA\n",
    "* [Fermat's Little Theorem](Fermat.ipynb#Fermat's-Little-Theorem)\n",
    "* [Fermat's Primality Test](Fermat.ipynb#Fermat's-Primality-Test)\n",
    "* [Fermat Pseudo Primes](Fermat.ipynb#Carmichael-Numbers)\n",
    "* Totatives and Totient\n",
    "* Euler's Theorem\n",
    "* RSA Algorithm"
   ]
  }
 ],
 "metadata": {
  "kernelspec": {
   "display_name": "Python 3",
   "language": "python",
   "name": "python3"
  },
  "language_info": {
   "codemirror_mode": {
    "name": "ipython",
    "version": 3
   },
   "file_extension": ".py",
   "mimetype": "text/x-python",
   "name": "python",
   "nbconvert_exporter": "python",
   "pygments_lexer": "ipython3",
   "version": "3.7.9"
  }
 },
 "nbformat": 4,
 "nbformat_minor": 5
}
