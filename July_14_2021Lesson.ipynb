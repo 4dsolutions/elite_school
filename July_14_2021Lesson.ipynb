{
 "cells": [
  {
   "cell_type": "markdown",
   "id": "364a9361",
   "metadata": {},
   "source": [
    "# Lesson from July 14, 2021:  Summer School\n",
    "\n"
   ]
  },
  {
   "cell_type": "code",
   "execution_count": 1,
   "id": "6097cc09",
   "metadata": {},
   "outputs": [],
   "source": [
    "from math import pi, sqrt, gcd"
   ]
  },
  {
   "cell_type": "code",
   "execution_count": 2,
   "id": "0b917d71",
   "metadata": {},
   "outputs": [
    {
     "data": {
      "text/plain": [
       "4"
      ]
     },
     "execution_count": 2,
     "metadata": {},
     "output_type": "execute_result"
    }
   ],
   "source": [
    "gcd(8, 12)  # not strangers!"
   ]
  },
  {
   "cell_type": "code",
   "execution_count": 3,
   "id": "f84fd26f",
   "metadata": {},
   "outputs": [],
   "source": [
    "def stranger(a:int, b:int) -> bool:\n",
    "    \"\"\"\n",
    "    Return True if a, b are coprime\n",
    "    \"\"\"\n",
    "    return gcd(a, b) == 1"
   ]
  },
  {
   "cell_type": "code",
   "execution_count": 4,
   "id": "af24ba98",
   "metadata": {},
   "outputs": [
    {
     "data": {
      "text/plain": [
       "False"
      ]
     },
     "execution_count": 4,
     "metadata": {},
     "output_type": "execute_result"
    }
   ],
   "source": [
    "stranger(12, 8)"
   ]
  },
  {
   "cell_type": "code",
   "execution_count": 5,
   "id": "e629e8e8",
   "metadata": {},
   "outputs": [
    {
     "data": {
      "text/plain": [
       "True"
      ]
     },
     "execution_count": 5,
     "metadata": {},
     "output_type": "execute_result"
    }
   ],
   "source": [
    "stranger(53, 89)"
   ]
  },
  {
   "cell_type": "markdown",
   "id": "c91fe925",
   "metadata": {},
   "source": [
    "Relatively prime numbers need not be primes themselves."
   ]
  },
  {
   "cell_type": "markdown",
   "id": "5ba804b3",
   "metadata": {},
   "source": [
    "The concept of \"totatives\" is going to help us understand public key crypto.  In this curriculum, we study the [RSA](RSA.ipynb) algorithm."
   ]
  },
  {
   "cell_type": "code",
   "execution_count": 6,
   "id": "54ad3f04",
   "metadata": {},
   "outputs": [],
   "source": [
    "def totatives(n):\n",
    "    return [x for x in range(1, n) if stranger(x, n)]"
   ]
  },
  {
   "cell_type": "code",
   "execution_count": 7,
   "id": "70f7cf66",
   "metadata": {},
   "outputs": [
    {
     "data": {
      "text/plain": [
       "[1, 2, 3, 4, 5, 6, 7, 8, 9, 10, 11, 12]"
      ]
     },
     "execution_count": 7,
     "metadata": {},
     "output_type": "execute_result"
    }
   ],
   "source": [
    "totatives(13)"
   ]
  },
  {
   "cell_type": "code",
   "execution_count": 8,
   "id": "11adfbdb",
   "metadata": {},
   "outputs": [
    {
     "name": "stdout",
     "output_type": "stream",
     "text": [
      "[1, 2, 3, 4, 5, 6, 7, 8, 9, 10, 11, 12, 13, 14, 15, 16, 17, 18, 19, 20, 21, 22, 23, 24, 25, 26, 27, 28, 29, 30, 31, 32, 33, 34, 35, 36, 37, 38, 39, 40, 41, 42, 43, 44, 45, 46, 47, 48, 49, 50, 51, 52]\n"
     ]
    }
   ],
   "source": [
    "print(totatives(53))"
   ]
  },
  {
   "cell_type": "code",
   "execution_count": 9,
   "id": "e546fff0",
   "metadata": {},
   "outputs": [],
   "source": [
    "def totient(n):\n",
    "    return len(totatives(n))"
   ]
  },
  {
   "cell_type": "code",
   "execution_count": 10,
   "id": "e4f7d30c",
   "metadata": {},
   "outputs": [
    {
     "data": {
      "text/plain": [
       "4"
      ]
     },
     "execution_count": 10,
     "metadata": {},
     "output_type": "execute_result"
    }
   ],
   "source": [
    "totient(12)"
   ]
  },
  {
   "cell_type": "code",
   "execution_count": 11,
   "id": "f49be7a4",
   "metadata": {},
   "outputs": [
    {
     "data": {
      "text/plain": [
       "12"
      ]
     },
     "execution_count": 11,
     "metadata": {},
     "output_type": "execute_result"
    }
   ],
   "source": [
    "totient(13)"
   ]
  },
  {
   "cell_type": "code",
   "execution_count": 12,
   "id": "0224ff49",
   "metadata": {},
   "outputs": [],
   "source": [
    "def isprime(n):\n",
    "    return totient(n) == n-1"
   ]
  },
  {
   "cell_type": "code",
   "execution_count": 13,
   "id": "00900eec",
   "metadata": {},
   "outputs": [
    {
     "data": {
      "text/plain": [
       "False"
      ]
     },
     "execution_count": 13,
     "metadata": {},
     "output_type": "execute_result"
    }
   ],
   "source": [
    "isprime(12)"
   ]
  },
  {
   "cell_type": "code",
   "execution_count": 14,
   "id": "d7edc044",
   "metadata": {},
   "outputs": [
    {
     "data": {
      "text/plain": [
       "True"
      ]
     },
     "execution_count": 14,
     "metadata": {},
     "output_type": "execute_result"
    }
   ],
   "source": [
    "isprime(13)"
   ]
  },
  {
   "cell_type": "code",
   "execution_count": 15,
   "id": "268b5cb7",
   "metadata": {},
   "outputs": [
    {
     "data": {
      "text/plain": [
       "True"
      ]
     },
     "execution_count": 15,
     "metadata": {},
     "output_type": "execute_result"
    }
   ],
   "source": [
    "isprime(53)"
   ]
  },
  {
   "cell_type": "code",
   "execution_count": 16,
   "id": "3cd98022",
   "metadata": {},
   "outputs": [
    {
     "data": {
      "text/plain": [
       "False"
      ]
     },
     "execution_count": 16,
     "metadata": {},
     "output_type": "execute_result"
    }
   ],
   "source": [
    "isprime(51)"
   ]
  },
  {
   "cell_type": "code",
   "execution_count": 17,
   "id": "87c7f007",
   "metadata": {},
   "outputs": [],
   "source": [
    "def f(x):\n",
    "    return x ** 2"
   ]
  },
  {
   "cell_type": "code",
   "execution_count": 18,
   "id": "662d7a67",
   "metadata": {},
   "outputs": [
    {
     "data": {
      "text/plain": [
       "[100, 81, 64, 49, 36, 25, 16, 9, 4, 1, 0, 1, 4, 9, 16, 25, 36, 49, 64, 81, 100]"
      ]
     },
     "execution_count": 18,
     "metadata": {},
     "output_type": "execute_result"
    }
   ],
   "source": [
    "[f(x) for x in range(-10, 11)]"
   ]
  },
  {
   "cell_type": "code",
   "execution_count": 45,
   "id": "e84a6a30",
   "metadata": {},
   "outputs": [],
   "source": [
    "def PT():\n",
    "    row = [1]\n",
    "    while True:\n",
    "        yield row\n",
    "        row = [l + r for l, r in zip([0] + row, row + [0])]"
   ]
  },
  {
   "cell_type": "code",
   "execution_count": 46,
   "id": "883fba14",
   "metadata": {},
   "outputs": [],
   "source": [
    "g = PT()"
   ]
  },
  {
   "cell_type": "code",
   "execution_count": 47,
   "id": "f68da26e",
   "metadata": {},
   "outputs": [
    {
     "data": {
      "text/plain": [
       "[1]"
      ]
     },
     "execution_count": 47,
     "metadata": {},
     "output_type": "execute_result"
    }
   ],
   "source": [
    "next(g)"
   ]
  },
  {
   "cell_type": "code",
   "execution_count": 48,
   "id": "df9749a6",
   "metadata": {},
   "outputs": [
    {
     "data": {
      "text/plain": [
       "[1, 1]"
      ]
     },
     "execution_count": 48,
     "metadata": {},
     "output_type": "execute_result"
    }
   ],
   "source": [
    "next(g)"
   ]
  },
  {
   "cell_type": "code",
   "execution_count": 49,
   "id": "d2d06689",
   "metadata": {},
   "outputs": [
    {
     "data": {
      "text/plain": [
       "[1, 2, 1]"
      ]
     },
     "execution_count": 49,
     "metadata": {},
     "output_type": "execute_result"
    }
   ],
   "source": [
    "next(g)"
   ]
  },
  {
   "cell_type": "code",
   "execution_count": 50,
   "id": "437dd73d",
   "metadata": {},
   "outputs": [
    {
     "data": {
      "text/plain": [
       "[1, 3, 3, 1]"
      ]
     },
     "execution_count": 50,
     "metadata": {},
     "output_type": "execute_result"
    }
   ],
   "source": [
    "next(g)"
   ]
  },
  {
   "cell_type": "code",
   "execution_count": 51,
   "id": "ba500565",
   "metadata": {},
   "outputs": [
    {
     "data": {
      "text/plain": [
       "[1, 4, 6, 4, 1]"
      ]
     },
     "execution_count": 51,
     "metadata": {},
     "output_type": "execute_result"
    }
   ],
   "source": [
    "next(g)"
   ]
  },
  {
   "cell_type": "code",
   "execution_count": 55,
   "id": "dc0e94ed",
   "metadata": {},
   "outputs": [],
   "source": [
    "for _ in range(10):\n",
    "    next(g)"
   ]
  },
  {
   "cell_type": "code",
   "execution_count": 56,
   "id": "b0529d44",
   "metadata": {},
   "outputs": [
    {
     "data": {
      "text/plain": [
       "[1,\n",
       " 26,\n",
       " 325,\n",
       " 2600,\n",
       " 14950,\n",
       " 65780,\n",
       " 230230,\n",
       " 657800,\n",
       " 1562275,\n",
       " 3124550,\n",
       " 5311735,\n",
       " 7726160,\n",
       " 9657700,\n",
       " 10400600,\n",
       " 9657700,\n",
       " 7726160,\n",
       " 5311735,\n",
       " 3124550,\n",
       " 1562275,\n",
       " 657800,\n",
       " 230230,\n",
       " 65780,\n",
       " 14950,\n",
       " 2600,\n",
       " 325,\n",
       " 26,\n",
       " 1]"
      ]
     },
     "execution_count": 56,
     "metadata": {},
     "output_type": "execute_result"
    }
   ],
   "source": [
    "next(g)"
   ]
  },
  {
   "cell_type": "code",
   "execution_count": 33,
   "id": "8ea00602",
   "metadata": {},
   "outputs": [
    {
     "data": {
      "text/plain": [
       "[(1, 2, 'a'), (0, 9, 'b'), (5, 1, 'c')]"
      ]
     },
     "execution_count": 33,
     "metadata": {},
     "output_type": "execute_result"
    }
   ],
   "source": [
    "r = zip((1, 0, 5), (2, 9, 1), ('a', 'b', 'c', 'd'))\n",
    "list(r)"
   ]
  },
  {
   "cell_type": "markdown",
   "id": "1ee7c6e4",
   "metadata": {},
   "source": [
    "In high school math in the 21st Century, we are sure to link [Pascal's Triangle](PascalsTriangle.ipynb) with what we call the AKS Primality Test."
   ]
  }
 ],
 "metadata": {
  "kernelspec": {
   "display_name": "Python 3",
   "language": "python",
   "name": "python3"
  },
  "language_info": {
   "codemirror_mode": {
    "name": "ipython",
    "version": 3
   },
   "file_extension": ".py",
   "mimetype": "text/x-python",
   "name": "python",
   "nbconvert_exporter": "python",
   "pygments_lexer": "ipython3",
   "version": "3.7.9"
  }
 },
 "nbformat": 4,
 "nbformat_minor": 5
}
