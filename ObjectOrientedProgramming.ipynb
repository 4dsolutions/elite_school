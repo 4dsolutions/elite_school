{
 "cells": [
  {
   "cell_type": "markdown",
   "id": "0620eb14",
   "metadata": {},
   "source": [
    "[Home](Home.ipynb)\n",
    "\n",
    "# Object Oriented Programming (OOP)\n",
    "\n",
    "<a data-flickr-embed=\"true\" href=\"https://www.flickr.com/photos/kirbyurner/50896018553/in/dateposted-public/\" title=\"spyder_day3_1\"><img src=\"https://live.staticflickr.com/65535/50896018553_85a63967fc.jpg\" width=\"500\" height=\"303\" alt=\"spyder_day3_1\"></a><script async src=\"//embedr.flickr.com/assets/client-code.js\" charset=\"utf-8\"></script>"
   ]
  },
  {
   "cell_type": "markdown",
   "id": "104d541b",
   "metadata": {},
   "source": [
    "The contemporary idea of a \"computer language\" did not arise spontaneously, with the invention of logic chips.  \n",
    "\n",
    "What would a \"high level language\" even look like?  Could we just talk to a computer like we would to a human being?  When it comes to recognizing our spoken words and typing them back to us, computers have improved greatly, thanks to machine learning. \n",
    "\n",
    "A core project of computer science over the last several decades has been the quest for a common ground for logic circuits and our own, more human way of reasoning.\n",
    "\n",
    "Language designers realized we typically think in terms of objects (nouns) that have attributes (adjectives) and behaviors (verbs).  Furthermore, we have the idea that some types of objects have a family resemblance to other objects.  \n",
    "\n",
    "Might we avoid reinventing the wheel all the time, and reuse code, even when defining new kinds of object?  That was (and still is) the purpose of the Object Oriented Paradigm (OOP).\n",
    "\n",
    "Smalltalk, by Alan Kay and friends, implemented OOP with breakthrough clarity and consistency and many programmers experienced a huge boost in productivity.  New languages based on OOP followed, such as C++, Java, C# and Python."
   ]
  },
  {
   "cell_type": "markdown",
   "id": "83b48073",
   "metadata": {},
   "source": [
    "Lets look at a rather simple piece of Python code, defining what we call a class:"
   ]
  },
  {
   "cell_type": "code",
   "execution_count": 1,
   "id": "a0c09495",
   "metadata": {},
   "outputs": [],
   "source": [
    "class Snake:\n",
    "\n",
    "    def __init__(self, name):\n",
    "        self.name = name\n",
    "        self.stomach = [ ]\n",
    "\n",
    "    def eat(self, food):\n",
    "        self.stomach.append(food)\n",
    "\n",
    "    # any_snake(\"🐹\") synonymous with any_snake.eat(\"🐹\")\n",
    "    def __call__(self, food):\n",
    "        self.eat(food)\n",
    "\n",
    "    def __repr__(self):\n",
    "        return f\"Snake named {self.name} at {id(self)}\""
   ]
  },
  {
   "cell_type": "markdown",
   "id": "d50e6ea2",
   "metadata": {},
   "source": [
    "The indendation is syntactically necessary.  You must align your blocks vertically, to designate scope.  Many languages use curly braces for this purpose.  Python looks less cluttered thanks to their absence.\n",
    "\n",
    "Now lets use the above class, first by instancing it (making an instance), and then by feeding it:"
   ]
  },
  {
   "cell_type": "code",
   "execution_count": 2,
   "id": "e7e60112",
   "metadata": {},
   "outputs": [
    {
     "data": {
      "text/plain": [
       "['🐹', 'snack']"
      ]
     },
     "execution_count": 2,
     "metadata": {},
     "output_type": "execute_result"
    }
   ],
   "source": [
    "any_snake = Snake(\"Naga\")  # triggers __init__\n",
    "any_snake(\"🐹\")            # triggers __call__\n",
    "any_snake.eat(\"snack\")\n",
    "any_snake.stomach          # accessing an attribute"
   ]
  },
  {
   "cell_type": "code",
   "execution_count": 3,
   "id": "b11efe42",
   "metadata": {},
   "outputs": [
    {
     "data": {
      "text/plain": [
       "Snake named Naga at 4531328784"
      ]
     },
     "execution_count": 3,
     "metadata": {},
     "output_type": "execute_result"
    }
   ],
   "source": [
    "any_snake  # triggers __repr__"
   ]
  },
  {
   "cell_type": "code",
   "execution_count": 4,
   "id": "92446f2f",
   "metadata": {},
   "outputs": [
    {
     "data": {
      "text/plain": [
       "Snake named Twila at 4542101904"
      ]
     },
     "execution_count": 4,
     "metadata": {},
     "output_type": "execute_result"
    }
   ],
   "source": [
    "another_snake = Snake(\"Twila\")\n",
    "another_snake"
   ]
  },
  {
   "cell_type": "markdown",
   "id": "b0067c5d",
   "metadata": {},
   "source": [
    "The classes below show off more of the special names (```__ribs__```).  These allow you, the programmer, to take control of arithemtic operators, boolean operators, and more.  \n",
    "\n",
    "You need not invent a behavior for all of these optional features.  You may also subclass an already existing type, including a built-in type, and just add a few new behaviors of your own."
   ]
  },
  {
   "cell_type": "code",
   "execution_count": 5,
   "id": "492af81f",
   "metadata": {},
   "outputs": [
    {
     "name": "stdout",
     "output_type": "stream",
     "text": [
      "['🍒', '🍏', '🍐', '🍩', '🍩', '🍌', '🍑', '🍍', '🍈', '🍑']\n"
     ]
    }
   ],
   "source": [
    "#!/usr/bin/env python3\n",
    "# -*- coding: utf-8 -*-\n",
    "\"\"\"\n",
    "Created on Sat Dec 26 13:38:58 2020\n",
    "\n",
    "@author: Kirby\n",
    "\"\"\"\n",
    "\n",
    "from random import choice\n",
    "from fooding import foods, fruits\n",
    "\n",
    "foods = foods + fruits\n",
    "\n",
    "class Animal():\n",
    " \n",
    "    def __init__(self, name, breed):\n",
    "        self.name = name\n",
    "        self.breed = breed\n",
    "        self.stomach = []\n",
    "        \n",
    "    def __eq__(self, other):\n",
    "        if (self.name == other.name \n",
    "            and self.breed == other.breed):\n",
    "            return True\n",
    "        return False\n",
    "    \n",
    "    def __mul__(self, other):\n",
    "        pass\n",
    "    \n",
    "    def __add__(self, other):\n",
    "        return Animal(self.name + other.name, breed = \"mutt\")\n",
    "     \n",
    "    def __call__(self, food):\n",
    "        self.eat(food)\n",
    "        \n",
    "    def eat(self, food):\n",
    "        self.stomach.append(food)\n",
    "        \n",
    "    def __getitem__(self, arg):\n",
    "        return self.stomach[arg]\n",
    "         \n",
    "class Dog(Animal):\n",
    "    \n",
    "    \n",
    "    def version():\n",
    "        return \"Dog 2.0\"\n",
    "    # old syntax we no longer need\n",
    "    version = staticmethod(version)\n",
    "        \n",
    "    tricks = [\"play dead\", \"beg\"]\n",
    "    \n",
    "    @classmethod\n",
    "    def add_trick(cls, newtrick):\n",
    "        cls.tricks.append(newtrick)\n",
    "\n",
    "    def bark(self, n = 1):\n",
    "        return \"Bark! \" * n\n",
    "\n",
    "    def do_trick(self):\n",
    "        return choice(self.tricks)\n",
    "    \n",
    "    def __repr__(self):\n",
    "        return \"Dog('{}', '{}') at {}\".format(self.name, self.breed, id(self))\n",
    "\n",
    "class Cat(Animal):\n",
    "    pass\n",
    "\n",
    "\n",
    "dog1 = Dog(\"Rover\", \"Dog\")\n",
    "for _ in range(10):\n",
    "    dog1.eat(choice(foods))\n",
    "    \n",
    "print(dog1.stomach)"
   ]
  },
  {
   "cell_type": "markdown",
   "id": "f340c4ea",
   "metadata": {},
   "source": [
    "### Decorators and Dataclasses\n",
    "\n",
    "The idea of an object is akin to that of a cargo ship, with its own crew, cranes, power supply.  A ship with the tools to work with its own cargo is like an object containing data, but also ways of working with that data.\n",
    "\n",
    "Have you encountered the section on NamedTuples yet?  That's where you get to name the \"fields\" of a tuple type, such as a chemical element.  You might want Symbol (one or two letters), Name (Hydrogen), Atomic Number (integer), Atomic Mass (floating point)."
   ]
  },
  {
   "cell_type": "code",
   "execution_count": 1,
   "id": "2443d880",
   "metadata": {},
   "outputs": [
    {
     "name": "stdout",
     "output_type": "stream",
     "text": [
      "Element(Symbol='H', Name='Hydrogen', Atomic_number=1, Atomic_mass=1.008)\n",
      "{'Symbol': 'H', 'Name': 'Hydrogen', 'Atomic_number': 1, 'Atomic_mass': 1.008, 'Type': 'diatomic metal'}\n",
      "Element(Symbol='He', Name='Helium', Atomic_number=2.0, Atomic_mass=4.0026)\n"
     ]
    }
   ],
   "source": [
    "from dataclasses import dataclass, field\n",
    "import dataclasses as d\n",
    "\n",
    "@dataclass\n",
    "class Element:\n",
    "    Symbol: str\n",
    "    Name: str\n",
    "    Atomic_number: int\n",
    "    Atomic_mass: float\n",
    "    Type: str = field(repr=False, compare=False)\n",
    "\n",
    "hydrogen = Element(\"H\", \"Hydrogen\", 1, 1.008, \"diatomic metal\")\n",
    "print(hydrogen)\n",
    "print(d.asdict(hydrogen))\n",
    "\n",
    "helium = Element(\"He\", \"Helium\", 2.0, 4.0026, \"gas\")\n",
    "print(helium)"
   ]
  },
  {
   "cell_type": "markdown",
   "id": "0d3ddaa8",
   "metadata": {},
   "source": [
    "The ```@dataclass``` thing is called a decorator.  Using decorator syntax, a callable (dataclass) swallows the thing that's under it, being defined, either a class or a function (something with def), and spits out something else, but with the same name.  This \"something else\" is a modified or enhanced version of what it swallows."
   ]
  },
  {
   "cell_type": "markdown",
   "id": "a641ef8b",
   "metadata": {},
   "source": [
    "### The Iterator Pattern\n",
    "\n",
    "An iterator in Python is an object with a ```__next__``` method.  Such objects are the target of for-loop syntax, and *for* may be said to \"hit the next button until exhaustion\" on its target.\n",
    "\n",
    "As iterator also needs an ```__iter__``` method as the for loop starts by feeding the target through iter( ) -- we don't see this -- in order to make sure that's what it's dealing with.\n",
    "\n",
    "Exhaustian is signalled with a StopIteration exception, which causes a for loop to end normally."
   ]
  },
  {
   "cell_type": "code",
   "execution_count": 3,
   "id": "5104cc92",
   "metadata": {},
   "outputs": [],
   "source": [
    "from random import randint\n",
    "\n",
    "class It:\n",
    "    \n",
    "    def __next__(self):\n",
    "        val = randint(0,10)\n",
    "        if val == 10:\n",
    "            raise StopIteration\n",
    "        return val\n",
    "    \n",
    "    def __iter__(self):\n",
    "        return self"
   ]
  },
  {
   "cell_type": "markdown",
   "id": "239a3332",
   "metadata": {},
   "source": [
    "Run this a few times.  The output changes because of how the for loop prints pseudo-random numbers between 0 and 9, until it draws a 10, which causes it to quit gracefully."
   ]
  },
  {
   "cell_type": "code",
   "execution_count": 14,
   "id": "3cb46fe1",
   "metadata": {},
   "outputs": [
    {
     "name": "stdout",
     "output_type": "stream",
     "text": [
      "3 8 6 0 Done!\n"
     ]
    }
   ],
   "source": [
    "for x in It():\n",
    "    print(x, end=\" \")\n",
    "else:\n",
    "    print(\"Done!\")"
   ]
  },
  {
   "cell_type": "markdown",
   "id": "095d4ccf",
   "metadata": {},
   "source": [
    "Python knows how to turn anything with a ```__getitem__``` method into an iterator. Just feed it n = 0, 1, 2, 3..."
   ]
  },
  {
   "cell_type": "code",
   "execution_count": 20,
   "id": "83960b86",
   "metadata": {},
   "outputs": [],
   "source": [
    "class Iterable:\n",
    "    \n",
    "    def __getitem__(self, n):\n",
    "        val = randint(0,10)\n",
    "        if val == 10:\n",
    "            raise StopIteration\n",
    "        return val"
   ]
  },
  {
   "cell_type": "code",
   "execution_count": 22,
   "id": "61467285",
   "metadata": {},
   "outputs": [
    {
     "name": "stdout",
     "output_type": "stream",
     "text": [
      "0\n",
      "5 1\n",
      "9 2\n",
      "3 3\n",
      "0 4\n",
      "3 5\n",
      "3 6\n",
      "2 7\n"
     ]
    }
   ],
   "source": [
    "for x in Iterable():\n",
    "    print(x, end=\" \")"
   ]
  },
  {
   "cell_type": "markdown",
   "id": "8747007a",
   "metadata": {},
   "source": [
    "Iterators do not have to invoke StopIterator internally.  One is allowed to make an open ended (undelimited) iterator the target of a for-loop (example:  give the next prime number).  In that case, the for-loop needs other ways of stopping."
   ]
  },
  {
   "cell_type": "code",
   "execution_count": null,
   "id": "dd08c4cd",
   "metadata": {},
   "outputs": [],
   "source": []
  }
 ],
 "metadata": {
  "kernelspec": {
   "display_name": "Python 3",
   "language": "python",
   "name": "python3"
  },
  "language_info": {
   "codemirror_mode": {
    "name": "ipython",
    "version": 3
   },
   "file_extension": ".py",
   "mimetype": "text/x-python",
   "name": "python",
   "nbconvert_exporter": "python",
   "pygments_lexer": "ipython3",
   "version": "3.7.9"
  }
 },
 "nbformat": 4,
 "nbformat_minor": 5
}
