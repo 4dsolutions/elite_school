{
 "cells": [
  {
   "cell_type": "markdown",
   "id": "atmospheric-duncan",
   "metadata": {},
   "source": [
    "[Home](Home.ipynb)\n",
    "\n",
    "# OOP\n",
    "\n",
    "<a data-flickr-embed=\"true\" href=\"https://www.flickr.com/photos/kirbyurner/50896018553/in/dateposted-public/\" title=\"spyder_day3_1\"><img src=\"https://live.staticflickr.com/65535/50896018553_85a63967fc.jpg\" width=\"500\" height=\"303\" alt=\"spyder_day3_1\"></a><script async src=\"//embedr.flickr.com/assets/client-code.js\" charset=\"utf-8\"></script>"
   ]
  },
  {
   "cell_type": "code",
   "execution_count": 2,
   "id": "configured-choice",
   "metadata": {},
   "outputs": [
    {
     "name": "stdout",
     "output_type": "stream",
     "text": [
      "['🍐', '🍎', '🍌', '🍞', '🍏', '🍏', '🍌', '🍈', '🎂', '🍊']\n"
     ]
    }
   ],
   "source": [
    "#!/usr/bin/env python3\n",
    "# -*- coding: utf-8 -*-\n",
    "\"\"\"\n",
    "Created on Sat Dec 26 13:38:58 2020\n",
    "\n",
    "@author: Kirby\n",
    "\"\"\"\n",
    "\n",
    "from random import choice\n",
    "from fooding import foods, fruits\n",
    "\n",
    "foods = foods + fruits\n",
    "\n",
    "class Animal():\n",
    " \n",
    "    def __init__(self, name, breed):\n",
    "        self.name = name\n",
    "        self.breed = breed\n",
    "        self.stomach = []\n",
    "        \n",
    "    def __eq__(self, other):\n",
    "        if (self.name == other.name \n",
    "            and self.breed == other.breed):\n",
    "            return True\n",
    "        return False\n",
    "    \n",
    "    def __mul__(self, other):\n",
    "        pass\n",
    "    \n",
    "    def __add__(self, other):\n",
    "        return Animal(self.name + other.name, breed = self.breed)\n",
    "     \n",
    "    def __call__(self, food):\n",
    "        self.eat(food)\n",
    "        \n",
    "    def eat(self, food):\n",
    "        self.stomach.append(food)\n",
    "        \n",
    "    def __getitem__(self, arg):\n",
    "        return self.stomach[arg]\n",
    "         \n",
    "class Dog(Animal):\n",
    "    \n",
    "    \n",
    "    def version():\n",
    "        return \"Dog 2.0\"\n",
    "    version = staticmethod(version)\n",
    "        \n",
    "    tricks = [\"play dead\", \"beg\"]\n",
    "    \n",
    "    @classmethod\n",
    "    def add_trick(cls, newtrick):\n",
    "        cls.tricks.append(newtrick)\n",
    "\n",
    "    def bark(self, n = 1):\n",
    "        return \"Bark! \" * n\n",
    "\n",
    "    def do_trick(self):\n",
    "        return choice(self.tricks)\n",
    "    \n",
    "    def __repr__(self):\n",
    "        return \"Dog('{}', '{}') at {}\".format(self.name, self.breed, id(self))\n",
    "\n",
    "class Cat(Animal):\n",
    "    pass\n",
    "\n",
    "\n",
    "dog1 = Dog(\"Rover\", \"Dog\")\n",
    "for _ in range(10):\n",
    "    dog1.eat(choice(foods))\n",
    "    \n",
    "print(dog1.stomach)"
   ]
  },
  {
   "cell_type": "code",
   "execution_count": null,
   "id": "wrong-course",
   "metadata": {},
   "outputs": [],
   "source": []
  }
 ],
 "metadata": {
  "kernelspec": {
   "display_name": "Python 3",
   "language": "python",
   "name": "python3"
  },
  "language_info": {
   "codemirror_mode": {
    "name": "ipython",
    "version": 3
   },
   "file_extension": ".py",
   "mimetype": "text/x-python",
   "name": "python",
   "nbconvert_exporter": "python",
   "pygments_lexer": "ipython3",
   "version": "3.9.1"
  }
 },
 "nbformat": 4,
 "nbformat_minor": 5
}
