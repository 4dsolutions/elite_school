{
 "cells": [
  {
   "cell_type": "markdown",
   "metadata": {},
   "source": [
    "[Home](Home.ipynb)\n",
    "\n",
    "# Object Oriented Programming (OOP)\n",
    "\n",
    "<a data-flickr-embed=\"true\" href=\"https://www.flickr.com/photos/kirbyurner/50896018553/in/dateposted-public/\" title=\"spyder_day3_1\"><img src=\"https://live.staticflickr.com/65535/50896018553_85a63967fc.jpg\" width=\"500\" height=\"303\" alt=\"spyder_day3_1\"></a><script async src=\"//embedr.flickr.com/assets/client-code.js\" charset=\"utf-8\"></script>"
   ]
  },
  {
   "cell_type": "markdown",
   "metadata": {},
   "source": [
    "The idea of a \"computer language\" did not arise spontaneously, with the invention of logic chips.  What would a \"high level language\" even look like?  A core project of computer science over the last several decades has been the quest for a common ground for logic circuits and our own, more human way of reasoning.\n",
    "\n",
    "Language designers realized we typically think in terms of objects (nouns) that have attributes (adjectives) and behaviors (verbs).  Furthermore, we have the idea that some types of objects have a family resemblance to other objects.  \n",
    "\n",
    "Might we avoid reinventing the wheel all the time, and reuse code, even when defining new kinds of object?  That was (and still is) the purpose of the Object Oriented Paradigm (OOP).\n",
    "\n",
    "Smalltalk, by Alan Kay and friends, implemented OOP with breakthrough clarity and consistency and many programmers experienced a huge boost in productivity.  New languages based on OOP followed, such as C++, Java, C# and Python."
   ]
  },
  {
   "cell_type": "markdown",
   "metadata": {},
   "source": [
    "Lets look at a rather simple piece of Python code, defining what we call a class:"
   ]
  },
  {
   "cell_type": "code",
   "execution_count": 1,
   "metadata": {},
   "outputs": [],
   "source": [
    "class Snake:\n",
    "\n",
    "    def __init__(self, name):\n",
    "        self.name = name\n",
    "        self.stomach = [ ]\n",
    "\n",
    "    def eat(self, food):\n",
    "        self.stomach.append(food)\n",
    "\n",
    "    # any_snake(\"🐹\") synonymous with any_snake.eat(\"🐹\")\n",
    "    def __call__(self, food):\n",
    "        self.eat(food)\n",
    "\n",
    "    def __repr__(self):\n",
    "        return f\"Snake named {self.name} at {id(self)}\""
   ]
  },
  {
   "cell_type": "markdown",
   "metadata": {},
   "source": [
    "The indendation is syntactically necessary.  You must align your blocks vertically, to designate scope.  Many languages use curly braces for this purpose.  Python looks less cluttered thanks to their absence.\n",
    "\n",
    "Now lets use the above class, first by instancing it (making an instance), and then by feeding it:"
   ]
  },
  {
   "cell_type": "code",
   "execution_count": 2,
   "metadata": {},
   "outputs": [
    {
     "data": {
      "text/plain": [
       "['🐹', 'snack']"
      ]
     },
     "execution_count": 2,
     "metadata": {},
     "output_type": "execute_result"
    }
   ],
   "source": [
    "any_snake = Snake(\"Naga\")  # triggers __init__\n",
    "any_snake(\"🐹\")            # triggers __call__\n",
    "any_snake.eat(\"snack\")\n",
    "any_snake.stomach          # accessing an attribute"
   ]
  },
  {
   "cell_type": "code",
   "execution_count": 3,
   "metadata": {},
   "outputs": [
    {
     "data": {
      "text/plain": [
       "Snake named Naga at 4625304016"
      ]
     },
     "execution_count": 3,
     "metadata": {},
     "output_type": "execute_result"
    }
   ],
   "source": [
    "any_snake  # triggers __repr__"
   ]
  },
  {
   "cell_type": "code",
   "execution_count": 4,
   "metadata": {},
   "outputs": [
    {
     "data": {
      "text/plain": [
       "Snake named Twila at 4625388752"
      ]
     },
     "execution_count": 4,
     "metadata": {},
     "output_type": "execute_result"
    }
   ],
   "source": [
    "another_snake = Snake(\"Twila\")\n",
    "another_snake"
   ]
  },
  {
   "cell_type": "markdown",
   "metadata": {},
   "source": [
    "The classes below show off more of the special names (```__ribs__```).  These allow you, the programmer, to take control of arithemtic operators, boolean operators, and more.  \n",
    "\n",
    "You need not invent a behavior for all of these optional features.  You may also subclass an already existing type, including a built-in type, and just add a few new behaviors of your own."
   ]
  },
  {
   "cell_type": "code",
   "execution_count": 5,
   "metadata": {},
   "outputs": [
    {
     "name": "stdout",
     "output_type": "stream",
     "text": [
      "['🍩', '🍊', '🍎', '🍏', '🍗', '🍐', '🍉', '🍞', '🍞', '🍈']\n"
     ]
    }
   ],
   "source": [
    "#!/usr/bin/env python3\n",
    "# -*- coding: utf-8 -*-\n",
    "\"\"\"\n",
    "Created on Sat Dec 26 13:38:58 2020\n",
    "\n",
    "@author: Kirby\n",
    "\"\"\"\n",
    "\n",
    "from random import choice\n",
    "from fooding import foods, fruits\n",
    "\n",
    "foods = foods + fruits\n",
    "\n",
    "class Animal():\n",
    " \n",
    "    def __init__(self, name, breed):\n",
    "        self.name = name\n",
    "        self.breed = breed\n",
    "        self.stomach = []\n",
    "        \n",
    "    def __eq__(self, other):\n",
    "        if (self.name == other.name \n",
    "            and self.breed == other.breed):\n",
    "            return True\n",
    "        return False\n",
    "    \n",
    "    def __mul__(self, other):\n",
    "        pass\n",
    "    \n",
    "    def __add__(self, other):\n",
    "        return Animal(self.name + other.name, breed = self.breed)\n",
    "     \n",
    "    def __call__(self, food):\n",
    "        self.eat(food)\n",
    "        \n",
    "    def eat(self, food):\n",
    "        self.stomach.append(food)\n",
    "        \n",
    "    def __getitem__(self, arg):\n",
    "        return self.stomach[arg]\n",
    "         \n",
    "class Dog(Animal):\n",
    "    \n",
    "    \n",
    "    def version():\n",
    "        return \"Dog 2.0\"\n",
    "    version = staticmethod(version)\n",
    "        \n",
    "    tricks = [\"play dead\", \"beg\"]\n",
    "    \n",
    "    @classmethod\n",
    "    def add_trick(cls, newtrick):\n",
    "        cls.tricks.append(newtrick)\n",
    "\n",
    "    def bark(self, n = 1):\n",
    "        return \"Bark! \" * n\n",
    "\n",
    "    def do_trick(self):\n",
    "        return choice(self.tricks)\n",
    "    \n",
    "    def __repr__(self):\n",
    "        return \"Dog('{}', '{}') at {}\".format(self.name, self.breed, id(self))\n",
    "\n",
    "class Cat(Animal):\n",
    "    pass\n",
    "\n",
    "\n",
    "dog1 = Dog(\"Rover\", \"Dog\")\n",
    "for _ in range(10):\n",
    "    dog1.eat(choice(foods))\n",
    "    \n",
    "print(dog1.stomach)"
   ]
  }
 ],
 "metadata": {
  "kernelspec": {
   "display_name": "Python 3",
   "language": "python",
   "name": "python3"
  },
  "language_info": {
   "codemirror_mode": {
    "name": "ipython",
    "version": 3
   },
   "file_extension": ".py",
   "mimetype": "text/x-python",
   "name": "python",
   "nbconvert_exporter": "python",
   "pygments_lexer": "ipython3",
   "version": "3.7.9"
  }
 },
 "nbformat": 4,
 "nbformat_minor": 5
}
