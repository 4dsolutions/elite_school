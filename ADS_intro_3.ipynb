{
 "cells": [
  {
   "cell_type": "markdown",
   "id": "f923eee3-338e-4ff4-8d8d-9708209d6bf0",
   "metadata": {
    "jp-MarkdownHeadingCollapsed": true,
    "tags": []
   },
   "source": [
    "##### Algorithms and Data Structures (Winter - Spring 2022)\n",
    "\n",
    "* [Colab view](https://colab.research.google.com/github/4dsolutions/elite_school/blob/master/ADS_intro_3.ipynb)\n",
    "* [nbviewer view](https://nbviewer.org/github/4dsolutions/elite_school/blob/master/ADS_intro_3.ipynb)\n",
    "* [ACSL / USACO](Exercises.ipynb)\n",
    "* [Repo](https://github.com/4dsolutions/elite_school/)\n",
    "* Main Text \n",
    "    -   [Algorithms](ADS_intro_1.ipynb) \n",
    "    -   [Algorithms (continued)](ADS_intro_2.ipynb)\n",
    "    -   [Structured Data](ADS_intro_3.ipynb)\n",
    "* Projects \n",
    "    -   [Wordle](ADS_project_1.ipynb)\n",
    "* Research \n",
    "    -   [Word Sets and Graph Theory](ADS_research_1.ipynb)\n",
    "* Sandboxes \n",
    "    -   [Spatial Geometry](ADS_sandbox.ipynb)  \n",
    "    -   [Finite Groups](ADS_sandbox_2.ipynb)  \n",
    "    -   [Chess](ADS_sandbox_3.ipynb)\n"
   ]
  },
  {
   "cell_type": "markdown",
   "id": "6129486f-2eb4-4f91-98a4-b53139b7bb94",
   "metadata": {},
   "source": [
    "# Operational Data Structures\n",
    "\n",
    "The idea of data structures that come bundled with their own algorithms informs to Object Oriented Paradigm. \n",
    "\n",
    "The idea that types with internal state come with associated behaviors is taken directly from the object world of noun-things with verb-behaviors and adjective or other noun properties, also known as attributes. \n",
    "\n",
    "OO aims to mimic our native grammar and to facilitate reasoning about our programs by extending particular metaphors.\n",
    "\n",
    "By space we might mean mailing addresses, but more likely (x,y) or (x,y,z) coordinate, or latitude and longitude, or other ways of fixing location.  Our \"space\" might be a canvas, where we paint or draw.\n",
    "\n",
    "By time we probably mean something to do with the calendar, with with duration since the beginning of some experiment.  The features or qualities of an object may tend to change over time, and we may use some type of canvas (spatial) to convey those trends.\n",
    "\n",
    "Spatial and temporal go together as concepts.  It's hard to think of one without the other, whereas it's easy to think of them both together."
   ]
  },
  {
   "cell_type": "markdown",
   "id": "766a305e-419c-41b4-acd4-df8dba993cd8",
   "metadata": {},
   "source": [
    "## Time\n",
    "\n",
    "The concept of time encompasses our ideas about a calendar consisting of dates (year-month-day) and datetimes (year-month-day hh\\:mm\\:ss), with units as small as nanoseconds or even smaller.\n",
    "\n",
    "Our Gregorian calendar has resulted from a combination of design and historical happenstance."
   ]
  },
  {
   "cell_type": "markdown",
   "id": "3283e8d3-124c-4516-8d3a-9dc1b6f68890",
   "metadata": {},
   "source": [
    "### Time Zones\n",
    "\n",
    "Time is anything but a simple concept.  First of all, clocks usually register a local time (in a timezone) relative to a more global time (GMT or UTC).  How does the local timezone relate to UTC, in terms of \"ahead\" or \"behind\"?"
   ]
  },
  {
   "cell_type": "code",
   "execution_count": 1,
   "id": "7879fe97-a9e2-48ad-b0dc-47d2ba21786c",
   "metadata": {},
   "outputs": [],
   "source": [
    "import time"
   ]
  },
  {
   "cell_type": "code",
   "execution_count": 2,
   "id": "736720f5-9390-46db-bdbe-fd623c20f941",
   "metadata": {},
   "outputs": [
    {
     "data": {
      "text/plain": [
       "time.struct_time(tm_year=2022, tm_mon=3, tm_mday=16, tm_hour=0, tm_min=0, tm_sec=0, tm_wday=2, tm_yday=75, tm_isdst=1)"
      ]
     },
     "execution_count": 2,
     "metadata": {},
     "output_type": "execute_result"
    }
   ],
   "source": [
    "from_string = time.strptime(\"Wed Mar 16 00:00:00 2022 -0800 PDT\", \"%a %b %d %H:%M:%S %Y %z %Z\")\n",
    "from_string"
   ]
  },
  {
   "cell_type": "markdown",
   "id": "0389bffa-efe7-4e03-b21a-90d0524bdf82",
   "metadata": {},
   "source": [
    "### Daylight Savings Time\n",
    "\n",
    "There's a lot of inertia behind this practice, of shifting forward and back by one hour, near the solstices.  Even if people decide the practice is more trouble than it's worth, winding it down would require a lot of bureaucratic collaboration.  \n",
    "\n",
    "Spring forward, Fall a back."
   ]
  },
  {
   "cell_type": "markdown",
   "id": "7b505262-0ba0-4012-92c8-19ddcaf02567",
   "metadata": {},
   "source": [
    "Notice the localtime structure below, which looks just like a named tuple."
   ]
  },
  {
   "cell_type": "code",
   "execution_count": 3,
   "id": "a7b29ddd-60ba-466c-bb32-1d5fcb4eac6e",
   "metadata": {},
   "outputs": [
    {
     "data": {
      "text/plain": [
       "time.struct_time(tm_year=2022, tm_mon=3, tm_mday=20, tm_hour=12, tm_min=15, tm_sec=46, tm_wday=6, tm_yday=79, tm_isdst=1)"
      ]
     },
     "execution_count": 3,
     "metadata": {},
     "output_type": "execute_result"
    }
   ],
   "source": [
    "import time\n",
    "tct = the_current_time = time.localtime()\n",
    "tct"
   ]
  },
  {
   "cell_type": "code",
   "execution_count": 4,
   "id": "02ea6189-2f8f-474d-a2c7-27002a0ca8f9",
   "metadata": {},
   "outputs": [
    {
     "data": {
      "text/plain": [
       "time.struct_time"
      ]
     },
     "execution_count": 4,
     "metadata": {},
     "output_type": "execute_result"
    }
   ],
   "source": [
    "type(tct)"
   ]
  },
  {
   "cell_type": "code",
   "execution_count": 5,
   "id": "1f8c83e2-7224-4359-9dd7-f5b6124abb10",
   "metadata": {},
   "outputs": [
    {
     "data": {
      "text/plain": [
       "-25200"
      ]
     },
     "execution_count": 5,
     "metadata": {},
     "output_type": "execute_result"
    }
   ],
   "source": [
    "tct.tm_gmtoff"
   ]
  },
  {
   "cell_type": "code",
   "execution_count": 6,
   "id": "89ea7d5e-77c2-4165-af64-09e2174c0b7f",
   "metadata": {},
   "outputs": [
    {
     "data": {
      "text/plain": [
       "'PDT'"
      ]
     },
     "execution_count": 6,
     "metadata": {},
     "output_type": "execute_result"
    }
   ],
   "source": [
    "tct.tm_zone"
   ]
  },
  {
   "cell_type": "code",
   "execution_count": 7,
   "id": "50888171-35ef-449b-9b53-d6cdf3c769c6",
   "metadata": {},
   "outputs": [
    {
     "data": {
      "text/plain": [
       "1"
      ]
     },
     "execution_count": 7,
     "metadata": {},
     "output_type": "execute_result"
    }
   ],
   "source": [
    "the_current_time.tm_isdst"
   ]
  },
  {
   "cell_type": "markdown",
   "id": "8a12b2e4-b7c6-4829-b752-8e88c6b437b4",
   "metadata": {},
   "source": [
    "How might we create one of these `time.struct_time` objects from scratch, and for some other time than \"right now\"?\n",
    "\n",
    "First, interesting side note:\n",
    "\n",
    "<blockquote>\n",
    "    The epoch is the point where the time starts, and is platform dependent. For Unix, the epoch is January 1, 1970, 00:00:00 (UTC). To find out what the epoch is on a given platform, look at time.gmtime(0).  -- Python docs\n",
    "    </blockquote>\n",
    "    \n",
    "Another side note:  \n",
    "\n",
    "Is another Y2K coming?  (research topic)\n",
    "\n",
    "<blockquote>\n",
    "    The functions in this module may not handle dates and times before the epoch or far in the future. The cut-off point in the future is determined by the C library; for 32-bit systems, it is typically in 2038.\n",
    "</blockquote>"
   ]
  },
  {
   "cell_type": "code",
   "execution_count": 8,
   "id": "d57c40ec-91e1-445a-84ae-3f920630841a",
   "metadata": {},
   "outputs": [
    {
     "data": {
      "text/plain": [
       "'Thu Jan  1 00:00:00 1970'"
      ]
     },
     "execution_count": 8,
     "metadata": {},
     "output_type": "execute_result"
    }
   ],
   "source": [
    "time.asctime(time.gmtime(0))  # the epoch begins (UNIX standard)"
   ]
  },
  {
   "cell_type": "code",
   "execution_count": 9,
   "id": "80698bde-7d0d-4e67-9f15-053cec1f5628",
   "metadata": {},
   "outputs": [
    {
     "data": {
      "text/plain": [
       "'Sun, 20 Mar 2022 19:15:46 +0000 -0800 UTC'"
      ]
     },
     "execution_count": 9,
     "metadata": {},
     "output_type": "execute_result"
    }
   ],
   "source": [
    "time.strftime(\"%a, %d %b %Y %H:%M:%S +0000 %z %Z\", time.gmtime())"
   ]
  },
  {
   "cell_type": "code",
   "execution_count": 10,
   "id": "2a67d13b-be04-48ca-a3b3-74cfd32c7016",
   "metadata": {},
   "outputs": [
    {
     "data": {
      "text/plain": [
       "'Thu Jan  1 00:00:00 1970'"
      ]
     },
     "execution_count": 10,
     "metadata": {},
     "output_type": "execute_result"
    }
   ],
   "source": [
    "time.ctime(28800)  # why this many seconds?  Answer:  because epoch is GMT"
   ]
  },
  {
   "cell_type": "markdown",
   "id": "47136ccd-ef1d-4634-bf9d-76b8030d0357",
   "metadata": {},
   "source": [
    "Back to our main question, the Python docs express some wry humor on the topic:\n",
    "\n",
    "<blockquote>\n",
    "    DST is Daylight Saving Time, an adjustment of the timezone by (usually) one hour during part of the year. DST rules are magic (determined by local law) and can change from year to year. The C library has a table containing the local rules (often it is read from a system file for flexibility) and is the only source of True Wisdom in this respect.\n",
    "</blockquote>"
   ]
  },
  {
   "cell_type": "code",
   "execution_count": 11,
   "id": "5a2278f0-debb-42d4-9639-960a7365ecde",
   "metadata": {},
   "outputs": [
    {
     "data": {
      "text/plain": [
       "time.struct_time(tm_year=2022, tm_mon=3, tm_mday=16, tm_hour=0, tm_min=0, tm_sec=0, tm_wday=2, tm_yday=75, tm_isdst=-1)"
      ]
     },
     "execution_count": 11,
     "metadata": {},
     "output_type": "execute_result"
    }
   ],
   "source": [
    "time.strptime(\"Wed Mar 16 00:00:00 2022\")"
   ]
  },
  {
   "cell_type": "markdown",
   "id": "f9b21b26-d17d-499c-b4b2-c7575cf7f7d4",
   "metadata": {},
   "source": [
    "That tm_isdst is -1 means we have constructed a time.struct_time that has no clue whether it's a daylight savings time datetime or not.  We can address this with additional inputs."
   ]
  },
  {
   "cell_type": "code",
   "execution_count": 12,
   "id": "1d2cb975-b082-4579-989e-c26aa12f2c72",
   "metadata": {},
   "outputs": [
    {
     "name": "stdout",
     "output_type": "stream",
     "text": [
      "Help on built-in function mktime in module time:\n",
      "\n",
      "mktime(...)\n",
      "    mktime(tuple) -> floating point number\n",
      "    \n",
      "    Convert a time tuple in local time to seconds since the Epoch.\n",
      "    Note that mktime(gmtime(0)) will not generally return zero for most\n",
      "    time zones; instead the returned value will either be equal to that\n",
      "    of the timezone or altzone attributes on the time module.\n",
      "\n"
     ]
    }
   ],
   "source": [
    "help(time.mktime)"
   ]
  },
  {
   "cell_type": "code",
   "execution_count": 13,
   "id": "c5021ade-a4cc-44b8-bb7b-46cc21eee77b",
   "metadata": {},
   "outputs": [
    {
     "data": {
      "text/plain": [
       "time.struct_time(tm_year=2022, tm_mon=3, tm_mday=16, tm_hour=0, tm_min=0, tm_sec=0, tm_wday=2, tm_yday=75, tm_isdst=1)"
      ]
     },
     "execution_count": 13,
     "metadata": {},
     "output_type": "execute_result"
    }
   ],
   "source": [
    "time.localtime(time.mktime((2022,3,16,0,0,0,0,0,1)))"
   ]
  },
  {
   "cell_type": "code",
   "execution_count": 14,
   "id": "b006d53b-b333-4ef0-97a7-610f7a5f1d75",
   "metadata": {},
   "outputs": [
    {
     "data": {
      "text/plain": [
       "time.struct_time(tm_year=2022, tm_mon=3, tm_mday=16, tm_hour=0, tm_min=0, tm_sec=0, tm_wday=2, tm_yday=75, tm_isdst=1)"
      ]
     },
     "execution_count": 14,
     "metadata": {},
     "output_type": "execute_result"
    }
   ],
   "source": [
    "from_string = time.strptime(\"Wed Mar 16 00:00:00 2022 -0800 PDT\", \"%a %b %d %H:%M:%S %Y %z %Z\")\n",
    "from_string"
   ]
  },
  {
   "cell_type": "code",
   "execution_count": 15,
   "id": "f62a3ec2-03d6-4b5d-9313-0385172f0b21",
   "metadata": {},
   "outputs": [
    {
     "data": {
      "text/plain": [
       "'PDT'"
      ]
     },
     "execution_count": 15,
     "metadata": {},
     "output_type": "execute_result"
    }
   ],
   "source": [
    "from_string.tm_zone"
   ]
  },
  {
   "cell_type": "code",
   "execution_count": 16,
   "id": "4b8387c6-708a-43ac-9058-bc0ebca76387",
   "metadata": {},
   "outputs": [
    {
     "data": {
      "text/plain": [
       "-28800"
      ]
     },
     "execution_count": 16,
     "metadata": {},
     "output_type": "execute_result"
    }
   ],
   "source": [
    "from_string.tm_gmtoff  # difference from GMT in seconds"
   ]
  },
  {
   "cell_type": "code",
   "execution_count": 17,
   "id": "550ec063-e289-4344-95ea-ce084182eb1d",
   "metadata": {},
   "outputs": [
    {
     "data": {
      "text/plain": [
       "28800"
      ]
     },
     "execution_count": 17,
     "metadata": {},
     "output_type": "execute_result"
    }
   ],
   "source": [
    "8 * 60 * 60  # 8 hours x 60 minutes x 60 seconds"
   ]
  },
  {
   "cell_type": "code",
   "execution_count": 18,
   "id": "06c91269-1d9f-4961-9060-40ddd494d235",
   "metadata": {},
   "outputs": [
    {
     "data": {
      "text/plain": [
       "time.struct_time(tm_year=2022, tm_mon=3, tm_mday=13, tm_hour=0, tm_min=0, tm_sec=0, tm_wday=2, tm_yday=72, tm_isdst=0)"
      ]
     },
     "execution_count": 18,
     "metadata": {},
     "output_type": "execute_result"
    }
   ],
   "source": [
    "from_string = time.strptime(\"Wed Mar 13 00:00:00 2022 -0800 PST\", \"%a %b %d %H:%M:%S %Y %z %Z\")\n",
    "from_string"
   ]
  },
  {
   "cell_type": "code",
   "execution_count": 19,
   "id": "bc85fb67-e6da-4b4e-9b6c-593f4b6bc50a",
   "metadata": {},
   "outputs": [
    {
     "data": {
      "text/plain": [
       "time.struct_time(tm_year=2022, tm_mon=3, tm_mday=20, tm_hour=12, tm_min=15, tm_sec=46, tm_wday=6, tm_yday=79, tm_isdst=1)"
      ]
     },
     "execution_count": 19,
     "metadata": {},
     "output_type": "execute_result"
    }
   ],
   "source": [
    "tct"
   ]
  },
  {
   "cell_type": "code",
   "execution_count": 20,
   "id": "ca6ebfa9-a937-4273-966d-4e0e0b8dfb9c",
   "metadata": {},
   "outputs": [],
   "source": [
    "import datetime"
   ]
  },
  {
   "cell_type": "code",
   "execution_count": 21,
   "id": "286d2689-baa4-4a18-a34c-614b130c4297",
   "metadata": {},
   "outputs": [
    {
     "data": {
      "text/plain": [
       "datetime.datetime(2022, 3, 20, 12, 15, 46, 996508)"
      ]
     },
     "execution_count": 21,
     "metadata": {},
     "output_type": "execute_result"
    }
   ],
   "source": [
    "today = datetime.datetime.now()\n",
    "today"
   ]
  },
  {
   "cell_type": "markdown",
   "id": "1f6d344e-e378-486a-b05d-26c2592cc538",
   "metadata": {},
   "source": [
    "#### Moving to Numpy\n",
    "\n",
    "numpy is a 3rd party package we use to boost Python's number crunching capabilities.  numpy provides the n-dimensional array (ndarray) as its star type, a combination of data structure and algorithms.  \n",
    "\n",
    "numpy is very often used in conjunction with pandas, another 3rd party package that provides the data structure we call a DataFrame.  The DataFrame likewise comes with many behaviors or capabilities, which we may think of as algorithms.\n",
    "\n",
    "Let's find [a tutorial](https://blog.finxter.com/how-to-work-with-dates-and-times-in-python/) and follow it at least part way.  I like how Adam Murphy gets back to basics by explaining the basic rules of  ISO 8601. I also like how he embeds a Replit from Repl.it.\n",
    "\n",
    "This is a useful research workflow:  to curate and either partially or completely follow tutorials.  This tutorial is about using numpy, a 3rd party package.  numpy comes with its own datetime64 type, which is distinct from Python's native datetime.datetime."
   ]
  },
  {
   "cell_type": "code",
   "execution_count": 77,
   "id": "2b00d45a-4ca3-4c92-9186-e4672759b6e1",
   "metadata": {},
   "outputs": [
    {
     "data": {
      "text/plain": [
       "'1.17.3'"
      ]
     },
     "execution_count": 77,
     "metadata": {},
     "output_type": "execute_result"
    }
   ],
   "source": [
    "import numpy as np\n",
    "np.__version__"
   ]
  },
  {
   "cell_type": "code",
   "execution_count": 85,
   "id": "7c957cc9-1f71-4152-977e-2e6dfd0685c5",
   "metadata": {},
   "outputs": [
    {
     "data": {
      "text/plain": [
       "array([[[1, 1, 1, 1, 1, 1, 1, 1, 1, 1],\n",
       "        [1, 1, 1, 1, 1, 1, 1, 1, 1, 1],\n",
       "        [1, 1, 1, 1, 1, 1, 1, 1, 1, 1],\n",
       "        [1, 1, 1, 1, 1, 1, 1, 1, 1, 1],\n",
       "        [1, 1, 1, 1, 1, 1, 1, 1, 1, 1],\n",
       "        [1, 1, 1, 1, 1, 1, 1, 1, 1, 1],\n",
       "        [1, 1, 1, 1, 1, 1, 1, 1, 1, 1],\n",
       "        [1, 1, 1, 1, 1, 1, 1, 1, 1, 1],\n",
       "        [1, 1, 1, 1, 1, 1, 1, 1, 1, 1],\n",
       "        [1, 1, 1, 1, 1, 1, 1, 1, 1, 1]],\n",
       "\n",
       "       [[1, 1, 1, 1, 1, 1, 1, 1, 1, 1],\n",
       "        [1, 1, 1, 1, 1, 1, 1, 1, 1, 1],\n",
       "        [1, 1, 1, 1, 1, 1, 1, 1, 1, 1],\n",
       "        [1, 1, 1, 1, 1, 1, 1, 1, 1, 1],\n",
       "        [1, 1, 1, 1, 1, 1, 1, 1, 1, 1],\n",
       "        [1, 1, 1, 1, 1, 1, 1, 1, 1, 1],\n",
       "        [1, 1, 1, 1, 1, 1, 1, 1, 1, 1],\n",
       "        [1, 1, 1, 1, 1, 1, 1, 1, 1, 1],\n",
       "        [1, 1, 1, 1, 1, 1, 1, 1, 1, 1],\n",
       "        [1, 1, 1, 1, 1, 1, 1, 1, 1, 1]]])"
      ]
     },
     "execution_count": 85,
     "metadata": {},
     "output_type": "execute_result"
    }
   ],
   "source": [
    "results = np.ones((2, 10, 10), dtype=np.int64)\n",
    "results"
   ]
  },
  {
   "cell_type": "code",
   "execution_count": 86,
   "id": "d2bfef9a-05e4-4e9c-b216-1bac886a0b9d",
   "metadata": {},
   "outputs": [
    {
     "data": {
      "text/plain": [
       "array([[[4, 4, 4, 4, 4, 4, 4, 4, 4, 4],\n",
       "        [4, 4, 4, 4, 4, 4, 4, 4, 4, 4],\n",
       "        [4, 4, 4, 4, 4, 4, 4, 4, 4, 4],\n",
       "        [4, 4, 4, 4, 4, 4, 4, 4, 4, 4],\n",
       "        [4, 4, 4, 4, 4, 4, 4, 4, 4, 4],\n",
       "        [4, 4, 4, 4, 4, 4, 4, 4, 4, 4],\n",
       "        [4, 4, 4, 4, 4, 4, 4, 4, 4, 4],\n",
       "        [4, 4, 4, 4, 4, 4, 4, 4, 4, 4],\n",
       "        [4, 4, 4, 4, 4, 4, 4, 4, 4, 4],\n",
       "        [4, 4, 4, 4, 4, 4, 4, 4, 4, 4]],\n",
       "\n",
       "       [[4, 4, 4, 4, 4, 4, 4, 4, 4, 4],\n",
       "        [4, 4, 4, 4, 4, 4, 4, 4, 4, 4],\n",
       "        [4, 4, 4, 4, 4, 4, 4, 4, 4, 4],\n",
       "        [4, 4, 4, 4, 4, 4, 4, 4, 4, 4],\n",
       "        [4, 4, 4, 4, 4, 4, 4, 4, 4, 4],\n",
       "        [4, 4, 4, 4, 4, 4, 4, 4, 4, 4],\n",
       "        [4, 4, 4, 4, 4, 4, 4, 4, 4, 4],\n",
       "        [4, 4, 4, 4, 4, 4, 4, 4, 4, 4],\n",
       "        [4, 4, 4, 4, 4, 4, 4, 4, 4, 4],\n",
       "        [4, 4, 4, 4, 4, 4, 4, 4, 4, 4]]])"
      ]
     },
     "execution_count": 86,
     "metadata": {},
     "output_type": "execute_result"
    }
   ],
   "source": [
    "results + 3"
   ]
  },
  {
   "cell_type": "code",
   "execution_count": 23,
   "id": "a96d11eb-04ce-416d-b5bf-4711546ce393",
   "metadata": {},
   "outputs": [
    {
     "name": "stdout",
     "output_type": "stream",
     "text": [
      "Number of Days passed since your birthday:\n",
      "16652\n"
     ]
    }
   ],
   "source": [
    "# My Birthday: May 17, 1958\n",
    "birthday = np.datetime64('1958-05-17')\n",
    "today = np.datetime64('2022-03-16')\n",
    "\n",
    "# Business Days passed:\n",
    "passed = np.busday_count(birthday, today)\n",
    "print('Number of Days passed since your birthday:')\n",
    "print(passed)"
   ]
  },
  {
   "cell_type": "code",
   "execution_count": 24,
   "id": "7b2de4ff-d72a-4002-a524-2a4b63451e9f",
   "metadata": {},
   "outputs": [
    {
     "name": "stdout",
     "output_type": "stream",
     "text": [
      "2000\n",
      "2000-11\n",
      "2000-11-22\n",
      "2000-11-22T16:22:44\n"
     ]
    }
   ],
   "source": [
    "# 2000\n",
    "print(np.datetime64('2000'))\n",
    " \n",
    "# November 2000\n",
    "print(np.datetime64('2000-11'))\n",
    " \n",
    "# 22nd November 2000p\n",
    "print(np.datetime64('2000-11-22'))\n",
    " \n",
    "# 7th June 1987 at 16:22:44 (twenty two minutes past four in the afternoon and forty four seconds)\n",
    "print(np.datetime64('2000-11-22 16:22:44'))"
   ]
  },
  {
   "cell_type": "markdown",
   "id": "5a74b743-c52a-4c88-9315-7695d71dcbbf",
   "metadata": {},
   "source": [
    "How many seconds are there between 1st March 2019 at 1 pm and 4th March 2019 at 2 am exactly? 219,600s"
   ]
  },
  {
   "cell_type": "code",
   "execution_count": 25,
   "id": "6f799064-dc30-4d14-8010-67349853a0ae",
   "metadata": {
    "jp-MarkdownHeadingCollapsed": true,
    "tags": []
   },
   "outputs": [
    {
     "data": {
      "text/plain": [
       "numpy.timedelta64(219600,'s')"
      ]
     },
     "execution_count": 25,
     "metadata": {},
     "output_type": "execute_result"
    }
   ],
   "source": [
    "# Subtract both dates written with time unit 's'\n",
    "result = np.datetime64('2019-03-04 02:00:00') - np.datetime64('2019-03-01 13:00:00')\n",
    "result"
   ]
  },
  {
   "cell_type": "code",
   "execution_count": 26,
   "id": "a21bcd93-66b3-4c1c-a5a4-f28996964f5f",
   "metadata": {},
   "outputs": [
    {
     "data": {
      "text/plain": [
       "numpy.datetime64('2019-05-17')"
      ]
     },
     "execution_count": 26,
     "metadata": {},
     "output_type": "execute_result"
    }
   ],
   "source": [
    "# Closest business day back in time is Friday 17th May 2019\n",
    "sat_may_18 = np.datetime64('2019-05-18')  # a Saturday\n",
    "np.busday_offset(sat_may_18, 0, roll='backward')"
   ]
  },
  {
   "cell_type": "code",
   "execution_count": 27,
   "id": "33e2d906-cc16-45eb-becd-5da33b653bf8",
   "metadata": {},
   "outputs": [
    {
     "data": {
      "text/plain": [
       "array(['2022-03-01', '2022-03-02', '2022-03-03', '2022-03-04',\n",
       "       '2022-03-05', '2022-03-06', '2022-03-07', '2022-03-08',\n",
       "       '2022-03-09', '2022-03-10'], dtype='datetime64[D]')"
      ]
     },
     "execution_count": 27,
     "metadata": {},
     "output_type": "execute_result"
    }
   ],
   "source": [
    "days_of_march = np.arange('2022-03-01', '2022-04-01', dtype='datetime64[D]')\n",
    "days_of_march[:10]"
   ]
  },
  {
   "cell_type": "code",
   "execution_count": 28,
   "id": "3b97f9a6-de4a-4989-a246-1bb5f3c017dc",
   "metadata": {},
   "outputs": [
    {
     "data": {
      "text/plain": [
       "array(['2022-02-24', '2022-03-03', '2022-03-10', '2022-03-17',\n",
       "       '2022-03-24'], dtype='datetime64[W]')"
      ]
     },
     "execution_count": 28,
     "metadata": {},
     "output_type": "execute_result"
    }
   ],
   "source": [
    "weeks_of_march = np.arange('2022-03-01', '2022-03-31', dtype='datetime64[W]')\n",
    "weeks_of_march"
   ]
  },
  {
   "cell_type": "code",
   "execution_count": 29,
   "id": "c794679b-91e3-4197-ab9b-d68bc452e1cd",
   "metadata": {},
   "outputs": [
    {
     "data": {
      "text/plain": [
       "numpy.datetime64"
      ]
     },
     "execution_count": 29,
     "metadata": {},
     "output_type": "execute_result"
    }
   ],
   "source": [
    "type(weeks_of_march[1])"
   ]
  },
  {
   "cell_type": "code",
   "execution_count": 30,
   "id": "82991791-6b67-4388-8844-577c0ed8b1ae",
   "metadata": {},
   "outputs": [
    {
     "data": {
      "text/plain": [
       "datetime.date(2022, 3, 3)"
      ]
     },
     "execution_count": 30,
     "metadata": {},
     "output_type": "execute_result"
    }
   ],
   "source": [
    "weeks_of_march[1].astype(datetime.datetime)"
   ]
  },
  {
   "cell_type": "code",
   "execution_count": 31,
   "id": "e8c552dd-79bc-4c8b-8f9c-6f54d2112270",
   "metadata": {},
   "outputs": [
    {
     "name": "stdout",
     "output_type": "stream",
     "text": [
      "3 3 3 3 3 "
     ]
    }
   ],
   "source": [
    "for day in weeks_of_march:\n",
    "   print(day.astype(datetime.datetime).weekday(), end=\" \") # Monday 0... Sunday 6"
   ]
  },
  {
   "cell_type": "code",
   "execution_count": 32,
   "id": "dcb88882-a388-4d4e-8e5a-8b8328aae6c7",
   "metadata": {},
   "outputs": [
    {
     "name": "stdout",
     "output_type": "stream",
     "text": [
      "4 4 4 4 4 "
     ]
    }
   ],
   "source": [
    "for day in weeks_of_march:\n",
    "   print(day.astype(datetime.datetime).isoweekday(), end=\" \") # Monday 0... Sunday 6"
   ]
  },
  {
   "cell_type": "code",
   "execution_count": 33,
   "id": "f01d2eaa-9b9a-4f22-92ab-2bd525a58690",
   "metadata": {},
   "outputs": [],
   "source": [
    "import pandas as pd"
   ]
  },
  {
   "cell_type": "code",
   "execution_count": 34,
   "id": "66046c67-c06b-43c3-bbc4-f9a83afd92f4",
   "metadata": {},
   "outputs": [
    {
     "data": {
      "text/plain": [
       "pandas.core.indexes.base.Index"
      ]
     },
     "execution_count": 34,
     "metadata": {},
     "output_type": "execute_result"
    }
   ],
   "source": [
    "pd.Index"
   ]
  },
  {
   "cell_type": "code",
   "execution_count": 35,
   "id": "5d7ec69b-f88a-4849-a193-143e6aa65bf0",
   "metadata": {},
   "outputs": [],
   "source": [
    "import statsmodels"
   ]
  },
  {
   "cell_type": "code",
   "execution_count": 36,
   "id": "b4ac16ff-061b-4e28-86ab-eb128af8eb3a",
   "metadata": {},
   "outputs": [],
   "source": [
    "obj = pd.Series([4, 7, -5, 3])"
   ]
  },
  {
   "cell_type": "code",
   "execution_count": 37,
   "id": "31804ebb-270b-4e80-a03e-169cfb55acaa",
   "metadata": {},
   "outputs": [
    {
     "data": {
      "text/plain": [
       "0    4\n",
       "1    7\n",
       "2   -5\n",
       "3    3\n",
       "dtype: int64"
      ]
     },
     "execution_count": 37,
     "metadata": {},
     "output_type": "execute_result"
    }
   ],
   "source": [
    "obj"
   ]
  },
  {
   "cell_type": "code",
   "execution_count": 38,
   "id": "83a6fef3-67a9-4885-bd8a-ce94e3c7b804",
   "metadata": {},
   "outputs": [],
   "source": [
    "obj.index.name = \"ROWS\""
   ]
  },
  {
   "cell_type": "code",
   "execution_count": 39,
   "id": "8717ad02-bc2d-4893-afeb-45d90a1001d2",
   "metadata": {},
   "outputs": [
    {
     "data": {
      "text/plain": [
       "ROWS\n",
       "0    4\n",
       "1    7\n",
       "2   -5\n",
       "3    3\n",
       "dtype: int64"
      ]
     },
     "execution_count": 39,
     "metadata": {},
     "output_type": "execute_result"
    }
   ],
   "source": [
    "obj"
   ]
  },
  {
   "cell_type": "code",
   "execution_count": 40,
   "id": "e7fbb9b0-a326-410f-b8ab-e780a9ee0ecb",
   "metadata": {},
   "outputs": [],
   "source": [
    "obj.name = \"SAMPLES\""
   ]
  },
  {
   "cell_type": "code",
   "execution_count": 41,
   "id": "71c38a0b-4855-4653-a038-92b37be75579",
   "metadata": {},
   "outputs": [
    {
     "data": {
      "text/plain": [
       "ROWS\n",
       "0    4\n",
       "1    7\n",
       "2   -5\n",
       "3    3\n",
       "Name: SAMPLES, dtype: int64"
      ]
     },
     "execution_count": 41,
     "metadata": {},
     "output_type": "execute_result"
    }
   ],
   "source": [
    "obj"
   ]
  },
  {
   "cell_type": "code",
   "execution_count": null,
   "id": "c7e4a4f9-6b4f-42b1-abcd-1bb5ba9ec51e",
   "metadata": {},
   "outputs": [],
   "source": [
    "obj.array"
   ]
  },
  {
   "cell_type": "code",
   "execution_count": null,
   "id": "e9453fd9-38ac-4d61-a89c-d462880bd387",
   "metadata": {},
   "outputs": [],
   "source": [
    "obj.index"
   ]
  },
  {
   "cell_type": "code",
   "execution_count": null,
   "id": "84353540-bc28-444c-b457-8592babe638a",
   "metadata": {},
   "outputs": [],
   "source": [
    "obj.index = pd.Index(('a','b','c','d'), name='ROWS')"
   ]
  },
  {
   "cell_type": "code",
   "execution_count": null,
   "id": "9cd1d2a2-65db-456b-b649-6d457edc13a5",
   "metadata": {},
   "outputs": [],
   "source": [
    "obj[obj>0]"
   ]
  },
  {
   "cell_type": "code",
   "execution_count": null,
   "id": "30c29886-6e8d-4835-b5f6-d1c7d7bbc2f9",
   "metadata": {},
   "outputs": [],
   "source": [
    "data = {'state': ['Ohio', 'Ohio', 'Ohio', 'Nevada', 'Nevada', 'Nevada'],\n",
    "        'year': [2000, 2001, 2002, 2001, 2002, 2003],\n",
    "        'pop': [1.5, 1.7, 3.6, 2.4, 2.9, 3.2]}\n",
    "frame = pd.DataFrame(data)"
   ]
  },
  {
   "cell_type": "code",
   "execution_count": null,
   "id": "ec5c01dd-c3a6-4c07-9a6a-eb202c8aeeb8",
   "metadata": {},
   "outputs": [],
   "source": [
    "frame"
   ]
  },
  {
   "cell_type": "code",
   "execution_count": null,
   "id": "8d57bee3-79c8-4531-b36f-951fac77a9ed",
   "metadata": {},
   "outputs": [],
   "source": [
    "pop = {'Ohio': {2000: 1.5, 2001: 1.7, 2002: 3.6},\n",
    "     'Nevada': {2001: 2.4, 2002: 2.9}}\n",
    "frame3 = pd.DataFrame(pop)"
   ]
  },
  {
   "cell_type": "code",
   "execution_count": null,
   "id": "ed286dcb-506f-4b9a-9f31-55887949beb3",
   "metadata": {},
   "outputs": [],
   "source": [
    "frame3"
   ]
  },
  {
   "cell_type": "code",
   "execution_count": null,
   "id": "0fb5a7af-415e-44b1-a40b-32529fb928df",
   "metadata": {},
   "outputs": [],
   "source": [
    "frame3.T"
   ]
  },
  {
   "cell_type": "markdown",
   "id": "695b0042-4797-44db-827e-e0292e67b572",
   "metadata": {},
   "source": [
    "## Space\n",
    "\n",
    "Space and time are not easily separable, as to pinpoint a place in space and not to say *when* it is, implying this \"place\" is accessible regardless of when.\n",
    "\n",
    "One may easily miss a meeting, by showing up too late at the right street corner.  Showing up too early might not be a problem if it's OK to wait.\n",
    "\n",
    "However, we're able to distill space to an essential \"extension\" (\"res extensa\" they called it in Latin) wherein we're able to trace patterns independently of a time dimension.\n",
    "\n",
    "We're able to draw circles, parabolas, hyperbolas, ellipses (the \"conic sections\").  \n",
    "\n",
    "We're also able to sculpt cones, cylinders, spheres, and polyhedrons."
   ]
  },
  {
   "cell_type": "markdown",
   "id": "f11e8382-6046-44ea-b1a8-277ddc28b1cb",
   "metadata": {},
   "source": [
    "### Painting and Plotting\n",
    "\n",
    "Lets draw a parabola.  We learn in school that we might plot a a mathematical relationship between an X and a Y on an XY graph.  X and Y form a pair of Axes.  Axes become a basic unit of data visualization, wherever \"2D plots\" are concerned."
   ]
  },
  {
   "cell_type": "code",
   "execution_count": 45,
   "id": "5d979b6c-59b5-4d1b-9c8e-eb23fbf1df95",
   "metadata": {},
   "outputs": [
    {
     "data": {
      "text/plain": [
       "array([-5.,  5.])"
      ]
     },
     "execution_count": 45,
     "metadata": {},
     "output_type": "execute_result"
    }
   ],
   "source": [
    "x = domain = np.linspace(-5, 5, 100)\n",
    "domain[[0, -1]]  # show first and last points"
   ]
  },
  {
   "cell_type": "markdown",
   "id": "848c031f-6211-4475-a597-e8a6f2a08ced",
   "metadata": {},
   "source": [
    "Use code such as the above for any of your textbook exercises calling for ploting (domain, range) pairs, where the range is the output of some function taking the domain as input.  \n",
    "\n",
    "We call such a function a mapping, like a Python dictionary.  \n",
    "\n",
    "Any given input will only ever map to the same unique output.  \n",
    "\n",
    "But that's not to say multiple inputs must have unique outputs.  Many-to-one is fine.  Many people may have the same age.\n",
    "\n",
    "One-to-many is what we call a relation, not a function.  Relations form a superset.\n",
    "\n",
    "How might we display this Relation > Function superset idea using matplotlib?"
   ]
  },
  {
   "cell_type": "code",
   "execution_count": 74,
   "id": "e3cdbcf4-5778-493f-b151-4eee863595b4",
   "metadata": {},
   "outputs": [
    {
     "data": {
      "image/png": "[encoded data removed]",
      "text/plain": [
       "<Figure size 504x252 with 1 Axes>"
      ]
     },
     "metadata": {
      "needs_background": "light"
     },
     "output_type": "display_data"
    }
   ],
   "source": [
    "import matplotlib\n",
    "from matplotlib import pyplot as plt, patches\n",
    "plt.rcParams[\"figure.figsize\"] = [7.00, 3.50]\n",
    "plt.rcParams[\"figure.autolayout\"] = True\n",
    "fig, ax = plt.subplots()\n",
    "rect = patches.Rectangle((2, 2), 8, 5, color='lightgray')\n",
    "circle1 = patches.Circle((6, 4.5), radius=2, color='cyan')\n",
    "circle2 = patches.Circle((5.5, 3.9), radius=1, color='yellow')\n",
    "ax.add_patch(rect)\n",
    "ax.add_patch(circle1)\n",
    "ax.add_patch(circle2)\n",
    "plt.text(5, 5.8, \"RELATIONS\", color=\"black\")\n",
    "plt.text(4.7, 3.8, \"FUNCTIONS\", color=\"black\")\n",
    "plt.xlim([-10, 10])\n",
    "plt.ylim([-10, 10])\n",
    "plt.axis('equal')\n",
    "plt.axis('off')\n",
    "plt.show()"
   ]
  },
  {
   "cell_type": "markdown",
   "id": "96684d87-02fa-423a-84c2-b7b0e4a6fea1",
   "metadata": {},
   "source": [
    "Let's remind ourselves of our domain, of 100 data points evenly spaced between `[-5, 5]` inclusive:"
   ]
  },
  {
   "cell_type": "code",
   "execution_count": 46,
   "id": "0e180418-8f3f-4d03-8d57-29cfff06dfb0",
   "metadata": {},
   "outputs": [
    {
     "data": {
      "text/plain": [
       "100"
      ]
     },
     "execution_count": 46,
     "metadata": {},
     "output_type": "execute_result"
    }
   ],
   "source": [
    "len(domain)"
   ]
  },
  {
   "cell_type": "markdown",
   "id": "aa1541a4-9ccf-4d80-9b7c-a2167d5f5dbb",
   "metadata": {},
   "source": [
    "Now comes the fun part:  defining a rule to take all our domain points to corresponding range points.  Since `range` is a keyword in Python, we'll avoid using it as a name.  \n",
    "\n",
    "Lowercase y will do fine.  \n",
    "\n",
    "We write:  \n",
    "\n",
    "$$\n",
    "y = f(x)\n",
    "$$"
   ]
  },
  {
   "cell_type": "markdown",
   "id": "f3798a32-5f17-4b1e-bd8c-5e9d0a2c2a3e",
   "metadata": {},
   "source": [
    "Note about Scope:  In the list comprehension below, the the x value stays local to the pair of brackets and does not overwrite our global x, i.e. domain.  \n",
    "\n",
    "On the other hand, the global name `domain` is readable from within the brackets, and remains unchanged."
   ]
  },
  {
   "cell_type": "code",
   "execution_count": 47,
   "id": "3ffaaced-bed8-400f-b54f-6a5a550b55ba",
   "metadata": {},
   "outputs": [],
   "source": [
    "y = [pow(x, 2) for x in domain]  # local x, global domain"
   ]
  },
  {
   "cell_type": "code",
   "execution_count": 76,
   "id": "496324a3-916b-4b31-900e-d2fffa639e5a",
   "metadata": {},
   "outputs": [
    {
     "data": {
      "text/plain": [
       "numpy.ndarray"
      ]
     },
     "execution_count": 76,
     "metadata": {},
     "output_type": "execute_result"
    }
   ],
   "source": [
    "type(x)  # still an array"
   ]
  },
  {
   "cell_type": "markdown",
   "id": "a8f73628-fb53-4666-9980-fa5bca4e6a6d",
   "metadata": {},
   "source": [
    "Now we're ready to use a pandas DataFrame, which has some built-in plotting capabilities."
   ]
  },
  {
   "cell_type": "code",
   "execution_count": 50,
   "id": "d1cc64db-451e-451f-aa7e-bca005810a72",
   "metadata": {},
   "outputs": [],
   "source": [
    "chart = pd.DataFrame({\"X\": x, \"Y\": y})"
   ]
  },
  {
   "cell_type": "code",
   "execution_count": 61,
   "id": "0f14a592-d0f9-4498-ba28-f977fc7e2d22",
   "metadata": {},
   "outputs": [
    {
     "data": {
      "text/html": [
       "<div>\n",
       "<style scoped>\n",
       "    .dataframe tbody tr th:only-of-type {\n",
       "        vertical-align: middle;\n",
       "    }\n",
       "\n",
       "    .dataframe tbody tr th {\n",
       "        vertical-align: top;\n",
       "    }\n",
       "\n",
       "    .dataframe thead th {\n",
       "        text-align: right;\n",
       "    }\n",
       "</style>\n",
       "<table border=\"1\" class=\"dataframe\">\n",
       "  <thead>\n",
       "    <tr style=\"text-align: right;\">\n",
       "      <th></th>\n",
       "      <th>X</th>\n",
       "      <th>Y</th>\n",
       "    </tr>\n",
       "  </thead>\n",
       "  <tbody>\n",
       "    <tr>\n",
       "      <th>0</th>\n",
       "      <td>-5.00000</td>\n",
       "      <td>25.000000</td>\n",
       "    </tr>\n",
       "    <tr>\n",
       "      <th>1</th>\n",
       "      <td>-4.89899</td>\n",
       "      <td>24.000102</td>\n",
       "    </tr>\n",
       "    <tr>\n",
       "      <th>2</th>\n",
       "      <td>-4.79798</td>\n",
       "      <td>23.020610</td>\n",
       "    </tr>\n",
       "    <tr>\n",
       "      <th>3</th>\n",
       "      <td>-4.69697</td>\n",
       "      <td>22.061524</td>\n",
       "    </tr>\n",
       "    <tr>\n",
       "      <th>4</th>\n",
       "      <td>-4.59596</td>\n",
       "      <td>21.122845</td>\n",
       "    </tr>\n",
       "  </tbody>\n",
       "</table>\n",
       "</div>"
      ],
      "text/plain": [
       "         X          Y\n",
       "0 -5.00000  25.000000\n",
       "1 -4.89899  24.000102\n",
       "2 -4.79798  23.020610\n",
       "3 -4.69697  22.061524\n",
       "4 -4.59596  21.122845"
      ]
     },
     "execution_count": 61,
     "metadata": {},
     "output_type": "execute_result"
    }
   ],
   "source": [
    "chart.head() # far left"
   ]
  },
  {
   "cell_type": "code",
   "execution_count": 59,
   "id": "9e5b218b-2c3a-4982-8444-ab4085bdc6da",
   "metadata": {},
   "outputs": [
    {
     "data": {
      "text/html": [
       "<div>\n",
       "<style scoped>\n",
       "    .dataframe tbody tr th:only-of-type {\n",
       "        vertical-align: middle;\n",
       "    }\n",
       "\n",
       "    .dataframe tbody tr th {\n",
       "        vertical-align: top;\n",
       "    }\n",
       "\n",
       "    .dataframe thead th {\n",
       "        text-align: right;\n",
       "    }\n",
       "</style>\n",
       "<table border=\"1\" class=\"dataframe\">\n",
       "  <thead>\n",
       "    <tr style=\"text-align: right;\">\n",
       "      <th></th>\n",
       "      <th>X</th>\n",
       "      <th>Y</th>\n",
       "    </tr>\n",
       "  </thead>\n",
       "  <tbody>\n",
       "    <tr>\n",
       "      <th>45</th>\n",
       "      <td>-0.454545</td>\n",
       "      <td>0.206612</td>\n",
       "    </tr>\n",
       "    <tr>\n",
       "      <th>46</th>\n",
       "      <td>-0.353535</td>\n",
       "      <td>0.124987</td>\n",
       "    </tr>\n",
       "    <tr>\n",
       "      <th>47</th>\n",
       "      <td>-0.252525</td>\n",
       "      <td>0.063769</td>\n",
       "    </tr>\n",
       "    <tr>\n",
       "      <th>48</th>\n",
       "      <td>-0.151515</td>\n",
       "      <td>0.022957</td>\n",
       "    </tr>\n",
       "    <tr>\n",
       "      <th>49</th>\n",
       "      <td>-0.050505</td>\n",
       "      <td>0.002551</td>\n",
       "    </tr>\n",
       "    <tr>\n",
       "      <th>50</th>\n",
       "      <td>0.050505</td>\n",
       "      <td>0.002551</td>\n",
       "    </tr>\n",
       "    <tr>\n",
       "      <th>51</th>\n",
       "      <td>0.151515</td>\n",
       "      <td>0.022957</td>\n",
       "    </tr>\n",
       "    <tr>\n",
       "      <th>52</th>\n",
       "      <td>0.252525</td>\n",
       "      <td>0.063769</td>\n",
       "    </tr>\n",
       "    <tr>\n",
       "      <th>53</th>\n",
       "      <td>0.353535</td>\n",
       "      <td>0.124987</td>\n",
       "    </tr>\n",
       "    <tr>\n",
       "      <th>54</th>\n",
       "      <td>0.454545</td>\n",
       "      <td>0.206612</td>\n",
       "    </tr>\n",
       "    <tr>\n",
       "      <th>55</th>\n",
       "      <td>0.555556</td>\n",
       "      <td>0.308642</td>\n",
       "    </tr>\n",
       "  </tbody>\n",
       "</table>\n",
       "</div>"
      ],
      "text/plain": [
       "           X         Y\n",
       "45 -0.454545  0.206612\n",
       "46 -0.353535  0.124987\n",
       "47 -0.252525  0.063769\n",
       "48 -0.151515  0.022957\n",
       "49 -0.050505  0.002551\n",
       "50  0.050505  0.002551\n",
       "51  0.151515  0.022957\n",
       "52  0.252525  0.063769\n",
       "53  0.353535  0.124987\n",
       "54  0.454545  0.206612\n",
       "55  0.555556  0.308642"
      ]
     },
     "execution_count": 59,
     "metadata": {},
     "output_type": "execute_result"
    }
   ],
   "source": [
    "chart.loc[list(range(45,56))]  # bottom of parabola"
   ]
  },
  {
   "cell_type": "code",
   "execution_count": 60,
   "id": "bd7da8d8-4bd1-4a44-b159-86101b46d828",
   "metadata": {},
   "outputs": [
    {
     "data": {
      "text/html": [
       "<div>\n",
       "<style scoped>\n",
       "    .dataframe tbody tr th:only-of-type {\n",
       "        vertical-align: middle;\n",
       "    }\n",
       "\n",
       "    .dataframe tbody tr th {\n",
       "        vertical-align: top;\n",
       "    }\n",
       "\n",
       "    .dataframe thead th {\n",
       "        text-align: right;\n",
       "    }\n",
       "</style>\n",
       "<table border=\"1\" class=\"dataframe\">\n",
       "  <thead>\n",
       "    <tr style=\"text-align: right;\">\n",
       "      <th></th>\n",
       "      <th>X</th>\n",
       "      <th>Y</th>\n",
       "    </tr>\n",
       "  </thead>\n",
       "  <tbody>\n",
       "    <tr>\n",
       "      <th>95</th>\n",
       "      <td>4.59596</td>\n",
       "      <td>21.122845</td>\n",
       "    </tr>\n",
       "    <tr>\n",
       "      <th>96</th>\n",
       "      <td>4.69697</td>\n",
       "      <td>22.061524</td>\n",
       "    </tr>\n",
       "    <tr>\n",
       "      <th>97</th>\n",
       "      <td>4.79798</td>\n",
       "      <td>23.020610</td>\n",
       "    </tr>\n",
       "    <tr>\n",
       "      <th>98</th>\n",
       "      <td>4.89899</td>\n",
       "      <td>24.000102</td>\n",
       "    </tr>\n",
       "    <tr>\n",
       "      <th>99</th>\n",
       "      <td>5.00000</td>\n",
       "      <td>25.000000</td>\n",
       "    </tr>\n",
       "  </tbody>\n",
       "</table>\n",
       "</div>"
      ],
      "text/plain": [
       "          X          Y\n",
       "95  4.59596  21.122845\n",
       "96  4.69697  22.061524\n",
       "97  4.79798  23.020610\n",
       "98  4.89899  24.000102\n",
       "99  5.00000  25.000000"
      ]
     },
     "execution_count": 60,
     "metadata": {},
     "output_type": "execute_result"
    }
   ],
   "source": [
    "chart.tail()  # far right"
   ]
  },
  {
   "cell_type": "code",
   "execution_count": 55,
   "id": "13203630-e8ea-444b-84f3-895f52fee819",
   "metadata": {},
   "outputs": [
    {
     "data": {
      "image/png": "[encoded data removed]",
      "text/plain": [
       "<Figure size 432x288 with 1 Axes>"
      ]
     },
     "metadata": {
      "needs_background": "light"
     },
     "output_type": "display_data"
    }
   ],
   "source": [
    "chart.plot(x='X'); # x axis corresponds to X"
   ]
  }
 ],
 "metadata": {
  "kernelspec": {
   "display_name": "Python 3 (ipykernel)",
   "language": "python",
   "name": "python3"
  },
  "language_info": {
   "codemirror_mode": {
    "name": "ipython",
    "version": 3
   },
   "file_extension": ".py",
   "mimetype": "text/x-python",
   "name": "python",
   "nbconvert_exporter": "python",
   "pygments_lexer": "ipython3",
   "version": "3.7.9"
  }
 },
 "nbformat": 4,
 "nbformat_minor": 5
}
