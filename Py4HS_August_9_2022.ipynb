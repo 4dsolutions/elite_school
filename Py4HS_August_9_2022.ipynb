{
 "cells": [
  {
   "cell_type": "markdown",
   "id": "468e25aa-24a4-4eaf-b4e0-c47792f38b1c",
   "metadata": {
    "tags": []
   },
   "source": [
    "##### Python for High School (Summer 2022)\n",
    "\n",
    "* [Table of Contents](PY4HS.ipynb)\n",
    "* <a href=\"https://colab.research.google.com/github/4dsolutions/elite_school/blob/master/Py4HS_July_26_2022.ipynb\"><img align=\"left\" src=\"https://colab.research.google.com/assets/colab-badge.svg\" alt=\"Open in Colab\" title=\"Open and Execute in Google Colaboratory\"></a>\n",
    "* [![nbviewer](https://raw.githubusercontent.com/jupyter/design/master/logos/Badges/nbviewer_badge.svg)](https://nbviewer.org/github/4dsolutions/elite_school/blob/master/Py4HS_July_26_2022.ipynb)"
   ]
  },
  {
   "cell_type": "markdown",
   "id": "394385ec-4610-483b-b928-bf5300b5964c",
   "metadata": {},
   "source": [
    "### Public Key Crypto\n",
    "\n",
    "King Bob wants to yak with Queen Alice, without worrying about Eve's eavesdropping.\n",
    "\n",
    "Bob lists his public key N, with an exponent e, and tells Alice to send her message m raised to the eth power, mod N. Even though Eve knows (e, N), she cannot reverse the operation and get m from c.\n",
    "\n",
    "When Bob gets c (the cyphertext) from Alice, he raises it even more, to a secret dth power.  The only way to get d was to know the two primes that make N.  Bob shared N, but never the two primes that made it, so his d is secure, unless someone factors his N.  \n",
    "\n",
    "Bob's secret d is just the right number to make Alice's plaintext message pop out again.  e * d is exactly 1 modulo N's totient, and by Euler's Theorem, any base raised to 1 modulo N's totient, modulo N, is precisely that base.\n",
    "\n",
    "$$\n",
    "m = m^{e * d}\\mod N  \n",
    "$$\n",
    "\n",
    "provided:\n",
    "\n",
    "$$\n",
    "(e * d)\\mod \\phi(N) = 1\n",
    "$$\n",
    "\n",
    "$\\phi(N)$ is easy to derive provided we know what primes went in to making N.  \n",
    "\n",
    "$$\n",
    "\\phi(N) = (p - 1)(q - 1)\n",
    "$$\n",
    "\n",
    "Bob derived N and $\\phi(N)$ at the same time, and from $phi(N)$ derived d.  Alice never needs d.  She has her own secret d, paired with her own public N."
   ]
  },
  {
   "cell_type": "code",
   "execution_count": 1,
   "id": "832bbb03-d3b3-4e56-90cf-4cf2ec5b7a1e",
   "metadata": {},
   "outputs": [],
   "source": [
    "import nums"
   ]
  },
  {
   "cell_type": "code",
   "execution_count": 2,
   "id": "8720c73c-b20f-425a-8367-26e92812a39e",
   "metadata": {},
   "outputs": [],
   "source": [
    "import primes.euler_test as et"
   ]
  },
  {
   "cell_type": "code",
   "execution_count": 3,
   "id": "34fe5fd9-ab0f-4d3a-b8f4-8ee24caaa392",
   "metadata": {},
   "outputs": [
    {
     "name": "stdout",
     "output_type": "stream",
     "text": [
      "---< SMALLER NUMBERS >---\n",
      "Public Stuff:\n",
      "  e=7\n",
      "  N=784811\n",
      "Secret Stuff:\n",
      "  d=335551\n",
      "  p1=647\n",
      "  p2=1213\n",
      "Text to encrypt:  b'it'\n",
      "Encrypted: 741475\n",
      "Decrypted: b'it'\n"
     ]
    }
   ],
   "source": [
    "et.test_small()"
   ]
  },
  {
   "cell_type": "code",
   "execution_count": 4,
   "id": "fbd5813c-23b2-4691-bc03-884023d7bcab",
   "metadata": {},
   "outputs": [
    {
     "name": "stdout",
     "output_type": "stream",
     "text": [
      "---< LARGER NUMBERS >---\n",
      "Public Stuff:\n",
      "  e=17\n",
      "  N=352002013083850191164867\n",
      "Secret Stuff:\n",
      "  d=269178010004376496567697\n",
      "  p1=500001668113\n",
      "  p2=704001677459\n",
      "Text to encrypt:  b'dingaling'\n",
      "Encrypted: 243949334666981928158849\n",
      "Decrypted: b'dingaling'\n"
     ]
    }
   ],
   "source": [
    "et.test_big()"
   ]
  },
  {
   "cell_type": "code",
   "execution_count": 5,
   "id": "bc099352-3410-4823-8f8d-917e9ac74fa2",
   "metadata": {},
   "outputs": [],
   "source": [
    "p1=500001668113\n",
    "p2=704001677459\n",
    "N = p1 * p2\n",
    "totientN = (p1-1)*(p2-1)\n",
    "e = 17\n",
    "d = nums.invmod(e, totientN)"
   ]
  },
  {
   "cell_type": "code",
   "execution_count": 6,
   "id": "f309fb39-882e-413d-88d8-fbeecea3fe7c",
   "metadata": {},
   "outputs": [
    {
     "data": {
      "text/plain": [
       "17"
      ]
     },
     "execution_count": 6,
     "metadata": {},
     "output_type": "execute_result"
    }
   ],
   "source": [
    "e"
   ]
  },
  {
   "cell_type": "code",
   "execution_count": 7,
   "id": "7c35ff78-7ae0-44fc-8662-8b529bc4fe87",
   "metadata": {},
   "outputs": [
    {
     "data": {
      "text/plain": [
       "269178010004376496567697"
      ]
     },
     "execution_count": 7,
     "metadata": {},
     "output_type": "execute_result"
    }
   ],
   "source": [
    "d"
   ]
  },
  {
   "cell_type": "code",
   "execution_count": 8,
   "id": "07762bdc-1046-420c-a356-155840ca58fa",
   "metadata": {},
   "outputs": [
    {
     "data": {
      "text/plain": [
       "1"
      ]
     },
     "execution_count": 8,
     "metadata": {},
     "output_type": "execute_result"
    }
   ],
   "source": [
    "(e * d) % totientN"
   ]
  },
  {
   "cell_type": "code",
   "execution_count": 9,
   "id": "cdea5092-b54c-424c-b070-b73665a297d3",
   "metadata": {},
   "outputs": [
    {
     "data": {
      "text/plain": [
       "352002013083850191164867"
      ]
     },
     "execution_count": 9,
     "metadata": {},
     "output_type": "execute_result"
    }
   ],
   "source": [
    "N"
   ]
  },
  {
   "cell_type": "code",
   "execution_count": 19,
   "id": "7efcd132-22b9-452c-b1c6-1c45e0acf071",
   "metadata": {},
   "outputs": [],
   "source": [
    "from binascii import hexlify, unhexlify"
   ]
  },
  {
   "cell_type": "code",
   "execution_count": 11,
   "id": "a93e3a01-dd9f-41c4-8e63-d242845e633e",
   "metadata": {},
   "outputs": [
    {
     "data": {
      "text/plain": [
       "1852271530660504104551"
      ]
     },
     "execution_count": 11,
     "metadata": {},
     "output_type": "execute_result"
    }
   ],
   "source": [
    "m = eval(\"0x\"+str(hexlify(b'dingaling'))[2:-1])\n",
    "m"
   ]
  },
  {
   "cell_type": "code",
   "execution_count": 12,
   "id": "6c674843-3505-4030-8515-6f9964d68c46",
   "metadata": {},
   "outputs": [
    {
     "data": {
      "text/plain": [
       "243949334666981928158849"
      ]
     },
     "execution_count": 12,
     "metadata": {},
     "output_type": "execute_result"
    }
   ],
   "source": [
    "c = pow(m, e, N)  # encrypt\n",
    "c"
   ]
  },
  {
   "cell_type": "code",
   "execution_count": 13,
   "id": "329ea1c1-0f77-4f4e-a57d-9df5d7aa5ee1",
   "metadata": {},
   "outputs": [
    {
     "data": {
      "text/plain": [
       "1852271530660504104551"
      ]
     },
     "execution_count": 13,
     "metadata": {},
     "output_type": "execute_result"
    }
   ],
   "source": [
    "pow(c, d, N)      # decrypt"
   ]
  },
  {
   "cell_type": "code",
   "execution_count": 23,
   "id": "830db4aa-6cc9-44a9-be5d-489531b20d8f",
   "metadata": {},
   "outputs": [
    {
     "data": {
      "text/plain": [
       "'0x64696e67616c696e67'"
      ]
     },
     "execution_count": 23,
     "metadata": {},
     "output_type": "execute_result"
    }
   ],
   "source": [
    "h = hex(1852271530660504104551)\n",
    "h"
   ]
  },
  {
   "cell_type": "code",
   "execution_count": 24,
   "id": "d2923d50-66c5-45b6-8509-bde818fe2e01",
   "metadata": {},
   "outputs": [
    {
     "data": {
      "text/plain": [
       "b'dingaling'"
      ]
     },
     "execution_count": 24,
     "metadata": {},
     "output_type": "execute_result"
    }
   ],
   "source": [
    "unhexlify(h[2:])"
   ]
  },
  {
   "cell_type": "code",
   "execution_count": 14,
   "id": "22a375c2-8695-4438-9807-b857989c3cb7",
   "metadata": {},
   "outputs": [
    {
     "data": {
      "text/plain": [
       "17"
      ]
     },
     "execution_count": 14,
     "metadata": {},
     "output_type": "execute_result"
    }
   ],
   "source": [
    "e"
   ]
  },
  {
   "cell_type": "code",
   "execution_count": 15,
   "id": "5d0a7579-f6f5-420d-bcf5-826a14221f0c",
   "metadata": {},
   "outputs": [
    {
     "data": {
      "text/plain": [
       "269178010004376496567697"
      ]
     },
     "execution_count": 15,
     "metadata": {},
     "output_type": "execute_result"
    }
   ],
   "source": [
    "d"
   ]
  },
  {
   "cell_type": "code",
   "execution_count": 16,
   "id": "a48c9f4c-3c5d-4156-95e7-1b63aebccec8",
   "metadata": {},
   "outputs": [
    {
     "data": {
      "text/plain": [
       "1"
      ]
     },
     "execution_count": 16,
     "metadata": {},
     "output_type": "execute_result"
    }
   ],
   "source": [
    "e * d % totientN"
   ]
  },
  {
   "cell_type": "markdown",
   "id": "97b4bc24-101f-4b0f-a432-b974b4eeaaf6",
   "metadata": {},
   "source": [
    " \n",
    "$$\n",
    "c= m^e \\mod N\n",
    "$$ \n",
    "\n",
    "$$ m=\n",
    " c^d \\mod N\n",
    "$$\n",
    "\n",
    "$$\n",
    "m \\equiv c^d \\equiv m^{e^{d}} \\equiv m^{e\\cdot d} \\mod N\n",
    "$$\n"
   ]
  },
  {
   "cell_type": "code",
   "execution_count": 25,
   "id": "2b3d3cc8-97b1-4f81-a106-b6579557a729",
   "metadata": {},
   "outputs": [
    {
     "data": {
      "image/jpeg": "[encoded data removed]",
      "text/html": [
       "\n",
       "        <iframe\n",
       "            width=\"400\"\n",
       "            height=\"300\"\n",
       "            src=\"https://www.youtube.com/embed/n0uJsqFGO4k\"\n",
       "            frameborder=\"0\"\n",
       "            allowfullscreen\n",
       "            \n",
       "        ></iframe>\n",
       "        "
      ],
      "text/plain": [
       "<IPython.lib.display.YouTubeVideo at 0x119df0460>"
      ]
     },
     "execution_count": 25,
     "metadata": {},
     "output_type": "execute_result"
    }
   ],
   "source": [
    "from IPython.display import YouTubeVideo\n",
    "YouTubeVideo(\"n0uJsqFGO4k\")  # https://youtu.be/n0uJsqFGO4k"
   ]
  }
 ],
 "metadata": {
  "kernelspec": {
   "display_name": "Python 3 (ipykernel)",
   "language": "python",
   "name": "python3"
  },
  "language_info": {
   "codemirror_mode": {
    "name": "ipython",
    "version": 3
   },
   "file_extension": ".py",
   "mimetype": "text/x-python",
   "name": "python",
   "nbconvert_exporter": "python",
   "pygments_lexer": "ipython3",
   "version": "3.9.12"
  }
 },
 "nbformat": 4,
 "nbformat_minor": 5
}
