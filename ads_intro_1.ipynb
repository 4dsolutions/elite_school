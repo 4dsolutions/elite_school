{
 "cells": [
  {
   "cell_type": "markdown",
   "id": "ae01d5f4-08dd-4621-a403-27645dcc8459",
   "metadata": {
    "tags": []
   },
   "source": [
    "#### Algorithms and Data Structures (Winter - Spring 2022)"
   ]
  },
  {
   "cell_type": "markdown",
   "id": "041bf7d2-5837-4936-a603-2d408d0ab96b",
   "metadata": {},
   "source": [
    "# Algorithms\n",
    "\n",
    "\"Algorithms\" are named for a Persian polymath who worked out of the Wisdom School in Baghdad (Iraq had not yet been invented as a country).  \n",
    " \n",
    "His name in Persian is: محمد بن موسی خوارزمی, which gets Latinized as Muḥammad ibn Mūsā al-Khwārizmī (c. 780 – c. 850), or Al Khwarizmi for short, which sounds a little bit like \"Al Gorithm\" (not not a lot).  \"Algorithm\" sounds a lot more like \"Al Gore\" (that's a joke, why?  See notes below).\n",
    "\n",
    "![\"al Khwarizmi\"](https://upload.wikimedia.org/wikipedia/commons/a/a6/Khwarizmi_Amirkabir_University_of_Technology.png)\n",
    "\n",
    "But what is an \"algorithm\" anyway?\n",
    "\n",
    "An algorithm is a step-by-step numerical recipe, something to follow.\n",
    "\n",
    "The idea of \"numerical recipes\" as at the basis of  arithmetic and is what we learn in school as addition, subtraction, multiplication and division.\n",
    "\n",
    "This idea of \"numerical recipes\" spread to Italy, through the town of Pisa where the famous Leonardo Fibonacci (c. 1170 - c. 1250) wrote *Liber Abaci*, based on Al Khwarizmi's work.  \n",
    "\n",
    "If you learned Arabic numerals, Fibonacci told his readers, you could get free of Roman numerals and the abacus.  You could learn to compute on paper or on a chalkboard.\n",
    "\n",
    "You might be thinking \"if algorithm means step-by-step number crunching then isn't any computer program an algorithm?\"  \n",
    "\n",
    "That's pretty close to how people use the word nowadays.  People talk about the \"recommendation algorithm\" used by online sellers to suggest other, related products you might want ot buy."
   ]
  },
  {
   "cell_type": "markdown",
   "id": "794de8ba-d32c-4370-9c3f-00565c1fb71e",
   "metadata": {},
   "source": [
    "### Fibonacci Numbers\n",
    "\n",
    "You may have heard of this famous sequence of numbers, named for Fibonacci.  Below is some Python code for generating the first ten terms in the sequence, starting from 0.\n",
    "\n",
    "Don't worry if you're not familiar with the idea of a \"generator function\" in Python.  We will be introducing features of the Python language as we go.\n",
    "\n",
    "You could call this short program \"an algorithm for generating the Fibonacci numbers\"."
   ]
  },
  {
   "cell_type": "code",
   "execution_count": 1,
   "id": "c62e9a59-27d9-4bef-9051-5ae5fdc54962",
   "metadata": {},
   "outputs": [
    {
     "name": "stdout",
     "output_type": "stream",
     "text": [
      "[0, 1, 1, 2, 3, 5, 8, 13, 21, 34]\n"
     ]
    }
   ],
   "source": [
    "# Fibonacci Numbers\n",
    "\n",
    "def fibo(a=0, b=1):\n",
    "    while True:\n",
    "        yield a\n",
    "        b, a = a + b, b\n",
    "        \n",
    "gen = fibo()\n",
    "fibs = [next(gen) for _ in range(10)]\n",
    "print(fibs)"
   ]
  },
  {
   "cell_type": "markdown",
   "id": "c5c1ca02-dd7f-4177-b3d7-9eccda8ba55e",
   "metadata": {},
   "source": [
    "# Data Structures\n",
    "\n",
    "When you cook, following a recipe, you need ways to store you ingredients, as well as places to mix them.  Containers of various types come to mind: liquid measuring spoons, sized cups, bags and jars.  We also need cutting boards and other work surfaces.\n",
    "\n",
    "Algorithms likewise require lots of data containers, named amounts, for organizing all the ingredients in a numerical recipe.\n",
    "\n",
    "For example, in the Fibonacci Numbers code, we stored the sequence in a Python list named fibs.  The Python list is a type of data structure.  What are some other data structures in Python?\n",
    "\n",
    "We will begin our study of data structures by using them within algorithms."
   ]
  },
  {
   "cell_type": "code",
   "execution_count": 2,
   "id": "673e96b2-5b65-4716-8439-42c42e8567aa",
   "metadata": {},
   "outputs": [],
   "source": [
    "# List\n",
    "\n",
    "L = [5, 2, 7, 0, 10]"
   ]
  },
  {
   "cell_type": "code",
   "execution_count": 3,
   "id": "4c5208d3-4c9d-4f44-b5ef-1ef1aadd868d",
   "metadata": {},
   "outputs": [
    {
     "data": {
      "text/plain": [
       "[10, 0, 7, 2, 5]"
      ]
     },
     "execution_count": 3,
     "metadata": {},
     "output_type": "execute_result"
    }
   ],
   "source": [
    "L.reverse()  # some algorithm knows how to reverse any list\n",
    "L"
   ]
  },
  {
   "cell_type": "code",
   "execution_count": 4,
   "id": "566fa4f8-3806-4be9-83c3-cbe0648cc32c",
   "metadata": {},
   "outputs": [
    {
     "data": {
      "text/plain": [
       "[0, 2, 5, 7, 10]"
      ]
     },
     "execution_count": 4,
     "metadata": {},
     "output_type": "execute_result"
    }
   ],
   "source": [
    "L.sort()  # some algorithm knows how to sort some lists\n",
    "L"
   ]
  },
  {
   "cell_type": "code",
   "execution_count": 5,
   "id": "d4bab4d9-8f47-46d3-9349-ded447e6d848",
   "metadata": {},
   "outputs": [
    {
     "name": "stdout",
     "output_type": "stream",
     "text": [
      "'<' not supported between instances of 'int' and 'str'\n"
     ]
    }
   ],
   "source": [
    "M = ['a', 10, True]  # but not all lists can be sorted\n",
    "try:\n",
    "    M.sort()\n",
    "except Exception as e:\n",
    "    print(e)"
   ]
  }
 ],
 "metadata": {
  "kernelspec": {
   "display_name": "Python 3 (ipykernel)",
   "language": "python",
   "name": "python3"
  },
  "language_info": {
   "codemirror_mode": {
    "name": "ipython",
    "version": 3
   },
   "file_extension": ".py",
   "mimetype": "text/x-python",
   "name": "python",
   "nbconvert_exporter": "python",
   "pygments_lexer": "ipython3",
   "version": "3.7.9"
  }
 },
 "nbformat": 4,
 "nbformat_minor": 5
}
