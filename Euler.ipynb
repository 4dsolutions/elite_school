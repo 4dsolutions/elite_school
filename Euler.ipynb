{
 "cells": [
  {
   "cell_type": "markdown",
   "id": "8754b8ea",
   "metadata": {},
   "source": [
    "[Home](Home.ipynb) <br/>\n",
    "[Crypto](Crypto.ipynb)\n",
    "\n",
    "# Euler's Theorem\n",
    "\n",
    "What we're calling Euler's Theorem here might also be called Euler's Totient Theorem.  Do you remember the totient function?  It gives the number of totatives of a number n.  "
   ]
  },
  {
   "cell_type": "code",
   "execution_count": 1,
   "id": "62ccdc92",
   "metadata": {},
   "outputs": [],
   "source": [
    "from math import gcd"
   ]
  },
  {
   "cell_type": "code",
   "execution_count": 2,
   "id": "6f33b088",
   "metadata": {},
   "outputs": [],
   "source": [
    "def totient(N):\n",
    "    \"\"\"How many strangers between 1 and N?\"\"\"\n",
    "    totatives = [x for x in range(1, N) if gcd(x, N)==1]\n",
    "    return len(totatives)"
   ]
  },
  {
   "cell_type": "code",
   "execution_count": 3,
   "id": "d54f5815",
   "metadata": {},
   "outputs": [],
   "source": [
    "𝜙 = totient # synonym"
   ]
  },
  {
   "cell_type": "code",
   "execution_count": 4,
   "id": "ef3b5715",
   "metadata": {},
   "outputs": [
    {
     "data": {
      "text/plain": [
       "[4, 40, 46, 52]"
      ]
     },
     "execution_count": 4,
     "metadata": {},
     "output_type": "execute_result"
    }
   ],
   "source": [
    "list(map(𝜙, [12, 100, 47, 53]))"
   ]
  },
  {
   "cell_type": "markdown",
   "id": "319d32d2",
   "metadata": {},
   "source": [
    "Euler's Theorem states that a base raised to the totient of n power, mod n, will always be 1.\n",
    "\n",
    "Euler's Theorem:\n",
    "\n",
    "$$\n",
    "A^{\\phi(N)}\\ \\equiv 1\\ (\\mathrm{mod}\\ \\ N)\n",
    "$$\n",
    "\n",
    "where gcd(A, N)=1\n",
    "\n",
    "Lets unpack that in Python, with a function that returns True when Euler's Theorem holds.  That should be always, when conditions are met."
   ]
  },
  {
   "cell_type": "code",
   "execution_count": 5,
   "id": "64892044",
   "metadata": {},
   "outputs": [],
   "source": [
    "def euler(A :int, N :int) -> bool:\n",
    "    if gcd(A, N) != 1:\n",
    "        print(\"a and N are not strangers!\")\n",
    "        return\n",
    "    return pow(A, totient(N), N) == 1"
   ]
  },
  {
   "cell_type": "code",
   "execution_count": 6,
   "id": "0d0efcd1",
   "metadata": {},
   "outputs": [
    {
     "data": {
      "text/plain": [
       "True"
      ]
     },
     "execution_count": 6,
     "metadata": {},
     "output_type": "execute_result"
    }
   ],
   "source": [
    "euler(77, 100)"
   ]
  },
  {
   "cell_type": "markdown",
   "id": "d906a50b",
   "metadata": {},
   "source": [
    "Remember [Euler's Extended Algorithm](EEA.ipynb)?  We can use it to discover the multiplicative inverse of any number modulo N.  \n",
    "\n",
    "For example, $5\\ (\\mathrm{mod}\\ \\ 17)$ multiplied *by what* equals $1\\ (\\mathrm{mod}\\ \\ 17)$?"
   ]
  },
  {
   "cell_type": "code",
   "execution_count": 23,
   "id": "92319c51",
   "metadata": {},
   "outputs": [],
   "source": [
    "from primes import invmod, xgcd as eea"
   ]
  },
  {
   "cell_type": "code",
   "execution_count": 24,
   "id": "5e6a4e08",
   "metadata": {},
   "outputs": [
    {
     "data": {
      "text/plain": [
       "7"
      ]
     },
     "execution_count": 24,
     "metadata": {},
     "output_type": "execute_result"
    }
   ],
   "source": [
    "the_inverse = invmod(5, 17)\n",
    "the_inverse"
   ]
  },
  {
   "cell_type": "code",
   "execution_count": 10,
   "id": "ab159535",
   "metadata": {},
   "outputs": [
    {
     "data": {
      "text/plain": [
       "1"
      ]
     },
     "execution_count": 10,
     "metadata": {},
     "output_type": "execute_result"
    }
   ],
   "source": [
    "(7 * 5) % 17"
   ]
  },
  {
   "cell_type": "code",
   "execution_count": 25,
   "id": "491789a2",
   "metadata": {},
   "outputs": [
    {
     "data": {
      "text/plain": [
       "13"
      ]
     },
     "execution_count": 25,
     "metadata": {},
     "output_type": "execute_result"
    }
   ],
   "source": [
    "the_inverse = invmod(77, 100)\n",
    "the_inverse"
   ]
  },
  {
   "cell_type": "code",
   "execution_count": 26,
   "id": "0ad89de8",
   "metadata": {},
   "outputs": [
    {
     "data": {
      "text/plain": [
       "1"
      ]
     },
     "execution_count": 26,
     "metadata": {},
     "output_type": "execute_result"
    }
   ],
   "source": [
    "(77 * 13) % 100"
   ]
  },
  {
   "cell_type": "markdown",
   "id": "ecf31981",
   "metadata": {},
   "source": [
    "Fermat's Little Theorem is actually a special case of Euler's Theorem, because when N is prime, then totient of N is just N-1.  If we write p in place of N, we get:\n",
    "\n",
    "Fermat's Little Theorem:\n",
    "\n",
    "$$\n",
    "a^{p - 1}\\ \\equiv 1\\ (\\mathrm{mod}\\ \\ p)\n",
    "$$\n",
    "where gcd(a, p)=1"
   ]
  },
  {
   "cell_type": "markdown",
   "id": "ecf6b2d7",
   "metadata": {},
   "source": [
    "Remember, this theorem has no exceptions where p is prime, but it also works for some composites.  Some of these composite \"false positives\" (not really primes) may be weeded out by changing the base, but others pass the test (Fermat's Primality Test) no matter what the base is.  These are the Carmicheal Numbers.  But Euler's Theorem holds for them, and is not a primality test."
   ]
  },
  {
   "cell_type": "code",
   "execution_count": 13,
   "id": "b27e79b0",
   "metadata": {},
   "outputs": [],
   "source": [
    "from primes import isprime\n",
    "\n",
    "def fermat(a, p):\n",
    "    return a**(p-1) % p"
   ]
  }
 ],
 "metadata": {
  "kernelspec": {
   "display_name": "Python 3",
   "language": "python",
   "name": "python3"
  },
  "language_info": {
   "codemirror_mode": {
    "name": "ipython",
    "version": 3
   },
   "file_extension": ".py",
   "mimetype": "text/x-python",
   "name": "python",
   "nbconvert_exporter": "python",
   "pygments_lexer": "ipython3",
   "version": "3.7.9"
  }
 },
 "nbformat": 4,
 "nbformat_minor": 5
}
