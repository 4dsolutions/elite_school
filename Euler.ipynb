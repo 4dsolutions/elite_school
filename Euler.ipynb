{
 "cells": [
  {
   "cell_type": "markdown",
   "id": "fd7364fb",
   "metadata": {},
   "source": [
    "[Home](Home.ipynb) <br/>\n",
    "[Crypto](Crypto.ipynb)\n",
    "\n",
    "# Euler's Theorem\n",
    "\n",
    "What we're calling Euler's Theorem here might also be called Euler's Totient Theorem.  Do you remember the totient function?  It gives the number of totatives of a number n.  Euler's Theorem states that a base raised to the totient of n power, mod n, will always be 1.\n",
    "\n",
    "Euler's Theorem:\n",
    "\n",
    "$$\n",
    "A^{\\phi(N)}\\ \\equiv 1\\ (\\mathrm{mod}\\ \\ N)\n",
    "$$\n",
    "where gcd(A, N)=1\n",
    "\n",
    "Lets unpack that in Python, with a function that returns True when Euler's Theorem holds.  That should be always, when conditions are met."
   ]
  },
  {
   "cell_type": "code",
   "execution_count": 1,
   "id": "6b31d8b8",
   "metadata": {},
   "outputs": [],
   "source": [
    "from math import gcd"
   ]
  },
  {
   "cell_type": "code",
   "execution_count": 2,
   "id": "b6181ca0",
   "metadata": {},
   "outputs": [],
   "source": [
    "def totient(N):\n",
    "    \"\"\"How many strangers between 1 and N?\"\"\"\n",
    "    totatives = [x for x in range(1, N) if gcd(x, N)==1]\n",
    "    return len(totatives)"
   ]
  },
  {
   "cell_type": "code",
   "execution_count": 3,
   "id": "6a7b5544",
   "metadata": {},
   "outputs": [],
   "source": [
    "def euler(A :int, N :int) -> bool:\n",
    "    if gcd(A, N) != 1:\n",
    "        print(\"a and N are not strangers!\")\n",
    "        return\n",
    "    return pow(A, totient(N), N) == 1"
   ]
  },
  {
   "cell_type": "code",
   "execution_count": null,
   "id": "37689111",
   "metadata": {},
   "outputs": [],
   "source": [
    "euler(77, 100)"
   ]
  },
  {
   "cell_type": "code",
   "execution_count": 5,
   "id": "1ef53db2",
   "metadata": {},
   "outputs": [
    {
     "data": {
      "text/plain": [
       "60"
      ]
     },
     "execution_count": 5,
     "metadata": {},
     "output_type": "execute_result"
    }
   ],
   "source": [
    "totient(77)"
   ]
  },
  {
   "cell_type": "code",
   "execution_count": 9,
   "id": "bf612940",
   "metadata": {},
   "outputs": [
    {
     "data": {
      "text/plain": [
       "True"
      ]
     },
     "execution_count": 9,
     "metadata": {},
     "output_type": "execute_result"
    }
   ],
   "source": [
    "A = 5\n",
    "A ** totient(77) % 77 == 1"
   ]
  },
  {
   "cell_type": "markdown",
   "id": "775e5a96",
   "metadata": {},
   "source": [
    "Fermat's Little Theorem is actually a special case of Euler's Theorem, because when N is prime, then totient of N is just N-1.  If we write p in place of N, we get:\n",
    "\n",
    "Fermat's Little Theorem:\n",
    "\n",
    "$$\n",
    "a^{p - 1}\\ \\equiv 1\\ (\\mathrm{mod}\\ \\ p)\n",
    "$$\n",
    "where gcd(a, N)=1"
   ]
  },
  {
   "cell_type": "markdown",
   "id": "72495b72",
   "metadata": {},
   "source": [
    "Remember, this theorem has no exceptions where p is prime, but it also works for some composites.  Some of these composite \"false positives\" (not really primes) may be weeded out by changing the base, but others pass the test (Fermat's Primality Test) no matter what the base is.  These are the Carmicheal Numbers.  But Euler's Theorem holds for them, and is not a primality test."
   ]
  },
  {
   "cell_type": "code",
   "execution_count": 10,
   "id": "1ef08c9b",
   "metadata": {},
   "outputs": [
    {
     "data": {
      "text/plain": [
       "True"
      ]
     },
     "execution_count": 10,
     "metadata": {},
     "output_type": "execute_result"
    }
   ],
   "source": [
    "euler(5, 561)"
   ]
  },
  {
   "cell_type": "markdown",
   "id": "137569f4",
   "metadata": {},
   "source": [
    "Imagine the base A was a message.  Raising it to a power e, mod N, would constitute encoding it, making it an encrypted message.  \n",
    "\n",
    "Even if we know the power e to which A is raised, that doesn't help us get back to A.\n",
    "\n",
    "However, if we can raise $A^{e}$ to an even higher power that's the totient of N plus 1, mod N, i.e. one power more than the totient, or some multiple thereof, then we will be back to A itself.  \n",
    "\n",
    "We've come back around to the beginning of a huge circle, one could say."
   ]
  },
  {
   "cell_type": "code",
   "execution_count": null,
   "id": "d2ffb7c1",
   "metadata": {},
   "outputs": [],
   "source": [
    "A = bytes.hex(b\"r\")  # message to encode, in hex"
   ]
  },
  {
   "cell_type": "code",
   "execution_count": null,
   "id": "5e897070",
   "metadata": {},
   "outputs": [],
   "source": [
    "A"
   ]
  },
  {
   "cell_type": "code",
   "execution_count": null,
   "id": "5ac0dcf4",
   "metadata": {},
   "outputs": [],
   "source": [
    "m = int(A, 16) # convert to decimal"
   ]
  },
  {
   "cell_type": "code",
   "execution_count": null,
   "id": "028e85d8",
   "metadata": {},
   "outputs": [],
   "source": [
    "m"
   ]
  },
  {
   "cell_type": "code",
   "execution_count": null,
   "id": "df79261b",
   "metadata": {},
   "outputs": [],
   "source": [
    "N = 593 * 601\n",
    "gcd(m, N)"
   ]
  },
  {
   "cell_type": "code",
   "execution_count": null,
   "id": "4242fd21",
   "metadata": {},
   "outputs": [],
   "source": [
    "totientN = (593-1)*(601-1)\n",
    "totientN"
   ]
  },
  {
   "cell_type": "code",
   "execution_count": null,
   "id": "7d627ead",
   "metadata": {},
   "outputs": [],
   "source": [
    "pow(m, totientN, N)"
   ]
  },
  {
   "cell_type": "code",
   "execution_count": null,
   "id": "edd367f0",
   "metadata": {},
   "outputs": [],
   "source": [
    "outcome = pow(m, totientN + 1, N)\n",
    "outcome"
   ]
  },
  {
   "cell_type": "code",
   "execution_count": null,
   "id": "5a8ae52c",
   "metadata": {},
   "outputs": [],
   "source": [
    "bytes.fromhex(hex(outcome)[2:])"
   ]
  }
 ],
 "metadata": {
  "kernelspec": {
   "display_name": "Python 3",
   "language": "python",
   "name": "python3"
  },
  "language_info": {
   "codemirror_mode": {
    "name": "ipython",
    "version": 3
   },
   "file_extension": ".py",
   "mimetype": "text/x-python",
   "name": "python",
   "nbconvert_exporter": "python",
   "pygments_lexer": "ipython3",
   "version": "3.7.9"
  }
 },
 "nbformat": 4,
 "nbformat_minor": 5
}
