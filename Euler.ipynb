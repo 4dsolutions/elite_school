{
 "cells": [
  {
   "cell_type": "markdown",
   "id": "9edb9510",
   "metadata": {},
   "source": [
    "[Home](Home.ipynb) <br/>\n",
    "[Crypto](Crypto.ipynb)\n",
    "\n",
    "# Euler's Theorem\n",
    "\n",
    "What we're calling Euler's Theorem here might also be called Euler's Totient Theorem.  Do you remember the totient function?  It gives the number of totatives of a number n.  Euler's Theorem states that a base raised to the totient of n power, mod n, will always be 1.\n",
    "\n",
    "Euler's Theorem:\n",
    "\n",
    "$$\n",
    "A^{\\phi(N)}\\ \\equiv 1\\ (\\mathrm{mod}\\ \\ N)\n",
    "$$\n",
    "where gcd(A, N)=1\n",
    "\n",
    "Lets unpack that in Python, with a function that returns True when Euler's Theorem holds.  That should be always, when conditions are met."
   ]
  },
  {
   "cell_type": "code",
   "execution_count": 1,
   "id": "e61a6c46",
   "metadata": {},
   "outputs": [],
   "source": [
    "from math import gcd"
   ]
  },
  {
   "cell_type": "code",
   "execution_count": 12,
   "id": "ac80d4b5",
   "metadata": {},
   "outputs": [],
   "source": [
    "def totient(N):\n",
    "    \"\"\"How many strangers between 1 and N?\"\"\"\n",
    "    totatives = [x for x in range(1, N) if gcd(x, N)==1]\n",
    "    return len(totatives)"
   ]
  },
  {
   "cell_type": "code",
   "execution_count": 13,
   "id": "df691eef",
   "metadata": {},
   "outputs": [],
   "source": [
    "def euler(A :int, N :int) -> bool:\n",
    "    if gcd(A, N) != 1:\n",
    "        print(\"a and N are not strangers!\")\n",
    "        return\n",
    "    return pow(A, totient(N), N) == 1"
   ]
  },
  {
   "cell_type": "code",
   "execution_count": 14,
   "id": "0d9c9980",
   "metadata": {},
   "outputs": [
    {
     "data": {
      "text/plain": [
       "True"
      ]
     },
     "execution_count": 14,
     "metadata": {},
     "output_type": "execute_result"
    }
   ],
   "source": [
    "euler(77, 100)"
   ]
  },
  {
   "cell_type": "markdown",
   "id": "0799a471",
   "metadata": {},
   "source": [
    "Fermat's Little Theorem is actually a special case of Euler's Theorem, because when N is prime, then totient of N is just N-1.  If we write p in place of N, we get:\n",
    "\n",
    "Fermat's Little Theorem:\n",
    "\n",
    "$$\n",
    "a^{p - 1}\\ \\equiv 1\\ (\\mathrm{mod}\\ \\ p)\n",
    "$$\n",
    "where gcd(a, N)=1"
   ]
  },
  {
   "cell_type": "markdown",
   "id": "0bb72c74",
   "metadata": {},
   "source": [
    "Remember, this theorem has no exceptions where p is prime, but it also works for some composites.  Some of these composite \"false positives\" (not really primes) may be weeded out by changing the base, but others pass the test (Fermat's Primality Test) no matter what the base is.  These are the Carmicheal Numbers.  But Euler's Theorem holds for them, and is not a primality test."
   ]
  },
  {
   "cell_type": "code",
   "execution_count": 11,
   "id": "233cafdc",
   "metadata": {},
   "outputs": [
    {
     "data": {
      "text/plain": [
       "True"
      ]
     },
     "execution_count": 11,
     "metadata": {},
     "output_type": "execute_result"
    }
   ],
   "source": [
    "euler(5, 561)"
   ]
  },
  {
   "cell_type": "markdown",
   "id": "27c5d0af",
   "metadata": {},
   "source": [
    "Imagine the base A was a message.  Raising it to a power e, mod N, would constitute encoding it, making it an encrypted message.  \n",
    "\n",
    "Even if we know the power e to which A is raised, that doesn't help us get back to A.\n",
    "\n",
    "However, if we can raise $A^{e}$ to an even higher power that's the totient of N plus 1, mod N, i.e. one power more than the totient, or some multiple thereof, then we will be back to A itself.  \n",
    "\n",
    "We've come back around to the beginning of a huge circle, one could say."
   ]
  },
  {
   "cell_type": "code",
   "execution_count": 58,
   "id": "b04a4376",
   "metadata": {},
   "outputs": [],
   "source": [
    "A = bytes.hex(b\"r\")  # message to encode, in hex"
   ]
  },
  {
   "cell_type": "code",
   "execution_count": 59,
   "id": "9654f035",
   "metadata": {},
   "outputs": [
    {
     "data": {
      "text/plain": [
       "'72'"
      ]
     },
     "execution_count": 59,
     "metadata": {},
     "output_type": "execute_result"
    }
   ],
   "source": [
    "A"
   ]
  },
  {
   "cell_type": "code",
   "execution_count": 60,
   "id": "91933472",
   "metadata": {},
   "outputs": [],
   "source": [
    "m = int(A, 16) # convert to decimal"
   ]
  },
  {
   "cell_type": "code",
   "execution_count": 61,
   "id": "9755e11f",
   "metadata": {},
   "outputs": [
    {
     "data": {
      "text/plain": [
       "114"
      ]
     },
     "execution_count": 61,
     "metadata": {},
     "output_type": "execute_result"
    }
   ],
   "source": [
    "m"
   ]
  },
  {
   "cell_type": "code",
   "execution_count": 63,
   "id": "b22dea22",
   "metadata": {},
   "outputs": [
    {
     "data": {
      "text/plain": [
       "1"
      ]
     },
     "execution_count": 63,
     "metadata": {},
     "output_type": "execute_result"
    }
   ],
   "source": [
    "N = 593 * 601\n",
    "gcd(m, N)"
   ]
  },
  {
   "cell_type": "code",
   "execution_count": 70,
   "id": "91740ee6",
   "metadata": {},
   "outputs": [
    {
     "data": {
      "text/plain": [
       "355200"
      ]
     },
     "execution_count": 70,
     "metadata": {},
     "output_type": "execute_result"
    }
   ],
   "source": [
    "totientN = (593-1)*(601-1)\n",
    "totientN"
   ]
  },
  {
   "cell_type": "code",
   "execution_count": 65,
   "id": "81e3bc09",
   "metadata": {},
   "outputs": [
    {
     "data": {
      "text/plain": [
       "1"
      ]
     },
     "execution_count": 65,
     "metadata": {},
     "output_type": "execute_result"
    }
   ],
   "source": [
    "pow(m, totientN, N)"
   ]
  },
  {
   "cell_type": "code",
   "execution_count": 68,
   "id": "bfc8db74",
   "metadata": {},
   "outputs": [
    {
     "data": {
      "text/plain": [
       "114"
      ]
     },
     "execution_count": 68,
     "metadata": {},
     "output_type": "execute_result"
    }
   ],
   "source": [
    "outcome = pow(m, totientN + 1, N)\n",
    "outcome"
   ]
  },
  {
   "cell_type": "code",
   "execution_count": 69,
   "id": "bbeb165d",
   "metadata": {},
   "outputs": [
    {
     "data": {
      "text/plain": [
       "b'r'"
      ]
     },
     "execution_count": 69,
     "metadata": {},
     "output_type": "execute_result"
    }
   ],
   "source": [
    "bytes.fromhex(hex(outcome)[2:])"
   ]
  }
 ],
 "metadata": {
  "kernelspec": {
   "display_name": "Python 3",
   "language": "python",
   "name": "python3"
  },
  "language_info": {
   "codemirror_mode": {
    "name": "ipython",
    "version": 3
   },
   "file_extension": ".py",
   "mimetype": "text/x-python",
   "name": "python",
   "nbconvert_exporter": "python",
   "pygments_lexer": "ipython3",
   "version": "3.7.9"
  }
 },
 "nbformat": 4,
 "nbformat_minor": 5
}
