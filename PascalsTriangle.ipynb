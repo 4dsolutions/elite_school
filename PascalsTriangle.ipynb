{
 "cells": [
  {
   "cell_type": "markdown",
   "id": "8f0ba2fd",
   "metadata": {},
   "source": [
    "[Home](Home.ipynb)\n",
    "\n",
    "# Pascal's Triangle\n",
    "\n",
    "Yes, Pascal's Triangle (PT) was known to scholars in much earlier times, in China.  The Tower of Hanoi, a puzzle, was not really from Hanoi.  We should not treat names as always conveying lots of implicit historical facts.  Names go into a namespace, as mnemonics within some API.\n",
    "\n",
    "A fascinating aspect of PT is how easy it is to generate, through addition.  Addition seems the easiest algorithm in so many ways.  What it does is so straightforward.  However, the numbers do tend to widen out, and individual additions become huge chores, as the numbers ascend.  We're glad for our computing machines at this point.\n",
    "\n",
    "Lets construct PT in the form of a Python generator.  Every time we iterate through it, looping one more time, a next row will appear."
   ]
  },
  {
   "cell_type": "code",
   "execution_count": 1,
   "id": "b1b9f999",
   "metadata": {},
   "outputs": [],
   "source": [
    "def PT():\n",
    "    row = [1]\n",
    "    while True:\n",
    "        yield row\n",
    "        row = [left + right for (left, right) \n",
    "               in zip(row + [0], [0] + row)]  # stagger the row, add"
   ]
  },
  {
   "cell_type": "code",
   "execution_count": 2,
   "id": "5223c9a6",
   "metadata": {},
   "outputs": [],
   "source": [
    "rows = PT()"
   ]
  },
  {
   "cell_type": "code",
   "execution_count": 3,
   "id": "856c1952",
   "metadata": {},
   "outputs": [
    {
     "name": "stdout",
     "output_type": "stream",
     "text": [
      "[1]\n",
      "[1, 1]\n",
      "[1, 2, 1]\n",
      "[1, 3, 3, 1]\n",
      "[1, 4, 6, 4, 1]\n",
      "[1, 5, 10, 10, 5, 1]\n",
      "[1, 6, 15, 20, 15, 6, 1]\n",
      "[1, 7, 21, 35, 35, 21, 7, 1]\n",
      "[1, 8, 28, 56, 70, 56, 28, 8, 1]\n",
      "[1, 9, 36, 84, 126, 126, 84, 36, 9, 1]\n"
     ]
    }
   ],
   "source": [
    "for _ in range(10):\n",
    "    print(next(rows))"
   ]
  },
  {
   "cell_type": "markdown",
   "id": "c5df7394",
   "metadata": {},
   "source": [
    "One of the many famous properties of the PT is how its rows bulge in the middle, value-wise, to describe a Bell Curve, what data scientists call a Normal Distribution, the limit approached by the Binomial Distribution. \n",
    "\n",
    "As the PT row number increases, and therefore columns also, we keep rescaling our XY plot to the same grid, making it smoother, upping the resolution. The total area beneath the curve is kept at one.\n",
    "\n",
    "The curvaceous outcome of this limiting process is the Normal Distribution, also known as the Gaussian distribution.\n",
    "\n",
    "We often bring up the PT in conjunction with what's called a Galton Board.  \n",
    "\n",
    "The number of pathways a ball has to a bottom slot, corresponds to the PT number in that slot.  \n",
    "\n",
    "For example, a ball has 126 pathways (permutations of left and right drops) to the middle two slots of the 9th row, counting from a 0th row of ```[1]```."
   ]
  },
  {
   "cell_type": "code",
   "execution_count": 2,
   "id": "50bf3a19",
   "metadata": {},
   "outputs": [
    {
     "data": {
      "image/jpeg": "[encoded data removed]",
      "text/html": [
       "\n",
       "        <iframe\n",
       "            width=\"400\"\n",
       "            height=\"300\"\n",
       "            src=\"https://www.youtube.com/embed/AwEaHCjgeXk\"\n",
       "            frameborder=\"0\"\n",
       "            allowfullscreen\n",
       "        ></iframe>\n",
       "        "
      ],
      "text/plain": [
       "<IPython.lib.display.YouTubeVideo at 0x10f5b92d0>"
      ]
     },
     "execution_count": 2,
     "metadata": {},
     "output_type": "execute_result"
    }
   ],
   "source": [
    "from IPython.display import YouTubeVideo\n",
    "YouTubeVideo(\"AwEaHCjgeXk\")"
   ]
  },
  {
   "cell_type": "markdown",
   "id": "f951815b",
   "metadata": {},
   "source": [
    "Another property of PT is r is prime if and only if r, the number after 1 in each row (i.e. the rth row), evenly divides all coefficients in the same row (other than 1).\n",
    "\n",
    "For example, row 3 is ```[1, 3, 3, 1]``` and 3 divides 3 evenly.  Take row 7:  7 evenly divides into ```[21, 35, 35, 21, 7]``` and so is prime also."
   ]
  },
  {
   "cell_type": "code",
   "execution_count": 5,
   "id": "cf54d7d6",
   "metadata": {},
   "outputs": [
    {
     "data": {
      "text/plain": [
       "[1, 10, 45, 120, 210, 252, 210, 120, 45, 10, 1]"
      ]
     },
     "execution_count": 5,
     "metadata": {},
     "output_type": "execute_result"
    }
   ],
   "source": [
    "pt = PT()\n",
    "[next(pt) for _ in range(10)] # toss\n",
    "row = next(pt)\n",
    "row"
   ]
  },
  {
   "cell_type": "code",
   "execution_count": 6,
   "id": "8b7bedea",
   "metadata": {},
   "outputs": [
    {
     "data": {
      "text/plain": [
       "{10, 45, 120, 210, 252}"
      ]
     },
     "execution_count": 6,
     "metadata": {},
     "output_type": "execute_result"
    }
   ],
   "source": [
    "set(row[2:-1])"
   ]
  },
  {
   "cell_type": "code",
   "execution_count": 7,
   "id": "b256eec3",
   "metadata": {},
   "outputs": [
    {
     "data": {
      "text/plain": [
       "637"
      ]
     },
     "execution_count": 7,
     "metadata": {},
     "output_type": "execute_result"
    }
   ],
   "source": [
    "sum(set(row[2:-1]))"
   ]
  },
  {
   "cell_type": "code",
   "execution_count": 8,
   "id": "b8569f22",
   "metadata": {},
   "outputs": [],
   "source": [
    "def prime_check(row):\n",
    "    r = row[1]\n",
    "    return not sum(set([c%r for c in row[2:-1]])) # divides all evenly"
   ]
  },
  {
   "cell_type": "code",
   "execution_count": 10,
   "id": "66d8c0ce",
   "metadata": {},
   "outputs": [
    {
     "name": "stdout",
     "output_type": "stream",
     "text": [
      "[2, 3, 5, 7, 11, 13, 17, 19, 23, 29, 31, 37, 41, 43, 47, 53, 59, 61, 67, 71, 73, 79, 83, 89, 97, 101, 103, 107, 109, 113, 127, 131, 137, 139, 149, 151, 157, 163, 167, 173, 179, 181, 191, 193, 197, 199, 211, 223, 227, 229, 233, 239, 241, 251, 257, 263, 269, 271, 277, 281, 283, 293, 307, 311, 313, 317, 331, 337, 347, 349, 353, 359, 367, 373, 379, 383, 389, 397, 401, 409, 419, 421, 431, 433, 439, 443, 449, 457, 461, 463, 467, 479, 487, 491, 499, 503, 509, 521, 523, 541, 547, 557, 563, 569, 571, 577, 587, 593, 599, 601, 607, 613, 617, 619, 631, 641, 643, 647, 653, 659, 661, 673, 677, 683, 691, 701, 709, 719, 727, 733, 739, 743, 751, 757, 761, 769, 773, 787, 797, 809, 811, 821, 823, 827, 829, 839, 853, 857, 859, 863, 877, 881, 883, 887, 907, 911, 919, 929, 937, 941, 947, 953, 967, 971, 977, 983, 991, 997]\n"
     ]
    }
   ],
   "source": [
    "pt = PT()\n",
    "primes = [ ]\n",
    "next(pt)  # skip [1]\n",
    "next(pt)  # skip [1, 1]\n",
    "for _ in range(1000):\n",
    "    row = next(pt)\n",
    "    if prime_check(row):\n",
    "        primes.append(row[1])\n",
    "\n",
    "print(primes)"
   ]
  },
  {
   "cell_type": "code",
   "execution_count": 1,
   "id": "8699e028",
   "metadata": {},
   "outputs": [
    {
     "ename": "NameError",
     "evalue": "name 'YouTubeVideo' is not defined",
     "output_type": "error",
     "traceback": [
      "\u001b[0;31m---------------------------------------------------------------------------\u001b[0m",
      "\u001b[0;31mNameError\u001b[0m                                 Traceback (most recent call last)",
      "\u001b[0;32m<ipython-input-1-4fa7932334e5>\u001b[0m in \u001b[0;36m<module>\u001b[0;34m\u001b[0m\n\u001b[0;32m----> 1\u001b[0;31m \u001b[0mYouTubeVideo\u001b[0m\u001b[0;34m(\u001b[0m\u001b[0;34m\"HvMSRWTE2mI\"\u001b[0m\u001b[0;34m)\u001b[0m\u001b[0;34m\u001b[0m\u001b[0;34m\u001b[0m\u001b[0m\n\u001b[0m",
      "\u001b[0;31mNameError\u001b[0m: name 'YouTubeVideo' is not defined"
     ]
    }
   ],
   "source": [
    "YouTubeVideo(\"HvMSRWTE2mI\")"
   ]
  },
  {
   "cell_type": "code",
   "execution_count": 13,
   "id": "67437d09",
   "metadata": {},
   "outputs": [
    {
     "data": {
      "text/plain": [
       "[1]"
      ]
     },
     "execution_count": 13,
     "metadata": {},
     "output_type": "execute_result"
    }
   ],
   "source": [
    "pt = PT()\n",
    "pt.__next__()"
   ]
  },
  {
   "cell_type": "code",
   "execution_count": 14,
   "id": "286ac9d6",
   "metadata": {},
   "outputs": [
    {
     "data": {
      "text/plain": [
       "[1, 1]"
      ]
     },
     "execution_count": 14,
     "metadata": {},
     "output_type": "execute_result"
    }
   ],
   "source": [
    "next(pt)"
   ]
  },
  {
   "cell_type": "code",
   "execution_count": 18,
   "id": "e39071c2",
   "metadata": {},
   "outputs": [
    {
     "name": "stdout",
     "output_type": "stream",
     "text": [
      "[1, 17, 136, 680, 2380, 6188, 12376, 19448, 24310, 24310, 19448, 12376, 6188, 2380, 680, 136, 17, 1]\n"
     ]
    }
   ],
   "source": [
    "for row in pt:\n",
    "    if len(row)>15:\n",
    "        break\n",
    "print(row)"
   ]
  },
  {
   "cell_type": "markdown",
   "id": "9f03f92e",
   "metadata": {},
   "source": [
    "Might we define PT using numpy arrays instead of ordinary Python lists?"
   ]
  },
  {
   "cell_type": "code",
   "execution_count": 19,
   "id": "33131503",
   "metadata": {},
   "outputs": [],
   "source": [
    "import numpy as np\n",
    "\n",
    "def PT2():\n",
    "    row = np.array([1], dtype=object)\n",
    "    while True:\n",
    "        yield row\n",
    "        row = np.insert(row,0,0) + np.append(row, 0)"
   ]
  },
  {
   "cell_type": "code",
   "execution_count": 24,
   "id": "a28197d0",
   "metadata": {},
   "outputs": [],
   "source": [
    "pt = PT2()"
   ]
  },
  {
   "cell_type": "code",
   "execution_count": 25,
   "id": "47245eec",
   "metadata": {},
   "outputs": [
    {
     "name": "stdout",
     "output_type": "stream",
     "text": [
      "[1]\n",
      "[1 1]\n",
      "[1 2 1]\n",
      "[1 3 3 1]\n",
      "[1 4 6 4 1]\n",
      "[1 5 10 10 5 1]\n",
      "[1 6 15 20 15 6 1]\n",
      "[1 7 21 35 35 21 7 1]\n",
      "[1 8 28 56 70 56 28 8 1]\n",
      "[1 9 36 84 126 126 84 36 9 1]\n",
      "[1 10 45 120 210 252 210 120 45 10 1]\n",
      "[1 11 55 165 330 462 462 330 165 55 11 1]\n",
      "[1 12 66 220 495 792 924 792 495 220 66 12 1]\n"
     ]
    }
   ],
   "source": [
    "for row in pt:\n",
    "    print(row)\n",
    "    if len(row)>12:\n",
    "        break"
   ]
  },
  {
   "cell_type": "code",
   "execution_count": null,
   "id": "b118fef5",
   "metadata": {},
   "outputs": [],
   "source": []
  }
 ],
 "metadata": {
  "kernelspec": {
   "display_name": "Python 3",
   "language": "python",
   "name": "python3"
  },
  "language_info": {
   "codemirror_mode": {
    "name": "ipython",
    "version": 3
   },
   "file_extension": ".py",
   "mimetype": "text/x-python",
   "name": "python",
   "nbconvert_exporter": "python",
   "pygments_lexer": "ipython3",
   "version": "3.7.9"
  }
 },
 "nbformat": 4,
 "nbformat_minor": 5
}
