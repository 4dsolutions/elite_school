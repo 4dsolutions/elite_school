{
 "cells": [
  {
   "cell_type": "markdown",
   "id": "d2465de9",
   "metadata": {},
   "source": [
    "### Aug 11, 13:  Calculus and the Complex Plane\n",
    "\n",
    "We have many versions of high school math, this \"mixed with programming\" approach being one of them.  \n",
    "\n",
    "Or rather, \"mixing with programming\" is a possibility many pathways through this space have and/or will incorporate.\n",
    "\n",
    "Most versions of high school math include some amount of Delta Calculus, which first takes root in Newton's introduction of \"fluxions\" to the language (his *Method of Fluxions* was completed in 1671, and published in 1736).\n",
    "\n",
    "In Python world, we would conventionally use [Sage](https://www.sagemath.org/) in the cloud, or get by with a less ambitious set of local modules, such as we find through the Anaconda distribution.\n",
    "\n",
    "In this curriculum, we take the latter approach, using a combination of Standard Library modules, numpy, pandas and [sympy](CAS_Python.ipynb)."
   ]
  },
  {
   "cell_type": "code",
   "execution_count": 1,
   "id": "943bf1b8",
   "metadata": {},
   "outputs": [],
   "source": [
    "# from Standard Library\n",
    "\n",
    "import math\n",
    "import cmath"
   ]
  },
  {
   "cell_type": "markdown",
   "id": "2b54a7b7",
   "metadata": {},
   "source": [
    "#### Differentiation\n",
    "\n",
    "The cell below encapsulates an approximation of what it means to \"take the derivative of f\".  \n",
    "\n",
    "The D function properly expects a function as input, and returns a corresponding function as output.\n",
    "\n",
    "What the output function does is \"wiggle x\" just a tiny bit to get a read on the resulting change.  \n",
    "\n",
    "Change at x, per wiggle (x+h), is what the new function, the derivative function, computes. \n",
    "\n",
    "h is miniscule, here 0.00000001.  That's what makes our implementation of D \"approximate\": h is not truly infinitessimal.  \"It's close enough for folk music\" we sometimes say."
   ]
  },
  {
   "cell_type": "code",
   "execution_count": 2,
   "id": "16f4f849",
   "metadata": {},
   "outputs": [],
   "source": [
    "def D(f, h=1e-8):\n",
    "    def d(x):\n",
    "        return (f(x+h)-f(x))/h\n",
    "    return d"
   ]
  },
  {
   "cell_type": "markdown",
   "id": "67ec1b77",
   "metadata": {},
   "source": [
    "Lets take the 2nd power function, which plots as a parabola, as in [\"parabolic dish\"](https://duckduckgo.com/?q=parabolic+dish&atb=v250-5__&iax=images&ia=images), a device for reflecting incoming \"invisible light\" (such as TV programs) from satellites, to a common \"focus\" held in front of the dish."
   ]
  },
  {
   "cell_type": "code",
   "execution_count": 3,
   "id": "8a665217",
   "metadata": {},
   "outputs": [],
   "source": [
    "def pow2(x):\n",
    "    return x * x"
   ]
  },
  {
   "cell_type": "markdown",
   "id": "490463ee",
   "metadata": {},
   "source": [
    "Now lets run ```pow2``` through our D function, to get back another function.  This now function will talk about \"how much wiggle\" at each x.  See below."
   ]
  },
  {
   "cell_type": "code",
   "execution_count": 4,
   "id": "2fe104d8",
   "metadata": {},
   "outputs": [],
   "source": [
    "diff_pow2 = D(pow2)"
   ]
  },
  {
   "cell_type": "code",
   "execution_count": 5,
   "id": "cd345919",
   "metadata": {},
   "outputs": [
    {
     "data": {
      "text/plain": [
       "'d'"
      ]
     },
     "execution_count": 5,
     "metadata": {},
     "output_type": "execute_result"
    }
   ],
   "source": [
    "diff_pow2.__name__"
   ]
  },
  {
   "cell_type": "code",
   "execution_count": 6,
   "id": "f754f580",
   "metadata": {},
   "outputs": [],
   "source": [
    "# 3rd party workhorses\n",
    "\n",
    "import numpy as np\n",
    "import pandas as pd"
   ]
  },
  {
   "cell_type": "code",
   "execution_count": 7,
   "id": "2209f973",
   "metadata": {},
   "outputs": [],
   "source": [
    "domain = np.linspace(-5, 5, 400)"
   ]
  },
  {
   "cell_type": "code",
   "execution_count": 8,
   "id": "a9f13d22",
   "metadata": {},
   "outputs": [],
   "source": [
    "table = pd.DataFrame(\n",
    "           {'x'   : domain, \n",
    "            'pow2': [pow2(x) for x in domain], \n",
    "            'diff': [diff_pow2(x) for x in domain]})"
   ]
  },
  {
   "cell_type": "code",
   "execution_count": 9,
   "id": "46e87866",
   "metadata": {},
   "outputs": [
    {
     "data": {
      "image/png": "[encoded data removed]",
      "text/plain": [
       "<Figure size 432x288 with 1 Axes>"
      ]
     },
     "metadata": {
      "needs_background": "light"
     },
     "output_type": "display_data"
    }
   ],
   "source": [
    "table.plot(x='x', grid=True);"
   ]
  },
  {
   "cell_type": "markdown",
   "id": "cd03e52c",
   "metadata": {},
   "source": [
    "What does the above plot reveal?\n",
    "\n",
    "In blue, we see the original parabola.  The horizontal axis shows the domain, from -5 to 5.  \n",
    "\n",
    "Of course you're free to alter these values as you interact with your Notebook.\n",
    "\n",
    "The orange line traces the amount of change at each point, which corresponds to the \"slope\" or \"steepness\" of the original blue curve.  \n",
    "\n",
    "The blue curve starts steeply down, levels off, and goes more steeply up.  Therefore the slope starts at -10 (steeply down), passes through zero (levels off), and climbs steadily (steeply up) to positive 10.\n",
    "\n",
    "The orange line is straight and itself has a slope of 2.  \n",
    "\n",
    "So we see the derivative of a parabola is a line, showing slope going from negative to positive at this steady rate of of increase."
   ]
  },
  {
   "cell_type": "markdown",
   "id": "fc2683fc",
   "metadata": {},
   "source": [
    "Lets use our new tool, D, to investigate the function \n",
    "\n",
    "$$y = e^{x}$$  \n",
    "\n",
    "What's so special about it?"
   ]
  },
  {
   "cell_type": "code",
   "execution_count": 10,
   "id": "9c9738fd",
   "metadata": {},
   "outputs": [],
   "source": [
    "def e(x):\n",
    "    return math.e ** x"
   ]
  },
  {
   "cell_type": "code",
   "execution_count": 11,
   "id": "ee17afe2",
   "metadata": {},
   "outputs": [],
   "source": [
    "diff_ex = D(e)"
   ]
  },
  {
   "cell_type": "code",
   "execution_count": 12,
   "id": "5500b742",
   "metadata": {},
   "outputs": [],
   "source": [
    "table = pd.DataFrame(\n",
    "           {'x'   : domain, \n",
    "            'diff_ex': [diff_ex(x) for x in domain]})"
   ]
  },
  {
   "cell_type": "code",
   "execution_count": 13,
   "id": "a62ae70d",
   "metadata": {},
   "outputs": [
    {
     "data": {
      "image/png": "[encoded data removed]",
      "text/plain": [
       "<Figure size 432x288 with 1 Axes>"
      ]
     },
     "metadata": {
      "needs_background": "light"
     },
     "output_type": "display_data"
    }
   ],
   "source": [
    "table.plot(x='x', grid=True);"
   ]
  },
  {
   "cell_type": "markdown",
   "id": "b5cd6c49",
   "metadata": {},
   "source": [
    "What to observe is the plot of the original and its derivative are identical.\n",
    "\n",
    "The $e^{x}$ function graphs its own slope one could say.  \n",
    "\n",
    "It starts almost zero (perfectly flat) and then by x=0, it has grown to 1, and the steepness increases ever more steeply after that. "
   ]
  },
  {
   "cell_type": "code",
   "execution_count": 14,
   "id": "b570d6a6",
   "metadata": {},
   "outputs": [],
   "source": [
    "table = pd.DataFrame(\n",
    "           {'x'   : domain, \n",
    "            'ex': [e(x) for x in domain]})"
   ]
  },
  {
   "cell_type": "code",
   "execution_count": 15,
   "id": "f05f05d0",
   "metadata": {},
   "outputs": [
    {
     "data": {
      "image/png": "[encoded data removed]",
      "text/plain": [
       "<Figure size 432x288 with 1 Axes>"
      ]
     },
     "metadata": {
      "needs_background": "light"
     },
     "output_type": "display_data"
    }
   ],
   "source": [
    "table.plot(x='x', grid=True);"
   ]
  },
  {
   "cell_type": "markdown",
   "id": "c7e18f09",
   "metadata": {},
   "source": [
    "When learning calculus notation, you will likely want to consult [$\\LaTeX$ documentation](https://math-linux.com/latex-26/faq/latex-faq/article/latex-derivatives-limits-sums-products-and-integrals) from time to time."
   ]
  },
  {
   "cell_type": "markdown",
   "id": "fe5cfa98",
   "metadata": {},
   "source": [
    "What's a sympy approach to this same topic?  Remember sympy is able to use $\\LaTeX$ for output."
   ]
  },
  {
   "cell_type": "code",
   "execution_count": 16,
   "id": "d28505e3",
   "metadata": {},
   "outputs": [
    {
     "data": {
      "text/latex": [
       "$\\displaystyle \\frac{d}{d x} e^{x}$"
      ],
      "text/plain": [
       "Derivative(exp(x), x)"
      ]
     },
     "execution_count": 16,
     "metadata": {},
     "output_type": "execute_result"
    }
   ],
   "source": [
    "from sympy import Derivative, exp\n",
    "from sympy import symbols\n",
    "x = symbols('x')\n",
    "d=Derivative(exp(x)) \n",
    "d"
   ]
  },
  {
   "cell_type": "markdown",
   "id": "d6e67e78",
   "metadata": {},
   "source": [
    "Above is some formal notation expressing the derivative of the $e^{x}$ function.  When we actually take the derivative (below) we get back the original function.\n",
    "\n",
    "Again, this is special to $e^{x}$.  The number $e$ is defined to give us an exponential function that is its own deriviative."
   ]
  },
  {
   "cell_type": "code",
   "execution_count": 17,
   "id": "4efd9cc5",
   "metadata": {},
   "outputs": [
    {
     "data": {
      "text/latex": [
       "$\\displaystyle e^{x}$"
      ],
      "text/plain": [
       "exp(x)"
      ]
     },
     "execution_count": 17,
     "metadata": {},
     "output_type": "execute_result"
    }
   ],
   "source": [
    "d.doit()"
   ]
  },
  {
   "cell_type": "markdown",
   "id": "900a976a",
   "metadata": {},
   "source": [
    "How about our earlier function, ```pow2```?  Lets put it through the same steps and see what what we get."
   ]
  },
  {
   "cell_type": "code",
   "execution_count": 18,
   "id": "ca486bcd",
   "metadata": {},
   "outputs": [
    {
     "data": {
      "text/latex": [
       "$\\displaystyle \\frac{d}{d x} x^{2}$"
      ],
      "text/plain": [
       "Derivative(x**2, x)"
      ]
     },
     "execution_count": 18,
     "metadata": {},
     "output_type": "execute_result"
    }
   ],
   "source": [
    "d=Derivative(x**2) \n",
    "d"
   ]
  },
  {
   "cell_type": "code",
   "execution_count": 19,
   "id": "b9e12baf",
   "metadata": {},
   "outputs": [
    {
     "data": {
      "text/latex": [
       "$\\displaystyle 2 x$"
      ],
      "text/plain": [
       "2*x"
      ]
     },
     "execution_count": 19,
     "metadata": {},
     "output_type": "execute_result"
    }
   ],
   "source": [
    "d.doit()"
   ]
  },
  {
   "cell_type": "markdown",
   "id": "cce16c7f",
   "metadata": {},
   "source": [
    "### Complex Numbers\n",
    "\n",
    "Complex numbers give us a concise way of plotting points on a plane, using a pair of crossed axes.  We call one axis real, and one imaginary.  Python has complex numbers built in."
   ]
  },
  {
   "cell_type": "code",
   "execution_count": 20,
   "id": "3f94627b",
   "metadata": {},
   "outputs": [],
   "source": [
    "one = complex(1, 0)"
   ]
  },
  {
   "cell_type": "code",
   "execution_count": 21,
   "id": "42a5712c",
   "metadata": {},
   "outputs": [],
   "source": [
    "# help(one)"
   ]
  },
  {
   "cell_type": "code",
   "execution_count": 22,
   "id": "476aefed",
   "metadata": {},
   "outputs": [],
   "source": [
    "import cmath"
   ]
  },
  {
   "cell_type": "code",
   "execution_count": 23,
   "id": "05c79745",
   "metadata": {},
   "outputs": [
    {
     "name": "stdout",
     "output_type": "stream",
     "text": [
      "['__doc__', '__file__', '__loader__', '__name__', '__package__', '__spec__', 'acos', 'acosh', 'asin', 'asinh', 'atan', 'atanh', 'cos', 'cosh', 'e', 'exp', 'inf', 'infj', 'isclose', 'isfinite', 'isinf', 'isnan', 'log', 'log10', 'nan', 'nanj', 'phase', 'pi', 'polar', 'rect', 'sin', 'sinh', 'sqrt', 'tan', 'tanh', 'tau']\n"
     ]
    }
   ],
   "source": [
    "print(dir(cmath))"
   ]
  },
  {
   "cell_type": "markdown",
   "id": "b4031c2a",
   "metadata": {},
   "source": [
    "In high school math, we plot points (x, y) on a Cartesian plane with crossed axes.  Both axes represent the \"real numbers\".\n",
    "\n",
    "Then, using those new skills, we swap out one of the real axes, for an imaginary axis, meaning it's now in units of $\\sqrt{-1}$, which we all appreciate is not a real number."
   ]
  },
  {
   "cell_type": "code",
   "execution_count": 24,
   "id": "47c8fb0f",
   "metadata": {},
   "outputs": [
    {
     "data": {
      "text/plain": [
       "1j"
      ]
     },
     "execution_count": 24,
     "metadata": {},
     "output_type": "execute_result"
    }
   ],
   "source": [
    "cmath.sqrt(-1)"
   ]
  },
  {
   "cell_type": "code",
   "execution_count": 25,
   "id": "7dd04954",
   "metadata": {},
   "outputs": [
    {
     "data": {
      "text/plain": [
       "(-4+8j)"
      ]
     },
     "execution_count": 25,
     "metadata": {},
     "output_type": "execute_result"
    }
   ],
   "source": [
    "(2 + 2j) * (1 + 3j)"
   ]
  },
  {
   "cell_type": "code",
   "execution_count": 26,
   "id": "d75e889f",
   "metadata": {},
   "outputs": [
    {
     "data": {
      "text/plain": [
       "(1.0, 0.0)"
      ]
     },
     "execution_count": 26,
     "metadata": {},
     "output_type": "execute_result"
    }
   ],
   "source": [
    "cmath.polar(one)"
   ]
  },
  {
   "cell_type": "markdown",
   "id": "bcbea46e",
   "metadata": {},
   "source": [
    "Picture an arrow, like a clock hand, pointing to (1, 1) on a Cartesian plane, except the vertical axis is in units of 1j instead of just 1.  "
   ]
  },
  {
   "cell_type": "markdown",
   "id": "a5e6ce6a",
   "metadata": {},
   "source": [
    "In Python, we use $a + bj$ to express complex numbers, where any a, b are any int or floating point value."
   ]
  },
  {
   "cell_type": "code",
   "execution_count": 27,
   "id": "8636a95a",
   "metadata": {},
   "outputs": [],
   "source": [
    "one_one = complex(1, 1)"
   ]
  },
  {
   "cell_type": "code",
   "execution_count": 28,
   "id": "6a8e7ac6",
   "metadata": {},
   "outputs": [
    {
     "data": {
      "text/plain": [
       "(1.4142135623730951, 0.7853981633974483)"
      ]
     },
     "execution_count": 28,
     "metadata": {},
     "output_type": "execute_result"
    }
   ],
   "source": [
    "r, theta = cmath.polar(one_one)\n",
    "r, theta"
   ]
  },
  {
   "cell_type": "markdown",
   "id": "1c15165c",
   "metadata": {},
   "source": [
    "$r$ above is the hypotenuse of a right triangle with edges 1, i.e. is $\\sqrt{2}$.  \n",
    "\n",
    "Since the legs of the triangle are both the same length, we expect an angle of 45 degrees, but we're getting theta in radians.  We may convert radians to degrees."
   ]
  },
  {
   "cell_type": "code",
   "execution_count": 29,
   "id": "d5d73e47",
   "metadata": {},
   "outputs": [],
   "source": [
    "from math import degrees, radians"
   ]
  },
  {
   "cell_type": "code",
   "execution_count": 30,
   "id": "c1173426",
   "metadata": {},
   "outputs": [
    {
     "data": {
      "text/plain": [
       "1.5707963267948966"
      ]
     },
     "execution_count": 30,
     "metadata": {},
     "output_type": "execute_result"
    }
   ],
   "source": [
    "radians(90)"
   ]
  },
  {
   "cell_type": "code",
   "execution_count": 31,
   "id": "82180035",
   "metadata": {},
   "outputs": [
    {
     "data": {
      "text/plain": [
       "180.0"
      ]
     },
     "execution_count": 31,
     "metadata": {},
     "output_type": "execute_result"
    }
   ],
   "source": [
    "degrees(cmath.pi)"
   ]
  },
  {
   "cell_type": "code",
   "execution_count": 32,
   "id": "d33d59bd",
   "metadata": {},
   "outputs": [
    {
     "data": {
      "text/plain": [
       "45.0"
      ]
     },
     "execution_count": 32,
     "metadata": {},
     "output_type": "execute_result"
    }
   ],
   "source": [
    "degrees(theta)"
   ]
  },
  {
   "cell_type": "markdown",
   "id": "c9852df0",
   "metadata": {},
   "source": [
    "Our favorite number $e$ now comes back into focus as we're able to make a \"clock hand\" rotate counter-clockwise by theta, simply by raising $e$ to 1j * theta.\n",
    "\n",
    "$$\n",
    "point = e^{i \\theta}\n",
    "$$\n",
    "\n",
    "Lets see..."
   ]
  },
  {
   "cell_type": "code",
   "execution_count": 33,
   "id": "dd84f21b",
   "metadata": {},
   "outputs": [
    {
     "data": {
      "text/plain": [
       "(0.7071067811865476+0.7071067811865475j)"
      ]
     },
     "execution_count": 33,
     "metadata": {},
     "output_type": "execute_result"
    }
   ],
   "source": [
    "theta = radians(45) # degrees to radians\n",
    "point = pow(cmath.e, 1j * theta)\n",
    "point"
   ]
  },
  {
   "cell_type": "code",
   "execution_count": 34,
   "id": "4463db47",
   "metadata": {},
   "outputs": [
    {
     "data": {
      "text/plain": [
       "(1.0, 0.7853981633974482)"
      ]
     },
     "execution_count": 34,
     "metadata": {},
     "output_type": "execute_result"
    }
   ],
   "source": [
    "r, theta = cmath.polar(point)\n",
    "r, theta"
   ]
  },
  {
   "cell_type": "markdown",
   "id": "17463a37",
   "metadata": {},
   "source": [
    "The hypotenuse is always 1, whereas we have control over theta.  Lets draw a circle using an x,y scatterplot."
   ]
  },
  {
   "cell_type": "code",
   "execution_count": 35,
   "id": "0a4ad447",
   "metadata": {},
   "outputs": [],
   "source": [
    "rads   = np.linspace(0, 2*math.pi, 360)\n",
    "points = pd.DataFrame({\n",
    "    'x': [pow(cmath.e, 1j*theta).real for theta in rads],\n",
    "    'y': [pow(cmath.e, 1j*theta).imag for theta in rads],\n",
    "})"
   ]
  },
  {
   "cell_type": "code",
   "execution_count": 36,
   "id": "98f117e4",
   "metadata": {},
   "outputs": [
    {
     "data": {
      "text/html": [
       "<div>\n",
       "<style scoped>\n",
       "    .dataframe tbody tr th:only-of-type {\n",
       "        vertical-align: middle;\n",
       "    }\n",
       "\n",
       "    .dataframe tbody tr th {\n",
       "        vertical-align: top;\n",
       "    }\n",
       "\n",
       "    .dataframe thead th {\n",
       "        text-align: right;\n",
       "    }\n",
       "</style>\n",
       "<table border=\"1\" class=\"dataframe\">\n",
       "  <thead>\n",
       "    <tr style=\"text-align: right;\">\n",
       "      <th></th>\n",
       "      <th>x</th>\n",
       "      <th>y</th>\n",
       "    </tr>\n",
       "  </thead>\n",
       "  <tbody>\n",
       "    <tr>\n",
       "      <th>0</th>\n",
       "      <td>1.000000</td>\n",
       "      <td>0.000000</td>\n",
       "    </tr>\n",
       "    <tr>\n",
       "      <th>1</th>\n",
       "      <td>0.999847</td>\n",
       "      <td>0.017501</td>\n",
       "    </tr>\n",
       "    <tr>\n",
       "      <th>2</th>\n",
       "      <td>0.999387</td>\n",
       "      <td>0.034997</td>\n",
       "    </tr>\n",
       "    <tr>\n",
       "      <th>3</th>\n",
       "      <td>0.998622</td>\n",
       "      <td>0.052482</td>\n",
       "    </tr>\n",
       "    <tr>\n",
       "      <th>4</th>\n",
       "      <td>0.997550</td>\n",
       "      <td>0.069950</td>\n",
       "    </tr>\n",
       "  </tbody>\n",
       "</table>\n",
       "</div>"
      ],
      "text/plain": [
       "          x         y\n",
       "0  1.000000  0.000000\n",
       "1  0.999847  0.017501\n",
       "2  0.999387  0.034997\n",
       "3  0.998622  0.052482\n",
       "4  0.997550  0.069950"
      ]
     },
     "execution_count": 36,
     "metadata": {},
     "output_type": "execute_result"
    }
   ],
   "source": [
    "points.head()"
   ]
  },
  {
   "cell_type": "code",
   "execution_count": 37,
   "id": "4ef4fb7d",
   "metadata": {},
   "outputs": [
    {
     "data": {
      "image/png": "[encoded data removed]",
      "text/plain": [
       "<Figure size 360x360 with 1 Axes>"
      ]
     },
     "metadata": {
      "needs_background": "light"
     },
     "output_type": "display_data"
    }
   ],
   "source": [
    "points.plot.scatter('x', 'y', grid=True, \n",
    "                    figsize=(5,5));"
   ]
  },
  {
   "cell_type": "markdown",
   "id": "5cf1d90d",
   "metadata": {},
   "source": [
    "With this introduction, we're ready to tie everything together using [Euler's Formula](Trig.ipynb)."
   ]
  }
 ],
 "metadata": {
  "kernelspec": {
   "display_name": "Python 3",
   "language": "python",
   "name": "python3"
  },
  "language_info": {
   "codemirror_mode": {
    "name": "ipython",
    "version": 3
   },
   "file_extension": ".py",
   "mimetype": "text/x-python",
   "name": "python",
   "nbconvert_exporter": "python",
   "pygments_lexer": "ipython3",
   "version": "3.7.9"
  }
 },
 "nbformat": 4,
 "nbformat_minor": 5
}
