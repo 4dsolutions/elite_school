{
 "cells": [
  {
   "cell_type": "markdown",
   "id": "11559ad1",
   "metadata": {},
   "source": [
    "### Aug 11, 13:  Calculus and the Complex Plane\n",
    "\n",
    "We have many versions of high school math, this \"mixed with programming\" approach being one of them.  \n",
    "\n",
    "Or rather, \"mixing with programming\" is a possibility many pathways through this space have and/or will incorporate.\n",
    "\n",
    "Most versions of high school math include some amount of Delta Calculus, which first takes root in Newton's introduction of \"fluxions\" to the language (his *Method of Fluxions* was completed in 1671, and published in 1736).\n",
    "\n",
    "In Python world, we would conventionally use [Sage](https://www.sagemath.org/) in the cloud, or get by with a less ambitious set of local modules, such as we find through the Anaconda distribution.\n",
    "\n",
    "In this curriculum, we take the latter approach, using a combination of Standard Library modules, numpy, pandas and [sympy](CAS_Python.ipynb)."
   ]
  },
  {
   "cell_type": "code",
   "execution_count": 1,
   "id": "ff2976f3",
   "metadata": {},
   "outputs": [],
   "source": [
    "# from Standard Library\n",
    "\n",
    "import math\n",
    "import cmath"
   ]
  },
  {
   "cell_type": "code",
   "execution_count": 2,
   "id": "b1f5f410",
   "metadata": {},
   "outputs": [
    {
     "data": {
      "text/plain": [
       "(1+4j)"
      ]
     },
     "execution_count": 2,
     "metadata": {},
     "output_type": "execute_result"
    }
   ],
   "source": [
    "z = 1 + 4j\n",
    "z"
   ]
  },
  {
   "cell_type": "code",
   "execution_count": 3,
   "id": "3180721e",
   "metadata": {},
   "outputs": [
    {
     "data": {
      "text/plain": [
       "1.0"
      ]
     },
     "execution_count": 3,
     "metadata": {},
     "output_type": "execute_result"
    }
   ],
   "source": [
    "z.real"
   ]
  },
  {
   "cell_type": "code",
   "execution_count": 4,
   "id": "e8d149b6",
   "metadata": {},
   "outputs": [
    {
     "data": {
      "text/plain": [
       "4.0"
      ]
     },
     "execution_count": 4,
     "metadata": {},
     "output_type": "execute_result"
    }
   ],
   "source": [
    "z.imag"
   ]
  },
  {
   "cell_type": "code",
   "execution_count": 5,
   "id": "2d5c5619",
   "metadata": {},
   "outputs": [
    {
     "data": {
      "text/plain": [
       "(3+4j)"
      ]
     },
     "execution_count": 5,
     "metadata": {},
     "output_type": "execute_result"
    }
   ],
   "source": [
    "z1 = complex(3, 4)\n",
    "z1"
   ]
  },
  {
   "cell_type": "code",
   "execution_count": 6,
   "id": "e422c1e4",
   "metadata": {},
   "outputs": [
    {
     "data": {
      "text/plain": [
       "5.0"
      ]
     },
     "execution_count": 6,
     "metadata": {},
     "output_type": "execute_result"
    }
   ],
   "source": [
    "math.sqrt(3**2 + 4**2)"
   ]
  },
  {
   "cell_type": "code",
   "execution_count": 7,
   "id": "8232296f",
   "metadata": {},
   "outputs": [],
   "source": [
    "r, theta = cmath.polar(z1)"
   ]
  },
  {
   "cell_type": "code",
   "execution_count": 8,
   "id": "3d34253d",
   "metadata": {},
   "outputs": [
    {
     "data": {
      "text/plain": [
       "0.9272952180016122"
      ]
     },
     "execution_count": 8,
     "metadata": {},
     "output_type": "execute_result"
    }
   ],
   "source": [
    "theta"
   ]
  },
  {
   "cell_type": "code",
   "execution_count": 9,
   "id": "c64395ab",
   "metadata": {},
   "outputs": [
    {
     "data": {
      "text/plain": [
       "53.13010235415598"
      ]
     },
     "execution_count": 9,
     "metadata": {},
     "output_type": "execute_result"
    }
   ],
   "source": [
    "math.degrees(theta)"
   ]
  },
  {
   "cell_type": "markdown",
   "id": "636b172f",
   "metadata": {},
   "source": [
    "### Differentiation\n",
    "\n",
    "The cell below encapsulates an approximation of what it means to \"take the derivative of f\".  \n",
    "\n",
    "The D function properly expects a function as input, and returns a corresponding function as output.\n",
    "\n",
    "What the output function does is \"wiggle x\" just a tiny bit to get a read on the resulting change.  \n",
    "\n",
    "Change at x, per wiggle (x+h), is what the new function, the derivative function, computes. \n",
    "\n",
    "h is miniscule, here 0.00000001.  That's what makes our implementation of D \"approximate\": h is not truly infinitessimal.  \"It's close enough for folk music\" we sometimes say."
   ]
  },
  {
   "cell_type": "code",
   "execution_count": 10,
   "id": "efeabb61",
   "metadata": {},
   "outputs": [],
   "source": [
    "def D(f, h=1e-8):\n",
    "    def d(x):\n",
    "        return (f(x+h)-f(x))/h\n",
    "    return d"
   ]
  },
  {
   "cell_type": "markdown",
   "id": "f3bf1f0c",
   "metadata": {},
   "source": [
    "Lets take the 2nd power function, which plots as a parabola, as in [\"parabolic dish\"](https://duckduckgo.com/?q=parabolic+dish&atb=v250-5__&iax=images&ia=images), a device for reflecting incoming \"invisible light\" (such as TV programs) from satellites, to a common \"focus\" held in front of the dish."
   ]
  },
  {
   "cell_type": "code",
   "execution_count": 11,
   "id": "c5fd3a23",
   "metadata": {},
   "outputs": [],
   "source": [
    "def pow2(x):\n",
    "    return x * x"
   ]
  },
  {
   "cell_type": "markdown",
   "id": "14a72489",
   "metadata": {},
   "source": [
    "Now lets run ```pow2``` through our D function, to get back another function.  This new function will talk about \"how much wiggle\" at each x.  See below."
   ]
  },
  {
   "cell_type": "code",
   "execution_count": 12,
   "id": "32926005",
   "metadata": {},
   "outputs": [],
   "source": [
    "diff_pow2 = D(pow2)"
   ]
  },
  {
   "cell_type": "code",
   "execution_count": 13,
   "id": "b9c792f3",
   "metadata": {},
   "outputs": [
    {
     "data": {
      "text/plain": [
       "'d'"
      ]
     },
     "execution_count": 13,
     "metadata": {},
     "output_type": "execute_result"
    }
   ],
   "source": [
    "diff_pow2.__name__"
   ]
  },
  {
   "cell_type": "code",
   "execution_count": 14,
   "id": "6db77bd0",
   "metadata": {},
   "outputs": [],
   "source": [
    "# 3rd party workhorses\n",
    "\n",
    "import numpy as np\n",
    "import pandas as pd"
   ]
  },
  {
   "cell_type": "code",
   "execution_count": 15,
   "id": "b7488b31",
   "metadata": {},
   "outputs": [],
   "source": [
    "domain = np.linspace(-5, 5, 400)"
   ]
  },
  {
   "cell_type": "code",
   "execution_count": 16,
   "id": "007aeb5a",
   "metadata": {},
   "outputs": [],
   "source": [
    "table = pd.DataFrame(\n",
    "           {'x'   : domain, \n",
    "            'pow2': [pow2(x) for x in domain], \n",
    "            'diff': [diff_pow2(x) for x in domain]})"
   ]
  },
  {
   "cell_type": "code",
   "execution_count": 17,
   "id": "af57484c",
   "metadata": {},
   "outputs": [
    {
     "data": {
      "image/png": "[encoded data removed]",
      "text/plain": [
       "<Figure size 432x288 with 1 Axes>"
      ]
     },
     "metadata": {
      "needs_background": "light"
     },
     "output_type": "display_data"
    }
   ],
   "source": [
    "table.plot(x='x', grid=True);"
   ]
  },
  {
   "cell_type": "markdown",
   "id": "422ed3d3",
   "metadata": {},
   "source": [
    "What does the above plot reveal?\n",
    "\n",
    "In blue, we see the original parabola.  The horizontal axis shows the domain, from -5 to 5.  \n",
    "\n",
    "Of course you're free to alter these values as you interact with your Notebook.\n",
    "\n",
    "The orange line traces the amount of change at each point, which corresponds to the \"slope\" or \"steepness\" of the original blue curve.  \n",
    "\n",
    "The blue curve starts steeply down, levels off, and goes more steeply up.  Therefore the slope starts at -10 (steeply down), passes through zero (levels off), and climbs steadily (steeply up) to positive 10.\n",
    "\n",
    "The orange line is straight and itself has a slope of 2.  \n",
    "\n",
    "So we see the derivative of a parabola is a line, showing slope going from negative to positive at this steady rate of of increase."
   ]
  },
  {
   "cell_type": "markdown",
   "id": "c1a85f7a",
   "metadata": {},
   "source": [
    "Lets use our new tool, D, to investigate the function \n",
    "\n",
    "$$y = e^{x}$$  \n",
    "\n",
    "What's so special about it?"
   ]
  },
  {
   "cell_type": "code",
   "execution_count": 18,
   "id": "f9cd21d0",
   "metadata": {},
   "outputs": [],
   "source": [
    "def e(x):\n",
    "    return math.e ** x"
   ]
  },
  {
   "cell_type": "code",
   "execution_count": 19,
   "id": "f6ea6cd7",
   "metadata": {},
   "outputs": [],
   "source": [
    "diff_ex = D(e)"
   ]
  },
  {
   "cell_type": "code",
   "execution_count": 20,
   "id": "364cfbe4",
   "metadata": {},
   "outputs": [],
   "source": [
    "table = pd.DataFrame(\n",
    "           {'x'   : domain, \n",
    "            'diff_ex': [diff_ex(x) for x in domain]})"
   ]
  },
  {
   "cell_type": "code",
   "execution_count": 21,
   "id": "03d8885e",
   "metadata": {},
   "outputs": [
    {
     "data": {
      "image/png": "[encoded data removed]",
      "text/plain": [
       "<Figure size 432x288 with 1 Axes>"
      ]
     },
     "metadata": {
      "needs_background": "light"
     },
     "output_type": "display_data"
    }
   ],
   "source": [
    "table.plot(x='x', grid=True);"
   ]
  },
  {
   "cell_type": "markdown",
   "id": "0ca05b3c",
   "metadata": {},
   "source": [
    "What to observe is the plot of the original and its derivative are identical.\n",
    "\n",
    "The $e^{x}$ function graphs its own slope one could say.  \n",
    "\n",
    "It starts almost zero (perfectly flat) and then by x=0, it has grown to 1, and the steepness increases ever more steeply after that. "
   ]
  },
  {
   "cell_type": "code",
   "execution_count": 22,
   "id": "84096aae",
   "metadata": {},
   "outputs": [],
   "source": [
    "table = pd.DataFrame(\n",
    "           {'x'   : domain, \n",
    "            'ex': [e(x) for x in domain]})"
   ]
  },
  {
   "cell_type": "code",
   "execution_count": 23,
   "id": "cb8ceb43",
   "metadata": {},
   "outputs": [
    {
     "data": {
      "image/png": "[encoded data removed]",
      "text/plain": [
       "<Figure size 432x288 with 1 Axes>"
      ]
     },
     "metadata": {
      "needs_background": "light"
     },
     "output_type": "display_data"
    }
   ],
   "source": [
    "table.plot(x='x', grid=True);"
   ]
  },
  {
   "cell_type": "markdown",
   "id": "d765201c",
   "metadata": {},
   "source": [
    "When learning calculus notation, you will likely want to consult [$\\LaTeX$ documentation](https://math-linux.com/latex-26/faq/latex-faq/article/latex-derivatives-limits-sums-products-and-integrals) from time to time."
   ]
  },
  {
   "cell_type": "markdown",
   "id": "0be40382",
   "metadata": {},
   "source": [
    "What's a sympy approach to this same topic?  Remember sympy is able to use $\\LaTeX$ for output."
   ]
  },
  {
   "cell_type": "code",
   "execution_count": 24,
   "id": "a8b9d600",
   "metadata": {},
   "outputs": [
    {
     "data": {
      "text/latex": [
       "$\\displaystyle \\frac{d}{d x} e^{x}$"
      ],
      "text/plain": [
       "Derivative(exp(x), x)"
      ]
     },
     "execution_count": 24,
     "metadata": {},
     "output_type": "execute_result"
    }
   ],
   "source": [
    "from sympy import Derivative, Integral, exp, log\n",
    "from sympy import symbols\n",
    "x = symbols('x')\n",
    "d=Derivative(exp(x)) \n",
    "d"
   ]
  },
  {
   "cell_type": "markdown",
   "id": "64b704ad",
   "metadata": {},
   "source": [
    "Above is some formal notation expressing the derivative of the $e^{x}$ function.  When we actually take the derivative (below) we get back the original function.\n",
    "\n",
    "Again, this is special to $e^{x}$.  The number $e$ is defined to give us an exponential function that is its own deriviative."
   ]
  },
  {
   "cell_type": "code",
   "execution_count": 25,
   "id": "3a4ef65a",
   "metadata": {},
   "outputs": [
    {
     "data": {
      "text/latex": [
       "$\\displaystyle e^{x}$"
      ],
      "text/plain": [
       "exp(x)"
      ]
     },
     "execution_count": 25,
     "metadata": {},
     "output_type": "execute_result"
    }
   ],
   "source": [
    "d.doit()"
   ]
  },
  {
   "cell_type": "markdown",
   "id": "6eb91ecf",
   "metadata": {},
   "source": [
    "How about our earlier function, ```pow2```?  Lets put it through the same steps and see what what we get."
   ]
  },
  {
   "cell_type": "code",
   "execution_count": 26,
   "id": "8885ec9d",
   "metadata": {},
   "outputs": [
    {
     "data": {
      "text/latex": [
       "$\\displaystyle \\frac{d}{d x} x^{2}$"
      ],
      "text/plain": [
       "Derivative(x**2, x)"
      ]
     },
     "execution_count": 26,
     "metadata": {},
     "output_type": "execute_result"
    }
   ],
   "source": [
    "d=Derivative(x**2) \n",
    "d"
   ]
  },
  {
   "cell_type": "code",
   "execution_count": 27,
   "id": "65404076",
   "metadata": {},
   "outputs": [
    {
     "data": {
      "text/latex": [
       "$\\displaystyle 2 x$"
      ],
      "text/plain": [
       "2*x"
      ]
     },
     "execution_count": 27,
     "metadata": {},
     "output_type": "execute_result"
    }
   ],
   "source": [
    "d.doit()"
   ]
  },
  {
   "cell_type": "code",
   "execution_count": 28,
   "id": "7271af6d",
   "metadata": {},
   "outputs": [
    {
     "data": {
      "text/plain": [
       "2.718281828459045"
      ]
     },
     "execution_count": 28,
     "metadata": {},
     "output_type": "execute_result"
    }
   ],
   "source": [
    "math.e"
   ]
  },
  {
   "cell_type": "code",
   "execution_count": 29,
   "id": "f7ffe1a1",
   "metadata": {},
   "outputs": [
    {
     "data": {
      "text/plain": [
       "3.141592653589793"
      ]
     },
     "execution_count": 29,
     "metadata": {},
     "output_type": "execute_result"
    }
   ],
   "source": [
    "math.pi"
   ]
  },
  {
   "cell_type": "code",
   "execution_count": 30,
   "id": "201a376c",
   "metadata": {},
   "outputs": [
    {
     "data": {
      "text/plain": [
       "1.618033988749895"
      ]
     },
     "execution_count": 30,
     "metadata": {},
     "output_type": "execute_result"
    }
   ],
   "source": [
    "phi =  (1 + math.sqrt(5))/2\n",
    "phi"
   ]
  },
  {
   "cell_type": "code",
   "execution_count": 31,
   "id": "55541bc4",
   "metadata": {},
   "outputs": [
    {
     "data": {
      "text/plain": [
       "2.23606797749979j"
      ]
     },
     "execution_count": 31,
     "metadata": {},
     "output_type": "execute_result"
    }
   ],
   "source": [
    "cmath.sqrt(-5)"
   ]
  },
  {
   "cell_type": "markdown",
   "id": "f3aef3c7",
   "metadata": {},
   "source": [
    "### Integration\n",
    "\n",
    "The inverse of Differentiation, is Integration.  Let's define another approximation function, that takes a function and returns a function.  Let's call it S for Sum.\n",
    "\n",
    "What Sum does is accumulate the area of miniscule rectangles of base h and height $f(x)$.  \n",
    "\n",
    "How much total area has a curve defined, from some starting position up to some current position x?"
   ]
  },
  {
   "cell_type": "code",
   "execution_count": 32,
   "id": "7b5a981d",
   "metadata": {},
   "outputs": [],
   "source": [
    "def S(f, h=1e-2):\n",
    "    def s(start, x):\n",
    "        domain = np.arange(start, x, h)\n",
    "        return sum([f(x)*h for x in domain])\n",
    "    return s"
   ]
  },
  {
   "cell_type": "code",
   "execution_count": 33,
   "id": "c79e1085",
   "metadata": {},
   "outputs": [],
   "source": [
    "def diff(x):\n",
    "    return 2*x"
   ]
  },
  {
   "cell_type": "code",
   "execution_count": 34,
   "id": "5053127d",
   "metadata": {},
   "outputs": [],
   "source": [
    "int_2x = S(diff)"
   ]
  },
  {
   "cell_type": "code",
   "execution_count": 35,
   "id": "0b4e2bb4",
   "metadata": {},
   "outputs": [],
   "source": [
    "domain = np.linspace(-5, 5, 100)"
   ]
  },
  {
   "cell_type": "code",
   "execution_count": 36,
   "id": "f3e3582c",
   "metadata": {},
   "outputs": [],
   "source": [
    "table = pd.DataFrame(\n",
    "           {'x'     : domain, \n",
    "            '2x'  : [diff(x) for x in domain],\n",
    "            'int_2x': [int_2x(-5, x) for x in domain]})"
   ]
  },
  {
   "cell_type": "code",
   "execution_count": 37,
   "id": "267688df",
   "metadata": {},
   "outputs": [
    {
     "data": {
      "image/png": "[encoded data removed]",
      "text/plain": [
       "<Figure size 432x288 with 1 Axes>"
      ]
     },
     "metadata": {
      "needs_background": "light"
     },
     "output_type": "display_data"
    }
   ],
   "source": [
    "table.plot(x='x', grid=True);"
   ]
  },
  {
   "cell_type": "markdown",
   "id": "610ba3ca",
   "metadata": {},
   "source": [
    "This time the straight positively sloping line is what's driving the corresponding integral to be a parabola.  \n",
    "\n",
    "The area defined by the straight line starts out  negative, and reaches -25, a minimum, at x=0. \n",
    "\n",
    "However the new negative area is added at a diminishing rate as the line approaches x=0, so the orange curve descendes ever more slowly. \n",
    "\n",
    "Then, as x goes positive, positive area accumulates, not at a constant rate but faster and faster.  \n",
    "\n",
    "The integral swoops up, for a net area of 0 in this case."
   ]
  },
  {
   "cell_type": "code",
   "execution_count": 38,
   "id": "9e2316e1",
   "metadata": {},
   "outputs": [
    {
     "data": {
      "text/latex": [
       "$\\displaystyle \\int 2 x\\, dx$"
      ],
      "text/plain": [
       "Integral(2*x, x)"
      ]
     },
     "execution_count": 38,
     "metadata": {},
     "output_type": "execute_result"
    }
   ],
   "source": [
    "s = Integral(2*x) \n",
    "s"
   ]
  },
  {
   "cell_type": "code",
   "execution_count": 39,
   "id": "82905c90",
   "metadata": {},
   "outputs": [
    {
     "data": {
      "text/latex": [
       "$\\displaystyle x^{2}$"
      ],
      "text/plain": [
       "x**2"
      ]
     },
     "execution_count": 39,
     "metadata": {},
     "output_type": "execute_result"
    }
   ],
   "source": [
    "s.doit()"
   ]
  },
  {
   "cell_type": "code",
   "execution_count": 40,
   "id": "0e5f1e38",
   "metadata": {},
   "outputs": [],
   "source": [
    "int_ex = S(lambda x: math.e**x)"
   ]
  },
  {
   "cell_type": "code",
   "execution_count": 41,
   "id": "1d3d3edd",
   "metadata": {},
   "outputs": [],
   "source": [
    "table = pd.DataFrame(\n",
    "           {'x'   : domain, \n",
    "            'int_ex': [int_ex(-5, x) for x in domain]})"
   ]
  },
  {
   "cell_type": "code",
   "execution_count": 42,
   "id": "121e0d42",
   "metadata": {},
   "outputs": [
    {
     "data": {
      "image/png": "[encoded data removed]",
      "text/plain": [
       "<Figure size 432x288 with 1 Axes>"
      ]
     },
     "metadata": {
      "needs_background": "light"
     },
     "output_type": "display_data"
    }
   ],
   "source": [
    "table.plot(x='x', grid=True);"
   ]
  },
  {
   "cell_type": "code",
   "execution_count": 43,
   "id": "93d779e3",
   "metadata": {},
   "outputs": [
    {
     "data": {
      "text/latex": [
       "$\\displaystyle \\int e^{x}\\, dx$"
      ],
      "text/plain": [
       "Integral(exp(x), x)"
      ]
     },
     "execution_count": 43,
     "metadata": {},
     "output_type": "execute_result"
    }
   ],
   "source": [
    "s = Integral(exp(x)) \n",
    "s"
   ]
  },
  {
   "cell_type": "code",
   "execution_count": 44,
   "id": "a43a0e88",
   "metadata": {},
   "outputs": [
    {
     "data": {
      "text/latex": [
       "$\\displaystyle e^{x}$"
      ],
      "text/plain": [
       "exp(x)"
      ]
     },
     "execution_count": 44,
     "metadata": {},
     "output_type": "execute_result"
    }
   ],
   "source": [
    "s.doit()"
   ]
  },
  {
   "cell_type": "markdown",
   "id": "fa10f03b",
   "metadata": {},
   "source": [
    "Remember Pascal's Triangle, and our binomial distribution?  The continuous version of the discrete binomial distribution is called the normal distribution, or the bell curve.\n",
    "\n",
    "Data Science anchors to the normal distribution in many ways.  When the total area under the bell curve, or any curve, equals 1, we may used it as a probability finder.  The probability of a value occurring between $x_{0}$ and $x_{1}$ is the area under the curve between these two values.\n",
    "\n",
    "Remember balls falling in the Galton board?  Chances of being in the middle are high, and taper off towards each end."
   ]
  },
  {
   "cell_type": "code",
   "execution_count": 45,
   "id": "70602886",
   "metadata": {},
   "outputs": [],
   "source": [
    "def bell_curve(x):\n",
    "    return (1/math.sqrt(2*math.pi)) * pow(math.e, -x**2/2 )"
   ]
  },
  {
   "cell_type": "code",
   "execution_count": 46,
   "id": "6584e38c",
   "metadata": {},
   "outputs": [],
   "source": [
    "domain = np.linspace(-5, 5, 100)\n",
    "\n",
    "table = pd.DataFrame(\n",
    "           {'x'   : domain, \n",
    "            'pdf': [bell_curve(x) for x in domain]})"
   ]
  },
  {
   "cell_type": "code",
   "execution_count": 47,
   "id": "2b7bf159",
   "metadata": {},
   "outputs": [
    {
     "data": {
      "image/png": "[encoded data removed]",
      "text/plain": [
       "<Figure size 432x288 with 1 Axes>"
      ]
     },
     "metadata": {
      "needs_background": "light"
     },
     "output_type": "display_data"
    }
   ],
   "source": [
    "table.plot(x='x', grid=True);"
   ]
  },
  {
   "cell_type": "code",
   "execution_count": 48,
   "id": "5111cefa",
   "metadata": {},
   "outputs": [],
   "source": [
    "int_bell = S(bell_curve)"
   ]
  },
  {
   "cell_type": "markdown",
   "id": "56a90e06",
   "metadata": {},
   "source": [
    "As you begin your studies in Data Science, you'll find \"probability density function\" (PDF) is another name for the normal distribution.  \"Cumulative density function\" (CDF) is another name for its integral."
   ]
  },
  {
   "cell_type": "code",
   "execution_count": 49,
   "id": "4c47a814",
   "metadata": {},
   "outputs": [],
   "source": [
    "table = pd.DataFrame(\n",
    "        {'x' : domain, \n",
    "        'pdf': [bell_curve(x) for x in domain],\n",
    "        'cdf': [int_bell(-5, x) for x in domain]})"
   ]
  },
  {
   "cell_type": "code",
   "execution_count": 50,
   "id": "748e4c76",
   "metadata": {},
   "outputs": [
    {
     "data": {
      "image/png": "[encoded data removed]",
      "text/plain": [
       "<Figure size 432x288 with 1 Axes>"
      ]
     },
     "metadata": {
      "needs_background": "light"
     },
     "output_type": "display_data"
    }
   ],
   "source": [
    "table.plot(x='x', grid=True);"
   ]
  },
  {
   "cell_type": "markdown",
   "id": "a1b6208f",
   "metadata": {},
   "source": [
    "The orange curve shows the growing probability of events along a bell curve.  Events on the far left are improbable, but improbabilities add up (think of the integral) and by the time we get to 0, the average, half of the events are to the left, the other half to the right.\n",
    "\n",
    "The orange curve grows most quickly in the middle of its life, and tapers off again as it approach 1 exactly i.e. all possibilities are accounted for as the area under the curve fills to completion.\n",
    "\n",
    "Let's see what sympy does if we ask it to integrate the above function, the PDF as we call it in data science, to get the corresponding CDF (the PDF's integral)."
   ]
  },
  {
   "cell_type": "code",
   "execution_count": 51,
   "id": "2ba759b8",
   "metadata": {},
   "outputs": [
    {
     "data": {
      "text/latex": [
       "$\\displaystyle \\int 0.398942280401433 \\cdot 2.71828182845905^{- \\frac{x^{2}}{2}}\\, dx$"
      ],
      "text/plain": [
       "Integral(0.398942280401433*2.71828182845905**(-x**2/2), x)"
      ]
     },
     "execution_count": 51,
     "metadata": {},
     "output_type": "execute_result"
    }
   ],
   "source": [
    "s = Integral((1/math.sqrt(2*math.pi)) * pow(math.e, -x**2/2 ))\n",
    "s"
   ]
  },
  {
   "cell_type": "code",
   "execution_count": 52,
   "id": "a0fbac57",
   "metadata": {},
   "outputs": [
    {
     "data": {
      "text/latex": [
       "$\\displaystyle 0.398942280401433 \\int 2.71828182845905^{- \\frac{x^{2}}{2}}\\, dx$"
      ],
      "text/plain": [
       "0.398942280401433*Integral(2.71828182845905**(-x**2/2), x)"
      ]
     },
     "execution_count": 52,
     "metadata": {},
     "output_type": "execute_result"
    }
   ],
   "source": [
    "s.doit()"
   ]
  },
  {
   "cell_type": "markdown",
   "id": "0561c8c8",
   "metadata": {},
   "source": [
    "It didn't really do it.  It simplified best as it could.\n",
    "\n",
    "Here's more information about integrating the Normal Distribution on [Mathematics StackExchange](https://math.stackexchange.com/questions/145087/how-to-calculate-the-integral-in-normal-distribution)."
   ]
  },
  {
   "cell_type": "markdown",
   "id": "2aa9fbb7",
   "metadata": {},
   "source": [
    "### Complex Numbers\n",
    "\n",
    "Complex numbers give us a concise way of plotting points on a plane, using a pair of crossed axes.  We call one axis real, and one imaginary.  Python has complex numbers built in."
   ]
  },
  {
   "cell_type": "code",
   "execution_count": 53,
   "id": "b1e03f1c",
   "metadata": {},
   "outputs": [],
   "source": [
    "one = complex(1, 0)"
   ]
  },
  {
   "cell_type": "code",
   "execution_count": 54,
   "id": "08fb1370",
   "metadata": {},
   "outputs": [],
   "source": [
    "# help(one)"
   ]
  },
  {
   "cell_type": "code",
   "execution_count": 55,
   "id": "ce9ae750",
   "metadata": {},
   "outputs": [],
   "source": [
    "import cmath"
   ]
  },
  {
   "cell_type": "code",
   "execution_count": 56,
   "id": "0e2402bc",
   "metadata": {},
   "outputs": [
    {
     "name": "stdout",
     "output_type": "stream",
     "text": [
      "['__doc__', '__file__', '__loader__', '__name__', '__package__', '__spec__', 'acos', 'acosh', 'asin', 'asinh', 'atan', 'atanh', 'cos', 'cosh', 'e', 'exp', 'inf', 'infj', 'isclose', 'isfinite', 'isinf', 'isnan', 'log', 'log10', 'nan', 'nanj', 'phase', 'pi', 'polar', 'rect', 'sin', 'sinh', 'sqrt', 'tan', 'tanh', 'tau']\n"
     ]
    }
   ],
   "source": [
    "print(dir(cmath))"
   ]
  },
  {
   "cell_type": "markdown",
   "id": "34622fdc",
   "metadata": {},
   "source": [
    "In high school math, we plot points (x, y) on a Cartesian plane with crossed axes.  Both axes represent the \"real numbers\".\n",
    "\n",
    "Then, using those new skills, we swap out one of the real axes, for an imaginary axis, meaning it's now in units of $\\sqrt{-1}$, which we all appreciate is not a real number."
   ]
  },
  {
   "cell_type": "code",
   "execution_count": 57,
   "id": "c6e499c0",
   "metadata": {},
   "outputs": [
    {
     "data": {
      "text/plain": [
       "1j"
      ]
     },
     "execution_count": 57,
     "metadata": {},
     "output_type": "execute_result"
    }
   ],
   "source": [
    "cmath.sqrt(-1)"
   ]
  },
  {
   "cell_type": "code",
   "execution_count": 58,
   "id": "80b980fd",
   "metadata": {},
   "outputs": [
    {
     "data": {
      "text/plain": [
       "(-4+8j)"
      ]
     },
     "execution_count": 58,
     "metadata": {},
     "output_type": "execute_result"
    }
   ],
   "source": [
    "(2 + 2j) * (1 + 3j)"
   ]
  },
  {
   "cell_type": "code",
   "execution_count": 59,
   "id": "771e08b5",
   "metadata": {},
   "outputs": [
    {
     "data": {
      "text/plain": [
       "\u001b[0;31mSignature:\u001b[0m  \u001b[0mcmath\u001b[0m\u001b[0;34m.\u001b[0m\u001b[0mpolar\u001b[0m\u001b[0;34m(\u001b[0m\u001b[0mz\u001b[0m\u001b[0;34m,\u001b[0m \u001b[0;34m/\u001b[0m\u001b[0;34m)\u001b[0m\u001b[0;34m\u001b[0m\u001b[0;34m\u001b[0m\u001b[0m\n",
       "\u001b[0;31mDocstring:\u001b[0m\n",
       "Convert a complex from rectangular coordinates to polar coordinates.\n",
       "\n",
       "r is the distance from 0 and phi the phase angle.\n",
       "\u001b[0;31mType:\u001b[0m      builtin_function_or_method\n"
      ]
     },
     "metadata": {},
     "output_type": "display_data"
    }
   ],
   "source": [
    "? cmath.polar"
   ]
  },
  {
   "cell_type": "code",
   "execution_count": 60,
   "id": "b5b0574f",
   "metadata": {},
   "outputs": [
    {
     "data": {
      "text/plain": [
       "\u001b[0;31mSignature:\u001b[0m  \u001b[0mcmath\u001b[0m\u001b[0;34m.\u001b[0m\u001b[0mrect\u001b[0m\u001b[0;34m(\u001b[0m\u001b[0mr\u001b[0m\u001b[0;34m,\u001b[0m \u001b[0mphi\u001b[0m\u001b[0;34m,\u001b[0m \u001b[0;34m/\u001b[0m\u001b[0;34m)\u001b[0m\u001b[0;34m\u001b[0m\u001b[0;34m\u001b[0m\u001b[0m\n",
       "\u001b[0;31mDocstring:\u001b[0m Convert from polar coordinates to rectangular coordinates.\n",
       "\u001b[0;31mType:\u001b[0m      builtin_function_or_method\n"
      ]
     },
     "metadata": {},
     "output_type": "display_data"
    }
   ],
   "source": [
    "? cmath.rect"
   ]
  },
  {
   "cell_type": "code",
   "execution_count": 61,
   "id": "dbc38601",
   "metadata": {},
   "outputs": [],
   "source": [
    "def cmul(c0, c1):\n",
    "    \"\"\"\n",
    "    multiplying two complex numbers c0, c1\n",
    "    by multiplying radii and adding their \n",
    "    angles\"\"\"\n",
    "    r0, theta0 = cmath.polar(c0)\n",
    "    r1, theta1 = cmath.polar(c1)\n",
    "    return cmath.rect(r0 * r1, theta0 + theta1)"
   ]
  },
  {
   "cell_type": "code",
   "execution_count": 62,
   "id": "25d83b85",
   "metadata": {},
   "outputs": [
    {
     "data": {
      "text/plain": [
       "(-4+8j)"
      ]
     },
     "execution_count": 62,
     "metadata": {},
     "output_type": "execute_result"
    }
   ],
   "source": [
    "cmul((2 + 2j) , (1 + 3j))"
   ]
  },
  {
   "cell_type": "code",
   "execution_count": 63,
   "id": "8e7570b4",
   "metadata": {},
   "outputs": [
    {
     "data": {
      "text/plain": [
       "(1.0, 0.0)"
      ]
     },
     "execution_count": 63,
     "metadata": {},
     "output_type": "execute_result"
    }
   ],
   "source": [
    "cmath.polar(one)"
   ]
  },
  {
   "cell_type": "markdown",
   "id": "dfcc86b1",
   "metadata": {},
   "source": [
    "Picture an arrow, like a clock hand, pointing to (1, 1) on a Cartesian plane, except the vertical axis is in units of 1j instead of just 1.  "
   ]
  },
  {
   "cell_type": "markdown",
   "id": "1eae2615",
   "metadata": {},
   "source": [
    "In Python, we use $a + bj$ to express complex numbers, where any a, b are any int or floating point value."
   ]
  },
  {
   "cell_type": "code",
   "execution_count": 64,
   "id": "fb05c287",
   "metadata": {},
   "outputs": [],
   "source": [
    "one_one = complex(1, 1)"
   ]
  },
  {
   "cell_type": "code",
   "execution_count": 65,
   "id": "8c15ecd8",
   "metadata": {},
   "outputs": [
    {
     "data": {
      "text/plain": [
       "(1.4142135623730951, 0.7853981633974483)"
      ]
     },
     "execution_count": 65,
     "metadata": {},
     "output_type": "execute_result"
    }
   ],
   "source": [
    "r, theta = cmath.polar(one_one)\n",
    "r, theta"
   ]
  },
  {
   "cell_type": "markdown",
   "id": "0e7308c1",
   "metadata": {},
   "source": [
    "$r$ above is the hypotenuse of a right triangle with edges 1, i.e. is $\\sqrt{2}$.  \n",
    "\n",
    "Since the legs of the triangle are both the same length, we expect an angle of 45 degrees, but we're getting theta in radians.  We may convert radians to degrees."
   ]
  },
  {
   "cell_type": "code",
   "execution_count": 66,
   "id": "9d32a3d0",
   "metadata": {},
   "outputs": [],
   "source": [
    "from math import degrees, radians"
   ]
  },
  {
   "cell_type": "code",
   "execution_count": 67,
   "id": "bd545241",
   "metadata": {},
   "outputs": [
    {
     "data": {
      "text/plain": [
       "1.5707963267948966"
      ]
     },
     "execution_count": 67,
     "metadata": {},
     "output_type": "execute_result"
    }
   ],
   "source": [
    "radians(90)"
   ]
  },
  {
   "cell_type": "code",
   "execution_count": 68,
   "id": "8364b0fe",
   "metadata": {},
   "outputs": [
    {
     "data": {
      "text/plain": [
       "180.0"
      ]
     },
     "execution_count": 68,
     "metadata": {},
     "output_type": "execute_result"
    }
   ],
   "source": [
    "degrees(cmath.pi)"
   ]
  },
  {
   "cell_type": "code",
   "execution_count": 69,
   "id": "c18075c4",
   "metadata": {},
   "outputs": [
    {
     "data": {
      "text/plain": [
       "45.0"
      ]
     },
     "execution_count": 69,
     "metadata": {},
     "output_type": "execute_result"
    }
   ],
   "source": [
    "degrees(theta)"
   ]
  },
  {
   "cell_type": "markdown",
   "id": "0e0047fc",
   "metadata": {},
   "source": [
    "Our favorite number $e$ now comes back into focus as we're able to make a \"clock hand\" rotate counter-clockwise by theta, simply by raising $e$ to 1j * theta.\n",
    "\n",
    "$$\n",
    "point = e^{i \\theta}\n",
    "$$\n",
    "\n",
    "Lets see..."
   ]
  },
  {
   "cell_type": "code",
   "execution_count": 70,
   "id": "a835951f",
   "metadata": {},
   "outputs": [
    {
     "data": {
      "text/plain": [
       "(0.7071067811865476+0.7071067811865475j)"
      ]
     },
     "execution_count": 70,
     "metadata": {},
     "output_type": "execute_result"
    }
   ],
   "source": [
    "theta = radians(45) # degrees to radians\n",
    "point = pow(cmath.e, 1j * theta)\n",
    "point"
   ]
  },
  {
   "cell_type": "code",
   "execution_count": 71,
   "id": "12d4405d",
   "metadata": {},
   "outputs": [
    {
     "data": {
      "text/plain": [
       "(1.0, 0.7853981633974482)"
      ]
     },
     "execution_count": 71,
     "metadata": {},
     "output_type": "execute_result"
    }
   ],
   "source": [
    "r, theta = cmath.polar(point)\n",
    "r, theta"
   ]
  },
  {
   "cell_type": "markdown",
   "id": "02a8342a",
   "metadata": {},
   "source": [
    "The hypotenuse is always 1, whereas we have control over theta.  Lets draw a circle using an x,y scatterplot."
   ]
  },
  {
   "cell_type": "code",
   "execution_count": 72,
   "id": "f0c90133",
   "metadata": {},
   "outputs": [],
   "source": [
    "rads   = np.linspace(0, 2*math.pi, 360)\n",
    "points = pd.DataFrame({\n",
    "    'x': [pow(cmath.e, 1j*theta).real for theta in rads],\n",
    "    'y': [pow(cmath.e, 1j*theta).imag for theta in rads],\n",
    "})"
   ]
  },
  {
   "cell_type": "code",
   "execution_count": 73,
   "id": "4b620fa1",
   "metadata": {},
   "outputs": [
    {
     "data": {
      "text/html": [
       "<div>\n",
       "<style scoped>\n",
       "    .dataframe tbody tr th:only-of-type {\n",
       "        vertical-align: middle;\n",
       "    }\n",
       "\n",
       "    .dataframe tbody tr th {\n",
       "        vertical-align: top;\n",
       "    }\n",
       "\n",
       "    .dataframe thead th {\n",
       "        text-align: right;\n",
       "    }\n",
       "</style>\n",
       "<table border=\"1\" class=\"dataframe\">\n",
       "  <thead>\n",
       "    <tr style=\"text-align: right;\">\n",
       "      <th></th>\n",
       "      <th>x</th>\n",
       "      <th>y</th>\n",
       "    </tr>\n",
       "  </thead>\n",
       "  <tbody>\n",
       "    <tr>\n",
       "      <th>0</th>\n",
       "      <td>1.000000</td>\n",
       "      <td>0.000000</td>\n",
       "    </tr>\n",
       "    <tr>\n",
       "      <th>1</th>\n",
       "      <td>0.999847</td>\n",
       "      <td>0.017501</td>\n",
       "    </tr>\n",
       "    <tr>\n",
       "      <th>2</th>\n",
       "      <td>0.999387</td>\n",
       "      <td>0.034997</td>\n",
       "    </tr>\n",
       "    <tr>\n",
       "      <th>3</th>\n",
       "      <td>0.998622</td>\n",
       "      <td>0.052482</td>\n",
       "    </tr>\n",
       "    <tr>\n",
       "      <th>4</th>\n",
       "      <td>0.997550</td>\n",
       "      <td>0.069950</td>\n",
       "    </tr>\n",
       "  </tbody>\n",
       "</table>\n",
       "</div>"
      ],
      "text/plain": [
       "          x         y\n",
       "0  1.000000  0.000000\n",
       "1  0.999847  0.017501\n",
       "2  0.999387  0.034997\n",
       "3  0.998622  0.052482\n",
       "4  0.997550  0.069950"
      ]
     },
     "execution_count": 73,
     "metadata": {},
     "output_type": "execute_result"
    }
   ],
   "source": [
    "points.head()"
   ]
  },
  {
   "cell_type": "code",
   "execution_count": 74,
   "id": "ba5dee24",
   "metadata": {},
   "outputs": [
    {
     "data": {
      "image/png": "[encoded data removed]",
      "text/plain": [
       "<Figure size 360x360 with 1 Axes>"
      ]
     },
     "metadata": {
      "needs_background": "light"
     },
     "output_type": "display_data"
    }
   ],
   "source": [
    "points.plot.scatter('x', 'y', grid=True, \n",
    "                    figsize=(5,5));"
   ]
  },
  {
   "cell_type": "markdown",
   "id": "9c124e41",
   "metadata": {},
   "source": [
    "What's the inverse of $f(x) = e^{x}$?  It would start with a target y value and answer the question:  what $x$ must I raise $e$ to, to get y?  \n",
    "\n",
    "For example, reading off the plot, it looks like if we want y = 20, we need our x to be about 3."
   ]
  },
  {
   "cell_type": "code",
   "execution_count": 75,
   "id": "033cb141",
   "metadata": {},
   "outputs": [
    {
     "data": {
      "text/plain": [
       "20.085536923187664"
      ]
     },
     "execution_count": 75,
     "metadata": {},
     "output_type": "execute_result"
    }
   ],
   "source": [
    "math.e ** 3"
   ]
  },
  {
   "cell_type": "markdown",
   "id": "2ab77b70",
   "metadata": {},
   "source": [
    "That's close, but what's a more exact answer?  This is where the math.log function comes in, the inverse of math.exp.\n",
    "\n",
    "This log is to the base e by default, although a 2nd optional positional argument may be used to override that."
   ]
  },
  {
   "cell_type": "code",
   "execution_count": 76,
   "id": "b4fbe63f",
   "metadata": {},
   "outputs": [
    {
     "data": {
      "text/plain": [
       "\u001b[0;31mDocstring:\u001b[0m\n",
       "log(x, [base=math.e])\n",
       "Return the logarithm of x to the given base.\n",
       "\n",
       "If the base not specified, returns the natural logarithm (base e) of x.\n",
       "\u001b[0;31mType:\u001b[0m      builtin_function_or_method\n"
      ]
     },
     "metadata": {},
     "output_type": "display_data"
    }
   ],
   "source": [
    "? math.log"
   ]
  },
  {
   "cell_type": "code",
   "execution_count": 77,
   "id": "aba77573",
   "metadata": {},
   "outputs": [
    {
     "data": {
      "text/plain": [
       "2.995732273553991"
      ]
     },
     "execution_count": 77,
     "metadata": {},
     "output_type": "execute_result"
    }
   ],
   "source": [
    "math.log(20)"
   ]
  },
  {
   "cell_type": "code",
   "execution_count": 78,
   "id": "61558617",
   "metadata": {},
   "outputs": [
    {
     "data": {
      "text/plain": [
       "1.301029995663981"
      ]
     },
     "execution_count": 78,
     "metadata": {},
     "output_type": "execute_result"
    }
   ],
   "source": [
    "math.log(20, 10)"
   ]
  },
  {
   "cell_type": "code",
   "execution_count": 79,
   "id": "3f36ab52",
   "metadata": {},
   "outputs": [
    {
     "data": {
      "text/plain": [
       "1.3010299956639813"
      ]
     },
     "execution_count": 79,
     "metadata": {},
     "output_type": "execute_result"
    }
   ],
   "source": [
    "math.log10(20)  # alternatively, for base 10"
   ]
  },
  {
   "cell_type": "markdown",
   "id": "b29221b3",
   "metadata": {},
   "source": [
    "#### Back to Calculus"
   ]
  },
  {
   "cell_type": "markdown",
   "id": "d172120f",
   "metadata": {},
   "source": [
    "Lets plot the inverse function of $f(x) = e^{x}$, which will only have positive targets, since we have no way of reaching negatives using powering."
   ]
  },
  {
   "cell_type": "code",
   "execution_count": 80,
   "id": "bc9ec0c0",
   "metadata": {},
   "outputs": [],
   "source": [
    "domain = np.linspace(0, 100, 200)\n",
    "\n",
    "table = pd.DataFrame(\n",
    "           {'x'   : domain[1:], \n",
    "            'logx': [math.log(x) for x in domain[1:]]})"
   ]
  },
  {
   "cell_type": "code",
   "execution_count": 81,
   "id": "ca0f77a0",
   "metadata": {},
   "outputs": [
    {
     "data": {
      "image/png": "[encoded data removed]",
      "text/plain": [
       "<Figure size 432x288 with 1 Axes>"
      ]
     },
     "metadata": {
      "needs_background": "light"
     },
     "output_type": "display_data"
    }
   ],
   "source": [
    "table.plot(x='x', grid=True);"
   ]
  },
  {
   "cell_type": "markdown",
   "id": "558e79f1",
   "metadata": {},
   "source": [
    "Think about the slope of this thing.  It starts out almost vertical, highly positive, when x is tiny, then levels off more and more, decreasing to 1,  approaching 0.  \n",
    "\n",
    "What function is like this?  What is the derivative of $\\log{x}$?"
   ]
  },
  {
   "cell_type": "code",
   "execution_count": 82,
   "id": "f9c27f86",
   "metadata": {},
   "outputs": [
    {
     "data": {
      "text/latex": [
       "$\\displaystyle \\frac{d}{d x} \\log{\\left(x \\right)}$"
      ],
      "text/plain": [
       "Derivative(log(x), x)"
      ]
     },
     "execution_count": 82,
     "metadata": {},
     "output_type": "execute_result"
    }
   ],
   "source": [
    "x = symbols('x')\n",
    "d=Derivative(log(x)) \n",
    "d"
   ]
  },
  {
   "cell_type": "code",
   "execution_count": 83,
   "id": "9b63b5a0",
   "metadata": {},
   "outputs": [
    {
     "data": {
      "text/latex": [
       "$\\displaystyle \\frac{1}{x}$"
      ],
      "text/plain": [
       "1/x"
      ]
     },
     "execution_count": 83,
     "metadata": {},
     "output_type": "execute_result"
    }
   ],
   "source": [
    "d.doit()"
   ]
  },
  {
   "cell_type": "markdown",
   "id": "bdb96a17",
   "metadata": {},
   "source": [
    "Again, we can use of D function to \"measure the wiggle\" (change size) around each x."
   ]
  },
  {
   "cell_type": "code",
   "execution_count": 84,
   "id": "3e7ebea6",
   "metadata": {},
   "outputs": [],
   "source": [
    "dlog = D(math.log)"
   ]
  },
  {
   "cell_type": "code",
   "execution_count": 85,
   "id": "4ec0b501",
   "metadata": {},
   "outputs": [],
   "source": [
    "table = pd.DataFrame(\n",
    "           {'x'   : domain[1:], \n",
    "            'dlog': [dlog(y) for y in domain[1:]]})"
   ]
  },
  {
   "cell_type": "code",
   "execution_count": 86,
   "id": "2ec17838",
   "metadata": {},
   "outputs": [
    {
     "data": {
      "image/png": "[encoded data removed]",
      "text/plain": [
       "<Figure size 432x288 with 1 Axes>"
      ]
     },
     "metadata": {
      "needs_background": "light"
     },
     "output_type": "display_data"
    }
   ],
   "source": [
    "table.plot(x='x', grid=True, title=\"Plot of dlog(x) = 1/x\");"
   ]
  },
  {
   "cell_type": "markdown",
   "id": "39504806",
   "metadata": {},
   "source": [
    "So if we integrate $1/x$ do we get back to $\\log{x}$?  You betcha we do."
   ]
  },
  {
   "cell_type": "code",
   "execution_count": 87,
   "id": "12e504a5",
   "metadata": {},
   "outputs": [
    {
     "data": {
      "text/latex": [
       "$\\displaystyle \\int \\frac{1}{x}\\, dx$"
      ],
      "text/plain": [
       "Integral(1/x, x)"
      ]
     },
     "execution_count": 87,
     "metadata": {},
     "output_type": "execute_result"
    }
   ],
   "source": [
    "x = symbols('x')\n",
    "s=Integral(x**-1) \n",
    "s"
   ]
  },
  {
   "cell_type": "code",
   "execution_count": 88,
   "id": "049deb5e",
   "metadata": {},
   "outputs": [
    {
     "data": {
      "text/latex": [
       "$\\displaystyle \\log{\\left(x \\right)}$"
      ],
      "text/plain": [
       "log(x)"
      ]
     },
     "execution_count": 88,
     "metadata": {},
     "output_type": "execute_result"
    }
   ],
   "source": [
    "s.doit()"
   ]
  },
  {
   "cell_type": "markdown",
   "id": "82f4ea6a",
   "metadata": {},
   "source": [
    "Or lets use S, our approximation, to integrate the function:\n",
    "\n",
    "$$\n",
    "f(x) = 1/x\n",
    "$$"
   ]
  },
  {
   "cell_type": "code",
   "execution_count": 89,
   "id": "6f19833d",
   "metadata": {},
   "outputs": [],
   "source": [
    "int_f = S(lambda x: 1/x)  # needs to be a callable"
   ]
  },
  {
   "cell_type": "code",
   "execution_count": 90,
   "id": "2d297ced",
   "metadata": {},
   "outputs": [],
   "source": [
    "domain = np.arange(0.1, 3, 0.01)\n",
    "\n",
    "table = pd.DataFrame(\n",
    "           {'x'     : domain[1:], \n",
    "            '1/x'   : [1/x for x in domain[1:]],\n",
    "            'int_f' : [int_f(0.01, x) for x in domain[1:]]})"
   ]
  },
  {
   "cell_type": "code",
   "execution_count": 91,
   "id": "332dceca",
   "metadata": {},
   "outputs": [
    {
     "data": {
      "image/png": "[encoded data removed]",
      "text/plain": [
       "<Figure size 432x288 with 1 Axes>"
      ]
     },
     "metadata": {
      "needs_background": "light"
     },
     "output_type": "display_data"
    }
   ],
   "source": [
    "table.plot(x='x', grid=True);"
   ]
  },
  {
   "cell_type": "markdown",
   "id": "c640165b",
   "metadata": {},
   "source": [
    "With this introduction, we're ready to tie everything together using [Euler's Formula](Trig.ipynb)."
   ]
  }
 ],
 "metadata": {
  "kernelspec": {
   "display_name": "Python 3",
   "language": "python",
   "name": "python3"
  },
  "language_info": {
   "codemirror_mode": {
    "name": "ipython",
    "version": 3
   },
   "file_extension": ".py",
   "mimetype": "text/x-python",
   "name": "python",
   "nbconvert_exporter": "python",
   "pygments_lexer": "ipython3",
   "version": "3.7.9"
  }
 },
 "nbformat": 4,
 "nbformat_minor": 5
}
