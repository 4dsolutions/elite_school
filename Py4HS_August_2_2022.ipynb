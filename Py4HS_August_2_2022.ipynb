{
 "cells": [
  {
   "cell_type": "markdown",
   "id": "468e25aa-24a4-4eaf-b4e0-c47792f38b1c",
   "metadata": {
    "tags": []
   },
   "source": [
    "##### Python for High School (Summer 2022)\n",
    "\n",
    "* [Table of Contents](PY4HS.ipynb)\n",
    "* <a href=\"https://colab.research.google.com/github/4dsolutions/elite_school/blob/master/Py4HS_July_26_2022.ipynb\"><img align=\"left\" src=\"https://colab.research.google.com/assets/colab-badge.svg\" alt=\"Open in Colab\" title=\"Open and Execute in Google Colaboratory\"></a>\n",
    "* [![nbviewer](https://raw.githubusercontent.com/jupyter/design/master/logos/Badges/nbviewer_badge.svg)](https://nbviewer.org/github/4dsolutions/elite_school/blob/master/Py4HS_July_26_2022.ipynb)"
   ]
  },
  {
   "cell_type": "markdown",
   "id": "f2627473-a197-4296-b90b-213f88805786",
   "metadata": {},
   "source": [
    "### Plotting Functions\n",
    "\n",
    "What we find at the core of high school math, is the concept of \"a function\".  \n",
    "\n",
    "The idea of a function closely corresponds to \"a key on a calculator\" in that $cos(x)$, $e^{x}$, $\\log_{10}(x)$, $y^{x}$ are all keys you might see on a calculator, *and* they stand for functions.\n",
    "\n",
    "However, we usually aren't just interested in a single $x$ value.  We'd like to feed a whole range of inputs, from low to high, to our function, and see the results, perhaps as a plot of x values (inputs) versus y values (outputs).\n",
    "\n",
    "This is what numpy and pandas are good for:  inputting an array of inputs, getting an array of outputs, and plotting these two against horizontal and vertical axes."
   ]
  },
  {
   "cell_type": "code",
   "execution_count": 1,
   "id": "21a06acb-8dc0-4368-a17c-aea66bf76677",
   "metadata": {},
   "outputs": [],
   "source": [
    "import numpy as np\n",
    "import pandas as pd"
   ]
  },
  {
   "cell_type": "code",
   "execution_count": 158,
   "id": "cc8a61f5-5edc-41c9-bc1a-cee184df8151",
   "metadata": {},
   "outputs": [
    {
     "data": {
      "image/png": "[encoded data removed]",
      "text/plain": [
       "<Figure size 432x288 with 1 Axes>"
      ]
     },
     "metadata": {
      "needs_background": "light"
     },
     "output_type": "display_data"
    }
   ],
   "source": [
    "x_axis = np.linspace(0, 10, 500)  # pretty dense packing of points\n",
    "y_axis = np.power(x_axis, 0.2)  # raise to 1/5 power, same as getting 5th root\n",
    "x_vs_y = pd.DataFrame({\"X\":x_axis, \"Y\":y_axis})\n",
    "x_vs_y.plot(x=\"X\", y=\"Y\", lw=2); # linewith nice and thick"
   ]
  },
  {
   "cell_type": "code",
   "execution_count": 186,
   "id": "7c6bac56-3ba2-4a6c-a4c6-7f60710fb495",
   "metadata": {},
   "outputs": [
    {
     "data": {
      "image/png": "[encoded data removed]",
      "text/plain": [
       "<Figure size 432x288 with 1 Axes>"
      ]
     },
     "metadata": {
      "needs_background": "light"
     },
     "output_type": "display_data"
    }
   ],
   "source": [
    "x_axis = np.linspace(0, 10, 50)  # pretty dense packing of points\n",
    "y_axis = np.power(x_axis, 0.2)   # raise to 1/5 power, same as getting 5th root\n",
    "\n",
    "x_vs_y = pd.DataFrame({\"X\":x_axis, \"Y\":y_axis})\n",
    "\n",
    "x_vs_y.plot(x=\"X\", y=\"Y\", \n",
    "            kind=\"scatter\",  # not connecting the dots, just the dots\n",
    "            c=\"green\",       # marker color\n",
    "            marker=\"p\",      # marker style\n",
    "            s=10             # marker size    \n",
    "            );    "
   ]
  },
  {
   "cell_type": "markdown",
   "id": "ac03bdcf-63b4-4be5-829b-40c6a73490c1",
   "metadata": {},
   "source": [
    "[Marker Styles](https://matplotlib.org/stable/api/markers_api.html)"
   ]
  },
  {
   "cell_type": "code",
   "execution_count": 97,
   "id": "45139971-25e0-4b1e-ac66-b4f7100d55d5",
   "metadata": {},
   "outputs": [
    {
     "data": {
      "text/plain": [
       "array([  1.        ,   1.27427499,   1.62377674,   2.06913808,\n",
       "         2.6366509 ,   3.35981829,   4.2813324 ,   5.45559478,\n",
       "         6.95192796,   8.8586679 ,  11.28837892,  14.38449888,\n",
       "        18.32980711,  23.35721469,  29.76351442,  37.92690191,\n",
       "        48.32930239,  61.58482111,  78.47599704, 100.        ])"
      ]
     },
     "execution_count": 97,
     "metadata": {},
     "output_type": "execute_result"
    }
   ],
   "source": [
    "x_axis = np.logspace(0, 2, 20)  # 10 to what power?  20 points from 10**0 to 10**2\n",
    "x_axis"
   ]
  },
  {
   "cell_type": "code",
   "execution_count": 102,
   "id": "cbf4a68d-c8d1-44d6-b60d-7e5312ab5408",
   "metadata": {},
   "outputs": [
    {
     "data": {
      "text/plain": [
       "0.10526315789473684"
      ]
     },
     "execution_count": 102,
     "metadata": {},
     "output_type": "execute_result"
    }
   ],
   "source": [
    "np.log10(x_axis[4]) - np.log10(x_axis[3])"
   ]
  },
  {
   "cell_type": "code",
   "execution_count": 103,
   "id": "1fb4bd6e-0c73-430b-bbd7-ffda780c3135",
   "metadata": {},
   "outputs": [
    {
     "data": {
      "image/png": "[encoded data removed]",
      "text/plain": [
       "<Figure size 432x288 with 1 Axes>"
      ]
     },
     "metadata": {
      "needs_background": "light"
     },
     "output_type": "display_data"
    }
   ],
   "source": [
    "y_axis = np.log10(x_axis)\n",
    "\n",
    "x_vs_y = pd.DataFrame({\"X\":x_axis, \n",
    "                       \"Y\":y_axis})\n",
    "\n",
    "x_vs_y.plot(x=\"X\", y=\"Y\", lw=2); # linewith nice and thick"
   ]
  },
  {
   "cell_type": "code",
   "execution_count": 104,
   "id": "ffcd5774-1a6a-48cf-88aa-04634cbad2a6",
   "metadata": {},
   "outputs": [
    {
     "data": {
      "text/html": [
       "<div>\n",
       "<style scoped>\n",
       "    .dataframe tbody tr th:only-of-type {\n",
       "        vertical-align: middle;\n",
       "    }\n",
       "\n",
       "    .dataframe tbody tr th {\n",
       "        vertical-align: top;\n",
       "    }\n",
       "\n",
       "    .dataframe thead th {\n",
       "        text-align: right;\n",
       "    }\n",
       "</style>\n",
       "<table border=\"1\" class=\"dataframe\">\n",
       "  <thead>\n",
       "    <tr style=\"text-align: right;\">\n",
       "      <th></th>\n",
       "      <th>radians</th>\n",
       "      <th>sin</th>\n",
       "    </tr>\n",
       "  </thead>\n",
       "  <tbody>\n",
       "    <tr>\n",
       "      <th>0</th>\n",
       "      <td>-6.283185</td>\n",
       "      <td>2.449294e-16</td>\n",
       "    </tr>\n",
       "    <tr>\n",
       "      <th>1</th>\n",
       "      <td>-6.258002</td>\n",
       "      <td>2.518045e-02</td>\n",
       "    </tr>\n",
       "    <tr>\n",
       "      <th>2</th>\n",
       "      <td>-6.232819</td>\n",
       "      <td>5.034492e-02</td>\n",
       "    </tr>\n",
       "    <tr>\n",
       "      <th>3</th>\n",
       "      <td>-6.207636</td>\n",
       "      <td>7.547747e-02</td>\n",
       "    </tr>\n",
       "    <tr>\n",
       "      <th>4</th>\n",
       "      <td>-6.182453</td>\n",
       "      <td>1.005622e-01</td>\n",
       "    </tr>\n",
       "    <tr>\n",
       "      <th>5</th>\n",
       "      <td>-6.157270</td>\n",
       "      <td>1.255831e-01</td>\n",
       "    </tr>\n",
       "    <tr>\n",
       "      <th>6</th>\n",
       "      <td>-6.132087</td>\n",
       "      <td>1.505244e-01</td>\n",
       "    </tr>\n",
       "    <tr>\n",
       "      <th>7</th>\n",
       "      <td>-6.106904</td>\n",
       "      <td>1.753702e-01</td>\n",
       "    </tr>\n",
       "    <tr>\n",
       "      <th>8</th>\n",
       "      <td>-6.081720</td>\n",
       "      <td>2.001048e-01</td>\n",
       "    </tr>\n",
       "    <tr>\n",
       "      <th>9</th>\n",
       "      <td>-6.056537</td>\n",
       "      <td>2.247125e-01</td>\n",
       "    </tr>\n",
       "  </tbody>\n",
       "</table>\n",
       "</div>"
      ],
      "text/plain": [
       "    radians           sin\n",
       "0 -6.283185  2.449294e-16\n",
       "1 -6.258002  2.518045e-02\n",
       "2 -6.232819  5.034492e-02\n",
       "3 -6.207636  7.547747e-02\n",
       "4 -6.182453  1.005622e-01\n",
       "5 -6.157270  1.255831e-01\n",
       "6 -6.132087  1.505244e-01\n",
       "7 -6.106904  1.753702e-01\n",
       "8 -6.081720  2.001048e-01\n",
       "9 -6.056537  2.247125e-01"
      ]
     },
     "execution_count": 104,
     "metadata": {},
     "output_type": "execute_result"
    }
   ],
   "source": [
    "x_axis = np.linspace(-2*np.pi, \n",
    "                      2*np.pi, \n",
    "                      500)  # pretty dense packing of points\n",
    "\n",
    "y_axis = np.sin(x_axis)  # sine of x\n",
    "\n",
    "x_vs_y = pd.DataFrame({\"radians\":x_axis, \"sin\":y_axis})\n",
    "\n",
    "x_vs_y.head(10)"
   ]
  },
  {
   "cell_type": "code",
   "execution_count": 16,
   "id": "6dece770-09cc-46dd-bffc-f1966f83a1c8",
   "metadata": {},
   "outputs": [
    {
     "data": {
      "image/png": "[encoded data removed]",
      "text/plain": [
       "<Figure size 432x288 with 1 Axes>"
      ]
     },
     "metadata": {
      "needs_background": "light"
     },
     "output_type": "display_data"
    }
   ],
   "source": [
    "x_vs_y.plot(x=\"radians\", y=\"sin\", lw=2); # linewith nice and thick"
   ]
  },
  {
   "cell_type": "code",
   "execution_count": 106,
   "id": "c25cad8c-f69c-4567-b3d0-5558508d43de",
   "metadata": {},
   "outputs": [
    {
     "data": {
      "text/html": [
       "<div>\n",
       "<style scoped>\n",
       "    .dataframe tbody tr th:only-of-type {\n",
       "        vertical-align: middle;\n",
       "    }\n",
       "\n",
       "    .dataframe tbody tr th {\n",
       "        vertical-align: top;\n",
       "    }\n",
       "\n",
       "    .dataframe thead th {\n",
       "        text-align: right;\n",
       "    }\n",
       "</style>\n",
       "<table border=\"1\" class=\"dataframe\">\n",
       "  <thead>\n",
       "    <tr style=\"text-align: right;\">\n",
       "      <th></th>\n",
       "      <th>X</th>\n",
       "      <th>cos</th>\n",
       "      <th>sin</th>\n",
       "    </tr>\n",
       "  </thead>\n",
       "  <tbody>\n",
       "    <tr>\n",
       "      <th>0</th>\n",
       "      <td>-6.283185</td>\n",
       "      <td>1.000000</td>\n",
       "      <td>2.449294e-16</td>\n",
       "    </tr>\n",
       "    <tr>\n",
       "      <th>1</th>\n",
       "      <td>-6.258002</td>\n",
       "      <td>0.999683</td>\n",
       "      <td>2.518045e-02</td>\n",
       "    </tr>\n",
       "    <tr>\n",
       "      <th>2</th>\n",
       "      <td>-6.232819</td>\n",
       "      <td>0.998732</td>\n",
       "      <td>5.034492e-02</td>\n",
       "    </tr>\n",
       "    <tr>\n",
       "      <th>3</th>\n",
       "      <td>-6.207636</td>\n",
       "      <td>0.997148</td>\n",
       "      <td>7.547747e-02</td>\n",
       "    </tr>\n",
       "    <tr>\n",
       "      <th>4</th>\n",
       "      <td>-6.182453</td>\n",
       "      <td>0.994931</td>\n",
       "      <td>1.005622e-01</td>\n",
       "    </tr>\n",
       "  </tbody>\n",
       "</table>\n",
       "</div>"
      ],
      "text/plain": [
       "          X       cos           sin\n",
       "0 -6.283185  1.000000  2.449294e-16\n",
       "1 -6.258002  0.999683  2.518045e-02\n",
       "2 -6.232819  0.998732  5.034492e-02\n",
       "3 -6.207636  0.997148  7.547747e-02\n",
       "4 -6.182453  0.994931  1.005622e-01"
      ]
     },
     "execution_count": 106,
     "metadata": {},
     "output_type": "execute_result"
    }
   ],
   "source": [
    "x_axis = np.linspace(-2*np.pi, \n",
    "                      2*np.pi, \n",
    "                      500)  # pretty dense packing of points\n",
    "\n",
    "y_cos = np.cos(x_axis)  \n",
    "y_sin = np.sin(x_axis)\n",
    "x_vs_y = pd.DataFrame({\"X\":x_axis, \"cos\":y_cos, \"sin\":y_sin})\n",
    "\n",
    "x_vs_y.head()"
   ]
  },
  {
   "cell_type": "code",
   "execution_count": 107,
   "id": "d422df04-cdfd-414a-83c1-d140eed872d8",
   "metadata": {},
   "outputs": [
    {
     "data": {
      "image/png": "[encoded data removed]",
      "text/plain": [
       "<Figure size 432x288 with 1 Axes>"
      ]
     },
     "metadata": {
      "needs_background": "light"
     },
     "output_type": "display_data"
    }
   ],
   "source": [
    "x_vs_y.plot(x=\"X\", y=[\"cos\", \"sin\"], lw=2); # linewith nice and thick"
   ]
  },
  {
   "cell_type": "code",
   "execution_count": 108,
   "id": "96f7bd31-4e44-493a-ba7d-7605bbe50da3",
   "metadata": {},
   "outputs": [
    {
     "data": {
      "image/png": "[encoded data removed]",
      "text/plain": [
       "<Figure size 360x360 with 1 Axes>"
      ]
     },
     "metadata": {
      "needs_background": "light"
     },
     "output_type": "display_data"
    }
   ],
   "source": [
    "x_vs_y.plot(x=\"cos\", y=\"sin\", kind=\"scatter\", figsize=(5,5));"
   ]
  },
  {
   "cell_type": "markdown",
   "id": "c368ca4e-364a-409e-8ebc-c08c75087543",
   "metadata": {},
   "source": [
    "### Functions as Mappings\n",
    "\n",
    "After all these examples, one might conclude that the \"function\" concept is mostly connected to *numeric* inputs and outputs.  \n",
    "\n",
    "Really, though, any data type might get involved.  \n",
    "\n",
    "The idea of a function is really closer to that of a Python dictionary:  the inputs are the keys, and the outputs are the values."
   ]
  },
  {
   "cell_type": "code",
   "execution_count": 28,
   "id": "1726688c-e9d7-4cfe-bd94-fb7317711574",
   "metadata": {},
   "outputs": [
    {
     "data": {
      "text/plain": [
       "['a', 'b', 'c', 'd', 'e', 'f', 'g', 'h', 'i', 'j', 'k', 'l', 'm']"
      ]
     },
     "execution_count": 28,
     "metadata": {},
     "output_type": "execute_result"
    }
   ],
   "source": [
    "x_inputs = [chr(x) for x in range(97, 110)]\n",
    "x_inputs"
   ]
  },
  {
   "cell_type": "code",
   "execution_count": 29,
   "id": "3cff52dd-51d4-4506-9ddd-f528579148c5",
   "metadata": {},
   "outputs": [],
   "source": [
    "def function(the_inputs):\n",
    "    \"\"\"\n",
    "    shift every letter 5 positions 'higher' \n",
    "    \"\"\"\n",
    "    return [chr(ord(x)+5) for x in the_inputs]"
   ]
  },
  {
   "cell_type": "code",
   "execution_count": 30,
   "id": "4c122b6e-d407-4b66-86a2-a49f5696990f",
   "metadata": {},
   "outputs": [
    {
     "data": {
      "text/plain": [
       "['f', 'g', 'h', 'i', 'j', 'k', 'l', 'm', 'n', 'o', 'p', 'q', 'r']"
      ]
     },
     "execution_count": 30,
     "metadata": {},
     "output_type": "execute_result"
    }
   ],
   "source": [
    "function(x_inputs)"
   ]
  },
  {
   "cell_type": "code",
   "execution_count": 31,
   "id": "52b5e302-1db4-407b-95ba-72ca52e626fd",
   "metadata": {},
   "outputs": [],
   "source": [
    "new_outputs = function(x_inputs)"
   ]
  },
  {
   "cell_type": "code",
   "execution_count": 33,
   "id": "d330a422-9580-4efb-bfba-370d824753a3",
   "metadata": {},
   "outputs": [
    {
     "data": {
      "text/plain": [
       "['k', 'l', 'm', 'n', 'o', 'p', 'q', 'r', 's', 't', 'u', 'v', 'w']"
      ]
     },
     "execution_count": 33,
     "metadata": {},
     "output_type": "execute_result"
    }
   ],
   "source": [
    "function(new_outputs)"
   ]
  },
  {
   "cell_type": "code",
   "execution_count": 34,
   "id": "8286c306-17a2-4a06-8bcf-4948f5dcf779",
   "metadata": {},
   "outputs": [
    {
     "data": {
      "text/plain": [
       "['k', 'l', 'm', 'n', 'o', 'p', 'q', 'r', 's', 't', 'u', 'v', 'w']"
      ]
     },
     "execution_count": 34,
     "metadata": {},
     "output_type": "execute_result"
    }
   ],
   "source": [
    "function(function(x_inputs))"
   ]
  },
  {
   "cell_type": "code",
   "execution_count": 35,
   "id": "f9730e4c-27b3-4c43-9265-70ff6520d528",
   "metadata": {},
   "outputs": [
    {
     "data": {
      "text/plain": [
       "['p', 'q', 'r', 's', 't', 'u', 'v', 'w', 'x', 'y', 'z', '{', '|']"
      ]
     },
     "execution_count": 35,
     "metadata": {},
     "output_type": "execute_result"
    }
   ],
   "source": [
    "function(function(function(x_inputs)))"
   ]
  },
  {
   "cell_type": "code",
   "execution_count": 38,
   "id": "981d7aac-ad61-4e2b-9f4d-599cc0739b1e",
   "metadata": {},
   "outputs": [
    {
     "data": {
      "text/plain": [
       "{'a': 'p',\n",
       " 'b': 'q',\n",
       " 'c': 'r',\n",
       " 'd': 's',\n",
       " 'e': 't',\n",
       " 'f': 'u',\n",
       " 'g': 'v',\n",
       " 'h': 'w',\n",
       " 'i': 'x',\n",
       " 'j': 'y',\n",
       " 'k': 'z',\n",
       " 'l': '{',\n",
       " 'm': '|'}"
      ]
     },
     "execution_count": 38,
     "metadata": {},
     "output_type": "execute_result"
    }
   ],
   "source": [
    "mapping = dict(zip(x_inputs, function(function(function(x_inputs)))))\n",
    "mapping"
   ]
  },
  {
   "cell_type": "markdown",
   "id": "578b8453-0469-4a46-81f1-38c9568db11c",
   "metadata": {},
   "source": [
    "The rule for a mapping to be a function is:  although multiple inputs are allowed to have the same outputs (many keys mapping to the same value is fine), any given input always has exactly the same output.\n",
    "\n",
    "A function that has a valid inverse function, derived from exchanging keys and values, is not a many-to-one function either way, only one-to-one."
   ]
  },
  {
   "cell_type": "code",
   "execution_count": 42,
   "id": "f1462a26-8ec3-4f08-910d-62309d2f01de",
   "metadata": {},
   "outputs": [],
   "source": [
    "def inv_function(input_map):\n",
    "    return dict(zip(input_map.values(), input_map.keys()))"
   ]
  },
  {
   "cell_type": "code",
   "execution_count": 43,
   "id": "f8bd61ff-c0bf-42a3-a4be-dd24122630cf",
   "metadata": {},
   "outputs": [
    {
     "data": {
      "text/plain": [
       "{'p': 'a',\n",
       " 'q': 'b',\n",
       " 'r': 'c',\n",
       " 's': 'd',\n",
       " 't': 'e',\n",
       " 'u': 'f',\n",
       " 'v': 'g',\n",
       " 'w': 'h',\n",
       " 'x': 'i',\n",
       " 'y': 'j',\n",
       " 'z': 'k',\n",
       " '{': 'l',\n",
       " '|': 'm'}"
      ]
     },
     "execution_count": 43,
     "metadata": {},
     "output_type": "execute_result"
    }
   ],
   "source": [
    "inv_function(mapping)"
   ]
  },
  {
   "cell_type": "markdown",
   "id": "62eb0c29-83bf-4d86-8b92-b03317ddbf9d",
   "metadata": {},
   "source": [
    "### Permutations\n",
    "\n",
    "A Permutation maps letters to the same letters, or numbers to a rearrange set of the same numbers, and so is a kind of function.  \n",
    "\n",
    "Perhaps the mapping is random.  \n",
    "\n",
    "What's important is that it be one-to-one, so that we can:\n",
    "\n",
    "* invert a Permutation\n",
    "* combine it with another Permutation\n",
    "\n",
    "A Permutation combined with its inverse is the \"do nothing\" Permutation, also known as \"the identity\" Permutation.  \n",
    "\n",
    "Let's see:"
   ]
  },
  {
   "cell_type": "code",
   "execution_count": 113,
   "id": "3e92868f-0eca-4187-bbfa-3aefda62cf3e",
   "metadata": {},
   "outputs": [],
   "source": [
    "import px_class"
   ]
  },
  {
   "cell_type": "code",
   "execution_count": 114,
   "id": "1e55a339-0de8-4174-b474-eebe6292f959",
   "metadata": {},
   "outputs": [
    {
     "data": {
      "text/plain": [
       "<module 'px_class' from '/Users/mac/Documents/elite_school/px_class.py'>"
      ]
     },
     "execution_count": 114,
     "metadata": {},
     "output_type": "execute_result"
    }
   ],
   "source": [
    "import imp\n",
    "imp.reload(px_class)"
   ]
  },
  {
   "cell_type": "code",
   "execution_count": 115,
   "id": "ce61e45e-e975-48e7-a9e8-f9a9cd01e469",
   "metadata": {},
   "outputs": [],
   "source": [
    "from px_class import P"
   ]
  },
  {
   "cell_type": "markdown",
   "id": "05b1323e-4712-430d-b20d-ba891432351f",
   "metadata": {},
   "source": [
    "Match every lowercase letter to another (possibly the same) lowercase letter."
   ]
  },
  {
   "cell_type": "code",
   "execution_count": 116,
   "id": "545763d7-4d01-4deb-bac3-f4ae369a0198",
   "metadata": {},
   "outputs": [
    {
     "data": {
      "text/plain": [
       "P class: (('a', 'n'), ('b', 'k'), ('c', 'x'))..."
      ]
     },
     "execution_count": 116,
     "metadata": {},
     "output_type": "execute_result"
    }
   ],
   "source": [
    "p1 = P().shuffle()\n",
    "p1"
   ]
  },
  {
   "cell_type": "markdown",
   "id": "5546c6fb-02fa-4819-86da-c4e9df43d2cd",
   "metadata": {},
   "source": [
    "The full dictionary maps not only the lowercase letters, but the space character as well, for 27 symbols in all."
   ]
  },
  {
   "cell_type": "code",
   "execution_count": 117,
   "id": "2406c707-6271-4534-8fa7-9da318e9dbc7",
   "metadata": {},
   "outputs": [
    {
     "data": {
      "text/plain": [
       "{'a': 'n',\n",
       " 'b': 'k',\n",
       " 'c': 'x',\n",
       " 'd': 'p',\n",
       " 'e': 'y',\n",
       " 'f': ' ',\n",
       " 'g': 'i',\n",
       " 'h': 'v',\n",
       " 'i': 'm',\n",
       " 'j': 't',\n",
       " 'k': 'q',\n",
       " 'l': 'z',\n",
       " 'm': 's',\n",
       " 'n': 'w',\n",
       " 'o': 'f',\n",
       " 'p': 'r',\n",
       " 'q': 'u',\n",
       " 'r': 'l',\n",
       " 's': 'a',\n",
       " 't': 'g',\n",
       " 'u': 'd',\n",
       " 'v': 'o',\n",
       " 'w': 'h',\n",
       " 'x': 'j',\n",
       " 'y': 'e',\n",
       " 'z': 'b',\n",
       " ' ': 'c'}"
      ]
     },
     "execution_count": 117,
     "metadata": {},
     "output_type": "execute_result"
    }
   ],
   "source": [
    "p1._code  # here's the complete mapping.  A space character is in there too."
   ]
  },
  {
   "cell_type": "code",
   "execution_count": 118,
   "id": "0801e132-ba36-43fc-b8e3-6e7fb1806fc4",
   "metadata": {},
   "outputs": [
    {
     "data": {
      "text/plain": [
       "27"
      ]
     },
     "execution_count": 118,
     "metadata": {},
     "output_type": "execute_result"
    }
   ],
   "source": [
    "len(p1._code)"
   ]
  },
  {
   "cell_type": "markdown",
   "id": "268c8b09-46b7-4272-9ab3-ce7abc7b5fec",
   "metadata": {},
   "source": [
    "Python lets us take control of the tilde (~), by giving us \"dunder invert\" (`__invert__`) as a special name.  Inside the code for the P type class, we have code to (a) reverse the `_code` dictionary, and (b) return a new Permuation object on the basis of that reversed dict."
   ]
  },
  {
   "cell_type": "markdown",
   "id": "91cf80d2-2a25-40b7-8be9-263c6af8490c",
   "metadata": {},
   "source": [
    "Here is that code:\n",
    "\n",
    "```python\n",
    "\n",
    "    def __invert__(self):\n",
    "        \"\"\"\n",
    "        create new P with reversed dict\n",
    "        \"\"\"\n",
    "        newP = P()\n",
    "        newP._code = dict(zip(self._code.values(), self._code.keys()))\n",
    "        return newP\n",
    "```  "
   ]
  },
  {
   "cell_type": "code",
   "execution_count": 119,
   "id": "4a5e18b8-078d-4f66-b7db-77671a119f94",
   "metadata": {},
   "outputs": [
    {
     "data": {
      "text/plain": [
       "P class: (('a', 'a'), ('b', 'b'), ('c', 'c'))..."
      ]
     },
     "execution_count": 119,
     "metadata": {},
     "output_type": "execute_result"
    }
   ],
   "source": [
    "newP = P()\n",
    "newP"
   ]
  },
  {
   "cell_type": "code",
   "execution_count": 120,
   "id": "da776fcc-4794-495f-af12-fc49b4009408",
   "metadata": {},
   "outputs": [
    {
     "data": {
      "text/plain": [
       "P class: (('n', 'a'), ('k', 'b'), ('x', 'c'))..."
      ]
     },
     "execution_count": 120,
     "metadata": {},
     "output_type": "execute_result"
    }
   ],
   "source": [
    "p1_inv = ~p1  # use __invert__ or 'dunder invert'\n",
    "p1_inv"
   ]
  },
  {
   "cell_type": "markdown",
   "id": "bd316a51-278e-402e-8135-66a81902222c",
   "metadata": {},
   "source": [
    "Combine permutations by multiplying them together.  A permutation times its own inverse results in the identity permutation."
   ]
  },
  {
   "cell_type": "code",
   "execution_count": 121,
   "id": "824547d4-60d9-4668-9fc2-20febe6a8a39",
   "metadata": {},
   "outputs": [
    {
     "data": {
      "text/plain": [
       "P class: (('n', 'n'), ('k', 'k'), ('x', 'x'))..."
      ]
     },
     "execution_count": 121,
     "metadata": {},
     "output_type": "execute_result"
    }
   ],
   "source": [
    "p1_inv * p1"
   ]
  },
  {
   "cell_type": "code",
   "execution_count": 122,
   "id": "17676e6d-79fa-4711-93c6-13baa6673a22",
   "metadata": {},
   "outputs": [],
   "source": [
    "identity = p1_inv * p1"
   ]
  },
  {
   "cell_type": "code",
   "execution_count": 123,
   "id": "97e5ab2b-492f-47f6-9670-9308242d0505",
   "metadata": {},
   "outputs": [
    {
     "data": {
      "text/plain": [
       "P class: (('a', 'x'), ('b', 'c'), ('c', 'j'))..."
      ]
     },
     "execution_count": 123,
     "metadata": {},
     "output_type": "execute_result"
    }
   ],
   "source": [
    "p2 = P().shuffle()\n",
    "p2"
   ]
  },
  {
   "cell_type": "code",
   "execution_count": 124,
   "id": "78730fb6-ea5a-4d45-a1ab-ec6132e1bfb5",
   "metadata": {},
   "outputs": [
    {
     "data": {
      "text/plain": [
       "P class: (('a', 'x'), ('b', 'c'), ('c', 'j'))..."
      ]
     },
     "execution_count": 124,
     "metadata": {},
     "output_type": "execute_result"
    }
   ],
   "source": [
    "p2 * identity"
   ]
  },
  {
   "cell_type": "code",
   "execution_count": 125,
   "id": "4c0afe81-c9b3-495c-b239-6b0a4419c419",
   "metadata": {},
   "outputs": [
    {
     "data": {
      "text/plain": [
       "P class: (('n', 'o'), ('k', 's'), ('x', 'p'))..."
      ]
     },
     "execution_count": 125,
     "metadata": {},
     "output_type": "execute_result"
    }
   ],
   "source": [
    "identity * p2"
   ]
  },
  {
   "cell_type": "code",
   "execution_count": 126,
   "id": "9796971b-e1bf-429b-8a36-08f8ab5211ff",
   "metadata": {},
   "outputs": [
    {
     "data": {
      "text/plain": [
       "True"
      ]
     },
     "execution_count": 126,
     "metadata": {},
     "output_type": "execute_result"
    }
   ],
   "source": [
    "p2 * identity == identity * p2"
   ]
  },
  {
   "cell_type": "code",
   "execution_count": 127,
   "id": "f7f5cc65-c4b4-4df9-90dc-b6cbe4c12854",
   "metadata": {},
   "outputs": [
    {
     "data": {
      "text/plain": [
       "'w'"
      ]
     },
     "execution_count": 127,
     "metadata": {},
     "output_type": "execute_result"
    }
   ],
   "source": [
    "p2['v']"
   ]
  },
  {
   "cell_type": "code",
   "execution_count": 129,
   "id": "09d968d4-b6f2-4be2-b99e-44963706651c",
   "metadata": {},
   "outputs": [
    {
     "data": {
      "text/plain": [
       "'v'"
      ]
     },
     "execution_count": 129,
     "metadata": {},
     "output_type": "execute_result"
    }
   ],
   "source": [
    "(~p2)['w']"
   ]
  },
  {
   "cell_type": "code",
   "execution_count": 130,
   "id": "e816f166-2221-4ba4-bb75-cac751afd9f5",
   "metadata": {},
   "outputs": [],
   "source": [
    "plaintext = \"\"\"once upon a time little red riding hood \n",
    "went for a walk in a large forest and got lost\"\"\""
   ]
  },
  {
   "cell_type": "code",
   "execution_count": 131,
   "id": "7eb401ca-6391-4a8a-a92a-cdddc1e68cb9",
   "metadata": {},
   "outputs": [
    {
     "name": "stdout",
     "output_type": "stream",
     "text": [
      "yoj tnqyotxthld tvlhhv ti ftilfloatryyft\n",
      "u ohtzyitxtuxvstlotxtvxia tzyi ghtxoftayhtvygh\n"
     ]
    }
   ],
   "source": [
    "c = p2(plaintext)\n",
    "print(c)"
   ]
  },
  {
   "cell_type": "code",
   "execution_count": 132,
   "id": "809819cf-7112-46e6-a0b2-38b44474aca9",
   "metadata": {},
   "outputs": [
    {
     "data": {
      "text/plain": [
       "'yoj tnqyotxthld tvlhhv ti ftilfloatryyft\\nu ohtzyitxtuxvstlotxtvxia tzyi ghtxoftayhtvygh'"
      ]
     },
     "execution_count": 132,
     "metadata": {},
     "output_type": "execute_result"
    }
   ],
   "source": [
    "c"
   ]
  },
  {
   "cell_type": "code",
   "execution_count": 133,
   "id": "df1208cf-8dd9-4989-acd9-7cef650c458e",
   "metadata": {},
   "outputs": [
    {
     "name": "stdout",
     "output_type": "stream",
     "text": [
      "once upon a time little red riding hood \n",
      "went for a walk in a large forest and got lost\n"
     ]
    }
   ],
   "source": [
    "plain = (~p2)(c)\n",
    "print(plain)"
   ]
  },
  {
   "cell_type": "code",
   "execution_count": 134,
   "id": "df2393fa-eb57-4b2c-8553-09a223d7c82f",
   "metadata": {},
   "outputs": [
    {
     "data": {
      "text/plain": [
       "' echrys erqriwzhruwiiuhrvhmrvwmweprl  mr\\noheird vrqroquarwerqruqvphrd vhxirqemrp iru xi'"
      ]
     },
     "execution_count": 134,
     "metadata": {},
     "output_type": "execute_result"
    }
   ],
   "source": [
    "(p2**3)(plaintext)"
   ]
  },
  {
   "cell_type": "code",
   "execution_count": 135,
   "id": "947d257f-f8a9-402c-b4d2-e50a89ccb8e4",
   "metadata": {},
   "outputs": [
    {
     "data": {
      "text/plain": [
       "' echrys e'"
      ]
     },
     "execution_count": 135,
     "metadata": {},
     "output_type": "execute_result"
    }
   ],
   "source": [
    "(p2*p2*p2)(\"once upon\")"
   ]
  },
  {
   "cell_type": "code",
   "execution_count": 150,
   "id": "02d839c3-8777-46cd-97ba-57739fd98cd9",
   "metadata": {},
   "outputs": [
    {
     "data": {
      "text/plain": [
       "(('a', 'x', 'p', 'q', 'k', 's', 'g'),\n",
       " ('b', 'c', 'j'),\n",
       " ('d', 'f', 'z', 'm'),\n",
       " ('e', ' ', 't', 'h', 'r', 'i', 'l', 'v', 'w', 'u', 'n', 'o', 'y'))"
      ]
     },
     "execution_count": 150,
     "metadata": {},
     "output_type": "execute_result"
    }
   ],
   "source": [
    "(p2**1).cyclic()"
   ]
  },
  {
   "cell_type": "code",
   "execution_count": 145,
   "id": "5010778b-e085-4c73-a8aa-895f67f3b874",
   "metadata": {},
   "outputs": [
    {
     "data": {
      "text/plain": [
       "'x'"
      ]
     },
     "execution_count": 145,
     "metadata": {},
     "output_type": "execute_result"
    }
   ],
   "source": [
    "p2['a']"
   ]
  },
  {
   "cell_type": "code",
   "execution_count": 146,
   "id": "6bf72eb7-fe62-45fe-a4f4-42becfa67d67",
   "metadata": {},
   "outputs": [
    {
     "data": {
      "text/plain": [
       "'p'"
      ]
     },
     "execution_count": 146,
     "metadata": {},
     "output_type": "execute_result"
    }
   ],
   "source": [
    "p2['x']"
   ]
  },
  {
   "cell_type": "code",
   "execution_count": 147,
   "id": "2406e35b-783f-4e9a-8431-bd693e39995c",
   "metadata": {},
   "outputs": [
    {
     "data": {
      "text/plain": [
       "'q'"
      ]
     },
     "execution_count": 147,
     "metadata": {},
     "output_type": "execute_result"
    }
   ],
   "source": [
    "p2['p']"
   ]
  },
  {
   "cell_type": "code",
   "execution_count": 148,
   "id": "0d0e773c-6f00-4d7e-b3ff-0e9bb4e19681",
   "metadata": {},
   "outputs": [
    {
     "data": {
      "text/plain": [
       "'q'"
      ]
     },
     "execution_count": 148,
     "metadata": {},
     "output_type": "execute_result"
    }
   ],
   "source": [
    "(p2**3)['a']"
   ]
  },
  {
   "cell_type": "code",
   "execution_count": 151,
   "id": "b905ca86-2329-472b-ab47-09a3778364da",
   "metadata": {},
   "outputs": [
    {
     "data": {
      "text/plain": [
       "(('a', 'q', 'g', 'p', 's', 'x', 'k'),\n",
       " ('b',),\n",
       " ('c',),\n",
       " ('d', 'm', 'z', 'f'),\n",
       " ('e', 'h', 'l', 'u', 'y', 't', 'i', 'w', 'o', ' ', 'r', 'v', 'n'),\n",
       " ('j',))"
      ]
     },
     "execution_count": 151,
     "metadata": {},
     "output_type": "execute_result"
    }
   ],
   "source": [
    "(p2**3).cyclic()"
   ]
  },
  {
   "cell_type": "code",
   "execution_count": 209,
   "id": "2afad2df-2523-499e-8512-fe68ed2873b0",
   "metadata": {},
   "outputs": [],
   "source": [
    "board = np.full((8,8),' ', dtype=str)"
   ]
  },
  {
   "cell_type": "code",
   "execution_count": 210,
   "id": "4ea78715-bd40-41e2-b837-2b88cdb835bb",
   "metadata": {},
   "outputs": [],
   "source": [
    "board[::2,::2]='B'\n",
    "board[1::2,1::2]='B'"
   ]
  },
  {
   "cell_type": "code",
   "execution_count": 211,
   "id": "21771fec-70e2-454a-856a-bbf6795f384c",
   "metadata": {},
   "outputs": [
    {
     "data": {
      "text/plain": [
       "array([['B', ' ', 'B', ' ', 'B', ' ', 'B', ' '],\n",
       "       [' ', 'B', ' ', 'B', ' ', 'B', ' ', 'B'],\n",
       "       ['B', ' ', 'B', ' ', 'B', ' ', 'B', ' '],\n",
       "       [' ', 'B', ' ', 'B', ' ', 'B', ' ', 'B'],\n",
       "       ['B', ' ', 'B', ' ', 'B', ' ', 'B', ' '],\n",
       "       [' ', 'B', ' ', 'B', ' ', 'B', ' ', 'B'],\n",
       "       ['B', ' ', 'B', ' ', 'B', ' ', 'B', ' '],\n",
       "       [' ', 'B', ' ', 'B', ' ', 'B', ' ', 'B']], dtype='<U1')"
      ]
     },
     "execution_count": 211,
     "metadata": {},
     "output_type": "execute_result"
    }
   ],
   "source": [
    "board"
   ]
  },
  {
   "cell_type": "code",
   "execution_count": 215,
   "id": "7470a51f-a0b4-43d7-be57-94afad72eb19",
   "metadata": {},
   "outputs": [],
   "source": [
    "board[(board!='B')]='W'"
   ]
  },
  {
   "cell_type": "code",
   "execution_count": 216,
   "id": "cc98316c-1cb5-4b75-b520-28c215580c43",
   "metadata": {},
   "outputs": [
    {
     "data": {
      "text/plain": [
       "array([['B', 'W', 'B', 'W', 'B', 'W', 'B', 'W'],\n",
       "       ['W', 'B', 'W', 'B', 'W', 'B', 'W', 'B'],\n",
       "       ['B', 'W', 'B', 'W', 'B', 'W', 'B', 'W'],\n",
       "       ['W', 'B', 'W', 'B', 'W', 'B', 'W', 'B'],\n",
       "       ['B', 'W', 'B', 'W', 'B', 'W', 'B', 'W'],\n",
       "       ['W', 'B', 'W', 'B', 'W', 'B', 'W', 'B'],\n",
       "       ['B', 'W', 'B', 'W', 'B', 'W', 'B', 'W'],\n",
       "       ['W', 'B', 'W', 'B', 'W', 'B', 'W', 'B']], dtype='<U1')"
      ]
     },
     "execution_count": 216,
     "metadata": {},
     "output_type": "execute_result"
    }
   ],
   "source": [
    "board"
   ]
  },
  {
   "cell_type": "code",
   "execution_count": 217,
   "id": "df2b28aa-9f13-4851-8c86-4e4a4e741f88",
   "metadata": {},
   "outputs": [
    {
     "data": {
      "text/plain": [
       "array([['b', 'w', 'b', 'w', 'b', 'w', 'b', 'w'],\n",
       "       ['w', 'b', 'w', 'b', 'w', 'b', 'w', 'b'],\n",
       "       ['b', 'w', 'b', 'w', 'b', 'w', 'b', 'w'],\n",
       "       ['w', 'b', 'w', 'b', 'w', 'b', 'w', 'b'],\n",
       "       ['b', 'w', 'b', 'w', 'b', 'w', 'b', 'w'],\n",
       "       ['w', 'b', 'w', 'b', 'w', 'b', 'w', 'b'],\n",
       "       ['b', 'w', 'b', 'w', 'b', 'w', 'b', 'w'],\n",
       "       ['w', 'b', 'w', 'b', 'w', 'b', 'w', 'b']], dtype='<U1')"
      ]
     },
     "execution_count": 217,
     "metadata": {},
     "output_type": "execute_result"
    }
   ],
   "source": [
    "board[(board=='B')]='b'\n",
    "board[(board=='W')]='w'\n",
    "board"
   ]
  },
  {
   "cell_type": "code",
   "execution_count": null,
   "id": "68ff9284-667a-4984-8e43-719a4bdf8e58",
   "metadata": {},
   "outputs": [],
   "source": []
  }
 ],
 "metadata": {
  "kernelspec": {
   "display_name": "Python 3 (ipykernel)",
   "language": "python",
   "name": "python3"
  },
  "language_info": {
   "codemirror_mode": {
    "name": "ipython",
    "version": 3
   },
   "file_extension": ".py",
   "mimetype": "text/x-python",
   "name": "python",
   "nbconvert_exporter": "python",
   "pygments_lexer": "ipython3",
   "version": "3.9.12"
  }
 },
 "nbformat": 4,
 "nbformat_minor": 5
}
