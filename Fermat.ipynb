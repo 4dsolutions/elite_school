{
 "cells": [
  {
   "cell_type": "markdown",
   "id": "ac3dddc2",
   "metadata": {},
   "source": [
    "* [Home](Home.ipynb)\n",
    "* [Algorithms in Cryptography](Crypto.ipynb)\n",
    "\n",
    "\n",
    "# Fun with Fermat \n",
    "\n",
    "![Pierre de Fermat](https://ingrangel.net/wp-content/uploads/2019/01/image-338.jpg)\n",
    "\n",
    "Fermat is best known for [his famous last theorem](https://www.nsf.gov/discoveries/disc_summ.jsp?cntn_id=100029&org=NSF), which has been regarded as proved only recently, in 1994 by Andrew Wiles and Richard Taylor, meaning Fermat's proof, if he ever had one, is lost to history.  \n",
    "\n",
    "In light of the complexity of the existing proof, most are skeptical that he ever had one. He claimed he did, but it wouldn't fit in the margin. \"Yeah right\" right?\n",
    "\n",
    "### Fermat's Little Theorem\n",
    "\n",
    "However his so-called Little Theorem is likewise easy to state and, unlike the Last Theorem, relatively easy to prove.\n",
    "\n",
    "Statement:\n",
    "\n",
    "If $p$ is a prime and $a$ is any integer not divisible by p, then $a^{p − 1} − 1$ is divisible by p.\n",
    "\n",
    "Put another way:\n",
    "\n",
    "$a^{p − 1} \\equiv 1\\mod{p}$, where $a \\nmid p$.\n",
    "\n",
    "As long as $a$ and $p$ are strangers, and $p$ is prime, raising $a$ to the $p - 1$ power begets a number divisible by $p$ but for a remainder of 1."
   ]
  },
  {
   "cell_type": "code",
   "execution_count": 1,
   "id": "13c5e287",
   "metadata": {},
   "outputs": [],
   "source": [
    "import primes\n",
    "p = primes.primes_gen.PrimeNumbers()\n",
    "some_primes = [next(p) for _ in range(20)]"
   ]
  },
  {
   "cell_type": "code",
   "execution_count": 2,
   "id": "c1b9fad4",
   "metadata": {},
   "outputs": [
    {
     "data": {
      "text/plain": [
       "[2, 3, 5, 7, 11, 13, 17, 19, 23, 29, 31, 37, 41, 43, 47, 53, 59, 61, 67, 71]"
      ]
     },
     "execution_count": 2,
     "metadata": {},
     "output_type": "execute_result"
    }
   ],
   "source": [
    "some_primes"
   ]
  },
  {
   "cell_type": "code",
   "execution_count": 3,
   "id": "df445691",
   "metadata": {},
   "outputs": [],
   "source": [
    "def gcd(a, b):\n",
    "    while a % b:         # when remainder is 0, b is gcd\n",
    "        b, a = a % b, b  # chopping down to 1\n",
    "    return b\n",
    "\n",
    "def strangers(a, b):\n",
    "    \"\"\"returns True when a, b have nothing in common\"\"\"\n",
    "    return gcd(a, b) == 1"
   ]
  },
  {
   "cell_type": "markdown",
   "id": "e6f45748",
   "metadata": {},
   "source": [
    "$p$ divides $a^{p-1} -1$ with no remainder, hence all these zeroes:"
   ]
  },
  {
   "cell_type": "markdown",
   "id": "83c5651f",
   "metadata": {},
   "source": [
    "The code cell below continues with list comprehension syntax, by adding an optional if clause, a filter."
   ]
  },
  {
   "cell_type": "code",
   "execution_count": 4,
   "id": "8ca7b9d0",
   "metadata": {},
   "outputs": [
    {
     "data": {
      "text/plain": [
       "[0, 0, 0, 0, 0, 0, 0, 0, 0, 0, 0, 0, 0, 0, 0, 0, 0, 0, 0]"
      ]
     },
     "execution_count": 4,
     "metadata": {},
     "output_type": "execute_result"
    }
   ],
   "source": [
    "a = 2\n",
    "[(pow(a, p-1) - 1) % p for p in some_primes if strangers(a, p)]"
   ]
  },
  {
   "cell_type": "markdown",
   "id": "0607c327",
   "metadata": {},
   "source": [
    "Computing $a^{p-1} \\mod{p}$ directly is faster, using ```pow``` (which takes a 3rd argument, the modulus) and nets us that residue of one, every time."
   ]
  },
  {
   "cell_type": "code",
   "execution_count": 5,
   "id": "d1b1df67",
   "metadata": {},
   "outputs": [
    {
     "data": {
      "text/plain": [
       "[1, 1, 1, 1, 1, 1, 1, 1, 1, 1, 1, 1, 1, 1, 1, 1, 1, 1, 1]"
      ]
     },
     "execution_count": 5,
     "metadata": {},
     "output_type": "execute_result"
    }
   ],
   "source": [
    "[pow(a, p-1, p) for p in some_primes if strangers(a,p)]"
   ]
  },
  {
   "cell_type": "markdown",
   "id": "7d22b931",
   "metadata": {},
   "source": [
    "### Fermat's Primality Test \n",
    "\n",
    "Given all of the above, i.e. the complete reliability of this theorem for primes (no proof yet), one might think plugging in arbitrary values for p and keeping only those for which the \"Fermat Test\" holds true, would be a recipie for getting primes.\n",
    "\n",
    "Lets get all the odd numbers between 3 and 101 and see which, according to the Fermat Test, might be prime.  Since we'll use a = 5 for our base, let's start by weeding out any multiples of 5 as well."
   ]
  },
  {
   "cell_type": "code",
   "execution_count": 6,
   "id": "ff1902bf",
   "metadata": {},
   "outputs": [
    {
     "name": "stdout",
     "output_type": "stream",
     "text": [
      "[3, 7, 9, 11, 13, 17, 19, 21, 23, 27, 29, 31, 33, 37, 39, 41, 43, 47, 49, 51, 53, 57, 59, 61, 63, 67, 69, 71, 73, 77, 79, 81, 83, 87, 89, 91, 93, 97, 99, 101]\n"
     ]
    }
   ],
   "source": [
    "candidates = [c for c in range(3,102,2) if c != 5 and strangers(c, 5)]\n",
    "print(candidates)"
   ]
  },
  {
   "cell_type": "code",
   "execution_count": 7,
   "id": "cff9ce74",
   "metadata": {},
   "outputs": [
    {
     "name": "stdout",
     "output_type": "stream",
     "text": [
      "[3, 7, 11, 13, 17, 19, 23, 29, 31, 37, 41, 43, 47, 53, 59, 61, 67, 71, 73, 79, 83, 89, 97, 101]\n"
     ]
    }
   ],
   "source": [
    "a = 5\n",
    "passed = list(filter( lambda p: pow(a, p-1, p) == 1, candidates))\n",
    "print(passed)"
   ]
  },
  {
   "cell_type": "code",
   "execution_count": 8,
   "id": "4b0a8e1b",
   "metadata": {},
   "outputs": [
    {
     "name": "stdout",
     "output_type": "stream",
     "text": [
      "[True, True, True, True, True, True, True, True, True, True, True, True, True, True, True, True, True, True, True, True, True, True, True, True]\n"
     ]
    }
   ],
   "source": [
    "print([primes.isprime(c) for c in passed])"
   ]
  },
  {
   "cell_type": "markdown",
   "id": "06cb8d54",
   "metadata": {},
   "source": [
    "OMG, we got every one of these right!  Does that mean the Fermat test is always reliable?"
   ]
  },
  {
   "cell_type": "markdown",
   "id": "3374baab",
   "metadata": {},
   "source": [
    "### Carmichael Numbers\n",
    "\n",
    "Enter the Carmichael Numbers..."
   ]
  },
  {
   "cell_type": "code",
   "execution_count": 9,
   "id": "007f0db4",
   "metadata": {},
   "outputs": [
    {
     "name": "stdout",
     "output_type": "stream",
     "text": [
      "[501, 503, 507, 509, 511, 513, 517, 519, 521, 523, 527, 529, 531, 533, 537, 539, 541, 543, 547, 549, 551, 553, 557, 559, 561, 563, 567, 569, 571, 573, 577, 579, 581, 583, 587, 589, 591, 593, 597, 599, 601]\n"
     ]
    }
   ],
   "source": [
    "candidates = [c for c in range(501,602,2) if strangers(c, 5)]\n",
    "print(candidates)"
   ]
  },
  {
   "cell_type": "code",
   "execution_count": 10,
   "id": "2d263c9c",
   "metadata": {},
   "outputs": [
    {
     "name": "stdout",
     "output_type": "stream",
     "text": [
      "[503, 509, 521, 523, 541, 547, 557, 561, 563, 569, 571, 577, 587, 593, 599, 601]\n"
     ]
    }
   ],
   "source": [
    "a = 5\n",
    "passed = list(filter( lambda p: pow(a, p-1, p) == 1, candidates))\n",
    "print(passed)"
   ]
  },
  {
   "cell_type": "code",
   "execution_count": 11,
   "id": "cfbaf83c",
   "metadata": {},
   "outputs": [
    {
     "name": "stdout",
     "output_type": "stream",
     "text": [
      "[True, True, True, True, True, True, True, False, True, True, True, True, True, True, True, True]\n"
     ]
    }
   ],
   "source": [
    "print([primes.isprime(c) for c in passed])"
   ]
  },
  {
   "cell_type": "markdown",
   "id": "cb0b6860",
   "metadata": {},
   "source": [
    "Oh no, we got a False positive.  The number in that location is not actually prime. What is it?"
   ]
  },
  {
   "cell_type": "code",
   "execution_count": 12,
   "id": "3d8002cf",
   "metadata": {},
   "outputs": [
    {
     "data": {
      "text/plain": [
       "561"
      ]
     },
     "execution_count": 12,
     "metadata": {},
     "output_type": "execute_result"
    }
   ],
   "source": [
    "passed[7]"
   ]
  },
  {
   "cell_type": "code",
   "execution_count": 13,
   "id": "00244d84",
   "metadata": {},
   "outputs": [
    {
     "data": {
      "text/plain": [
       "(1, 3, 11, 17)"
      ]
     },
     "execution_count": 13,
     "metadata": {},
     "output_type": "execute_result"
    }
   ],
   "source": [
    "primes.factors(561)"
   ]
  },
  {
   "cell_type": "markdown",
   "id": "d0bef3b3",
   "metadata": {},
   "source": [
    "Would a different base allow the same imposter (not a prime) to pass?  Lets try."
   ]
  },
  {
   "cell_type": "code",
   "execution_count": 14,
   "id": "437d5c13",
   "metadata": {},
   "outputs": [],
   "source": [
    "a = 7\n",
    "candidates = [c for c in range(501,602,2) if strangers(c, a)]"
   ]
  },
  {
   "cell_type": "code",
   "execution_count": 15,
   "id": "98627409",
   "metadata": {},
   "outputs": [
    {
     "name": "stdout",
     "output_type": "stream",
     "text": [
      "[503, 509, 521, 523, 541, 547, 557, 561, 563, 569, 571, 577, 587, 593, 599, 601]\n"
     ]
    }
   ],
   "source": [
    "passed = list(filter( lambda p: pow(a, p-1, p) == 1, candidates))\n",
    "print(passed)"
   ]
  },
  {
   "cell_type": "markdown",
   "id": "91961031",
   "metadata": {},
   "source": [
    "The same 561 (not a prime) is still there, and turns out to be the first of a special set known as a Carmichael Numbers.  No matter the base, these numbers always pass the Fermat Test.\n",
    "\n",
    "Does this mean that some composites might pass the Fermat Test for one base, but not another, always preserving the stipulation that the base and the candidate are strangers?  Investigate.  Searching the internet is fine.\n",
    "\n",
    "Questions / Activities:\n",
    "\n",
    "* Do some composites pass the Fermat Test that are not Carmichael Numbers?\n",
    "* What are some of the Carmichael Numbers after 561?  \n",
    "* Explore between 1000 and 2000.\n",
    "* Check OEIS for a listing."
   ]
  }
 ],
 "metadata": {
  "kernelspec": {
   "display_name": "Python 3",
   "language": "python",
   "name": "python3"
  },
  "language_info": {
   "codemirror_mode": {
    "name": "ipython",
    "version": 3
   },
   "file_extension": ".py",
   "mimetype": "text/x-python",
   "name": "python",
   "nbconvert_exporter": "python",
   "pygments_lexer": "ipython3",
   "version": "3.7.9"
  }
 },
 "nbformat": 4,
 "nbformat_minor": 5
}
