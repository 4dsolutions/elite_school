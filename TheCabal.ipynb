{
 "cells": [
  {
   "cell_type": "markdown",
   "id": "60b6a290-6737-416e-a7fb-395778356cc5",
   "metadata": {},
   "source": [
    "##### Algorithms and Data Structures (Winter - Spring 2022)\n",
    "\n",
    "* [Table of Contents](ADS_TOC.ipynb)\n",
    "* <a href=\"https://colab.research.google.com/github/4dsolutions/elite_school/blob/master/TheCabal.ipynb\"><img align=\"left\" src=\"https://colab.research.google.com/assets/colab-badge.svg\" alt=\"Open in Colab\" title=\"Open and Execute in Google Colaboratory\"></a>\n",
    "* [![nbviewer](https://raw.githubusercontent.com/jupyter/design/master/logos/Badges/nbviewer_badge.svg)](https://nbviewer.org/github/4dsolutions/elite_school/blob/master/TheCabal.ipynb)\n",
    "\n",
    "# A Cabal of Polyhedra\n",
    "\n",
    "\"A cabal of polyhedrons\"... that's not the usual usage.  I might go for \"nest of\" instead, or in addition.  I have one book that uses \"maze\" as in \"a maze of polyhedra\".  But why not \"cabal\"?\n",
    "\n",
    "We've probably all seen Kepler's Cabal:\n",
    "\n",
    "![Kepler's Cabal](https://upload.wikimedia.org/wikipedia/commons/thumb/1/19/Kepler-solar-system-1.png/545px-Kepler-solar-system-1.png)\n",
    "\n",
    "He gets flak for proposing his nested polys as a model *of* something, of the solar system in particular. However the mere meme of a concentric hierarchy does not imply \"model of\" i.e. polyhedrons stand on their own as a topic, from the Platonics and their dual combinations, anchoring a grammar, a shoptalk, a geometry, a design."
   ]
  },
  {
   "cell_type": "markdown",
   "id": "c3344fb8-50ad-40ea-be50-c395e51e0a0e",
   "metadata": {},
   "source": [
    "### Design Science\n",
    "\n",
    "The so-called \"design science revolution\" otherwise known as [\"revolution OS\"](https://www.imdb.com/title/tt0308808/) was in part about the ephemeral challenge of designing operating systems, which govern resource sharing processes at a fundamental level.  \n",
    "\n",
    "Engineers could not force themselves to leave it to other engineers to solve all these problems behind a screen, veil or firewall. The design of Unix, and then Linux, is all about creating a role-based governing structure whereby public sharing and private secret keeping may coexist, with GNU, Linux and [FreeBSD](https://www.freebsd.org/) making the designs free and open.\n",
    "\n",
    "By its very nature, an operating system needs to be open, transparent, and therefore subject to improvements and debugging.  One cannot fix that which does not expose, and clearly document, its own guts, at least not without a lot of painstaking reverse engineering, a waste of time.  Operating systems come with operating manuals.\n",
    "\n",
    "But why are just operating systems free and open?  Don't many ecosystems stand to benefit from a free / open design.  Of course.\n",
    "\n",
    "And isn't \"OS\" a metaphor for government at the more macro level, of humans and their processes, which need resources and which compete for attention?  \n",
    "\n",
    "Again, engineers are loathe to trust some hidden process and would rather collaborate on rolling their own."
   ]
  },
  {
   "cell_type": "markdown",
   "id": "a7aba933-d979-48fd-9dd2-cf76e10137d9",
   "metadata": {},
   "source": [
    "### The Pythonic Ecosystem\n",
    "\n",
    "Python stepped into the arena as another free and open source asset, having hatched in a demanding environment in the Netherlands."
   ]
  },
  {
   "cell_type": "code",
   "execution_count": 2,
   "id": "0b964bde-7747-4af1-89f0-5caf023de3e0",
   "metadata": {},
   "outputs": [
    {
     "data": {
      "text/plain": [
       "'Copyright (c) 1991-1995 Stichting Mathematisch Centrum, Amsterdam.'"
      ]
     },
     "execution_count": 2,
     "metadata": {},
     "output_type": "execute_result"
    }
   ],
   "source": [
    "str(copyright).split(\"\\n\")[9]"
   ]
  },
  {
   "cell_type": "markdown",
   "id": "567da058-da1f-42e5-9f51-59491ef71e25",
   "metadata": {},
   "source": [
    "Guido van Rossum designed his language for working geeks who didn't need a \"beginner language\".  The goal was to eliminate as much bureaucratic overhead from the language as possible, without making it insufferably slow at runtime.  \n",
    "\n",
    "Eliminating cruft would also mean creating a framework for creatives, i.e. ways to rig the language to one's own ends.  The syntax was made to be extensible, by so-called \"magic methods\" and the substrate modules, though imported in Python, could be written in C."
   ]
  },
  {
   "cell_type": "markdown",
   "id": "cbbdf03e-f77d-46f4-b32a-4516afa63260",
   "metadata": {},
   "source": [
    "### 21st Century High School Mathematics\n",
    "\n",
    "<a data-flickr-embed=\"true\" href=\"https://www.flickr.com/photos/kirbyurner/52097270008/in/dateposted-public/\" title=\"Hexagons at SEE\"><img src=\"https://live.staticflickr.com/65535/52097270008_4a99d952c9_z.jpg\" width=\"640\" height=\"480\" alt=\"Hexagons at SEE\"></a><script async src=\"//embedr.flickr.com/assets/client-code.js\" charset=\"utf-8\"></script>\n",
    "\n",
    "Two hallmarks of our Silicon Forest mathematics, open source and designed to be adaptable, are:\n",
    "\n",
    "* the inclusion of a cabal of polyhedrons, as conceptual scaffolding\n",
    "* the adoption of an extensible Pythonic ecosystem in which to implement the new ideas\n",
    "\n",
    "Beyond these innovations, a lot would be familiar.  There was no mandate to jettison all pre-existing mathematics, let alone any strong impulse to do so.  Algorithms and Data Structures would quietly segue with the rest of computer science and mathematics, beginning around Algebra.\n",
    "\n",
    "We see Algebra as the beginning of programming languages, in that algorithms may be specified independently of the arguments given them.  Named variables take the place of numeric quantities.  \n",
    "\n",
    "$$\n",
    "hypot_c^{2} = leg_a^{2} + leg_b^{2}\n",
    "$$ \n",
    "\n",
    "All of this happened in typography and in the readers' understanding, well before the invention of programmable computers.  When programming languages came along, they had a wealth of earlier generation typography to mine, and convert into operational, computational mathematics.\n",
    "\n",
    "<a data-flickr-embed=\"true\" href=\"https://www.flickr.com/photos/kirbyurner/5436219849/in/photolist-2kSeUjS-oQik6X-9ho3Lr\" title=\"Pythagorean Theorem\"><img src=\"https://live.staticflickr.com/5052/5436219849_f9e50bc7e3_w.jpg\" width=\"384\" height=\"304\" alt=\"Pythagorean Theorem\"></a><script async src=\"//embedr.flickr.com/assets/client-code.js\" charset=\"utf-8\"></script>"
   ]
  },
  {
   "cell_type": "code",
   "execution_count": 3,
   "id": "54645e08-37f6-4f94-971c-9ebf5ca6f555",
   "metadata": {},
   "outputs": [],
   "source": [
    "import sympy as sp"
   ]
  },
  {
   "cell_type": "code",
   "execution_count": 4,
   "id": "2df174d4-3111-4724-a23a-3ec741e6cf05",
   "metadata": {},
   "outputs": [
    {
     "data": {
      "text/latex": [
       "$\\displaystyle \\sqrt{x^{2} + y^{2}}$"
      ],
      "text/plain": [
       "sqrt(x**2 + y**2)"
      ]
     },
     "execution_count": 4,
     "metadata": {},
     "output_type": "execute_result"
    }
   ],
   "source": [
    "x, y = sp.symbols(('x', 'y'))\n",
    "hypot = sp.sqrt(x**2 + y**2)\n",
    "hypot"
   ]
  },
  {
   "cell_type": "code",
   "execution_count": 5,
   "id": "d971a3c3-77c4-4086-85de-119def230f05",
   "metadata": {},
   "outputs": [
    {
     "data": {
      "text/latex": [
       "$\\displaystyle 5.0$"
      ],
      "text/plain": [
       "5.000000000"
      ]
     },
     "execution_count": 5,
     "metadata": {},
     "output_type": "execute_result"
    }
   ],
   "source": [
    "hypot.evalf(10, subs={x:3, y:4})"
   ]
  },
  {
   "cell_type": "markdown",
   "id": "eab64aa9-d1ec-4b0a-a43a-c729fbae864d",
   "metadata": {},
   "source": [
    "Thanks to the above reforms, we tap into formulae for the area of a triangle from edges, and the volume of a tetrahedron from edges, in interesting new ways.  Our Cabal of Polyhedrons derives from the geometric explorations of Buckminster Fuller, popularizer of (and one time patent holder with respect to) the geodesic dome.\n",
    "\n",
    "A modified Cayley-Menger based algorithm, among a suite of others, helps us compute what we call the \"tetravolume\" of our cabal members, netting us the following volumes table:\n",
    "\n",
    "<a data-flickr-embed=\"true\" href=\"https://www.flickr.com/photos/kirbyurner/51957240393/in/dateposted-public/\" title=\"ch_volumes\"><img src=\"https://live.staticflickr.com/65535/51957240393_009de679d9_o.jpg\" width=\"651\" height=\"704\" alt=\"ch_volumes\"></a><script async src=\"//embedr.flickr.com/assets/client-code.js\" charset=\"utf-8\"></script>"
   ]
  },
  {
   "cell_type": "markdown",
   "id": "92a20b58-5f80-45d1-875e-5e0a3877db11",
   "metadata": {},
   "source": [
    "Here's the familiar Caley-Menger matrix, the determinant of which lies at the heart of the algorithm.  The edges a-f are entered in a specific order, and a determinant determines the volume."
   ]
  },
  {
   "cell_type": "code",
   "execution_count": 6,
   "id": "54ecd17c-40fc-44bb-8c21-487663c5380e",
   "metadata": {},
   "outputs": [
    {
     "data": {
      "text/latex": [
       "$\\displaystyle \\left[\\begin{matrix}0 & 1 & 1 & 1 & 1\\\\1 & 0 & a^{2} & b^{2} & c^{2}\\\\1 & a^{2} & 0 & d^{2} & f^{2}\\\\1 & b^{2} & d^{2} & 0 & e^{2}\\\\1 & c^{2} & f^{2} & e^{2} & 0\\end{matrix}\\right]$"
      ],
      "text/plain": [
       "Matrix([\n",
       "[0,    1,    1,    1,    1],\n",
       "[1,    0, a**2, b**2, c**2],\n",
       "[1, a**2,    0, d**2, f**2],\n",
       "[1, b**2, d**2,    0, e**2],\n",
       "[1, c**2, f**2, e**2,    0]])"
      ]
     },
     "execution_count": 6,
     "metadata": {},
     "output_type": "execute_result"
    }
   ],
   "source": [
    "a,b,c,d,e,f,V = sp.symbols(('a','b','c','d','e','f','V'))\n",
    "\n",
    "M = sp.Matrix([[0,1,1,1,1],[1,0,a**2,b**2,c**2],[1,a**2,0,d**2,f**2],[1, b**2, d**2, 0, e**2], \n",
    "               [1, c**2, f**2, e**2, 0]])\n",
    "M"
   ]
  },
  {
   "cell_type": "markdown",
   "id": "785c4f4c-fdd6-4315-8fc2-37fe39fd8344",
   "metadata": {},
   "source": [
    "sympy will spell out the resulting formula, which we'll call \"formula\" (an algorithm, relying on computer memory for structured data)."
   ]
  },
  {
   "cell_type": "code",
   "execution_count": 7,
   "id": "eaa28d52-9262-46f8-908b-a941fa87bc0a",
   "metadata": {},
   "outputs": [
    {
     "data": {
      "text/latex": [
       "$\\displaystyle V = \\frac{\\sqrt{- 2 a^{4} e^{2} - 2 a^{2} b^{2} d^{2} + 2 a^{2} b^{2} e^{2} + 2 a^{2} b^{2} f^{2} + 2 a^{2} c^{2} d^{2} + 2 a^{2} c^{2} e^{2} - 2 a^{2} c^{2} f^{2} + 2 a^{2} d^{2} e^{2} - 2 a^{2} e^{4} + 2 a^{2} e^{2} f^{2} - 2 b^{4} f^{2} + 2 b^{2} c^{2} d^{2} - 2 b^{2} c^{2} e^{2} + 2 b^{2} c^{2} f^{2} + 2 b^{2} d^{2} f^{2} + 2 b^{2} e^{2} f^{2} - 2 b^{2} f^{4} - 2 c^{4} d^{2} - 2 c^{2} d^{4} + 2 c^{2} d^{2} e^{2} + 2 c^{2} d^{2} f^{2} - 2 d^{2} e^{2} f^{2}}}{16}$"
      ],
      "text/plain": [
       "Eq(V, sqrt(-2*a**4*e**2 - 2*a**2*b**2*d**2 + 2*a**2*b**2*e**2 + 2*a**2*b**2*f**2 + 2*a**2*c**2*d**2 + 2*a**2*c**2*e**2 - 2*a**2*c**2*f**2 + 2*a**2*d**2*e**2 - 2*a**2*e**4 + 2*a**2*e**2*f**2 - 2*b**4*f**2 + 2*b**2*c**2*d**2 - 2*b**2*c**2*e**2 + 2*b**2*c**2*f**2 + 2*b**2*d**2*f**2 + 2*b**2*e**2*f**2 - 2*b**2*f**4 - 2*c**4*d**2 - 2*c**2*d**4 + 2*c**2*d**2*e**2 + 2*c**2*d**2*f**2 - 2*d**2*e**2*f**2)/16)"
      ]
     },
     "execution_count": 7,
     "metadata": {},
     "output_type": "execute_result"
    }
   ],
   "source": [
    "formula = sp.Eq(V, sp.Rational(1/16) * sp.sqrt(sp.det(M)))\n",
    "formula"
   ]
  },
  {
   "cell_type": "markdown",
   "id": "3144c0bd-53d7-4cf7-a3b0-64265602f523",
   "metadata": {},
   "source": [
    "If we think of the edges of a tetrahedron as 2R, or in units of R (R for radius), and therefore 2, we get the volume of 1 we're looking for."
   ]
  },
  {
   "cell_type": "code",
   "execution_count": 8,
   "id": "fe90212e-9d3b-481d-9773-4020e07678a7",
   "metadata": {},
   "outputs": [
    {
     "data": {
      "text/latex": [
       "$\\displaystyle V = 1.0$"
      ],
      "text/plain": [
       "Eq(V, 1.0)"
      ]
     },
     "execution_count": 8,
     "metadata": {},
     "output_type": "execute_result"
    }
   ],
   "source": [
    "formula.evalf(20, subs={a:2, b:2, c:2, d:2, e:2, f:2})"
   ]
  },
  {
   "cell_type": "markdown",
   "id": "55c79338-ecd4-4141-a4f7-ef4535935f03",
   "metadata": {},
   "source": [
    "The TetraBook of just one triangular page, wagging between two triangular book covers, helps set the stage for the volumetric Synergetics Constant, or S3:\n",
    "\n",
    "<a data-flickr-embed=\"true\" href=\"https://www.flickr.com/photos/kirbyurner/32883882722/in/photolist-2nd95WD-2ncC3Xn-2mZypyZ-2dj3ZPr-2dj3ZQP-Sb76Cn-S6Quyu-S6QuFd\" title=\"TetraBook\"><img src=\"https://live.staticflickr.com/3911/32883882722_2bfd5ba043.jpg\" width=\"500\" height=\"312\" alt=\"TetraBook\"></a><script async src=\"//embedr.flickr.com/assets/client-code.js\" charset=\"utf-8\"></script>\n",
    "\n",
    "If the regular tetrahedron of all six edges 2, has volume one, then the vertical page  tetrahedron, of all edges 2 but for the longer edge of $\\sqrt{6}$, has a volume of S3, or about 1.06066.  \n",
    "\n",
    "<a data-flickr-embed=\"true\" href=\"https://www.flickr.com/photos/kirbyurner/51956475970/in/dateposted-public/\" title=\"syn_constants\"><img src=\"https://live.staticflickr.com/65535/51956475970_55ef0c2751_o.jpg\" width=\"253\" height=\"298\" alt=\"syn_constants\"></a><script async src=\"//embedr.flickr.com/assets/client-code.js\" charset=\"utf-8\"></script>\n",
    "\n",
    "This page vertical tetrahedron also has the same volume as a cube with edges 1, usually considered a unit volume.  \n",
    "\n",
    "<a data-flickr-embed=\"true\" href=\"https://www.flickr.com/photos/kirbyurner/4903290928/\" title=\"Units of Volume\"><img src=\"https://live.staticflickr.com/4136/4903290928_f185b32368_z.jpg\" width=\"640\" height=\"480\" alt=\"Units of Volume\"></a><script async src=\"//embedr.flickr.com/assets/client-code.js\" charset=\"utf-8\"></script>\n",
    "\n",
    "In fact \"usually\" is something of an understatement as people tend to get pretty inflexible in their thinking that $e^{3}$ has to mean \"e cubed\" i.e. a cube is the mandatory expression of $e^{3}$ , and not, say, an e-edged tetrahedron."
   ]
  },
  {
   "cell_type": "code",
   "execution_count": 9,
   "id": "abbf0ecd-6b63-4587-8cf1-039276439f88",
   "metadata": {},
   "outputs": [
    {
     "data": {
      "text/latex": [
       "$\\displaystyle V = 1.060660171779821286601266543157273558927$"
      ],
      "text/plain": [
       "Eq(V, 1.060660171779821286601266543157273558927)"
      ]
     },
     "execution_count": 9,
     "metadata": {},
     "output_type": "execute_result"
    }
   ],
   "source": [
    "formula.evalf(40, subs={a:2, b:2, c:2, d:2, e:2, f:sp.sqrt(6)})"
   ]
  },
  {
   "cell_type": "markdown",
   "id": "eccc0de3-406a-4ae7-8d30-1f72bd4462d5",
   "metadata": {},
   "source": [
    "But if we express edges in units D (= 2R) then we're able to divide the final result by 8 i.e. a scale factor of 2 to the 3rd power. Here's the new formula we're looking for then."
   ]
  },
  {
   "cell_type": "code",
   "execution_count": 10,
   "id": "8fb4c6fc-5bb6-43d0-b0c2-3b8561fe54cd",
   "metadata": {},
   "outputs": [],
   "source": [
    "A,B,C,D,E,F = sp.symbols(('A B C D E F'))"
   ]
  },
  {
   "cell_type": "code",
   "execution_count": 11,
   "id": "c71f0795-6b04-489c-b0f5-132c2c18c3f5",
   "metadata": {},
   "outputs": [],
   "source": [
    "A = a**2; B = b**2; C = c**2; D = d**2; E = e**2; F = f**2"
   ]
  },
  {
   "cell_type": "code",
   "execution_count": 12,
   "id": "42f049cf-11be-4dd6-b4ee-d78af2750682",
   "metadata": {},
   "outputs": [
    {
     "data": {
      "text/latex": [
       "$\\displaystyle \\frac{\\sqrt{- 2 a^{4} e^{2} - 2 a^{2} b^{2} d^{2} + 2 a^{2} b^{2} e^{2} + 2 a^{2} b^{2} f^{2} + 2 a^{2} c^{2} d^{2} + 2 a^{2} c^{2} e^{2} - 2 a^{2} c^{2} f^{2} + 2 a^{2} d^{2} e^{2} - 2 a^{2} e^{4} + 2 a^{2} e^{2} f^{2} - 2 b^{4} f^{2} + 2 b^{2} c^{2} d^{2} - 2 b^{2} c^{2} e^{2} + 2 b^{2} c^{2} f^{2} + 2 b^{2} d^{2} f^{2} + 2 b^{2} e^{2} f^{2} - 2 b^{2} f^{4} - 2 c^{4} d^{2} - 2 c^{2} d^{4} + 2 c^{2} d^{2} e^{2} + 2 c^{2} d^{2} f^{2} - 2 d^{2} e^{2} f^{2}}}{2}$"
      ],
      "text/plain": [
       "sqrt(-2*a**4*e**2 - 2*a**2*b**2*d**2 + 2*a**2*b**2*e**2 + 2*a**2*b**2*f**2 + 2*a**2*c**2*d**2 + 2*a**2*c**2*e**2 - 2*a**2*c**2*f**2 + 2*a**2*d**2*e**2 - 2*a**2*e**4 + 2*a**2*e**2*f**2 - 2*b**4*f**2 + 2*b**2*c**2*d**2 - 2*b**2*c**2*e**2 + 2*b**2*c**2*f**2 + 2*b**2*d**2*f**2 + 2*b**2*e**2*f**2 - 2*b**2*f**4 - 2*c**4*d**2 - 2*c**2*d**4 + 2*c**2*d**2*e**2 + 2*c**2*d**2*f**2 - 2*d**2*e**2*f**2)/2"
      ]
     },
     "execution_count": 12,
     "metadata": {},
     "output_type": "execute_result"
    }
   ],
   "source": [
    "M = sp.Matrix([[0,1,1,1,1],[1,0,A,B,C],[1,A,0,D,F],[1,B,D,0,E],[1,C,F,E,0]])\n",
    "formula = sp.Rational(1,2)*sp.root(sp.det(M),2)\n",
    "formula"
   ]
  },
  {
   "cell_type": "code",
   "execution_count": 13,
   "id": "123bbb03-8c33-40d6-a8f8-d813434c4ed1",
   "metadata": {},
   "outputs": [
    {
     "data": {
      "text/latex": [
       "$\\displaystyle \\frac{\\sqrt{2} \\sqrt{- a^{4} e^{2} - a^{2} b^{2} d^{2} + a^{2} b^{2} e^{2} + a^{2} b^{2} f^{2} + a^{2} c^{2} d^{2} + a^{2} c^{2} e^{2} - a^{2} c^{2} f^{2} + a^{2} d^{2} e^{2} - a^{2} e^{4} + a^{2} e^{2} f^{2} - b^{4} f^{2} + b^{2} c^{2} d^{2} - b^{2} c^{2} e^{2} + b^{2} c^{2} f^{2} + b^{2} d^{2} f^{2} + b^{2} e^{2} f^{2} - b^{2} f^{4} - c^{4} d^{2} - c^{2} d^{4} + c^{2} d^{2} e^{2} + c^{2} d^{2} f^{2} - d^{2} e^{2} f^{2}}}{2}$"
      ],
      "text/plain": [
       "sqrt(2)*sqrt(-a**4*e**2 - a**2*b**2*d**2 + a**2*b**2*e**2 + a**2*b**2*f**2 + a**2*c**2*d**2 + a**2*c**2*e**2 - a**2*c**2*f**2 + a**2*d**2*e**2 - a**2*e**4 + a**2*e**2*f**2 - b**4*f**2 + b**2*c**2*d**2 - b**2*c**2*e**2 + b**2*c**2*f**2 + b**2*d**2*f**2 + b**2*e**2*f**2 - b**2*f**4 - c**4*d**2 - c**2*d**4 + c**2*d**2*e**2 + c**2*d**2*f**2 - d**2*e**2*f**2)/2"
      ]
     },
     "execution_count": 13,
     "metadata": {},
     "output_type": "execute_result"
    }
   ],
   "source": [
    "formula.simplify()"
   ]
  },
  {
   "cell_type": "markdown",
   "id": "6817ed28-d440-4571-b795-d73b50d886b9",
   "metadata": {},
   "source": [
    "Keeping the determinant unexpanded, the above would be:"
   ]
  },
  {
   "cell_type": "markdown",
   "id": "9f349d4b-dc59-4ed1-a29a-92d340915353",
   "metadata": {},
   "source": [
    "$$V_{ivm} = (1/2) \n",
    "\\begin{vmatrix}\n",
    "0&1&1&1&1\\\\\n",
    "1&0&A&B&C\\\\\n",
    "1&A&0&D&F\\\\\n",
    "1&B&D&0&E\\\\\n",
    "1&C&F&E&0\\\\\n",
    "\\end{vmatrix}^{(1/2)}\n",
    "$$\n",
    "\n",
    "where A, B, C... are the 2nd powers of edges a, b, c..."
   ]
  },
  {
   "cell_type": "code",
   "execution_count": 14,
   "id": "6f541864-043e-4f65-a8d8-e58af1ea0f0d",
   "metadata": {},
   "outputs": [
    {
     "data": {
      "text/latex": [
       "$\\displaystyle 1.0$"
      ],
      "text/plain": [
       "1.00000000000000000000000000000"
      ]
     },
     "execution_count": 14,
     "metadata": {},
     "output_type": "execute_result"
    }
   ],
   "source": [
    "formula.evalf(30, subs={a:1, b:1, c:1, d:1, e:1, f:1})"
   ]
  },
  {
   "cell_type": "code",
   "execution_count": 15,
   "id": "754742bb-504e-4e75-a481-545c5e92b2b1",
   "metadata": {},
   "outputs": [
    {
     "data": {
      "text/latex": [
       "$\\displaystyle 1.060660171779821286601266543157273558927$"
      ],
      "text/plain": [
       "1.060660171779821286601266543157273558927"
      ]
     },
     "execution_count": 15,
     "metadata": {},
     "output_type": "execute_result"
    }
   ],
   "source": [
    "formula.evalf(40, subs={a:1,b:1,c:1,d:1,e:1,f:sp.sqrt(6)/2})"
   ]
  },
  {
   "cell_type": "code",
   "execution_count": 16,
   "id": "be1f0f7e-b9b6-46de-8785-7bc40950e13b",
   "metadata": {},
   "outputs": [
    {
     "data": {
      "text/latex": [
       "$\\displaystyle 1.060660171779821286601266543157273558927$"
      ],
      "text/plain": [
       "1.060660171779821286601266543157273558927"
      ]
     },
     "execution_count": 16,
     "metadata": {},
     "output_type": "execute_result"
    }
   ],
   "source": [
    "sp.sqrt(sp.Rational(9,8)).evalf(40)  # S3"
   ]
  },
  {
   "cell_type": "markdown",
   "id": "eb3548e1-0c4e-4fe9-bdc0-27b766057efd",
   "metadata": {},
   "source": [
    "### The A Module\n",
    "\n",
    "![A module](http://www.rwgrayprojects.com/synergetics/s09/figs/f1301.gif)"
   ]
  },
  {
   "cell_type": "code",
   "execution_count": 17,
   "id": "af2b70c0-93d6-4bf0-80c8-14b93e487433",
   "metadata": {},
   "outputs": [],
   "source": [
    "h = sp.Symbol('h')"
   ]
  },
  {
   "cell_type": "code",
   "execution_count": 18,
   "id": "8be3bd18-efff-4e40-89de-5d872c4c176f",
   "metadata": {},
   "outputs": [
    {
     "data": {
      "text/latex": [
       "$\\displaystyle \\frac{\\sqrt{6} h}{12}$"
      ],
      "text/plain": [
       "sqrt(6)*h/12"
      ]
     },
     "execution_count": 18,
     "metadata": {},
     "output_type": "execute_result"
    }
   ],
   "source": [
    "amod_EF = h * sp.sqrt(6)/12\n",
    "amod_EF"
   ]
  },
  {
   "cell_type": "code",
   "execution_count": 19,
   "id": "c7fa8be3-4851-4ec1-9346-9b2cdc921324",
   "metadata": {},
   "outputs": [],
   "source": [
    "amod_EF = h * sp.sqrt(6)/12\n",
    "amod_DE = h * sp.sqrt(2)/4\n",
    "amod_CE = h * sp.sqrt(6)/4\n",
    "amod_CF = h * sp.sqrt(3)/3\n",
    "amod_CD = h/2\n",
    "amod_DF = h * sp.sqrt(3)/6"
   ]
  },
  {
   "cell_type": "code",
   "execution_count": 20,
   "id": "eb83f27e-a338-4850-84b1-da0e5d95b898",
   "metadata": {},
   "outputs": [
    {
     "data": {
      "text/latex": [
       "$\\displaystyle \\frac{\\sqrt{3} h}{6}$"
      ],
      "text/plain": [
       "sqrt(3)*h/6"
      ]
     },
     "execution_count": 20,
     "metadata": {},
     "output_type": "execute_result"
    }
   ],
   "source": [
    "amod_DF"
   ]
  },
  {
   "cell_type": "code",
   "execution_count": 21,
   "id": "3d213cb6-2850-4a6f-acd0-1a682f7ea915",
   "metadata": {},
   "outputs": [
    {
     "data": {
      "text/latex": [
       "$\\displaystyle 0.20412414523193150818$"
      ],
      "text/plain": [
       "0.20412414523193150818"
      ]
     },
     "execution_count": 21,
     "metadata": {},
     "output_type": "execute_result"
    }
   ],
   "source": [
    "amod_EF.evalf(20, subs={h:1})"
   ]
  },
  {
   "cell_type": "code",
   "execution_count": 22,
   "id": "69557f82-e093-456c-b6e5-e2839c19a0eb",
   "metadata": {},
   "outputs": [
    {
     "data": {
      "text/latex": [
       "$\\displaystyle \\frac{\\sqrt{6} h}{4}$"
      ],
      "text/plain": [
       "sqrt(6)*h/4"
      ]
     },
     "execution_count": 22,
     "metadata": {},
     "output_type": "execute_result"
    }
   ],
   "source": [
    "amod_CE"
   ]
  },
  {
   "cell_type": "code",
   "execution_count": 23,
   "id": "25bdf4fe-4f9e-4639-9c1d-1dd9c4b0e28a",
   "metadata": {},
   "outputs": [
    {
     "data": {
      "text/latex": [
       "$\\displaystyle 0.61237243569579452455$"
      ],
      "text/plain": [
       "0.61237243569579452455"
      ]
     },
     "execution_count": 23,
     "metadata": {},
     "output_type": "execute_result"
    }
   ],
   "source": [
    "amod_CE.evalf(20, subs={h:1})"
   ]
  },
  {
   "cell_type": "code",
   "execution_count": 24,
   "id": "1bcad6db-c0c3-4da8-bbe0-8260a336233e",
   "metadata": {},
   "outputs": [
    {
     "data": {
      "text/latex": [
       "$\\displaystyle \\frac{\\sqrt{2} h}{4}$"
      ],
      "text/plain": [
       "sqrt(2)*h/4"
      ]
     },
     "execution_count": 24,
     "metadata": {},
     "output_type": "execute_result"
    }
   ],
   "source": [
    "amod_DE"
   ]
  },
  {
   "cell_type": "code",
   "execution_count": 25,
   "id": "fe0e0f0b-ce2b-44a6-9b05-7f4d150f49fb",
   "metadata": {},
   "outputs": [
    {
     "data": {
      "text/latex": [
       "$\\displaystyle 0.3535533905932737622$"
      ],
      "text/plain": [
       "0.35355339059327376220"
      ]
     },
     "execution_count": 25,
     "metadata": {},
     "output_type": "execute_result"
    }
   ],
   "source": [
    "amod_DE.evalf(20, subs={h:1})"
   ]
  },
  {
   "cell_type": "code",
   "execution_count": 26,
   "id": "a8e83fba-83ac-451b-9af5-c9ecb16df72d",
   "metadata": {},
   "outputs": [
    {
     "data": {
      "text/latex": [
       "$\\displaystyle \\frac{\\sqrt{3} h}{3}$"
      ],
      "text/plain": [
       "sqrt(3)*h/3"
      ]
     },
     "execution_count": 26,
     "metadata": {},
     "output_type": "execute_result"
    }
   ],
   "source": [
    "amod_CF"
   ]
  },
  {
   "cell_type": "code",
   "execution_count": 27,
   "id": "7f2484e0-e28a-4a7c-9719-7130e98d02cf",
   "metadata": {},
   "outputs": [
    {
     "data": {
      "text/latex": [
       "$\\displaystyle 0.57735026918962576451$"
      ],
      "text/plain": [
       "0.57735026918962576451"
      ]
     },
     "execution_count": 27,
     "metadata": {},
     "output_type": "execute_result"
    }
   ],
   "source": [
    "amod_CF.evalf(20, subs={h:1})"
   ]
  },
  {
   "cell_type": "code",
   "execution_count": 28,
   "id": "0785050d-d81c-4b2b-97fc-18f5adaa1195",
   "metadata": {},
   "outputs": [
    {
     "data": {
      "text/latex": [
       "$\\displaystyle \\frac{h}{2}$"
      ],
      "text/plain": [
       "h/2"
      ]
     },
     "execution_count": 28,
     "metadata": {},
     "output_type": "execute_result"
    }
   ],
   "source": [
    "amod_CD"
   ]
  },
  {
   "cell_type": "code",
   "execution_count": 29,
   "id": "5e75474b-b385-435d-ae11-f848742dcbff",
   "metadata": {},
   "outputs": [
    {
     "data": {
      "text/latex": [
       "$\\displaystyle 0.5$"
      ],
      "text/plain": [
       "0.50000000000000000000"
      ]
     },
     "execution_count": 29,
     "metadata": {},
     "output_type": "execute_result"
    }
   ],
   "source": [
    "amod_CD.evalf(20, subs={h:1})"
   ]
  },
  {
   "cell_type": "code",
   "execution_count": 30,
   "id": "c896e208-bb21-4e8e-990c-bd419134c751",
   "metadata": {},
   "outputs": [
    {
     "data": {
      "text/latex": [
       "$\\displaystyle \\frac{\\sqrt{3} h}{6}$"
      ],
      "text/plain": [
       "sqrt(3)*h/6"
      ]
     },
     "execution_count": 30,
     "metadata": {},
     "output_type": "execute_result"
    }
   ],
   "source": [
    "amod_DF"
   ]
  },
  {
   "cell_type": "code",
   "execution_count": 31,
   "id": "a0c8a265-67dc-49ba-98b9-9b6ff92d8931",
   "metadata": {},
   "outputs": [
    {
     "data": {
      "text/latex": [
       "$\\displaystyle 0.28867513459481288225$"
      ],
      "text/plain": [
       "0.28867513459481288225"
      ]
     },
     "execution_count": 31,
     "metadata": {},
     "output_type": "execute_result"
    }
   ],
   "source": [
    "amod_DF.evalf(20, subs={h:1})"
   ]
  },
  {
   "cell_type": "code",
   "execution_count": 32,
   "id": "44759d67-eca4-4d43-8974-7210e83f3ff0",
   "metadata": {},
   "outputs": [
    {
     "data": {
      "text/latex": [
       "$\\displaystyle 0.04166666666666666666666666666666666666666666666666666666666666666666666666666666666666666666666666667$"
      ],
      "text/plain": [
       "0.04166666666666666666666666666666666666666666666666666666666666666666666666666666666666666666666666667"
      ]
     },
     "execution_count": 32,
     "metadata": {},
     "output_type": "execute_result"
    }
   ],
   "source": [
    "formula.evalf(100, subs={a:amod_EF, \n",
    "                        b:amod_CE, \n",
    "                        c:amod_DE, \n",
    "                        d:amod_CF, \n",
    "                        e:amod_CD, \n",
    "                        f:amod_DF, \n",
    "                        h:1})"
   ]
  },
  {
   "cell_type": "markdown",
   "id": "f121e7f9-d88e-413a-aa35-9bf6d8de40c0",
   "metadata": {},
   "source": [
    "### The T & E Modules\n",
    "\n",
    "These pictures are [from *Synergetics*](http://www.rwgrayprojects.com/synergetics/findex/fx0900.html):"
   ]
  },
  {
   "cell_type": "markdown",
   "id": "446f6c73-eef3-4c52-acb4-45e7df0c3c6f",
   "metadata": {},
   "source": [
    "![RT](http://www.rwgrayprojects.com/synergetics/s09/figs/f86419.gif)\n",
    "\n",
    "![tmod](http://www.rwgrayprojects.com/synergetics/s09/figs/f86411c.gif)"
   ]
  },
  {
   "cell_type": "code",
   "execution_count": 33,
   "id": "9fd23cc9-e32a-4c9c-98c0-d83d1da7eea9",
   "metadata": {},
   "outputs": [],
   "source": [
    "emod_OA = h * sp.sqrt((5-sp.sqrt(5))/2)\n",
    "emod_OB = h * sp.sqrt((9-3*sp.sqrt(5))/2)\n",
    "emod_OC = h\n",
    "emod_AB = h * sp.sqrt((5-2*sp.sqrt(5)))\n",
    "emod_BC = (h/2) * (3 - sp.sqrt(5))\n",
    "emod_AC = (h/2) * (sp.sqrt(5) - 1)"
   ]
  },
  {
   "cell_type": "markdown",
   "id": "eab0ebd2-6466-42dd-84d1-06dc0c1dbfe9",
   "metadata": {},
   "source": [
    "![edge_lengths](http://www.rwgrayprojects.com/synergetics/s09/figs/f86411a.gif)"
   ]
  },
  {
   "cell_type": "markdown",
   "id": "47d37851-6a26-4cd4-9608-c5649ff1d2f2",
   "metadata": {},
   "source": [
    "![flipit](http://www.rwgrayprojects.com/synergetics/s09/figs/f86515.gif)"
   ]
  },
  {
   "cell_type": "markdown",
   "id": "4e419330-bb34-41e5-8200-a80713818f8c",
   "metadata": {},
   "source": [
    "Once the lid is flipped, we see AC is the longer edge of the surface right triangle. As checks, we can show $OC^{2} + CA^{2} = OA^{2}$ and also $AC^{2} + CB^{2} = AB^{2}$ "
   ]
  },
  {
   "cell_type": "code",
   "execution_count": 34,
   "id": "2ecc3de4-cda3-46aa-be25-bd055241c666",
   "metadata": {},
   "outputs": [
    {
     "data": {
      "text/latex": [
       "$\\displaystyle 1.38196601125011$"
      ],
      "text/plain": [
       "1.38196601125011"
      ]
     },
     "execution_count": 34,
     "metadata": {},
     "output_type": "execute_result"
    }
   ],
   "source": [
    "(emod_OC**2 + emod_AC**2).evalf(subs={h:1})"
   ]
  },
  {
   "cell_type": "code",
   "execution_count": 35,
   "id": "3d020d14-4fa0-4974-a3c3-89325ee8c023",
   "metadata": {},
   "outputs": [
    {
     "data": {
      "text/latex": [
       "$\\displaystyle 1.38196601125011$"
      ],
      "text/plain": [
       "1.38196601125011"
      ]
     },
     "execution_count": 35,
     "metadata": {},
     "output_type": "execute_result"
    }
   ],
   "source": [
    "(emod_OA**2).evalf(subs={h:1})  # check"
   ]
  },
  {
   "cell_type": "code",
   "execution_count": 36,
   "id": "736b0b22-9d9f-4935-9a58-84e7ccd33a93",
   "metadata": {},
   "outputs": [
    {
     "data": {
      "text/latex": [
       "$\\displaystyle 0.527864045000421$"
      ],
      "text/plain": [
       "0.527864045000421"
      ]
     },
     "execution_count": 36,
     "metadata": {},
     "output_type": "execute_result"
    }
   ],
   "source": [
    "(emod_AC**2 + emod_BC**2).evalf(subs={h:1})"
   ]
  },
  {
   "cell_type": "code",
   "execution_count": 37,
   "id": "49105ea3-a5da-47f1-896c-f5f19a50d5bb",
   "metadata": {},
   "outputs": [
    {
     "data": {
      "text/latex": [
       "$\\displaystyle 0.527864045000421$"
      ],
      "text/plain": [
       "0.527864045000421"
      ]
     },
     "execution_count": 37,
     "metadata": {},
     "output_type": "execute_result"
    }
   ],
   "source": [
    "(emod_AB**2).evalf(subs={h:1}) # check"
   ]
  },
  {
   "cell_type": "markdown",
   "id": "f40f2772-9604-4ccb-aeed-0658ae94727e",
   "metadata": {},
   "source": [
    "We're ready for the E module's volume:"
   ]
  },
  {
   "cell_type": "code",
   "execution_count": 38,
   "id": "20018408-d8bb-4611-9557-7e86df1b73ab",
   "metadata": {},
   "outputs": [
    {
     "data": {
      "text/latex": [
       "$\\displaystyle 0.0417313169277736542994395120016652970725264235714150850630182$"
      ],
      "text/plain": [
       "0.0417313169277736542994395120016652970725264235714150850630182"
      ]
     },
     "execution_count": 38,
     "metadata": {},
     "output_type": "execute_result"
    }
   ],
   "source": [
    "emod = formula.evalf(60, subs={a:emod_OA, \n",
    "                            b:emod_OB, \n",
    "                            c:emod_OC, \n",
    "                            d:emod_AB, \n",
    "                            e:emod_BC, \n",
    "                            f:emod_AC, \n",
    "                            h:0.5})\n",
    "emod"
   ]
  },
  {
   "cell_type": "code",
   "execution_count": 39,
   "id": "4d32cc4a-aed7-404d-a887-40cb2ec28bbb",
   "metadata": {},
   "outputs": [
    {
     "data": {
      "text/latex": [
       "$\\displaystyle \\frac{\\sqrt{2}}{8 \\left(\\frac{1}{2} + \\frac{\\sqrt{5}}{2}\\right)^{3}}$"
      ],
      "text/plain": [
       "sqrt(2)/(8*(1/2 + sqrt(5)/2)**3)"
      ]
     },
     "execution_count": 39,
     "metadata": {},
     "output_type": "execute_result"
    }
   ],
   "source": [
    "Emod      = (sp.sqrt(2) / 8) * ((1 + sp.sqrt(5))/2)**-3\n",
    "Emod"
   ]
  },
  {
   "cell_type": "code",
   "execution_count": 40,
   "id": "4aca38d7-bd91-4a9c-bc24-cc5844129597",
   "metadata": {},
   "outputs": [
    {
     "data": {
      "text/latex": [
       "$\\displaystyle 0.0417313169277736542994395120016652970725264235714150850630182$"
      ],
      "text/plain": [
       "0.0417313169277736542994395120016652970725264235714150850630182"
      ]
     },
     "execution_count": 40,
     "metadata": {},
     "output_type": "execute_result"
    }
   ],
   "source": [
    "sp.N(Emod, 60)"
   ]
  },
  {
   "cell_type": "markdown",
   "id": "56515ed9-f707-4fd4-bd80-e88891bb969f",
   "metadata": {},
   "source": [
    "To get the T module, we multiply the RT radius of 1/2 by a T_factor of about 0.99948333226234344.  This shrinks the E module of volume 0.0417313 to exactly 1/24, the same as the A and B modules."
   ]
  },
  {
   "cell_type": "code",
   "execution_count": 41,
   "id": "091bc02c-959a-4694-bdf9-a444cf0d9158",
   "metadata": {},
   "outputs": [],
   "source": [
    "φ = sp.Symbol(\"φ\")"
   ]
  },
  {
   "cell_type": "code",
   "execution_count": 42,
   "id": "57264636-c061-439b-84f8-d432b4e77caf",
   "metadata": {},
   "outputs": [
    {
     "data": {
      "text/latex": [
       "$\\displaystyle \\frac{2^{\\frac{5}{6}} \\cdot 3^{\\frac{2}{3}} φ}{6}$"
      ],
      "text/plain": [
       "2**(5/6)*3**(2/3)*φ/6"
      ]
     },
     "execution_count": 42,
     "metadata": {},
     "output_type": "execute_result"
    }
   ],
   "source": [
    "T_factor = (φ / sp.sqrt(2)) * sp.root(sp.Rational(2,3), 3)\n",
    "T_factor"
   ]
  },
  {
   "cell_type": "code",
   "execution_count": 43,
   "id": "c3662e17-3a72-4d2b-9c75-a88572aa6e35",
   "metadata": {},
   "outputs": [
    {
     "data": {
      "text/latex": [
       "$\\displaystyle 0.99948333226234344004642602768142159538180147407535334176866905900516949044952359$"
      ],
      "text/plain": [
       "0.99948333226234344004642602768142159538180147407535334176866905900516949044952359"
      ]
     },
     "execution_count": 43,
     "metadata": {},
     "output_type": "execute_result"
    }
   ],
   "source": [
    "num_k = T_factor.evalf(80, subs={φ: (1 + sp.sqrt(5))/2}) \n",
    "num_k"
   ]
  },
  {
   "cell_type": "code",
   "execution_count": 44,
   "id": "5804dd94-85c1-421a-9012-1374a16f807d",
   "metadata": {},
   "outputs": [
    {
     "data": {
      "text/latex": [
       "$\\displaystyle 0.041666666666666666666666666666666666666666666666666666666666666666666666666666667$"
      ],
      "text/plain": [
       "0.041666666666666666666666666666666666666666666666666666666666666666666666666666667"
      ]
     },
     "execution_count": 44,
     "metadata": {},
     "output_type": "execute_result"
    }
   ],
   "source": [
    "formula.evalf(80, subs={a:emod_OA, \n",
    "                        b:emod_OB, \n",
    "                        c:emod_OC, \n",
    "                        d:emod_AB, \n",
    "                        e:emod_BC, \n",
    "                        f:emod_AC, \n",
    "                        h:num_k/2})"
   ]
  },
  {
   "cell_type": "code",
   "execution_count": 45,
   "id": "9d0f484d-5b27-4fa8-872e-dd25d7ebf46a",
   "metadata": {},
   "outputs": [],
   "source": [
    "Syn3 = sp.sqrt(sp.Rational(9, 8))"
   ]
  },
  {
   "cell_type": "code",
   "execution_count": 46,
   "id": "3f926a4d-7f9d-4d8e-8e85-15a9cd35636e",
   "metadata": {},
   "outputs": [
    {
     "data": {
      "text/latex": [
       "$\\displaystyle \\frac{3 \\sqrt{2}}{4}$"
      ],
      "text/plain": [
       "3*sqrt(2)/4"
      ]
     },
     "execution_count": 46,
     "metadata": {},
     "output_type": "execute_result"
    }
   ],
   "source": [
    "Syn3"
   ]
  },
  {
   "cell_type": "code",
   "execution_count": 47,
   "id": "8d3ee3d2-f681-4298-940a-edbc05b0e190",
   "metadata": {},
   "outputs": [
    {
     "data": {
      "text/latex": [
       "$\\displaystyle 15 \\sqrt{2}$"
      ],
      "text/plain": [
       "15*sqrt(2)"
      ]
     },
     "execution_count": 47,
     "metadata": {},
     "output_type": "execute_result"
    }
   ],
   "source": [
    "Syn3 * 20"
   ]
  },
  {
   "cell_type": "code",
   "execution_count": 48,
   "id": "92d9d8a5-2c40-4f60-9f21-35d84b80406c",
   "metadata": {},
   "outputs": [
    {
     "data": {
      "text/latex": [
       "$\\displaystyle 21.2132034355964257320253308631454711785450781306542210976502$"
      ],
      "text/plain": [
       "21.2132034355964257320253308631454711785450781306542210976502"
      ]
     },
     "execution_count": 48,
     "metadata": {},
     "output_type": "execute_result"
    }
   ],
   "source": [
    "sp.N(120 * emod * φ**3, 60, subs={φ: (sp.sqrt(5) + 1)/2})"
   ]
  },
  {
   "cell_type": "code",
   "execution_count": 49,
   "id": "b193a26b-1e27-411c-879b-8fd6d3629138",
   "metadata": {},
   "outputs": [
    {
     "data": {
      "text/latex": [
       "$\\displaystyle 21.2132034355964257320253308631454711785450781306542210976502$"
      ],
      "text/plain": [
       "21.2132034355964257320253308631454711785450781306542210976502"
      ]
     },
     "execution_count": 49,
     "metadata": {},
     "output_type": "execute_result"
    }
   ],
   "source": [
    "sp.N(Syn3 * 20, 60)"
   ]
  },
  {
   "cell_type": "markdown",
   "id": "c15fd14b-1c7d-4a0f-83d5-571fe9d44bf8",
   "metadata": {},
   "source": [
    "<a data-flickr-embed=\"true\" href=\"https://www.flickr.com/photos/kirbyurner/4884379922/in/dateposted-public/\" title=\"Concentric Hierarchy\"><img src=\"https://live.staticflickr.com/4099/4884379922_5586466ab3_z.jpg\" width=\"480\" height=\"640\" alt=\"Concentric Hierarchy\"></a><script async src=\"//embedr.flickr.com/assets/client-code.js\" charset=\"utf-8\"></script>"
   ]
  },
  {
   "cell_type": "code",
   "execution_count": 3,
   "id": "7852e4e5-7511-4f98-8d2a-6286ea942230",
   "metadata": {},
   "outputs": [],
   "source": [
    "import numpy as np\n",
    "S3 = np.sqrt(9/8)\n",
    "\n",
    "xyz_outer_cube_volume = np.sqrt(2)**3\n",
    "xyz_inner_cube_volume = 1\n",
    "ivm_outer_cube_volume = xyz_outer_cube_volume * S3\n",
    "ivm_inner_cube_volume = xyz_inner_cube_volume * S3"
   ]
  },
  {
   "cell_type": "code",
   "execution_count": 4,
   "id": "6c5bcbd7-9a3f-44be-b4a6-fdf045fa3f01",
   "metadata": {},
   "outputs": [],
   "source": [
    "import pandas as pd"
   ]
  },
  {
   "cell_type": "code",
   "execution_count": 9,
   "id": "40c82a6c-1613-4440-a1b4-54cd07d74141",
   "metadata": {},
   "outputs": [
    {
     "data": {
      "text/html": [
       "<div>\n",
       "<style scoped>\n",
       "    .dataframe tbody tr th:only-of-type {\n",
       "        vertical-align: middle;\n",
       "    }\n",
       "\n",
       "    .dataframe tbody tr th {\n",
       "        vertical-align: top;\n",
       "    }\n",
       "\n",
       "    .dataframe thead th {\n",
       "        text-align: right;\n",
       "    }\n",
       "</style>\n",
       "<table border=\"1\" class=\"dataframe\">\n",
       "  <thead>\n",
       "    <tr style=\"text-align: right;\">\n",
       "      <th></th>\n",
       "      <th>IVM</th>\n",
       "      <th>XYZ</th>\n",
       "    </tr>\n",
       "  </thead>\n",
       "  <tbody>\n",
       "    <tr>\n",
       "      <th>inner cube</th>\n",
       "      <td>1.06066</td>\n",
       "      <td>1.000000</td>\n",
       "    </tr>\n",
       "    <tr>\n",
       "      <th>outer cube</th>\n",
       "      <td>3.00000</td>\n",
       "      <td>2.828427</td>\n",
       "    </tr>\n",
       "  </tbody>\n",
       "</table>\n",
       "</div>"
      ],
      "text/plain": [
       "                IVM       XYZ\n",
       "inner cube  1.06066  1.000000\n",
       "outer cube  3.00000  2.828427"
      ]
     },
     "execution_count": 9,
     "metadata": {},
     "output_type": "execute_result"
    }
   ],
   "source": [
    "vtable = pd.DataFrame({\"IVM\":[ivm_inner_cube_volume, ivm_outer_cube_volume],\n",
    "                       \"XYZ\":[xyz_inner_cube_volume, xyz_outer_cube_volume]},\n",
    "                        index = [\"inner cube\", \"outer cube\"])\n",
    "vtable"
   ]
  },
  {
   "cell_type": "markdown",
   "id": "4fc4c19b-7aa8-4795-ba69-e59257ba41b4",
   "metadata": {},
   "source": [
    "<a data-flickr-embed=\"true\" href=\"https://www.flickr.com/photos/kirbyurner/52145575390/in/dateposted-public/\" title=\"render_me\"><img src=\"https://live.staticflickr.com/65535/52145575390_f693f6d9cd_z.jpg\" width=\"640\" height=\"480\" alt=\"render_me\"></a><script async src=\"//embedr.flickr.com/assets/client-code.js\" charset=\"utf-8\"></script>"
   ]
  }
 ],
 "metadata": {
  "kernelspec": {
   "display_name": "Python 3 (ipykernel)",
   "language": "python",
   "name": "python3"
  },
  "language_info": {
   "codemirror_mode": {
    "name": "ipython",
    "version": 3
   },
   "file_extension": ".py",
   "mimetype": "text/x-python",
   "name": "python",
   "nbconvert_exporter": "python",
   "pygments_lexer": "ipython3",
   "version": "3.9.12"
  }
 },
 "nbformat": 4,
 "nbformat_minor": 5
}
