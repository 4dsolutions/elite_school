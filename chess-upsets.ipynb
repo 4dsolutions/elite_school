{
 "cells": [
  {
   "cell_type": "markdown",
   "metadata": {},
   "source": [
    "## A Worksheet for the Lichess Data Set\n",
    "\n",
    "The first code cell is provided by Kaggle and provides a list of what datasets are available.  What's available would be a function of what dataset was under inspection when New Notebook got pressed."
   ]
  },
  {
   "cell_type": "code",
   "execution_count": 82,
   "metadata": {
    "_cell_guid": "b1076dfc-b9ad-4769-8c92-a6c4dae69d19",
    "_uuid": "8f2839f25d086af736a60e9eeb907d3b93b6e0e5",
    "execution": {
     "iopub.execute_input": "2022-04-03T21:14:03.922257Z",
     "iopub.status.busy": "2022-04-03T21:14:03.921930Z",
     "iopub.status.idle": "2022-04-03T21:14:03.934578Z",
     "shell.execute_reply": "2022-04-03T21:14:03.933654Z",
     "shell.execute_reply.started": "2022-04-03T21:14:03.922210Z"
    }
   },
   "outputs": [],
   "source": [
    "# This Python 3 environment comes with many helpful analytics libraries installed\n",
    "# It is defined by the kaggle/python Docker image: https://github.com/kaggle/docker-python\n",
    "# For example, here's several helpful packages to load\n",
    "\n",
    "import numpy as np # linear algebra\n",
    "import pandas as pd # data processing, CSV file I/O (e.g. pd.read_csv)\n",
    "\n",
    "# Input data files are available in the read-only \"../input/\" directory\n",
    "# For example, running this (by clicking run or pressing Shift+Enter) will list all files under the input directory\n",
    "\n",
    "import os\n",
    "for dirname, _, filenames in os.walk('/kaggle/input'):\n",
    "    for filename in filenames:\n",
    "        print(os.path.join(dirname, filename))\n",
    "\n",
    "# You can write up to 20GB to the current directory (/kaggle/working/) that gets preserved as output when you create a version using \"Save & Run All\" \n",
    "# You can also write temporary files to /kaggle/temp/, but they won't be saved outside of the current session"
   ]
  },
  {
   "cell_type": "markdown",
   "metadata": {},
   "source": [
    "A standard opening would be to read the csv file provided, into a pandas DataFrame.  `read_csv` comes with a huger number of options, set by named argument.  We consider ourselves lucky if the defaults do the job."
   ]
  },
  {
   "cell_type": "code",
   "execution_count": 83,
   "metadata": {
    "execution": {
     "iopub.execute_input": "2022-04-03T21:14:03.937743Z",
     "iopub.status.busy": "2022-04-03T21:14:03.936982Z",
     "iopub.status.idle": "2022-04-03T21:14:04.107149Z",
     "shell.execute_reply": "2022-04-03T21:14:04.106523Z",
     "shell.execute_reply.started": "2022-04-03T21:14:03.937697Z"
    }
   },
   "outputs": [],
   "source": [
    "games = pd.read_csv('/kaggle/input/chess/games.csv')"
   ]
  },
  {
   "cell_type": "markdown",
   "metadata": {},
   "source": [
    "We've likely already studied the columns, how full each one is (i.e. how riddled with nans) but it can't hurt to study them again, now that the data is loaded.  These are not all unique games according to the Kaggle gods or guides.\n",
    "\n",
    "What is of interest?  Good questions will not occur to you (or me) until we have some understanding of the columns available.  \n",
    "\n",
    "Since our two chess players are usually rated, with a boolean field flagging if not, and since we have the moves for most games, we can start envisioning an investigation:  what games between players of widely different rank nevertheless took a lot of moves to resolve?\n",
    "\n",
    "Another question:  how might we curate a DataFrame called upsets, in which the lower ranked player, by say 500 or more points, nevertheless checkmated the stronger player?  See below."
   ]
  },
  {
   "cell_type": "code",
   "execution_count": 84,
   "metadata": {
    "execution": {
     "iopub.execute_input": "2022-04-03T21:14:04.109092Z",
     "iopub.status.busy": "2022-04-03T21:14:04.108611Z",
     "iopub.status.idle": "2022-04-03T21:14:04.145999Z",
     "shell.execute_reply": "2022-04-03T21:14:04.145114Z",
     "shell.execute_reply.started": "2022-04-03T21:14:04.109049Z"
    }
   },
   "outputs": [],
   "source": [
    "games.info()"
   ]
  },
  {
   "cell_type": "markdown",
   "metadata": {},
   "source": [
    "We won't need all the columns going forward.  Lets put a fork in the road with start down our path with filter_cols.  Later, we will reorder these columns, and compute new columns based on what these columns contain."
   ]
  },
  {
   "cell_type": "code",
   "execution_count": 85,
   "metadata": {
    "execution": {
     "iopub.execute_input": "2022-04-03T21:14:04.147561Z",
     "iopub.status.busy": "2022-04-03T21:14:04.147334Z",
     "iopub.status.idle": "2022-04-03T21:14:04.161376Z",
     "shell.execute_reply": "2022-04-03T21:14:04.160705Z",
     "shell.execute_reply.started": "2022-04-03T21:14:04.147532Z"
    }
   },
   "outputs": [],
   "source": [
    "filter_cols = games.loc[:, ['white_rating', 'black_rating', 'moves', \"victory_status\", \"winner\"]]\n",
    "filter_cols.head()"
   ]
  },
  {
   "cell_type": "markdown",
   "metadata": {},
   "source": [
    "The diff column will measure the difference in rank between the two players for each game.  The difference will always be positive i.e. will be the \"absolute value\" of the span."
   ]
  },
  {
   "cell_type": "code",
   "execution_count": 86,
   "metadata": {
    "execution": {
     "iopub.execute_input": "2022-04-03T21:14:04.163827Z",
     "iopub.status.busy": "2022-04-03T21:14:04.163073Z",
     "iopub.status.idle": "2022-04-03T21:14:04.174601Z",
     "shell.execute_reply": "2022-04-03T21:14:04.173465Z",
     "shell.execute_reply.started": "2022-04-03T21:14:04.163770Z"
    }
   },
   "outputs": [],
   "source": [
    "filter_cols[\"diff\"] = abs(filter_cols.white_rating - filter_cols.black_rating)"
   ]
  },
  {
   "cell_type": "code",
   "execution_count": 87,
   "metadata": {
    "execution": {
     "iopub.execute_input": "2022-04-03T21:14:04.176088Z",
     "iopub.status.busy": "2022-04-03T21:14:04.175840Z",
     "iopub.status.idle": "2022-04-03T21:14:04.187493Z",
     "shell.execute_reply": "2022-04-03T21:14:04.186340Z",
     "shell.execute_reply.started": "2022-04-03T21:14:04.176058Z"
    }
   },
   "outputs": [],
   "source": [
    "def number_of_moves(the_moves):\n",
    "    \"\"\"\n",
    "    return the number of moves in a moves string\n",
    "    \"\"\"\n",
    "    return len(the_moves.split())"
   ]
  },
  {
   "cell_type": "code",
   "execution_count": 88,
   "metadata": {
    "execution": {
     "iopub.execute_input": "2022-04-03T21:14:04.189105Z",
     "iopub.status.busy": "2022-04-03T21:14:04.188856Z",
     "iopub.status.idle": "2022-04-03T21:14:04.203816Z",
     "shell.execute_reply": "2022-04-03T21:14:04.203209Z",
     "shell.execute_reply.started": "2022-04-03T21:14:04.189075Z"
    }
   },
   "outputs": [],
   "source": [
    "filter_cols.moves[0]  #  example moves string"
   ]
  },
  {
   "cell_type": "code",
   "execution_count": 89,
   "metadata": {
    "execution": {
     "iopub.execute_input": "2022-04-03T21:14:04.205322Z",
     "iopub.status.busy": "2022-04-03T21:14:04.205042Z",
     "iopub.status.idle": "2022-04-03T21:14:04.218080Z",
     "shell.execute_reply": "2022-04-03T21:14:04.217496Z",
     "shell.execute_reply.started": "2022-04-03T21:14:04.205293Z"
    }
   },
   "outputs": [],
   "source": [
    "number_of_moves(filter_cols.moves[0])"
   ]
  },
  {
   "cell_type": "code",
   "execution_count": 90,
   "metadata": {
    "execution": {
     "iopub.execute_input": "2022-04-03T21:14:04.219918Z",
     "iopub.status.busy": "2022-04-03T21:14:04.219533Z",
     "iopub.status.idle": "2022-04-03T21:14:04.311800Z",
     "shell.execute_reply": "2022-04-03T21:14:04.310676Z",
     "shell.execute_reply.started": "2022-04-03T21:14:04.219829Z"
    }
   },
   "outputs": [],
   "source": [
    "filter_cols[\"num_moves\"] = filter_cols.moves.apply(number_of_moves)  # apply is for whole Series"
   ]
  },
  {
   "cell_type": "code",
   "execution_count": 91,
   "metadata": {
    "execution": {
     "iopub.execute_input": "2022-04-03T21:14:04.313865Z",
     "iopub.status.busy": "2022-04-03T21:14:04.313492Z",
     "iopub.status.idle": "2022-04-03T21:14:04.328983Z",
     "shell.execute_reply": "2022-04-03T21:14:04.328181Z",
     "shell.execute_reply.started": "2022-04-03T21:14:04.313827Z"
    }
   },
   "outputs": [],
   "source": [
    "filter_cols.head()"
   ]
  },
  {
   "cell_type": "markdown",
   "metadata": {},
   "source": [
    "Reorder the columns for `final`, the DataFrame on which future data analysis will be based."
   ]
  },
  {
   "cell_type": "code",
   "execution_count": 92,
   "metadata": {
    "execution": {
     "iopub.execute_input": "2022-04-03T21:14:04.330833Z",
     "iopub.status.busy": "2022-04-03T21:14:04.330085Z",
     "iopub.status.idle": "2022-04-03T21:14:04.345744Z",
     "shell.execute_reply": "2022-04-03T21:14:04.344762Z",
     "shell.execute_reply.started": "2022-04-03T21:14:04.330791Z"
    }
   },
   "outputs": [],
   "source": [
    "final = filter_cols[[\"white_rating\", \"black_rating\", \"diff\", \"winner\", \n",
    "                     \"victory_status\", \"num_moves\", \"moves\"]]"
   ]
  },
  {
   "cell_type": "code",
   "execution_count": 93,
   "metadata": {
    "execution": {
     "iopub.execute_input": "2022-04-03T21:14:04.347832Z",
     "iopub.status.busy": "2022-04-03T21:14:04.347333Z",
     "iopub.status.idle": "2022-04-03T21:14:04.384584Z",
     "shell.execute_reply": "2022-04-03T21:14:04.383904Z",
     "shell.execute_reply.started": "2022-04-03T21:14:04.347783Z"
    }
   },
   "outputs": [],
   "source": [
    "final.sort_values([\"diff\", \"num_moves\"], ascending=False)"
   ]
  },
  {
   "cell_type": "code",
   "execution_count": 94,
   "metadata": {
    "execution": {
     "iopub.execute_input": "2022-04-03T21:14:04.386090Z",
     "iopub.status.busy": "2022-04-03T21:14:04.385834Z",
     "iopub.status.idle": "2022-04-03T21:14:04.412822Z",
     "shell.execute_reply": "2022-04-03T21:14:04.412220Z",
     "shell.execute_reply.started": "2022-04-03T21:14:04.386058Z"
    }
   },
   "outputs": [],
   "source": [
    "final.sort_values([\"diff\", \"num_moves\"], ascending = False)"
   ]
  },
  {
   "cell_type": "code",
   "execution_count": 95,
   "metadata": {
    "execution": {
     "iopub.execute_input": "2022-04-03T21:14:04.415513Z",
     "iopub.status.busy": "2022-04-03T21:14:04.415248Z",
     "iopub.status.idle": "2022-04-03T21:14:04.444037Z",
     "shell.execute_reply": "2022-04-03T21:14:04.443456Z",
     "shell.execute_reply.started": "2022-04-03T21:14:04.415483Z"
    }
   },
   "outputs": [],
   "source": [
    "final.sort_values([\"num_moves\", \"diff\"], ascending = False)"
   ]
  },
  {
   "cell_type": "code",
   "execution_count": 96,
   "metadata": {
    "execution": {
     "iopub.execute_input": "2022-04-03T21:14:04.445767Z",
     "iopub.status.busy": "2022-04-03T21:14:04.445375Z",
     "iopub.status.idle": "2022-04-03T21:14:04.457292Z",
     "shell.execute_reply": "2022-04-03T21:14:04.456593Z",
     "shell.execute_reply.started": "2022-04-03T21:14:04.445738Z"
    }
   },
   "outputs": [],
   "source": [
    "upset_for_black = final.query(\"white_rating - black_rating >= 500 and winner == 'black' and victory_status == 'mate'\")"
   ]
  },
  {
   "cell_type": "code",
   "execution_count": 97,
   "metadata": {
    "execution": {
     "iopub.execute_input": "2022-04-03T21:14:04.458910Z",
     "iopub.status.busy": "2022-04-03T21:14:04.458357Z",
     "iopub.status.idle": "2022-04-03T21:14:04.469802Z",
     "shell.execute_reply": "2022-04-03T21:14:04.468854Z",
     "shell.execute_reply.started": "2022-04-03T21:14:04.458873Z"
    }
   },
   "outputs": [],
   "source": [
    "upset_for_white = final.query(\"black_rating - white_rating >= 500 and winner == 'white' and victory_status == 'mate'\")"
   ]
  },
  {
   "cell_type": "code",
   "execution_count": 98,
   "metadata": {
    "execution": {
     "iopub.execute_input": "2022-04-03T21:14:04.471038Z",
     "iopub.status.busy": "2022-04-03T21:14:04.470843Z",
     "iopub.status.idle": "2022-04-03T21:14:04.496111Z",
     "shell.execute_reply": "2022-04-03T21:14:04.495484Z",
     "shell.execute_reply.started": "2022-04-03T21:14:04.471012Z"
    }
   },
   "outputs": [],
   "source": [
    "upsets = pd.concat([upset_for_black, upset_for_white], axis=0)\n",
    "upsets"
   ]
  },
  {
   "cell_type": "markdown",
   "metadata": {},
   "source": [
    "Lets export this upsets DataFrame to a csv file."
   ]
  }
 ],
 "metadata": {
  "kernelspec": {
   "display_name": "Python 3 (ipykernel)",
   "language": "python",
   "name": "python3"
  },
  "language_info": {
   "codemirror_mode": {
    "name": "ipython",
    "version": 3
   },
   "file_extension": ".py",
   "mimetype": "text/x-python",
   "name": "python",
   "nbconvert_exporter": "python",
   "pygments_lexer": "ipython3",
   "version": "3.7.9"
  }
 },
 "nbformat": 4,
 "nbformat_minor": 4
}
