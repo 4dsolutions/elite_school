{
 "cells": [
  {
   "cell_type": "markdown",
   "id": "8b171906",
   "metadata": {},
   "source": [
    "* [Home](Home.ipynb)\n",
    "\n",
    "# Quadray Coordinates\n",
    "\n",
    "* [Wikipedia Entry](https://en.wikipedia.org/wiki/Quadray_coordinates)\n",
    "* [Early Development](http://grunch.net/synergetics/quadrays.html)\n",
    "* [Recent Use](https://nbviewer.jupyter.org/github/4dsolutions/School_of_Tomorrow/blob/master/Flextegrity_Lattice.ipynb)\n",
    "\n",
    "<a data-flickr-embed=\"true\" href=\"https://www.flickr.com/photos/kirbyurner/28435901559/in/photolist-2m29ok8-2jxGLDx-KjMqQP-EhaxK2-Bpf1cD-8P2cs1-8cn39x-7cVeMN-JotMo\" title=\"quadray_papers\"><img src=\"https://live.staticflickr.com/4704/28435901559_c3a76b6052.jpg\" width=\"486\" height=\"500\" alt=\"quadray_papers\"></a><script async src=\"//embedr.flickr.com/assets/client-code.js\" charset=\"utf-8\"></script>"
   ]
  },
  {
   "cell_type": "code",
   "execution_count": 1,
   "id": "5452bde5",
   "metadata": {},
   "outputs": [],
   "source": [
    "from qrays import Qvector\n",
    "from math import sqrt"
   ]
  },
  {
   "cell_type": "code",
   "execution_count": 2,
   "id": "63a38e16",
   "metadata": {},
   "outputs": [
    {
     "data": {
      "text/plain": [
       "0.6123724356957945"
      ]
     },
     "execution_count": 2,
     "metadata": {},
     "output_type": "execute_result"
    }
   ],
   "source": [
    "a = Qvector((1,0,0,0))\n",
    "a.length()"
   ]
  },
  {
   "cell_type": "code",
   "execution_count": 3,
   "id": "f22646fa",
   "metadata": {},
   "outputs": [
    {
     "data": {
      "text/plain": [
       "0.6123724356957945"
      ]
     },
     "execution_count": 3,
     "metadata": {},
     "output_type": "execute_result"
    }
   ],
   "source": [
    "b = Qvector((0,1,0,0))\n",
    "b.length()"
   ]
  },
  {
   "cell_type": "code",
   "execution_count": 4,
   "id": "2db98704",
   "metadata": {},
   "outputs": [
    {
     "data": {
      "text/plain": [
       "1.0"
      ]
     },
     "execution_count": 4,
     "metadata": {},
     "output_type": "execute_result"
    }
   ],
   "source": [
    "(a-b).length()"
   ]
  },
  {
   "cell_type": "code",
   "execution_count": 5,
   "id": "7529b8c1",
   "metadata": {},
   "outputs": [],
   "source": [
    "import tetravolume as tv"
   ]
  },
  {
   "cell_type": "code",
   "execution_count": 6,
   "id": "d6b2c181",
   "metadata": {},
   "outputs": [],
   "source": [
    "c = Qvector((0,0,1,0))\n",
    "d = Qvector((0,0,0,1))\n",
    "\n",
    "ab = (a-b).length()\n",
    "ac = (a-c).length()\n",
    "ad = (a-d).length()\n",
    "bc = (b-c).length()\n",
    "cd = (c-d).length()\n",
    "ad = (a-d).length()"
   ]
  },
  {
   "cell_type": "code",
   "execution_count": 7,
   "id": "4a11f716",
   "metadata": {},
   "outputs": [],
   "source": [
    "t = tv.Tetrahedron(ab,ac,ad,bc,cd,ad)"
   ]
  },
  {
   "cell_type": "code",
   "execution_count": 8,
   "id": "04a2366b",
   "metadata": {},
   "outputs": [
    {
     "data": {
      "text/plain": [
       "1.0"
      ]
     },
     "execution_count": 8,
     "metadata": {},
     "output_type": "execute_result"
    }
   ],
   "source": [
    "t.ivm_volume()"
   ]
  },
  {
   "cell_type": "code",
   "execution_count": 9,
   "id": "31d1b3ad",
   "metadata": {},
   "outputs": [
    {
     "data": {
      "text/plain": [
       "0.9428090415820635"
      ]
     },
     "execution_count": 9,
     "metadata": {},
     "output_type": "execute_result"
    }
   ],
   "source": [
    "t.xyz_volume()"
   ]
  },
  {
   "cell_type": "code",
   "execution_count": 10,
   "id": "ea81d152",
   "metadata": {},
   "outputs": [
    {
     "data": {
      "text/plain": [
       "(xyz_vector(x=0.35355339059327373, y=0.35355339059327373, z=0.35355339059327373),\n",
       " xyz_vector(x=-0.35355339059327373, y=-0.35355339059327373, z=0.35355339059327373),\n",
       " xyz_vector(x=-0.35355339059327373, y=0.35355339059327373, z=-0.35355339059327373),\n",
       " xyz_vector(x=0.35355339059327373, y=-0.35355339059327373, z=-0.35355339059327373))"
      ]
     },
     "execution_count": 10,
     "metadata": {},
     "output_type": "execute_result"
    }
   ],
   "source": [
    "(a.xyz(),\n",
    "b.xyz(),\n",
    "c.xyz(),\n",
    "d.xyz())"
   ]
  },
  {
   "cell_type": "markdown",
   "id": "a7270b96",
   "metadata": {},
   "source": [
    "![Amods](http://www.rwgrayprojects.com/synergetics/s09/figs/f1301.gif)"
   ]
  },
  {
   "cell_type": "code",
   "execution_count": 11,
   "id": "31eb22ba",
   "metadata": {},
   "outputs": [],
   "source": [
    "amod_E  = Qvector((0,0,0,0))\n",
    "amod_C  = b\n",
    "amod_D  = (b + c)/2\n",
    "amod_F  = (b + c + d)/3\n",
    "\n",
    "# apex E to base F, C, D\n",
    "amod_EF = amod_F\n",
    "amod_CE = b\n",
    "amod_DE = amod_D\n",
    "\n",
    "# around the base, C, D, E\n",
    "amod_CF = amod_C - amod_F\n",
    "amod_CD = amod_C - amod_D\n",
    "amod_DF = amod_D - amod_F"
   ]
  },
  {
   "cell_type": "code",
   "execution_count": 12,
   "id": "56bd70c6",
   "metadata": {},
   "outputs": [
    {
     "data": {
      "text/plain": [
       "0.2041241452319315"
      ]
     },
     "execution_count": 12,
     "metadata": {},
     "output_type": "execute_result"
    }
   ],
   "source": [
    "amod_EF.length()  # apex to face center"
   ]
  },
  {
   "cell_type": "code",
   "execution_count": 13,
   "id": "40dab5ef",
   "metadata": {},
   "outputs": [
    {
     "data": {
      "text/plain": [
       "0.6123724356957945"
      ]
     },
     "execution_count": 13,
     "metadata": {},
     "output_type": "execute_result"
    }
   ],
   "source": [
    "amod_CE.length()  # apex to corner"
   ]
  },
  {
   "cell_type": "code",
   "execution_count": 14,
   "id": "4300e384",
   "metadata": {},
   "outputs": [
    {
     "data": {
      "text/plain": [
       "0.3535533905932738"
      ]
     },
     "execution_count": 14,
     "metadata": {},
     "output_type": "execute_result"
    }
   ],
   "source": [
    "amod_DE.length() # apex to mid-edge"
   ]
  },
  {
   "cell_type": "code",
   "execution_count": 15,
   "id": "ab1b144d",
   "metadata": {},
   "outputs": [
    {
     "data": {
      "text/plain": [
       "0.5773502691896258"
      ]
     },
     "execution_count": 15,
     "metadata": {},
     "output_type": "execute_result"
    }
   ],
   "source": [
    "amod_CF.length() # face center to corner"
   ]
  },
  {
   "cell_type": "code",
   "execution_count": 16,
   "id": "6914349b",
   "metadata": {},
   "outputs": [
    {
     "data": {
      "text/plain": [
       "0.5"
      ]
     },
     "execution_count": 16,
     "metadata": {},
     "output_type": "execute_result"
    }
   ],
   "source": [
    "amod_CD.length() # corner to mid-edge"
   ]
  },
  {
   "cell_type": "code",
   "execution_count": 17,
   "id": "49d737c8",
   "metadata": {},
   "outputs": [
    {
     "data": {
      "text/plain": [
       "0.2886751345948129"
      ]
     },
     "execution_count": 17,
     "metadata": {},
     "output_type": "execute_result"
    }
   ],
   "source": [
    "amod_DF.length() # mid-edge to face center"
   ]
  },
  {
   "cell_type": "code",
   "execution_count": 18,
   "id": "8bcdb8a9",
   "metadata": {},
   "outputs": [
    {
     "data": {
      "text/plain": [
       "0.04166666666666655"
      ]
     },
     "execution_count": 18,
     "metadata": {},
     "output_type": "execute_result"
    }
   ],
   "source": [
    "lengths = map(lambda v: v.length(), \n",
    "              (amod_EF, amod_CE, amod_DE, amod_CF, amod_CD, amod_DF))\n",
    "t = tv.Tetrahedron(*lengths)\n",
    "t.ivm_volume()"
   ]
  }
 ],
 "metadata": {
  "kernelspec": {
   "display_name": "Python 3",
   "language": "python",
   "name": "python3"
  },
  "language_info": {
   "codemirror_mode": {
    "name": "ipython",
    "version": 3
   },
   "file_extension": ".py",
   "mimetype": "text/x-python",
   "name": "python",
   "nbconvert_exporter": "python",
   "pygments_lexer": "ipython3",
   "version": "3.7.9"
  }
 },
 "nbformat": 4,
 "nbformat_minor": 5
}
