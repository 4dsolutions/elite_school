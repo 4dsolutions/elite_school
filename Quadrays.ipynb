{
 "cells": [
  {
   "cell_type": "markdown",
   "id": "85e23aea",
   "metadata": {},
   "source": [
    "* [Home](Home.ipynb)\n",
    "\n",
    "# Quadray Coordinates\n",
    "\n",
    "<a data-flickr-embed=\"true\" href=\"https://www.flickr.com/photos/kirbyurner/28435901559/in/photolist-2m29ok8-2jxGLDx-KjMqQP-EhaxK2-Bpf1cD-8P2cs1-8cn39x-7cVeMN-JotMo\" title=\"quadray_papers\"><img src=\"https://live.staticflickr.com/4704/28435901559_c3a76b6052.jpg\" width=\"486\" height=\"500\" alt=\"quadray_papers\"></a><script async src=\"//embedr.flickr.com/assets/client-code.js\" charset=\"utf-8\"></script>"
   ]
  },
  {
   "cell_type": "code",
   "execution_count": 1,
   "id": "c48654b8",
   "metadata": {},
   "outputs": [],
   "source": [
    "from qrays import Qvector"
   ]
  },
  {
   "cell_type": "code",
   "execution_count": 3,
   "id": "5d812758",
   "metadata": {},
   "outputs": [
    {
     "data": {
      "text/plain": [
       "0.6123724356957945"
      ]
     },
     "execution_count": 3,
     "metadata": {},
     "output_type": "execute_result"
    }
   ],
   "source": [
    "a = Qvector((1,0,0,0))\n",
    "a.length()"
   ]
  },
  {
   "cell_type": "code",
   "execution_count": 4,
   "id": "682f902a",
   "metadata": {},
   "outputs": [
    {
     "data": {
      "text/plain": [
       "0.6123724356957945"
      ]
     },
     "execution_count": 4,
     "metadata": {},
     "output_type": "execute_result"
    }
   ],
   "source": [
    "b = Qvector((0,1,0,0))\n",
    "b.length()"
   ]
  },
  {
   "cell_type": "code",
   "execution_count": 5,
   "id": "bfcf8f3e",
   "metadata": {},
   "outputs": [
    {
     "data": {
      "text/plain": [
       "1.0"
      ]
     },
     "execution_count": 5,
     "metadata": {},
     "output_type": "execute_result"
    }
   ],
   "source": [
    "(a-b).length()"
   ]
  },
  {
   "cell_type": "code",
   "execution_count": 10,
   "id": "b3f309df",
   "metadata": {},
   "outputs": [],
   "source": [
    "import tetravolume as tv"
   ]
  },
  {
   "cell_type": "code",
   "execution_count": 9,
   "id": "9e96294c",
   "metadata": {},
   "outputs": [],
   "source": [
    "c = Qvector((0,0,1,0))\n",
    "d = Qvector((0,0,0,1))\n",
    "\n",
    "ab = (a-b).length()\n",
    "ac = (a-c).length()\n",
    "ad = (a-d).length()\n",
    "bc = (b-c).length()\n",
    "cd = (c-d).length()\n",
    "ad = (a-d).length()"
   ]
  },
  {
   "cell_type": "code",
   "execution_count": 11,
   "id": "1d99a986",
   "metadata": {},
   "outputs": [],
   "source": [
    "t = tv.Tetrahedron(ab,ac,ad,bc,cd,ad)"
   ]
  },
  {
   "cell_type": "code",
   "execution_count": 13,
   "id": "eeaf3383",
   "metadata": {},
   "outputs": [
    {
     "data": {
      "text/plain": [
       "1.0"
      ]
     },
     "execution_count": 13,
     "metadata": {},
     "output_type": "execute_result"
    }
   ],
   "source": [
    "t.ivm_volume()"
   ]
  },
  {
   "cell_type": "code",
   "execution_count": 14,
   "id": "b2abe14d",
   "metadata": {},
   "outputs": [
    {
     "data": {
      "text/plain": [
       "0.9428090415820635"
      ]
     },
     "execution_count": 14,
     "metadata": {},
     "output_type": "execute_result"
    }
   ],
   "source": [
    "t.xyz_volume()"
   ]
  },
  {
   "cell_type": "code",
   "execution_count": 18,
   "id": "5d3d2594",
   "metadata": {},
   "outputs": [
    {
     "data": {
      "text/plain": [
       "(xyz_vector(x=0.35355339059327373, y=0.35355339059327373, z=0.35355339059327373),\n",
       " xyz_vector(x=-0.35355339059327373, y=-0.35355339059327373, z=0.35355339059327373),\n",
       " xyz_vector(x=-0.35355339059327373, y=0.35355339059327373, z=-0.35355339059327373),\n",
       " xyz_vector(x=0.35355339059327373, y=-0.35355339059327373, z=-0.35355339059327373))"
      ]
     },
     "execution_count": 18,
     "metadata": {},
     "output_type": "execute_result"
    }
   ],
   "source": [
    "(a.xyz(),\n",
    "b.xyz(),\n",
    "c.xyz(),\n",
    "d.xyz())"
   ]
  },
  {
   "cell_type": "code",
   "execution_count": null,
   "id": "be1a1acf",
   "metadata": {},
   "outputs": [],
   "source": []
  }
 ],
 "metadata": {
  "kernelspec": {
   "display_name": "Python 3",
   "language": "python",
   "name": "python3"
  },
  "language_info": {
   "codemirror_mode": {
    "name": "ipython",
    "version": 3
   },
   "file_extension": ".py",
   "mimetype": "text/x-python",
   "name": "python",
   "nbconvert_exporter": "python",
   "pygments_lexer": "ipython3",
   "version": "3.7.9"
  }
 },
 "nbformat": 4,
 "nbformat_minor": 5
}
