{
 "cells": [
  {
   "cell_type": "markdown",
   "id": "b761de87",
   "metadata": {},
   "source": [
    "* [Home](Home.ipynb)\n",
    "\n",
    "\n",
    "# Quadray Coordinates\n",
    "\n",
    "* [Wikipedia Entry](https://en.wikipedia.org/wiki/Quadray_coordinates)\n",
    "* [Early Development](http://grunch.net/synergetics/quadrays.html)\n",
    "* [Recent Use](https://nbviewer.jupyter.org/github/4dsolutions/School_of_Tomorrow/blob/master/Flextegrity_Lattice.ipynb)\n",
    "\n",
    "<a data-flickr-embed=\"true\" href=\"https://www.flickr.com/photos/kirbyurner/4723083407/in/photolist-2m29ok8-2jxGLDx-KjMqQP-EhaxK2-Bpf1cD-8P2cs1-8cn39x-7cVeMN-JotMo\" title=\"Quadray Coordinates\"><img src=\"https://live.staticflickr.com/1213/4723083407_1e315f2877_o.gif\" width=\"400\" height=\"350\" alt=\"Quadray Coordinates\"></a><script async src=\"//embedr.flickr.com/assets/client-code.js\" charset=\"utf-8\"></script>\n",
    "\n",
    "Linear combinations of the four basis rays (lets use that shoptalk) map to any point in space, as expressed by 4-tuples.  \n",
    "\n",
    "At least one of the four rays, the one not bordering a specified point's quadrant, will not contribute to wayfinding.  In canonical form, at least one element of the 4-tuple will be zero, the others non-negative.\n",
    "\n",
    "Qvectors are additive and scalable, have length and direction, according to the usual rules of vector algebra. \n",
    "\n",
    "Two way conversion from to XYZ is assurred, given Qvectors come with the one canonical representation per point, just as XYZ does.  \n",
    "\n",
    "Quadrays may be seen as \"syntactic sugar\" atop XYZ, an API.  Or vice versa."
   ]
  },
  {
   "cell_type": "code",
   "execution_count": 1,
   "id": "e04dd36f",
   "metadata": {},
   "outputs": [],
   "source": [
    "from qrays import Qvector\n",
    "from math import sqrt"
   ]
  },
  {
   "cell_type": "markdown",
   "id": "c2b97db0",
   "metadata": {},
   "source": [
    "Is it bizarre to the point of macabre to have our basis rays not also be of unit length?  \n",
    "\n",
    "The tetrahedron cage is more important:  it's edges should be 1 exactly (or 2 if measured in sphere radii).  \n",
    "\n",
    "Our context is the IVM (= CCP = FCC), a closest packed spheres pattern well known to mathematicians, but by other names.\n",
    "\n",
    "<a data-flickr-embed=\"true\" href=\"https://www.flickr.com/photos/kirbyurner/4949801610/in/photolist-2m29ojG-5DsYaY-2i3qGpP-8EDNfx-8xp2z5-6wUiRq\" title=\"Sphere Packing\"><img src=\"https://live.staticflickr.com/4146/4949801610_da3fc94b2c_n.jpg\" width=\"240\" height=\"320\" alt=\"Sphere Packing\"></a><script async src=\"//embedr.flickr.com/assets/client-code.js\" charset=\"utf-8\"></script>"
   ]
  },
  {
   "cell_type": "code",
   "execution_count": 2,
   "id": "3de64817",
   "metadata": {},
   "outputs": [
    {
     "data": {
      "text/plain": [
       "0.6123724356957945"
      ]
     },
     "execution_count": 2,
     "metadata": {},
     "output_type": "execute_result"
    }
   ],
   "source": [
    "a = Qvector((1,0,0,0))\n",
    "a.length()"
   ]
  },
  {
   "cell_type": "code",
   "execution_count": 3,
   "id": "3af9f37c",
   "metadata": {},
   "outputs": [
    {
     "data": {
      "text/plain": [
       "0.6123724356957945"
      ]
     },
     "execution_count": 3,
     "metadata": {},
     "output_type": "execute_result"
    }
   ],
   "source": [
    "b = Qvector((0,1,0,0))\n",
    "b.length()"
   ]
  },
  {
   "cell_type": "markdown",
   "id": "8152c805",
   "metadata": {},
   "source": [
    "To subtract is to add the additive inverse of, which is the Qvector rotated to point oppositely.  (1,0,0,0), negated, is (0,1,1,1).  \n",
    "\n",
    "The result of a subtraction is another Qvector, and its length will be the length separating the \"arrow tips\" of the two subtracted."
   ]
  },
  {
   "cell_type": "code",
   "execution_count": 4,
   "id": "448f8256",
   "metadata": {},
   "outputs": [
    {
     "data": {
      "text/plain": [
       "1.0"
      ]
     },
     "execution_count": 4,
     "metadata": {},
     "output_type": "execute_result"
    }
   ],
   "source": [
    "(a-b).length()  # the edge of our base tetrahedron"
   ]
  },
  {
   "cell_type": "code",
   "execution_count": 5,
   "id": "8b283cc8",
   "metadata": {},
   "outputs": [],
   "source": [
    "import tetravolume as tv"
   ]
  },
  {
   "cell_type": "code",
   "execution_count": 6,
   "id": "027c6842",
   "metadata": {},
   "outputs": [],
   "source": [
    "c = Qvector((0,0,1,0))\n",
    "d = Qvector((0,0,0,1))\n",
    "\n",
    "ab = (a-b).length()\n",
    "ac = (a-c).length()\n",
    "ad = (a-d).length()\n",
    "bc = (b-c).length()\n",
    "cd = (c-d).length()\n",
    "ad = (a-d).length()"
   ]
  },
  {
   "cell_type": "code",
   "execution_count": 7,
   "id": "ad56eaea",
   "metadata": {},
   "outputs": [],
   "source": [
    "t = tv.Tetrahedron(ab,ac,ad,bc,cd,ad)"
   ]
  },
  {
   "cell_type": "code",
   "execution_count": 8,
   "id": "a28421a0",
   "metadata": {},
   "outputs": [
    {
     "data": {
      "text/plain": [
       "1.0"
      ]
     },
     "execution_count": 8,
     "metadata": {},
     "output_type": "execute_result"
    }
   ],
   "source": [
    "t.ivm_volume()"
   ]
  },
  {
   "cell_type": "code",
   "execution_count": 9,
   "id": "ea5ac1e3",
   "metadata": {},
   "outputs": [
    {
     "data": {
      "text/plain": [
       "0.9428090415820635"
      ]
     },
     "execution_count": 9,
     "metadata": {},
     "output_type": "execute_result"
    }
   ],
   "source": [
    "t.xyz_volume()"
   ]
  },
  {
   "cell_type": "markdown",
   "id": "a9d6df74",
   "metadata": {},
   "source": [
    "<a data-flickr-embed=\"true\" href=\"https://www.flickr.com/photos/kirbyurner/39391693474/in/photolist-2ifuQn8-2hvwJt9-2csiBa8-231UJ5S-QrfReH-GNshah-q8vyLo-fwsLq7-fwdt8t-fwsARu-fwsE89-c5RPLS-bH5gvP-8xp1nN-8tm3iL-8teDJ4-8thDyL-8thDHW-8ryEix-8ryECF-8teEm2-8ryyt2-8pNQou-8thE4q-8batec-5QyKsS-7jZLhp-7cXk2G-6n24Ja-5QyKe7\" title=\"Computer Volume\"><img src=\"https://live.staticflickr.com/4672/39391693474_c6c54f3d22_z.jpg\" width=\"640\" height=\"593\" alt=\"Computer Volume\"></a><script async src=\"//embedr.flickr.com/assets/client-code.js\" charset=\"utf-8\"></script>"
   ]
  },
  {
   "cell_type": "code",
   "execution_count": 10,
   "id": "3853cd78",
   "metadata": {},
   "outputs": [
    {
     "data": {
      "text/plain": [
       "(xyz_vector(x=0.35355339059327373, y=0.35355339059327373, z=0.35355339059327373),\n",
       " xyz_vector(x=-0.35355339059327373, y=-0.35355339059327373, z=0.35355339059327373),\n",
       " xyz_vector(x=-0.35355339059327373, y=0.35355339059327373, z=-0.35355339059327373),\n",
       " xyz_vector(x=0.35355339059327373, y=-0.35355339059327373, z=-0.35355339059327373))"
      ]
     },
     "execution_count": 10,
     "metadata": {},
     "output_type": "execute_result"
    }
   ],
   "source": [
    "(a.xyz(),\n",
    "b.xyz(),\n",
    "c.xyz(),\n",
    "d.xyz())"
   ]
  },
  {
   "cell_type": "markdown",
   "id": "07997ee1",
   "metadata": {},
   "source": [
    "### Volume Computations\n",
    "\n",
    "The cells below confirm that our base tetrahedron of unit volume, fractionates into 24 subvolumes with angles and edges at our finger tips, thanks to the ```qrays``` module"
   ]
  },
  {
   "cell_type": "markdown",
   "id": "bdf3f7b2",
   "metadata": {},
   "source": [
    "<a data-flickr-embed=\"true\" href=\"https://www.flickr.com/photos/kirbyurner/41174923590\" title=\"24 A Modules (12A + 12A&#x27;) &#x3D; Tetrahedron\"><img src=\"https://live.staticflickr.com/1812/41174923590_463a04427a_w.jpg\" width=\"267\" height=\"400\" alt=\"24 A Modules (12A + 12A&#x27;) &#x3D; Tetrahedron\"></a><script async src=\"//embedr.flickr.com/assets/client-code.js\" charset=\"utf-8\"></script>\n",
    "\n",
    "<img src=\"http://www.rwgrayprojects.com/synergetics/s09/figs/f1301.gif\" width=\"332\" height=\"412\" />"
   ]
  },
  {
   "cell_type": "code",
   "execution_count": 11,
   "id": "ec29c6e1",
   "metadata": {},
   "outputs": [],
   "source": [
    "amod_E  = Qvector((0,0,0,0))\n",
    "amod_C  = b\n",
    "amod_D  = (b + c)/2\n",
    "amod_F  = (b + c + d)/3\n",
    "\n",
    "# apex E to base F, C, D\n",
    "amod_EF = amod_F\n",
    "amod_CE = b\n",
    "amod_DE = amod_D\n",
    "\n",
    "# around the base, C, D, E\n",
    "amod_CF = amod_C - amod_F\n",
    "amod_CD = amod_C - amod_D\n",
    "amod_DF = amod_D - amod_F"
   ]
  },
  {
   "cell_type": "code",
   "execution_count": 12,
   "id": "4b9941a1",
   "metadata": {},
   "outputs": [
    {
     "data": {
      "text/plain": [
       "0.2041241452319315"
      ]
     },
     "execution_count": 12,
     "metadata": {},
     "output_type": "execute_result"
    }
   ],
   "source": [
    "amod_EF.length()  # apex to face center"
   ]
  },
  {
   "cell_type": "code",
   "execution_count": 13,
   "id": "e4f4cc41",
   "metadata": {},
   "outputs": [
    {
     "data": {
      "text/plain": [
       "0.6123724356957945"
      ]
     },
     "execution_count": 13,
     "metadata": {},
     "output_type": "execute_result"
    }
   ],
   "source": [
    "amod_CE.length()  # apex to corner"
   ]
  },
  {
   "cell_type": "code",
   "execution_count": 14,
   "id": "325aaa67",
   "metadata": {},
   "outputs": [
    {
     "data": {
      "text/plain": [
       "0.3535533905932738"
      ]
     },
     "execution_count": 14,
     "metadata": {},
     "output_type": "execute_result"
    }
   ],
   "source": [
    "amod_DE.length() # apex to mid-edge"
   ]
  },
  {
   "cell_type": "code",
   "execution_count": 15,
   "id": "105353ea",
   "metadata": {},
   "outputs": [
    {
     "data": {
      "text/plain": [
       "0.5773502691896258"
      ]
     },
     "execution_count": 15,
     "metadata": {},
     "output_type": "execute_result"
    }
   ],
   "source": [
    "amod_CF.length() # face center to corner"
   ]
  },
  {
   "cell_type": "code",
   "execution_count": 16,
   "id": "f04ccafb",
   "metadata": {},
   "outputs": [
    {
     "data": {
      "text/plain": [
       "0.5"
      ]
     },
     "execution_count": 16,
     "metadata": {},
     "output_type": "execute_result"
    }
   ],
   "source": [
    "amod_CD.length() # corner to mid-edge"
   ]
  },
  {
   "cell_type": "code",
   "execution_count": 17,
   "id": "c90aa189",
   "metadata": {},
   "outputs": [
    {
     "data": {
      "text/plain": [
       "0.2886751345948129"
      ]
     },
     "execution_count": 17,
     "metadata": {},
     "output_type": "execute_result"
    }
   ],
   "source": [
    "amod_DF.length() # mid-edge to face center"
   ]
  },
  {
   "cell_type": "code",
   "execution_count": 18,
   "id": "497ec6b8",
   "metadata": {},
   "outputs": [
    {
     "data": {
      "text/plain": [
       "0.04166666666666655"
      ]
     },
     "execution_count": 18,
     "metadata": {},
     "output_type": "execute_result"
    }
   ],
   "source": [
    "lengths = map(lambda v: v.length(), \n",
    "              (amod_EF, amod_CE, amod_DE, amod_CF, amod_CD, amod_DF))\n",
    "t = tv.Tetrahedron(*lengths)\n",
    "t.ivm_volume()"
   ]
  },
  {
   "cell_type": "markdown",
   "id": "b94e0754",
   "metadata": {},
   "source": [
    "\n",
    "<a data-flickr-embed=\"true\" href=\"https://www.flickr.com/photos/kirbyurner/28435901559/in/photolist-2m29ok8-2jxGLDx-KjMqQP-EhaxK2-Bpf1cD-8P2cs1-8cn39x-7cVeMN-JotMo\" title=\"quadray_papers\"><img src=\"https://live.staticflickr.com/4704/28435901559_c3a76b6052.jpg\" width=\"486\" height=\"500\" alt=\"quadray_papers\"></a><script async src=\"//embedr.flickr.com/assets/client-code.js\" charset=\"utf-8\"></script>\n"
   ]
  }
 ],
 "metadata": {
  "kernelspec": {
   "display_name": "Python 3",
   "language": "python",
   "name": "python3"
  },
  "language_info": {
   "codemirror_mode": {
    "name": "ipython",
    "version": 3
   },
   "file_extension": ".py",
   "mimetype": "text/x-python",
   "name": "python",
   "nbconvert_exporter": "python",
   "pygments_lexer": "ipython3",
   "version": "3.7.9"
  }
 },
 "nbformat": 4,
 "nbformat_minor": 5
}
