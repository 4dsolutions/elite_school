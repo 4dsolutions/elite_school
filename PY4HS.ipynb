{
 "cells": [
  {
   "cell_type": "markdown",
   "id": "1ff79dc6-28ac-4a37-97e6-9f30b47a32ce",
   "metadata": {},
   "source": [
    "##### Python for High School (Summer 2022)\n",
    "\n",
    "* [Table of Contents](PY4HS.ipynb)\n",
    "* <a href=\"https://colab.research.google.com/github/4dsolutions/elite_school/blob/master/PY4HS.ipynb\"><img align=\"left\" src=\"https://colab.research.google.com/assets/colab-badge.svg\" alt=\"Open in Colab\" title=\"Open and Execute in Google Colaboratory\"></a>\n",
    "* [![nbviewer](https://raw.githubusercontent.com/jupyter/design/master/logos/Badges/nbviewer_badge.svg)](https://nbviewer.org/github/4dsolutions/elite_school/blob/master/PY4HS.ipynb)\n",
    "\n"
   ]
  },
  {
   "cell_type": "markdown",
   "id": "b8e224b4-c02f-4da7-b697-402f573ad246",
   "metadata": {},
   "source": [
    "##### Python for High School (Summer 2022)\n",
    "\n",
    "# Table of Contents\n",
    "\n",
    "\n",
    "* Main Text \n",
    "    -   [Python for High School (Overview)](ADS_highschool_math.ipynb)\n",
    "    -   [Making Types](Py4HS_MakingTypes.ipynb)\n",
    "    -   [A First Notebook: Animal Types](Py4HS_July_8_2022.ipynb)\n",
    "    -   [Rational Number Type](Py4HS_July_12_2022.ipynb)\n",
    "* Addenda\n",
    "    -   [Exploring Python](ExploringPython.ipynb)\n",
    "    -   [The Pythonic Ecosystem](TheCabal.ipynb)"
   ]
  }
 ],
 "metadata": {
  "kernelspec": {
   "display_name": "Python 3 (ipykernel)",
   "language": "python",
   "name": "python3"
  },
  "language_info": {
   "codemirror_mode": {
    "name": "ipython",
    "version": 3
   },
   "file_extension": ".py",
   "mimetype": "text/x-python",
   "name": "python",
   "nbconvert_exporter": "python",
   "pygments_lexer": "ipython3",
   "version": "3.9.12"
  }
 },
 "nbformat": 4,
 "nbformat_minor": 5
}
