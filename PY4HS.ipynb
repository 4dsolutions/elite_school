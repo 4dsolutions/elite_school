{
 "cells": [
  {
   "cell_type": "markdown",
   "id": "1ff79dc6-28ac-4a37-97e6-9f30b47a32ce",
   "metadata": {},
   "source": [
    "##### Python for High School\n",
    "\n",
    "* [Table of Contents](PY4HS.ipynb)\n",
    "* <a href=\"https://colab.research.google.com/github/4dsolutions/elite_school/blob/master/PY4HS.ipynb\"><img align=\"left\" src=\"https://colab.research.google.com/assets/colab-badge.svg\" alt=\"Open in Colab\" title=\"Open and Execute in Google Colaboratory\"></a>\n",
    "* [![nbviewer](https://raw.githubusercontent.com/jupyter/design/master/logos/Badges/nbviewer_badge.svg)](https://nbviewer.org/github/4dsolutions/elite_school/blob/master/PY4HS.ipynb)\n",
    "\n",
    "*originally developed with assistance from Sunshine Elite Education, across several teaching opportunities.*"
   ]
  },
  {
   "cell_type": "markdown",
   "id": "b8e224b4-c02f-4da7-b697-402f573ad246",
   "metadata": {
    "tags": []
   },
   "source": [
    "##### Python for High School\n",
    "\n",
    "<a data-flickr-embed=\"true\" href=\"https://www.flickr.com/photos/kirbyurner/52243748259/in/dateposted-public/\" title=\"A Mathematical Canvas\"><img src=\"https://live.staticflickr.com/65535/52243748259_3a914c6ce5_w.jpg\" width=\"400\" height=\"300\" alt=\"A Mathematical Canvas\"></a><script async src=\"//embedr.flickr.com/assets/client-code.js\" charset=\"utf-8\"></script>\n",
    "\n",
    "# Table of Contents\n",
    "\n",
    "\n",
    "* Main Text \n",
    "    -   [Home Page](Home.ipynb)\n",
    "    -   [Python for High School (Overview)](ADS_highschool_math.ipynb)\n",
    "    -   [Pythonic Andragogy](Pythonic_Andragogy_Notes.ipynb)\n",
    "    -   [Making Types](Py4HS_MakingTypes.ipynb)\n",
    "    -   [A First Notebook: Animal Types](Py4HS_July_8_2022.ipynb)\n",
    "    -   [Rational Number Type](Py4HS_July_12_2022.ipynb)\n",
    "    -   [Builtin Types and Functions](Py4HS_July_15_2022.ipynb)\n",
    "    -   [Data Structures: Adjacency Matrix](Py4HS_July_19_2022.ipynb)\n",
    "    -   [XYZ Vectors and Polyhedra](Py4HS_July_22_2022.ipynb)\n",
    "    -   [Polynomials](Py4HS_Bernoulli.ipynb)\n",
    "    -   [Matrix Math](Py4HS_Matrix_Math.ipynb)\n",
    "    -   [Logarithms and Powers](Py4HS_July_26_2022.ipynb)\n",
    "    -   [Trig and Inverse Trig Functions](Py4HS_July_29_2022.ipynb)\n",
    "    -   [Plotting Functions, Permutations](Py4HS_August_2_2022.ipynb)\n",
    "    -   [Data Structures for Games](Py4HS_August_5_2022.ipynb)\n",
    "    -   [Competitive Programming](Exercises.ipynb)\n",
    "    -   [Permutations and Secret Codes](Py4HS_Aug_5_classroom.ipynb)\n",
    "    -   [Public Key Crypto (RSA)](Py4HS_August_9_2022.ipynb)\n",
    "    -   [Closest Packed Spheres](Py4HS_sphere_packing_classroom.ipynb)\n",
    "    -   [Fractals (Mandelbrot Set)](Py4HS_August_12_2022.ipynb)\n",
    "    -   [Regular Expressions](Py4HS_August_16_2022.ipynb)\n",
    "    -   [Martian Math with Python Generators](Py4HS_August_19_2022.ipynb)\n",
    "    -   [Place Based Education](Py4HS_August_23_2022.ipynb)\n",
    "    -   [Machine Learning](Py4HS_Aug_26_2022.ipynb)\n",
    "* Addenda\n",
    "    -   [Exploring Python](ExploringPython.ipynb)\n",
    "    -   [The Pythonic Ecosystem](TheCabal.ipynb)\n",
    "    -   [Urbit and Hoon](UrbitEcosystem.ipynb)\n",
    "    -   [Flickr Album](https://flic.kr/s/aHBqjzJdXN)"
   ]
  }
 ],
 "metadata": {
  "kernelspec": {
   "display_name": "Python 3 (ipykernel)",
   "language": "python",
   "name": "python3"
  },
  "language_info": {
   "codemirror_mode": {
    "name": "ipython",
    "version": 3
   },
   "file_extension": ".py",
   "mimetype": "text/x-python",
   "name": "python",
   "nbconvert_exporter": "python",
   "pygments_lexer": "ipython3",
   "version": "3.11.2"
  }
 },
 "nbformat": 4,
 "nbformat_minor": 5
}
