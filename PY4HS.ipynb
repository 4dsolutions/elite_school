{
 "cells": [
  {
   "cell_type": "markdown",
   "id": "1ff79dc6-28ac-4a37-97e6-9f30b47a32ce",
   "metadata": {},
   "source": [
    "##### Python for High School (Summer 2022)\n",
    "\n",
    "* [Table of Contents](PY4HS.ipynb)\n",
    "* <a href=\"https://colab.research.google.com/github/4dsolutions/elite_school/blob/master/PY4HS.ipynb\"><img align=\"left\" src=\"https://colab.research.google.com/assets/colab-badge.svg\" alt=\"Open in Colab\" title=\"Open and Execute in Google Colaboratory\"></a>\n",
    "* [![nbviewer](https://raw.githubusercontent.com/jupyter/design/master/logos/Badges/nbviewer_badge.svg)](https://nbviewer.org/github/4dsolutions/elite_school/blob/master/PY4HS.ipynb)\n",
    "\n"
   ]
  },
  {
   "cell_type": "markdown",
   "id": "b8e224b4-c02f-4da7-b697-402f573ad246",
   "metadata": {},
   "source": [
    "##### Python for High School (Summer 2022)\n",
    "\n",
    "# Table of Contents\n",
    "\n",
    "\n",
    "* Main Text \n",
    "    -   [Python for High School (Overview)](ADS_highschool_math.ipynb)\n",
    "    -   [Making Types](Py4HS_MakingTypes.ipynb)\n",
    "    -   [Algorithms and Data Structures](ADS_intro_1.ipynb) \n",
    "    -   [Algorithms (continued)](ADS_intro_2.ipynb)\n",
    "    -   [Structured Data](ADS_intro_3.ipynb)\n",
    "    \n",
    "* Projects \n",
    "    - [Wordle](ADS_project_1.ipynb)\n",
    "    - [ACSL / USACO](Exercises.ipynb)\n",
    "    - [Repo](https://github.com/4dsolutions/elite_school/)\n",
    "    \n",
    "* Sandboxes \n",
    "    -   [Spatial Geometry](ADS_sandbox.ipynb)  \n",
    "    -   [Finite Groups](ADS_sandbox_2.ipynb)  \n",
    "    -   [Chess](ADS_sandbox_3.ipynb)\n",
    "    -   [Soccer](ADS_sandbox_4.ipynb)\n",
    "    -   [Cartography](ADS_sandbox_5.ipynb)\n",
    "    -   [Graphs](ADS_sandbox_6.ipynb)\n",
    "    -   [Sorting](ADS_sandbox_7.ipynb)\n",
    "    -   [Fractals](ADS_sandbox_8.ipynb)\n",
    "    -   [Simulations](ADS_sandbox_9.ipynb)\n",
    "    -   [Symbolic Mathematics](ADS_sandbox_10.ipynb)\n",
    "    \n",
    "* Research \n",
    "    -   [Word Sets and Graph Theory](ADS_research_1.ipynb)\n",
    "* Addenda\n",
    "    -   [Exploring Python](ExploringPython.ipynb)\n",
    "    -   [The Pythonic Ecosystem](TheCabal.ipynb)"
   ]
  }
 ],
 "metadata": {
  "kernelspec": {
   "display_name": "Python 3 (ipykernel)",
   "language": "python",
   "name": "python3"
  },
  "language_info": {
   "codemirror_mode": {
    "name": "ipython",
    "version": 3
   },
   "file_extension": ".py",
   "mimetype": "text/x-python",
   "name": "python",
   "nbconvert_exporter": "python",
   "pygments_lexer": "ipython3",
   "version": "3.9.12"
  }
 },
 "nbformat": 4,
 "nbformat_minor": 5
}
