{
 "cells": [
  {
   "cell_type": "markdown",
   "id": "eea417c3-0961-4b42-976e-ab48e5adb76f",
   "metadata": {},
   "source": [
    "##### School of Tomorrow\n",
    "\n",
    "* [Table of Contents](PY4HS.ipynb)\n",
    "* <a href=\"https://colab.research.google.com/github/4dsolutions/elite_school/blob/master/UrbitEcosystem.ipynb\"><img align=\"left\" src=\"https://colab.research.google.com/assets/colab-badge.svg\" alt=\"Open in Colab\" title=\"Open and Execute in Google Colaboratory\"></a>\n",
    "* [![nbviewer](https://raw.githubusercontent.com/jupyter/design/master/logos/Badges/nbviewer_badge.svg)](https://nbviewer.org/github/4dsolutions/elite_school/blob/master/UrbitEcosystem.ipynb)"
   ]
  },
  {
   "cell_type": "markdown",
   "id": "f89680d1-29c4-4ada-9cda-895d2ffbb191",
   "metadata": {},
   "source": [
    "# Urbit Ecosystem\n",
    "\n",
    "<a data-flickr-embed=\"true\" href=\"https://www.flickr.com/photos/kirbyurner/52416745169/in/dateposted-public/\" title=\"New Arrival:  Imperceptible City\"><img src=\"https://live.staticflickr.com/65535/52416745169_9931232890_c.jpg\" width=\"800\" height=\"450\" alt=\"New Arrival:  Imperceptible City\"></a><script async src=\"//embedr.flickr.com/assets/client-code.js\" charset=\"utf-8\"></script>\n",
    "\n",
    "[Attribution](https://flic.kr/p/2nRTwaF)\n",
    "\n",
    "I first learned about Urbit from one of the archivists on the Bucky Fuller beat, Trevor Blake.  He inherited a stash of archive-worthy materials from Joe Moore and with help from Sam Lanahan, and some help moving boxes from myself, he undertook the immense task of adding value.  [Oregon State University](https://blogs.oregonstate.edu/scarc/2021/03/06/the-trevor-blake-collection-on-r-buckminster-fuller/) was a primary beneficiary.  Trevor's devoted-to-Bucky website is named Synchronofile (see Links below).\n",
    "\n",
    "In my second attempt to navigate the Urbit Ecosystem, I followed some breadcrumbs to get a first ship hosted by a true planet, versus me running a private comet only locally.  \n",
    "\n",
    "This moon is named ```~nosheb-nilsun-malbex-xlacnyr``` and is attach to a planet, owned by one Justin, named ```~hatryx-lastud``` and otherwise known as The Imperceptible City.\n",
    "\n",
    "Later on, I acquired my own planet.\n",
    "\n",
    "<a data-flickr-embed=\"true\" href=\"https://www.flickr.com/photos/kirbyurner/52525330510/in/dateposted-public/\" title=\"Screen Shot 2022-10-29 at 10.09.21 AM\"><img src=\"https://live.staticflickr.com/65535/52525330510_e0a8e7ff20.jpg\" width=\"459\" height=\"500\" alt=\"Screen Shot 2022-10-29 at 10.09.21 AM\"></a><script async src=\"//embedr.flickr.com/assets/client-code.js\" charset=\"utf-8\"></script>\n",
    "\n",
    "Links:\n",
    "\n",
    "* [Pro Urbit PR on Synergeo](https://groups.io/g/synergeo/message/2007)\n",
    "* [Urbit for Normies](https://urbit.org/blog/urbit-for-normies)\n",
    "* [What is Urbit](https://blog.urbit.live/what-is-urbit-an-introduction/)\n",
    "* [Intro to Urbit Names](https://blog.urbit.live/an-intro-to-urbit-names/)\n",
    "* [Urbit.org](https://urbit.org/)\n",
    "* [Synchronofile](https://synchronofile.com/)\n",
    "* [Flickr Album](https://flic.kr/s/aHBqjAaJvR)"
   ]
  },
  {
   "cell_type": "code",
   "execution_count": 2,
   "id": "bdf6cfc6-729e-4378-a300-5ee7aba72bbf",
   "metadata": {},
   "outputs": [],
   "source": [
    "from IPython.display import YouTubeVideo"
   ]
  },
  {
   "cell_type": "code",
   "execution_count": 3,
   "id": "8149431b-5e2f-4356-8d84-a351dd03ffa2",
   "metadata": {},
   "outputs": [
    {
     "data": {
      "image/jpeg": "[encoded data removed]",
      "text/html": [
       "\n",
       "        <iframe\n",
       "            width=\"400\"\n",
       "            height=\"300\"\n",
       "            src=\"https://www.youtube.com/embed/YslTgztE61A\"\n",
       "            frameborder=\"0\"\n",
       "            allowfullscreen\n",
       "            \n",
       "        ></iframe>\n",
       "        "
      ],
      "text/plain": [
       "<IPython.lib.display.YouTubeVideo at 0x7fbdd22f21c0>"
      ]
     },
     "execution_count": 3,
     "metadata": {},
     "output_type": "execute_result"
    }
   ],
   "source": [
    "YouTubeVideo(\"YslTgztE61A\")"
   ]
  }
 ],
 "metadata": {
  "kernelspec": {
   "display_name": "Python 3 (ipykernel)",
   "language": "python",
   "name": "python3"
  },
  "language_info": {
   "codemirror_mode": {
    "name": "ipython",
    "version": 3
   },
   "file_extension": ".py",
   "mimetype": "text/x-python",
   "name": "python",
   "nbconvert_exporter": "python",
   "pygments_lexer": "ipython3",
   "version": "3.9.12"
  }
 },
 "nbformat": 4,
 "nbformat_minor": 5
}
