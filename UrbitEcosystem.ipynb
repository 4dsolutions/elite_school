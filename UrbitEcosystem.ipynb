{
 "cells": [
  {
   "cell_type": "markdown",
   "id": "eea417c3-0961-4b42-976e-ab48e5adb76f",
   "metadata": {},
   "source": [
    "##### School of Tomorrow\n",
    "\n",
    "* [Table of Contents](PY4HS.ipynb)\n",
    "* <a href=\"https://colab.research.google.com/github/4dsolutions/elite_school/blob/master/UrbitEcosystem.ipynb\"><img align=\"left\" src=\"https://colab.research.google.com/assets/colab-badge.svg\" alt=\"Open in Colab\" title=\"Open and Execute in Google Colaboratory\"></a>\n",
    "* [![nbviewer](https://raw.githubusercontent.com/jupyter/design/master/logos/Badges/nbviewer_badge.svg)](https://nbviewer.org/github/4dsolutions/elite_school/blob/master/UrbitEcosystem.ipynb)"
   ]
  },
  {
   "cell_type": "markdown",
   "id": "f89680d1-29c4-4ada-9cda-895d2ffbb191",
   "metadata": {},
   "source": [
    "# Urbit Ecosystem\n",
    "\n",
    "<a data-flickr-embed=\"true\" href=\"https://www.flickr.com/photos/kirbyurner/52416745169/in/dateposted-public/\" title=\"New Arrival:  Imperceptible City\"><img src=\"https://live.staticflickr.com/65535/52416745169_9931232890_c.jpg\" width=\"800\" height=\"450\" alt=\"New Arrival:  Imperceptible City\"></a><script async src=\"//embedr.flickr.com/assets/client-code.js\" charset=\"utf-8\"></script>\n",
    "\n",
    "[Attribution](https://flic.kr/p/2nRTwaF)"
   ]
  }
 ],
 "metadata": {
  "kernelspec": {
   "display_name": "Python 3 (ipykernel)",
   "language": "python",
   "name": "python3"
  },
  "language_info": {
   "codemirror_mode": {
    "name": "ipython",
    "version": 3
   },
   "file_extension": ".py",
   "mimetype": "text/x-python",
   "name": "python",
   "nbconvert_exporter": "python",
   "pygments_lexer": "ipython3",
   "version": "3.9.12"
  }
 },
 "nbformat": 4,
 "nbformat_minor": 5
}
