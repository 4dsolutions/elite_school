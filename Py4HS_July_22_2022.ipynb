{
 "cells": [
  {
   "cell_type": "markdown",
   "id": "468e25aa-24a4-4eaf-b4e0-c47792f38b1c",
   "metadata": {
    "tags": []
   },
   "source": [
    "##### Python for High School (Summer 2022)\n",
    "\n",
    "* [Table of Contents](PY4HS.ipynb)\n",
    "* <a href=\"https://colab.research.google.com/github/4dsolutions/elite_school/blob/master/Py4HS_July_22_2022.ipynb\"><img align=\"left\" src=\"https://colab.research.google.com/assets/colab-badge.svg\" alt=\"Open in Colab\" title=\"Open and Execute in Google Colaboratory\"></a>\n",
    "* [![nbviewer](https://raw.githubusercontent.com/jupyter/design/master/logos/Badges/nbviewer_badge.svg)](https://nbviewer.org/github/4dsolutions/elite_school/blob/master/Py4HS_July_22_2022.ipynb)"
   ]
  },
  {
   "cell_type": "markdown",
   "id": "b1f2257e-7935-47d9-b98c-0fe0e8113489",
   "metadata": {},
   "source": [
    "### XYZ Coordinates\n",
    "\n",
    "Usually a big part of high school mathematics is becoming familiar with what we call Cartesian Coordinates, named for Rene Descartes, considered one of the great philosophers (\"I think therefore I am\").  \n",
    "\n",
    "The idea of using three numbers to determine a fixed point in space, relative to \"coordinate axes\" is often tackled twice:  first without the vector concept, then with.\n",
    "\n",
    "In this curriculum, focused as it is on \"math objects\", it makes sense to just start with [the Vector type](https://en.wikipedia.org/wiki/Euclidean_vector) right from the beginning.\n",
    "\n",
    "Another feature of this curriculum is the optional use of a raytracer, POV-Ray in particular, to render scenes with geometric content in the foreground, and perhaps a blue sky with clouds in the background.\n",
    "\n",
    "The raytracer connects us to art history, and the invention of perspective. Depending on the course and teacher experience, a foray into Renaissance master works (often done by a team) is recommended.\n",
    "\n",
    "Included in the repo is [pov.py](pov.py), a Python module that writes Scene Description Language in output files, suitable for feeding to POV-Ray.  Pov-Ray is a time-tested cross platform free open source engine, with both command line and GUI front ends.\n",
    "\n",
    "### XYZ Vectors\n",
    "\n",
    "![XYZ Vectors](https://upload.wikimedia.org/wikipedia/commons/thumb/f/fd/3D_Vector.svg/254px-3D_Vector.svg.png)\n",
    "\n",
    "[Attribution](https://commons.wikimedia.org/wiki/File:3D_Vector.svg)\n",
    "\n",
    "The mathematical idea of an XYZ Vector is too abstract to include attributes such as color, let alone \"thickness\".  However on a mathematical canvas, with the physics of light (electromagnetism) involved, color and thickness come into their own.\n",
    "\n",
    "In an object oriented language such as Python, we have the option to define a Vector type as purely mathematical, with a POV_Vector subclass that's specialized to communicate with POV-Ray, wherein real world \"secondary attributes\" such as thickness and color make sense to the viewer."
   ]
  },
  {
   "cell_type": "code",
   "execution_count": 16,
   "id": "b8dc5ac9-9398-4c20-a757-7fedd251369e",
   "metadata": {},
   "outputs": [],
   "source": [
    "from pov import Vector"
   ]
  },
  {
   "cell_type": "code",
   "execution_count": 2,
   "id": "646fa5f8-d975-4638-a03b-c891d67f0da4",
   "metadata": {},
   "outputs": [],
   "source": [
    "v0 = Vector(1,0,0)\n",
    "v1 = Vector(-1,0,0)"
   ]
  },
  {
   "cell_type": "code",
   "execution_count": 3,
   "id": "5386c945-bba5-4fc5-94ba-c24cee6a019a",
   "metadata": {},
   "outputs": [
    {
     "data": {
      "text/plain": [
       "180.0"
      ]
     },
     "execution_count": 3,
     "metadata": {},
     "output_type": "execute_result"
    }
   ],
   "source": [
    "v1.angle(v0)"
   ]
  },
  {
   "cell_type": "markdown",
   "id": "0490e16f-79fd-40ef-9a87-1a1e74330d6a",
   "metadata": {},
   "source": [
    "These two vectors point oppositely to one another, at 180 degrees.  \n",
    "\n",
    "When we add them, they cancel out to the zero vector."
   ]
  },
  {
   "cell_type": "code",
   "execution_count": 4,
   "id": "654317a2-613c-4a1e-b482-e0b5606c9f81",
   "metadata": {},
   "outputs": [
    {
     "data": {
      "text/plain": [
       "Vector(0,0,0)"
      ]
     },
     "execution_count": 4,
     "metadata": {},
     "output_type": "execute_result"
    }
   ],
   "source": [
    "v0 + v1"
   ]
  },
  {
   "cell_type": "code",
   "execution_count": 5,
   "id": "26fc3367-b7f5-44b4-be47-6c8952d3a51e",
   "metadata": {},
   "outputs": [
    {
     "data": {
      "text/plain": [
       "90.0"
      ]
     },
     "execution_count": 5,
     "metadata": {},
     "output_type": "execute_result"
    }
   ],
   "source": [
    "v3 = Vector(0,1,0)\n",
    "v1.angle(v3)"
   ]
  },
  {
   "cell_type": "markdown",
   "id": "eedc0467-1c6e-41a9-b072-f662573fe0fc",
   "metadata": {},
   "source": [
    "Adding vectors is as simple as adding their respective x, y and z coordinates.  Mentally, slide the 2nd vector to the tip of the first (without rotating) and see where you end up:  that's the vector sum.\n",
    "\n",
    "\n",
    "![Adding Vectors](https://upload.wikimedia.org/wikipedia/commons/a/a6/Vector_add_scale.svg)\n",
    "\n",
    "![Subtracting Vectors](https://upload.wikimedia.org/wikipedia/commons/thumb/1/10/Vector's_subtraction.svg/477px-Vector's_subtraction.svg.png)"
   ]
  },
  {
   "cell_type": "markdown",
   "id": "8fc98ccf-76b2-4c0a-b6de-705e6965aba6",
   "metadata": {},
   "source": [
    "### Polyhedrons:  Vector Vertexes + Faces\n",
    "\n",
    "In the last chapter we talked a lot about Graphs in the sense of Networks, and how Polyhedrons count as Graphs.\n",
    "\n",
    "Just an Adjacency Matrix will not give us enough information however.  We would like to be able to be able to pinpoint all the vertexes (nodes) using XYZ coordinates.\n",
    "\n",
    "Then we can connect those vertexes with an Adjacency Matrix.  \n",
    "\n",
    "Lets assume these six arrows (vectors) are labeled **i**, **j**, **k**, **l**, **m**, **n** (six in all).\n",
    "\n",
    "<a data-flickr-embed=\"true\" href=\"https://www.flickr.com/photos/kirbyurner/52229886848\" title=\"Base XYZ\"><img src=\"https://live.staticflickr.com/65535/52229886848_e96694dc52_o.jpg\" width=\"500\" height=\"460\" alt=\"Base XYZ\"></a><script async src=\"//embedr.flickr.com/assets/client-code.js\" charset=\"utf-8\"></script>\n",
    "\n",
    "Now connect pairs of vector tips to form an octahedron.  \n",
    "\n",
    "Tips do not connect if directly across from one another, in a north-south pole relationship.\n",
    "\n",
    "<a data-flickr-embed=\"true\" href=\"https://www.flickr.com/photos/kirbyurner/52228875047/in/photostream/\" title=\"Octahedron Around Base XYZ\"><img src=\"https://live.staticflickr.com/65535/52228875047_2b13136dc5_o.jpg\" width=\"500\" height=\"460\" alt=\"Octahedron Around Base XYZ\"></a><script async src=\"//embedr.flickr.com/assets/client-code.js\" charset=\"utf-8\"></script>"
   ]
  },
  {
   "cell_type": "markdown",
   "id": "6f23189b-a6c0-40f5-845e-d4c298b729d6",
   "metadata": {},
   "source": [
    "That all seems like a pretty good design, but then there's still some valuable information we could lose here.  \n",
    "\n",
    "What vertexes are part of the same face?  The Adjacency Matrix does not make that easy to determine.\n",
    "\n",
    "If we groups vertexes into face, we will get all the adjacency information we need.\n",
    "\n",
    "**i**, **j**, **k**, **l**, **m** and **n** are the six pointers to the six vertexes.  We see them organized into eight triangles (the octahedron's faces).  \n",
    "\n",
    "We also see a call to `self._distill()`, a function that gets all the edges from the faces, in terms of vector tip to vector tip segments. \n",
    "\n",
    "For example, from face `('j', 'k', 'l')` we may derive `Edge('j', 'k')`, `Edge('k','l')` and `Edge('j','l')` -- the three edges of that triangle.\n",
    "\n",
    "```python\n",
    "\n",
    "class Octahedron (Polyhedron):\n",
    "    \"\"\"\n",
    "    Octahedron\n",
    "    \"\"\"\n",
    "\n",
    "    def __init__(self, verts):\n",
    "\n",
    "        self.vertexes = verts\n",
    "        self.faces = (('j','k','i'),('j','i','l'),('j','l','n'),('j','n','k'),               \n",
    "                      ('m','k','i'),('m','i','l'),('m','l','n'),('m','n','k'))\n",
    "\n",
    "        self.edges = self._distill()  # in the Polyhedron superclass (parent class)\n",
    "        # POV-Ray\n",
    "        self.edge_color = \"rgb <1, 0, 0>\"\n",
    "        self.edge_radius= 0.03\n",
    "        self.vert_color = \"rgb <1, 0, 0>\"\n",
    "        self.vert_radius= 0.03\n",
    "```"
   ]
  },
  {
   "cell_type": "code",
   "execution_count": 6,
   "id": "3f01115c-eb65-41b3-ade9-1031966f6c70",
   "metadata": {},
   "outputs": [],
   "source": [
    "from pov import Octahedron, POV_Vector"
   ]
  },
  {
   "cell_type": "markdown",
   "id": "94be6af2-a3fc-4e22-bae2-3432fa192c8a",
   "metadata": {},
   "source": [
    "A POV_Vector is an ordinary vector with some added ability to write about itself in Scene Description Language, the language of POV-Ray.\n",
    "\n",
    "Ditto the POV_Edge:  it mainly contains the two POV_Vectors that define it, but it also has color and thickness information, controlling how it looks if/when we include it as a part of a rendered scene."
   ]
  },
  {
   "cell_type": "markdown",
   "id": "4439788d-3912-4ea2-8c41-d6cd05e03ef5",
   "metadata": {},
   "source": [
    "As the code below makes fairly clear, all vectors **a** - **z** depend on the initial four vectors **a**, **b**, **c** and **d**.  These are to the four corners of a regular tetrahedron, from its center.  Every other vector ends up a vector sum of those, as the additions show.\n",
    "\n",
    "<a data-flickr-embed=\"true\" href=\"https://www.flickr.com/photos/kirbyurner/52191414643/in/dateposted-public/\" title=\"render_me\"><img src=\"https://live.staticflickr.com/65535/52191414643_5cec219945_o.jpg\" width=\"280\" height=\"280\" alt=\"render_me\"></a><script async src=\"//embedr.flickr.com/assets/client-code.js\" charset=\"utf-8\"></script>"
   ]
  },
  {
   "cell_type": "code",
   "execution_count": 7,
   "id": "e49d578c-18a4-4880-beca-7e24de597ac3",
   "metadata": {},
   "outputs": [
    {
     "data": {
      "text/plain": [
       "<pov.Octahedron at 0x118b823a0>"
      ]
     },
     "execution_count": 7,
     "metadata": {},
     "output_type": "execute_result"
    }
   ],
   "source": [
    "# four spokes to the corners of a regular tetrahedron from (0,0,0)\n",
    "\n",
    "a = POV_Vector(x =  0.35355339059327373, \n",
    "               y =  0.35355339059327373, \n",
    "               z =  0.35355339059327373)\n",
    "\n",
    "b = POV_Vector(x = -0.35355339059327373, \n",
    "               y = -0.35355339059327373, \n",
    "               z =  0.35355339059327373)\n",
    "\n",
    "c = POV_Vector(x = -0.35355339059327373, \n",
    "               y =  0.35355339059327373, \n",
    "               z = -0.35355339059327373)\n",
    "\n",
    "d = POV_Vector(x =  0.35355339059327373, \n",
    "               y = -0.35355339059327373, \n",
    "               z = -0.35355339059327373)\n",
    "\n",
    "# the rest of the vectors a-z, for 26 points:\n",
    "\n",
    "e,f,g,h     = b+c+d, a+c+d, a+b+d, a+b+c \n",
    "i,j,k,l,m,n = a+b, a+c, a+d, b+c, b+d, c+d\n",
    "o,p,q,r,s,t = i+j, i+k, i+l, i+m, n+j, n+k\n",
    "u,v,w,x,y,z = n+l, n+m, j+l, l+m, m+k, k+j\n",
    "\n",
    "octa_dict = {'i':i, 'j':j, 'k':k, 'l':l, 'm':m, 'n':n}\n",
    "\n",
    "oc = Octahedron(octa_dict)\n",
    "oc"
   ]
  },
  {
   "cell_type": "markdown",
   "id": "3292da35-7609-4388-8c38-ab0508e668c4",
   "metadata": {},
   "source": [
    "Every pair of the four purple vectors, **a**, **b**, **c**, **d**, sums to one of six orange vectors.  \n",
    "\n",
    "The orange vectors, **i**, **j**, **k**, **l**, **m** and **n**, are either mutually perpendicular, at 90 degrees, or at 180 degrees.\n",
    "\n",
    "<a data-flickr-embed=\"true\" href=\"https://www.flickr.com/photos/kirbyurner/52230320049\" title=\"Vector Sums\"><img src=\"https://live.staticflickr.com/65535/52230320049_141ca70154_o.jpg\" width=\"490\" height=\"445\" alt=\"Vector Sums\"></a><script async src=\"//embedr.flickr.com/assets/client-code.js\" charset=\"utf-8\"></script>"
   ]
  },
  {
   "cell_type": "code",
   "execution_count": 8,
   "id": "b8e6ebaf-5e7e-4ecc-89ce-fd8d3b9ed7dc",
   "metadata": {},
   "outputs": [
    {
     "data": {
      "text/plain": [
       "109.47122063449069"
      ]
     },
     "execution_count": 8,
     "metadata": {},
     "output_type": "execute_result"
    }
   ],
   "source": [
    "a.angle(b)"
   ]
  },
  {
   "cell_type": "code",
   "execution_count": 9,
   "id": "0113a6f6-3fce-47cf-a929-b98b8ef016b3",
   "metadata": {},
   "outputs": [
    {
     "data": {
      "text/plain": [
       "90.0"
      ]
     },
     "execution_count": 9,
     "metadata": {},
     "output_type": "execute_result"
    }
   ],
   "source": [
    "i.angle(j)"
   ]
  },
  {
   "cell_type": "markdown",
   "id": "36e8aade-aa0d-4d3d-84d0-ca32c1284b66",
   "metadata": {},
   "source": [
    "Lets dump out all the information in an Octahedron, now that we have one."
   ]
  },
  {
   "cell_type": "code",
   "execution_count": 10,
   "id": "7e9cf46f-c618-488b-aca0-5dbb38ff8cc0",
   "metadata": {},
   "outputs": [
    {
     "data": {
      "text/plain": [
       "[POV_Edge(POV_Vector(0.0,0.7071067811865475,0.0), POV_Vector(0.7071067811865475,0.0,0.0)),\n",
       " POV_Edge(POV_Vector(0.0,0.7071067811865475,0.0), POV_Vector(0.0,0.0,-0.7071067811865475)),\n",
       " POV_Edge(POV_Vector(0.0,0.0,0.7071067811865475), POV_Vector(-0.7071067811865475,0.0,0.0)),\n",
       " POV_Edge(POV_Vector(0.0,0.0,0.7071067811865475), POV_Vector(0.7071067811865475,0.0,0.0)),\n",
       " POV_Edge(POV_Vector(0.7071067811865475,0.0,0.0), POV_Vector(0.0,-0.7071067811865475,0.0)),\n",
       " POV_Edge(POV_Vector(-0.7071067811865475,0.0,0.0), POV_Vector(0.0,-0.7071067811865475,0.0)),\n",
       " POV_Edge(POV_Vector(0.0,0.0,0.7071067811865475), POV_Vector(0.0,0.7071067811865475,0.0)),\n",
       " POV_Edge(POV_Vector(0.0,0.0,0.7071067811865475), POV_Vector(0.0,-0.7071067811865475,0.0)),\n",
       " POV_Edge(POV_Vector(0.7071067811865475,0.0,0.0), POV_Vector(0.0,0.0,-0.7071067811865475)),\n",
       " POV_Edge(POV_Vector(0.0,-0.7071067811865475,0.0), POV_Vector(0.0,0.0,-0.7071067811865475)),\n",
       " POV_Edge(POV_Vector(-0.7071067811865475,0.0,0.0), POV_Vector(0.0,0.0,-0.7071067811865475)),\n",
       " POV_Edge(POV_Vector(0.0,0.7071067811865475,0.0), POV_Vector(-0.7071067811865475,0.0,0.0))]"
      ]
     },
     "execution_count": 10,
     "metadata": {},
     "output_type": "execute_result"
    }
   ],
   "source": [
    "oc.edges  # vector pairs, edges go tip to tip"
   ]
  },
  {
   "cell_type": "code",
   "execution_count": 11,
   "id": "0e24cd12-4709-4f6d-9cbb-08fd8bc870f0",
   "metadata": {},
   "outputs": [
    {
     "data": {
      "text/plain": [
       "{'i': POV_Vector(0.0,0.0,0.7071067811865475),\n",
       " 'j': POV_Vector(0.0,0.7071067811865475,0.0),\n",
       " 'k': POV_Vector(0.7071067811865475,0.0,0.0),\n",
       " 'l': POV_Vector(-0.7071067811865475,0.0,0.0),\n",
       " 'm': POV_Vector(0.0,-0.7071067811865475,0.0),\n",
       " 'n': POV_Vector(0.0,0.0,-0.7071067811865475)}"
      ]
     },
     "execution_count": 11,
     "metadata": {},
     "output_type": "execute_result"
    }
   ],
   "source": [
    "oc.vertexes  # vectors, tail at (0,0,0)"
   ]
  },
  {
   "cell_type": "code",
   "execution_count": 12,
   "id": "5695cbd9-85ae-46cc-ac0f-b77ae02e4d48",
   "metadata": {},
   "outputs": [
    {
     "data": {
      "text/plain": [
       "(('j', 'k', 'i'),\n",
       " ('j', 'i', 'l'),\n",
       " ('j', 'l', 'n'),\n",
       " ('j', 'n', 'k'),\n",
       " ('m', 'k', 'i'),\n",
       " ('m', 'i', 'l'),\n",
       " ('m', 'l', 'n'),\n",
       " ('m', 'n', 'k'))"
      ]
     },
     "execution_count": 12,
     "metadata": {},
     "output_type": "execute_result"
    }
   ],
   "source": [
    "oc.faces  # using the assigned labels, a-z as necessary"
   ]
  },
  {
   "cell_type": "markdown",
   "id": "1120faa1-6521-4322-8d3d-2f1799795b6f",
   "metadata": {},
   "source": [
    "What's the precise distance from **j** to **k**, tip to tip?  \n",
    "\n",
    "Vectors make that easy to compute, as the length of their difference."
   ]
  },
  {
   "cell_type": "code",
   "execution_count": 13,
   "id": "2a06449d-7ee8-464a-8f6a-04354575ad5e",
   "metadata": {},
   "outputs": [
    {
     "data": {
      "text/plain": [
       "0.9999999999999999"
      ]
     },
     "execution_count": 13,
     "metadata": {},
     "output_type": "execute_result"
    }
   ],
   "source": [
    "(oc.vertexes['j'] - oc.vertexes['k']).length"
   ]
  },
  {
   "cell_type": "markdown",
   "id": "2d0be94c-3a5a-484e-9851-ddc0dfb61547",
   "metadata": {},
   "source": [
    "... or 1, in other words (floating point numbers come with rounding errors).  The octahedron has edges 1, thanks to initially chosen **i**, **j**, **k**, **l**, **m** and **n**."
   ]
  },
  {
   "cell_type": "markdown",
   "id": "063b25da-7655-4e36-a10d-60a1face9b74",
   "metadata": {},
   "source": [
    "### A Segue to Trig\n",
    "\n",
    "\n",
    "A big part of high school mathematics is figuring out information about a triangle, given some starting information and a few rules (or laws).  The laws of deduction drive our \"omni-triangulating\" detective work.\n",
    "\n",
    "Given any two vectors with a common origin (which is what our Vectors tend to have, absent any translation method to move them around), it makes sense to wonder about the measure of the angle between them.  \n",
    "\n",
    "If these two vectors are pegged to specific points in XYZ space, that angle should be both definite and computable, and it is, with trigonometry.\n",
    "\n",
    "For example, if you have Vector A from (0,0,0) to (1,1,1) and Vector B from (0,0,0) to (1,0,0), what is the angle between them?  \n",
    "\n",
    "![magic angle](https://upload.wikimedia.org/wikipedia/commons/thumb/e/e3/Magic_angle.svg/320px-Magic_angle.svg.png)\n",
    "[Attribution](https://commons.wikimedia.org/wiki/File:Magic_angle.svg)"
   ]
  },
  {
   "cell_type": "code",
   "execution_count": 20,
   "id": "b4fde161-581e-4ce9-ae82-4a258ed86d7a",
   "metadata": {},
   "outputs": [
    {
     "data": {
      "text/plain": [
       "54.735610317245346"
      ]
     },
     "execution_count": 20,
     "metadata": {},
     "output_type": "execute_result"
    }
   ],
   "source": [
    "vA = Vector(1,1,1)\n",
    "vB = Vector(1,0,0)\n",
    "vA.angle(vB)"
   ]
  },
  {
   "cell_type": "markdown",
   "id": "522e0dec-1c26-4ba4-b0e8-54bff3fcafa8",
   "metadata": {},
   "source": [
    "Vector A may be envisioned as the body diagonal of a cube, versus Vector B which is along an edge.  The angle between them is known as [the \"magic angle\"](https://en.wikipedia.org/wiki/Magic_angle) in some circles.  \n",
    "\n",
    "It's also half the angle between any two vectors from the center of a tetrahedron to two corners.\n",
    "\n",
    "<a data-flickr-embed=\"true\" href=\"https://www.flickr.com/photos/kirbyurner/52191414643/in/dateposted-public/\" title=\"render_me\"><img src=\"https://live.staticflickr.com/65535/52191414643_5cec219945_o.jpg\" width=\"280\" height=\"280\" alt=\"render_me\"></a><script async src=\"//embedr.flickr.com/assets/client-code.js\" charset=\"utf-8\"></script>"
   ]
  },
  {
   "cell_type": "code",
   "execution_count": 21,
   "id": "6efbdc56-31d0-4a9b-a7c2-9ae7021a555b",
   "metadata": {},
   "outputs": [],
   "source": [
    "a = Vector(x =  0.35355339059327373, \n",
    "           y =  0.35355339059327373, \n",
    "           z =  0.35355339059327373)\n",
    "\n",
    "b = Vector(x = -0.35355339059327373, \n",
    "           y = -0.35355339059327373, \n",
    "           z =  0.35355339059327373)"
   ]
  },
  {
   "cell_type": "code",
   "execution_count": 17,
   "id": "24ff4c53-e356-4915-9faa-b6136699f3e6",
   "metadata": {},
   "outputs": [
    {
     "data": {
      "text/plain": [
       "109.47122063449069"
      ]
     },
     "execution_count": 17,
     "metadata": {},
     "output_type": "execute_result"
    }
   ],
   "source": [
    "a.angle(b)"
   ]
  },
  {
   "cell_type": "code",
   "execution_count": 18,
   "id": "52717e96-9760-4e90-85dd-15f745ace6f0",
   "metadata": {},
   "outputs": [
    {
     "data": {
      "text/plain": [
       "54.735610317245346"
      ]
     },
     "execution_count": 18,
     "metadata": {},
     "output_type": "execute_result"
    }
   ],
   "source": [
    "a.angle(b)/2"
   ]
  },
  {
   "cell_type": "markdown",
   "id": "5ab236d3-71e4-4ee2-9a1a-679fe68c5f1d",
   "metadata": {},
   "source": [
    "The sine of angle theta in a right triangle is the ratio of two lengths:\n",
    "\n",
    "side opposite theta / hypotenuse.\n",
    "\n",
    "The cosine of theta in a right triangle is the ratio of: \n",
    "\n",
    "side defining theta (adjacent) / hypotenuse.\n",
    "\n",
    "If you already know opposite / hypotenuse and want to find theta, use the inverse function arcsin (asin in Python's math module).\n",
    "\n",
    "If you have adjacent / hypotenuse handy, use arccos (acos in Python's math module) to get theta. \n",
    "\n",
    "![magic angle](https://upload.wikimedia.org/wikipedia/commons/thumb/e/e3/Magic_angle.svg/320px-Magic_angle.svg.png)\n",
    "[Attribution](https://commons.wikimedia.org/wiki/File:Magic_angle.svg)"
   ]
  },
  {
   "cell_type": "code",
   "execution_count": 23,
   "id": "ee35ce68-a3b9-4133-9df6-52e69c60fc30",
   "metadata": {},
   "outputs": [
    {
     "data": {
      "text/plain": [
       "54.73561031724536"
      ]
     },
     "execution_count": 23,
     "metadata": {},
     "output_type": "execute_result"
    }
   ],
   "source": [
    "math.degrees(math.asin(math.sqrt(2)/math.sqrt(3)))"
   ]
  },
  {
   "cell_type": "code",
   "execution_count": 24,
   "id": "16cdc07d-0ff1-4440-9c97-708ed1ffe461",
   "metadata": {},
   "outputs": [
    {
     "data": {
      "text/plain": [
       "54.735610317245346"
      ]
     },
     "execution_count": 24,
     "metadata": {},
     "output_type": "execute_result"
    }
   ],
   "source": [
    "math.degrees(math.acos(1/math.sqrt(3)))"
   ]
  },
  {
   "cell_type": "markdown",
   "id": "d84f068a-208b-48f7-a9c7-e0cdb55ad62b",
   "metadata": {},
   "source": [
    "### Segue to Complex Numbers\n",
    "\n",
    "Complex numbers may be represented on what many call an Argand Plane (because Argand popularized its usage).  Clearly we have an (i, j) Vector of some kind.  Trigonometry will enter into it.\n",
    "\n",
    "![Argand Diagram](https://upload.wikimedia.org/wikipedia/commons/thumb/5/50/A_plus_bi.svg/320px-A_plus_bi.svg.png)"
   ]
  },
  {
   "cell_type": "code",
   "execution_count": 11,
   "id": "9619f568-8abf-497e-a39a-02848f642a6d",
   "metadata": {},
   "outputs": [],
   "source": [
    "import cmath, math"
   ]
  },
  {
   "cell_type": "markdown",
   "id": "6718beee-c830-4fb5-a511-419b47be895b",
   "metadata": {},
   "source": [
    "[Python cmath.polar at W3](https://www.w3schools.com/python/ref_cmath_polar.asp)"
   ]
  },
  {
   "cell_type": "code",
   "execution_count": 13,
   "id": "d9c6e48e-90dd-4962-b79e-70bdbca589ef",
   "metadata": {},
   "outputs": [
    {
     "data": {
      "text/plain": [
       "(2.8284271247461903, 0.7853981633974483)"
      ]
     },
     "execution_count": 13,
     "metadata": {},
     "output_type": "execute_result"
    }
   ],
   "source": [
    "c = complex(2,2)\n",
    "r, theta = cmath.polar(c)\n",
    "r, theta"
   ]
  },
  {
   "cell_type": "code",
   "execution_count": 14,
   "id": "00445d80-ad28-437a-969a-a8152b227c24",
   "metadata": {},
   "outputs": [
    {
     "data": {
      "text/plain": [
       "45.0"
      ]
     },
     "execution_count": 14,
     "metadata": {},
     "output_type": "execute_result"
    }
   ],
   "source": [
    "math.degrees(theta)"
   ]
  }
 ],
 "metadata": {
  "kernelspec": {
   "display_name": "Python 3 (ipykernel)",
   "language": "python",
   "name": "python3"
  },
  "language_info": {
   "codemirror_mode": {
    "name": "ipython",
    "version": 3
   },
   "file_extension": ".py",
   "mimetype": "text/x-python",
   "name": "python",
   "nbconvert_exporter": "python",
   "pygments_lexer": "ipython3",
   "version": "3.9.12"
  }
 },
 "nbformat": 4,
 "nbformat_minor": 5
}
