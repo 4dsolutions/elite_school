{
 "cells": [
  {
   "cell_type": "markdown",
   "id": "1fb52167-cd9e-440d-83c4-561b10a521b8",
   "metadata": {
    "tags": []
   },
   "source": [
    "### Introduction\n",
    "\n",
    "Here I am learning Markdown.  I am doing Literate Programming, as envisioned by Dr. Knuth."
   ]
  },
  {
   "cell_type": "code",
   "execution_count": 1,
   "id": "680346f0-204b-4d71-b8b4-87d15bdf711b",
   "metadata": {},
   "outputs": [
    {
     "data": {
      "text/plain": [
       "4"
      ]
     },
     "execution_count": 1,
     "metadata": {},
     "output_type": "execute_result"
    }
   ],
   "source": [
    "2 + 2"
   ]
  },
  {
   "cell_type": "code",
   "execution_count": 2,
   "id": "458630f8-8f37-4001-b1a3-f0f076e80417",
   "metadata": {},
   "outputs": [
    {
     "data": {
      "text/plain": [
       "0.5"
      ]
     },
     "execution_count": 2,
     "metadata": {},
     "output_type": "execute_result"
    }
   ],
   "source": [
    "10/20"
   ]
  },
  {
   "cell_type": "code",
   "execution_count": 3,
   "id": "f183ee8f-cebd-4aee-9c1e-becc09147d9a",
   "metadata": {},
   "outputs": [],
   "source": [
    "class Python:\n",
    "    \n",
    "    def __init__(self, nm):\n",
    "        self.name = nm\n",
    "        self.stomach = [ ]\n",
    "        \n",
    "    def eat(self, food):\n",
    "        self.stomach.append(food)\n",
    "    \n",
    "    def __repr__(self):\n",
    "        # also the repper\n",
    "        return \"I'm a Python named \" + self.name"
   ]
  },
  {
   "cell_type": "code",
   "execution_count": 4,
   "id": "245bedb0-8d29-4161-b4b4-0c87c4a028ef",
   "metadata": {},
   "outputs": [],
   "source": [
    "snake = Python(\"Barry\")"
   ]
  },
  {
   "cell_type": "code",
   "execution_count": 5,
   "id": "e2750ed2-77ab-4f0e-85fe-e6d428fe0232",
   "metadata": {},
   "outputs": [
    {
     "data": {
      "text/plain": [
       "I'm a Python named Barry"
      ]
     },
     "execution_count": 5,
     "metadata": {},
     "output_type": "execute_result"
    }
   ],
   "source": [
    "snake"
   ]
  },
  {
   "cell_type": "code",
   "execution_count": 6,
   "id": "f6685e0e-dfb0-45fc-8351-1c049db6cc4b",
   "metadata": {},
   "outputs": [
    {
     "data": {
      "text/plain": [
       "'Barry'"
      ]
     },
     "execution_count": 6,
     "metadata": {},
     "output_type": "execute_result"
    }
   ],
   "source": [
    "snake.name"
   ]
  },
  {
   "cell_type": "code",
   "execution_count": 7,
   "id": "f0e5e2a3-e082-4255-bcb9-886ec995e5c5",
   "metadata": {},
   "outputs": [
    {
     "data": {
      "text/plain": [
       "[]"
      ]
     },
     "execution_count": 7,
     "metadata": {},
     "output_type": "execute_result"
    }
   ],
   "source": [
    "snake.stomach"
   ]
  },
  {
   "cell_type": "code",
   "execution_count": 8,
   "id": "b5bc34a3-b5dd-4bda-ba5f-e9c4d9200b35",
   "metadata": {},
   "outputs": [],
   "source": [
    "snake.eat(\"gum drop\")"
   ]
  },
  {
   "cell_type": "code",
   "execution_count": 9,
   "id": "51d281e5-5c12-4ba1-8dd6-b0703e10e100",
   "metadata": {},
   "outputs": [
    {
     "data": {
      "text/plain": [
       "['gum drop']"
      ]
     },
     "execution_count": 9,
     "metadata": {},
     "output_type": "execute_result"
    }
   ],
   "source": [
    "snake.stomach"
   ]
  },
  {
   "cell_type": "code",
   "execution_count": 10,
   "id": "d6dcbc08-b882-4fbe-a0c1-086d0ffa7c9b",
   "metadata": {},
   "outputs": [],
   "source": [
    "snake2 = Python(\"Chill Jill\")"
   ]
  },
  {
   "cell_type": "code",
   "execution_count": 11,
   "id": "530cbfc3-8974-4b2f-88a7-98744f4d49f3",
   "metadata": {},
   "outputs": [
    {
     "data": {
      "text/plain": [
       "I'm a Python named Chill Jill"
      ]
     },
     "execution_count": 11,
     "metadata": {},
     "output_type": "execute_result"
    }
   ],
   "source": [
    "snake2"
   ]
  },
  {
   "cell_type": "code",
   "execution_count": 12,
   "id": "316e3452-050f-4fd1-91c5-cc7d073d7cf2",
   "metadata": {},
   "outputs": [
    {
     "data": {
      "text/plain": [
       "'Chill Jill'"
      ]
     },
     "execution_count": 12,
     "metadata": {},
     "output_type": "execute_result"
    }
   ],
   "source": [
    "snake2.name"
   ]
  },
  {
   "cell_type": "code",
   "execution_count": 13,
   "id": "6b4a1100-553a-443e-bef4-2019c2babcfe",
   "metadata": {},
   "outputs": [
    {
     "data": {
      "text/plain": [
       "{'name': 'Chill Jill', 'stomach': []}"
      ]
     },
     "execution_count": 13,
     "metadata": {},
     "output_type": "execute_result"
    }
   ],
   "source": [
    "snake2.__dict__"
   ]
  }
 ],
 "metadata": {
  "kernelspec": {
   "display_name": "Python 3 (ipykernel)",
   "language": "python",
   "name": "python3"
  },
  "language_info": {
   "codemirror_mode": {
    "name": "ipython",
    "version": 3
   },
   "file_extension": ".py",
   "mimetype": "text/x-python",
   "name": "python",
   "nbconvert_exporter": "python",
   "pygments_lexer": "ipython3",
   "version": "3.9.12"
  }
 },
 "nbformat": 4,
 "nbformat_minor": 5
}
