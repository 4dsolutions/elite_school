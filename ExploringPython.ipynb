{
 "cells": [
  {
   "cell_type": "markdown",
   "id": "07f00cf3-cc25-4026-86e3-2755195b416a",
   "metadata": {},
   "source": [
    "##### Algorithms and Data Structures (Winter - Spring 2022)\n",
    "\n",
    "* [Table of Contents](ADS_TOC.ipynb)\n",
    "* <a href=\"https://colab.research.google.com/github/4dsolutions/elite_school/blob/master/ExploringPython.ipynb\"><img align=\"left\" src=\"https://colab.research.google.com/assets/colab-badge.svg\" alt=\"Open in Colab\" title=\"Open and Execute in Google Colaboratory\"></a>\n",
    "* [![nbviewer](https://raw.githubusercontent.com/jupyter/design/master/logos/Badges/nbviewer_badge.svg)](https://nbviewer.org/github/4dsolutions/elite_school/blob/master/ExploringPython.ipynb)\n",
    "\n",
    "## School of Tomorrow\n",
    "\n",
    "The idea of a school in the future provides a good excuse to learn and/or review our tools.  \n",
    "\n",
    "In reality, your school math courses may require you to buy a scientific calculator.  It's not either/or.  These tools are free, once you have the hardware on which to install them."
   ]
  },
  {
   "cell_type": "markdown",
   "id": "faffa38b-1c1c-43c5-a79d-329dd27be85d",
   "metadata": {},
   "source": [
    "#### Dimensions of Python\n",
    "\n",
    "1. keywords and punctuation (syntax)\n",
    "2. builtins as in `dir(__builtins__)`\n",
    "3. `__special_names__` (also `__ribs__`)\n",
    "4. Standard Library (hundreds of modules)\n",
    "5. 3rd Party (thousands of packages and modules)\n",
    "\n",
    "1-4 might be called \"core Python\"."
   ]
  },
  {
   "cell_type": "code",
   "execution_count": null,
   "id": "7730c61f-f3ce-4bcb-93b9-87f346ee6734",
   "metadata": {},
   "outputs": [],
   "source": []
  },
  {
   "cell_type": "code",
   "execution_count": null,
   "id": "0515b53a-ae1c-4780-b12c-c4db3b6a707a",
   "metadata": {},
   "outputs": [],
   "source": []
  },
  {
   "cell_type": "code",
   "execution_count": null,
   "id": "33fc30d6-07e2-478e-9e0e-2d48fbd9b4fc",
   "metadata": {},
   "outputs": [],
   "source": []
  },
  {
   "cell_type": "code",
   "execution_count": null,
   "id": "bfbf2da5-2cda-4956-a710-2c7a497c1320",
   "metadata": {},
   "outputs": [],
   "source": []
  },
  {
   "cell_type": "markdown",
   "id": "308ee8b1-b61f-4068-b338-62ee7cc6791c",
   "metadata": {},
   "source": [
    "## Topics in Core Python\n",
    "\n",
    "* Decorators\n",
    "* Context Managers\n",
    "* Properties\n",
    "\n",
    "The above topics are above \"beginner\" level.  It's possible to be productive in Python without knowing about the above."
   ]
  },
  {
   "cell_type": "markdown",
   "id": "1aebb044-9a31-41bb-bc77-0a6225d87a13",
   "metadata": {},
   "source": [
    "#### Decorators\n",
    "\n",
    "A decorator swallows the callable it decorates and returns a new object of the same name.\n",
    "\n",
    "The process is a somewhat analogous to \"abuction\" in UFO science fiction.  An object is transformed without making it too obvious."
   ]
  },
  {
   "cell_type": "code",
   "execution_count": 37,
   "id": "d5e6f493-bea7-4763-be8c-b84be5f52030",
   "metadata": {},
   "outputs": [],
   "source": [
    "class UFO:\n",
    "    \"\"\"\n",
    "    I'm from Mars!\n",
    "    \"\"\"\n",
    "    \n",
    "    def __init__(self, F): # abduct\n",
    "        self.mark = '  '\n",
    "        self.F = F\n",
    "        self.__doc__ = F.__doc__\n",
    "        \n",
    "    def __call__(self, x):\n",
    "        return self.F(x)  # stored function\n",
    "    \n",
    "    def __repr__(self):\n",
    "        return f\"Abducted_Function: {self.F.__doc__.strip()}\"\n",
    "\n",
    "@UFO\n",
    "def anyF(x):\n",
    "    \"\"\"\n",
    "    I'm a function: anyF\n",
    "    \"\"\"\n",
    "    return x"
   ]
  },
  {
   "cell_type": "code",
   "execution_count": 19,
   "id": "04b8c4ab-d45c-48e7-be39-50cf6683ec23",
   "metadata": {},
   "outputs": [
    {
     "data": {
      "text/plain": [
       "10"
      ]
     },
     "execution_count": 19,
     "metadata": {},
     "output_type": "execute_result"
    }
   ],
   "source": [
    "anyF(10)"
   ]
  },
  {
   "cell_type": "code",
   "execution_count": 20,
   "id": "0f1e9d31-f177-4e17-88c4-27d7ba8cdb06",
   "metadata": {},
   "outputs": [
    {
     "data": {
      "text/plain": [
       "Abducted_Function: I'm a function: anyF"
      ]
     },
     "execution_count": 20,
     "metadata": {},
     "output_type": "execute_result"
    }
   ],
   "source": [
    "anyF"
   ]
  },
  {
   "cell_type": "code",
   "execution_count": 21,
   "id": "5039b1a2-5fd1-4ba0-a7a9-ffb894529e69",
   "metadata": {},
   "outputs": [
    {
     "name": "stdout",
     "output_type": "stream",
     "text": [
      "\n",
      "    I'm a function: anyF\n",
      "    \n"
     ]
    }
   ],
   "source": [
    "print(anyF.__doc__)"
   ]
  },
  {
   "cell_type": "markdown",
   "id": "b2b07102-2b6e-4179-a30d-81009deace55",
   "metadata": {},
   "source": [
    "*What's a Practical Application?*\n",
    "\n",
    "How about Function Composition?\n",
    "\n",
    "Suppose you want to write `g(f(x))` as a pipeline of functions: `(g @ f)(x)`.  These would mean the same thing:  do f to x, then do g to the result. "
   ]
  },
  {
   "cell_type": "code",
   "execution_count": 46,
   "id": "7d848427-df77-40d3-af5e-b7bade05d8a9",
   "metadata": {},
   "outputs": [],
   "source": [
    "class Compose:\n",
    "    \"\"\"\n",
    "    Make me into a function that knows how to @\n",
    "    with another function\n",
    "    \"\"\"\n",
    "    \n",
    "    def __init__(self, F):\n",
    "        self.func = F\n",
    "        \n",
    "    def __call__(self, val):\n",
    "        return self.func(val)\n",
    "    \n",
    "    def __matmul__(self, other):\n",
    "        return Compose(lambda x: self(other(x)))\n",
    "    \n",
    "@Compose\n",
    "def g(x):\n",
    "    return x + 2\n",
    "\n",
    "@Compose\n",
    "def h(x):\n",
    "    return 2 * x"
   ]
  },
  {
   "cell_type": "code",
   "execution_count": 39,
   "id": "89fa8cd0-7aa4-4fe9-ae29-34cd4dd968de",
   "metadata": {},
   "outputs": [
    {
     "data": {
      "text/plain": [
       "12"
      ]
     },
     "execution_count": 39,
     "metadata": {},
     "output_type": "execute_result"
    }
   ],
   "source": [
    "g(10)"
   ]
  },
  {
   "cell_type": "code",
   "execution_count": 40,
   "id": "348cfce8-42d8-48b3-a6f5-cd30456bb887",
   "metadata": {},
   "outputs": [
    {
     "data": {
      "text/plain": [
       "20"
      ]
     },
     "execution_count": 40,
     "metadata": {},
     "output_type": "execute_result"
    }
   ],
   "source": [
    "h(10)"
   ]
  },
  {
   "cell_type": "code",
   "execution_count": 41,
   "id": "dacd4566-6c4a-47fd-8525-242c82b58b1a",
   "metadata": {},
   "outputs": [
    {
     "data": {
      "text/plain": [
       "24"
      ]
     },
     "execution_count": 41,
     "metadata": {},
     "output_type": "execute_result"
    }
   ],
   "source": [
    "h(g(10))"
   ]
  },
  {
   "cell_type": "code",
   "execution_count": 42,
   "id": "9195a23c-f1e3-4a8e-9070-07d0ec4ff26f",
   "metadata": {},
   "outputs": [
    {
     "data": {
      "text/plain": [
       "22"
      ]
     },
     "execution_count": 42,
     "metadata": {},
     "output_type": "execute_result"
    }
   ],
   "source": [
    "g(h(10))"
   ]
  },
  {
   "cell_type": "code",
   "execution_count": 47,
   "id": "22101692-b39c-428a-88ca-7b3344ae34a3",
   "metadata": {},
   "outputs": [
    {
     "data": {
      "text/plain": [
       "24"
      ]
     },
     "execution_count": 47,
     "metadata": {},
     "output_type": "execute_result"
    }
   ],
   "source": [
    "(h @ g)(10)"
   ]
  },
  {
   "cell_type": "code",
   "execution_count": 48,
   "id": "b8c1d3ae-35f9-464a-8e5d-5f36dc0760cc",
   "metadata": {},
   "outputs": [
    {
     "data": {
      "text/plain": [
       "22"
      ]
     },
     "execution_count": 48,
     "metadata": {},
     "output_type": "execute_result"
    }
   ],
   "source": [
    "(g @ h)(10)"
   ]
  },
  {
   "cell_type": "code",
   "execution_count": 49,
   "id": "0762de35-55ad-4f5e-b792-b6f0b22759b3",
   "metadata": {},
   "outputs": [
    {
     "data": {
      "text/plain": [
       "160"
      ]
     },
     "execution_count": 49,
     "metadata": {},
     "output_type": "execute_result"
    }
   ],
   "source": [
    "(h @ h @ h @ h)(10)"
   ]
  },
  {
   "cell_type": "code",
   "execution_count": null,
   "id": "14fdd0d1-a8df-4618-8570-cbb320d398a0",
   "metadata": {},
   "outputs": [],
   "source": []
  },
  {
   "cell_type": "code",
   "execution_count": null,
   "id": "f8575732-4585-4a6e-addf-ac53fd3852f3",
   "metadata": {},
   "outputs": [],
   "source": []
  },
  {
   "cell_type": "code",
   "execution_count": null,
   "id": "de33b022-d89e-4b4d-af59-e91f4a201826",
   "metadata": {},
   "outputs": [],
   "source": []
  },
  {
   "cell_type": "code",
   "execution_count": null,
   "id": "a9261cbb-ca8c-4abb-98e7-9d62154c00e0",
   "metadata": {},
   "outputs": [],
   "source": []
  },
  {
   "cell_type": "markdown",
   "id": "4b87e55f-ec9f-420a-a537-29962372c46b",
   "metadata": {},
   "source": [
    "#### Context Managers"
   ]
  },
  {
   "cell_type": "code",
   "execution_count": 60,
   "id": "840e41c8-5a20-4bae-a032-e26155720092",
   "metadata": {},
   "outputs": [],
   "source": [
    "class Castle:\n",
    "    \n",
    "    def __enter__(self):\n",
    "        print(\"Welcome\")\n",
    "        return self\n",
    "        \n",
    "    def play(self):\n",
    "        return \"Let's play a game!\"\n",
    "        \n",
    "    def __exit__(self, *oops):\n",
    "        print(\"Come again\")\n",
    "        \n",
    "    def __repr__(self):\n",
    "        return \"Hear me roar!\""
   ]
  },
  {
   "cell_type": "code",
   "execution_count": 61,
   "id": "1a29c3e9-3cdd-4384-bf4f-d25c55ce59c0",
   "metadata": {},
   "outputs": [
    {
     "name": "stdout",
     "output_type": "stream",
     "text": [
      "Welcome\n",
      "Let's play a game!\n",
      "Come again\n"
     ]
    }
   ],
   "source": [
    "with Castle() as keep:\n",
    "    print(keep.play()) "
   ]
  },
  {
   "cell_type": "code",
   "execution_count": null,
   "id": "3ead1691-be1d-490f-b311-af8a87f9d9ce",
   "metadata": {},
   "outputs": [],
   "source": []
  },
  {
   "cell_type": "code",
   "execution_count": null,
   "id": "66c24032-5170-4fca-b9f7-2b7216fb1d32",
   "metadata": {},
   "outputs": [],
   "source": []
  },
  {
   "cell_type": "code",
   "execution_count": 153,
   "id": "9e205a59-da93-4a44-8faf-245ba60e7272",
   "metadata": {},
   "outputs": [],
   "source": [
    "import sqlite3 as sql\n",
    "\n",
    "class DB:\n",
    "    \n",
    "    def __init__(self, name):\n",
    "        self.name = name\n",
    "    \n",
    "    def __enter__(self):\n",
    "        self.conn = sql.connect(self.name)\n",
    "        self.curs = self.conn.cursor()\n",
    "        return self\n",
    "        \n",
    "    def __exit__(self, *oops):\n",
    "        self.conn.close()"
   ]
  },
  {
   "cell_type": "code",
   "execution_count": 160,
   "id": "2971e4bc-98ce-450f-9150-547f107923d7",
   "metadata": {},
   "outputs": [
    {
     "name": "stdout",
     "output_type": "stream",
     "text": [
      "Afterburner                                        USA                 \n",
      "Alpengeist                                         USA                 \n",
      "American Eagle                                     USA                 \n",
      "Apollo's Chariot                                   USA                 \n",
      "Batman Knight Flight                               USA                 \n",
      "Beast                                              USA                 \n",
      "Blue Streak                                        USA                 \n",
      "Boss                                               USA                 \n",
      "Cannon Ball                                        USA                 \n",
      "Canyon Blaster                                     USA                 \n",
      "Chang                                              USA                 \n",
      "Cheetah                                            USA                 \n",
      "Coaster Thrill Ride                                USA                 \n",
      "Colossus                                           USA                 \n",
      "Comet                                              USA                 \n",
      "Corkscrew                                          USA                 \n",
      "Deja Vu                                            USA                 \n",
      "Desperado                                          USA                 \n",
      "Fujiyama                                           Japan               \n",
      "Goliath                                            USA                 \n",
      "Great American Scream Machine                      USA                 \n",
      "Hangman                                            USA                 \n",
      "Hayabusa                                           Japan               \n",
      "Hercules                                           USA                 \n",
      "Hurricane                                          USA                 \n",
      "HyperSonic XLC                                     USA                 \n",
      "Incredible Hulk                                    USA                 \n",
      "Invertigo                                          USA                 \n",
      "Iron Wolf                                          USA                 \n",
      "Kong                                               USA                 \n",
      "Kraken                                             USA                 \n",
      "Magnum XL-200                                      USA                 \n",
      "Mamba                                              USA                 \n",
      "Manhattan Express                                  USA                 \n",
      "Mean Streak                                        USA                 \n",
      "Medusa                                             USA                 \n",
      "Millennium Force                                   USA                 \n",
      "Mind Eraser                                        USA                 \n",
      "New Mexico Rattler                                 USA                 \n",
      "Nitro                                              USA                 \n",
      "Oblivion                                           England             \n",
      "Orient Express                                     USA                 \n",
      "Phantom's Revenge                                  USA                 \n",
      "Raging Bull                                        USA                 \n",
      "Rattler                                            USA                 \n",
      "Riddler's Revenge                                  USA                 \n",
      "Scream!                                            USA                 \n",
      "Screamin' Eagle                                    USA                 \n",
      "Silver Bullet                                      USA                 \n",
      "Son Of Beast                                       USA                 \n",
      "Starliner                                          USA                 \n",
      "Steel Dragon 2000                                  Japan               \n",
      "Steel Eel                                          USA                 \n",
      "Steel Force                                        USA                 \n",
      "Stunt Fall                                         Spain               \n",
      "Superman - Ride Of Steel                           USA                 \n",
      "Superman The Escape                                USA                 \n",
      "T2                                                 USA                 \n",
      "Tennessee Tornado                                  USA                 \n",
      "Texas Giant                                        USA                 \n",
      "Thunder Dolphin                                    Japan               \n",
      "Thunderbolt                                        USA                 \n",
      "Timber Wolf                                        USA                 \n",
      "Titan                                              Japan               \n",
      "Top Gun                                            Canada              \n",
      "Top Thrill Dragster                                USA                 \n",
      "Tower of Terror                                    Australia           \n",
      "Viper                                              USA                 \n",
      "Volcano                                            USA                 \n",
      "Whizzer                                            USA                 \n",
      "Wild Beast                                         Canada              \n",
      "Wild One                                           USA                 \n",
      "Wild Thing                                         USA                 \n",
      "Wildfire                                           USA                 \n",
      "X                                                  USA                 \n",
      "Xcelerator                                         USA                 \n"
     ]
    }
   ],
   "source": [
    "with DB(\"roller_coasters.db\") as db:\n",
    "    db.curs.execute(\"SELECT Name, Country FROM Coasters ORDER BY Name\")\n",
    "    for rec in db.curs.fetchall():\n",
    "        print(\"{:50} {:20}\".format(rec[0], rec[1]))"
   ]
  },
  {
   "cell_type": "markdown",
   "id": "ab9b57d7-2959-4c46-aed0-bdf3462a76fe",
   "metadata": {},
   "source": [
    "#### Properties\n",
    "\n",
    "Properties are implemented using decorators.  By decorating a method, you can make it behave like an attribute."
   ]
  },
  {
   "cell_type": "code",
   "execution_count": 161,
   "id": "a9ae3932-86c3-4281-b56d-d352b86777b3",
   "metadata": {},
   "outputs": [],
   "source": [
    "class Sequence:\n",
    "    \n",
    "    def __init__(self, s):\n",
    "        self.seq = s\n",
    "    \n",
    "    @property\n",
    "    def average(self):\n",
    "        return sum(self.seq)/len(self.seq)"
   ]
  },
  {
   "cell_type": "code",
   "execution_count": 163,
   "id": "2b5531c6-cd02-4b84-88e4-c8baeb9079c8",
   "metadata": {},
   "outputs": [
    {
     "data": {
      "text/plain": [
       "5.0"
      ]
     },
     "execution_count": 163,
     "metadata": {},
     "output_type": "execute_result"
    }
   ],
   "source": [
    "mynums = Sequence((1,2,3,4,5,6,7,8,9))\n",
    "mynums.average"
   ]
  },
  {
   "cell_type": "code",
   "execution_count": 62,
   "id": "9889c2ba-ff86-459f-99e6-685b465d06fb",
   "metadata": {},
   "outputs": [],
   "source": [
    "import magic_circle_v2 as circle"
   ]
  },
  {
   "cell_type": "code",
   "execution_count": 63,
   "id": "198ea6d2-3430-49a7-952d-3cad7435c9ff",
   "metadata": {},
   "outputs": [],
   "source": [
    "zone = circle.Circle(5)"
   ]
  },
  {
   "cell_type": "code",
   "execution_count": 64,
   "id": "d4c8c305-eca1-42b3-b9fc-fa81e95392e9",
   "metadata": {},
   "outputs": [
    {
     "data": {
      "text/plain": [
       "5"
      ]
     },
     "execution_count": 64,
     "metadata": {},
     "output_type": "execute_result"
    }
   ],
   "source": [
    "zone.radius"
   ]
  },
  {
   "cell_type": "code",
   "execution_count": 65,
   "id": "f3464f13-cf80-40a3-b9bf-311cc941f9b6",
   "metadata": {},
   "outputs": [
    {
     "data": {
      "text/plain": [
       "31.41592653589793"
      ]
     },
     "execution_count": 65,
     "metadata": {},
     "output_type": "execute_result"
    }
   ],
   "source": [
    "zone.circumference"
   ]
  },
  {
   "cell_type": "code",
   "execution_count": 66,
   "id": "a11e16cc-c1d5-47cb-83c1-913079011643",
   "metadata": {},
   "outputs": [
    {
     "data": {
      "text/plain": [
       "78.53981633974483"
      ]
     },
     "execution_count": 66,
     "metadata": {},
     "output_type": "execute_result"
    }
   ],
   "source": [
    "zone.area"
   ]
  },
  {
   "cell_type": "code",
   "execution_count": 67,
   "id": "97edd762-d0a7-4e1d-8e97-a3848f7f6a95",
   "metadata": {},
   "outputs": [],
   "source": [
    "zone.area = 10"
   ]
  },
  {
   "cell_type": "code",
   "execution_count": 69,
   "id": "a73cb356-f81d-4be4-83af-c348d57764bd",
   "metadata": {},
   "outputs": [
    {
     "data": {
      "text/plain": [
       "1.7841241161527712"
      ]
     },
     "execution_count": 69,
     "metadata": {},
     "output_type": "execute_result"
    }
   ],
   "source": [
    "zone.radius"
   ]
  },
  {
   "cell_type": "code",
   "execution_count": null,
   "id": "455e0a25-1fd1-4c88-b2ec-77df6d980725",
   "metadata": {},
   "outputs": [],
   "source": []
  },
  {
   "cell_type": "code",
   "execution_count": null,
   "id": "fc4433ce-26c5-4549-af36-6d09d9ee96dc",
   "metadata": {},
   "outputs": [],
   "source": []
  },
  {
   "cell_type": "code",
   "execution_count": null,
   "id": "f363ee29-b0a9-4779-b1a7-5cd55c752944",
   "metadata": {},
   "outputs": [],
   "source": []
  },
  {
   "cell_type": "markdown",
   "id": "2b959e24-5c13-4f25-91f8-48ef84ee4a29",
   "metadata": {},
   "source": [
    "## 3rd Party Packages\n",
    "\n",
    "* sympy\n",
    "* numpy\n",
    "* matplotlib\n",
    "* pandas"
   ]
  },
  {
   "cell_type": "markdown",
   "id": "b8588571-b782-4b0f-b1e2-a9bc89d4d1c2",
   "metadata": {},
   "source": [
    "#### Sympy"
   ]
  },
  {
   "cell_type": "code",
   "execution_count": 71,
   "id": "06262a86-c2f7-4bfd-bd5d-24b38ef5201f",
   "metadata": {},
   "outputs": [],
   "source": [
    "import sympy as sp"
   ]
  },
  {
   "cell_type": "markdown",
   "id": "80d5d0b9-ce32-4433-9cf4-ce4b6608e688",
   "metadata": {},
   "source": [
    "![Gaussian](https://www.gstatic.com/education/formulas2/443397389/en/normal_distribution.svg)"
   ]
  },
  {
   "cell_type": "code",
   "execution_count": 88,
   "id": "a9ffc9c6-eafc-4434-93b8-8643cba1865f",
   "metadata": {},
   "outputs": [],
   "source": [
    "x, σ, μ = sp.symbols(['x','σ', 'μ'])"
   ]
  },
  {
   "cell_type": "code",
   "execution_count": 89,
   "id": "61fa17d9-5d06-4ce4-9f98-5be46af577d6",
   "metadata": {},
   "outputs": [],
   "source": [
    "f = sp.Symbol('f')"
   ]
  },
  {
   "cell_type": "code",
   "execution_count": 96,
   "id": "9d50f136-c752-4798-a4c8-5157e700ddc4",
   "metadata": {},
   "outputs": [
    {
     "data": {
      "text/latex": [
       "$\\displaystyle \\frac{\\sqrt{2}}{2 \\sqrt{\\pi} σ}$"
      ],
      "text/plain": [
       "sqrt(2)/(2*sqrt(pi)*σ)"
      ]
     },
     "execution_count": 96,
     "metadata": {},
     "output_type": "execute_result"
    }
   ],
   "source": [
    "expr1 = (1/(σ * sp.sqrt(2 * sp.pi)))\n",
    "expr1"
   ]
  },
  {
   "cell_type": "code",
   "execution_count": 126,
   "id": "b75d09e9-25de-400e-b448-4289fdc80323",
   "metadata": {},
   "outputs": [
    {
     "data": {
      "text/latex": [
       "$\\displaystyle e^{- \\frac{\\left(x - μ\\right)^{2}}{2 σ^{2}}}$"
      ],
      "text/plain": [
       "exp(-(x - μ)**2/(2*σ**2))"
      ]
     },
     "execution_count": 126,
     "metadata": {},
     "output_type": "execute_result"
    }
   ],
   "source": [
    "expr2 = sp.exp(sp.Rational(-1,2) * ((x - μ)/σ)**2)\n",
    "expr2"
   ]
  },
  {
   "cell_type": "code",
   "execution_count": 127,
   "id": "9ba1fb8d-75da-4097-a03f-b6ccce5db471",
   "metadata": {},
   "outputs": [],
   "source": [
    "gaussian = expr2 * expr1"
   ]
  },
  {
   "cell_type": "code",
   "execution_count": 128,
   "id": "4606d96b-422a-457b-9d96-62927dbab7e0",
   "metadata": {},
   "outputs": [
    {
     "data": {
      "text/latex": [
       "$\\displaystyle \\frac{\\sqrt{2} e^{- \\frac{x^{2}}{2}}}{2 \\sqrt{\\pi}}$"
      ],
      "text/plain": [
       "sqrt(2)*exp(-x**2/2)/(2*sqrt(pi))"
      ]
     },
     "execution_count": 128,
     "metadata": {},
     "output_type": "execute_result"
    }
   ],
   "source": [
    "gaussian = gaussian.subs(μ, 0)\n",
    "gaussian = gaussian.subs(σ, 1)\n",
    "gaussian"
   ]
  },
  {
   "cell_type": "markdown",
   "id": "d5933f3c-9390-4436-8848-67df1cfc4965",
   "metadata": {},
   "source": [
    "#### Numpy"
   ]
  },
  {
   "cell_type": "code",
   "execution_count": 72,
   "id": "dd726fc5-28f8-4108-9065-474e472a9b68",
   "metadata": {},
   "outputs": [],
   "source": [
    "import numpy as np"
   ]
  },
  {
   "cell_type": "code",
   "execution_count": 73,
   "id": "dbe27937-b422-4f2a-8dd3-a8025f8f58de",
   "metadata": {},
   "outputs": [],
   "source": [
    "domain = np.linspace(-6, 6, 500)"
   ]
  },
  {
   "cell_type": "code",
   "execution_count": 164,
   "id": "ff4c5c12-e320-49b0-9404-27ef7eaec080",
   "metadata": {},
   "outputs": [
    {
     "data": {
      "text/plain": [
       "array([-6.        , -5.9759519 , -5.95190381, -5.92785571, -5.90380762,\n",
       "       -5.87975952, -5.85571142, -5.83166333, -5.80761523, -5.78356713])"
      ]
     },
     "execution_count": 164,
     "metadata": {},
     "output_type": "execute_result"
    }
   ],
   "source": [
    "domain[0:10]"
   ]
  },
  {
   "cell_type": "code",
   "execution_count": 165,
   "id": "502135d9-4946-4487-aba6-42cde23f08fa",
   "metadata": {},
   "outputs": [
    {
     "data": {
      "text/plain": [
       "array([5.78356713, 5.80761523, 5.83166333, 5.85571142, 5.87975952,\n",
       "       5.90380762, 5.92785571, 5.95190381, 5.9759519 , 6.        ])"
      ]
     },
     "execution_count": 165,
     "metadata": {},
     "output_type": "execute_result"
    }
   ],
   "source": [
    "domain[-10:]"
   ]
  },
  {
   "cell_type": "code",
   "execution_count": 166,
   "id": "79b38c76-16f0-40b4-a14d-73bc11bfbd00",
   "metadata": {},
   "outputs": [],
   "source": [
    "# make f ready to work with numpy\n",
    "f = sp.lambdify(x, gaussian, 'numpy')"
   ]
  },
  {
   "cell_type": "code",
   "execution_count": 137,
   "id": "a35217bb-b782-4cb6-8ecf-071b3d8ad771",
   "metadata": {},
   "outputs": [],
   "source": [
    "y_vals = f(domain)"
   ]
  },
  {
   "cell_type": "markdown",
   "id": "2937672f-0348-48d4-bdbb-c4e50baae758",
   "metadata": {},
   "source": [
    "#### Matplotlib"
   ]
  },
  {
   "cell_type": "code",
   "execution_count": 116,
   "id": "71ba3a3e-a525-46f7-9e2d-630d76bdd2fa",
   "metadata": {},
   "outputs": [],
   "source": [
    "import matplotlib.pyplot as plt"
   ]
  },
  {
   "cell_type": "code",
   "execution_count": 135,
   "id": "f7151e14-be3f-4ab9-8d30-791e53f9a465",
   "metadata": {},
   "outputs": [
    {
     "data": {
      "image/png": "[encoded data removed]",
      "text/plain": [
       "<Figure size 432x288 with 1 Axes>"
      ]
     },
     "metadata": {
      "needs_background": "light"
     },
     "output_type": "display_data"
    }
   ],
   "source": [
    "plt.plot(domain, f(domain));"
   ]
  },
  {
   "cell_type": "markdown",
   "id": "5e4667e0-a342-409f-b254-45e37e59daf7",
   "metadata": {},
   "source": [
    "#### Pandas"
   ]
  },
  {
   "cell_type": "code",
   "execution_count": 136,
   "id": "db74b1ae-c6ae-4bd9-b76f-87ae6945ed81",
   "metadata": {},
   "outputs": [],
   "source": [
    "import pandas as pd"
   ]
  },
  {
   "cell_type": "code",
   "execution_count": 138,
   "id": "d1bc26f5-fee7-4dab-bc61-65f2d3949aba",
   "metadata": {},
   "outputs": [
    {
     "data": {
      "text/html": [
       "<div>\n",
       "<style scoped>\n",
       "    .dataframe tbody tr th:only-of-type {\n",
       "        vertical-align: middle;\n",
       "    }\n",
       "\n",
       "    .dataframe tbody tr th {\n",
       "        vertical-align: top;\n",
       "    }\n",
       "\n",
       "    .dataframe thead th {\n",
       "        text-align: right;\n",
       "    }\n",
       "</style>\n",
       "<table border=\"1\" class=\"dataframe\">\n",
       "  <thead>\n",
       "    <tr style=\"text-align: right;\">\n",
       "      <th></th>\n",
       "      <th>x</th>\n",
       "      <th>y</th>\n",
       "    </tr>\n",
       "  </thead>\n",
       "  <tbody>\n",
       "    <tr>\n",
       "      <th>0</th>\n",
       "      <td>-6.000000</td>\n",
       "      <td>6.075883e-09</td>\n",
       "    </tr>\n",
       "    <tr>\n",
       "      <th>1</th>\n",
       "      <td>-5.975952</td>\n",
       "      <td>7.016936e-09</td>\n",
       "    </tr>\n",
       "    <tr>\n",
       "      <th>2</th>\n",
       "      <td>-5.951904</td>\n",
       "      <td>8.099059e-09</td>\n",
       "    </tr>\n",
       "    <tr>\n",
       "      <th>3</th>\n",
       "      <td>-5.927856</td>\n",
       "      <td>9.342657e-09</td>\n",
       "    </tr>\n",
       "    <tr>\n",
       "      <th>4</th>\n",
       "      <td>-5.903808</td>\n",
       "      <td>1.077098e-08</td>\n",
       "    </tr>\n",
       "  </tbody>\n",
       "</table>\n",
       "</div>"
      ],
      "text/plain": [
       "          x             y\n",
       "0 -6.000000  6.075883e-09\n",
       "1 -5.975952  7.016936e-09\n",
       "2 -5.951904  8.099059e-09\n",
       "3 -5.927856  9.342657e-09\n",
       "4 -5.903808  1.077098e-08"
      ]
     },
     "execution_count": 138,
     "metadata": {},
     "output_type": "execute_result"
    }
   ],
   "source": [
    "bell_curve_df = pd.DataFrame({'x':domain, 'y':y_vals})\n",
    "bell_curve_df.head()"
   ]
  },
  {
   "cell_type": "code",
   "execution_count": 140,
   "id": "a1952878-3add-4f1f-8c27-ab96ef2e5037",
   "metadata": {},
   "outputs": [
    {
     "data": {
      "image/png": "[encoded data removed]",
      "text/plain": [
       "<Figure size 432x288 with 1 Axes>"
      ]
     },
     "metadata": {
      "needs_background": "light"
     },
     "output_type": "display_data"
    }
   ],
   "source": [
    "bell_curve_df.plot(x='x', y='y');"
   ]
  },
  {
   "cell_type": "code",
   "execution_count": 146,
   "id": "0c6576c1-a8d2-4b37-bca8-9a76f3c7a8ee",
   "metadata": {},
   "outputs": [
    {
     "data": {
      "text/latex": [
       "$\\displaystyle 1.0$"
      ],
      "text/plain": [
       "1.00000"
      ]
     },
     "execution_count": 146,
     "metadata": {},
     "output_type": "execute_result"
    }
   ],
   "source": [
    "sp.integrate(gaussian, (x, -6, 6)).evalf(6)"
   ]
  }
 ],
 "metadata": {
  "kernelspec": {
   "display_name": "Python 3 (ipykernel)",
   "language": "python",
   "name": "python3"
  },
  "language_info": {
   "codemirror_mode": {
    "name": "ipython",
    "version": 3
   },
   "file_extension": ".py",
   "mimetype": "text/x-python",
   "name": "python",
   "nbconvert_exporter": "python",
   "pygments_lexer": "ipython3",
   "version": "3.9.12"
  }
 },
 "nbformat": 4,
 "nbformat_minor": 5
}
