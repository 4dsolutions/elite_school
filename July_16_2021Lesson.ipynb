{
 "cells": [
  {
   "cell_type": "markdown",
   "id": "67acee2d",
   "metadata": {},
   "source": [
    "# Lesson from July 16, 2021:  Summer School\n",
    "\n",
    "Welcome to the world of Cryptography.\n",
    "\n",
    "This is the world of Bob, Alice and Eve.\n",
    "\n",
    "We have two kinds of code:\n",
    "* Symmetric Key\n",
    "* Public Key\n",
    "\n",
    "#### Symmetric Key \n",
    "King Bob wants to send a secret to Queen Alice. Therefore, he sends her a decoder ring, or something similar, that allows her to decode Bob's forthcoming message."
   ]
  },
  {
   "cell_type": "code",
   "execution_count": 1,
   "id": "aa808755",
   "metadata": {},
   "outputs": [],
   "source": [
    "from string import ascii_lowercase"
   ]
  },
  {
   "cell_type": "code",
   "execution_count": 2,
   "id": "5e1e95ff",
   "metadata": {},
   "outputs": [
    {
     "data": {
      "text/plain": [
       "'abcdefghijklmnopqrstuvwxyz'"
      ]
     },
     "execution_count": 2,
     "metadata": {},
     "output_type": "execute_result"
    }
   ],
   "source": [
    "ascii_lowercase"
   ]
  },
  {
   "cell_type": "code",
   "execution_count": 3,
   "id": "ad75df33",
   "metadata": {},
   "outputs": [],
   "source": [
    "from random import shuffle"
   ]
  },
  {
   "cell_type": "code",
   "execution_count": 4,
   "id": "24586d3d",
   "metadata": {},
   "outputs": [
    {
     "name": "stdout",
     "output_type": "stream",
     "text": [
      "['a', 'b', 'c', 'd', 'e', 'f', 'g', 'h', 'i', 'j', 'k', 'l', 'm', 'n', 'o', 'p', 'q', 'r', 's', 't', 'u', 'v', 'w', 'x', 'y', 'z', ' ']\n"
     ]
    }
   ],
   "source": [
    "letters = list(ascii_lowercase + \" \")\n",
    "print(letters)"
   ]
  },
  {
   "cell_type": "code",
   "execution_count": 5,
   "id": "cfc20270",
   "metadata": {},
   "outputs": [
    {
     "name": "stdout",
     "output_type": "stream",
     "text": [
      "['a', 'b', 'c', 'd', 'e', 'f', 'g', 'h', 'i', 'j', 'k', 'l', 'm', 'n', 'o', 'p', 'q', 'r', 's', 't', 'u', 'v', 'w', 'x', 'y', 'z', ' ']\n"
     ]
    }
   ],
   "source": [
    "copy_of_letters = letters[:]  # slice with everything\n",
    "print(copy_of_letters)"
   ]
  },
  {
   "cell_type": "code",
   "execution_count": 6,
   "id": "40396315",
   "metadata": {},
   "outputs": [
    {
     "name": "stdout",
     "output_type": "stream",
     "text": [
      "['a', 'm', 'v', 'g', 'w', 'd', 'o', 'l', 'f', 't', 'c', 'y', 'n', 'u', 'j', 'k', 'p', 'q', ' ', 'h', 'r', 'b', 'i', 's', 'e', 'x', 'z']\n"
     ]
    }
   ],
   "source": [
    "shuffle(letters)\n",
    "print(letters)"
   ]
  },
  {
   "cell_type": "code",
   "execution_count": 7,
   "id": "3f845cec",
   "metadata": {},
   "outputs": [
    {
     "name": "stdout",
     "output_type": "stream",
     "text": [
      "['a', 'b', 'c', 'd', 'e', 'f', 'g', 'h', 'i', 'j', 'k', 'l', 'm', 'n', 'o', 'p', 'q', 'r', 's', 't', 'u', 'v', 'w', 'x', 'y', 'z', ' ']\n"
     ]
    }
   ],
   "source": [
    "print(copy_of_letters)"
   ]
  },
  {
   "cell_type": "code",
   "execution_count": 8,
   "id": "445210e5",
   "metadata": {},
   "outputs": [
    {
     "name": "stdout",
     "output_type": "stream",
     "text": [
      "{'a': 'a', 'b': 'm', 'c': 'v', 'd': 'g', 'e': 'w', 'f': 'd', 'g': 'o', 'h': 'l', 'i': 'f', 'j': 't', 'k': 'c', 'l': 'y', 'm': 'n', 'n': 'u', 'o': 'j', 'p': 'k', 'q': 'p', 'r': 'q', 's': ' ', 't': 'h', 'u': 'r', 'v': 'b', 'w': 'i', 'x': 's', 'y': 'e', 'z': 'x', ' ': 'z'}\n"
     ]
    }
   ],
   "source": [
    "secret_key = dict(zip(copy_of_letters, letters))\n",
    "print(secret_key)"
   ]
  },
  {
   "cell_type": "code",
   "execution_count": 9,
   "id": "c82f6d80",
   "metadata": {},
   "outputs": [
    {
     "data": {
      "text/plain": [
       "'q'"
      ]
     },
     "execution_count": 9,
     "metadata": {},
     "output_type": "execute_result"
    }
   ],
   "source": [
    "secret_key['r']"
   ]
  },
  {
   "cell_type": "code",
   "execution_count": 10,
   "id": "c77cbf18",
   "metadata": {},
   "outputs": [],
   "source": [
    "def encrypt(m: str, key: dict) -> str:\n",
    "    c = []  # will become ciphertext\n",
    "    for letter in m:\n",
    "        new_letter = key[letter]\n",
    "        c.append(new_letter)\n",
    "    return \"\".join(c)"
   ]
  },
  {
   "cell_type": "code",
   "execution_count": 11,
   "id": "68b853c7",
   "metadata": {},
   "outputs": [
    {
     "data": {
      "text/plain": [
       "'fzifyyzahhavczahzgaiuzwbwzifyyzujhzcuji'"
      ]
     },
     "execution_count": 11,
     "metadata": {},
     "output_type": "execute_result"
    }
   ],
   "source": [
    "m = \"i will attack at dawn eve will not know\"\n",
    "c = encrypt(m, secret_key)\n",
    "c"
   ]
  },
  {
   "cell_type": "code",
   "execution_count": 12,
   "id": "cb04a61b",
   "metadata": {},
   "outputs": [],
   "source": [
    "def decrypt(c, key):\n",
    "    rev_dict = dict(zip(key.values(), key.keys()))\n",
    "    return encrypt(c, rev_dict)"
   ]
  },
  {
   "cell_type": "code",
   "execution_count": 13,
   "id": "aaab1a9b",
   "metadata": {},
   "outputs": [
    {
     "data": {
      "text/plain": [
       "'mzlmvvzpqqpyjzpqznplgzh hzlmvvzgkqzjgkl'"
      ]
     },
     "execution_count": 13,
     "metadata": {},
     "output_type": "execute_result"
    }
   ],
   "source": [
    "decrypt('nxynbbxkppketxkpxukyoxlzlxynbbxocpxtocy', secret_key)"
   ]
  },
  {
   "cell_type": "markdown",
   "id": "b39302bd",
   "metadata": {},
   "source": [
    "#### Public Key\n",
    "\n",
    "Queen Alice wants to send a secure message King Bob, A to B.  Eve is threat in the middle.\n",
    "\n",
    "Alice uses Bob's \"public key\" to encrypt her message.  Only Bob can decrypt messages sent using that key to scramble.\n",
    "\n",
    "We will use [Euler's Theorem](Euler.ipynb) to construct our algorithm (RSA)."
   ]
  },
  {
   "cell_type": "code",
   "execution_count": 14,
   "id": "466c1872",
   "metadata": {},
   "outputs": [
    {
     "name": "stdout",
     "output_type": "stream",
     "text": [
      "Check!\n"
     ]
    }
   ],
   "source": [
    "RSA232 = \\\n",
    "17969491597941066732916128449573246156367561808012600070888918835531726460341490933493372247868650755230855864199929221814436684722874052065257937495694348389263171152522525654410980819170611742509702440718010364831638288518852689\n",
    "p = 4528450358010492026612439739120166758911246047493700040073956759261590397250033699357694507193523000343088601688589\n",
    "q = 3968132623150957588532394439049887341769533966621957829426966084093049516953598120833228447171744337427374763106901\n",
    "\n",
    "if RSA232 == p*q:\n",
    "    print(\"Check!\")"
   ]
  },
  {
   "cell_type": "markdown",
   "id": "d2ee7980",
   "metadata": {},
   "source": [
    "Bob's public key, N, is not factorable using any algorithm we currenlty have. If you know p, q you can derive d.  But otherwise, without d, you will never be able to decrypt a message encrypted using N."
   ]
  }
 ],
 "metadata": {
  "kernelspec": {
   "display_name": "Python 3",
   "language": "python",
   "name": "python3"
  },
  "language_info": {
   "codemirror_mode": {
    "name": "ipython",
    "version": 3
   },
   "file_extension": ".py",
   "mimetype": "text/x-python",
   "name": "python",
   "nbconvert_exporter": "python",
   "pygments_lexer": "ipython3",
   "version": "3.7.9"
  }
 },
 "nbformat": 4,
 "nbformat_minor": 5
}
