{
 "cells": [
  {
   "cell_type": "markdown",
   "id": "higher-armenia",
   "metadata": {},
   "source": [
    "##### Algorithms and Data Structures (Winter - Spring 2022)\n",
    "\n",
    "* [Table of Contents](ADS_TOC.ipynb)\n",
    "* <a href=\"https://colab.research.google.com/github/4dsolutions/elite_school/blob/master/ADS_sandbox_10.ipynb\"><img align=\"left\" src=\"https://colab.research.google.com/assets/colab-badge.svg\" alt=\"Open in Colab\" title=\"Open and Execute in Google Colaboratory\"></a>\n",
    "* [![nbviewer](https://raw.githubusercontent.com/jupyter/design/master/logos/Badges/nbviewer_badge.svg)](https://nbviewer.org/github/4dsolutions/elite_school/blob/master/ADS_sandbox_10.ipynb)\n",
    "\n",
    "## Symbolic Mathematics\n",
    "\n",
    "As originally conceived, this curriculum models a high school level introductory survey of several overlapping mathematics and computer science topics.\n",
    "\n",
    "The subject *Algorithms and Data Structures* should stay wide open to interpretation as student needs evolve.\n",
    "\n",
    "Would not most high schoolers benefit from having access to symbolic processing, of equations, of operations such as differentiating and integrating? \n",
    "\n",
    "The focus of this Sandbox is [sympy](https://docs.sympy.org/latest/index.html), used in tandem with plotting libraries.\n",
    "\n",
    "Sympy is incorporated within [SageMath](https://en.wikipedia.org/wiki/SageMath).  \n",
    "\n",
    "[CoCalc: SageMath in the Cloud](https://en.wikipedia.org/wiki/CoCalc)"
   ]
  },
  {
   "cell_type": "code",
   "execution_count": 103,
   "id": "fdfe6685-3a20-4c88-bad7-5601d3a181b2",
   "metadata": {},
   "outputs": [],
   "source": [
    "import sympy\n",
    "import math\n",
    "# dir(sympy)"
   ]
  },
  {
   "cell_type": "markdown",
   "id": "ffb6bbb7-5572-4318-b1ca-4ce33734ce08",
   "metadata": {},
   "source": [
    "## The Golden Mean \n",
    "\n",
    "![phi](https://upload.wikimedia.org/wikipedia/commons/4/44/Golden_ratio_line.svg)\n",
    "\n",
    "<a data-flickr-embed=\"true\" href=\"https://www.flickr.com/photos/kirbyurner/52094878384/in/dateposted-public/\" title=\"pentatrig\"><img src=\"https://live.staticflickr.com/65535/52094878384_dc38015da5_o.jpg\" width=\"320\" height=\"290\" alt=\"pentatrig\"></a><script async src=\"//embedr.flickr.com/assets/client-code.js\" charset=\"utf-8\"></script>"
   ]
  },
  {
   "cell_type": "code",
   "execution_count": 104,
   "id": "4ab26481-466f-4b15-b4fc-bb6a4324ea56",
   "metadata": {},
   "outputs": [],
   "source": [
    "from sympy import (Symbol, symbols, Eq,\n",
    "solve, evaluate, expand, N) "
   ]
  },
  {
   "cell_type": "code",
   "execution_count": 105,
   "id": "0a2ff3d2-e1e7-4245-9e54-f22ceb7570a7",
   "metadata": {},
   "outputs": [
    {
     "data": {
      "text/plain": [
       "'1.10.1'"
      ]
     },
     "execution_count": 105,
     "metadata": {},
     "output_type": "execute_result"
    }
   ],
   "source": [
    "sympy.__version__"
   ]
  },
  {
   "cell_type": "code",
   "execution_count": 106,
   "id": "f1a173cb-2d8a-409f-b983-4e6084b44c0c",
   "metadata": {},
   "outputs": [],
   "source": [
    "a, b = symbols(['a', 'b'])"
   ]
  },
  {
   "cell_type": "code",
   "execution_count": 107,
   "id": "5e8f70ab-b3f3-4691-8b42-ecc13ba7f41c",
   "metadata": {},
   "outputs": [],
   "source": [
    "identity = Eq((a+b)/a, a/b)"
   ]
  },
  {
   "cell_type": "code",
   "execution_count": 108,
   "id": "794e04cf-74f3-4820-9e3d-142a51a1709d",
   "metadata": {},
   "outputs": [
    {
     "data": {
      "text/latex": [
       "$\\displaystyle \\frac{a + b}{a} = \\frac{a}{b}$"
      ],
      "text/plain": [
       "Eq((a + b)/a, a/b)"
      ]
     },
     "execution_count": 108,
     "metadata": {},
     "output_type": "execute_result"
    }
   ],
   "source": [
    "identity"
   ]
  },
  {
   "cell_type": "code",
   "execution_count": 109,
   "id": "ee0c921b-c900-45d6-8cde-87511255939a",
   "metadata": {},
   "outputs": [
    {
     "data": {
      "text/plain": [
       "[{a: b*(1 - sqrt(5))/2}, {a: b*(1 + sqrt(5))/2}]"
      ]
     },
     "execution_count": 109,
     "metadata": {},
     "output_type": "execute_result"
    }
   ],
   "source": [
    "solutions = solve(identity)\n",
    "solutions"
   ]
  },
  {
   "cell_type": "code",
   "execution_count": 110,
   "id": "41c554d4-ea2e-4c2c-b135-2b8ace05873b",
   "metadata": {},
   "outputs": [
    {
     "data": {
      "text/latex": [
       "$\\displaystyle \\frac{b \\left(1 - \\sqrt{5}\\right)}{2}$"
      ],
      "text/plain": [
       "b*(1 - sqrt(5))/2"
      ]
     },
     "execution_count": 110,
     "metadata": {},
     "output_type": "execute_result"
    }
   ],
   "source": [
    "solutions[0][a]"
   ]
  },
  {
   "cell_type": "code",
   "execution_count": 111,
   "id": "75a9064c-9664-479a-b64b-4e6e78b72470",
   "metadata": {},
   "outputs": [
    {
     "data": {
      "text/latex": [
       "$\\displaystyle \\frac{b \\left(1 + \\sqrt{5}\\right)}{2}$"
      ],
      "text/plain": [
       "b*(1 + sqrt(5))/2"
      ]
     },
     "execution_count": 111,
     "metadata": {},
     "output_type": "execute_result"
    }
   ],
   "source": [
    "solutions[1][a]"
   ]
  },
  {
   "cell_type": "code",
   "execution_count": 112,
   "id": "168fc1c8-71e6-446a-99b4-1fa5694c8f04",
   "metadata": {},
   "outputs": [
    {
     "data": {
      "text/latex": [
       "$\\displaystyle \\frac{1}{2} - \\frac{\\sqrt{5}}{2}$"
      ],
      "text/plain": [
       "1/2 - sqrt(5)/2"
      ]
     },
     "execution_count": 112,
     "metadata": {},
     "output_type": "execute_result"
    }
   ],
   "source": [
    "solutions[0][a].subs(b, 1)"
   ]
  },
  {
   "cell_type": "code",
   "execution_count": 113,
   "id": "e46f55ba-d44b-443c-a0ba-d511ac4e820e",
   "metadata": {},
   "outputs": [
    {
     "data": {
      "text/latex": [
       "$\\displaystyle \\frac{1}{2} + \\frac{\\sqrt{5}}{2}$"
      ],
      "text/plain": [
       "1/2 + sqrt(5)/2"
      ]
     },
     "execution_count": 113,
     "metadata": {},
     "output_type": "execute_result"
    }
   ],
   "source": [
    "solutions[1][a].subs(b, 1)"
   ]
  },
  {
   "cell_type": "markdown",
   "id": "3b8b7573-bc7f-4210-a35d-ef122056c900",
   "metadata": {},
   "source": [
    "Testing the $_LaTex$:\n",
    "$$\n",
    "\\displaystyle \\frac{1}{2} + \\frac{\\sqrt{5}}{2}\n",
    "$$"
   ]
  },
  {
   "cell_type": "code",
   "execution_count": 114,
   "id": "3c086a29-71a4-4df6-b430-a289e71a4702",
   "metadata": {},
   "outputs": [
    {
     "data": {
      "text/latex": [
       "$\\displaystyle 1.618033988749894848204586834365638117720309179805762862135448622705260462818902449707207204189391137$"
      ],
      "text/plain": [
       "1.618033988749894848204586834365638117720309179805762862135448622705260462818902449707207204189391137"
      ]
     },
     "execution_count": 114,
     "metadata": {},
     "output_type": "execute_result"
    }
   ],
   "source": [
    "N(solutions[1][a].subs(b, 1), 100)"
   ]
  },
  {
   "cell_type": "code",
   "execution_count": 115,
   "id": "1ccec2a0-9872-4e93-b899-147a0bc07307",
   "metadata": {},
   "outputs": [
    {
     "data": {
      "text/plain": [
       "\u001b[0;31mSignature:\u001b[0m \u001b[0mN\u001b[0m\u001b[0;34m(\u001b[0m\u001b[0mx\u001b[0m\u001b[0;34m,\u001b[0m \u001b[0mn\u001b[0m\u001b[0;34m=\u001b[0m\u001b[0;36m15\u001b[0m\u001b[0;34m,\u001b[0m \u001b[0;34m**\u001b[0m\u001b[0moptions\u001b[0m\u001b[0;34m)\u001b[0m\u001b[0;34m\u001b[0m\u001b[0;34m\u001b[0m\u001b[0m\n",
       "\u001b[0;31mDocstring:\u001b[0m\n",
       "Calls x.evalf(n, \\*\\*options).\n",
       "\n",
       "Explanations\n",
       "============\n",
       "\n",
       "Both .n() and N() are equivalent to .evalf(); use the one that you like better.\n",
       "See also the docstring of .evalf() for information on the options.\n",
       "\n",
       "Examples\n",
       "========\n",
       "\n",
       ">>> from sympy import Sum, oo, N\n",
       ">>> from sympy.abc import k\n",
       ">>> Sum(1/k**k, (k, 1, oo))\n",
       "Sum(k**(-k), (k, 1, oo))\n",
       ">>> N(_, 4)\n",
       "1.291\n",
       "\u001b[0;31mFile:\u001b[0m      ~/opt/anaconda3/envs/new_world/lib/python3.9/site-packages/sympy/core/evalf.py\n",
       "\u001b[0;31mType:\u001b[0m      function\n"
      ]
     },
     "metadata": {},
     "output_type": "display_data"
    }
   ],
   "source": [
    "N?"
   ]
  }
 ],
 "metadata": {
  "kernelspec": {
   "display_name": "Python 3 (ipykernel)",
   "language": "python",
   "name": "python3"
  },
  "language_info": {
   "codemirror_mode": {
    "name": "ipython",
    "version": 3
   },
   "file_extension": ".py",
   "mimetype": "text/x-python",
   "name": "python",
   "nbconvert_exporter": "python",
   "pygments_lexer": "ipython3",
   "version": "3.9.12"
  }
 },
 "nbformat": 4,
 "nbformat_minor": 5
}
