{
 "cells": [
  {
   "cell_type": "markdown",
   "id": "468e25aa-24a4-4eaf-b4e0-c47792f38b1c",
   "metadata": {
    "tags": []
   },
   "source": [
    "##### Python for High School (Summer 2022)\n",
    "\n",
    "* [Table of Contents](PY4HS.ipynb)\n",
    "* <a href=\"https://colab.research.google.com/github/4dsolutions/elite_school/blob/master/Py4HS_July_12_2022.ipynb\"><img align=\"left\" src=\"https://colab.research.google.com/assets/colab-badge.svg\" alt=\"Open in Colab\" title=\"Open and Execute in Google Colaboratory\"></a>\n",
    "* [![nbviewer](https://raw.githubusercontent.com/jupyter/design/master/logos/Badges/nbviewer_badge.svg)](https://nbviewer.org/github/4dsolutions/elite_school/blob/master/Py4HS_July_12_2022.ipynb)"
   ]
  },
  {
   "cell_type": "markdown",
   "id": "052631c6-3403-491f-997d-6fd9af783a66",
   "metadata": {},
   "source": [
    "### Built-in Types\n",
    "\n",
    "So far, we have focused on what a Python programmer needs to do to make new types. \n",
    "\n",
    "That's an end goal, and now that we've seen what that looks like, let's get back to basics and focus on types Python already gives us, as built in to the language."
   ]
  },
  {
   "cell_type": "markdown",
   "id": "ec594877-11fb-4998-ad32-c06f696b8ec3",
   "metadata": {},
   "source": [
    "Some of these types are:\n",
    "\n",
    "- Numeric Types\n",
    "    * int     -- the integer, any number of digits\n",
    "    * float   -- numbers with decimal points, 64 bits\n",
    "    * decimal -- like floats, but open ended precision\n",
    "    * Fraction -- like the Rat we've been coding\n",
    "- String Type\n",
    "    * str -- all of Unicode (alphabets, Chinese, emoji)\n",
    "- Collection Types\n",
    "    * list -- left to right sequence\n",
    "    * tuple -- less mutable list (sequence)\n",
    "    * dict -- key:value pairs  (mapping)\n",
    "    * set -- keys with no duplicates (mapping)"
   ]
  },
  {
   "cell_type": "markdown",
   "id": "ae46ffe9-575f-4a48-8b81-9a5fd32eb698",
   "metadata": {},
   "source": [
    "# More About int and str\n",
    "\n",
    "int is for integer.  Those are whole numbers with their additive inverses.  3 gets paired with -3, so that 3 + (-3) == 0.  13 gets paired with -13 and so on.  We add a mirror to the positive numbers.\n",
    "\n",
    "The Python int is able to take in strings, meaning quoted numeric characters, such as \"13\", but also \"FF\".  Why does \"FF\" work?  Because in base 16, numbers go from 0-F in each position, instead of from 0-9."
   ]
  },
  {
   "cell_type": "code",
   "execution_count": 1,
   "id": "8295b737-d4bc-4edf-9806-bc1e5f002a5f",
   "metadata": {},
   "outputs": [
    {
     "data": {
      "text/plain": [
       "255"
      ]
     },
     "execution_count": 1,
     "metadata": {},
     "output_type": "execute_result"
    }
   ],
   "source": [
    "int('FF', 16)"
   ]
  },
  {
   "cell_type": "markdown",
   "id": "e81f51c0-0db5-41b2-91ee-6fc8e43a45f5",
   "metadata": {},
   "source": [
    "Here's another way to specify a hexadecimal (base 16) number directly."
   ]
  },
  {
   "cell_type": "code",
   "execution_count": 16,
   "id": "23aa8fef-3aa0-4e71-9f1a-00bdaa304703",
   "metadata": {},
   "outputs": [
    {
     "data": {
      "text/plain": [
       "255"
      ]
     },
     "execution_count": 16,
     "metadata": {},
     "output_type": "execute_result"
    }
   ],
   "source": [
    "0xFF"
   ]
  },
  {
   "cell_type": "code",
   "execution_count": 17,
   "id": "5d635e36-46c9-4f4f-afa2-2cd9957b9fac",
   "metadata": {},
   "outputs": [
    {
     "data": {
      "text/plain": [
       "4095"
      ]
     },
     "execution_count": 17,
     "metadata": {},
     "output_type": "execute_result"
    }
   ],
   "source": [
    "0xFFF"
   ]
  },
  {
   "cell_type": "markdown",
   "id": "46839a64-1f13-476c-ad16-73d6ad919084",
   "metadata": {},
   "source": [
    "### Extra Quizzical\n",
    "\n",
    "Daydream and doodle sometime, around this whole idea of number bases.  What if every position has room for 0 - 16?  That would be base 17, and we could go from 0 to G.  \n",
    "\n",
    "Does Python understand this?  It seems to, yes."
   ]
  },
  {
   "cell_type": "code",
   "execution_count": 2,
   "id": "a2614799-a63d-40ef-9d43-6a0c79b82bb8",
   "metadata": {},
   "outputs": [
    {
     "data": {
      "text/plain": [
       "288"
      ]
     },
     "execution_count": 2,
     "metadata": {},
     "output_type": "execute_result"
    }
   ],
   "source": [
    "int('GG', 17)  # no one uses base 17"
   ]
  },
  {
   "cell_type": "code",
   "execution_count": 18,
   "id": "5effd850-fece-40ef-8d6a-e1a586672211",
   "metadata": {},
   "outputs": [
    {
     "data": {
      "text/plain": [
       "288"
      ]
     },
     "execution_count": 18,
     "metadata": {},
     "output_type": "execute_result"
    }
   ],
   "source": [
    "int('gg', 17) "
   ]
  },
  {
   "cell_type": "code",
   "execution_count": 19,
   "id": "288b8be3-6b39-4a6f-ad8f-fe98770457ca",
   "metadata": {},
   "outputs": [
    {
     "data": {
      "text/plain": [
       "288"
      ]
     },
     "execution_count": 19,
     "metadata": {},
     "output_type": "execute_result"
    }
   ],
   "source": [
    "16 * 17 + 16  # checking that this is the right answer"
   ]
  },
  {
   "cell_type": "code",
   "execution_count": 20,
   "id": "bb41565b-e7b5-4a38-af73-5d6a4366deb4",
   "metadata": {},
   "outputs": [
    {
     "data": {
      "text/plain": [
       "13"
      ]
     },
     "execution_count": 20,
     "metadata": {},
     "output_type": "execute_result"
    }
   ],
   "source": [
    "int('16', 7)  # one 7, plus 6"
   ]
  },
  {
   "cell_type": "markdown",
   "id": "cdffe320-4cdf-445f-b63b-d04d85a79a82",
   "metadata": {},
   "source": [
    "### str is for string\n",
    "\n",
    "The str type is about strings, meaning left to right ordered sequences of characters.  \n",
    "\n",
    "Behind every individual character is a sequence of bits, which we may express in base 2, 8, 10 or 16, depending on the situation.  \n",
    "\n",
    "Let's take a look:"
   ]
  },
  {
   "cell_type": "code",
   "execution_count": 5,
   "id": "9e1e2270-9887-41d2-ab0a-77d4f3107e95",
   "metadata": {},
   "outputs": [
    {
     "data": {
      "text/plain": [
       "97"
      ]
     },
     "execution_count": 5,
     "metadata": {},
     "output_type": "execute_result"
    }
   ],
   "source": [
    "ord('a')"
   ]
  },
  {
   "cell_type": "code",
   "execution_count": 14,
   "id": "3d032a3f-8a79-43fb-bf2c-c596f7899c8c",
   "metadata": {},
   "outputs": [
    {
     "data": {
      "text/plain": [
       "'0x61'"
      ]
     },
     "execution_count": 14,
     "metadata": {},
     "output_type": "execute_result"
    }
   ],
   "source": [
    "hex(97)"
   ]
  },
  {
   "cell_type": "code",
   "execution_count": 6,
   "id": "e0db4a52-615d-4b5b-a627-ee52ac388106",
   "metadata": {},
   "outputs": [
    {
     "data": {
      "text/plain": [
       "127829"
      ]
     },
     "execution_count": 6,
     "metadata": {},
     "output_type": "execute_result"
    }
   ],
   "source": [
    "ord('🍕')"
   ]
  },
  {
   "cell_type": "code",
   "execution_count": 10,
   "id": "ae8b3b40-d1a6-4bfd-945b-562207026b2f",
   "metadata": {},
   "outputs": [
    {
     "data": {
      "text/plain": [
       "'🍕'"
      ]
     },
     "execution_count": 10,
     "metadata": {},
     "output_type": "execute_result"
    }
   ],
   "source": [
    "chr(127829)"
   ]
  },
  {
   "cell_type": "code",
   "execution_count": 13,
   "id": "ab96e598-bfcb-4ecf-83bb-2e34a497795e",
   "metadata": {},
   "outputs": [
    {
     "data": {
      "text/plain": [
       "'🍔'"
      ]
     },
     "execution_count": 13,
     "metadata": {},
     "output_type": "execute_result"
    }
   ],
   "source": [
    "chr(127829 - 1)"
   ]
  },
  {
   "cell_type": "code",
   "execution_count": 11,
   "id": "ffaa6ca5-0062-41e2-b065-7c6f9f468e69",
   "metadata": {},
   "outputs": [
    {
     "data": {
      "text/plain": [
       "'a'"
      ]
     },
     "execution_count": 11,
     "metadata": {},
     "output_type": "execute_result"
    }
   ],
   "source": [
    "chr(97)"
   ]
  },
  {
   "cell_type": "code",
   "execution_count": 15,
   "id": "f9046c62-93cd-43d1-b289-717fbfd76af9",
   "metadata": {},
   "outputs": [
    {
     "data": {
      "text/plain": [
       "'a'"
      ]
     },
     "execution_count": 15,
     "metadata": {},
     "output_type": "execute_result"
    }
   ],
   "source": [
    "chr(0x61)"
   ]
  },
  {
   "cell_type": "markdown",
   "id": "3274f5f5-5b6f-4d91-b41f-163ac55d39af",
   "metadata": {},
   "source": [
    "### Python Functions\n",
    "\n",
    "We define a function with the keyword `def` like this:"
   ]
  },
  {
   "cell_type": "code",
   "execution_count": 22,
   "id": "cc6c5b04-bd7c-4d11-a128-388a2a5e7e7b",
   "metadata": {},
   "outputs": [],
   "source": [
    "def call_me():\n",
    "    pass"
   ]
  },
  {
   "cell_type": "markdown",
   "id": "f6532136-60db-40c4-a3a9-b3efa843d389",
   "metadata": {},
   "source": [
    "That has to be like the simplest function."
   ]
  },
  {
   "cell_type": "code",
   "execution_count": 23,
   "id": "3dbedd64-e10b-456b-86c3-1e2bf759006f",
   "metadata": {},
   "outputs": [
    {
     "data": {
      "text/plain": [
       "function"
      ]
     },
     "execution_count": 23,
     "metadata": {},
     "output_type": "execute_result"
    }
   ],
   "source": [
    "type(call_me)"
   ]
  },
  {
   "cell_type": "code",
   "execution_count": 24,
   "id": "ae835fed-8d34-4432-804d-7ffe0833003b",
   "metadata": {},
   "outputs": [
    {
     "data": {
      "text/plain": [
       "True"
      ]
     },
     "execution_count": 24,
     "metadata": {},
     "output_type": "execute_result"
    }
   ],
   "source": [
    "callable(call_me)"
   ]
  },
  {
   "cell_type": "markdown",
   "id": "9bd23b38-a2f0-4892-8523-9395ea0f4309",
   "metadata": {},
   "source": [
    "Now lets define a function with parameters.  These will be matched up with incoming arguments, passed to the function by some caller."
   ]
  },
  {
   "cell_type": "code",
   "execution_count": 28,
   "id": "f1b743f2-3c97-4913-9751-eaa71fb9ca1f",
   "metadata": {},
   "outputs": [],
   "source": [
    "def eats(food1, food2):\n",
    "    # food1, and food2 are parameters\n",
    "    return food1 + \" & \" + food2"
   ]
  },
  {
   "cell_type": "code",
   "execution_count": 29,
   "id": "3c23904f-ec8d-437f-90ae-93f2b99d423a",
   "metadata": {},
   "outputs": [
    {
     "data": {
      "text/plain": [
       "'Cookies & Cream'"
      ]
     },
     "execution_count": 29,
     "metadata": {},
     "output_type": "execute_result"
    }
   ],
   "source": [
    "eats(\"Cookies\", \"Cream\") # passing arguments"
   ]
  },
  {
   "cell_type": "markdown",
   "id": "fa396eda-368f-4797-8642-c5c77a7e37c7",
   "metadata": {},
   "source": [
    "Python's function type is based on the mathematical idea of a function, but has fewer restrictions. \n",
    "\n",
    "A Python function takes inputs, called arguments, which it matches with its parameters (there's a story here), and returns a result. \n",
    "\n",
    "The returned result typically depends on doing something with the parameters internally, within the body of the function.\n",
    "\n",
    "A function with no `return` statement, or with `return` followed by no object, returns the NoneType object.\n",
    "\n",
    "Mathematical functions always point the same inputs to the same outputs.  Python functions don't have to."
   ]
  },
  {
   "cell_type": "code",
   "execution_count": 21,
   "id": "a25f816c-cc4d-4494-892a-c3547fc75822",
   "metadata": {},
   "outputs": [],
   "source": [
    "def sayit(phrase):\n",
    "    \"\"\"\n",
    "    a function with no return statement\n",
    "    \"\"\"\n",
    "    print(phrase)"
   ]
  },
  {
   "cell_type": "code",
   "execution_count": null,
   "id": "fd1c21f5-33bf-47e8-9c5c-036f2d46bc4e",
   "metadata": {},
   "outputs": [],
   "source": [
    "sayit(\"Hello\")"
   ]
  },
  {
   "cell_type": "code",
   "execution_count": null,
   "id": "ceaa160e-b038-445e-9ce5-3d1af8a42058",
   "metadata": {},
   "outputs": [],
   "source": [
    "type(sayit(\"Hello\")) # prints phrase, but returns None"
   ]
  },
  {
   "cell_type": "markdown",
   "id": "a6383d37-0457-4a17-b5c3-01b0e0b02443",
   "metadata": {},
   "source": [
    "Here's a function that, given the very same input, might return a different output, thanks to a call to that Standard Library's `random.choice`.  \n",
    "\n",
    "Mathematically speaking, the same inputs, resulting in  different output, is a disqualifying.  This is not strictly speaking a mathematical function, which always gives the same output for the same input.  \n",
    "\n",
    "We still think of it as a Python function though, because it uses the keyword def, and it returns a value, even if only the None object."
   ]
  },
  {
   "cell_type": "code",
   "execution_count": null,
   "id": "9b8f163b-3f23-45e6-950b-3d1836f9f671",
   "metadata": {},
   "outputs": [],
   "source": [
    "from random import choice  # we've seen this before\n",
    "\n",
    "def choose_a_flavor(flavors):\n",
    "    print(\"The choices are:\", \", \".join(flavors))\n",
    "    picked = choice(flavors)\n",
    "    print(\"The one picked:\", picked)\n",
    "    return picked"
   ]
  },
  {
   "cell_type": "code",
   "execution_count": null,
   "id": "f93846bc-3975-42a5-8b6e-debf747132ff",
   "metadata": {},
   "outputs": [],
   "source": [
    "yummy = [\"chocolate\",\n",
    "         \"vanilla\",\n",
    "         \"strawberry\",\n",
    "         \"chocolate chip\",\n",
    "         \"rocky road\",\n",
    "         \"lemon\",\n",
    "         \"pistacio\",\n",
    "         \"peanut butter\"]"
   ]
  },
  {
   "cell_type": "code",
   "execution_count": null,
   "id": "14644b97-e66c-4333-a3c5-3c782a68ab50",
   "metadata": {},
   "outputs": [],
   "source": [
    "choose_a_flavor(yummy)"
   ]
  },
  {
   "cell_type": "markdown",
   "id": "74507491-8f45-4c1c-aa71-dc7366e9f023",
   "metadata": {},
   "source": [
    "The two print statements send strings to the console (that's the job of print) but print each returns None (the NoneType object).  \n",
    "\n",
    "The function itself returns `picked` the chosen flavor."
   ]
  },
  {
   "cell_type": "code",
   "execution_count": null,
   "id": "3a11c4fb-b647-4b82-afaa-99f4e373a947",
   "metadata": {},
   "outputs": [],
   "source": [
    "a = print(\"I love ice cream\")\n",
    "type(a)"
   ]
  },
  {
   "cell_type": "markdown",
   "id": "797b0210-d351-4347-b398-5042d452e8de",
   "metadata": {},
   "source": [
    "How would you code a Guess My Secret Number game?\n",
    "\n",
    "The computer picks a random number between a minimum and maximum and gives the player five guesses.\n",
    "\n",
    "Lets get to work in a fresh Replit."
   ]
  },
  {
   "cell_type": "markdown",
   "id": "f0387d7f-eca3-43c0-a669-ca2450ac4d0e",
   "metadata": {},
   "source": [
    "### Eating Inputs\n",
    "\n",
    "Suppose you want your Python function to take a variable number of arguments.  \n",
    "\n",
    "How would you line up a variable number of arguments at runtime (when the program is running), with a fixed number of parameters at define time (when the program is compiled)?\n",
    "\n",
    "Python has an elegant solution to this question.\n",
    "\n",
    "Imagine taking an average, but not always of the same number of numbers.\n",
    "\n",
    "That's where the star comes in, as a prefix:"
   ]
  },
  {
   "cell_type": "code",
   "execution_count": null,
   "id": "ead6afee-832a-4d53-a475-96a3cc8317c0",
   "metadata": {},
   "outputs": [],
   "source": [
    "def average(*arguments):\n",
    "    \"\"\"\n",
    "    eats any number of positional args\n",
    "    \"\"\"\n",
    "    how_many = len(arguments) # length of the tuplel\n",
    "    the_sum  = sum(arguments)\n",
    "    return the_sum/how_many   # sum / how many"
   ]
  },
  {
   "cell_type": "code",
   "execution_count": null,
   "id": "97878d55-4a20-4ee2-b062-b3fc760c0135",
   "metadata": {},
   "outputs": [],
   "source": [
    "average(1, 2, 3, 4, 5, 5, 5, 5, 5)"
   ]
  },
  {
   "cell_type": "code",
   "execution_count": null,
   "id": "2905f7b7-47d9-4e2f-a8ee-0038ae1d9db9",
   "metadata": {},
   "outputs": [],
   "source": [
    "average(1, 1, 1, 1)"
   ]
  },
  {
   "cell_type": "code",
   "execution_count": null,
   "id": "5911aa92-3ff2-4607-9f3b-3293a66d9b3e",
   "metadata": {},
   "outputs": [],
   "source": [
    "average(5, 4, 3, 2, 1, 0)"
   ]
  },
  {
   "cell_type": "markdown",
   "id": "56aeae35-99d5-4091-8b87-dad901d3dbf0",
   "metadata": {},
   "source": [
    "Arguments come in two flavors, positional and named.  Positional arguments always come first, in left to right order.  Once an argument is named, the rest have to be also."
   ]
  },
  {
   "cell_type": "markdown",
   "id": "a17b16f6-c273-4207-81ca-18b776736d95",
   "metadata": {},
   "source": [
    "When it comes to accepting a variable number of *named* arguments, the double-star is what's critical."
   ]
  },
  {
   "cell_type": "code",
   "execution_count": 38,
   "id": "ccba9989-74d5-44ef-a450-03193ae00668",
   "metadata": {},
   "outputs": [],
   "source": [
    "def find_oldest(**animals):\n",
    "    \"\"\"\n",
    "    ** puts all the animal:age pairs in a dict\n",
    "    \"\"\"\n",
    "    maxage = 0\n",
    "    oldest = ''\n",
    "    for animal in animals:\n",
    "        the_age = animals[animal]\n",
    "        if the_age > maxage:\n",
    "            oldest, maxage = animal, the_age\n",
    "    return oldest, maxage"
   ]
  },
  {
   "cell_type": "code",
   "execution_count": 39,
   "id": "f111823d-932b-444f-9378-524736cad927",
   "metadata": {},
   "outputs": [],
   "source": [
    "eldest = find_oldest(Bear=10, Monkey=5, Lion=3, Tiger=5)"
   ]
  },
  {
   "cell_type": "code",
   "execution_count": 37,
   "id": "7d83be00-d47f-43af-a2d4-13ba2a85bd93",
   "metadata": {},
   "outputs": [
    {
     "data": {
      "text/plain": [
       "('Bear', 10)"
      ]
     },
     "execution_count": 37,
     "metadata": {},
     "output_type": "execute_result"
    }
   ],
   "source": [
    "eldest"
   ]
  },
  {
   "cell_type": "code",
   "execution_count": null,
   "id": "e71d85ac-d89c-4fa5-9bed-8313a3780c27",
   "metadata": {},
   "outputs": [],
   "source": []
  }
 ],
 "metadata": {
  "kernelspec": {
   "display_name": "Python 3 (ipykernel)",
   "language": "python",
   "name": "python3"
  },
  "language_info": {
   "codemirror_mode": {
    "name": "ipython",
    "version": 3
   },
   "file_extension": ".py",
   "mimetype": "text/x-python",
   "name": "python",
   "nbconvert_exporter": "python",
   "pygments_lexer": "ipython3",
   "version": "3.9.12"
  }
 },
 "nbformat": 4,
 "nbformat_minor": 5
}
