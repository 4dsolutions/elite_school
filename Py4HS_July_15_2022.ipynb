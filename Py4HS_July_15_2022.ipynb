{
 "cells": [
  {
   "cell_type": "markdown",
   "id": "468e25aa-24a4-4eaf-b4e0-c47792f38b1c",
   "metadata": {
    "tags": []
   },
   "source": [
    "##### Python for High School (Summer 2022)\n",
    "\n",
    "* [Table of Contents](PY4HS.ipynb)\n",
    "* <a href=\"https://colab.research.google.com/github/4dsolutions/elite_school/blob/master/Py4HS_July_12_2022.ipynb\"><img align=\"left\" src=\"https://colab.research.google.com/assets/colab-badge.svg\" alt=\"Open in Colab\" title=\"Open and Execute in Google Colaboratory\"></a>\n",
    "* [![nbviewer](https://raw.githubusercontent.com/jupyter/design/master/logos/Badges/nbviewer_badge.svg)](https://nbviewer.org/github/4dsolutions/elite_school/blob/master/Py4HS_July_12_2022.ipynb)"
   ]
  },
  {
   "cell_type": "markdown",
   "id": "052631c6-3403-491f-997d-6fd9af783a66",
   "metadata": {},
   "source": [
    "### Built-in Types\n",
    "\n",
    "So far, we have focused on what a Python programmer needs to do to make new types. \n",
    "\n",
    "That's an end goal, and now that we've seen what that looks like, let's get back to basics and focus on types Python already gives us, as built in to the language."
   ]
  },
  {
   "cell_type": "markdown",
   "id": "ec594877-11fb-4998-ad32-c06f696b8ec3",
   "metadata": {},
   "source": [
    "Some of these types are:\n",
    "\n",
    "- Numeric Types\n",
    "    * int     -- the integer, any number of digits\n",
    "    * float   -- numbers with decimal points, 64 bit\n",
    "    * complex -- real and imaginary parts (not ordered)\n",
    "    * Decimal -- like floats, but open ended precision\n",
    "    * Fraction -- like the Rat we've been coding\n",
    "- String Type\n",
    "    * str -- all of Unicode (alphabets, Chinese, emoji)\n",
    "- Collection Types\n",
    "    * list -- left to right sequence\n",
    "    * tuple -- less mutable list (sequence)\n",
    "    * str -- also a collection (sequenc)\n",
    "    * range -- similar to a list of integers (sequence)\n",
    "    * dict -- key:value pairs  (mapping)\n",
    "    * set -- keys with no duplicates (mapping)"
   ]
  },
  {
   "cell_type": "markdown",
   "id": "ae46ffe9-575f-4a48-8b81-9a5fd32eb698",
   "metadata": {},
   "source": [
    "# More About int and str\n",
    "\n",
    "int is for integer.  Those are whole numbers with their additive inverses.  3 gets paired with -3, so that 3 + (-3) == 0.  13 gets paired with -13 and so on.  We add a mirror to the positive numbers.\n",
    "\n",
    "The Python int is able to take in strings, meaning quoted numeric characters, such as \"13\", but also \"FF\".  Why does \"FF\" work?  Because in base 16, numbers go from 0-F in each position, instead of from 0-9."
   ]
  },
  {
   "cell_type": "code",
   "execution_count": 47,
   "id": "8295b737-d4bc-4edf-9806-bc1e5f002a5f",
   "metadata": {},
   "outputs": [
    {
     "data": {
      "text/plain": [
       "255"
      ]
     },
     "execution_count": 47,
     "metadata": {},
     "output_type": "execute_result"
    }
   ],
   "source": [
    "int('FF', 16)"
   ]
  },
  {
   "cell_type": "markdown",
   "id": "e81f51c0-0db5-41b2-91ee-6fc8e43a45f5",
   "metadata": {},
   "source": [
    "Here's another way to specify a hexadecimal (base 16) number directly."
   ]
  },
  {
   "cell_type": "code",
   "execution_count": 48,
   "id": "23aa8fef-3aa0-4e71-9f1a-00bdaa304703",
   "metadata": {},
   "outputs": [
    {
     "data": {
      "text/plain": [
       "255"
      ]
     },
     "execution_count": 48,
     "metadata": {},
     "output_type": "execute_result"
    }
   ],
   "source": [
    "0xFF"
   ]
  },
  {
   "cell_type": "code",
   "execution_count": 49,
   "id": "5d635e36-46c9-4f4f-afa2-2cd9957b9fac",
   "metadata": {},
   "outputs": [
    {
     "data": {
      "text/plain": [
       "4095"
      ]
     },
     "execution_count": 49,
     "metadata": {},
     "output_type": "execute_result"
    }
   ],
   "source": [
    "0xFFF"
   ]
  },
  {
   "cell_type": "markdown",
   "id": "46839a64-1f13-476c-ad16-73d6ad919084",
   "metadata": {},
   "source": [
    "### Extra Quizzical\n",
    "\n",
    "Daydream and doodle sometime, around this whole idea of number bases.  What if every position has room for 0 - 16?  That would be base 17, and we could go from 0 to G.  \n",
    "\n",
    "Does Python understand this?  It seems to, yes."
   ]
  },
  {
   "cell_type": "code",
   "execution_count": 50,
   "id": "a2614799-a63d-40ef-9d43-6a0c79b82bb8",
   "metadata": {},
   "outputs": [
    {
     "data": {
      "text/plain": [
       "288"
      ]
     },
     "execution_count": 50,
     "metadata": {},
     "output_type": "execute_result"
    }
   ],
   "source": [
    "int('GG', 17)  # no one uses base 17"
   ]
  },
  {
   "cell_type": "code",
   "execution_count": 51,
   "id": "5effd850-fece-40ef-8d6a-e1a586672211",
   "metadata": {},
   "outputs": [
    {
     "data": {
      "text/plain": [
       "288"
      ]
     },
     "execution_count": 51,
     "metadata": {},
     "output_type": "execute_result"
    }
   ],
   "source": [
    "int('gg', 17) "
   ]
  },
  {
   "cell_type": "code",
   "execution_count": 52,
   "id": "288b8be3-6b39-4a6f-ad8f-fe98770457ca",
   "metadata": {},
   "outputs": [
    {
     "data": {
      "text/plain": [
       "288"
      ]
     },
     "execution_count": 52,
     "metadata": {},
     "output_type": "execute_result"
    }
   ],
   "source": [
    "16 * 17 + 16  # checking that this is the right answer"
   ]
  },
  {
   "cell_type": "code",
   "execution_count": 53,
   "id": "bb41565b-e7b5-4a38-af73-5d6a4366deb4",
   "metadata": {},
   "outputs": [
    {
     "data": {
      "text/plain": [
       "13"
      ]
     },
     "execution_count": 53,
     "metadata": {},
     "output_type": "execute_result"
    }
   ],
   "source": [
    "int('16', 7)  # one 7, plus 6"
   ]
  },
  {
   "cell_type": "markdown",
   "id": "cdffe320-4cdf-445f-b63b-d04d85a79a82",
   "metadata": {},
   "source": [
    "### str is for string\n",
    "\n",
    "The str type is about strings, meaning left to right ordered sequences of characters.  \n",
    "\n",
    "Behind every individual character is a sequence of bits, which we may express in base 2, 8, 10 or 16, depending on the situation.  \n",
    "\n",
    "Let's take a look:"
   ]
  },
  {
   "cell_type": "code",
   "execution_count": 1,
   "id": "3155677a-a9ed-4104-84ce-43d7ebc7edcc",
   "metadata": {},
   "outputs": [
    {
     "data": {
      "text/plain": [
       "str"
      ]
     },
     "execution_count": 1,
     "metadata": {},
     "output_type": "execute_result"
    }
   ],
   "source": [
    "type('a')"
   ]
  },
  {
   "cell_type": "code",
   "execution_count": 7,
   "id": "35e48a61-88db-4730-afc8-2e2e407bf2dc",
   "metadata": {},
   "outputs": [
    {
     "data": {
      "text/plain": [
       "\"Sally said: 'I want some ice cream'\""
      ]
     },
     "execution_count": 7,
     "metadata": {},
     "output_type": "execute_result"
    }
   ],
   "source": [
    "\"Sally said: 'I want some ice cream'\""
   ]
  },
  {
   "cell_type": "code",
   "execution_count": 8,
   "id": "9e1e2270-9887-41d2-ab0a-77d4f3107e95",
   "metadata": {},
   "outputs": [
    {
     "data": {
      "text/plain": [
       "97"
      ]
     },
     "execution_count": 8,
     "metadata": {},
     "output_type": "execute_result"
    }
   ],
   "source": [
    "ord('a')"
   ]
  },
  {
   "cell_type": "code",
   "execution_count": 14,
   "id": "3d032a3f-8a79-43fb-bf2c-c596f7899c8c",
   "metadata": {},
   "outputs": [
    {
     "data": {
      "text/plain": [
       "353"
      ]
     },
     "execution_count": 14,
     "metadata": {},
     "output_type": "execute_result"
    }
   ],
   "source": [
    "0x161"
   ]
  },
  {
   "cell_type": "code",
   "execution_count": 11,
   "id": "0f01ea83-3d6e-48c5-9e88-022c66876764",
   "metadata": {},
   "outputs": [
    {
     "data": {
      "text/plain": [
       "353"
      ]
     },
     "execution_count": 11,
     "metadata": {},
     "output_type": "execute_result"
    }
   ],
   "source": [
    "1 * 16**2 + 6 * 16 + 1"
   ]
  },
  {
   "cell_type": "code",
   "execution_count": 15,
   "id": "e0db4a52-615d-4b5b-a627-ee52ac388106",
   "metadata": {},
   "outputs": [
    {
     "data": {
      "text/plain": [
       "127829"
      ]
     },
     "execution_count": 15,
     "metadata": {},
     "output_type": "execute_result"
    }
   ],
   "source": [
    "ord('🍕')"
   ]
  },
  {
   "cell_type": "code",
   "execution_count": 16,
   "id": "ae8b3b40-d1a6-4bfd-945b-562207026b2f",
   "metadata": {},
   "outputs": [
    {
     "data": {
      "text/plain": [
       "'🍕'"
      ]
     },
     "execution_count": 16,
     "metadata": {},
     "output_type": "execute_result"
    }
   ],
   "source": [
    "chr(127829)"
   ]
  },
  {
   "cell_type": "code",
   "execution_count": 19,
   "id": "ab96e598-bfcb-4ecf-83bb-2e34a497795e",
   "metadata": {},
   "outputs": [
    {
     "data": {
      "text/plain": [
       "'🍒'"
      ]
     },
     "execution_count": 19,
     "metadata": {},
     "output_type": "execute_result"
    }
   ],
   "source": [
    "chr(127829 - 3)"
   ]
  },
  {
   "cell_type": "code",
   "execution_count": 59,
   "id": "ffaa6ca5-0062-41e2-b065-7c6f9f468e69",
   "metadata": {},
   "outputs": [
    {
     "data": {
      "text/plain": [
       "'a'"
      ]
     },
     "execution_count": 59,
     "metadata": {},
     "output_type": "execute_result"
    }
   ],
   "source": [
    "chr(97)"
   ]
  },
  {
   "cell_type": "code",
   "execution_count": 60,
   "id": "f9046c62-93cd-43d1-b289-717fbfd76af9",
   "metadata": {},
   "outputs": [
    {
     "data": {
      "text/plain": [
       "'a'"
      ]
     },
     "execution_count": 60,
     "metadata": {},
     "output_type": "execute_result"
    }
   ],
   "source": [
    "chr(0x61)"
   ]
  },
  {
   "cell_type": "markdown",
   "id": "5d34a198-a8dc-4546-93d9-4d8d4dbf43e1",
   "metadata": {},
   "source": [
    "### Collections\n",
    "\n",
    "Now that we've seen how to make individual numbers and strings from the builtin types, lets look at how we bring them together inside of data structures. \n",
    "\n",
    "Collections broadly divide into sequences and mappings.  \n",
    "\n",
    "* Sequences have a left to right order, meaning we can slice them.  \n",
    "* Mappings have no particular order and cannot be sliced."
   ]
  },
  {
   "cell_type": "markdown",
   "id": "fb095a3d-66a5-4256-aaf7-4caeb4ec4359",
   "metadata": {},
   "source": [
    "### Slicing\n",
    "\n",
    "What does \"slicing\" mean?  To slice is to get a sequence of elements using specified start and stop numbers, referring to the \"index\" of each element.\n",
    "\n",
    "Python likes `AnyList[start:stop:step]` notation, meaning we use square brackets with one or more colons inside.  The step argument is optional and defaults to 1."
   ]
  },
  {
   "cell_type": "code",
   "execution_count": 20,
   "id": "21c9f451-7cc0-4fcd-ab57-36db3803d6c3",
   "metadata": {},
   "outputs": [
    {
     "data": {
      "text/plain": [
       "[1, 7, -10, 3, 15, 92]"
      ]
     },
     "execution_count": 20,
     "metadata": {},
     "output_type": "execute_result"
    }
   ],
   "source": [
    "the_list = [1, 7, -10, 3, 15, 92]\n",
    "the_list"
   ]
  },
  {
   "cell_type": "code",
   "execution_count": 29,
   "id": "1badf5d6-f431-4298-85f8-dd4ef219cb50",
   "metadata": {},
   "outputs": [
    {
     "data": {
      "text/plain": [
       "[3, 15, 92]"
      ]
     },
     "execution_count": 29,
     "metadata": {},
     "output_type": "execute_result"
    }
   ],
   "source": [
    "the_list[3:]"
   ]
  },
  {
   "cell_type": "code",
   "execution_count": 62,
   "id": "d943dc90-c403-42b2-a260-aaad947d5aee",
   "metadata": {},
   "outputs": [
    {
     "data": {
      "text/plain": [
       "7"
      ]
     },
     "execution_count": 62,
     "metadata": {},
     "output_type": "execute_result"
    }
   ],
   "source": [
    "the_list[1]  # remember: 0-based indexing in Python"
   ]
  },
  {
   "cell_type": "code",
   "execution_count": 63,
   "id": "b1affdb6-2ccd-4f01-afaf-f058d0f7e74e",
   "metadata": {},
   "outputs": [
    {
     "data": {
      "text/plain": [
       "[7, -10]"
      ]
     },
     "execution_count": 63,
     "metadata": {},
     "output_type": "execute_result"
    }
   ],
   "source": [
    "the_list[1:3]  # the upper bound is not included "
   ]
  },
  {
   "cell_type": "code",
   "execution_count": 31,
   "id": "5bb1fbb4-99c0-407b-afd9-b47cf8b3ee4d",
   "metadata": {},
   "outputs": [
    {
     "data": {
      "text/plain": [
       "'love'"
      ]
     },
     "execution_count": 31,
     "metadata": {},
     "output_type": "execute_result"
    }
   ],
   "source": [
    "s = \"I love Python\"\n",
    "s[2:6]"
   ]
  },
  {
   "cell_type": "markdown",
   "id": "0d1ad445-8bbc-439c-b141-99f422dca6de",
   "metadata": {},
   "source": [
    "As with range(a, b) and many other Python types, the b argument is \"up to but do not include\".  \n",
    "\n",
    "Also, the b argument may be the only argument, with a defaulting to 0."
   ]
  },
  {
   "cell_type": "code",
   "execution_count": 64,
   "id": "9c919e40-8097-4d60-85d5-c81f43da2a50",
   "metadata": {},
   "outputs": [
    {
     "data": {
      "text/plain": [
       "range(0, 10)"
      ]
     },
     "execution_count": 64,
     "metadata": {},
     "output_type": "execute_result"
    }
   ],
   "source": [
    "range(0, 10)"
   ]
  },
  {
   "cell_type": "code",
   "execution_count": 65,
   "id": "00052998-5439-4f16-a5bf-6e197a465e7d",
   "metadata": {},
   "outputs": [
    {
     "data": {
      "text/plain": [
       "range(0, 10)"
      ]
     },
     "execution_count": 65,
     "metadata": {},
     "output_type": "execute_result"
    }
   ],
   "source": [
    "range(10)"
   ]
  },
  {
   "cell_type": "code",
   "execution_count": 66,
   "id": "8fff3d5a-e989-4c13-8305-b3eeaa3e7caf",
   "metadata": {},
   "outputs": [
    {
     "data": {
      "text/plain": [
       "[0, 2, 4, 6, 8, 10, 12, 14, 16, 18]"
      ]
     },
     "execution_count": 66,
     "metadata": {},
     "output_type": "execute_result"
    }
   ],
   "source": [
    "another_list = list(range(0, 20, 2))  # start, stop, step (stop not included)\n",
    "another_list"
   ]
  },
  {
   "cell_type": "code",
   "execution_count": 67,
   "id": "c0db8790-88d7-4fdd-b760-0ad58d70766b",
   "metadata": {},
   "outputs": [
    {
     "data": {
      "text/plain": [
       "[18, 16, 14, 12, 10, 8, 6, 4, 2, 0]"
      ]
     },
     "execution_count": 67,
     "metadata": {},
     "output_type": "execute_result"
    }
   ],
   "source": [
    "another_list[::-1]  # slice from beginning to end (whole list) be step from the end back"
   ]
  },
  {
   "cell_type": "markdown",
   "id": "e8aa3453-9b1b-41c1-a7bb-a2f1ab34ecb6",
   "metadata": {},
   "source": [
    "A Pythonista (a Python programmer, any gender) may also define a slice object using the `slice` type directly."
   ]
  },
  {
   "cell_type": "code",
   "execution_count": 68,
   "id": "fe57eed3-9134-4abd-94db-53a0a384c4a0",
   "metadata": {},
   "outputs": [
    {
     "data": {
      "text/plain": [
       "range(10, 15)"
      ]
     },
     "execution_count": 68,
     "metadata": {},
     "output_type": "execute_result"
    }
   ],
   "source": [
    "middle_5 = slice(10, 15)\n",
    "range(30)[middle_5] # create and slice in one statement"
   ]
  },
  {
   "cell_type": "markdown",
   "id": "50123ad8-34c6-40c6-bb8b-173b3b31d882",
   "metadata": {},
   "source": [
    "Feel free to Doodle & Daydream around `slice` such as by experimenting with its optional third argument (step)."
   ]
  },
  {
   "cell_type": "markdown",
   "id": "47821e13-95eb-4b78-8fb3-e830b515c131",
   "metadata": {},
   "source": [
    "### List Comprehension Syntax\n",
    "\n",
    "Since we have been talking about lists, it's to our advantage to remember \"list comprehension\" syntax:"
   ]
  },
  {
   "cell_type": "code",
   "execution_count": 69,
   "id": "54512314-c799-4b47-9c77-968fe7b1291d",
   "metadata": {},
   "outputs": [
    {
     "data": {
      "text/plain": [
       "['S', 'T', 'R', 'I', 'N', 'G']"
      ]
     },
     "execution_count": 69,
     "metadata": {},
     "output_type": "execute_result"
    }
   ],
   "source": [
    "[ i.capitalize() for i in \"string\"]"
   ]
  },
  {
   "cell_type": "code",
   "execution_count": 70,
   "id": "153ec27c-69e8-46df-94b4-373e1a47826e",
   "metadata": {},
   "outputs": [
    {
     "data": {
      "text/plain": [
       "[0, 1, 4, 9, 16, 25, 36, 49, 64, 81]"
      ]
     },
     "execution_count": 70,
     "metadata": {},
     "output_type": "execute_result"
    }
   ],
   "source": [
    "[x**2 for x in range(10)]"
   ]
  },
  {
   "cell_type": "markdown",
   "id": "17820c48-b204-48fd-80f1-a069f21b9b00",
   "metadata": {},
   "source": [
    "### More Sequence-like Types\n",
    "\n",
    "The Python Standard Library has quite a few more collection types than we have looked at.\n",
    "\n",
    "Additionally, in 3rd Party world (remember \"Dimensions of Python\"?), we have the numpy package, which gives us some range-like types with greater powers."
   ]
  },
  {
   "cell_type": "code",
   "execution_count": 71,
   "id": "325e00ae-4683-4471-becf-174d03280d08",
   "metadata": {},
   "outputs": [],
   "source": [
    "try:\n",
    "    import numpy as np # only works with numpy installed\n",
    "except:\n",
    "    print(\"Sorry you'll need to skip running this section for now\")"
   ]
  },
  {
   "cell_type": "code",
   "execution_count": 72,
   "id": "8367d65f-8067-4329-a887-d15e2d2f118c",
   "metadata": {},
   "outputs": [
    {
     "name": "stdout",
     "output_type": "stream",
     "text": [
      "[ 0.          0.40816327  0.81632653  1.2244898   1.63265306  2.04081633\n",
      "  2.44897959  2.85714286  3.26530612  3.67346939  4.08163265  4.48979592\n",
      "  4.89795918  5.30612245  5.71428571  6.12244898  6.53061224  6.93877551\n",
      "  7.34693878  7.75510204  8.16326531  8.57142857  8.97959184  9.3877551\n",
      "  9.79591837 10.20408163 10.6122449  11.02040816 11.42857143 11.83673469\n",
      " 12.24489796 12.65306122 13.06122449 13.46938776 13.87755102 14.28571429\n",
      " 14.69387755 15.10204082 15.51020408 15.91836735 16.32653061 16.73469388\n",
      " 17.14285714 17.55102041 17.95918367 18.36734694 18.7755102  19.18367347\n",
      " 19.59183673 20.        ]\n",
      "[ 0.   0.2  0.4  0.6  0.8  1.   1.2  1.4  1.6  1.8  2.   2.2  2.4  2.6\n",
      "  2.8  3.   3.2  3.4  3.6  3.8  4.   4.2  4.4  4.6  4.8  5.   5.2  5.4\n",
      "  5.6  5.8  6.   6.2  6.4  6.6  6.8  7.   7.2  7.4  7.6  7.8  8.   8.2\n",
      "  8.4  8.6  8.8  9.   9.2  9.4  9.6  9.8 10.  10.2 10.4 10.6 10.8 11.\n",
      " 11.2 11.4 11.6 11.8 12.  12.2 12.4 12.6 12.8 13.  13.2 13.4 13.6 13.8\n",
      " 14.  14.2 14.4 14.6 14.8 15.  15.2 15.4 15.6 15.8 16.  16.2 16.4 16.6\n",
      " 16.8 17.  17.2 17.4 17.6 17.8 18.  18.2 18.4 18.6 18.8 19.  19.2 19.4\n",
      " 19.6 19.8]\n"
     ]
    }
   ],
   "source": [
    "try:\n",
    "    r1 = np.linspace(0, 20, 50)\n",
    "    r2 = np.arange(0, 20, 0.2)\n",
    "except:\n",
    "    print(\"No numpy here\")\n",
    "else:\n",
    "    print(r1)\n",
    "    print(r2)"
   ]
  },
  {
   "cell_type": "markdown",
   "id": "3274f5f5-5b6f-4d91-b41f-163ac55d39af",
   "metadata": {},
   "source": [
    "### Python Functions\n",
    "\n",
    "We define a function with the keyword `def` like this:"
   ]
  },
  {
   "cell_type": "code",
   "execution_count": 73,
   "id": "cc6c5b04-bd7c-4d11-a128-388a2a5e7e7b",
   "metadata": {},
   "outputs": [],
   "source": [
    "def call_me():\n",
    "    pass"
   ]
  },
  {
   "cell_type": "markdown",
   "id": "f6532136-60db-40c4-a3a9-b3efa843d389",
   "metadata": {},
   "source": [
    "That has to be like the simplest function."
   ]
  },
  {
   "cell_type": "code",
   "execution_count": 74,
   "id": "3dbedd64-e10b-456b-86c3-1e2bf759006f",
   "metadata": {},
   "outputs": [
    {
     "data": {
      "text/plain": [
       "function"
      ]
     },
     "execution_count": 74,
     "metadata": {},
     "output_type": "execute_result"
    }
   ],
   "source": [
    "type(call_me)"
   ]
  },
  {
   "cell_type": "code",
   "execution_count": 75,
   "id": "ae835fed-8d34-4432-804d-7ffe0833003b",
   "metadata": {},
   "outputs": [
    {
     "data": {
      "text/plain": [
       "True"
      ]
     },
     "execution_count": 75,
     "metadata": {},
     "output_type": "execute_result"
    }
   ],
   "source": [
    "callable(call_me)"
   ]
  },
  {
   "cell_type": "markdown",
   "id": "9bd23b38-a2f0-4892-8523-9395ea0f4309",
   "metadata": {},
   "source": [
    "Now lets define a function with parameters.  These will be matched up with incoming arguments, passed to the function by some caller."
   ]
  },
  {
   "cell_type": "code",
   "execution_count": 76,
   "id": "f1b743f2-3c97-4913-9751-eaa71fb9ca1f",
   "metadata": {},
   "outputs": [],
   "source": [
    "def eats(food1, food2):\n",
    "    # food1, and food2 are parameters\n",
    "    return food1 + \" & \" + food2"
   ]
  },
  {
   "cell_type": "code",
   "execution_count": 77,
   "id": "3c23904f-ec8d-437f-90ae-93f2b99d423a",
   "metadata": {},
   "outputs": [
    {
     "data": {
      "text/plain": [
       "'Cookies & Cream'"
      ]
     },
     "execution_count": 77,
     "metadata": {},
     "output_type": "execute_result"
    }
   ],
   "source": [
    "eats(\"Cookies\", \"Cream\") # passing arguments"
   ]
  },
  {
   "cell_type": "markdown",
   "id": "fa396eda-368f-4797-8642-c5c77a7e37c7",
   "metadata": {},
   "source": [
    "Python's function type is based on the mathematical idea of a function, but has fewer restrictions. \n",
    "\n",
    "A Python function takes inputs, called arguments, which it matches with its parameters (there's a story here), and returns a result. \n",
    "\n",
    "The returned result typically depends on doing something with the parameters internally, within the body of the function.\n",
    "\n",
    "A function with no `return` statement, or with `return` followed by no object, returns the NoneType object.\n",
    "\n",
    "Mathematical functions always point the same inputs to the same outputs.  Python functions don't have to."
   ]
  },
  {
   "cell_type": "code",
   "execution_count": 78,
   "id": "a25f816c-cc4d-4494-892a-c3547fc75822",
   "metadata": {},
   "outputs": [],
   "source": [
    "def sayit(phrase):\n",
    "    \"\"\"\n",
    "    a function with no return statement\n",
    "    \"\"\"\n",
    "    print(phrase)"
   ]
  },
  {
   "cell_type": "code",
   "execution_count": 79,
   "id": "fd1c21f5-33bf-47e8-9c5c-036f2d46bc4e",
   "metadata": {},
   "outputs": [
    {
     "name": "stdout",
     "output_type": "stream",
     "text": [
      "Hello\n"
     ]
    }
   ],
   "source": [
    "sayit(\"Hello\")"
   ]
  },
  {
   "cell_type": "code",
   "execution_count": 80,
   "id": "ceaa160e-b038-445e-9ce5-3d1af8a42058",
   "metadata": {},
   "outputs": [
    {
     "name": "stdout",
     "output_type": "stream",
     "text": [
      "Hello\n"
     ]
    },
    {
     "data": {
      "text/plain": [
       "NoneType"
      ]
     },
     "execution_count": 80,
     "metadata": {},
     "output_type": "execute_result"
    }
   ],
   "source": [
    "type(sayit(\"Hello\")) # prints phrase, but returns None"
   ]
  },
  {
   "cell_type": "markdown",
   "id": "a6383d37-0457-4a17-b5c3-01b0e0b02443",
   "metadata": {},
   "source": [
    "Here's a function that, given the very same input, might return a different output, thanks to a call to that Standard Library's `random.choice`.  \n",
    "\n",
    "Mathematically speaking, the same inputs, resulting in  different output, is a disqualifying.  This is not strictly speaking a mathematical function, which always gives the same output for the same input.  \n",
    "\n",
    "We still think of it as a Python function though, because it uses the keyword def, and it returns a value, even if only the None object."
   ]
  },
  {
   "cell_type": "code",
   "execution_count": 81,
   "id": "9b8f163b-3f23-45e6-950b-3d1836f9f671",
   "metadata": {},
   "outputs": [],
   "source": [
    "from random import choice  # we've seen this before\n",
    "\n",
    "def choose_a_flavor(flavors):\n",
    "    print(\"The choices are:\", \", \".join(flavors))\n",
    "    picked = choice(flavors)\n",
    "    print(\"The one picked:\", picked)\n",
    "    return picked"
   ]
  },
  {
   "cell_type": "code",
   "execution_count": 82,
   "id": "f93846bc-3975-42a5-8b6e-debf747132ff",
   "metadata": {},
   "outputs": [],
   "source": [
    "yummy = [\"chocolate\",\n",
    "         \"vanilla\",\n",
    "         \"strawberry\",\n",
    "         \"chocolate chip\",\n",
    "         \"rocky road\",\n",
    "         \"lemon\",\n",
    "         \"pistacio\",\n",
    "         \"peanut butter\"]"
   ]
  },
  {
   "cell_type": "code",
   "execution_count": 83,
   "id": "14644b97-e66c-4333-a3c5-3c782a68ab50",
   "metadata": {},
   "outputs": [
    {
     "name": "stdout",
     "output_type": "stream",
     "text": [
      "The choices are: chocolate, vanilla, strawberry, chocolate chip, rocky road, lemon, pistacio, peanut butter\n",
      "The one picked: chocolate\n"
     ]
    },
    {
     "data": {
      "text/plain": [
       "'chocolate'"
      ]
     },
     "execution_count": 83,
     "metadata": {},
     "output_type": "execute_result"
    }
   ],
   "source": [
    "choose_a_flavor(yummy)"
   ]
  },
  {
   "cell_type": "markdown",
   "id": "74507491-8f45-4c1c-aa71-dc7366e9f023",
   "metadata": {},
   "source": [
    "The two print statements send strings to the console (that's the job of print) but print each returns None (the NoneType object).  \n",
    "\n",
    "The function itself returns `picked` the chosen flavor."
   ]
  },
  {
   "cell_type": "code",
   "execution_count": 84,
   "id": "3a11c4fb-b647-4b82-afaa-99f4e373a947",
   "metadata": {},
   "outputs": [
    {
     "name": "stdout",
     "output_type": "stream",
     "text": [
      "I love ice cream\n"
     ]
    },
    {
     "data": {
      "text/plain": [
       "NoneType"
      ]
     },
     "execution_count": 84,
     "metadata": {},
     "output_type": "execute_result"
    }
   ],
   "source": [
    "a = print(\"I love ice cream\")\n",
    "type(a)"
   ]
  },
  {
   "cell_type": "code",
   "execution_count": 69,
   "id": "0be2f102-f15e-454d-8b7e-20fb916a7a89",
   "metadata": {},
   "outputs": [],
   "source": [
    "L = [0, 'a', complex(1, 2), (0, 1), {(4, 5): \"Waldo\", 'a':'d'}, 6]\n",
    "save = L.pop()"
   ]
  },
  {
   "cell_type": "code",
   "execution_count": 70,
   "id": "f48e0e4e-dd89-496b-bac3-87b724ec6dea",
   "metadata": {},
   "outputs": [
    {
     "data": {
      "text/plain": [
       "6"
      ]
     },
     "execution_count": 70,
     "metadata": {},
     "output_type": "execute_result"
    }
   ],
   "source": [
    "save"
   ]
  },
  {
   "cell_type": "code",
   "execution_count": 71,
   "id": "3c44691e-0546-40fb-9dfa-d70a3d983f0f",
   "metadata": {},
   "outputs": [
    {
     "data": {
      "text/plain": [
       "[0, 'a', (1+2j), (0, 1), {(4, 5): 'Waldo', 'a': 'd'}]"
      ]
     },
     "execution_count": 71,
     "metadata": {},
     "output_type": "execute_result"
    }
   ],
   "source": [
    "L"
   ]
  },
  {
   "cell_type": "code",
   "execution_count": 73,
   "id": "9a7315ee-4d67-4f67-9e5f-cc4f3150ee92",
   "metadata": {},
   "outputs": [
    {
     "data": {
      "text/plain": [
       "'Waldo'"
      ]
     },
     "execution_count": 73,
     "metadata": {},
     "output_type": "execute_result"
    }
   ],
   "source": [
    "L[4][(4, 5)]"
   ]
  },
  {
   "cell_type": "markdown",
   "id": "797b0210-d351-4347-b398-5042d452e8de",
   "metadata": {},
   "source": [
    "How would you code a Guess My Secret Number game?\n",
    "\n",
    "The computer picks a random number between a minimum and maximum and gives the player five guesses.\n",
    "\n",
    "Lets get to work in a fresh Replit."
   ]
  },
  {
   "cell_type": "code",
   "execution_count": 75,
   "id": "5f9c6050-4030-4a4b-9f0b-b60a46e7c6fb",
   "metadata": {},
   "outputs": [],
   "source": [
    "# %load guess_me.py\n",
    "\"\"\"\n",
    "July 15 \n",
    "coding it together\n",
    "\"\"\"\n",
    "\n",
    "from random import randint\n",
    "\n",
    "def play(guesses=5, minimum=0, maximum=10):\n",
    "    secret_number = randint(minimum, maximum)\n",
    "    print(f\"Welcome to Guess My Number Between {minimum} and {maximum}!\")\n",
    "    answer = ''\n",
    "    while answer != 'q':\n",
    "        if 0 == guesses:\n",
    "            print(\"Out of guesses, sorry\")\n",
    "            break\n",
    "        print(\"You have {} guesses\".format(guesses))        \n",
    "        print(\"Can you guess my secret number?\")\n",
    "        answer = input(\"(q to quit) > \")\n",
    "        if answer.isdigit():\n",
    "            guess = int(answer)\n",
    "            if secret_number == guess:\n",
    "                print(\"You win!\")\n",
    "                answer = 'q'\n",
    "                continue\n",
    "            if secret_number < guess:\n",
    "                print(\"Too high!\")\n",
    "            if secret_number > guess:\n",
    "                print(\"Too low!\")            \n",
    "            guesses = guesses - 1 \n",
    "        else:\n",
    "            answer = answer.lower()\n",
    "    print(\"Come back soon\")"
   ]
  },
  {
   "cell_type": "code",
   "execution_count": 76,
   "id": "ef86661c-31cd-479a-a23d-194c424cb4af",
   "metadata": {},
   "outputs": [
    {
     "name": "stdout",
     "output_type": "stream",
     "text": [
      "Welcome to Guess My Number Between 0 and 10!\n",
      "You have 5 guesses\n",
      "Can you guess my secret number?\n"
     ]
    },
    {
     "name": "stdin",
     "output_type": "stream",
     "text": [
      "(q to quit) >  5\n"
     ]
    },
    {
     "name": "stdout",
     "output_type": "stream",
     "text": [
      "You win!\n",
      "Come back soon\n"
     ]
    }
   ],
   "source": [
    "play()"
   ]
  },
  {
   "cell_type": "markdown",
   "id": "f0387d7f-eca3-43c0-a669-ca2450ac4d0e",
   "metadata": {},
   "source": [
    "### Eating Inputs\n",
    "\n",
    "Suppose you want your Python function to take a variable number of arguments.  \n",
    "\n",
    "How would you line up a variable number of arguments at runtime (when the program is running), with a fixed number of parameters at define time (when the program is compiled)?\n",
    "\n",
    "Python has an elegant solution to this question.\n",
    "\n",
    "Imagine taking an average, but not always of the same number of numbers.\n",
    "\n",
    "That's where the star comes in, as a prefix:"
   ]
  },
  {
   "cell_type": "code",
   "execution_count": 85,
   "id": "ead6afee-832a-4d53-a475-96a3cc8317c0",
   "metadata": {},
   "outputs": [],
   "source": [
    "def average(*arguments):\n",
    "    \"\"\"\n",
    "    eats any number of positional args\n",
    "    \"\"\"\n",
    "    how_many = len(arguments) # length of the tuplel\n",
    "    the_sum  = sum(arguments)\n",
    "    return the_sum/how_many   # sum / how many"
   ]
  },
  {
   "cell_type": "code",
   "execution_count": 86,
   "id": "97878d55-4a20-4ee2-b062-b3fc760c0135",
   "metadata": {},
   "outputs": [
    {
     "data": {
      "text/plain": [
       "3.888888888888889"
      ]
     },
     "execution_count": 86,
     "metadata": {},
     "output_type": "execute_result"
    }
   ],
   "source": [
    "average(1, 2, 3, 4, 5, 5, 5, 5, 5)"
   ]
  },
  {
   "cell_type": "code",
   "execution_count": 87,
   "id": "2905f7b7-47d9-4e2f-a8ee-0038ae1d9db9",
   "metadata": {},
   "outputs": [
    {
     "data": {
      "text/plain": [
       "1.0"
      ]
     },
     "execution_count": 87,
     "metadata": {},
     "output_type": "execute_result"
    }
   ],
   "source": [
    "average(1, 1, 1, 1)"
   ]
  },
  {
   "cell_type": "code",
   "execution_count": 88,
   "id": "5911aa92-3ff2-4607-9f3b-3293a66d9b3e",
   "metadata": {},
   "outputs": [
    {
     "data": {
      "text/plain": [
       "2.5"
      ]
     },
     "execution_count": 88,
     "metadata": {},
     "output_type": "execute_result"
    }
   ],
   "source": [
    "average(5, 4, 3, 2, 1, 0)"
   ]
  },
  {
   "cell_type": "markdown",
   "id": "56aeae35-99d5-4091-8b87-dad901d3dbf0",
   "metadata": {},
   "source": [
    "Arguments come in two flavors, positional and named.  Positional arguments always come first, in left to right order.  Once an argument is named, the rest have to be also."
   ]
  },
  {
   "cell_type": "markdown",
   "id": "a17b16f6-c273-4207-81ca-18b776736d95",
   "metadata": {},
   "source": [
    "When it comes to accepting a variable number of *named* arguments, the double-star is what's critical."
   ]
  },
  {
   "cell_type": "code",
   "execution_count": 89,
   "id": "ccba9989-74d5-44ef-a450-03193ae00668",
   "metadata": {},
   "outputs": [],
   "source": [
    "def find_oldest(**animals):\n",
    "    \"\"\"\n",
    "    ** puts all the animal:age pairs in a dict\n",
    "    \"\"\"\n",
    "    maxage = 0\n",
    "    oldest = ''\n",
    "    for animal in animals:\n",
    "        the_age = animals[animal]\n",
    "        if the_age > maxage:\n",
    "            oldest, maxage = animal, the_age\n",
    "    return oldest, maxage"
   ]
  },
  {
   "cell_type": "code",
   "execution_count": 90,
   "id": "f111823d-932b-444f-9378-524736cad927",
   "metadata": {},
   "outputs": [],
   "source": [
    "eldest = find_oldest(Bear=10, Monkey=5, Lion=3, Tiger=5)"
   ]
  },
  {
   "cell_type": "code",
   "execution_count": 91,
   "id": "7d83be00-d47f-43af-a2d4-13ba2a85bd93",
   "metadata": {},
   "outputs": [
    {
     "data": {
      "text/plain": [
       "('Bear', 10)"
      ]
     },
     "execution_count": 91,
     "metadata": {},
     "output_type": "execute_result"
    }
   ],
   "source": [
    "eldest"
   ]
  }
 ],
 "metadata": {
  "kernelspec": {
   "display_name": "Python 3 (ipykernel)",
   "language": "python",
   "name": "python3"
  },
  "language_info": {
   "codemirror_mode": {
    "name": "ipython",
    "version": 3
   },
   "file_extension": ".py",
   "mimetype": "text/x-python",
   "name": "python",
   "nbconvert_exporter": "python",
   "pygments_lexer": "ipython3",
   "version": "3.9.12"
  }
 },
 "nbformat": 4,
 "nbformat_minor": 5
}
