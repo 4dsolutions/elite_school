{
 "cells": [
  {
   "cell_type": "markdown",
   "metadata": {
    "id": "WS-xs7JeiDjh"
   },
   "source": [
    "# High School Math with Python 3.x\n",
    "#### July 28, 30, 2021\n",
    "\n",
    "In this Notebook we take up two main topics:\n",
    "\n",
    "* running Notebooks in the cloud\n",
    "* a Rational Number type in pure Python\n",
    "\n",
    "In the background, we're always reviewing what we've touched on so far such as:\n",
    "\n",
    "* factorial and [sigma notation](SigmaNotation.ipynb) (Ramanujan series)\n",
    "* Python Generator ([Pascal's Triangle](PascalsTriangle.ipynb) and Galton Board)\n",
    "* GCD, co-prime, [totatives, totient](Euler.ipynb)\n",
    "* LaTeX (making Math pretty)\n",
    "* [SQL](DatabaseFun.ipynb) ([airports and rollercoasters](TabularPython.ipynb))\n",
    "* Regular Expressions (still ahead)\n",
    "* JupyterLab for Jupyter Notebooks\n",
    "\n",
    "Here we are, using MarkDown. We started this on [Google Colab](https://colab.research.google.com/), and then the teacher downloaded it to the localhost elite_school repo.  The teacher will push this to [the school repo](https://github.com/4dsolutions/elite_school) after class.\n",
    "\n",
    "This is how we do science today:  [our new Notebook](https://paulromer.net/jupyter-mathematica-and-the-future-of-the-research-paper/) (opinion piece by an economist)."
   ]
  },
  {
   "cell_type": "code",
   "execution_count": 1,
   "metadata": {
    "id": "joboj0dCiQba"
   },
   "outputs": [],
   "source": [
    "import math"
   ]
  },
  {
   "cell_type": "markdown",
   "metadata": {},
   "source": [
    "Lowly floating point has many shortcomings:"
   ]
  },
  {
   "cell_type": "code",
   "execution_count": 2,
   "metadata": {
    "colab": {
     "base_uri": "https://localhost:8080/"
    },
    "id": "YcOKu-fziXyf",
    "outputId": "397ac563-6df7-417a-defe-33b08c9ffb67"
   },
   "outputs": [
    {
     "data": {
      "text/plain": [
       "2.0000000000000004"
      ]
     },
     "execution_count": 2,
     "metadata": {},
     "output_type": "execute_result"
    }
   ],
   "source": [
    "math.sqrt(2) * math.sqrt(2)"
   ]
  },
  {
   "cell_type": "code",
   "execution_count": 3,
   "metadata": {},
   "outputs": [
    {
     "data": {
      "text/plain": [
       "'0.000010'"
      ]
     },
     "execution_count": 3,
     "metadata": {},
     "output_type": "execute_result"
    }
   ],
   "source": [
    "\"{:6f}\".format(1e-5)"
   ]
  },
  {
   "cell_type": "code",
   "execution_count": 4,
   "metadata": {},
   "outputs": [
    {
     "data": {
      "text/plain": [
       "'1100100'"
      ]
     },
     "execution_count": 4,
     "metadata": {},
     "output_type": "execute_result"
    }
   ],
   "source": [
    "\"{:b}\".format(100)"
   ]
  },
  {
   "cell_type": "code",
   "execution_count": 5,
   "metadata": {
    "id": "cwf1E9TJi5L9"
   },
   "outputs": [],
   "source": [
    "from decimal import Decimal"
   ]
  },
  {
   "cell_type": "code",
   "execution_count": 6,
   "metadata": {
    "id": "STDeXJcQjJFC"
   },
   "outputs": [],
   "source": [
    "rt2 = Decimal(2).sqrt()"
   ]
  },
  {
   "cell_type": "markdown",
   "metadata": {},
   "source": [
    "28 decimal digits by default, but you can vary this setting."
   ]
  },
  {
   "cell_type": "code",
   "execution_count": 7,
   "metadata": {
    "colab": {
     "base_uri": "https://localhost:8080/"
    },
    "id": "bcMxBo6JjRE3",
    "outputId": "bb5ff68b-87d2-4097-80ad-c7a73efff988"
   },
   "outputs": [
    {
     "data": {
      "text/plain": [
       "Decimal('1.414213562373095048801688724')"
      ]
     },
     "execution_count": 7,
     "metadata": {},
     "output_type": "execute_result"
    }
   ],
   "source": [
    "rt2"
   ]
  },
  {
   "cell_type": "code",
   "execution_count": 8,
   "metadata": {},
   "outputs": [
    {
     "data": {
      "text/plain": [
       "Decimal('1.999999999999999999999999999')"
      ]
     },
     "execution_count": 8,
     "metadata": {},
     "output_type": "execute_result"
    }
   ],
   "source": [
    "rt2 * rt2"
   ]
  },
  {
   "cell_type": "markdown",
   "metadata": {},
   "source": [
    "Still not perfect, but yet more precise."
   ]
  },
  {
   "cell_type": "code",
   "execution_count": 9,
   "metadata": {
    "colab": {
     "base_uri": "https://localhost:8080/"
    },
    "id": "WBlT3oWfjpYA",
    "outputId": "57f27b25-6a88-45d1-8c4f-6c567ed4fb21"
   },
   "outputs": [],
   "source": [
    "# ! pip install gmpy2"
   ]
  },
  {
   "cell_type": "markdown",
   "metadata": {
    "id": "GUEdx1s1kwcN"
   },
   "source": [
    "#### ...oops\n",
    "\n",
    "We switched back to working locally, after visiting Mybinder.org, which didn't work with our gmpy2 solution.  That's our experiment for today."
   ]
  },
  {
   "cell_type": "markdown",
   "metadata": {},
   "source": [
    "We got to this dead end, after which I shared a working solution, an example of how to enhance a Notebook's environment by using apt-get and pip, which work in Colab's case."
   ]
  },
  {
   "cell_type": "markdown",
   "metadata": {},
   "source": [
    "Back at home base (localhost), in our Anaconda environment, importing gmpy2 is not an issue."
   ]
  },
  {
   "cell_type": "code",
   "execution_count": 10,
   "metadata": {},
   "outputs": [],
   "source": [
    "import gmpy2"
   ]
  },
  {
   "cell_type": "markdown",
   "metadata": {},
   "source": [
    "## Rational Number Type\n",
    "\n",
    "Contemporary Python has a Fraction type in the fractions module.  But before that, Pythonistas might code their own version.  Lets hack on a Fraction type, just to see its internals.\n",
    "\n",
    "Python permits Operator Overloading."
   ]
  },
  {
   "cell_type": "code",
   "execution_count": 33,
   "metadata": {},
   "outputs": [],
   "source": [
    "from math import gcd\n",
    "\n",
    "class Rat:\n",
    "    \n",
    "    def __init__(self, numer, denom):\n",
    "        \"\"\"Simplify to lowest terms upon creation\"\"\"\n",
    "        common = gcd(numer, denom)\n",
    "        self.numer = numer // common\n",
    "        self.denom = denom // common\n",
    "        \n",
    "    def __mul__(self, other):\n",
    "        return Rat(self.numer * other.numer, self.denom * other.denom)\n",
    "    \n",
    "    def __truediv__(self, other):\n",
    "        \"\"\"Multiply by the multiplicative inverse (reciprocal)\"\"\"\n",
    "        raise NotImplemented\n",
    "        \n",
    "    def __invert__(self):\n",
    "        \"\"\"Flip Over, Reciprocal:  self * ~self == (1/1)\"\"\"\n",
    "        return Rat(self.denominator, self.numerator)\n",
    "    \n",
    "    def __add__(self, other):\n",
    "        if type(other) == int:\n",
    "            other = Rat(other, 1)\n",
    "        return Rat(\n",
    "                (self.numer * other.denom) + (other.numer * self.denom), \n",
    "                 self.denom * other.denom)\n",
    "    \n",
    "    __radd__ = __add__\n",
    "    \n",
    "    def __sub__(self, other):\n",
    "        \"\"\"Add the additive inverse\"\"\"\n",
    "        return self + (-other)\n",
    "    \n",
    "    __rsub__ = __sub__\n",
    "    \n",
    "    def __neg__(self):\n",
    "        \"Additive inverse\"\n",
    "        return Rat(-self.numer, self.denom)\n",
    "    \n",
    "    def __pow__(self, n: int):\n",
    "        if n == 0:\n",
    "            return Rat(1, 1)\n",
    "        if n == 1:\n",
    "            return self\n",
    "        result = self\n",
    "        for _ in range(n-1):\n",
    "            result = result * self\n",
    "        return result        \n",
    "        \n",
    "    def __repr__(self):\n",
    "        return f\"({self.numer}/{self.denom})\""
   ]
  },
  {
   "cell_type": "code",
   "execution_count": 12,
   "metadata": {},
   "outputs": [],
   "source": [
    "r1 = Rat(1, 2)\n",
    "r2 = Rat(1, 3)"
   ]
  },
  {
   "cell_type": "code",
   "execution_count": 13,
   "metadata": {},
   "outputs": [
    {
     "data": {
      "text/plain": [
       "(1000/27)"
      ]
     },
     "execution_count": 13,
     "metadata": {},
     "output_type": "execute_result"
    }
   ],
   "source": [
    "(r2 + 3)**3"
   ]
  },
  {
   "cell_type": "code",
   "execution_count": 14,
   "metadata": {},
   "outputs": [
    {
     "data": {
      "text/plain": [
       "(-1/2)"
      ]
     },
     "execution_count": 14,
     "metadata": {},
     "output_type": "execute_result"
    }
   ],
   "source": [
    "---r1"
   ]
  },
  {
   "cell_type": "code",
   "execution_count": 15,
   "metadata": {},
   "outputs": [],
   "source": [
    "from fractions import Fraction"
   ]
  },
  {
   "cell_type": "code",
   "execution_count": 16,
   "metadata": {},
   "outputs": [],
   "source": [
    "q1 = Fraction(1, 2)"
   ]
  },
  {
   "cell_type": "code",
   "execution_count": 17,
   "metadata": {},
   "outputs": [
    {
     "data": {
      "text/plain": [
       "Fraction(1, 1)"
      ]
     },
     "execution_count": 17,
     "metadata": {},
     "output_type": "execute_result"
    }
   ],
   "source": [
    "q1**0"
   ]
  },
  {
   "cell_type": "code",
   "execution_count": 18,
   "metadata": {},
   "outputs": [
    {
     "data": {
      "text/plain": [
       "(1/6)"
      ]
     },
     "execution_count": 18,
     "metadata": {},
     "output_type": "execute_result"
    }
   ],
   "source": [
    "r1 * r2 "
   ]
  },
  {
   "cell_type": "code",
   "execution_count": 19,
   "metadata": {},
   "outputs": [
    {
     "data": {
      "text/plain": [
       "(1/6)"
      ]
     },
     "execution_count": 19,
     "metadata": {},
     "output_type": "execute_result"
    }
   ],
   "source": [
    "Rat(1,2) * Rat(1,3)"
   ]
  },
  {
   "cell_type": "code",
   "execution_count": 20,
   "metadata": {},
   "outputs": [],
   "source": [
    "Q = Rat"
   ]
  },
  {
   "cell_type": "code",
   "execution_count": 21,
   "metadata": {},
   "outputs": [],
   "source": [
    "r3 = Q(100, 50)"
   ]
  },
  {
   "cell_type": "code",
   "execution_count": 22,
   "metadata": {},
   "outputs": [
    {
     "data": {
      "text/plain": [
       "(2/1)"
      ]
     },
     "execution_count": 22,
     "metadata": {},
     "output_type": "execute_result"
    }
   ],
   "source": [
    "r3"
   ]
  },
  {
   "cell_type": "markdown",
   "metadata": {},
   "source": [
    "Saved Chat from July 28:\n",
    "\n",
    "\n",
    "<pre>\n",
    "16:34:03 From Kirby Urner to Everyone : https://github.com/4dsolutions/elite_school/blob/c04b0793d3009edc62373d3f2e103e7e5dfad91b/Home.ipynb\n",
    "16:37:09 From Kirby Urner to Everyone : cyberspace\n",
    "16:37:56 From Kirby Urner to Everyone : what is the root of “cyber”?\n",
    "16:45:26 From Kirby Urner to Everyone : https://colab.research.google.com/\n",
    "17:03:17 From Kirby Urner to Everyone : ! pip install gmpy2\n",
    "17:04:30 From Kirby Urner to Everyone : Monty Python\n",
    "17:04:36 From Kirby Urner to Everyone : cheese shop\n",
    "17:15:43 From Kirby Urner to Everyone : !apt-get install libgmp-dev libmpfr-dev libmpc-dev\n",
    "17:15:52 From Kirby Urner to Everyone : cyber = steer\n",
    "17:16:04 From Kirby Urner to Everyone : rudder\n",
    "17:16:48 From Kirby Urner to Everyone : cybernetics\n",
    "17:18:19 From Kirby Urner to Everyone : apt-get is like pip, like conda:  download more stuff\n",
    "17:18:39 From Kirby Urner to Everyone : Linux\n",
    "17:33:47 From Kirby Urner to Everyone : https://mybinder.org/\n",
    "17:40:16 From Kirby Urner to Everyone : hypothesis\n",
    "17:40:23 From Kirby Urner to Everyone : cybernetics = feedback loops\n",
    "17:43:56 From Kirby Urner to Everyone : __repr__\n",
    "17:44:04 From Kirby Urner to Everyone : __init__\n",
    "17:45:35 From Kirby Urner to Everyone : 2/3 4/6\n",
    "17:46:00 From Kirby Urner to Everyone : coprime\n",
    "17:46:04 From Kirby Urner to Everyone : strangers\n",
    "18:00:18 From Kyle Chen to Everyone : thank you\n",
    "18:00:18 From Sophie to Everyone : thanks\n",
    "</pre>"
   ]
  },
  {
   "cell_type": "markdown",
   "metadata": {},
   "source": [
    "#### Back to gmpy2\n",
    "\n",
    "Lets have the docs open off to the side.  Math with programming is not about memorizing everything to survive a closed book test.  The books stay open and accessible.\n",
    "\n",
    "Since multi-precision reals (mpfr type) is what we're interested in using, lets link straight to [that section](https://gmpy2.readthedocs.io/en/latest/)."
   ]
  },
  {
   "cell_type": "code",
   "execution_count": 23,
   "metadata": {},
   "outputs": [
    {
     "data": {
      "text/plain": [
       "context(precision=53, real_prec=Default, imag_prec=Default,\n",
       "        round=RoundToNearest, real_round=Default, imag_round=Default,\n",
       "        emax=1073741823, emin=-1073741823,\n",
       "        subnormalize=False,\n",
       "        trap_underflow=False, underflow=False,\n",
       "        trap_overflow=False, overflow=False,\n",
       "        trap_inexact=False, inexact=False,\n",
       "        trap_invalid=False, invalid=False,\n",
       "        trap_erange=False, erange=False,\n",
       "        trap_divzero=False, divzero=False,\n",
       "        trap_expbound=False,\n",
       "        allow_complex=False)"
      ]
     },
     "execution_count": 23,
     "metadata": {},
     "output_type": "execute_result"
    }
   ],
   "source": [
    "from gmpy2 import mpfr\n",
    "gmpy2.get_context()"
   ]
  },
  {
   "cell_type": "code",
   "execution_count": 24,
   "metadata": {},
   "outputs": [
    {
     "data": {
      "text/plain": [
       "mpfr('1.0')"
      ]
     },
     "execution_count": 24,
     "metadata": {},
     "output_type": "execute_result"
    }
   ],
   "source": [
    "one = mpfr('1')\n",
    "one"
   ]
  },
  {
   "cell_type": "markdown",
   "metadata": {},
   "source": [
    "#### An Application for High Precision Computing\n",
    "\n",
    "In the world of vector graphics, we specify the address or coordinates of a place (locus) using vectors.  \n",
    "\n",
    "The type of vector used below (Qvector) is not conventionally included in a high school math course, but our high school math with Python is futuristic."
   ]
  },
  {
   "cell_type": "code",
   "execution_count": 25,
   "metadata": {},
   "outputs": [],
   "source": [
    "from qrays import Qvector"
   ]
  },
  {
   "cell_type": "code",
   "execution_count": 26,
   "metadata": {},
   "outputs": [],
   "source": [
    "qvA = Qvector((1,0,0,0)) # picture methane molecule"
   ]
  },
  {
   "cell_type": "code",
   "execution_count": 27,
   "metadata": {},
   "outputs": [],
   "source": [
    "qvAm = Qvector((one,0,0,0))"
   ]
  },
  {
   "cell_type": "code",
   "execution_count": 28,
   "metadata": {},
   "outputs": [
    {
     "data": {
      "text/plain": [
       "0.6123724356957945"
      ]
     },
     "execution_count": 28,
     "metadata": {},
     "output_type": "execute_result"
    }
   ],
   "source": [
    "qvA.length()"
   ]
  },
  {
   "cell_type": "code",
   "execution_count": 29,
   "metadata": {},
   "outputs": [
    {
     "data": {
      "text/plain": [
       "mpfr('0.61237243569579447')"
      ]
     },
     "execution_count": 29,
     "metadata": {},
     "output_type": "execute_result"
    }
   ],
   "source": [
    "qvAm.length()"
   ]
  },
  {
   "cell_type": "code",
   "execution_count": 30,
   "metadata": {},
   "outputs": [],
   "source": [
    "gmpy2.get_context().precision=100"
   ]
  },
  {
   "cell_type": "code",
   "execution_count": 31,
   "metadata": {},
   "outputs": [],
   "source": [
    "one = mpfr('1')"
   ]
  },
  {
   "cell_type": "code",
   "execution_count": 32,
   "metadata": {},
   "outputs": [
    {
     "data": {
      "text/plain": [
       "mpfr('0.61237243569579452454932101867661',100)"
      ]
     },
     "execution_count": 32,
     "metadata": {},
     "output_type": "execute_result"
    }
   ],
   "source": [
    "qvAm = Qvector((one,0,0,0))\n",
    "qvAm.length()"
   ]
  },
  {
   "cell_type": "markdown",
   "metadata": {},
   "source": [
    "Chat from July 30: \n",
    "<pre>\n",
    "17:09:04 From Kirby Urner to Everyone : (1/2) + (1/3)\n",
    "17:10:18 From Kirby Urner to Everyone : (3/3)\n",
    "17:10:22 From Kirby Urner to Everyone : (2/2)\n",
    "17:11:23 From Kirby Urner to Everyone : (1/2)*(3/3) + (1/3)*(2/2)\n",
    "17:12:16 From Kirby Urner to Everyone : 3/6 + 2/6\n",
    "17:12:24 From Kirby Urner to Everyone : 5/6\n",
    "17:22:46 From Kirby Urner to Everyone : (1/2) * (1/2) * (1/2)\n",
    "17:24:22 From Kirby Urner to Everyone : (1/2) ** 3\n",
    "17:30:59 From Nidhi Yadalam to Everyone : 1\n",
    "17:31:00 From Zicheng Huang to Everyone : 1\n",
    "17:38:36 From Kirby Urner to Everyone : (9765625/3570467226624)\n",
    "18:00:28 From Nidhi Yadalam to Everyone : Thank you!\n",
    "18:00:30 From Kyle Chen to Everyone : thank you\n",
    "</pre>"
   ]
  },
  {
   "cell_type": "markdown",
   "metadata": {},
   "source": [
    "For more background see:\n",
    "\n",
    "* [Random Walks in the Matrix (Regular Edition)](Quadrays.ipynb)\n",
    "* [Random Walks in the Matrix (Colab Ready Version)](Quadrays_in_colab.ipynb)"
   ]
  }
 ],
 "metadata": {
  "colab": {
   "name": "Untitled0.ipynb",
   "provenance": []
  },
  "kernelspec": {
   "display_name": "Python 3",
   "language": "python",
   "name": "python3"
  },
  "language_info": {
   "codemirror_mode": {
    "name": "ipython",
    "version": 3
   },
   "file_extension": ".py",
   "mimetype": "text/x-python",
   "name": "python",
   "nbconvert_exporter": "python",
   "pygments_lexer": "ipython3",
   "version": "3.7.9"
  }
 },
 "nbformat": 4,
 "nbformat_minor": 4
}
