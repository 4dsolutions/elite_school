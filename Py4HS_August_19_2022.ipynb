{
 "cells": [
  {
   "cell_type": "markdown",
   "id": "468e25aa-24a4-4eaf-b4e0-c47792f38b1c",
   "metadata": {
    "tags": []
   },
   "source": [
    "##### Python for High School (Summer 2022)\n",
    "\n",
    "* [Table of Contents](PY4HS.ipynb)\n",
    "* <a href=\"https://colab.research.google.com/github/4dsolutions/elite_school/blob/master/Py4HS_August_19_2022.ipynb\"><img align=\"left\" src=\"https://colab.research.google.com/assets/colab-badge.svg\" alt=\"Open in Colab\" title=\"Open and Execute in Google Colaboratory\"></a>\n",
    "* [![nbviewer](https://raw.githubusercontent.com/jupyter/design/master/logos/Badges/nbviewer_badge.svg)](https://nbviewer.org/github/4dsolutions/elite_school/blob/master/Py4HS_August_19_2022.ipynb)"
   ]
  },
  {
   "cell_type": "markdown",
   "id": "394385ec-4610-483b-b928-bf5300b5964c",
   "metadata": {},
   "source": [
    "# Generator Objects\n",
    "\n",
    "Let's get back to one of the core object types already included in Python:  the generator.\n",
    "\n",
    "Where might we already have seen the generator concept introduced?  Did we talk about [farmworld.py](farmworld.py)?"
   ]
  },
  {
   "cell_type": "code",
   "execution_count": 1,
   "id": "46073c97-8e58-45f8-94da-c0b31c29bee6",
   "metadata": {},
   "outputs": [
    {
     "name": "stdout",
     "output_type": "stream",
     "text": [
      "1\n",
      "2\n",
      "3\n"
     ]
    }
   ],
   "source": [
    "def Gen():\n",
    "    yield 1\n",
    "    yield 2\n",
    "    yield 3\n",
    "    \n",
    "for it in Gen():\n",
    "    print(it)"
   ]
  },
  {
   "cell_type": "code",
   "execution_count": 2,
   "id": "301718d4-abd8-45db-8d12-d3092c7f68fa",
   "metadata": {},
   "outputs": [],
   "source": [
    "obj = Gen()"
   ]
  },
  {
   "cell_type": "code",
   "execution_count": 3,
   "id": "9f50d66f-fb41-4194-97c0-633e663c7031",
   "metadata": {},
   "outputs": [
    {
     "name": "stdout",
     "output_type": "stream",
     "text": [
      "1\n",
      "2\n",
      "3\n"
     ]
    }
   ],
   "source": [
    "for x in obj:\n",
    "    print(x)"
   ]
  },
  {
   "cell_type": "markdown",
   "id": "b93cf719-444d-4adc-8f85-36f0eed7d3c8",
   "metadata": {},
   "source": [
    "Upon reaching any `yield obj` statement, the called generator function (a function with `yield` inside) is obliged to relinquish control back to the caller.  Like `return` does.  \n",
    "\n",
    "Then, in response to a \"nudge\" (as in the above for loop), said generator behaves as an iterator, as the target of `for`.  \n",
    "\n",
    "Think of `for` as pressing the iterator's `__next__` button."
   ]
  },
  {
   "cell_type": "code",
   "execution_count": 4,
   "id": "e7b28621-8675-4618-9639-f33a28ab613c",
   "metadata": {},
   "outputs": [
    {
     "name": "stdout",
     "output_type": "stream",
     "text": [
      "🍒\n",
      "⚓\n",
      "🧠\n"
     ]
    }
   ],
   "source": [
    "def Gen():\n",
    "    yield '🍒'\n",
    "    yield '⚓'\n",
    "    yield '🧠'\n",
    "    \n",
    "gen = Gen()\n",
    "print(gen.__next__())\n",
    "print(gen.__next__())\n",
    "print(gen.__next__())"
   ]
  },
  {
   "cell_type": "markdown",
   "id": "55fc038e-0f74-4f0d-b87d-828ac1a33e99",
   "metadata": {},
   "source": [
    "What if you \"go too far\" i.e. hit the `__next__` button more times than we have `yield`?"
   ]
  },
  {
   "cell_type": "code",
   "execution_count": 5,
   "id": "25ba0b4f-9b18-4c8a-b688-70889362c792",
   "metadata": {},
   "outputs": [
    {
     "name": "stdout",
     "output_type": "stream",
     "text": [
      "Lets catch the exception and say something \n",
      "civilized vs getting a pink patch. An exception \n",
      "gets raised if you push an iterator too far.\n"
     ]
    }
   ],
   "source": [
    "try:\n",
    "    print(gen.__next__())\n",
    "except StopIteration:\n",
    "    print(\"\"\"Lets catch the exception and say something \n",
    "civilized vs getting a pink patch. An exception \n",
    "gets raised if you push an iterator too far.\"\"\")"
   ]
  },
  {
   "cell_type": "markdown",
   "id": "4bc780d9-fb45-43da-8db7-f805f3b08642",
   "metadata": {},
   "source": [
    "A good question is:  at what point did we ever define a `__next__` method for Gen, which we expressed as something more like an ordinary function, with keyword `def`?\n",
    "\n",
    "The answer:  the function-looking syntax involving `def` and `yield` is exactly what Python needs to create an object with a `__next__` method.  You do not have to write it, just know what it does:  it nudges the object to continue running from where it left off (or from the top), and to the next yield."
   ]
  },
  {
   "cell_type": "code",
   "execution_count": 6,
   "id": "c9bb0977-157c-41cd-9951-1a2d1bc96d5b",
   "metadata": {},
   "outputs": [],
   "source": [
    "gen_object = Gen()"
   ]
  },
  {
   "cell_type": "code",
   "execution_count": 7,
   "id": "e99e98fc-f68c-4ef6-8316-371d09a69238",
   "metadata": {},
   "outputs": [
    {
     "data": {
      "text/plain": [
       "'🍒'"
      ]
     },
     "execution_count": 7,
     "metadata": {},
     "output_type": "execute_result"
    }
   ],
   "source": [
    "next(gen_object)  # triggers internal __next__"
   ]
  },
  {
   "cell_type": "code",
   "execution_count": 8,
   "id": "5fee23f9-1c04-473e-b7a2-817555b0867c",
   "metadata": {},
   "outputs": [
    {
     "data": {
      "text/plain": [
       "'⚓'"
      ]
     },
     "execution_count": 8,
     "metadata": {},
     "output_type": "execute_result"
    }
   ],
   "source": [
    "gen_object.__next__()  # same thing"
   ]
  },
  {
   "cell_type": "code",
   "execution_count": 9,
   "id": "e845cd29-0872-46bc-9e94-10331ec7efc0",
   "metadata": {},
   "outputs": [
    {
     "data": {
      "text/plain": [
       "True"
      ]
     },
     "execution_count": 9,
     "metadata": {},
     "output_type": "execute_result"
    }
   ],
   "source": [
    "\"__next__\" in dir(gen_object)"
   ]
  },
  {
   "cell_type": "markdown",
   "id": "90f25ee2-80fa-4898-a997-4282211822b5",
   "metadata": {},
   "source": [
    "A generator with a `yield` inside of a `while True` loop never need run out of `yield` statements.  Such iterators pose a danger if used naively, i.e. if left to iterate unchecked.\n",
    "\n",
    "For example, the Fibonacci Series:"
   ]
  },
  {
   "cell_type": "code",
   "execution_count": 10,
   "id": "ed98f851-07db-4fe3-82a9-b0f808b42b91",
   "metadata": {},
   "outputs": [],
   "source": [
    "def fibo(a=0, b=1):\n",
    "    \"\"\"\n",
    "    https://oeis.org/A000045\n",
    "    \"\"\"\n",
    "    yield a\n",
    "    while True:\n",
    "        yield b\n",
    "        a, b = b, b + a"
   ]
  },
  {
   "cell_type": "code",
   "execution_count": 11,
   "id": "3e2fb4b1-e193-4d06-9971-081f66d7f1ad",
   "metadata": {},
   "outputs": [
    {
     "name": "stdout",
     "output_type": "stream",
     "text": [
      "0\n",
      "1\n",
      "1\n",
      "2\n",
      "3\n",
      "5\n",
      "8\n",
      "13\n",
      "21\n",
      "34\n",
      "55\n",
      "89\n",
      "144\n",
      "233\n",
      "377\n",
      "610\n",
      "987\n",
      "1597\n",
      "2584\n",
      "4181\n",
      "6765\n",
      "10946\n",
      "17711\n",
      "28657\n",
      "46368\n",
      "75025\n",
      "121393\n",
      "196418\n",
      "317811\n",
      "514229\n"
     ]
    }
   ],
   "source": [
    "fib_gen = fibo()  # as yet, no yield is reached.  \n",
    "\n",
    "# Lets feed to next( ), 10 times\n",
    "\n",
    "for _ in range(30):\n",
    "    print(next(fib_gen))  # run to the next yield, same as \"nudge\""
   ]
  },
  {
   "cell_type": "markdown",
   "id": "f99139a7-486c-479c-8066-aaaf798b01fa",
   "metadata": {},
   "source": [
    "Lets to sphere packing, [A005901](https://oeis.org/A005901):\n",
    "\n",
    "\n",
    "<a data-flickr-embed=\"true\" href=\"https://www.flickr.com/photos/kirbyurner/51522139740/in/photolist-8thDyL-2muQr99-2msgzQd-2msj6xS-2mgJNog-2m44aqr-22yg9uX-FMLvQQ-NzckH4-EPg3Ag-CMbRqK-dMGmVw-agu9Xx-8xp2z5-8vatB3-8ti2xi-8oX85J-6Wcvue-5QyKim\" title=\"Growing Sphere Packing\"><img src=\"https://live.staticflickr.com/65535/51522139740_b16f97cc96_m.jpg\" width=\"225\" height=\"210\" alt=\"Growing Sphere Packing\"></a><script async src=\"//embedr.flickr.com/assets/client-code.js\" charset=\"utf-8\"></script>\n",
    "\n",
    "*Figure 1:  CCP*\n",
    "\n",
    "Remember sphere packing?\n",
    "\n",
    "[Sphere Packing](Py4HS_sphere_packing_classroom.ipynb)"
   ]
  },
  {
   "cell_type": "code",
   "execution_count": 12,
   "id": "481adcd5-e6ab-479a-a631-3f53db31593f",
   "metadata": {},
   "outputs": [],
   "source": [
    "def ccp_ball_layers():\n",
    "    yield 1\n",
    "    f = 1\n",
    "    while True:\n",
    "        yield 10 * f * f + 2\n",
    "        f += 1"
   ]
  },
  {
   "cell_type": "code",
   "execution_count": 13,
   "id": "70ef7061-6eef-4e66-9f02-a55f2ff3a93b",
   "metadata": {},
   "outputs": [
    {
     "name": "stdout",
     "output_type": "stream",
     "text": [
      "1\n",
      "12\n",
      "42\n",
      "92\n",
      "162\n",
      "252\n",
      "362\n",
      "492\n",
      "642\n",
      "812\n"
     ]
    }
   ],
   "source": [
    "layers = ccp_ball_layers()  # as yet, no yield is reached.  \n",
    "\n",
    "# Lets feed to next( ), 10 times\n",
    "\n",
    "for _ in range(10):\n",
    "    print(next(layers))  # run to the next yield, same as \"nudge\""
   ]
  },
  {
   "cell_type": "markdown",
   "id": "555ec4d8-9df5-4c10-a6e9-fed8a70befb1",
   "metadata": {},
   "source": [
    "### More Advanced...\n",
    "\n",
    "The generator type also supports a `send`, allowing objects from outside to come in through a yield statement."
   ]
  },
  {
   "cell_type": "code",
   "execution_count": 14,
   "id": "9cf4df84-351d-4fa7-b75b-4f88164f5064",
   "metadata": {},
   "outputs": [],
   "source": [
    "def Gen():\n",
    "  r = 0\n",
    "  yield 1\n",
    "  r = yield 2 # send in an object\n",
    "  yield r     # anything sent in?\n",
    "  yield 'Done'\n"
   ]
  },
  {
   "cell_type": "code",
   "execution_count": 15,
   "id": "7cd425f1-e34f-4355-8d94-085a6e6c021c",
   "metadata": {},
   "outputs": [],
   "source": [
    "gen_object = Gen()"
   ]
  },
  {
   "cell_type": "code",
   "execution_count": 16,
   "id": "c205b292-5521-4908-be48-2148c69ca611",
   "metadata": {},
   "outputs": [
    {
     "data": {
      "text/plain": [
       "1"
      ]
     },
     "execution_count": 16,
     "metadata": {},
     "output_type": "execute_result"
    }
   ],
   "source": [
    "next(gen_object)"
   ]
  },
  {
   "cell_type": "code",
   "execution_count": 17,
   "id": "7d5b5857-dedf-4553-8679-5b055c83b14c",
   "metadata": {},
   "outputs": [
    {
     "data": {
      "text/plain": [
       "2"
      ]
     },
     "execution_count": 17,
     "metadata": {},
     "output_type": "execute_result"
    }
   ],
   "source": [
    "next(gen_object)"
   ]
  },
  {
   "cell_type": "code",
   "execution_count": 18,
   "id": "2ddd888a-6027-4a74-934b-86125be51fdd",
   "metadata": {},
   "outputs": [
    {
     "data": {
      "text/plain": [
       "'🍒'"
      ]
     },
     "execution_count": 18,
     "metadata": {},
     "output_type": "execute_result"
    }
   ],
   "source": [
    "gen_object.send('🍒')"
   ]
  },
  {
   "cell_type": "code",
   "execution_count": 19,
   "id": "32dced40-f6e1-4bb5-8470-a592a2ca878b",
   "metadata": {},
   "outputs": [
    {
     "data": {
      "text/plain": [
       "'Done'"
      ]
     },
     "execution_count": 19,
     "metadata": {},
     "output_type": "execute_result"
    }
   ],
   "source": [
    "next(gen_object)"
   ]
  },
  {
   "cell_type": "markdown",
   "id": "5bf77849-1191-4d59-8438-63852bfdb0ca",
   "metadata": {},
   "source": [
    "### Generator Classes\n",
    "\n",
    "A generator class is just an iterator type, meaning it has both `__next__` and `__iter__` methods.  The latter is tasked with producing an iterator, and `self` is oft used.  The former defines what \"to nudge forward\" means, i.e what results.\n",
    "\n",
    "In the section below, the Turtle class turns out to be an iterator.  We could also write one as a generator function, with a `while True` loop."
   ]
  },
  {
   "cell_type": "markdown",
   "id": "6fe6e432-8efb-49c7-bd47-69e7cd909dc2",
   "metadata": {},
   "source": [
    "# Martian Math\n",
    "\n",
    "<a data-flickr-embed=\"true\" href=\"https://www.flickr.com/photos/kirbyurner/52283684666/in/dateposted-public/\" title=\"Abduction\"><img src=\"https://live.staticflickr.com/65535/52283684666_4438189883_n.jpg\" width=\"320\" height=\"240\" alt=\"Abduction\"></a><script async src=\"//embedr.flickr.com/assets/client-code.js\" charset=\"utf-8\"></script>\n",
    "\n",
    "[Where is this?](https://flic.kr/p/2nFgKLD)\n",
    "\n",
    "Buried in this repo, are the exotic tools you need to play with Quadray Coordinates.\n",
    "\n",
    "What's a Quadray?\n",
    "\n",
    "## Quadrays \n",
    "Each Qvector is defined using 4-tuples representing 4 positively scaled and additively combined elementary rays. \n",
    "\n",
    "These four elementary rays originate from the origin (0,0,0,0) and go to the 4 corners of a regular tetrahedron: (1,0,0,0) (0,1,0,0) (0,0,1,0) and (0,0,0,1). See Figure 2.\n",
    "\n",
    "<a data-flickr-embed=\"true\" href=\"https://www.flickr.com/photos/kirbyurner/4073009388/\" title=\"Quadray Coordinates\"><img src=\"https://live.staticflickr.com/2693/4073009388_e1da93dbd4_w.jpg\" width=\"400\" height=\"350\" alt=\"Quadray Coordinates\"></a><script async src=\"//embedr.flickr.com/assets/client-code.js\" charset=\"utf-8\"></script>\n",
    "\n",
    "*Figure 2*"
   ]
  },
  {
   "cell_type": "code",
   "execution_count": 20,
   "id": "8cad6abf-ad74-4888-bf2d-eafa941b5add",
   "metadata": {},
   "outputs": [],
   "source": [
    "import qrays\n",
    "from qrays import Qvector\n",
    "from itertools import permutations"
   ]
  },
  {
   "cell_type": "markdown",
   "id": "cfc7e7cb-8d02-47f5-8be2-6ed413f0dae6",
   "metadata": {},
   "source": [
    "![](https://gamepedia.cursecdn.com/fallout_gamepedia/thumb/3/31/Caltrops.png/1200px-Caltrops.png)"
   ]
  },
  {
   "cell_type": "code",
   "execution_count": 21,
   "id": "169ad7e8-54b2-4eb9-9fcc-5f38c283991e",
   "metadata": {},
   "outputs": [],
   "source": [
    "# Quadray Basis Vectors\n",
    "a = Qvector((1,0,0,0))\n",
    "b = Qvector((0,1,0,0))\n",
    "c = Qvector((0,0,1,0))\n",
    "d = Qvector((0,0,0,1))\n",
    "\n",
    "caltrop = [a, b, c, d]"
   ]
  },
  {
   "cell_type": "markdown",
   "id": "89264ee6-934e-487e-b846-c4256262e6e0",
   "metadata": {},
   "source": [
    "Two of one Qvector, and one of two others, added together, gives one of 12 directions to one of the neighboring balls (12-around-1).\n",
    "\n"
   ]
  },
  {
   "cell_type": "code",
   "execution_count": 22,
   "id": "8027d7e9-7b97-4bde-b1da-48cf42e2fef1",
   "metadata": {},
   "outputs": [
    {
     "name": "stdout",
     "output_type": "stream",
     "text": [
      "ivm_vector(a=1, b=0, c=1, d=2)\n",
      "ivm_vector(a=2, b=1, c=1, d=0)\n",
      "ivm_vector(a=1, b=1, c=2, d=0)\n",
      "ivm_vector(a=0, b=1, c=2, d=1)\n",
      "ivm_vector(a=1, b=0, c=2, d=1)\n",
      "ivm_vector(a=1, b=2, c=0, d=1)\n",
      "ivm_vector(a=2, b=1, c=0, d=1)\n",
      "ivm_vector(a=2, b=0, c=1, d=1)\n",
      "ivm_vector(a=1, b=1, c=0, d=2)\n",
      "ivm_vector(a=1, b=2, c=1, d=0)\n",
      "ivm_vector(a=0, b=2, c=1, d=1)\n",
      "ivm_vector(a=0, b=1, c=1, d=2)\n"
     ]
    }
   ],
   "source": [
    "gen_perms = permutations((2, 1, 1, 0)) \n",
    "twelve_directions = list({Qvector(p) for p in gen_perms})\n",
    "\n",
    "for v in twelve_directions:\n",
    "    print(v)"
   ]
  },
  {
   "cell_type": "markdown",
   "id": "60f40a50-5825-4ff5-bd53-52fcf75328dc",
   "metadata": {},
   "source": [
    "From [*Tetravolumes with Quadrays*](https://github.com/4dsolutions/School_of_Tomorrow/blob/master/Qvolume.ipynb):\n",
    "\n",
    "A Quadrays Tetrahedron Volume Formula from Tom Ace, and modded for Tetravolumes:\n",
    "\n",
    "$$\n",
    "V_{ivm} = (1/4) \n",
    "\\begin{vmatrix}\n",
    "a0&a1&a2&a3&1\\\\\n",
    "b0&b1&b2&b3&1\\\\\n",
    "c0&c1&c2&c3&1\\\\\n",
    "d0&d1&d2&d3&1\\\\\n",
    "1&1&1&1&0\\\\\n",
    "\\end{vmatrix}\n",
    "$$\n",
    "<br />\n",
    "Take the absolute value of that determinant if you wish only positive values for the tetrahedron's tetravolume.\n",
    "\n",
    "What tetrahedron?\n",
    "\n",
    "The one defined by the four Quadrays or Qvectors embedded as the first four rows in the matrix.\n",
    "\n",
    "More [Volume Talk](https://github.com/4dsolutions/School_of_Tomorrow/blob/master/VolumeTalk.ipynb).\n",
    "\n",
    "<a data-flickr-embed=\"true\" href=\"https://www.flickr.com/photos/kirbyurner/4949801610/in/photolist-2m29ojG-5DsYaY-2i3qGpP-8EDNfx-8xp2z5-6wUiRq\" title=\"Sphere Packing\"><img src=\"https://live.staticflickr.com/4146/4949801610_da3fc94b2c_n.jpg\" width=\"240\" height=\"320\" alt=\"Sphere Packing\"></a><script async src=\"//embedr.flickr.com/assets/client-code.js\" charset=\"utf-8\"></script>"
   ]
  },
  {
   "cell_type": "markdown",
   "id": "6643a3a4-562a-476b-acd7-5b7872238f34",
   "metadata": {},
   "source": [
    "### Turtle Experiment\n",
    "\n",
    "A Turtle is able to move in any of 12 directions when nudged, but only randomly.\n",
    "\n",
    "Take four such turtles and let them random walk for n iterations, then check the volume of the resulting tetrahedron, defined by the turtles as four corners.\n",
    "\n",
    "The moving convention ensures each turtle is always at the center of a CCP sphere (cubic closest packing), or sometimes we say \"IVM sphere\" instead (thinking more cuboctahedrally), or even \"FCC\" (face-centered cubic).\n",
    "\n",
    "The surprising result is the resulting random tetrahedron is always whole number volumed, in terms of tetravolumes, i.e. the unit volume is defined by the centers of 4 IVM balls packed together."
   ]
  },
  {
   "cell_type": "code",
   "execution_count": 23,
   "id": "77dad4c9-4e1b-4210-9db0-986798a87492",
   "metadata": {},
   "outputs": [],
   "source": [
    "from random import choice \n",
    "\n",
    "class Turtle:\n",
    "    \"\"\"\n",
    "    I start at (0,0,0,0) and move in the 12 directions\n",
    "    \n",
    "    Requires twelve_directions as global, read-only\n",
    "    \"\"\"\n",
    "    \n",
    "    def __init__(self, pos=Qvector((0,0,0,0))):\n",
    "        self.pos = pos\n",
    "        \n",
    "    def __next__(self):\n",
    "        self.pos = self.pos + choice(twelve_directions)\n",
    "        \n",
    "    def __iter__(self):\n",
    "        return self\n",
    "    \n",
    "    @property\n",
    "    def coords(self):\n",
    "        return self.pos.coords\n",
    "    \n",
    "    def __repr__(self):\n",
    "        return f\"Turtle at {self.pos}\""
   ]
  },
  {
   "cell_type": "markdown",
   "id": "d6366495-f92b-476e-8bf1-9bbd33cc5933",
   "metadata": {},
   "source": [
    "![cubocta](https://upload.wikimedia.org/wikipedia/commons/d/dc/Povlabels.gif)\n",
    "\n",
    "*Figure 3*"
   ]
  },
  {
   "cell_type": "code",
   "execution_count": 24,
   "id": "0597113c-649c-4f30-825f-f3b02ca2ddb6",
   "metadata": {},
   "outputs": [],
   "source": [
    "t0 = Turtle()"
   ]
  },
  {
   "cell_type": "code",
   "execution_count": 25,
   "id": "a1734b0c-fc2f-454a-8dcb-bd6c0b143d44",
   "metadata": {},
   "outputs": [
    {
     "data": {
      "text/plain": [
       "Turtle at ivm_vector(a=0, b=0, c=0, d=0)"
      ]
     },
     "execution_count": 25,
     "metadata": {},
     "output_type": "execute_result"
    }
   ],
   "source": [
    "t0"
   ]
  },
  {
   "cell_type": "code",
   "execution_count": 26,
   "id": "b5d28c0d-00bd-4af1-b177-68a791161008",
   "metadata": {},
   "outputs": [
    {
     "data": {
      "text/plain": [
       "ivm_vector(a=0, b=0, c=0, d=0)"
      ]
     },
     "execution_count": 26,
     "metadata": {},
     "output_type": "execute_result"
    }
   ],
   "source": [
    "t0.coords"
   ]
  },
  {
   "cell_type": "code",
   "execution_count": 27,
   "id": "798564cb-7010-4b1d-8194-51182bc71598",
   "metadata": {},
   "outputs": [
    {
     "data": {
      "text/plain": [
       "Turtle at ivm_vector(a=0, b=24, c=16, d=12)"
      ]
     },
     "execution_count": 27,
     "metadata": {},
     "output_type": "execute_result"
    }
   ],
   "source": [
    "for _ in range(100):\n",
    "    next(t0)\n",
    "t0"
   ]
  },
  {
   "cell_type": "code",
   "execution_count": 28,
   "id": "60b7fc37-87a0-474d-9acf-707abcb9dc5f",
   "metadata": {},
   "outputs": [
    {
     "data": {
      "text/plain": [
       "12.24744871391589"
      ]
     },
     "execution_count": 28,
     "metadata": {},
     "output_type": "execute_result"
    }
   ],
   "source": [
    "t0.pos.length()"
   ]
  },
  {
   "cell_type": "code",
   "execution_count": 29,
   "id": "83425459-0094-44cc-a963-a39a95a697d6",
   "metadata": {},
   "outputs": [
    {
     "data": {
      "text/plain": [
       "Turtle at ivm_vector(a=0, b=25, c=15, d=12)"
      ]
     },
     "execution_count": 29,
     "metadata": {},
     "output_type": "execute_result"
    }
   ],
   "source": [
    "next(t0)\n",
    "t0"
   ]
  },
  {
   "cell_type": "code",
   "execution_count": 30,
   "id": "4764e103-8f6a-4720-abeb-6d99636c8225",
   "metadata": {},
   "outputs": [],
   "source": [
    "def experiment(steps):\n",
    "    t0 = Turtle()\n",
    "    t1 = Turtle()\n",
    "    t2 = Turtle()\n",
    "    t3 = Turtle()\n",
    "    for _ in range(steps):\n",
    "        next(t0)\n",
    "        next(t1)\n",
    "        next(t2)\n",
    "        next(t3)\n",
    "    return (t0, t1, t2, t3)"
   ]
  },
  {
   "cell_type": "markdown",
   "id": "12c6cbe2-282e-4d47-9f1a-8a1843ab8c9c",
   "metadata": {},
   "source": [
    "\n",
    "\n",
    "<a data-flickr-embed=\"true\" href=\"https://www.flickr.com/photos/kirbyurner/51522139740/in/photolist-8thDyL-2muQr99-2msgzQd-2msj6xS-2mgJNog-2m44aqr-22yg9uX-FMLvQQ-NzckH4-EPg3Ag-CMbRqK-dMGmVw-agu9Xx-8xp2z5-8vatB3-8ti2xi-8oX85J-6Wcvue-5QyKim\" title=\"Growing Sphere Packing\"><img src=\"https://live.staticflickr.com/65535/51522139740_b16f97cc96_m.jpg\" width=\"225\" height=\"210\" alt=\"Growing Sphere Packing\"></a><script async src=\"//embedr.flickr.com/assets/client-code.js\" charset=\"utf-8\"></script>\n",
    "\n",
    "*Figure 4:  CCP*"
   ]
  },
  {
   "cell_type": "code",
   "execution_count": 31,
   "id": "064f4770-b4c1-4a7f-af57-78a3d19f0e16",
   "metadata": {},
   "outputs": [],
   "source": [
    "rand_tet = experiment(400)"
   ]
  },
  {
   "cell_type": "code",
   "execution_count": 32,
   "id": "d6e0b51d-159b-469d-8c73-c6b63fe6f6bb",
   "metadata": {},
   "outputs": [
    {
     "data": {
      "text/plain": [
       "(Turtle at ivm_vector(a=0, b=33, c=22, d=5),\n",
       " Turtle at ivm_vector(a=23, b=0, c=0, d=9),\n",
       " Turtle at ivm_vector(a=0, b=15, c=15, d=2),\n",
       " Turtle at ivm_vector(a=0, b=0, c=31, d=1))"
      ]
     },
     "execution_count": 32,
     "metadata": {},
     "output_type": "execute_result"
    }
   ],
   "source": [
    "rand_tet"
   ]
  },
  {
   "cell_type": "code",
   "execution_count": 33,
   "id": "79b18726-fe81-40aa-8442-f87a535704ab",
   "metadata": {},
   "outputs": [],
   "source": [
    "import numpy as np\n",
    "\n",
    "def ivm_volume(q0, q1, q2, q3, dtype=np.float64):\n",
    "    \"\"\"\n",
    "    improved:  more flexible as to element type\n",
    "    \"\"\"\n",
    "    A = np.ones((5,5), dtype)\n",
    "    A[4,4] = 0\n",
    "    A[0,0:4] = q0.coords\n",
    "    A[1,0:4] = q1.coords\n",
    "    A[2,0:4] = q2.coords\n",
    "    A[3,0:4] = q3.coords\n",
    "    print(A)\n",
    "    return abs(np.linalg.det(A))/4"
   ]
  },
  {
   "cell_type": "markdown",
   "id": "5c7d4811-3375-4e7e-ae64-ee15f5383db6",
   "metadata": {},
   "source": [
    "$$\n",
    "V_{ivm} = (1/4) \n",
    "\\begin{vmatrix}\n",
    "a0&a1&a2&a3&1\\\\\n",
    "b0&b1&b2&b3&1\\\\\n",
    "c0&c1&c2&c3&1\\\\\n",
    "d0&d1&d2&d3&1\\\\\n",
    "1&1&1&1&0\\\\\n",
    "\\end{vmatrix}\n",
    "$$"
   ]
  },
  {
   "cell_type": "code",
   "execution_count": 34,
   "id": "53941a0b-6217-4104-86f5-79452c897d82",
   "metadata": {},
   "outputs": [
    {
     "name": "stdout",
     "output_type": "stream",
     "text": [
      "[[ 0. 33. 22.  5.  1.]\n",
      " [23.  0.  0.  9.  1.]\n",
      " [ 0. 15. 15.  2.  1.]\n",
      " [ 0.  0. 31.  1.  1.]\n",
      " [ 1.  1.  1.  1.  0.]]\n"
     ]
    },
    {
     "data": {
      "text/plain": [
       "792.9999999999992"
      ]
     },
     "execution_count": 34,
     "metadata": {},
     "output_type": "execute_result"
    }
   ],
   "source": [
    "ivm_volume(rand_tet[0], \n",
    "           rand_tet[1],\n",
    "           rand_tet[2],\n",
    "           rand_tet[3])"
   ]
  },
  {
   "cell_type": "code",
   "execution_count": 35,
   "id": "e0fc9db9-0e35-4148-bff0-48d6bb6b78d8",
   "metadata": {},
   "outputs": [
    {
     "name": "stdout",
     "output_type": "stream",
     "text": [
      "[[ 0. 37. 22. 45.  1.]\n",
      " [30.  0. 20. 22.  1.]\n",
      " [32. 26.  0. 54.  1.]\n",
      " [ 0.  5.  0. 11.  1.]\n",
      " [ 1.  1.  1.  1.  0.]]\n"
     ]
    },
    {
     "data": {
      "text/plain": [
       "6108.0"
      ]
     },
     "execution_count": 35,
     "metadata": {},
     "output_type": "execute_result"
    }
   ],
   "source": [
    "# keep rerunning me\n",
    "rand_tet = experiment(400)\n",
    "v = ivm_volume(rand_tet[0], \n",
    "               rand_tet[1],\n",
    "               rand_tet[2],\n",
    "               rand_tet[3])\n",
    "round(v, 10) # actual results are exact"
   ]
  },
  {
   "cell_type": "code",
   "execution_count": 36,
   "id": "73344417-eae4-403f-bfb0-c3e627f4787f",
   "metadata": {},
   "outputs": [
    {
     "data": {
      "text/plain": [
       "\u001b[0;31mSignature:\u001b[0m  \u001b[0mnp\u001b[0m\u001b[0;34m.\u001b[0m\u001b[0mround\u001b[0m\u001b[0;34m(\u001b[0m\u001b[0ma\u001b[0m\u001b[0;34m,\u001b[0m \u001b[0mdecimals\u001b[0m\u001b[0;34m=\u001b[0m\u001b[0;36m0\u001b[0m\u001b[0;34m,\u001b[0m \u001b[0mout\u001b[0m\u001b[0;34m=\u001b[0m\u001b[0;32mNone\u001b[0m\u001b[0;34m)\u001b[0m\u001b[0;34m\u001b[0m\u001b[0;34m\u001b[0m\u001b[0m\n",
       "\u001b[0;31mDocstring:\u001b[0m\n",
       "Round an array to the given number of decimals.\n",
       "\n",
       "See Also\n",
       "--------\n",
       "around : equivalent function; see for details.\n",
       "\u001b[0;31mFile:\u001b[0m      ~/opt/anaconda3/lib/python3.9/site-packages/numpy/core/fromnumeric.py\n",
       "\u001b[0;31mType:\u001b[0m      function\n"
      ]
     },
     "metadata": {},
     "output_type": "display_data"
    }
   ],
   "source": [
    "? np.round"
   ]
  },
  {
   "cell_type": "markdown",
   "id": "cf7cbb02-73bb-4a85-882b-7b19ebe98559",
   "metadata": {},
   "source": [
    "### Histogram of Random Volumes\n",
    "\n",
    "Lets run our experiment a few thousand times and see how the volumes bin out."
   ]
  },
  {
   "cell_type": "code",
   "execution_count": 37,
   "id": "9c8f5cae-3d5a-4d5e-8061-4f700ab24c95",
   "metadata": {},
   "outputs": [],
   "source": [
    "import pandas as pd\n",
    "import numpy as np"
   ]
  },
  {
   "cell_type": "code",
   "execution_count": 38,
   "id": "669497a9-8866-4762-a3fc-90037460927b",
   "metadata": {},
   "outputs": [],
   "source": [
    "def ivm_volume(q0, q1, q2, q3, dtype=np.float64):\n",
    "    \"\"\"\n",
    "    improved:  more flexible as to element type\n",
    "    \"\"\"\n",
    "    A = np.ones((5,5), dtype)\n",
    "    A[4,4] = 0\n",
    "    A[0,0:4] = q0.coords\n",
    "    A[1,0:4] = q1.coords\n",
    "    A[2,0:4] = q2.coords\n",
    "    A[3,0:4] = q3.coords\n",
    "    return abs(np.linalg.det(A))/4"
   ]
  },
  {
   "cell_type": "code",
   "execution_count": 39,
   "id": "5188a90c-affa-46c2-bee1-d3f4b6d9c7c0",
   "metadata": {},
   "outputs": [],
   "source": [
    "def experiment(steps):\n",
    "    t0 = Turtle()\n",
    "    t1 = Turtle()\n",
    "    t2 = Turtle()\n",
    "    t3 = Turtle()\n",
    "    for _ in range(steps):\n",
    "        next(t0)\n",
    "        next(t1)\n",
    "        next(t2)\n",
    "        next(t3)\n",
    "    return (t0, t1, t2, t3)"
   ]
  },
  {
   "cell_type": "code",
   "execution_count": 40,
   "id": "51923bdf-0888-49ef-a92a-2f1995749f5e",
   "metadata": {},
   "outputs": [],
   "source": [
    "def rand_volume(n=400):\n",
    "    # keep rerunning me\n",
    "    rand_tet = experiment(n)\n",
    "    v = ivm_volume(rand_tet[0], \n",
    "                   rand_tet[1],\n",
    "                   rand_tet[2],\n",
    "                   rand_tet[3])\n",
    "    return round(v, 10) # actual results are exact"
   ]
  },
  {
   "cell_type": "code",
   "execution_count": 41,
   "id": "67a83411-6a41-47d0-83e9-91cb408034af",
   "metadata": {},
   "outputs": [],
   "source": [
    "samples = np.array([rand_volume(9) for _ in range(200)])"
   ]
  },
  {
   "cell_type": "code",
   "execution_count": 42,
   "id": "2c820c8b-9d5f-4059-9b67-47bd3cb594f5",
   "metadata": {},
   "outputs": [
    {
     "data": {
      "text/html": [
       "<div>\n",
       "<style scoped>\n",
       "    .dataframe tbody tr th:only-of-type {\n",
       "        vertical-align: middle;\n",
       "    }\n",
       "\n",
       "    .dataframe tbody tr th {\n",
       "        vertical-align: top;\n",
       "    }\n",
       "\n",
       "    .dataframe thead th {\n",
       "        text-align: right;\n",
       "    }\n",
       "</style>\n",
       "<table border=\"1\" class=\"dataframe\">\n",
       "  <thead>\n",
       "    <tr style=\"text-align: right;\">\n",
       "      <th></th>\n",
       "      <th>Volumes</th>\n",
       "    </tr>\n",
       "  </thead>\n",
       "  <tbody>\n",
       "    <tr>\n",
       "      <th>0</th>\n",
       "      <td>6.0</td>\n",
       "    </tr>\n",
       "    <tr>\n",
       "      <th>1</th>\n",
       "      <td>66.0</td>\n",
       "    </tr>\n",
       "    <tr>\n",
       "      <th>2</th>\n",
       "      <td>38.0</td>\n",
       "    </tr>\n",
       "    <tr>\n",
       "      <th>3</th>\n",
       "      <td>14.0</td>\n",
       "    </tr>\n",
       "    <tr>\n",
       "      <th>4</th>\n",
       "      <td>4.0</td>\n",
       "    </tr>\n",
       "  </tbody>\n",
       "</table>\n",
       "</div>"
      ],
      "text/plain": [
       "   Volumes\n",
       "0      6.0\n",
       "1     66.0\n",
       "2     38.0\n",
       "3     14.0\n",
       "4      4.0"
      ]
     },
     "execution_count": 42,
     "metadata": {},
     "output_type": "execute_result"
    }
   ],
   "source": [
    "df = pd.DataFrame(samples, columns=[\"Volumes\"])\n",
    "df.head()"
   ]
  },
  {
   "cell_type": "code",
   "execution_count": 43,
   "id": "5291350c-3217-4d35-b473-0214f0c6de21",
   "metadata": {},
   "outputs": [
    {
     "data": {
      "image/png": "[encoded data removed]",
      "text/plain": [
       "<Figure size 432x288 with 1 Axes>"
      ]
     },
     "metadata": {
      "needs_background": "light"
     },
     "output_type": "display_data"
    }
   ],
   "source": [
    "df.plot(kind=\"hist\", bins=30, column=\"Volumes\");"
   ]
  },
  {
   "cell_type": "markdown",
   "id": "6e58fdc1-161e-418d-9d02-7286d6e5fb62",
   "metadata": {},
   "source": [
    "### Visualization\n",
    "\n",
    "We have the ability to \"perspective paint\" our random tetrahedrons.  Let's do that with a few of them."
   ]
  },
  {
   "cell_type": "code",
   "execution_count": 44,
   "id": "71d2643d-8fc6-41fb-9f52-9b092c7a6d92",
   "metadata": {},
   "outputs": [
    {
     "data": {
      "text/plain": [
       "ivm_vector(a=1, b=0, c=0, d=0)"
      ]
     },
     "execution_count": 44,
     "metadata": {},
     "output_type": "execute_result"
    }
   ],
   "source": [
    "a"
   ]
  },
  {
   "cell_type": "code",
   "execution_count": 45,
   "id": "468ea9a7-c1c1-4a71-8391-2fda22c22e4c",
   "metadata": {},
   "outputs": [
    {
     "data": {
      "text/plain": [
       "ivm_vector(a=1, b=0, c=0, d=0)"
      ]
     },
     "execution_count": 45,
     "metadata": {},
     "output_type": "execute_result"
    }
   ],
   "source": [
    "a.coords"
   ]
  },
  {
   "cell_type": "code",
   "execution_count": 47,
   "id": "9fb7d87b-94fc-4415-a9b1-dcd14d9ba6db",
   "metadata": {},
   "outputs": [],
   "source": [
    "import pov"
   ]
  },
  {
   "cell_type": "code",
   "execution_count": 48,
   "id": "128398c0-a6cd-40a4-bb96-393e06abb27d",
   "metadata": {},
   "outputs": [
    {
     "name": "stdout",
     "output_type": "stream",
     "text": [
      "ivm_vector(a=4, b=1, c=7, d=0)\n",
      "ivm_vector(a=4, b=5, c=0, d=7)\n",
      "ivm_vector(a=0, b=0, c=0, d=0)\n",
      "ivm_vector(a=3, b=5, c=0, d=4)\n"
     ]
    }
   ],
   "source": [
    "q0,q1,q2,q3 = experiment(9)\n",
    "for v in q0,q1,q2,q3:\n",
    "    print(v.coords)"
   ]
  },
  {
   "cell_type": "code",
   "execution_count": 49,
   "id": "42f50d4c-b0ea-49df-b248-4a853869bd4a",
   "metadata": {},
   "outputs": [],
   "source": [
    "pov.scenario6(q0, q1, q2, q3)"
   ]
  },
  {
   "cell_type": "code",
   "execution_count": 50,
   "id": "1feb2933-7e15-4129-a594-ac169d1ca871",
   "metadata": {},
   "outputs": [
    {
     "data": {
      "text/plain": [
       "5.000000000000002"
      ]
     },
     "execution_count": 50,
     "metadata": {},
     "output_type": "execute_result"
    }
   ],
   "source": [
    "ivm_volume(q0,q1,q2,q3)"
   ]
  },
  {
   "cell_type": "code",
   "execution_count": 51,
   "id": "247b40c1-b866-48cb-ad7f-2c7e0de516c9",
   "metadata": {},
   "outputs": [],
   "source": [
    "vols = []\n",
    "frame_no = 0\n",
    "while frame_no < 12:\n",
    "    q0,q1,q2,q3 = experiment(9)\n",
    "    vol = int(round(ivm_volume(q0,q1,q2,q3), 0))\n",
    "    if vol == 0:\n",
    "        continue\n",
    "    pov.scenario6(q0, q1, q2, q3, frame_no)\n",
    "    vols.append(vol)\n",
    "    frame_no += 1 "
   ]
  },
  {
   "cell_type": "markdown",
   "id": "e126d944-6d4b-4052-a5c2-204de969fef1",
   "metadata": {},
   "source": [
    "At this point we need to batch render the `frame0.pov`, `frame1.pov`, `frame2.pov`... files generated by `pov.scenario6`.  The source code is in [pov.py](pov.py).\n",
    "\n",
    "<a data-flickr-embed=\"true\" href=\"https://www.flickr.com/photos/kirbyurner/52301671924/in/dateposted-public/\" title=\"Screen Shot 2022-08-21 at 10.59.03 AM\"><img src=\"https://live.staticflickr.com/65535/52301671924_134e3efcc0_z.jpg\" width=\"640\" height=\"393\" alt=\"Screen Shot 2022-08-21 at 10.59.03 AM\"></a><script async src=\"//embedr.flickr.com/assets/client-code.js\" charset=\"utf-8\"></script>"
   ]
  },
  {
   "cell_type": "code",
   "execution_count": 52,
   "id": "4f3de89b-8544-43aa-91f3-f7e4e9b85621",
   "metadata": {},
   "outputs": [
    {
     "data": {
      "text/plain": [
       "12"
      ]
     },
     "execution_count": 52,
     "metadata": {},
     "output_type": "execute_result"
    }
   ],
   "source": [
    "len(vols)"
   ]
  },
  {
   "cell_type": "code",
   "execution_count": 53,
   "id": "11d43063-ca59-4408-a531-d61180041118",
   "metadata": {},
   "outputs": [],
   "source": [
    "import matplotlib.pyplot as plt\n",
    "from matplotlib import gridspec"
   ]
  },
  {
   "cell_type": "code",
   "execution_count": 54,
   "id": "48ee29e7-4ae7-4c1f-ba2d-618831705dd9",
   "metadata": {},
   "outputs": [
    {
     "data": {
      "image/png": "[encoded data removed]",
      "text/plain": [
       "<Figure size 961.2x720 with 12 Axes>"
      ]
     },
     "metadata": {},
     "output_type": "display_data"
    }
   ],
   "source": [
    "nrow = 4\n",
    "ncol = 3\n",
    "\n",
    "fig = plt.figure(figsize=(13.35,10)) \n",
    "\n",
    "gs = gridspec.GridSpec(nrow, ncol, width_ratios=[1, 1, 1],\n",
    "         wspace=0.0, hspace=0.0, top=0.95, bottom=0.05, left=0.17, right=0.845) \n",
    "\n",
    "frameno=0\n",
    "for i in range(nrow):\n",
    "    for j in range(ncol):\n",
    "        ax= plt.subplot(gs[i,j])\n",
    "        filename = './anim/frame' + str(frameno) + '.png'\n",
    "        thisImage = plt.imread(filename)\n",
    "        ax.imshow(thisImage)\n",
    "        ax.set_xticklabels([])\n",
    "        ax.set_xticks([])\n",
    "        ax.set_yticklabels([])\n",
    "        ax.set_yticks([])\n",
    "        plt.text(50,50,\"vol = {}\".format(int(vols[frameno])))\n",
    "        frameno += 1\n",
    "plt.show();"
   ]
  },
  {
   "cell_type": "code",
   "execution_count": 55,
   "id": "185dc981-3a8e-48db-813a-83013e34adf2",
   "metadata": {},
   "outputs": [],
   "source": [
    "fig.savefig(\"random_tets.png\")"
   ]
  },
  {
   "cell_type": "code",
   "execution_count": 56,
   "id": "99a7cec7-6fe2-41b4-b3ef-a277d87d7fde",
   "metadata": {},
   "outputs": [
    {
     "data": {
      "text/plain": [
       "1.0"
      ]
     },
     "execution_count": 56,
     "metadata": {},
     "output_type": "execute_result"
    }
   ],
   "source": [
    "(a-b).length()"
   ]
  },
  {
   "cell_type": "code",
   "execution_count": 57,
   "id": "566602c2-1782-4d7a-afeb-cd00fc6c86e4",
   "metadata": {},
   "outputs": [
    {
     "data": {
      "text/plain": [
       "1.0"
      ]
     },
     "execution_count": 57,
     "metadata": {},
     "output_type": "execute_result"
    }
   ],
   "source": [
    "pov.POV_Vector(1,0,0).length"
   ]
  }
 ],
 "metadata": {
  "kernelspec": {
   "display_name": "Python 3 (ipykernel)",
   "language": "python",
   "name": "python3"
  },
  "language_info": {
   "codemirror_mode": {
    "name": "ipython",
    "version": 3
   },
   "file_extension": ".py",
   "mimetype": "text/x-python",
   "name": "python",
   "nbconvert_exporter": "python",
   "pygments_lexer": "ipython3",
   "version": "3.9.12"
  }
 },
 "nbformat": 4,
 "nbformat_minor": 5
}
