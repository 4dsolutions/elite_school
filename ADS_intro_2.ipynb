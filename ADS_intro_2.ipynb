{
 "cells": [
  {
   "cell_type": "markdown",
   "id": "b24227c4-5a32-4306-a9d3-0f90919f92cf",
   "metadata": {},
   "source": [
    "##### Algorithms and Data Structures (Winter - Spring 2022)\n",
    "\n",
    "# Choosing Algorithms\n",
    "\n",
    "You know from your own experience that some ways of accomplishing a task may take a lot longer than others.  Going more slowly may have it's advantages, as in real life we're accomplishing multiple tasks and have to weigh trade-offs.\n",
    "\n",
    "For example, you could wolf your dinner in a hurry, and if the only objective were to eat and run, this could be appropriate.  However dinner may be an important social occasion and eating quickly and leaving the table only deprives one of catching up on important developments.\n",
    "\n",
    "A first question, which faced with a computing challenge, is whether there's a solution at all.  The second question is whether this solution is at all practical in terms of time and resources.  A third question is how much original work will be required on your part, and how long might that take.\n",
    "\n",
    "The first question involves research and not reinventing the wheel.  If people stopped to reinvent every algorithm from scratch, we would move forward much too slowly.  Everyone would need the same insights and genius as everyone else we we know the world is not like that.\n",
    "\n",
    "On the other hand, simply grabbing a published algorithm from a book without having much insight into how the algorithm actually works, or why, may lead to troubles down the road.  \n",
    "\n",
    "Not really understanding how an algorithm works should not prevent you from using it though.  In computing, we learn to treat some elements of our system as \"black boxes\" meaning we have no insight into the internals, but may use them anyway.\n",
    "\n",
    "The second question (how long?) involves understanding what's called \"Big O notation\" which looks something like $O(n^{2})$ or $O(n\\ log(n))$.  Big O notation is about roughly how long an algorithm might likely take to find a solution, and is pegged to some input \"n\" of growing dimension.  \n",
    "\n",
    "For example, n might be the number of digits in a number, and you want to know if the number is prime, or its prime factors.  Many off-the-self algorithms address these very questions."
   ]
  },
  {
   "cell_type": "code",
   "execution_count": 1,
   "id": "36e82d9d-308d-4438-a144-ad92ec79fbc4",
   "metadata": {},
   "outputs": [
    {
     "data": {
      "text/plain": [
       "True"
      ]
     },
     "execution_count": 1,
     "metadata": {},
     "output_type": "execute_result"
    }
   ],
   "source": [
    "from primes import isprime, factors\n",
    "\n",
    "isprime(23321)"
   ]
  },
  {
   "cell_type": "code",
   "execution_count": 2,
   "id": "27a6573b-945c-4bfa-9de7-da46cebab157",
   "metadata": {},
   "outputs": [
    {
     "data": {
      "text/plain": [
       "(1, 2, 11, 11, 19997)"
      ]
     },
     "execution_count": 2,
     "metadata": {},
     "output_type": "execute_result"
    }
   ],
   "source": [
    "factors(4839274)  # this version includes 1 as a factor..."
   ]
  },
  {
   "cell_type": "code",
   "execution_count": 3,
   "id": "07ead4fe-9dcd-42f5-8836-4cb821da9616",
   "metadata": {},
   "outputs": [
    {
     "data": {
      "text/plain": [
       "(1, 2, 2, 3)"
      ]
     },
     "execution_count": 3,
     "metadata": {},
     "output_type": "execute_result"
    }
   ],
   "source": [
    "factors(12)  # but not the number itself"
   ]
  },
  {
   "cell_type": "code",
   "execution_count": 4,
   "id": "2ab3c77a-d304-4acf-8bed-0ad8c36e757c",
   "metadata": {},
   "outputs": [
    {
     "data": {
      "text/plain": [
       "(1, 7, 11, 11, 13, 13)"
      ]
     },
     "execution_count": 4,
     "metadata": {},
     "output_type": "execute_result"
    }
   ],
   "source": [
    "factors(11 * 11 * 13 * 13 * 7)"
   ]
  },
  {
   "cell_type": "code",
   "execution_count": 5,
   "id": "5f9c173b-7329-49db-85d2-d42f4f51457c",
   "metadata": {},
   "outputs": [
    {
     "data": {
      "text/plain": [
       "360"
      ]
     },
     "execution_count": 5,
     "metadata": {},
     "output_type": "execute_result"
    }
   ],
   "source": [
    "# what factors returns should multiply together giving\n",
    "# the original number\n",
    "from functools import reduce\n",
    "from operator import mul\n",
    "\n",
    "f = factors(360)  # list of factors\n",
    "reduce(mul, f)    # multiply all fs together"
   ]
  },
  {
   "cell_type": "markdown",
   "id": "a8769999-31da-4000-9d9b-9876164030bf",
   "metadata": {},
   "source": [
    "Or n is the number of points floating in XYZ space and you wish to generate the biggest convex polyhedron that could contain all of them, either as corners, or internally.  An open source program named Qhull will do this for you.\n",
    "\n",
    "If a measure of the algorithm's efficiency is something like $O(n!)$, that means the time needed grows very quickly as n gets bigger. Often times we say an algorithm takes \"polynomial time\" and usually that means the algorithm is impractical for large values of n.  But how large is too large?\n",
    "\n",
    "If the efficency is more like $O(n)$, we say the time increases \"linearly with n\" which is about as good as it gets. \n",
    "\n",
    "For example the amount of time it takes to scan a list for a specific value tends to increase linearly with the length of the list.  A list 10 times longer, takes an average of 10 times longer to search.\n",
    "\n",
    "# Inventing Algorithms\n",
    "\n",
    "Sometimes you might find exactly the algorithm you need, including in the computer language of your choice.  You may need to customize it a little, to fit into your larger project, but that's a minor detail.\n",
    "\n",
    "Other times, you may need to invent your own algorithms.  You might want to do this anyway, because you see a clear way to accomplish a task and feel relying on others might take more time.  You might elect to devise your own solution for many reasons, including because you're in school learning how to write algorithms.\n",
    "\n",
    "One technique involved in writing your own solution is writing tests for that solution.  \n",
    "\n",
    "How will you know you solution is correct?  This requires having an independent and trusted source of \"right answers\" such as the digits of pi (if you're trying to generate them) or a list of consecutive prime numbers (if you're trying to generate primes).\n",
    "\n",
    "Speaking of generating prime numbers, the Sieve of Eratosthenes is a great example of an ancient algorithm, passed down through the ages.  See Notes."
   ]
  },
  {
   "cell_type": "code",
   "execution_count": 6,
   "id": "86aeb2b0-5705-41a1-a4f5-92057b16b7f7",
   "metadata": {},
   "outputs": [
    {
     "name": "stdout",
     "output_type": "stream",
     "text": [
      "Eliminating multiples of: 2\n",
      "Eliminating multiples of: 3\n",
      "Eliminating multiples of: 5\n",
      "Eliminating multiples of: 7\n",
      "[2, 3, 5, 7, 11, 13, 17, 19, 23, 29, 31, 37, 41, 43, 47, 53, 59, 61, 67, 71, 73, 79, 83, 89, 97]\n"
     ]
    }
   ],
   "source": [
    "from primes import eratosthenes\n",
    "print(eratosthenes(100))  # all primes <= 100"
   ]
  },
  {
   "cell_type": "markdown",
   "id": "db6cd302-96eb-42e8-8dcf-d2a6c2b600a6",
   "metadata": {},
   "source": [
    "For example, in the case of our Wordle-like project, evaluating a guess versus a right answer is something one can do manually, without a computer, once the rules of the game are understood.  If your algorithm matches all the results you know are correct, then that's evidence you're making progress.\n",
    "\n",
    "# Proving Algorithms\n",
    "\n",
    "More valuable than tests, or at least complementary to tests, would be some kind of mathematical proof that the algorithm is in fact correct.  \n",
    "\n",
    "Some algorithms may produce \"false positives\" or \"false negatives\".  For example, the Fermat Primality test may falsely flag a composite as prime, but it will never flag falsely flag a prime, as composite."
   ]
  },
  {
   "cell_type": "code",
   "execution_count": 7,
   "id": "f9b3f5e2-b7b9-45fb-b8ae-0e78876ebd9f",
   "metadata": {},
   "outputs": [],
   "source": [
    "from math import gcd\n",
    "\n",
    "def fermat(n, a=3):\n",
    "    if gcd(n, a) > 1: # n is composite\n",
    "        return False\n",
    "    if pow(a, n-1, n) == 1:\n",
    "        return True  # fermat test\n",
    "    else:\n",
    "        return False"
   ]
  },
  {
   "cell_type": "code",
   "execution_count": 8,
   "id": "7848fe1b-0d00-4998-9328-add470487a54",
   "metadata": {},
   "outputs": [
    {
     "data": {
      "text/plain": [
       "True"
      ]
     },
     "execution_count": 8,
     "metadata": {},
     "output_type": "execute_result"
    }
   ],
   "source": [
    "fermat(17)"
   ]
  },
  {
   "cell_type": "code",
   "execution_count": 9,
   "id": "588cdc24-37dd-46a7-9fc3-723e5449e69b",
   "metadata": {},
   "outputs": [
    {
     "data": {
      "text/plain": [
       "True"
      ]
     },
     "execution_count": 9,
     "metadata": {},
     "output_type": "execute_result"
    }
   ],
   "source": [
    "fermat(109)"
   ]
  },
  {
   "cell_type": "code",
   "execution_count": 10,
   "id": "de639b65-8fa7-4669-a0fe-6e5b701622f8",
   "metadata": {},
   "outputs": [
    {
     "data": {
      "text/plain": [
       "True"
      ]
     },
     "execution_count": 10,
     "metadata": {},
     "output_type": "execute_result"
    }
   ],
   "source": [
    "fermat(1729)"
   ]
  },
  {
   "cell_type": "code",
   "execution_count": 11,
   "id": "c624b328-2965-4f05-9965-7757c8feca0f",
   "metadata": {},
   "outputs": [
    {
     "data": {
      "text/plain": [
       "(1, 7, 13, 19)"
      ]
     },
     "execution_count": 11,
     "metadata": {},
     "output_type": "execute_result"
    }
   ],
   "source": [
    "factors(1729)"
   ]
  },
  {
   "cell_type": "markdown",
   "id": "31589cf2-4d23-49e5-91bc-0a19327aa016",
   "metadata": {},
   "source": [
    "Along with proving and testing comes assessing the algorithm's efficiency. As the inventor of the algorithm, it's up to you to get a sense of what its Big-O signature might be.  \n",
    "\n",
    "If you plan to publish your algorithm as a useful invention available to a wider public, such an analysis may be expected of you.\n",
    "\n",
    "\n",
    "# One of the Oldest Algorithms\n",
    "\n",
    "One of the oldest algorithms that's been passed down through the ages is known as Euclid's Algorithm.  Whether Euclid invented it is not the key question.  The method was included among Euclid's published techniques.\n",
    "\n",
    "The purpose of Euclid's Algorithm (EA) is to find the biggest number that will divide two other numbers.  We're talking about positive integers and a unit, such that if EA(a, b) is 1, then a/b is already a fraction in lowest terms.\n",
    "\n",
    "For example, EA(24, 16) is 8, because 8 is the largest integer, the greatest common divisor, of both 24 and 16.  2 is also a divisor, but isn't the greatest.  \n",
    "\n",
    "Sometimes one of the numbers is already divisor of the other, in which case that's the answer.\n",
    "\n",
    "The implementation of a \"greatest common divisor\" solution below is *not* Euclid's Method, but a relatively inefficent method that is nevertheless not hard to understand.\n",
    "\n",
    "Get all the divisors of input numbers j and k, then get the greatest divisor they both have in common."
   ]
  },
  {
   "cell_type": "code",
   "execution_count": 12,
   "id": "1d4e03a5-d14e-4e58-859e-cec4d69f908a",
   "metadata": {},
   "outputs": [],
   "source": [
    "def divisors(n : int):\n",
    "    divs = list()\n",
    "    for d in range(1, n + 1):\n",
    "        if n % d == 0:\n",
    "            divs.append(d)\n",
    "    return divs        "
   ]
  },
  {
   "cell_type": "code",
   "execution_count": 13,
   "id": "9bbea0b0-2227-4c25-9249-9f1d439c41cd",
   "metadata": {},
   "outputs": [
    {
     "data": {
      "text/plain": [
       "[1, 2, 3, 4, 6, 12]"
      ]
     },
     "execution_count": 13,
     "metadata": {},
     "output_type": "execute_result"
    }
   ],
   "source": [
    "divisors(12)"
   ]
  },
  {
   "cell_type": "code",
   "execution_count": 14,
   "id": "07a4d495-b277-4725-b134-ea46b2704644",
   "metadata": {},
   "outputs": [
    {
     "data": {
      "text/plain": [
       "[1, 2, 3, 4, 6, 9, 12, 18, 36]"
      ]
     },
     "execution_count": 14,
     "metadata": {},
     "output_type": "execute_result"
    }
   ],
   "source": [
    "divisors(36)"
   ]
  },
  {
   "cell_type": "code",
   "execution_count": 15,
   "id": "a73a650a-2521-4a2c-954f-7f6be101c5c9",
   "metadata": {},
   "outputs": [],
   "source": [
    "def gcd(a, b):\n",
    "    return max(set(divisors(a)).intersection(set(divisors(b))))"
   ]
  },
  {
   "cell_type": "code",
   "execution_count": 16,
   "id": "8725357f-7bc6-43d0-ba6a-e92648d2e462",
   "metadata": {},
   "outputs": [
    {
     "data": {
      "text/plain": [
       "2"
      ]
     },
     "execution_count": 16,
     "metadata": {},
     "output_type": "execute_result"
    }
   ],
   "source": [
    "gcd(24, 10)"
   ]
  },
  {
   "cell_type": "code",
   "execution_count": 17,
   "id": "09be6409-8c1c-4ae3-aa36-c3191d30c6dd",
   "metadata": {},
   "outputs": [
    {
     "data": {
      "text/plain": [
       "1"
      ]
     },
     "execution_count": 17,
     "metadata": {},
     "output_type": "execute_result"
    }
   ],
   "source": [
    "gcd(19, 21)"
   ]
  },
  {
   "cell_type": "code",
   "execution_count": 18,
   "id": "490a0f4d-764d-4f0d-ba57-8997e143c53e",
   "metadata": {},
   "outputs": [
    {
     "data": {
      "text/plain": [
       "35"
      ]
     },
     "execution_count": 18,
     "metadata": {},
     "output_type": "execute_result"
    }
   ],
   "source": [
    "gcd(10045, 4095)"
   ]
  },
  {
   "cell_type": "markdown",
   "id": "7c9edbca-5f0d-4012-a2a5-06e897644627",
   "metadata": {},
   "source": [
    "This works!\n",
    "\n",
    "However, Euclid's Method (another name for Euclid's Algorithm) is much cleverer.  \n",
    "\n",
    "Consider our two inputs to be m and n.  If the smaller m divides the larger n with no remainder, we're done: m is the greatest divisor.  \n",
    "\n",
    "It could be that m is down to 1 at this point (see below), in which case the original n and m were \"strangers\" to one another, meaning their only factor in common was the number 1.  We could also say they were \"relatively prime\"."
   ]
  },
  {
   "cell_type": "code",
   "execution_count": 19,
   "id": "b98ee8aa-5517-42d2-a2eb-8fe647723286",
   "metadata": {},
   "outputs": [
    {
     "data": {
      "text/plain": [
       "1"
      ]
     },
     "execution_count": 19,
     "metadata": {},
     "output_type": "execute_result"
    }
   ],
   "source": [
    "from math import gcd\n",
    "\n",
    "gcd(19, 101)  # both prime"
   ]
  },
  {
   "cell_type": "code",
   "execution_count": 20,
   "id": "dcfd3f43-4057-43e9-afcf-eb158d15bc7b",
   "metadata": {},
   "outputs": [
    {
     "data": {
      "text/plain": [
       "1"
      ]
     },
     "execution_count": 20,
     "metadata": {},
     "output_type": "execute_result"
    }
   ],
   "source": [
    "gcd(18, 13) # relatively prime (strangers)"
   ]
  },
  {
   "cell_type": "markdown",
   "id": "79f6afdf-aa89-42ed-849d-28247d25daf1",
   "metadata": {},
   "source": [
    "Otherwise, if m is not 1, and there's some remainder r after dividing n by m, then the next step is to find the greatest divisor of m and r.  Whatever divides both will also divide n, the longer starting length.  \n",
    "\n",
    "And so on, we keep going.  The n, m pair keeps getting smaller as we keep taking the  remainder from the previous pair.  Down to m = 1 at the limit, but we don't necessarily get to that.  Whenever m divides n, we're done.\n",
    "\n",
    "Here's a first attempt at implementing the above:"
   ]
  },
  {
   "cell_type": "code",
   "execution_count": 21,
   "id": "2922e07e-02db-4eac-9194-906e248c5fe3",
   "metadata": {},
   "outputs": [],
   "source": [
    "def EA(m, n):\n",
    "    if m > n:\n",
    "        m, n = n, m  # make m the smaller\n",
    "    while True:\n",
    "        q = n // m     #  get quotient\n",
    "        if q * m == n: #  if no remainder, done\n",
    "            return m\n",
    "        n, m = m, n - q*m # m, r -- the new terms"
   ]
  },
  {
   "cell_type": "code",
   "execution_count": 22,
   "id": "abf540ed-8fb3-4e00-b250-10b57075f1f4",
   "metadata": {},
   "outputs": [
    {
     "data": {
      "text/plain": [
       "4"
      ]
     },
     "execution_count": 22,
     "metadata": {},
     "output_type": "execute_result"
    }
   ],
   "source": [
    "EA(12, 100)"
   ]
  },
  {
   "cell_type": "code",
   "execution_count": 23,
   "id": "4293e75b-53e7-4778-bebd-c9ec9c8337b0",
   "metadata": {},
   "outputs": [
    {
     "data": {
      "text/plain": [
       "35"
      ]
     },
     "execution_count": 23,
     "metadata": {},
     "output_type": "execute_result"
    }
   ],
   "source": [
    "EA(10045, 4095)"
   ]
  },
  {
   "cell_type": "code",
   "execution_count": 24,
   "id": "c505053e-de02-44a8-8c6f-2dabf9465586",
   "metadata": {},
   "outputs": [
    {
     "name": "stdout",
     "output_type": "stream",
     "text": [
      "351 ns ± 64.8 ns per loop (mean ± std. dev. of 7 runs, 1000000 loops each)\n"
     ]
    }
   ],
   "source": [
    "%timeit  gcd(4839274, 639232)"
   ]
  },
  {
   "cell_type": "code",
   "execution_count": 25,
   "id": "4afadd53-99c4-4f7f-aba4-515f1f56e63c",
   "metadata": {},
   "outputs": [
    {
     "name": "stdout",
     "output_type": "stream",
     "text": [
      "3.35 µs ± 68.2 ns per loop (mean ± std. dev. of 7 runs, 100000 loops each)\n"
     ]
    }
   ],
   "source": [
    "%timeit  EA(4839274, 639232)"
   ]
  },
  {
   "cell_type": "markdown",
   "id": "b36441bc-3990-48df-909d-ff999cfe2eec",
   "metadata": {},
   "source": [
    "EA is hugely more efficient compared to the all-divisors based algorithm, taking only micro-seconds versus milliseconds.  \n",
    "\n",
    "EA does not require finding all the divisors of any number.  EA eventually comes to an end, with an answer if 1, so there's no danger the ```while True``` loop will be infinite.\n",
    "\n",
    "Speaking of loops, here's another implementation of EA employing recursion:"
   ]
  },
  {
   "cell_type": "code",
   "execution_count": 26,
   "id": "ac8cdf2c-97e7-454d-a2d4-16019da1e675",
   "metadata": {},
   "outputs": [],
   "source": [
    "def EA(m, n):\n",
    "    if m > n:\n",
    "        m, n = n, m  # make m the smaller\n",
    "    r = n % m        # remainder\n",
    "    if r == 0: #  if no remainder, done\n",
    "        return m\n",
    "    return EA(m, r)"
   ]
  },
  {
   "cell_type": "code",
   "execution_count": 27,
   "id": "1c49e2b7-2baa-4246-bd4f-b829c84d5497",
   "metadata": {},
   "outputs": [
    {
     "name": "stdout",
     "output_type": "stream",
     "text": [
      "3.85 µs ± 64.8 ns per loop (mean ± std. dev. of 7 runs, 100000 loops each)\n"
     ]
    }
   ],
   "source": [
    "%timeit  EA(4839274, 639232)"
   ]
  },
  {
   "cell_type": "markdown",
   "id": "0f8265cb-9d9b-4cc9-aa12-6db51f0c51e3",
   "metadata": {},
   "source": [
    "The pithiest (most Pythonic) implementation of EA is attributed to Guido van Rossum, Python's inventor.  \n",
    "\n",
    "Here it is:"
   ]
  },
  {
   "cell_type": "code",
   "execution_count": 28,
   "id": "0b493429-80cc-47f4-9ba3-96ed9e798865",
   "metadata": {},
   "outputs": [],
   "source": [
    "def EA(m, n):\n",
    "    while m:\n",
    "        n, m = m, n % m\n",
    "    return n"
   ]
  },
  {
   "cell_type": "code",
   "execution_count": 29,
   "id": "2e52dcdc-cd9d-4ebe-a2d7-6f85cef71b3e",
   "metadata": {},
   "outputs": [
    {
     "data": {
      "text/plain": [
       "4"
      ]
     },
     "execution_count": 29,
     "metadata": {},
     "output_type": "execute_result"
    }
   ],
   "source": [
    "EA(12, 100)"
   ]
  },
  {
   "cell_type": "code",
   "execution_count": 30,
   "id": "dc97e5f9-1518-40b2-8273-b8114b2f269d",
   "metadata": {},
   "outputs": [
    {
     "name": "stdout",
     "output_type": "stream",
     "text": [
      "1.42 µs ± 51 ns per loop (mean ± std. dev. of 7 runs, 1000000 loops each)\n"
     ]
    }
   ],
   "source": [
    "%timeit  EA(4839274, 639232)"
   ]
  },
  {
   "cell_type": "markdown",
   "id": "133053f3-d819-47cc-b9bf-84e9559c84ff",
   "metadata": {},
   "source": [
    "#### Notes:\n",
    "\n",
    "\n",
    "Here's the source code for the Seive of Eratosthenes (with more comments), from primes.primesplay.py -- a module within the primes subfolder.\n",
    "\n",
    "```python\n",
    "\n",
    "def eratosthenes(n):\n",
    "    # root2 is renamed math.sqrt\n",
    "    the_max = floor(root2(n))    \n",
    "    # start with all consecutive ints up to n\n",
    "    sieve = list(range(0, n+1))  \n",
    "    eliminator = 2\n",
    "    while True:\n",
    "        if eliminator > the_max: # no more to eliminate\n",
    "            break\n",
    "        print(\"Eliminating multiples of:\", eliminator)\n",
    "        # turn any multiples of eliminator to 0\n",
    "        for k in range(2 * eliminator, n + 1, eliminator): \n",
    "            sieve[k] = 0  \n",
    "        # scan for next uneliminated int\n",
    "        while sieve[eliminator + 1] == 0:  \n",
    "            eliminator += 1\n",
    "        else:\n",
    "            eliminator = sieve[eliminator + 1]\n",
    "        \n",
    "    # shrink me down (compact the sieve) with\n",
    "    # a list comprehension\n",
    "    sieve = [n for n in sieve if n != 0][1:]\n",
    "    return sieve\n",
    "```\n",
    "\n",
    "The code below is for isprime() and factors():\n",
    "\n",
    "```python\n",
    "\n",
    "def isprime(n):\n",
    "    \"\"\"\n",
    "    isprime(n: int) -> bool\n",
    "\n",
    "    Expects positive int, returns Boolean\n",
    "\n",
    "    _cache is for internal cache of primes seen so far\n",
    "    \"\"\"\n",
    "    isprime._cache = set((2,))\n",
    "    if n in isprime._cache:     # see if on file already, screens 2\n",
    "        return True\n",
    "    if (0 == n%2) or (n == 1):  # if not two and yet even, or 1...\n",
    "        return False            # n is not prime\n",
    "    # check range of odds from 3 up\n",
    "    for i in range(3, floor(root2(n)) + 1, 2):\n",
    "        if n % i == 0:       # no remainder?\n",
    "            return False     # ...then composite\n",
    "    isprime._cache.add(n)            # add to _stash\n",
    "    return True              # made it through the screening\n",
    "\n",
    "def factors(n):\n",
    "    \"\"\"\n",
    "    factors(n: int) -> tuple\n",
    "\n",
    "    Expects int, prime or composite\n",
    "    returns a tuple with all prime factors, also 1, and -1 if negative\n",
    "    \"\"\"\n",
    "    if not isinstance(n, int):  # gotta be int\n",
    "        raise ValueError\n",
    "    if n == 0:\n",
    "        return (0,)\n",
    "    found = [1]   # always\n",
    "    if n < 0:\n",
    "        found.append(-1)\n",
    "        n = abs(n)\n",
    "    # chop n down by successive prime factors\n",
    "    divisor = 2\n",
    "    while True:\n",
    "        if n == 1:\n",
    "            break # we're done\n",
    "        if isprime(n):\n",
    "            found.append(n)\n",
    "            break # we're done\n",
    "        while n % divisor == 0 and isprime(divisor):\n",
    "            # divides by same divisor as many times as it takes\n",
    "            found.append(divisor)\n",
    "            n //= divisor  # chop it down\n",
    "        if divisor == 2:   # even once\n",
    "            divisor = 3\n",
    "        else:\n",
    "            divisor = max(divisor, max(found)) + 2 # always odd\n",
    "\n",
    "    return tuple(found) # make it immutable\n",
    "\n",
    "```"
   ]
  },
  {
   "cell_type": "markdown",
   "id": "4f47cbcf-9896-4cd7-bcba-669ac40cf0c7",
   "metadata": {},
   "source": [
    "# Cumulative Sequences\n",
    "\n",
    "Suppose you have a sequence since as the Fibonacci numbers, and for some reason want a cumulative total of all the numbers in a sequence up to a specific term.  In fact, you would like a cumulative total to go with every term in the original sequence.\n",
    "\n",
    "Like this:"
   ]
  },
  {
   "cell_type": "code",
   "execution_count": 31,
   "id": "90c3c230-cc6f-4f49-9bc1-ca74639a055d",
   "metadata": {},
   "outputs": [
    {
     "name": "stdout",
     "output_type": "stream",
     "text": [
      "[0, 1, 1, 2, 3, 5, 8, 13, 21, 34]\n"
     ]
    }
   ],
   "source": [
    "# Fibonacci Numbers\n",
    "# https://oeis.org/A000045\n",
    "\n",
    "def fibo(a=0, b=1):\n",
    "    while True:\n",
    "        yield a\n",
    "        b, a = a + b, b\n",
    "        \n",
    "gen = fibo()\n",
    "fibs = [next(gen) for _ in range(10)]\n",
    "print(fibs)"
   ]
  },
  {
   "cell_type": "code",
   "execution_count": 36,
   "id": "625261ab-0ba1-4a6b-89aa-85c2b5b90f0a",
   "metadata": {},
   "outputs": [],
   "source": [
    "def accumulate(seq):\n",
    "    totals = []\n",
    "    term = 0\n",
    "    for i in seq:\n",
    "        term += i\n",
    "        totals.append(term)\n",
    "    return totals"
   ]
  },
  {
   "cell_type": "code",
   "execution_count": 37,
   "id": "34eef489-126c-48d8-acb2-2e743e761f57",
   "metadata": {},
   "outputs": [
    {
     "data": {
      "text/plain": [
       "[0, 1, 2, 4, 7, 12, 20, 33, 54, 88]"
      ]
     },
     "execution_count": 37,
     "metadata": {},
     "output_type": "execute_result"
    }
   ],
   "source": [
    "accumulate(fibs)"
   ]
  },
  {
   "cell_type": "markdown",
   "id": "1e2d27ff-8ff6-40c7-b821-b8c55e8d28eb",
   "metadata": {},
   "source": [
    "Interestingly, the [running total of Fibonacci numbers](https://oeis.org/A000071) matches itself, minus one from each term, starting a couple terms further forward.  \n",
    "\n",
    "Imagine subtracting 1 from each of these terms:"
   ]
  },
  {
   "cell_type": "code",
   "execution_count": 39,
   "id": "3f43ec8f-a3f1-4b41-9d27-8c47623a4f5c",
   "metadata": {},
   "outputs": [
    {
     "data": {
      "text/plain": [
       "[1, 2, 3, 5, 8, 13, 21, 34]"
      ]
     },
     "execution_count": 39,
     "metadata": {},
     "output_type": "execute_result"
    }
   ],
   "source": [
    "fibs[2:]"
   ]
  },
  {
   "cell_type": "markdown",
   "id": "3749e1e0-555e-4855-8754-46d09feb13fe",
   "metadata": {},
   "source": [
    "Now let's do it:"
   ]
  },
  {
   "cell_type": "code",
   "execution_count": 38,
   "id": "50af803e-8b50-47c9-aa20-eb4ad49eedf2",
   "metadata": {},
   "outputs": [
    {
     "data": {
      "text/plain": [
       "[0, 1, 2, 4, 7, 12, 20, 33]"
      ]
     },
     "execution_count": 38,
     "metadata": {},
     "output_type": "execute_result"
    }
   ],
   "source": [
    "[fib-1 for fib in fibs[2:]]"
   ]
  },
  {
   "cell_type": "markdown",
   "id": "ab33b292-5cb2-4e4f-93d0-4f5966c9fe47",
   "metadata": {},
   "source": [
    "## Exercise\n",
    "\n",
    "Write a function that takes a sequence and returns a sequence, of differences between successive terms.\n",
    "\n",
    "For example, ```[0, 1, 2, 4, 7, 12, 20, 33]``` would output ```[1, 1, 2, 3, 5, 8, 13]```.  The resulting sequence will have one less term than the input sequence."
   ]
  },
  {
   "cell_type": "code",
   "execution_count": null,
   "id": "b2ab2244-0e24-434e-9e36-7f2662c68837",
   "metadata": {},
   "outputs": [],
   "source": []
  }
 ],
 "metadata": {
  "kernelspec": {
   "display_name": "Python 3 (ipykernel)",
   "language": "python",
   "name": "python3"
  },
  "language_info": {
   "codemirror_mode": {
    "name": "ipython",
    "version": 3
   },
   "file_extension": ".py",
   "mimetype": "text/x-python",
   "name": "python",
   "nbconvert_exporter": "python",
   "pygments_lexer": "ipython3",
   "version": "3.7.9"
  }
 },
 "nbformat": 4,
 "nbformat_minor": 5
}
