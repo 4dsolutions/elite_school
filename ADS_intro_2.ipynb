{
 "cells": [
  {
   "cell_type": "markdown",
   "id": "f5ee91d5-c2e4-4fdd-8041-3352a2d91151",
   "metadata": {},
   "source": [
    "##### Algorithms and Data Structures (Winter - Spring 2022)\n",
    "\n",
    "* [Colab view](https://colab.research.google.com/github/4dsolutions/elite_school/blob/master/ADS_intro_2.ipynb)\n",
    "* [nbviewer view](https://nbviewer.org/github/4dsolutions/elite_school/blob/master/ADS_intro_2.ipynb)\n",
    "* [ADS Page 1](ADS_intro_1.ipynb)\n",
    "* [ADS Project](ADS_project_1.ipynb)\n",
    "* [ACSL](Exercises.ipynb)\n",
    "* [Repo](https://github.com/4dsolutions/elite_school/)\n",
    "\n",
    "# Choosing Algorithms\n",
    "\n",
    "You know from your own experience that some ways of accomplishing a task may take a lot longer than others.  Going more slowly may have its advantages, as in real life we're accomplishing multiple tasks and have to weigh trade-offs.\n",
    "\n",
    "For example, you could wolf your dinner in a hurry, and if the only objective were to eat and run, this could be appropriate.  However dinner may be an important social occasion and eating quickly and leaving the table only deprives one of catching up on important developments.\n",
    "\n",
    "A first question, when faced with a computing challenge, is whether there's a solution at all.  The second question is whether this solution is at all practical in terms of time and resources.  A third question is how much original work will be required on your part, and how long might that take.\n",
    "\n",
    "The first question involves research and not reinventing the wheel.  If people stopped to reinvent every algorithm from scratch, we would move forward much too slowly.  Everyone would need the same insights and genius as everyone else we we know the world is not like that.\n",
    "\n",
    "On the other hand, simply grabbing a published algorithm from a book without having much insight into how the algorithm actually works, or why, may lead to troubles down the road.  \n",
    "\n",
    "Not really understanding how an algorithm works should not prevent you from using it though.  In computing, we learn to treat some elements of our system as \"black boxes\" meaning we have no insight into the internals, but may use them anyway.\n",
    "\n",
    "The second question (how long?) involves understanding what's called \"Big O notation\" which looks something like $O(n^{2})$ or $O(n\\ log(n))$.  Big O notation is about roughly how long an algorithm will likely take to find a solution, and is pegged to some input \"n\" of growing dimension.  \n",
    "\n",
    "For example, n might be the number of digits in a number, and you want to know if the number is prime, or its prime factors.  Many off-the-self algorithms address these very questions."
   ]
  },
  {
   "cell_type": "code",
   "execution_count": null,
   "id": "36e82d9d-308d-4438-a144-ad92ec79fbc4",
   "metadata": {},
   "outputs": [],
   "source": [
    "from primes import isprime, factors, all_factors\n",
    "\n",
    "isprime(23321)"
   ]
  },
  {
   "cell_type": "code",
   "execution_count": null,
   "id": "0c78ce41-db44-4760-8601-9b0761235898",
   "metadata": {},
   "outputs": [],
   "source": [
    "all_factors(2)"
   ]
  },
  {
   "cell_type": "code",
   "execution_count": null,
   "id": "27a6573b-945c-4bfa-9de7-da46cebab157",
   "metadata": {},
   "outputs": [],
   "source": [
    "factors(4839274)  # this version includes 1 as a factor..."
   ]
  },
  {
   "cell_type": "code",
   "execution_count": null,
   "id": "f8db8bd0-7212-47bb-af95-a74fdf807bc0",
   "metadata": {},
   "outputs": [],
   "source": [
    "from imp import reload\n",
    "import primes.primesplay\n",
    "reload(primes.primesplay)"
   ]
  },
  {
   "cell_type": "code",
   "execution_count": null,
   "id": "07ead4fe-9dcd-42f5-8836-4cb821da9616",
   "metadata": {},
   "outputs": [],
   "source": [
    "factors(12)  # but not the number itself"
   ]
  },
  {
   "cell_type": "code",
   "execution_count": null,
   "id": "2ab3c77a-d304-4acf-8bed-0ad8c36e757c",
   "metadata": {},
   "outputs": [],
   "source": [
    "factors(11 * 11 * 13 * 13 * 7)"
   ]
  },
  {
   "cell_type": "code",
   "execution_count": null,
   "id": "5f9c173b-7329-49db-85d2-d42f4f51457c",
   "metadata": {},
   "outputs": [],
   "source": [
    "# what factors() returns should multiply together giving\n",
    "# the original number\n",
    "from functools import reduce\n",
    "from operator import mul\n",
    "\n",
    "f = factors(360)  # list of factors\n",
    "reduce(mul, f)    # multiply all fs together"
   ]
  },
  {
   "cell_type": "code",
   "execution_count": null,
   "id": "79fc335a-32b8-4742-b2a8-f1a4aa9764b4",
   "metadata": {},
   "outputs": [],
   "source": [
    "all_factors(12)"
   ]
  },
  {
   "cell_type": "code",
   "execution_count": null,
   "id": "d26a4958-0d33-40bb-b292-de06d7866587",
   "metadata": {},
   "outputs": [],
   "source": [
    "def proper_divisors(n):\n",
    "    return [f for f in all_factors(n)][:-1]"
   ]
  },
  {
   "cell_type": "code",
   "execution_count": null,
   "id": "b5c43a04-0bb7-4e7a-8413-12e1d1afabd7",
   "metadata": {},
   "outputs": [],
   "source": [
    "print(proper_divisors(28))"
   ]
  },
  {
   "cell_type": "code",
   "execution_count": null,
   "id": "e2a554a3-a560-4e06-97ac-76e92ec48ea5",
   "metadata": {},
   "outputs": [],
   "source": [
    "def aliquot_sum(n):\n",
    "    return sum(proper_divisors(n))"
   ]
  },
  {
   "cell_type": "code",
   "execution_count": null,
   "id": "58e2095a-245b-4f58-af10-e22ed15070a8",
   "metadata": {},
   "outputs": [],
   "source": [
    "print([aliquot_sum(x) for x in range(1, 30)])"
   ]
  },
  {
   "cell_type": "code",
   "execution_count": null,
   "id": "0ac00356-4206-43bb-be90-9251dc5e9c39",
   "metadata": {},
   "outputs": [],
   "source": [
    "aliquot_sum(28)  # perfect number"
   ]
  },
  {
   "cell_type": "markdown",
   "id": "a8769999-31da-4000-9d9b-9876164030bf",
   "metadata": {},
   "source": [
    "Or n is the number of points floating in XYZ space and you wish to generate the biggest convex polyhedron that could contain all of them, either as corners, or internally.  An open source program named Qhull will do this for you.\n",
    "\n",
    "If a measure of the algorithm's efficiency is something like $O(n!)$, that means the time needed grows very quickly as n gets bigger. Often times we say an algorithm takes \"polynomial time\" and usually that means the algorithm is impractical for large values of n.  But how large is too large?\n",
    "\n",
    "If the efficency is more like $O(n)$, we say the time increases \"linearly with n\" which is about as good as it gets. Actually $O(1)$ is maximal.\n",
    "\n",
    "<blockquote class=\"twitter-tweet\"><p lang=\"en\" dir=\"ltr\">Remember <a href=\"https://twitter.com/hashtag/Python?src=hash&amp;ref_src=twsrc%5Etfw\">#Python</a> sets and dicts use a hash table internally which makes them very fast - algorithmic complexity of O(1) - for lookups (e.g. using the &quot;in&quot; operator).</p>&mdash; Bob Belderbos (@bbelderbos) <a href=\"https://twitter.com/bbelderbos/status/1493526761195417602?ref_src=twsrc%5Etfw\">February 15, 2022</a></blockquote> <script async src=\"https://platform.twitter.com/widgets.js\" charset=\"utf-8\"></script> \n",
    "\n",
    "For example the amount of time it takes to scan a list for a specific value tends to increase linearly with the length of the list.  A list 10 times longer, takes an average of 10 times longer to search.  Looking up a value by key in a dict, however, takes about the same amount of time no matter what.\n",
    "\n",
    "# Inventing Algorithms\n",
    "\n",
    "Sometimes you might find exactly the algorithm you need, including in the computer language of your choice.  You may need to customize it a little, to fit into your larger project, but that's a minor detail.\n",
    "\n",
    "Other times, you may need to invent your own algorithms.  You might want to do this anyway, because you see a clear way to accomplish a task and feel relying on others might take more time.  You might elect to devise your own solution for many reasons, including because you're in school learning how to write algorithms.\n",
    "\n",
    "One technique involved in writing your own solution is writing tests for that solution.  \n",
    "\n",
    "How will you know your solution is correct?  This requires having an independent and trusted source of \"right answers\" such as the digits of pi (if you're trying to generate them) or a list of consecutive prime numbers (if you're trying to generate primes).\n",
    "\n",
    "Speaking of generating prime numbers, the Sieve of Eratosthenes is a great example of an ancient algorithm, passed down through the ages.  See Notes."
   ]
  },
  {
   "cell_type": "code",
   "execution_count": null,
   "id": "86aeb2b0-5705-41a1-a4f5-92057b16b7f7",
   "metadata": {},
   "outputs": [],
   "source": [
    "from primes import eratosthenes\n",
    "print(eratosthenes(100))  # all primes <= 100"
   ]
  },
  {
   "cell_type": "markdown",
   "id": "9ecba7af-336d-4909-afc4-ab1bd5ef3b4d",
   "metadata": {},
   "source": [
    "For example, in the case of [our Wordle-like project](ADS_project_1.ipynb), evaluating a guess versus a right answer, coming up with the correct feedback, is something one can do manually, without a computer, once the rules of the game are understood.  If your algorithm matches all the results you know are correct, having derived them yourself, then that's evidence you're making progress."
   ]
  },
  {
   "cell_type": "markdown",
   "id": "c4c25729-adc5-49c7-8cc4-e640d896e026",
   "metadata": {},
   "source": [
    "# Proving Algorithms\n",
    "\n",
    "More valuable than tests, or at least complementary to tests, would be some kind of mathematical proof that the algorithm is in fact correct.  \n",
    "\n",
    "Some algorithms may produce \"false positives\" or \"false negatives\".  For example, the Fermat Primality test may falsely flag a composite as prime, but it will never falsely flag a prime as composite.\n"
   ]
  },
  {
   "cell_type": "code",
   "execution_count": 1,
   "id": "f9b3f5e2-b7b9-45fb-b8ae-0e78876ebd9f",
   "metadata": {},
   "outputs": [],
   "source": [
    "from math import gcd\n",
    "\n",
    "def fermat_test(n, base=2):\n",
    "    if gcd(n, base) > 1: # n is composite\n",
    "        return False\n",
    "    if pow(base, n-1, n) == 1:\n",
    "        return True  # pass\n",
    "    else:\n",
    "        return False # no pass"
   ]
  },
  {
   "cell_type": "markdown",
   "id": "e19bfddb-ebec-48d9-b15c-5806d8b8eb12",
   "metadata": {},
   "source": [
    "Although [Li Shanlan](https://en.wikipedia.org/wiki/Li_Shanlan) (1811–1882), a Qing dynasty mathematician, later realized his error in claiming any odd n prime if and only if $2^{n-1} \\equiv 1 \\pmod n$, it was too late: [the so-called \"Chinese Hypothesis\"](https://en.wikipedia.org/wiki/Chinese_hypothesis) had made it into the literature.\n",
    "\n",
    "We can see why this conjecture was tempting:"
   ]
  },
  {
   "cell_type": "code",
   "execution_count": null,
   "id": "6e4a414f-fd85-42f6-bf1e-47cde33a1ba6",
   "metadata": {},
   "outputs": [],
   "source": [
    "shanlan = [n for n in range(1, 300) if fermat_test(n) ]\n",
    "print(shanlan)"
   ]
  },
  {
   "cell_type": "code",
   "execution_count": null,
   "id": "72350d8b-6816-42d2-85cf-c466fbf4a26b",
   "metadata": {},
   "outputs": [],
   "source": [
    "sifted = eratosthenes(300)\n",
    "sifted[1:] == shanlan # but for 2 itself"
   ]
  },
  {
   "cell_type": "code",
   "execution_count": null,
   "id": "c061a8eb-ccd3-4f54-abfc-9b07eb26b008",
   "metadata": {},
   "outputs": [],
   "source": [
    "shanlan = [ n for n in range(3, 301, 2) if fermat_test(n)]\n",
    "print(shanlan)"
   ]
  },
  {
   "cell_type": "code",
   "execution_count": null,
   "id": "b74926bd-3bb0-486c-b12b-8af84074d443",
   "metadata": {},
   "outputs": [],
   "source": [
    "fermat_test(341)  # however..."
   ]
  },
  {
   "cell_type": "markdown",
   "id": "3ff5d334-ddde-4908-8ff6-fde9bc89f7f8",
   "metadata": {},
   "source": [
    "[Dr. Sarrus](https://en.wikipedia.org/wiki/Pierre_Fr%C3%A9d%C3%A9ric_Sarrus) (1798 - 1861) discovered 341 was the first (lowest) exception to this rule, and [Sarrus pseudoprimes](https://oeis.org/A001567) are Fermat pseudoprimes that pass with base 2.  \n",
    "\n",
    "[A Fermat pseudoprime](https://en.wikipedia.org/wiki/Fermat_pseudoprime) passes the Fermat test for some relatively prime base, and yet is not prime.  Mathematicians know such Fermat pseudoprimes exist for any base and have recipes for creating them.  \n",
    "\n",
    "The [Carmichael Numbers](https://oeis.org/A002997) pass the Fermat Test for all bases to which they are relatively prime."
   ]
  },
  {
   "cell_type": "code",
   "execution_count": null,
   "id": "b79ee3f4-f644-414f-a267-447495e605fc",
   "metadata": {},
   "outputs": [],
   "source": [
    "factors(341)"
   ]
  },
  {
   "cell_type": "markdown",
   "id": "23426af4-d2a5-4624-a124-7e63f583c3b2",
   "metadata": {},
   "source": [
    "One way to strengthen the Fermat Test is to apply several bases. The mere fact of checking for relative primality weeds out a lot of false positives."
   ]
  },
  {
   "cell_type": "code",
   "execution_count": null,
   "id": "de639b65-8fa7-4669-a0fe-6e5b701622f8",
   "metadata": {},
   "outputs": [],
   "source": [
    "fermat(1729)"
   ]
  },
  {
   "cell_type": "markdown",
   "id": "a0f86300-388c-43e1-a5d2-955c93780a5c",
   "metadata": {},
   "source": [
    "The algorithms below are too slow for use with big numbers, but have the advantage of being conceptually clear, and so good for nailing down concepts ahead of time."
   ]
  },
  {
   "cell_type": "code",
   "execution_count": null,
   "id": "c624b328-2965-4f05-9965-7757c8feca0f",
   "metadata": {},
   "outputs": [],
   "source": [
    "factors(1729)"
   ]
  },
  {
   "cell_type": "code",
   "execution_count": null,
   "id": "df3ee9e9-20f9-45a5-a9de-99e5663e88a2",
   "metadata": {},
   "outputs": [],
   "source": [
    "fermat(561)  # Carmichael Number, not really prime"
   ]
  },
  {
   "cell_type": "markdown",
   "id": "5a6cb18a-23b3-4460-85d7-a90ad4ea864e",
   "metadata": {},
   "source": [
    "Along with proving and testing comes assessing the algorithm's efficiency. As the inventor of the algorithm, it's up to you to get a sense of what its Big-O signature might be.  \n",
    "\n",
    "If you plan to publish your algorithm as a useful invention available to a wider public, such an analysis may be expected of you.\n",
    "\n",
    "A lot of deep computer science has gone into figuring out how to prove whether a program is correct.  In practice, one often can provide a proof, to everyone's satisfaction. However in theory, there's no guaranteed strategy for proving a program is bullet proof.  \n",
    "\n",
    "At this general a level we're talking about the fabric of logic itself, and logicians had already come to similar conclusions, about the generic incompleteness of proof-based systems, even before computer scientists raised the issue of provability."
   ]
  },
  {
   "cell_type": "code",
   "execution_count": 1,
   "id": "2791983e-0628-4de7-bd0a-48f941a6084a",
   "metadata": {},
   "outputs": [],
   "source": [
    "from math import gcd\n",
    "\n",
    "def isprime(n):  # slow, inefficient, but clear\n",
    "    return (True \n",
    "            if sum([gcd(n,i) for i in range(1, n)])==(n-1) \n",
    "            else False)"
   ]
  },
  {
   "cell_type": "code",
   "execution_count": 2,
   "id": "90cbb468-2bc2-47ac-9be4-135cbbe71dc4",
   "metadata": {},
   "outputs": [
    {
     "data": {
      "text/plain": [
       "True"
      ]
     },
     "execution_count": 2,
     "metadata": {},
     "output_type": "execute_result"
    }
   ],
   "source": [
    "isprime(13)"
   ]
  },
  {
   "cell_type": "code",
   "execution_count": null,
   "id": "04c7bc40-6cac-44b2-9a5a-0f605ae71b70",
   "metadata": {},
   "outputs": [],
   "source": [
    "def primes(n):\n",
    "    output = []\n",
    "    for i in range(2, n):\n",
    "        if isprime(i):\n",
    "            output.append(i)\n",
    "    return output"
   ]
  },
  {
   "cell_type": "markdown",
   "id": "90a992f1-a5b1-4e92-9998-12e6cfd6bbb2",
   "metadata": {},
   "source": [
    "# One of the Oldest Algorithms\n",
    "\n",
    "One of the oldest algorithms that's been passed down through the ages is known as Euclid's Algorithm.  Whether Euclid invented it is not the key question.  The method was included among Euclid's published techniques.\n",
    "\n",
    "The purpose of Euclid's Algorithm (EA) is to find the biggest number that will divide two other numbers.  We're talking about positive integers and a unit, such that if EA(a, b) is 1, then a/b is already a fraction in lowest terms.\n",
    "\n",
    "For example, EA(24, 16) is 8, because 8 is the largest integer, the greatest common divisor, of both 24 and 16.  2 is also a divisor, but isn't the greatest.  If you came across the fraction 16/24, you would know you might reduce it to 2/3, and at that point, there's no further reduction possible.  gcd(2, 3) = 1.  When the numerator and denominator are relatively prime (e.g. 14/23), have no factors in common, then we say it's in \"lowest terms\".\n",
    "\n",
    "When computing the gcd of a pair of numbers, sometimes one of the numbers is already a divisor of the other, in which case that's the answer.  The gcd of 10 and 5 is simply 5.\n",
    "\n",
    "The implementation of a \"greatest common divisor\" solution below is *not* Euclid's Method, but a relatively inefficent method that is nevertheless not hard to understand.\n",
    "\n",
    "Get all the divisors of input numbers j and k, then get the greatest divisor they both have in common."
   ]
  },
  {
   "cell_type": "code",
   "execution_count": null,
   "id": "1d4e03a5-d14e-4e58-859e-cec4d69f908a",
   "metadata": {},
   "outputs": [],
   "source": [
    "def divisors(n : int):\n",
    "    divs = list()\n",
    "    for d in range(1, n + 1):\n",
    "        if n % d == 0:\n",
    "            divs.append(d)\n",
    "    return divs        "
   ]
  },
  {
   "cell_type": "code",
   "execution_count": null,
   "id": "9bbea0b0-2227-4c25-9249-9f1d439c41cd",
   "metadata": {},
   "outputs": [],
   "source": [
    "all_factors(12)"
   ]
  },
  {
   "cell_type": "code",
   "execution_count": null,
   "id": "07a4d495-b277-4725-b134-ea46b2704644",
   "metadata": {},
   "outputs": [],
   "source": [
    "all_factors(36)"
   ]
  },
  {
   "cell_type": "code",
   "execution_count": null,
   "id": "a73a650a-2521-4a2c-954f-7f6be101c5c9",
   "metadata": {},
   "outputs": [],
   "source": [
    "def gcd(a, b):\n",
    "    return max(set(all_factors(a)).intersection(set(all_factors(b))))"
   ]
  },
  {
   "cell_type": "code",
   "execution_count": null,
   "id": "8725357f-7bc6-43d0-ba6a-e92648d2e462",
   "metadata": {},
   "outputs": [],
   "source": [
    "gcd(24, 10)"
   ]
  },
  {
   "cell_type": "code",
   "execution_count": null,
   "id": "09be6409-8c1c-4ae3-aa36-c3191d30c6dd",
   "metadata": {},
   "outputs": [],
   "source": [
    "gcd(19, 21)"
   ]
  },
  {
   "cell_type": "code",
   "execution_count": null,
   "id": "490a0f4d-764d-4f0d-ba57-8997e143c53e",
   "metadata": {},
   "outputs": [],
   "source": [
    "gcd(10045, 4095)"
   ]
  },
  {
   "cell_type": "markdown",
   "id": "7c9edbca-5f0d-4012-a2a5-06e897644627",
   "metadata": {},
   "source": [
    "This works!\n",
    "\n",
    "However, Euclid's Method (another name for Euclid's Algorithm) is much cleverer.  \n",
    "\n",
    "Consider our two inputs to be m and n.  If the smaller m divides the larger n with no remainder, we're done: m is the greatest divisor.  \n",
    "\n",
    "It could be that m is down to 1 at this point (see below), in which case the original n and m were \"strangers\" to one another, meaning their only factor in common was the number 1.  We could also say they were \"relatively prime\"."
   ]
  },
  {
   "cell_type": "code",
   "execution_count": null,
   "id": "b98ee8aa-5517-42d2-a2eb-8fe647723286",
   "metadata": {},
   "outputs": [],
   "source": [
    "from math import gcd\n",
    "\n",
    "gcd(19, 101)  # both prime"
   ]
  },
  {
   "cell_type": "code",
   "execution_count": null,
   "id": "dcfd3f43-4057-43e9-afcf-eb158d15bc7b",
   "metadata": {},
   "outputs": [],
   "source": [
    "gcd(18, 13) # relatively prime (strangers)"
   ]
  },
  {
   "cell_type": "markdown",
   "id": "79f6afdf-aa89-42ed-849d-28247d25daf1",
   "metadata": {},
   "source": [
    "Otherwise, if m is not 1, and there's some remainder r after dividing n by m, then the next step is to find the greatest divisor of m and r.  Whatever divides both will also divide n, the longer starting length.  \n",
    "\n",
    "And so on, we keep going.  The n, m pair keeps getting smaller as we keep taking the  remainder from the previous pair.  Down to m = 1 at the limit, but we don't necessarily get to that.  Whenever m divides n, we're done.\n",
    "\n",
    "Here's a first attempt at implementing the above:"
   ]
  },
  {
   "cell_type": "code",
   "execution_count": null,
   "id": "2922e07e-02db-4eac-9194-906e248c5fe3",
   "metadata": {},
   "outputs": [],
   "source": [
    "def EA(m, n):\n",
    "    if m > n:\n",
    "        m, n = n, m  # make m the smaller\n",
    "    while True:\n",
    "        q = n // m     #  get quotient\n",
    "        if q * m == n: #  if no remainder, done\n",
    "            return m\n",
    "        n, m = m, n - q*m # m, r -- the new terms"
   ]
  },
  {
   "cell_type": "code",
   "execution_count": null,
   "id": "abf540ed-8fb3-4e00-b250-10b57075f1f4",
   "metadata": {},
   "outputs": [],
   "source": [
    "EA(12, 100)"
   ]
  },
  {
   "cell_type": "code",
   "execution_count": null,
   "id": "4293e75b-53e7-4778-bebd-c9ec9c8337b0",
   "metadata": {},
   "outputs": [],
   "source": [
    "EA(10045, 4095)"
   ]
  },
  {
   "cell_type": "code",
   "execution_count": null,
   "id": "c505053e-de02-44a8-8c6f-2dabf9465586",
   "metadata": {},
   "outputs": [],
   "source": [
    "%timeit  gcd(4839274, 639232)"
   ]
  },
  {
   "cell_type": "code",
   "execution_count": null,
   "id": "4afadd53-99c4-4f7f-aba4-515f1f56e63c",
   "metadata": {},
   "outputs": [],
   "source": [
    "%timeit  EA(4839274, 639232)"
   ]
  },
  {
   "cell_type": "markdown",
   "id": "b36441bc-3990-48df-909d-ff999cfe2eec",
   "metadata": {},
   "source": [
    "EA is hugely more efficient compared to the all-divisors based algorithm, taking only micro-seconds versus milliseconds.  \n",
    "\n",
    "EA does not require finding all the divisors of any number.  EA eventually comes to an end, with an answer if 1, so there's no danger the ```while True``` loop will be infinite.\n",
    "\n",
    "Speaking of loops, here's another implementation of EA employing recursion:"
   ]
  },
  {
   "cell_type": "code",
   "execution_count": null,
   "id": "ac8cdf2c-97e7-454d-a2d4-16019da1e675",
   "metadata": {},
   "outputs": [],
   "source": [
    "def EA(m, n):\n",
    "    if m > n:\n",
    "        m, n = n, m  # make m the smaller\n",
    "    r = n % m        # remainder\n",
    "    if r == 0: #  if no remainder, done\n",
    "        return m\n",
    "    return EA(m, r)"
   ]
  },
  {
   "cell_type": "code",
   "execution_count": null,
   "id": "1c49e2b7-2baa-4246-bd4f-b829c84d5497",
   "metadata": {},
   "outputs": [],
   "source": [
    "%timeit  EA(4839274, 639232)"
   ]
  },
  {
   "cell_type": "markdown",
   "id": "0f8265cb-9d9b-4cc9-aa12-6db51f0c51e3",
   "metadata": {},
   "source": [
    "The pithiest (most Pythonic) implementation of EA is attributed to Guido van Rossum, Python's inventor.  \n",
    "\n",
    "Here it is:"
   ]
  },
  {
   "cell_type": "code",
   "execution_count": null,
   "id": "0b493429-80cc-47f4-9ba3-96ed9e798865",
   "metadata": {},
   "outputs": [],
   "source": [
    "def EA(m, n):\n",
    "    while m:\n",
    "        n, m = m, n % m\n",
    "    return n"
   ]
  },
  {
   "cell_type": "code",
   "execution_count": null,
   "id": "2e52dcdc-cd9d-4ebe-a2d7-6f85cef71b3e",
   "metadata": {},
   "outputs": [],
   "source": [
    "EA(12, 100)"
   ]
  },
  {
   "cell_type": "code",
   "execution_count": null,
   "id": "dc97e5f9-1518-40b2-8273-b8114b2f269d",
   "metadata": {},
   "outputs": [],
   "source": [
    "%timeit  EA(4839274, 639232)"
   ]
  },
  {
   "cell_type": "markdown",
   "id": "133053f3-d819-47cc-b9bf-84e9559c84ff",
   "metadata": {
    "jp-MarkdownHeadingCollapsed": true,
    "tags": []
   },
   "source": [
    "#### Notes:\n",
    "\n",
    "\n",
    "[Link to source code](./primes.primesplay.py) for the Seive of Eratosthenes, factors, isprime and so on.\n"
   ]
  },
  {
   "cell_type": "markdown",
   "id": "4f47cbcf-9896-4cd7-bcba-669ac40cf0c7",
   "metadata": {},
   "source": [
    "# Cumulative Sequences\n",
    "\n",
    "Suppose you have a sequence such as the Fibonacci numbers, and for some reason want a cumulative total of all the numbers in a sequence up to a specific term.  In fact, you would like a cumulative total to go with every term in the original sequence.\n",
    "\n",
    "Like this:"
   ]
  },
  {
   "cell_type": "code",
   "execution_count": null,
   "id": "90c3c230-cc6f-4f49-9bc1-ca74639a055d",
   "metadata": {},
   "outputs": [],
   "source": [
    "# Fibonacci Numbers\n",
    "# https://oeis.org/A000045\n",
    "\n",
    "def fibo(a=0, b=1):\n",
    "    while True:\n",
    "        yield a\n",
    "        b, a = a + b, b\n",
    "        \n",
    "gen = fibo()\n",
    "fibs = [next(gen) for _ in range(10)]\n",
    "print(fibs)"
   ]
  },
  {
   "cell_type": "code",
   "execution_count": null,
   "id": "625261ab-0ba1-4a6b-89aa-85c2b5b90f0a",
   "metadata": {},
   "outputs": [],
   "source": [
    "def accumulate(seq):\n",
    "    totals = []\n",
    "    term = 0\n",
    "    for i in seq:\n",
    "        term += i\n",
    "        totals.append(term)\n",
    "    return totals"
   ]
  },
  {
   "cell_type": "code",
   "execution_count": null,
   "id": "34eef489-126c-48d8-acb2-2e743e761f57",
   "metadata": {},
   "outputs": [],
   "source": [
    "accumulate(fibs)"
   ]
  },
  {
   "cell_type": "markdown",
   "id": "1e2d27ff-8ff6-40c7-b821-b8c55e8d28eb",
   "metadata": {},
   "source": [
    "Interestingly, the [running total of Fibonacci numbers](https://oeis.org/A000071) matches itself, minus one from each term, starting a couple terms further forward.  \n",
    "\n",
    "Imagine subtracting 1 from each of these terms:"
   ]
  },
  {
   "cell_type": "code",
   "execution_count": null,
   "id": "3f43ec8f-a3f1-4b41-9d27-8c47623a4f5c",
   "metadata": {},
   "outputs": [],
   "source": [
    "fibs[2:]"
   ]
  },
  {
   "cell_type": "markdown",
   "id": "3749e1e0-555e-4855-8754-46d09feb13fe",
   "metadata": {},
   "source": [
    "Now let's do it:"
   ]
  },
  {
   "cell_type": "code",
   "execution_count": null,
   "id": "50af803e-8b50-47c9-aa20-eb4ad49eedf2",
   "metadata": {},
   "outputs": [],
   "source": [
    "[fib-1 for fib in fibs[2:]]"
   ]
  },
  {
   "cell_type": "markdown",
   "id": "3b1e2a2e-fa55-4ac9-9c55-0a120ccadcfc",
   "metadata": {},
   "source": [
    "Here's another sequence and its correlated cumulative sequence:  the cuboctahedral numbers.\n",
    "\n",
    "![Image of Cubocta](http://www.4dsolutions.net/ocn/graphics/cubanim.gif)\n",
    "\n",
    "A way to pack (equi-sized) balls together very efficiently is in what's called the CCP arrangement, or Cubic Close Packing.  The growing shape depicted above is a 14-faced (8 triangle, 6 square) \"cuboctahedron\" and it is growing outward in layers.  The first layer around the nuclear ball has 12 balls.  The next layer has 42. The sequence is known in the OEIS as [A005901](https://oeis.org/A005901).\n",
    "\n",
    "Lets generate it, and accumulate."
   ]
  },
  {
   "cell_type": "code",
   "execution_count": null,
   "id": "ae3027a0-3f58-4d0f-bf48-a4139e5e572c",
   "metadata": {},
   "outputs": [],
   "source": [
    "def cubocta(n : int):\n",
    "    \"\"\"\n",
    "    n is number of layers (0 for nuclear ball)\n",
    "    \"\"\"\n",
    "    if n==0: return 1\n",
    "    return 10 * n * n + 2"
   ]
  },
  {
   "cell_type": "code",
   "execution_count": null,
   "id": "30ca19f7-c179-44be-a1e9-701251f7f254",
   "metadata": {},
   "outputs": [],
   "source": [
    "a005901 = [cubocta(i) for i in range(15)]  # first 20 cuboctahedral numbers"
   ]
  },
  {
   "cell_type": "code",
   "execution_count": null,
   "id": "2a3cfcb7-eded-4a58-9c77-93cac5e0837d",
   "metadata": {},
   "outputs": [],
   "source": [
    "print(a005901)"
   ]
  },
  {
   "cell_type": "code",
   "execution_count": null,
   "id": "cca45d9e-82b7-40f4-8e7a-4cdc0b1f5c76",
   "metadata": {},
   "outputs": [],
   "source": [
    "a005902 = accumulate(a005901)\n",
    "print(a005902)"
   ]
  },
  {
   "cell_type": "markdown",
   "id": "ab33b292-5cb2-4e4f-93d0-4f5966c9fe47",
   "metadata": {},
   "source": [
    "## Exercise:  Sequence Differences\n",
    "\n",
    "Write a function that takes a sequence and returns a sequence, of differences between successive terms.\n",
    "\n",
    "For example, ```[0, 1, 2, 4, 7, 12, 20, 33]``` would output ```[1, 1, 2, 3, 5, 8, 13]```.  The resulting sequence will have one less term than the input sequence."
   ]
  },
  {
   "cell_type": "code",
   "execution_count": null,
   "id": "2e063345-c02d-4b53-bfd1-48e515e374cf",
   "metadata": {},
   "outputs": [],
   "source": [
    "from ads_solutions import diffs  # secret stash of solutions?  what's your solution?"
   ]
  },
  {
   "cell_type": "code",
   "execution_count": null,
   "id": "f5b6a662-fffa-4a18-8f2f-453494b70c0e",
   "metadata": {},
   "outputs": [],
   "source": [
    "diffs([0, 1, 2, 4, 7, 12, 20, 33])"
   ]
  },
  {
   "cell_type": "code",
   "execution_count": null,
   "id": "3300492b-e57c-406e-bca5-c51366c4b83b",
   "metadata": {},
   "outputs": [],
   "source": [
    "fibs"
   ]
  },
  {
   "cell_type": "code",
   "execution_count": null,
   "id": "de8d9610-b588-4a6c-bdcb-8ecfbfaad8c3",
   "metadata": {},
   "outputs": [],
   "source": [
    "print(diffs(fibs))"
   ]
  },
  {
   "cell_type": "code",
   "execution_count": null,
   "id": "8e3c75bf-1cee-4a7d-8a0f-5fb469c42078",
   "metadata": {},
   "outputs": [],
   "source": [
    "print(diffs(a005902))"
   ]
  },
  {
   "cell_type": "code",
   "execution_count": null,
   "id": "b251b15f-8b6f-4b04-81de-4837aef14e92",
   "metadata": {},
   "outputs": [],
   "source": [
    "list(zip([1, 2, 3, 4, 5], [2, 3, 4, 5, 6]))"
   ]
  },
  {
   "cell_type": "code",
   "execution_count": null,
   "id": "cf93e409-4bf2-42b4-9def-39fa0848c348",
   "metadata": {},
   "outputs": [],
   "source": [
    "diffs([0, -10, 5, -1, -2, 100])"
   ]
  },
  {
   "cell_type": "markdown",
   "id": "f5e55278-43d5-49df-91af-1352a81ed312",
   "metadata": {},
   "source": [
    "# Resources\n",
    "\n",
    "* [List Comprehension Syntax](List_Comprehensions.ipynb) and related concepts\n",
    "\n",
    "* [Learning Math with Python*](https://doingmathwithpython.github.io/pycon-us-2016/#/3) (slide show on Github) by the author of a book by that title, Amit Saha.\n",
    "\n",
    "* [Math Adventures with Python*](https://www.amazon.com/Math-Adventures-Python-Illustrated-Exploring-ebook/dp/B074653Z4D/ref=sr_1_3?crid=1IT4OKGBJVTOZ&keywords=math+adventures+with+python&qid=1643748496&s=books&sprefix=math+adventures+with+python%2Cstripbooks%2C307&sr=1-3) by Peter Farrell, depicted below (on the left):\n",
    "\n",
    "<a data-flickr-embed=\"true\" href=\"https://www.flickr.com/photos/kirbyurner/32643128658/in/photostream/\" title=\"Peter and Steve\"><img src=\"https://live.staticflickr.com/7895/32643128658_0d55c9abf9.jpg\" width=\"500\" height=\"500\" alt=\"Peter and Steve\"></a><script async src=\"//embedr.flickr.com/assets/client-code.js\" charset=\"utf-8\"></script>\n",
    "\n",
    "Lots of Python in this MIT course:"
   ]
  },
  {
   "cell_type": "code",
   "execution_count": null,
   "id": "159f5a92-df3c-41aa-a7cb-8eb69c0c31b2",
   "metadata": {},
   "outputs": [],
   "source": [
    "from IPython.display import YouTubeVideo\n",
    "YouTubeVideo(\"k6U-i4gXkLM\")"
   ]
  }
 ],
 "metadata": {
  "kernelspec": {
   "display_name": "Python 3 (ipykernel)",
   "language": "python",
   "name": "python3"
  },
  "language_info": {
   "codemirror_mode": {
    "name": "ipython",
    "version": 3
   },
   "file_extension": ".py",
   "mimetype": "text/x-python",
   "name": "python",
   "nbconvert_exporter": "python",
   "pygments_lexer": "ipython3",
   "version": "3.7.9"
  }
 },
 "nbformat": 4,
 "nbformat_minor": 5
}
