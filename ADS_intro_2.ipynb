{
 "cells": [
  {
   "cell_type": "markdown",
   "id": "f55ff15d-d9e5-4e23-b7c1-7a60052bb606",
   "metadata": {},
   "source": [
    "##### Algorithms and Data Structures (Winter - Spring 2022)\n",
    "\n",
    "# Choosing an Algorithm\n",
    "\n",
    "You know from your own experience that some ways of accomplishing a task may take a lot longer than others.  Going more slowly may have it's advantages, as in real life we're accomplishing multiple tasks and have to weigh trade-offs.\n",
    "\n",
    "For example, you could wolf your dinner in a hurry, and if the only objective were to eat and run, this could be appropriate.  However dinner may be an important social occasion and eating quickly and leaving the table only deprives one of catching up on important developments.\n",
    "\n",
    "A first question, which faced with a computing challenge, is whether there's a solution at all.  The second question is whether this solution is at all practical in terms of time and resources.\n",
    "\n",
    "The first question involves research and not reinventing the wheel.  If people stopped to reinvent every algorithm from scratch, we would move forward too slowly.  \n",
    "\n",
    "On the other hand, simply grabbing a published algorithm from a book without having much insight into how the algorithm actually works, or why, may lead to troubles down the road.\n",
    "\n",
    "The second question involves understanding what's called \"O-notation\" or \"Big O notation\" which looks something like $O(n^{2})$ or $O(n\\ log(n))$.  O-notation is about roughly how long an algorithm might take to find a solution and is pegged to some input \"n\" of growing dimension.  \n",
    "\n",
    "For example, n might be the number of digits in a number, or the number of points floating in space.  Or it could be the length of a sequence or size of a dictionary.  \n",
    "\n",
    "If a measure of the algorithm's efficiency is something like $O(n!)$, that means the time needed grows very quickly as n gets bigger.  Usually that means the algorithm is impractical for large values of n.  \n",
    "\n",
    "If the efficency is more like $O(n)$, we say the time increases \"linearly with n\" which is about as good as it gets. For example the amount of time it takes to scan a list for a specific value tends to increase linearly with the length of the list.  A list 10 times longer, takes an average of 10 times longer to search.\n",
    "\n",
    "# Inventing an Algorithm\n",
    "\n",
    "Sometimes you might find exactly the algorithm you need, including in the computer language of your choice.  You may need to customize it a little, to fit into your larger project, but that's a minor detail.\n",
    "\n",
    "Other times, you may need to invent your own algorithms.  You might want to do this anyway, because you see a clear way to accomplish a task and feel relying on others might take more time.  You might elect to devise your own solution for many reasons, including because you're in school learning how to write algorithms.\n",
    "\n",
    "One technique involved in writing your own solution is writing tests for that solution.  \n",
    "\n",
    "How will you know you solution is correct?  This requires having an independent and trusted source of \"right answers\" such as the digits of pi (if you're trying to generate them) or a list of consecutive prime numbers (if you're trying to generate primes).\n",
    "\n",
    "Speaking of generating prime numbers, the Sieve of Eratosthenes is a great example of an ancient algorithm, passed down through the ages.  See Notes."
   ]
  },
  {
   "cell_type": "code",
   "execution_count": 1,
   "id": "86aeb2b0-5705-41a1-a4f5-92057b16b7f7",
   "metadata": {},
   "outputs": [
    {
     "name": "stdout",
     "output_type": "stream",
     "text": [
      "Eliminating multiples of: 2\n",
      "Eliminating multiples of: 3\n",
      "Eliminating multiples of: 5\n",
      "Eliminating multiples of: 7\n",
      "[2, 3, 5, 7, 11, 13, 17, 19, 23, 29, 31, 37, 41, 43, 47, 53, 59, 61, 67, 71, 73, 79, 83, 89, 97]\n"
     ]
    }
   ],
   "source": [
    "from primes import eratosthenes\n",
    "print(eratosthenes(100))  # all primes <= 100"
   ]
  },
  {
   "cell_type": "markdown",
   "id": "f8ec6faf-df43-4ea6-82c4-e38b140b4a41",
   "metadata": {},
   "source": [
    "For example, in the case of our Wordle-like project, evaluating a guess versus a right answer is something one can do manually, without a computer, once the rules of the game are understood.  If your algorithm matches all the results you know are correct, then that's evidence you're making progress.\n",
    "\n",
    "More valuable than tests, or at least complementary to tests, would be some kind of mathematical proof that the algorithm is correct.  Some algorithms may produce \"false positives\" or \"false negatives\".  For example, the Fermat Primality test may falsely flag a composite as prime.\n",
    "\n",
    "Along with proving and testing comes assessing the algorithm's efficiency. As the inventor of the algorithm, it's up to you to get a sense of what its Big-O signature might be.  \n",
    "\n",
    "If you plan to publish your algorithm as a useful invention available to a wider public, such an analysis may be expected of you.\n",
    "\n",
    "\n",
    "# One of the Oldest Algorithms\n",
    "\n",
    "One of the oldest algorithms that's been passed down through the ages is known as Euclid's Algorithm.  Whether Euclid invented it is not the key question.  The method was included among Euclid's published techniques.\n",
    "\n",
    "The purpose of Euclid's Algorithm (EA) is to find the biggest number that will divide two other numbers.  We're talking about positive integers and a unit, such that if EA(a, b) is 1, then a/b is already a fraction in lowest terms.\n",
    "\n",
    "For example, EA(24, 16) is 8, because 8 is the largest integer, the greatest common divisor, of both 24 and 16.  2 is also a divisor, but isn't the greatest.  \n",
    "\n",
    "Sometimes one of the numbers is already divisor of the other, in which case that's the answer.\n",
    "\n",
    "The implementation of a \"greatest common divisor\" solution below is *not* Euclid's Method, but a relatively inefficent method that is nevertheless not hard to understand.\n",
    "\n",
    "Get all the divisors of input numbers j and k, then get the greatest divisor they both have in common."
   ]
  },
  {
   "cell_type": "code",
   "execution_count": 2,
   "id": "1d4e03a5-d14e-4e58-859e-cec4d69f908a",
   "metadata": {},
   "outputs": [],
   "source": [
    "def divisors(n : int):\n",
    "    divs = list()\n",
    "    for d in range(1, n + 1):\n",
    "        if n % d == 0:\n",
    "            divs.append(d)\n",
    "    return divs        "
   ]
  },
  {
   "cell_type": "code",
   "execution_count": 3,
   "id": "9bbea0b0-2227-4c25-9249-9f1d439c41cd",
   "metadata": {},
   "outputs": [
    {
     "data": {
      "text/plain": [
       "[1, 2, 3, 4, 6, 12]"
      ]
     },
     "execution_count": 3,
     "metadata": {},
     "output_type": "execute_result"
    }
   ],
   "source": [
    "divisors(12)"
   ]
  },
  {
   "cell_type": "code",
   "execution_count": 4,
   "id": "07a4d495-b277-4725-b134-ea46b2704644",
   "metadata": {},
   "outputs": [
    {
     "data": {
      "text/plain": [
       "[1, 2, 3, 4, 6, 9, 12, 18, 36]"
      ]
     },
     "execution_count": 4,
     "metadata": {},
     "output_type": "execute_result"
    }
   ],
   "source": [
    "divisors(36)"
   ]
  },
  {
   "cell_type": "code",
   "execution_count": 5,
   "id": "a73a650a-2521-4a2c-954f-7f6be101c5c9",
   "metadata": {},
   "outputs": [],
   "source": [
    "def gcd(a, b):\n",
    "    return max(set(divisors(a)).intersection(set(divisors(b))))"
   ]
  },
  {
   "cell_type": "code",
   "execution_count": 6,
   "id": "8725357f-7bc6-43d0-ba6a-e92648d2e462",
   "metadata": {},
   "outputs": [
    {
     "data": {
      "text/plain": [
       "2"
      ]
     },
     "execution_count": 6,
     "metadata": {},
     "output_type": "execute_result"
    }
   ],
   "source": [
    "gcd(24, 10)"
   ]
  },
  {
   "cell_type": "code",
   "execution_count": 7,
   "id": "09be6409-8c1c-4ae3-aa36-c3191d30c6dd",
   "metadata": {},
   "outputs": [
    {
     "data": {
      "text/plain": [
       "1"
      ]
     },
     "execution_count": 7,
     "metadata": {},
     "output_type": "execute_result"
    }
   ],
   "source": [
    "gcd(19, 21)"
   ]
  },
  {
   "cell_type": "code",
   "execution_count": 8,
   "id": "490a0f4d-764d-4f0d-ba57-8997e143c53e",
   "metadata": {},
   "outputs": [
    {
     "data": {
      "text/plain": [
       "35"
      ]
     },
     "execution_count": 8,
     "metadata": {},
     "output_type": "execute_result"
    }
   ],
   "source": [
    "gcd(10045, 4095)"
   ]
  },
  {
   "cell_type": "markdown",
   "id": "2fec6686-0a4a-485b-a5cb-9da8ebf426b6",
   "metadata": {},
   "source": [
    "Euclid's Method is much cleverer.  Consider our two inputs to be m and n.  If the smaller divides the larger with no remainder, we're done.  Otherwise, there's some remainder r.  Now the task is to find the GCD where the new inputs are the shorter length, and this r.  Whatever divides both will also divide the longer length.  So keep going.\n",
    "\n",
    "Here's a first attempt at implementing the above:"
   ]
  },
  {
   "cell_type": "code",
   "execution_count": 9,
   "id": "2922e07e-02db-4eac-9194-906e248c5fe3",
   "metadata": {},
   "outputs": [],
   "source": [
    "def EA(m, n):\n",
    "    if m > n:\n",
    "        m, n = n, m  # make m the smaller\n",
    "    while True:\n",
    "        q = n // m     #  get quotient\n",
    "        if q * m == n: #  if no remainder, done\n",
    "            return m\n",
    "        n, m = m, n - q*m # m, r -- the new terms"
   ]
  },
  {
   "cell_type": "code",
   "execution_count": 10,
   "id": "abf540ed-8fb3-4e00-b250-10b57075f1f4",
   "metadata": {},
   "outputs": [
    {
     "data": {
      "text/plain": [
       "4"
      ]
     },
     "execution_count": 10,
     "metadata": {},
     "output_type": "execute_result"
    }
   ],
   "source": [
    "EA(12, 100)"
   ]
  },
  {
   "cell_type": "code",
   "execution_count": 11,
   "id": "4293e75b-53e7-4778-bebd-c9ec9c8337b0",
   "metadata": {},
   "outputs": [
    {
     "data": {
      "text/plain": [
       "35"
      ]
     },
     "execution_count": 11,
     "metadata": {},
     "output_type": "execute_result"
    }
   ],
   "source": [
    "EA(10045, 4095)"
   ]
  },
  {
   "cell_type": "code",
   "execution_count": 12,
   "id": "c505053e-de02-44a8-8c6f-2dabf9465586",
   "metadata": {},
   "outputs": [
    {
     "name": "stdout",
     "output_type": "stream",
     "text": [
      "1.06 s ± 495 ms per loop (mean ± std. dev. of 7 runs, 1 loop each)\n"
     ]
    }
   ],
   "source": [
    "%timeit  gcd(4839274, 639232)"
   ]
  },
  {
   "cell_type": "code",
   "execution_count": 13,
   "id": "4afadd53-99c4-4f7f-aba4-515f1f56e63c",
   "metadata": {},
   "outputs": [
    {
     "name": "stdout",
     "output_type": "stream",
     "text": [
      "8.49 µs ± 4.5 µs per loop (mean ± std. dev. of 7 runs, 100000 loops each)\n"
     ]
    }
   ],
   "source": [
    "%timeit  EA(4839274, 639232)"
   ]
  },
  {
   "cell_type": "markdown",
   "id": "b36441bc-3990-48df-909d-ff999cfe2eec",
   "metadata": {},
   "source": [
    "The second implementation, EA is hugely more efficient, taking only micro-seconds versus milliseconds.  \n",
    "\n",
    "EA does not require finding all the divisors of any number.  EA eventually comes to an end, with an answer if 1, so there's no danger the ```while True``` loop will be infinite.\n",
    "\n",
    "Speaking of loops, here's another implementation of EA employing recursion:"
   ]
  },
  {
   "cell_type": "code",
   "execution_count": 14,
   "id": "ac8cdf2c-97e7-454d-a2d4-16019da1e675",
   "metadata": {},
   "outputs": [],
   "source": [
    "def EA(m, n):\n",
    "    if m > n:\n",
    "        m, n = n, m  # make m the smaller\n",
    "    r = n % m        # remainder\n",
    "    if r == 0: #  if no remainder, done\n",
    "        return m\n",
    "    return EA(m, r)"
   ]
  },
  {
   "cell_type": "code",
   "execution_count": 15,
   "id": "1c49e2b7-2baa-4246-bd4f-b829c84d5497",
   "metadata": {},
   "outputs": [
    {
     "name": "stdout",
     "output_type": "stream",
     "text": [
      "7.43 µs ± 1.25 µs per loop (mean ± std. dev. of 7 runs, 100000 loops each)\n"
     ]
    }
   ],
   "source": [
    "%timeit  EA(4839274, 639232)"
   ]
  },
  {
   "cell_type": "code",
   "execution_count": 16,
   "id": "b3c32faa-7713-4adf-8381-39e37f4bab58",
   "metadata": {},
   "outputs": [
    {
     "data": {
      "text/plain": [
       "1"
      ]
     },
     "execution_count": 16,
     "metadata": {},
     "output_type": "execute_result"
    }
   ],
   "source": [
    "10 % 3"
   ]
  },
  {
   "cell_type": "markdown",
   "id": "0f8265cb-9d9b-4cc9-aa12-6db51f0c51e3",
   "metadata": {},
   "source": [
    "The pithiest (most Pythonic) implementation of EA is attributed to Guido van Rossum, Python's inventor.  \n",
    "\n",
    "Here it is:"
   ]
  },
  {
   "cell_type": "code",
   "execution_count": 17,
   "id": "0b493429-80cc-47f4-9ba3-96ed9e798865",
   "metadata": {},
   "outputs": [],
   "source": [
    "def EA(m, n):\n",
    "    while m:\n",
    "        n, m = m, n % m\n",
    "    return n"
   ]
  },
  {
   "cell_type": "code",
   "execution_count": 18,
   "id": "2e52dcdc-cd9d-4ebe-a2d7-6f85cef71b3e",
   "metadata": {},
   "outputs": [
    {
     "data": {
      "text/plain": [
       "4"
      ]
     },
     "execution_count": 18,
     "metadata": {},
     "output_type": "execute_result"
    }
   ],
   "source": [
    "EA(12, 100)"
   ]
  },
  {
   "cell_type": "code",
   "execution_count": 19,
   "id": "dc97e5f9-1518-40b2-8273-b8114b2f269d",
   "metadata": {},
   "outputs": [
    {
     "name": "stdout",
     "output_type": "stream",
     "text": [
      "3.15 µs ± 1.23 µs per loop (mean ± std. dev. of 7 runs, 100000 loops each)\n"
     ]
    }
   ],
   "source": [
    "%timeit  EA(4839274, 639232)"
   ]
  },
  {
   "cell_type": "markdown",
   "id": "133053f3-d819-47cc-b9bf-84e9559c84ff",
   "metadata": {},
   "source": [
    "#### Notes:\n",
    "\n",
    "\n",
    "Here's the source code for the Seive of Eratosthenes (with more comments), from primes.primesplay.py -- a module within the primes subfolder.\n",
    "\n",
    "```python\n",
    "\n",
    "def eratosthenes(n):\n",
    "    # root2 is renamed math.sqrt\n",
    "    the_max = floor(root2(n))    \n",
    "    # start with all consecutive ints up to n\n",
    "    sieve = list(range(0, n+1))  \n",
    "    eliminator = 2\n",
    "    while True:\n",
    "        if eliminator > the_max: # no more to eliminate\n",
    "            break\n",
    "        print(\"Eliminating multiples of:\", eliminator)\n",
    "        # turn any multiples of eliminator to 0\n",
    "        for k in range(2 * eliminator, n + 1, eliminator): \n",
    "            sieve[k] = 0  \n",
    "        # scan for next uneliminated int\n",
    "        while sieve[eliminator + 1] == 0:  \n",
    "            eliminator += 1\n",
    "        else:\n",
    "            eliminator = sieve[eliminator + 1]\n",
    "        \n",
    "    # shrink me down (compact the sieve) with\n",
    "    # a list comprehension\n",
    "    sieve = [n for n in sieve if n != 0][1:]\n",
    "    return sieve\n",
    "```"
   ]
  }
 ],
 "metadata": {
  "kernelspec": {
   "display_name": "Python 3 (ipykernel)",
   "language": "python",
   "name": "python3"
  },
  "language_info": {
   "codemirror_mode": {
    "name": "ipython",
    "version": 3
   },
   "file_extension": ".py",
   "mimetype": "text/x-python",
   "name": "python",
   "nbconvert_exporter": "python",
   "pygments_lexer": "ipython3",
   "version": "3.7.9"
  }
 },
 "nbformat": 4,
 "nbformat_minor": 5
}
