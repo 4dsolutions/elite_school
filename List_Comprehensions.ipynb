{
 "cells": [
  {
   "cell_type": "markdown",
   "id": "62ade85d-3398-49b4-8f9b-fdc5576c8d93",
   "metadata": {},
   "source": [
    "# List Comprehension Syntax\n",
    "\n",
    "Pythonistas love this syntax, because it is compact and expressive i.e. \"pythonic\".\n",
    "\n",
    "The idea is a for loop between square brackets generates the terms of the list.\n",
    "\n",
    "```\n",
    "    [<expression using var> for var in iterable]\n",
    "```\n",
    "\n",
    "is the core syntax."
   ]
  },
  {
   "cell_type": "markdown",
   "id": "48d8d26e-3106-4485-a57e-5ae9e848baa6",
   "metadata": {},
   "source": [
    "Below we have chosen ```x``` to iterate over ```range(10)``` thereby binding the  name ```x``` to 0, 1, 2... 9.  Each time ```x``` binds to an object (in this case a number), the expression using ```x```, which is ```x * x```, computes the next term in the list."
   ]
  },
  {
   "cell_type": "code",
   "execution_count": null,
   "id": "19026a8e-6af7-418c-8c3d-aa14be1e61d5",
   "metadata": {},
   "outputs": [],
   "source": [
    "L = [x * x for x in range(10)]"
   ]
  },
  {
   "cell_type": "code",
   "execution_count": null,
   "id": "575241c5-39b0-43a7-b81a-adb6da96636d",
   "metadata": {},
   "outputs": [],
   "source": [
    "L"
   ]
  },
  {
   "cell_type": "markdown",
   "id": "1428432b-d59d-4b1b-bf08-c896c38c42c6",
   "metadata": {},
   "source": [
    "In the code cell below, practice variations on ```[1]``` by:\n",
    "\n",
    "* changing the variable name\n",
    "* altering the expression\n",
    "* changing the iterable (e.g. try a new range or maybe another list)"
   ]
  },
  {
   "cell_type": "code",
   "execution_count": null,
   "id": "e7afc72a-6d88-4307-b1a7-3992fcc79040",
   "metadata": {},
   "outputs": [],
   "source": []
  },
  {
   "cell_type": "markdown",
   "id": "09cc0e8e-5daf-44f7-adc4-f892e8508db0",
   "metadata": {},
   "source": [
    "An optional if clause allows for filtering:\n",
    "\n",
    "```\n",
    "       [  <expression using var> \n",
    "       for var in iterable\n",
    "       if <expression using var>  ]\n",
    "```\n",
    "\n",
    "Splitting a list comprehension across multiple lines may add readability but is never required."
   ]
  },
  {
   "cell_type": "code",
   "execution_count": null,
   "id": "26d60d4c-59c0-4a1a-a011-28badb95902d",
   "metadata": {},
   "outputs": [],
   "source": [
    "words = ['tower', 'harry', 'potter', 'python']\n",
    "M = [word.capitalize() \n",
    "     for word in words \n",
    "     if \"p\" in word]"
   ]
  },
  {
   "cell_type": "code",
   "execution_count": null,
   "id": "e27f1980-bcd5-468c-b219-aa7e1a333dc4",
   "metadata": {},
   "outputs": [],
   "source": [
    "M"
   ]
  },
  {
   "cell_type": "markdown",
   "id": "78a41433-20b0-47a0-8cdf-be408c0a41ba",
   "metadata": {},
   "source": [
    "Practice makes perfect.  Consider adding some slice notation on the end, if you wish to practice a syntax we encountered earlier."
   ]
  },
  {
   "cell_type": "code",
   "execution_count": null,
   "id": "3c1f6760-6eb7-45e4-96d2-42f68f658cf2",
   "metadata": {},
   "outputs": [],
   "source": [
    "[w.capitalize() for w in ['hello', 'kitty']][::-1]  # adding slice notation"
   ]
  },
  {
   "cell_type": "code",
   "execution_count": null,
   "id": "2a601e41-88f8-4c68-af6c-402110d5ccd3",
   "metadata": {},
   "outputs": [],
   "source": []
  },
  {
   "cell_type": "markdown",
   "id": "0b0cc9cc-581d-4b63-947d-e283411c4dee",
   "metadata": {},
   "source": [
    "Sometimes the expression does not need to involve any input from the for loop. Perhaps the new values are coming from someplace else, or maybe the expression is something static (unchanging).\n",
    "\n",
    "Use of the name ```_``` typically signifies the values it takes on (binds to) have no relevance to the work at hand.  The point was simply to trigger repetition.  The for loop still runs multiple times, and sometimes that's all we need."
   ]
  },
  {
   "cell_type": "code",
   "execution_count": null,
   "id": "92012b6f-91f0-43a0-8243-0f58ed2c5dc1",
   "metadata": {},
   "outputs": [],
   "source": [
    "stars = [ \"*\" for _ in range(10)]"
   ]
  },
  {
   "cell_type": "code",
   "execution_count": null,
   "id": "f8662db6-9302-4b1c-a60e-97aaf0cbb562",
   "metadata": {},
   "outputs": [],
   "source": [
    "stars"
   ]
  },
  {
   "cell_type": "markdown",
   "id": "c98b6484-cd1b-4307-9110-c2a5ce2a46bb",
   "metadata": {},
   "source": [
    "As our segue to a next topic, the generator function, check out the cells below.  Your instructor will explain, as we turn to this related aspect of Python."
   ]
  },
  {
   "cell_type": "code",
   "execution_count": null,
   "id": "1f6b6990-829c-4f49-b494-c8212adfe4bc",
   "metadata": {},
   "outputs": [],
   "source": [
    "# Fibonacci Numbers\n",
    "# https://oeis.org/A000045\n",
    "\n",
    "def fibo(a=0, b=1):\n",
    "    while True:\n",
    "        yield a\n",
    "        b, a = a + b, b\n",
    "        \n",
    "gen = fibo()\n",
    "fibs = [next(gen) for _ in range(10)]\n",
    "print(fibs)"
   ]
  },
  {
   "cell_type": "code",
   "execution_count": null,
   "id": "acb7b5de-b601-4b1b-a62a-2f27bbf31d52",
   "metadata": {},
   "outputs": [],
   "source": [
    "fibs_gen = (next(gen) for _ in range(10))  # generator expression\n",
    "type(fibs_gen)"
   ]
  },
  {
   "cell_type": "code",
   "execution_count": null,
   "id": "6e436fc2-93e4-4aad-85f2-0dc1fdac9862",
   "metadata": {},
   "outputs": [],
   "source": [
    "next(fibs_gen)"
   ]
  },
  {
   "cell_type": "code",
   "execution_count": null,
   "id": "2e8480b3-4734-48ea-91f3-3570053b2003",
   "metadata": {},
   "outputs": [],
   "source": [
    "next(fibs_gen)"
   ]
  }
 ],
 "metadata": {
  "kernelspec": {
   "display_name": "Python 3 (ipykernel)",
   "language": "python",
   "name": "python3"
  },
  "language_info": {
   "codemirror_mode": {
    "name": "ipython",
    "version": 3
   },
   "file_extension": ".py",
   "mimetype": "text/x-python",
   "name": "python",
   "nbconvert_exporter": "python",
   "pygments_lexer": "ipython3",
   "version": "3.7.9"
  }
 },
 "nbformat": 4,
 "nbformat_minor": 5
}
