{
 "cells": [
  {
   "cell_type": "markdown",
   "id": "62ade85d-3398-49b4-8f9b-fdc5576c8d93",
   "metadata": {},
   "source": [
    "# List Comprehension Syntax\n",
    "\n",
    "* [Colab view](https://colab.research.google.com/github/4dsolutions/elite_school/blob/master/List_Comprehensions.ipynb)\n",
    "* [nbviewer view](https://nbviewer.org/github/4dsolutions/elite_school/blob/master/List_Comprehensions.ipynb)\n",
    "* [Repo](https://github.com/4dsolutions/elite_school/)\n",
    "\n",
    "Pythonistas love this syntax, because it is compact and expressive i.e. \"pythonic\".\n",
    "\n",
    "The idea is a for loop between square brackets generates the terms of the list.\n",
    "\n",
    "```\n",
    "    [<expression using var> for var in iterable]\n",
    "```\n",
    "\n",
    "is the core syntax."
   ]
  },
  {
   "cell_type": "markdown",
   "id": "48d8d26e-3106-4485-a57e-5ae9e848baa6",
   "metadata": {},
   "source": [
    "Below we have chosen ```x``` to iterate over ```range(10)``` thereby binding the  name ```x``` to 0, 1, 2... 9.  Each time ```x``` binds to an object (in this case a number), the expression using ```x```, which is ```x * x```, computes the next term in the list."
   ]
  },
  {
   "cell_type": "code",
   "execution_count": 1,
   "id": "19026a8e-6af7-418c-8c3d-aa14be1e61d5",
   "metadata": {},
   "outputs": [],
   "source": [
    "L = [x * x for x in range(10)]"
   ]
  },
  {
   "cell_type": "code",
   "execution_count": 2,
   "id": "575241c5-39b0-43a7-b81a-adb6da96636d",
   "metadata": {},
   "outputs": [
    {
     "data": {
      "text/plain": [
       "[0, 1, 4, 9, 16, 25, 36, 49, 64, 81]"
      ]
     },
     "execution_count": 2,
     "metadata": {},
     "output_type": "execute_result"
    }
   ],
   "source": [
    "L"
   ]
  },
  {
   "cell_type": "markdown",
   "id": "1428432b-d59d-4b1b-bf08-c896c38c42c6",
   "metadata": {},
   "source": [
    "In the code cell below, practice variations on ```[1]``` by:\n",
    "\n",
    "* changing the variable name\n",
    "* altering the expression\n",
    "* changing the iterable (e.g. try a new range or maybe another list)"
   ]
  },
  {
   "cell_type": "code",
   "execution_count": null,
   "id": "e7afc72a-6d88-4307-b1a7-3992fcc79040",
   "metadata": {},
   "outputs": [],
   "source": []
  },
  {
   "cell_type": "markdown",
   "id": "09cc0e8e-5daf-44f7-adc4-f892e8508db0",
   "metadata": {},
   "source": [
    "An optional if clause allows for filtering:\n",
    "\n",
    "```\n",
    "       [  <expression using var> \n",
    "       for var in iterable\n",
    "       if <expression using var>  ]\n",
    "```\n",
    "\n",
    "Splitting a list comprehension across multiple lines may add readability but is never required."
   ]
  },
  {
   "cell_type": "code",
   "execution_count": 3,
   "id": "26d60d4c-59c0-4a1a-a011-28badb95902d",
   "metadata": {},
   "outputs": [],
   "source": [
    "words = ['tower', 'harry', 'potter', 'python']\n",
    "M = [word.capitalize() \n",
    "     for word in words \n",
    "     if \"p\" in word]"
   ]
  },
  {
   "cell_type": "code",
   "execution_count": 4,
   "id": "e27f1980-bcd5-468c-b219-aa7e1a333dc4",
   "metadata": {},
   "outputs": [
    {
     "data": {
      "text/plain": [
       "['Potter', 'Python']"
      ]
     },
     "execution_count": 4,
     "metadata": {},
     "output_type": "execute_result"
    }
   ],
   "source": [
    "M"
   ]
  },
  {
   "cell_type": "markdown",
   "id": "78a41433-20b0-47a0-8cdf-be408c0a41ba",
   "metadata": {},
   "source": [
    "Practice makes perfect.  Consider adding some slice notation on the end, if you wish to practice a syntax we encountered earlier."
   ]
  },
  {
   "cell_type": "code",
   "execution_count": 5,
   "id": "3c1f6760-6eb7-45e4-96d2-42f68f658cf2",
   "metadata": {},
   "outputs": [
    {
     "data": {
      "text/plain": [
       "['Kitty', 'Hello']"
      ]
     },
     "execution_count": 5,
     "metadata": {},
     "output_type": "execute_result"
    }
   ],
   "source": [
    "[w.capitalize() for w in ['hello', 'kitty']][::-1]  # adding slice notation"
   ]
  },
  {
   "cell_type": "code",
   "execution_count": null,
   "id": "2a601e41-88f8-4c68-af6c-402110d5ccd3",
   "metadata": {},
   "outputs": [],
   "source": []
  },
  {
   "cell_type": "markdown",
   "id": "0b0cc9cc-581d-4b63-947d-e283411c4dee",
   "metadata": {},
   "source": [
    "Sometimes the expression does not need to involve any input from the for loop. Perhaps the new values are coming from someplace else, or maybe the expression is something static (unchanging).\n",
    "\n",
    "Use of the name ```_``` typically signifies the values it takes on (binds to) have no relevance to the work at hand.  The point was simply to trigger repetition.  The for loop still runs multiple times, and sometimes that's all we need."
   ]
  },
  {
   "cell_type": "code",
   "execution_count": 6,
   "id": "92012b6f-91f0-43a0-8243-0f58ed2c5dc1",
   "metadata": {},
   "outputs": [],
   "source": [
    "stars = [ \"*\" for _ in range(10)]"
   ]
  },
  {
   "cell_type": "code",
   "execution_count": 7,
   "id": "f8662db6-9302-4b1c-a60e-97aaf0cbb562",
   "metadata": {},
   "outputs": [
    {
     "data": {
      "text/plain": [
       "['*', '*', '*', '*', '*', '*', '*', '*', '*', '*']"
      ]
     },
     "execution_count": 7,
     "metadata": {},
     "output_type": "execute_result"
    }
   ],
   "source": [
    "stars"
   ]
  },
  {
   "cell_type": "markdown",
   "id": "c98b6484-cd1b-4307-9110-c2a5ce2a46bb",
   "metadata": {},
   "source": [
    "As our segue to a next topic, the generator function, check out the cells below.  Your instructor will explain, as we turn to this related aspect of Python."
   ]
  },
  {
   "cell_type": "markdown",
   "id": "52f2e285-1546-44da-91e2-60ec4ae4abc8",
   "metadata": {},
   "source": [
    "Using ```print``` inside a list comprehension is not considered best practice, however doing it for instructive purposes may prove illuminating.  The list comprehension below prints as instructed, leaving now spaces between characters.  However, what ends up in the list is a sequence of None objects.  Why?  Because ```print()``` returns ```None``` while sending strings to the console (or other standard output device) as a side effect."
   ]
  },
  {
   "cell_type": "code",
   "execution_count": 8,
   "id": "69c44015-54c6-471b-b371-79b36da4a12a",
   "metadata": {},
   "outputs": [
    {
     "name": "stdout",
     "output_type": "stream",
     "text": [
      "I like Python"
     ]
    }
   ],
   "source": [
    "K = [print(c, end=\"\") for c in \"I like Python\"]"
   ]
  },
  {
   "cell_type": "code",
   "execution_count": 9,
   "id": "83e71a09-796b-40c5-b32e-035e758cb02f",
   "metadata": {},
   "outputs": [
    {
     "data": {
      "text/plain": [
       "[None, None, None, None, None, None, None, None, None, None, None, None, None]"
      ]
     },
     "execution_count": 9,
     "metadata": {},
     "output_type": "execute_result"
    }
   ],
   "source": [
    "K"
   ]
  },
  {
   "cell_type": "markdown",
   "id": "7fc8d211-87ad-4141-afa1-0534bbe46b01",
   "metadata": {},
   "source": [
    "# Generator Functions\n",
    "\n",
    "A generator function is quite like an ordinary function, except it depends on the keyword ```yield``` to hand a result back to the caller.  The generator suspends operations at this point, but remains ready to be nudged forward by the ```next``` function.  \n",
    "\n",
    "When nudged to advance, the generator picks up right where it left off and continues executing.  Any local variables inside the generator remain intact, and may be updated.  In other words, generators \"preserve state\" between nudgings."
   ]
  },
  {
   "cell_type": "code",
   "execution_count": 10,
   "id": "1f6b6990-829c-4f49-b494-c8212adfe4bc",
   "metadata": {},
   "outputs": [
    {
     "name": "stdout",
     "output_type": "stream",
     "text": [
      "[0, 1, 1, 2, 3, 5, 8, 13, 21, 34]\n"
     ]
    }
   ],
   "source": [
    "# Fibonacci Numbers\n",
    "# https://oeis.org/A000045\n",
    "\n",
    "def fibo(a=0, b=1):\n",
    "    while True:\n",
    "        yield a\n",
    "        b, a = a + b, b\n",
    "        \n",
    "gen = fibo()\n",
    "fibs = [next(gen) for _ in range(10)]\n",
    "print(fibs)"
   ]
  },
  {
   "cell_type": "markdown",
   "id": "2e7183d6-2d1f-4515-847f-6c388f1e0990",
   "metadata": {},
   "source": [
    "# Generator Expressions\n",
    "\n",
    "A generator expression looks just like a list comprehension except it uses \"curvy brackets\" (i.e. parentheses) in place of square brackets.  The resulting object is a generator that computes next elements on demand (called \"lazy evaluation\" or \"just in time\"), instead of all at once, from beginning to end, the way a list does.\n",
    "\n",
    "An advantage of generator expressions over list comprehensions is they usually require less memory.  Generators know how to get a next term, but they do not run on ahead unnecessarily, filling memory with terms a program my end up not needing."
   ]
  },
  {
   "cell_type": "code",
   "execution_count": 11,
   "id": "acb7b5de-b601-4b1b-a62a-2f27bbf31d52",
   "metadata": {},
   "outputs": [
    {
     "data": {
      "text/plain": [
       "generator"
      ]
     },
     "execution_count": 11,
     "metadata": {},
     "output_type": "execute_result"
    }
   ],
   "source": [
    "fibs_gen = (next(gen) for _ in range(10))  # generator expression\n",
    "type(fibs_gen)"
   ]
  },
  {
   "cell_type": "code",
   "execution_count": 12,
   "id": "6e436fc2-93e4-4aad-85f2-0dc1fdac9862",
   "metadata": {},
   "outputs": [
    {
     "data": {
      "text/plain": [
       "55"
      ]
     },
     "execution_count": 12,
     "metadata": {},
     "output_type": "execute_result"
    }
   ],
   "source": [
    "next(fibs_gen)"
   ]
  },
  {
   "cell_type": "code",
   "execution_count": 13,
   "id": "2e8480b3-4734-48ea-91f3-3570053b2003",
   "metadata": {},
   "outputs": [
    {
     "data": {
      "text/plain": [
       "89"
      ]
     },
     "execution_count": 13,
     "metadata": {},
     "output_type": "execute_result"
    }
   ],
   "source": [
    "next(fibs_gen)"
   ]
  },
  {
   "cell_type": "code",
   "execution_count": 14,
   "id": "ca7e524e-8112-4145-b0fd-6e368df8daf5",
   "metadata": {},
   "outputs": [
    {
     "name": "stdout",
     "output_type": "stream",
     "text": [
      "144 233 377 610 987 1597 2584 4181 "
     ]
    }
   ],
   "source": [
    "for n in fibs_gen:\n",
    "    print(n, end=\" \")"
   ]
  },
  {
   "cell_type": "markdown",
   "id": "16b153e2-429e-4bb9-8594-7c3e24b47c7b",
   "metadata": {},
   "source": [
    "Keep in mind that generator expressions, like list comprehensions, are not designed to do a lot of complicated computing internally.  The syntax would get overwhelmed or at least hard to read. \n",
    "\n",
    "Even in the case of Fibonacci numbers, relatively light weight to compute, the task of coming up with the next one was delegated to the generator function named ```gen```.\n",
    "\n",
    "Let's zoom out and look at the concept of \"iterator\" more generally.  If our computation is somewhat complicated, such as finding the next prime number, we still have the option to encapsulate it as a single object "
   ]
  },
  {
   "cell_type": "code",
   "execution_count": 15,
   "id": "47d7cf04-29b6-4dce-905c-a1958c71d4ea",
   "metadata": {},
   "outputs": [],
   "source": [
    "from primes import PrimeNumbers"
   ]
  },
  {
   "cell_type": "code",
   "execution_count": 16,
   "id": "0d0c23cc-b1bb-4592-b15a-91df83cacb77",
   "metadata": {},
   "outputs": [
    {
     "name": "stdout",
     "output_type": "stream",
     "text": [
      "2 3 5 7 11 13 17 19 23 29 31 37 41 43 47 53 59 61 67 71 73 79 83 89 97 101 "
     ]
    }
   ],
   "source": [
    "for p in PrimeNumbers():\n",
    "    print(p, end=\" \")\n",
    "    if p > 100:\n",
    "        break "
   ]
  },
  {
   "cell_type": "markdown",
   "id": "e07b472e-52e8-488c-bb57-b2743348d1f0",
   "metadata": {},
   "source": [
    "# Iterators\n",
    "\n",
    "An iterator is any object that may be fed to ```next( )```.  They may at first seem like a small category of types, such as the just-introduced generator type.  However, any type that is an \"iterable\" (note the difference) may be turned into a \"iterator\" be feeding it to ```iter()```.  Once fed throught ```iter()```, the resulting object may be fed to ```next()```."
   ]
  },
  {
   "cell_type": "code",
   "execution_count": 17,
   "id": "3169a575-9a7e-4e34-ad9b-c98860ec739c",
   "metadata": {},
   "outputs": [
    {
     "data": {
      "text/plain": [
       "[0, 1, 2, 3, 4, 5, 6, 7, 8, 9]"
      ]
     },
     "execution_count": 17,
     "metadata": {},
     "output_type": "execute_result"
    }
   ],
   "source": [
    "L = list(range(10))  # iterable\n",
    "L"
   ]
  },
  {
   "cell_type": "code",
   "execution_count": 18,
   "id": "608297e0-e4e7-4232-b2d9-c763024bec4e",
   "metadata": {},
   "outputs": [],
   "source": [
    "G = iter(L)  # create iterator named G"
   ]
  },
  {
   "cell_type": "code",
   "execution_count": 19,
   "id": "b5bca381-cacf-4e5c-b9d1-9b61f541c375",
   "metadata": {},
   "outputs": [
    {
     "data": {
      "text/plain": [
       "0"
      ]
     },
     "execution_count": 19,
     "metadata": {},
     "output_type": "execute_result"
    }
   ],
   "source": [
    "next(G)      # G may now be fed to next"
   ]
  },
  {
   "cell_type": "code",
   "execution_count": 20,
   "id": "72f1df14-ce57-45a5-8b0b-c2a84a149838",
   "metadata": {},
   "outputs": [
    {
     "data": {
      "text/plain": [
       "1"
      ]
     },
     "execution_count": 20,
     "metadata": {},
     "output_type": "execute_result"
    }
   ],
   "source": [
    "next(G)"
   ]
  },
  {
   "cell_type": "markdown",
   "id": "1fa328eb-504b-473e-9768-5478f04a9fb5",
   "metadata": {},
   "source": [
    "## Iterators as Classes\n",
    "\n",
    "What the ```next()``` function is doing, behind the scenes, is accessing the ```__next__``` method of the target object.  Python's for-loop syntax is actually doing the same thing.\n",
    "\n",
    "```python\n",
    "    for var in L:\n",
    "        print(var)\n",
    "```\n",
    "\n",
    "is technically the same as:\n",
    "\n",
    "```python\n",
    "    for var in iter(L):\n",
    "        print(var)\n",
    "```\n",
    "   "
   ]
  },
  {
   "cell_type": "code",
   "execution_count": 21,
   "id": "1f84571d-e436-4d9c-b0e4-4aa911ac42d6",
   "metadata": {},
   "outputs": [
    {
     "name": "stdout",
     "output_type": "stream",
     "text": [
      "0 1 2 3 4 5 6 7 8 9 "
     ]
    }
   ],
   "source": [
    "for var in iter(L):\n",
    "    print(var, end=\" \")"
   ]
  },
  {
   "cell_type": "markdown",
   "id": "a40544ce-cd30-44e3-bc3a-72ba9cd96727",
   "metadata": {},
   "source": [
    "Python lets you define your own custom iterators.  Simply included two special name methods:  ```__next__``` and ```__iter__```.  An iterator should return itself if fed to ```iter``` and ```iter(obj)``` triggers ```obj.__iter__()``` just as ```next(obj)``` triggers ```obj.__next__()```."
   ]
  },
  {
   "cell_type": "code",
   "execution_count": 22,
   "id": "b2a3386c-4144-49d6-8f5e-7adcb6e5d961",
   "metadata": {},
   "outputs": [],
   "source": [
    "class Fibo:\n",
    "    \n",
    "    def __init__(self, a, b):\n",
    "        self.a, self.b = a, b\n",
    "        \n",
    "    def __next__(self):\n",
    "        term = self.a\n",
    "        # update for next time\n",
    "        self.b, self.a = self.a + self.b, self.b\n",
    "        return term  # not yield\n",
    "    \n",
    "    def __iter__(self):\n",
    "        return self  # I am already an iterator"
   ]
  },
  {
   "cell_type": "code",
   "execution_count": 23,
   "id": "f3fb7c99-b4f5-4db4-9c5f-37f77dc0d99d",
   "metadata": {},
   "outputs": [],
   "source": [
    "fibonacci = Fibo(0, 1)"
   ]
  },
  {
   "cell_type": "code",
   "execution_count": 24,
   "id": "2e1d2927-4bc8-498e-9437-139a55304416",
   "metadata": {},
   "outputs": [
    {
     "data": {
      "text/plain": [
       "[0, 1, 1, 2, 3, 5, 8, 13, 21, 34]"
      ]
     },
     "execution_count": 24,
     "metadata": {},
     "output_type": "execute_result"
    }
   ],
   "source": [
    "[next(fibonacci) for _ in range(10)]"
   ]
  },
  {
   "cell_type": "code",
   "execution_count": 25,
   "id": "98849f8e-c290-48bc-a7d5-e8b35334bf78",
   "metadata": {},
   "outputs": [
    {
     "name": "stdout",
     "output_type": "stream",
     "text": [
      "0 1 1 2 3 5 8 13 21 34 55 89 144\n"
     ]
    }
   ],
   "source": [
    "for var in Fibo(0, 1):\n",
    "    if var < 100:\n",
    "        print(var, end=\" \")\n",
    "    else:\n",
    "        print(var)\n",
    "        break"
   ]
  },
  {
   "cell_type": "code",
   "execution_count": 26,
   "id": "15967746-e02f-49b7-a4a4-cc3de8e7b331",
   "metadata": {},
   "outputs": [],
   "source": [
    "g = iter(Fibo(0,1))"
   ]
  },
  {
   "cell_type": "code",
   "execution_count": 27,
   "id": "8ff3af4a-5442-4791-95d2-248d4d32849e",
   "metadata": {},
   "outputs": [
    {
     "data": {
      "text/plain": [
       "0"
      ]
     },
     "execution_count": 27,
     "metadata": {},
     "output_type": "execute_result"
    }
   ],
   "source": [
    "g.__next__()"
   ]
  },
  {
   "cell_type": "code",
   "execution_count": 28,
   "id": "3a18118e-8702-4f3b-8fe3-b78997d5f7cb",
   "metadata": {},
   "outputs": [
    {
     "data": {
      "text/plain": [
       "1"
      ]
     },
     "execution_count": 28,
     "metadata": {},
     "output_type": "execute_result"
    }
   ],
   "source": [
    "next(g)"
   ]
  },
  {
   "cell_type": "code",
   "execution_count": 29,
   "id": "ed6df4af-40e5-48d9-8ea9-01d620b8583a",
   "metadata": {},
   "outputs": [
    {
     "data": {
      "text/plain": [
       "1"
      ]
     },
     "execution_count": 29,
     "metadata": {},
     "output_type": "execute_result"
    }
   ],
   "source": [
    "g.__next__()"
   ]
  }
 ],
 "metadata": {
  "kernelspec": {
   "display_name": "Python 3 (ipykernel)",
   "language": "python",
   "name": "python3"
  },
  "language_info": {
   "codemirror_mode": {
    "name": "ipython",
    "version": 3
   },
   "file_extension": ".py",
   "mimetype": "text/x-python",
   "name": "python",
   "nbconvert_exporter": "python",
   "pygments_lexer": "ipython3",
   "version": "3.7.9"
  }
 },
 "nbformat": 4,
 "nbformat_minor": 5
}
