{
 "cells": [
  {
   "cell_type": "markdown",
   "metadata": {
    "id": "GNJ8DeRtAzaB"
   },
   "source": [
    "##### Python for High School (Summer 2022)\n",
    "\n",
    "* [Table of Contents](PY4HS.ipynb)\n",
    "* <a href=\"https://colab.research.google.com/github/4dsolutions/elite_school/blob/master/Py4HS_August_26_2022.ipynb\"><img align=\"left\" src=\"https://colab.research.google.com/assets/colab-badge.svg\" alt=\"Open in Colab\" title=\"Open and Execute in Google Colaboratory\"></a>\n",
    "* [![nbviewer](https://raw.githubusercontent.com/jupyter/design/master/logos/Badges/nbviewer_badge.svg)](https://nbviewer.org/github/4dsolutions/elite_school/blob/master/Py4HS_August_26_2022.ipynb)"
   ]
  },
  {
   "cell_type": "markdown",
   "metadata": {},
   "source": [
    "\n",
    "<a data-flickr-embed=\"true\" href=\"https://www.flickr.com/photos/kirbyurner/52306927789/in/dateposted-public/\" title=\"OMSI Lower Right\"><img src=\"https://live.staticflickr.com/65535/52306927789_98429e7ca2_z.jpg\" width=\"640\" height=\"381\" alt=\"OMSI Lower Right\"></a><script async src=\"//embedr.flickr.com/assets/client-code.js\" charset=\"utf-8\"></script>\n"
   ]
  },
  {
   "cell_type": "markdown",
   "metadata": {
    "id": "iYlfU09rAzaI"
   },
   "source": [
    "# Looking Back (and Ahead)\n",
    "\n",
    "Welcome to the last Chapter of Python for High School.  Our chapters document a chronological sequence in that my workflow was to prepare Notebooks ahead of each meetup.\n",
    "\n",
    "However the Topics need follow no specific order, except some are prerequisite to the others, in a kind of directed graph.  You may find yourself \"running up the down escalator\" (a figure of speech) if you tackle some levels before others."
   ]
  },
  {
   "cell_type": "markdown",
   "metadata": {
    "id": "iYlfU09rAzaI"
   },
   "source": [
    "## <p style=\"background-color:#ADD8E6; font-family:newtimeroman; color:#FFF9ED; font-size:150%; text-align:center; border-radius:10px 10px;\">Review:  Number Theory</p>\n",
    "\n",
    "For example, appreciation for the elegance of the RSA algorithm (public key crypto) deepens with one's appreciation for [Euler's Theorem](https://brilliant.org/wiki/eulers-theorem/), the one that generalizes [Fermat's Little Theorem](https://brilliant.org/wiki/fermats-little-theorem/).\n",
    "\n",
    "Fermat's Little Theorem:  \n",
    "\n",
    "Let $p$ be a prime number, and a be any integer. Then $a^{p}−a$ is always divisible by $p$."
   ]
  },
  {
   "cell_type": "code",
   "execution_count": 54,
   "metadata": {},
   "outputs": [
    {
     "data": {
      "text/plain": [
       "(518301258916440, 0)"
      ]
     },
     "execution_count": 54,
     "metadata": {},
     "output_type": "execute_result"
    }
   ],
   "source": [
    "b = 5                # the base\n",
    "p = 23               # try any prime here\n",
    "divmod(b**p - b, p)  # no remainder, true if p is prime"
   ]
  },
  {
   "cell_type": "code",
   "execution_count": 53,
   "metadata": {},
   "outputs": [
    {
     "data": {
      "text/plain": [
       "(3, 0)"
      ]
     },
     "execution_count": 53,
     "metadata": {},
     "output_type": "execute_result"
    }
   ],
   "source": [
    "divmod(36, 12)"
   ]
  },
  {
   "cell_type": "code",
   "execution_count": 51,
   "metadata": {},
   "outputs": [
    {
     "data": {
      "text/plain": [
       "11920928955078120"
      ]
     },
     "execution_count": 51,
     "metadata": {},
     "output_type": "execute_result"
    }
   ],
   "source": [
    "5**23 - 5"
   ]
  },
  {
   "cell_type": "code",
   "execution_count": 3,
   "metadata": {},
   "outputs": [
    {
     "data": {
      "text/plain": [
       "518301258916440"
      ]
     },
     "execution_count": 3,
     "metadata": {},
     "output_type": "execute_result"
    }
   ],
   "source": [
    "(5**23 - 5) // p"
   ]
  },
  {
   "cell_type": "markdown",
   "metadata": {},
   "source": [
    "The converse of Fermat's Little Theorem is not true however.  Some numbers $p$ pass the \"Fermat Test\", no matter the base $b$, and yet are not prime."
   ]
  },
  {
   "cell_type": "code",
   "execution_count": 4,
   "metadata": {},
   "outputs": [
    {
     "data": {
      "text/plain": [
       "(236161757013279006596205856527083708100196146653181706890446891437099112647726025559639680169088609951680950265194714570201302725740616911013462999989900903652916737725765458649007151093057800234250721538430156379493080234813016314639586372502409927294685286807480615872096596435637874175022915074729196884816391323389905397446092098430290978560132791452898294579400935163804447799655417920,\n",
       " 0)"
      ]
     },
     "execution_count": 4,
     "metadata": {},
     "output_type": "execute_result"
    }
   ],
   "source": [
    "divmod(b**561 - b, 561)   # 561 is a Carmichael Number, any b will do"
   ]
  },
  {
   "cell_type": "markdown",
   "metadata": {
    "id": "iYlfU09rAzaI"
   },
   "source": [
    "## <p style=\"background-color:#ADD8E6; font-family:newtimeroman; color:#FFF9ED; font-size:150%; text-align:center; border-radius:10px 10px;\">Skill Sets</p>\n",
    "\n",
    "The skill sets we have been most developing in the foreground encompass:\n",
    "\n",
    "* Jupyter -- how we keep our Notes and sometimes publish them\n",
    "   - MarkDown\n",
    "   - $LaTeX$\n",
    "   - % magics\n",
    "* python -- there's always a next level\n",
    "\n",
    "In the background we've been looking at:\n",
    "\n",
    "* numpy -- the number crunching king of vectorized operations\n",
    "* matplotlib -- plotly imitates Matlab's way of doing things\n",
    "* pandas -- sophisticated DataFrames, isomorphic to spreadsheets\n",
    "* sympy -- computer algebra, high precision numbers"
   ]
  },
  {
   "cell_type": "code",
   "execution_count": 57,
   "metadata": {},
   "outputs": [
    {
     "data": {
      "application/json": {
       "cell": {
        "!": "OSMagics",
        "HTML": "Other",
        "SVG": "Other",
        "bash": "Other",
        "capture": "ExecutionMagics",
        "debug": "ExecutionMagics",
        "file": "Other",
        "html": "DisplayMagics",
        "javascript": "DisplayMagics",
        "js": "DisplayMagics",
        "latex": "DisplayMagics",
        "markdown": "DisplayMagics",
        "perl": "Other",
        "prun": "ExecutionMagics",
        "pypy": "Other",
        "python": "Other",
        "python2": "Other",
        "python3": "Other",
        "ruby": "Other",
        "script": "ScriptMagics",
        "sh": "Other",
        "svg": "DisplayMagics",
        "sx": "OSMagics",
        "system": "OSMagics",
        "time": "ExecutionMagics",
        "timeit": "ExecutionMagics",
        "writefile": "OSMagics"
       },
       "line": {
        "alias": "OSMagics",
        "alias_magic": "BasicMagics",
        "autoawait": "AsyncMagics",
        "autocall": "AutoMagics",
        "automagic": "AutoMagics",
        "autosave": "KernelMagics",
        "bookmark": "OSMagics",
        "cat": "Other",
        "cd": "OSMagics",
        "clear": "KernelMagics",
        "colors": "BasicMagics",
        "conda": "PackagingMagics",
        "config": "ConfigMagics",
        "connect_info": "KernelMagics",
        "cp": "Other",
        "debug": "ExecutionMagics",
        "dhist": "OSMagics",
        "dirs": "OSMagics",
        "doctest_mode": "BasicMagics",
        "ed": "Other",
        "edit": "KernelMagics",
        "env": "OSMagics",
        "gui": "BasicMagics",
        "hist": "Other",
        "history": "HistoryMagics",
        "killbgscripts": "ScriptMagics",
        "ldir": "Other",
        "less": "KernelMagics",
        "lf": "Other",
        "lk": "Other",
        "ll": "Other",
        "load": "CodeMagics",
        "load_ext": "ExtensionMagics",
        "loadpy": "CodeMagics",
        "logoff": "LoggingMagics",
        "logon": "LoggingMagics",
        "logstart": "LoggingMagics",
        "logstate": "LoggingMagics",
        "logstop": "LoggingMagics",
        "ls": "Other",
        "lsmagic": "BasicMagics",
        "lx": "Other",
        "macro": "ExecutionMagics",
        "magic": "BasicMagics",
        "man": "KernelMagics",
        "matplotlib": "PylabMagics",
        "mkdir": "Other",
        "more": "KernelMagics",
        "mv": "Other",
        "notebook": "BasicMagics",
        "page": "BasicMagics",
        "pastebin": "CodeMagics",
        "pdb": "ExecutionMagics",
        "pdef": "NamespaceMagics",
        "pdoc": "NamespaceMagics",
        "pfile": "NamespaceMagics",
        "pinfo": "NamespaceMagics",
        "pinfo2": "NamespaceMagics",
        "pip": "PackagingMagics",
        "popd": "OSMagics",
        "pprint": "BasicMagics",
        "precision": "BasicMagics",
        "prun": "ExecutionMagics",
        "psearch": "NamespaceMagics",
        "psource": "NamespaceMagics",
        "pushd": "OSMagics",
        "pwd": "OSMagics",
        "pycat": "OSMagics",
        "pylab": "PylabMagics",
        "qtconsole": "KernelMagics",
        "quickref": "BasicMagics",
        "recall": "HistoryMagics",
        "rehashx": "OSMagics",
        "reload_ext": "ExtensionMagics",
        "rep": "Other",
        "rerun": "HistoryMagics",
        "reset": "NamespaceMagics",
        "reset_selective": "NamespaceMagics",
        "rm": "Other",
        "rmdir": "Other",
        "run": "ExecutionMagics",
        "save": "CodeMagics",
        "sc": "OSMagics",
        "set_env": "OSMagics",
        "store": "StoreMagics",
        "sx": "OSMagics",
        "system": "OSMagics",
        "tb": "ExecutionMagics",
        "time": "ExecutionMagics",
        "timeit": "ExecutionMagics",
        "unalias": "OSMagics",
        "unload_ext": "ExtensionMagics",
        "who": "NamespaceMagics",
        "who_ls": "NamespaceMagics",
        "whos": "NamespaceMagics",
        "xdel": "NamespaceMagics",
        "xmode": "BasicMagics"
       }
      },
      "text/plain": [
       "Available line magics:\n",
       "%alias  %alias_magic  %autoawait  %autocall  %automagic  %autosave  %bookmark  %cat  %cd  %clear  %colors  %conda  %config  %connect_info  %cp  %debug  %dhist  %dirs  %doctest_mode  %ed  %edit  %env  %gui  %hist  %history  %killbgscripts  %ldir  %less  %lf  %lk  %ll  %load  %load_ext  %loadpy  %logoff  %logon  %logstart  %logstate  %logstop  %ls  %lsmagic  %lx  %macro  %magic  %man  %matplotlib  %mkdir  %more  %mv  %notebook  %page  %pastebin  %pdb  %pdef  %pdoc  %pfile  %pinfo  %pinfo2  %pip  %popd  %pprint  %precision  %prun  %psearch  %psource  %pushd  %pwd  %pycat  %pylab  %qtconsole  %quickref  %recall  %rehashx  %reload_ext  %rep  %rerun  %reset  %reset_selective  %rm  %rmdir  %run  %save  %sc  %set_env  %store  %sx  %system  %tb  %time  %timeit  %unalias  %unload_ext  %who  %who_ls  %whos  %xdel  %xmode\n",
       "\n",
       "Available cell magics:\n",
       "%%!  %%HTML  %%SVG  %%bash  %%capture  %%debug  %%file  %%html  %%javascript  %%js  %%latex  %%markdown  %%perl  %%prun  %%pypy  %%python  %%python2  %%python3  %%ruby  %%script  %%sh  %%svg  %%sx  %%system  %%time  %%timeit  %%writefile\n",
       "\n",
       "Automagic is ON, % prefix IS NOT needed for line magics."
      ]
     },
     "execution_count": 57,
     "metadata": {},
     "output_type": "execute_result"
    }
   ],
   "source": [
    "%lsmagic"
   ]
  },
  {
   "cell_type": "markdown",
   "metadata": {
    "id": "iYlfU09rAzaI"
   },
   "source": [
    "## <p style=\"background-color:#ADD8E6; font-family:newtimeroman; color:#FFF9ED; font-size:150%; text-align:center; border-radius:10px 10px;\">Topics</p>\n",
    "\n",
    "\n",
    "Mostly, though, we have organized our thinking around Topics.  \n",
    "\n",
    "Such as:\n",
    "\n",
    "* Cryptography\n",
    "   - Number Theory\n",
    "   - Primes versus Composities\n",
    "   - Totative and Totient\n",
    "* Permutations\n",
    "   - Finite Groups\n",
    "   - Group Theory\n",
    "* Fractals\n",
    "   - ASCII and Unicode Art\n",
    "   - CropCircle Tractors\n",
    "* Logarithms\n",
    "   - exponential function\n",
    "   - bases\n",
    "* Graph Theory\n",
    "   - adjacency matrix\n",
    "   - weighted and directional graphs\n",
    "   - polyedrons\n",
    "* Vectors\n",
    "   - XYZ (\"Earthling Math\"), goes with unit cube\n",
    "   - IVM (\"Martian Math\"), goes with unit tetrahedron\n",
    "* Ray Tracing\n",
    "   - [POV-Ray](https://www.povray.org)\n",
    "   - [Blender](https://www.blender.org/)\n",
    "* Machine Learning\n",
    "   - history\n",
    "   - future\n",
    "   - relation to AI\n",
    "\n",
    "There's no need to be exhaustive and/or all-inclusive.\n",
    "\n",
    "Then come the skillsets we might optionally cultivate in the background.  \n",
    "\n",
    "We might tackle one or more IDEs (vim, vscode, spyder...), remember our HTML (Requests package), and practice our Regular Expressions.  \n",
    "\n",
    "Actually, we could add Regexes to the foreground list of skills.\n",
    "\n",
    "$LaTeX$ has been a subskill under Jupyter.  To maximize our Markdown, we want to master typesetting convertional mathematical expressions."
   ]
  },
  {
   "cell_type": "markdown",
   "metadata": {},
   "source": [
    "What are some other Topics we might reasonably suggest have a footprint in high school?  I mention Machine Learning above, but we're only getting to it now, in the last chapter.\n",
    "\n",
    "Some of these build on Topics already addressed:\n",
    "\n",
    "* ml  (machine learning)\n",
    "    - sklearn (native Python)\n",
    "    - tensorflow (from Google)\n",
    "    - pytorch (from Facebook)\n",
    "    - other (keep scanning)\n",
    "* sql  (structured query language)\n",
    "* python (there's always a next level)\n",
    "* geospatial data (in the cards for us all)\n",
    "* [jupyter books](https://jupyterbook.org/en/stable/intro.html) (extending notebook skills)\n",
    "\n",
    "In Preview mode then, lets talk about:  *Machine Learning*."
   ]
  },
  {
   "cell_type": "markdown",
   "metadata": {
    "id": "E5TMW6XaAzaJ"
   },
   "source": [
    "## <p style=\"background-color:#ADD8E6; font-family:newtimeroman; color:#FFF9ED; font-size:150%; text-align:center; border-radius:10px 10px;\">Preview:  What is ML?</p>\n",
    "\n",
    "Does Machine Learning belong in high school?\n",
    "\n",
    "Since the dawn of history, a core aim of both logic and superstition has been to predict the future in some way.  We have always needed to divine the future, and yet encounter limits on predictability.\n",
    "\n",
    "The way a casino is set up, the house will win money in the long run, but given individuals may prove the exception, a fact the individuals count on when risking betting against the house.\n",
    "\n",
    "The age old project to distill our intuitions about such concepts of \"likelihood\", \"expectations\", \"confidance\", into a science is part of the heritage of data science.  Statistics married Computer Science, and Data Science was their offspring.\n",
    "\n",
    "In ordinary, everyday language we may ask with what measure of confidance do I expect X to happen?  Does my measure of confidance change with respect to some \"by when?\".  \n",
    "\n",
    "I might expect X to happen someday with 100% confidance, yet with no confidance at all about X happening tomorrow or next week.  \n",
    "\n",
    "These may sound like obvious truths, however in getting clear on such topics, we learn to think more logically.  We may also come to invent new  methods of computation.  \n",
    "\n",
    "We don't stop with some hazy notion of \"average\"; we break it out into mean, medium and mode, and ways of computing each.  Standard deviation follows, and variance.  The concept of a Bell Curve begins to emerge.\n",
    "\n",
    "We hope to intelligently anticipate (rather than wildly or blindly guess), based on the many models we have developed.  \n",
    "\n",
    "By model, we could mean a simulation.  Does our simulation run as a computer program?  Not necessarily.  People were simulating complex systems long before they had invented silicon chip computers.\n",
    "\n",
    "We could also mean, my \"model\", some actual Python object developed for us by one of the model makers (KM, SVM...).\n",
    "\n",
    "Who are the model makers?\n",
    "\n",
    "The model makers are well-known and/or still experimental algorithms.  We categorize them in various ways, such as into supervised and unsupervised. A good example of a working model would be a recommendation engine attached to a website.  \"Based on your choice of books so far, a next one of interest might be...\".  \n",
    "\n",
    "A model need not be mysterious and opaque.  A simple line through a bunch of dots well summarizes many of them.  However some models attain their high powers of prediction at the expense of being able to give us a set of rules.\n",
    "\n",
    "[A Quick List of ML Algorithms](https://howtolearnmachinelearning.com/articles/a-quick-list-of-machine-learning-algorithms/)\n",
    "\n",
    "More concretely, in the supervised learning setting, we show the features (X) and the right answers (y) to a \"learner\" or \"recognizer\" known as a neural net, consider deep after N layers.  The feedback of getting it wrong or right is used to \"weight\" the \"neurons\" through a process known as \"gradient descent\" (uses calculus, partial derivatives, finds a downward path for an error function).\n",
    "\n",
    "The above paragraph puts into words a lot of number crunchy math, which numpy is good at.  What we get back from such a process is a Python object that has powers of prediction.  But to what degree?  How good is it?  Should we turn it loose in the real world?"
   ]
  },
  {
   "cell_type": "markdown",
   "metadata": {
    "id": "mN0CH7VfAzaK"
   },
   "source": [
    "## <p style=\"background-color:#ADD8E6; font-family:newtimeroman; color:#FFF9ED; font-size:150%; text-align:center; border-radius:10px 10px;\">THE ML PROCESS</p>\n",
    "\n",
    "Think about how you yourself learn from experience?  Having a strong sense of a right answer or how you want things to go, is motivational.  Machine Learning sets up a similar feedback loop in the algebra, especially in a supervised setting.\n",
    "\n",
    "The main question before us is one of reliability.  Does our model do the job?  Is a newer model an improvement?\n",
    "\n",
    "One standard approach, to test reliability, is as follows:\n",
    "\n",
    "* give the right answers on a percentage of the total data (training)\n",
    "* try the model against the balance (the rest), never seen\n",
    "* do more testing\n",
    "\n",
    "As you explore Sci-Kit Learn, you will find this standard approach is baked in, through time-saving functions that automatically divvy the data into training and testing sets.\n",
    "\n",
    "The process is akin to shuffling cards as the same total data may be divvyed into testing and training in multiple ways, allowing for more averaging and perhaps fine tuning.  We looked at similar bootstrapping ideas in connection with the Confidance Interval (Seaborn barplot etc.).\n",
    "\n",
    "What's left out of the above description is the whole matter of selecting the appropriate ML engine (model maker), with fine tuned hyperparameters. \n",
    "\n",
    "That process itself suggests a feedback loop:  why not try several ML engines on the same data and find by experiment which seems to work best. Indeed, that's a thing.\n",
    "\n",
    "You will find sklearn support \"ensembles\" of model makers to work together. Sometimes they each reach a conclusion then hold a vote.  Random Forests made of Decision Trees behave in ensemble fashion."
   ]
  },
  {
   "cell_type": "markdown",
   "metadata": {
    "id": "K9eNE2ugAzaK"
   },
   "source": [
    "## <p style=\"background-color:#ADD8E6; font-family:newtimeroman; color:#FFF9ED; font-size:150%; text-align:center; border-radius:10px 10px;\">Cluster Finding Machines</p>\n",
    "\n",
    "Finding clusters is sometimes an \"unsupervised\" form of ML, meaning we do not have a dataset with \"right answers\" for training purposes.  We are looking for patterns in target data without knowing ourselves what they are beforehand.  \n",
    "\n",
    "Other times, we have our clusters defined for training data, in which case the process is \"supervised\".\n",
    "\n",
    "For example, we might want to cluster tweets and short reports into \"topics\" (what the cluster around).  We don't know in advance what those topics will be.  Here's a tutorial \n",
    "\n",
    "When learning about cluster finding, we also learn about cluster making.  Here's a data science teacher mixing up some clustered data, in order to discover if SVM (one of the model makers) will find them."
   ]
  },
  {
   "cell_type": "markdown",
   "metadata": {},
   "source": [
    "Citing the tutorial at [General Abstract Nonsense](https://generalabstractnonsense.com/2017/03/A-quick-look-at-Support-Vector-Machines/):"
   ]
  },
  {
   "cell_type": "code",
   "execution_count": 5,
   "metadata": {},
   "outputs": [
    {
     "data": {
      "text/plain": [
       "array([[-0.31178367,  0.72900392],\n",
       "       [ 0.21782079, -0.8990918 ],\n",
       "       [-2.48678065,  0.91325152],\n",
       "       [ 1.12706373, -1.51409323],\n",
       "       [ 1.63929108, -0.4298936 ],\n",
       "       [ 2.63128056,  0.60182225],\n",
       "       [-0.33588161,  1.23773784],\n",
       "       [ 0.11112817,  0.12915125],\n",
       "       [ 0.07612761, -0.15512816],\n",
       "       [ 0.63422534,  0.810655  ]])"
      ]
     },
     "execution_count": 5,
     "metadata": {},
     "output_type": "execute_result"
    }
   ],
   "source": [
    "from sklearn.svm import SVC\n",
    "import numpy as np\n",
    "import matplotlib.pyplot as plt\n",
    "# from mlxtend.plotting import plot_decision_regions\n",
    "\n",
    "# create some V shaped data\n",
    "np.random.seed(6)\n",
    "# normalized floats, 200 rows, 2 columns\n",
    "X = np.random.randn(200, 2)\n",
    "X[:10,:]"
   ]
  },
  {
   "cell_type": "markdown",
   "metadata": {},
   "source": [
    "The rule here is:  y is True if the right column exceeds the absolute value of the left.  Throw away negative signs on the left and ask if the resulting number is less than what's to its right.  y is False if not."
   ]
  },
  {
   "cell_type": "code",
   "execution_count": 6,
   "metadata": {},
   "outputs": [
    {
     "data": {
      "text/plain": [
       "array([ True, False, False, False, False, False,  True,  True, False,\n",
       "        True])"
      ]
     },
     "execution_count": 6,
     "metadata": {},
     "output_type": "execute_result"
    }
   ],
   "source": [
    "# create a \"predict me\" vector\n",
    "y = X[:, 1] > np.absolute(X[:, 0])\n",
    "y[:10]"
   ]
  },
  {
   "cell_type": "markdown",
   "metadata": {},
   "source": [
    "We can recast y as 1s and negative 1s using the ever-useful `np.where`."
   ]
  },
  {
   "cell_type": "code",
   "execution_count": 7,
   "metadata": {},
   "outputs": [
    {
     "data": {
      "text/plain": [
       "array([ 1, -1, -1, -1, -1, -1,  1,  1, -1,  1])"
      ]
     },
     "execution_count": 7,
     "metadata": {},
     "output_type": "execute_result"
    }
   ],
   "source": [
    "y = np.where(y, 1, -1)\n",
    "y[:10]"
   ]
  },
  {
   "cell_type": "markdown",
   "metadata": {},
   "source": [
    "Based on the provided data, we find the Support Vector Machine is pretty good at teasing apart the y=1 from the y=-1, but will not get it right 100% of the time.\n",
    "\n",
    "We're not requiring `mlxtend.plotting` to run this Notebook, but Google colab has it, so here's a screen shot:"
   ]
  },
  {
   "cell_type": "markdown",
   "metadata": {},
   "source": [
    "<a data-flickr-embed=\"true\" href=\"https://www.flickr.com/photos/kirbyurner/52313045333/in/dateposted-public/\" title=\"Screen Shot 2022-08-26 at 11.25.15 AM\"><img src=\"https://live.staticflickr.com/65535/52313045333_a499f458dc_z.jpg\" width=\"640\" height=\"513\" alt=\"Screen Shot 2022-08-26 at 11.25.15 AM\"></a><script async src=\"//embedr.flickr.com/assets/client-code.js\" charset=\"utf-8\"></script>"
   ]
  },
  {
   "cell_type": "code",
   "execution_count": 58,
   "metadata": {},
   "outputs": [
    {
     "data": {
      "text/plain": [
       "SVC(C=10.0, gamma=0.5, random_state=0)"
      ]
     },
     "execution_count": 58,
     "metadata": {},
     "output_type": "execute_result"
    }
   ],
   "source": [
    "# train a Support Vector Classifier using the rbf kernel\n",
    "svm = SVC(kernel='rbf', random_state=0, gamma=0.5, C=10.0)\n",
    "svm.fit(X, y)"
   ]
  },
  {
   "cell_type": "markdown",
   "metadata": {},
   "source": [
    "Make up some new X points.  Point = any number of features (columns)"
   ]
  },
  {
   "cell_type": "code",
   "execution_count": 9,
   "metadata": {},
   "outputs": [
    {
     "data": {
      "text/plain": [
       "array([[-0.99,  1.1 ],\n",
       "       [ 0.12,  0.33],\n",
       "       [-3.  ,  1.  ]])"
      ]
     },
     "execution_count": 9,
     "metadata": {},
     "output_type": "execute_result"
    }
   ],
   "source": [
    "data = np.array([[-0.99, 1.1],\n",
    "                  [.12, .33],\n",
    "                  [-3, 1]])\n",
    "data"
   ]
  },
  {
   "cell_type": "markdown",
   "metadata": {},
   "source": [
    "What would the model predict?"
   ]
  },
  {
   "cell_type": "code",
   "execution_count": 10,
   "metadata": {},
   "outputs": [
    {
     "data": {
      "text/plain": [
       "array([ 1,  1, -1])"
      ]
     },
     "execution_count": 10,
     "metadata": {},
     "output_type": "execute_result"
    }
   ],
   "source": [
    "svm.predict(data)"
   ]
  },
  {
   "cell_type": "markdown",
   "metadata": {},
   "source": [
    "What would we consider correct?"
   ]
  },
  {
   "cell_type": "code",
   "execution_count": 11,
   "metadata": {},
   "outputs": [
    {
     "data": {
      "text/plain": [
       "array([ True,  True, False])"
      ]
     },
     "execution_count": 11,
     "metadata": {},
     "output_type": "execute_result"
    }
   ],
   "source": [
    "new_y = data[:, 1] > np.absolute(data[:, 0])\n",
    "new_y"
   ]
  },
  {
   "cell_type": "markdown",
   "metadata": {},
   "source": [
    "Lets do more study into the reliability of svm in this instance."
   ]
  },
  {
   "cell_type": "code",
   "execution_count": 12,
   "metadata": {},
   "outputs": [],
   "source": [
    "from sklearn.metrics import accuracy_score"
   ]
  },
  {
   "cell_type": "code",
   "execution_count": 13,
   "metadata": {},
   "outputs": [
    {
     "data": {
      "text/plain": [
       "array([ 1, -1, -1, -1, -1, -1,  1,  1, -1,  1,  1, -1, -1, -1,  1, -1,  1,\n",
       "       -1, -1, -1, -1,  1, -1, -1, -1,  1,  1,  1, -1,  1, -1,  1, -1, -1,\n",
       "       -1, -1,  1, -1, -1, -1,  1, -1,  1, -1, -1, -1, -1, -1,  1, -1, -1,\n",
       "       -1, -1, -1, -1,  1, -1, -1, -1,  1, -1, -1, -1, -1, -1, -1, -1,  1,\n",
       "       -1, -1, -1, -1, -1, -1, -1, -1, -1, -1,  1, -1, -1, -1,  1, -1, -1,\n",
       "        1, -1, -1, -1, -1,  1, -1, -1, -1,  1,  1,  1, -1, -1, -1,  1,  1,\n",
       "        1, -1, -1, -1, -1, -1,  1,  1, -1, -1,  1, -1,  1, -1, -1, -1,  1,\n",
       "       -1, -1, -1,  1, -1, -1, -1, -1, -1,  1, -1, -1, -1,  1,  1, -1,  1,\n",
       "        1, -1,  1, -1,  1,  1, -1, -1,  1, -1, -1, -1, -1,  1,  1,  1, -1,\n",
       "       -1, -1, -1, -1,  1,  1, -1,  1,  1, -1, -1, -1, -1, -1,  1, -1,  1,\n",
       "       -1,  1, -1,  1, -1, -1, -1, -1, -1, -1, -1, -1, -1,  1, -1,  1, -1,\n",
       "        1, -1, -1, -1, -1, -1, -1,  1, -1, -1, -1, -1, -1])"
      ]
     },
     "execution_count": 13,
     "metadata": {},
     "output_type": "execute_result"
    }
   ],
   "source": [
    "svm.predict(X)"
   ]
  },
  {
   "cell_type": "code",
   "execution_count": 14,
   "metadata": {},
   "outputs": [
    {
     "data": {
      "text/plain": [
       "array([ 1, -1, -1, -1, -1, -1,  1,  1, -1,  1,  1, -1, -1, -1,  1, -1,  1,\n",
       "       -1, -1, -1, -1,  1, -1, -1, -1,  1,  1,  1, -1,  1, -1,  1, -1, -1,\n",
       "       -1, -1,  1, -1, -1, -1,  1, -1,  1, -1, -1, -1, -1, -1,  1, -1, -1,\n",
       "       -1, -1, -1, -1,  1, -1, -1, -1,  1, -1, -1, -1, -1, -1, -1, -1,  1,\n",
       "       -1, -1, -1, -1, -1, -1, -1, -1, -1, -1,  1, -1, -1, -1,  1, -1, -1,\n",
       "        1, -1, -1, -1, -1,  1, -1, -1, -1,  1,  1,  1, -1, -1, -1,  1,  1,\n",
       "        1, -1, -1, -1, -1, -1,  1,  1, -1, -1,  1, -1,  1, -1, -1, -1,  1,\n",
       "       -1, -1,  1,  1, -1, -1, -1, -1, -1,  1, -1, -1, -1,  1,  1, -1,  1,\n",
       "        1, -1,  1, -1,  1,  1, -1, -1,  1, -1, -1,  1, -1,  1,  1,  1, -1,\n",
       "       -1, -1, -1, -1,  1,  1, -1,  1,  1, -1, -1, -1, -1, -1,  1, -1,  1,\n",
       "       -1,  1, -1,  1, -1, -1, -1, -1, -1, -1, -1, -1, -1,  1, -1,  1, -1,\n",
       "        1, -1, -1, -1, -1, -1, -1,  1, -1, -1, -1, -1, -1])"
      ]
     },
     "execution_count": 14,
     "metadata": {},
     "output_type": "execute_result"
    }
   ],
   "source": [
    "y"
   ]
  },
  {
   "cell_type": "code",
   "execution_count": 15,
   "metadata": {},
   "outputs": [
    {
     "data": {
      "text/plain": [
       "0.99"
      ]
     },
     "execution_count": 15,
     "metadata": {},
     "output_type": "execute_result"
    }
   ],
   "source": [
    "accuracy_score(y, svm.predict(X))"
   ]
  },
  {
   "cell_type": "code",
   "execution_count": 16,
   "metadata": {},
   "outputs": [
    {
     "data": {
      "text/plain": [
       "array([ True,  True,  True,  True,  True,  True,  True,  True,  True,\n",
       "        True,  True,  True,  True,  True,  True,  True,  True,  True,\n",
       "        True,  True,  True,  True,  True,  True,  True,  True,  True,\n",
       "        True,  True,  True,  True,  True,  True,  True,  True,  True,\n",
       "        True,  True,  True,  True,  True,  True,  True,  True,  True,\n",
       "        True,  True,  True,  True,  True,  True,  True,  True,  True,\n",
       "        True,  True,  True,  True,  True,  True,  True,  True,  True,\n",
       "        True,  True,  True,  True,  True,  True,  True,  True,  True,\n",
       "        True,  True,  True,  True,  True,  True,  True,  True,  True,\n",
       "        True,  True,  True,  True,  True,  True,  True,  True,  True,\n",
       "        True,  True,  True,  True,  True,  True,  True,  True,  True,\n",
       "        True,  True,  True,  True,  True,  True,  True,  True,  True,\n",
       "        True,  True,  True,  True,  True,  True,  True,  True,  True,\n",
       "        True,  True,  True,  True, False,  True,  True,  True,  True,\n",
       "        True,  True,  True,  True,  True,  True,  True,  True,  True,\n",
       "        True,  True,  True,  True,  True,  True,  True,  True,  True,\n",
       "        True,  True,  True, False,  True,  True,  True,  True,  True,\n",
       "        True,  True,  True,  True,  True,  True,  True,  True,  True,\n",
       "        True,  True,  True,  True,  True,  True,  True,  True,  True,\n",
       "        True,  True,  True,  True,  True,  True,  True,  True,  True,\n",
       "        True,  True,  True,  True,  True,  True,  True,  True,  True,\n",
       "        True,  True,  True,  True,  True,  True,  True,  True,  True,\n",
       "        True,  True])"
      ]
     },
     "execution_count": 16,
     "metadata": {},
     "output_type": "execute_result"
    }
   ],
   "source": [
    "y == svm.predict(X)"
   ]
  },
  {
   "cell_type": "markdown",
   "metadata": {
    "id": "uSlEdW1A20Io"
   },
   "source": [
    "## <p style=\"background-color:#ADD8E6; font-family:newtimeroman; color:#FFF9ED; font-size:150%; text-align:center; border-radius:10px 10px;\">Categorizing Machines</p>\n",
    "**Clickbait Versus Headlines**\n",
    "\n",
    "We will need pandas for this next example, with its amazing ability to read csv files over the web, taking a URL as input.\n",
    "\n",
    "The file below is actually just a txt file, a csv with no headers, and it's delimited by tab.  No problemo:"
   ]
  },
  {
   "cell_type": "code",
   "execution_count": 59,
   "metadata": {},
   "outputs": [],
   "source": [
    "import pandas as pd"
   ]
  },
  {
   "cell_type": "code",
   "execution_count": 60,
   "metadata": {
    "id": "GL3nsXNYAzaL"
   },
   "outputs": [],
   "source": [
    "df_clickbait = pd.read_csv(\"https://raw.githubusercontent.com/sixhobbits/sklearn-intro/master/clickbait.txt\", sep=\"\\t\", header=None)"
   ]
  },
  {
   "cell_type": "code",
   "execution_count": 61,
   "metadata": {},
   "outputs": [
    {
     "name": "stdout",
     "output_type": "stream",
     "text": [
      "<class 'pandas.core.frame.DataFrame'>\n",
      "RangeIndex: 10000 entries, 0 to 9999\n",
      "Data columns (total 2 columns):\n",
      " #   Column  Non-Null Count  Dtype \n",
      "---  ------  --------------  ----- \n",
      " 0   0       10000 non-null  object\n",
      " 1   1       10000 non-null  int64 \n",
      "dtypes: int64(1), object(1)\n",
      "memory usage: 156.4+ KB\n"
     ]
    }
   ],
   "source": [
    "df_clickbait.info()"
   ]
  },
  {
   "cell_type": "code",
   "execution_count": 20,
   "metadata": {},
   "outputs": [
    {
     "data": {
      "text/html": [
       "<div>\n",
       "<style scoped>\n",
       "    .dataframe tbody tr th:only-of-type {\n",
       "        vertical-align: middle;\n",
       "    }\n",
       "\n",
       "    .dataframe tbody tr th {\n",
       "        vertical-align: top;\n",
       "    }\n",
       "\n",
       "    .dataframe thead th {\n",
       "        text-align: right;\n",
       "    }\n",
       "</style>\n",
       "<table border=\"1\" class=\"dataframe\">\n",
       "  <thead>\n",
       "    <tr style=\"text-align: right;\">\n",
       "      <th></th>\n",
       "      <th>1</th>\n",
       "    </tr>\n",
       "  </thead>\n",
       "  <tbody>\n",
       "    <tr>\n",
       "      <th>count</th>\n",
       "      <td>10000.000000</td>\n",
       "    </tr>\n",
       "    <tr>\n",
       "      <th>mean</th>\n",
       "      <td>0.500000</td>\n",
       "    </tr>\n",
       "    <tr>\n",
       "      <th>std</th>\n",
       "      <td>0.500025</td>\n",
       "    </tr>\n",
       "    <tr>\n",
       "      <th>min</th>\n",
       "      <td>0.000000</td>\n",
       "    </tr>\n",
       "    <tr>\n",
       "      <th>25%</th>\n",
       "      <td>0.000000</td>\n",
       "    </tr>\n",
       "    <tr>\n",
       "      <th>50%</th>\n",
       "      <td>0.500000</td>\n",
       "    </tr>\n",
       "    <tr>\n",
       "      <th>75%</th>\n",
       "      <td>1.000000</td>\n",
       "    </tr>\n",
       "    <tr>\n",
       "      <th>max</th>\n",
       "      <td>1.000000</td>\n",
       "    </tr>\n",
       "  </tbody>\n",
       "</table>\n",
       "</div>"
      ],
      "text/plain": [
       "                  1\n",
       "count  10000.000000\n",
       "mean       0.500000\n",
       "std        0.500025\n",
       "min        0.000000\n",
       "25%        0.000000\n",
       "50%        0.500000\n",
       "75%        1.000000\n",
       "max        1.000000"
      ]
     },
     "execution_count": 20,
     "metadata": {},
     "output_type": "execute_result"
    }
   ],
   "source": [
    "df_clickbait.describe()"
   ]
  },
  {
   "cell_type": "code",
   "execution_count": 21,
   "metadata": {},
   "outputs": [
    {
     "data": {
      "text/html": [
       "<div>\n",
       "<style scoped>\n",
       "    .dataframe tbody tr th:only-of-type {\n",
       "        vertical-align: middle;\n",
       "    }\n",
       "\n",
       "    .dataframe tbody tr th {\n",
       "        vertical-align: top;\n",
       "    }\n",
       "\n",
       "    .dataframe thead th {\n",
       "        text-align: right;\n",
       "    }\n",
       "</style>\n",
       "<table border=\"1\" class=\"dataframe\">\n",
       "  <thead>\n",
       "    <tr style=\"text-align: right;\">\n",
       "      <th></th>\n",
       "      <th>0</th>\n",
       "      <th>1</th>\n",
       "    </tr>\n",
       "  </thead>\n",
       "  <tbody>\n",
       "    <tr>\n",
       "      <th>0</th>\n",
       "      <td>Egypt's top envoy in Iraq confirmed killed</td>\n",
       "      <td>0</td>\n",
       "    </tr>\n",
       "    <tr>\n",
       "      <th>1</th>\n",
       "      <td>Carter: Race relations in Palestine are worse ...</td>\n",
       "      <td>0</td>\n",
       "    </tr>\n",
       "    <tr>\n",
       "      <th>2</th>\n",
       "      <td>After Years Of Dutiful Service, The Shiba Who ...</td>\n",
       "      <td>1</td>\n",
       "    </tr>\n",
       "    <tr>\n",
       "      <th>3</th>\n",
       "      <td>In Books on Two Powerbrokers, Hints of the Future</td>\n",
       "      <td>0</td>\n",
       "    </tr>\n",
       "    <tr>\n",
       "      <th>4</th>\n",
       "      <td>These Horrifyingly Satisfying Photos Of \"Baby ...</td>\n",
       "      <td>1</td>\n",
       "    </tr>\n",
       "    <tr>\n",
       "      <th>...</th>\n",
       "      <td>...</td>\n",
       "      <td>...</td>\n",
       "    </tr>\n",
       "    <tr>\n",
       "      <th>9995</th>\n",
       "      <td>What Is Your Weirdest Fear</td>\n",
       "      <td>1</td>\n",
       "    </tr>\n",
       "    <tr>\n",
       "      <th>9996</th>\n",
       "      <td>Felipe Massa wins 2008 French Grand Prix</td>\n",
       "      <td>0</td>\n",
       "    </tr>\n",
       "    <tr>\n",
       "      <th>9997</th>\n",
       "      <td>Bottled water concerns health experts</td>\n",
       "      <td>0</td>\n",
       "    </tr>\n",
       "    <tr>\n",
       "      <th>9998</th>\n",
       "      <td>Death of Nancy Benoit rumour posted on Wikiped...</td>\n",
       "      <td>0</td>\n",
       "    </tr>\n",
       "    <tr>\n",
       "      <th>9999</th>\n",
       "      <td>US Dept. of Justice IP address blocked after '...</td>\n",
       "      <td>0</td>\n",
       "    </tr>\n",
       "  </tbody>\n",
       "</table>\n",
       "<p>10000 rows × 2 columns</p>\n",
       "</div>"
      ],
      "text/plain": [
       "                                                      0  1\n",
       "0            Egypt's top envoy in Iraq confirmed killed  0\n",
       "1     Carter: Race relations in Palestine are worse ...  0\n",
       "2     After Years Of Dutiful Service, The Shiba Who ...  1\n",
       "3     In Books on Two Powerbrokers, Hints of the Future  0\n",
       "4     These Horrifyingly Satisfying Photos Of \"Baby ...  1\n",
       "...                                                 ... ..\n",
       "9995                         What Is Your Weirdest Fear  1\n",
       "9996           Felipe Massa wins 2008 French Grand Prix  0\n",
       "9997              Bottled water concerns health experts  0\n",
       "9998  Death of Nancy Benoit rumour posted on Wikiped...  0\n",
       "9999  US Dept. of Justice IP address blocked after '...  0\n",
       "\n",
       "[10000 rows x 2 columns]"
      ]
     },
     "execution_count": 21,
     "metadata": {},
     "output_type": "execute_result"
    }
   ],
   "source": [
    "df_clickbait"
   ]
  },
  {
   "cell_type": "code",
   "execution_count": 62,
   "metadata": {},
   "outputs": [
    {
     "data": {
      "text/html": [
       "<div>\n",
       "<style scoped>\n",
       "    .dataframe tbody tr th:only-of-type {\n",
       "        vertical-align: middle;\n",
       "    }\n",
       "\n",
       "    .dataframe tbody tr th {\n",
       "        vertical-align: top;\n",
       "    }\n",
       "\n",
       "    .dataframe thead th {\n",
       "        text-align: right;\n",
       "    }\n",
       "</style>\n",
       "<table border=\"1\" class=\"dataframe\">\n",
       "  <thead>\n",
       "    <tr style=\"text-align: right;\">\n",
       "      <th></th>\n",
       "      <th>Headline</th>\n",
       "      <th>Category</th>\n",
       "    </tr>\n",
       "  </thead>\n",
       "  <tbody>\n",
       "    <tr>\n",
       "      <th>0</th>\n",
       "      <td>Egypt's top envoy in Iraq confirmed killed</td>\n",
       "      <td>0</td>\n",
       "    </tr>\n",
       "    <tr>\n",
       "      <th>1</th>\n",
       "      <td>Carter: Race relations in Palestine are worse ...</td>\n",
       "      <td>0</td>\n",
       "    </tr>\n",
       "    <tr>\n",
       "      <th>2</th>\n",
       "      <td>After Years Of Dutiful Service, The Shiba Who ...</td>\n",
       "      <td>1</td>\n",
       "    </tr>\n",
       "    <tr>\n",
       "      <th>3</th>\n",
       "      <td>In Books on Two Powerbrokers, Hints of the Future</td>\n",
       "      <td>0</td>\n",
       "    </tr>\n",
       "    <tr>\n",
       "      <th>4</th>\n",
       "      <td>These Horrifyingly Satisfying Photos Of \"Baby ...</td>\n",
       "      <td>1</td>\n",
       "    </tr>\n",
       "  </tbody>\n",
       "</table>\n",
       "</div>"
      ],
      "text/plain": [
       "                                            Headline  Category\n",
       "0         Egypt's top envoy in Iraq confirmed killed         0\n",
       "1  Carter: Race relations in Palestine are worse ...         0\n",
       "2  After Years Of Dutiful Service, The Shiba Who ...         1\n",
       "3  In Books on Two Powerbrokers, Hints of the Future         0\n",
       "4  These Horrifyingly Satisfying Photos Of \"Baby ...         1"
      ]
     },
     "execution_count": 62,
     "metadata": {},
     "output_type": "execute_result"
    }
   ],
   "source": [
    "df_clickbait.columns = [\"Headline\", \"Category\"]\n",
    "df_clickbait.head()"
   ]
  },
  {
   "cell_type": "code",
   "execution_count": 63,
   "metadata": {},
   "outputs": [],
   "source": [
    "from sklearn.feature_extraction.text import TfidfVectorizer\n",
    "from sklearn.svm import LinearSVC\n",
    "from sklearn.metrics import accuracy_score\n",
    "\n",
    "headlines = df_clickbait[\"Headline\"]\n",
    "labels = df_clickbait[\"Category\"]"
   ]
  },
  {
   "cell_type": "code",
   "execution_count": 64,
   "metadata": {},
   "outputs": [
    {
     "data": {
      "text/plain": [
       "0           Egypt's top envoy in Iraq confirmed killed\n",
       "1    Carter: Race relations in Palestine are worse ...\n",
       "2    After Years Of Dutiful Service, The Shiba Who ...\n",
       "3    In Books on Two Powerbrokers, Hints of the Future\n",
       "4    These Horrifyingly Satisfying Photos Of \"Baby ...\n",
       "Name: Headline, dtype: object"
      ]
     },
     "execution_count": 64,
     "metadata": {},
     "output_type": "execute_result"
    }
   ],
   "source": [
    "headlines.head()"
   ]
  },
  {
   "cell_type": "code",
   "execution_count": 25,
   "metadata": {},
   "outputs": [
    {
     "data": {
      "text/plain": [
       "0    0\n",
       "1    0\n",
       "2    1\n",
       "3    0\n",
       "4    1\n",
       "Name: Category, dtype: int64"
      ]
     },
     "execution_count": 25,
     "metadata": {},
     "output_type": "execute_result"
    }
   ],
   "source": [
    "labels.head()"
   ]
  },
  {
   "cell_type": "code",
   "execution_count": 26,
   "metadata": {},
   "outputs": [],
   "source": [
    "# Break dataset into test and train sets\n",
    "train_headlines = headlines[:8000]\n",
    "test_headlines = headlines[8000:]\n",
    "\n",
    "train_labels = labels[:8000]\n",
    "test_labels = labels[8000:]"
   ]
  },
  {
   "cell_type": "markdown",
   "metadata": {},
   "source": [
    "Remember one-hot encoding, otherwise know as [get_dummies](https://pandas.pydata.org/pandas-docs/stable/reference/api/pandas.get_dummies.html) in pandas?  We were able to unpack a column, full of ungainly strings, into new columns, with 1s and 0s for values.\n",
    "\n",
    "That's close to what we do when \"vectorizing\" a \"bag of words\".  The specific algorithm we will be using, already in the can for us in sklearn, throws away what we might call \"stop words\" (used too frequently) and also words that occur too infrequently.\n",
    "\n",
    "We might do some data cleaning of front, before we vectorize.  Remove dates?  Excise serial numbers?  The end goal is to distill a document space to a vocabulary and frequency count for each word.  The ML engine (which one we pick) should be able to munch on this kind of numeric data.\n",
    "\n",
    "[TF-IDF in Python with Scikit Learn](https://youtu.be/i74DVqMsRWY) -- From Python Tutorials for the Digital Humanities\n",
    "\n",
    "[Topic Modeling](http://topic-modeling.pythonhumanities.com/01_01_introduction_to_topic_modeling.html)"
   ]
  },
  {
   "cell_type": "markdown",
   "metadata": {},
   "source": [
    "In addition to initializing a vectorizer, which is used in a next cell, we have to make the important decision regarding which ML engine to use.  In this case:  LinearSVC.\n",
    "\n",
    "LinearSVC is a subtype of a Support Vector Machine (SVM).  When separating data into clusters, you want to find a \"cut\" or \"slice\" through the data that maximizes its distance from the closest element in any cluster.  Optimizing means making the cut ever more effective at delineating two groups.\n",
    "\n",
    "In this case, we are attempting to separate the data using known cluster scores (1 or 0) for the training data."
   ]
  },
  {
   "cell_type": "code",
   "execution_count": 27,
   "metadata": {},
   "outputs": [],
   "source": [
    "vectorizer = TfidfVectorizer()\n",
    "svm = LinearSVC()"
   ]
  },
  {
   "cell_type": "code",
   "execution_count": 65,
   "metadata": {},
   "outputs": [],
   "source": [
    "# Transform our text data into numerical vectors\n",
    "train_vectors = vectorizer.fit_transform(train_headlines)\n",
    "test_vectors = vectorizer.transform(test_headlines)"
   ]
  },
  {
   "cell_type": "code",
   "execution_count": 66,
   "metadata": {},
   "outputs": [
    {
     "data": {
      "text/plain": [
       "<6x11773 sparse matrix of type '<class 'numpy.float64'>'\n",
       "\twith 56 stored elements in Compressed Sparse Row format>"
      ]
     },
     "execution_count": 66,
     "metadata": {},
     "output_type": "execute_result"
    }
   ],
   "source": [
    "train_vectors[:6]"
   ]
  },
  {
   "cell_type": "code",
   "execution_count": 67,
   "metadata": {},
   "outputs": [
    {
     "data": {
      "text/plain": [
       "<1x11773 sparse matrix of type '<class 'numpy.float64'>'\n",
       "\twith 9 stored elements in Compressed Sparse Row format>"
      ]
     },
     "execution_count": 67,
     "metadata": {},
     "output_type": "execute_result"
    }
   ],
   "source": [
    "train_vectors[1]"
   ]
  },
  {
   "cell_type": "code",
   "execution_count": 68,
   "metadata": {},
   "outputs": [
    {
     "data": {
      "text/plain": [
       "0.962"
      ]
     },
     "execution_count": 68,
     "metadata": {},
     "output_type": "execute_result"
    }
   ],
   "source": [
    "# Train the classifier and predict on test set\n",
    "svm.fit(train_vectors, train_labels)\n",
    "\n",
    "predictions = svm.predict(test_vectors)\n",
    "\n",
    "accuracy_score(test_labels, predictions)"
   ]
  },
  {
   "cell_type": "code",
   "execution_count": 69,
   "metadata": {},
   "outputs": [
    {
     "data": {
      "text/plain": [
       "array([1, 0])"
      ]
     },
     "execution_count": 69,
     "metadata": {},
     "output_type": "execute_result"
    }
   ],
   "source": [
    "new_headlines = [\"10 Cities That Every Hipster Will Be Moving To Soon\", \n",
    "                 'Vice President Mike Pence Leaves NFL Game Saying Players Showed \"Disrespect\" Of Anthem, Flag']\n",
    "new_vectors = vectorizer.transform(new_headlines)\n",
    "new_predictions = svm.predict(new_vectors)\n",
    "\n",
    "new_predictions"
   ]
  },
  {
   "cell_type": "markdown",
   "metadata": {
    "id": "eppisf6o20Ip"
   },
   "source": [
    "### <p style=\"background-color:#ADD8E6; font-family:newtimeroman; color:#FFF9ED; font-size:150%; text-align:center; border-radius:10px 10px;\">Preview:  Linear Regression</p>\n",
    "\n",
    "One of the many famous datasets, which you can find on Kaggle, is [tips](https://www.kaggle.com/datasets/jsphyg/tipping).\n",
    "\n",
    "Assuming we have seaborn, that's a dataset we can access locally."
   ]
  },
  {
   "cell_type": "code",
   "execution_count": 33,
   "metadata": {
    "colab": {
     "base_uri": "https://localhost:8080/",
     "height": 203
    },
    "id": "BtAf43Va20Iq",
    "outputId": "5e76994f-847a-4efd-c3db-8c2bb994a7d5"
   },
   "outputs": [
    {
     "data": {
      "text/html": [
       "<div>\n",
       "<style scoped>\n",
       "    .dataframe tbody tr th:only-of-type {\n",
       "        vertical-align: middle;\n",
       "    }\n",
       "\n",
       "    .dataframe tbody tr th {\n",
       "        vertical-align: top;\n",
       "    }\n",
       "\n",
       "    .dataframe thead th {\n",
       "        text-align: right;\n",
       "    }\n",
       "</style>\n",
       "<table border=\"1\" class=\"dataframe\">\n",
       "  <thead>\n",
       "    <tr style=\"text-align: right;\">\n",
       "      <th></th>\n",
       "      <th>total_bill</th>\n",
       "      <th>tip</th>\n",
       "      <th>sex</th>\n",
       "      <th>smoker</th>\n",
       "      <th>day</th>\n",
       "      <th>time</th>\n",
       "      <th>size</th>\n",
       "    </tr>\n",
       "  </thead>\n",
       "  <tbody>\n",
       "    <tr>\n",
       "      <th>0</th>\n",
       "      <td>16.99</td>\n",
       "      <td>1.01</td>\n",
       "      <td>Female</td>\n",
       "      <td>No</td>\n",
       "      <td>Sun</td>\n",
       "      <td>Dinner</td>\n",
       "      <td>2</td>\n",
       "    </tr>\n",
       "    <tr>\n",
       "      <th>1</th>\n",
       "      <td>10.34</td>\n",
       "      <td>1.66</td>\n",
       "      <td>Male</td>\n",
       "      <td>No</td>\n",
       "      <td>Sun</td>\n",
       "      <td>Dinner</td>\n",
       "      <td>3</td>\n",
       "    </tr>\n",
       "    <tr>\n",
       "      <th>2</th>\n",
       "      <td>21.01</td>\n",
       "      <td>3.50</td>\n",
       "      <td>Male</td>\n",
       "      <td>No</td>\n",
       "      <td>Sun</td>\n",
       "      <td>Dinner</td>\n",
       "      <td>3</td>\n",
       "    </tr>\n",
       "    <tr>\n",
       "      <th>3</th>\n",
       "      <td>23.68</td>\n",
       "      <td>3.31</td>\n",
       "      <td>Male</td>\n",
       "      <td>No</td>\n",
       "      <td>Sun</td>\n",
       "      <td>Dinner</td>\n",
       "      <td>2</td>\n",
       "    </tr>\n",
       "    <tr>\n",
       "      <th>4</th>\n",
       "      <td>24.59</td>\n",
       "      <td>3.61</td>\n",
       "      <td>Female</td>\n",
       "      <td>No</td>\n",
       "      <td>Sun</td>\n",
       "      <td>Dinner</td>\n",
       "      <td>4</td>\n",
       "    </tr>\n",
       "  </tbody>\n",
       "</table>\n",
       "</div>"
      ],
      "text/plain": [
       "   total_bill   tip     sex smoker  day    time  size\n",
       "0       16.99  1.01  Female     No  Sun  Dinner     2\n",
       "1       10.34  1.66    Male     No  Sun  Dinner     3\n",
       "2       21.01  3.50    Male     No  Sun  Dinner     3\n",
       "3       23.68  3.31    Male     No  Sun  Dinner     2\n",
       "4       24.59  3.61  Female     No  Sun  Dinner     4"
      ]
     },
     "execution_count": 33,
     "metadata": {},
     "output_type": "execute_result"
    }
   ],
   "source": [
    "import seaborn as sns\n",
    "tips = sns.load_dataset(\"tips\")\n",
    "tips.head()"
   ]
  },
  {
   "cell_type": "code",
   "execution_count": null,
   "metadata": {},
   "outputs": [],
   "source": []
  },
  {
   "cell_type": "code",
   "execution_count": 34,
   "metadata": {},
   "outputs": [
    {
     "data": {
      "image/png": "[encoded data removed]",
      "text/plain": [
       "<Figure size 432x432 with 3 Axes>"
      ]
     },
     "metadata": {
      "needs_background": "light"
     },
     "output_type": "display_data"
    }
   ],
   "source": [
    "sns.jointplot(kind=\"reg\", data=tips, x=\"total_bill\", y=\"tip\");"
   ]
  },
  {
   "cell_type": "code",
   "execution_count": 35,
   "metadata": {},
   "outputs": [
    {
     "name": "stdout",
     "output_type": "stream",
     "text": [
      "\u001b[31mroller_coasters.db\u001b[m\u001b[m\n"
     ]
    }
   ],
   "source": [
    "! ls roller*.*"
   ]
  },
  {
   "cell_type": "markdown",
   "metadata": {},
   "source": [
    "What we're reviewing here is sqlite3, which we only touched upon briefly, in connection with `airports.db` -- a flatfile of some 7K world airports, categorized in a few ways, some with lat/long.  That's a thumbnail data dictionary.\n",
    "\n",
    "Here's a link to it [on Kaggle](https://www.kaggle.com/datasets/jonatancr/airports).\n",
    "\n",
    "A potentially interesting project would be to compare the Roller Coasters dataset on Kaggle, with the one provided.  Another idea for a capstone project.  Perhaps a newer table could be merged from both sources?"
   ]
  },
  {
   "cell_type": "code",
   "execution_count": 36,
   "metadata": {},
   "outputs": [],
   "source": [
    "import sqlite3 as sql"
   ]
  },
  {
   "cell_type": "code",
   "execution_count": 37,
   "metadata": {},
   "outputs": [],
   "source": [
    "conn = sql.connect(\"roller_coasters.db\")"
   ]
  },
  {
   "cell_type": "code",
   "execution_count": 38,
   "metadata": {},
   "outputs": [],
   "source": [
    "coasters_df = pd.read_sql(\"select * from Coasters;\", con=conn)"
   ]
  },
  {
   "cell_type": "code",
   "execution_count": 39,
   "metadata": {},
   "outputs": [
    {
     "data": {
      "text/html": [
       "<div>\n",
       "<style scoped>\n",
       "    .dataframe tbody tr th:only-of-type {\n",
       "        vertical-align: middle;\n",
       "    }\n",
       "\n",
       "    .dataframe tbody tr th {\n",
       "        vertical-align: top;\n",
       "    }\n",
       "\n",
       "    .dataframe thead th {\n",
       "        text-align: right;\n",
       "    }\n",
       "</style>\n",
       "<table border=\"1\" class=\"dataframe\">\n",
       "  <thead>\n",
       "    <tr style=\"text-align: right;\">\n",
       "      <th></th>\n",
       "      <th>Name</th>\n",
       "      <th>Park</th>\n",
       "      <th>State</th>\n",
       "      <th>Country</th>\n",
       "      <th>Duration</th>\n",
       "      <th>Speed</th>\n",
       "      <th>Height</th>\n",
       "      <th>VertDrop</th>\n",
       "      <th>Length</th>\n",
       "      <th>Yr_Opened</th>\n",
       "      <th>Inversions</th>\n",
       "    </tr>\n",
       "  </thead>\n",
       "  <tbody>\n",
       "    <tr>\n",
       "      <th>0</th>\n",
       "      <td>Top Thrill Dragster</td>\n",
       "      <td>Cedar Point</td>\n",
       "      <td>Ohio</td>\n",
       "      <td>USA</td>\n",
       "      <td>60</td>\n",
       "      <td>120.0</td>\n",
       "      <td>420.0</td>\n",
       "      <td>400.00</td>\n",
       "      <td>2800.00</td>\n",
       "      <td>2003</td>\n",
       "      <td>0</td>\n",
       "    </tr>\n",
       "    <tr>\n",
       "      <th>1</th>\n",
       "      <td>Superman The Escape</td>\n",
       "      <td>Six Flags Magic Mountain</td>\n",
       "      <td>California</td>\n",
       "      <td>USA</td>\n",
       "      <td>28</td>\n",
       "      <td>100.0</td>\n",
       "      <td>415.0</td>\n",
       "      <td>328.10</td>\n",
       "      <td>1235.00</td>\n",
       "      <td>1997</td>\n",
       "      <td>0</td>\n",
       "    </tr>\n",
       "    <tr>\n",
       "      <th>2</th>\n",
       "      <td>Millennium Force</td>\n",
       "      <td>Cedar Point</td>\n",
       "      <td>Ohio</td>\n",
       "      <td>USA</td>\n",
       "      <td>165</td>\n",
       "      <td>93.0</td>\n",
       "      <td>310.0</td>\n",
       "      <td>300.00</td>\n",
       "      <td>6595.00</td>\n",
       "      <td>2000</td>\n",
       "      <td>0</td>\n",
       "    </tr>\n",
       "    <tr>\n",
       "      <th>3</th>\n",
       "      <td>Goliath</td>\n",
       "      <td>Six Flags Magic Mountain</td>\n",
       "      <td>California</td>\n",
       "      <td>USA</td>\n",
       "      <td>180</td>\n",
       "      <td>85.0</td>\n",
       "      <td>235.0</td>\n",
       "      <td>255.00</td>\n",
       "      <td>4500.00</td>\n",
       "      <td>2000</td>\n",
       "      <td>0</td>\n",
       "    </tr>\n",
       "    <tr>\n",
       "      <th>4</th>\n",
       "      <td>Titan</td>\n",
       "      <td>Space World</td>\n",
       "      <td>Kitakyushu</td>\n",
       "      <td>Japan</td>\n",
       "      <td>180</td>\n",
       "      <td>71.5</td>\n",
       "      <td>166.0</td>\n",
       "      <td>178.00</td>\n",
       "      <td>5019.67</td>\n",
       "      <td>1994</td>\n",
       "      <td>0</td>\n",
       "    </tr>\n",
       "    <tr>\n",
       "      <th>...</th>\n",
       "      <td>...</td>\n",
       "      <td>...</td>\n",
       "      <td>...</td>\n",
       "      <td>...</td>\n",
       "      <td>...</td>\n",
       "      <td>...</td>\n",
       "      <td>...</td>\n",
       "      <td>...</td>\n",
       "      <td>...</td>\n",
       "      <td>...</td>\n",
       "      <td>...</td>\n",
       "    </tr>\n",
       "    <tr>\n",
       "      <th>71</th>\n",
       "      <td>Oblivion</td>\n",
       "      <td>Alton Towers</td>\n",
       "      <td>Alton</td>\n",
       "      <td>England</td>\n",
       "      <td>75</td>\n",
       "      <td>68.0</td>\n",
       "      <td>65.0</td>\n",
       "      <td>180.00</td>\n",
       "      <td>1222.00</td>\n",
       "      <td>1998</td>\n",
       "      <td>0</td>\n",
       "    </tr>\n",
       "    <tr>\n",
       "      <th>72</th>\n",
       "      <td>Stunt Fall</td>\n",
       "      <td>Warner Bros. Movie World</td>\n",
       "      <td>San Martin de la Vega</td>\n",
       "      <td>Spain</td>\n",
       "      <td>92</td>\n",
       "      <td>65.6</td>\n",
       "      <td>191.6</td>\n",
       "      <td>177.00</td>\n",
       "      <td>1204.00</td>\n",
       "      <td>2002</td>\n",
       "      <td>3</td>\n",
       "    </tr>\n",
       "    <tr>\n",
       "      <th>73</th>\n",
       "      <td>Hayabusa</td>\n",
       "      <td>Tokyo SummerLand</td>\n",
       "      <td>Tokyo</td>\n",
       "      <td>Japan</td>\n",
       "      <td>108</td>\n",
       "      <td>60.3</td>\n",
       "      <td>137.8</td>\n",
       "      <td>124.67</td>\n",
       "      <td>2559.10</td>\n",
       "      <td>1992</td>\n",
       "      <td>0</td>\n",
       "    </tr>\n",
       "    <tr>\n",
       "      <th>74</th>\n",
       "      <td>Top Gun</td>\n",
       "      <td>Paramount Canada's Wonderland</td>\n",
       "      <td>Vaughan</td>\n",
       "      <td>Canada</td>\n",
       "      <td>125</td>\n",
       "      <td>56.0</td>\n",
       "      <td>102.0</td>\n",
       "      <td>93.00</td>\n",
       "      <td>2170.00</td>\n",
       "      <td>1995</td>\n",
       "      <td>5</td>\n",
       "    </tr>\n",
       "    <tr>\n",
       "      <th>75</th>\n",
       "      <td>Wild Beast</td>\n",
       "      <td>Paramount Canada's Wonderland</td>\n",
       "      <td>Vaughan</td>\n",
       "      <td>Canada</td>\n",
       "      <td>150</td>\n",
       "      <td>56.0</td>\n",
       "      <td>415.0</td>\n",
       "      <td>78.00</td>\n",
       "      <td>3150.00</td>\n",
       "      <td>1981</td>\n",
       "      <td>0</td>\n",
       "    </tr>\n",
       "  </tbody>\n",
       "</table>\n",
       "<p>76 rows × 11 columns</p>\n",
       "</div>"
      ],
      "text/plain": [
       "                   Name                           Park                  State  \\\n",
       "0   Top Thrill Dragster                    Cedar Point                   Ohio   \n",
       "1   Superman The Escape       Six Flags Magic Mountain             California   \n",
       "2      Millennium Force                    Cedar Point                   Ohio   \n",
       "3               Goliath       Six Flags Magic Mountain             California   \n",
       "4                 Titan                    Space World             Kitakyushu   \n",
       "..                  ...                            ...                    ...   \n",
       "71             Oblivion                   Alton Towers                  Alton   \n",
       "72           Stunt Fall       Warner Bros. Movie World  San Martin de la Vega   \n",
       "73             Hayabusa               Tokyo SummerLand                  Tokyo   \n",
       "74              Top Gun  Paramount Canada's Wonderland                Vaughan   \n",
       "75           Wild Beast  Paramount Canada's Wonderland                Vaughan   \n",
       "\n",
       "    Country  Duration  Speed  Height  VertDrop   Length  Yr_Opened  Inversions  \n",
       "0       USA        60  120.0   420.0    400.00  2800.00       2003           0  \n",
       "1       USA        28  100.0   415.0    328.10  1235.00       1997           0  \n",
       "2       USA       165   93.0   310.0    300.00  6595.00       2000           0  \n",
       "3       USA       180   85.0   235.0    255.00  4500.00       2000           0  \n",
       "4     Japan       180   71.5   166.0    178.00  5019.67       1994           0  \n",
       "..      ...       ...    ...     ...       ...      ...        ...         ...  \n",
       "71  England        75   68.0    65.0    180.00  1222.00       1998           0  \n",
       "72    Spain        92   65.6   191.6    177.00  1204.00       2002           3  \n",
       "73    Japan       108   60.3   137.8    124.67  2559.10       1992           0  \n",
       "74   Canada       125   56.0   102.0     93.00  2170.00       1995           5  \n",
       "75   Canada       150   56.0   415.0     78.00  3150.00       1981           0  \n",
       "\n",
       "[76 rows x 11 columns]"
      ]
     },
     "execution_count": 39,
     "metadata": {},
     "output_type": "execute_result"
    }
   ],
   "source": [
    "coasters_df"
   ]
  },
  {
   "cell_type": "markdown",
   "metadata": {},
   "source": [
    "What Linear Regression model shall we try?  The \"vertical drop\" and the \"speed\" would seem connected by the exceptionless law of gravity, whatever that is.  Let's check:"
   ]
  },
  {
   "cell_type": "code",
   "execution_count": 40,
   "metadata": {},
   "outputs": [
    {
     "data": {
      "image/png": "[encoded data removed]",
      "text/plain": [
       "<Figure size 432x432 with 3 Axes>"
      ]
     },
     "metadata": {
      "needs_background": "light"
     },
     "output_type": "display_data"
    }
   ],
   "source": [
    "sns.jointplot(kind=\"reg\", data=coasters_df, x=\"VertDrop\", y=\"Speed\");"
   ]
  },
  {
   "cell_type": "markdown",
   "metadata": {},
   "source": [
    "That seems like a pretty good fit if you ask me.  Call this the simplest of the Machine Learning model makers, the \"LRM\" or \"linear regression machine\".\n",
    "\n"
   ]
  },
  {
   "cell_type": "markdown",
   "metadata": {},
   "source": [
    "But now let's pause to exercise our secondary skills, which soon could become primary.  Let's modify our SQL:"
   ]
  },
  {
   "cell_type": "code",
   "execution_count": 41,
   "metadata": {},
   "outputs": [],
   "source": [
    "coasters_df = pd.read_sql(\"select name, park, state, country from Coasters ORDER BY country, state, name;\", con=conn)"
   ]
  },
  {
   "cell_type": "code",
   "execution_count": 42,
   "metadata": {},
   "outputs": [
    {
     "data": {
      "text/html": [
       "<div>\n",
       "<style scoped>\n",
       "    .dataframe tbody tr th:only-of-type {\n",
       "        vertical-align: middle;\n",
       "    }\n",
       "\n",
       "    .dataframe tbody tr th {\n",
       "        vertical-align: top;\n",
       "    }\n",
       "\n",
       "    .dataframe thead th {\n",
       "        text-align: right;\n",
       "    }\n",
       "</style>\n",
       "<table border=\"1\" class=\"dataframe\">\n",
       "  <thead>\n",
       "    <tr style=\"text-align: right;\">\n",
       "      <th></th>\n",
       "      <th>Name</th>\n",
       "      <th>Park</th>\n",
       "      <th>State</th>\n",
       "      <th>Country</th>\n",
       "    </tr>\n",
       "  </thead>\n",
       "  <tbody>\n",
       "    <tr>\n",
       "      <th>0</th>\n",
       "      <td>Tower of Terror</td>\n",
       "      <td>Dreamworld</td>\n",
       "      <td>Coomera</td>\n",
       "      <td>Australia</td>\n",
       "    </tr>\n",
       "    <tr>\n",
       "      <th>1</th>\n",
       "      <td>Top Gun</td>\n",
       "      <td>Paramount Canada's Wonderland</td>\n",
       "      <td>Vaughan</td>\n",
       "      <td>Canada</td>\n",
       "    </tr>\n",
       "    <tr>\n",
       "      <th>2</th>\n",
       "      <td>Wild Beast</td>\n",
       "      <td>Paramount Canada's Wonderland</td>\n",
       "      <td>Vaughan</td>\n",
       "      <td>Canada</td>\n",
       "    </tr>\n",
       "    <tr>\n",
       "      <th>3</th>\n",
       "      <td>Oblivion</td>\n",
       "      <td>Alton Towers</td>\n",
       "      <td>Alton</td>\n",
       "      <td>England</td>\n",
       "    </tr>\n",
       "    <tr>\n",
       "      <th>4</th>\n",
       "      <td>Fujiyama</td>\n",
       "      <td>Fuji-Q Highlands</td>\n",
       "      <td>FujiYoshida-shi</td>\n",
       "      <td>Japan</td>\n",
       "    </tr>\n",
       "    <tr>\n",
       "      <th>...</th>\n",
       "      <td>...</td>\n",
       "      <td>...</td>\n",
       "      <td>...</td>\n",
       "      <td>...</td>\n",
       "    </tr>\n",
       "    <tr>\n",
       "      <th>71</th>\n",
       "      <td>Alpengeist</td>\n",
       "      <td>Busch Gardens Williamsburg</td>\n",
       "      <td>Virginia</td>\n",
       "      <td>USA</td>\n",
       "    </tr>\n",
       "    <tr>\n",
       "      <th>72</th>\n",
       "      <td>Apollo's Chariot</td>\n",
       "      <td>Busch Gardens Williamsburg</td>\n",
       "      <td>Virginia</td>\n",
       "      <td>USA</td>\n",
       "    </tr>\n",
       "    <tr>\n",
       "      <th>73</th>\n",
       "      <td>HyperSonic XLC</td>\n",
       "      <td>Paramount's Kings Dominion</td>\n",
       "      <td>Virginia</td>\n",
       "      <td>USA</td>\n",
       "    </tr>\n",
       "    <tr>\n",
       "      <th>74</th>\n",
       "      <td>Volcano</td>\n",
       "      <td>Paramount's Kings Dominion</td>\n",
       "      <td>Virginia</td>\n",
       "      <td>USA</td>\n",
       "    </tr>\n",
       "    <tr>\n",
       "      <th>75</th>\n",
       "      <td>Coaster Thrill Ride</td>\n",
       "      <td>Puyallup Fair</td>\n",
       "      <td>Washington</td>\n",
       "      <td>USA</td>\n",
       "    </tr>\n",
       "  </tbody>\n",
       "</table>\n",
       "<p>76 rows × 4 columns</p>\n",
       "</div>"
      ],
      "text/plain": [
       "                   Name                           Park            State  \\\n",
       "0       Tower of Terror                     Dreamworld          Coomera   \n",
       "1               Top Gun  Paramount Canada's Wonderland          Vaughan   \n",
       "2            Wild Beast  Paramount Canada's Wonderland          Vaughan   \n",
       "3              Oblivion                   Alton Towers            Alton   \n",
       "4              Fujiyama               Fuji-Q Highlands  FujiYoshida-shi   \n",
       "..                  ...                            ...              ...   \n",
       "71           Alpengeist     Busch Gardens Williamsburg         Virginia   \n",
       "72     Apollo's Chariot     Busch Gardens Williamsburg         Virginia   \n",
       "73       HyperSonic XLC     Paramount's Kings Dominion         Virginia   \n",
       "74              Volcano     Paramount's Kings Dominion         Virginia   \n",
       "75  Coaster Thrill Ride                  Puyallup Fair       Washington   \n",
       "\n",
       "      Country  \n",
       "0   Australia  \n",
       "1      Canada  \n",
       "2      Canada  \n",
       "3     England  \n",
       "4       Japan  \n",
       "..        ...  \n",
       "71        USA  \n",
       "72        USA  \n",
       "73        USA  \n",
       "74        USA  \n",
       "75        USA  \n",
       "\n",
       "[76 rows x 4 columns]"
      ]
     },
     "execution_count": 42,
     "metadata": {},
     "output_type": "execute_result"
    }
   ],
   "source": [
    "coasters_df"
   ]
  },
  {
   "cell_type": "code",
   "execution_count": 43,
   "metadata": {},
   "outputs": [],
   "source": [
    "conn.close()"
   ]
  },
  {
   "cell_type": "markdown",
   "metadata": {
    "id": "yMowtQqH20Ir"
   },
   "source": [
    "### <p style=\"background-color:#ADD8E6; font-family:newtimeroman; color:#FFF9ED; font-size:150%; text-align:center; border-radius:10px 10px;\">Review:  Python's Context Manager Construct</p>\n",
    "\n",
    "We went down this rabbit hole at least once.  Or call it \"following a trail\" (they all branch into each other, in a large dark forest).\n",
    "\n",
    "The context manager is part of everyday Python.  There's a `contextlib` library that leverages their power."
   ]
  },
  {
   "cell_type": "code",
   "execution_count": 44,
   "metadata": {},
   "outputs": [],
   "source": [
    "class CM:\n",
    "    \n",
    "    def __init__(self, myname): # initializer\n",
    "        self.name = myname\n",
    "        \n",
    "    def __enter__(self):\n",
    "        print(\"with me('') as it:  do something with it\")\n",
    "        return self\n",
    "        \n",
    "    def __exit__(self, *oops):\n",
    "        print(\"done doing\")"
   ]
  },
  {
   "cell_type": "code",
   "execution_count": 45,
   "metadata": {},
   "outputs": [
    {
     "name": "stdout",
     "output_type": "stream",
     "text": [
      "with me('') as it:  do something with it\n",
      "I'm inside the context -- __enter__ has run\n",
      "talker\n",
      "I will exit now...\n",
      "done doing\n"
     ]
    }
   ],
   "source": [
    "with CM(\"talker\") as it:\n",
    "    print(\"I'm inside the context -- __enter__ has run\")\n",
    "    print(it.name)\n",
    "    print(\"I will exit now...\")"
   ]
  },
  {
   "cell_type": "markdown",
   "metadata": {},
   "source": [
    "Lets reuse that same basic skeleton to talk to databases."
   ]
  },
  {
   "cell_type": "code",
   "execution_count": 46,
   "metadata": {},
   "outputs": [],
   "source": [
    "import sqlite3 as sql\n",
    "\n",
    "class CM:\n",
    "    \n",
    "    def __init__(self, myname):\n",
    "        self.name = myname\n",
    "        \n",
    "    def __enter__(self):\n",
    "        try:\n",
    "            self.conn = sql.connect(self.name)\n",
    "        except:\n",
    "            print(\"No connection\")\n",
    "            raise\n",
    "        return self\n",
    "        \n",
    "    def __exit__(self, *oops):  # trap error data if any\n",
    "        self.conn.close()\n",
    "        if oops[0]:       # hoping oops is (None, None, None)\n",
    "            return False  # something exceptional happened\n",
    "        return True       # all OK"
   ]
  },
  {
   "cell_type": "code",
   "execution_count": 47,
   "metadata": {},
   "outputs": [
    {
     "name": "stdout",
     "output_type": "stream",
     "text": [
      "Afterburner\n",
      "Alpengeist\n",
      "American Eagle\n",
      "Apollo's Chariot\n",
      "Batman Knight Flight\n",
      "Beast\n",
      "Blue Streak\n",
      "Boss\n",
      "Cannon Ball\n",
      "Canyon Blaster\n",
      "Chang\n",
      "Cheetah\n",
      "Coaster Thrill Ride\n",
      "Colossus\n",
      "Comet\n",
      "Corkscrew\n",
      "Deja Vu\n",
      "Desperado\n",
      "Fujiyama\n",
      "Goliath\n",
      "Great American Scream Machine\n",
      "Hangman\n",
      "Hayabusa\n",
      "Hercules\n",
      "Hurricane\n",
      "HyperSonic XLC\n",
      "Incredible Hulk\n",
      "Invertigo\n",
      "Iron Wolf\n",
      "Kong\n",
      "Kraken\n",
      "Magnum XL-200\n",
      "Mamba\n",
      "Manhattan Express\n",
      "Mean Streak\n",
      "Medusa\n",
      "Millennium Force\n",
      "Mind Eraser\n",
      "New Mexico Rattler\n",
      "Nitro\n",
      "Oblivion\n",
      "Orient Express\n",
      "Phantom's Revenge\n",
      "Raging Bull\n",
      "Rattler\n",
      "Riddler's Revenge\n",
      "Scream!\n",
      "Screamin' Eagle\n",
      "Silver Bullet\n",
      "Son Of Beast\n",
      "Starliner\n",
      "Steel Dragon 2000\n",
      "Steel Eel\n",
      "Steel Force\n",
      "Stunt Fall\n",
      "Superman - Ride Of Steel\n",
      "Superman The Escape\n",
      "T2\n",
      "Tennessee Tornado\n",
      "Texas Giant\n",
      "Thunder Dolphin\n",
      "Thunderbolt\n",
      "Timber Wolf\n",
      "Titan\n",
      "Top Gun\n",
      "Top Thrill Dragster\n",
      "Tower of Terror\n",
      "Viper\n",
      "Volcano\n",
      "Whizzer\n",
      "Wild Beast\n",
      "Wild One\n",
      "Wild Thing\n",
      "Wildfire\n",
      "X\n",
      "Xcelerator\n",
      "--- GN\n",
      "--- Connection closed\n"
     ]
    },
    {
     "data": {
      "text/plain": [
       "<sqlite3.Connection at 0x7fae46b3ce40>"
      ]
     },
     "execution_count": 47,
     "metadata": {},
     "output_type": "execute_result"
    }
   ],
   "source": [
    "with CM(\"roller_coasters.db\") as db:\n",
    "    curs = db.conn.cursor()\n",
    "    curs.execute(\"select * from Coasters ORDER By name;\")\n",
    "    for rec in curs.fetchall():\n",
    "        print(rec[0])\n",
    "    print(\"--- GN\")\n",
    "print(\"--- Connection closed\")\n",
    "db.conn"
   ]
  },
  {
   "cell_type": "code",
   "execution_count": 48,
   "metadata": {},
   "outputs": [],
   "source": [
    "import os"
   ]
  },
  {
   "cell_type": "code",
   "execution_count": 49,
   "metadata": {},
   "outputs": [],
   "source": [
    "os.chdir(\"/Users/kirbyurner/Documents/elite_school\")"
   ]
  },
  {
   "cell_type": "code",
   "execution_count": 50,
   "metadata": {},
   "outputs": [
    {
     "name": "stdout",
     "output_type": "stream",
     "text": [
      "/Users/kirbyurner/Documents/elite_school\n"
     ]
    }
   ],
   "source": [
    "! pwd"
   ]
  }
 ],
 "metadata": {
  "colab": {
   "collapsed_sections": [],
   "name": "DV_capstone_solution.ipynb",
   "provenance": [],
   "toc_visible": true
  },
  "kernelspec": {
   "display_name": "Python 3 (ipykernel)",
   "language": "python",
   "name": "python3"
  },
  "language_info": {
   "codemirror_mode": {
    "name": "ipython",
    "version": 3
   },
   "file_extension": ".py",
   "mimetype": "text/x-python",
   "name": "python",
   "nbconvert_exporter": "python",
   "pygments_lexer": "ipython3",
   "version": "3.9.12"
  },
  "toc": {
   "base_numbering": 1,
   "nav_menu": {},
   "number_sections": false,
   "sideBar": true,
   "skip_h1_title": false,
   "title_cell": "Table of Contents",
   "title_sidebar": "Contents",
   "toc_cell": false,
   "toc_position": {},
   "toc_section_display": true,
   "toc_window_display": false
  }
 },
 "nbformat": 4,
 "nbformat_minor": 4
}
