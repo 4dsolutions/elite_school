{
 "cells": [
  {
   "cell_type": "markdown",
   "id": "418e00a6-4c90-40c5-9ac0-f52b68cc45e9",
   "metadata": {},
   "source": [
    "##### Python for High School\n",
    "\n",
    "* [Table of Contents](PY4HS.ipynb)\n",
    "* <a href=\"https://colab.research.google.com/github/4dsolutions/elite_school/blob/master/simple_mandelbrot.ipynb\"><img align=\"left\" src=\"https://colab.research.google.com/assets/colab-badge.svg\" alt=\"Open in Colab\" title=\"Open and Execute in Google Colaboratory\"></a>\n",
    "* [![nbviewer](https://raw.githubusercontent.com/jupyter/design/master/logos/Badges/nbviewer_badge.svg)](https://nbviewer.org/github/4dsolutions/elite_school/blob/master/simple_mandelbrot.ipynb)\n"
   ]
  },
  {
   "cell_type": "markdown",
   "id": "87903ed8-3df5-4ac1-a7bd-80b4d7d80edb",
   "metadata": {},
   "source": [
    "# Mandelbrot as ASCII Art"
   ]
  },
  {
   "cell_type": "code",
   "execution_count": 1,
   "id": "7f9c95ab-89bb-46e6-9a42-1e681368faf2",
   "metadata": {},
   "outputs": [
    {
     "data": {
      "text/plain": [
       "'3.11.3 | packaged by conda-forge | (main, Apr  6 2023, 09:05:00) [Clang 14.0.6 ]'"
      ]
     },
     "execution_count": 1,
     "metadata": {},
     "output_type": "execute_result"
    }
   ],
   "source": [
    "import numpy as np\n",
    "import sys; sys.version"
   ]
  },
  {
   "cell_type": "markdown",
   "id": "493844ed-2dbf-4dfe-8af3-def692d60c6e",
   "metadata": {},
   "source": [
    "Python has a built-in complex number type.  Use j instead of i."
   ]
  },
  {
   "cell_type": "code",
   "execution_count": 2,
   "id": "51b0423f-6f5f-4188-8059-66fbc2fdc2fc",
   "metadata": {},
   "outputs": [],
   "source": [
    "P = .1 + .1j"
   ]
  },
  {
   "cell_type": "code",
   "execution_count": 3,
   "id": "346c27e6-2926-44c6-ade5-5aaaa1e25e50",
   "metadata": {},
   "outputs": [],
   "source": [
    "def mandelbrot(c):\n",
    "    \"\"\"\n",
    "    iterate the Mandelbrot formula for each c\n",
    "    return length of the resulting vector: |z|\n",
    "    \"\"\"\n",
    "    z = 0 + 0j\n",
    "    for _ in range(5):  # number of iterations may be changed\n",
    "        z = z**2 + c\n",
    "    return abs(z)"
   ]
  },
  {
   "cell_type": "code",
   "execution_count": 4,
   "id": "5cdd8737-9239-4b7e-90ea-0bc87607835f",
   "metadata": {},
   "outputs": [
    {
     "data": {
      "text/plain": [
       "0.15465403705657763"
      ]
     },
     "execution_count": 4,
     "metadata": {},
     "output_type": "execute_result"
    }
   ],
   "source": [
    "mandelbrot(P)  # example"
   ]
  },
  {
   "cell_type": "markdown",
   "id": "a0acacbc-2457-4cbc-8413-725fd785c03d",
   "metadata": {},
   "source": [
    "To vectorize a function is to make it take array input and give array output."
   ]
  },
  {
   "cell_type": "code",
   "execution_count": 5,
   "id": "92a69903-a5c4-4a81-a391-afef3ab43b62",
   "metadata": {},
   "outputs": [],
   "source": [
    "mandelbrot = np.vectorize(mandelbrot)"
   ]
  },
  {
   "cell_type": "code",
   "execution_count": 6,
   "id": "79c586e7-9205-4c39-9bed-53e85d3251bb",
   "metadata": {},
   "outputs": [],
   "source": [
    "the_matrix = np.array([complex(x, y) for x in np.linspace(-4, 1, 300)\n",
    "                                     for y in np.linspace(-1.5, 1.5, 100)], \n",
    "                                     dtype='complex').reshape(300, 100)\n",
    "\n",
    "output = mandelbrot(the_matrix)"
   ]
  },
  {
   "cell_type": "code",
   "execution_count": 7,
   "id": "44864ce4-7b47-4d59-8ae7-a16625cc6334",
   "metadata": {},
   "outputs": [],
   "source": [
    "canvas = np.array(list(\" \"*300*100)).reshape(300,100)\n",
    "canvas[output < 2]   = \"@\"\n",
    "canvas[output < 1.5] = \"%\"\n",
    "canvas[output < 1]   = \"*\"\n",
    "canvas[output < .5]  = \"^\"\n",
    "canvas[output < .25] = \"!\""
   ]
  },
  {
   "cell_type": "code",
   "execution_count": 8,
   "id": "f66ade78-4def-4c8f-a250-638326256dd8",
   "metadata": {},
   "outputs": [],
   "source": [
    "fobj = open(\"m_set.txt\",\"w\")\n",
    "for row in canvas.T:\n",
    "    print(\"\".join(row), file=fobj)\n",
    "fobj.close()"
   ]
  },
  {
   "cell_type": "markdown",
   "id": "e62614b2-be24-4f71-95c2-364d089c12dc",
   "metadata": {},
   "source": [
    "<a data-flickr-embed=\"true\" href=\"https://www.flickr.com/photos/kirbyurner/53064932425/in/datetaken/\" title=\"Mandelbrot Set\"><img src=\"https://live.staticflickr.com/65535/53064932425_84564e6e01_o.png\" width=\"725\" height=\"747\" alt=\"Mandelbrot Set\"/></a><script async src=\"//embedr.flickr.com/assets/client-code.js\" charset=\"utf-8\"></script>"
   ]
  },
  {
   "cell_type": "markdown",
   "id": "ed09c1f1-9804-4b35-aeab-c4c4e033f600",
   "metadata": {},
   "source": [
    "[Deeper Into the Matrix](Py4HS_August_12_2022.ipynb) (higher rez)"
   ]
  }
 ],
 "metadata": {
  "kernelspec": {
   "display_name": "Python 3 (ipykernel)",
   "language": "python",
   "name": "python3"
  },
  "language_info": {
   "codemirror_mode": {
    "name": "ipython",
    "version": 3
   },
   "file_extension": ".py",
   "mimetype": "text/x-python",
   "name": "python",
   "nbconvert_exporter": "python",
   "pygments_lexer": "ipython3",
   "version": "3.11.3"
  }
 },
 "nbformat": 4,
 "nbformat_minor": 5
}
