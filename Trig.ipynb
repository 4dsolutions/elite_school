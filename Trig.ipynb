{
 "cells": [
  {
   "cell_type": "markdown",
   "id": "4ad1dbeb",
   "metadata": {},
   "source": [
    "[Home](Home.ipynb)\n",
    "\n",
    "# Trigonometry and Polyhedra\n",
    "\n",
    "We work backwards from the unit circle on the Argand Plane, and Euler's formula. Complex numbers make their appearance early on, as another number type, so we're ready for trig.\n",
    "\n",
    "\n",
    "$$\n",
    "e^{ \\pm i\\theta } = \\cos \\theta \\pm i\\sin \\theta\n",
    "$$\n",
    "\n",
    "$$\n",
    "e^{ i\\pi} = -1\n",
    "$$\n",
    "\n",
    "When we're not on the Complex Plane, but on an omni-triangulated sphere, or zoomed in to a beach (flat surface) a lot of the same concepts will apply.  Triangles and tetrahedra pop up everywhere.\n",
    "\n",
    "We practice using Python as a graphing calculator by doing plots with pandas."
   ]
  },
  {
   "cell_type": "code",
   "execution_count": 1,
   "id": "407c6360",
   "metadata": {},
   "outputs": [],
   "source": [
    "import pandas as pd\n",
    "import numpy as np"
   ]
  },
  {
   "cell_type": "code",
   "execution_count": 2,
   "id": "b5550aa7",
   "metadata": {},
   "outputs": [],
   "source": [
    "domain = pd.Series(np.linspace(-2*np.pi, 2*np.pi, 200))\n",
    "\n",
    "sine   = pd.Series(np.sin(domain))\n",
    "cosine = pd.Series(np.cos(domain))\n",
    "\n",
    "table  = pd.DataFrame({\"Domain\":domain, \"Sine\":sine, \"Cosine\":cosine})"
   ]
  },
  {
   "cell_type": "code",
   "execution_count": 3,
   "id": "39a073d5",
   "metadata": {},
   "outputs": [
    {
     "data": {
      "text/html": [
       "<div>\n",
       "<style scoped>\n",
       "    .dataframe tbody tr th:only-of-type {\n",
       "        vertical-align: middle;\n",
       "    }\n",
       "\n",
       "    .dataframe tbody tr th {\n",
       "        vertical-align: top;\n",
       "    }\n",
       "\n",
       "    .dataframe thead th {\n",
       "        text-align: right;\n",
       "    }\n",
       "</style>\n",
       "<table border=\"1\" class=\"dataframe\">\n",
       "  <thead>\n",
       "    <tr style=\"text-align: right;\">\n",
       "      <th></th>\n",
       "      <th>Domain</th>\n",
       "      <th>Sine</th>\n",
       "      <th>Cosine</th>\n",
       "    </tr>\n",
       "  </thead>\n",
       "  <tbody>\n",
       "    <tr>\n",
       "      <th>95</th>\n",
       "      <td>-0.284164</td>\n",
       "      <td>-0.280355</td>\n",
       "      <td>0.959896</td>\n",
       "    </tr>\n",
       "    <tr>\n",
       "      <th>96</th>\n",
       "      <td>-0.221017</td>\n",
       "      <td>-0.219222</td>\n",
       "      <td>0.975675</td>\n",
       "    </tr>\n",
       "    <tr>\n",
       "      <th>97</th>\n",
       "      <td>-0.157869</td>\n",
       "      <td>-0.157214</td>\n",
       "      <td>0.987565</td>\n",
       "    </tr>\n",
       "    <tr>\n",
       "      <th>98</th>\n",
       "      <td>-0.094721</td>\n",
       "      <td>-0.094580</td>\n",
       "      <td>0.995517</td>\n",
       "    </tr>\n",
       "    <tr>\n",
       "      <th>99</th>\n",
       "      <td>-0.031574</td>\n",
       "      <td>-0.031569</td>\n",
       "      <td>0.999502</td>\n",
       "    </tr>\n",
       "    <tr>\n",
       "      <th>100</th>\n",
       "      <td>0.031574</td>\n",
       "      <td>0.031569</td>\n",
       "      <td>0.999502</td>\n",
       "    </tr>\n",
       "    <tr>\n",
       "      <th>101</th>\n",
       "      <td>0.094721</td>\n",
       "      <td>0.094580</td>\n",
       "      <td>0.995517</td>\n",
       "    </tr>\n",
       "    <tr>\n",
       "      <th>102</th>\n",
       "      <td>0.157869</td>\n",
       "      <td>0.157214</td>\n",
       "      <td>0.987565</td>\n",
       "    </tr>\n",
       "    <tr>\n",
       "      <th>103</th>\n",
       "      <td>0.221017</td>\n",
       "      <td>0.219222</td>\n",
       "      <td>0.975675</td>\n",
       "    </tr>\n",
       "    <tr>\n",
       "      <th>104</th>\n",
       "      <td>0.284164</td>\n",
       "      <td>0.280355</td>\n",
       "      <td>0.959896</td>\n",
       "    </tr>\n",
       "  </tbody>\n",
       "</table>\n",
       "</div>"
      ],
      "text/plain": [
       "       Domain      Sine    Cosine\n",
       "95  -0.284164 -0.280355  0.959896\n",
       "96  -0.221017 -0.219222  0.975675\n",
       "97  -0.157869 -0.157214  0.987565\n",
       "98  -0.094721 -0.094580  0.995517\n",
       "99  -0.031574 -0.031569  0.999502\n",
       "100  0.031574  0.031569  0.999502\n",
       "101  0.094721  0.094580  0.995517\n",
       "102  0.157869  0.157214  0.987565\n",
       "103  0.221017  0.219222  0.975675\n",
       "104  0.284164  0.280355  0.959896"
      ]
     },
     "execution_count": 3,
     "metadata": {},
     "output_type": "execute_result"
    }
   ],
   "source": [
    "table[95:105]"
   ]
  },
  {
   "cell_type": "code",
   "execution_count": 4,
   "id": "ebb4bb53",
   "metadata": {},
   "outputs": [],
   "source": [
    "# ? table.plot"
   ]
  },
  {
   "cell_type": "code",
   "execution_count": 5,
   "id": "57a7fb5c",
   "metadata": {},
   "outputs": [
    {
     "data": {
      "image/png": "[encoded data removed]",
      "text/plain": [
       "<Figure size 432x288 with 1 Axes>"
      ]
     },
     "metadata": {
      "needs_background": "light"
     },
     "output_type": "display_data"
    }
   ],
   "source": [
    "table.plot(x= \"Domain\", y=[\"Sine\", \"Cosine\"], grid=True, title=\"Trig Functions\");"
   ]
  },
  {
   "cell_type": "markdown",
   "id": "a3faf963",
   "metadata": {},
   "source": [
    "### The Omnitriangulated Sphere\n",
    "\n",
    "Starting with a spherical icosahedron, and subdividing each of the twenty triangles, with arcs parallel to each of triangle's edges, begets an omni-triangulated sphere.\n",
    "\n",
    "<a data-flickr-embed=\"true\" href=\"https://www.flickr.com/photos/kirbyurner/3859887274/in/dateposted-public/\" title=\"6-Frequency\"><img src=\"https://live.staticflickr.com/2570/3859887274_09d9387982.jpg\" width=\"375\" height=\"500\" alt=\"6-Frequency\"></a><script async src=\"//embedr.flickr.com/assets/client-code.js\" charset=\"utf-8\"></script>\n",
    "\n",
    "A first concept to visit at this point is that of Descartes' Deficit.  As the number of triangles increases, the degrees around each vertex approaches 360, but never gets there, because each vertex contributes a tiny amount to the 720 \"missing degrees\" overall.  \n",
    "\n",
    "In other words, the number of degrees less than 360, around every vertex, add up to 720.  Why not confirm this with a cube, octahedron, tetrahedron (which latter also has 720 degrees).\n",
    "\n",
    "Each vertex of a regular tetrahedron has 60 + 60 + 60 = 180 degrees, with is 180 less than 360.  Each of four vertexes contributes the \"missing 180\" adding up to 720.\n",
    "\n",
    "Other identities apply regarding our sphere, such as:\n",
    "\n",
    "* $V + F = E + 2$\n",
    "* $N:F:E = 1:2:3$ where $N = V-2$\n",
    "* $V = 10\\ F^{2}\\ +\\ 2$ where $F$ = Frequency"
   ]
  },
  {
   "cell_type": "markdown",
   "id": "5932cc7d",
   "metadata": {},
   "source": [
    "*Recommended Reading:*\n",
    "\n",
    "[Divided Spheres](http://www.dividedspheres.com/) by Ed Popko"
   ]
  },
  {
   "cell_type": "markdown",
   "id": "e5a21b53",
   "metadata": {},
   "source": [
    "### The Goldberg Polyhedra\n",
    "\n",
    "<img src=\"https://upload.wikimedia.org/wikipedia/commons/5/54/Goldberg_polyhedron_6_4.png\" width=\"300\" height=\"300\">\n",
    "\n",
    "Omnitriangulated spheres of specific frequencies (number of intervals along each major edge) may be turned into polyhedrons with all hexagonal and twelve pentagonal facets.  These are known as Goldberg Polyhedra, named for Michael Goldberg."
   ]
  },
  {
   "cell_type": "markdown",
   "id": "b8d319d1",
   "metadata": {},
   "source": [
    "Resources:\n",
    "\n",
    "* [Goldberg Polyhedra](https://en.wikipedia.org/wiki/Goldberg_polyhedron)\n",
    "* [Antiprism](http://antiprism.com)"
   ]
  },
  {
   "cell_type": "markdown",
   "id": "e678d526",
   "metadata": {},
   "source": [
    "### The Waterman Polyhedra\n",
    "\n",
    "<a data-flickr-embed=\"true\" href=\"https://www.flickr.com/photos/kirbyurner/51395771856/in/dateposted-public/\" title=\"Waterman Polyhedron\"><img src=\"https://live.staticflickr.com/65535/51395771856_d197097fff_w.jpg\" width=\"389\" height=\"400\" alt=\"Waterman Polyhedron\"></a><script async src=\"//embedr.flickr.com/assets/client-code.js\" charset=\"utf-8\"></script>\n",
    "\n",
    "Start your polyhedron with its body center, and all starting vertexes, equally distant from that center, at the centers of CCP spheres.  See [Quadrays](Quadrays.ipynb) for more about the CCP lattice.\n",
    "\n",
    "In other words, start with a maximal radius sweeping out points of contact with maximally equi-distant CCP spheres. \n",
    "\n",
    "Now compute the maximum convex hull incorporating all these vertexes *and any others of lesser distance* nevertheless at CCP ball centers. This process defines the Waterman Polyhedron for that radius.\n",
    "\n",
    "The simplest Waterman would therefore be the cuboctahedron of twelve CCP balls around one.  As the radius increases, the polyhedron becomes more spherical.\n",
    "\n",
    "Watermans all have whole number tetravolumes given they may be subdivided into all-IVM-corner tetrahedra (each corner is a CCP ball center). Those have [whole number tetravolume](Quadrays.ipynb), so their sum must as well."
   ]
  },
  {
   "cell_type": "markdown",
   "id": "a78a5b5f",
   "metadata": {},
   "source": [
    "Resources:\n",
    "\n",
    "* [Waterman Polyhedron](https://en.wikipedia.org/wiki/Waterman_polyhedron)\n",
    "* [Paul Bourke on Watermans](http://paulbourke.net/geometry/waterman/)"
   ]
  },
  {
   "cell_type": "markdown",
   "id": "920c4f1e",
   "metadata": {},
   "source": [
    "### Space-filling Tetrahedra\n",
    "\n",
    "This topic connects several mathematicians, including Michael Goldberg, to Buckminster Fuller's invented vocabulary of A, B, S, T & E modules, Mite (AAB), Sytes, Kites and so on.\n",
    "\n",
    "<a data-flickr-embed=\"true\" href=\"https://www.flickr.com/photos/kirbyurner/4073112337/in/photolist-25JufgG-NYVxaA-ujipN3-f75zUP-8ryECF-8ryEix-7pQH9f-7pLP7a-7mcmne-7cVLoM-5zY9gA-5zTRjp-7k4Eid-7jZLe2-7k4Ejf-7k4Em5-7jZLhp\" title=\"A &amp; B Modules\"><img src=\"https://live.staticflickr.com/3508/4073112337_4d0bb5b0b4_o.gif\" width=\"320\" height=\"240\" alt=\"A &amp; B Modules\"></a><script async src=\"//embedr.flickr.com/assets/client-code.js\" charset=\"utf-8\"></script>"
   ]
  },
  {
   "cell_type": "code",
   "execution_count": 6,
   "id": "81a42c71",
   "metadata": {},
   "outputs": [],
   "source": [
    "from IPython.display import YouTubeVideo"
   ]
  },
  {
   "cell_type": "markdown",
   "id": "a52f7c39",
   "metadata": {},
   "source": [
    "Curate your own Youtubes?"
   ]
  }
 ],
 "metadata": {
  "kernelspec": {
   "display_name": "Python 3 (ipykernel)",
   "language": "python",
   "name": "python3"
  },
  "language_info": {
   "codemirror_mode": {
    "name": "ipython",
    "version": 3
   },
   "file_extension": ".py",
   "mimetype": "text/x-python",
   "name": "python",
   "nbconvert_exporter": "python",
   "pygments_lexer": "ipython3",
   "version": "3.9.12"
  }
 },
 "nbformat": 4,
 "nbformat_minor": 5
}
