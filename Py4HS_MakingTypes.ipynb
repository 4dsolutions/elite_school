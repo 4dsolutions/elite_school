{
 "cells": [
  {
   "cell_type": "markdown",
   "id": "4e3b0fdf-600d-4838-a0b8-5e8201b49fc0",
   "metadata": {},
   "source": [
    "# Python for High School:  Making Types\n",
    "\n",
    "The idea of \"types\" is less a matter of computer science or mathematics, and more a matter of ordinary language, wherein we learn to group things by their type.\n",
    "\n",
    "The screwdriver is a type of tool.  A car is a type of motorvehicle.  A motorvehicle is a type of vehicle.\n",
    "\n",
    "If I say \"Sheila is a type of animal\" then the game might be to guess which one. \n",
    "\n",
    "Is Sheila a dog, cat, octopus or parrot?  \n",
    "\n",
    "Depending on which \"type\" (or \"species\") of animal Sheila is, we might expect certain capabilities, behaviors, attributes.  If Sheila is a giraffe, we would expect she has a long neck.\n",
    "\n",
    "Humans have presumably learned to typify objects ever since they started thinking, whenever that was (a matter of ongoing research).  Identifying the type of something, say a plant, is a core survival skill.\n",
    "\n",
    "Which plants are safe to eat?  We know by recognizing their type.\n",
    "\n",
    "### Type-Oriented Computer Languages\n",
    "\n",
    "\"Oriented\" means \"pointing in that direction\" or \"especially fit for that use\".  Python is both type oriented and object oriented.  We think in terms of objects, each of a specific type or types (an object may be of more than one type in Python).\n",
    "\n",
    "In Python and other similar computer languages (such as Java), we're free to set up a kind of \"type scheme\" like an \"ecosystem\" of several animals, in a mix other other objects.  Perhaps a \"jungle\" would be a good word, in terms of variety and propensity to grow.  \n",
    "\n",
    "This jungle is designed to get work done in some way.\n",
    "\n",
    "Let's code up a Parrot type:"
   ]
  },
  {
   "cell_type": "code",
   "execution_count": 13,
   "id": "626ceb8f-0e41-4740-9bc9-878bcae2d233",
   "metadata": {},
   "outputs": [],
   "source": [
    "class Parrot:\n",
    "    \"\"\"\n",
    "    A type -- same idea as class (the class of all Parrots)\n",
    "    \"\"\"\n",
    "    \n",
    "    def __init__(self, nm):\n",
    "        # triggered by calling Parrot\n",
    "        self.name = nm\n",
    "        \n",
    "    def __call__(self, say_it):\n",
    "        # triggered by calling a Parrot self\n",
    "        return f\"{self.name} says '{say_it}'\"\n",
    "    \n",
    "    def __repr__(self):\n",
    "        # represents a Parrot self, called \"the repper\"\n",
    "        return f\"Parrot named {self.name}\""
   ]
  },
  {
   "cell_type": "markdown",
   "id": "e4c77920-cf91-4e07-9bf8-e0011fe91e34",
   "metadata": {},
   "source": [
    "You may remember from meetup one, our introduction to \"special names\" (also known as \"magic methods\").  They're the ones with the double-underline on both sides.  Python uses the underline character extensively.  That's one of its hallmark traits.\n",
    "\n",
    "```__repr__```, for example, the last method under Parrot (it didn't have to be last -- method order is arbitrary meaning it doesn't matter), is a special name, and what we call \"the repper\". \n",
    "\n",
    "When an object needs to represent itself as a string, a set of characters, this method will be used.  Unless, that is, there's also an ```__str__``` in which case it gets priority.  We'll try that later."
   ]
  },
  {
   "cell_type": "code",
   "execution_count": 18,
   "id": "6a3e3a0b-eab6-4e5a-a8d2-813fa67684eb",
   "metadata": {},
   "outputs": [],
   "source": [
    "pet = Parrot(\"Sheila\")  # create an instance of the Parrot type, triggers __init__"
   ]
  },
  {
   "cell_type": "code",
   "execution_count": 19,
   "id": "6669abb8-e1ad-44dd-9c5c-2e2566082c0a",
   "metadata": {},
   "outputs": [
    {
     "data": {
      "text/plain": [
       "Parrot named Sheila"
      ]
     },
     "execution_count": 19,
     "metadata": {},
     "output_type": "execute_result"
    }
   ],
   "source": [
    "pet  # __repr__ fires (executes)"
   ]
  },
  {
   "cell_type": "code",
   "execution_count": 16,
   "id": "b7a1eadd-4b36-45d0-bd2d-1b1d3dc8673c",
   "metadata": {},
   "outputs": [
    {
     "data": {
      "text/plain": [
       "__main__.Parrot"
      ]
     },
     "execution_count": 16,
     "metadata": {},
     "output_type": "execute_result"
    }
   ],
   "source": [
    "type(pet)  # what type of object am I?  repper of the class itself"
   ]
  },
  {
   "cell_type": "code",
   "execution_count": 17,
   "id": "65d43605-6f14-47f0-91b8-c1cebbf05dc5",
   "metadata": {},
   "outputs": [
    {
     "data": {
      "text/plain": [
       "True"
      ]
     },
     "execution_count": 17,
     "metadata": {},
     "output_type": "execute_result"
    }
   ],
   "source": [
    "isinstance(pet, Parrot)  # am I an instance of a Parrot?"
   ]
  },
  {
   "cell_type": "code",
   "execution_count": 20,
   "id": "2d066726-d948-4f35-9376-9bcd4d2f2da2",
   "metadata": {},
   "outputs": [
    {
     "data": {
      "text/plain": [
       "\"Sheila says 'Hello! Hello!'\""
      ]
     },
     "execution_count": 20,
     "metadata": {},
     "output_type": "execute_result"
    }
   ],
   "source": [
    "pet(\"Hello! Hello!\")  # triggers __call__"
   ]
  },
  {
   "cell_type": "markdown",
   "id": "a84d20f4-b95d-49be-abf3-0d9424a7aca8",
   "metadata": {},
   "source": [
    "Now lets make a Dog type (same as class) that does a little more:"
   ]
  },
  {
   "cell_type": "code",
   "execution_count": 27,
   "id": "b704d998-8f72-48d8-893c-8f803d1c0bcb",
   "metadata": {},
   "outputs": [],
   "source": [
    "class Dog:\n",
    "    \"\"\"\n",
    "    A type\n",
    "    \"\"\"\n",
    "    \n",
    "    def __init__(self, nm):\n",
    "        self.name = nm\n",
    "        self.stomach = [ ]\n",
    "        \n",
    "    def eat(self, food):\n",
    "        self(food) # triggers __call__\n",
    "        \n",
    "    def __call__(self, food):\n",
    "        self.stomach.append(food)\n",
    "    \n",
    "    def __repr__(self):\n",
    "        return f\"Dog named {self.name}\""
   ]
  },
  {
   "cell_type": "code",
   "execution_count": 28,
   "id": "70b4a3d8-966a-49ed-944b-236ce327919f",
   "metadata": {},
   "outputs": [],
   "source": [
    "dog_1 = Dog(\"Rover\")"
   ]
  },
  {
   "cell_type": "code",
   "execution_count": 30,
   "id": "4672b0dc-26ab-47e0-a59a-3044408759ba",
   "metadata": {},
   "outputs": [
    {
     "data": {
      "text/plain": [
       "Dog named Rover"
      ]
     },
     "execution_count": 30,
     "metadata": {},
     "output_type": "execute_result"
    }
   ],
   "source": [
    "dog_1"
   ]
  },
  {
   "cell_type": "code",
   "execution_count": 31,
   "id": "7d733434-22e0-445a-ab82-77090155d682",
   "metadata": {},
   "outputs": [],
   "source": [
    "dog_1.eat('🍕')  # could be the word 'pizza' also"
   ]
  },
  {
   "cell_type": "code",
   "execution_count": 32,
   "id": "0867f25d-38e3-48e3-90f0-ae914186c28f",
   "metadata": {},
   "outputs": [
    {
     "data": {
      "text/plain": [
       "['🍕']"
      ]
     },
     "execution_count": 32,
     "metadata": {},
     "output_type": "execute_result"
    }
   ],
   "source": [
    "dog_1.stomach"
   ]
  },
  {
   "cell_type": "code",
   "execution_count": 33,
   "id": "2c8f741b-0c30-4fe4-88f7-187f974557de",
   "metadata": {},
   "outputs": [],
   "source": [
    "dog_1('🍩')  # same as .eat, but this time a donut"
   ]
  },
  {
   "cell_type": "code",
   "execution_count": 34,
   "id": "903dd3b5-d919-4dea-ab30-0234e186b225",
   "metadata": {},
   "outputs": [
    {
     "data": {
      "text/plain": [
       "['🍕', '🍩']"
      ]
     },
     "execution_count": 34,
     "metadata": {},
     "output_type": "execute_result"
    }
   ],
   "source": [
    "dog_1.stomach"
   ]
  }
 ],
 "metadata": {
  "kernelspec": {
   "display_name": "Python 3 (ipykernel)",
   "language": "python",
   "name": "python3"
  },
  "language_info": {
   "codemirror_mode": {
    "name": "ipython",
    "version": 3
   },
   "file_extension": ".py",
   "mimetype": "text/x-python",
   "name": "python",
   "nbconvert_exporter": "python",
   "pygments_lexer": "ipython3",
   "version": "3.9.12"
  }
 },
 "nbformat": 4,
 "nbformat_minor": 5
}
