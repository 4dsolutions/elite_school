{
 "cells": [
  {
   "cell_type": "markdown",
   "id": "4e3b0fdf-600d-4838-a0b8-5e8201b49fc0",
   "metadata": {},
   "source": [
    "# Python for High School:  Making Types\n",
    "\n",
    "The idea of \"types\" is less a matter of computer science or mathematics, and more a matter of ordinary language, wherein we learn to group things by their type.\n",
    "\n",
    "The screwdriver is a type of tool.  A car is a type of motorvehicle.  A motorvehicle is a type of vehicle.\n",
    "\n",
    "If I say \"Sheila is a type of animal\" then the game might be to guess which one. \n",
    "\n",
    "Is Sheila a dog, cat, octopus or parrot?  \n",
    "\n",
    "Depending on which \"type\" (or \"species\") of animal Sheila is, we might expect certain capabilities, behaviors, attributes.  If Sheila is a giraffe, we would expect she has a long neck.\n",
    "\n",
    "Humans have presumably learned to typify objects ever since they started thinking, whenever that was (a matter of ongoing research).  Identifying the type of something, say a plant, is a core survival skill.\n",
    "\n",
    "Which plants are safe to eat?  We know by recognizing their type.\n",
    "\n",
    "### Type-Oriented Computer Languages\n",
    "\n",
    "\"Oriented\" means \"pointing in that direction\" or \"especially fit for that use\".  Python is both type oriented and object oriented.  We think in terms of objects, each of a specific type or types (an object may be of more than one type in Python).\n",
    "\n",
    "In Python and other similar computer languages (such as Java), we're free to set up a kind of \"type scheme\" like an \"ecosystem\" of several animals, in a mix with other objects.  Perhaps a \"jungle\" would be a good word, in terms of variety and propensity to grow.  \n",
    "\n",
    "This jungle is designed to get work done in some way.  The surrounding Notebook is perhaps our guide book, explaining what's here and what it does.\n",
    "\n",
    "Let's code up a Parrot type:"
   ]
  },
  {
   "cell_type": "code",
   "execution_count": 1,
   "id": "626ceb8f-0e41-4740-9bc9-878bcae2d233",
   "metadata": {},
   "outputs": [],
   "source": [
    "class Parrot:\n",
    "    \"\"\"\n",
    "    A type -- same idea as class (the class of all Parrots)\n",
    "    \"\"\"\n",
    "    \n",
    "    def __init__(self, nm):\n",
    "        # triggered by calling Parrot\n",
    "        self.name = nm\n",
    "        \n",
    "    def __call__(self, say_it):\n",
    "        # triggered by calling a Parrot self\n",
    "        return f\"{self.name} says '{say_it}'\"\n",
    "    \n",
    "    def __repr__(self):\n",
    "        # represents a Parrot self, called \"the repper\"\n",
    "        return f\"Parrot named {self.name}\""
   ]
  },
  {
   "cell_type": "markdown",
   "id": "e4c77920-cf91-4e07-9bf8-e0011fe91e34",
   "metadata": {},
   "source": [
    "You may remember from meetup one, our introduction to \"special names\" (also known as \"magic methods\").  They're the ones with the double-underline on both sides.  Python uses the underline character extensively.  That's one of its hallmark traits.\n",
    "\n",
    "```__repr__```, for example, the last method under Parrot (it didn't have to be last -- method order is arbitrary meaning it doesn't matter), is a special name, and what we call \"the repper\". \n",
    "\n",
    "When an object needs to represent itself as a string, a set of characters, this method will be used.  Unless, that is, there's also an ```__str__``` in which case it gets priority.  We'll try that later."
   ]
  },
  {
   "cell_type": "code",
   "execution_count": 2,
   "id": "6a3e3a0b-eab6-4e5a-a8d2-813fa67684eb",
   "metadata": {},
   "outputs": [],
   "source": [
    "pet = Parrot(\"Sheila\")  # create an instance of the Parrot type, triggers __init__"
   ]
  },
  {
   "cell_type": "code",
   "execution_count": 3,
   "id": "6669abb8-e1ad-44dd-9c5c-2e2566082c0a",
   "metadata": {},
   "outputs": [
    {
     "data": {
      "text/plain": [
       "Parrot named Sheila"
      ]
     },
     "execution_count": 3,
     "metadata": {},
     "output_type": "execute_result"
    }
   ],
   "source": [
    "pet  # __repr__ fires (executes)"
   ]
  },
  {
   "cell_type": "code",
   "execution_count": 4,
   "id": "b7a1eadd-4b36-45d0-bd2d-1b1d3dc8673c",
   "metadata": {},
   "outputs": [
    {
     "data": {
      "text/plain": [
       "__main__.Parrot"
      ]
     },
     "execution_count": 4,
     "metadata": {},
     "output_type": "execute_result"
    }
   ],
   "source": [
    "type(pet)  # what type of object am I?  repper of the class itself"
   ]
  },
  {
   "cell_type": "code",
   "execution_count": 5,
   "id": "65d43605-6f14-47f0-91b8-c1cebbf05dc5",
   "metadata": {},
   "outputs": [
    {
     "data": {
      "text/plain": [
       "True"
      ]
     },
     "execution_count": 5,
     "metadata": {},
     "output_type": "execute_result"
    }
   ],
   "source": [
    "isinstance(pet, Parrot)  # am I an instance of a Parrot?"
   ]
  },
  {
   "cell_type": "code",
   "execution_count": 6,
   "id": "2d066726-d948-4f35-9376-9bcd4d2f2da2",
   "metadata": {},
   "outputs": [
    {
     "data": {
      "text/plain": [
       "\"Sheila says 'Hello! Hello!'\""
      ]
     },
     "execution_count": 6,
     "metadata": {},
     "output_type": "execute_result"
    }
   ],
   "source": [
    "pet(\"Hello! Hello!\")  # triggers __call__"
   ]
  },
  {
   "cell_type": "markdown",
   "id": "a84d20f4-b95d-49be-abf3-0d9424a7aca8",
   "metadata": {},
   "source": [
    "Now lets make a Dog type (same as class) that does a little more:"
   ]
  },
  {
   "cell_type": "code",
   "execution_count": 7,
   "id": "b704d998-8f72-48d8-893c-8f803d1c0bcb",
   "metadata": {},
   "outputs": [],
   "source": [
    "class Dog:\n",
    "    \"\"\"\n",
    "    A type\n",
    "    \"\"\"\n",
    "    \n",
    "    def __init__(self, nm):\n",
    "        self.name = nm\n",
    "        self.stomach = [ ]\n",
    "        \n",
    "    def eat(self, food):\n",
    "        self(food) # triggers __call__\n",
    "        \n",
    "    def __call__(self, food):\n",
    "        self.stomach.append(food)\n",
    "    \n",
    "    def __repr__(self):\n",
    "        return f\"Dog named {self.name}\""
   ]
  },
  {
   "cell_type": "code",
   "execution_count": 8,
   "id": "70b4a3d8-966a-49ed-944b-236ce327919f",
   "metadata": {},
   "outputs": [],
   "source": [
    "dog_1 = Dog(\"Rover\")"
   ]
  },
  {
   "cell_type": "code",
   "execution_count": 9,
   "id": "4672b0dc-26ab-47e0-a59a-3044408759ba",
   "metadata": {},
   "outputs": [
    {
     "data": {
      "text/plain": [
       "Dog named Rover"
      ]
     },
     "execution_count": 9,
     "metadata": {},
     "output_type": "execute_result"
    }
   ],
   "source": [
    "dog_1"
   ]
  },
  {
   "cell_type": "code",
   "execution_count": 10,
   "id": "7d733434-22e0-445a-ab82-77090155d682",
   "metadata": {},
   "outputs": [],
   "source": [
    "dog_1.eat('🍕')  # could be the word 'pizza' also"
   ]
  },
  {
   "cell_type": "code",
   "execution_count": 11,
   "id": "0867f25d-38e3-48e3-90f0-ae914186c28f",
   "metadata": {},
   "outputs": [
    {
     "data": {
      "text/plain": [
       "['🍕']"
      ]
     },
     "execution_count": 11,
     "metadata": {},
     "output_type": "execute_result"
    }
   ],
   "source": [
    "dog_1.stomach"
   ]
  },
  {
   "cell_type": "code",
   "execution_count": 12,
   "id": "2c8f741b-0c30-4fe4-88f7-187f974557de",
   "metadata": {},
   "outputs": [],
   "source": [
    "dog_1('🍩')  # same as .eat, but this time a donut"
   ]
  },
  {
   "cell_type": "code",
   "execution_count": 13,
   "id": "903dd3b5-d919-4dea-ab30-0234e186b225",
   "metadata": {},
   "outputs": [
    {
     "data": {
      "text/plain": [
       "['🍕', '🍩']"
      ]
     },
     "execution_count": 13,
     "metadata": {},
     "output_type": "execute_result"
    }
   ],
   "source": [
    "dog_1.stomach"
   ]
  },
  {
   "cell_type": "code",
   "execution_count": 14,
   "id": "e5081b8d-b2cd-49fa-afc4-c29ea0a3f950",
   "metadata": {},
   "outputs": [],
   "source": [
    "class Bird:\n",
    "    \"\"\"\n",
    "    Adapted from Parrot, adding __str__\n",
    "    \"\"\"\n",
    "    \n",
    "    def __init__(self, nm):\n",
    "        self.name = nm\n",
    "        \n",
    "    def __call__(self, say_it):\n",
    "        return f\"{self.name} says '{say_it}'\"\n",
    "    \n",
    "    def __repr__(self):\n",
    "        return f\"{self.__class__.__name__} named {self.name}\"\n",
    "    \n",
    "    def __str__(self):\n",
    "        # testing what this does\n",
    "        return f\"I am {self.name}\""
   ]
  },
  {
   "cell_type": "code",
   "execution_count": 15,
   "id": "1e949ab7-a26c-4dc1-91a5-c8020e5ca804",
   "metadata": {},
   "outputs": [],
   "source": [
    "crow = Bird(\"123\")"
   ]
  },
  {
   "cell_type": "code",
   "execution_count": 16,
   "id": "275e7f7a-bd4e-4a57-a0d5-46bf29fd76af",
   "metadata": {},
   "outputs": [
    {
     "name": "stdout",
     "output_type": "stream",
     "text": [
      "I am 123\n"
     ]
    }
   ],
   "source": [
    "print(crow)  # triggers __str__"
   ]
  },
  {
   "cell_type": "code",
   "execution_count": 17,
   "id": "5986653a-dab9-4da7-9550-4db6d4ca99cd",
   "metadata": {},
   "outputs": [
    {
     "data": {
      "text/plain": [
       "Bird named 123"
      ]
     },
     "execution_count": 17,
     "metadata": {},
     "output_type": "execute_result"
    }
   ],
   "source": [
    "crow         # triggers __repr__"
   ]
  },
  {
   "cell_type": "markdown",
   "id": "8887365f-9fda-4cd8-bdb5-eb5383dde6c4",
   "metadata": {},
   "source": [
    "Lets remember how Parrot works.  We still have `pet` from earlier, an instance of the Parrot type."
   ]
  },
  {
   "cell_type": "code",
   "execution_count": 18,
   "id": "da6486e3-b1a3-4cea-b9c8-48ae92ddad79",
   "metadata": {},
   "outputs": [
    {
     "data": {
      "text/plain": [
       "Parrot named Sheila"
      ]
     },
     "execution_count": 18,
     "metadata": {},
     "output_type": "execute_result"
    }
   ],
   "source": [
    "pet"
   ]
  },
  {
   "cell_type": "markdown",
   "id": "86e65581-8ea7-4c04-84bf-12eaf19584e0",
   "metadata": {},
   "source": [
    "The rule is, print(obj) which fires str(obj), will look for a ```__str__``` method first, allowing it to be something different from ```__repr__```.  Oft times when designing types, a programmer will appreciate having this optional distinction, between ```__str__``` and ```__repr__```."
   ]
  },
  {
   "cell_type": "code",
   "execution_count": 19,
   "id": "513b878f-b1a8-4b3d-a1bf-41a981b24282",
   "metadata": {},
   "outputs": [
    {
     "name": "stdout",
     "output_type": "stream",
     "text": [
      "Parrot named Sheila\n"
     ]
    }
   ],
   "source": [
    "print(pet)  # to __str__ so fall back to __repr__"
   ]
  },
  {
   "cell_type": "code",
   "execution_count": 20,
   "id": "3e65961c-3b91-4196-a570-50efad0920a1",
   "metadata": {},
   "outputs": [
    {
     "data": {
      "text/plain": [
       "'Parrot named Sheila'"
      ]
     },
     "execution_count": 20,
     "metadata": {},
     "output_type": "execute_result"
    }
   ],
   "source": [
    "str(pet)"
   ]
  },
  {
   "cell_type": "code",
   "execution_count": 21,
   "id": "1d02a66b-29ad-464f-b257-32264d198679",
   "metadata": {},
   "outputs": [
    {
     "data": {
      "text/plain": [
       "'Parrot named Sheila'"
      ]
     },
     "execution_count": 21,
     "metadata": {},
     "output_type": "execute_result"
    }
   ],
   "source": [
    "repr(pet)"
   ]
  },
  {
   "cell_type": "code",
   "execution_count": 22,
   "id": "1f074d2b-36b0-4835-b919-bebe375d9cf1",
   "metadata": {},
   "outputs": [
    {
     "data": {
      "text/plain": [
       "'Bird named 123'"
      ]
     },
     "execution_count": 22,
     "metadata": {},
     "output_type": "execute_result"
    }
   ],
   "source": [
    "repr(crow)  # fire the repper"
   ]
  },
  {
   "cell_type": "markdown",
   "id": "1cfc9365-8c37-405a-be02-93dc0cc294b9",
   "metadata": {},
   "source": [
    "*And now for something completely different*\n",
    "\n",
    "[Ornery Type](https://replit.com/@kurner/Ornery-Type#main.py)\n",
    "\n",
    "If the link is operational, it will take you to a codepen at Replit where a class named Ornery is defined.  \n",
    "\n",
    "\"Ornery\" means \"in a bad mood\" which is the theme for this type's personality.  \n",
    "\n",
    "The special names are the usual ones that Python offers.  Remember that we do not invent our own special names unless we are extending the Python language itself.  That's not what we usually want to do.  The special names we're given are well thought out, and Python knows exactly what to do with each one of them.\n",
    "\n",
    "The code is actually here in this repo as well, so why not just load it?"
   ]
  },
  {
   "cell_type": "code",
   "execution_count": 23,
   "id": "da2b91cb-1268-4851-bc8f-18707a161405",
   "metadata": {},
   "outputs": [],
   "source": [
    "# %load ornery.py\n",
    "\"\"\"\n",
    "This type of object gets along with nobody!\n",
    "\n",
    "自 = self in Chinese, disregard errors\n",
    "\"\"\"\n",
    "\n",
    "class Ornery:\n",
    "\n",
    "    def __init__(自, name=\"Fred\"):\n",
    "        自.name = name\n",
    "        print(\"A sourpuss is born!\")\n",
    "\n",
    "    def __getitem__(自, key):\n",
    "        return \"How dare you touch me with those brackets!\"\n",
    "\n",
    "    def __call__(自, *args, **kwargs):\n",
    "        return \"Don't call me at home!\"\n",
    "\n",
    "    def __getattr__(自, attr):\n",
    "        return \"I'm insulted you'd suppose I'd have {}\".format(attr)\n",
    "\n",
    "    def __repr__(自):\n",
    "        return \"Don't bother me!  Go away.\"\n",
    "\n",
    "    def __invert__(自):\n",
    "        return \"I can't invert, are you kidding?\"\n"
   ]
  }
 ],
 "metadata": {
  "kernelspec": {
   "display_name": "Python 3 (ipykernel)",
   "language": "python",
   "name": "python3"
  },
  "language_info": {
   "codemirror_mode": {
    "name": "ipython",
    "version": 3
   },
   "file_extension": ".py",
   "mimetype": "text/x-python",
   "name": "python",
   "nbconvert_exporter": "python",
   "pygments_lexer": "ipython3",
   "version": "3.9.12"
  }
 },
 "nbformat": 4,
 "nbformat_minor": 5
}
