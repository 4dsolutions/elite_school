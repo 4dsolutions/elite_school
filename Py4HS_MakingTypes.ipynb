{
 "cells": [
  {
   "cell_type": "markdown",
   "id": "5d8233ae-f69c-4ca4-a33a-1cbc997a0f63",
   "metadata": {},
   "source": [
    "##### Python for High School (Summer 2022)\n",
    "\n",
    "* [Table of Contents](PY4HS.ipynb)\n",
    "* <a href=\"https://colab.research.google.com/github/4dsolutions/elite_school/blob/master/Py4HS_MakingTypes.ipynb\"><img align=\"left\" src=\"https://colab.research.google.com/assets/colab-badge.svg\" alt=\"Open in Colab\" title=\"Open and Execute in Google Colaboratory\"></a>\n",
    "* [![nbviewer](https://raw.githubusercontent.com/jupyter/design/master/logos/Badges/nbviewer_badge.svg)](https://nbviewer.org/github/4dsolutions/elite_school/blob/master/Py4HS_MakingTypes.ipynb)\n",
    "\n"
   ]
  },
  {
   "cell_type": "code",
   "execution_count": 1,
   "id": "75689977-4789-4536-87b7-eb44ca5beee8",
   "metadata": {},
   "outputs": [
    {
     "name": "stdout",
     "output_type": "stream",
     "text": [
      "2022-07-08T13:41:54.956566\n"
     ]
    }
   ],
   "source": [
    "import datetime\n",
    "print(datetime.datetime.now().isoformat())"
   ]
  },
  {
   "cell_type": "markdown",
   "id": "4e3b0fdf-600d-4838-a0b8-5e8201b49fc0",
   "metadata": {},
   "source": [
    "# Python for High School:  Making Types\n",
    "\n",
    "The idea of \"types\" is less a matter of computer science or mathematics, and more a matter of ordinary language, wherein we learn to group things by their type.\n",
    "\n",
    "The screwdriver is a type of tool.  A car is a type of motorvehicle.  A motorvehicle is a type of vehicle.\n",
    "\n",
    "If I say \"Sheila is a type of animal\" then the game might be to guess which one. \n",
    "\n",
    "Is Sheila a dog, cat, octopus or parrot?  \n",
    "\n",
    "Depending on which \"type\" (or \"species\") of animal Sheila is, we might expect certain capabilities, behaviors, attributes.  If Sheila is a giraffe, we would expect she has a long neck.\n",
    "\n",
    "Humans have presumably learned to typify objects ever since they started thinking, whenever that was (a matter of ongoing research).  Identifying the type of something, say a plant, is a core survival skill.\n",
    "\n",
    "Which plants are safe to eat?  We know by recognizing their type.\n",
    "\n",
    "### Type-Oriented Computer Languages\n",
    "\n",
    "\"Oriented\" means \"pointing in that direction\" or \"especially fit for that use\".  Python is both type oriented and object oriented.  We think in terms of objects, each of a specific type or types (an object may be of more than one type in Python).\n",
    "\n",
    "In Python and other similar computer languages (such as Java), we're free to set up a kind of \"type scheme\" like an \"ecosystem\" of several kinds of object.  Perhaps a \"jungle\" would be a good word, in terms of variety and propensity to grow.  \n",
    "\n",
    "This jungle is designed to get work done in some way. One object gets data from a gigantic database. Another object wraps that data in pretty-to-look-at styling (HTML + CSS).  These objects pass objects between them.\n",
    "\n",
    "The surrounding Notebook is perhaps our guide book, explaining what's here and what it does.\n",
    "\n",
    "Let's code up a Parrot type:"
   ]
  },
  {
   "cell_type": "code",
   "execution_count": 2,
   "id": "626ceb8f-0e41-4740-9bc9-878bcae2d233",
   "metadata": {},
   "outputs": [],
   "source": [
    "class Parrot:\n",
    "    \"\"\"\n",
    "    A type -- same idea as class (the class of all Parrots)\n",
    "    \"\"\"\n",
    "    \n",
    "    def __init__(self, nm):\n",
    "        # triggered by calling Parrot\n",
    "        self.name = nm\n",
    "        \n",
    "    def __call__(self, say_it):\n",
    "        # triggered by calling a Parrot self\n",
    "        return f\"{self.name} says '{say_it}'\"\n",
    "    \n",
    "    def __repr__(self):\n",
    "        # represents a Parrot self, called \"the repper\"\n",
    "        return f\"Parrot named {self.name}\""
   ]
  },
  {
   "cell_type": "markdown",
   "id": "e4c77920-cf91-4e07-9bf8-e0011fe91e34",
   "metadata": {},
   "source": [
    "You may remember from meetup one, our introduction to \"special names\" (also known as \"magic methods\").  They're the ones with the double-underline on both sides.  Python uses the underline character extensively.  That's one of its hallmark traits.\n",
    "\n",
    "```__repr__```, for example, the last method under Parrot (it didn't have to be last -- method order is arbitrary meaning it doesn't matter), is a special name, and what we call \"the repper\". \n",
    "\n",
    "When an object needs to represent itself as a string, a set of characters, this method will be used.  Unless, that is, there's also an ```__str__``` in which case it gets priority.  We'll try that later."
   ]
  },
  {
   "cell_type": "code",
   "execution_count": 3,
   "id": "6a3e3a0b-eab6-4e5a-a8d2-813fa67684eb",
   "metadata": {},
   "outputs": [],
   "source": [
    "pet = Parrot(\"Sheila\")  # create an instance of the Parrot type, triggers __init__"
   ]
  },
  {
   "cell_type": "code",
   "execution_count": 4,
   "id": "6669abb8-e1ad-44dd-9c5c-2e2566082c0a",
   "metadata": {},
   "outputs": [
    {
     "data": {
      "text/plain": [
       "Parrot named Sheila"
      ]
     },
     "execution_count": 4,
     "metadata": {},
     "output_type": "execute_result"
    }
   ],
   "source": [
    "pet  # __repr__ fires (executes)"
   ]
  },
  {
   "cell_type": "code",
   "execution_count": 5,
   "id": "b7a1eadd-4b36-45d0-bd2d-1b1d3dc8673c",
   "metadata": {},
   "outputs": [
    {
     "data": {
      "text/plain": [
       "__main__.Parrot"
      ]
     },
     "execution_count": 5,
     "metadata": {},
     "output_type": "execute_result"
    }
   ],
   "source": [
    "type(pet)  # what type of object am I?  repper of the class itself"
   ]
  },
  {
   "cell_type": "code",
   "execution_count": 6,
   "id": "65d43605-6f14-47f0-91b8-c1cebbf05dc5",
   "metadata": {},
   "outputs": [
    {
     "data": {
      "text/plain": [
       "True"
      ]
     },
     "execution_count": 6,
     "metadata": {},
     "output_type": "execute_result"
    }
   ],
   "source": [
    "isinstance(pet, Parrot)  # am I an instance of a Parrot?"
   ]
  },
  {
   "cell_type": "code",
   "execution_count": 7,
   "id": "2d066726-d948-4f35-9376-9bcd4d2f2da2",
   "metadata": {},
   "outputs": [
    {
     "data": {
      "text/plain": [
       "\"Sheila says 'Hello! Hello!'\""
      ]
     },
     "execution_count": 7,
     "metadata": {},
     "output_type": "execute_result"
    }
   ],
   "source": [
    "pet(\"Hello! Hello!\")  # triggers __call__"
   ]
  },
  {
   "cell_type": "markdown",
   "id": "a84d20f4-b95d-49be-abf3-0d9424a7aca8",
   "metadata": {},
   "source": [
    "<a data-flickr-embed=\"true\" href=\"https://www.flickr.com/photos/kirbyurner/2999363697/in/album-72157600265608223/\" title=\"Weird Sarah Again\"><img src=\"https://live.staticflickr.com/3275/2999363697_33bb11856b_n.jpg\" width=\"320\" height=\"240\" alt=\"Weird Sarah Again\"></a><script async src=\"//embedr.flickr.com/assets/client-code.js\" charset=\"utf-8\"></script>\n",
    "\n",
    "Now lets make a Dog type (same as class) that does a little more:"
   ]
  },
  {
   "cell_type": "code",
   "execution_count": 8,
   "id": "b704d998-8f72-48d8-893c-8f803d1c0bcb",
   "metadata": {},
   "outputs": [],
   "source": [
    "class Dog:\n",
    "    \"\"\"\n",
    "    A type\n",
    "    \"\"\"\n",
    "    \n",
    "    def __init__(self, nm):\n",
    "        self.name = nm\n",
    "        self.stomach = [ ]\n",
    "        \n",
    "    def eat(self, food):\n",
    "        self(food) # triggers __call__\n",
    "        \n",
    "    def __call__(self, food):\n",
    "        self.stomach.append(food)\n",
    "    \n",
    "    def __repr__(self):\n",
    "        return f\"Dog named {self.name}\""
   ]
  },
  {
   "cell_type": "code",
   "execution_count": 9,
   "id": "70b4a3d8-966a-49ed-944b-236ce327919f",
   "metadata": {},
   "outputs": [],
   "source": [
    "dog_1 = Dog(\"Rover\")"
   ]
  },
  {
   "cell_type": "code",
   "execution_count": 10,
   "id": "4672b0dc-26ab-47e0-a59a-3044408759ba",
   "metadata": {},
   "outputs": [
    {
     "data": {
      "text/plain": [
       "Dog named Rover"
      ]
     },
     "execution_count": 10,
     "metadata": {},
     "output_type": "execute_result"
    }
   ],
   "source": [
    "dog_1"
   ]
  },
  {
   "cell_type": "code",
   "execution_count": 11,
   "id": "7d733434-22e0-445a-ab82-77090155d682",
   "metadata": {},
   "outputs": [],
   "source": [
    "dog_1.eat('🍕')  # could be the word 'pizza' also"
   ]
  },
  {
   "cell_type": "code",
   "execution_count": 12,
   "id": "0867f25d-38e3-48e3-90f0-ae914186c28f",
   "metadata": {},
   "outputs": [
    {
     "data": {
      "text/plain": [
       "['🍕']"
      ]
     },
     "execution_count": 12,
     "metadata": {},
     "output_type": "execute_result"
    }
   ],
   "source": [
    "dog_1.stomach"
   ]
  },
  {
   "cell_type": "code",
   "execution_count": 13,
   "id": "2c8f741b-0c30-4fe4-88f7-187f974557de",
   "metadata": {},
   "outputs": [],
   "source": [
    "dog_1('🍩')  # same as .eat, but this time a donut"
   ]
  },
  {
   "cell_type": "code",
   "execution_count": 14,
   "id": "903dd3b5-d919-4dea-ab30-0234e186b225",
   "metadata": {},
   "outputs": [
    {
     "data": {
      "text/plain": [
       "['🍕', '🍩']"
      ]
     },
     "execution_count": 14,
     "metadata": {},
     "output_type": "execute_result"
    }
   ],
   "source": [
    "dog_1.stomach"
   ]
  },
  {
   "cell_type": "code",
   "execution_count": 15,
   "id": "354daac8-4b5e-4048-a0eb-5eb8150bedcd",
   "metadata": {},
   "outputs": [
    {
     "data": {
      "text/plain": [
       "[Dog named Rover, Dog named Sheila, Dog named Fido, Dog named Wolfie]"
      ]
     },
     "execution_count": 15,
     "metadata": {},
     "output_type": "execute_result"
    }
   ],
   "source": [
    "from random import choice\n",
    "\n",
    "# warning: this is not healthy food for a real dog.  For learning purposes only.\n",
    "foods = set(['🍩', '🍌', '🍪', '🍕']).union(['🍩','🍨', '🍰','🍪'])\n",
    "\n",
    "foods = list(foods)  # choice uses left-to-right indexing so convert to a list\n",
    "\n",
    "kennel = [Dog(\"Rover\"), Dog(\"Sheila\"), Dog(\"Fido\"), Dog(\"Wolfie\")]\n",
    "\n",
    "for dog in kennel:\n",
    "    for _ in range(3):\n",
    "        dog.eat(choice(foods))\n",
    "\n",
    "kennel"
   ]
  },
  {
   "cell_type": "code",
   "execution_count": 16,
   "id": "76c2cd1f-4eb8-4a9c-9262-8b573c360b8c",
   "metadata": {},
   "outputs": [
    {
     "name": "stdout",
     "output_type": "stream",
     "text": [
      "Rover     : ['🍌', '🍨', '🍕']\n",
      "Sheila    : ['🍩', '🍰', '🍌']\n",
      "Fido      : ['🍌', '🍪', '🍰']\n",
      "Wolfie    : ['🍌', '🍕', '🍨']\n"
     ]
    }
   ],
   "source": [
    "for dog in kennel:\n",
    "    print(f\"{dog.name:<10}: {dog.stomach}\")"
   ]
  },
  {
   "cell_type": "markdown",
   "id": "67de5179-50ec-4222-a4ce-769c8113f527",
   "metadata": {},
   "source": [
    "<a data-flickr-embed=\"true\" href=\"https://www.flickr.com/photos/kirbyurner/46933855071/\" title=\"Crows\"><img src=\"https://live.staticflickr.com/7894/46933855071_cf9fdfab7d_n.jpg\" width=\"320\" height=\"320\" alt=\"Crows\"></a><script async src=\"//embedr.flickr.com/assets/client-code.js\" charset=\"utf-8\"></script>\n",
    "\n",
    "Back to our Parrot, but modified, to become a Bird:"
   ]
  },
  {
   "cell_type": "code",
   "execution_count": 17,
   "id": "e5081b8d-b2cd-49fa-afc4-c29ea0a3f950",
   "metadata": {},
   "outputs": [],
   "source": [
    "class Bird:\n",
    "    \"\"\"\n",
    "    Adapted from Parrot, adding __str__\n",
    "    \"\"\"\n",
    "    \n",
    "    def __init__(self, nm):\n",
    "        self.name = nm\n",
    "        \n",
    "    def __call__(self, say_it):\n",
    "        return f\"{self.name} says '{say_it}'\"\n",
    "    \n",
    "    def __repr__(self):\n",
    "        return f\"{self.__class__.__name__} named {self.name}\"\n",
    "    \n",
    "    def __str__(self):\n",
    "        # testing what this does\n",
    "        return f\"I am {self.name}\""
   ]
  },
  {
   "cell_type": "code",
   "execution_count": 18,
   "id": "1e949ab7-a26c-4dc1-91a5-c8020e5ca804",
   "metadata": {},
   "outputs": [],
   "source": [
    "crow = Bird(\"123\")"
   ]
  },
  {
   "cell_type": "code",
   "execution_count": 19,
   "id": "275e7f7a-bd4e-4a57-a0d5-46bf29fd76af",
   "metadata": {},
   "outputs": [
    {
     "name": "stdout",
     "output_type": "stream",
     "text": [
      "I am 123\n"
     ]
    }
   ],
   "source": [
    "print(crow)  # triggers __str__"
   ]
  },
  {
   "cell_type": "code",
   "execution_count": 20,
   "id": "5986653a-dab9-4da7-9550-4db6d4ca99cd",
   "metadata": {},
   "outputs": [
    {
     "data": {
      "text/plain": [
       "Bird named 123"
      ]
     },
     "execution_count": 20,
     "metadata": {},
     "output_type": "execute_result"
    }
   ],
   "source": [
    "crow         # triggers __repr__"
   ]
  },
  {
   "cell_type": "markdown",
   "id": "8887365f-9fda-4cd8-bdb5-eb5383dde6c4",
   "metadata": {},
   "source": [
    "Lets remember how Parrot works.  We still have `pet` from earlier, an instance of the Parrot type."
   ]
  },
  {
   "cell_type": "code",
   "execution_count": 21,
   "id": "da6486e3-b1a3-4cea-b9c8-48ae92ddad79",
   "metadata": {},
   "outputs": [
    {
     "data": {
      "text/plain": [
       "Parrot named Sheila"
      ]
     },
     "execution_count": 21,
     "metadata": {},
     "output_type": "execute_result"
    }
   ],
   "source": [
    "pet"
   ]
  },
  {
   "cell_type": "markdown",
   "id": "86e65581-8ea7-4c04-84bf-12eaf19584e0",
   "metadata": {},
   "source": [
    "The rule is, print(obj) which fires str(obj), will look for a ```__str__``` method first, allowing it to be something different from ```__repr__```.  Oft times when designing types, a programmer will appreciate having this optional distinction, between ```__str__``` and ```__repr__```."
   ]
  },
  {
   "cell_type": "code",
   "execution_count": 22,
   "id": "513b878f-b1a8-4b3d-a1bf-41a981b24282",
   "metadata": {},
   "outputs": [
    {
     "name": "stdout",
     "output_type": "stream",
     "text": [
      "Parrot named Sheila\n"
     ]
    }
   ],
   "source": [
    "print(pet)  # to __str__ so fall back to __repr__"
   ]
  },
  {
   "cell_type": "code",
   "execution_count": 23,
   "id": "3e65961c-3b91-4196-a570-50efad0920a1",
   "metadata": {},
   "outputs": [
    {
     "data": {
      "text/plain": [
       "'Parrot named Sheila'"
      ]
     },
     "execution_count": 23,
     "metadata": {},
     "output_type": "execute_result"
    }
   ],
   "source": [
    "str(pet)"
   ]
  },
  {
   "cell_type": "code",
   "execution_count": 24,
   "id": "1d02a66b-29ad-464f-b257-32264d198679",
   "metadata": {},
   "outputs": [
    {
     "data": {
      "text/plain": [
       "'Parrot named Sheila'"
      ]
     },
     "execution_count": 24,
     "metadata": {},
     "output_type": "execute_result"
    }
   ],
   "source": [
    "repr(pet)"
   ]
  },
  {
   "cell_type": "code",
   "execution_count": 25,
   "id": "1f074d2b-36b0-4835-b919-bebe375d9cf1",
   "metadata": {},
   "outputs": [
    {
     "data": {
      "text/plain": [
       "'Bird named 123'"
      ]
     },
     "execution_count": 25,
     "metadata": {},
     "output_type": "execute_result"
    }
   ],
   "source": [
    "repr(crow)  # fire the repper"
   ]
  },
  {
   "cell_type": "markdown",
   "id": "8eb6aa6e-1cdd-43f5-9331-a15c95350ae7",
   "metadata": {},
   "source": [
    "## More About Special Names\n",
    "\n",
    "*And now for something completely different*\n",
    "\n",
    "[Ornery Type](https://replit.com/@kurner/Ornery-Type#main.py)\n",
    "\n",
    "If the link is operational, it will take you to a codepen at Replit where a class named Ornery is defined.  \n",
    "\n",
    "\"Ornery\" means \"in a bad mood\" which is the theme for this type's personality.  \n",
    "\n",
    "The special names are more of the usual ones that Python offers, not names we make up.  \n",
    "\n",
    "How does an object work with brackets?  That's for ```__setitem__``` and ```__getitem__``` to determine. \n",
    "\n",
    "How should an object behave when we access it with a dot (the \"accessor\"?).  That's a job for ```__getattr__``` (pronounced \"get atter\").  We want an object to check for the attribute and only run ```__getattr__``` as a last resort, if the attribute is not located."
   ]
  },
  {
   "cell_type": "code",
   "execution_count": 26,
   "id": "599fccf9-aac8-42ae-ae3c-bf2324c4a23f",
   "metadata": {},
   "outputs": [],
   "source": [
    "class Anything:\n",
    "    \n",
    "    def __getattr__(self, attr):\n",
    "        print(f\"Do something with {attr}\")"
   ]
  },
  {
   "cell_type": "code",
   "execution_count": 27,
   "id": "1af5dd03-9f68-4238-866c-f73a4d81b649",
   "metadata": {},
   "outputs": [],
   "source": [
    "any_object = Anything()\n",
    "\n",
    "# give it some attributes\n",
    "any_object.color = \"brown\"\n",
    "any_object.edible = True\n",
    "any_object.name = \"cookie\""
   ]
  },
  {
   "cell_type": "code",
   "execution_count": 28,
   "id": "908dec0f-746d-4627-af99-e1d4c96675de",
   "metadata": {},
   "outputs": [
    {
     "data": {
      "text/plain": [
       "{'color': 'brown', 'edible': True, 'name': 'cookie'}"
      ]
     },
     "execution_count": 28,
     "metadata": {},
     "output_type": "execute_result"
    }
   ],
   "source": [
    "any_object.__dict__  # here's where internal attributes get saved"
   ]
  },
  {
   "cell_type": "code",
   "execution_count": 29,
   "id": "8c865e4c-1139-4da2-9afe-7836f613cf11",
   "metadata": {},
   "outputs": [
    {
     "data": {
      "text/plain": [
       "'brown'"
      ]
     },
     "execution_count": 29,
     "metadata": {},
     "output_type": "execute_result"
    }
   ],
   "source": [
    "any_object.color"
   ]
  },
  {
   "cell_type": "code",
   "execution_count": 30,
   "id": "126847c5-87ba-49f2-9fc2-0b80cc451a07",
   "metadata": {},
   "outputs": [
    {
     "name": "stdout",
     "output_type": "stream",
     "text": [
      "Do something with age\n"
     ]
    }
   ],
   "source": [
    "any_object.age  # this doesn't exist, so run __getattr__"
   ]
  },
  {
   "cell_type": "markdown",
   "id": "b6e71b71-7d33-44fe-ab4f-6ede6d483765",
   "metadata": {},
   "source": [
    "Remember that we do not invent our own special names unless we are extending the Python language itself.  That's not what we usually want to do.  The special names we're given are well thought out, and Python knows exactly what to do with each one of them.\n",
    "\n",
    "The code is actually here in this repo as well, so why not just load it?"
   ]
  },
  {
   "cell_type": "code",
   "execution_count": 31,
   "id": "da2b91cb-1268-4851-bc8f-18707a161405",
   "metadata": {},
   "outputs": [],
   "source": [
    "# %load ornery.py\n",
    "\"\"\"\n",
    "This type of object gets along with nobody!\n",
    "\n",
    "自 = self in Chinese, disregard errors\n",
    "\"\"\"\n",
    "\n",
    "class Ornery:\n",
    "\n",
    "    def __init__(自, name=\"Fred\"):\n",
    "        自.name = name\n",
    "        print(\"A sourpuss is born!\")\n",
    "\n",
    "    def __getitem__(自, key):\n",
    "        return \"How dare you touch me with those brackets!\"\n",
    "\n",
    "    def __call__(自, *args, **kwargs):\n",
    "        return \"Don't call me at home!\"\n",
    "\n",
    "    def __getattr__(自, attr):\n",
    "        return \"I'm insulted you'd suppose I'd have {}\".format(attr)\n",
    "\n",
    "    def __repr__(自):\n",
    "        return \"Don't bother me!  Go away.\"\n",
    "\n",
    "    def __invert__(自):\n",
    "        return \"I can't invert, are you kidding?\"\n"
   ]
  },
  {
   "cell_type": "markdown",
   "id": "bb74f6c8-9e23-4cfe-9a45-c90f50314b92",
   "metadata": {},
   "source": [
    "## Operator Overloading\n",
    "\n",
    "How does any of this stuff relate to mathematics?  \n",
    "\n",
    "We have seen the beginnings of data structures and algorithms (methods), working together in the form of types, with objects of those types.\n",
    "\n",
    "In Python, some of the special names govern the behavior of mathematical operators, such as the add, subtract, multiply and divide symbols:  +, -, \\*, /.  As a programmer, you are allowed to specify what these will do when used with your own types."
   ]
  },
  {
   "cell_type": "code",
   "execution_count": 32,
   "id": "6106cfb8-3290-447b-81e0-3570793d6045",
   "metadata": {},
   "outputs": [],
   "source": [
    "class Concatter:\n",
    "    \n",
    "    def __init__(self, chrs):\n",
    "        self.value = chrs\n",
    "        \n",
    "    def __add__(self, other):\n",
    "        return Concatter(self.value + other.value)\n",
    "    \n",
    "    def __str__(self):\n",
    "        return self.value\n",
    "    \n",
    "    def __repr__(self):\n",
    "        return f\"Concatter('{self.value}')\""
   ]
  },
  {
   "cell_type": "code",
   "execution_count": 33,
   "id": "94eb0aca-8a71-49ac-a01e-fa1c9f6b742a",
   "metadata": {},
   "outputs": [],
   "source": [
    "c1 = Concatter(\"The cat\")\n",
    "c2 = Concatter(\" chased\")\n",
    "c3 = Concatter(\" the mouse!\")"
   ]
  },
  {
   "cell_type": "code",
   "execution_count": 34,
   "id": "b6b15bfc-5e4c-4d77-9146-340a3eb4fbb3",
   "metadata": {},
   "outputs": [
    {
     "data": {
      "text/plain": [
       "Concatter('The cat')"
      ]
     },
     "execution_count": 34,
     "metadata": {},
     "output_type": "execute_result"
    }
   ],
   "source": [
    "c1"
   ]
  },
  {
   "cell_type": "code",
   "execution_count": 35,
   "id": "51a5de54-6710-43e5-a102-893fb6457da8",
   "metadata": {
    "tags": []
   },
   "outputs": [
    {
     "data": {
      "text/plain": [
       "Concatter('The cat chased')"
      ]
     },
     "execution_count": 35,
     "metadata": {},
     "output_type": "execute_result"
    }
   ],
   "source": [
    "c1 + c2"
   ]
  },
  {
   "cell_type": "code",
   "execution_count": 36,
   "id": "400baaca-8bce-464d-a17f-5e1d407d8e33",
   "metadata": {},
   "outputs": [
    {
     "data": {
      "text/plain": [
       "Concatter('The cat chased the mouse!')"
      ]
     },
     "execution_count": 36,
     "metadata": {},
     "output_type": "execute_result"
    }
   ],
   "source": [
    "c1 + c2 + c3"
   ]
  },
  {
   "cell_type": "code",
   "execution_count": 37,
   "id": "5b0c4d4d-2271-4b02-a470-0bdc9f474f71",
   "metadata": {},
   "outputs": [
    {
     "name": "stdout",
     "output_type": "stream",
     "text": [
      "The cat chased the mouse!\n"
     ]
    }
   ],
   "source": [
    "print(c1 + c2 + c3)"
   ]
  },
  {
   "cell_type": "markdown",
   "id": "bbf4ecb7-5edf-4551-9f23-a817f4e6418a",
   "metadata": {},
   "source": [
    "The string type all by itself is already perfectly able to concatenate with other strings, by means of the plus sign operator.  \n",
    "\n",
    "The Concatter type is therefore not really needed for anything, except to show how ```__add__``` works.  \n",
    "\n",
    "The ```__add__``` method is fired whenever a Concatter object is followed with a plus symbol (+)."
   ]
  },
  {
   "cell_type": "code",
   "execution_count": 38,
   "id": "2caca047-52e5-4e32-ae61-7f788ad6a01b",
   "metadata": {},
   "outputs": [
    {
     "data": {
      "text/plain": [
       "Concatter('The cat the mouse!')"
      ]
     },
     "execution_count": 38,
     "metadata": {},
     "output_type": "execute_result"
    }
   ],
   "source": [
    "c1.__add__(c3)"
   ]
  },
  {
   "cell_type": "code",
   "execution_count": 39,
   "id": "3ada8d9c-0546-4c1c-bee0-df8f29e97a1b",
   "metadata": {},
   "outputs": [
    {
     "data": {
      "text/plain": [
       "Concatter('The cat the mouse!')"
      ]
     },
     "execution_count": 39,
     "metadata": {},
     "output_type": "execute_result"
    }
   ],
   "source": [
    "c1 + c3"
   ]
  },
  {
   "cell_type": "code",
   "execution_count": 40,
   "id": "d4469d4e-d685-4f7e-8c67-02905a8dc766",
   "metadata": {},
   "outputs": [
    {
     "data": {
      "text/plain": [
       "'abcdef'"
      ]
     },
     "execution_count": 40,
     "metadata": {},
     "output_type": "execute_result"
    }
   ],
   "source": [
    "'abc'.__add__('def')  # Python is using these same methods in its own types"
   ]
  },
  {
   "cell_type": "markdown",
   "id": "230accb6-309c-4c23-9959-48d0c5665514",
   "metadata": {},
   "source": [
    "## Polyhedrons\n",
    "\n",
    "What math objects might we usefully define as a type of their own?\n",
    "\n",
    "Polyhedrons are a good place to start, in part because they're objects in the conventional sense.  They have edges, faces, corners.  They have volume and surface area.\n",
    "\n",
    "<a data-flickr-embed=\"true\" href=\"https://www.flickr.com/photos/kirbyurner/51395771856/\" title=\"Waterman Polyhedron\"><img src=\"https://live.staticflickr.com/65535/51395771856_d197097fff_n.jpg\" width=\"311\" height=\"320\" alt=\"Waterman Polyhedron\"></a><script async src=\"//embedr.flickr.com/assets/client-code.js\" charset=\"utf-8\"></script>\n",
    "\n",
    "The power rule for any shape is:  if you scale all the edges by S, then surface area will resize by a factor of S times S (S to the 2nd power), and volume by a factor of S times S times S (S to the 3rd power).\n",
    "\n",
    "Let's code that:"
   ]
  },
  {
   "cell_type": "code",
   "execution_count": 45,
   "id": "e0460824-a34e-43fb-9d47-7ce380b4c613",
   "metadata": {},
   "outputs": [],
   "source": [
    "class Polyhedron:\n",
    "    \n",
    "    def __init__(self, name, cl, s, v):\n",
    "        self.name = name\n",
    "        self.control_length = cl\n",
    "        self.surface = s\n",
    "        self.volume = v\n",
    "        \n",
    "    def __mul__(self, factor):\n",
    "        \"\"\"returns a new Polyhedron of changed dimensions, same shape\"\"\"\n",
    "        return Polyhedron(self.name, \n",
    "                          self.control_length * factor,\n",
    "                          self.surface * factor ** 2,\n",
    "                          self.volume * factor ** 3)\n",
    "    \n",
    "    def __repr__(self):\n",
    "        return f\"Polyhedron(name='{self.name}', cl={self.control_length}, s={self.surface}, v={self.volume})\""
   ]
  },
  {
   "cell_type": "code",
   "execution_count": 46,
   "id": "ccd1cb91-4f83-474a-b21c-d16a40e3f8be",
   "metadata": {},
   "outputs": [],
   "source": [
    "tetrahedron = Polyhedron(\"Tetrahedron\", 1, 4, 1)"
   ]
  },
  {
   "cell_type": "code",
   "execution_count": 47,
   "id": "d19052e3-ffb0-4645-ac51-2c8d0751f208",
   "metadata": {},
   "outputs": [
    {
     "data": {
      "text/plain": [
       "Polyhedron(name='Tetrahedron', cl=2, s=16, v=8)"
      ]
     },
     "execution_count": 47,
     "metadata": {},
     "output_type": "execute_result"
    }
   ],
   "source": [
    "tetrahedron * 2  # triggers __mul__"
   ]
  },
  {
   "cell_type": "code",
   "execution_count": 48,
   "id": "71cbc599-3a6b-4980-b0e2-02b0a597bc07",
   "metadata": {},
   "outputs": [
    {
     "data": {
      "text/plain": [
       "Polyhedron(name='Tetrahedron', cl=3, s=36, v=27)"
      ]
     },
     "execution_count": 48,
     "metadata": {},
     "output_type": "execute_result"
    }
   ],
   "source": [
    "tetrahedron * 3  "
   ]
  },
  {
   "cell_type": "markdown",
   "id": "4c9b21fa-f159-468c-bc3c-d2e1dbb32c0f",
   "metadata": {},
   "source": [
    "#### Resources\n",
    "\n",
    "* [More Advanced Polyhedron Studies](https://github.com/4dsolutions/elite_school/blob/master/TheCabal.ipynb)\n",
    "\n",
    "* [Building a Volumes Table](https://github.com/4dsolutions/elite_school/blob/master/TheCabal.ipynb)"
   ]
  }
 ],
 "metadata": {
  "kernelspec": {
   "display_name": "Python 3 (ipykernel)",
   "language": "python",
   "name": "python3"
  },
  "language_info": {
   "codemirror_mode": {
    "name": "ipython",
    "version": 3
   },
   "file_extension": ".py",
   "mimetype": "text/x-python",
   "name": "python",
   "nbconvert_exporter": "python",
   "pygments_lexer": "ipython3",
   "version": "3.9.12"
  }
 },
 "nbformat": 4,
 "nbformat_minor": 5
}
