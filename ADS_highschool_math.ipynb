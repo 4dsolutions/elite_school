{
 "cells": [
  {
   "cell_type": "markdown",
   "id": "88918432-b03b-4cb1-9d21-11f043b6fc30",
   "metadata": {},
   "source": [
    "##### Python for High School (Summer 2022)\n",
    "\n",
    "* [Table of Contents](PY4HS.ipynb)\n",
    "* <a href=\"https://colab.research.google.com/github/4dsolutions/elite_school/blob/master/ADS_highschool_math.ipynb\"><img align=\"left\" src=\"https://colab.research.google.com/assets/colab-badge.svg\" alt=\"Open in Colab\" title=\"Open and Execute in Google Colaboratory\"></a>\n",
    "* [![nbviewer](https://raw.githubusercontent.com/jupyter/design/master/logos/Badges/nbviewer_badge.svg)](https://nbviewer.org/github/4dsolutions/elite_school/blob/master/ADS_highschool_math.ipynb)\n"
   ]
  },
  {
   "cell_type": "markdown",
   "id": "d2258d96-1771-48ed-b0ab-10fa534d499c",
   "metadata": {
    "tags": []
   },
   "source": [
    "<a data-flickr-embed=\"true\" href=\"https://www.flickr.com/photos/kirbyurner/52141123213/in/dateposted-public/\" title=\"Dual Pairs\"><img src=\"https://live.staticflickr.com/65535/52141123213_77f146cdfd_c.jpg\" width=\"800\" height=\"580\" alt=\"Dual Pairs\"></a><script async src=\"//embedr.flickr.com/assets/client-code.js\" charset=\"utf-8\"></script>\n",
    "\n",
    "# High School Mathematics\n",
    "#### by Kirby Urner\n",
    "<br />\n",
    "High school mathematics is a moving target and to track it is to change it, if only by adding to one's awareness of where we've been.  Nor does every subculture follow the same evolutionary path.  The Republic of South Africa (RSA), which I've had the privilege of visiting (our family base was in Lesotho), faces a different set of challenges than California or Oregon.  Different, yet partially overlapping.\n"
   ]
  },
  {
   "cell_type": "markdown",
   "id": "673a4b24-8b4d-47ca-b2f0-a8e8c9012cdc",
   "metadata": {
    "jp-MarkdownHeadingCollapsed": true,
    "tags": []
   },
   "source": [
    "My thanks to Mark Shuttleworth of Canonical, and to Guido van Rossum, Python's inventor, [for having me join them](https://worldgame.blogspot.com/2017/03/in-service.html) in Greater London in 2006, along with other curriculum developers, to brainstorm about the RSA's future.\n",
    "\n",
    "One entry point into the many debates is the role of technology and how should it be used.  \n",
    "\n",
    "In this Jupyter Notebook, we look at the actual and/or potential role of Jupyter Notebooks along with their wider ecosystem.  Historically speaking, they developed from the Python world as I-Python Notebooks.  \n",
    "\n",
    "Nowadays, Jupyter Notebooks may be used to introduce several computer languages.  But what do computer languages have to do with mathematics?  Nothing?  "
   ]
  },
  {
   "cell_type": "markdown",
   "id": "c92cccdd-161c-4102-8b7e-9cdbaa3e5845",
   "metadata": {},
   "source": [
    "## The Role of Visualization\n",
    "\n",
    "<a data-flickr-embed=\"true\" href=\"https://www.flickr.com/photos/kirbyurner/479678482/in/photolist-DgvS4F-bULvdT-2miELnw-wsqaNG-wsqcoN-cc8Kt7-bULvP6-bULw4P-cc8K3y-bULvpT-bULvYn-bULvak-cc8KGo-cc8JYu-cc8KS5-bULvzn-cc8L59-bULvjH-cc8KBu-aGEsaR-aCuw56-9XLUuT-8dUDpo-8bdJLL-88zU7H-76XsYs-JotGE-Joy8X\" title=\"Inscribed Polyhedron\"><img src=\"https://live.staticflickr.com/215/479678482_5e8564dd0b_o.jpg\" width=\"387\" height=\"386\" alt=\"Inscribed Polyhedron\"></a><script async src=\"//embedr.flickr.com/assets/client-code.js\" charset=\"utf-8\"></script>"
   ]
  },
  {
   "cell_type": "markdown",
   "id": "ce96d450-ad65-4767-9e65-8f43d27f4449",
   "metadata": {},
   "source": [
    "One school of thought, associated with the Bourbaki School (Bourbaki was a fictive mascot for a group of mathematicians), suggests [staying away from direct depiction](https://www.17thshard.com/forum/topic/87667-jasnah-kholin-nicolas-bourbaki-and-disdain-for-visual-arts/), while relying instead on typography.  A mathematics book should consist of numbered axioms and theorems, with definitions provided, and with only a sparse smattering of figures, if any.\n",
    "\n",
    "Benoit Mandelbrot, who helped usher in the visualization of \"fractals\" (shapes of fractional dimension), in collaboration with IBM, felt himself to be at the opposite pole, insisting on direct depiction as a valid contribution to mathematics, and not redundant with the typographical aspects.\n",
    "\n",
    "A previous standard among high school level textbook centric curricula favored passive consumption of published figures (including plots and polyhedrons), but without much attention devoted to the tools and skills needed for the generation thereof. Students were not equipped with desktop publishing skills until later, when becoming more specialized.\n",
    "\n",
    "Desktop publishing skills were considered \"vocational\" or \"shop\" skills akin to \"mechanical drawing\".  Pure mathematicians in training had no time for such detours.  \n",
    "\n",
    "But then high school was never a bastion of anything \"pure\" i.e. the disciplines are purposely hybridized.  In blending mathematics and computer science, we're bringing in the software tools needed for 2D plots and 3D renderings.  \n",
    "\n",
    "Animations, with the added time dimension (flip book frames of action), are just around the corner for those wishing to dive deeper.\n",
    "\n",
    "The newly emerging consensus more closely matches the needs of industry, wherein even individual communications, such as text messages, get pushed to an industry standard on some electronic platform (local and/or in the cloud).  Plots and polyhedrons should look professional no matter who is doing them.\n",
    "\n",
    "In the age of the screen, colored pixels cost no more than black and white ones and populating a text with colorful figures does not make the \"book\" more expensive, because we're no longer dealing with inked wood pulp as our principle communications medium.\n",
    "\n",
    "Thanks to computers, we're able to equip more of the population with these practical social media and publication skills."
   ]
  },
  {
   "cell_type": "code",
   "execution_count": 156,
   "id": "053dff71-6705-4bb8-ac45-ab282c554d24",
   "metadata": {},
   "outputs": [],
   "source": [
    "from IPython.display import YouTubeVideo"
   ]
  },
  {
   "cell_type": "markdown",
   "id": "3de98c65-0b9e-48e0-b994-6a9442e331b1",
   "metadata": {},
   "source": [
    "## Doodling and Daydreaming\n",
    "\n",
    "The stereotypical teacher is concerned when Little Johnny doesn't focus and only stares out the window, clearly daydreaming. But what if Little Johnny is daydreaming about maths?  That could be a good thing, right?  Johnny has read ahead and is musing about more advanced concepts.  He does well on tests, so no worries.  Little Jill is daydreaming about Lie Groups and Lie Algebras.\n",
    "\n",
    "The other bugaboo is \"doodling\" with many movies having the teacher pause above some hapless student with a notebook, caught doodling.  But then again, what if the doodles are somewhat apropos?  An astute student might weave in enough material from the lecture, to make for some creative note taking and/or ray tracing, the perfect alibi.\n",
    "\n",
    "Vi Hart, a Youtuber of some renown, has role modeled the bored student who daydreams and doodles, intelligently about the maths that most interest her. The implication is not that she's \"too slow\" but \"too fast\" for the conventional content.  She even talks fast."
   ]
  },
  {
   "cell_type": "code",
   "execution_count": 157,
   "id": "bf598642-ed21-45a1-aadd-04823e02aa06",
   "metadata": {},
   "outputs": [
    {
     "data": {
      "image/jpeg": "[encoded data removed]",
      "text/html": [
       "\n",
       "        <iframe\n",
       "            width=\"400\"\n",
       "            height=\"300\"\n",
       "            src=\"https://www.youtube.com/embed/EdyociU35u8\"\n",
       "            frameborder=\"0\"\n",
       "            allowfullscreen\n",
       "            \n",
       "        ></iframe>\n",
       "        "
      ],
      "text/plain": [
       "<IPython.lib.display.YouTubeVideo at 0x7fd142913ca0>"
      ]
     },
     "execution_count": 157,
     "metadata": {},
     "output_type": "execute_result"
    }
   ],
   "source": [
    "YouTubeVideo(\"EdyociU35u8\") # https://youtu.be/EdyociU35u8"
   ]
  },
  {
   "cell_type": "markdown",
   "id": "92d997e7-afe0-41b0-a9c3-22e1ff3ca215",
   "metadata": {},
   "source": [
    "This curriculum encourages JupyterLab as a safe environment in which to experiment with features, try out syntax, explore possibilities.  Unguided and unsupervised learning become a possibility.  The teacher's ultimate aim is to encourage the habits that come with teaching one's self, i.e. the role model is the polymath autodidact, the comprehensivist more than the over-specialist.\n",
    "\n",
    "Even if some subjects really require teacher - apprentice relationships, not ad hoc trial and error, developing the habits of an autodidact serve one well, just as learning to search the web, transfer funds, stay in the game on various fronts, is of holistic benefit.\n",
    "\n",
    "With all our emphasis on (a) rendering graphics and (b) exploring Python packages embodying whole lifetimes of maths research (more than any one person digests easily i.e. a feast), the hoped for outcome for the student is:  a sense of never lacking for raw material with which to demonstrate both competence and creativity (these go together).  \n",
    "\n",
    "This includes having access to the tools of the trade, and knowing what to do with them.  \n",
    "\n",
    "Think of Orson Welles learning how to make movies from some of Hollywood's best."
   ]
  },
  {
   "cell_type": "markdown",
   "id": "703202f4-abc9-4868-980d-b286e96f20a3",
   "metadata": {},
   "source": [
    "## What about Mathematica?\n",
    "\n",
    "Many of the reforms in math education promulgated by Stephen and Conrad Wolfram are in the same direction as what gets promoted here, more specifically:  taking advantage of a computer language to improve mathematical fluency and vice versa.\n",
    "\n",
    "Mathematica and Jupyter Notebook have much in common.\n",
    "\n",
    "Here that computer language is Python.  Another developer might prefer to introduce Julia.\n",
    "\n",
    "See [Matrix Math](MatrixMath.ipynb) for additional discussion of our goals."
   ]
  },
  {
   "cell_type": "markdown",
   "id": "cc5d138b-ba40-482f-98d0-4cc66b8180e0",
   "metadata": {},
   "source": [
    "## The Function and The Set\n",
    "\n",
    "In the several states of North America, the pre-college curriculum saw a sudden infusion of new rigor in the early 1960s, from specific corners (SMSG, University of Chicago), aimed at bolstering the sophistication of American children.  Elementary schoolers tackled the union and intersection of sets, and in algebra took up \"functions\" in a more serious and formal way. \n",
    "\n",
    "The arithmetic of grocery shopping, savings, managing a farm, was being displaced by what they called the New Math.  Some joked about it, others found it too menacing to be a laughing matter."
   ]
  },
  {
   "cell_type": "code",
   "execution_count": 3,
   "id": "581a1f96-a194-4923-9aed-fa86e5040a30",
   "metadata": {},
   "outputs": [],
   "source": [
    "foods = set(['🍩', '🍌', '🍪', '🍕'])\n",
    "desserts = set(['🍩','🍨', '🍰','🍪'])"
   ]
  },
  {
   "cell_type": "code",
   "execution_count": 4,
   "id": "90130f9c-2536-463b-b076-956a4f61d5d3",
   "metadata": {},
   "outputs": [
    {
     "data": {
      "text/plain": [
       "{'🍩', '🍪'}"
      ]
     },
     "execution_count": 4,
     "metadata": {},
     "output_type": "execute_result"
    }
   ],
   "source": [
    "foods.intersection(desserts)"
   ]
  },
  {
   "cell_type": "code",
   "execution_count": 5,
   "id": "472abfd5-13fb-4bae-8acc-ff6465eab2b6",
   "metadata": {},
   "outputs": [
    {
     "data": {
      "text/plain": [
       "{'🍌', '🍕', '🍨', '🍩', '🍪', '🍰'}"
      ]
     },
     "execution_count": 5,
     "metadata": {},
     "output_type": "execute_result"
    }
   ],
   "source": [
    "foods.union(desserts) # combine without duplicates"
   ]
  },
  {
   "cell_type": "code",
   "execution_count": 6,
   "id": "f3b71126-ef38-4f00-a39f-e4303c2528a3",
   "metadata": {},
   "outputs": [
    {
     "data": {
      "text/plain": [
       "True"
      ]
     },
     "execution_count": 6,
     "metadata": {},
     "output_type": "execute_result"
    }
   ],
   "source": [
    "desserts.union(foods) == foods.union(desserts)"
   ]
  },
  {
   "cell_type": "code",
   "execution_count": 7,
   "id": "2e83808b-5955-4acc-9308-28c26c8e7ce3",
   "metadata": {},
   "outputs": [
    {
     "data": {
      "text/plain": [
       "{'🍌', '🍕'}"
      ]
     },
     "execution_count": 7,
     "metadata": {},
     "output_type": "execute_result"
    }
   ],
   "source": [
    "foods.difference(desserts) # foods but not desserts"
   ]
  },
  {
   "cell_type": "code",
   "execution_count": 8,
   "id": "a4f2b9c5-d86e-4fb9-8acc-3105c698f2c6",
   "metadata": {},
   "outputs": [
    {
     "data": {
      "text/plain": [
       "{'🍨', '🍰'}"
      ]
     },
     "execution_count": 8,
     "metadata": {},
     "output_type": "execute_result"
    }
   ],
   "source": [
    "desserts.difference(foods) # in desserts but not foods"
   ]
  },
  {
   "cell_type": "code",
   "execution_count": 9,
   "id": "b999dff7-27bf-4f3f-a873-ca7d46f22baf",
   "metadata": {},
   "outputs": [
    {
     "data": {
      "text/plain": [
       "{'🍌', '🍕', '🍨', '🍰'}"
      ]
     },
     "execution_count": 9,
     "metadata": {},
     "output_type": "execute_result"
    }
   ],
   "source": [
    "desserts.symmetric_difference(foods) # in one but not the other"
   ]
  },
  {
   "cell_type": "markdown",
   "id": "aa6b3a8d-3371-4699-ae88-7898215d34ea",
   "metadata": {},
   "source": [
    "Sets would be our primary data structures going forward and these included the progressively more encompassing, all of them infinite, sets of number types:  \n",
    "\n",
    "* Counting Numbers, or set $\\mathbb{N}$ \n",
    "* Whole Numbers $\\mathbb{W}$ (add 0 to $\\mathbb{N}$)\n",
    "* Integers $\\mathbb{Z}$ (add negatives of positives)\n",
    "* Rationals $\\mathbb{Q}$ (integer:integer ratios)\n",
    "* Reals $\\mathbb{R}$ (no holes)\n",
    "* Complex numbers (add 2nd root of -1 to $\\mathbb{R}$)\n",
    "\n",
    "each a superset of the next previous.\n",
    "\n",
    "$$\n",
    "\\mathbb{N} \\subset  \n",
    "\\mathbb{W} \\subset \n",
    "\\mathbb{Z} \\subset \n",
    "\\mathbb{Q} \\subset \n",
    "\\mathbb{R} \\subset \n",
    "\\mathbb{C}\n",
    "$$\n",
    "\n",
    "The Naturals break up into Primes, Composites and One.  The Reals break up into Rationals and Irrationals, amidst a lot of philosophy.  Irrationals include the Transcendentals.\n",
    "\n",
    "Sets need to receive as much emphasis as part of a foundational mathematical logic, when the context is one of developing Python proficiency.  We use the built-in set type, along with the list, tuple and dict types, as another collection.  Indeed, the sets of numbers are abetted with the set known as Unicode.  Math notation itself comes under scrutiny as a language, expressible in $\\LaTeX$.\n",
    "\n",
    "Functions, a subtype of Relations, define puzzles regarding finding their \"roots\" or \"zeros\" along with local \"minima\" and \"maxima\".   More generally, they're but mappings, of a domain set to a range set, with ballistics metaphors implied. \n",
    "\n",
    "The \"solution space\" would be with respect to one of these number sets, if indeed numbers were at the heart of the solving algorithm.  They may not be.  Some algorithms are only semi-numeric.\n",
    "\n",
    "Complex numbers give us the ability to find the n roots of an equation to the nth degree.  They give us the complex plane and the ability to visualize fractals.  They integrate deeply with trig, by way of exponentials and logarithms."
   ]
  },
  {
   "cell_type": "markdown",
   "id": "3f1743a8-ac66-448a-8c31-1e4b7bbeca4b",
   "metadata": {},
   "source": [
    "## Number Bases\n",
    "\n",
    "One feature of New Math that was especially controversial was the introduction of number bases as an elementary school topic.  Computers would not be widespread in the home for some decades and the principles of base 2 and base 16 arithmetic, while providing insights into the design of base 10, seemed too much a departure from everyday math for many school districts and parishes.\n",
    "\n",
    "However in 2022 we have no good reasons to eschew number bases as a topic and gateway to bases 2, 8 and 16 in particular. We wish to describe the bridge between binary to unicode via the ubiquitous UTF-8 for example."
   ]
  },
  {
   "cell_type": "code",
   "execution_count": 10,
   "id": "596b2ac5-01a2-46ac-ad5a-50478a86b033",
   "metadata": {},
   "outputs": [
    {
     "data": {
      "image/jpeg": "[encoded data removed]",
      "text/html": [
       "\n",
       "        <iframe\n",
       "            width=\"400\"\n",
       "            height=\"300\"\n",
       "            src=\"https://www.youtube.com/embed/UIKGV2cTgqA\"\n",
       "            frameborder=\"0\"\n",
       "            allowfullscreen\n",
       "            \n",
       "        ></iframe>\n",
       "        "
      ],
      "text/plain": [
       "<IPython.lib.display.YouTubeVideo at 0x7fd13dd840a0>"
      ]
     },
     "execution_count": 10,
     "metadata": {},
     "output_type": "execute_result"
    }
   ],
   "source": [
    "YouTubeVideo(\"UIKGV2cTgqA\") # https://youtu.be/UIKGV2cTgqA"
   ]
  },
  {
   "cell_type": "code",
   "execution_count": 11,
   "id": "25675ecb-cfe1-46ad-8851-7a330843ddb9",
   "metadata": {},
   "outputs": [
    {
     "data": {
      "text/plain": [
       "255"
      ]
     },
     "execution_count": 11,
     "metadata": {},
     "output_type": "execute_result"
    }
   ],
   "source": [
    "int('FF', 16)"
   ]
  },
  {
   "cell_type": "code",
   "execution_count": 12,
   "id": "5628666b-6a95-4e51-bb69-f2aebdebc538",
   "metadata": {},
   "outputs": [
    {
     "data": {
      "text/plain": [
       "['0b11110000', '0b10011111', '0b10001101', '0b10010101']"
      ]
     },
     "execution_count": 12,
     "metadata": {},
     "output_type": "execute_result"
    }
   ],
   "source": [
    "pizza = [bin(byte) for byte in list(bytes('🍕', encoding='utf8'))]\n",
    "pizza"
   ]
  },
  {
   "cell_type": "code",
   "execution_count": 13,
   "id": "e3861407-5e5b-43a6-b1ea-4be7d46ee3a1",
   "metadata": {},
   "outputs": [
    {
     "data": {
      "image/jpeg": "[encoded data removed]",
      "text/html": [
       "\n",
       "        <iframe\n",
       "            width=\"400\"\n",
       "            height=\"300\"\n",
       "            src=\"https://www.youtube.com/embed/Z_sl99D2a18\"\n",
       "            frameborder=\"0\"\n",
       "            allowfullscreen\n",
       "            \n",
       "        ></iframe>\n",
       "        "
      ],
      "text/plain": [
       "<IPython.lib.display.YouTubeVideo at 0x7fd13dd84490>"
      ]
     },
     "execution_count": 13,
     "metadata": {},
     "output_type": "execute_result"
    }
   ],
   "source": [
    "YouTubeVideo(\"Z_sl99D2a18\") # https://youtu.be/Z_sl99D2a18"
   ]
  },
  {
   "cell_type": "markdown",
   "id": "d7df3b80-f24e-43b1-9ae3-6f12fa11f2f7",
   "metadata": {},
   "source": [
    "## Composition of Functions\n",
    "\n",
    "Given we're diving deeper into Python, even as we dive more deeply into mathematics, we may take advantage of this opportunity to introduce decorator syntax.  By using a decorator class and operator overloading, we may turn ordinary functions into composable objects."
   ]
  },
  {
   "cell_type": "code",
   "execution_count": 14,
   "id": "fb7668ae-3401-4934-b2ac-2805805a52fc",
   "metadata": {},
   "outputs": [],
   "source": [
    "class Compose:\n",
    "    \n",
    "    def __init__(self, f):\n",
    "        self.f = f\n",
    "        \n",
    "    def __call__(self, arg):\n",
    "        return self.f(arg)\n",
    "    \n",
    "    def __mul__(self, other):\n",
    "        return Compose(lambda x: other(self(x)))"
   ]
  },
  {
   "cell_type": "code",
   "execution_count": 15,
   "id": "7c67658d-d5ca-4383-a72f-4e06b517d307",
   "metadata": {},
   "outputs": [],
   "source": [
    "@Compose\n",
    "def g(m):\n",
    "    return 2 * m\n",
    "\n",
    "@Compose\n",
    "def h(m):\n",
    "    return m ** 2\n",
    "\n",
    "# h = Compose(h) <-- what decorator syntax replaces"
   ]
  },
  {
   "cell_type": "code",
   "execution_count": 16,
   "id": "99252862-b5d1-4375-8357-98796b1fa2ec",
   "metadata": {},
   "outputs": [
    {
     "data": {
      "text/plain": [
       "102400000000"
      ]
     },
     "execution_count": 16,
     "metadata": {},
     "output_type": "execute_result"
    }
   ],
   "source": [
    "(g * h * h * g * h)(10)  # making a pipeline"
   ]
  },
  {
   "cell_type": "code",
   "execution_count": 17,
   "id": "b50baf4d-3b3e-40cb-a253-6afe4dfb701d",
   "metadata": {},
   "outputs": [
    {
     "data": {
      "text/plain": [
       "200"
      ]
     },
     "execution_count": 17,
     "metadata": {},
     "output_type": "execute_result"
    }
   ],
   "source": [
    "g(h(10))"
   ]
  },
  {
   "cell_type": "code",
   "execution_count": 18,
   "id": "8d9595cb-17f4-4ab8-8d81-26ff1dd450d9",
   "metadata": {},
   "outputs": [
    {
     "data": {
      "text/plain": [
       "400"
      ]
     },
     "execution_count": 18,
     "metadata": {},
     "output_type": "execute_result"
    }
   ],
   "source": [
    "h(g(10))"
   ]
  },
  {
   "cell_type": "code",
   "execution_count": 19,
   "id": "f54410c8-7e42-45de-b651-548dd281b6b2",
   "metadata": {},
   "outputs": [
    {
     "data": {
      "text/plain": [
       "400"
      ]
     },
     "execution_count": 19,
     "metadata": {},
     "output_type": "execute_result"
    }
   ],
   "source": [
    "(g * h)(10)  # apply g then h to the result"
   ]
  },
  {
   "cell_type": "code",
   "execution_count": 20,
   "id": "7395ec21-bbcd-4753-9d5c-71a6732e7a99",
   "metadata": {},
   "outputs": [
    {
     "data": {
      "text/plain": [
       "200"
      ]
     },
     "execution_count": 20,
     "metadata": {},
     "output_type": "execute_result"
    }
   ],
   "source": [
    "t = h * g\n",
    "t(10)"
   ]
  },
  {
   "cell_type": "code",
   "execution_count": 21,
   "id": "4fab8b24-0f0f-4f28-b4cf-2476298f94ca",
   "metadata": {},
   "outputs": [],
   "source": [
    "@Compose\n",
    "def q(x):\n",
    "    return x"
   ]
  },
  {
   "cell_type": "code",
   "execution_count": 22,
   "id": "7abbb89a-fbed-461a-8286-236089c9689a",
   "metadata": {},
   "outputs": [
    {
     "data": {
      "text/plain": [
       "10"
      ]
     },
     "execution_count": 22,
     "metadata": {},
     "output_type": "execute_result"
    }
   ],
   "source": [
    "q(10)"
   ]
  },
  {
   "cell_type": "code",
   "execution_count": 23,
   "id": "266436c0-08ce-46d6-afc6-648ce4ee361e",
   "metadata": {},
   "outputs": [
    {
     "data": {
      "text/plain": [
       "3"
      ]
     },
     "execution_count": 23,
     "metadata": {},
     "output_type": "execute_result"
    }
   ],
   "source": [
    "(q * q)(3)"
   ]
  },
  {
   "cell_type": "markdown",
   "id": "f73d8475-b94a-448c-b8f3-f87464ddd34f",
   "metadata": {},
   "source": [
    "## Primes and Composites\n",
    "\n",
    "Some high school mathematics curricula are in a hurry to get to precalculus and calculus, by way of the real numbers $\\mathbb{R}$. Topics in Number and Group Theory might be offered in the elective category, under the generic heading of Discrete Mathematics.\n",
    "\n",
    "With the rise of digital processing and cryptography, we can make the case that RSA and/or some other public key cryptography algorithm should be leveraged for what it might teach us about Discrete Mathematics."
   ]
  },
  {
   "cell_type": "markdown",
   "id": "d943246e-a6e9-408f-9f58-b1fafd6e4310",
   "metadata": {},
   "source": [
    "The importable `primes` shown below is installed as a package, meaning it's a subfolder somewhere along the Python search path, with an internal `__init__.py` file."
   ]
  },
  {
   "cell_type": "code",
   "execution_count": 24,
   "id": "394639bb-3849-4101-acce-c466bdf58cdd",
   "metadata": {},
   "outputs": [
    {
     "name": "stdout",
     "output_type": "stream",
     "text": [
      "['PrimeNumbers', '__builtins__', '__cached__', '__doc__', '__file__', '__loader__', '__name__', '__package__', '__path__', '__spec__', 'all_factors', 'eratosthenes', 'euler_test', 'factors', 'invmod', 'isprime', 'primes_gen', 'primesplay', 'xgcd']\n"
     ]
    }
   ],
   "source": [
    "import primes\n",
    "print(dir(primes))"
   ]
  },
  {
   "cell_type": "markdown",
   "id": "74ca2de6-6d9a-4d90-849b-13ee32625be6",
   "metadata": {},
   "source": [
    "Lets take a lot at this `__init__.py` file. These do not have to contain code.  Their mere presence is enough to make a subfolder importable.  However, by adding code, we are able to craft the namespace the importer will receive.  \n",
    "\n",
    "Compare the output from `dir(primes)` above to the Python source code below.  "
   ]
  },
  {
   "cell_type": "markdown",
   "id": "3a31ac16-9cf2-4ba9-9d7c-e70e65a38222",
   "metadata": {},
   "source": [
    "```python\n",
    "    # %load ./primes/__init__.py\n",
    "    \"\"\"\n",
    "    factors(n): returns n's factors: (1, prime factors) \n",
    "                or (-1, prime factors)\n",
    "    isprime(n): returns bool re n's primehood\n",
    "    eratosthenes(n): list of primes up to n\n",
    "    PrimeNumbers: a prime numbers generator / iterator\n",
    "    \"\"\"\n",
    "\n",
    "    from primes.primesplay import factors, isprime, all_factors, eratosthenes\n",
    "    from primes.primes_gen import PrimeNumbers\n",
    "    from primes.euler_test import xgcd, invmod\n",
    "```"
   ]
  },
  {
   "cell_type": "code",
   "execution_count": 25,
   "id": "b1f95c2c-f75f-4049-8c1d-39646b7dc631",
   "metadata": {},
   "outputs": [
    {
     "data": {
      "text/plain": [
       "True"
      ]
     },
     "execution_count": 25,
     "metadata": {},
     "output_type": "execute_result"
    }
   ],
   "source": [
    "primes.isprime(392201)"
   ]
  },
  {
   "cell_type": "markdown",
   "id": "b698e8e9-a700-476e-86f7-9d5378d7f109",
   "metadata": {},
   "source": [
    "Feel free to eyeball all of the source code files.  There's much we could learn from each one of them.  Some will be discussed in more detail by your teachers, depending on the focus of a daily lesson plan.  Perhaps today is a day to review the Sieve of Erastosthenes, an algorithm of elimination, starting with a table of consecutive integers from 1 (which is not prime).\n",
    "\n",
    "Definition of a prime number:  Prime numbers elements of $\\mathbb{N}$ greater than 1 with only two factors: 1 and the number itself. This means these numbers cannot be divided by any *other* elements of $\\mathbb{N}$ without leaving a remainder.  \n",
    "\n",
    "Primes imagined as lengths, of metal or wood, cannot be divided into equal whole number lengths, except by the unit length itself.  \n",
    "\n",
    "A plank of 17 meters cannot be divided into multiple lengths each the same whole number of meters, except of one meter.\n",
    "\n",
    "A plank of 12 meters, in contrast, might be divided into 4 planks of 3 meters each, or 3 planks of 4 meters, or 2 of 6 meters, in addition to 12 of 1 meter.\n",
    "\n",
    "This is why we call 17 a prime number, but not 12.  12 is a composite number.\n",
    "\n",
    "Positive integers with more than 2 factors are known as composite numbers."
   ]
  },
  {
   "cell_type": "code",
   "execution_count": 26,
   "id": "a6ef0bd8-5426-42a8-a1f2-f71d10e23720",
   "metadata": {},
   "outputs": [
    {
     "data": {
      "text/plain": [
       "(1, 7, 677, 1579)"
      ]
     },
     "execution_count": 26,
     "metadata": {},
     "output_type": "execute_result"
    }
   ],
   "source": [
    "primes.factors(7482881)"
   ]
  },
  {
   "cell_type": "markdown",
   "id": "c9cec25f-e6eb-4cd1-aeec-2715cad68ec7",
   "metadata": {},
   "source": [
    "In the case of RSA, the public key crypto algorithm named for Rivest–Shamir–Adleman, we have Fermat's Little Theorem and Euler's theorem regarding the totient, i.e. the number of totatives of a number N, to think about.  \n",
    "\n",
    "Defining totatives requires knowing about the GCD, at which point we introduce Euclid's Method, one of the oldest algorithms on the books.  This Notebook is more of a summary guide to a curriculum, with more fleshed out notebooks treating these topics.  \n",
    "\n",
    "Euclid's Method in turn anchors a number of topics, including its own extended version.\n",
    "\n",
    "For example, RSA uses Euclid's Extended Method, an enchancement of the ordinary GCD finder that also helps us find a number's multiplicative inverse where operations are modulo N."
   ]
  },
  {
   "cell_type": "markdown",
   "id": "cf8c2ad9-fcc7-4172-a123-1a1179bbc8cc",
   "metadata": {},
   "source": [
    "## Modulo Arithmetic\n",
    "\n",
    "Would this be an opportune time to introduce a type of number that as a built-in modulus?  We could get started, adding more frills in future spirals."
   ]
  },
  {
   "cell_type": "code",
   "execution_count": 27,
   "id": "7e3b1301-6088-49d4-a297-a164ae6c60db",
   "metadata": {},
   "outputs": [],
   "source": [
    "from math import gcd \n",
    "\n",
    "def totatives(n : int) -> list[int]:\n",
    "    return [i for i in range(1, n) if gcd(i, n)==1]\n",
    "\n",
    "def totient(n):\n",
    "    return len(totatives(n))"
   ]
  },
  {
   "cell_type": "code",
   "execution_count": 28,
   "id": "41a8a14e-2514-4cd7-85c9-b6441fd930e6",
   "metadata": {},
   "outputs": [
    {
     "name": "stdout",
     "output_type": "stream",
     "text": [
      "[1, 3, 7, 9, 11, 13, 17, 19, 21, 23, 27, 29, 31, 33, 37, 39, 41, 43, 47, 49, 51, 53, 57, 59, 61, 63, 67, 69, 71, 73, 77, 79, 81, 83, 87, 89, 91, 93, 97, 99]\n"
     ]
    }
   ],
   "source": [
    "print(totatives(100))"
   ]
  },
  {
   "cell_type": "code",
   "execution_count": 29,
   "id": "d1c3b9da-84bc-4758-abed-18d55890e706",
   "metadata": {},
   "outputs": [
    {
     "data": {
      "text/plain": [
       "40"
      ]
     },
     "execution_count": 29,
     "metadata": {},
     "output_type": "execute_result"
    }
   ],
   "source": [
    "totient(100)"
   ]
  },
  {
   "cell_type": "code",
   "execution_count": 30,
   "id": "edf03ec2-bf3f-4d86-acc8-68ef28da0770",
   "metadata": {},
   "outputs": [],
   "source": [
    "class Mod:\n",
    "    \"\"\"\n",
    "    Integers operating relative to a _modulus.\n",
    "    \"\"\"\n",
    "    _modulus = 12\n",
    "    \n",
    "    def __init__(self, n):\n",
    "        self.p = n % self._modulus\n",
    "        \n",
    "    def __add__(self, other):\n",
    "        return Mod(self.p + other.p)\n",
    "    \n",
    "    def __mul__(self, other):\n",
    "        return Mod(self.p * other.p)\n",
    "    \n",
    "    def __pow__(self, e):\n",
    "        new_p = self.p\n",
    "        if e < 0:\n",
    "            new_p = primes.invmod(self.p, self._modulus)\n",
    "        e = abs(e)\n",
    "        return Mod(pow(new_p, e, self._modulus))\n",
    "    \n",
    "    def __eq__(self, other):\n",
    "        return self.p == other.p\n",
    "    \n",
    "    def __lt__(self, other):\n",
    "        return self.p < other.p\n",
    "    \n",
    "    def __hash__(self):\n",
    "        return 0\n",
    "    \n",
    "    def __repr__(self):\n",
    "        return \"({} mod {})\".format(self.p, self._modulus)"
   ]
  },
  {
   "cell_type": "code",
   "execution_count": 31,
   "id": "7dd59e31-94ac-4d7d-9cf4-0a848e200bb6",
   "metadata": {},
   "outputs": [],
   "source": [
    "p = Mod(4)\n",
    "q = Mod(3)"
   ]
  },
  {
   "cell_type": "code",
   "execution_count": 32,
   "id": "f4ac9b24-76de-4ac6-8d9d-d4dfd04bafb9",
   "metadata": {},
   "outputs": [
    {
     "data": {
      "text/plain": [
       "(0 mod 12)"
      ]
     },
     "execution_count": 32,
     "metadata": {},
     "output_type": "execute_result"
    }
   ],
   "source": [
    "p * q"
   ]
  },
  {
   "cell_type": "code",
   "execution_count": 33,
   "id": "9b1da7d6-75b6-4fe2-8b96-a0ab9cb00e66",
   "metadata": {},
   "outputs": [
    {
     "data": {
      "text/plain": [
       "(3 mod 12)"
      ]
     },
     "execution_count": 33,
     "metadata": {},
     "output_type": "execute_result"
    }
   ],
   "source": [
    "q ** 5"
   ]
  },
  {
   "cell_type": "markdown",
   "id": "badcd0f3-a9e8-4347-87fe-b56d3149b5f6",
   "metadata": {},
   "source": [
    "Speaking of \"frills\" (upon spiralling), since this curriculum is about leveraging math concepts to dive deeper into Python (in addition to diving deeper into math concepts with support from the Python language) here is a logical place to introduce the Pythonic idea of a \"context\" as in \"context manager\".\n",
    "\n",
    "The keyword `with` in front of an object triggers its `__enter__` method, whereas exiting the block of code indented under a with statement, triggers `__exit__`.  The idea here being:  create a temporary context, perhaps restoring to a default.  In this case, the temporary context features a different modulus inside of Mod.\n",
    "\n",
    "Context managers, as a topic, sit apart from run of the mill workaday Python, at a deeper level.  What's deep in this picture may not be the idea of a modulus (familiar mathematics by this time) but that of a context manager."
   ]
  },
  {
   "cell_type": "code",
   "execution_count": 34,
   "id": "072d0ea1-236d-43f7-b421-a659a0b0423d",
   "metadata": {},
   "outputs": [],
   "source": [
    "class Modc:\n",
    "    \"\"\"\n",
    "    set the Mod._modulus going in, sets it back going out\n",
    "    \"\"\"\n",
    "    \n",
    "    def __init__(self, mod):\n",
    "        self.oldmod = Mod._modulus  # store for later\n",
    "        self.newmod = mod           # the modulus for this context\n",
    "        Mod._modulus = mod\n",
    "        \n",
    "    def __enter__(self):\n",
    "        return self  # not needed internally to the scope\n",
    "        \n",
    "    def __exit__(self, *oops):\n",
    "        # handles any exceptions raised within the context (scope of with statement)\n",
    "        Mod._modulus = self.oldmod  # revert to previous modulus\n",
    "        if oops[0]:\n",
    "            print(type(oops[1]))\n",
    "            raise oops[1]\n",
    "        return True"
   ]
  },
  {
   "cell_type": "code",
   "execution_count": 35,
   "id": "5dcf24fa-a3e9-4bfa-baf0-4f31ad6603cc",
   "metadata": {},
   "outputs": [
    {
     "name": "stdout",
     "output_type": "stream",
     "text": [
      "(2 mod 12)\n"
     ]
    }
   ],
   "source": [
    "with Modc(12):\n",
    "    a = Mod(10)\n",
    "    b = Mod(11)\n",
    "    print(a * b)"
   ]
  },
  {
   "cell_type": "code",
   "execution_count": 36,
   "id": "9f42d612-ae9f-4c8d-86ac-b0869e627e43",
   "metadata": {},
   "outputs": [
    {
     "data": {
      "text/plain": [
       "(9 mod 12)"
      ]
     },
     "execution_count": 36,
     "metadata": {},
     "output_type": "execute_result"
    }
   ],
   "source": [
    "a + b"
   ]
  },
  {
   "cell_type": "code",
   "execution_count": 37,
   "id": "9f80bb68-d205-45c7-a960-6e3fc08a7784",
   "metadata": {},
   "outputs": [
    {
     "data": {
      "text/plain": [
       "(2 mod 12)"
      ]
     },
     "execution_count": 37,
     "metadata": {},
     "output_type": "execute_result"
    }
   ],
   "source": [
    "a * b"
   ]
  },
  {
   "cell_type": "code",
   "execution_count": 38,
   "id": "dfa999b2-f7c9-4c25-87d8-6120e1c8825a",
   "metadata": {},
   "outputs": [
    {
     "data": {
      "text/plain": [
       "(4 mod 12)"
      ]
     },
     "execution_count": 38,
     "metadata": {},
     "output_type": "execute_result"
    }
   ],
   "source": [
    "a * a * a * a"
   ]
  },
  {
   "cell_type": "code",
   "execution_count": 39,
   "id": "0b6eec07-3cec-4acb-9bf4-d8bd8125d271",
   "metadata": {},
   "outputs": [
    {
     "data": {
      "text/plain": [
       "[(1 mod 12), (5 mod 12), (7 mod 12), (11 mod 12)]"
      ]
     },
     "execution_count": 39,
     "metadata": {},
     "output_type": "execute_result"
    }
   ],
   "source": [
    "G = [Mod(i) for i in totatives(12)]\n",
    "G"
   ]
  },
  {
   "cell_type": "code",
   "execution_count": 40,
   "id": "3df6bfba-3eb2-4468-be37-c5a74e937049",
   "metadata": {},
   "outputs": [
    {
     "data": {
      "text/plain": [
       "{(1 mod 12), (5 mod 12), (7 mod 12), (11 mod 12)}"
      ]
     },
     "execution_count": 40,
     "metadata": {},
     "output_type": "execute_result"
    }
   ],
   "source": [
    "set([i * j for i in G for j in G])  # all totatives x all totatives give totatives (closure)"
   ]
  },
  {
   "cell_type": "code",
   "execution_count": 41,
   "id": "9841f93f-a6c3-48ba-8f78-0866f01da342",
   "metadata": {},
   "outputs": [
    {
     "name": "stdout",
     "output_type": "stream",
     "text": [
      "a * b mod 20 =  (10 mod 20)\n",
      "Totatives: [(1 mod 20), (3 mod 20), (7 mod 20), (9 mod 20), (11 mod 20), (13 mod 20), (17 mod 20), (19 mod 20)]\n"
     ]
    }
   ],
   "source": [
    "with Modc(20):\n",
    "    a = Mod(10)\n",
    "    b = Mod(11)\n",
    "    print(f\"a * b mod {Mod._modulus} = \", a * b)\n",
    "    G = [Mod(i) for i in totatives(20)]\n",
    "    print(\"Totatives:\", G)"
   ]
  },
  {
   "cell_type": "code",
   "execution_count": 42,
   "id": "ad6b6754-f1c2-4b59-86e5-2a9eb2dee6a4",
   "metadata": {},
   "outputs": [
    {
     "data": {
      "text/plain": [
       "(2 mod 12)"
      ]
     },
     "execution_count": 42,
     "metadata": {},
     "output_type": "execute_result"
    }
   ],
   "source": [
    "a * b  # Mod._modulus back to 12 thanks to exiting context"
   ]
  },
  {
   "cell_type": "code",
   "execution_count": 43,
   "id": "7e774e71-dca8-41fa-9389-b09e16a3e0fb",
   "metadata": {},
   "outputs": [
    {
     "name": "stdout",
     "output_type": "stream",
     "text": [
      "(1 mod 20) * (1 mod 20) = (1 mod 20)\n",
      "(3 mod 20) * (7 mod 20) = (1 mod 20)\n",
      "(7 mod 20) * (3 mod 20) = (1 mod 20)\n",
      "(9 mod 20) * (9 mod 20) = (1 mod 20)\n",
      "(11 mod 20) * (11 mod 20) = (1 mod 20)\n",
      "(13 mod 20) * (17 mod 20) = (1 mod 20)\n",
      "(17 mod 20) * (13 mod 20) = (1 mod 20)\n",
      "(19 mod 20) * (19 mod 20) = (1 mod 20)\n"
     ]
    }
   ],
   "source": [
    "# everyone has an inverse\n",
    "with Modc(20):\n",
    "    G = [Mod(i) for i in totatives(20)]\n",
    "    for elem in G:\n",
    "        print(f\"{elem} * {elem**-1} = {elem * elem**-1}\")"
   ]
  },
  {
   "cell_type": "markdown",
   "id": "8e83fa5f-a51d-4e2d-8690-05ef6b0b54f8",
   "metadata": {},
   "source": [
    "We might write Modc another way.  Instead of as a class with `__enter__` and `__exit__` methods, the contextlib library will allow decorated generator syntax to perform the same services.  \n",
    "\n",
    "Using a math concept to help unify the context manager and generator concepts in Python, is a good example of leveraging math fluency to improve Python fluency."
   ]
  },
  {
   "cell_type": "code",
   "execution_count": 44,
   "id": "0d6da971-45d4-48d8-9312-5ffbf2853671",
   "metadata": {},
   "outputs": [],
   "source": [
    "from contextlib import contextmanager\n",
    "\n",
    "@contextmanager\n",
    "def Modcg(mod):\n",
    "    # do what __enter__ does\n",
    "    oldmod = Mod._modulus  # store for later\n",
    "    newmod = mod           # the modulus for this context\n",
    "    Mod._modulus = mod\n",
    "    try:\n",
    "        yield  # yield control back to the indented scope\n",
    "    finally:\n",
    "        # finish up, as in __exit__\n",
    "        Mod._modulus = oldmod  # revert to previous modulus"
   ]
  },
  {
   "cell_type": "code",
   "execution_count": 45,
   "id": "bfc32b15-a366-42f2-8377-1d57c7aebcb0",
   "metadata": {},
   "outputs": [
    {
     "name": "stdout",
     "output_type": "stream",
     "text": [
      "(1 mod 13) * (1 mod 13) = (1 mod 13)\n",
      "(3 mod 13) * (9 mod 13) = (1 mod 13)\n",
      "(7 mod 13) * (2 mod 13) = (1 mod 13)\n",
      "(9 mod 13) * (3 mod 13) = (1 mod 13)\n",
      "(11 mod 13) * (6 mod 13) = (1 mod 13)\n",
      "(0 mod 13) * (0 mod 13) = (0 mod 13)\n",
      "(4 mod 13) * (10 mod 13) = (1 mod 13)\n",
      "(6 mod 13) * (11 mod 13) = (1 mod 13)\n"
     ]
    }
   ],
   "source": [
    "# everyone has an inverse\n",
    "with Modcg(13):\n",
    "    G = [Mod(i) for i in totatives(20)]\n",
    "    for elem in G:\n",
    "        print(f\"{elem} * {elem**-1} = {elem * elem**-1}\")"
   ]
  },
  {
   "cell_type": "markdown",
   "id": "1d700b8d-2e0d-4d98-823c-4a6dadc66fbc",
   "metadata": {},
   "source": [
    "## Pascal's Triangle\n",
    "\n",
    "While still in the realm of integers and Number Theory, at the beginning stages of many topics, we introduce number sequences and series in connection with ball packing and Pascal's Triangle.\n",
    "\n",
    "By ball packing, I mean number sequences with geometric interpretations, ala the figurate and polyhedral numbers, as taken up in *The Book of Numbers* by Conway and Guy, and under the heading of *Gnomon* by Midhat Gazale.\n",
    "\n",
    "Triangular and square numbers, tetrahedral numbers, all appear in Pascal's triangle.  Even the Fibonacci numbers may be found.\n",
    "\n",
    "[Pascal's Triangle](PascalsTriangle.ipynb) serves as our jumping off point into talk of the normal and standard normal distribution, a histogram approaching a bell curve as we go to some limit.\n",
    "\n",
    "Regarding Primes and Composities, we know that rows of Pascal's triangle that divide evenly by the row number, are prime, though we may not have a proof at the high school level, only inductive evidence based in computation."
   ]
  },
  {
   "cell_type": "code",
   "execution_count": 46,
   "id": "84422f62-71b6-4f39-b205-609dbd0654dc",
   "metadata": {},
   "outputs": [],
   "source": [
    "def pascal(n):  \n",
    "    \"\"\"\n",
    "    return the nth row of Pascal's triangle\n",
    "    \"\"\"\n",
    "    row = [1]\n",
    "    i = 0\n",
    "    while i < n:\n",
    "        i += 1\n",
    "        row = [i+j for i,j in zip(row+[0], [0]+row)]\n",
    "    return row"
   ]
  },
  {
   "cell_type": "code",
   "execution_count": 47,
   "id": "c5bcfe47-472a-43e7-9e6a-ab1767209479",
   "metadata": {},
   "outputs": [
    {
     "data": {
      "text/plain": [
       "[1, 3, 3, 1]"
      ]
     },
     "execution_count": 47,
     "metadata": {},
     "output_type": "execute_result"
    }
   ],
   "source": [
    "pascal(3)"
   ]
  },
  {
   "cell_type": "markdown",
   "id": "4689466c-9e29-435c-ab4c-6e5e22e8e42f",
   "metadata": {},
   "source": [
    "Pascal's Triangle has long been a primary excuse to introduce the Python generator structure.  What is that?\n",
    "\n",
    "The keyword yeild hands an object back to the caller and suspends execution of the generator, but without losing its place, meaning the caller has the means to \"revive\" a generator -- next(g) -- and have it continue execution right where it left off.\n",
    "\n",
    "In effect, this means you have an iterator, the kind of object you are free to loop over."
   ]
  },
  {
   "cell_type": "code",
   "execution_count": 48,
   "id": "0463803f-8a3e-4387-9aff-64228fbbc995",
   "metadata": {},
   "outputs": [],
   "source": [
    "def gen_pascal():  \n",
    "    \"\"\"\n",
    "    generate successive rows of Pascal's triangle\n",
    "    \"\"\"\n",
    "    row = [1]\n",
    "    i = 0\n",
    "    while True:\n",
    "        yield row\n",
    "        i += 1\n",
    "        row = [i+j for i,j in zip(row+[0], [0]+row)]"
   ]
  },
  {
   "cell_type": "code",
   "execution_count": 49,
   "id": "81feed3a-fdaa-4092-9201-95c24e3b830e",
   "metadata": {},
   "outputs": [],
   "source": [
    "gp = gen_pascal()  # gp - generator for pascal's triangle"
   ]
  },
  {
   "cell_type": "code",
   "execution_count": 50,
   "id": "7ba6e466-ccfe-4168-8a7e-7c7bea55de3f",
   "metadata": {},
   "outputs": [
    {
     "name": "stdout",
     "output_type": "stream",
     "text": [
      "[1]\n",
      "[1, 1]\n",
      "[1, 2, 1]\n",
      "[1, 3, 3, 1]\n",
      "[1, 4, 6, 4, 1]\n",
      "[1, 5, 10, 10, 5, 1]\n",
      "[1, 6, 15, 20, 15, 6, 1]\n",
      "[1, 7, 21, 35, 35, 21, 7, 1]\n",
      "[1, 8, 28, 56, 70, 56, 28, 8, 1]\n",
      "[1, 9, 36, 84, 126, 126, 84, 36, 9, 1]\n"
     ]
    }
   ],
   "source": [
    "for _ in range(10):\n",
    "    print(next(gp))  # next triggers:  run to the next encounter with yield"
   ]
  },
  {
   "cell_type": "code",
   "execution_count": 51,
   "id": "1345c781-51b6-426b-8b2d-c94082d1c235",
   "metadata": {},
   "outputs": [
    {
     "name": "stdout",
     "output_type": "stream",
     "text": [
      "[1]\n",
      "[1, 1]\n",
      "[1, 2, 1]\n",
      "[1, 3, 3, 1]\n",
      "[1, 4, 6, 4, 1]\n",
      "[1, 5, 10, 10, 5, 1]\n",
      "[1, 6, 15, 20, 15, 6, 1]\n",
      "[1, 7, 21, 35, 35, 21, 7, 1]\n",
      "[1, 8, 28, 56, 70, 56, 28, 8, 1]\n",
      "[1, 9, 36, 84, 126, 126, 84, 36, 9, 1]\n",
      "[1, 10, 45, 120, 210, 252, 210, 120, 45, 10, 1]\n",
      "[1, 11, 55, 165, 330, 462, 462, 330, 165, 55, 11, 1]\n",
      "[1, 12, 66, 220, 495, 792, 924, 792, 495, 220, 66, 12, 1]\n",
      "[1, 13, 78, 286, 715, 1287, 1716, 1716, 1287, 715, 286, 78, 13, 1]\n"
     ]
    }
   ],
   "source": [
    "gp = gen_pascal()  # starting over with a fresh generator\n",
    "for row in gp:\n",
    "    print(row)\n",
    "    if len(row) > 13:\n",
    "        break"
   ]
  },
  {
   "cell_type": "markdown",
   "id": "53732f83-4077-4c5c-810b-ff773e768528",
   "metadata": {},
   "source": [
    "The triangular and tetrahedral sequences are columns 2, 3 starting from column 0. In other words, 1, 3, 6, 10... represent triangles of like ping pong balls or whatever, and 1, 4, 10, 20... an accumulation of triangular numbers, coming down from 1 at the apex (1, 1+3, 1+3+6, 1+3+6+10...).  Given how Pascal's Triangle is generated, accumulating accumulations is the name of the game.\n",
    "\n",
    "Sequences describe balls packing on a flat surface, spatially, even hollowly (successive layers).  The cuboctahedron shape, for example, emerges as 12 balls around a central one, and then successive layers of 42, 92, 162... i.e. 10 * L * L + 2, where L = layer number (when L=1, we have 12 balls)."
   ]
  },
  {
   "cell_type": "markdown",
   "id": "1fdbdd15-f114-4e17-a784-d9286264a105",
   "metadata": {},
   "source": [
    "Lets revisit the result that if row n divides evenly into all other numbers in the same row (but for the number 1), then n is prime.  For example, row 5 is \\[1, 5, 10, 10, 5, 1\\] and 5 divides without remainder into all those number but the 1s.  Therefore 5 is prime."
   ]
  },
  {
   "cell_type": "code",
   "execution_count": 52,
   "id": "905b449a-9a72-4dad-9c15-9711a2f61fd0",
   "metadata": {},
   "outputs": [
    {
     "name": "stdout",
     "output_type": "stream",
     "text": [
      "2, 3, 5, 7, 11, 13, 17, 19, 23, 29, 31, 37, 41, 43, 47, 53, 59, 61, 67, 71, 73, 79, 83, 89, 97, "
     ]
    }
   ],
   "source": [
    "# get primes\n",
    "p = gen_pascal()\n",
    "for i in range(100):\n",
    "    row = next(p)\n",
    "    if i >= 2:\n",
    "        row_num = row[1] # column 1\n",
    "        # print(i, sum(row[1:-1]))\n",
    "        if 0 == sum(row[1:-1]) % i: # exclude 1st and last\n",
    "            print(i, end=\", \")      # print if no remainder (row number divides evenly)"
   ]
  },
  {
   "cell_type": "code",
   "execution_count": 53,
   "id": "21fe34c8-2468-4d3a-8e59-891f910c4bc5",
   "metadata": {},
   "outputs": [
    {
     "data": {
      "image/jpeg": "[encoded data removed]",
      "text/html": [
       "\n",
       "        <iframe\n",
       "            width=\"400\"\n",
       "            height=\"300\"\n",
       "            src=\"https://www.youtube.com/embed/HvMSRWTE2mI\"\n",
       "            frameborder=\"0\"\n",
       "            allowfullscreen\n",
       "            \n",
       "        ></iframe>\n",
       "        "
      ],
      "text/plain": [
       "<IPython.lib.display.YouTubeVideo at 0x7fd13ddea5b0>"
      ]
     },
     "execution_count": 53,
     "metadata": {},
     "output_type": "execute_result"
    }
   ],
   "source": [
    "YouTubeVideo(\"HvMSRWTE2mI\") # https://youtu.be/HvMSRWTE2mI"
   ]
  },
  {
   "cell_type": "markdown",
   "id": "afb56253-3243-4cb6-a469-80954449f1f3",
   "metadata": {},
   "source": [
    "## The Rational Numbers\n",
    "\n",
    "A first or second excuse to introduce operator overloading and to code a substantial \"math object\" comes with the rational numbers of Fraction type.  \n",
    "\n",
    "Python has a fractions.Fraction in the Standard Library, along with math.gcd, but neither need not stop us from using our own code.\n",
    "\n",
    "We may start writing a own Rational Number class, which keeps track of the integer numerator and denominator."
   ]
  },
  {
   "cell_type": "code",
   "execution_count": 54,
   "id": "99429470-b100-42da-9988-9a18d8bc0441",
   "metadata": {},
   "outputs": [],
   "source": [
    "from fractions import Fraction"
   ]
  },
  {
   "cell_type": "code",
   "execution_count": 55,
   "id": "6c30eb96-e4de-455a-af30-f641dc8651bf",
   "metadata": {},
   "outputs": [],
   "source": [
    "from math import gcd\n",
    "\n",
    "class Rat:\n",
    "    \n",
    "    def __init__(self, p, q):\n",
    "        GCD = gcd(p,q)\n",
    "        self.p = p//GCD\n",
    "        self.q = q//GCD\n",
    "        \n",
    "    def __mul__(self, other):\n",
    "        return Rat(self.p * other.p, self.q * other.q)\n",
    "    \n",
    "    def __truediv__(self, other):\n",
    "        pass\n",
    "    \n",
    "    def __add__(self, other):\n",
    "        new_p = self.p * other.q + other.p * self.q\n",
    "        new_q = self.q * other.q  # common denominator\n",
    "        return Rat(new_p, new_q)\n",
    "    \n",
    "    def __pow__(self, e):\n",
    "        if e < 0:\n",
    "            new_p = self.q\n",
    "            new_q = self.p\n",
    "        else:\n",
    "            new_p = self.p\n",
    "            new_q = self.q\n",
    "        e = abs(e)\n",
    "        return Rat(new_p ** e, new_q ** e)\n",
    "            \n",
    "    def __neg__(self):\n",
    "        return Rat(-self.p, self.q)\n",
    "    \n",
    "    def __sub__(self, other):\n",
    "        return self + (-other)\n",
    "    \n",
    "    def __repr__(self):\n",
    "        return '({}/{})'.format(self.p, self.q)"
   ]
  },
  {
   "cell_type": "code",
   "execution_count": 56,
   "id": "84e711af-8265-4b7d-9804-e8e500b29363",
   "metadata": {},
   "outputs": [],
   "source": [
    "f1 = Rat(10, 30)\n",
    "f2 = Rat(1, 2)"
   ]
  },
  {
   "cell_type": "code",
   "execution_count": 57,
   "id": "42315435-0b68-4194-a86f-893d7b3960be",
   "metadata": {},
   "outputs": [
    {
     "data": {
      "text/plain": [
       "(1/3)"
      ]
     },
     "execution_count": 57,
     "metadata": {},
     "output_type": "execute_result"
    }
   ],
   "source": [
    "f1"
   ]
  },
  {
   "cell_type": "code",
   "execution_count": 58,
   "id": "fc3c945c-173b-4411-b4d0-580cc6d3d761",
   "metadata": {},
   "outputs": [
    {
     "data": {
      "text/plain": [
       "(1/6)"
      ]
     },
     "execution_count": 58,
     "metadata": {},
     "output_type": "execute_result"
    }
   ],
   "source": [
    "f2 * f1"
   ]
  },
  {
   "cell_type": "code",
   "execution_count": 59,
   "id": "2667e8c8-8840-402d-884b-4e4fb6e81fd7",
   "metadata": {},
   "outputs": [
    {
     "data": {
      "text/plain": [
       "(5/6)"
      ]
     },
     "execution_count": 59,
     "metadata": {},
     "output_type": "execute_result"
    }
   ],
   "source": [
    "f1 + f2"
   ]
  },
  {
   "cell_type": "code",
   "execution_count": 60,
   "id": "131045be-e9ff-4e42-9191-4eee7a943c47",
   "metadata": {},
   "outputs": [
    {
     "data": {
      "text/plain": [
       "(-1/6)"
      ]
     },
     "execution_count": 60,
     "metadata": {},
     "output_type": "execute_result"
    }
   ],
   "source": [
    "f1 - f2"
   ]
  },
  {
   "cell_type": "code",
   "execution_count": 61,
   "id": "ab4350ee-7a56-4dc5-891a-309a7cc91db5",
   "metadata": {},
   "outputs": [
    {
     "data": {
      "text/plain": [
       "(1/2)"
      ]
     },
     "execution_count": 61,
     "metadata": {},
     "output_type": "execute_result"
    }
   ],
   "source": [
    "f2"
   ]
  },
  {
   "cell_type": "code",
   "execution_count": 62,
   "id": "cc33433a-8433-4aa7-a6f5-8b081bea86aa",
   "metadata": {},
   "outputs": [
    {
     "data": {
      "text/plain": [
       "(1/1)"
      ]
     },
     "execution_count": 62,
     "metadata": {},
     "output_type": "execute_result"
    }
   ],
   "source": [
    "(f2**-1) * f2"
   ]
  },
  {
   "cell_type": "markdown",
   "id": "86d93cda-1b8a-403f-ac7f-e1dc6c20d608",
   "metadata": {},
   "source": [
    "## The Polynomial\n",
    "\n",
    "Anyone flipping through high school textbooks from the last 100 years, is likely to be impressed the polynomials form a salient concept.  We learn to factor them, the find their roots, to plot them, the add, multiply, subtract and divide them.\n",
    "\n",
    "Polynomials introduce maths in a competitive format, featuring the mathematicians of the Italian Renaissance in [factoring face-offs](https://web.math.utk.edu/~cartwright/iaawa/section-poly-factorization.html)."
   ]
  },
  {
   "cell_type": "code",
   "execution_count": 63,
   "id": "cdd70ad6-749b-45f0-8f3e-f6535b04d990",
   "metadata": {},
   "outputs": [],
   "source": [
    "import sympy as sp"
   ]
  },
  {
   "cell_type": "markdown",
   "id": "699752d5-1c43-4b33-a512-dcfb6ebbec18",
   "metadata": {},
   "source": [
    "Over on Math Forum (math-teach archives) I advocated for a No Child Left Behind polynomial, somewhat tongue in cheek, yet I was serious about wanting to get $\\phi$ in the action early.  We use it often."
   ]
  },
  {
   "cell_type": "code",
   "execution_count": 64,
   "id": "29c9eaa4-bcd3-4293-bacc-eb634b791fbb",
   "metadata": {},
   "outputs": [
    {
     "data": {
      "text/latex": [
       "$\\displaystyle φ = \\frac{φ + 1}{φ}$"
      ],
      "text/plain": [
       "Eq(φ, (φ + 1)/φ)"
      ]
     },
     "execution_count": 64,
     "metadata": {},
     "output_type": "execute_result"
    }
   ],
   "source": [
    "φ = sp.Symbol('φ')\n",
    "equation = sp.Eq(φ/1, (φ+1)/φ) # 1 is to φ as φ is to x + 1\n",
    "equation"
   ]
  },
  {
   "cell_type": "code",
   "execution_count": 65,
   "id": "90a9ed65-74b6-4c53-a122-50f03b597d2e",
   "metadata": {},
   "outputs": [
    {
     "data": {
      "text/plain": [
       "[1/2 - sqrt(5)/2, 1/2 + sqrt(5)/2]"
      ]
     },
     "execution_count": 65,
     "metadata": {},
     "output_type": "execute_result"
    }
   ],
   "source": [
    "ans = sp.solve(equation)\n",
    "ans"
   ]
  },
  {
   "cell_type": "code",
   "execution_count": 66,
   "id": "66cfe2b9-bfd6-4f61-a2d9-a7d9403859fc",
   "metadata": {},
   "outputs": [
    {
     "data": {
      "text/latex": [
       "$\\displaystyle 1.61803398874989$"
      ],
      "text/plain": [
       "1.61803398874989"
      ]
     },
     "execution_count": 66,
     "metadata": {},
     "output_type": "execute_result"
    }
   ],
   "source": [
    "ans[1].evalf()"
   ]
  },
  {
   "cell_type": "code",
   "execution_count": 67,
   "id": "5a2b4219-e57b-45b9-816a-9b2554bbb304",
   "metadata": {},
   "outputs": [
    {
     "data": {
      "text/latex": [
       "$\\displaystyle 1.6180339887498948482$"
      ],
      "text/plain": [
       "1.6180339887498948482"
      ]
     },
     "execution_count": 67,
     "metadata": {},
     "output_type": "execute_result"
    }
   ],
   "source": [
    "sp.S.GoldenRatio.n(20)"
   ]
  },
  {
   "cell_type": "code",
   "execution_count": 68,
   "id": "553034c4-c887-43f8-9139-a6db965baa11",
   "metadata": {},
   "outputs": [],
   "source": [
    "from sympy.abc import *"
   ]
  },
  {
   "cell_type": "code",
   "execution_count": 69,
   "id": "cea32034-39ec-445a-a89d-d369983a1a1d",
   "metadata": {},
   "outputs": [
    {
     "data": {
      "text/latex": [
       "$\\displaystyle a x^{2} + b x + c$"
      ],
      "text/plain": [
       "a*x**2 + b*x + c"
      ]
     },
     "execution_count": 69,
     "metadata": {},
     "output_type": "execute_result"
    }
   ],
   "source": [
    "expr = a*x**2 + b*x + c\n",
    "expr"
   ]
  },
  {
   "cell_type": "code",
   "execution_count": 70,
   "id": "a52112bc-d685-49f6-84e5-c0954800e4c2",
   "metadata": {},
   "outputs": [
    {
     "data": {
      "text/plain": [
       "[(-b - sqrt(-4*a*c + b**2))/(2*a), (-b + sqrt(-4*a*c + b**2))/(2*a)]"
      ]
     },
     "execution_count": 70,
     "metadata": {},
     "output_type": "execute_result"
    }
   ],
   "source": [
    "sp.solve(expr, x)"
   ]
  },
  {
   "cell_type": "markdown",
   "id": "3deeb3ca-46e3-4835-9fda-6d80071274b8",
   "metadata": {},
   "source": [
    "Shall we write our own Polynomial class?  That's definitely doable."
   ]
  },
  {
   "cell_type": "markdown",
   "id": "cc8c2d25-3d98-41d2-94ff-e7558336245b",
   "metadata": {},
   "source": [
    "## The Permutation\n",
    "\n",
    "In how many distinct orders might a deck of 52 be shuffled?  \n",
    "\n",
    "Every card is unique.  We have 52 to choose from for the first card, with one of 51 remaining for the second and so on:  52 * 51 * 50 ... * 1.  That's an astronomically large number: 52 factorial or $52!$ or...."
   ]
  },
  {
   "cell_type": "code",
   "execution_count": 71,
   "id": "5f1e9523-3225-472c-8545-b06e446a2647",
   "metadata": {},
   "outputs": [
    {
     "data": {
      "text/plain": [
       "80658175170943878571660636856403766975289505440883277824000000000000"
      ]
     },
     "execution_count": 71,
     "metadata": {},
     "output_type": "execute_result"
    }
   ],
   "source": [
    "import math\n",
    "math.factorial(52)  # showing off Python's arbitrary length int type"
   ]
  },
  {
   "cell_type": "markdown",
   "id": "eefbee9b-7910-4af6-80f9-5d79a71af1f6",
   "metadata": {},
   "source": [
    "\n",
    "Permutations take us into Combinatorics, and are also our bridge into Abstract Algebra, wherein permutations come in groups, i.e. with a binary group operation. They also come with a unary operator for obtaining the inverse of any element.\n",
    "\n",
    "Assuming the object oriented paradigm is going to stay relevant, Python's way of doing operator overloading comes into play with the P type.  We'll want to defind `__mul__` and several other operators using \"magic methods\" or \"special names\" (same thing)."
   ]
  },
  {
   "cell_type": "markdown",
   "id": "cf5c719d-f9f5-4cfd-af2f-4cc6c7e3c0a7",
   "metadata": {},
   "source": [
    "A permutation might map the letters 'a-z' (lowercase ascii) plus space, to that same set in a different order, one-to-one.  That's a permutation, or \"shuffle\" of the 27 elements 'a-z' + space.\n",
    "\n",
    "Permutation objects are a lot like dictionaries in associated every key with a corresponding value."
   ]
  },
  {
   "cell_type": "code",
   "execution_count": 72,
   "id": "38084ccf-a035-4197-a5bc-ada43d9b08d9",
   "metadata": {},
   "outputs": [],
   "source": [
    "from px_class import P"
   ]
  },
  {
   "cell_type": "code",
   "execution_count": 73,
   "id": "22b019e5-0eb3-47ec-a2a1-04de8e327193",
   "metadata": {},
   "outputs": [],
   "source": [
    "p = P().shuffle()\n",
    "q = P().shuffle()\n",
    "e = P()"
   ]
  },
  {
   "cell_type": "markdown",
   "id": "1300c411-7b30-47f4-bd1f-3ae4c0cb8e5a",
   "metadata": {},
   "source": [
    "To multiply two permutations is to conjoin their mappings, thereby composing them: \n",
    "\n",
    "Option 1:  Do p to x, then q the result.\n",
    "\n",
    "* if $p[x] \\rightarrow y$ and \n",
    "* $q[y] \\rightarrow z$ then \n",
    "* $(p * q)[x] \\rightarrow z$\n",
    "\n",
    "Or sometimes it's the other way around:\n",
    "\n",
    "Option 2:  Do q to x, then p the result.\n",
    "\n",
    "* if $q[x] \\rightarrow y$ and \n",
    "* $p[y] \\rightarrow z$ then \n",
    "* $(p * q)[x] \\rightarrow z$\n",
    "\n",
    "We go with option 1 with the P class inside of `px_class.py`."
   ]
  },
  {
   "cell_type": "code",
   "execution_count": 74,
   "id": "14999d02-54a8-4b77-a97c-85fa4f541e00",
   "metadata": {},
   "outputs": [
    {
     "data": {
      "text/plain": [
       "'b'"
      ]
     },
     "execution_count": 74,
     "metadata": {},
     "output_type": "execute_result"
    }
   ],
   "source": [
    "y = p['a']\n",
    "z = q[y]\n",
    "z"
   ]
  },
  {
   "cell_type": "code",
   "execution_count": 75,
   "id": "68b48bcf-dfa4-4e83-af5e-aa4fd569210e",
   "metadata": {},
   "outputs": [
    {
     "data": {
      "text/plain": [
       "'b'"
      ]
     },
     "execution_count": 75,
     "metadata": {},
     "output_type": "execute_result"
    }
   ],
   "source": [
    "(p * q)['a']"
   ]
  },
  {
   "cell_type": "code",
   "execution_count": 76,
   "id": "74e9023e-fe3f-4da8-a167-63e45fe05a3b",
   "metadata": {},
   "outputs": [
    {
     "data": {
      "text/plain": [
       "'l'"
      ]
     },
     "execution_count": 76,
     "metadata": {},
     "output_type": "execute_result"
    }
   ],
   "source": [
    "p['a']  "
   ]
  },
  {
   "cell_type": "code",
   "execution_count": 77,
   "id": "44e731c2-d588-425f-8244-df99cf7d1a2e",
   "metadata": {},
   "outputs": [
    {
     "data": {
      "text/plain": [
       "'b'"
      ]
     },
     "execution_count": 77,
     "metadata": {},
     "output_type": "execute_result"
    }
   ],
   "source": [
    "q[p['a']] "
   ]
  },
  {
   "cell_type": "code",
   "execution_count": 78,
   "id": "796e9343-1fab-4b1c-b3e2-867beff5d286",
   "metadata": {},
   "outputs": [
    {
     "data": {
      "text/plain": [
       "'b'"
      ]
     },
     "execution_count": 78,
     "metadata": {},
     "output_type": "execute_result"
    }
   ],
   "source": [
    "(p * q)['a']"
   ]
  },
  {
   "cell_type": "code",
   "execution_count": 79,
   "id": "fa43ab22-1838-410b-828a-06f8266c1306",
   "metadata": {},
   "outputs": [
    {
     "data": {
      "text/plain": [
       "True"
      ]
     },
     "execution_count": 79,
     "metadata": {},
     "output_type": "execute_result"
    }
   ],
   "source": [
    "(~q * q) == e"
   ]
  },
  {
   "cell_type": "code",
   "execution_count": 80,
   "id": "72ff6e8b-48f5-43b2-b0bf-6a5479456e4b",
   "metadata": {},
   "outputs": [
    {
     "data": {
      "text/plain": [
       "'brzzrscyfeyz zfz kwcpkdr'"
      ]
     },
     "execution_count": 80,
     "metadata": {},
     "output_type": "execute_result"
    }
   ],
   "source": [
    "c = q(\"letter substitution code\")\n",
    "c"
   ]
  },
  {
   "cell_type": "code",
   "execution_count": 81,
   "id": "464d8d96-baf3-4090-8452-8b0ad6f6be3a",
   "metadata": {},
   "outputs": [
    {
     "data": {
      "text/plain": [
       "'letter substitution code'"
      ]
     },
     "execution_count": 81,
     "metadata": {},
     "output_type": "execute_result"
    }
   ],
   "source": [
    "(~q)(c)"
   ]
  },
  {
   "cell_type": "code",
   "execution_count": 82,
   "id": "6fc0feba-1ae9-4c2f-809f-016b0575490e",
   "metadata": {},
   "outputs": [
    {
     "data": {
      "text/plain": [
       "(('a',),\n",
       " ('b', 'e', 'r', 's', 'y', 'l'),\n",
       " ('c', 'p', 'x', 'o', 'k', 'j', 't', 'z', 'u', 'f', 'g', 'q', 'i', ' '),\n",
       " ('d',),\n",
       " ('h', 'n', 'w'),\n",
       " ('m', 'v'))"
      ]
     },
     "execution_count": 82,
     "metadata": {},
     "output_type": "execute_result"
    }
   ],
   "source": [
    "q.cyclic()"
   ]
  },
  {
   "cell_type": "code",
   "execution_count": 83,
   "id": "60f841cb-623a-4b4c-8124-fbdbf61a627c",
   "metadata": {},
   "outputs": [
    {
     "data": {
      "image/jpeg": "[encoded data removed]",
      "text/html": [
       "\n",
       "        <iframe\n",
       "            width=\"400\"\n",
       "            height=\"300\"\n",
       "            src=\"https://www.youtube.com/embed/iSNsgj1OCLA\"\n",
       "            frameborder=\"0\"\n",
       "            allowfullscreen\n",
       "            \n",
       "        ></iframe>\n",
       "        "
      ],
      "text/plain": [
       "<IPython.lib.display.YouTubeVideo at 0x7fd13f7e0400>"
      ]
     },
     "execution_count": 83,
     "metadata": {},
     "output_type": "execute_result"
    }
   ],
   "source": [
    "YouTubeVideo(\"iSNsgj1OCLA\") # https://youtu.be/iSNsgj1OCLA"
   ]
  },
  {
   "cell_type": "markdown",
   "id": "96934f49-f0cf-4595-a9a2-d7a85d384cd9",
   "metadata": {},
   "source": [
    "## The Vector\n",
    "\n",
    "High school math has conventionally introduced (x, y) and (x, y, z) coordinates twice, the first time without vector notation, the second time with.\n",
    "\n",
    "Given an object oriented computer language, why not start with Vectors?  \n",
    "\n",
    "Introduce operator overloading and implement vector addition and subtraction, along with scalar multiplication and division.\n",
    "\n",
    "Expand to include dot and cross products."
   ]
  },
  {
   "cell_type": "code",
   "execution_count": 1,
   "id": "ce7d2352-222d-4751-bc9a-e1e95f389dae",
   "metadata": {},
   "outputs": [],
   "source": [
    "# %load -s Vector pov.py\n",
    "class Vector:\n",
    "    \n",
    "    def __init__(self, x, y, z):\n",
    "        self.v = np.array((x, y, z))\n",
    "        \n",
    "    def __add__(self, other):\n",
    "        v_sum = self.v + other.v\n",
    "        return type(self)(*v_sum)\n",
    "    \n",
    "    def __neg__(self):\n",
    "        return -1 * self\n",
    "    \n",
    "    def __sub__(self, other):\n",
    "        v = self.v + (-other.v)\n",
    "        return type(self)(*v)\n",
    "                      \n",
    "    def __mul__(self, scalar):\n",
    "        v = scalar * self.v\n",
    "        return type(self)(*v)\n",
    "    \n",
    "    def dot(self, other):\n",
    "        return sum([i * j for i, j in zip(self.v, other.v)])\n",
    "    \n",
    "    # scalar on the left: s * Vector -> Vector.__rmul__(s)\n",
    "    __rmul__ = __mul__\n",
    "    \n",
    "    def __truediv__(self, scalar):\n",
    "        new_v = (1/scalar) * self.v\n",
    "        return type(self)(*new_v)\n",
    "    \n",
    "    def normalize(self):\n",
    "        if self.length != 0:\n",
    "            return type(self)(*(self.v/self.length))\n",
    "        else:\n",
    "            return type(self)((0,0,0))\n",
    "    \n",
    "    @property\n",
    "    def length(self):\n",
    "        x, y, z = self.v\n",
    "        return np.sqrt(self.dot(self))\n",
    "    \n",
    "    def __repr__(self):\n",
    "        return 'Vector({},{},{})'.format(*self.v)"
   ]
  },
  {
   "cell_type": "markdown",
   "id": "3f1cc149-9d42-4f00-a44a-97ce016f00a2",
   "metadata": {},
   "source": [
    "## The Triangle\n",
    "\n",
    "With a coordinate system implied, and vectors present, we have everything we need to introduce triangles, along with the trigonometric functions.  \n",
    "\n",
    "A popular convention we might adopt is to label the angles A, B, C opposite the corresponding edges a, b, c.  If one of the angles is a right angle, have it be angle C by convention, the included angle between legs a and b, and opposite hypotenuse c.\n",
    "\n",
    "<a data-flickr-embed=\"true\" href=\"https://www.flickr.com/photos/kirbyurner/52094878384/in/photolist-2nnrSom-2mrcdVt\" title=\"pentatrig\"><img src=\"https://live.staticflickr.com/65535/52094878384_dc38015da5_o.jpg\" width=\"320\" height=\"290\" alt=\"pentatrig\"></a><script async src=\"//embedr.flickr.com/assets/client-code.js\" charset=\"utf-8\"></script>\n",
    "\n",
    "\n",
    "The Triangle type below is initialized by sides a, b, c.  It stores these lengths \"privately\" (using \\_a, \\_b, \\_c) with single underline prefixes. The property decorator allows \"get attribute\" syntax to spin some wheels, meaning getting these values, without calling anything, triggers a corresponding method.\n",
    "\n",
    "The use of the property decorator falls under \"deep Python\".\n",
    "\n",
    "[Trig and Complex Numbers](Trig.ipynb)"
   ]
  },
  {
   "cell_type": "code",
   "execution_count": 44,
   "id": "7b6251b4-3295-4d49-9543-01e13534a7f6",
   "metadata": {},
   "outputs": [],
   "source": [
    "from math import acos, degrees, sqrt\n",
    "\n",
    "class Triangle:\n",
    "    \n",
    "    def __init__(self, a, b, c):  # side, side, side\n",
    "        self._a = a\n",
    "        self._b = b\n",
    "        self._c = c\n",
    "    \n",
    "    @property\n",
    "    def area(self):\n",
    "        \"Heron's Formula\"\n",
    "        a = self.a\n",
    "        b = self.b\n",
    "        c = self.c\n",
    "        s = self.perimeter/2\n",
    "        return sqrt(s*(s-a)*(s-b)*(s-c))\n",
    "    \n",
    "    @property\n",
    "    def perimeter(self):\n",
    "        return self.a + self.b + self.c\n",
    "    \n",
    "    @property\n",
    "    def A(self):\n",
    "        a = self.a\n",
    "        b = self.b\n",
    "        c = self.c\n",
    "        return degrees(acos((b**2 + c**2 - a**2)/2*b*c))\n",
    "    \n",
    "    @property\n",
    "    def B(self):\n",
    "        a = self.a\n",
    "        b = self.b\n",
    "        c = self.c\n",
    "        return degrees(acos((a**2 + c**2 - b**2)/2*a*c))\n",
    "    \n",
    "    @property\n",
    "    def C(self):\n",
    "        a = self.a\n",
    "        b = self.b\n",
    "        c = self.c\n",
    "        return degrees(acos((a**2 + b**2 - c**2)/2*a*b))\n",
    "\n",
    "    @property\n",
    "    def a(self):\n",
    "        return self._a\n",
    "    \n",
    "    @property\n",
    "    def b(self):\n",
    "        return self._b\n",
    "    \n",
    "    @property\n",
    "    def c(self):\n",
    "        return self._c\n",
    "    \n",
    "    def __repr__(self):\n",
    "        return f\"Triangle({self.a}, {self.b}, {self.c})\""
   ]
  },
  {
   "cell_type": "code",
   "execution_count": 45,
   "id": "16df3616-8b3b-4d09-a244-dae5df6a49e0",
   "metadata": {},
   "outputs": [
    {
     "data": {
      "text/plain": [
       "Triangle(3, 4, 5)"
      ]
     },
     "execution_count": 45,
     "metadata": {},
     "output_type": "execute_result"
    }
   ],
   "source": [
    "t = Triangle(3, 4, 5)\n",
    "t"
   ]
  },
  {
   "cell_type": "code",
   "execution_count": 46,
   "id": "1eb7eb37-9a10-43bb-a4f9-74bae554dcc3",
   "metadata": {},
   "outputs": [
    {
     "data": {
      "text/plain": [
       "90.0"
      ]
     },
     "execution_count": 46,
     "metadata": {},
     "output_type": "execute_result"
    }
   ],
   "source": [
    "t.C"
   ]
  },
  {
   "cell_type": "code",
   "execution_count": 47,
   "id": "666576d3-28dd-447b-a7f7-2e9859a8ed02",
   "metadata": {},
   "outputs": [
    {
     "data": {
      "text/plain": [
       "6.0"
      ]
     },
     "execution_count": 47,
     "metadata": {},
     "output_type": "execute_result"
    }
   ],
   "source": [
    "t.area"
   ]
  },
  {
   "cell_type": "markdown",
   "id": "9b74f280-ae00-4150-a454-ff0cdfffde4d",
   "metadata": {},
   "source": [
    "## Computer Graphics\n",
    "\n",
    "Once we're in the space of spatial vectors, a next challenge is to phase in computer graphics, by way of the polyhedrons. Ray tracing with [POV-Ray](https://www.povray.org) has been a focus of [the Oregon Curriculum Network](http://4dsolutions.net/ocn/numeracy0.html) since the 1990s. \n",
    "\n",
    "Google Colab will not be able to process the POV files generated in this section.  Install [POV-Ray](https://flic.kr/s/aHsiVEpzYU) locally to take full advantage of the 3D graphics framework developed herein.\n",
    "\n",
    "![povray camera](http://www.povray.org/documentation/3.7.0/images/f/fd/RefImgPerspcam.gif)\n",
    "\n",
    "Vectors with a shared tail at the origin fan out to give the surface features of a polyhedron, in terms of Edges (pairs of vectors) and Faces (cycles of Edges)."
   ]
  },
  {
   "cell_type": "code",
   "execution_count": 2,
   "id": "158db217-b6e8-47f7-a828-200cc8451323",
   "metadata": {},
   "outputs": [
    {
     "data": {
      "text/plain": [
       "<module 'pov' from '/Users/mac/Documents/elite_school/pov.py'>"
      ]
     },
     "execution_count": 2,
     "metadata": {},
     "output_type": "execute_result"
    }
   ],
   "source": [
    "# used to recompile pov when developing\n",
    "import pov\n",
    "import imp\n",
    "imp.reload(pov)"
   ]
  },
  {
   "cell_type": "markdown",
   "id": "aedd9c28-3c39-4477-94ff-0958d7c2a0b2",
   "metadata": {},
   "source": [
    "Much of the relevant source code, including the Tetrahedron and Polyhedron types, lives submerged in [pov.py](pov.py).  \n",
    "\n",
    "The subclasses of Polyhedron include the faces as a tuple of tuples.  The faces get distilled into edges, pairs of POV_Vectors.  For example, face `('a', 'b', 'c')` would distill into edges `POV_Edge('a', 'b')`, `POV_Edge('b', 'c')` and `POV_Edge('a', 'c')`."
   ]
  },
  {
   "cell_type": "code",
   "execution_count": 86,
   "id": "50f2c7dc-36a9-4039-8e43-7ee8b69f5928",
   "metadata": {},
   "outputs": [],
   "source": [
    "from pov import POV_Vector, Tetrahedron, InvTetrahedron"
   ]
  },
  {
   "cell_type": "code",
   "execution_count": 87,
   "id": "224df2e2-1a1e-44ac-81b2-4ffda7f63c0e",
   "metadata": {},
   "outputs": [],
   "source": [
    "# Tetrahedron\n",
    "a = POV_Vector(x =  0.35355339059327373, \n",
    "               y =  0.35355339059327373, \n",
    "               z =  0.35355339059327373)\n",
    "\n",
    "b = POV_Vector(x = -0.35355339059327373, \n",
    "               y = -0.35355339059327373, \n",
    "               z =  0.35355339059327373)\n",
    "           \n",
    "c = POV_Vector(x = -0.35355339059327373, \n",
    "               y =  0.35355339059327373, \n",
    "               z = -0.35355339059327373)\n",
    "           \n",
    "d = POV_Vector(x =  0.35355339059327373, \n",
    "               y = -0.35355339059327373, \n",
    "               z = -0.35355339059327373)"
   ]
  },
  {
   "cell_type": "code",
   "execution_count": 88,
   "id": "abcc87e3-cfdb-420b-af25-572dea6e3558",
   "metadata": {},
   "outputs": [
    {
     "data": {
      "text/plain": [
       "(POV_Vector(0.35355339059327373,0.35355339059327373,0.35355339059327373),\n",
       " POV_Vector(-0.35355339059327373,-0.35355339059327373,-0.35355339059327373),\n",
       " POV_Vector(0.0,0.0,0.7071067811865475),\n",
       " POV_Vector(0.7071067811865475,0.7071067811865475,0.0),\n",
       " POV_Vector(1.0606601717798212,1.0606601717798212,1.0606601717798212))"
      ]
     },
     "execution_count": 88,
     "metadata": {},
     "output_type": "execute_result"
    }
   ],
   "source": [
    "a, -a, a+b, a-b, 3*a"
   ]
  },
  {
   "cell_type": "code",
   "execution_count": 89,
   "id": "1d3e7367-aca5-485e-8fea-c7511bbca73f",
   "metadata": {},
   "outputs": [
    {
     "name": "stdout",
     "output_type": "stream",
     "text": [
      "four_vectors.pov ready for rendering\n"
     ]
    }
   ],
   "source": [
    "x = POV_Vector(2, 0, 0)\n",
    "y = POV_Vector(0, 1.5, 0)\n",
    "z = POV_Vector(0, 0, 1.5)\n",
    "origin = POV_Vector(0,0,0)\n",
    "    \n",
    "with open(\"four_vectors.pov\", \"w\") as output:\n",
    "    print(pov.pov_header, file=output)  # print to the output file\n",
    "    colors = (\"rgb <1, 0.4, 0>\",\n",
    "              \"rgb <1, 0, 0>\",\n",
    "              \"rgb <0, 1, 0>\",\n",
    "              \"rgb <0, 0, 1>\")\n",
    "\n",
    "    # XYZ apparatus\n",
    "    origin.draw_vert(\"rgb <0, 0, 0>\", 0.1, output)\n",
    "    for v in (x, y, z, -x, -y, -z):\n",
    "        v.draw_edge(\"rgb <66/255, 224/255, 245/255>\", \n",
    "                    0.01, \n",
    "                    output)\n",
    "        \n",
    "    for idx, v in enumerate((a,b,c,d)):\n",
    "        v.draw_edge(colors[idx], 0.03, output)\n",
    "        v.draw_vert(colors[idx], 0.05, output)\n",
    "        \n",
    "print(\"four_vectors.pov ready for rendering\")"
   ]
  },
  {
   "cell_type": "markdown",
   "id": "1d8ca9ac-6864-4670-a586-49d1e8fbd103",
   "metadata": {},
   "source": [
    "<a data-flickr-embed=\"true\" href=\"https://www.flickr.com/photos/kirbyurner/52141879420/in/dateposted-public/\" title=\"four_vectors\"><img src=\"https://live.staticflickr.com/65535/52141879420_ca320dc9d5_z.jpg\" width=\"640\" height=\"485\" alt=\"four_vectors\"></a><script async src=\"//embedr.flickr.com/assets/client-code.js\" charset=\"utf-8\"></script>"
   ]
  },
  {
   "cell_type": "markdown",
   "id": "a58f76f1-9ecb-42e1-a0b4-2f2a0a7584c1",
   "metadata": {},
   "source": [
    "The vertexes have string letter labels.  Pairing them with actual vectors involves passing a dictionary upon initializing an instance, as shown below:"
   ]
  },
  {
   "cell_type": "code",
   "execution_count": 90,
   "id": "aa9742f4-b72b-4959-9776-5b94de318635",
   "metadata": {},
   "outputs": [
    {
     "data": {
      "text/plain": [
       "(('a', 'b', 'c'), ('a', 'c', 'd'), ('a', 'd', 'b'), ('b', 'c', 'd'))"
      ]
     },
     "execution_count": 90,
     "metadata": {},
     "output_type": "execute_result"
    }
   ],
   "source": [
    "t = Tetrahedron(verts={'a':a, 'b':b, 'c':c, 'd':d}) # labels with vectors\n",
    "t.faces # already hard-wired"
   ]
  },
  {
   "cell_type": "code",
   "execution_count": 91,
   "id": "bc2e98eb-9688-42b1-86d6-70da9cdd080d",
   "metadata": {},
   "outputs": [
    {
     "data": {
      "text/plain": [
       "(('e', 'f', 'g'), ('e', 'g', 'h'), ('e', 'h', 'f'), ('f', 'h', 'g'))"
      ]
     },
     "execution_count": 91,
     "metadata": {},
     "output_type": "execute_result"
    }
   ],
   "source": [
    "e,f,g,h     = b+c+d, a+c+d, a+b+d, a+b+c \n",
    "t_inv = InvTetrahedron(verts={'e':e, 'f':f, 'g':g, 'h':h}) \n",
    "t_inv.faces"
   ]
  },
  {
   "cell_type": "markdown",
   "id": "267502f8-23a6-4f06-9223-8093d86873d4",
   "metadata": {},
   "source": [
    "Here is one of the tetrahedron's POV_Edge objects, containing a pair of POV_Vector type objects."
   ]
  },
  {
   "cell_type": "code",
   "execution_count": 92,
   "id": "3aae7b9d-7c29-4ab6-a118-60d8aac616e5",
   "metadata": {},
   "outputs": [
    {
     "name": "stdout",
     "output_type": "stream",
     "text": [
      "POV_Vector(0.35355339059327373,0.35355339059327373,0.35355339059327373)\n",
      "POV_Vector(0.35355339059327373,-0.35355339059327373,-0.35355339059327373)\n"
     ]
    }
   ],
   "source": [
    "print(\"{edge.v0}\\n{edge.v1}\".format(edge = t.edges[0]))"
   ]
  },
  {
   "cell_type": "markdown",
   "id": "fbd0db13-994b-4288-9208-e1730b17c6cf",
   "metadata": {},
   "source": [
    " The POV_Edge type has its own `draw_edge` method for writing the corresponding scene description language, just as POV_Vector has `draw_vert`:\n",
    "\n",
    "```python\n",
    "\n",
    "    def draw_vert(self, c, r, outfile): \n",
    "        vert = \"< {}, {}, {} >\".format(*self.v)\n",
    "        template = (\"sphere {{ {}, {} texture \"\n",
    "                    \"{{ pigment {{ color {} }} }} no_shadow }}\") \n",
    "        print(template.format(vert, r, c), file=outfile)\n",
    "```\n"
   ]
  },
  {
   "cell_type": "code",
   "execution_count": 93,
   "id": "96d54ea0-e34a-4654-8469-9d3b341418f2",
   "metadata": {},
   "outputs": [
    {
     "name": "stdout",
     "output_type": "stream",
     "text": [
      "cylinder { < 0.35355339059327373, 0.35355339059327373, 0.35355339059327373 >, < 0.35355339059327373, -0.35355339059327373, -0.35355339059327373 >, 0.03 texture {pigment { color rgb <1,0,0> } } no_shadow }\n"
     ]
    }
   ],
   "source": [
    "t.edges[0].draw_edge(c='rgb <1,0,0>', r=0.03) # output to POV-Ray file"
   ]
  },
  {
   "cell_type": "markdown",
   "id": "49fdd61e-e16a-4c9d-bb9f-59b950f3cb71",
   "metadata": {},
   "source": [
    "The [pov](pov.py) module contains a lengthy triple quoted string named `pov_header` that sets up the camera, lighting, and [sky sphere](http://www.povray.org/documentation/view/3.7.1/91/), using Scene Description Language for POV-Ray.\n",
    "\n",
    "With an output file open, the polyhedron subclasses add their vertexes and edges into it, after the canned, possibly hand-edited, header."
   ]
  },
  {
   "cell_type": "code",
   "execution_count": 94,
   "id": "61aeece5-bb1b-49f1-afed-68a54922a249",
   "metadata": {},
   "outputs": [
    {
     "name": "stdout",
     "output_type": "stream",
     "text": [
      "render_me.pov ready for rendering\n"
     ]
    }
   ],
   "source": [
    "with open(\"render_me.pov\", 'w') as output:\n",
    "    print(pov.pov_header, file=output)  # print to the output file\n",
    "    t.edge_color =  \"rgb <1, 0, 0>\"\n",
    "    t.vert_color =  \"rgb <0, 0, 1>\" \n",
    "    t.render(output)                    # t inherits Polyhedron.render\n",
    "    \n",
    "print(\"render_me.pov ready for rendering\")"
   ]
  },
  {
   "cell_type": "code",
   "execution_count": 95,
   "id": "ceae3c5e-0297-42a9-8357-83d0f89fcd76",
   "metadata": {},
   "outputs": [
    {
     "name": "stdout",
     "output_type": "stream",
     "text": [
      "/bin/bash: /usr/local/bin/povray: No such file or directory\n"
     ]
    }
   ],
   "source": [
    "! /usr/local/bin/povray +A +H768 +W1024 -GA ./render_me.pov"
   ]
  },
  {
   "cell_type": "markdown",
   "id": "0cedbbab-3294-4e62-a4ec-9f428e8ca2f8",
   "metadata": {},
   "source": [
    "<a data-flickr-embed=\"true\" href=\"https://www.flickr.com/photos/kirbyurner/52131603577/in/dateposted-public/\" title=\"render_me\"><img src=\"https://live.staticflickr.com/65535/52131603577_a845ff6ac7_z.jpg\" width=\"640\" height=\"480\" alt=\"render_me\"></a><script async src=\"//embedr.flickr.com/assets/client-code.js\" charset=\"utf-8\"></script>"
   ]
  },
  {
   "cell_type": "markdown",
   "id": "dea3fb59-08da-4eec-a478-75694bce197b",
   "metadata": {},
   "source": [
    "In this curriculum, once the topic of Polyhedrons is broached, we take the liberty of diving into Americana associated with the polymath inventor Buckminster Fuller.  Depending how far down that rabbit hole we want to go, we have the option of introducing [Quadray Coordinates](https://en.wikipedia.org/wiki/Quadray_coordinates) and learning the Vector stuff a second time from another perspective.\n",
    "\n",
    "In particular, we might use Quadrays to [generate the CCP](https://nbviewer.org/github/4dsolutions/Python5/blob/master/Generating%20the%20FCC.ipynb) (cubic close packing).\n",
    "\n",
    "<a data-flickr-embed=\"true\" href=\"https://www.flickr.com/photos/kirbyurner/479693571/in/photolist-2ndRLQZ-2nbQMuQ-2mskcxr-2m29ojG-2m29ok8-2j8odSY-2fn4VBT-8thDyL-8ryECF-8iYyKN-7eU7h4-JoybP-Joybi\" title=\"Rhombic Dodecahedra\"><img src=\"https://live.staticflickr.com/190/479693571_ff580af964_m.jpg\" width=\"240\" height=\"234\" alt=\"Rhombic Dodecahedra\"></a><script async src=\"//embedr.flickr.com/assets/client-code.js\" charset=\"utf-8\"></script>"
   ]
  },
  {
   "cell_type": "markdown",
   "id": "c76f6db1-ce5c-4744-b725-745bbd04170e",
   "metadata": {
    "tags": []
   },
   "source": [
    "## Linear Algebra\n",
    "\n",
    "Plain vanilla high school mathematics curricula may avoid Linear Algebra is a formal topic, yet develop students' familiarity with vector space concepts nontheless.  XYZ, the coordinate system, is by itself an introduction to linear algebra concepts.\n",
    "\n",
    "In this curriculum, one motivation for learning \"matrix times vector\" mechanics is to apply **rotation matrices** to a Polyhedron. \n",
    "\n",
    "At the more theoretical level, our objective is to build a glossary, so that when students encounter matricies again, they're not all together mystified by such terms as inverse, transpose, complex conjugate.  \n",
    "\n",
    "Since we already have the beginnings of Group Theory in view, we might at least get to [the Pauli matrices](MatrixMath.ipynb). \n",
    "\n",
    "A matrix is \"unitary\" if its inverse is likewise its conjugate transpose, and \"special unitary\" if unitary where determinants all equal 1.\n",
    "\n",
    "We might expect an overlapping physics curriculum to pick it up at this point, as the Standard Model employs both SU(2) and SU(3).  \n",
    "\n",
    "This need not happen in high school, although we do visit the topic of [radioactive decay](http://nbviewer.org/github/4dsolutions/School_of_Tomorrow/blob/master/isotope_decay.ipynb) in our School of Tomorrow.\n",
    "\n",
    "We also may use the determinant of a matrix to study [Polyhedron volumes](TheCabal.ipynb)."
   ]
  },
  {
   "cell_type": "markdown",
   "id": "993722e0-98ce-42c7-8d29-fee11ea46fbe",
   "metadata": {},
   "source": [
    "Enter `sympy`, a computer assisted algebra (CAS) package for Python.  Our algorithms may be expressed using more conventional algebraic notation, including with customary Greek letters such as $\\theta$."
   ]
  },
  {
   "cell_type": "code",
   "execution_count": 96,
   "id": "c62c08ea-7cd1-4acd-9e7e-e127c226b466",
   "metadata": {},
   "outputs": [],
   "source": [
    "import sympy as sp"
   ]
  },
  {
   "cell_type": "code",
   "execution_count": 97,
   "id": "0be3b598-7720-4036-9372-b94c853968c6",
   "metadata": {},
   "outputs": [],
   "source": [
    "θ = sp.Symbol('θ')"
   ]
  },
  {
   "cell_type": "code",
   "execution_count": 98,
   "id": "ab6bcde6-8a7b-404c-9f06-625e66f1601b",
   "metadata": {},
   "outputs": [
    {
     "data": {
      "text/latex": [
       "$\\displaystyle \\left[\\begin{matrix}1 & 0 & 0\\\\0 & \\cos{\\left(θ \\right)} & - \\sin{\\left(θ \\right)}\\\\0 & \\sin{\\left(θ \\right)} & \\cos{\\left(θ \\right)}\\end{matrix}\\right]$"
      ],
      "text/plain": [
       "Matrix([\n",
       "[1,      0,       0],\n",
       "[0, cos(θ), -sin(θ)],\n",
       "[0, sin(θ),  cos(θ)]])"
      ]
     },
     "execution_count": 98,
     "metadata": {},
     "output_type": "execute_result"
    }
   ],
   "source": [
    "Rx = sp.Matrix([[1, 0, 0], \n",
    "               [0, sp.cos(θ), -sp.sin(θ)], \n",
    "               [0, sp.sin(θ), sp.cos(θ)]])\n",
    "Rx"
   ]
  },
  {
   "cell_type": "code",
   "execution_count": 99,
   "id": "d79caef8-9335-441c-840e-2c6e09fd88f0",
   "metadata": {},
   "outputs": [
    {
     "data": {
      "text/latex": [
       "$\\displaystyle \\left[\\begin{matrix}\\cos{\\left(θ \\right)} & 0 & \\sin{\\left(θ \\right)}\\\\0 & 1 & 0\\\\- \\sin{\\left(θ \\right)} & 0 & \\cos{\\left(θ \\right)}\\end{matrix}\\right]$"
      ],
      "text/plain": [
       "Matrix([\n",
       "[ cos(θ), 0, sin(θ)],\n",
       "[      0, 1,      0],\n",
       "[-sin(θ), 0, cos(θ)]])"
      ]
     },
     "execution_count": 99,
     "metadata": {},
     "output_type": "execute_result"
    }
   ],
   "source": [
    "Ry = sp.Matrix([[sp.cos(θ), 0, sp.sin(θ)], \n",
    "               [0, 1, 0], \n",
    "               [-sp.sin(θ), 0, sp.cos(θ)]])\n",
    "Ry"
   ]
  },
  {
   "cell_type": "code",
   "execution_count": 100,
   "id": "637b4e2c-be3c-424c-9a62-6897e8168826",
   "metadata": {},
   "outputs": [
    {
     "data": {
      "text/latex": [
       "$\\displaystyle \\left[\\begin{matrix}\\cos{\\left(θ \\right)} & - \\sin{\\left(θ \\right)} & 0\\\\\\sin{\\left(θ \\right)} & \\cos{\\left(θ \\right)} & 0\\\\0 & 0 & 1\\end{matrix}\\right]$"
      ],
      "text/plain": [
       "Matrix([\n",
       "[cos(θ), -sin(θ), 0],\n",
       "[sin(θ),  cos(θ), 0],\n",
       "[     0,       0, 1]])"
      ]
     },
     "execution_count": 100,
     "metadata": {},
     "output_type": "execute_result"
    }
   ],
   "source": [
    "Rz = sp.Matrix([[sp.cos(θ), -sp.sin(θ), 0],\n",
    "                [sp.sin(θ),  sp.cos(θ), 0],\n",
    "                [0, 0, 1]])\n",
    "Rz"
   ]
  },
  {
   "cell_type": "code",
   "execution_count": 101,
   "id": "a76991b9-e4a5-4ab5-bf4b-4bfb585635ef",
   "metadata": {},
   "outputs": [
    {
     "data": {
      "text/plain": [
       "array([0.35355339, 0.35355339, 0.35355339])"
      ]
     },
     "execution_count": 101,
     "metadata": {},
     "output_type": "execute_result"
    }
   ],
   "source": [
    "a.v"
   ]
  },
  {
   "cell_type": "code",
   "execution_count": 102,
   "id": "5f2faa02-8439-47cf-bd73-952e55327f47",
   "metadata": {},
   "outputs": [
    {
     "data": {
      "text/latex": [
       "$\\displaystyle \\left[\\begin{matrix}0.353553390593274\\\\0.353553390593274\\\\0.353553390593274\\end{matrix}\\right]$"
      ],
      "text/plain": [
       "Matrix([\n",
       "[0.353553390593274],\n",
       "[0.353553390593274],\n",
       "[0.353553390593274]])"
      ]
     },
     "execution_count": 102,
     "metadata": {},
     "output_type": "execute_result"
    }
   ],
   "source": [
    "v = sp.Matrix(a.v)\n",
    "v"
   ]
  },
  {
   "cell_type": "code",
   "execution_count": 103,
   "id": "1dfc2408-2d7e-4112-b40e-37c7b0b09893",
   "metadata": {},
   "outputs": [
    {
     "data": {
      "text/latex": [
       "$\\displaystyle \\left[\\begin{matrix}0.353553390593274\\\\- 0.353553390593274 \\sin{\\left(θ \\right)} + 0.353553390593274 \\cos{\\left(θ \\right)}\\\\0.353553390593274 \\sin{\\left(θ \\right)} + 0.353553390593274 \\cos{\\left(θ \\right)}\\end{matrix}\\right]$"
      ],
      "text/plain": [
       "Matrix([\n",
       "[                                   0.353553390593274],\n",
       "[-0.353553390593274*sin(θ) + 0.353553390593274*cos(θ)],\n",
       "[ 0.353553390593274*sin(θ) + 0.353553390593274*cos(θ)]])"
      ]
     },
     "execution_count": 103,
     "metadata": {},
     "output_type": "execute_result"
    }
   ],
   "source": [
    "Rx * v"
   ]
  },
  {
   "cell_type": "code",
   "execution_count": 104,
   "id": "5121bece-1c1f-4947-a2fb-fdbc7843c798",
   "metadata": {},
   "outputs": [],
   "source": [
    "from math import degrees, radians"
   ]
  },
  {
   "cell_type": "code",
   "execution_count": 105,
   "id": "48176523-2322-4cc7-985c-f2048eb7f4a0",
   "metadata": {},
   "outputs": [
    {
     "data": {
      "text/plain": [
       "1.5707963267948966"
      ]
     },
     "execution_count": 105,
     "metadata": {},
     "output_type": "execute_result"
    }
   ],
   "source": [
    "radians(90)"
   ]
  },
  {
   "cell_type": "code",
   "execution_count": 106,
   "id": "8e154e0a-b7cf-4214-ab80-96f45a08fe6b",
   "metadata": {},
   "outputs": [
    {
     "data": {
      "text/latex": [
       "$\\displaystyle \\left[\\begin{matrix}0.353553390593274\\\\0.286788218175523\\\\0.409576022144496\\end{matrix}\\right]$"
      ],
      "text/plain": [
       "Matrix([\n",
       "[0.353553390593274],\n",
       "[0.286788218175523],\n",
       "[0.409576022144496]])"
      ]
     },
     "execution_count": 106,
     "metadata": {},
     "output_type": "execute_result"
    }
   ],
   "source": [
    "(Rx * v).evalf(subs={'θ':radians(10)})"
   ]
  },
  {
   "cell_type": "markdown",
   "id": "6e30c221-8237-45b1-9e5a-3b5284262999",
   "metadata": {},
   "source": [
    "In the algorithm below, a single vector, the one named `a`, is copied and then progressively rotated and updated by n degrees, with snapshots aggregating in a .pov file for rendering.  POV_Vectors know how to describe themselves in scene description language, as do POV_Edges."
   ]
  },
  {
   "cell_type": "code",
   "execution_count": 107,
   "id": "ef3c4195-a05c-4530-bb52-9aff2df6328a",
   "metadata": {
    "tags": []
   },
   "outputs": [
    {
     "name": "stdout",
     "output_type": "stream",
     "text": [
      "rotate_me.pov ready for rendering\n"
     ]
    }
   ],
   "source": [
    "the_vector = a.copy()\n",
    "# POV-Ray\n",
    "edge_color = \"rgb <1, 0.4, 0>\"\n",
    "edge_radius= 0.03\n",
    "vert_color = \"rgb <0, 0, 1>\"\n",
    "vert_radius= 0.05\n",
    "\n",
    "with open(\"rotate_me.pov\", \"w\") as output:\n",
    "    print(pov.pov_header, file=output)  # print to the output file\n",
    "\n",
    "    # show origin (black hole) and positive x towards us\n",
    "    origin.draw_vert(\"rgb <0, 0, 0>\", 0.1, output)\n",
    "    x.draw_edge(\"rgb <66/255, 224/255, 245/255>\", 0.01, output)\n",
    "    the_vector.draw_edge(edge_color, edge_radius, output)\n",
    "    the_vector.draw_vert(vert_color, vert_radius, output)\n",
    "    for _ in range(35):\n",
    "        v = sp.Matrix(the_vector.v)\n",
    "        v = (Rx * v).evalf(subs={'θ':radians(10)}) # rotate by n degrees\n",
    "        the_vector = POV_Vector(v[0], v[1], v[2])  # update the_vector\n",
    "        the_vector.draw_edge(edge_color, edge_radius, output)\n",
    "        the_vector.draw_vert(vert_color, vert_radius, output)\n",
    "print(\"rotate_me.pov ready for rendering\")"
   ]
  },
  {
   "cell_type": "raw",
   "id": "391b239f-d91f-40d4-b7da-9c652bcb4d48",
   "metadata": {},
   "source": [
    "# ! /usr/local/bin/povray +A +H768 +W1024 -GA ./rotate_me.pov"
   ]
  },
  {
   "cell_type": "markdown",
   "id": "36aa2aa6-1b8c-4c5b-ab6b-0d4152940bf2",
   "metadata": {},
   "source": [
    "<a data-flickr-embed=\"true\" href=\"https://www.flickr.com/photos/kirbyurner/52142229719/in/dateposted-public/\" title=\"Rotate Vector by Increments of 10 Degrees\"><img src=\"https://live.staticflickr.com/65535/52142229719_a1dd0bf765_z.jpg\" width=\"640\" height=\"494\" alt=\"Rotate Vector by Increments of 10 Degrees\"></a><script async src=\"//embedr.flickr.com/assets/client-code.js\" charset=\"utf-8\"></script>"
   ]
  },
  {
   "cell_type": "markdown",
   "id": "bb93dc09-9626-4c01-b182-1deee19adb1e",
   "metadata": {},
   "source": [
    "## Plotting\n",
    "\n",
    "A function we usually come to, as a pre-requisite for calculus, is the polynomial.  \n",
    "\n",
    "Before we integrate or differentiate such a curve, we learn to (a) plot it on graph paper (i.e. the screen) and (b) to find its roots, or zeros."
   ]
  },
  {
   "cell_type": "markdown",
   "id": "e6304654-a169-444b-8e3b-8de62055b7d4",
   "metadata": {},
   "source": [
    "Plain old Python (pop) doesn't have the `linspace` or `arange` though one might code them in pure Python. Instead, why not introduce \"array based computing\" at the outset, with an eye towards syncing with data science tutorials and the broader Python ecosystem?  Other languages are array-based as well, enabling jumping to other languages, such as J."
   ]
  },
  {
   "cell_type": "markdown",
   "id": "9d20d54f-4c3c-45a1-aebe-780d755e4eb1",
   "metadata": {},
   "source": [
    "The numpy package provides a context for a new kind of list object, the n-dimensional array, suitable for navigating amidst n-d polytopes (Coxeter) if that's your gig.  A lot of us stay with row by column matrix-like data structures, 2-dimensional."
   ]
  },
  {
   "cell_type": "code",
   "execution_count": 108,
   "id": "227e45df-55a0-43cf-80df-c69137e1be31",
   "metadata": {},
   "outputs": [],
   "source": [
    "import numpy as np\n",
    "import matplotlib.pyplot as plt"
   ]
  },
  {
   "cell_type": "markdown",
   "id": "59690f0a-873c-4725-933e-3e2db477d3e3",
   "metadata": {},
   "source": [
    "Chop a number line (like making sausage) into 200 points exactly, so 199 intervals, starting and ending on the two points you give it.  Return an n-d array of only one dimension, as shown by `obj.shape`."
   ]
  },
  {
   "cell_type": "code",
   "execution_count": 109,
   "id": "96c12ce3-d8cd-4224-81d4-0e1300463b9e",
   "metadata": {},
   "outputs": [],
   "source": [
    "rat_domain = np.linspace(-5, 5, 200)  # rational domain, expressed in floating points"
   ]
  },
  {
   "cell_type": "code",
   "execution_count": 110,
   "id": "7d07303d-46c6-4778-9f17-4a965e898ab1",
   "metadata": {},
   "outputs": [
    {
     "name": "stdout",
     "output_type": "stream",
     "text": [
      "Length:  200\n",
      "d-type:  float64\n",
      " Shape:  (200,)\n",
      "   Dim:  1\n"
     ]
    }
   ],
   "source": [
    "print(\"Length: \", len(rat_domain))\n",
    "print(\"d-type: \", rat_domain.dtype)\n",
    "print(\" Shape: \", rat_domain.shape)\n",
    "print(\"   Dim: \", rat_domain.ndim)"
   ]
  },
  {
   "cell_type": "markdown",
   "id": "891399ec-2cd4-458e-a52d-c4799c660617",
   "metadata": {},
   "source": [
    "The code below looks like ordinary Python, however if `domain` then powering (`**`) will by applied element-wise to all 200 data points, with no explicit looping required.  This is what array-based computing entails:  working with whole rafts of numbers without explicitly iterating over them."
   ]
  },
  {
   "cell_type": "code",
   "execution_count": 111,
   "id": "8e2451b9-327e-41cb-8984-5321d02a3abe",
   "metadata": {},
   "outputs": [],
   "source": [
    "def power_curve(domain, the_power):\n",
    "    return domain ** the_power"
   ]
  },
  {
   "cell_type": "code",
   "execution_count": 112,
   "id": "fde62bb8-1261-49fe-b459-714d41755269",
   "metadata": {},
   "outputs": [],
   "source": [
    "out_range_1 = power_curve(rat_domain, 1) # linear relationship "
   ]
  },
  {
   "cell_type": "code",
   "execution_count": 113,
   "id": "b25688cd-9c83-42d9-a6af-f1df8bcdc45f",
   "metadata": {
    "tags": []
   },
   "outputs": [],
   "source": [
    "out_range_2 = power_curve(rat_domain, 2) # 2nd power, parabola"
   ]
  },
  {
   "cell_type": "code",
   "execution_count": 114,
   "id": "70586071-226c-462e-bc8d-4a7dd6af3c10",
   "metadata": {},
   "outputs": [],
   "source": [
    "out_range_3 = power_curve(rat_domain, 3) # 3rd power, inflection point"
   ]
  },
  {
   "cell_type": "markdown",
   "id": "9cbff251-0cbc-4a91-9074-ed7e0044b0c8",
   "metadata": {},
   "source": [
    "And now for our final star player: pandas.  The pandas package is home to a Series, a single column of data, of any data type.  Series objects standing side-by-side, define the DataFrame, a  spreadsheet analog, inspired by R (a grand daddy workhorse language in statistics world, still going strong, works with Jupyter)."
   ]
  },
  {
   "cell_type": "code",
   "execution_count": 115,
   "id": "8c680ef3-c91f-4b13-bb2c-3339685107d2",
   "metadata": {},
   "outputs": [],
   "source": [
    "import pandas as pd"
   ]
  },
  {
   "cell_type": "code",
   "execution_count": 116,
   "id": "073f2153-9f5e-45ff-8f6a-32eb2f85d820",
   "metadata": {},
   "outputs": [
    {
     "data": {
      "text/html": [
       "<div>\n",
       "<style scoped>\n",
       "    .dataframe tbody tr th:only-of-type {\n",
       "        vertical-align: middle;\n",
       "    }\n",
       "\n",
       "    .dataframe tbody tr th {\n",
       "        vertical-align: top;\n",
       "    }\n",
       "\n",
       "    .dataframe thead th {\n",
       "        text-align: right;\n",
       "    }\n",
       "</style>\n",
       "<table border=\"1\" class=\"dataframe\">\n",
       "  <thead>\n",
       "    <tr style=\"text-align: right;\">\n",
       "      <th></th>\n",
       "      <th>1</th>\n",
       "      <th>2</th>\n",
       "      <th>3</th>\n",
       "    </tr>\n",
       "  </thead>\n",
       "  <tbody>\n",
       "    <tr>\n",
       "      <th>-5.000000</th>\n",
       "      <td>-5.000000</td>\n",
       "      <td>25.000000</td>\n",
       "      <td>-125.000000</td>\n",
       "    </tr>\n",
       "    <tr>\n",
       "      <th>-4.949749</th>\n",
       "      <td>-4.949749</td>\n",
       "      <td>24.500013</td>\n",
       "      <td>-121.268907</td>\n",
       "    </tr>\n",
       "    <tr>\n",
       "      <th>-4.899497</th>\n",
       "      <td>-4.899497</td>\n",
       "      <td>24.005076</td>\n",
       "      <td>-117.612808</td>\n",
       "    </tr>\n",
       "    <tr>\n",
       "      <th>-4.849246</th>\n",
       "      <td>-4.849246</td>\n",
       "      <td>23.515189</td>\n",
       "      <td>-114.030942</td>\n",
       "    </tr>\n",
       "    <tr>\n",
       "      <th>-4.798995</th>\n",
       "      <td>-4.798995</td>\n",
       "      <td>23.030353</td>\n",
       "      <td>-110.522547</td>\n",
       "    </tr>\n",
       "  </tbody>\n",
       "</table>\n",
       "</div>"
      ],
      "text/plain": [
       "                  1          2           3\n",
       "-5.000000 -5.000000  25.000000 -125.000000\n",
       "-4.949749 -4.949749  24.500013 -121.268907\n",
       "-4.899497 -4.899497  24.005076 -117.612808\n",
       "-4.849246 -4.849246  23.515189 -114.030942\n",
       "-4.798995 -4.798995  23.030353 -110.522547"
      ]
     },
     "execution_count": 116,
     "metadata": {},
     "output_type": "execute_result"
    }
   ],
   "source": [
    "table = pd.DataFrame({1:out_range_1, \n",
    "                      2:out_range_2, \n",
    "                      3:out_range_3},\n",
    "                      index = rat_domain)\n",
    "table.head()"
   ]
  },
  {
   "cell_type": "code",
   "execution_count": 117,
   "id": "595edc1a-5204-44c6-9e83-b4ebc7433cc8",
   "metadata": {},
   "outputs": [
    {
     "data": {
      "image/png": "[encoded data removed]",
      "text/plain": [
       "<Figure size 432x288 with 1 Axes>"
      ]
     },
     "metadata": {
      "needs_background": "light"
     },
     "output_type": "display_data"
    }
   ],
   "source": [
    "table.plot(lw = 4);"
   ]
  },
  {
   "cell_type": "markdown",
   "id": "73c29983-8df4-428e-ac56-0202ef878456",
   "metadata": {},
   "source": [
    "We have looked at sympy in other chapters, however maybe not in a classic high school setting, where expanding and factoring polynomials is the order of the day.  Once we have wrapped our minds around polynomial functions, we are ready to integrate and differentiate, or so the thinking goes. They lend themselves to these operations, as manual algorithms, very nicely."
   ]
  },
  {
   "cell_type": "code",
   "execution_count": 118,
   "id": "015ee3d4-cb3b-41cd-acdc-dd6879b3bd40",
   "metadata": {},
   "outputs": [],
   "source": [
    "import sympy as sp  # redundant (harmless)"
   ]
  },
  {
   "cell_type": "code",
   "execution_count": 119,
   "id": "3088d674-0190-497d-b5b8-b04ffa5b35de",
   "metadata": {},
   "outputs": [
    {
     "data": {
      "text/latex": [
       "$\\displaystyle \\left(x - 5\\right) \\left(x - 3\\right) \\left(x + 2\\right) \\left(x + 7\\right)$"
      ],
      "text/plain": [
       "(x - 5)*(x - 3)*(x + 2)*(x + 7)"
      ]
     },
     "execution_count": 119,
     "metadata": {},
     "output_type": "execute_result"
    }
   ],
   "source": [
    "x = sp.Symbol('x')\n",
    "poly = (x - 3)*(x + 2)*(x - 5)*(x + 7)\n",
    "poly"
   ]
  },
  {
   "cell_type": "code",
   "execution_count": 120,
   "id": "db196b91-c800-4e51-bd49-ec376ad3ab38",
   "metadata": {},
   "outputs": [
    {
     "data": {
      "text/latex": [
       "$\\displaystyle x^{4} + x^{3} - 43 x^{2} + 23 x + 210$"
      ],
      "text/plain": [
       "x**4 + x**3 - 43*x**2 + 23*x + 210"
      ]
     },
     "execution_count": 120,
     "metadata": {},
     "output_type": "execute_result"
    }
   ],
   "source": [
    "poly.expand()"
   ]
  },
  {
   "cell_type": "markdown",
   "id": "95a849d9-aa98-450a-8883-aec7ac26f71a",
   "metadata": {},
   "source": [
    "Here's a bridge to that Lambda Calculus, in that lambda has a meaning of \"any function\" and in the context below, makes an expression ready to iterate through some numpy array.  It \"vectorizes\" in other words, a term used by numpy itself.  Without resorting to for loop constructs, or mentioning indices, the `poly` expression races through our 400 point domain, applying itself to each x.\n",
    "\n",
    "The original domain, and the corresponding range (linked by poly), stand side by side as columns, in a pandas DataFrame.  From the DataFrame object, we may plot directly."
   ]
  },
  {
   "cell_type": "code",
   "execution_count": 121,
   "id": "9995128c-a476-44de-ae8b-5777f8a821bc",
   "metadata": {},
   "outputs": [],
   "source": [
    "f = sp.lambdify(x, poly, 'numpy')"
   ]
  },
  {
   "cell_type": "code",
   "execution_count": 122,
   "id": "4fa0b4c8-9a02-4c7a-b967-80ddeabe0a04",
   "metadata": {},
   "outputs": [
    {
     "data": {
      "text/html": [
       "<div>\n",
       "<style scoped>\n",
       "    .dataframe tbody tr th:only-of-type {\n",
       "        vertical-align: middle;\n",
       "    }\n",
       "\n",
       "    .dataframe tbody tr th {\n",
       "        vertical-align: top;\n",
       "    }\n",
       "\n",
       "    .dataframe thead th {\n",
       "        text-align: right;\n",
       "    }\n",
       "</style>\n",
       "<table border=\"1\" class=\"dataframe\">\n",
       "  <thead>\n",
       "    <tr style=\"text-align: right;\">\n",
       "      <th></th>\n",
       "      <th>f(x)</th>\n",
       "    </tr>\n",
       "    <tr>\n",
       "      <th>x</th>\n",
       "      <th></th>\n",
       "    </tr>\n",
       "  </thead>\n",
       "  <tbody>\n",
       "    <tr>\n",
       "      <th>-7.500000</th>\n",
       "      <td>360.937500</td>\n",
       "    </tr>\n",
       "    <tr>\n",
       "      <th>-7.462406</th>\n",
       "      <td>329.337298</td>\n",
       "    </tr>\n",
       "    <tr>\n",
       "      <th>-7.424812</th>\n",
       "      <td>298.496719</td>\n",
       "    </tr>\n",
       "    <tr>\n",
       "      <th>-7.387218</th>\n",
       "      <td>268.406589</td>\n",
       "    </tr>\n",
       "    <tr>\n",
       "      <th>-7.349624</th>\n",
       "      <td>239.057783</td>\n",
       "    </tr>\n",
       "  </tbody>\n",
       "</table>\n",
       "</div>"
      ],
      "text/plain": [
       "                 f(x)\n",
       "x                    \n",
       "-7.500000  360.937500\n",
       "-7.462406  329.337298\n",
       "-7.424812  298.496719\n",
       "-7.387218  268.406589\n",
       "-7.349624  239.057783"
      ]
     },
     "execution_count": 122,
     "metadata": {},
     "output_type": "execute_result"
    }
   ],
   "source": [
    "domain = np.linspace(-7.5,7.5,400)\n",
    "data_f = pd.DataFrame({\"f(x)\": f(domain)}, \n",
    "                      index = domain)\n",
    "data_f.index.name = 'x'\n",
    "data_f.head()"
   ]
  },
  {
   "cell_type": "code",
   "execution_count": 123,
   "id": "3103eb9c-2c49-4f18-8608-307ba2574e18",
   "metadata": {},
   "outputs": [
    {
     "data": {
      "image/png": "[encoded data removed]",
      "text/plain": [
       "<Figure size 432x288 with 1 Axes>"
      ]
     },
     "metadata": {
      "needs_background": "light"
     },
     "output_type": "display_data"
    }
   ],
   "source": [
    "data_f.plot(grid=True, lw=4);"
   ]
  },
  {
   "cell_type": "markdown",
   "id": "161cefde-8ce3-4a14-910d-0864ad7ab9a6",
   "metadata": {},
   "source": [
    "## Circular Functions\n",
    "\n",
    "From polynomials we move to the trigonometric functions and properties such as amplitude and frequency.\n",
    "\n",
    "The grand unification of circular functions and exponential functions on the Complex plane marks another branch point, where we optionally dive into fractals."
   ]
  },
  {
   "cell_type": "code",
   "execution_count": 124,
   "id": "59ad858e-9d7f-4e34-8ccc-b6e33f76c43a",
   "metadata": {},
   "outputs": [
    {
     "data": {
      "text/html": [
       "<div>\n",
       "<style scoped>\n",
       "    .dataframe tbody tr th:only-of-type {\n",
       "        vertical-align: middle;\n",
       "    }\n",
       "\n",
       "    .dataframe tbody tr th {\n",
       "        vertical-align: top;\n",
       "    }\n",
       "\n",
       "    .dataframe thead th {\n",
       "        text-align: right;\n",
       "    }\n",
       "</style>\n",
       "<table border=\"1\" class=\"dataframe\">\n",
       "  <thead>\n",
       "    <tr style=\"text-align: right;\">\n",
       "      <th></th>\n",
       "      <th>sin(x)</th>\n",
       "      <th>cos(x)</th>\n",
       "    </tr>\n",
       "    <tr>\n",
       "      <th>radians</th>\n",
       "      <th></th>\n",
       "      <th></th>\n",
       "    </tr>\n",
       "  </thead>\n",
       "  <tbody>\n",
       "    <tr>\n",
       "      <th>-10.000000</th>\n",
       "      <td>0.544021</td>\n",
       "      <td>-0.839072</td>\n",
       "    </tr>\n",
       "    <tr>\n",
       "      <th>-9.949875</th>\n",
       "      <td>0.501297</td>\n",
       "      <td>-0.865275</td>\n",
       "    </tr>\n",
       "    <tr>\n",
       "      <th>-9.899749</th>\n",
       "      <td>0.457313</td>\n",
       "      <td>-0.889306</td>\n",
       "    </tr>\n",
       "    <tr>\n",
       "      <th>-9.849624</th>\n",
       "      <td>0.412181</td>\n",
       "      <td>-0.911102</td>\n",
       "    </tr>\n",
       "    <tr>\n",
       "      <th>-9.799499</th>\n",
       "      <td>0.366013</td>\n",
       "      <td>-0.930610</td>\n",
       "    </tr>\n",
       "  </tbody>\n",
       "</table>\n",
       "</div>"
      ],
      "text/plain": [
       "              sin(x)    cos(x)\n",
       "radians                       \n",
       "-10.000000  0.544021 -0.839072\n",
       "-9.949875   0.501297 -0.865275\n",
       "-9.899749   0.457313 -0.889306\n",
       "-9.849624   0.412181 -0.911102\n",
       "-9.799499   0.366013 -0.930610"
      ]
     },
     "execution_count": 124,
     "metadata": {},
     "output_type": "execute_result"
    }
   ],
   "source": [
    "domain = np.linspace(-10, 10, 400)\n",
    "data_trig = pd.DataFrame({\"sin(x)\": np.sin(domain),\n",
    "                         \"cos(x)\": np.cos(domain)},\n",
    "                      index = domain)\n",
    "data_trig.index.name = 'radians'\n",
    "data_trig.head()"
   ]
  },
  {
   "cell_type": "markdown",
   "id": "9719b80b-a7d8-4db2-a5db-e695333f745d",
   "metadata": {},
   "source": [
    "The plot we get by calling the plot method on our DataFrame (`data_trig`) with no arguments is already more than acceptable.  Capturing the output as `ax` was optional in this case, but in future examples (below), customizing title, labels and legend involve communicating with this \"axes\" object.  \n",
    "\n",
    "matplotlib is is complicated package in giving us lots of objects we might want to communicate with, about line thickness, marker size, label fonts and so on. \n",
    "\n",
    "Your high school might refer you to various resources to help you continue broadening your vocabulary, while deepening your fluency, with this or any other package.  The math course itself might externalize some of these details."
   ]
  },
  {
   "cell_type": "code",
   "execution_count": 125,
   "id": "f3949318-b206-4838-9e5c-7203fab22baa",
   "metadata": {},
   "outputs": [
    {
     "data": {
      "image/png": "[encoded data removed]",
      "text/plain": [
       "<Figure size 432x288 with 1 Axes>"
      ]
     },
     "metadata": {
      "needs_background": "light"
     },
     "output_type": "display_data"
    }
   ],
   "source": [
    "ax = data_trig.plot(lw=4)"
   ]
  },
  {
   "cell_type": "markdown",
   "id": "069942a9-1779-4759-b9a5-ab61747b0b3a",
   "metadata": {},
   "source": [
    "A jump to the topic of alternating current and hydro-dam generators as a topic would appropriately go here.  The application of circular functions to electricity concepts comes up a lot in high school physics."
   ]
  },
  {
   "cell_type": "markdown",
   "id": "2c4862ba-0223-4b56-a554-9378a554206f",
   "metadata": {},
   "source": [
    "The final roundup of critical functions comes with Euler's famous formula:\n",
    "\n",
    "$$\n",
    "e^{ \\pm i\\theta } = \\cos \\theta \\pm i\\sin \\theta\n",
    "$$"
   ]
  },
  {
   "cell_type": "code",
   "execution_count": 126,
   "id": "5c23544a-883e-4489-8483-c6175e5c9318",
   "metadata": {},
   "outputs": [],
   "source": [
    "theta = sp.Symbol('theta')"
   ]
  },
  {
   "cell_type": "code",
   "execution_count": 127,
   "id": "a10c3b20-80ae-4c2e-b664-e116886190e9",
   "metadata": {},
   "outputs": [
    {
     "data": {
      "text/latex": [
       "$\\displaystyle 1 - \\frac{\\theta^{2}}{2} + \\frac{\\theta^{4}}{24} + O\\left(\\theta^{6}\\right)$"
      ],
      "text/plain": [
       "1 - theta**2/2 + theta**4/24 + O(theta**6)"
      ]
     },
     "execution_count": 127,
     "metadata": {},
     "output_type": "execute_result"
    }
   ],
   "source": [
    "cos_series = sp.cos(theta).series()\n",
    "cos_series"
   ]
  },
  {
   "cell_type": "code",
   "execution_count": 128,
   "id": "2561a4f3-9fe1-42a2-a095-f6c3e428af11",
   "metadata": {},
   "outputs": [
    {
     "data": {
      "text/latex": [
       "$\\displaystyle i \\left(\\theta - \\frac{\\theta^{3}}{6} + \\frac{\\theta^{5}}{120} + O\\left(\\theta^{6}\\right)\\right)$"
      ],
      "text/plain": [
       "I*(theta - theta**3/6 + theta**5/120 + O(theta**6))"
      ]
     },
     "execution_count": 128,
     "metadata": {},
     "output_type": "execute_result"
    }
   ],
   "source": [
    "i_sin_series = sp.I * sp.sin(theta).series()\n",
    "i_sin_series"
   ]
  },
  {
   "cell_type": "code",
   "execution_count": 129,
   "id": "8121053e-cd50-48ee-92df-919e16969539",
   "metadata": {},
   "outputs": [
    {
     "data": {
      "text/latex": [
       "$\\displaystyle e^{i \\theta}$"
      ],
      "text/plain": [
       "exp(I*theta)"
      ]
     },
     "execution_count": 129,
     "metadata": {},
     "output_type": "execute_result"
    }
   ],
   "source": [
    "exponential = sp.exp(sp.I * theta)\n",
    "exponential"
   ]
  },
  {
   "cell_type": "code",
   "execution_count": 130,
   "id": "5bedfa17-6949-42a7-9141-c0cb5b0fffc6",
   "metadata": {},
   "outputs": [
    {
     "data": {
      "text/latex": [
       "$\\displaystyle 1 + i \\theta - \\frac{\\theta^{2}}{2} - \\frac{i \\theta^{3}}{6} + \\frac{\\theta^{4}}{24} + \\frac{i \\theta^{5}}{120} + O\\left(\\theta^{6}\\right)$"
      ],
      "text/plain": [
       "1 + I*theta - theta**2/2 - I*theta**3/6 + theta**4/24 + I*theta**5/120 + O(theta**6)"
      ]
     },
     "execution_count": 130,
     "metadata": {},
     "output_type": "execute_result"
    }
   ],
   "source": [
    "exponential.series()"
   ]
  },
  {
   "cell_type": "code",
   "execution_count": 131,
   "id": "e81f5d98-482e-48ca-a358-e37a8a55fb48",
   "metadata": {},
   "outputs": [
    {
     "data": {
      "text/latex": [
       "$\\displaystyle 1 + i \\theta - \\frac{\\theta^{2}}{2} - \\frac{i \\theta^{3}}{6} + \\frac{\\theta^{4}}{24} + \\frac{i \\theta^{5}}{120} + O\\left(\\theta^{6}\\right)$"
      ],
      "text/plain": [
       "1 + I*theta - theta**2/2 - I*theta**3/6 + theta**4/24 + I*theta**5/120 + O(theta**6)"
      ]
     },
     "execution_count": 131,
     "metadata": {},
     "output_type": "execute_result"
    }
   ],
   "source": [
    "expr = cos_series + i_sin_series\n",
    "expr.simplify()"
   ]
  },
  {
   "cell_type": "code",
   "execution_count": 132,
   "id": "06105396-07f9-4f2b-869f-2ec246e4b464",
   "metadata": {},
   "outputs": [],
   "source": [
    "euler = sp.lambdify(theta, exponential, 'numpy')"
   ]
  },
  {
   "cell_type": "code",
   "execution_count": 133,
   "id": "88f87e98-3bef-46be-8274-2325e7b03307",
   "metadata": {},
   "outputs": [
    {
     "data": {
      "text/html": [
       "<div>\n",
       "<style scoped>\n",
       "    .dataframe tbody tr th:only-of-type {\n",
       "        vertical-align: middle;\n",
       "    }\n",
       "\n",
       "    .dataframe tbody tr th {\n",
       "        vertical-align: top;\n",
       "    }\n",
       "\n",
       "    .dataframe thead th {\n",
       "        text-align: right;\n",
       "    }\n",
       "</style>\n",
       "<table border=\"1\" class=\"dataframe\">\n",
       "  <thead>\n",
       "    <tr style=\"text-align: right;\">\n",
       "      <th></th>\n",
       "      <th>euler(r)</th>\n",
       "    </tr>\n",
       "    <tr>\n",
       "      <th>radians</th>\n",
       "      <th></th>\n",
       "    </tr>\n",
       "  </thead>\n",
       "  <tbody>\n",
       "    <tr>\n",
       "      <th>0.000000</th>\n",
       "      <td>1.000000+0.000000j</td>\n",
       "    </tr>\n",
       "    <tr>\n",
       "      <th>0.050251</th>\n",
       "      <td>0.998738+0.050230j</td>\n",
       "    </tr>\n",
       "    <tr>\n",
       "      <th>0.100503</th>\n",
       "      <td>0.994954+0.100333j</td>\n",
       "    </tr>\n",
       "    <tr>\n",
       "      <th>0.150754</th>\n",
       "      <td>0.988658+0.150183j</td>\n",
       "    </tr>\n",
       "    <tr>\n",
       "      <th>0.201005</th>\n",
       "      <td>0.979866+0.199654j</td>\n",
       "    </tr>\n",
       "  </tbody>\n",
       "</table>\n",
       "</div>"
      ],
      "text/plain": [
       "                    euler(r)\n",
       "radians                     \n",
       "0.000000  1.000000+0.000000j\n",
       "0.050251  0.998738+0.050230j\n",
       "0.100503  0.994954+0.100333j\n",
       "0.150754  0.988658+0.150183j\n",
       "0.201005  0.979866+0.199654j"
      ]
     },
     "execution_count": 133,
     "metadata": {},
     "output_type": "execute_result"
    }
   ],
   "source": [
    "domain     = np.linspace(0, 10, 200)  # for wrapping around and around the circle\n",
    "data_euler = pd.DataFrame({\"euler(r)\": euler(domain)},  # r for radians\n",
    "                            index = domain)\n",
    "data_euler.index.name = 'radians'\n",
    "data_euler.head()"
   ]
  },
  {
   "cell_type": "code",
   "execution_count": 134,
   "id": "deef6aa1-e534-4fd6-b057-6623be780d79",
   "metadata": {},
   "outputs": [
    {
     "name": "stdout",
     "output_type": "stream",
     "text": [
      "<class 'pandas.core.frame.DataFrame'>\n",
      "Float64Index: 200 entries, 0.0 to 10.0\n",
      "Data columns (total 1 columns):\n",
      " #   Column    Non-Null Count  Dtype     \n",
      "---  ------    --------------  -----     \n",
      " 0   euler(r)  200 non-null    complex128\n",
      "dtypes: complex128(1)\n",
      "memory usage: 4.7 KB\n"
     ]
    }
   ],
   "source": [
    "data_euler.info()"
   ]
  },
  {
   "cell_type": "code",
   "execution_count": 135,
   "id": "1bf6d3c2-3122-4332-a83b-c1202a90cac9",
   "metadata": {},
   "outputs": [],
   "source": [
    "euler_df = data_euler.copy() # keep a backup before adding columns\n",
    "euler_df[\"cos(r)\"] = euler_df[\"euler(r)\"].apply(lambda x: x.real)\n",
    "euler_df[\"sin(r)\"] = euler_df[\"euler(r)\"].apply(lambda x: x.imag)"
   ]
  },
  {
   "cell_type": "code",
   "execution_count": 136,
   "id": "ba46ea4d-93f1-4f51-877e-7e0a08627da2",
   "metadata": {},
   "outputs": [
    {
     "data": {
      "text/html": [
       "<div>\n",
       "<style scoped>\n",
       "    .dataframe tbody tr th:only-of-type {\n",
       "        vertical-align: middle;\n",
       "    }\n",
       "\n",
       "    .dataframe tbody tr th {\n",
       "        vertical-align: top;\n",
       "    }\n",
       "\n",
       "    .dataframe thead th {\n",
       "        text-align: right;\n",
       "    }\n",
       "</style>\n",
       "<table border=\"1\" class=\"dataframe\">\n",
       "  <thead>\n",
       "    <tr style=\"text-align: right;\">\n",
       "      <th></th>\n",
       "      <th>euler(r)</th>\n",
       "      <th>cos(r)</th>\n",
       "      <th>sin(r)</th>\n",
       "    </tr>\n",
       "    <tr>\n",
       "      <th>radians</th>\n",
       "      <th></th>\n",
       "      <th></th>\n",
       "      <th></th>\n",
       "    </tr>\n",
       "  </thead>\n",
       "  <tbody>\n",
       "    <tr>\n",
       "      <th>0.000000</th>\n",
       "      <td>1.000000+0.000000j</td>\n",
       "      <td>1.000000</td>\n",
       "      <td>0.000000</td>\n",
       "    </tr>\n",
       "    <tr>\n",
       "      <th>0.050251</th>\n",
       "      <td>0.998738+0.050230j</td>\n",
       "      <td>0.998738</td>\n",
       "      <td>0.050230</td>\n",
       "    </tr>\n",
       "    <tr>\n",
       "      <th>0.100503</th>\n",
       "      <td>0.994954+0.100333j</td>\n",
       "      <td>0.994954</td>\n",
       "      <td>0.100333</td>\n",
       "    </tr>\n",
       "    <tr>\n",
       "      <th>0.150754</th>\n",
       "      <td>0.988658+0.150183j</td>\n",
       "      <td>0.988658</td>\n",
       "      <td>0.150183</td>\n",
       "    </tr>\n",
       "    <tr>\n",
       "      <th>0.201005</th>\n",
       "      <td>0.979866+0.199654j</td>\n",
       "      <td>0.979866</td>\n",
       "      <td>0.199654</td>\n",
       "    </tr>\n",
       "  </tbody>\n",
       "</table>\n",
       "</div>"
      ],
      "text/plain": [
       "                    euler(r)    cos(r)    sin(r)\n",
       "radians                                         \n",
       "0.000000  1.000000+0.000000j  1.000000  0.000000\n",
       "0.050251  0.998738+0.050230j  0.998738  0.050230\n",
       "0.100503  0.994954+0.100333j  0.994954  0.100333\n",
       "0.150754  0.988658+0.150183j  0.988658  0.150183\n",
       "0.201005  0.979866+0.199654j  0.979866  0.199654"
      ]
     },
     "execution_count": 136,
     "metadata": {},
     "output_type": "execute_result"
    }
   ],
   "source": [
    "euler_df.head()"
   ]
  },
  {
   "cell_type": "code",
   "execution_count": 137,
   "id": "cb6aa467-e5f1-4091-8ac9-e26cc389237a",
   "metadata": {},
   "outputs": [
    {
     "data": {
      "image/png": "[encoded data removed]",
      "text/plain": [
       "<Figure size 432x288 with 1 Axes>"
      ]
     },
     "metadata": {
      "needs_background": "light"
     },
     "output_type": "display_data"
    }
   ],
   "source": [
    "ax = euler_df.plot(y=[\"cos(r)\", \"sin(r)\"], lw=4)\n",
    "ax.legend(loc='center left', bbox_to_anchor=(1.0, 0.5))\n",
    "ax.set_aspect(\"equal\")"
   ]
  },
  {
   "cell_type": "markdown",
   "id": "f3cdea75-5118-4f99-8e37-47209674e993",
   "metadata": {},
   "source": [
    "[Marker Styles](https://matplotlib.org/stable/api/markers_api.html)\n"
   ]
  },
  {
   "cell_type": "code",
   "execution_count": 138,
   "id": "47466d92-583f-4fdd-8a12-5751fd90cf11",
   "metadata": {},
   "outputs": [
    {
     "data": {
      "image/png": "[encoded data removed]",
      "text/plain": [
       "<Figure size 576x576 with 1 Axes>"
      ]
     },
     "metadata": {
      "needs_background": "light"
     },
     "output_type": "display_data"
    }
   ],
   "source": [
    "ax = euler_df.plot(x=\"cos(r)\", y=\"sin(r)\",\n",
    "                   figsize=(8,8),\n",
    "                   kind=\"scatter\", \n",
    "                   s=80, marker=\"2\")\n",
    "ax.set_aspect(\"equal\")\n",
    "ax.set_xlabel(\"cos(x): real\")\n",
    "ax.set_ylabel(\"sin(x): imag\")\n",
    "ax.set_title(r\"$e^{i \\pi}$\")\n",
    "ax.grid(True)"
   ]
  },
  {
   "cell_type": "markdown",
   "id": "ca78c4db-f210-48e0-a4a8-8b94a4e4a135",
   "metadata": {},
   "source": [
    "## Delta Calculus\n",
    "\n",
    "The reason for calling it Delta Calculus is to get around using a proper name, such as \"Newtonian\", much as we're free to recapitulate his work in \"fluxions\".  \n",
    "\n",
    "The reader is reminded of many calculi, as maths are full of them, and room for Lambda Calculus appears, with a kind of symmetry between them.  That's to expand the meaning of both, perhaps, to embrace their destinies.\n",
    "\n",
    "The focus I've been adopting, as a curriculum dev, is to focus on the data science curve known as the Gaussian or normal curve.  This \"bell curve\" is very well thought out and much studied, and its integral, the CDF, is likewise prevalent as a pattern, such as when we watch a fad sweep through a population:  early adopters, over the hump, late adopters.  \n",
    "\n",
    "How it all adds up looks like a lazy S, almost like the integral symbol itself $\\int$.\n",
    "\n",
    "The customary discussion of slope versus area, with the CDF plotting the PDF's growing area (integral), and the PDF plotting the CDF's changing slope (derivative), carries over into this more statistically minded context.  Calculus is our bridge to data science and its sociological topics, not just to the classical mechanics in physics.\n",
    "\n",
    "Machine Learning is likewise a gateway into differential calculus as the idea of gradient descent starts quickly, with terrain metaphors.  We've all descended gradients.  We will get to slopes and tangent planes later.  \n",
    "\n",
    "Starting with complex applications and then refining the concepts through progressive simplification, is something science is good at. We look for the generalizable patterns."
   ]
  },
  {
   "cell_type": "code",
   "execution_count": 139,
   "id": "f3475744-f50d-449a-bcad-6e4d9b9d3c1d",
   "metadata": {},
   "outputs": [],
   "source": [
    "domain = np.linspace(-6, 6, 500)"
   ]
  },
  {
   "cell_type": "code",
   "execution_count": 140,
   "id": "edfad5a4-ff33-477f-9461-f9a46a8a606e",
   "metadata": {},
   "outputs": [],
   "source": [
    "x, σ, μ = sp.symbols(['x','σ', 'μ'])"
   ]
  },
  {
   "cell_type": "code",
   "execution_count": 141,
   "id": "e710083f-ac78-477e-9f48-900133dfa285",
   "metadata": {},
   "outputs": [],
   "source": [
    "f = sp.Symbol('f')"
   ]
  },
  {
   "cell_type": "code",
   "execution_count": 142,
   "id": "8215b856-d700-4dfe-bd92-25ec5a50e65e",
   "metadata": {},
   "outputs": [
    {
     "data": {
      "text/latex": [
       "$\\displaystyle \\frac{\\sqrt{2} e^{- \\frac{\\left(x - μ\\right)^{2}}{2 σ^{2}}}}{2 \\sqrt{\\pi} σ}$"
      ],
      "text/plain": [
       "sqrt(2)*exp(-(x - μ)**2/(2*σ**2))/(2*sqrt(pi)*σ)"
      ]
     },
     "execution_count": 142,
     "metadata": {},
     "output_type": "execute_result"
    }
   ],
   "source": [
    "expr1 = (1/(σ * sp.sqrt(2 * sp.pi)))\n",
    "expr2 = sp.exp(sp.Rational(-1,2) * ((x - μ)/σ)**2)\n",
    "gaussian = expr2 * expr1\n",
    "gaussian"
   ]
  },
  {
   "cell_type": "markdown",
   "id": "d97ac1b5-8081-43d5-92fd-7c05e7eb3921",
   "metadata": {},
   "source": [
    "Play around with $\\mu$ and $\\sigma$, the mean and standard deviation parameters, conventionally set to 0 and 1 respectively, for the most standard of the normal bell curves.  Play around with these."
   ]
  },
  {
   "cell_type": "code",
   "execution_count": 143,
   "id": "2060954a-fe0b-4748-af16-fddba7a3ac7c",
   "metadata": {},
   "outputs": [
    {
     "data": {
      "text/latex": [
       "$\\displaystyle \\frac{\\sqrt{2} e^{- \\frac{x^{2}}{2}}}{2 \\sqrt{\\pi}}$"
      ],
      "text/plain": [
       "sqrt(2)*exp(-x**2/2)/(2*sqrt(pi))"
      ]
     },
     "execution_count": 143,
     "metadata": {},
     "output_type": "execute_result"
    }
   ],
   "source": [
    "standard = gaussian.copy()\n",
    "standard = standard.subs(μ, 0)\n",
    "standard = standard.subs(σ, 1)\n",
    "standard"
   ]
  },
  {
   "cell_type": "code",
   "execution_count": 144,
   "id": "d0b327aa-2c21-4e9b-9292-c7921c83e4d6",
   "metadata": {},
   "outputs": [
    {
     "data": {
      "text/latex": [
       "$\\displaystyle \\frac{\\sqrt{2} e^{- \\frac{\\left(x - 100\\right)^{2}}{450}}}{30 \\sqrt{\\pi}}$"
      ],
      "text/plain": [
       "sqrt(2)*exp(-(x - 100)**2/450)/(30*sqrt(pi))"
      ]
     },
     "execution_count": 144,
     "metadata": {},
     "output_type": "execute_result"
    }
   ],
   "source": [
    "IQ = gaussian.copy()\n",
    "IQ = IQ.subs(μ, 100)\n",
    "IQ = IQ.subs(σ, 15)\n",
    "IQ"
   ]
  },
  {
   "cell_type": "code",
   "execution_count": 145,
   "id": "e7b38dec-b720-41ee-baf9-6c0f09bda880",
   "metadata": {},
   "outputs": [],
   "source": [
    "domain = np.linspace(-6, 6, 500)\n",
    "f = sp.lambdify(x, standard, 'numpy') \n",
    "y_vals = f(domain)"
   ]
  },
  {
   "cell_type": "code",
   "execution_count": 146,
   "id": "f78e39df-7711-4f40-bdce-43598da08e6a",
   "metadata": {},
   "outputs": [
    {
     "data": {
      "text/html": [
       "<div>\n",
       "<style scoped>\n",
       "    .dataframe tbody tr th:only-of-type {\n",
       "        vertical-align: middle;\n",
       "    }\n",
       "\n",
       "    .dataframe tbody tr th {\n",
       "        vertical-align: top;\n",
       "    }\n",
       "\n",
       "    .dataframe thead th {\n",
       "        text-align: right;\n",
       "    }\n",
       "</style>\n",
       "<table border=\"1\" class=\"dataframe\">\n",
       "  <thead>\n",
       "    <tr style=\"text-align: right;\">\n",
       "      <th></th>\n",
       "      <th>x</th>\n",
       "      <th>y</th>\n",
       "    </tr>\n",
       "  </thead>\n",
       "  <tbody>\n",
       "    <tr>\n",
       "      <th>0</th>\n",
       "      <td>-6.000000</td>\n",
       "      <td>6.075883e-09</td>\n",
       "    </tr>\n",
       "    <tr>\n",
       "      <th>1</th>\n",
       "      <td>-5.975952</td>\n",
       "      <td>7.016936e-09</td>\n",
       "    </tr>\n",
       "    <tr>\n",
       "      <th>2</th>\n",
       "      <td>-5.951904</td>\n",
       "      <td>8.099059e-09</td>\n",
       "    </tr>\n",
       "    <tr>\n",
       "      <th>3</th>\n",
       "      <td>-5.927856</td>\n",
       "      <td>9.342657e-09</td>\n",
       "    </tr>\n",
       "    <tr>\n",
       "      <th>4</th>\n",
       "      <td>-5.903808</td>\n",
       "      <td>1.077098e-08</td>\n",
       "    </tr>\n",
       "  </tbody>\n",
       "</table>\n",
       "</div>"
      ],
      "text/plain": [
       "          x             y\n",
       "0 -6.000000  6.075883e-09\n",
       "1 -5.975952  7.016936e-09\n",
       "2 -5.951904  8.099059e-09\n",
       "3 -5.927856  9.342657e-09\n",
       "4 -5.903808  1.077098e-08"
      ]
     },
     "execution_count": 146,
     "metadata": {},
     "output_type": "execute_result"
    }
   ],
   "source": [
    "bell_curve_df = pd.DataFrame({'x':domain, 'y':y_vals})\n",
    "bell_curve_df.head()"
   ]
  },
  {
   "cell_type": "code",
   "execution_count": 147,
   "id": "33fe9648-c834-46c7-bc01-b67f5256a784",
   "metadata": {},
   "outputs": [
    {
     "data": {
      "image/png": "[encoded data removed]",
      "text/plain": [
       "<Figure size 432x288 with 1 Axes>"
      ]
     },
     "metadata": {
      "needs_background": "light"
     },
     "output_type": "display_data"
    }
   ],
   "source": [
    "ax = bell_curve_df.plot(x='x', y='y', lw=4)\n",
    "ax.set_title(\"Probability Density Function\");\n",
    "ax.legend(['PDF']);"
   ]
  },
  {
   "cell_type": "code",
   "execution_count": 148,
   "id": "5d540839-4d42-4922-87f8-93ea253cc252",
   "metadata": {},
   "outputs": [
    {
     "data": {
      "image/png": "[encoded data removed]",
      "text/plain": [
       "<Figure size 432x288 with 1 Axes>"
      ]
     },
     "metadata": {
      "needs_background": "light"
     },
     "output_type": "display_data"
    }
   ],
   "source": [
    "# create data structure\n",
    "new_domain  = np.linspace(0, 200, 500)\n",
    "iq_function = sp.lambdify(x, IQ, 'numpy') # IQ defined above\n",
    "y_vals      = iq_function(new_domain)\n",
    "iq_curve_df = pd.DataFrame({'x':new_domain, 'y':y_vals})\n",
    "\n",
    "# plot\n",
    "ax = iq_curve_df.plot(x='x', y='y', legend=None, lw=4)\n",
    "ax.set_xlabel(\"Score\")\n",
    "ax.set_title(\"IQ Test\");"
   ]
  },
  {
   "cell_type": "code",
   "execution_count": 149,
   "id": "ef4eb666-485d-474f-9e18-6e7060966e6c",
   "metadata": {},
   "outputs": [
    {
     "data": {
      "text/latex": [
       "$\\displaystyle 1.0$"
      ],
      "text/plain": [
       "1.00000"
      ]
     },
     "execution_count": 149,
     "metadata": {},
     "output_type": "execute_result"
    }
   ],
   "source": [
    "sp.integrate(standard, (x, -6, 6)).evalf(6)"
   ]
  },
  {
   "cell_type": "code",
   "execution_count": 150,
   "id": "6eb9dea3-b097-44aa-ad56-c6cca7c9a0f4",
   "metadata": {},
   "outputs": [
    {
     "data": {
      "text/html": [
       "<div>\n",
       "<style scoped>\n",
       "    .dataframe tbody tr th:only-of-type {\n",
       "        vertical-align: middle;\n",
       "    }\n",
       "\n",
       "    .dataframe tbody tr th {\n",
       "        vertical-align: top;\n",
       "    }\n",
       "\n",
       "    .dataframe thead th {\n",
       "        text-align: right;\n",
       "    }\n",
       "</style>\n",
       "<table border=\"1\" class=\"dataframe\">\n",
       "  <thead>\n",
       "    <tr style=\"text-align: right;\">\n",
       "      <th></th>\n",
       "      <th>x</th>\n",
       "      <th>y</th>\n",
       "    </tr>\n",
       "  </thead>\n",
       "  <tbody>\n",
       "    <tr>\n",
       "      <th>0</th>\n",
       "      <td>-6.000000</td>\n",
       "      <td>6.075883e-09</td>\n",
       "    </tr>\n",
       "    <tr>\n",
       "      <th>1</th>\n",
       "      <td>-5.975952</td>\n",
       "      <td>7.016936e-09</td>\n",
       "    </tr>\n",
       "    <tr>\n",
       "      <th>2</th>\n",
       "      <td>-5.951904</td>\n",
       "      <td>8.099059e-09</td>\n",
       "    </tr>\n",
       "    <tr>\n",
       "      <th>3</th>\n",
       "      <td>-5.927856</td>\n",
       "      <td>9.342657e-09</td>\n",
       "    </tr>\n",
       "    <tr>\n",
       "      <th>4</th>\n",
       "      <td>-5.903808</td>\n",
       "      <td>1.077098e-08</td>\n",
       "    </tr>\n",
       "    <tr>\n",
       "      <th>...</th>\n",
       "      <td>...</td>\n",
       "      <td>...</td>\n",
       "    </tr>\n",
       "    <tr>\n",
       "      <th>495</th>\n",
       "      <td>5.903808</td>\n",
       "      <td>1.077098e-08</td>\n",
       "    </tr>\n",
       "    <tr>\n",
       "      <th>496</th>\n",
       "      <td>5.927856</td>\n",
       "      <td>9.342657e-09</td>\n",
       "    </tr>\n",
       "    <tr>\n",
       "      <th>497</th>\n",
       "      <td>5.951904</td>\n",
       "      <td>8.099059e-09</td>\n",
       "    </tr>\n",
       "    <tr>\n",
       "      <th>498</th>\n",
       "      <td>5.975952</td>\n",
       "      <td>7.016936e-09</td>\n",
       "    </tr>\n",
       "    <tr>\n",
       "      <th>499</th>\n",
       "      <td>6.000000</td>\n",
       "      <td>6.075883e-09</td>\n",
       "    </tr>\n",
       "  </tbody>\n",
       "</table>\n",
       "<p>500 rows × 2 columns</p>\n",
       "</div>"
      ],
      "text/plain": [
       "            x             y\n",
       "0   -6.000000  6.075883e-09\n",
       "1   -5.975952  7.016936e-09\n",
       "2   -5.951904  8.099059e-09\n",
       "3   -5.927856  9.342657e-09\n",
       "4   -5.903808  1.077098e-08\n",
       "..        ...           ...\n",
       "495  5.903808  1.077098e-08\n",
       "496  5.927856  9.342657e-09\n",
       "497  5.951904  8.099059e-09\n",
       "498  5.975952  7.016936e-09\n",
       "499  6.000000  6.075883e-09\n",
       "\n",
       "[500 rows x 2 columns]"
      ]
     },
     "execution_count": 150,
     "metadata": {},
     "output_type": "execute_result"
    }
   ],
   "source": [
    "bell_curve_df"
   ]
  },
  {
   "cell_type": "code",
   "execution_count": 151,
   "id": "578c080e-d0d0-4570-a4f1-15b10413a79a",
   "metadata": {},
   "outputs": [
    {
     "data": {
      "text/plain": [
       "0.02404809619238435"
      ]
     },
     "execution_count": 151,
     "metadata": {},
     "output_type": "execute_result"
    }
   ],
   "source": [
    "h = abs(domain[0] - domain[1])\n",
    "h"
   ]
  },
  {
   "cell_type": "code",
   "execution_count": 152,
   "id": "1c23f6a0-9239-4272-884b-203dda2f9af3",
   "metadata": {},
   "outputs": [
    {
     "data": {
      "image/png": "[encoded data removed]",
      "text/plain": [
       "<Figure size 432x288 with 1 Axes>"
      ]
     },
     "metadata": {
      "needs_background": "light"
     },
     "output_type": "display_data"
    }
   ],
   "source": [
    "import matplotlib.patches as mpatches\n",
    "\n",
    "ax = bell_curve_df.plot(x='x', y='y', lw=4)\n",
    "ax.set_title(\"Probability Density Function\")\n",
    "ax.grid(True)\n",
    "ax.legend(['PDF'])\n",
    "\n",
    "row = 200 # of 500 total\n",
    "left, bottom, width, height = (bell_curve_df.iloc[row,0]-h/2,\n",
    "                               0,h, # width h\n",
    "                               bell_curve_df.iloc[row,1])\n",
    "rect=mpatches.Rectangle((left,bottom),width,height, \n",
    "                        fill=True,\n",
    "                        color=\"blue\")\n",
    "ax.add_patch(rect);"
   ]
  },
  {
   "cell_type": "markdown",
   "id": "08935624-687a-4fe2-bf2f-3afb17b5ee97",
   "metadata": {},
   "source": [
    "The area accumulating under the PDF registers as the CDF.  The area starts at zero then climbs more and more steeply.  The area continues to grow, but at a slowing rate.\n",
    "\n",
    "The cumulative sum of thin rectanglar areas, each with a PDF y-value height, times a delta h width of about 0.024, approximates the numeric integral.  More and more rectangles get added.\n",
    "\n",
    "The CDF levels off at 1.0, as it should, given it's tracking the area under the standard bell curve, of probability 1 its total area.  \n",
    "\n",
    "Other PDFs, not bell curves, e.g. the Poisson Distribution, will also have a total area of 1 and a corresponding CDF cumulative sum."
   ]
  },
  {
   "cell_type": "code",
   "execution_count": 153,
   "id": "9f0252ea-76fa-43e4-b42a-f379fccd2468",
   "metadata": {},
   "outputs": [],
   "source": [
    "bell_curve_df['CDF'] = np.cumsum(bell_curve_df['y']*h) # discrete integral"
   ]
  },
  {
   "cell_type": "markdown",
   "id": "4d4d5933-a6c2-4c24-9823-a2e258bdc4fb",
   "metadata": {},
   "source": [
    "$$\n",
    "\\text{cdf} =  \\int_{a}^{b} \\text{pdf}(x) \\,dx\n",
    "$$"
   ]
  },
  {
   "cell_type": "code",
   "execution_count": 154,
   "id": "8a2df2ca-707f-4e6b-8603-56a4a1f2dc22",
   "metadata": {},
   "outputs": [
    {
     "data": {
      "image/png": "[encoded data removed]",
      "text/plain": [
       "<Figure size 432x288 with 1 Axes>"
      ]
     },
     "metadata": {
      "needs_background": "light"
     },
     "output_type": "display_data"
    }
   ],
   "source": [
    "ax = bell_curve_df.plot(x='x', y='CDF', lw=4)\n",
    "ax.grid(True)"
   ]
  },
  {
   "cell_type": "code",
   "execution_count": 155,
   "id": "8ac371f8-df1f-4951-adc1-d3829ce17011",
   "metadata": {},
   "outputs": [
    {
     "data": {
      "image/png": "[encoded data removed]",
      "text/plain": [
       "<Figure size 432x288 with 2 Axes>"
      ]
     },
     "metadata": {
      "needs_background": "light"
     },
     "output_type": "display_data"
    }
   ],
   "source": [
    "plt.subplots()\n",
    "plt.subplot(121)\n",
    "plt.plot(bell_curve_df['x'], bell_curve_df['y'], lw=4)\n",
    "plt.legend(['PDF'])\n",
    "plt.subplot(122)\n",
    "plt.plot(bell_curve_df['x'], bell_curve_df['CDF'], lw=4)\n",
    "plt.legend(['CDF']);"
   ]
  },
  {
   "cell_type": "markdown",
   "id": "3ca5a3c8-a888-41f1-8f00-be261dbbcae2",
   "metadata": {},
   "source": [
    "The CDF's slope registers as the PDF.  The slope starts at zero, then becomes positive and stays positive, but reaches a peak steepness at x=0, and then starts to again level off."
   ]
  },
  {
   "cell_type": "markdown",
   "id": "a624bc83-97b8-477b-bf5c-3b8869f37d57",
   "metadata": {},
   "source": [
    "$$\n",
    "\\text{pdf} =  \\frac{dy}{dx} \\text{cdf}(x)\n",
    "$$"
   ]
  }
 ],
 "metadata": {
  "kernelspec": {
   "display_name": "Python 3 (ipykernel)",
   "language": "python",
   "name": "python3"
  },
  "language_info": {
   "codemirror_mode": {
    "name": "ipython",
    "version": 3
   },
   "file_extension": ".py",
   "mimetype": "text/x-python",
   "name": "python",
   "nbconvert_exporter": "python",
   "pygments_lexer": "ipython3",
   "version": "3.9.12"
  }
 },
 "nbformat": 4,
 "nbformat_minor": 5
}
