{
 "cells": [
  {
   "cell_type": "markdown",
   "id": "88918432-b03b-4cb1-9d21-11f043b6fc30",
   "metadata": {},
   "source": [
    "##### Algorithms and Data Structures (Winter - Spring 2022)\n",
    "\n",
    "* [Table of Contents](ADS_TOC.ipynb)\n",
    "* <a href=\"https://colab.research.google.com/github/4dsolutions/elite_school/blob/master/ADS_highschool_math\"><img align=\"left\" src=\"https://colab.research.google.com/assets/colab-badge.svg\" alt=\"Open in Colab\" title=\"Open and Execute in Google Colaboratory\"></a>\n",
    "* [![nbviewer](https://raw.githubusercontent.com/jupyter/design/master/logos/Badges/nbviewer_badge.svg)](https://nbviewer.org/github/4dsolutions/elite_school/blob/master/ADS_highschool_math.ipynb)"
   ]
  },
  {
   "cell_type": "markdown",
   "id": "9c90a81d-b524-484c-9089-bf535ebfdfd3",
   "metadata": {},
   "source": [
    "# High School Mathematics\n",
    "\n",
    "High school mathematics is a moving target and to track it is to change it, if only by adding to one's awareness of where we've been.  Nor does every subculture follow the same evolutionary path.  The Republic of South Africa, which I've had the privilege of visiting, faces a different set of challenges than California or Oregon.  Different, yet partially overlapping.\n",
    "\n",
    "One entry point into the many debates is the role of technology and how should it be used.  \n",
    "\n",
    "In this Jupyter Notebook, we look at the actual and/or potential role of Jupyter Notebooks along with their wider ecosystem.  Historically speaking, they developed from the Python world as I-Python Notebooks.  \n",
    "\n",
    "Nowadays, Jupyter Notebooks may be used to introduce several computer languages.  But what do computer languages have to do with mathematics?  Nothing?  "
   ]
  },
  {
   "cell_type": "markdown",
   "id": "38874772-4c23-4925-9c8b-6399c6290eca",
   "metadata": {},
   "source": [
    "## The Function and The Set\n",
    "\n",
    "In the several states of North America, the pre-college curriculum saw a sudden infusion of new rigor in the early 1960s, from specific corners (SMSG, University of Chicago), aimed at bolstering the sophistication of American children.  Elementary schoolers tackled the union and intersection of sets, and in algebra took up \"functions\" in a more serious and formal way. \n",
    "\n",
    "The arithmetic of grocery shopping, savings, managing a farm, was being displaced by what they called the New Math.  Some joked about it, others found it too menacing to be a laughing matter.\n",
    "\n",
    "Sets would be our primary data structures going forward and these included the progressively more encompassing, all of them infinite, sets of number types:  \n",
    "\n",
    "* Counting Numbers, or set $\\mathbb{N}$ \n",
    "* Whole Numbers $\\mathbb{W}$\n",
    "* Integers $\\mathbb{Z}$\n",
    "* Rationals $\\mathbb{Q}$\n",
    "* Reals $\\mathbb{R}$ \n",
    "* Complex numbers $\\mathbb{C}$ \n",
    "\n",
    "each a superset of the next previous.\n",
    "\n",
    "$$\n",
    "\\mathbb{N} \\subset  \n",
    "\\mathbb{W} \\subset \n",
    "\\mathbb{Z} \\subset \n",
    "\\mathbb{Q} \\subset \n",
    "\\mathbb{R} \\subset \n",
    "\\mathbb{C}\n",
    "$$\n",
    "\n",
    "The Naturals break up into Primes and Composites.  The Reals break up into Rationals and Irrationals, amidst a lot of philosophy.  Irrationals include the Transcendentals.\n",
    "\n",
    "Functions, a subtype of Relations, define puzzles regarding finding their \"roots\" or \"zeros\" along with local \"minima\" and \"maxima\".   More generally, they're but mappings, of a domain set to a range set, with ballistics metaphors implied. \n",
    "\n",
    "The \"solution space\" would be with respect to one of these number sets, if indeed numbers were at the heart of the solving algorithm.  Complex numbers give us the ability to find the n roots of an equation to the nth degree.  They would give us the complex plane and the ability to visualize fractals.  They would integrate deeply with trig, by way of exponentials and logarithms."
   ]
  },
  {
   "cell_type": "markdown",
   "id": "bb93dc09-9626-4c01-b182-1deee19adb1e",
   "metadata": {},
   "source": [
    "## Plotting\n",
    "\n",
    "The function we usually come to, as a pre-requisite for calculus, is the polynomial.  Before we integrate or differentiate such a curve, we learn to (a) plot it on graph paper (i.e. the screen) and (b) to find its roots, or zeros."
   ]
  },
  {
   "cell_type": "code",
   "execution_count": 1,
   "id": "227e45df-55a0-43cf-80df-c69137e1be31",
   "metadata": {},
   "outputs": [],
   "source": [
    "import numpy as np\n",
    "import matplotlib.pyplot as plt"
   ]
  },
  {
   "cell_type": "code",
   "execution_count": 2,
   "id": "96c12ce3-d8cd-4224-81d4-0e1300463b9e",
   "metadata": {},
   "outputs": [],
   "source": [
    "rat_domain = np.linspace(-5, 5, 200)"
   ]
  },
  {
   "cell_type": "code",
   "execution_count": 3,
   "id": "8e2451b9-327e-41cb-8984-5321d02a3abe",
   "metadata": {},
   "outputs": [],
   "source": [
    "def power_curve(domain, the_power):\n",
    "    return domain ** the_power"
   ]
  },
  {
   "cell_type": "code",
   "execution_count": 4,
   "id": "fde62bb8-1261-49fe-b459-714d41755269",
   "metadata": {},
   "outputs": [],
   "source": [
    "out_range_1 = power_curve(rat_domain, 1)"
   ]
  },
  {
   "cell_type": "code",
   "execution_count": 5,
   "id": "b25688cd-9c83-42d9-a6af-f1df8bcdc45f",
   "metadata": {
    "tags": []
   },
   "outputs": [],
   "source": [
    "out_range_2 = power_curve(rat_domain, 2)"
   ]
  },
  {
   "cell_type": "code",
   "execution_count": 6,
   "id": "70586071-226c-462e-bc8d-4a7dd6af3c10",
   "metadata": {},
   "outputs": [],
   "source": [
    "out_range_3 = power_curve(rat_domain, 3)"
   ]
  },
  {
   "cell_type": "code",
   "execution_count": 7,
   "id": "8c680ef3-c91f-4b13-bb2c-3339685107d2",
   "metadata": {},
   "outputs": [],
   "source": [
    "import pandas as pd"
   ]
  },
  {
   "cell_type": "code",
   "execution_count": 8,
   "id": "073f2153-9f5e-45ff-8f6a-32eb2f85d820",
   "metadata": {},
   "outputs": [
    {
     "data": {
      "text/html": [
       "<div>\n",
       "<style scoped>\n",
       "    .dataframe tbody tr th:only-of-type {\n",
       "        vertical-align: middle;\n",
       "    }\n",
       "\n",
       "    .dataframe tbody tr th {\n",
       "        vertical-align: top;\n",
       "    }\n",
       "\n",
       "    .dataframe thead th {\n",
       "        text-align: right;\n",
       "    }\n",
       "</style>\n",
       "<table border=\"1\" class=\"dataframe\">\n",
       "  <thead>\n",
       "    <tr style=\"text-align: right;\">\n",
       "      <th></th>\n",
       "      <th>1</th>\n",
       "      <th>2</th>\n",
       "      <th>3</th>\n",
       "    </tr>\n",
       "  </thead>\n",
       "  <tbody>\n",
       "    <tr>\n",
       "      <th>-5.000000</th>\n",
       "      <td>-5.000000</td>\n",
       "      <td>25.000000</td>\n",
       "      <td>-125.000000</td>\n",
       "    </tr>\n",
       "    <tr>\n",
       "      <th>-4.949749</th>\n",
       "      <td>-4.949749</td>\n",
       "      <td>24.500013</td>\n",
       "      <td>-121.268907</td>\n",
       "    </tr>\n",
       "    <tr>\n",
       "      <th>-4.899497</th>\n",
       "      <td>-4.899497</td>\n",
       "      <td>24.005076</td>\n",
       "      <td>-117.612808</td>\n",
       "    </tr>\n",
       "    <tr>\n",
       "      <th>-4.849246</th>\n",
       "      <td>-4.849246</td>\n",
       "      <td>23.515189</td>\n",
       "      <td>-114.030942</td>\n",
       "    </tr>\n",
       "    <tr>\n",
       "      <th>-4.798995</th>\n",
       "      <td>-4.798995</td>\n",
       "      <td>23.030353</td>\n",
       "      <td>-110.522547</td>\n",
       "    </tr>\n",
       "  </tbody>\n",
       "</table>\n",
       "</div>"
      ],
      "text/plain": [
       "                  1          2           3\n",
       "-5.000000 -5.000000  25.000000 -125.000000\n",
       "-4.949749 -4.949749  24.500013 -121.268907\n",
       "-4.899497 -4.899497  24.005076 -117.612808\n",
       "-4.849246 -4.849246  23.515189 -114.030942\n",
       "-4.798995 -4.798995  23.030353 -110.522547"
      ]
     },
     "execution_count": 8,
     "metadata": {},
     "output_type": "execute_result"
    }
   ],
   "source": [
    "table = pd.DataFrame({1:out_range_1, \n",
    "                      2:out_range_2, \n",
    "                      3:out_range_3},\n",
    "                      index = rat_domain)\n",
    "table.head()"
   ]
  },
  {
   "cell_type": "code",
   "execution_count": 9,
   "id": "595edc1a-5204-44c6-9e83-b4ebc7433cc8",
   "metadata": {},
   "outputs": [
    {
     "data": {
      "image/png": "[encoded data removed]",
      "text/plain": [
       "<Figure size 432x288 with 1 Axes>"
      ]
     },
     "metadata": {
      "needs_background": "light"
     },
     "output_type": "display_data"
    }
   ],
   "source": [
    "table.plot();"
   ]
  },
  {
   "cell_type": "code",
   "execution_count": 10,
   "id": "015ee3d4-cb3b-41cd-acdc-dd6879b3bd40",
   "metadata": {},
   "outputs": [],
   "source": [
    "import sympy as sp"
   ]
  },
  {
   "cell_type": "code",
   "execution_count": 11,
   "id": "3088d674-0190-497d-b5b8-b04ffa5b35de",
   "metadata": {},
   "outputs": [
    {
     "data": {
      "text/latex": [
       "$\\displaystyle \\left(x - 5\\right) \\left(x - 3\\right) \\left(x + 2\\right) \\left(x + 7\\right)$"
      ],
      "text/plain": [
       "(x - 5)*(x - 3)*(x + 2)*(x + 7)"
      ]
     },
     "execution_count": 11,
     "metadata": {},
     "output_type": "execute_result"
    }
   ],
   "source": [
    "x = sp.Symbol('x')\n",
    "poly = (x - 3)*(x + 2)*(x - 5)*(x + 7)\n",
    "poly"
   ]
  },
  {
   "cell_type": "code",
   "execution_count": 12,
   "id": "db196b91-c800-4e51-bd49-ec376ad3ab38",
   "metadata": {},
   "outputs": [
    {
     "data": {
      "text/latex": [
       "$\\displaystyle x^{4} + x^{3} - 43 x^{2} + 23 x + 210$"
      ],
      "text/plain": [
       "x**4 + x**3 - 43*x**2 + 23*x + 210"
      ]
     },
     "execution_count": 12,
     "metadata": {},
     "output_type": "execute_result"
    }
   ],
   "source": [
    "poly.expand()"
   ]
  },
  {
   "cell_type": "markdown",
   "id": "95a849d9-aa98-450a-8883-aec7ac26f71a",
   "metadata": {},
   "source": [
    "Here's a bridge to that Lambda Calculus, in that lambda has a meaning of \"any function\" and in the context below, makes an expression ready to iterate through some numpy array.  It \"vectorizes\" in other words, a term used by numpy itself.  Without resorting to for loop constructs, or mentioning indices, the `poly` expression races through our 400 point domain, applying itself to each x.\n",
    "\n",
    "The original domain, and the corresponding range (linked by poly), stand side by side as columns, in a pandas DataFrame.  From the DataFrame object, we may plot directly."
   ]
  },
  {
   "cell_type": "code",
   "execution_count": 13,
   "id": "9995128c-a476-44de-ae8b-5777f8a821bc",
   "metadata": {},
   "outputs": [],
   "source": [
    "f = sp.lambdify(x, poly, 'numpy')"
   ]
  },
  {
   "cell_type": "code",
   "execution_count": 14,
   "id": "4fa0b4c8-9a02-4c7a-b967-80ddeabe0a04",
   "metadata": {},
   "outputs": [
    {
     "data": {
      "text/html": [
       "<div>\n",
       "<style scoped>\n",
       "    .dataframe tbody tr th:only-of-type {\n",
       "        vertical-align: middle;\n",
       "    }\n",
       "\n",
       "    .dataframe tbody tr th {\n",
       "        vertical-align: top;\n",
       "    }\n",
       "\n",
       "    .dataframe thead th {\n",
       "        text-align: right;\n",
       "    }\n",
       "</style>\n",
       "<table border=\"1\" class=\"dataframe\">\n",
       "  <thead>\n",
       "    <tr style=\"text-align: right;\">\n",
       "      <th></th>\n",
       "      <th>f(x)</th>\n",
       "    </tr>\n",
       "    <tr>\n",
       "      <th>x</th>\n",
       "      <th></th>\n",
       "    </tr>\n",
       "  </thead>\n",
       "  <tbody>\n",
       "    <tr>\n",
       "      <th>-7.500000</th>\n",
       "      <td>360.937500</td>\n",
       "    </tr>\n",
       "    <tr>\n",
       "      <th>-7.462406</th>\n",
       "      <td>329.337298</td>\n",
       "    </tr>\n",
       "    <tr>\n",
       "      <th>-7.424812</th>\n",
       "      <td>298.496719</td>\n",
       "    </tr>\n",
       "    <tr>\n",
       "      <th>-7.387218</th>\n",
       "      <td>268.406589</td>\n",
       "    </tr>\n",
       "    <tr>\n",
       "      <th>-7.349624</th>\n",
       "      <td>239.057783</td>\n",
       "    </tr>\n",
       "  </tbody>\n",
       "</table>\n",
       "</div>"
      ],
      "text/plain": [
       "                 f(x)\n",
       "x                    \n",
       "-7.500000  360.937500\n",
       "-7.462406  329.337298\n",
       "-7.424812  298.496719\n",
       "-7.387218  268.406589\n",
       "-7.349624  239.057783"
      ]
     },
     "execution_count": 14,
     "metadata": {},
     "output_type": "execute_result"
    }
   ],
   "source": [
    "domain = np.linspace(-7.5,7.5,400)\n",
    "data_f = pd.DataFrame({\"f(x)\": f(domain)}, \n",
    "                      index = domain)\n",
    "data_f.index.name = 'x'\n",
    "data_f.head()"
   ]
  },
  {
   "cell_type": "code",
   "execution_count": 15,
   "id": "3103eb9c-2c49-4f18-8608-307ba2574e18",
   "metadata": {},
   "outputs": [
    {
     "data": {
      "image/png": "[encoded data removed]",
      "text/plain": [
       "<Figure size 432x288 with 1 Axes>"
      ]
     },
     "metadata": {
      "needs_background": "light"
     },
     "output_type": "display_data"
    }
   ],
   "source": [
    "data_f.plot(grid=True);"
   ]
  },
  {
   "cell_type": "markdown",
   "id": "161cefde-8ce3-4a14-910d-0864ad7ab9a6",
   "metadata": {},
   "source": [
    "## Circular Functions\n",
    "\n",
    "From polynomials we move to the trigonometric functions and properties such as amplitude and frequency.\n",
    "\n",
    "The grand unification of circular functions and exponential functions on the Complex plane marks another branch point, where we optionally dive into fractals."
   ]
  },
  {
   "cell_type": "code",
   "execution_count": 16,
   "id": "59ad858e-9d7f-4e34-8ccc-b6e33f76c43a",
   "metadata": {},
   "outputs": [
    {
     "data": {
      "text/html": [
       "<div>\n",
       "<style scoped>\n",
       "    .dataframe tbody tr th:only-of-type {\n",
       "        vertical-align: middle;\n",
       "    }\n",
       "\n",
       "    .dataframe tbody tr th {\n",
       "        vertical-align: top;\n",
       "    }\n",
       "\n",
       "    .dataframe thead th {\n",
       "        text-align: right;\n",
       "    }\n",
       "</style>\n",
       "<table border=\"1\" class=\"dataframe\">\n",
       "  <thead>\n",
       "    <tr style=\"text-align: right;\">\n",
       "      <th></th>\n",
       "      <th>sin(x)</th>\n",
       "    </tr>\n",
       "    <tr>\n",
       "      <th>radians</th>\n",
       "      <th></th>\n",
       "    </tr>\n",
       "  </thead>\n",
       "  <tbody>\n",
       "    <tr>\n",
       "      <th>-10.000000</th>\n",
       "      <td>0.544021</td>\n",
       "    </tr>\n",
       "    <tr>\n",
       "      <th>-9.949875</th>\n",
       "      <td>0.501297</td>\n",
       "    </tr>\n",
       "    <tr>\n",
       "      <th>-9.899749</th>\n",
       "      <td>0.457313</td>\n",
       "    </tr>\n",
       "    <tr>\n",
       "      <th>-9.849624</th>\n",
       "      <td>0.412181</td>\n",
       "    </tr>\n",
       "    <tr>\n",
       "      <th>-9.799499</th>\n",
       "      <td>0.366013</td>\n",
       "    </tr>\n",
       "  </tbody>\n",
       "</table>\n",
       "</div>"
      ],
      "text/plain": [
       "              sin(x)\n",
       "radians             \n",
       "-10.000000  0.544021\n",
       "-9.949875   0.501297\n",
       "-9.899749   0.457313\n",
       "-9.849624   0.412181\n",
       "-9.799499   0.366013"
      ]
     },
     "execution_count": 16,
     "metadata": {},
     "output_type": "execute_result"
    }
   ],
   "source": [
    "domain = np.linspace(-10, 10, 400)\n",
    "data_sin = pd.DataFrame({\"sin(x)\": np.sin(domain)}, \n",
    "                      index = domain)\n",
    "data_sin.index.name = 'radians'\n",
    "data_sin.head()"
   ]
  },
  {
   "cell_type": "code",
   "execution_count": 17,
   "id": "f3949318-b206-4838-9e5c-7203fab22baa",
   "metadata": {},
   "outputs": [
    {
     "data": {
      "image/png": "[encoded data removed]",
      "text/plain": [
       "<Figure size 432x288 with 1 Axes>"
      ]
     },
     "metadata": {
      "needs_background": "light"
     },
     "output_type": "display_data"
    }
   ],
   "source": [
    "data_sin.plot();"
   ]
  },
  {
   "cell_type": "code",
   "execution_count": 18,
   "id": "8121053e-cd50-48ee-92df-919e16969539",
   "metadata": {},
   "outputs": [
    {
     "data": {
      "text/latex": [
       "$\\displaystyle e^{i \\theta}$"
      ],
      "text/plain": [
       "exp(I*theta)"
      ]
     },
     "execution_count": 18,
     "metadata": {},
     "output_type": "execute_result"
    }
   ],
   "source": [
    "theta = sp.Symbol('theta')\n",
    "expr = sp.exp(sp.I * theta)\n",
    "expr"
   ]
  },
  {
   "cell_type": "code",
   "execution_count": 19,
   "id": "06105396-07f9-4f2b-869f-2ec246e4b464",
   "metadata": {},
   "outputs": [],
   "source": [
    "g = sp.lambdify(theta, expr, 'numpy')"
   ]
  },
  {
   "cell_type": "code",
   "execution_count": 20,
   "id": "88f87e98-3bef-46be-8274-2325e7b03307",
   "metadata": {},
   "outputs": [
    {
     "data": {
      "text/html": [
       "<div>\n",
       "<style scoped>\n",
       "    .dataframe tbody tr th:only-of-type {\n",
       "        vertical-align: middle;\n",
       "    }\n",
       "\n",
       "    .dataframe tbody tr th {\n",
       "        vertical-align: top;\n",
       "    }\n",
       "\n",
       "    .dataframe thead th {\n",
       "        text-align: right;\n",
       "    }\n",
       "</style>\n",
       "<table border=\"1\" class=\"dataframe\">\n",
       "  <thead>\n",
       "    <tr style=\"text-align: right;\">\n",
       "      <th></th>\n",
       "      <th>g(x)</th>\n",
       "    </tr>\n",
       "    <tr>\n",
       "      <th>radians</th>\n",
       "      <th></th>\n",
       "    </tr>\n",
       "  </thead>\n",
       "  <tbody>\n",
       "    <tr>\n",
       "      <th>0.000000</th>\n",
       "      <td>1.000000+0.000000j</td>\n",
       "    </tr>\n",
       "    <tr>\n",
       "      <th>0.050251</th>\n",
       "      <td>0.998738+0.050230j</td>\n",
       "    </tr>\n",
       "    <tr>\n",
       "      <th>0.100503</th>\n",
       "      <td>0.994954+0.100333j</td>\n",
       "    </tr>\n",
       "    <tr>\n",
       "      <th>0.150754</th>\n",
       "      <td>0.988658+0.150183j</td>\n",
       "    </tr>\n",
       "    <tr>\n",
       "      <th>0.201005</th>\n",
       "      <td>0.979866+0.199654j</td>\n",
       "    </tr>\n",
       "  </tbody>\n",
       "</table>\n",
       "</div>"
      ],
      "text/plain": [
       "                        g(x)\n",
       "radians                     \n",
       "0.000000  1.000000+0.000000j\n",
       "0.050251  0.998738+0.050230j\n",
       "0.100503  0.994954+0.100333j\n",
       "0.150754  0.988658+0.150183j\n",
       "0.201005  0.979866+0.199654j"
      ]
     },
     "execution_count": 20,
     "metadata": {},
     "output_type": "execute_result"
    }
   ],
   "source": [
    "domain = np.linspace(0, 10, 200)\n",
    "data_g = pd.DataFrame({\"g(x)\": g(domain)}, \n",
    "                      index = domain)\n",
    "data_g.index.name = 'radians'\n",
    "data_g.head()"
   ]
  },
  {
   "cell_type": "code",
   "execution_count": 21,
   "id": "deef6aa1-e534-4fd6-b057-6623be780d79",
   "metadata": {},
   "outputs": [
    {
     "name": "stdout",
     "output_type": "stream",
     "text": [
      "<class 'pandas.core.frame.DataFrame'>\n",
      "Float64Index: 200 entries, 0.0 to 10.0\n",
      "Data columns (total 1 columns):\n",
      " #   Column  Non-Null Count  Dtype     \n",
      "---  ------  --------------  -----     \n",
      " 0   g(x)    200 non-null    complex128\n",
      "dtypes: complex128(1)\n",
      "memory usage: 4.7 KB\n"
     ]
    }
   ],
   "source": [
    "data_g.info()"
   ]
  },
  {
   "cell_type": "code",
   "execution_count": 22,
   "id": "1bf6d3c2-3122-4332-a83b-c1202a90cac9",
   "metadata": {},
   "outputs": [],
   "source": [
    "data_g[\"x\"] = data_g[\"g(x)\"].apply(lambda x: x.real)\n",
    "data_g[\"y\"] = data_g[\"g(x)\"].apply(lambda x: x.imag)"
   ]
  },
  {
   "cell_type": "code",
   "execution_count": 23,
   "id": "ba46ea4d-93f1-4f51-877e-7e0a08627da2",
   "metadata": {},
   "outputs": [
    {
     "data": {
      "text/html": [
       "<div>\n",
       "<style scoped>\n",
       "    .dataframe tbody tr th:only-of-type {\n",
       "        vertical-align: middle;\n",
       "    }\n",
       "\n",
       "    .dataframe tbody tr th {\n",
       "        vertical-align: top;\n",
       "    }\n",
       "\n",
       "    .dataframe thead th {\n",
       "        text-align: right;\n",
       "    }\n",
       "</style>\n",
       "<table border=\"1\" class=\"dataframe\">\n",
       "  <thead>\n",
       "    <tr style=\"text-align: right;\">\n",
       "      <th></th>\n",
       "      <th>g(x)</th>\n",
       "      <th>x</th>\n",
       "      <th>y</th>\n",
       "    </tr>\n",
       "    <tr>\n",
       "      <th>radians</th>\n",
       "      <th></th>\n",
       "      <th></th>\n",
       "      <th></th>\n",
       "    </tr>\n",
       "  </thead>\n",
       "  <tbody>\n",
       "    <tr>\n",
       "      <th>0.000000</th>\n",
       "      <td>1.000000+0.000000j</td>\n",
       "      <td>1.000000</td>\n",
       "      <td>0.000000</td>\n",
       "    </tr>\n",
       "    <tr>\n",
       "      <th>0.050251</th>\n",
       "      <td>0.998738+0.050230j</td>\n",
       "      <td>0.998738</td>\n",
       "      <td>0.050230</td>\n",
       "    </tr>\n",
       "    <tr>\n",
       "      <th>0.100503</th>\n",
       "      <td>0.994954+0.100333j</td>\n",
       "      <td>0.994954</td>\n",
       "      <td>0.100333</td>\n",
       "    </tr>\n",
       "    <tr>\n",
       "      <th>0.150754</th>\n",
       "      <td>0.988658+0.150183j</td>\n",
       "      <td>0.988658</td>\n",
       "      <td>0.150183</td>\n",
       "    </tr>\n",
       "    <tr>\n",
       "      <th>0.201005</th>\n",
       "      <td>0.979866+0.199654j</td>\n",
       "      <td>0.979866</td>\n",
       "      <td>0.199654</td>\n",
       "    </tr>\n",
       "  </tbody>\n",
       "</table>\n",
       "</div>"
      ],
      "text/plain": [
       "                        g(x)         x         y\n",
       "radians                                         \n",
       "0.000000  1.000000+0.000000j  1.000000  0.000000\n",
       "0.050251  0.998738+0.050230j  0.998738  0.050230\n",
       "0.100503  0.994954+0.100333j  0.994954  0.100333\n",
       "0.150754  0.988658+0.150183j  0.988658  0.150183\n",
       "0.201005  0.979866+0.199654j  0.979866  0.199654"
      ]
     },
     "execution_count": 23,
     "metadata": {},
     "output_type": "execute_result"
    }
   ],
   "source": [
    "data_g.head()"
   ]
  },
  {
   "cell_type": "code",
   "execution_count": 24,
   "id": "cb6aa467-e5f1-4091-8ac9-e26cc389237a",
   "metadata": {},
   "outputs": [
    {
     "data": {
      "image/png": "[encoded data removed]",
      "text/plain": [
       "<Figure size 432x288 with 1 Axes>"
      ]
     },
     "metadata": {
      "needs_background": "light"
     },
     "output_type": "display_data"
    }
   ],
   "source": [
    "data_g.plot(x=\"x\",y=\"y\")\n",
    "ax = plt.gca()\n",
    "ax.set_aspect(\"equal\")"
   ]
  },
  {
   "cell_type": "markdown",
   "id": "ca78c4db-f210-48e0-a4a8-8b94a4e4a135",
   "metadata": {},
   "source": [
    "## Delta Calculus\n",
    "\n",
    "The reason for calling it Delta Calculus is to get around using a proper name, such as \"Newtonian\", much as we're free to recapitulate his work in \"fluxions\".  The reader is reminded of many calculi, as maths are full of them, and room for Lambda Calculus appears, with a kind of symmetry between them.  That's to expand the meaning of both, perhaps, to embrace their destinies.\n",
    "\n",
    "The focus I've been adopting, as a curriculum dev, is to focus on the data science curve known as the Gaussian or normal curve.  This \"bell curve\" is very well thought out and much studied, and its integral, the CDF, is likewise prevalent as a pattern, such as when we watch a fad sweep through a population:  early adopters, over the hump, late adopters.  How it all adds up looks like a lazy S, almost like the integral symbol itself.\n",
    "\n",
    "Machine Learning is likewise a gateway into differential calculus as the idea of gradient descent starts quickly, with terrain metaphors.  We've all descended gradients.  We will get to slopes and tangent planes later.  Starting with complex applications then refining the concepts through simplification, of what's actually under study, is something science is good at.  Replace an organism with a single cell.  Reduce everything to group theory."
   ]
  },
  {
   "cell_type": "code",
   "execution_count": 25,
   "id": "f3475744-f50d-449a-bcad-6e4d9b9d3c1d",
   "metadata": {},
   "outputs": [],
   "source": [
    "domain = np.linspace(-6, 6, 500)"
   ]
  },
  {
   "cell_type": "code",
   "execution_count": 26,
   "id": "edfad5a4-ff33-477f-9461-f9a46a8a606e",
   "metadata": {},
   "outputs": [],
   "source": [
    "x, σ, μ = sp.symbols(['x','σ', 'μ'])"
   ]
  },
  {
   "cell_type": "code",
   "execution_count": 27,
   "id": "e710083f-ac78-477e-9f48-900133dfa285",
   "metadata": {},
   "outputs": [],
   "source": [
    "f = sp.Symbol('f')"
   ]
  },
  {
   "cell_type": "code",
   "execution_count": 28,
   "id": "8215b856-d700-4dfe-bd92-25ec5a50e65e",
   "metadata": {},
   "outputs": [
    {
     "data": {
      "text/latex": [
       "$\\displaystyle \\frac{\\sqrt{2} e^{- \\frac{\\left(x - μ\\right)^{2}}{2 σ^{2}}}}{2 \\sqrt{\\pi} σ}$"
      ],
      "text/plain": [
       "sqrt(2)*exp(-(x - μ)**2/(2*σ**2))/(2*sqrt(pi)*σ)"
      ]
     },
     "execution_count": 28,
     "metadata": {},
     "output_type": "execute_result"
    }
   ],
   "source": [
    "expr1 = (1/(σ * sp.sqrt(2 * sp.pi)))\n",
    "expr2 = sp.exp(sp.Rational(-1,2) * ((x - μ)/σ)**2)\n",
    "gaussian = expr2 * expr1\n",
    "gaussian"
   ]
  },
  {
   "cell_type": "code",
   "execution_count": 29,
   "id": "2060954a-fe0b-4748-af16-fddba7a3ac7c",
   "metadata": {},
   "outputs": [
    {
     "data": {
      "text/latex": [
       "$\\displaystyle \\frac{\\sqrt{2} e^{- \\frac{x^{2}}{2}}}{2 \\sqrt{\\pi}}$"
      ],
      "text/plain": [
       "sqrt(2)*exp(-x**2/2)/(2*sqrt(pi))"
      ]
     },
     "execution_count": 29,
     "metadata": {},
     "output_type": "execute_result"
    }
   ],
   "source": [
    "gaussian = gaussian.subs(μ, 0)\n",
    "gaussian = gaussian.subs(σ, 1)\n",
    "gaussian"
   ]
  },
  {
   "cell_type": "code",
   "execution_count": 30,
   "id": "e7b38dec-b720-41ee-baf9-6c0f09bda880",
   "metadata": {},
   "outputs": [],
   "source": [
    "domain = np.linspace(-6, 6, 500)\n",
    "f = sp.lambdify(x, gaussian, 'numpy')\n",
    "y_vals = f(domain)"
   ]
  },
  {
   "cell_type": "code",
   "execution_count": 31,
   "id": "f78e39df-7711-4f40-bdce-43598da08e6a",
   "metadata": {},
   "outputs": [
    {
     "data": {
      "text/html": [
       "<div>\n",
       "<style scoped>\n",
       "    .dataframe tbody tr th:only-of-type {\n",
       "        vertical-align: middle;\n",
       "    }\n",
       "\n",
       "    .dataframe tbody tr th {\n",
       "        vertical-align: top;\n",
       "    }\n",
       "\n",
       "    .dataframe thead th {\n",
       "        text-align: right;\n",
       "    }\n",
       "</style>\n",
       "<table border=\"1\" class=\"dataframe\">\n",
       "  <thead>\n",
       "    <tr style=\"text-align: right;\">\n",
       "      <th></th>\n",
       "      <th>x</th>\n",
       "      <th>y</th>\n",
       "    </tr>\n",
       "  </thead>\n",
       "  <tbody>\n",
       "    <tr>\n",
       "      <th>0</th>\n",
       "      <td>-6.000000</td>\n",
       "      <td>6.075883e-09</td>\n",
       "    </tr>\n",
       "    <tr>\n",
       "      <th>1</th>\n",
       "      <td>-5.975952</td>\n",
       "      <td>7.016936e-09</td>\n",
       "    </tr>\n",
       "    <tr>\n",
       "      <th>2</th>\n",
       "      <td>-5.951904</td>\n",
       "      <td>8.099059e-09</td>\n",
       "    </tr>\n",
       "    <tr>\n",
       "      <th>3</th>\n",
       "      <td>-5.927856</td>\n",
       "      <td>9.342657e-09</td>\n",
       "    </tr>\n",
       "    <tr>\n",
       "      <th>4</th>\n",
       "      <td>-5.903808</td>\n",
       "      <td>1.077098e-08</td>\n",
       "    </tr>\n",
       "  </tbody>\n",
       "</table>\n",
       "</div>"
      ],
      "text/plain": [
       "          x             y\n",
       "0 -6.000000  6.075883e-09\n",
       "1 -5.975952  7.016936e-09\n",
       "2 -5.951904  8.099059e-09\n",
       "3 -5.927856  9.342657e-09\n",
       "4 -5.903808  1.077098e-08"
      ]
     },
     "execution_count": 31,
     "metadata": {},
     "output_type": "execute_result"
    }
   ],
   "source": [
    "bell_curve_df = pd.DataFrame({'x':domain, 'y':y_vals})\n",
    "bell_curve_df.head()"
   ]
  },
  {
   "cell_type": "code",
   "execution_count": 32,
   "id": "33fe9648-c834-46c7-bc01-b67f5256a784",
   "metadata": {},
   "outputs": [
    {
     "data": {
      "image/png": "[encoded data removed]",
      "text/plain": [
       "<Figure size 432x288 with 1 Axes>"
      ]
     },
     "metadata": {
      "needs_background": "light"
     },
     "output_type": "display_data"
    }
   ],
   "source": [
    "bell_curve_df.plot(x='x', y='y')\n",
    "plt.legend(['PDF']);"
   ]
  },
  {
   "cell_type": "code",
   "execution_count": 33,
   "id": "ef4eb666-485d-474f-9e18-6e7060966e6c",
   "metadata": {},
   "outputs": [
    {
     "data": {
      "text/latex": [
       "$\\displaystyle 1.0$"
      ],
      "text/plain": [
       "1.00000"
      ]
     },
     "execution_count": 33,
     "metadata": {},
     "output_type": "execute_result"
    }
   ],
   "source": [
    "sp.integrate(gaussian, (x, -6, 6)).evalf(6)"
   ]
  },
  {
   "cell_type": "code",
   "execution_count": 34,
   "id": "6eb9dea3-b097-44aa-ad56-c6cca7c9a0f4",
   "metadata": {},
   "outputs": [
    {
     "data": {
      "text/html": [
       "<div>\n",
       "<style scoped>\n",
       "    .dataframe tbody tr th:only-of-type {\n",
       "        vertical-align: middle;\n",
       "    }\n",
       "\n",
       "    .dataframe tbody tr th {\n",
       "        vertical-align: top;\n",
       "    }\n",
       "\n",
       "    .dataframe thead th {\n",
       "        text-align: right;\n",
       "    }\n",
       "</style>\n",
       "<table border=\"1\" class=\"dataframe\">\n",
       "  <thead>\n",
       "    <tr style=\"text-align: right;\">\n",
       "      <th></th>\n",
       "      <th>x</th>\n",
       "      <th>y</th>\n",
       "    </tr>\n",
       "  </thead>\n",
       "  <tbody>\n",
       "    <tr>\n",
       "      <th>0</th>\n",
       "      <td>-6.000000</td>\n",
       "      <td>6.075883e-09</td>\n",
       "    </tr>\n",
       "    <tr>\n",
       "      <th>1</th>\n",
       "      <td>-5.975952</td>\n",
       "      <td>7.016936e-09</td>\n",
       "    </tr>\n",
       "    <tr>\n",
       "      <th>2</th>\n",
       "      <td>-5.951904</td>\n",
       "      <td>8.099059e-09</td>\n",
       "    </tr>\n",
       "    <tr>\n",
       "      <th>3</th>\n",
       "      <td>-5.927856</td>\n",
       "      <td>9.342657e-09</td>\n",
       "    </tr>\n",
       "    <tr>\n",
       "      <th>4</th>\n",
       "      <td>-5.903808</td>\n",
       "      <td>1.077098e-08</td>\n",
       "    </tr>\n",
       "    <tr>\n",
       "      <th>...</th>\n",
       "      <td>...</td>\n",
       "      <td>...</td>\n",
       "    </tr>\n",
       "    <tr>\n",
       "      <th>495</th>\n",
       "      <td>5.903808</td>\n",
       "      <td>1.077098e-08</td>\n",
       "    </tr>\n",
       "    <tr>\n",
       "      <th>496</th>\n",
       "      <td>5.927856</td>\n",
       "      <td>9.342657e-09</td>\n",
       "    </tr>\n",
       "    <tr>\n",
       "      <th>497</th>\n",
       "      <td>5.951904</td>\n",
       "      <td>8.099059e-09</td>\n",
       "    </tr>\n",
       "    <tr>\n",
       "      <th>498</th>\n",
       "      <td>5.975952</td>\n",
       "      <td>7.016936e-09</td>\n",
       "    </tr>\n",
       "    <tr>\n",
       "      <th>499</th>\n",
       "      <td>6.000000</td>\n",
       "      <td>6.075883e-09</td>\n",
       "    </tr>\n",
       "  </tbody>\n",
       "</table>\n",
       "<p>500 rows × 2 columns</p>\n",
       "</div>"
      ],
      "text/plain": [
       "            x             y\n",
       "0   -6.000000  6.075883e-09\n",
       "1   -5.975952  7.016936e-09\n",
       "2   -5.951904  8.099059e-09\n",
       "3   -5.927856  9.342657e-09\n",
       "4   -5.903808  1.077098e-08\n",
       "..        ...           ...\n",
       "495  5.903808  1.077098e-08\n",
       "496  5.927856  9.342657e-09\n",
       "497  5.951904  8.099059e-09\n",
       "498  5.975952  7.016936e-09\n",
       "499  6.000000  6.075883e-09\n",
       "\n",
       "[500 rows x 2 columns]"
      ]
     },
     "execution_count": 34,
     "metadata": {},
     "output_type": "execute_result"
    }
   ],
   "source": [
    "bell_curve_df"
   ]
  },
  {
   "cell_type": "code",
   "execution_count": 35,
   "id": "578c080e-d0d0-4570-a4f1-15b10413a79a",
   "metadata": {},
   "outputs": [
    {
     "data": {
      "text/plain": [
       "0.02404809619238435"
      ]
     },
     "execution_count": 35,
     "metadata": {},
     "output_type": "execute_result"
    }
   ],
   "source": [
    "h = abs(domain[0] - domain[1])\n",
    "h"
   ]
  },
  {
   "cell_type": "code",
   "execution_count": 36,
   "id": "9f0252ea-76fa-43e4-b42a-f379fccd2468",
   "metadata": {},
   "outputs": [],
   "source": [
    "bell_curve_df['CDF'] = np.cumsum(bell_curve_df['y']*h) # discrete integral"
   ]
  },
  {
   "cell_type": "code",
   "execution_count": 37,
   "id": "8a2df2ca-707f-4e6b-8603-56a4a1f2dc22",
   "metadata": {},
   "outputs": [
    {
     "data": {
      "image/png": "[encoded data removed]",
      "text/plain": [
       "<Figure size 432x288 with 1 Axes>"
      ]
     },
     "metadata": {
      "needs_background": "light"
     },
     "output_type": "display_data"
    }
   ],
   "source": [
    "bell_curve_df.plot(x='x', y='CDF');"
   ]
  },
  {
   "cell_type": "code",
   "execution_count": 38,
   "id": "8ac371f8-df1f-4951-adc1-d3829ce17011",
   "metadata": {},
   "outputs": [
    {
     "data": {
      "image/png": "[encoded data removed]",
      "text/plain": [
       "<Figure size 432x288 with 2 Axes>"
      ]
     },
     "metadata": {
      "needs_background": "light"
     },
     "output_type": "display_data"
    }
   ],
   "source": [
    "plt.subplots()\n",
    "plt.subplot(121)\n",
    "plt.plot(bell_curve_df['x'], bell_curve_df['y'])\n",
    "plt.legend(['PDF'])\n",
    "plt.subplot(122)\n",
    "plt.plot(bell_curve_df['x'], bell_curve_df['CDF'])\n",
    "plt.legend(['CDF']);"
   ]
  }
 ],
 "metadata": {
  "kernelspec": {
   "display_name": "Python 3 (ipykernel)",
   "language": "python",
   "name": "python3"
  },
  "language_info": {
   "codemirror_mode": {
    "name": "ipython",
    "version": 3
   },
   "file_extension": ".py",
   "mimetype": "text/x-python",
   "name": "python",
   "nbconvert_exporter": "python",
   "pygments_lexer": "ipython3",
   "version": "3.9.12"
  }
 },
 "nbformat": 4,
 "nbformat_minor": 5
}
