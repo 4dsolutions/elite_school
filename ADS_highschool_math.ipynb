{
 "cells": [
  {
   "cell_type": "markdown",
   "id": "88918432-b03b-4cb1-9d21-11f043b6fc30",
   "metadata": {},
   "source": [
    "##### Algorithms and Data Structures (Winter - Spring 2022)\n",
    "\n",
    "* [Table of Contents](ADS_TOC.ipynb)\n",
    "* <a href=\"https://colab.research.google.com/github/4dsolutions/elite_school/blob/master/ADS_highschool_math.ipynb\"><img align=\"left\" src=\"https://colab.research.google.com/assets/colab-badge.svg\" alt=\"Open in Colab\" title=\"Open and Execute in Google Colaboratory\"></a>\n",
    "* [![nbviewer](https://raw.githubusercontent.com/jupyter/design/master/logos/Badges/nbviewer_badge.svg)](https://nbviewer.org/github/4dsolutions/elite_school/blob/master/ADS_highschool_math.ipynb)"
   ]
  },
  {
   "cell_type": "markdown",
   "id": "9c90a81d-b524-484c-9089-bf535ebfdfd3",
   "metadata": {},
   "source": [
    "# High School Mathematics\n",
    "\n",
    "High school mathematics is a moving target and to track it is to change it, if only by adding to one's awareness of where we've been.  Nor does every subculture follow the same evolutionary path.  The Republic of South Africa, which I've had the privilege of visiting, faces a different set of challenges than California or Oregon.  Different, yet partially overlapping.\n",
    "\n",
    "One entry point into the many debates is the role of technology and how should it be used.  \n",
    "\n",
    "In this Jupyter Notebook, we look at the actual and/or potential role of Jupyter Notebooks along with their wider ecosystem.  Historically speaking, they developed from the Python world as I-Python Notebooks.  \n",
    "\n",
    "Nowadays, Jupyter Notebooks may be used to introduce several computer languages.  But what do computer languages have to do with mathematics?  Nothing?  "
   ]
  },
  {
   "cell_type": "markdown",
   "id": "38874772-4c23-4925-9c8b-6399c6290eca",
   "metadata": {},
   "source": [
    "## The Function and The Set\n",
    "\n",
    "In the several states of North America, the pre-college curriculum saw a sudden infusion of new rigor in the early 1960s, from specific corners (SMSG, University of Chicago), aimed at bolstering the sophistication of American children.  Elementary schoolers tackled the union and intersection of sets, and in algebra took up \"functions\" in a more serious and formal way. \n",
    "\n",
    "The arithmetic of grocery shopping, savings, managing a farm, was being displaced by what they called the New Math.  Some joked about it, others found it too menacing to be a laughing matter.\n",
    "\n",
    "Sets would be our primary data structures going forward and these included the progressively more encompassing, all of them infinite, sets of number types:  \n",
    "\n",
    "* Counting Numbers, or set $\\mathbb{N}$ \n",
    "* Whole Numbers $\\mathbb{W}$\n",
    "* Integers $\\mathbb{Z}$\n",
    "* Rationals $\\mathbb{Q}$\n",
    "* Reals $\\mathbb{R}$ \n",
    "* Complex numbers $\\mathbb{C}$ \n",
    "\n",
    "each a superset of the next previous.\n",
    "\n",
    "$$\n",
    "\\mathbb{N} \\subset  \n",
    "\\mathbb{W} \\subset \n",
    "\\mathbb{Z} \\subset \n",
    "\\mathbb{Q} \\subset \n",
    "\\mathbb{R} \\subset \n",
    "\\mathbb{C}\n",
    "$$\n",
    "\n",
    "The Naturals break up into Primes and Composites.  The Reals break up into Rationals and Irrationals, amidst a lot of philosophy.  Irrationals include the Transcendentals.\n",
    "\n",
    "Functions, a subtype of Relations, define puzzles regarding finding their \"roots\" or \"zeros\" along with local \"minima\" and \"maxima\".   More generally, they're but mappings, of a domain set to a range set, with ballistics metaphors implied. \n",
    "\n",
    "The \"solution space\" would be with respect to one of these number sets, if indeed numbers were at the heart of the solving algorithm.  Complex numbers give us the ability to find the n roots of an equation to the nth degree.  They would give us the complex plane and the ability to visualize fractals.  They would integrate deeply with trig, by way of exponentials and logarithms."
   ]
  },
  {
   "cell_type": "markdown",
   "id": "e4e869c8-d0fd-454b-9e75-22c9ebb17ea5",
   "metadata": {},
   "source": [
    "## Primes and Composites\n",
    "\n",
    "Some high school mathematics curricula are in a hurry to get to precalculus and calculus, by way of the real numbers $\\mathbb{R}$. Topics in Number an Group Theory might be offered in the elective category, under the generic heading of Discrete Mathematics.\n",
    "\n",
    "With the rise of digital processing and cryptography, we can make the case that RSA and/or some other public key cryptography algorithm should be leveraged for what it might teach us about Discrete Mathematics.\n",
    "\n",
    "In the case of RSA, we have Fermat's Little Theorem and Euler's theorem regarding the totient, i.e. the number of totatives of a number N, to think about.  Defining totatives requires knowing about the GCD, at which point we introduce Euclid's Method.\n",
    "\n",
    "Euclid's Method in turn anchors a number of topics, including its own extended version."
   ]
  },
  {
   "cell_type": "markdown",
   "id": "cf8c2ad9-fcc7-4172-a123-1a1179bbc8cc",
   "metadata": {},
   "source": [
    "Would this be an opportune time to introduce a type of number that as a built-in modulus?  We could get started, adding more frills in future spirals."
   ]
  },
  {
   "cell_type": "markdown",
   "id": "afb56253-3243-4cb6-a469-80954449f1f3",
   "metadata": {},
   "source": [
    "## The Rational Numbers\n",
    "\n",
    "A first or second excuse to introduce operator overloading and to code a substantial \"math object\" comes with the rational numbers of Fraction type.  \n",
    "\n",
    "Python has a fraction.Fraction in the Standard Library, along with math.gcd, but neither need not stop us from using our own code.\n",
    "\n",
    "We may start writing a own Rational Number class, which keeps track of the integer numerator and denominator."
   ]
  },
  {
   "cell_type": "markdown",
   "id": "cc8c2d25-3d98-41d2-94ff-e7558336245b",
   "metadata": {},
   "source": [
    "## The Permutation\n",
    "\n",
    "In how many distinct orders might a deck of 52 be shuffled?  \n",
    "\n",
    "Every card is unique.  We have 52 to choose from for the first card, with one of 51 remaining for the second and so on:  52 * 51 * 50 ... * 1.  That's an astronomically large number: 52 factorial or $52!$ or...."
   ]
  },
  {
   "cell_type": "code",
   "execution_count": 1,
   "id": "5f1e9523-3225-472c-8545-b06e446a2647",
   "metadata": {},
   "outputs": [
    {
     "data": {
      "text/plain": [
       "80658175170943878571660636856403766975289505440883277824000000000000"
      ]
     },
     "execution_count": 1,
     "metadata": {},
     "output_type": "execute_result"
    }
   ],
   "source": [
    "import math\n",
    "math.factorial(52)  # showing off Python's arbitrary length int type"
   ]
  },
  {
   "cell_type": "markdown",
   "id": "eefbee9b-7910-4af6-80f9-5d79a71af1f6",
   "metadata": {},
   "source": [
    "\n",
    "Permutations take us into Combinatorics, and are also our bridge into Abstract Algebra, wherein permutations come in groups, i.e. with a binary group operation. They also come with a unary operator for obtaining the inverse of any element.\n",
    "\n",
    "Assuming the object oriented paradigm is going to stay relevant, Python's way of doing operator overloading comes into play with the P type.  We'll want to defind `__mul__` and several other operators using \"magic methods\" or \"special names\" (same thing)."
   ]
  },
  {
   "cell_type": "markdown",
   "id": "cf5c719d-f9f5-4cfd-af2f-4cc6c7e3c0a7",
   "metadata": {},
   "source": [
    "A permutation might map the letters 'a-z' (lowercase ascii) plus space, to that same set in a different order, one-to-one.  That's a permutation, or \"shuffle\" of the 27 elements 'a-z' + space.\n",
    "\n",
    "Permutation objects are a lot like dictionaries in associated every key with a corresponding value."
   ]
  },
  {
   "cell_type": "code",
   "execution_count": 2,
   "id": "38084ccf-a035-4197-a5bc-ada43d9b08d9",
   "metadata": {},
   "outputs": [],
   "source": [
    "from px_class import P"
   ]
  },
  {
   "cell_type": "code",
   "execution_count": 3,
   "id": "22b019e5-0eb3-47ec-a2a1-04de8e327193",
   "metadata": {},
   "outputs": [],
   "source": [
    "p = P().shuffle()\n",
    "q = P().shuffle()\n",
    "e = P()"
   ]
  },
  {
   "cell_type": "markdown",
   "id": "1300c411-7b30-47f4-bd1f-3ae4c0cb8e5a",
   "metadata": {},
   "source": [
    "To multiply two permutations is to conjoin their mappings such that: \n",
    "\n",
    "Option 1:\n",
    "\n",
    "* if $p[x] \\rightarrow y$ and \n",
    "* $q[y] \\rightarrow z$ then \n",
    "* $(p * q)[x] \\rightarrow z$\n",
    "\n",
    "Or sometimes it's the other way around:\n",
    "\n",
    "Option 2:\n",
    "\n",
    "* if $q[x] \\rightarrow y$ and \n",
    "* $p[y] \\rightarrow z$ then \n",
    "* $(p * q)[x] \\rightarrow z$\n",
    "\n",
    "We go with option 1 with the P class inside of `px_class.py`."
   ]
  },
  {
   "cell_type": "code",
   "execution_count": 4,
   "id": "74e9023e-fe3f-4da8-a167-63e45fe05a3b",
   "metadata": {},
   "outputs": [
    {
     "data": {
      "text/plain": [
       "'s'"
      ]
     },
     "execution_count": 4,
     "metadata": {},
     "output_type": "execute_result"
    }
   ],
   "source": [
    "p['a']  "
   ]
  },
  {
   "cell_type": "code",
   "execution_count": 5,
   "id": "44e731c2-d588-425f-8244-df99cf7d1a2e",
   "metadata": {},
   "outputs": [
    {
     "data": {
      "text/plain": [
       "'f'"
      ]
     },
     "execution_count": 5,
     "metadata": {},
     "output_type": "execute_result"
    }
   ],
   "source": [
    "q[p['a']] "
   ]
  },
  {
   "cell_type": "code",
   "execution_count": 6,
   "id": "796e9343-1fab-4b1c-b3e2-867beff5d286",
   "metadata": {},
   "outputs": [
    {
     "data": {
      "text/plain": [
       "'f'"
      ]
     },
     "execution_count": 6,
     "metadata": {},
     "output_type": "execute_result"
    }
   ],
   "source": [
    "(p * q)['a']"
   ]
  },
  {
   "cell_type": "code",
   "execution_count": 7,
   "id": "fa43ab22-1838-410b-828a-06f8266c1306",
   "metadata": {},
   "outputs": [
    {
     "data": {
      "text/plain": [
       "True"
      ]
     },
     "execution_count": 7,
     "metadata": {},
     "output_type": "execute_result"
    }
   ],
   "source": [
    "(~q * q) == e"
   ]
  },
  {
   "cell_type": "code",
   "execution_count": 8,
   "id": "72ff6e8b-48f5-43b2-b0bf-6a5479456e4b",
   "metadata": {},
   "outputs": [
    {
     "data": {
      "text/plain": [
       "'nqooqxmfvwfozovozcsmbcuq'"
      ]
     },
     "execution_count": 8,
     "metadata": {},
     "output_type": "execute_result"
    }
   ],
   "source": [
    "c = q(\"letter substitution code\")\n",
    "c"
   ]
  },
  {
   "cell_type": "code",
   "execution_count": 9,
   "id": "464d8d96-baf3-4090-8452-8b0ad6f6be3a",
   "metadata": {},
   "outputs": [
    {
     "data": {
      "text/plain": [
       "'letter substitution code'"
      ]
     },
     "execution_count": 9,
     "metadata": {},
     "output_type": "execute_result"
    }
   ],
   "source": [
    "(~q)(c)"
   ]
  },
  {
   "cell_type": "markdown",
   "id": "96934f49-f0cf-4595-a9a2-d7a85d384cd9",
   "metadata": {},
   "source": [
    "## The Vector\n",
    "\n",
    "High school math has conventionally introduced (x, y) and (x, y, z) coordinates twice, the first time without vector notation, the second time with.\n",
    "\n",
    "Given an object oriented computer language, why not start with Vectors?  \n",
    "\n",
    "Introduce operator overloading and implement vector addition and subtraction, along with scalar multiplication and division.\n",
    "\n",
    "Expand to include dot and cross products."
   ]
  },
  {
   "cell_type": "code",
   "execution_count": 10,
   "id": "ce7d2352-222d-4751-bc9a-e1e95f389dae",
   "metadata": {},
   "outputs": [],
   "source": [
    "import numpy as np\n",
    "\n",
    "class Vector:\n",
    "    \n",
    "    def __init__(self, x, y, z):\n",
    "        self.v = np.array((x, y, z))\n",
    "        \n",
    "    def __add__(self, other):\n",
    "        v_sum = self.v + other.v\n",
    "        return Vector(*v_sum)\n",
    "    \n",
    "    def __neg__(self):\n",
    "        return -1 * self\n",
    "    \n",
    "    def __sub__(self, other):\n",
    "        v = (self + (-other))\n",
    "        return Vector(*v)\n",
    "                      \n",
    "    def __mul__(self, scalar):\n",
    "        v = scalar * self.v\n",
    "        return Vector(*v)\n",
    "    \n",
    "    __rmul__ = __mul__\n",
    "    \n",
    "    def __truediv__(self, scalar):\n",
    "        new_v = (1/scalar) * self.v\n",
    "        return Vector(*new_v)\n",
    "    \n",
    "    def norm(self):\n",
    "        return Vector(*(self.v/self.length))\n",
    "    \n",
    "    @property\n",
    "    def length(self):\n",
    "        x, y, z = self.v\n",
    "        return np.sqrt(x**2 \n",
    "                       + y**2 \n",
    "                       + z**2)\n",
    "    \n",
    "    def __repr__(self):\n",
    "        return 'Vector({},{},{})'.format(*self.v)"
   ]
  },
  {
   "cell_type": "code",
   "execution_count": 11,
   "id": "dcc5541c-b361-4989-ae7b-2b0bf1de495b",
   "metadata": {},
   "outputs": [],
   "source": [
    "v0 = Vector(1,2,3)\n",
    "v1 = Vector(3,2,1)"
   ]
  },
  {
   "cell_type": "code",
   "execution_count": 12,
   "id": "d9985390-9ade-421d-a174-8ebb3e0cac41",
   "metadata": {},
   "outputs": [
    {
     "data": {
      "text/plain": [
       "Vector(4,4,4)"
      ]
     },
     "execution_count": 12,
     "metadata": {},
     "output_type": "execute_result"
    }
   ],
   "source": [
    "v0 + v1"
   ]
  },
  {
   "cell_type": "code",
   "execution_count": 13,
   "id": "095cfd24-725f-4661-ab56-a1eedcd8efc7",
   "metadata": {},
   "outputs": [
    {
     "data": {
      "text/plain": [
       "Vector(3,6,9)"
      ]
     },
     "execution_count": 13,
     "metadata": {},
     "output_type": "execute_result"
    }
   ],
   "source": [
    "3 * v0"
   ]
  },
  {
   "cell_type": "code",
   "execution_count": 14,
   "id": "3670fc0d-ef8f-409d-9cbc-fc14acfb62c6",
   "metadata": {},
   "outputs": [
    {
     "data": {
      "text/plain": [
       "Vector(0.3333333333333333,0.6666666666666666,1.0)"
      ]
     },
     "execution_count": 14,
     "metadata": {},
     "output_type": "execute_result"
    }
   ],
   "source": [
    "(1/3) * v0"
   ]
  },
  {
   "cell_type": "code",
   "execution_count": 15,
   "id": "e056b3b5-1107-4d81-bf28-00e3d8598bda",
   "metadata": {},
   "outputs": [
    {
     "data": {
      "text/plain": [
       "3.7416573867739413"
      ]
     },
     "execution_count": 15,
     "metadata": {},
     "output_type": "execute_result"
    }
   ],
   "source": [
    "v0.length"
   ]
  },
  {
   "cell_type": "code",
   "execution_count": 16,
   "id": "788f7893-598d-4d13-85ad-03e770ae29c7",
   "metadata": {},
   "outputs": [
    {
     "data": {
      "text/plain": [
       "Vector(0.2672612419124244,0.5345224838248488,0.8017837257372732)"
      ]
     },
     "execution_count": 16,
     "metadata": {},
     "output_type": "execute_result"
    }
   ],
   "source": [
    "v0.norm()"
   ]
  },
  {
   "cell_type": "markdown",
   "id": "1a3a0f2c-5898-474a-a406-12a77ecc437f",
   "metadata": {},
   "source": [
    "## Computer Graphics\n",
    "\n",
    "Once we're in the space of spatial vectors, a next challenge is to phase in computer graphics, by way of the polyhedrons.  \n",
    "\n",
    "Vectors with a shared tail at the origin fan out to give the surface features of a polyhedron, in terms of Edges (pairs of vectors) and Faces (cycles of Edges).\n",
    "\n",
    "In this curriculum, once the topic of Polyhedrons is broached, we take the liberty of diving into Americana associated with the polymath inventor Buckminster Fuller.  Depending how far down that rabbit hole we want to go, we have the option of introducing [Quadray Coordinates](https://en.wikipedia.org/wiki/Quadray_coordinates) and learning the Vector stuff a second time from another perspective.\n",
    "\n",
    "In particular, we might use Quadrays to [generate the CCP](https://nbviewer.org/github/4dsolutions/Python5/blob/master/Generating%20the%20FCC.ipynb) (cubic close packing).\n",
    "\n",
    "<a data-flickr-embed=\"true\" href=\"https://www.flickr.com/photos/kirbyurner/479693571/in/photolist-2ndRLQZ-2nbQMuQ-2mskcxr-2m29ojG-2m29ok8-2j8odSY-2fn4VBT-8thDyL-8ryECF-8iYyKN-7eU7h4-JoybP-Joybi\" title=\"Rhombic Dodecahedra\"><img src=\"https://live.staticflickr.com/190/479693571_ff580af964_m.jpg\" width=\"240\" height=\"234\" alt=\"Rhombic Dodecahedra\"></a><script async src=\"//embedr.flickr.com/assets/client-code.js\" charset=\"utf-8\"></script>"
   ]
  },
  {
   "cell_type": "markdown",
   "id": "c76f6db1-ce5c-4744-b725-745bbd04170e",
   "metadata": {},
   "source": [
    "## Linear Algebra\n",
    "\n",
    "High school mathematics curricula have conventionally not sought to introduce Linear Algebra is a formal topic, short of demonstrating methods for solving simultaneous linear equations.\n",
    "\n",
    "In this curriculum, a motivation for learning the of matrix times vector mechanics is to apply rotation matrices to a Polyhedron.  We also may use the determinant of a matrix to study [Polyhedron volumes](TheCabal.ipynb)."
   ]
  },
  {
   "cell_type": "markdown",
   "id": "bb93dc09-9626-4c01-b182-1deee19adb1e",
   "metadata": {},
   "source": [
    "## Plotting\n",
    "\n",
    "A function we usually come to, as a pre-requisite for calculus, is the polynomial.  \n",
    "\n",
    "Before we integrate or differentiate such a curve, we learn to (a) plot it on graph paper (i.e. the screen) and (b) to find its roots, or zeros."
   ]
  },
  {
   "cell_type": "markdown",
   "id": "e6304654-a169-444b-8e3b-8de62055b7d4",
   "metadata": {},
   "source": [
    "Plain old Python (pop) doesn't have the `linspace` or `arange` though one might code them in pure Python. Instead, why not introduce \"array based computing\" at the outset, with an eye towards syncing with data science tutorials and the broader Python ecosystem?  Other languages are array-based as well, enabling jumping to other languages, such as J."
   ]
  },
  {
   "cell_type": "markdown",
   "id": "9d20d54f-4c3c-45a1-aebe-780d755e4eb1",
   "metadata": {},
   "source": [
    "The numpy package provides a context for a new kind of list object, the n-dimensional array, suitable for navigating amidst n-d polytopes (Coxeter) if that's your gig.  A lot of us stay with row by column matrix-like data structures, 2-dimensional."
   ]
  },
  {
   "cell_type": "code",
   "execution_count": 17,
   "id": "227e45df-55a0-43cf-80df-c69137e1be31",
   "metadata": {},
   "outputs": [],
   "source": [
    "import numpy as np\n",
    "import matplotlib.pyplot as plt"
   ]
  },
  {
   "cell_type": "markdown",
   "id": "59690f0a-873c-4725-933e-3e2db477d3e3",
   "metadata": {},
   "source": [
    "Chop a number line (like making sausage) into 200 points exactly, so 199 intervals, starting and ending on the two points you give it.  Return an n-d array of only one dimension, as shown by `obj.shape`."
   ]
  },
  {
   "cell_type": "code",
   "execution_count": 18,
   "id": "96c12ce3-d8cd-4224-81d4-0e1300463b9e",
   "metadata": {},
   "outputs": [],
   "source": [
    "rat_domain = np.linspace(-5, 5, 200)  # rational domain, expressed in floating points"
   ]
  },
  {
   "cell_type": "code",
   "execution_count": 19,
   "id": "7d07303d-46c6-4778-9f17-4a965e898ab1",
   "metadata": {},
   "outputs": [
    {
     "name": "stdout",
     "output_type": "stream",
     "text": [
      "Length:  200\n",
      "d-type:  float64\n",
      " Shape:  (200,)\n",
      "   Dim:  1\n"
     ]
    }
   ],
   "source": [
    "print(\"Length: \", len(rat_domain))\n",
    "print(\"d-type: \", rat_domain.dtype)\n",
    "print(\" Shape: \", rat_domain.shape)\n",
    "print(\"   Dim: \", rat_domain.ndim)"
   ]
  },
  {
   "cell_type": "markdown",
   "id": "891399ec-2cd4-458e-a52d-c4799c660617",
   "metadata": {},
   "source": [
    "The code below looks like ordinary Python, however if `domain` then powering (`**`) will by applied element-wise to all 200 data points, with no explicit looping required.  This is what array-based computing entails:  working with whole rafts of numbers without explicitly iterating over them."
   ]
  },
  {
   "cell_type": "code",
   "execution_count": 20,
   "id": "8e2451b9-327e-41cb-8984-5321d02a3abe",
   "metadata": {},
   "outputs": [],
   "source": [
    "def power_curve(domain, the_power):\n",
    "    return domain ** the_power"
   ]
  },
  {
   "cell_type": "code",
   "execution_count": 21,
   "id": "fde62bb8-1261-49fe-b459-714d41755269",
   "metadata": {},
   "outputs": [],
   "source": [
    "out_range_1 = power_curve(rat_domain, 1) # linear relationship "
   ]
  },
  {
   "cell_type": "code",
   "execution_count": 22,
   "id": "b25688cd-9c83-42d9-a6af-f1df8bcdc45f",
   "metadata": {
    "tags": []
   },
   "outputs": [],
   "source": [
    "out_range_2 = power_curve(rat_domain, 2) # 2nd power, parabola"
   ]
  },
  {
   "cell_type": "code",
   "execution_count": 23,
   "id": "70586071-226c-462e-bc8d-4a7dd6af3c10",
   "metadata": {},
   "outputs": [],
   "source": [
    "out_range_3 = power_curve(rat_domain, 3) # 3rd power, inflection point"
   ]
  },
  {
   "cell_type": "markdown",
   "id": "9cbff251-0cbc-4a91-9074-ed7e0044b0c8",
   "metadata": {},
   "source": [
    "And now for our final star player: pandas.  The pandas package is home to a Series, a single column of data, of any data type.  Series objects standing side-by-side, define the DataFrame, a  spreadsheet analog, inspired by R (a grand daddy workhorse language in statistics world, still going strong, works with Jupyter)."
   ]
  },
  {
   "cell_type": "code",
   "execution_count": 24,
   "id": "8c680ef3-c91f-4b13-bb2c-3339685107d2",
   "metadata": {},
   "outputs": [],
   "source": [
    "import pandas as pd"
   ]
  },
  {
   "cell_type": "code",
   "execution_count": 25,
   "id": "073f2153-9f5e-45ff-8f6a-32eb2f85d820",
   "metadata": {},
   "outputs": [
    {
     "data": {
      "text/html": [
       "<div>\n",
       "<style scoped>\n",
       "    .dataframe tbody tr th:only-of-type {\n",
       "        vertical-align: middle;\n",
       "    }\n",
       "\n",
       "    .dataframe tbody tr th {\n",
       "        vertical-align: top;\n",
       "    }\n",
       "\n",
       "    .dataframe thead th {\n",
       "        text-align: right;\n",
       "    }\n",
       "</style>\n",
       "<table border=\"1\" class=\"dataframe\">\n",
       "  <thead>\n",
       "    <tr style=\"text-align: right;\">\n",
       "      <th></th>\n",
       "      <th>1</th>\n",
       "      <th>2</th>\n",
       "      <th>3</th>\n",
       "    </tr>\n",
       "  </thead>\n",
       "  <tbody>\n",
       "    <tr>\n",
       "      <th>-5.000000</th>\n",
       "      <td>-5.000000</td>\n",
       "      <td>25.000000</td>\n",
       "      <td>-125.000000</td>\n",
       "    </tr>\n",
       "    <tr>\n",
       "      <th>-4.949749</th>\n",
       "      <td>-4.949749</td>\n",
       "      <td>24.500013</td>\n",
       "      <td>-121.268907</td>\n",
       "    </tr>\n",
       "    <tr>\n",
       "      <th>-4.899497</th>\n",
       "      <td>-4.899497</td>\n",
       "      <td>24.005076</td>\n",
       "      <td>-117.612808</td>\n",
       "    </tr>\n",
       "    <tr>\n",
       "      <th>-4.849246</th>\n",
       "      <td>-4.849246</td>\n",
       "      <td>23.515189</td>\n",
       "      <td>-114.030942</td>\n",
       "    </tr>\n",
       "    <tr>\n",
       "      <th>-4.798995</th>\n",
       "      <td>-4.798995</td>\n",
       "      <td>23.030353</td>\n",
       "      <td>-110.522547</td>\n",
       "    </tr>\n",
       "  </tbody>\n",
       "</table>\n",
       "</div>"
      ],
      "text/plain": [
       "                  1          2           3\n",
       "-5.000000 -5.000000  25.000000 -125.000000\n",
       "-4.949749 -4.949749  24.500013 -121.268907\n",
       "-4.899497 -4.899497  24.005076 -117.612808\n",
       "-4.849246 -4.849246  23.515189 -114.030942\n",
       "-4.798995 -4.798995  23.030353 -110.522547"
      ]
     },
     "execution_count": 25,
     "metadata": {},
     "output_type": "execute_result"
    }
   ],
   "source": [
    "table = pd.DataFrame({1:out_range_1, \n",
    "                      2:out_range_2, \n",
    "                      3:out_range_3},\n",
    "                      index = rat_domain)\n",
    "table.head()"
   ]
  },
  {
   "cell_type": "code",
   "execution_count": 26,
   "id": "595edc1a-5204-44c6-9e83-b4ebc7433cc8",
   "metadata": {},
   "outputs": [
    {
     "data": {
      "image/png": "[encoded data removed]",
      "text/plain": [
       "<Figure size 432x288 with 1 Axes>"
      ]
     },
     "metadata": {
      "needs_background": "light"
     },
     "output_type": "display_data"
    }
   ],
   "source": [
    "table.plot();"
   ]
  },
  {
   "cell_type": "markdown",
   "id": "73c29983-8df4-428e-ac56-0202ef878456",
   "metadata": {},
   "source": [
    "We have looked at sympy in other chapters, however maybe not in a classic high school setting, where expanding and factoring polynomials is the order of the day.  Once we have wrapped our minds around polynomial functions, we are ready to integrate and differentiate, or so the thinking goes. They lend themselves to these operations, as manual algorithms, very nicely."
   ]
  },
  {
   "cell_type": "code",
   "execution_count": 27,
   "id": "015ee3d4-cb3b-41cd-acdc-dd6879b3bd40",
   "metadata": {},
   "outputs": [],
   "source": [
    "import sympy as sp"
   ]
  },
  {
   "cell_type": "code",
   "execution_count": 28,
   "id": "3088d674-0190-497d-b5b8-b04ffa5b35de",
   "metadata": {},
   "outputs": [
    {
     "data": {
      "text/latex": [
       "$\\displaystyle \\left(x - 5\\right) \\left(x - 3\\right) \\left(x + 2\\right) \\left(x + 7\\right)$"
      ],
      "text/plain": [
       "(x - 5)*(x - 3)*(x + 2)*(x + 7)"
      ]
     },
     "execution_count": 28,
     "metadata": {},
     "output_type": "execute_result"
    }
   ],
   "source": [
    "x = sp.Symbol('x')\n",
    "poly = (x - 3)*(x + 2)*(x - 5)*(x + 7)\n",
    "poly"
   ]
  },
  {
   "cell_type": "code",
   "execution_count": 29,
   "id": "db196b91-c800-4e51-bd49-ec376ad3ab38",
   "metadata": {},
   "outputs": [
    {
     "data": {
      "text/latex": [
       "$\\displaystyle x^{4} + x^{3} - 43 x^{2} + 23 x + 210$"
      ],
      "text/plain": [
       "x**4 + x**3 - 43*x**2 + 23*x + 210"
      ]
     },
     "execution_count": 29,
     "metadata": {},
     "output_type": "execute_result"
    }
   ],
   "source": [
    "poly.expand()"
   ]
  },
  {
   "cell_type": "markdown",
   "id": "95a849d9-aa98-450a-8883-aec7ac26f71a",
   "metadata": {},
   "source": [
    "Here's a bridge to that Lambda Calculus, in that lambda has a meaning of \"any function\" and in the context below, makes an expression ready to iterate through some numpy array.  It \"vectorizes\" in other words, a term used by numpy itself.  Without resorting to for loop constructs, or mentioning indices, the `poly` expression races through our 400 point domain, applying itself to each x.\n",
    "\n",
    "The original domain, and the corresponding range (linked by poly), stand side by side as columns, in a pandas DataFrame.  From the DataFrame object, we may plot directly."
   ]
  },
  {
   "cell_type": "code",
   "execution_count": 30,
   "id": "9995128c-a476-44de-ae8b-5777f8a821bc",
   "metadata": {},
   "outputs": [],
   "source": [
    "f = sp.lambdify(x, poly, 'numpy')"
   ]
  },
  {
   "cell_type": "code",
   "execution_count": 31,
   "id": "4fa0b4c8-9a02-4c7a-b967-80ddeabe0a04",
   "metadata": {},
   "outputs": [
    {
     "data": {
      "text/html": [
       "<div>\n",
       "<style scoped>\n",
       "    .dataframe tbody tr th:only-of-type {\n",
       "        vertical-align: middle;\n",
       "    }\n",
       "\n",
       "    .dataframe tbody tr th {\n",
       "        vertical-align: top;\n",
       "    }\n",
       "\n",
       "    .dataframe thead th {\n",
       "        text-align: right;\n",
       "    }\n",
       "</style>\n",
       "<table border=\"1\" class=\"dataframe\">\n",
       "  <thead>\n",
       "    <tr style=\"text-align: right;\">\n",
       "      <th></th>\n",
       "      <th>f(x)</th>\n",
       "    </tr>\n",
       "    <tr>\n",
       "      <th>x</th>\n",
       "      <th></th>\n",
       "    </tr>\n",
       "  </thead>\n",
       "  <tbody>\n",
       "    <tr>\n",
       "      <th>-7.500000</th>\n",
       "      <td>360.937500</td>\n",
       "    </tr>\n",
       "    <tr>\n",
       "      <th>-7.462406</th>\n",
       "      <td>329.337298</td>\n",
       "    </tr>\n",
       "    <tr>\n",
       "      <th>-7.424812</th>\n",
       "      <td>298.496719</td>\n",
       "    </tr>\n",
       "    <tr>\n",
       "      <th>-7.387218</th>\n",
       "      <td>268.406589</td>\n",
       "    </tr>\n",
       "    <tr>\n",
       "      <th>-7.349624</th>\n",
       "      <td>239.057783</td>\n",
       "    </tr>\n",
       "  </tbody>\n",
       "</table>\n",
       "</div>"
      ],
      "text/plain": [
       "                 f(x)\n",
       "x                    \n",
       "-7.500000  360.937500\n",
       "-7.462406  329.337298\n",
       "-7.424812  298.496719\n",
       "-7.387218  268.406589\n",
       "-7.349624  239.057783"
      ]
     },
     "execution_count": 31,
     "metadata": {},
     "output_type": "execute_result"
    }
   ],
   "source": [
    "domain = np.linspace(-7.5,7.5,400)\n",
    "data_f = pd.DataFrame({\"f(x)\": f(domain)}, \n",
    "                      index = domain)\n",
    "data_f.index.name = 'x'\n",
    "data_f.head()"
   ]
  },
  {
   "cell_type": "code",
   "execution_count": 32,
   "id": "3103eb9c-2c49-4f18-8608-307ba2574e18",
   "metadata": {},
   "outputs": [
    {
     "data": {
      "image/png": "[encoded data removed]",
      "text/plain": [
       "<Figure size 432x288 with 1 Axes>"
      ]
     },
     "metadata": {
      "needs_background": "light"
     },
     "output_type": "display_data"
    }
   ],
   "source": [
    "data_f.plot(grid=True);"
   ]
  },
  {
   "cell_type": "markdown",
   "id": "161cefde-8ce3-4a14-910d-0864ad7ab9a6",
   "metadata": {},
   "source": [
    "## Circular Functions\n",
    "\n",
    "From polynomials we move to the trigonometric functions and properties such as amplitude and frequency.\n",
    "\n",
    "The grand unification of circular functions and exponential functions on the Complex plane marks another branch point, where we optionally dive into fractals."
   ]
  },
  {
   "cell_type": "code",
   "execution_count": 33,
   "id": "59ad858e-9d7f-4e34-8ccc-b6e33f76c43a",
   "metadata": {},
   "outputs": [
    {
     "data": {
      "text/html": [
       "<div>\n",
       "<style scoped>\n",
       "    .dataframe tbody tr th:only-of-type {\n",
       "        vertical-align: middle;\n",
       "    }\n",
       "\n",
       "    .dataframe tbody tr th {\n",
       "        vertical-align: top;\n",
       "    }\n",
       "\n",
       "    .dataframe thead th {\n",
       "        text-align: right;\n",
       "    }\n",
       "</style>\n",
       "<table border=\"1\" class=\"dataframe\">\n",
       "  <thead>\n",
       "    <tr style=\"text-align: right;\">\n",
       "      <th></th>\n",
       "      <th>sin(x)</th>\n",
       "      <th>cos(x)</th>\n",
       "    </tr>\n",
       "    <tr>\n",
       "      <th>radians</th>\n",
       "      <th></th>\n",
       "      <th></th>\n",
       "    </tr>\n",
       "  </thead>\n",
       "  <tbody>\n",
       "    <tr>\n",
       "      <th>-10.000000</th>\n",
       "      <td>0.544021</td>\n",
       "      <td>-0.839072</td>\n",
       "    </tr>\n",
       "    <tr>\n",
       "      <th>-9.949875</th>\n",
       "      <td>0.501297</td>\n",
       "      <td>-0.865275</td>\n",
       "    </tr>\n",
       "    <tr>\n",
       "      <th>-9.899749</th>\n",
       "      <td>0.457313</td>\n",
       "      <td>-0.889306</td>\n",
       "    </tr>\n",
       "    <tr>\n",
       "      <th>-9.849624</th>\n",
       "      <td>0.412181</td>\n",
       "      <td>-0.911102</td>\n",
       "    </tr>\n",
       "    <tr>\n",
       "      <th>-9.799499</th>\n",
       "      <td>0.366013</td>\n",
       "      <td>-0.930610</td>\n",
       "    </tr>\n",
       "  </tbody>\n",
       "</table>\n",
       "</div>"
      ],
      "text/plain": [
       "              sin(x)    cos(x)\n",
       "radians                       \n",
       "-10.000000  0.544021 -0.839072\n",
       "-9.949875   0.501297 -0.865275\n",
       "-9.899749   0.457313 -0.889306\n",
       "-9.849624   0.412181 -0.911102\n",
       "-9.799499   0.366013 -0.930610"
      ]
     },
     "execution_count": 33,
     "metadata": {},
     "output_type": "execute_result"
    }
   ],
   "source": [
    "domain = np.linspace(-10, 10, 400)\n",
    "data_trig = pd.DataFrame({\"sin(x)\": np.sin(domain),\n",
    "                         \"cos(x)\": np.cos(domain)},\n",
    "                      index = domain)\n",
    "data_trig.index.name = 'radians'\n",
    "data_trig.head()"
   ]
  },
  {
   "cell_type": "markdown",
   "id": "9719b80b-a7d8-4db2-a5db-e695333f745d",
   "metadata": {},
   "source": [
    "The plot we get by calling the plot method on our DataFrame (`data_trig`) with no arguments is already more than acceptable.  Capturing the output as `ax` was optional in this case, but in future examples (below), customizing title, labels and legend involve communicating with this \"axes\" object.  \n",
    "\n",
    "matplotlib is is complicated package in giving us lots of objects we might want to communicate with, about line thickness, marker size, label fonts and so on. \n",
    "\n",
    "Your high school might refer you to various resources to help you continue broadening your vocabulary, while deepening your fluency, with this or any other package.  The math course itself might externalize some of these details."
   ]
  },
  {
   "cell_type": "code",
   "execution_count": 34,
   "id": "f3949318-b206-4838-9e5c-7203fab22baa",
   "metadata": {},
   "outputs": [
    {
     "data": {
      "image/png": "[encoded data removed]",
      "text/plain": [
       "<Figure size 432x288 with 1 Axes>"
      ]
     },
     "metadata": {
      "needs_background": "light"
     },
     "output_type": "display_data"
    }
   ],
   "source": [
    "ax = data_trig.plot()"
   ]
  },
  {
   "cell_type": "markdown",
   "id": "069942a9-1779-4759-b9a5-ab61747b0b3a",
   "metadata": {},
   "source": [
    "A jump to the topic of alternating current and hydro-dam generators as a topic would appropriately go here.  The application of circular functions to electricity concepts comes up a lot in high school physics."
   ]
  },
  {
   "cell_type": "markdown",
   "id": "2c4862ba-0223-4b56-a554-9378a554206f",
   "metadata": {},
   "source": [
    "The final roundup of critical functions comes with Euler's famous formula:\n",
    "\n",
    "$$\n",
    "e^{ \\pm i\\theta } = \\cos \\theta \\pm i\\sin \\theta\n",
    "$$"
   ]
  },
  {
   "cell_type": "code",
   "execution_count": 35,
   "id": "5c23544a-883e-4489-8483-c6175e5c9318",
   "metadata": {},
   "outputs": [],
   "source": [
    "theta = sp.Symbol('theta')"
   ]
  },
  {
   "cell_type": "code",
   "execution_count": 36,
   "id": "a10c3b20-80ae-4c2e-b664-e116886190e9",
   "metadata": {},
   "outputs": [
    {
     "data": {
      "text/latex": [
       "$\\displaystyle 1 - \\frac{\\theta^{2}}{2} + \\frac{\\theta^{4}}{24} + O\\left(\\theta^{6}\\right)$"
      ],
      "text/plain": [
       "1 - theta**2/2 + theta**4/24 + O(theta**6)"
      ]
     },
     "execution_count": 36,
     "metadata": {},
     "output_type": "execute_result"
    }
   ],
   "source": [
    "cos_series = sp.cos(theta).series()\n",
    "cos_series"
   ]
  },
  {
   "cell_type": "code",
   "execution_count": 37,
   "id": "2561a4f3-9fe1-42a2-a095-f6c3e428af11",
   "metadata": {},
   "outputs": [
    {
     "data": {
      "text/latex": [
       "$\\displaystyle i \\left(\\theta - \\frac{\\theta^{3}}{6} + \\frac{\\theta^{5}}{120} + O\\left(\\theta^{6}\\right)\\right)$"
      ],
      "text/plain": [
       "I*(theta - theta**3/6 + theta**5/120 + O(theta**6))"
      ]
     },
     "execution_count": 37,
     "metadata": {},
     "output_type": "execute_result"
    }
   ],
   "source": [
    "i_sin_series = sp.I * sp.sin(theta).series()\n",
    "i_sin_series"
   ]
  },
  {
   "cell_type": "code",
   "execution_count": 38,
   "id": "8121053e-cd50-48ee-92df-919e16969539",
   "metadata": {},
   "outputs": [
    {
     "data": {
      "text/latex": [
       "$\\displaystyle e^{i \\theta}$"
      ],
      "text/plain": [
       "exp(I*theta)"
      ]
     },
     "execution_count": 38,
     "metadata": {},
     "output_type": "execute_result"
    }
   ],
   "source": [
    "exponential = sp.exp(sp.I * theta)\n",
    "exponential"
   ]
  },
  {
   "cell_type": "code",
   "execution_count": 39,
   "id": "5bedfa17-6949-42a7-9141-c0cb5b0fffc6",
   "metadata": {},
   "outputs": [
    {
     "data": {
      "text/latex": [
       "$\\displaystyle 1 + i \\theta - \\frac{\\theta^{2}}{2} - \\frac{i \\theta^{3}}{6} + \\frac{\\theta^{4}}{24} + \\frac{i \\theta^{5}}{120} + O\\left(\\theta^{6}\\right)$"
      ],
      "text/plain": [
       "1 + I*theta - theta**2/2 - I*theta**3/6 + theta**4/24 + I*theta**5/120 + O(theta**6)"
      ]
     },
     "execution_count": 39,
     "metadata": {},
     "output_type": "execute_result"
    }
   ],
   "source": [
    "exponential.series()"
   ]
  },
  {
   "cell_type": "code",
   "execution_count": 41,
   "id": "e81f5d98-482e-48ca-a358-e37a8a55fb48",
   "metadata": {},
   "outputs": [
    {
     "data": {
      "text/latex": [
       "$\\displaystyle 1 + i \\theta - \\frac{\\theta^{2}}{2} - \\frac{i \\theta^{3}}{6} + \\frac{\\theta^{4}}{24} + \\frac{i \\theta^{5}}{120} + O\\left(\\theta^{6}\\right)$"
      ],
      "text/plain": [
       "1 + I*theta - theta**2/2 - I*theta**3/6 + theta**4/24 + I*theta**5/120 + O(theta**6)"
      ]
     },
     "execution_count": 41,
     "metadata": {},
     "output_type": "execute_result"
    }
   ],
   "source": [
    "expr = cos_series + i_sin_series\n",
    "expr.simplify()"
   ]
  },
  {
   "cell_type": "code",
   "execution_count": 42,
   "id": "06105396-07f9-4f2b-869f-2ec246e4b464",
   "metadata": {},
   "outputs": [],
   "source": [
    "euler = sp.lambdify(theta, exponential, 'numpy')"
   ]
  },
  {
   "cell_type": "code",
   "execution_count": 43,
   "id": "88f87e98-3bef-46be-8274-2325e7b03307",
   "metadata": {},
   "outputs": [
    {
     "data": {
      "text/html": [
       "<div>\n",
       "<style scoped>\n",
       "    .dataframe tbody tr th:only-of-type {\n",
       "        vertical-align: middle;\n",
       "    }\n",
       "\n",
       "    .dataframe tbody tr th {\n",
       "        vertical-align: top;\n",
       "    }\n",
       "\n",
       "    .dataframe thead th {\n",
       "        text-align: right;\n",
       "    }\n",
       "</style>\n",
       "<table border=\"1\" class=\"dataframe\">\n",
       "  <thead>\n",
       "    <tr style=\"text-align: right;\">\n",
       "      <th></th>\n",
       "      <th>euler(r)</th>\n",
       "    </tr>\n",
       "    <tr>\n",
       "      <th>radians</th>\n",
       "      <th></th>\n",
       "    </tr>\n",
       "  </thead>\n",
       "  <tbody>\n",
       "    <tr>\n",
       "      <th>0.000000</th>\n",
       "      <td>1.000000+0.000000j</td>\n",
       "    </tr>\n",
       "    <tr>\n",
       "      <th>0.050251</th>\n",
       "      <td>0.998738+0.050230j</td>\n",
       "    </tr>\n",
       "    <tr>\n",
       "      <th>0.100503</th>\n",
       "      <td>0.994954+0.100333j</td>\n",
       "    </tr>\n",
       "    <tr>\n",
       "      <th>0.150754</th>\n",
       "      <td>0.988658+0.150183j</td>\n",
       "    </tr>\n",
       "    <tr>\n",
       "      <th>0.201005</th>\n",
       "      <td>0.979866+0.199654j</td>\n",
       "    </tr>\n",
       "  </tbody>\n",
       "</table>\n",
       "</div>"
      ],
      "text/plain": [
       "                    euler(r)\n",
       "radians                     \n",
       "0.000000  1.000000+0.000000j\n",
       "0.050251  0.998738+0.050230j\n",
       "0.100503  0.994954+0.100333j\n",
       "0.150754  0.988658+0.150183j\n",
       "0.201005  0.979866+0.199654j"
      ]
     },
     "execution_count": 43,
     "metadata": {},
     "output_type": "execute_result"
    }
   ],
   "source": [
    "domain     = np.linspace(0, 10, 200)  # for wrapping around and around the circle\n",
    "data_euler = pd.DataFrame({\"euler(r)\": euler(domain)},  # r for radians\n",
    "                            index = domain)\n",
    "data_euler.index.name = 'radians'\n",
    "data_euler.head()"
   ]
  },
  {
   "cell_type": "code",
   "execution_count": 44,
   "id": "deef6aa1-e534-4fd6-b057-6623be780d79",
   "metadata": {},
   "outputs": [
    {
     "name": "stdout",
     "output_type": "stream",
     "text": [
      "<class 'pandas.core.frame.DataFrame'>\n",
      "Float64Index: 200 entries, 0.0 to 10.0\n",
      "Data columns (total 1 columns):\n",
      " #   Column    Non-Null Count  Dtype     \n",
      "---  ------    --------------  -----     \n",
      " 0   euler(r)  200 non-null    complex128\n",
      "dtypes: complex128(1)\n",
      "memory usage: 4.7 KB\n"
     ]
    }
   ],
   "source": [
    "data_euler.info()"
   ]
  },
  {
   "cell_type": "code",
   "execution_count": 45,
   "id": "1bf6d3c2-3122-4332-a83b-c1202a90cac9",
   "metadata": {},
   "outputs": [],
   "source": [
    "euler_df = data_euler.copy() # keep a backup before adding columns\n",
    "euler_df[\"cos(r)\"] = euler_df[\"euler(r)\"].apply(lambda x: x.real)\n",
    "euler_df[\"sin(r)\"] = euler_df[\"euler(r)\"].apply(lambda x: x.imag)"
   ]
  },
  {
   "cell_type": "code",
   "execution_count": 46,
   "id": "ba46ea4d-93f1-4f51-877e-7e0a08627da2",
   "metadata": {},
   "outputs": [
    {
     "data": {
      "text/html": [
       "<div>\n",
       "<style scoped>\n",
       "    .dataframe tbody tr th:only-of-type {\n",
       "        vertical-align: middle;\n",
       "    }\n",
       "\n",
       "    .dataframe tbody tr th {\n",
       "        vertical-align: top;\n",
       "    }\n",
       "\n",
       "    .dataframe thead th {\n",
       "        text-align: right;\n",
       "    }\n",
       "</style>\n",
       "<table border=\"1\" class=\"dataframe\">\n",
       "  <thead>\n",
       "    <tr style=\"text-align: right;\">\n",
       "      <th></th>\n",
       "      <th>euler(r)</th>\n",
       "      <th>cos(r)</th>\n",
       "      <th>sin(r)</th>\n",
       "    </tr>\n",
       "    <tr>\n",
       "      <th>radians</th>\n",
       "      <th></th>\n",
       "      <th></th>\n",
       "      <th></th>\n",
       "    </tr>\n",
       "  </thead>\n",
       "  <tbody>\n",
       "    <tr>\n",
       "      <th>0.000000</th>\n",
       "      <td>1.000000+0.000000j</td>\n",
       "      <td>1.000000</td>\n",
       "      <td>0.000000</td>\n",
       "    </tr>\n",
       "    <tr>\n",
       "      <th>0.050251</th>\n",
       "      <td>0.998738+0.050230j</td>\n",
       "      <td>0.998738</td>\n",
       "      <td>0.050230</td>\n",
       "    </tr>\n",
       "    <tr>\n",
       "      <th>0.100503</th>\n",
       "      <td>0.994954+0.100333j</td>\n",
       "      <td>0.994954</td>\n",
       "      <td>0.100333</td>\n",
       "    </tr>\n",
       "    <tr>\n",
       "      <th>0.150754</th>\n",
       "      <td>0.988658+0.150183j</td>\n",
       "      <td>0.988658</td>\n",
       "      <td>0.150183</td>\n",
       "    </tr>\n",
       "    <tr>\n",
       "      <th>0.201005</th>\n",
       "      <td>0.979866+0.199654j</td>\n",
       "      <td>0.979866</td>\n",
       "      <td>0.199654</td>\n",
       "    </tr>\n",
       "  </tbody>\n",
       "</table>\n",
       "</div>"
      ],
      "text/plain": [
       "                    euler(r)    cos(r)    sin(r)\n",
       "radians                                         \n",
       "0.000000  1.000000+0.000000j  1.000000  0.000000\n",
       "0.050251  0.998738+0.050230j  0.998738  0.050230\n",
       "0.100503  0.994954+0.100333j  0.994954  0.100333\n",
       "0.150754  0.988658+0.150183j  0.988658  0.150183\n",
       "0.201005  0.979866+0.199654j  0.979866  0.199654"
      ]
     },
     "execution_count": 46,
     "metadata": {},
     "output_type": "execute_result"
    }
   ],
   "source": [
    "euler_df.head()"
   ]
  },
  {
   "cell_type": "code",
   "execution_count": 47,
   "id": "cb6aa467-e5f1-4091-8ac9-e26cc389237a",
   "metadata": {},
   "outputs": [
    {
     "data": {
      "image/png": "[encoded data removed]",
      "text/plain": [
       "<Figure size 432x288 with 1 Axes>"
      ]
     },
     "metadata": {
      "needs_background": "light"
     },
     "output_type": "display_data"
    }
   ],
   "source": [
    "ax = euler_df.plot(y=[\"cos(r)\", \"sin(r)\"])\n",
    "ax.legend(loc='center left', bbox_to_anchor=(1.0, 0.5))\n",
    "ax.set_aspect(\"equal\")"
   ]
  },
  {
   "cell_type": "code",
   "execution_count": 48,
   "id": "47466d92-583f-4fdd-8a12-5751fd90cf11",
   "metadata": {},
   "outputs": [
    {
     "data": {
      "image/png": "[encoded data removed]",
      "text/plain": [
       "<Figure size 432x288 with 1 Axes>"
      ]
     },
     "metadata": {
      "needs_background": "light"
     },
     "output_type": "display_data"
    }
   ],
   "source": [
    "ax = euler_df.plot.scatter(x=\"cos(r)\", y=\"sin(r)\")\n",
    "ax.set_aspect(\"equal\")\n",
    "ax.set_xlabel(\"cos(x): real\")\n",
    "ax.set_ylabel(\"sin(x): imag\")\n",
    "ax.set_title(r\"$e^{i \\pi}$\")\n",
    "ax.grid(True)"
   ]
  },
  {
   "cell_type": "markdown",
   "id": "ca78c4db-f210-48e0-a4a8-8b94a4e4a135",
   "metadata": {},
   "source": [
    "## Delta Calculus\n",
    "\n",
    "The reason for calling it Delta Calculus is to get around using a proper name, such as \"Newtonian\", much as we're free to recapitulate his work in \"fluxions\".  \n",
    "\n",
    "The reader is reminded of many calculi, as maths are full of them, and room for Lambda Calculus appears, with a kind of symmetry between them.  That's to expand the meaning of both, perhaps, to embrace their destinies.\n",
    "\n",
    "The focus I've been adopting, as a curriculum dev, is to focus on the data science curve known as the Gaussian or normal curve.  This \"bell curve\" is very well thought out and much studied, and its integral, the CDF, is likewise prevalent as a pattern, such as when we watch a fad sweep through a population:  early adopters, over the hump, late adopters.  \n",
    "\n",
    "How it all adds up looks like a lazy S, almost like the integral symbol itself $\\int$.\n",
    "\n",
    "The customary discussion of slope versus area, with the CDF plotting the PDF's growing area (integral), and the PDF plotting the CDF's changing slope (derivative), carries over into this more statistically minded context.  Calculus is our bridge to data science and its sociological topics, not just to the classical mechanics in physics.\n",
    "\n",
    "Machine Learning is likewise a gateway into differential calculus as the idea of gradient descent starts quickly, with terrain metaphors.  We've all descended gradients.  We will get to slopes and tangent planes later.  \n",
    "\n",
    "Starting with complex applications and then refining the concepts through progressive simplification, is something science is good at. We look for the generalizable patterns."
   ]
  },
  {
   "cell_type": "code",
   "execution_count": 49,
   "id": "f3475744-f50d-449a-bcad-6e4d9b9d3c1d",
   "metadata": {},
   "outputs": [],
   "source": [
    "domain = np.linspace(-6, 6, 500)"
   ]
  },
  {
   "cell_type": "code",
   "execution_count": 50,
   "id": "edfad5a4-ff33-477f-9461-f9a46a8a606e",
   "metadata": {},
   "outputs": [],
   "source": [
    "x, σ, μ = sp.symbols(['x','σ', 'μ'])"
   ]
  },
  {
   "cell_type": "code",
   "execution_count": 51,
   "id": "e710083f-ac78-477e-9f48-900133dfa285",
   "metadata": {},
   "outputs": [],
   "source": [
    "f = sp.Symbol('f')"
   ]
  },
  {
   "cell_type": "code",
   "execution_count": 52,
   "id": "8215b856-d700-4dfe-bd92-25ec5a50e65e",
   "metadata": {},
   "outputs": [
    {
     "data": {
      "text/latex": [
       "$\\displaystyle \\frac{\\sqrt{2} e^{- \\frac{\\left(x - μ\\right)^{2}}{2 σ^{2}}}}{2 \\sqrt{\\pi} σ}$"
      ],
      "text/plain": [
       "sqrt(2)*exp(-(x - μ)**2/(2*σ**2))/(2*sqrt(pi)*σ)"
      ]
     },
     "execution_count": 52,
     "metadata": {},
     "output_type": "execute_result"
    }
   ],
   "source": [
    "expr1 = (1/(σ * sp.sqrt(2 * sp.pi)))\n",
    "expr2 = sp.exp(sp.Rational(-1,2) * ((x - μ)/σ)**2)\n",
    "gaussian = expr2 * expr1\n",
    "gaussian"
   ]
  },
  {
   "cell_type": "markdown",
   "id": "d97ac1b5-8081-43d5-92fd-7c05e7eb3921",
   "metadata": {},
   "source": [
    "Play around with $\\mu$ and $\\sigma$, the mean and standard deviation parameters, conventionally set to 0 and 1 respectively, for the most standard of the normal bell curves.  Play around with these."
   ]
  },
  {
   "cell_type": "code",
   "execution_count": 53,
   "id": "2060954a-fe0b-4748-af16-fddba7a3ac7c",
   "metadata": {},
   "outputs": [
    {
     "data": {
      "text/latex": [
       "$\\displaystyle \\frac{\\sqrt{2} e^{- \\frac{x^{2}}{2}}}{2 \\sqrt{\\pi}}$"
      ],
      "text/plain": [
       "sqrt(2)*exp(-x**2/2)/(2*sqrt(pi))"
      ]
     },
     "execution_count": 53,
     "metadata": {},
     "output_type": "execute_result"
    }
   ],
   "source": [
    "standard = gaussian.copy()\n",
    "standard = standard.subs(μ, 0)\n",
    "standard = standard.subs(σ, 1)\n",
    "standard"
   ]
  },
  {
   "cell_type": "code",
   "execution_count": 54,
   "id": "d0b327aa-2c21-4e9b-9292-c7921c83e4d6",
   "metadata": {},
   "outputs": [
    {
     "data": {
      "text/latex": [
       "$\\displaystyle \\frac{\\sqrt{2} e^{- \\frac{\\left(x - 100\\right)^{2}}{450}}}{30 \\sqrt{\\pi}}$"
      ],
      "text/plain": [
       "sqrt(2)*exp(-(x - 100)**2/450)/(30*sqrt(pi))"
      ]
     },
     "execution_count": 54,
     "metadata": {},
     "output_type": "execute_result"
    }
   ],
   "source": [
    "IQ = gaussian.copy()\n",
    "IQ = IQ.subs(μ, 100)\n",
    "IQ = IQ.subs(σ, 15)\n",
    "IQ"
   ]
  },
  {
   "cell_type": "code",
   "execution_count": 55,
   "id": "e7b38dec-b720-41ee-baf9-6c0f09bda880",
   "metadata": {},
   "outputs": [],
   "source": [
    "domain = np.linspace(-6, 6, 500)\n",
    "f = sp.lambdify(x, standard, 'numpy') \n",
    "y_vals = f(domain)"
   ]
  },
  {
   "cell_type": "code",
   "execution_count": 56,
   "id": "f78e39df-7711-4f40-bdce-43598da08e6a",
   "metadata": {},
   "outputs": [
    {
     "data": {
      "text/html": [
       "<div>\n",
       "<style scoped>\n",
       "    .dataframe tbody tr th:only-of-type {\n",
       "        vertical-align: middle;\n",
       "    }\n",
       "\n",
       "    .dataframe tbody tr th {\n",
       "        vertical-align: top;\n",
       "    }\n",
       "\n",
       "    .dataframe thead th {\n",
       "        text-align: right;\n",
       "    }\n",
       "</style>\n",
       "<table border=\"1\" class=\"dataframe\">\n",
       "  <thead>\n",
       "    <tr style=\"text-align: right;\">\n",
       "      <th></th>\n",
       "      <th>x</th>\n",
       "      <th>y</th>\n",
       "    </tr>\n",
       "  </thead>\n",
       "  <tbody>\n",
       "    <tr>\n",
       "      <th>0</th>\n",
       "      <td>-6.000000</td>\n",
       "      <td>6.075883e-09</td>\n",
       "    </tr>\n",
       "    <tr>\n",
       "      <th>1</th>\n",
       "      <td>-5.975952</td>\n",
       "      <td>7.016936e-09</td>\n",
       "    </tr>\n",
       "    <tr>\n",
       "      <th>2</th>\n",
       "      <td>-5.951904</td>\n",
       "      <td>8.099059e-09</td>\n",
       "    </tr>\n",
       "    <tr>\n",
       "      <th>3</th>\n",
       "      <td>-5.927856</td>\n",
       "      <td>9.342657e-09</td>\n",
       "    </tr>\n",
       "    <tr>\n",
       "      <th>4</th>\n",
       "      <td>-5.903808</td>\n",
       "      <td>1.077098e-08</td>\n",
       "    </tr>\n",
       "  </tbody>\n",
       "</table>\n",
       "</div>"
      ],
      "text/plain": [
       "          x             y\n",
       "0 -6.000000  6.075883e-09\n",
       "1 -5.975952  7.016936e-09\n",
       "2 -5.951904  8.099059e-09\n",
       "3 -5.927856  9.342657e-09\n",
       "4 -5.903808  1.077098e-08"
      ]
     },
     "execution_count": 56,
     "metadata": {},
     "output_type": "execute_result"
    }
   ],
   "source": [
    "bell_curve_df = pd.DataFrame({'x':domain, 'y':y_vals})\n",
    "bell_curve_df.head()"
   ]
  },
  {
   "cell_type": "code",
   "execution_count": 57,
   "id": "33fe9648-c834-46c7-bc01-b67f5256a784",
   "metadata": {},
   "outputs": [
    {
     "data": {
      "image/png": "[encoded data removed]",
      "text/plain": [
       "<Figure size 432x288 with 1 Axes>"
      ]
     },
     "metadata": {
      "needs_background": "light"
     },
     "output_type": "display_data"
    }
   ],
   "source": [
    "ax = bell_curve_df.plot(x='x', y='y')\n",
    "ax.set_title(\"Probability Density Function\");\n",
    "ax.legend(['PDF']);"
   ]
  },
  {
   "cell_type": "code",
   "execution_count": 58,
   "id": "5d540839-4d42-4922-87f8-93ea253cc252",
   "metadata": {},
   "outputs": [
    {
     "data": {
      "image/png": "[encoded data removed]",
      "text/plain": [
       "<Figure size 432x288 with 1 Axes>"
      ]
     },
     "metadata": {
      "needs_background": "light"
     },
     "output_type": "display_data"
    }
   ],
   "source": [
    "# create data structure\n",
    "new_domain  = np.linspace(0, 200, 500)\n",
    "iq_function = sp.lambdify(x, IQ, 'numpy') # IQ defined above\n",
    "y_vals      = iq_function(new_domain)\n",
    "iq_curve_df = pd.DataFrame({'x':new_domain, 'y':y_vals})\n",
    "\n",
    "# plot\n",
    "ax = iq_curve_df.plot(x='x', y='y', legend=None)\n",
    "ax.set_xlabel(\"Score\")\n",
    "ax.set_title(\"IQ Test\");"
   ]
  },
  {
   "cell_type": "code",
   "execution_count": 59,
   "id": "ef4eb666-485d-474f-9e18-6e7060966e6c",
   "metadata": {},
   "outputs": [
    {
     "data": {
      "text/latex": [
       "$\\displaystyle 1.0$"
      ],
      "text/plain": [
       "1.00000"
      ]
     },
     "execution_count": 59,
     "metadata": {},
     "output_type": "execute_result"
    }
   ],
   "source": [
    "sp.integrate(standard, (x, -6, 6)).evalf(6)"
   ]
  },
  {
   "cell_type": "code",
   "execution_count": 60,
   "id": "6eb9dea3-b097-44aa-ad56-c6cca7c9a0f4",
   "metadata": {},
   "outputs": [
    {
     "data": {
      "text/html": [
       "<div>\n",
       "<style scoped>\n",
       "    .dataframe tbody tr th:only-of-type {\n",
       "        vertical-align: middle;\n",
       "    }\n",
       "\n",
       "    .dataframe tbody tr th {\n",
       "        vertical-align: top;\n",
       "    }\n",
       "\n",
       "    .dataframe thead th {\n",
       "        text-align: right;\n",
       "    }\n",
       "</style>\n",
       "<table border=\"1\" class=\"dataframe\">\n",
       "  <thead>\n",
       "    <tr style=\"text-align: right;\">\n",
       "      <th></th>\n",
       "      <th>x</th>\n",
       "      <th>y</th>\n",
       "    </tr>\n",
       "  </thead>\n",
       "  <tbody>\n",
       "    <tr>\n",
       "      <th>0</th>\n",
       "      <td>-6.000000</td>\n",
       "      <td>6.075883e-09</td>\n",
       "    </tr>\n",
       "    <tr>\n",
       "      <th>1</th>\n",
       "      <td>-5.975952</td>\n",
       "      <td>7.016936e-09</td>\n",
       "    </tr>\n",
       "    <tr>\n",
       "      <th>2</th>\n",
       "      <td>-5.951904</td>\n",
       "      <td>8.099059e-09</td>\n",
       "    </tr>\n",
       "    <tr>\n",
       "      <th>3</th>\n",
       "      <td>-5.927856</td>\n",
       "      <td>9.342657e-09</td>\n",
       "    </tr>\n",
       "    <tr>\n",
       "      <th>4</th>\n",
       "      <td>-5.903808</td>\n",
       "      <td>1.077098e-08</td>\n",
       "    </tr>\n",
       "    <tr>\n",
       "      <th>...</th>\n",
       "      <td>...</td>\n",
       "      <td>...</td>\n",
       "    </tr>\n",
       "    <tr>\n",
       "      <th>495</th>\n",
       "      <td>5.903808</td>\n",
       "      <td>1.077098e-08</td>\n",
       "    </tr>\n",
       "    <tr>\n",
       "      <th>496</th>\n",
       "      <td>5.927856</td>\n",
       "      <td>9.342657e-09</td>\n",
       "    </tr>\n",
       "    <tr>\n",
       "      <th>497</th>\n",
       "      <td>5.951904</td>\n",
       "      <td>8.099059e-09</td>\n",
       "    </tr>\n",
       "    <tr>\n",
       "      <th>498</th>\n",
       "      <td>5.975952</td>\n",
       "      <td>7.016936e-09</td>\n",
       "    </tr>\n",
       "    <tr>\n",
       "      <th>499</th>\n",
       "      <td>6.000000</td>\n",
       "      <td>6.075883e-09</td>\n",
       "    </tr>\n",
       "  </tbody>\n",
       "</table>\n",
       "<p>500 rows × 2 columns</p>\n",
       "</div>"
      ],
      "text/plain": [
       "            x             y\n",
       "0   -6.000000  6.075883e-09\n",
       "1   -5.975952  7.016936e-09\n",
       "2   -5.951904  8.099059e-09\n",
       "3   -5.927856  9.342657e-09\n",
       "4   -5.903808  1.077098e-08\n",
       "..        ...           ...\n",
       "495  5.903808  1.077098e-08\n",
       "496  5.927856  9.342657e-09\n",
       "497  5.951904  8.099059e-09\n",
       "498  5.975952  7.016936e-09\n",
       "499  6.000000  6.075883e-09\n",
       "\n",
       "[500 rows x 2 columns]"
      ]
     },
     "execution_count": 60,
     "metadata": {},
     "output_type": "execute_result"
    }
   ],
   "source": [
    "bell_curve_df"
   ]
  },
  {
   "cell_type": "code",
   "execution_count": 61,
   "id": "578c080e-d0d0-4570-a4f1-15b10413a79a",
   "metadata": {},
   "outputs": [
    {
     "data": {
      "text/plain": [
       "0.02404809619238435"
      ]
     },
     "execution_count": 61,
     "metadata": {},
     "output_type": "execute_result"
    }
   ],
   "source": [
    "h = abs(domain[0] - domain[1])\n",
    "h"
   ]
  },
  {
   "cell_type": "code",
   "execution_count": 62,
   "id": "1c23f6a0-9239-4272-884b-203dda2f9af3",
   "metadata": {},
   "outputs": [
    {
     "data": {
      "image/png": "[encoded data removed]",
      "text/plain": [
       "<Figure size 432x288 with 1 Axes>"
      ]
     },
     "metadata": {
      "needs_background": "light"
     },
     "output_type": "display_data"
    }
   ],
   "source": [
    "import matplotlib.patches as mpatches\n",
    "\n",
    "ax = bell_curve_df.plot(x='x', y='y')\n",
    "ax.set_title(\"Probability Density Function\")\n",
    "ax.grid(True)\n",
    "ax.legend(['PDF'])\n",
    "\n",
    "row = 200 # of 500 total\n",
    "left, bottom, width, height = (bell_curve_df.iloc[row,0]-h/2,\n",
    "                               0,h, # width h\n",
    "                               bell_curve_df.iloc[row,1])\n",
    "rect=mpatches.Rectangle((left,bottom),width,height, \n",
    "                        fill=True,\n",
    "                        color=\"blue\")\n",
    "ax.add_patch(rect);"
   ]
  },
  {
   "cell_type": "markdown",
   "id": "08935624-687a-4fe2-bf2f-3afb17b5ee97",
   "metadata": {},
   "source": [
    "The area accumulating under the PDF registers as the CDF.  The area starts at zero then climbs more and more steeply.  The area continues to grow, but at a slowing rate.\n",
    "\n",
    "The cumulative sum of thin rectanglar areas, each with a PDF y-value height, times a delta h width of about 0.024, approximates the numeric integral.  More and more rectangles get added.\n",
    "\n",
    "The CDF levels off at 1.0, as it should, given it's tracking the area under the standard bell curve, of probability 1 its total area.  \n",
    "\n",
    "Other PDFs, not bell curves, e.g. the Poisson Distribution, will also have a total area of 1 and a corresponding CDF cumulative sum."
   ]
  },
  {
   "cell_type": "code",
   "execution_count": 63,
   "id": "9f0252ea-76fa-43e4-b42a-f379fccd2468",
   "metadata": {},
   "outputs": [],
   "source": [
    "bell_curve_df['CDF'] = np.cumsum(bell_curve_df['y']*h) # discrete integral"
   ]
  },
  {
   "cell_type": "markdown",
   "id": "4d4d5933-a6c2-4c24-9823-a2e258bdc4fb",
   "metadata": {},
   "source": [
    "$$\n",
    "\\text{cdf} =  \\int_{a}^{b} \\text{pdf}(x) \\,dx\n",
    "$$"
   ]
  },
  {
   "cell_type": "code",
   "execution_count": 64,
   "id": "8a2df2ca-707f-4e6b-8603-56a4a1f2dc22",
   "metadata": {},
   "outputs": [
    {
     "data": {
      "image/png": "[encoded data removed]",
      "text/plain": [
       "<Figure size 432x288 with 1 Axes>"
      ]
     },
     "metadata": {
      "needs_background": "light"
     },
     "output_type": "display_data"
    }
   ],
   "source": [
    "ax = bell_curve_df.plot(x='x', y='CDF')\n",
    "ax.grid(True)"
   ]
  },
  {
   "cell_type": "code",
   "execution_count": 65,
   "id": "8ac371f8-df1f-4951-adc1-d3829ce17011",
   "metadata": {},
   "outputs": [
    {
     "data": {
      "image/png": "[encoded data removed]",
      "text/plain": [
       "<Figure size 432x288 with 2 Axes>"
      ]
     },
     "metadata": {
      "needs_background": "light"
     },
     "output_type": "display_data"
    }
   ],
   "source": [
    "plt.subplots()\n",
    "plt.subplot(121)\n",
    "plt.plot(bell_curve_df['x'], bell_curve_df['y'])\n",
    "plt.legend(['PDF'])\n",
    "plt.subplot(122)\n",
    "plt.plot(bell_curve_df['x'], bell_curve_df['CDF'])\n",
    "plt.legend(['CDF']);"
   ]
  },
  {
   "cell_type": "markdown",
   "id": "3ca5a3c8-a888-41f1-8f00-be261dbbcae2",
   "metadata": {},
   "source": [
    "The CDF's slope registers as the PDF.  The slope starts at zero, then becomes positive and stays positive, but reaches a peak steepness at x=0, and then starts to again level off."
   ]
  },
  {
   "cell_type": "markdown",
   "id": "a624bc83-97b8-477b-bf5c-3b8869f37d57",
   "metadata": {},
   "source": [
    "$$\n",
    "\\text{pdf} =  \\frac{dy}{dx} \\text{cdf}(x)\n",
    "$$"
   ]
  }
 ],
 "metadata": {
  "kernelspec": {
   "display_name": "Python 3 (ipykernel)",
   "language": "python",
   "name": "python3"
  },
  "language_info": {
   "codemirror_mode": {
    "name": "ipython",
    "version": 3
   },
   "file_extension": ".py",
   "mimetype": "text/x-python",
   "name": "python",
   "nbconvert_exporter": "python",
   "pygments_lexer": "ipython3",
   "version": "3.9.12"
  }
 },
 "nbformat": 4,
 "nbformat_minor": 5
}
