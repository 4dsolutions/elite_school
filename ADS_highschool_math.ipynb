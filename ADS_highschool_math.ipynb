{
 "cells": [
  {
   "cell_type": "markdown",
   "id": "88918432-b03b-4cb1-9d21-11f043b6fc30",
   "metadata": {},
   "source": [
    "##### Algorithms and Data Structures (Winter - Spring 2022)\n",
    "\n",
    "* [Table of Contents](ADS_TOC.ipynb)\n",
    "* <a href=\"https://colab.research.google.com/github/4dsolutions/elite_school/blob/master/ADS_highschool_math.ipynb\"><img align=\"left\" src=\"https://colab.research.google.com/assets/colab-badge.svg\" alt=\"Open in Colab\" title=\"Open and Execute in Google Colaboratory\"></a>\n",
    "* [![nbviewer](https://raw.githubusercontent.com/jupyter/design/master/logos/Badges/nbviewer_badge.svg)](https://nbviewer.org/github/4dsolutions/elite_school/blob/master/ADS_highschool_math.ipynb)"
   ]
  },
  {
   "cell_type": "markdown",
   "id": "d2258d96-1771-48ed-b0ab-10fa534d499c",
   "metadata": {
    "tags": []
   },
   "source": [
    "<a data-flickr-embed=\"true\" href=\"https://www.flickr.com/photos/kirbyurner/52141123213/in/dateposted-public/\" title=\"Dual Pairs\"><img src=\"https://live.staticflickr.com/65535/52141123213_77f146cdfd_c.jpg\" width=\"800\" height=\"580\" alt=\"Dual Pairs\"></a><script async src=\"//embedr.flickr.com/assets/client-code.js\" charset=\"utf-8\"></script>\n",
    "\n",
    "# High School Mathematics\n",
    "#### by Kirby Urner\n",
    "<br />\n",
    "High school mathematics is a moving target and to track it is to change it, if only by adding to one's awareness of where we've been.  Nor does every subculture follow the same evolutionary path.  The Republic of South Africa (RSA), which I've had the privilege of visiting (our family base was in Lesotho), faces a different set of challenges than California or Oregon.  Different, yet partially overlapping.\n"
   ]
  },
  {
   "cell_type": "markdown",
   "id": "673a4b24-8b4d-47ca-b2f0-a8e8c9012cdc",
   "metadata": {
    "jp-MarkdownHeadingCollapsed": true,
    "tags": []
   },
   "source": [
    "My thanks to Mark Shuttleworth of Canonical, and to Guido van Rossum, Python's inventor, [for having me join them](https://worldgame.blogspot.com/2017/03/in-service.html) in Greater London in 2006, along with other curriculum developers, to brainstorm about the RSA's future.\n",
    "\n",
    "One entry point into the many debates is the role of technology and how should it be used.  \n",
    "\n",
    "In this Jupyter Notebook, we look at the actual and/or potential role of Jupyter Notebooks along with their wider ecosystem.  Historically speaking, they developed from the Python world as I-Python Notebooks.  \n",
    "\n",
    "Nowadays, Jupyter Notebooks may be used to introduce several computer languages.  But what do computer languages have to do with mathematics?  Nothing?  "
   ]
  },
  {
   "cell_type": "markdown",
   "id": "43116639-ef63-485b-90e4-50ac09a0eb5c",
   "metadata": {},
   "source": [
    "## The Role of Visualization\n",
    "\n",
    "<a data-flickr-embed=\"true\" href=\"https://www.flickr.com/photos/kirbyurner/479678482/in/photolist-DgvS4F-bULvdT-2miELnw-wsqaNG-wsqcoN-cc8Kt7-bULvP6-bULw4P-cc8K3y-bULvpT-bULvYn-bULvak-cc8KGo-cc8JYu-cc8KS5-bULvzn-cc8L59-bULvjH-cc8KBu-aGEsaR-aCuw56-9XLUuT-8dUDpo-8bdJLL-88zU7H-76XsYs-JotGE-Joy8X\" title=\"Inscribed Polyhedron\"><img src=\"https://live.staticflickr.com/215/479678482_5e8564dd0b_o.jpg\" width=\"387\" height=\"386\" alt=\"Inscribed Polyhedron\"></a><script async src=\"//embedr.flickr.com/assets/client-code.js\" charset=\"utf-8\"></script>\n",
    "\n",
    "\n",
    "One school of thought, associated with the Bourbaki School (Bourbaki was a fictive mascot for a group of mathematicians), suggests [staying away from direct depiction](https://www.17thshard.com/forum/topic/87667-jasnah-kholin-nicolas-bourbaki-and-disdain-for-visual-arts/), while relying instead on typography.  A mathematics book should consist of numbered axioms and theorems, with definitions provided, and with only a sparse smattering of figures, if any.\n",
    "\n",
    "Benoit Mandelbrot, who helped usher in the visualization of \"fractals\" (shapes of fractional dimension), in collaboration with IBM, felt himself to be at the opposite pole, insisting on direct depiction as a valid contribution to mathematics, and not redundant with the typographical aspects.\n",
    "\n",
    "A previous standard among high school level textbook centric curricula favored passive consumption of published figures (including plots and polyhedrons), but without much attention devoted to the tools and skills needed for the generation thereof. Students were not equipped with desktop publishing skills until later, when becoming more specialized.\n",
    "\n",
    "Desktop publishing skills were considered \"vocational\" or \"shop\" skills akin to \"mechanical drawing\".  Pure mathematicians in training had no time for such detours.  \n",
    "\n",
    "But then high school was never a bastion of anything \"pure\" i.e. the disciplines are purposely hybridized.  In blending mathematics and computer science, we're bringing in the software tools needed for 2D plots and 3D renderings.  \n",
    "\n",
    "Animations, with the added time dimension (flip book frames of action), are just around the corner for those wishing to dive deeper.\n",
    "\n",
    "The newly emerging consensus more closely matches the needs of industry, wherein even individual communications, such as text messages, get pushed to an industry standard on some electronic platform (local and/or in the cloud).  Plots and polyhedrons should look professional no matter who is doing them.\n",
    "\n",
    "In the age of the screen, colored pixels cost no more than black and white ones and populating a text with colorful figures does not make the \"book\" more expensive, because we're no longer dealing with inked wood pulp as our principle communications medium.\n",
    "\n",
    "Thanks to computers, we're able to equip more of the population with these practical social media and publication skills."
   ]
  },
  {
   "cell_type": "markdown",
   "id": "942e051c-858c-4bc3-8c00-8e3ab932b053",
   "metadata": {},
   "source": [
    "## Doodling and Daydreaming\n",
    "\n",
    "The stereotypical teacher is concerned when Little Johnny doesn't focus and only stares out the window, clearly daydreaming. But what if Little Johnny is daydreaming about maths?  That could be a good thing, right?  Johnny has read ahead and is musing about more advanced concepts.  He does well on tests, so no worries.  Little Jill is daydreaming about Lie Groups and Lie Algebras.\n",
    "\n",
    "The other bugaboo is \"doodling\" with many movies having the teacher pause above some hapless student with a notebook, caught doodling.  But then again, what if the doodles are somewhat apropos?  An astute student might weave in enough material from the lecture, to make for some creative note taking or ray tracing.\n",
    "\n",
    "Vi Hart, a Youtuber of some renown, has role modeled the bored student who daydreams and doodles intelligently about the maths that most interests her. The implication is not that she's \"too slow\" but \"too fast\" for the conventional content.  She even talks fast.\n",
    "\n",
    "This curriculum encourages JupyterLab as a safe environment in which to experiment with features, try out syntax, explore possibilities.  Unguided and unsupervised learning become a possibility.  The teacher's ultimate aim is to encourage the habits that come with teaching one's self, i.e. the role model is the polymath autodidact, the comprehensivist more than the over-specialist.\n",
    "\n",
    "Even if some subjects really require teacher - apprentice relationships, not ad hoc trial and error, developing the habits of an autodidact serve one well, just as learning to search the web, transfer funds, stay in the game on various fronts, is of holistic benefit.\n",
    "\n",
    "With all our emphasis on (a) rendering graphics and (b) exploring Python packages embodying whole lifetimes of maths research (more than any one person digests easily i.e. a feast), the hoped for outcome for the student is:  a sense of never lacking for raw material with which to demonstrate both competence and creativity (these go together).  \n",
    "\n",
    "This includes having access to the tools of the trade, and knowing what to do with them.  \n",
    "\n",
    "Think of Orson Welles learning how to make movies from some of Hollywood's best."
   ]
  },
  {
   "cell_type": "markdown",
   "id": "cc5d138b-ba40-482f-98d0-4cc66b8180e0",
   "metadata": {},
   "source": [
    "## The Function and The Set\n",
    "\n",
    "In the several states of North America, the pre-college curriculum saw a sudden infusion of new rigor in the early 1960s, from specific corners (SMSG, University of Chicago), aimed at bolstering the sophistication of American children.  Elementary schoolers tackled the union and intersection of sets, and in algebra took up \"functions\" in a more serious and formal way. \n",
    "\n",
    "The arithmetic of grocery shopping, savings, managing a farm, was being displaced by what they called the New Math.  Some joked about it, others found it too menacing to be a laughing matter."
   ]
  },
  {
   "cell_type": "code",
   "execution_count": 1,
   "id": "581a1f96-a194-4923-9aed-fa86e5040a30",
   "metadata": {},
   "outputs": [],
   "source": [
    "foods = set(['🍩', '🍌', '🍪', '🍕'])\n",
    "desserts = set(['🍩','🍨', '🍰','🍪'])"
   ]
  },
  {
   "cell_type": "code",
   "execution_count": 2,
   "id": "90130f9c-2536-463b-b076-956a4f61d5d3",
   "metadata": {},
   "outputs": [
    {
     "data": {
      "text/plain": [
       "{'🍩', '🍪'}"
      ]
     },
     "execution_count": 2,
     "metadata": {},
     "output_type": "execute_result"
    }
   ],
   "source": [
    "foods.intersection(desserts)"
   ]
  },
  {
   "cell_type": "code",
   "execution_count": 3,
   "id": "472abfd5-13fb-4bae-8acc-ff6465eab2b6",
   "metadata": {},
   "outputs": [
    {
     "data": {
      "text/plain": [
       "{'🍌', '🍕', '🍨', '🍩', '🍪', '🍰'}"
      ]
     },
     "execution_count": 3,
     "metadata": {},
     "output_type": "execute_result"
    }
   ],
   "source": [
    "foods.union(desserts) # combine without duplicates"
   ]
  },
  {
   "cell_type": "code",
   "execution_count": 4,
   "id": "f3b71126-ef38-4f00-a39f-e4303c2528a3",
   "metadata": {},
   "outputs": [
    {
     "data": {
      "text/plain": [
       "True"
      ]
     },
     "execution_count": 4,
     "metadata": {},
     "output_type": "execute_result"
    }
   ],
   "source": [
    "desserts.union(foods) == foods.union(desserts)"
   ]
  },
  {
   "cell_type": "code",
   "execution_count": 5,
   "id": "2e83808b-5955-4acc-9308-28c26c8e7ce3",
   "metadata": {},
   "outputs": [
    {
     "data": {
      "text/plain": [
       "{'🍌', '🍕'}"
      ]
     },
     "execution_count": 5,
     "metadata": {},
     "output_type": "execute_result"
    }
   ],
   "source": [
    "foods.difference(desserts) # foods but not desserts"
   ]
  },
  {
   "cell_type": "code",
   "execution_count": 6,
   "id": "a4f2b9c5-d86e-4fb9-8acc-3105c698f2c6",
   "metadata": {},
   "outputs": [
    {
     "data": {
      "text/plain": [
       "{'🍨', '🍰'}"
      ]
     },
     "execution_count": 6,
     "metadata": {},
     "output_type": "execute_result"
    }
   ],
   "source": [
    "desserts.difference(foods) # in desserts but not foods"
   ]
  },
  {
   "cell_type": "code",
   "execution_count": 7,
   "id": "b999dff7-27bf-4f3f-a873-ca7d46f22baf",
   "metadata": {},
   "outputs": [
    {
     "data": {
      "text/plain": [
       "{'🍌', '🍕', '🍨', '🍰'}"
      ]
     },
     "execution_count": 7,
     "metadata": {},
     "output_type": "execute_result"
    }
   ],
   "source": [
    "desserts.symmetric_difference(foods) # in one but not the other"
   ]
  },
  {
   "cell_type": "markdown",
   "id": "aa6b3a8d-3371-4699-ae88-7898215d34ea",
   "metadata": {},
   "source": [
    "Sets would be our primary data structures going forward and these included the progressively more encompassing, all of them infinite, sets of number types:  \n",
    "\n",
    "* Counting Numbers, or set $\\mathbb{N}$ \n",
    "* Whole Numbers $\\mathbb{W}$ (add 0 to $\\mathbb{N}$)\n",
    "* Integers $\\mathbb{Z}$ (add negatives of positives)\n",
    "* Rationals $\\mathbb{Q}$ (integer:integer ratios)\n",
    "* Reals $\\mathbb{R}$ (no holes)\n",
    "* Complex numbers $\\mathbb{C}$ (add 2nd root of -1 to $\\mathbb{R}$)\n",
    "\n",
    "each a superset of the next previous.\n",
    "\n",
    "$$\n",
    "\\mathbb{N} \\subset  \n",
    "\\mathbb{W} \\subset \n",
    "\\mathbb{Z} \\subset \n",
    "\\mathbb{Q} \\subset \n",
    "\\mathbb{R} \\subset \n",
    "\\mathbb{C}\n",
    "$$\n",
    "\n",
    "The Naturals break up into Primes, Composites and One.  The Reals break up into Rationals and Irrationals, amidst a lot of philosophy.  Irrationals include the Transcendentals.\n",
    "\n",
    "Functions, a subtype of Relations, define puzzles regarding finding their \"roots\" or \"zeros\" along with local \"minima\" and \"maxima\".   More generally, they're but mappings, of a domain set to a range set, with ballistics metaphors implied. \n",
    "\n",
    "The \"solution space\" would be with respect to one of these number sets, if indeed numbers were at the heart of the solving algorithm.  Complex numbers give us the ability to find the n roots of an equation to the nth degree.  They would give us the complex plane and the ability to visualize fractals.  They would integrate deeply with trig, by way of exponentials and logarithms."
   ]
  },
  {
   "cell_type": "markdown",
   "id": "3f1743a8-ac66-448a-8c31-1e4b7bbeca4b",
   "metadata": {},
   "source": [
    "## Number Bases\n",
    "\n",
    "One feature of New Math that was especially controversial was the introduction of number bases as an elementary school topic.  Computers would not be widespread in the home for some decades and the principles of base 2 and base 16 arithmetic, while providing insights into the design of base 10, seemed too much a departure from everyday math for many school districts and parishes.\n",
    "\n",
    "However in 2022 we have no good reasons to eschew number bases as a topic and gateway to bases 2, 8 and 16 in particular. We wish to describe the bridge between binary to unicode via the ubiquitous UTF-8 for example."
   ]
  },
  {
   "cell_type": "code",
   "execution_count": 8,
   "id": "7c9acced-f464-41cb-9fe5-9aebaf93c96b",
   "metadata": {},
   "outputs": [],
   "source": [
    "from IPython.display import YouTubeVideo"
   ]
  },
  {
   "cell_type": "code",
   "execution_count": 9,
   "id": "596b2ac5-01a2-46ac-ad5a-50478a86b033",
   "metadata": {},
   "outputs": [
    {
     "data": {
      "image/jpeg": "[encoded data removed]",
      "text/html": [
       "\n",
       "        <iframe\n",
       "            width=\"400\"\n",
       "            height=\"300\"\n",
       "            src=\"https://www.youtube.com/embed/UIKGV2cTgqA\"\n",
       "            frameborder=\"0\"\n",
       "            allowfullscreen\n",
       "            \n",
       "        ></iframe>\n",
       "        "
      ],
      "text/plain": [
       "<IPython.lib.display.YouTubeVideo at 0x7fc628d77640>"
      ]
     },
     "execution_count": 9,
     "metadata": {},
     "output_type": "execute_result"
    }
   ],
   "source": [
    "YouTubeVideo(\"UIKGV2cTgqA\") # https://youtu.be/UIKGV2cTgqA"
   ]
  },
  {
   "cell_type": "code",
   "execution_count": 10,
   "id": "25675ecb-cfe1-46ad-8851-7a330843ddb9",
   "metadata": {},
   "outputs": [
    {
     "data": {
      "text/plain": [
       "255"
      ]
     },
     "execution_count": 10,
     "metadata": {},
     "output_type": "execute_result"
    }
   ],
   "source": [
    "int('FF', 16)"
   ]
  },
  {
   "cell_type": "code",
   "execution_count": 11,
   "id": "5628666b-6a95-4e51-bb69-f2aebdebc538",
   "metadata": {},
   "outputs": [
    {
     "data": {
      "text/plain": [
       "['0b11110000', '0b10011111', '0b10001101', '0b10010101']"
      ]
     },
     "execution_count": 11,
     "metadata": {},
     "output_type": "execute_result"
    }
   ],
   "source": [
    "pizza = [bin(byte) for byte in list(bytes('🍕', encoding='utf8'))]\n",
    "pizza"
   ]
  },
  {
   "cell_type": "code",
   "execution_count": 12,
   "id": "e3861407-5e5b-43a6-b1ea-4be7d46ee3a1",
   "metadata": {},
   "outputs": [
    {
     "data": {
      "image/jpeg": "[encoded data removed]",
      "text/html": [
       "\n",
       "        <iframe\n",
       "            width=\"400\"\n",
       "            height=\"300\"\n",
       "            src=\"https://www.youtube.com/embed/Z_sl99D2a18\"\n",
       "            frameborder=\"0\"\n",
       "            allowfullscreen\n",
       "            \n",
       "        ></iframe>\n",
       "        "
      ],
      "text/plain": [
       "<IPython.lib.display.YouTubeVideo at 0x7fc628d77760>"
      ]
     },
     "execution_count": 12,
     "metadata": {},
     "output_type": "execute_result"
    }
   ],
   "source": [
    "YouTubeVideo(\"Z_sl99D2a18\") # https://youtu.be/Z_sl99D2a18"
   ]
  },
  {
   "cell_type": "markdown",
   "id": "d7df3b80-f24e-43b1-9ae3-6f12fa11f2f7",
   "metadata": {},
   "source": [
    "## Composition of Functions\n",
    "\n",
    "Given we're diving deeper into Python, even as we dive more deeply into mathematics, we may take advantage of this opportunity to introduce decorator syntax.  By using a decorator class and operator overloading, we may turn ordinary functions into composable objects."
   ]
  },
  {
   "cell_type": "code",
   "execution_count": 13,
   "id": "fb7668ae-3401-4934-b2ac-2805805a52fc",
   "metadata": {},
   "outputs": [],
   "source": [
    "class Compose:\n",
    "    \n",
    "    def __init__(self, f):\n",
    "        self.f = f\n",
    "        \n",
    "    def __call__(self, arg):\n",
    "        return self.f(arg)\n",
    "    \n",
    "    def __mul__(self, other):\n",
    "        return Compose(lambda x: other(self(x)))"
   ]
  },
  {
   "cell_type": "code",
   "execution_count": 14,
   "id": "7c67658d-d5ca-4383-a72f-4e06b517d307",
   "metadata": {},
   "outputs": [],
   "source": [
    "@Compose\n",
    "def g(m):\n",
    "    return 2 * m\n",
    "\n",
    "@Compose\n",
    "def h(m):\n",
    "    return m ** 2\n",
    "\n",
    "# h = Compose(h) <-- what decorator syntax replaces"
   ]
  },
  {
   "cell_type": "code",
   "execution_count": 15,
   "id": "99252862-b5d1-4375-8357-98796b1fa2ec",
   "metadata": {},
   "outputs": [
    {
     "data": {
      "text/plain": [
       "102400000000"
      ]
     },
     "execution_count": 15,
     "metadata": {},
     "output_type": "execute_result"
    }
   ],
   "source": [
    "(g * h * h * g * h)(10)  # making a pipeline"
   ]
  },
  {
   "cell_type": "code",
   "execution_count": 16,
   "id": "b50baf4d-3b3e-40cb-a253-6afe4dfb701d",
   "metadata": {},
   "outputs": [
    {
     "data": {
      "text/plain": [
       "200"
      ]
     },
     "execution_count": 16,
     "metadata": {},
     "output_type": "execute_result"
    }
   ],
   "source": [
    "g(h(10))"
   ]
  },
  {
   "cell_type": "code",
   "execution_count": 17,
   "id": "8d9595cb-17f4-4ab8-8d81-26ff1dd450d9",
   "metadata": {},
   "outputs": [
    {
     "data": {
      "text/plain": [
       "400"
      ]
     },
     "execution_count": 17,
     "metadata": {},
     "output_type": "execute_result"
    }
   ],
   "source": [
    "h(g(10))"
   ]
  },
  {
   "cell_type": "code",
   "execution_count": 18,
   "id": "f54410c8-7e42-45de-b651-548dd281b6b2",
   "metadata": {},
   "outputs": [
    {
     "data": {
      "text/plain": [
       "400"
      ]
     },
     "execution_count": 18,
     "metadata": {},
     "output_type": "execute_result"
    }
   ],
   "source": [
    "(g * h)(10)  # apply g then h to the result"
   ]
  },
  {
   "cell_type": "code",
   "execution_count": 19,
   "id": "7395ec21-bbcd-4753-9d5c-71a6732e7a99",
   "metadata": {},
   "outputs": [
    {
     "data": {
      "text/plain": [
       "200"
      ]
     },
     "execution_count": 19,
     "metadata": {},
     "output_type": "execute_result"
    }
   ],
   "source": [
    "t = h * g\n",
    "t(10)"
   ]
  },
  {
   "cell_type": "code",
   "execution_count": 20,
   "id": "4fab8b24-0f0f-4f28-b4cf-2476298f94ca",
   "metadata": {},
   "outputs": [],
   "source": [
    "@Compose\n",
    "def q(x):\n",
    "    return x"
   ]
  },
  {
   "cell_type": "code",
   "execution_count": 21,
   "id": "7abbb89a-fbed-461a-8286-236089c9689a",
   "metadata": {},
   "outputs": [
    {
     "data": {
      "text/plain": [
       "10"
      ]
     },
     "execution_count": 21,
     "metadata": {},
     "output_type": "execute_result"
    }
   ],
   "source": [
    "q(10)"
   ]
  },
  {
   "cell_type": "code",
   "execution_count": 22,
   "id": "266436c0-08ce-46d6-afc6-648ce4ee361e",
   "metadata": {},
   "outputs": [
    {
     "data": {
      "text/plain": [
       "3"
      ]
     },
     "execution_count": 22,
     "metadata": {},
     "output_type": "execute_result"
    }
   ],
   "source": [
    "(q * q)(3)"
   ]
  },
  {
   "cell_type": "markdown",
   "id": "f73d8475-b94a-448c-b8f3-f87464ddd34f",
   "metadata": {},
   "source": [
    "## Primes and Composites\n",
    "\n",
    "Some high school mathematics curricula are in a hurry to get to precalculus and calculus, by way of the real numbers $\\mathbb{R}$. Topics in Number and Group Theory might be offered in the elective category, under the generic heading of Discrete Mathematics.\n",
    "\n",
    "With the rise of digital processing and cryptography, we can make the case that RSA and/or some other public key cryptography algorithm should be leveraged for what it might teach us about Discrete Mathematics."
   ]
  },
  {
   "cell_type": "code",
   "execution_count": 23,
   "id": "394639bb-3849-4101-acce-c466bdf58cdd",
   "metadata": {},
   "outputs": [
    {
     "name": "stdout",
     "output_type": "stream",
     "text": [
      "['PrimeNumbers', '__builtins__', '__cached__', '__doc__', '__file__', '__loader__', '__name__', '__package__', '__path__', '__spec__', 'all_factors', 'eratosthenes', 'euler_test', 'factors', 'invmod', 'isprime', 'primes_gen', 'primesplay', 'xgcd']\n"
     ]
    }
   ],
   "source": [
    "import primes\n",
    "print(dir(primes))"
   ]
  },
  {
   "cell_type": "code",
   "execution_count": 24,
   "id": "b1f95c2c-f75f-4049-8c1d-39646b7dc631",
   "metadata": {},
   "outputs": [
    {
     "data": {
      "text/plain": [
       "True"
      ]
     },
     "execution_count": 24,
     "metadata": {},
     "output_type": "execute_result"
    }
   ],
   "source": [
    "primes.isprime(392201)"
   ]
  },
  {
   "cell_type": "code",
   "execution_count": 25,
   "id": "a6ef0bd8-5426-42a8-a1f2-f71d10e23720",
   "metadata": {},
   "outputs": [
    {
     "data": {
      "text/plain": [
       "(1, 7, 677, 1579)"
      ]
     },
     "execution_count": 25,
     "metadata": {},
     "output_type": "execute_result"
    }
   ],
   "source": [
    "primes.factors(7482881)"
   ]
  },
  {
   "cell_type": "markdown",
   "id": "c9cec25f-e6eb-4cd1-aeec-2715cad68ec7",
   "metadata": {},
   "source": [
    "In the case of RSA, the public key crypto algorithm named for Rivest–Shamir–Adleman, we have Fermat's Little Theorem and Euler's theorem regarding the totient, i.e. the number of totatives of a number N, to think about.  \n",
    "\n",
    "Defining totatives requires knowing about the GCD, at which point we introduce Euclid's Method.\n",
    "\n",
    "Euclid's Method in turn anchors a number of topics, including its own extended version."
   ]
  },
  {
   "cell_type": "markdown",
   "id": "cf8c2ad9-fcc7-4172-a123-1a1179bbc8cc",
   "metadata": {},
   "source": [
    "Would this be an opportune time to introduce a type of number that as a built-in modulus?  We could get started, adding more frills in future spirals."
   ]
  },
  {
   "cell_type": "code",
   "execution_count": 26,
   "id": "7e3b1301-6088-49d4-a297-a164ae6c60db",
   "metadata": {},
   "outputs": [],
   "source": [
    "from math import gcd \n",
    "\n",
    "def totatives(n : int) -> list[int]:\n",
    "    return [i for i in range(1, n) if gcd(i, n)==1]\n",
    "\n",
    "def totient(n):\n",
    "    return len(totatives(n))"
   ]
  },
  {
   "cell_type": "code",
   "execution_count": 27,
   "id": "41a8a14e-2514-4cd7-85c9-b6441fd930e6",
   "metadata": {},
   "outputs": [
    {
     "name": "stdout",
     "output_type": "stream",
     "text": [
      "[1, 3, 7, 9, 11, 13, 17, 19, 21, 23, 27, 29, 31, 33, 37, 39, 41, 43, 47, 49, 51, 53, 57, 59, 61, 63, 67, 69, 71, 73, 77, 79, 81, 83, 87, 89, 91, 93, 97, 99]\n"
     ]
    }
   ],
   "source": [
    "print(totatives(100))"
   ]
  },
  {
   "cell_type": "code",
   "execution_count": 28,
   "id": "d1c3b9da-84bc-4758-abed-18d55890e706",
   "metadata": {},
   "outputs": [
    {
     "data": {
      "text/plain": [
       "40"
      ]
     },
     "execution_count": 28,
     "metadata": {},
     "output_type": "execute_result"
    }
   ],
   "source": [
    "totient(100)"
   ]
  },
  {
   "cell_type": "code",
   "execution_count": 29,
   "id": "edf03ec2-bf3f-4d86-acc8-68ef28da0770",
   "metadata": {},
   "outputs": [],
   "source": [
    "class Mod:\n",
    "    \"\"\"\n",
    "    Integers operating relative to a _modulus\n",
    "    \"\"\"\n",
    "    _modulus = 12\n",
    "    \n",
    "    def __init__(self, n):\n",
    "        self.p = n % self._modulus\n",
    "        \n",
    "    def __add__(self, other):\n",
    "        return Mod(self.p + other.p)\n",
    "    \n",
    "    def __mul__(self, other):\n",
    "        return Mod(self.p * other.p)\n",
    "    \n",
    "    def __eq__(self, other):\n",
    "        return self.p == other.p\n",
    "    \n",
    "    def __lt__(self, other):\n",
    "        return self.p < other.p\n",
    "    \n",
    "    def __hash__(self):\n",
    "        return 0\n",
    "    \n",
    "    def __repr__(self):\n",
    "        return \"({} mod {})\".format(self.p, self._modulus)"
   ]
  },
  {
   "cell_type": "code",
   "execution_count": 30,
   "id": "072d0ea1-236d-43f7-b421-a659a0b0423d",
   "metadata": {},
   "outputs": [],
   "source": [
    "class Modc:\n",
    "    \"\"\"\n",
    "    set the Mod._modulus going in, sets it back going out\n",
    "    \"\"\"\n",
    "    \n",
    "    def __init__(self, mod):\n",
    "        self.oldmod = Mod._modulus  # store for later\n",
    "        self.newmod = mod           # the modulus for this context\n",
    "        Mod._modulus = mod\n",
    "        \n",
    "    def __enter__(self):\n",
    "        return self  # not needed\n",
    "        \n",
    "    def __exit__(self, *oops):\n",
    "        # handles any exceptions raised within the context (scope of with statement)\n",
    "        Mod._modulus = self.oldmod  # revert to previous modulus\n",
    "        if oops[0]:\n",
    "            print(type(oops[1]))\n",
    "            raise oops[1]\n",
    "        return True"
   ]
  },
  {
   "cell_type": "code",
   "execution_count": 31,
   "id": "5dcf24fa-a3e9-4bfa-baf0-4f31ad6603cc",
   "metadata": {},
   "outputs": [
    {
     "name": "stdout",
     "output_type": "stream",
     "text": [
      "(2 mod 12)\n"
     ]
    }
   ],
   "source": [
    "with Modc(12):\n",
    "    a = Mod(10)\n",
    "    b = Mod(11)\n",
    "    print(a * b)"
   ]
  },
  {
   "cell_type": "code",
   "execution_count": 32,
   "id": "9f42d612-ae9f-4c8d-86ac-b0869e627e43",
   "metadata": {},
   "outputs": [
    {
     "data": {
      "text/plain": [
       "(9 mod 12)"
      ]
     },
     "execution_count": 32,
     "metadata": {},
     "output_type": "execute_result"
    }
   ],
   "source": [
    "a + b"
   ]
  },
  {
   "cell_type": "code",
   "execution_count": 33,
   "id": "9f80bb68-d205-45c7-a960-6e3fc08a7784",
   "metadata": {},
   "outputs": [
    {
     "data": {
      "text/plain": [
       "(2 mod 12)"
      ]
     },
     "execution_count": 33,
     "metadata": {},
     "output_type": "execute_result"
    }
   ],
   "source": [
    "a * b"
   ]
  },
  {
   "cell_type": "code",
   "execution_count": 34,
   "id": "dfa999b2-f7c9-4c25-87d8-6120e1c8825a",
   "metadata": {},
   "outputs": [
    {
     "data": {
      "text/plain": [
       "(4 mod 12)"
      ]
     },
     "execution_count": 34,
     "metadata": {},
     "output_type": "execute_result"
    }
   ],
   "source": [
    "a * a * a * a"
   ]
  },
  {
   "cell_type": "code",
   "execution_count": 35,
   "id": "0b6eec07-3cec-4acb-9bf4-d8bd8125d271",
   "metadata": {},
   "outputs": [
    {
     "data": {
      "text/plain": [
       "[(1 mod 12), (5 mod 12), (7 mod 12), (11 mod 12)]"
      ]
     },
     "execution_count": 35,
     "metadata": {},
     "output_type": "execute_result"
    }
   ],
   "source": [
    "G = [Mod(i) for i in totatives(12)]\n",
    "G"
   ]
  },
  {
   "cell_type": "code",
   "execution_count": 36,
   "id": "3df6bfba-3eb2-4468-be37-c5a74e937049",
   "metadata": {},
   "outputs": [
    {
     "data": {
      "text/plain": [
       "{(1 mod 12), (5 mod 12), (7 mod 12), (11 mod 12)}"
      ]
     },
     "execution_count": 36,
     "metadata": {},
     "output_type": "execute_result"
    }
   ],
   "source": [
    "set([i * j for i in G for j in G])  # all totatives x all totatives give totatives (closure)"
   ]
  },
  {
   "cell_type": "code",
   "execution_count": 37,
   "id": "9841f93f-a6c3-48ba-8f78-0866f01da342",
   "metadata": {},
   "outputs": [
    {
     "name": "stdout",
     "output_type": "stream",
     "text": [
      "a * b mod 20 =  (10 mod 20)\n",
      "Totatives: [(1 mod 20), (3 mod 20), (7 mod 20), (9 mod 20), (11 mod 20), (13 mod 20), (17 mod 20), (19 mod 20)]\n"
     ]
    }
   ],
   "source": [
    "with Modc(20):\n",
    "    a = Mod(10)\n",
    "    b = Mod(11)\n",
    "    print(f\"a * b mod {Mod._modulus} = \", a * b)\n",
    "    G = [Mod(i) for i in totatives(20)]\n",
    "    print(\"Totatives:\", G)"
   ]
  },
  {
   "cell_type": "code",
   "execution_count": 38,
   "id": "ad6b6754-f1c2-4b59-86e5-2a9eb2dee6a4",
   "metadata": {},
   "outputs": [
    {
     "data": {
      "text/plain": [
       "(2 mod 12)"
      ]
     },
     "execution_count": 38,
     "metadata": {},
     "output_type": "execute_result"
    }
   ],
   "source": [
    "a * b  # Mod._modulus back to 12 thanks to exiting context"
   ]
  },
  {
   "cell_type": "markdown",
   "id": "afb56253-3243-4cb6-a469-80954449f1f3",
   "metadata": {},
   "source": [
    "## The Rational Numbers\n",
    "\n",
    "A first or second excuse to introduce operator overloading and to code a substantial \"math object\" comes with the rational numbers of Fraction type.  \n",
    "\n",
    "Python has a fractions.Fraction in the Standard Library, along with math.gcd, but neither need not stop us from using our own code.\n",
    "\n",
    "We may start writing a own Rational Number class, which keeps track of the integer numerator and denominator."
   ]
  },
  {
   "cell_type": "code",
   "execution_count": 39,
   "id": "99429470-b100-42da-9988-9a18d8bc0441",
   "metadata": {},
   "outputs": [],
   "source": [
    "from fractions import Fraction"
   ]
  },
  {
   "cell_type": "code",
   "execution_count": 40,
   "id": "6c30eb96-e4de-455a-af30-f641dc8651bf",
   "metadata": {},
   "outputs": [],
   "source": [
    "from math import gcd\n",
    "\n",
    "class Rat:\n",
    "    \n",
    "    def __init__(self, p, q):\n",
    "        GCD = gcd(p,q)\n",
    "        self.p = p//GCD\n",
    "        self.q = q//GCD\n",
    "        \n",
    "    def __mul__(self, other):\n",
    "        return Rat(self.p * other.p, self.q * other.q)\n",
    "    \n",
    "    def __truediv__(self, other):\n",
    "        pass\n",
    "    \n",
    "    def __add__(self, other):\n",
    "        new_p = self.p * other.q + other.p * self.q\n",
    "        new_q = self.q * other.q  # common denominator\n",
    "        return Rat(new_p, new_q)\n",
    "    \n",
    "    def __pow__(self, e):\n",
    "        if e < 0:\n",
    "            new_p = self.q\n",
    "            new_q = self.p\n",
    "        else:\n",
    "            new_p = self.p\n",
    "            new_q = self.q\n",
    "        e = abs(e)\n",
    "        return Rat(new_p ** e, new_q ** e)\n",
    "            \n",
    "    def __neg__(self):\n",
    "        return Rat(-self.p, self.q)\n",
    "    \n",
    "    def __sub__(self, other):\n",
    "        return self + (-other)\n",
    "    \n",
    "    def __repr__(self):\n",
    "        return '({}/{})'.format(self.p, self.q)"
   ]
  },
  {
   "cell_type": "code",
   "execution_count": 41,
   "id": "84e711af-8265-4b7d-9804-e8e500b29363",
   "metadata": {},
   "outputs": [],
   "source": [
    "f1 = Rat(10, 30)\n",
    "f2 = Rat(1, 2)"
   ]
  },
  {
   "cell_type": "code",
   "execution_count": 42,
   "id": "42315435-0b68-4194-a86f-893d7b3960be",
   "metadata": {},
   "outputs": [
    {
     "data": {
      "text/plain": [
       "(1/3)"
      ]
     },
     "execution_count": 42,
     "metadata": {},
     "output_type": "execute_result"
    }
   ],
   "source": [
    "f1"
   ]
  },
  {
   "cell_type": "code",
   "execution_count": 43,
   "id": "fc3c945c-173b-4411-b4d0-580cc6d3d761",
   "metadata": {},
   "outputs": [
    {
     "data": {
      "text/plain": [
       "(1/6)"
      ]
     },
     "execution_count": 43,
     "metadata": {},
     "output_type": "execute_result"
    }
   ],
   "source": [
    "f2 * f1"
   ]
  },
  {
   "cell_type": "code",
   "execution_count": 44,
   "id": "2667e8c8-8840-402d-884b-4e4fb6e81fd7",
   "metadata": {},
   "outputs": [
    {
     "data": {
      "text/plain": [
       "(5/6)"
      ]
     },
     "execution_count": 44,
     "metadata": {},
     "output_type": "execute_result"
    }
   ],
   "source": [
    "f1 + f2"
   ]
  },
  {
   "cell_type": "code",
   "execution_count": 45,
   "id": "131045be-e9ff-4e42-9191-4eee7a943c47",
   "metadata": {},
   "outputs": [
    {
     "data": {
      "text/plain": [
       "(-1/6)"
      ]
     },
     "execution_count": 45,
     "metadata": {},
     "output_type": "execute_result"
    }
   ],
   "source": [
    "f1 - f2"
   ]
  },
  {
   "cell_type": "code",
   "execution_count": 46,
   "id": "ab4350ee-7a56-4dc5-891a-309a7cc91db5",
   "metadata": {},
   "outputs": [
    {
     "data": {
      "text/plain": [
       "(1/2)"
      ]
     },
     "execution_count": 46,
     "metadata": {},
     "output_type": "execute_result"
    }
   ],
   "source": [
    "f2"
   ]
  },
  {
   "cell_type": "code",
   "execution_count": 47,
   "id": "cc33433a-8433-4aa7-a6f5-8b081bea86aa",
   "metadata": {},
   "outputs": [
    {
     "data": {
      "text/plain": [
       "(1/1)"
      ]
     },
     "execution_count": 47,
     "metadata": {},
     "output_type": "execute_result"
    }
   ],
   "source": [
    "(f2**-1) * f2"
   ]
  },
  {
   "cell_type": "markdown",
   "id": "86d93cda-1b8a-403f-ac7f-e1dc6c20d608",
   "metadata": {},
   "source": [
    "## The Polynomial\n",
    "\n",
    "Anyone flipping through high school textbooks from the last 100 years, is likely to be impressed the polynomials form a salient concept.  We learn to factor them, the find their roots, to plot them, the add, multiply, subtract and divide them.\n",
    "\n",
    "Polynomials introduce maths in a competitive format, featuring the mathematicians of the Italian Renaissance in [factoring face-offs](https://web.math.utk.edu/~cartwright/iaawa/section-poly-factorization.html)."
   ]
  },
  {
   "cell_type": "code",
   "execution_count": 48,
   "id": "cdd70ad6-749b-45f0-8f3e-f6535b04d990",
   "metadata": {},
   "outputs": [],
   "source": [
    "import sympy as sp"
   ]
  },
  {
   "cell_type": "markdown",
   "id": "699752d5-1c43-4b33-a512-dcfb6ebbec18",
   "metadata": {},
   "source": [
    "Over on Math Forum (math-teach archives) I advocated for a No Child Left Behind polynomial, somewhat tongue in cheek, yet I was serious about wanting to get $\\phi$ in the action early.  We use it often."
   ]
  },
  {
   "cell_type": "code",
   "execution_count": 49,
   "id": "29c9eaa4-bcd3-4293-bacc-eb634b791fbb",
   "metadata": {},
   "outputs": [
    {
     "data": {
      "text/latex": [
       "$\\displaystyle \\frac{1}{φ} = \\frac{φ}{φ + 1}$"
      ],
      "text/plain": [
       "Eq(1/φ, φ/(φ + 1))"
      ]
     },
     "execution_count": 49,
     "metadata": {},
     "output_type": "execute_result"
    }
   ],
   "source": [
    "φ = sp.Symbol('φ')\n",
    "equation = sp.Eq(1/φ, φ/(φ+1)) # 1 is to φ as φ is to x + 1\n",
    "equation"
   ]
  },
  {
   "cell_type": "code",
   "execution_count": 50,
   "id": "90a9ed65-74b6-4c53-a122-50f03b597d2e",
   "metadata": {},
   "outputs": [
    {
     "data": {
      "text/plain": [
       "[1/2 - sqrt(5)/2, 1/2 + sqrt(5)/2]"
      ]
     },
     "execution_count": 50,
     "metadata": {},
     "output_type": "execute_result"
    }
   ],
   "source": [
    "ans = sp.solve(equation)\n",
    "ans"
   ]
  },
  {
   "cell_type": "code",
   "execution_count": 51,
   "id": "66cfe2b9-bfd6-4f61-a2d9-a7d9403859fc",
   "metadata": {},
   "outputs": [
    {
     "data": {
      "text/latex": [
       "$\\displaystyle 1.61803398874989$"
      ],
      "text/plain": [
       "1.61803398874989"
      ]
     },
     "execution_count": 51,
     "metadata": {},
     "output_type": "execute_result"
    }
   ],
   "source": [
    "ans[1].evalf()"
   ]
  },
  {
   "cell_type": "code",
   "execution_count": 52,
   "id": "5a2b4219-e57b-45b9-816a-9b2554bbb304",
   "metadata": {},
   "outputs": [
    {
     "data": {
      "text/latex": [
       "$\\displaystyle 1.6180339887498948482$"
      ],
      "text/plain": [
       "1.6180339887498948482"
      ]
     },
     "execution_count": 52,
     "metadata": {},
     "output_type": "execute_result"
    }
   ],
   "source": [
    "sp.S.GoldenRatio.n(20)"
   ]
  },
  {
   "cell_type": "code",
   "execution_count": 53,
   "id": "553034c4-c887-43f8-9139-a6db965baa11",
   "metadata": {},
   "outputs": [],
   "source": [
    "from sympy.abc import *"
   ]
  },
  {
   "cell_type": "code",
   "execution_count": 54,
   "id": "cea32034-39ec-445a-a89d-d369983a1a1d",
   "metadata": {},
   "outputs": [
    {
     "data": {
      "text/latex": [
       "$\\displaystyle a x^{2} + b x + c$"
      ],
      "text/plain": [
       "a*x**2 + b*x + c"
      ]
     },
     "execution_count": 54,
     "metadata": {},
     "output_type": "execute_result"
    }
   ],
   "source": [
    "expr = a*x**2 + b*x + c\n",
    "expr"
   ]
  },
  {
   "cell_type": "code",
   "execution_count": 55,
   "id": "a52112bc-d685-49f6-84e5-c0954800e4c2",
   "metadata": {},
   "outputs": [
    {
     "data": {
      "text/plain": [
       "[(-b - sqrt(-4*a*c + b**2))/(2*a), (-b + sqrt(-4*a*c + b**2))/(2*a)]"
      ]
     },
     "execution_count": 55,
     "metadata": {},
     "output_type": "execute_result"
    }
   ],
   "source": [
    "sp.solve(expr, x)"
   ]
  },
  {
   "cell_type": "markdown",
   "id": "3deeb3ca-46e3-4835-9fda-6d80071274b8",
   "metadata": {},
   "source": [
    "Shall we write our own Polynomial class?  That's definitely doable."
   ]
  },
  {
   "cell_type": "markdown",
   "id": "cc8c2d25-3d98-41d2-94ff-e7558336245b",
   "metadata": {},
   "source": [
    "## The Permutation\n",
    "\n",
    "In how many distinct orders might a deck of 52 be shuffled?  \n",
    "\n",
    "Every card is unique.  We have 52 to choose from for the first card, with one of 51 remaining for the second and so on:  52 * 51 * 50 ... * 1.  That's an astronomically large number: 52 factorial or $52!$ or...."
   ]
  },
  {
   "cell_type": "code",
   "execution_count": 56,
   "id": "5f1e9523-3225-472c-8545-b06e446a2647",
   "metadata": {},
   "outputs": [
    {
     "data": {
      "text/plain": [
       "80658175170943878571660636856403766975289505440883277824000000000000"
      ]
     },
     "execution_count": 56,
     "metadata": {},
     "output_type": "execute_result"
    }
   ],
   "source": [
    "import math\n",
    "math.factorial(52)  # showing off Python's arbitrary length int type"
   ]
  },
  {
   "cell_type": "markdown",
   "id": "eefbee9b-7910-4af6-80f9-5d79a71af1f6",
   "metadata": {},
   "source": [
    "\n",
    "Permutations take us into Combinatorics, and are also our bridge into Abstract Algebra, wherein permutations come in groups, i.e. with a binary group operation. They also come with a unary operator for obtaining the inverse of any element.\n",
    "\n",
    "Assuming the object oriented paradigm is going to stay relevant, Python's way of doing operator overloading comes into play with the P type.  We'll want to defind `__mul__` and several other operators using \"magic methods\" or \"special names\" (same thing)."
   ]
  },
  {
   "cell_type": "markdown",
   "id": "cf5c719d-f9f5-4cfd-af2f-4cc6c7e3c0a7",
   "metadata": {},
   "source": [
    "A permutation might map the letters 'a-z' (lowercase ascii) plus space, to that same set in a different order, one-to-one.  That's a permutation, or \"shuffle\" of the 27 elements 'a-z' + space.\n",
    "\n",
    "Permutation objects are a lot like dictionaries in associated every key with a corresponding value."
   ]
  },
  {
   "cell_type": "code",
   "execution_count": 57,
   "id": "38084ccf-a035-4197-a5bc-ada43d9b08d9",
   "metadata": {},
   "outputs": [],
   "source": [
    "from px_class import P"
   ]
  },
  {
   "cell_type": "code",
   "execution_count": 58,
   "id": "22b019e5-0eb3-47ec-a2a1-04de8e327193",
   "metadata": {},
   "outputs": [],
   "source": [
    "p = P().shuffle()\n",
    "q = P().shuffle()\n",
    "e = P()"
   ]
  },
  {
   "cell_type": "markdown",
   "id": "1300c411-7b30-47f4-bd1f-3ae4c0cb8e5a",
   "metadata": {},
   "source": [
    "To multiply two permutations is to conjoin their mappings, thereby composing them: \n",
    "\n",
    "Option 1:  Do p to x, then q the result.\n",
    "\n",
    "* if $p[x] \\rightarrow y$ and \n",
    "* $q[y] \\rightarrow z$ then \n",
    "* $(p * q)[x] \\rightarrow z$\n",
    "\n",
    "Or sometimes it's the other way around:\n",
    "\n",
    "Option 2:  Do q to x, then p the result.\n",
    "\n",
    "* if $q[x] \\rightarrow y$ and \n",
    "* $p[y] \\rightarrow z$ then \n",
    "* $(p * q)[x] \\rightarrow z$\n",
    "\n",
    "We go with option 1 with the P class inside of `px_class.py`."
   ]
  },
  {
   "cell_type": "code",
   "execution_count": 59,
   "id": "74e9023e-fe3f-4da8-a167-63e45fe05a3b",
   "metadata": {},
   "outputs": [
    {
     "data": {
      "text/plain": [
       "' '"
      ]
     },
     "execution_count": 59,
     "metadata": {},
     "output_type": "execute_result"
    }
   ],
   "source": [
    "p['a']  "
   ]
  },
  {
   "cell_type": "code",
   "execution_count": 60,
   "id": "44e731c2-d588-425f-8244-df99cf7d1a2e",
   "metadata": {},
   "outputs": [
    {
     "data": {
      "text/plain": [
       "'q'"
      ]
     },
     "execution_count": 60,
     "metadata": {},
     "output_type": "execute_result"
    }
   ],
   "source": [
    "q[p['a']] "
   ]
  },
  {
   "cell_type": "code",
   "execution_count": 61,
   "id": "796e9343-1fab-4b1c-b3e2-867beff5d286",
   "metadata": {},
   "outputs": [
    {
     "data": {
      "text/plain": [
       "'q'"
      ]
     },
     "execution_count": 61,
     "metadata": {},
     "output_type": "execute_result"
    }
   ],
   "source": [
    "(p * q)['a']"
   ]
  },
  {
   "cell_type": "code",
   "execution_count": 62,
   "id": "fa43ab22-1838-410b-828a-06f8266c1306",
   "metadata": {},
   "outputs": [
    {
     "data": {
      "text/plain": [
       "True"
      ]
     },
     "execution_count": 62,
     "metadata": {},
     "output_type": "execute_result"
    }
   ],
   "source": [
    "(~q * q) == e"
   ]
  },
  {
   "cell_type": "code",
   "execution_count": 63,
   "id": "72ff6e8b-48f5-43b2-b0bf-6a5479456e4b",
   "metadata": {},
   "outputs": [
    {
     "data": {
      "text/plain": [
       "'fcwwctqzyxzwowywovgqpvbc'"
      ]
     },
     "execution_count": 63,
     "metadata": {},
     "output_type": "execute_result"
    }
   ],
   "source": [
    "c = q(\"letter substitution code\")\n",
    "c"
   ]
  },
  {
   "cell_type": "code",
   "execution_count": 64,
   "id": "464d8d96-baf3-4090-8452-8b0ad6f6be3a",
   "metadata": {},
   "outputs": [
    {
     "data": {
      "text/plain": [
       "'letter substitution code'"
      ]
     },
     "execution_count": 64,
     "metadata": {},
     "output_type": "execute_result"
    }
   ],
   "source": [
    "(~q)(c)"
   ]
  },
  {
   "cell_type": "markdown",
   "id": "96934f49-f0cf-4595-a9a2-d7a85d384cd9",
   "metadata": {},
   "source": [
    "## The Vector\n",
    "\n",
    "High school math has conventionally introduced (x, y) and (x, y, z) coordinates twice, the first time without vector notation, the second time with.\n",
    "\n",
    "Given an object oriented computer language, why not start with Vectors?  \n",
    "\n",
    "Introduce operator overloading and implement vector addition and subtraction, along with scalar multiplication and division.\n",
    "\n",
    "Expand to include dot and cross products."
   ]
  },
  {
   "cell_type": "code",
   "execution_count": 65,
   "id": "ce7d2352-222d-4751-bc9a-e1e95f389dae",
   "metadata": {},
   "outputs": [],
   "source": [
    "# %load -s Vector pov.py\n",
    "class Vector:\n",
    "    \n",
    "    def __init__(self, x, y, z):\n",
    "        self.v = np.array((x, y, z))\n",
    "        \n",
    "    def __add__(self, other):\n",
    "        v_sum = self.v + other.v\n",
    "        return type(self)(*v_sum)\n",
    "    \n",
    "    def __neg__(self):\n",
    "        return -1 * self\n",
    "    \n",
    "    def __sub__(self, other):\n",
    "        v = self.v + (-other.v)\n",
    "        return type(self)(*v)\n",
    "                      \n",
    "    def __mul__(self, scalar):\n",
    "        v = scalar * self.v\n",
    "        return type(self)(*v)\n",
    "    \n",
    "    # scalar on the left: s * Vector -> Vector.__rmul__(s)\n",
    "    __rmul__ = __mul__\n",
    "    \n",
    "    def __truediv__(self, scalar):\n",
    "        new_v = (1/scalar) * self.v\n",
    "        return type(self)(*new_v)\n",
    "    \n",
    "    def normalize(self):\n",
    "        if self.length != 0:\n",
    "            return type(self)(*(self.v/self.length))\n",
    "        else:\n",
    "            return type(self)((0,0,0))\n",
    "    \n",
    "    @property\n",
    "    def length(self):\n",
    "        x, y, z = self.v\n",
    "        return np.sqrt(sum((x**2, y**2, z**2)))\n",
    "    \n",
    "    def __repr__(self):\n",
    "        return 'Vector({},{},{})'.format(*self.v)\n"
   ]
  },
  {
   "cell_type": "markdown",
   "id": "9b74f280-ae00-4150-a454-ff0cdfffde4d",
   "metadata": {},
   "source": [
    "## Computer Graphics\n",
    "\n",
    "Once we're in the space of spatial vectors, a next challenge is to phase in computer graphics, by way of the polyhedrons. Ray tracing with POV-Ray has been a focus of [the Oregon Curriculum Network](http://4dsolutions.net/ocn/numeracy0.html) since the 1990s. \n",
    "\n",
    "Google Colab will not be able to process the POV files generated in this section.  Install [POV-Ray](https://povray.org) locally to take full advantage of the 3D graphics framework developed herein.\n",
    "\n",
    "![povray camera](http://www.povray.org/documentation/3.7.0/images/f/fd/RefImgPerspcam.gif)\n",
    "\n",
    "Vectors with a shared tail at the origin fan out to give the surface features of a polyhedron, in terms of Edges (pairs of vectors) and Faces (cycles of Edges)."
   ]
  },
  {
   "cell_type": "code",
   "execution_count": 66,
   "id": "158db217-b6e8-47f7-a828-200cc8451323",
   "metadata": {},
   "outputs": [
    {
     "data": {
      "text/plain": [
       "<module 'pov' from '/Users/kirbyurner/Documents/elite_school/pov.py'>"
      ]
     },
     "execution_count": 66,
     "metadata": {},
     "output_type": "execute_result"
    }
   ],
   "source": [
    "# used to recompile pov when developing\n",
    "import pov\n",
    "import imp\n",
    "imp.reload(pov)"
   ]
  },
  {
   "cell_type": "markdown",
   "id": "aedd9c28-3c39-4477-94ff-0958d7c2a0b2",
   "metadata": {},
   "source": [
    "Much of the relevant source code, including the Tetrahedron and Polyhedron types, lives submerged in [pov.py](pov.py).  \n",
    "\n",
    "The subclasses of Polyhedron include the faces as a tuple of tuples.  The faces get distilled into edges, pairs of POV_Vectors.  For example, face `('a', 'b', 'c')` would distill into edges `POV_Edge('a', 'b')`, `POV_Edge('b', 'c')` and `POV_Edge('a', 'c')`."
   ]
  },
  {
   "cell_type": "code",
   "execution_count": 67,
   "id": "50f2c7dc-36a9-4039-8e43-7ee8b69f5928",
   "metadata": {},
   "outputs": [],
   "source": [
    "from pov import POV_Vector, Tetrahedron, InvTetrahedron"
   ]
  },
  {
   "cell_type": "code",
   "execution_count": 68,
   "id": "224df2e2-1a1e-44ac-81b2-4ffda7f63c0e",
   "metadata": {},
   "outputs": [],
   "source": [
    "# Tetrahedron\n",
    "a = POV_Vector(x =  0.35355339059327373, \n",
    "               y =  0.35355339059327373, \n",
    "               z =  0.35355339059327373)\n",
    "\n",
    "b = POV_Vector(x = -0.35355339059327373, \n",
    "               y = -0.35355339059327373, \n",
    "               z =  0.35355339059327373)\n",
    "           \n",
    "c = POV_Vector(x = -0.35355339059327373, \n",
    "               y =  0.35355339059327373, \n",
    "               z = -0.35355339059327373)\n",
    "           \n",
    "d = POV_Vector(x =  0.35355339059327373, \n",
    "               y = -0.35355339059327373, \n",
    "               z = -0.35355339059327373)"
   ]
  },
  {
   "cell_type": "code",
   "execution_count": 69,
   "id": "abcc87e3-cfdb-420b-af25-572dea6e3558",
   "metadata": {},
   "outputs": [
    {
     "data": {
      "text/plain": [
       "(POV_Vector(0.35355339059327373,0.35355339059327373,0.35355339059327373),\n",
       " POV_Vector(-0.35355339059327373,-0.35355339059327373,-0.35355339059327373),\n",
       " POV_Vector(0.0,0.0,0.7071067811865475),\n",
       " POV_Vector(0.7071067811865475,0.7071067811865475,0.0),\n",
       " POV_Vector(1.0606601717798212,1.0606601717798212,1.0606601717798212))"
      ]
     },
     "execution_count": 69,
     "metadata": {},
     "output_type": "execute_result"
    }
   ],
   "source": [
    "a, -a, a+b, a-b, 3*a"
   ]
  },
  {
   "cell_type": "code",
   "execution_count": 70,
   "id": "1d3e7367-aca5-485e-8fea-c7511bbca73f",
   "metadata": {},
   "outputs": [
    {
     "name": "stdout",
     "output_type": "stream",
     "text": [
      "four_vectors.pov ready for rendering\n"
     ]
    }
   ],
   "source": [
    "x = POV_Vector(2, 0, 0)\n",
    "y = POV_Vector(0, 1.5, 0)\n",
    "z = POV_Vector(0, 0, 1.5)\n",
    "origin = POV_Vector(0,0,0)\n",
    "    \n",
    "with open(\"four_vectors.pov\", \"w\") as output:\n",
    "    print(pov.pov_header, file=output)  # print to the output file\n",
    "    colors = (\"rgb <1, 0.4, 0>\",\n",
    "              \"rgb <1, 0, 0>\",\n",
    "              \"rgb <0, 1, 0>\",\n",
    "              \"rgb <0, 0, 1>\")\n",
    "\n",
    "    # XYZ apparatus\n",
    "    origin.draw_vert(\"rgb <0, 0, 0>\", 0.1, output)\n",
    "    for v in (x, y, z, -x, -y, -z):\n",
    "        v.draw_edge(\"rgb <66/255, 224/255, 245/255>\", \n",
    "                    0.01, \n",
    "                    output)\n",
    "        \n",
    "    for idx, v in enumerate((a,b,c,d)):\n",
    "        v.draw_edge(colors[idx], 0.03, output)\n",
    "        v.draw_vert(colors[idx], 0.05, output)\n",
    "        \n",
    "print(\"four_vectors.pov ready for rendering\")"
   ]
  },
  {
   "cell_type": "markdown",
   "id": "1d8ca9ac-6864-4670-a586-49d1e8fbd103",
   "metadata": {},
   "source": [
    "<a data-flickr-embed=\"true\" href=\"https://www.flickr.com/photos/kirbyurner/52141879420/in/dateposted-public/\" title=\"four_vectors\"><img src=\"https://live.staticflickr.com/65535/52141879420_ca320dc9d5_z.jpg\" width=\"640\" height=\"485\" alt=\"four_vectors\"></a><script async src=\"//embedr.flickr.com/assets/client-code.js\" charset=\"utf-8\"></script>"
   ]
  },
  {
   "cell_type": "markdown",
   "id": "a58f76f1-9ecb-42e1-a0b4-2f2a0a7584c1",
   "metadata": {},
   "source": [
    "The vertexes have string letter labels.  Pairing them with actual vectors involves passing a dictionary upon initializing an instance, as shown below:"
   ]
  },
  {
   "cell_type": "code",
   "execution_count": 71,
   "id": "aa9742f4-b72b-4959-9776-5b94de318635",
   "metadata": {},
   "outputs": [
    {
     "data": {
      "text/plain": [
       "(('a', 'b', 'c'), ('a', 'c', 'd'), ('a', 'd', 'b'), ('b', 'c', 'd'))"
      ]
     },
     "execution_count": 71,
     "metadata": {},
     "output_type": "execute_result"
    }
   ],
   "source": [
    "t = Tetrahedron(verts={'a':a, 'b':b, 'c':c, 'd':d}) # labels with vectors\n",
    "t.faces # already hard-wired"
   ]
  },
  {
   "cell_type": "code",
   "execution_count": 72,
   "id": "bc2e98eb-9688-42b1-86d6-70da9cdd080d",
   "metadata": {},
   "outputs": [
    {
     "data": {
      "text/plain": [
       "(('e', 'f', 'g'), ('e', 'g', 'h'), ('e', 'h', 'f'), ('f', 'h', 'g'))"
      ]
     },
     "execution_count": 72,
     "metadata": {},
     "output_type": "execute_result"
    }
   ],
   "source": [
    "e,f,g,h     = b+c+d, a+c+d, a+b+d, a+b+c \n",
    "t_inv = InvTetrahedron(verts={'e':e, 'f':f, 'g':g, 'h':h}) \n",
    "t_inv.faces"
   ]
  },
  {
   "cell_type": "markdown",
   "id": "267502f8-23a6-4f06-9223-8093d86873d4",
   "metadata": {},
   "source": [
    "Here is one of the tetrahedron's POV_Edge objects, containing a pair of POV_Vector type objects."
   ]
  },
  {
   "cell_type": "code",
   "execution_count": 73,
   "id": "3aae7b9d-7c29-4ab6-a118-60d8aac616e5",
   "metadata": {},
   "outputs": [
    {
     "name": "stdout",
     "output_type": "stream",
     "text": [
      "POV_Vector(0.35355339059327373,0.35355339059327373,0.35355339059327373)\n",
      "POV_Vector(0.35355339059327373,-0.35355339059327373,-0.35355339059327373)\n"
     ]
    }
   ],
   "source": [
    "print(\"{edge.v0}\\n{edge.v1}\".format(edge = t.edges[0]))"
   ]
  },
  {
   "cell_type": "markdown",
   "id": "fbd0db13-994b-4288-9208-e1730b17c6cf",
   "metadata": {},
   "source": [
    " The POV_Edge type has its own `draw_edge` method for writing the corresponding scene description language, just as POV_Vector has `draw_vert`:\n",
    "\n",
    "```python\n",
    "\n",
    "    def draw_vert(self, c, r, outfile): \n",
    "        vert = \"< {}, {}, {} >\".format(*self.v)\n",
    "        template = (\"sphere {{ {}, {} texture \"\n",
    "                    \"{{ pigment {{ color {} }} }} no_shadow }}\") \n",
    "        print(template.format(vert, r, c), file=outfile)\n",
    "```\n"
   ]
  },
  {
   "cell_type": "code",
   "execution_count": 74,
   "id": "96d54ea0-e34a-4654-8469-9d3b341418f2",
   "metadata": {},
   "outputs": [
    {
     "name": "stdout",
     "output_type": "stream",
     "text": [
      "cylinder { < 0.35355339059327373, 0.35355339059327373, 0.35355339059327373 >, < 0.35355339059327373, -0.35355339059327373, -0.35355339059327373 >, 0.03 texture {pigment { color rgb <1,0,0> } } no_shadow }\n"
     ]
    }
   ],
   "source": [
    "t.edges[0].draw_edge(c='rgb <1,0,0>', r=0.03) # output to POV-Ray file"
   ]
  },
  {
   "cell_type": "markdown",
   "id": "49fdd61e-e16a-4c9d-bb9f-59b950f3cb71",
   "metadata": {},
   "source": [
    "The [pov](pov.py) module contains a lengthy triple quoted string named `pov_header` that sets up the camera, lighting, and [sky sphere](http://www.povray.org/documentation/view/3.7.1/91/), using Scene Description Language for POV-Ray.\n",
    "\n",
    "With an output file open, the polyhedron subclasses add their vertexes and edges into it, after the canned, possibly hand-edited, header."
   ]
  },
  {
   "cell_type": "code",
   "execution_count": 75,
   "id": "61aeece5-bb1b-49f1-afed-68a54922a249",
   "metadata": {},
   "outputs": [
    {
     "name": "stdout",
     "output_type": "stream",
     "text": [
      "render_me.pov ready for rendering\n"
     ]
    }
   ],
   "source": [
    "with open(\"render_me.pov\", 'w') as output:\n",
    "    print(pov.pov_header, file=output)  # print to the output file\n",
    "    t.edge_color =  \"rgb <1, 0, 0>\"\n",
    "    t.vert_color =  \"rgb <0, 0, 1>\" \n",
    "    t.render(output)                    # t inherits Polyhedron.render\n",
    "    \n",
    "print(\"render_me.pov ready for rendering\")"
   ]
  },
  {
   "cell_type": "code",
   "execution_count": 76,
   "id": "ceae3c5e-0297-42a9-8357-83d0f89fcd76",
   "metadata": {},
   "outputs": [
    {
     "name": "stdout",
     "output_type": "stream",
     "text": [
      "/bin/bash: /usr/local/bin/povray: No such file or directory\n"
     ]
    }
   ],
   "source": [
    "! /usr/local/bin/povray +A +H768 +W1024 -GA ./render_me.pov"
   ]
  },
  {
   "cell_type": "markdown",
   "id": "0cedbbab-3294-4e62-a4ec-9f428e8ca2f8",
   "metadata": {},
   "source": [
    "<a data-flickr-embed=\"true\" href=\"https://www.flickr.com/photos/kirbyurner/52131603577/in/dateposted-public/\" title=\"render_me\"><img src=\"https://live.staticflickr.com/65535/52131603577_a845ff6ac7_z.jpg\" width=\"640\" height=\"480\" alt=\"render_me\"></a><script async src=\"//embedr.flickr.com/assets/client-code.js\" charset=\"utf-8\"></script>"
   ]
  },
  {
   "cell_type": "markdown",
   "id": "dea3fb59-08da-4eec-a478-75694bce197b",
   "metadata": {},
   "source": [
    "In this curriculum, once the topic of Polyhedrons is broached, we take the liberty of diving into Americana associated with the polymath inventor Buckminster Fuller.  Depending how far down that rabbit hole we want to go, we have the option of introducing [Quadray Coordinates](https://en.wikipedia.org/wiki/Quadray_coordinates) and learning the Vector stuff a second time from another perspective.\n",
    "\n",
    "In particular, we might use Quadrays to [generate the CCP](https://nbviewer.org/github/4dsolutions/Python5/blob/master/Generating%20the%20FCC.ipynb) (cubic close packing).\n",
    "\n",
    "<a data-flickr-embed=\"true\" href=\"https://www.flickr.com/photos/kirbyurner/479693571/in/photolist-2ndRLQZ-2nbQMuQ-2mskcxr-2m29ojG-2m29ok8-2j8odSY-2fn4VBT-8thDyL-8ryECF-8iYyKN-7eU7h4-JoybP-Joybi\" title=\"Rhombic Dodecahedra\"><img src=\"https://live.staticflickr.com/190/479693571_ff580af964_m.jpg\" width=\"240\" height=\"234\" alt=\"Rhombic Dodecahedra\"></a><script async src=\"//embedr.flickr.com/assets/client-code.js\" charset=\"utf-8\"></script>"
   ]
  },
  {
   "cell_type": "markdown",
   "id": "c76f6db1-ce5c-4744-b725-745bbd04170e",
   "metadata": {
    "tags": []
   },
   "source": [
    "## Linear Algebra\n",
    "\n",
    "High school mathematics curricula have conventionally not sought to introduce Linear Algebra is a formal topic, short of demonstrating methods for solving simultaneous linear equations.\n",
    "\n",
    "In this curriculum, a motivation for learning \"matrix times vector\" mechanics is to apply **rotation matrices** to a Polyhedron.  \n",
    "\n",
    "We also may use the determinant of a matrix to study [Polyhedron volumes](TheCabal.ipynb)."
   ]
  },
  {
   "cell_type": "markdown",
   "id": "993722e0-98ce-42c7-8d29-fee11ea46fbe",
   "metadata": {},
   "source": [
    "Enter `sympy`, a computer assisted algebra (CAS) package for Python.  Our algorithms may be expressed using more conventional algebraic notation, including with customary Greek letters such as $\\theta$."
   ]
  },
  {
   "cell_type": "code",
   "execution_count": 77,
   "id": "c62c08ea-7cd1-4acd-9e7e-e127c226b466",
   "metadata": {},
   "outputs": [],
   "source": [
    "import sympy as sp"
   ]
  },
  {
   "cell_type": "code",
   "execution_count": 78,
   "id": "0be3b598-7720-4036-9372-b94c853968c6",
   "metadata": {},
   "outputs": [],
   "source": [
    "θ = sp.Symbol('θ')"
   ]
  },
  {
   "cell_type": "code",
   "execution_count": 79,
   "id": "ab6bcde6-8a7b-404c-9f06-625e66f1601b",
   "metadata": {},
   "outputs": [
    {
     "data": {
      "text/latex": [
       "$\\displaystyle \\left[\\begin{matrix}1 & 0 & 0\\\\0 & \\cos{\\left(θ \\right)} & - \\sin{\\left(θ \\right)}\\\\0 & \\sin{\\left(θ \\right)} & \\cos{\\left(θ \\right)}\\end{matrix}\\right]$"
      ],
      "text/plain": [
       "Matrix([\n",
       "[1,      0,       0],\n",
       "[0, cos(θ), -sin(θ)],\n",
       "[0, sin(θ),  cos(θ)]])"
      ]
     },
     "execution_count": 79,
     "metadata": {},
     "output_type": "execute_result"
    }
   ],
   "source": [
    "Rx = sp.Matrix([[1, 0, 0], \n",
    "               [0, sp.cos(θ), -sp.sin(θ)], \n",
    "               [0, sp.sin(θ), sp.cos(θ)]])\n",
    "Rx"
   ]
  },
  {
   "cell_type": "code",
   "execution_count": 80,
   "id": "d79caef8-9335-441c-840e-2c6e09fd88f0",
   "metadata": {},
   "outputs": [
    {
     "data": {
      "text/latex": [
       "$\\displaystyle \\left[\\begin{matrix}\\cos{\\left(θ \\right)} & 0 & \\sin{\\left(θ \\right)}\\\\0 & 1 & 0\\\\- \\sin{\\left(θ \\right)} & 0 & \\cos{\\left(θ \\right)}\\end{matrix}\\right]$"
      ],
      "text/plain": [
       "Matrix([\n",
       "[ cos(θ), 0, sin(θ)],\n",
       "[      0, 1,      0],\n",
       "[-sin(θ), 0, cos(θ)]])"
      ]
     },
     "execution_count": 80,
     "metadata": {},
     "output_type": "execute_result"
    }
   ],
   "source": [
    "Ry = sp.Matrix([[sp.cos(θ), 0, sp.sin(θ)], \n",
    "               [0, 1, 0], \n",
    "               [-sp.sin(θ), 0, sp.cos(θ)]])\n",
    "Ry"
   ]
  },
  {
   "cell_type": "code",
   "execution_count": 81,
   "id": "637b4e2c-be3c-424c-9a62-6897e8168826",
   "metadata": {},
   "outputs": [
    {
     "data": {
      "text/latex": [
       "$\\displaystyle \\left[\\begin{matrix}\\cos{\\left(θ \\right)} & - \\sin{\\left(θ \\right)} & 0\\\\\\sin{\\left(θ \\right)} & \\cos{\\left(θ \\right)} & 0\\\\0 & 0 & 1\\end{matrix}\\right]$"
      ],
      "text/plain": [
       "Matrix([\n",
       "[cos(θ), -sin(θ), 0],\n",
       "[sin(θ),  cos(θ), 0],\n",
       "[     0,       0, 1]])"
      ]
     },
     "execution_count": 81,
     "metadata": {},
     "output_type": "execute_result"
    }
   ],
   "source": [
    "Rz = sp.Matrix([[sp.cos(θ), -sp.sin(θ), 0],\n",
    "                [sp.sin(θ),  sp.cos(θ), 0],\n",
    "                [0, 0, 1]])\n",
    "Rz"
   ]
  },
  {
   "cell_type": "code",
   "execution_count": 82,
   "id": "a76991b9-e4a5-4ab5-bf4b-4bfb585635ef",
   "metadata": {},
   "outputs": [
    {
     "data": {
      "text/plain": [
       "array([0.35355339, 0.35355339, 0.35355339])"
      ]
     },
     "execution_count": 82,
     "metadata": {},
     "output_type": "execute_result"
    }
   ],
   "source": [
    "a.v"
   ]
  },
  {
   "cell_type": "code",
   "execution_count": 83,
   "id": "5f2faa02-8439-47cf-bd73-952e55327f47",
   "metadata": {},
   "outputs": [
    {
     "data": {
      "text/latex": [
       "$\\displaystyle \\left[\\begin{matrix}0.353553390593274\\\\0.353553390593274\\\\0.353553390593274\\end{matrix}\\right]$"
      ],
      "text/plain": [
       "Matrix([\n",
       "[0.353553390593274],\n",
       "[0.353553390593274],\n",
       "[0.353553390593274]])"
      ]
     },
     "execution_count": 83,
     "metadata": {},
     "output_type": "execute_result"
    }
   ],
   "source": [
    "v = sp.Matrix(a.v)\n",
    "v"
   ]
  },
  {
   "cell_type": "code",
   "execution_count": 84,
   "id": "1dfc2408-2d7e-4112-b40e-37c7b0b09893",
   "metadata": {},
   "outputs": [
    {
     "data": {
      "text/latex": [
       "$\\displaystyle \\left[\\begin{matrix}0.353553390593274\\\\- 0.353553390593274 \\sin{\\left(θ \\right)} + 0.353553390593274 \\cos{\\left(θ \\right)}\\\\0.353553390593274 \\sin{\\left(θ \\right)} + 0.353553390593274 \\cos{\\left(θ \\right)}\\end{matrix}\\right]$"
      ],
      "text/plain": [
       "Matrix([\n",
       "[                                   0.353553390593274],\n",
       "[-0.353553390593274*sin(θ) + 0.353553390593274*cos(θ)],\n",
       "[ 0.353553390593274*sin(θ) + 0.353553390593274*cos(θ)]])"
      ]
     },
     "execution_count": 84,
     "metadata": {},
     "output_type": "execute_result"
    }
   ],
   "source": [
    "Rx * v"
   ]
  },
  {
   "cell_type": "code",
   "execution_count": 85,
   "id": "5121bece-1c1f-4947-a2fb-fdbc7843c798",
   "metadata": {},
   "outputs": [],
   "source": [
    "from math import degrees, radians"
   ]
  },
  {
   "cell_type": "code",
   "execution_count": 86,
   "id": "48176523-2322-4cc7-985c-f2048eb7f4a0",
   "metadata": {},
   "outputs": [
    {
     "data": {
      "text/plain": [
       "1.5707963267948966"
      ]
     },
     "execution_count": 86,
     "metadata": {},
     "output_type": "execute_result"
    }
   ],
   "source": [
    "radians(90)"
   ]
  },
  {
   "cell_type": "code",
   "execution_count": 87,
   "id": "8e154e0a-b7cf-4214-ab80-96f45a08fe6b",
   "metadata": {},
   "outputs": [
    {
     "data": {
      "text/latex": [
       "$\\displaystyle \\left[\\begin{matrix}0.353553390593274\\\\0.286788218175523\\\\0.409576022144496\\end{matrix}\\right]$"
      ],
      "text/plain": [
       "Matrix([\n",
       "[0.353553390593274],\n",
       "[0.286788218175523],\n",
       "[0.409576022144496]])"
      ]
     },
     "execution_count": 87,
     "metadata": {},
     "output_type": "execute_result"
    }
   ],
   "source": [
    "(Rx * v).evalf(subs={'θ':radians(10)})"
   ]
  },
  {
   "cell_type": "markdown",
   "id": "6e30c221-8237-45b1-9e5a-3b5284262999",
   "metadata": {},
   "source": [
    "In the algorithm below, a single vector, the one named `a`, is copied and then progressively rotated and updated by n degrees, with snapshots aggregating in a .pov file for rendering.  POV_Vectors know how to describe themselves in scene description language, as do POV_Edges."
   ]
  },
  {
   "cell_type": "code",
   "execution_count": 88,
   "id": "ef3c4195-a05c-4530-bb52-9aff2df6328a",
   "metadata": {
    "tags": []
   },
   "outputs": [
    {
     "name": "stdout",
     "output_type": "stream",
     "text": [
      "rotate_me.pov ready for rendering\n"
     ]
    }
   ],
   "source": [
    "the_vector = a.copy()\n",
    "# POV-Ray\n",
    "edge_color = \"rgb <1, 0.4, 0>\"\n",
    "edge_radius= 0.03\n",
    "vert_color = \"rgb <0, 0, 1>\"\n",
    "vert_radius= 0.05\n",
    "\n",
    "with open(\"rotate_me.pov\", \"w\") as output:\n",
    "    print(pov.pov_header, file=output)  # print to the output file\n",
    "\n",
    "    # show origin (black hole) and positive x towards us\n",
    "    origin.draw_vert(\"rgb <0, 0, 0>\", 0.1, output)\n",
    "    x.draw_edge(\"rgb <66/255, 224/255, 245/255>\", 0.01, output)\n",
    "    the_vector.draw_edge(edge_color, edge_radius, output)\n",
    "    the_vector.draw_vert(vert_color, vert_radius, output)\n",
    "    for _ in range(35):\n",
    "        v = sp.Matrix(the_vector.v)\n",
    "        v = (Rx * v).evalf(subs={'θ':radians(10)}) # rotate by n degrees\n",
    "        the_vector = POV_Vector(v[0], v[1], v[2])  # update the_vector\n",
    "        the_vector.draw_edge(edge_color, edge_radius, output)\n",
    "        the_vector.draw_vert(vert_color, vert_radius, output)\n",
    "print(\"rotate_me.pov ready for rendering\")"
   ]
  },
  {
   "cell_type": "raw",
   "id": "391b239f-d91f-40d4-b7da-9c652bcb4d48",
   "metadata": {},
   "source": [
    "# ! /usr/local/bin/povray +A +H768 +W1024 -GA ./rotate_me.pov"
   ]
  },
  {
   "cell_type": "markdown",
   "id": "36aa2aa6-1b8c-4c5b-ab6b-0d4152940bf2",
   "metadata": {},
   "source": [
    "<a data-flickr-embed=\"true\" href=\"https://www.flickr.com/photos/kirbyurner/52142229719/in/dateposted-public/\" title=\"Rotate Vector by Increments of 10 Degrees\"><img src=\"https://live.staticflickr.com/65535/52142229719_a1dd0bf765_z.jpg\" width=\"640\" height=\"494\" alt=\"Rotate Vector by Increments of 10 Degrees\"></a><script async src=\"//embedr.flickr.com/assets/client-code.js\" charset=\"utf-8\"></script>"
   ]
  },
  {
   "cell_type": "markdown",
   "id": "bb93dc09-9626-4c01-b182-1deee19adb1e",
   "metadata": {},
   "source": [
    "## Plotting\n",
    "\n",
    "A function we usually come to, as a pre-requisite for calculus, is the polynomial.  \n",
    "\n",
    "Before we integrate or differentiate such a curve, we learn to (a) plot it on graph paper (i.e. the screen) and (b) to find its roots, or zeros."
   ]
  },
  {
   "cell_type": "markdown",
   "id": "e6304654-a169-444b-8e3b-8de62055b7d4",
   "metadata": {},
   "source": [
    "Plain old Python (pop) doesn't have the `linspace` or `arange` though one might code them in pure Python. Instead, why not introduce \"array based computing\" at the outset, with an eye towards syncing with data science tutorials and the broader Python ecosystem?  Other languages are array-based as well, enabling jumping to other languages, such as J."
   ]
  },
  {
   "cell_type": "markdown",
   "id": "9d20d54f-4c3c-45a1-aebe-780d755e4eb1",
   "metadata": {},
   "source": [
    "The numpy package provides a context for a new kind of list object, the n-dimensional array, suitable for navigating amidst n-d polytopes (Coxeter) if that's your gig.  A lot of us stay with row by column matrix-like data structures, 2-dimensional."
   ]
  },
  {
   "cell_type": "code",
   "execution_count": 89,
   "id": "227e45df-55a0-43cf-80df-c69137e1be31",
   "metadata": {},
   "outputs": [],
   "source": [
    "import numpy as np\n",
    "import matplotlib.pyplot as plt"
   ]
  },
  {
   "cell_type": "markdown",
   "id": "59690f0a-873c-4725-933e-3e2db477d3e3",
   "metadata": {},
   "source": [
    "Chop a number line (like making sausage) into 200 points exactly, so 199 intervals, starting and ending on the two points you give it.  Return an n-d array of only one dimension, as shown by `obj.shape`."
   ]
  },
  {
   "cell_type": "code",
   "execution_count": 90,
   "id": "96c12ce3-d8cd-4224-81d4-0e1300463b9e",
   "metadata": {},
   "outputs": [],
   "source": [
    "rat_domain = np.linspace(-5, 5, 200)  # rational domain, expressed in floating points"
   ]
  },
  {
   "cell_type": "code",
   "execution_count": 91,
   "id": "7d07303d-46c6-4778-9f17-4a965e898ab1",
   "metadata": {},
   "outputs": [
    {
     "name": "stdout",
     "output_type": "stream",
     "text": [
      "Length:  200\n",
      "d-type:  float64\n",
      " Shape:  (200,)\n",
      "   Dim:  1\n"
     ]
    }
   ],
   "source": [
    "print(\"Length: \", len(rat_domain))\n",
    "print(\"d-type: \", rat_domain.dtype)\n",
    "print(\" Shape: \", rat_domain.shape)\n",
    "print(\"   Dim: \", rat_domain.ndim)"
   ]
  },
  {
   "cell_type": "markdown",
   "id": "891399ec-2cd4-458e-a52d-c4799c660617",
   "metadata": {},
   "source": [
    "The code below looks like ordinary Python, however if `domain` then powering (`**`) will by applied element-wise to all 200 data points, with no explicit looping required.  This is what array-based computing entails:  working with whole rafts of numbers without explicitly iterating over them."
   ]
  },
  {
   "cell_type": "code",
   "execution_count": 92,
   "id": "8e2451b9-327e-41cb-8984-5321d02a3abe",
   "metadata": {},
   "outputs": [],
   "source": [
    "def power_curve(domain, the_power):\n",
    "    return domain ** the_power"
   ]
  },
  {
   "cell_type": "code",
   "execution_count": 93,
   "id": "fde62bb8-1261-49fe-b459-714d41755269",
   "metadata": {},
   "outputs": [],
   "source": [
    "out_range_1 = power_curve(rat_domain, 1) # linear relationship "
   ]
  },
  {
   "cell_type": "code",
   "execution_count": 94,
   "id": "b25688cd-9c83-42d9-a6af-f1df8bcdc45f",
   "metadata": {
    "tags": []
   },
   "outputs": [],
   "source": [
    "out_range_2 = power_curve(rat_domain, 2) # 2nd power, parabola"
   ]
  },
  {
   "cell_type": "code",
   "execution_count": 95,
   "id": "70586071-226c-462e-bc8d-4a7dd6af3c10",
   "metadata": {},
   "outputs": [],
   "source": [
    "out_range_3 = power_curve(rat_domain, 3) # 3rd power, inflection point"
   ]
  },
  {
   "cell_type": "markdown",
   "id": "9cbff251-0cbc-4a91-9074-ed7e0044b0c8",
   "metadata": {},
   "source": [
    "And now for our final star player: pandas.  The pandas package is home to a Series, a single column of data, of any data type.  Series objects standing side-by-side, define the DataFrame, a  spreadsheet analog, inspired by R (a grand daddy workhorse language in statistics world, still going strong, works with Jupyter)."
   ]
  },
  {
   "cell_type": "code",
   "execution_count": 96,
   "id": "8c680ef3-c91f-4b13-bb2c-3339685107d2",
   "metadata": {},
   "outputs": [],
   "source": [
    "import pandas as pd"
   ]
  },
  {
   "cell_type": "code",
   "execution_count": 97,
   "id": "073f2153-9f5e-45ff-8f6a-32eb2f85d820",
   "metadata": {},
   "outputs": [
    {
     "data": {
      "text/html": [
       "<div>\n",
       "<style scoped>\n",
       "    .dataframe tbody tr th:only-of-type {\n",
       "        vertical-align: middle;\n",
       "    }\n",
       "\n",
       "    .dataframe tbody tr th {\n",
       "        vertical-align: top;\n",
       "    }\n",
       "\n",
       "    .dataframe thead th {\n",
       "        text-align: right;\n",
       "    }\n",
       "</style>\n",
       "<table border=\"1\" class=\"dataframe\">\n",
       "  <thead>\n",
       "    <tr style=\"text-align: right;\">\n",
       "      <th></th>\n",
       "      <th>1</th>\n",
       "      <th>2</th>\n",
       "      <th>3</th>\n",
       "    </tr>\n",
       "  </thead>\n",
       "  <tbody>\n",
       "    <tr>\n",
       "      <th>-5.000000</th>\n",
       "      <td>-5.000000</td>\n",
       "      <td>25.000000</td>\n",
       "      <td>-125.000000</td>\n",
       "    </tr>\n",
       "    <tr>\n",
       "      <th>-4.949749</th>\n",
       "      <td>-4.949749</td>\n",
       "      <td>24.500013</td>\n",
       "      <td>-121.268907</td>\n",
       "    </tr>\n",
       "    <tr>\n",
       "      <th>-4.899497</th>\n",
       "      <td>-4.899497</td>\n",
       "      <td>24.005076</td>\n",
       "      <td>-117.612808</td>\n",
       "    </tr>\n",
       "    <tr>\n",
       "      <th>-4.849246</th>\n",
       "      <td>-4.849246</td>\n",
       "      <td>23.515189</td>\n",
       "      <td>-114.030942</td>\n",
       "    </tr>\n",
       "    <tr>\n",
       "      <th>-4.798995</th>\n",
       "      <td>-4.798995</td>\n",
       "      <td>23.030353</td>\n",
       "      <td>-110.522547</td>\n",
       "    </tr>\n",
       "  </tbody>\n",
       "</table>\n",
       "</div>"
      ],
      "text/plain": [
       "                  1          2           3\n",
       "-5.000000 -5.000000  25.000000 -125.000000\n",
       "-4.949749 -4.949749  24.500013 -121.268907\n",
       "-4.899497 -4.899497  24.005076 -117.612808\n",
       "-4.849246 -4.849246  23.515189 -114.030942\n",
       "-4.798995 -4.798995  23.030353 -110.522547"
      ]
     },
     "execution_count": 97,
     "metadata": {},
     "output_type": "execute_result"
    }
   ],
   "source": [
    "table = pd.DataFrame({1:out_range_1, \n",
    "                      2:out_range_2, \n",
    "                      3:out_range_3},\n",
    "                      index = rat_domain)\n",
    "table.head()"
   ]
  },
  {
   "cell_type": "code",
   "execution_count": 98,
   "id": "595edc1a-5204-44c6-9e83-b4ebc7433cc8",
   "metadata": {},
   "outputs": [
    {
     "data": {
      "image/png": "[encoded data removed]",
      "text/plain": [
       "<Figure size 432x288 with 1 Axes>"
      ]
     },
     "metadata": {
      "needs_background": "light"
     },
     "output_type": "display_data"
    }
   ],
   "source": [
    "table.plot(lw = 4);"
   ]
  },
  {
   "cell_type": "markdown",
   "id": "73c29983-8df4-428e-ac56-0202ef878456",
   "metadata": {},
   "source": [
    "We have looked at sympy in other chapters, however maybe not in a classic high school setting, where expanding and factoring polynomials is the order of the day.  Once we have wrapped our minds around polynomial functions, we are ready to integrate and differentiate, or so the thinking goes. They lend themselves to these operations, as manual algorithms, very nicely."
   ]
  },
  {
   "cell_type": "code",
   "execution_count": 99,
   "id": "015ee3d4-cb3b-41cd-acdc-dd6879b3bd40",
   "metadata": {},
   "outputs": [],
   "source": [
    "import sympy as sp  # redundant (harmless)"
   ]
  },
  {
   "cell_type": "code",
   "execution_count": 100,
   "id": "3088d674-0190-497d-b5b8-b04ffa5b35de",
   "metadata": {},
   "outputs": [
    {
     "data": {
      "text/latex": [
       "$\\displaystyle \\left(x - 5\\right) \\left(x - 3\\right) \\left(x + 2\\right) \\left(x + 7\\right)$"
      ],
      "text/plain": [
       "(x - 5)*(x - 3)*(x + 2)*(x + 7)"
      ]
     },
     "execution_count": 100,
     "metadata": {},
     "output_type": "execute_result"
    }
   ],
   "source": [
    "x = sp.Symbol('x')\n",
    "poly = (x - 3)*(x + 2)*(x - 5)*(x + 7)\n",
    "poly"
   ]
  },
  {
   "cell_type": "code",
   "execution_count": 101,
   "id": "db196b91-c800-4e51-bd49-ec376ad3ab38",
   "metadata": {},
   "outputs": [
    {
     "data": {
      "text/latex": [
       "$\\displaystyle x^{4} + x^{3} - 43 x^{2} + 23 x + 210$"
      ],
      "text/plain": [
       "x**4 + x**3 - 43*x**2 + 23*x + 210"
      ]
     },
     "execution_count": 101,
     "metadata": {},
     "output_type": "execute_result"
    }
   ],
   "source": [
    "poly.expand()"
   ]
  },
  {
   "cell_type": "markdown",
   "id": "95a849d9-aa98-450a-8883-aec7ac26f71a",
   "metadata": {},
   "source": [
    "Here's a bridge to that Lambda Calculus, in that lambda has a meaning of \"any function\" and in the context below, makes an expression ready to iterate through some numpy array.  It \"vectorizes\" in other words, a term used by numpy itself.  Without resorting to for loop constructs, or mentioning indices, the `poly` expression races through our 400 point domain, applying itself to each x.\n",
    "\n",
    "The original domain, and the corresponding range (linked by poly), stand side by side as columns, in a pandas DataFrame.  From the DataFrame object, we may plot directly."
   ]
  },
  {
   "cell_type": "code",
   "execution_count": 102,
   "id": "9995128c-a476-44de-ae8b-5777f8a821bc",
   "metadata": {},
   "outputs": [],
   "source": [
    "f = sp.lambdify(x, poly, 'numpy')"
   ]
  },
  {
   "cell_type": "code",
   "execution_count": 103,
   "id": "4fa0b4c8-9a02-4c7a-b967-80ddeabe0a04",
   "metadata": {},
   "outputs": [
    {
     "data": {
      "text/html": [
       "<div>\n",
       "<style scoped>\n",
       "    .dataframe tbody tr th:only-of-type {\n",
       "        vertical-align: middle;\n",
       "    }\n",
       "\n",
       "    .dataframe tbody tr th {\n",
       "        vertical-align: top;\n",
       "    }\n",
       "\n",
       "    .dataframe thead th {\n",
       "        text-align: right;\n",
       "    }\n",
       "</style>\n",
       "<table border=\"1\" class=\"dataframe\">\n",
       "  <thead>\n",
       "    <tr style=\"text-align: right;\">\n",
       "      <th></th>\n",
       "      <th>f(x)</th>\n",
       "    </tr>\n",
       "    <tr>\n",
       "      <th>x</th>\n",
       "      <th></th>\n",
       "    </tr>\n",
       "  </thead>\n",
       "  <tbody>\n",
       "    <tr>\n",
       "      <th>-7.500000</th>\n",
       "      <td>360.937500</td>\n",
       "    </tr>\n",
       "    <tr>\n",
       "      <th>-7.462406</th>\n",
       "      <td>329.337298</td>\n",
       "    </tr>\n",
       "    <tr>\n",
       "      <th>-7.424812</th>\n",
       "      <td>298.496719</td>\n",
       "    </tr>\n",
       "    <tr>\n",
       "      <th>-7.387218</th>\n",
       "      <td>268.406589</td>\n",
       "    </tr>\n",
       "    <tr>\n",
       "      <th>-7.349624</th>\n",
       "      <td>239.057783</td>\n",
       "    </tr>\n",
       "  </tbody>\n",
       "</table>\n",
       "</div>"
      ],
      "text/plain": [
       "                 f(x)\n",
       "x                    \n",
       "-7.500000  360.937500\n",
       "-7.462406  329.337298\n",
       "-7.424812  298.496719\n",
       "-7.387218  268.406589\n",
       "-7.349624  239.057783"
      ]
     },
     "execution_count": 103,
     "metadata": {},
     "output_type": "execute_result"
    }
   ],
   "source": [
    "domain = np.linspace(-7.5,7.5,400)\n",
    "data_f = pd.DataFrame({\"f(x)\": f(domain)}, \n",
    "                      index = domain)\n",
    "data_f.index.name = 'x'\n",
    "data_f.head()"
   ]
  },
  {
   "cell_type": "code",
   "execution_count": 104,
   "id": "3103eb9c-2c49-4f18-8608-307ba2574e18",
   "metadata": {},
   "outputs": [
    {
     "data": {
      "image/png": "[encoded data removed]",
      "text/plain": [
       "<Figure size 432x288 with 1 Axes>"
      ]
     },
     "metadata": {
      "needs_background": "light"
     },
     "output_type": "display_data"
    }
   ],
   "source": [
    "data_f.plot(grid=True, lw=4);"
   ]
  },
  {
   "cell_type": "markdown",
   "id": "161cefde-8ce3-4a14-910d-0864ad7ab9a6",
   "metadata": {},
   "source": [
    "## Circular Functions\n",
    "\n",
    "From polynomials we move to the trigonometric functions and properties such as amplitude and frequency.\n",
    "\n",
    "The grand unification of circular functions and exponential functions on the Complex plane marks another branch point, where we optionally dive into fractals."
   ]
  },
  {
   "cell_type": "code",
   "execution_count": 105,
   "id": "59ad858e-9d7f-4e34-8ccc-b6e33f76c43a",
   "metadata": {},
   "outputs": [
    {
     "data": {
      "text/html": [
       "<div>\n",
       "<style scoped>\n",
       "    .dataframe tbody tr th:only-of-type {\n",
       "        vertical-align: middle;\n",
       "    }\n",
       "\n",
       "    .dataframe tbody tr th {\n",
       "        vertical-align: top;\n",
       "    }\n",
       "\n",
       "    .dataframe thead th {\n",
       "        text-align: right;\n",
       "    }\n",
       "</style>\n",
       "<table border=\"1\" class=\"dataframe\">\n",
       "  <thead>\n",
       "    <tr style=\"text-align: right;\">\n",
       "      <th></th>\n",
       "      <th>sin(x)</th>\n",
       "      <th>cos(x)</th>\n",
       "    </tr>\n",
       "    <tr>\n",
       "      <th>radians</th>\n",
       "      <th></th>\n",
       "      <th></th>\n",
       "    </tr>\n",
       "  </thead>\n",
       "  <tbody>\n",
       "    <tr>\n",
       "      <th>-10.000000</th>\n",
       "      <td>0.544021</td>\n",
       "      <td>-0.839072</td>\n",
       "    </tr>\n",
       "    <tr>\n",
       "      <th>-9.949875</th>\n",
       "      <td>0.501297</td>\n",
       "      <td>-0.865275</td>\n",
       "    </tr>\n",
       "    <tr>\n",
       "      <th>-9.899749</th>\n",
       "      <td>0.457313</td>\n",
       "      <td>-0.889306</td>\n",
       "    </tr>\n",
       "    <tr>\n",
       "      <th>-9.849624</th>\n",
       "      <td>0.412181</td>\n",
       "      <td>-0.911102</td>\n",
       "    </tr>\n",
       "    <tr>\n",
       "      <th>-9.799499</th>\n",
       "      <td>0.366013</td>\n",
       "      <td>-0.930610</td>\n",
       "    </tr>\n",
       "  </tbody>\n",
       "</table>\n",
       "</div>"
      ],
      "text/plain": [
       "              sin(x)    cos(x)\n",
       "radians                       \n",
       "-10.000000  0.544021 -0.839072\n",
       "-9.949875   0.501297 -0.865275\n",
       "-9.899749   0.457313 -0.889306\n",
       "-9.849624   0.412181 -0.911102\n",
       "-9.799499   0.366013 -0.930610"
      ]
     },
     "execution_count": 105,
     "metadata": {},
     "output_type": "execute_result"
    }
   ],
   "source": [
    "domain = np.linspace(-10, 10, 400)\n",
    "data_trig = pd.DataFrame({\"sin(x)\": np.sin(domain),\n",
    "                         \"cos(x)\": np.cos(domain)},\n",
    "                      index = domain)\n",
    "data_trig.index.name = 'radians'\n",
    "data_trig.head()"
   ]
  },
  {
   "cell_type": "markdown",
   "id": "9719b80b-a7d8-4db2-a5db-e695333f745d",
   "metadata": {},
   "source": [
    "The plot we get by calling the plot method on our DataFrame (`data_trig`) with no arguments is already more than acceptable.  Capturing the output as `ax` was optional in this case, but in future examples (below), customizing title, labels and legend involve communicating with this \"axes\" object.  \n",
    "\n",
    "matplotlib is is complicated package in giving us lots of objects we might want to communicate with, about line thickness, marker size, label fonts and so on. \n",
    "\n",
    "Your high school might refer you to various resources to help you continue broadening your vocabulary, while deepening your fluency, with this or any other package.  The math course itself might externalize some of these details."
   ]
  },
  {
   "cell_type": "code",
   "execution_count": 106,
   "id": "f3949318-b206-4838-9e5c-7203fab22baa",
   "metadata": {},
   "outputs": [
    {
     "data": {
      "image/png": "[encoded data removed]",
      "text/plain": [
       "<Figure size 432x288 with 1 Axes>"
      ]
     },
     "metadata": {
      "needs_background": "light"
     },
     "output_type": "display_data"
    }
   ],
   "source": [
    "ax = data_trig.plot(lw=4)"
   ]
  },
  {
   "cell_type": "markdown",
   "id": "069942a9-1779-4759-b9a5-ab61747b0b3a",
   "metadata": {},
   "source": [
    "A jump to the topic of alternating current and hydro-dam generators as a topic would appropriately go here.  The application of circular functions to electricity concepts comes up a lot in high school physics."
   ]
  },
  {
   "cell_type": "markdown",
   "id": "2c4862ba-0223-4b56-a554-9378a554206f",
   "metadata": {},
   "source": [
    "The final roundup of critical functions comes with Euler's famous formula:\n",
    "\n",
    "$$\n",
    "e^{ \\pm i\\theta } = \\cos \\theta \\pm i\\sin \\theta\n",
    "$$"
   ]
  },
  {
   "cell_type": "code",
   "execution_count": 107,
   "id": "5c23544a-883e-4489-8483-c6175e5c9318",
   "metadata": {},
   "outputs": [],
   "source": [
    "theta = sp.Symbol('theta')"
   ]
  },
  {
   "cell_type": "code",
   "execution_count": 108,
   "id": "a10c3b20-80ae-4c2e-b664-e116886190e9",
   "metadata": {},
   "outputs": [
    {
     "data": {
      "text/latex": [
       "$\\displaystyle 1 - \\frac{\\theta^{2}}{2} + \\frac{\\theta^{4}}{24} + O\\left(\\theta^{6}\\right)$"
      ],
      "text/plain": [
       "1 - theta**2/2 + theta**4/24 + O(theta**6)"
      ]
     },
     "execution_count": 108,
     "metadata": {},
     "output_type": "execute_result"
    }
   ],
   "source": [
    "cos_series = sp.cos(theta).series()\n",
    "cos_series"
   ]
  },
  {
   "cell_type": "code",
   "execution_count": 109,
   "id": "2561a4f3-9fe1-42a2-a095-f6c3e428af11",
   "metadata": {},
   "outputs": [
    {
     "data": {
      "text/latex": [
       "$\\displaystyle i \\left(\\theta - \\frac{\\theta^{3}}{6} + \\frac{\\theta^{5}}{120} + O\\left(\\theta^{6}\\right)\\right)$"
      ],
      "text/plain": [
       "I*(theta - theta**3/6 + theta**5/120 + O(theta**6))"
      ]
     },
     "execution_count": 109,
     "metadata": {},
     "output_type": "execute_result"
    }
   ],
   "source": [
    "i_sin_series = sp.I * sp.sin(theta).series()\n",
    "i_sin_series"
   ]
  },
  {
   "cell_type": "code",
   "execution_count": 110,
   "id": "8121053e-cd50-48ee-92df-919e16969539",
   "metadata": {},
   "outputs": [
    {
     "data": {
      "text/latex": [
       "$\\displaystyle e^{i \\theta}$"
      ],
      "text/plain": [
       "exp(I*theta)"
      ]
     },
     "execution_count": 110,
     "metadata": {},
     "output_type": "execute_result"
    }
   ],
   "source": [
    "exponential = sp.exp(sp.I * theta)\n",
    "exponential"
   ]
  },
  {
   "cell_type": "code",
   "execution_count": 111,
   "id": "5bedfa17-6949-42a7-9141-c0cb5b0fffc6",
   "metadata": {},
   "outputs": [
    {
     "data": {
      "text/latex": [
       "$\\displaystyle 1 + i \\theta - \\frac{\\theta^{2}}{2} - \\frac{i \\theta^{3}}{6} + \\frac{\\theta^{4}}{24} + \\frac{i \\theta^{5}}{120} + O\\left(\\theta^{6}\\right)$"
      ],
      "text/plain": [
       "1 + I*theta - theta**2/2 - I*theta**3/6 + theta**4/24 + I*theta**5/120 + O(theta**6)"
      ]
     },
     "execution_count": 111,
     "metadata": {},
     "output_type": "execute_result"
    }
   ],
   "source": [
    "exponential.series()"
   ]
  },
  {
   "cell_type": "code",
   "execution_count": 112,
   "id": "e81f5d98-482e-48ca-a358-e37a8a55fb48",
   "metadata": {},
   "outputs": [
    {
     "data": {
      "text/latex": [
       "$\\displaystyle 1 + i \\theta - \\frac{\\theta^{2}}{2} - \\frac{i \\theta^{3}}{6} + \\frac{\\theta^{4}}{24} + \\frac{i \\theta^{5}}{120} + O\\left(\\theta^{6}\\right)$"
      ],
      "text/plain": [
       "1 + I*theta - theta**2/2 - I*theta**3/6 + theta**4/24 + I*theta**5/120 + O(theta**6)"
      ]
     },
     "execution_count": 112,
     "metadata": {},
     "output_type": "execute_result"
    }
   ],
   "source": [
    "expr = cos_series + i_sin_series\n",
    "expr.simplify()"
   ]
  },
  {
   "cell_type": "code",
   "execution_count": 113,
   "id": "06105396-07f9-4f2b-869f-2ec246e4b464",
   "metadata": {},
   "outputs": [],
   "source": [
    "euler = sp.lambdify(theta, exponential, 'numpy')"
   ]
  },
  {
   "cell_type": "code",
   "execution_count": 114,
   "id": "88f87e98-3bef-46be-8274-2325e7b03307",
   "metadata": {},
   "outputs": [
    {
     "data": {
      "text/html": [
       "<div>\n",
       "<style scoped>\n",
       "    .dataframe tbody tr th:only-of-type {\n",
       "        vertical-align: middle;\n",
       "    }\n",
       "\n",
       "    .dataframe tbody tr th {\n",
       "        vertical-align: top;\n",
       "    }\n",
       "\n",
       "    .dataframe thead th {\n",
       "        text-align: right;\n",
       "    }\n",
       "</style>\n",
       "<table border=\"1\" class=\"dataframe\">\n",
       "  <thead>\n",
       "    <tr style=\"text-align: right;\">\n",
       "      <th></th>\n",
       "      <th>euler(r)</th>\n",
       "    </tr>\n",
       "    <tr>\n",
       "      <th>radians</th>\n",
       "      <th></th>\n",
       "    </tr>\n",
       "  </thead>\n",
       "  <tbody>\n",
       "    <tr>\n",
       "      <th>0.000000</th>\n",
       "      <td>1.000000+0.000000j</td>\n",
       "    </tr>\n",
       "    <tr>\n",
       "      <th>0.050251</th>\n",
       "      <td>0.998738+0.050230j</td>\n",
       "    </tr>\n",
       "    <tr>\n",
       "      <th>0.100503</th>\n",
       "      <td>0.994954+0.100333j</td>\n",
       "    </tr>\n",
       "    <tr>\n",
       "      <th>0.150754</th>\n",
       "      <td>0.988658+0.150183j</td>\n",
       "    </tr>\n",
       "    <tr>\n",
       "      <th>0.201005</th>\n",
       "      <td>0.979866+0.199654j</td>\n",
       "    </tr>\n",
       "  </tbody>\n",
       "</table>\n",
       "</div>"
      ],
      "text/plain": [
       "                    euler(r)\n",
       "radians                     \n",
       "0.000000  1.000000+0.000000j\n",
       "0.050251  0.998738+0.050230j\n",
       "0.100503  0.994954+0.100333j\n",
       "0.150754  0.988658+0.150183j\n",
       "0.201005  0.979866+0.199654j"
      ]
     },
     "execution_count": 114,
     "metadata": {},
     "output_type": "execute_result"
    }
   ],
   "source": [
    "domain     = np.linspace(0, 10, 200)  # for wrapping around and around the circle\n",
    "data_euler = pd.DataFrame({\"euler(r)\": euler(domain)},  # r for radians\n",
    "                            index = domain)\n",
    "data_euler.index.name = 'radians'\n",
    "data_euler.head()"
   ]
  },
  {
   "cell_type": "code",
   "execution_count": 115,
   "id": "deef6aa1-e534-4fd6-b057-6623be780d79",
   "metadata": {},
   "outputs": [
    {
     "name": "stdout",
     "output_type": "stream",
     "text": [
      "<class 'pandas.core.frame.DataFrame'>\n",
      "Float64Index: 200 entries, 0.0 to 10.0\n",
      "Data columns (total 1 columns):\n",
      " #   Column    Non-Null Count  Dtype     \n",
      "---  ------    --------------  -----     \n",
      " 0   euler(r)  200 non-null    complex128\n",
      "dtypes: complex128(1)\n",
      "memory usage: 4.7 KB\n"
     ]
    }
   ],
   "source": [
    "data_euler.info()"
   ]
  },
  {
   "cell_type": "code",
   "execution_count": 116,
   "id": "1bf6d3c2-3122-4332-a83b-c1202a90cac9",
   "metadata": {},
   "outputs": [],
   "source": [
    "euler_df = data_euler.copy() # keep a backup before adding columns\n",
    "euler_df[\"cos(r)\"] = euler_df[\"euler(r)\"].apply(lambda x: x.real)\n",
    "euler_df[\"sin(r)\"] = euler_df[\"euler(r)\"].apply(lambda x: x.imag)"
   ]
  },
  {
   "cell_type": "code",
   "execution_count": 117,
   "id": "ba46ea4d-93f1-4f51-877e-7e0a08627da2",
   "metadata": {},
   "outputs": [
    {
     "data": {
      "text/html": [
       "<div>\n",
       "<style scoped>\n",
       "    .dataframe tbody tr th:only-of-type {\n",
       "        vertical-align: middle;\n",
       "    }\n",
       "\n",
       "    .dataframe tbody tr th {\n",
       "        vertical-align: top;\n",
       "    }\n",
       "\n",
       "    .dataframe thead th {\n",
       "        text-align: right;\n",
       "    }\n",
       "</style>\n",
       "<table border=\"1\" class=\"dataframe\">\n",
       "  <thead>\n",
       "    <tr style=\"text-align: right;\">\n",
       "      <th></th>\n",
       "      <th>euler(r)</th>\n",
       "      <th>cos(r)</th>\n",
       "      <th>sin(r)</th>\n",
       "    </tr>\n",
       "    <tr>\n",
       "      <th>radians</th>\n",
       "      <th></th>\n",
       "      <th></th>\n",
       "      <th></th>\n",
       "    </tr>\n",
       "  </thead>\n",
       "  <tbody>\n",
       "    <tr>\n",
       "      <th>0.000000</th>\n",
       "      <td>1.000000+0.000000j</td>\n",
       "      <td>1.000000</td>\n",
       "      <td>0.000000</td>\n",
       "    </tr>\n",
       "    <tr>\n",
       "      <th>0.050251</th>\n",
       "      <td>0.998738+0.050230j</td>\n",
       "      <td>0.998738</td>\n",
       "      <td>0.050230</td>\n",
       "    </tr>\n",
       "    <tr>\n",
       "      <th>0.100503</th>\n",
       "      <td>0.994954+0.100333j</td>\n",
       "      <td>0.994954</td>\n",
       "      <td>0.100333</td>\n",
       "    </tr>\n",
       "    <tr>\n",
       "      <th>0.150754</th>\n",
       "      <td>0.988658+0.150183j</td>\n",
       "      <td>0.988658</td>\n",
       "      <td>0.150183</td>\n",
       "    </tr>\n",
       "    <tr>\n",
       "      <th>0.201005</th>\n",
       "      <td>0.979866+0.199654j</td>\n",
       "      <td>0.979866</td>\n",
       "      <td>0.199654</td>\n",
       "    </tr>\n",
       "  </tbody>\n",
       "</table>\n",
       "</div>"
      ],
      "text/plain": [
       "                    euler(r)    cos(r)    sin(r)\n",
       "radians                                         \n",
       "0.000000  1.000000+0.000000j  1.000000  0.000000\n",
       "0.050251  0.998738+0.050230j  0.998738  0.050230\n",
       "0.100503  0.994954+0.100333j  0.994954  0.100333\n",
       "0.150754  0.988658+0.150183j  0.988658  0.150183\n",
       "0.201005  0.979866+0.199654j  0.979866  0.199654"
      ]
     },
     "execution_count": 117,
     "metadata": {},
     "output_type": "execute_result"
    }
   ],
   "source": [
    "euler_df.head()"
   ]
  },
  {
   "cell_type": "code",
   "execution_count": 118,
   "id": "cb6aa467-e5f1-4091-8ac9-e26cc389237a",
   "metadata": {},
   "outputs": [
    {
     "data": {
      "image/png": "[encoded data removed]",
      "text/plain": [
       "<Figure size 432x288 with 1 Axes>"
      ]
     },
     "metadata": {
      "needs_background": "light"
     },
     "output_type": "display_data"
    }
   ],
   "source": [
    "ax = euler_df.plot(y=[\"cos(r)\", \"sin(r)\"], lw=4)\n",
    "ax.legend(loc='center left', bbox_to_anchor=(1.0, 0.5))\n",
    "ax.set_aspect(\"equal\")"
   ]
  },
  {
   "cell_type": "markdown",
   "id": "f3cdea75-5118-4f99-8e37-47209674e993",
   "metadata": {},
   "source": [
    "[Marker Styles](https://matplotlib.org/stable/api/markers_api.html)\n"
   ]
  },
  {
   "cell_type": "code",
   "execution_count": 119,
   "id": "47466d92-583f-4fdd-8a12-5751fd90cf11",
   "metadata": {},
   "outputs": [
    {
     "data": {
      "image/png": "[encoded data removed]",
      "text/plain": [
       "<Figure size 576x576 with 1 Axes>"
      ]
     },
     "metadata": {
      "needs_background": "light"
     },
     "output_type": "display_data"
    }
   ],
   "source": [
    "ax = euler_df.plot(x=\"cos(r)\", y=\"sin(r)\",\n",
    "                   figsize=(8,8),\n",
    "                   kind=\"scatter\", \n",
    "                   s=80, marker=\"2\")\n",
    "ax.set_aspect(\"equal\")\n",
    "ax.set_xlabel(\"cos(x): real\")\n",
    "ax.set_ylabel(\"sin(x): imag\")\n",
    "ax.set_title(r\"$e^{i \\pi}$\")\n",
    "ax.grid(True)"
   ]
  },
  {
   "cell_type": "markdown",
   "id": "ca78c4db-f210-48e0-a4a8-8b94a4e4a135",
   "metadata": {},
   "source": [
    "## Delta Calculus\n",
    "\n",
    "The reason for calling it Delta Calculus is to get around using a proper name, such as \"Newtonian\", much as we're free to recapitulate his work in \"fluxions\".  \n",
    "\n",
    "The reader is reminded of many calculi, as maths are full of them, and room for Lambda Calculus appears, with a kind of symmetry between them.  That's to expand the meaning of both, perhaps, to embrace their destinies.\n",
    "\n",
    "The focus I've been adopting, as a curriculum dev, is to focus on the data science curve known as the Gaussian or normal curve.  This \"bell curve\" is very well thought out and much studied, and its integral, the CDF, is likewise prevalent as a pattern, such as when we watch a fad sweep through a population:  early adopters, over the hump, late adopters.  \n",
    "\n",
    "How it all adds up looks like a lazy S, almost like the integral symbol itself $\\int$.\n",
    "\n",
    "The customary discussion of slope versus area, with the CDF plotting the PDF's growing area (integral), and the PDF plotting the CDF's changing slope (derivative), carries over into this more statistically minded context.  Calculus is our bridge to data science and its sociological topics, not just to the classical mechanics in physics.\n",
    "\n",
    "Machine Learning is likewise a gateway into differential calculus as the idea of gradient descent starts quickly, with terrain metaphors.  We've all descended gradients.  We will get to slopes and tangent planes later.  \n",
    "\n",
    "Starting with complex applications and then refining the concepts through progressive simplification, is something science is good at. We look for the generalizable patterns."
   ]
  },
  {
   "cell_type": "code",
   "execution_count": 120,
   "id": "f3475744-f50d-449a-bcad-6e4d9b9d3c1d",
   "metadata": {},
   "outputs": [],
   "source": [
    "domain = np.linspace(-6, 6, 500)"
   ]
  },
  {
   "cell_type": "code",
   "execution_count": 121,
   "id": "edfad5a4-ff33-477f-9461-f9a46a8a606e",
   "metadata": {},
   "outputs": [],
   "source": [
    "x, σ, μ = sp.symbols(['x','σ', 'μ'])"
   ]
  },
  {
   "cell_type": "code",
   "execution_count": 122,
   "id": "e710083f-ac78-477e-9f48-900133dfa285",
   "metadata": {},
   "outputs": [],
   "source": [
    "f = sp.Symbol('f')"
   ]
  },
  {
   "cell_type": "code",
   "execution_count": 123,
   "id": "8215b856-d700-4dfe-bd92-25ec5a50e65e",
   "metadata": {},
   "outputs": [
    {
     "data": {
      "text/latex": [
       "$\\displaystyle \\frac{\\sqrt{2} e^{- \\frac{\\left(x - μ\\right)^{2}}{2 σ^{2}}}}{2 \\sqrt{\\pi} σ}$"
      ],
      "text/plain": [
       "sqrt(2)*exp(-(x - μ)**2/(2*σ**2))/(2*sqrt(pi)*σ)"
      ]
     },
     "execution_count": 123,
     "metadata": {},
     "output_type": "execute_result"
    }
   ],
   "source": [
    "expr1 = (1/(σ * sp.sqrt(2 * sp.pi)))\n",
    "expr2 = sp.exp(sp.Rational(-1,2) * ((x - μ)/σ)**2)\n",
    "gaussian = expr2 * expr1\n",
    "gaussian"
   ]
  },
  {
   "cell_type": "markdown",
   "id": "d97ac1b5-8081-43d5-92fd-7c05e7eb3921",
   "metadata": {},
   "source": [
    "Play around with $\\mu$ and $\\sigma$, the mean and standard deviation parameters, conventionally set to 0 and 1 respectively, for the most standard of the normal bell curves.  Play around with these."
   ]
  },
  {
   "cell_type": "code",
   "execution_count": 124,
   "id": "2060954a-fe0b-4748-af16-fddba7a3ac7c",
   "metadata": {},
   "outputs": [
    {
     "data": {
      "text/latex": [
       "$\\displaystyle \\frac{\\sqrt{2} e^{- \\frac{x^{2}}{2}}}{2 \\sqrt{\\pi}}$"
      ],
      "text/plain": [
       "sqrt(2)*exp(-x**2/2)/(2*sqrt(pi))"
      ]
     },
     "execution_count": 124,
     "metadata": {},
     "output_type": "execute_result"
    }
   ],
   "source": [
    "standard = gaussian.copy()\n",
    "standard = standard.subs(μ, 0)\n",
    "standard = standard.subs(σ, 1)\n",
    "standard"
   ]
  },
  {
   "cell_type": "code",
   "execution_count": 125,
   "id": "d0b327aa-2c21-4e9b-9292-c7921c83e4d6",
   "metadata": {},
   "outputs": [
    {
     "data": {
      "text/latex": [
       "$\\displaystyle \\frac{\\sqrt{2} e^{- \\frac{\\left(x - 100\\right)^{2}}{450}}}{30 \\sqrt{\\pi}}$"
      ],
      "text/plain": [
       "sqrt(2)*exp(-(x - 100)**2/450)/(30*sqrt(pi))"
      ]
     },
     "execution_count": 125,
     "metadata": {},
     "output_type": "execute_result"
    }
   ],
   "source": [
    "IQ = gaussian.copy()\n",
    "IQ = IQ.subs(μ, 100)\n",
    "IQ = IQ.subs(σ, 15)\n",
    "IQ"
   ]
  },
  {
   "cell_type": "code",
   "execution_count": 126,
   "id": "e7b38dec-b720-41ee-baf9-6c0f09bda880",
   "metadata": {},
   "outputs": [],
   "source": [
    "domain = np.linspace(-6, 6, 500)\n",
    "f = sp.lambdify(x, standard, 'numpy') \n",
    "y_vals = f(domain)"
   ]
  },
  {
   "cell_type": "code",
   "execution_count": 127,
   "id": "f78e39df-7711-4f40-bdce-43598da08e6a",
   "metadata": {},
   "outputs": [
    {
     "data": {
      "text/html": [
       "<div>\n",
       "<style scoped>\n",
       "    .dataframe tbody tr th:only-of-type {\n",
       "        vertical-align: middle;\n",
       "    }\n",
       "\n",
       "    .dataframe tbody tr th {\n",
       "        vertical-align: top;\n",
       "    }\n",
       "\n",
       "    .dataframe thead th {\n",
       "        text-align: right;\n",
       "    }\n",
       "</style>\n",
       "<table border=\"1\" class=\"dataframe\">\n",
       "  <thead>\n",
       "    <tr style=\"text-align: right;\">\n",
       "      <th></th>\n",
       "      <th>x</th>\n",
       "      <th>y</th>\n",
       "    </tr>\n",
       "  </thead>\n",
       "  <tbody>\n",
       "    <tr>\n",
       "      <th>0</th>\n",
       "      <td>-6.000000</td>\n",
       "      <td>6.075883e-09</td>\n",
       "    </tr>\n",
       "    <tr>\n",
       "      <th>1</th>\n",
       "      <td>-5.975952</td>\n",
       "      <td>7.016936e-09</td>\n",
       "    </tr>\n",
       "    <tr>\n",
       "      <th>2</th>\n",
       "      <td>-5.951904</td>\n",
       "      <td>8.099059e-09</td>\n",
       "    </tr>\n",
       "    <tr>\n",
       "      <th>3</th>\n",
       "      <td>-5.927856</td>\n",
       "      <td>9.342657e-09</td>\n",
       "    </tr>\n",
       "    <tr>\n",
       "      <th>4</th>\n",
       "      <td>-5.903808</td>\n",
       "      <td>1.077098e-08</td>\n",
       "    </tr>\n",
       "  </tbody>\n",
       "</table>\n",
       "</div>"
      ],
      "text/plain": [
       "          x             y\n",
       "0 -6.000000  6.075883e-09\n",
       "1 -5.975952  7.016936e-09\n",
       "2 -5.951904  8.099059e-09\n",
       "3 -5.927856  9.342657e-09\n",
       "4 -5.903808  1.077098e-08"
      ]
     },
     "execution_count": 127,
     "metadata": {},
     "output_type": "execute_result"
    }
   ],
   "source": [
    "bell_curve_df = pd.DataFrame({'x':domain, 'y':y_vals})\n",
    "bell_curve_df.head()"
   ]
  },
  {
   "cell_type": "code",
   "execution_count": 128,
   "id": "33fe9648-c834-46c7-bc01-b67f5256a784",
   "metadata": {},
   "outputs": [
    {
     "data": {
      "image/png": "[encoded data removed]",
      "text/plain": [
       "<Figure size 432x288 with 1 Axes>"
      ]
     },
     "metadata": {
      "needs_background": "light"
     },
     "output_type": "display_data"
    }
   ],
   "source": [
    "ax = bell_curve_df.plot(x='x', y='y', lw=4)\n",
    "ax.set_title(\"Probability Density Function\");\n",
    "ax.legend(['PDF']);"
   ]
  },
  {
   "cell_type": "code",
   "execution_count": 129,
   "id": "5d540839-4d42-4922-87f8-93ea253cc252",
   "metadata": {},
   "outputs": [
    {
     "data": {
      "image/png": "[encoded data removed]",
      "text/plain": [
       "<Figure size 432x288 with 1 Axes>"
      ]
     },
     "metadata": {
      "needs_background": "light"
     },
     "output_type": "display_data"
    }
   ],
   "source": [
    "# create data structure\n",
    "new_domain  = np.linspace(0, 200, 500)\n",
    "iq_function = sp.lambdify(x, IQ, 'numpy') # IQ defined above\n",
    "y_vals      = iq_function(new_domain)\n",
    "iq_curve_df = pd.DataFrame({'x':new_domain, 'y':y_vals})\n",
    "\n",
    "# plot\n",
    "ax = iq_curve_df.plot(x='x', y='y', legend=None, lw=4)\n",
    "ax.set_xlabel(\"Score\")\n",
    "ax.set_title(\"IQ Test\");"
   ]
  },
  {
   "cell_type": "code",
   "execution_count": 130,
   "id": "ef4eb666-485d-474f-9e18-6e7060966e6c",
   "metadata": {},
   "outputs": [
    {
     "data": {
      "text/latex": [
       "$\\displaystyle 1.0$"
      ],
      "text/plain": [
       "1.00000"
      ]
     },
     "execution_count": 130,
     "metadata": {},
     "output_type": "execute_result"
    }
   ],
   "source": [
    "sp.integrate(standard, (x, -6, 6)).evalf(6)"
   ]
  },
  {
   "cell_type": "code",
   "execution_count": 131,
   "id": "6eb9dea3-b097-44aa-ad56-c6cca7c9a0f4",
   "metadata": {},
   "outputs": [
    {
     "data": {
      "text/html": [
       "<div>\n",
       "<style scoped>\n",
       "    .dataframe tbody tr th:only-of-type {\n",
       "        vertical-align: middle;\n",
       "    }\n",
       "\n",
       "    .dataframe tbody tr th {\n",
       "        vertical-align: top;\n",
       "    }\n",
       "\n",
       "    .dataframe thead th {\n",
       "        text-align: right;\n",
       "    }\n",
       "</style>\n",
       "<table border=\"1\" class=\"dataframe\">\n",
       "  <thead>\n",
       "    <tr style=\"text-align: right;\">\n",
       "      <th></th>\n",
       "      <th>x</th>\n",
       "      <th>y</th>\n",
       "    </tr>\n",
       "  </thead>\n",
       "  <tbody>\n",
       "    <tr>\n",
       "      <th>0</th>\n",
       "      <td>-6.000000</td>\n",
       "      <td>6.075883e-09</td>\n",
       "    </tr>\n",
       "    <tr>\n",
       "      <th>1</th>\n",
       "      <td>-5.975952</td>\n",
       "      <td>7.016936e-09</td>\n",
       "    </tr>\n",
       "    <tr>\n",
       "      <th>2</th>\n",
       "      <td>-5.951904</td>\n",
       "      <td>8.099059e-09</td>\n",
       "    </tr>\n",
       "    <tr>\n",
       "      <th>3</th>\n",
       "      <td>-5.927856</td>\n",
       "      <td>9.342657e-09</td>\n",
       "    </tr>\n",
       "    <tr>\n",
       "      <th>4</th>\n",
       "      <td>-5.903808</td>\n",
       "      <td>1.077098e-08</td>\n",
       "    </tr>\n",
       "    <tr>\n",
       "      <th>...</th>\n",
       "      <td>...</td>\n",
       "      <td>...</td>\n",
       "    </tr>\n",
       "    <tr>\n",
       "      <th>495</th>\n",
       "      <td>5.903808</td>\n",
       "      <td>1.077098e-08</td>\n",
       "    </tr>\n",
       "    <tr>\n",
       "      <th>496</th>\n",
       "      <td>5.927856</td>\n",
       "      <td>9.342657e-09</td>\n",
       "    </tr>\n",
       "    <tr>\n",
       "      <th>497</th>\n",
       "      <td>5.951904</td>\n",
       "      <td>8.099059e-09</td>\n",
       "    </tr>\n",
       "    <tr>\n",
       "      <th>498</th>\n",
       "      <td>5.975952</td>\n",
       "      <td>7.016936e-09</td>\n",
       "    </tr>\n",
       "    <tr>\n",
       "      <th>499</th>\n",
       "      <td>6.000000</td>\n",
       "      <td>6.075883e-09</td>\n",
       "    </tr>\n",
       "  </tbody>\n",
       "</table>\n",
       "<p>500 rows × 2 columns</p>\n",
       "</div>"
      ],
      "text/plain": [
       "            x             y\n",
       "0   -6.000000  6.075883e-09\n",
       "1   -5.975952  7.016936e-09\n",
       "2   -5.951904  8.099059e-09\n",
       "3   -5.927856  9.342657e-09\n",
       "4   -5.903808  1.077098e-08\n",
       "..        ...           ...\n",
       "495  5.903808  1.077098e-08\n",
       "496  5.927856  9.342657e-09\n",
       "497  5.951904  8.099059e-09\n",
       "498  5.975952  7.016936e-09\n",
       "499  6.000000  6.075883e-09\n",
       "\n",
       "[500 rows x 2 columns]"
      ]
     },
     "execution_count": 131,
     "metadata": {},
     "output_type": "execute_result"
    }
   ],
   "source": [
    "bell_curve_df"
   ]
  },
  {
   "cell_type": "code",
   "execution_count": 132,
   "id": "578c080e-d0d0-4570-a4f1-15b10413a79a",
   "metadata": {},
   "outputs": [
    {
     "data": {
      "text/plain": [
       "0.02404809619238435"
      ]
     },
     "execution_count": 132,
     "metadata": {},
     "output_type": "execute_result"
    }
   ],
   "source": [
    "h = abs(domain[0] - domain[1])\n",
    "h"
   ]
  },
  {
   "cell_type": "code",
   "execution_count": 133,
   "id": "1c23f6a0-9239-4272-884b-203dda2f9af3",
   "metadata": {},
   "outputs": [
    {
     "data": {
      "image/png": "[encoded data removed]",
      "text/plain": [
       "<Figure size 432x288 with 1 Axes>"
      ]
     },
     "metadata": {
      "needs_background": "light"
     },
     "output_type": "display_data"
    }
   ],
   "source": [
    "import matplotlib.patches as mpatches\n",
    "\n",
    "ax = bell_curve_df.plot(x='x', y='y', lw=4)\n",
    "ax.set_title(\"Probability Density Function\")\n",
    "ax.grid(True)\n",
    "ax.legend(['PDF'])\n",
    "\n",
    "row = 200 # of 500 total\n",
    "left, bottom, width, height = (bell_curve_df.iloc[row,0]-h/2,\n",
    "                               0,h, # width h\n",
    "                               bell_curve_df.iloc[row,1])\n",
    "rect=mpatches.Rectangle((left,bottom),width,height, \n",
    "                        fill=True,\n",
    "                        color=\"blue\")\n",
    "ax.add_patch(rect);"
   ]
  },
  {
   "cell_type": "markdown",
   "id": "08935624-687a-4fe2-bf2f-3afb17b5ee97",
   "metadata": {},
   "source": [
    "The area accumulating under the PDF registers as the CDF.  The area starts at zero then climbs more and more steeply.  The area continues to grow, but at a slowing rate.\n",
    "\n",
    "The cumulative sum of thin rectanglar areas, each with a PDF y-value height, times a delta h width of about 0.024, approximates the numeric integral.  More and more rectangles get added.\n",
    "\n",
    "The CDF levels off at 1.0, as it should, given it's tracking the area under the standard bell curve, of probability 1 its total area.  \n",
    "\n",
    "Other PDFs, not bell curves, e.g. the Poisson Distribution, will also have a total area of 1 and a corresponding CDF cumulative sum."
   ]
  },
  {
   "cell_type": "code",
   "execution_count": 134,
   "id": "9f0252ea-76fa-43e4-b42a-f379fccd2468",
   "metadata": {},
   "outputs": [],
   "source": [
    "bell_curve_df['CDF'] = np.cumsum(bell_curve_df['y']*h) # discrete integral"
   ]
  },
  {
   "cell_type": "markdown",
   "id": "4d4d5933-a6c2-4c24-9823-a2e258bdc4fb",
   "metadata": {},
   "source": [
    "$$\n",
    "\\text{cdf} =  \\int_{a}^{b} \\text{pdf}(x) \\,dx\n",
    "$$"
   ]
  },
  {
   "cell_type": "code",
   "execution_count": 135,
   "id": "8a2df2ca-707f-4e6b-8603-56a4a1f2dc22",
   "metadata": {},
   "outputs": [
    {
     "data": {
      "image/png": "[encoded data removed]",
      "text/plain": [
       "<Figure size 432x288 with 1 Axes>"
      ]
     },
     "metadata": {
      "needs_background": "light"
     },
     "output_type": "display_data"
    }
   ],
   "source": [
    "ax = bell_curve_df.plot(x='x', y='CDF', lw=4)\n",
    "ax.grid(True)"
   ]
  },
  {
   "cell_type": "code",
   "execution_count": 136,
   "id": "8ac371f8-df1f-4951-adc1-d3829ce17011",
   "metadata": {},
   "outputs": [
    {
     "data": {
      "image/png": "[encoded data removed]",
      "text/plain": [
       "<Figure size 432x288 with 2 Axes>"
      ]
     },
     "metadata": {
      "needs_background": "light"
     },
     "output_type": "display_data"
    }
   ],
   "source": [
    "plt.subplots()\n",
    "plt.subplot(121)\n",
    "plt.plot(bell_curve_df['x'], bell_curve_df['y'], lw=4)\n",
    "plt.legend(['PDF'])\n",
    "plt.subplot(122)\n",
    "plt.plot(bell_curve_df['x'], bell_curve_df['CDF'], lw=4)\n",
    "plt.legend(['CDF']);"
   ]
  },
  {
   "cell_type": "markdown",
   "id": "3ca5a3c8-a888-41f1-8f00-be261dbbcae2",
   "metadata": {},
   "source": [
    "The CDF's slope registers as the PDF.  The slope starts at zero, then becomes positive and stays positive, but reaches a peak steepness at x=0, and then starts to again level off."
   ]
  },
  {
   "cell_type": "markdown",
   "id": "a624bc83-97b8-477b-bf5c-3b8869f37d57",
   "metadata": {},
   "source": [
    "$$\n",
    "\\text{pdf} =  \\frac{dy}{dx} \\text{cdf}(x)\n",
    "$$"
   ]
  }
 ],
 "metadata": {
  "kernelspec": {
   "display_name": "Python 3 (ipykernel)",
   "language": "python",
   "name": "python3"
  },
  "language_info": {
   "codemirror_mode": {
    "name": "ipython",
    "version": 3
   },
   "file_extension": ".py",
   "mimetype": "text/x-python",
   "name": "python",
   "nbconvert_exporter": "python",
   "pygments_lexer": "ipython3",
   "version": "3.9.12"
  }
 },
 "nbformat": 4,
 "nbformat_minor": 5
}
