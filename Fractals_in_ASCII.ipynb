{
 "cells": [
  {
   "cell_type": "markdown",
   "id": "5d03ead5",
   "metadata": {},
   "source": [
    "[Home](Home.ipynb)\n",
    "# Fractals as Unicode Art\n",
    "\n",
    "<a data-flickr-embed=\"true\" href=\"https://www.flickr.com/photos/kirbyurner/5635085821/in/photolist-E4nYpb-uovzK9-9zXhG6/\" title=\"ascii_art\"><img src=\"https://live.staticflickr.com/5265/5635085821_22a48498d3_o.png\" width=\"420\" height=\"352\" alt=\"ascii_art\"></a><script async src=\"//embedr.flickr.com/assets/client-code.js\" charset=\"utf-8\"></script>\n",
    "\n",
    "\n",
    "<a data-flickr-embed=\"true\" href=\"https://www.flickr.com/photos/kirbyurner/5646223789/in/photolist-9ARms9-drcjLw-9AWnC2\" title=\"Making Math\"><img src=\"https://live.staticflickr.com/5029/5646223789_2b76020951.jpg\" width=\"500\" height=\"405\" alt=\"Making Math\"></a><script async src=\"//embedr.flickr.com/assets/client-code.js\" charset=\"utf-8\"></script>\n",
    "\n",
    "<a data-flickr-embed=\"true\" href=\"https://www.flickr.com/photos/kirbyurner/51382948431/in/dateposted-public/\" title=\"cropcircle_tractor_output\"><img src=\"https://live.staticflickr.com/65535/51382948431_2743461c15.jpg\" width=\"500\" height=\"387\" alt=\"cropcircle_tractor_output\"></a><script async src=\"//embedr.flickr.com/assets/client-code.js\" charset=\"utf-8\"></script>\n",
    "\n",
    "![CropCircle Fractal](https://i.pinimg.com/736x/ff/65/b8/ff65b8fe9718df08a09c83cfa46948bb--mandelbrot-fractal-crop-circles.jpg)"
   ]
  },
  {
   "cell_type": "code",
   "execution_count": 13,
   "id": "b68540bf",
   "metadata": {},
   "outputs": [],
   "source": [
    "c = complex(0, .5)"
   ]
  },
  {
   "cell_type": "code",
   "execution_count": 14,
   "id": "c63e5af3",
   "metadata": {},
   "outputs": [],
   "source": [
    "z = complex(0, 0)"
   ]
  },
  {
   "cell_type": "code",
   "execution_count": 15,
   "id": "9b8afa31",
   "metadata": {},
   "outputs": [],
   "source": [
    "z = z*z + c"
   ]
  },
  {
   "cell_type": "code",
   "execution_count": 16,
   "id": "fad7eed5",
   "metadata": {},
   "outputs": [
    {
     "data": {
      "text/plain": [
       "0.5j"
      ]
     },
     "execution_count": 16,
     "metadata": {},
     "output_type": "execute_result"
    }
   ],
   "source": [
    "z"
   ]
  },
  {
   "cell_type": "code",
   "execution_count": 17,
   "id": "b5b8d225",
   "metadata": {},
   "outputs": [],
   "source": [
    "z = z*z + c"
   ]
  },
  {
   "cell_type": "code",
   "execution_count": 18,
   "id": "7a9d6f52",
   "metadata": {},
   "outputs": [],
   "source": [
    "z = z*z + c"
   ]
  },
  {
   "cell_type": "code",
   "execution_count": 19,
   "id": "ddd67c7d",
   "metadata": {},
   "outputs": [],
   "source": [
    "z = z*z + c"
   ]
  },
  {
   "cell_type": "code",
   "execution_count": 20,
   "id": "bcf179e9",
   "metadata": {},
   "outputs": [
    {
     "data": {
      "text/plain": [
       "(-0.02734375+0.40625j)"
      ]
     },
     "execution_count": 20,
     "metadata": {},
     "output_type": "execute_result"
    }
   ],
   "source": [
    "z"
   ]
  },
  {
   "cell_type": "code",
   "execution_count": 21,
   "id": "35014e81",
   "metadata": {},
   "outputs": [
    {
     "data": {
      "text/plain": [
       "(0.4071691824832308, 1.6380026525772615)"
      ]
     },
     "execution_count": 21,
     "metadata": {},
     "output_type": "execute_result"
    }
   ],
   "source": [
    "import cmath\n",
    "cmath.polar(z)"
   ]
  },
  {
   "cell_type": "code",
   "execution_count": 22,
   "id": "d412a581",
   "metadata": {},
   "outputs": [],
   "source": [
    "z = z*z + c"
   ]
  },
  {
   "cell_type": "code",
   "execution_count": 23,
   "id": "5d8bc4c3",
   "metadata": {},
   "outputs": [],
   "source": [
    "z = z*z + c"
   ]
  },
  {
   "cell_type": "code",
   "execution_count": 24,
   "id": "e5110eb1",
   "metadata": {},
   "outputs": [
    {
     "data": {
      "text/plain": [
       "(-0.2012851310428232+0.3430086746811867j)"
      ]
     },
     "execution_count": 24,
     "metadata": {},
     "output_type": "execute_result"
    }
   ],
   "source": [
    "z"
   ]
  },
  {
   "cell_type": "code",
   "execution_count": 25,
   "id": "b3376c9c",
   "metadata": {},
   "outputs": [],
   "source": [
    "z = z*z + c\n",
    "z = z*z + c\n",
    "z = z*z + c\n",
    "z = z*z + c\n",
    "z = z*z + c\n",
    "z = z*z + c"
   ]
  },
  {
   "cell_type": "code",
   "execution_count": 26,
   "id": "9be53087",
   "metadata": {},
   "outputs": [
    {
     "data": {
      "text/plain": [
       "(-0.1591998890681479+0.4047811883667751j)"
      ]
     },
     "execution_count": 26,
     "metadata": {},
     "output_type": "execute_result"
    }
   ],
   "source": [
    "z"
   ]
  },
  {
   "cell_type": "code",
   "execution_count": null,
   "id": "a38da700",
   "metadata": {},
   "outputs": [],
   "source": []
  }
 ],
 "metadata": {
  "kernelspec": {
   "display_name": "Python 3",
   "language": "python",
   "name": "python3"
  },
  "language_info": {
   "codemirror_mode": {
    "name": "ipython",
    "version": 3
   },
   "file_extension": ".py",
   "mimetype": "text/x-python",
   "name": "python",
   "nbconvert_exporter": "python",
   "pygments_lexer": "ipython3",
   "version": "3.7.9"
  }
 },
 "nbformat": 4,
 "nbformat_minor": 5
}
