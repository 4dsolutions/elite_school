{
 "cells": [
  {
   "cell_type": "markdown",
   "id": "8a7bbdcf",
   "metadata": {},
   "source": [
    "[Home](Home.ipynb)\n",
    "# Fractals as Unicode Art\n",
    "\n",
    "<a data-flickr-embed=\"true\" href=\"https://www.flickr.com/photos/kirbyurner/5635085821/in/photolist-E4nYpb-uovzK9-9zXhG6/\" title=\"ascii_art\"><img src=\"https://live.staticflickr.com/5265/5635085821_22a48498d3_o.png\" width=\"420\" height=\"352\" alt=\"ascii_art\"></a><script async src=\"//embedr.flickr.com/assets/client-code.js\" charset=\"utf-8\"></script>\n",
    "\n",
    "\n",
    "<a data-flickr-embed=\"true\" href=\"https://www.flickr.com/photos/kirbyurner/5646223789/in/photolist-9ARms9-drcjLw-9AWnC2\" title=\"Making Math\"><img src=\"https://live.staticflickr.com/5029/5646223789_2b76020951.jpg\" width=\"500\" height=\"405\" alt=\"Making Math\"></a><script async src=\"//embedr.flickr.com/assets/client-code.js\" charset=\"utf-8\"></script>\n",
    "\n",
    "<a data-flickr-embed=\"true\" href=\"https://www.flickr.com/photos/kirbyurner/51382948431/in/dateposted-public/\" title=\"cropcircle_tractor_output\"><img src=\"https://live.staticflickr.com/65535/51382948431_2743461c15.jpg\" width=\"500\" height=\"387\" alt=\"cropcircle_tractor_output\"></a><script async src=\"//embedr.flickr.com/assets/client-code.js\" charset=\"utf-8\"></script>\n",
    "\n",
    "![CropCircle Fractal](https://i.pinimg.com/736x/ff/65/b8/ff65b8fe9718df08a09c83cfa46948bb--mandelbrot-fractal-crop-circles.jpg)"
   ]
  },
  {
   "cell_type": "code",
   "execution_count": 13,
   "id": "dc07a6ab",
   "metadata": {},
   "outputs": [],
   "source": [
    "c = complex(0, .5)"
   ]
  },
  {
   "cell_type": "code",
   "execution_count": 14,
   "id": "4419fc23",
   "metadata": {},
   "outputs": [],
   "source": [
    "z = complex(0, 0)"
   ]
  },
  {
   "cell_type": "code",
   "execution_count": 15,
   "id": "d9e5a37b",
   "metadata": {},
   "outputs": [],
   "source": [
    "z = z*z + c"
   ]
  },
  {
   "cell_type": "code",
   "execution_count": 16,
   "id": "edf883fc",
   "metadata": {},
   "outputs": [
    {
     "data": {
      "text/plain": [
       "0.5j"
      ]
     },
     "execution_count": 16,
     "metadata": {},
     "output_type": "execute_result"
    }
   ],
   "source": [
    "z"
   ]
  },
  {
   "cell_type": "code",
   "execution_count": 17,
   "id": "ab55a941",
   "metadata": {},
   "outputs": [],
   "source": [
    "z = z*z + c"
   ]
  },
  {
   "cell_type": "code",
   "execution_count": 18,
   "id": "b6add11e",
   "metadata": {},
   "outputs": [],
   "source": [
    "z = z*z + c"
   ]
  },
  {
   "cell_type": "code",
   "execution_count": 19,
   "id": "e0cfbfb0",
   "metadata": {},
   "outputs": [],
   "source": [
    "z = z*z + c"
   ]
  },
  {
   "cell_type": "code",
   "execution_count": 20,
   "id": "b1b9e6a7",
   "metadata": {},
   "outputs": [
    {
     "data": {
      "text/plain": [
       "(-0.02734375+0.40625j)"
      ]
     },
     "execution_count": 20,
     "metadata": {},
     "output_type": "execute_result"
    }
   ],
   "source": [
    "z"
   ]
  },
  {
   "cell_type": "code",
   "execution_count": 21,
   "id": "d55de1c4",
   "metadata": {},
   "outputs": [
    {
     "data": {
      "text/plain": [
       "(0.4071691824832308, 1.6380026525772615)"
      ]
     },
     "execution_count": 21,
     "metadata": {},
     "output_type": "execute_result"
    }
   ],
   "source": [
    "import cmath\n",
    "cmath.polar(z)"
   ]
  },
  {
   "cell_type": "code",
   "execution_count": 22,
   "id": "8aa21ae9",
   "metadata": {},
   "outputs": [],
   "source": [
    "z = z*z + c"
   ]
  },
  {
   "cell_type": "code",
   "execution_count": 23,
   "id": "ce2eee93",
   "metadata": {},
   "outputs": [],
   "source": [
    "z = z*z + c"
   ]
  },
  {
   "cell_type": "code",
   "execution_count": 24,
   "id": "c4040ab6",
   "metadata": {},
   "outputs": [
    {
     "data": {
      "text/plain": [
       "(-0.2012851310428232+0.3430086746811867j)"
      ]
     },
     "execution_count": 24,
     "metadata": {},
     "output_type": "execute_result"
    }
   ],
   "source": [
    "z"
   ]
  },
  {
   "cell_type": "code",
   "execution_count": 25,
   "id": "17253650",
   "metadata": {},
   "outputs": [],
   "source": [
    "z = z*z + c\n",
    "z = z*z + c\n",
    "z = z*z + c\n",
    "z = z*z + c\n",
    "z = z*z + c\n",
    "z = z*z + c"
   ]
  },
  {
   "cell_type": "code",
   "execution_count": 26,
   "id": "9070475f",
   "metadata": {},
   "outputs": [
    {
     "data": {
      "text/plain": [
       "(-0.1591998890681479+0.4047811883667751j)"
      ]
     },
     "execution_count": 26,
     "metadata": {},
     "output_type": "execute_result"
    }
   ],
   "source": [
    "z"
   ]
  },
  {
   "cell_type": "code",
   "execution_count": 27,
   "id": "72410740",
   "metadata": {},
   "outputs": [],
   "source": [
    "# %load tractor_2.py\n",
    "\"\"\"\n",
    "CropCircleTractor\n",
    "\n",
    "Inherits from Tractor with same __next__ based raster pattern,\n",
    "however in this subclass, planting a @ occurs when the underlying\n",
    "complex number in the corresponding plane does not diverge after\n",
    "10 iterations of z = z * z + c.  Creates a file of ASCII art best\n",
    "viewed fixed width font, small font size.\n",
    "\n",
    "EXAMPLE OUTPUT:  https://flic.kr/p/xyNXhN\n",
    "\n",
    "(cl) MIT License 2015 by 4dsolutions.net\n",
    "\"\"\"\n",
    "\n",
    "from tractor_1 import Tractor, Field\n",
    "\n",
    "class CropCircleTractor(Tractor):\n",
    "\n",
    "    def config(self, x_scale, y_scale, x_offset, y_offset):\n",
    "        self.x_scale, self.y_scale = x_scale, y_scale\n",
    "        self.x_offset, self.y_offset = x_offset, y_offset\n",
    "\n",
    "    def __next__(self):\n",
    "        super().__next__()  # updates pos\n",
    "        c = complex((self.col + self.y_offset) * self.y_scale, \n",
    "                    (self.row + self.x_offset) * self.x_scale)\n",
    "        z = complex(0,0)\n",
    "        for _ in range(10):\n",
    "            z = z*z + c\n",
    "        if abs(z) <= 2:\n",
    "            self.plant(\"@\")\n",
    "        return z\n",
    "    \n",
    "    def __iter__(self):\n",
    "        return self\n",
    "\n",
    "if __name__ == \"__main__\":\n",
    "    the_field = Field(100, 250)\n",
    "    the_field.add_tractor(CropCircleTractor)  # initialized as added\n",
    "    the_tractor = the_field.Ts[0] # grab reference to instance\n",
    "    the_tractor.config(.025, .01, -50, -200)\n",
    "    the_tractor.fuel_level = 100 * 250\n",
    "    for z in the_tractor:\n",
    "        if the_tractor.pos == (99, 249):\n",
    "            break\n",
    "    with open(\"mandelbrot.txt\", \"w\") as fractal:\n",
    "        print(the_field, file = fractal)\n",
    "\n"
   ]
  }
 ],
 "metadata": {
  "kernelspec": {
   "display_name": "Python 3",
   "language": "python",
   "name": "python3"
  },
  "language_info": {
   "codemirror_mode": {
    "name": "ipython",
    "version": 3
   },
   "file_extension": ".py",
   "mimetype": "text/x-python",
   "name": "python",
   "nbconvert_exporter": "python",
   "pygments_lexer": "ipython3",
   "version": "3.7.9"
  }
 },
 "nbformat": 4,
 "nbformat_minor": 5
}
