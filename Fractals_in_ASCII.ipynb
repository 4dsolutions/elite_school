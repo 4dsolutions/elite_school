{
 "cells": [
  {
   "cell_type": "markdown",
   "id": "0879435e",
   "metadata": {},
   "source": [
    "[Home](Home.ipynb)\n",
    "# Fractals as ASCII Art\n",
    "\n",
    "<a data-flickr-embed=\"true\" href=\"https://www.flickr.com/photos/kirbyurner/5635085821/in/photolist-E4nYpb-uovzK9-9zXhG6/\" title=\"ascii_art\"><img src=\"https://live.staticflickr.com/5265/5635085821_22a48498d3_o.png\" width=\"420\" height=\"352\" alt=\"ascii_art\"></a><script async src=\"//embedr.flickr.com/assets/client-code.js\" charset=\"utf-8\"></script>\n",
    "\n",
    "\n",
    "<a data-flickr-embed=\"true\" href=\"https://www.flickr.com/photos/kirbyurner/5646223789/in/photolist-9ARms9-drcjLw-9AWnC2\" title=\"Making Math\"><img src=\"https://live.staticflickr.com/5029/5646223789_2b76020951.jpg\" width=\"500\" height=\"405\" alt=\"Making Math\"></a><script async src=\"//embedr.flickr.com/assets/client-code.js\" charset=\"utf-8\"></script>"
   ]
  },
  {
   "cell_type": "code",
   "execution_count": null,
   "id": "2b8bb5d0",
   "metadata": {},
   "outputs": [],
   "source": []
  }
 ],
 "metadata": {
  "kernelspec": {
   "display_name": "Python 3",
   "language": "python",
   "name": "python3"
  },
  "language_info": {
   "codemirror_mode": {
    "name": "ipython",
    "version": 3
   },
   "file_extension": ".py",
   "mimetype": "text/x-python",
   "name": "python",
   "nbconvert_exporter": "python",
   "pygments_lexer": "ipython3",
   "version": "3.7.9"
  }
 },
 "nbformat": 4,
 "nbformat_minor": 5
}
