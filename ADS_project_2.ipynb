{
 "cells": [
  {
   "cell_type": "markdown",
   "id": "f923eee3-338e-4ff4-8d8d-9708209d6bf0",
   "metadata": {},
   "source": [
    "##### Algorithms and Data Structures (Winter - Spring 2022)\n",
    "\n",
    "* [Colab view](https://colab.research.google.com/github/4dsolutions/elite_school/blob/master/ADS_project_1.ipynb)\n",
    "* [nbviewer view](https://nbviewer.org/github/4dsolutions/elite_school/blob/master/ADS_project_1.ipynb)\n",
    "* [ADS Page 1](ADS_intro_1.ipynb)\n",
    "* [ADS Page 2](ADS_intro_2.ipynb)\n",
    "* [ADS_Project_1](ADS_Project_1.ipynb)\n",
    "* [ADS Research 1](ADS_research_1.ipynb)\n",
    "* [ACSL](Exercises.ipynb)\n",
    "* [Repo](https://github.com/4dsolutions/elite_school/)"
   ]
  },
  {
   "cell_type": "markdown",
   "id": "6129486f-2eb4-4f91-98a4-b53139b7bb94",
   "metadata": {},
   "source": [
    "# Space and Time As Data Structures\n",
    "\n",
    "The idea of data structures that come bundled with their own algorithms informs to Object Oriented Paradigm. \n",
    "\n",
    "The idea that types with internal state come with associated behaviors is taken directly from the object world of noun-things with verb-behaviors and adjective or other noun properties, also known as attributes. \n",
    "\n",
    "OO aims to mimic our native grammar and to facilitate reasoning about our programs by extending particular metaphors.\n",
    "\n",
    "By space we might mean mailing addresses, but more likely (x,y) or (x,y,z) coordinate, or latitude and longitude, or other ways of fixing location.  Our \"space\" might be a canvas, where we paint or draw.\n",
    "\n",
    "By time we probably mean something to do with the calendar, with with duration since the beginning of some experiment.  The features or qualities of an object may tend to change over time, and we may use some type of canvas (spatial) to convey those trends.\n",
    "\n",
    "Spatial and temporal go together as concepts.  It's hard to think of one without the other, whereas it's easy to think of them both together."
   ]
  },
  {
   "cell_type": "markdown",
   "id": "2edcd4f6-bdb0-452d-92a0-a92ce11022e4",
   "metadata": {},
   "source": [
    "## Time"
   ]
  },
  {
   "cell_type": "markdown",
   "id": "0389bffa-efe7-4e03-b21a-90d0524bdf82",
   "metadata": {},
   "source": [
    "### Daylight Savings Time\n",
    "\n",
    "There's a lot of inertia behind this practice, of shifting forward and back by one hour, near the solstices.  Even if people decide the practice is more trouble than it's worth, winding it down would require a lot of bureaucratic collaboration.  \n",
    "\n",
    "Spring forward, Fall a back."
   ]
  },
  {
   "cell_type": "markdown",
   "id": "7b505262-0ba0-4012-92c8-19ddcaf02567",
   "metadata": {},
   "source": [
    "Notice the localtime structure below, which looks just like a named tuple."
   ]
  },
  {
   "cell_type": "code",
   "execution_count": 66,
   "id": "a7b29ddd-60ba-466c-bb32-1d5fcb4eac6e",
   "metadata": {},
   "outputs": [
    {
     "data": {
      "text/plain": [
       "time.struct_time(tm_year=2022, tm_mon=3, tm_mday=16, tm_hour=15, tm_min=15, tm_sec=34, tm_wday=2, tm_yday=75, tm_isdst=1)"
      ]
     },
     "execution_count": 66,
     "metadata": {},
     "output_type": "execute_result"
    }
   ],
   "source": [
    "import time\n",
    "tct = the_current_time = time.localtime()\n",
    "tct"
   ]
  },
  {
   "cell_type": "code",
   "execution_count": 67,
   "id": "02ea6189-2f8f-474d-a2c7-27002a0ca8f9",
   "metadata": {},
   "outputs": [
    {
     "data": {
      "text/plain": [
       "time.struct_time"
      ]
     },
     "execution_count": 67,
     "metadata": {},
     "output_type": "execute_result"
    }
   ],
   "source": [
    "type(tct)"
   ]
  },
  {
   "cell_type": "code",
   "execution_count": 68,
   "id": "1f8c83e2-7224-4359-9dd7-f5b6124abb10",
   "metadata": {},
   "outputs": [
    {
     "data": {
      "text/plain": [
       "-25200"
      ]
     },
     "execution_count": 68,
     "metadata": {},
     "output_type": "execute_result"
    }
   ],
   "source": [
    "tct.tm_gmtoff"
   ]
  },
  {
   "cell_type": "code",
   "execution_count": 69,
   "id": "89ea7d5e-77c2-4165-af64-09e2174c0b7f",
   "metadata": {},
   "outputs": [
    {
     "data": {
      "text/plain": [
       "'PDT'"
      ]
     },
     "execution_count": 69,
     "metadata": {},
     "output_type": "execute_result"
    }
   ],
   "source": [
    "tct.tm_zone"
   ]
  },
  {
   "cell_type": "code",
   "execution_count": 70,
   "id": "50888171-35ef-449b-9b53-d6cdf3c769c6",
   "metadata": {},
   "outputs": [
    {
     "data": {
      "text/plain": [
       "1"
      ]
     },
     "execution_count": 70,
     "metadata": {},
     "output_type": "execute_result"
    }
   ],
   "source": [
    "the_current_time.tm_isdst"
   ]
  },
  {
   "cell_type": "markdown",
   "id": "8a12b2e4-b7c6-4829-b752-8e88c6b437b4",
   "metadata": {},
   "source": [
    "How might we create one of these `time.struct_time` objects from scratch, and for some other time than \"right now\"?\n",
    "\n",
    "First, interesting side note:\n",
    "\n",
    "<blockquote>\n",
    "    The epoch is the point where the time starts, and is platform dependent. For Unix, the epoch is January 1, 1970, 00:00:00 (UTC). To find out what the epoch is on a given platform, look at time.gmtime(0).  -- Python docs\n",
    "    </blockquote>\n",
    "    \n",
    "Another side note:  \n",
    "\n",
    "Is another Y2K coming?  (research topic)\n",
    "\n",
    "<blockquote>\n",
    "    The functions in this module may not handle dates and times before the epoch or far in the future. The cut-off point in the future is determined by the C library; for 32-bit systems, it is typically in 2038.\n",
    "</blockquote>"
   ]
  },
  {
   "cell_type": "code",
   "execution_count": 23,
   "id": "d57c40ec-91e1-445a-84ae-3f920630841a",
   "metadata": {},
   "outputs": [
    {
     "data": {
      "text/plain": [
       "'Thu Jan  1 00:00:00 1970'"
      ]
     },
     "execution_count": 23,
     "metadata": {},
     "output_type": "execute_result"
    }
   ],
   "source": [
    "time.asctime(time.gmtime(0))  # the epoch begins (UNIX standard)"
   ]
  },
  {
   "cell_type": "code",
   "execution_count": 78,
   "id": "80698bde-7d0d-4e67-9f15-053cec1f5628",
   "metadata": {},
   "outputs": [
    {
     "data": {
      "text/plain": [
       "'Wed, 16 Mar 2022 22:23:34 +0000 -0800 UTC'"
      ]
     },
     "execution_count": 78,
     "metadata": {},
     "output_type": "execute_result"
    }
   ],
   "source": [
    "time.strftime(\"%a, %d %b %Y %H:%M:%S +0000 %z %Z\", time.gmtime())"
   ]
  },
  {
   "cell_type": "code",
   "execution_count": 43,
   "id": "2a67d13b-be04-48ca-a3b3-74cfd32c7016",
   "metadata": {},
   "outputs": [
    {
     "data": {
      "text/plain": [
       "'Thu Jan  1 00:00:00 1970'"
      ]
     },
     "execution_count": 43,
     "metadata": {},
     "output_type": "execute_result"
    }
   ],
   "source": [
    "time.ctime(28800)  # why this many seconds?  Answer:  because epoch is GMT"
   ]
  },
  {
   "cell_type": "markdown",
   "id": "47136ccd-ef1d-4634-bf9d-76b8030d0357",
   "metadata": {},
   "source": [
    "Back to our main question, the Python docs express some wry humor on the topic:\n",
    "\n",
    "<blockquote>\n",
    "    DST is Daylight Saving Time, an adjustment of the timezone by (usually) one hour during part of the year. DST rules are magic (determined by local law) and can change from year to year. The C library has a table containing the local rules (often it is read from a system file for flexibility) and is the only source of True Wisdom in this respect.\n",
    "</blockquote>"
   ]
  },
  {
   "cell_type": "code",
   "execution_count": 105,
   "id": "5a2278f0-debb-42d4-9639-960a7365ecde",
   "metadata": {},
   "outputs": [
    {
     "data": {
      "text/plain": [
       "time.struct_time(tm_year=2022, tm_mon=3, tm_mday=16, tm_hour=0, tm_min=0, tm_sec=0, tm_wday=2, tm_yday=75, tm_isdst=-1)"
      ]
     },
     "execution_count": 105,
     "metadata": {},
     "output_type": "execute_result"
    }
   ],
   "source": [
    "time.strptime(\"Wed Mar 16 00:00:00 2022\")"
   ]
  },
  {
   "cell_type": "code",
   "execution_count": 54,
   "id": "1d2cb975-b082-4579-989e-c26aa12f2c72",
   "metadata": {},
   "outputs": [
    {
     "name": "stdout",
     "output_type": "stream",
     "text": [
      "Help on built-in function mktime in module time:\n",
      "\n",
      "mktime(...)\n",
      "    mktime(tuple) -> floating point number\n",
      "    \n",
      "    Convert a time tuple in local time to seconds since the Epoch.\n",
      "    Note that mktime(gmtime(0)) will not generally return zero for most\n",
      "    time zones; instead the returned value will either be equal to that\n",
      "    of the timezone or altzone attributes on the time module.\n",
      "\n"
     ]
    }
   ],
   "source": [
    "help(time.mktime)"
   ]
  },
  {
   "cell_type": "code",
   "execution_count": 57,
   "id": "c5021ade-a4cc-44b8-bb7b-46cc21eee77b",
   "metadata": {},
   "outputs": [
    {
     "data": {
      "text/plain": [
       "time.struct_time(tm_year=2022, tm_mon=3, tm_mday=16, tm_hour=0, tm_min=0, tm_sec=0, tm_wday=2, tm_yday=75, tm_isdst=1)"
      ]
     },
     "execution_count": 57,
     "metadata": {},
     "output_type": "execute_result"
    }
   ],
   "source": [
    "time.localtime(time.mktime((2022,3,16,0,0,0,0,0,1)))"
   ]
  },
  {
   "cell_type": "code",
   "execution_count": 106,
   "id": "b006d53b-b333-4ef0-97a7-610f7a5f1d75",
   "metadata": {},
   "outputs": [
    {
     "data": {
      "text/plain": [
       "time.struct_time(tm_year=2022, tm_mon=3, tm_mday=16, tm_hour=0, tm_min=0, tm_sec=0, tm_wday=2, tm_yday=75, tm_isdst=1)"
      ]
     },
     "execution_count": 106,
     "metadata": {},
     "output_type": "execute_result"
    }
   ],
   "source": [
    "from_string = time.strptime(\"Wed Mar 16 00:00:00 2022 -0800 PDT\", \"%a %b %d %H:%M:%S %Y %z %Z\")\n",
    "from_string"
   ]
  },
  {
   "cell_type": "code",
   "execution_count": 107,
   "id": "f62a3ec2-03d6-4b5d-9313-0385172f0b21",
   "metadata": {},
   "outputs": [
    {
     "data": {
      "text/plain": [
       "'PDT'"
      ]
     },
     "execution_count": 107,
     "metadata": {},
     "output_type": "execute_result"
    }
   ],
   "source": [
    "from_string.tm_zone"
   ]
  },
  {
   "cell_type": "code",
   "execution_count": 108,
   "id": "4b8387c6-708a-43ac-9058-bc0ebca76387",
   "metadata": {},
   "outputs": [
    {
     "data": {
      "text/plain": [
       "-28800"
      ]
     },
     "execution_count": 108,
     "metadata": {},
     "output_type": "execute_result"
    }
   ],
   "source": [
    "from_string.tm_gmtoff"
   ]
  },
  {
   "cell_type": "code",
   "execution_count": 109,
   "id": "bc85fb67-e6da-4b4e-9b6c-593f4b6bc50a",
   "metadata": {},
   "outputs": [
    {
     "data": {
      "text/plain": [
       "time.struct_time(tm_year=2022, tm_mon=3, tm_mday=16, tm_hour=15, tm_min=15, tm_sec=34, tm_wday=2, tm_yday=75, tm_isdst=1)"
      ]
     },
     "execution_count": 109,
     "metadata": {},
     "output_type": "execute_result"
    }
   ],
   "source": [
    "tct"
   ]
  },
  {
   "cell_type": "code",
   "execution_count": 110,
   "id": "ca6ebfa9-a937-4273-966d-4e0e0b8dfb9c",
   "metadata": {},
   "outputs": [],
   "source": [
    "import datetime"
   ]
  },
  {
   "cell_type": "code",
   "execution_count": 112,
   "id": "286d2689-baa4-4a18-a34c-614b130c4297",
   "metadata": {},
   "outputs": [
    {
     "data": {
      "text/plain": [
       "datetime.datetime(2022, 3, 16, 15, 52, 2, 791517)"
      ]
     },
     "execution_count": 112,
     "metadata": {},
     "output_type": "execute_result"
    }
   ],
   "source": [
    "today = datetime.datetime.now()\n",
    "today"
   ]
  },
  {
   "cell_type": "markdown",
   "id": "1f6d344e-e378-486a-b05d-26c2592cc538",
   "metadata": {},
   "source": [
    "#### Moving to Numpy\n",
    "\n",
    "Let's find [a tutorial](https://blog.finxter.com/how-to-work-with-dates-and-times-in-python/) and follow it at least part way.  I like how Adam Murphy gets back to basics by explaining the basic rules of  ISO 8601. I also like how he embeds a Replit from Repl.it.\n",
    "\n",
    "This is a useful research workflow:  to curate and either partially or completely follow tutorials.  This tutorial is about using numpy, a 3rd party package.  numpy comes with its own datetime64 type, which is distinct from Python's native datetime.datetime."
   ]
  },
  {
   "cell_type": "code",
   "execution_count": 113,
   "id": "2b00d45a-4ca3-4c92-9186-e4672759b6e1",
   "metadata": {},
   "outputs": [
    {
     "data": {
      "text/plain": [
       "'1.17.3'"
      ]
     },
     "execution_count": 113,
     "metadata": {},
     "output_type": "execute_result"
    }
   ],
   "source": [
    "import numpy as np\n",
    "np.__version__"
   ]
  },
  {
   "cell_type": "code",
   "execution_count": 79,
   "id": "a96d11eb-04ce-416d-b5bf-4711546ce393",
   "metadata": {},
   "outputs": [
    {
     "name": "stdout",
     "output_type": "stream",
     "text": [
      "Number of Days passed since your birthday:\n",
      "16652\n"
     ]
    }
   ],
   "source": [
    "# My Birthday: May 17, 1958\n",
    "birthday = np.datetime64('1958-05-17')\n",
    "today = np.datetime64('2022-03-16')\n",
    "\n",
    "# Business Days passed:\n",
    "passed = np.busday_count(birthday, today)\n",
    "print('Number of Days passed since your birthday:')\n",
    "print(passed)"
   ]
  },
  {
   "cell_type": "code",
   "execution_count": 80,
   "id": "7b2de4ff-d72a-4002-a524-2a4b63451e9f",
   "metadata": {},
   "outputs": [
    {
     "name": "stdout",
     "output_type": "stream",
     "text": [
      "2000\n",
      "2000-11\n",
      "2000-11-22\n",
      "2000-11-22T16:22:44\n"
     ]
    }
   ],
   "source": [
    "# 2000\n",
    "print(np.datetime64('2000'))\n",
    " \n",
    "# November 2000\n",
    "print(np.datetime64('2000-11'))\n",
    " \n",
    "# 22nd November 2000p\n",
    "print(np.datetime64('2000-11-22'))\n",
    " \n",
    "# 7th June 1987 at 16:22:44 (twenty two minutes past four in the afternoon and forty four seconds)\n",
    "print(np.datetime64('2000-11-22 16:22:44'))"
   ]
  },
  {
   "cell_type": "markdown",
   "id": "5a74b743-c52a-4c88-9315-7695d71dcbbf",
   "metadata": {},
   "source": [
    "How many seconds are there between 1st March 2019 at 1 pm and 4th March 2019 at 2 am exactly? 219,600s"
   ]
  },
  {
   "cell_type": "code",
   "execution_count": 81,
   "id": "6f799064-dc30-4d14-8010-67349853a0ae",
   "metadata": {
    "jp-MarkdownHeadingCollapsed": true,
    "tags": []
   },
   "outputs": [
    {
     "data": {
      "text/plain": [
       "numpy.timedelta64(219600,'s')"
      ]
     },
     "execution_count": 81,
     "metadata": {},
     "output_type": "execute_result"
    }
   ],
   "source": [
    "# Subtract both dates written with time unit 's'\n",
    "result = np.datetime64('2019-03-04 02:00:00') - np.datetime64('2019-03-01 13:00:00')\n",
    "result"
   ]
  },
  {
   "cell_type": "code",
   "execution_count": 83,
   "id": "a21bcd93-66b3-4c1c-a5a4-f28996964f5f",
   "metadata": {},
   "outputs": [
    {
     "data": {
      "text/plain": [
       "numpy.datetime64('2019-05-17')"
      ]
     },
     "execution_count": 83,
     "metadata": {},
     "output_type": "execute_result"
    }
   ],
   "source": [
    "# Closest business day back in time is Friday 17th May 2019\n",
    "sat_may_18 = np.datetime64('2019-05-18')  # a Saturday\n",
    "np.busday_offset(sat_may_18, 0, roll='backward')"
   ]
  },
  {
   "cell_type": "code",
   "execution_count": 89,
   "id": "33e2d906-cc16-45eb-becd-5da33b653bf8",
   "metadata": {},
   "outputs": [
    {
     "data": {
      "text/plain": [
       "array(['2022-03-01', '2022-03-02', '2022-03-03', '2022-03-04',\n",
       "       '2022-03-05', '2022-03-06', '2022-03-07', '2022-03-08',\n",
       "       '2022-03-09', '2022-03-10'], dtype='datetime64[D]')"
      ]
     },
     "execution_count": 89,
     "metadata": {},
     "output_type": "execute_result"
    }
   ],
   "source": [
    "days_of_march = np.arange('2022-03-01', '2022-04-01', dtype='datetime64[D]')\n",
    "days_of_march[:10]"
   ]
  },
  {
   "cell_type": "code",
   "execution_count": 142,
   "id": "3b97f9a6-de4a-4989-a246-1bb5f3c017dc",
   "metadata": {},
   "outputs": [
    {
     "data": {
      "text/plain": [
       "array(['2022-02-24', '2022-03-03', '2022-03-10', '2022-03-17',\n",
       "       '2022-03-24'], dtype='datetime64[W]')"
      ]
     },
     "execution_count": 142,
     "metadata": {},
     "output_type": "execute_result"
    }
   ],
   "source": [
    "weeks_of_march = np.arange('2022-03-01', '2022-03-31', dtype='datetime64[W]')\n",
    "weeks_of_march"
   ]
  },
  {
   "cell_type": "code",
   "execution_count": 133,
   "id": "c794679b-91e3-4197-ab9b-d68bc452e1cd",
   "metadata": {},
   "outputs": [
    {
     "data": {
      "text/plain": [
       "numpy.datetime64"
      ]
     },
     "execution_count": 133,
     "metadata": {},
     "output_type": "execute_result"
    }
   ],
   "source": [
    "type(weeks_of_march[1])"
   ]
  },
  {
   "cell_type": "code",
   "execution_count": 134,
   "id": "82991791-6b67-4388-8844-577c0ed8b1ae",
   "metadata": {},
   "outputs": [
    {
     "data": {
      "text/plain": [
       "datetime.date(2022, 2, 24)"
      ]
     },
     "execution_count": 134,
     "metadata": {},
     "output_type": "execute_result"
    }
   ],
   "source": [
    "weeks_of_march[1].astype(datetime.datetime)"
   ]
  },
  {
   "cell_type": "code",
   "execution_count": 143,
   "id": "e8c552dd-79bc-4c8b-8f9c-6f54d2112270",
   "metadata": {},
   "outputs": [
    {
     "name": "stdout",
     "output_type": "stream",
     "text": [
      "3\n",
      "3\n",
      "3\n",
      "3\n",
      "3\n"
     ]
    }
   ],
   "source": [
    "for day in weeks_of_march:\n",
    "   print(day.astype(datetime.datetime).weekday()) # Monday 0... Sunday 6"
   ]
  },
  {
   "cell_type": "code",
   "execution_count": 144,
   "id": "dcb88882-a388-4d4e-8e5a-8b8328aae6c7",
   "metadata": {},
   "outputs": [
    {
     "name": "stdout",
     "output_type": "stream",
     "text": [
      "4\n",
      "4\n",
      "4\n",
      "4\n",
      "4\n"
     ]
    }
   ],
   "source": [
    "for day in weeks_of_march:\n",
    "   print(day.astype(datetime.datetime).isoweekday()) # Monday 0... Sunday 6"
   ]
  }
 ],
 "metadata": {
  "kernelspec": {
   "display_name": "Python 3 (ipykernel)",
   "language": "python",
   "name": "python3"
  },
  "language_info": {
   "codemirror_mode": {
    "name": "ipython",
    "version": 3
   },
   "file_extension": ".py",
   "mimetype": "text/x-python",
   "name": "python",
   "nbconvert_exporter": "python",
   "pygments_lexer": "ipython3",
   "version": "3.7.9"
  }
 },
 "nbformat": 4,
 "nbformat_minor": 5
}
