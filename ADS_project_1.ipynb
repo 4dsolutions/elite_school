{
 "cells": [
  {
   "cell_type": "markdown",
   "id": "2b318d6c-cf70-44a2-bc2f-a83bff10465c",
   "metadata": {},
   "source": [
    "##### Algorithms and Data Structures (Winter - Spring 2022)\n",
    "\n",
    "* [Colab view](https://colab.research.google.com/github/4dsolutions/elite_school/blob/master/ADS_project_1.ipynb)\n",
    "* [nbviewer view](https://nbviewer.org/github/4dsolutions/elite_school/blob/master/ADS_project_1.ipynb)\n",
    "* [ADS Page 1](ADS_intro_1.ipynb)\n",
    "* [ADS Page 2](ADS_intro_2.ipynb)\n",
    "* [ACSL](Exercises.ipynb)\n",
    "* [Repo](https://github.com/4dsolutions/elite_school/)"
   ]
  },
  {
   "cell_type": "markdown",
   "id": "c84dd0dd-8244-4cc8-aa81-0c0faf2d3fc7",
   "metadata": {},
   "source": [
    "# A Final Project\n",
    "\n",
    "<a data-flickr-embed=\"true\" href=\"https://www.flickr.com/photos/kirbyurner/51694028948/in/album-72157720157993759/\" title=\"P1310648\"><img src=\"https://live.staticflickr.com/65535/51694028948_23279e0f60.jpg\" width=\"500\" height=\"375\" alt=\"P1310648\"></a><script async src=\"//embedr.flickr.com/assets/client-code.js\" charset=\"utf-8\"></script>\n",
    "\n",
    "\n",
    "![XKCD: Control Group](https://imgs.xkcd.com/comics/control_group.png)\n",
    "\n",
    "A newly popular game app, and quite a simple one, is [Wordle](https://www.xda-developers.com/how-to-play-wordle/).  As a game, it traces to Jotto and Mastermind.\n",
    "\n",
    "\"I'm thinking of a five-letter word.  Make a guess, that itself has to be a recognized five-letter word and I will tell you:\n",
    "\n",
    "* C: if your letter is correctly placed\n",
    "* P: if your letter is in the answer, but is incorrectly placed\n",
    "* N: if your letter is nowhere in the answer\n",
    "\n",
    "You have five guesses at most.  Ready?\"\n",
    "\n",
    "That's the final version of the game.  \n",
    "\n",
    "However, we're going to start, not with five-letter words, but with five-digit numbers.  The rules remain the same, except yo have infinite guesses.\n",
    "\n",
    "<pre>\n",
    "What is your guess? > 89811\n",
    "answer   : 88976\n",
    "guess    : 89811\n",
    "clue     : CPPNN\n",
    "\n",
    "What is your guess? > 76889\n",
    "answer   : 88976\n",
    "guess    : 76889\n",
    "clue     : PPPPP\n",
    "\n",
    "What is your guess? > 88976\n",
    "answer   : 88976\n",
    "guess    : 88976\n",
    "clue     : CCCCC\n",
    "You win!\n",
    "</pre>"
   ]
  },
  {
   "cell_type": "markdown",
   "id": "6eaa0dc1-a5bd-4985-be85-f9944e88344e",
   "metadata": {},
   "source": [
    "In the actual game, you would not see the answer.  Your job is to guess the answer based on clues, using the following key:\n",
    "\n",
    "* C = Correct position\n",
    "* P = Correct letter, wrong position\n",
    "* N = Incorrect letter\n",
    "\n",
    "However straightforward these rules might seem, some subtle points are worth making.\n",
    "\n",
    "Once a digit in the guess gets a C or P, the corresponding digit in the answer is has been \"matched\" and cannot be matched again.  \n",
    "\n",
    "For example, if the answer is \"08180\" and the guess is \"88822\", then the clue string is \"PCNNN\".  \n",
    "\n",
    "The 3rd 8 didn't count, and registered an N (meaning \"not in the answer\"), because the only two 8s in the answer had already been matched to 8s in the guess.  \n",
    "\n",
    "There is no 3rd 8 to talk about, so that 8 gets an N.\n",
    "\n",
    "<pre>\n",
    "What is your guess? > 88822\n",
    "answer   : 08180\n",
    "guess    : 88822\n",
    "clue     : PCNNN\n",
    "\n",
    "What is your guess? > 08080\n",
    "answer   : 08180\n",
    "guess    : 08080\n",
    "clue     : CCNCC\n",
    "\n",
    "What is your guess? > 08180\n",
    "answer   : 08180\n",
    "guess    : 08180\n",
    "clue     : CCCCC\n",
    "You win!\n",
    "</pre>"
   ]
  },
  {
   "cell_type": "markdown",
   "id": "23a7897f-c8fc-4eef-bcbb-ca52225b7c9b",
   "metadata": {},
   "source": [
    "How might we convert this game into something to test in a contest?  \n",
    "\n",
    "The point is not to see who plays the best, but to see who has an algorithm that correctly evaluates a guess relative to an answer, and provides the right clues.\n",
    "\n",
    "An input file could provide two columns:  answer, guess. The corresponding output file repeats the answer and guess for clarity, then adds a 3rd column: the clue.  \n",
    "\n",
    "This input file would be a test file, against which to test your algorithm.  \n",
    "\n",
    "If your output file matches the one given, exactly, then you're ready to evaluate the actual final contest file.  \n",
    "\n",
    "The judges will keep the final output file secret and compare your results to theirs."
   ]
  },
  {
   "cell_type": "markdown",
   "id": "a922ca41-b4a8-4129-8037-bdde8ecbb992",
   "metadata": {},
   "source": [
    "Input (mmind_input.txt):\n",
    "\n",
    "<pre>\n",
    "88976 91829\n",
    "88976 91416\n",
    "88976 84372\n",
    "88976 70392\n",
    "88976 83324\n",
    "88976 53681\n",
    "88976 79288\n",
    "88976 30714\n",
    "88976 35122\n",
    "88976 46093\n",
    "</pre>\n",
    "\n",
    "Output (mmind_output.txt):\n",
    "\n",
    "<pre>\n",
    "88976 91829 PNPNN\n",
    "88976 91416 PNNNC\n",
    "88976 84372 CNNCN\n",
    "88976 70392 PNNPN\n",
    "88976 83324 CNNNN\n",
    "88976 53681 NNPPN\n",
    "88976 79288 PPNPP\n",
    "88976 30714 NNPNN\n",
    "88976 35122 NNNNN\n",
    "88976 46093 NPNPN\n",
    "</pre>"
   ]
  },
  {
   "cell_type": "markdown",
   "id": "9a6a35ad-5cd8-47f4-83a0-002a29941396",
   "metadata": {},
   "source": [
    "Let's get to work!\n",
    "\n",
    "Here's some code to get you started. \n",
    "\n",
    "```python\n",
    "\n",
    "def words_play(answer = \"BLING\", show_answer = True):\n",
    "    \n",
    "    while True:\n",
    "        \n",
    "        guess = input(\"What is your guess? > \")\n",
    "        if guess.upper().strip() == \"Q\":\n",
    "            print(\"Come again!\")\n",
    "            break\n",
    "        \n",
    "        if not guess.isalpha() or len(guess) != 5:\n",
    "            print(\"Five letters please\")\n",
    "            continue\n",
    "    \n",
    "        clue = evaluate(answer, guess)\n",
    "    \n",
    "        if show_answer:\n",
    "            print(\"answer   :\", answer)\n",
    "        print(\"guess    :\", guess)\n",
    "        print(\"clue     :\", clue)\n",
    "        \n",
    "        if clue == \"CCCCC\":\n",
    "            print(\"You win!\")\n",
    "            break\n",
    "            \n",
    "    \n",
    "```\n",
    "\n",
    "This code will set up a game loop for a human player.  However the ```evaluate``` function has been left up to you. You may use this loop as a framework for testing your function.\n",
    "\n",
    "\n",
    "<a data-flickr-embed=\"true\" href=\"https://www.flickr.com/photos/kirbyurner/51842977293/in/dateposted-public/\" title=\"wordle_at_work\"><img src=\"https://live.staticflickr.com/65535/51842977293_1be5701a97_c.jpg\" width=\"800\" height=\"592\" alt=\"wordle_at_work\"></a><script async src=\"//embedr.flickr.com/assets/client-code.js\" charset=\"utf-8\"></script>\n",
    "\n",
    "\n",
    "When addressing the contest challenge, you should use the very same ```evaluate``` function to create your ```final_output.txt``` from ```contest_input.txt```."
   ]
  },
  {
   "cell_type": "markdown",
   "id": "60683ce8-ebda-43df-9843-a3805f26b3ea",
   "metadata": {},
   "source": [
    "## Getting Fancy\n",
    "\n",
    "Guessing five digit strings is maybe not as fun as guessing words.  \n",
    "\n",
    "Now that you have the logic for generating clues, switching from 0-9 to a-z should be trivial.  Almost no code should need to change.\n",
    "\n",
    "But where do we get a list of all five-letter words?  That depends on the language of course.  In the case of English, [here's a source on Github](https://github.com/charlesreid1/five-letter-words/).\n",
    "\n",
    "Do you want to code a GUI (Graphical User Interface).  Consider Tkinter (for controlling Tk) or [wxPython](https://wxpython.org/pages/screenshots/) (for controlling wxWidgets).  Here's a short tutorial on building a Tkinter application."
   ]
  },
  {
   "cell_type": "code",
   "execution_count": null,
   "id": "39141497-073f-45be-9415-57c7559a825a",
   "metadata": {},
   "outputs": [],
   "source": [
    "from IPython.display import YouTubeVideo\n",
    "YouTubeVideo(\"itRLRfuL_PQ\")"
   ]
  },
  {
   "cell_type": "code",
   "execution_count": null,
   "id": "6635cbac-03b5-43bf-87b1-76f2d86832cb",
   "metadata": {},
   "outputs": [],
   "source": [
    "YouTubeVideo(\"9M1oDT_JLJk\")"
   ]
  },
  {
   "cell_type": "code",
   "execution_count": 45,
   "id": "18699e0c-6b1e-4b8b-aefe-428238cc20b8",
   "metadata": {},
   "outputs": [
    {
     "name": "stdout",
     "output_type": "stream",
     "text": [
      "200\n",
      "n\n",
      "speed\n",
      "women\n",
      "metal\n",
      "south\n",
      "grass\n",
      "scale\n",
      "cells\n",
      "lower\n",
      "sleep\n",
      "wrong\n",
      "pages\n",
      "ships\n",
      "needs\n",
      "rocks\n",
      "eight\n",
      "major\n",
      "leve\n"
     ]
    }
   ],
   "source": [
    "import requests, random\n",
    "response = requests.get(\"https://www-cs-faculty.stanford.edu/~knuth/sgb-words.txt\")\n",
    "print(response.status_code)\n",
    "# words\n",
    "print((response.text[1000:1102]))"
   ]
  },
  {
   "cell_type": "code",
   "execution_count": 46,
   "id": "e497cce9-6a31-4de7-b015-c3db74d03693",
   "metadata": {},
   "outputs": [
    {
     "data": {
      "text/plain": [
       "True"
      ]
     },
     "execution_count": 46,
     "metadata": {},
     "output_type": "execute_result"
    }
   ],
   "source": [
    "words = response.text.split(\"\\n\")\n",
    "\"ships\" in words"
   ]
  },
  {
   "cell_type": "code",
   "execution_count": 47,
   "id": "c6de43c7-f488-44b3-9118-13d946fb7e2a",
   "metadata": {},
   "outputs": [
    {
     "data": {
      "text/plain": [
       "5758"
      ]
     },
     "execution_count": 47,
     "metadata": {},
     "output_type": "execute_result"
    }
   ],
   "source": [
    "len(words)"
   ]
  },
  {
   "cell_type": "code",
   "execution_count": 51,
   "id": "c259f75e-ce57-4488-a10e-91d7be7a8fb7",
   "metadata": {},
   "outputs": [
    {
     "name": "stdout",
     "output_type": "stream",
     "text": [
      "-rw-r--r--  1 mac  34542 Feb 27 14:54 wordkeep.txt\n"
     ]
    }
   ],
   "source": [
    "! ls -o wordkeep.txt"
   ]
  },
  {
   "cell_type": "code",
   "execution_count": 52,
   "id": "6596d5f9-2419-43a7-856c-100747f4fdee",
   "metadata": {},
   "outputs": [],
   "source": [
    "with open(\"wordkeep.txt\", \"w\") as fileobj:\n",
    "    fileobj.write(response.text)"
   ]
  },
  {
   "cell_type": "code",
   "execution_count": 53,
   "id": "7b20d793-dd66-41a9-b9c5-85ef4d17a13d",
   "metadata": {},
   "outputs": [],
   "source": [
    "answer = random.choice(words)"
   ]
  },
  {
   "cell_type": "code",
   "execution_count": 60,
   "id": "4c76f428-c999-47c2-b687-27dd4e7ccb26",
   "metadata": {},
   "outputs": [
    {
     "data": {
      "text/plain": [
       "<module 'wordle' from '/Users/mac/Documents/elite_school/wordle.py'>"
      ]
     },
     "execution_count": 60,
     "metadata": {},
     "output_type": "execute_result"
    }
   ],
   "source": [
    "import wordle\n",
    "import imp; imp.reload(wordle)"
   ]
  },
  {
   "cell_type": "code",
   "execution_count": 54,
   "id": "00b7625c-76c4-4243-893f-8b5fc3dc8d20",
   "metadata": {},
   "outputs": [
    {
     "name": "stdin",
     "output_type": "stream",
     "text": [
      "What is your guess? >  HOWLS\n"
     ]
    },
    {
     "name": "stdout",
     "output_type": "stream",
     "text": [
      "guess    : HOWLS\n",
      "clue     : NNNNC\n"
     ]
    },
    {
     "name": "stdin",
     "output_type": "stream",
     "text": [
      "What is your guess? >  FRIES\n"
     ]
    },
    {
     "name": "stdout",
     "output_type": "stream",
     "text": [
      "guess    : FRIES\n",
      "clue     : NNNPC\n"
     ]
    },
    {
     "name": "stdin",
     "output_type": "stream",
     "text": [
      "What is your guess? >  TEAMS\n"
     ]
    },
    {
     "name": "stdout",
     "output_type": "stream",
     "text": [
      "guess    : TEAMS\n",
      "clue     : CCNNC\n"
     ]
    },
    {
     "name": "stdin",
     "output_type": "stream",
     "text": [
      "What is your guess? >  TENTS\n"
     ]
    },
    {
     "name": "stdout",
     "output_type": "stream",
     "text": [
      "guess    : TENTS\n",
      "clue     : CCPNC\n"
     ]
    },
    {
     "name": "stdin",
     "output_type": "stream",
     "text": [
      "What is your guess? >  TEENS\n"
     ]
    },
    {
     "name": "stdout",
     "output_type": "stream",
     "text": [
      "guess    : TEENS\n",
      "clue     : CCCCC\n",
      "You win!\n",
      "See you soon!\n",
      "\n"
     ]
    }
   ],
   "source": [
    "wordle.words_play(answer, show_answer=False)"
   ]
  },
  {
   "cell_type": "code",
   "execution_count": 37,
   "id": "fb2abdf7-b668-425e-ac17-1075a5fd6225",
   "metadata": {},
   "outputs": [
    {
     "data": {
      "text/plain": [
       "'toque'"
      ]
     },
     "execution_count": 37,
     "metadata": {},
     "output_type": "execute_result"
    }
   ],
   "source": [
    "answer"
   ]
  },
  {
   "cell_type": "code",
   "execution_count": 25,
   "id": "5cfa3088-6049-4f3d-a2fc-c9850bb59c26",
   "metadata": {},
   "outputs": [
    {
     "name": "stdout",
     "output_type": "stream",
     "text": [
      "\n",
      "amaze\n",
      "bolas\n",
      "knows\n",
      "cuspy\n",
      "abash\n",
      "tango\n",
      "gauge\n",
      "codex\n",
      "byway\n",
      "bushy\n",
      "logos\n",
      "shove\n",
      "murks\n",
      "abaca\n",
      "caked\n",
      "dinar\n",
      "dicky\n",
      "noire\n",
      "kiosk\n",
      "cowed\n",
      "chink\n"
     ]
    }
   ],
   "source": [
    "c = 0\n",
    "for word in words:\n",
    "    print(word)\n",
    "    if c > 20:\n",
    "        break\n",
    "    c += 1"
   ]
  },
  {
   "cell_type": "code",
   "execution_count": 61,
   "id": "1980b034-33e6-48a6-8260-db83d6d58ce8",
   "metadata": {},
   "outputs": [],
   "source": [
    "import five_land"
   ]
  },
  {
   "cell_type": "code",
   "execution_count": 66,
   "id": "c8a15cd7-f0be-4a5d-8516-8826e83ec01b",
   "metadata": {},
   "outputs": [],
   "source": [
    "# %load five_land.py\n",
    "#!/usr/bin/env python3\n",
    "\"\"\"\n",
    "Created on Sun Feb 27 15:25:48 2022\n",
    "\n",
    "@author: Kirby Urner\n",
    "\"\"\"\n",
    "\n",
    "words = set()\n",
    "\n",
    "from string import ascii_lowercase\n",
    "def initialize():\n",
    "    global words\n",
    "    if not words:\n",
    "        with open(\"wordkeep.txt\", \"r\") as fileobj:\n",
    "            words = set(fileobj.read().split(\"\\n\"))\n",
    "            \n",
    "def roll_alpha(the_word):\n",
    "    fish = set()\n",
    "    fish.add(the_word)\n",
    "    stone = list(the_word)\n",
    "    for i in range(len(the_word)):\n",
    "        for letter in ascii_lowercase:\n",
    "            listy = stone.copy()\n",
    "            listy[i] = letter\n",
    "            candidate = \"\".join(listy)\n",
    "            if candidate in words:\n",
    "                fish.add(candidate)\n",
    "\n",
    "    fish.remove(the_word)\n",
    "    return fish\n",
    "\n",
    "def fish_pond(pond):\n",
    "    bigger_pond = set()\n",
    "    for fish in pond:\n",
    "        kin = roll_alpha(fish)\n",
    "        bigger_pond.update(kin)\n",
    "    return bigger_pond\n",
    "\n",
    "def word_path(start_word):\n",
    "    visited = set(start_word)\n",
    "    last_word = start_word\n",
    "    while True:\n",
    "        next_words = roll_alpha(last_word)\n",
    "        while next_words:\n",
    "            word = next_words.pop()\n",
    "            if word not in visited:\n",
    "                visited.add(word)\n",
    "                last_word = word\n",
    "                yield word\n",
    "        else:\n",
    "            break\n",
    "    print(\"path ended\")\n",
    "    return\n",
    "\n",
    "if __name__ == \"__main__\":\n",
    "    words = \"\"\n",
    "    initialize()"
   ]
  },
  {
   "cell_type": "code",
   "execution_count": 67,
   "id": "fe4fe74c-0899-403b-8b26-51a060664abe",
   "metadata": {},
   "outputs": [
    {
     "data": {
      "text/plain": [
       "{'baked',\n",
       " 'caged',\n",
       " 'cakes',\n",
       " 'caned',\n",
       " 'caped',\n",
       " 'cared',\n",
       " 'cased',\n",
       " 'caved',\n",
       " 'cawed',\n",
       " 'coked',\n",
       " 'faked',\n",
       " 'naked',\n",
       " 'raked',\n",
       " 'waked'}"
      ]
     },
     "execution_count": 67,
     "metadata": {},
     "output_type": "execute_result"
    }
   ],
   "source": [
    "roll_alpha('caked')"
   ]
  },
  {
   "cell_type": "code",
   "execution_count": 58,
   "id": "28d95e1f-328e-484d-9c6f-a198a7b7083b",
   "metadata": {},
   "outputs": [],
   "source": [
    "words = {}"
   ]
  },
  {
   "cell_type": "code",
   "execution_count": 68,
   "id": "11478eb7-7082-41fe-b0f1-b682f13a33a4",
   "metadata": {},
   "outputs": [],
   "source": [
    "p = roll_alpha('caked')"
   ]
  },
  {
   "cell_type": "code",
   "execution_count": 69,
   "id": "c1f99492-8465-4d0a-9b75-646f3e665f2a",
   "metadata": {},
   "outputs": [
    {
     "data": {
      "text/plain": [
       "{'baked',\n",
       " 'caged',\n",
       " 'cakes',\n",
       " 'caned',\n",
       " 'caped',\n",
       " 'cared',\n",
       " 'cased',\n",
       " 'caved',\n",
       " 'cawed',\n",
       " 'coked',\n",
       " 'faked',\n",
       " 'naked',\n",
       " 'raked',\n",
       " 'waked'}"
      ]
     },
     "execution_count": 69,
     "metadata": {},
     "output_type": "execute_result"
    }
   ],
   "source": [
    "p"
   ]
  },
  {
   "cell_type": "code",
   "execution_count": 70,
   "id": "10ceb0b6-5226-4b0c-bf13-47c12e83c115",
   "metadata": {},
   "outputs": [],
   "source": [
    "p = fish_pond(p)"
   ]
  },
  {
   "cell_type": "code",
   "execution_count": 71,
   "id": "290d0021-de31-4752-aa2c-45acd29c5c1c",
   "metadata": {},
   "outputs": [
    {
     "data": {
      "text/plain": [
       "{'baked',\n",
       " 'baker',\n",
       " 'bakes',\n",
       " 'baled',\n",
       " 'bared',\n",
       " 'based',\n",
       " 'bated',\n",
       " 'bayed',\n",
       " 'biked',\n",
       " 'cafes',\n",
       " 'caged',\n",
       " 'cager',\n",
       " 'cages',\n",
       " 'cagey',\n",
       " 'caked',\n",
       " 'caned',\n",
       " 'caner',\n",
       " 'canes',\n",
       " 'caped',\n",
       " 'caper',\n",
       " 'capes',\n",
       " 'cared',\n",
       " 'carer',\n",
       " 'cares',\n",
       " 'caret',\n",
       " 'cased',\n",
       " 'cases',\n",
       " 'caved',\n",
       " 'caves',\n",
       " 'cawed',\n",
       " 'coded',\n",
       " 'cokes',\n",
       " 'coned',\n",
       " 'cooed',\n",
       " 'coped',\n",
       " 'cored',\n",
       " 'cowed',\n",
       " 'coxed',\n",
       " 'cukes',\n",
       " 'cured',\n",
       " 'dared',\n",
       " 'eared',\n",
       " 'eased',\n",
       " 'faced',\n",
       " 'faded',\n",
       " 'faked',\n",
       " 'faker',\n",
       " 'fakes',\n",
       " 'famed',\n",
       " 'fared',\n",
       " 'fated',\n",
       " 'faxed',\n",
       " 'fazed',\n",
       " 'gaped',\n",
       " 'hawed',\n",
       " 'jakes',\n",
       " 'jawed',\n",
       " 'joked',\n",
       " 'lakes',\n",
       " 'lased',\n",
       " 'laved',\n",
       " 'makes',\n",
       " 'maned',\n",
       " 'naked',\n",
       " 'named',\n",
       " 'nuked',\n",
       " 'oared',\n",
       " 'paged',\n",
       " 'paned',\n",
       " 'pared',\n",
       " 'paved',\n",
       " 'pawed',\n",
       " 'poked',\n",
       " 'raced',\n",
       " 'raged',\n",
       " 'raked',\n",
       " 'raker',\n",
       " 'rakes',\n",
       " 'raped',\n",
       " 'rated',\n",
       " 'raved',\n",
       " 'rayed',\n",
       " 'razed',\n",
       " 'sakes',\n",
       " 'saved',\n",
       " 'sawed',\n",
       " 'takes',\n",
       " 'taped',\n",
       " 'tared',\n",
       " 'toked',\n",
       " 'vaned',\n",
       " 'waded',\n",
       " 'waged',\n",
       " 'waked',\n",
       " 'waken',\n",
       " 'waker',\n",
       " 'wakes',\n",
       " 'waled',\n",
       " 'waned',\n",
       " 'waved',\n",
       " 'waxed',\n",
       " 'yawed',\n",
       " 'yoked'}"
      ]
     },
     "execution_count": 71,
     "metadata": {},
     "output_type": "execute_result"
    }
   ],
   "source": [
    "p"
   ]
  },
  {
   "cell_type": "code",
   "execution_count": 72,
   "id": "903a3662-0fbf-45c3-b472-2e445a3f6c13",
   "metadata": {},
   "outputs": [
    {
     "data": {
      "text/plain": [
       "103"
      ]
     },
     "execution_count": 72,
     "metadata": {},
     "output_type": "execute_result"
    }
   ],
   "source": [
    "len(p)"
   ]
  },
  {
   "cell_type": "code",
   "execution_count": 73,
   "id": "d3f9045e-ce8c-42de-a5ce-8740b5851aa9",
   "metadata": {},
   "outputs": [],
   "source": [
    "p = fish_pond(p)"
   ]
  },
  {
   "cell_type": "code",
   "execution_count": 74,
   "id": "dcef3d3f-23be-4f9f-8337-a39ade29b567",
   "metadata": {},
   "outputs": [
    {
     "data": {
      "text/plain": [
       "366"
      ]
     },
     "execution_count": 74,
     "metadata": {},
     "output_type": "execute_result"
    }
   ],
   "source": [
    "len(p)"
   ]
  },
  {
   "cell_type": "code",
   "execution_count": 75,
   "id": "d3d5914e-b021-45a9-bc59-d5c0015abdf2",
   "metadata": {},
   "outputs": [],
   "source": [
    "p = fish_pond(p)"
   ]
  },
  {
   "cell_type": "code",
   "execution_count": 76,
   "id": "cc13ae59-38de-4a5f-8f48-81fe614b49b9",
   "metadata": {},
   "outputs": [
    {
     "data": {
      "text/plain": [
       "816"
      ]
     },
     "execution_count": 76,
     "metadata": {},
     "output_type": "execute_result"
    }
   ],
   "source": []
  },
  {
   "cell_type": "code",
   "execution_count": 115,
   "id": "a27a1d29-3313-45f0-8688-447f52b09404",
   "metadata": {},
   "outputs": [],
   "source": [
    "p = fish_pond(p)"
   ]
  },
  {
   "cell_type": "code",
   "execution_count": 116,
   "id": "0aa2e8ad-d9cb-4882-97c3-ac8247052525",
   "metadata": {},
   "outputs": [
    {
     "data": {
      "text/plain": [
       "4493"
      ]
     },
     "execution_count": 116,
     "metadata": {},
     "output_type": "execute_result"
    }
   ],
   "source": [
    "len(p)"
   ]
  },
  {
   "cell_type": "code",
   "execution_count": 117,
   "id": "db3dac91-ae09-4a2d-8a37-24745cdf3956",
   "metadata": {},
   "outputs": [
    {
     "data": {
      "text/plain": [
       "set"
      ]
     },
     "execution_count": 117,
     "metadata": {},
     "output_type": "execute_result"
    }
   ],
   "source": [
    "type(words)"
   ]
  },
  {
   "cell_type": "code",
   "execution_count": 118,
   "id": "a0443b27-3b6e-4dbd-b4d9-9e76e97fc87d",
   "metadata": {},
   "outputs": [
    {
     "data": {
      "text/plain": [
       "set"
      ]
     },
     "execution_count": 118,
     "metadata": {},
     "output_type": "execute_result"
    }
   ],
   "source": [
    "type(p)"
   ]
  },
  {
   "cell_type": "code",
   "execution_count": 151,
   "id": "3431619a-1246-461a-ba9c-0f079adad957",
   "metadata": {},
   "outputs": [
    {
     "data": {
      "text/plain": [
       "set()"
      ]
     },
     "execution_count": 151,
     "metadata": {},
     "output_type": "execute_result"
    }
   ],
   "source": [
    "roll_alpha('spasm')"
   ]
  },
  {
   "cell_type": "code",
   "execution_count": 124,
   "id": "ef91a597-a13d-487d-9a9e-68391727f217",
   "metadata": {},
   "outputs": [
    {
     "data": {
      "text/plain": [
       "5758"
      ]
     },
     "execution_count": 124,
     "metadata": {},
     "output_type": "execute_result"
    }
   ],
   "source": [
    "len(words)"
   ]
  },
  {
   "cell_type": "code",
   "execution_count": 143,
   "id": "2d96a9a0-e18e-4276-82ec-ab4783ad60ed",
   "metadata": {},
   "outputs": [],
   "source": [
    "not_found = words - p"
   ]
  },
  {
   "cell_type": "code",
   "execution_count": 145,
   "id": "8f25951c-8c8d-453c-86cb-66bc2d014a4e",
   "metadata": {},
   "outputs": [
    {
     "data": {
      "text/plain": [
       "False"
      ]
     },
     "execution_count": 145,
     "metadata": {},
     "output_type": "execute_result"
    }
   ],
   "source": [
    "\"nuked\" in not_found"
   ]
  },
  {
   "cell_type": "code",
   "execution_count": 147,
   "id": "de9ddf0f-ab36-45d1-b7bb-e507f529c238",
   "metadata": {},
   "outputs": [
    {
     "data": {
      "text/plain": [
       "False"
      ]
     },
     "execution_count": 147,
     "metadata": {},
     "output_type": "execute_result"
    }
   ],
   "source": [
    "\"naked\" in not_found"
   ]
  },
  {
   "cell_type": "code",
   "execution_count": 150,
   "id": "3be535b8-24b2-463c-9e29-1013fd11ce42",
   "metadata": {},
   "outputs": [
    {
     "data": {
      "text/plain": [
       "(1265, 4493)"
      ]
     },
     "execution_count": 150,
     "metadata": {},
     "output_type": "execute_result"
    }
   ],
   "source": [
    "len(not_found), len(p)"
   ]
  },
  {
   "cell_type": "code",
   "execution_count": 148,
   "id": "aaf2dc29-4e70-4ef9-95ec-354a3393bd13",
   "metadata": {},
   "outputs": [
    {
     "data": {
      "text/plain": [
       "['',\n",
       " 'amaze',\n",
       " 'savvy',\n",
       " 'pixel',\n",
       " 'knurl',\n",
       " 'nexus',\n",
       " 'quest',\n",
       " 'byway',\n",
       " 'deity',\n",
       " 'circa',\n",
       " 'juice',\n",
       " 'ouija',\n",
       " 'umped',\n",
       " 'rheum',\n",
       " 'monad',\n",
       " 'noels',\n",
       " 'mocha',\n",
       " 'axels',\n",
       " 'miffs',\n",
       " 'lycra']"
      ]
     },
     "execution_count": 148,
     "metadata": {},
     "output_type": "execute_result"
    }
   ],
   "source": [
    "list(not_found)[:20]"
   ]
  },
  {
   "cell_type": "code",
   "execution_count": 149,
   "id": "b00db6ef-a5a0-469d-b692-1d08031c62a3",
   "metadata": {},
   "outputs": [
    {
     "data": {
      "text/plain": [
       "True"
      ]
     },
     "execution_count": 149,
     "metadata": {},
     "output_type": "execute_result"
    }
   ],
   "source": [
    "\"spasm\" in not_found"
   ]
  },
  {
   "cell_type": "code",
   "execution_count": null,
   "id": "4eac3c0e-3187-4a7a-844e-c42311172d99",
   "metadata": {},
   "outputs": [],
   "source": []
  }
 ],
 "metadata": {
  "kernelspec": {
   "display_name": "Python 3 (ipykernel)",
   "language": "python",
   "name": "python3"
  },
  "language_info": {
   "codemirror_mode": {
    "name": "ipython",
    "version": 3
   },
   "file_extension": ".py",
   "mimetype": "text/x-python",
   "name": "python",
   "nbconvert_exporter": "python",
   "pygments_lexer": "ipython3",
   "version": "3.7.9"
  }
 },
 "nbformat": 4,
 "nbformat_minor": 5
}
