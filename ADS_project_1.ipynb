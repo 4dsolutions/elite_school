{
 "cells": [
  {
   "cell_type": "markdown",
   "id": "2b318d6c-cf70-44a2-bc2f-a83bff10465c",
   "metadata": {},
   "source": [
    "##### Algorithms and Data Structures (Winter - Spring 2022)\n",
    "\n",
    "* [Colab view](https://colab.research.google.com/github/4dsolutions/elite_school/blob/master/ADS_project_1.ipynb)\n",
    "* [nbviewer view](https://nbviewer.org/github/4dsolutions/elite_school/blob/master/ADS_project_1.ipynb)\n",
    "* [ADS Page 1](ADS_intro_1.ipynb)\n",
    "* [ADS Page 2](ADS_intro_2.ipynb)\n",
    "* [ADS Research 1](ADS_research_1.ipynb)\n",
    "* [ACSL](Exercises.ipynb)\n",
    "* [Repo](https://github.com/4dsolutions/elite_school/)"
   ]
  },
  {
   "cell_type": "markdown",
   "id": "c84dd0dd-8244-4cc8-aa81-0c0faf2d3fc7",
   "metadata": {},
   "source": [
    "# Final Project Ideas\n",
    "\n",
    "![XKCD: Control Group](https://imgs.xkcd.com/comics/control_group.png)\n",
    "\n",
    "A newly popular game app, and quite a simple one, is [Wordle](https://www.xda-developers.com/how-to-play-wordle/).  As a game, it traces to Jotto and Mastermind.\n",
    "\n",
    "\"I'm thinking of a five-letter word.  Make a guess, that itself has to be a recognized five-letter word and I will tell you:\n",
    "\n",
    "* C: if your letter is correctly placed\n",
    "* P: if your letter is in the answer, but is incorrectly placed\n",
    "* N: if your letter is nowhere in the answer\n",
    "\n",
    "You have five guesses at most.  Ready?\"\n",
    "\n",
    "That's the final version of the game.  \n",
    "\n",
    "However, we're going to start, not with five-letter words, but with five-digit numbers.  The rules remain the same, except you have infinite guesses.\n",
    "\n",
    "<pre>\n",
    "What is your guess? > 89811\n",
    "answer   : 88976\n",
    "guess    : 89811\n",
    "clue     : CPPNN\n",
    "\n",
    "What is your guess? > 76889\n",
    "answer   : 88976\n",
    "guess    : 76889\n",
    "clue     : PPPPP\n",
    "\n",
    "What is your guess? > 88976\n",
    "answer   : 88976\n",
    "guess    : 88976\n",
    "clue     : CCCCC\n",
    "You win!\n",
    "</pre>"
   ]
  },
  {
   "cell_type": "markdown",
   "id": "6eaa0dc1-a5bd-4985-be85-f9944e88344e",
   "metadata": {},
   "source": [
    "In the actual game, you would not see the answer.  Your job is to guess the answer based on clues, using the following key:\n",
    "\n",
    "* C = Correct position\n",
    "* P = Correct letter, wrong position\n",
    "* N = Incorrect letter\n",
    "\n",
    "However straightforward these rules might seem, some subtle points are worth making.\n",
    "\n",
    "Once a digit in the guess gets a C or P, the corresponding digit in the answer is has been \"matched\" and cannot be matched again.  \n",
    "\n",
    "For example, if the answer is \"08180\" and the guess is \"88822\", then the clue string is \"PCNNN\".  \n",
    "\n",
    "The 3rd 8 didn't count, and registered an N (meaning \"not in the answer\"), because the only two 8s in the answer had already been matched to 8s in the guess.  \n",
    "\n",
    "There is no 3rd 8 to talk about, so that 8 gets an N.\n",
    "\n",
    "<pre>\n",
    "What is your guess? > 88822\n",
    "answer   : 08180\n",
    "guess    : 88822\n",
    "clue     : PCNNN\n",
    "\n",
    "What is your guess? > 08080\n",
    "answer   : 08180\n",
    "guess    : 08080\n",
    "clue     : CCNCC\n",
    "\n",
    "What is your guess? > 08180\n",
    "answer   : 08180\n",
    "guess    : 08180\n",
    "clue     : CCCCC\n",
    "You win!\n",
    "</pre>"
   ]
  },
  {
   "cell_type": "markdown",
   "id": "23a7897f-c8fc-4eef-bcbb-ca52225b7c9b",
   "metadata": {},
   "source": [
    "How might we convert this game into something to test in a contest?  \n",
    "\n",
    "The point is not to see who plays the best, but to see who has an algorithm that correctly evaluates a guess relative to an answer, and provides the right clues.\n",
    "\n",
    "An input file could provide two columns:  answer, guess. The corresponding output file repeats the answer and guess for clarity, then adds a 3rd column: the clue.  \n",
    "\n",
    "This input file would be a test file, against which to test your algorithm.  \n",
    "\n",
    "If your output file matches the one given, exactly, then you're ready to evaluate the actual final contest file.  \n",
    "\n",
    "The judges will keep the final output file secret and compare your results to theirs."
   ]
  },
  {
   "cell_type": "markdown",
   "id": "a922ca41-b4a8-4129-8037-bdde8ecbb992",
   "metadata": {},
   "source": [
    "Input (mmind_input.txt):\n",
    "\n",
    "<pre>\n",
    "88976 91829\n",
    "88976 91416\n",
    "88976 84372\n",
    "88976 70392\n",
    "88976 83324\n",
    "88976 53681\n",
    "88976 79288\n",
    "88976 30714\n",
    "88976 35122\n",
    "88976 46093\n",
    "</pre>\n",
    "\n",
    "Output (mmind_output.txt):\n",
    "\n",
    "<pre>\n",
    "88976 91829 PNPNN\n",
    "88976 91416 PNNNC\n",
    "88976 84372 CNNCN\n",
    "88976 70392 PNNPN\n",
    "88976 83324 CNNNN\n",
    "88976 53681 NNPPN\n",
    "88976 79288 PPNPP\n",
    "88976 30714 NNPNN\n",
    "88976 35122 NNNNN\n",
    "88976 46093 NPNPN\n",
    "</pre>"
   ]
  },
  {
   "cell_type": "markdown",
   "id": "9a6a35ad-5cd8-47f4-83a0-002a29941396",
   "metadata": {},
   "source": [
    "Let's get to work!\n",
    "\n",
    "Here's some code to get you started. \n",
    "\n",
    "```python\n",
    "\n",
    "def words_play(answer = \"BLING\", show_answer = True):\n",
    "    \n",
    "    while True:\n",
    "        \n",
    "        guess = input(\"What is your guess? > \")\n",
    "        if guess.upper().strip() == \"Q\":\n",
    "            print(\"Come again!\")\n",
    "            break\n",
    "        \n",
    "        if not guess.isalpha() or len(guess) != 5:\n",
    "            print(\"Five letters please\")\n",
    "            continue\n",
    "    \n",
    "        clue = evaluate(answer, guess)\n",
    "    \n",
    "        if show_answer:\n",
    "            print(\"answer   :\", answer)\n",
    "        print(\"guess    :\", guess)\n",
    "        print(\"clue     :\", clue)\n",
    "        \n",
    "        if clue == \"CCCCC\":\n",
    "            print(\"You win!\")\n",
    "            break\n",
    "            \n",
    "    \n",
    "```\n",
    "\n",
    "This code will set up a game loop for a human player.  However the ```evaluate``` function has been left up to you. You may use this loop as a framework for testing your function.\n",
    "\n",
    "\n",
    "<a data-flickr-embed=\"true\" href=\"https://www.flickr.com/photos/kirbyurner/51842977293/in/dateposted-public/\" title=\"wordle_at_work\"><img src=\"https://live.staticflickr.com/65535/51842977293_1be5701a97_c.jpg\" width=\"800\" height=\"592\" alt=\"wordle_at_work\"></a><script async src=\"//embedr.flickr.com/assets/client-code.js\" charset=\"utf-8\"></script>\n",
    "\n",
    "\n",
    "When addressing the contest challenge, you should use the very same ```evaluate``` function to create your ```final_output.txt``` from ```contest_input.txt```."
   ]
  },
  {
   "cell_type": "markdown",
   "id": "60683ce8-ebda-43df-9843-a3805f26b3ea",
   "metadata": {},
   "source": [
    "## Getting Fancy\n",
    "\n",
    "Guessing five digit strings is maybe not as fun as guessing words.  \n",
    "\n",
    "Now that you have the logic for generating clues, switching from 0-9 to a-z should be trivial.  Almost no code should need to change.\n",
    "\n",
    "But where do we get a list of all five-letter words?  That depends on the language of course.  In the case of English, [here's a source on Github](https://github.com/charlesreid1/five-letter-words/).\n",
    "\n",
    "Do you want to code a GUI (Graphical User Interface).  Consider Tkinter (for controlling Tk) or [wxPython](https://wxpython.org/pages/screenshots/) (for controlling wxWidgets).  Here's a short tutorial on building a Tkinter application."
   ]
  },
  {
   "cell_type": "code",
   "execution_count": 1,
   "id": "39141497-073f-45be-9415-57c7559a825a",
   "metadata": {},
   "outputs": [
    {
     "data": {
      "image/jpeg": "[encoded data removed]",
      "text/html": [
       "\n",
       "        <iframe\n",
       "            width=\"400\"\n",
       "            height=\"300\"\n",
       "            src=\"https://www.youtube.com/embed/itRLRfuL_PQ\"\n",
       "            frameborder=\"0\"\n",
       "            allowfullscreen\n",
       "        ></iframe>\n",
       "        "
      ],
      "text/plain": [
       "<IPython.lib.display.YouTubeVideo at 0x1151ac490>"
      ]
     },
     "execution_count": 1,
     "metadata": {},
     "output_type": "execute_result"
    }
   ],
   "source": [
    "from IPython.display import YouTubeVideo\n",
    "YouTubeVideo(\"itRLRfuL_PQ\")"
   ]
  },
  {
   "cell_type": "code",
   "execution_count": 2,
   "id": "6635cbac-03b5-43bf-87b1-76f2d86832cb",
   "metadata": {},
   "outputs": [
    {
     "data": {
      "image/jpeg": "[encoded data removed]",
      "text/html": [
       "\n",
       "        <iframe\n",
       "            width=\"400\"\n",
       "            height=\"300\"\n",
       "            src=\"https://www.youtube.com/embed/9M1oDT_JLJk\"\n",
       "            frameborder=\"0\"\n",
       "            allowfullscreen\n",
       "        ></iframe>\n",
       "        "
      ],
      "text/plain": [
       "<IPython.lib.display.YouTubeVideo at 0x113082fd0>"
      ]
     },
     "execution_count": 2,
     "metadata": {},
     "output_type": "execute_result"
    }
   ],
   "source": [
    "YouTubeVideo(\"9M1oDT_JLJk\")"
   ]
  },
  {
   "cell_type": "markdown",
   "id": "3a6b979f-5e67-4086-9741-4a71469c8155",
   "metadata": {},
   "source": [
    "## Making the Computer Follow Clues\n",
    "\n",
    "Another challenge is to develop an algorithm for having the computer efficiently converge to a correct answer (the hidden word), not be cheating, but by deducing as much from each feedback string (clue) as any human could.\n",
    "\n",
    "The solution offerered in five_land.py may not be the best, but at least it works reliably."
   ]
  },
  {
   "cell_type": "code",
   "execution_count": 3,
   "id": "69fff7ce-be7a-4428-9f70-2264f472482a",
   "metadata": {},
   "outputs": [],
   "source": [
    "from five_land import wordle"
   ]
  },
  {
   "cell_type": "code",
   "execution_count": 4,
   "id": "6c8b21bf-3291-4718-a8dd-28148e57658a",
   "metadata": {},
   "outputs": [
    {
     "name": "stdout",
     "output_type": "stream",
     "text": [
      "5757\n",
      "covey hayey NNNCC\n",
      "covey muley NNNCC\n",
      "covey dopey NCNCC\n",
      "covey covey CCCCC\n",
      "That's it!\n"
     ]
    }
   ],
   "source": [
    "wordle()"
   ]
  },
  {
   "cell_type": "code",
   "execution_count": 5,
   "id": "e5da7418-1d64-456e-a1ac-f52f7aefc6dd",
   "metadata": {},
   "outputs": [
    {
     "name": "stdout",
     "output_type": "stream",
     "text": [
      "5757\n",
      "chert wharf NCNCN\n",
      "chert chord CCNCN\n",
      "chert chirp CCNCN\n",
      "chert churn CCNCN\n",
      "chert chert CCCCC\n",
      "That's it!\n"
     ]
    }
   ],
   "source": [
    "wordle()"
   ]
  },
  {
   "cell_type": "markdown",
   "id": "b6c89bbe-2741-46ac-9dce-8941860f6746",
   "metadata": {},
   "source": [
    "But where did we get a roster of 5-letter words to begin with.  And what else might we learn about such a file, in terms of Graph Theory for example.  Those are topics for [Research](ADS_research_1.ipynb).  Some of that research is echoed below.\n",
    "\n",
    "We learned we could get a list of 5-letter words from what's called The Stanford GraphBase."
   ]
  },
  {
   "cell_type": "code",
   "execution_count": 6,
   "id": "18699e0c-6b1e-4b8b-aefe-428238cc20b8",
   "metadata": {},
   "outputs": [
    {
     "name": "stdout",
     "output_type": "stream",
     "text": [
      "200\n",
      "n\n",
      "speed\n",
      "women\n",
      "metal\n",
      "south\n",
      "grass\n",
      "scale\n",
      "cells\n",
      "lower\n",
      "sleep\n",
      "wrong\n",
      "pages\n",
      "ships\n",
      "needs\n",
      "rocks\n",
      "eight\n",
      "major\n",
      "leve\n"
     ]
    }
   ],
   "source": [
    "import requests, random\n",
    "response = requests.get(\"https://www-cs-faculty.stanford.edu/~knuth/sgb-words.txt\")\n",
    "print(response.status_code)\n",
    "# words\n",
    "print((response.text[1000:1102]))"
   ]
  },
  {
   "cell_type": "code",
   "execution_count": 7,
   "id": "e497cce9-6a31-4de7-b015-c3db74d03693",
   "metadata": {},
   "outputs": [
    {
     "data": {
      "text/plain": [
       "True"
      ]
     },
     "execution_count": 7,
     "metadata": {},
     "output_type": "execute_result"
    }
   ],
   "source": [
    "words = response.text.split(\"\\n\")\n",
    "\"ships\" in words"
   ]
  },
  {
   "cell_type": "code",
   "execution_count": 8,
   "id": "d73fcb5f-1fab-4e44-a7de-ffd0918cb401",
   "metadata": {},
   "outputs": [],
   "source": [
    "if \"\" in words:\n",
    "    words.remove(\"\")  # a specious spacer i.e. an unwanted blank line"
   ]
  },
  {
   "cell_type": "markdown",
   "id": "fb477ed5-e4d3-4e1b-b381-34a0c81f4c94",
   "metadata": {},
   "source": [
    "This number 5757 turns out to be famous, and raised suspicions of the specious spacer above."
   ]
  },
  {
   "cell_type": "code",
   "execution_count": 9,
   "id": "c6de43c7-f488-44b3-9118-13d946fb7e2a",
   "metadata": {},
   "outputs": [
    {
     "data": {
      "text/plain": [
       "5757"
      ]
     },
     "execution_count": 9,
     "metadata": {},
     "output_type": "execute_result"
    }
   ],
   "source": [
    "len(words)"
   ]
  },
  {
   "cell_type": "code",
   "execution_count": 10,
   "id": "d995cfd4-618c-4c97-94ff-0023fd502218",
   "metadata": {},
   "outputs": [
    {
     "data": {
      "text/plain": [
       "list"
      ]
     },
     "execution_count": 10,
     "metadata": {},
     "output_type": "execute_result"
    }
   ],
   "source": [
    "type(words)"
   ]
  },
  {
   "cell_type": "markdown",
   "id": "6d235496-2fc7-4cf6-a115-29908248e204",
   "metadata": {},
   "source": [
    "Turning the list of 5757 words into a set, a native Python type, gives many benefits for free such as automatic dupe supression.  Sets do not contain duplicate elements.  Since we wish to \"go fishing\" for \"unique fish\" e.g. words one letter change away from each other, we need a way to not keep including the same words multiple times, as our \"fishing algorithms\" find them over and over."
   ]
  },
  {
   "cell_type": "code",
   "execution_count": 11,
   "id": "cc38acc8-4fea-409d-91d9-b6fff08acf26",
   "metadata": {},
   "outputs": [],
   "source": [
    "word_set = set(words)"
   ]
  },
  {
   "cell_type": "code",
   "execution_count": 12,
   "id": "fea9f86f-80fe-476f-bf45-71878fef6f61",
   "metadata": {},
   "outputs": [
    {
     "name": "stdout",
     "output_type": "stream",
     "text": [
      "CPU times: user 14 µs, sys: 6 µs, total: 20 µs\n",
      "Wall time: 42 µs\n"
     ]
    },
    {
     "data": {
      "text/plain": [
       "True"
      ]
     },
     "execution_count": 12,
     "metadata": {},
     "output_type": "execute_result"
    }
   ],
   "source": [
    "%time \"ships\" in words"
   ]
  },
  {
   "cell_type": "code",
   "execution_count": 13,
   "id": "3f1b5032-2095-4698-b749-a3d2cbb24222",
   "metadata": {},
   "outputs": [
    {
     "name": "stdout",
     "output_type": "stream",
     "text": [
      "CPU times: user 4 µs, sys: 1e+03 ns, total: 5 µs\n",
      "Wall time: 9.06 µs\n"
     ]
    },
    {
     "data": {
      "text/plain": [
       "True"
      ]
     },
     "execution_count": 13,
     "metadata": {},
     "output_type": "execute_result"
    }
   ],
   "source": [
    "%time \"ships\" in word_set"
   ]
  },
  {
   "cell_type": "code",
   "execution_count": 14,
   "id": "c259f75e-ce57-4488-a10e-91d7be7a8fb7",
   "metadata": {},
   "outputs": [
    {
     "name": "stdout",
     "output_type": "stream",
     "text": [
      "-rw-r--r--  1 mac  34542 Mar  4 18:54 wordkeep.txt\n"
     ]
    }
   ],
   "source": [
    "! ls -o wordkeep.txt"
   ]
  },
  {
   "cell_type": "code",
   "execution_count": 15,
   "id": "6596d5f9-2419-43a7-856c-100747f4fdee",
   "metadata": {},
   "outputs": [],
   "source": [
    "with open(\"wordkeep.txt\", \"w\") as fileobj:\n",
    "    fileobj.write(response.text)"
   ]
  },
  {
   "cell_type": "markdown",
   "id": "d3887b24-625e-42f9-abb4-ee396aa69037",
   "metadata": {},
   "source": [
    "`words` is still a list at this point, as we used `word_set` for the set type version.  Below, we go ahead and make `words` the set.  However `random.choice` does not work with set arguments. "
   ]
  },
  {
   "cell_type": "code",
   "execution_count": 16,
   "id": "7b20d793-dd66-41a9-b9c5-85ef4d17a13d",
   "metadata": {},
   "outputs": [
    {
     "data": {
      "text/plain": [
       "'excel'"
      ]
     },
     "execution_count": 16,
     "metadata": {},
     "output_type": "execute_result"
    }
   ],
   "source": [
    "answer = random.choice(words)  # words is not yet a set\n",
    "answer"
   ]
  },
  {
   "cell_type": "code",
   "execution_count": 17,
   "id": "4c76f428-c999-47c2-b687-27dd4e7ccb26",
   "metadata": {},
   "outputs": [
    {
     "data": {
      "text/plain": [
       "<module 'wordle' from '/Users/mac/Documents/elite_school/wordle.py'>"
      ]
     },
     "execution_count": 17,
     "metadata": {},
     "output_type": "execute_result"
    }
   ],
   "source": [
    "# a cell like this is useful of you are developing and interacting\n",
    "# with the same module.  Unless you force a recompile, you may wind\n",
    "# up interacting with old source code.\n",
    "\n",
    "import wordle\n",
    "import imp; imp.reload(wordle)"
   ]
  },
  {
   "cell_type": "code",
   "execution_count": 18,
   "id": "00b7625c-76c4-4243-893f-8b5fc3dc8d20",
   "metadata": {},
   "outputs": [
    {
     "name": "stdin",
     "output_type": "stream",
     "text": [
      "What is your guess? >  CHARM\n"
     ]
    },
    {
     "name": "stdout",
     "output_type": "stream",
     "text": [
      "guess    : CHARM\n",
      "clue     : PNNNN\n"
     ]
    },
    {
     "name": "stdin",
     "output_type": "stream",
     "text": [
      "What is your guess? >  WITCH\n"
     ]
    },
    {
     "name": "stdout",
     "output_type": "stream",
     "text": [
      "guess    : WITCH\n",
      "clue     : NNNPN\n"
     ]
    },
    {
     "name": "stdin",
     "output_type": "stream",
     "text": [
      "What is your guess? >  ORCRE\n"
     ]
    },
    {
     "name": "stdout",
     "output_type": "stream",
     "text": [
      "That's not a real word, sorry.\n"
     ]
    },
    {
     "name": "stdin",
     "output_type": "stream",
     "text": [
      "What is your guess? >  CLUES\n"
     ]
    },
    {
     "name": "stdout",
     "output_type": "stream",
     "text": [
      "guess    : CLUES\n",
      "clue     : PPNCN\n"
     ]
    },
    {
     "name": "stdin",
     "output_type": "stream",
     "text": [
      "What is your guess? >  EXCEL\n"
     ]
    },
    {
     "name": "stdout",
     "output_type": "stream",
     "text": [
      "guess    : EXCEL\n",
      "clue     : CCCCC\n",
      "You win!\n",
      "See you soon!\n",
      "\n"
     ]
    }
   ],
   "source": [
    "wordle.words_play(answer, show_answer=False)"
   ]
  },
  {
   "cell_type": "code",
   "execution_count": 19,
   "id": "fb2abdf7-b668-425e-ac17-1075a5fd6225",
   "metadata": {},
   "outputs": [
    {
     "data": {
      "text/plain": [
       "'excel'"
      ]
     },
     "execution_count": 19,
     "metadata": {},
     "output_type": "execute_result"
    }
   ],
   "source": [
    "answer"
   ]
  },
  {
   "cell_type": "code",
   "execution_count": 20,
   "id": "5cfa3088-6049-4f3d-a2fc-c9850bb59c26",
   "metadata": {},
   "outputs": [
    {
     "name": "stdout",
     "output_type": "stream",
     "text": [
      "which\n",
      "there\n",
      "their\n",
      "about\n",
      "would\n",
      "these\n",
      "other\n",
      "words\n",
      "could\n",
      "write\n",
      "first\n",
      "water\n",
      "after\n",
      "where\n",
      "right\n",
      "think\n",
      "three\n",
      "years\n",
      "place\n",
      "sound\n",
      "great\n",
      "again\n"
     ]
    }
   ],
   "source": [
    "c = 0\n",
    "for word in words:\n",
    "    print(word)\n",
    "    if c > 20:\n",
    "        break\n",
    "    c += 1"
   ]
  },
  {
   "cell_type": "code",
   "execution_count": 22,
   "id": "34581db2-dd24-4a16-a165-c327acf47157",
   "metadata": {},
   "outputs": [],
   "source": [
    "from five_land import roll_alpha, fish_pond"
   ]
  },
  {
   "cell_type": "code",
   "execution_count": 23,
   "id": "fe4fe74c-0899-403b-8b26-51a060664abe",
   "metadata": {},
   "outputs": [
    {
     "data": {
      "text/plain": [
       "{'bingo', 'dingo', 'jings', 'lingo'}"
      ]
     },
     "execution_count": 23,
     "metadata": {},
     "output_type": "execute_result"
    }
   ],
   "source": [
    "p = roll_alpha('jingo')\n",
    "p"
   ]
  },
  {
   "cell_type": "code",
   "execution_count": 24,
   "id": "96845285-01ac-4d40-869a-7cdca0b1a57e",
   "metadata": {},
   "outputs": [
    {
     "data": {
      "text/plain": [
       "list"
      ]
     },
     "execution_count": 24,
     "metadata": {},
     "output_type": "execute_result"
    }
   ],
   "source": [
    "type(words)"
   ]
  },
  {
   "cell_type": "code",
   "execution_count": 25,
   "id": "28d95e1f-328e-484d-9c6f-a198a7b7083b",
   "metadata": {},
   "outputs": [],
   "source": [
    "words = set(words)"
   ]
  },
  {
   "cell_type": "code",
   "execution_count": 26,
   "id": "c1f99492-8465-4d0a-9b75-646f3e665f2a",
   "metadata": {},
   "outputs": [
    {
     "data": {
      "text/plain": [
       "{'bingo', 'dingo', 'jings', 'lingo'}"
      ]
     },
     "execution_count": 26,
     "metadata": {},
     "output_type": "execute_result"
    }
   ],
   "source": [
    "p"
   ]
  },
  {
   "cell_type": "code",
   "execution_count": 27,
   "id": "10ceb0b6-5226-4b0c-bf13-47c12e83c115",
   "metadata": {},
   "outputs": [
    {
     "name": "stdout",
     "output_type": "stream",
     "text": [
      "19 62\n",
      "62 194\n",
      "194 545\n",
      "545 1216\n",
      "1216 2045\n",
      "2045 2640\n",
      "2640 3133\n",
      "3133 3624\n",
      "3624 4020\n",
      "4020 4263\n",
      "4263 4390\n",
      "4390 4451\n",
      "4451 4476\n",
      "4476 4484\n",
      "4484 4487\n",
      "4487 4489\n",
      "4489 4490\n",
      "4490 4492\n",
      "4492 4493\n",
      "4493 4493\n"
     ]
    }
   ],
   "source": [
    "new_p = fish_pond(p)\n",
    "while len(new_p) > len(p):\n",
    "    p = new_p\n",
    "    new_p = fish_pond(p)\n",
    "    print(len(p), len(new_p))"
   ]
  },
  {
   "cell_type": "code",
   "execution_count": 28,
   "id": "cc13ae59-38de-4a5f-8f48-81fe614b49b9",
   "metadata": {},
   "outputs": [],
   "source": [
    "never_reached = words - p"
   ]
  },
  {
   "cell_type": "code",
   "execution_count": 29,
   "id": "a27a1d29-3313-45f0-8688-447f52b09404",
   "metadata": {},
   "outputs": [
    {
     "data": {
      "text/plain": [
       "True"
      ]
     },
     "execution_count": 29,
     "metadata": {},
     "output_type": "execute_result"
    }
   ],
   "source": [
    "\"yogic\" in never_reached"
   ]
  },
  {
   "cell_type": "code",
   "execution_count": 30,
   "id": "0aa2e8ad-d9cb-4882-97c3-ac8247052525",
   "metadata": {},
   "outputs": [
    {
     "data": {
      "text/plain": [
       "1264"
      ]
     },
     "execution_count": 30,
     "metadata": {},
     "output_type": "execute_result"
    }
   ],
   "source": [
    "len(never_reached)"
   ]
  },
  {
   "cell_type": "code",
   "execution_count": 31,
   "id": "8f25951c-8c8d-453c-86cb-66bc2d014a4e",
   "metadata": {},
   "outputs": [
    {
     "data": {
      "text/plain": [
       "False"
      ]
     },
     "execution_count": 31,
     "metadata": {},
     "output_type": "execute_result"
    }
   ],
   "source": [
    "\"nuked\" in never_reached"
   ]
  },
  {
   "cell_type": "code",
   "execution_count": 32,
   "id": "de9ddf0f-ab36-45d1-b7bb-e507f529c238",
   "metadata": {},
   "outputs": [
    {
     "data": {
      "text/plain": [
       "False"
      ]
     },
     "execution_count": 32,
     "metadata": {},
     "output_type": "execute_result"
    }
   ],
   "source": [
    "\"naked\" in never_reached"
   ]
  },
  {
   "cell_type": "code",
   "execution_count": 33,
   "id": "3be535b8-24b2-463c-9e29-1013fd11ce42",
   "metadata": {},
   "outputs": [
    {
     "data": {
      "text/plain": [
       "(1264, 4493)"
      ]
     },
     "execution_count": 33,
     "metadata": {},
     "output_type": "execute_result"
    }
   ],
   "source": [
    "len(never_reached), len(p)"
   ]
  },
  {
   "cell_type": "code",
   "execution_count": 34,
   "id": "b00db6ef-a5a0-469d-b692-1d08031c62a3",
   "metadata": {},
   "outputs": [
    {
     "data": {
      "text/plain": [
       "True"
      ]
     },
     "execution_count": 34,
     "metadata": {},
     "output_type": "execute_result"
    }
   ],
   "source": [
    "\"spasm\" in never_reached"
   ]
  }
 ],
 "metadata": {
  "kernelspec": {
   "display_name": "Python 3 (ipykernel)",
   "language": "python",
   "name": "python3"
  },
  "language_info": {
   "codemirror_mode": {
    "name": "ipython",
    "version": 3
   },
   "file_extension": ".py",
   "mimetype": "text/x-python",
   "name": "python",
   "nbconvert_exporter": "python",
   "pygments_lexer": "ipython3",
   "version": "3.7.9"
  }
 },
 "nbformat": 4,
 "nbformat_minor": 5
}
