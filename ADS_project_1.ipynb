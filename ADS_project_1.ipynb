{
 "cells": [
  {
   "cell_type": "markdown",
   "id": "2b318d6c-cf70-44a2-bc2f-a83bff10465c",
   "metadata": {},
   "source": [
    "##### Algorithms and Data Structures (Winter - Spring 2022)\n",
    "\n",
    "* [Colab view](https://colab.research.google.com/github/4dsolutions/elite_school/blob/master/ADS_project_1.ipynb)\n",
    "* [nbviewer view](https://nbviewer.org/github/4dsolutions/elite_school/blob/master/ADS_project_1.ipynb)\n",
    "* [ADS Page 1](ADS_intro_1.ipynb)\n",
    "* [ADS Page 2](ADS_intro_2.ipynb)\n",
    "* [ACSL](Exercises.ipynb)\n",
    "* [Repo](https://github.com/4dsolutions/elite_school/)"
   ]
  },
  {
   "cell_type": "markdown",
   "id": "c84dd0dd-8244-4cc8-aa81-0c0faf2d3fc7",
   "metadata": {},
   "source": [
    "# A Final Project\n",
    "\n",
    "<a data-flickr-embed=\"true\" href=\"https://www.flickr.com/photos/kirbyurner/51694028948/in/album-72157720157993759/\" title=\"P1310648\"><img src=\"https://live.staticflickr.com/65535/51694028948_23279e0f60.jpg\" width=\"500\" height=\"375\" alt=\"P1310648\"></a><script async src=\"//embedr.flickr.com/assets/client-code.js\" charset=\"utf-8\"></script>\n",
    "\n",
    "\n",
    "![XKCD: Control Group](https://imgs.xkcd.com/comics/control_group.png)\n",
    "\n",
    "A newly popular game app, and quite a simple one, is [Wordle](https://www.xda-developers.com/how-to-play-wordle/).  As a game, it traces to Jotto and Mastermind.\n",
    "\n",
    "\"I'm thinking of a five-letter word.  Make a guess, that itself has to be a recognized five-letter word and I will tell you:\n",
    "\n",
    "* C: if your letter is correctly placed\n",
    "* P: if your letter is in the answer, but is incorrectly placed\n",
    "* N: if your letter is nowhere in the answer\n",
    "\n",
    "You have five guesses at most.  Ready?\"\n",
    "\n",
    "That's the final version of the game.  \n",
    "\n",
    "However, we're going to start, not with five-letter words, but with five-digit numbers.  The rules remain the same, except yo have infinite guesses.\n",
    "\n",
    "<pre>\n",
    "What is your guess? > 89811\n",
    "answer   : 88976\n",
    "guess    : 89811\n",
    "clue     : CPPNN\n",
    "\n",
    "What is your guess? > 76889\n",
    "answer   : 88976\n",
    "guess    : 76889\n",
    "clue     : PPPPP\n",
    "\n",
    "What is your guess? > 88976\n",
    "answer   : 88976\n",
    "guess    : 88976\n",
    "clue     : CCCCC\n",
    "You win!\n",
    "</pre>"
   ]
  },
  {
   "cell_type": "markdown",
   "id": "6eaa0dc1-a5bd-4985-be85-f9944e88344e",
   "metadata": {},
   "source": [
    "In the actual game, you would not see the answer.  Your job is to guess the answer based on clues, using the following key:\n",
    "\n",
    "* C = Correct position\n",
    "* P = Correct letter, wrong position\n",
    "* N = Incorrect letter\n",
    "\n",
    "However straightforward these rules might seem, some subtle points are worth making.\n",
    "\n",
    "Once a digit in the guess gets a C or P, the corresponding digit in the answer is has been \"matched\" and cannot be matched again.  \n",
    "\n",
    "For example, if the answer is \"08180\" and the guess is \"88822\", then the clue string is \"PCNNN\".  \n",
    "\n",
    "The 3rd 8 didn't count, and registered an N (meaning \"not in the answer\"), because the only two 8s in the answer had already been matched to 8s in the guess.  \n",
    "\n",
    "There is no 3rd 8 to talk about, so that 8 gets an N.\n",
    "\n",
    "<pre>\n",
    "What is your guess? > 88822\n",
    "answer   : 08180\n",
    "guess    : 88822\n",
    "clue     : PCNNN\n",
    "\n",
    "What is your guess? > 08080\n",
    "answer   : 08180\n",
    "guess    : 08080\n",
    "clue     : CCNCC\n",
    "\n",
    "What is your guess? > 08180\n",
    "answer   : 08180\n",
    "guess    : 08180\n",
    "clue     : CCCCC\n",
    "You win!\n",
    "</pre>"
   ]
  },
  {
   "cell_type": "markdown",
   "id": "23a7897f-c8fc-4eef-bcbb-ca52225b7c9b",
   "metadata": {},
   "source": [
    "How might we convert this game into something to test in a contest?  \n",
    "\n",
    "The point is not to see who plays the best, but to see who has an algorithm that correctly evaluates a guess relative to an answer, and provides the right clues.\n",
    "\n",
    "An input file could provide two columns:  answer, guess. The corresponding output file repeats the answer and guess for clarity, then adds a 3rd column: the clue.  \n",
    "\n",
    "This input file would be a test file, against which to test your algorithm.  \n",
    "\n",
    "If your output file matches the one given, exactly, then you're ready to evaluate the actual final contest file.  \n",
    "\n",
    "The judges will keep the final output file secret and compare your results to theirs."
   ]
  },
  {
   "cell_type": "markdown",
   "id": "a922ca41-b4a8-4129-8037-bdde8ecbb992",
   "metadata": {},
   "source": [
    "Input (mmind_input.txt):\n",
    "\n",
    "<pre>\n",
    "88976 91829\n",
    "88976 91416\n",
    "88976 84372\n",
    "88976 70392\n",
    "88976 83324\n",
    "88976 53681\n",
    "88976 79288\n",
    "88976 30714\n",
    "88976 35122\n",
    "88976 46093\n",
    "</pre>\n",
    "\n",
    "Output (mmind_output.txt):\n",
    "\n",
    "<pre>\n",
    "88976 91829 PNPNN\n",
    "88976 91416 PNNNC\n",
    "88976 84372 CNNCN\n",
    "88976 70392 PNNPN\n",
    "88976 83324 CNNNN\n",
    "88976 53681 NNPPN\n",
    "88976 79288 PPNPP\n",
    "88976 30714 NNPNN\n",
    "88976 35122 NNNNN\n",
    "88976 46093 NPNPN\n",
    "</pre>"
   ]
  },
  {
   "cell_type": "markdown",
   "id": "9a6a35ad-5cd8-47f4-83a0-002a29941396",
   "metadata": {},
   "source": [
    "Let's get to work!\n",
    "\n",
    "Here's some code to get you started. \n",
    "\n",
    "```python\n",
    "\n",
    "def words_play(answer = \"BLING\", show_answer = True):\n",
    "    \n",
    "    while True:\n",
    "        \n",
    "        guess = input(\"What is your guess? > \")\n",
    "        if guess.upper().strip() == \"Q\":\n",
    "            print(\"Come again!\")\n",
    "            break\n",
    "        \n",
    "        if not guess.isalpha() or len(guess) != 5:\n",
    "            print(\"Five letters please\")\n",
    "            continue\n",
    "    \n",
    "        clue = evaluate(answer, guess)\n",
    "    \n",
    "        if show_answer:\n",
    "            print(\"answer   :\", answer)\n",
    "        print(\"guess    :\", guess)\n",
    "        print(\"clue     :\", clue)\n",
    "        \n",
    "        if clue == \"CCCCC\":\n",
    "            print(\"You win!\")\n",
    "            break\n",
    "            \n",
    "    \n",
    "```\n",
    "\n",
    "This code will set up a game loop for a human player.  However the ```evaluate``` function has been left up to you. You may use this loop as a framework for testing your function.\n",
    "\n",
    "\n",
    "<a data-flickr-embed=\"true\" href=\"https://www.flickr.com/photos/kirbyurner/51842977293/in/dateposted-public/\" title=\"wordle_at_work\"><img src=\"https://live.staticflickr.com/65535/51842977293_1be5701a97_c.jpg\" width=\"800\" height=\"592\" alt=\"wordle_at_work\"></a><script async src=\"//embedr.flickr.com/assets/client-code.js\" charset=\"utf-8\"></script>\n",
    "\n",
    "\n",
    "When addressing the contest challenge, you should use the very same ```evaluate``` function to create your ```final_output.txt``` from ```contest_input.txt```."
   ]
  },
  {
   "cell_type": "markdown",
   "id": "60683ce8-ebda-43df-9843-a3805f26b3ea",
   "metadata": {},
   "source": [
    "## Getting Fancy\n",
    "\n",
    "Guessing five digit strings is maybe not as fun as guessing words.  \n",
    "\n",
    "Now that you have the logic for generating clues, switching from 0-9 to a-z should be trivial.  Almost no code should need to change.\n",
    "\n",
    "But where do we get a list of all five-letter words?  That depends on the language of course.  In the case of English, [here's a source on Github](https://github.com/charlesreid1/five-letter-words/).\n",
    "\n",
    "Do you want to code a GUI (Graphical User Interface).  Consider Tkinter (for controlling Tk) or [wxPython](https://wxpython.org/pages/screenshots/) (for controlling wxWidgets).  Here's a short tutorial on building a Tkinter application."
   ]
  },
  {
   "cell_type": "code",
   "execution_count": 1,
   "id": "39141497-073f-45be-9415-57c7559a825a",
   "metadata": {},
   "outputs": [
    {
     "data": {
      "text/html": [
       "\n",
       "        <iframe\n",
       "            width=\"400\"\n",
       "            height=\"300\"\n",
       "            src=\"https://www.youtube.com/embed/itRLRfuL_PQ\"\n",
       "            frameborder=\"0\"\n",
       "            allowfullscreen\n",
       "        ></iframe>\n",
       "        "
      ],
      "text/plain": [
       "<IPython.lib.display.YouTubeVideo at 0x10711ef50>"
      ]
     },
     "execution_count": 1,
     "metadata": {},
     "output_type": "execute_result"
    }
   ],
   "source": [
    "from IPython.display import YouTubeVideo\n",
    "YouTubeVideo(\"itRLRfuL_PQ\")"
   ]
  },
  {
   "cell_type": "code",
   "execution_count": 2,
   "id": "6635cbac-03b5-43bf-87b1-76f2d86832cb",
   "metadata": {},
   "outputs": [
    {
     "data": {
      "image/jpeg": "[encoded data removed]",
      "text/html": [
       "\n",
       "        <iframe\n",
       "            width=\"400\"\n",
       "            height=\"300\"\n",
       "            src=\"https://www.youtube.com/embed/9M1oDT_JLJk\"\n",
       "            frameborder=\"0\"\n",
       "            allowfullscreen\n",
       "        ></iframe>\n",
       "        "
      ],
      "text/plain": [
       "<IPython.lib.display.YouTubeVideo at 0x104f78350>"
      ]
     },
     "execution_count": 2,
     "metadata": {},
     "output_type": "execute_result"
    }
   ],
   "source": [
    "YouTubeVideo(\"9M1oDT_JLJk\")"
   ]
  },
  {
   "cell_type": "code",
   "execution_count": 3,
   "id": "18699e0c-6b1e-4b8b-aefe-428238cc20b8",
   "metadata": {},
   "outputs": [
    {
     "name": "stdout",
     "output_type": "stream",
     "text": [
      "200\n",
      "n\n",
      "speed\n",
      "women\n",
      "metal\n",
      "south\n",
      "grass\n",
      "scale\n",
      "cells\n",
      "lower\n",
      "sleep\n",
      "wrong\n",
      "pages\n",
      "ships\n",
      "needs\n",
      "rocks\n",
      "eight\n",
      "major\n",
      "leve\n"
     ]
    }
   ],
   "source": [
    "import requests, random\n",
    "response = requests.get(\"https://www-cs-faculty.stanford.edu/~knuth/sgb-words.txt\")\n",
    "print(response.status_code)\n",
    "# words\n",
    "print((response.text[1000:1102]))"
   ]
  },
  {
   "cell_type": "code",
   "execution_count": 4,
   "id": "7ebfad0e-6dea-482c-8f3f-1a952a2396d4",
   "metadata": {},
   "outputs": [],
   "source": [
    "words = response.text.split(\"\\n\")"
   ]
  },
  {
   "cell_type": "code",
   "execution_count": 5,
   "id": "ee91e65c-f85b-42ec-8ee4-910888c9b9a4",
   "metadata": {},
   "outputs": [
    {
     "data": {
      "text/plain": [
       "['drunk',\n",
       " 'rests',\n",
       " 'chill',\n",
       " 'slain',\n",
       " 'panic',\n",
       " 'cords',\n",
       " 'tuned',\n",
       " 'crisp',\n",
       " 'ledge',\n",
       " 'dived']"
      ]
     },
     "execution_count": 5,
     "metadata": {},
     "output_type": "execute_result"
    }
   ],
   "source": [
    "words[1000:1010]"
   ]
  },
  {
   "cell_type": "code",
   "execution_count": 6,
   "id": "1baf7fae-eab8-42cb-a12f-fe052ca9ed76",
   "metadata": {},
   "outputs": [
    {
     "data": {
      "text/plain": [
       "'e'"
      ]
     },
     "execution_count": 6,
     "metadata": {},
     "output_type": "execute_result"
    }
   ],
   "source": [
    "random.choice(\"blue red green\")"
   ]
  },
  {
   "cell_type": "code",
   "execution_count": 7,
   "id": "7b20d793-dd66-41a9-b9c5-85ef4d17a13d",
   "metadata": {},
   "outputs": [],
   "source": [
    "answer = random.choice(words)"
   ]
  },
  {
   "cell_type": "code",
   "execution_count": 8,
   "id": "4c76f428-c999-47c2-b687-27dd4e7ccb26",
   "metadata": {},
   "outputs": [
    {
     "data": {
      "text/plain": [
       "<module 'wordle' from '/Users/mac/Documents/elite_school/wordle.py'>"
      ]
     },
     "execution_count": 8,
     "metadata": {},
     "output_type": "execute_result"
    }
   ],
   "source": [
    "import wordle\n",
    "import imp; imp.reload(wordle)"
   ]
  },
  {
   "cell_type": "code",
   "execution_count": 9,
   "id": "00b7625c-76c4-4243-893f-8b5fc3dc8d20",
   "metadata": {},
   "outputs": [
    {
     "name": "stdin",
     "output_type": "stream",
     "text": [
      "What is your guess? >  FLOOD\n"
     ]
    },
    {
     "name": "stdout",
     "output_type": "stream",
     "text": [
      "guess    : FLOOD\n",
      "clue     : NPPNN\n"
     ]
    },
    {
     "name": "stdin",
     "output_type": "stream",
     "text": [
      "What is your guess? >  LOADS\n"
     ]
    },
    {
     "name": "stdout",
     "output_type": "stream",
     "text": [
      "guess    : LOADS\n",
      "clue     : PCNNC\n"
     ]
    },
    {
     "name": "stdin",
     "output_type": "stream",
     "text": [
      "What is your guess? >  COALS\n"
     ]
    },
    {
     "name": "stdout",
     "output_type": "stream",
     "text": [
      "guess    : COALS\n",
      "clue     : NCNCC\n"
     ]
    },
    {
     "name": "stdin",
     "output_type": "stream",
     "text": [
      "What is your guess? >  FOULS\n"
     ]
    },
    {
     "name": "stdout",
     "output_type": "stream",
     "text": [
      "guess    : FOULS\n",
      "clue     : NCNCC\n"
     ]
    },
    {
     "name": "stdin",
     "output_type": "stream",
     "text": [
      "What is your guess? >  TOLLS\n"
     ]
    },
    {
     "name": "stdout",
     "output_type": "stream",
     "text": [
      "guess    : TOLLS\n",
      "clue     : NCNCC\n"
     ]
    },
    {
     "name": "stdin",
     "output_type": "stream",
     "text": [
      "What is your guess? >  BOWLS\n"
     ]
    },
    {
     "name": "stdout",
     "output_type": "stream",
     "text": [
      "guess    : BOWLS\n",
      "clue     : CCNCC\n"
     ]
    },
    {
     "name": "stdin",
     "output_type": "stream",
     "text": [
      "What is your guess? >  BOILS\n"
     ]
    },
    {
     "name": "stdout",
     "output_type": "stream",
     "text": [
      "guess    : BOILS\n",
      "clue     : CCCCC\n",
      "You win!\n",
      "See you soon!\n"
     ]
    }
   ],
   "source": [
    "wordle.words_play(answer.upper(), show_answer=False)"
   ]
  }
 ],
 "metadata": {
  "kernelspec": {
   "display_name": "Python 3 (ipykernel)",
   "language": "python",
   "name": "python3"
  },
  "language_info": {
   "codemirror_mode": {
    "name": "ipython",
    "version": 3
   },
   "file_extension": ".py",
   "mimetype": "text/x-python",
   "name": "python",
   "nbconvert_exporter": "python",
   "pygments_lexer": "ipython3",
   "version": "3.7.9"
  }
 },
 "nbformat": 4,
 "nbformat_minor": 5
}
