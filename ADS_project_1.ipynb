{
 "cells": [
  {
   "cell_type": "markdown",
   "id": "2b318d6c-cf70-44a2-bc2f-a83bff10465c",
   "metadata": {},
   "source": [
    "##### Algorithms and Data Structures (Winter - Spring 2022)"
   ]
  },
  {
   "cell_type": "markdown",
   "id": "c84dd0dd-8244-4cc8-aa81-0c0faf2d3fc7",
   "metadata": {},
   "source": [
    "# A First Project\n",
    "\n",
    "A newly popular game app, and quite a simple one, is Wordle.  As a game, it traces to Jotto and Mastermind.\n",
    "\n",
    "\"I'm thinking of a five-letter word.  Make a guess, that itself has to be a recognized five-letter word and I will tell you:\n",
    "\n",
    "* C: if your letter is correctly placed\n",
    "* P: if your letter is in the answer, but is incorrectly placed\n",
    "* N: if your letter is nowhere in the answer\n",
    "\n",
    "You have five guesses at most.  Ready?\"\n",
    "\n",
    "That's the final version of the game.  \n",
    "\n",
    "However, we're going to start, not with five-letter words, but with five-digit numbers.  The rules remain the same.\n",
    "\n",
    "<pre>\n",
    "What is your guess? > 89811\n",
    "answer   : 88976\n",
    "guess    : 89811\n",
    "clue     : CPPNN\n",
    "\n",
    "What is your guess? > 76889\n",
    "answer   : 88976\n",
    "guess    : 76889\n",
    "clue     : PPPPP\n",
    "\n",
    "What is your guess? > 88976\n",
    "answer   : 88976\n",
    "guess    : 88976\n",
    "clue     : CCCCC\n",
    "You win!\n",
    "</pre>"
   ]
  },
  {
   "cell_type": "markdown",
   "id": "6eaa0dc1-a5bd-4985-be85-f9944e88344e",
   "metadata": {},
   "source": [
    "In the actual game, you would not see the answer.  Your job is to guess the answer based on clues, using the following key:\n",
    "\n",
    "* C = Correct position\n",
    "* P = Correct letter, wrong position\n",
    "* N = Incorrect letter\n",
    "\n",
    "However straightforward these rules might seem, some subtle points are worth making.\n",
    "\n",
    "Once a digit in the guess gets a C or P, the corresponding digit in the answer is has been \"matched\" and cannot be matched again.  \n",
    "\n",
    "For example, if the answer is \"08180\" and the guess is \"88822\", then the clue string is \"PCNNN\".  \n",
    "\n",
    "The 3rd 8 didn't count, and registered an N (meaning \"not in the answer\"), because the only two 8s in the answer had already been matched to 8s in the guess.  \n",
    "\n",
    "There is no 3rd 8 to talk about, so that 8 gets an N.\n",
    "\n",
    "<pre>\n",
    "What is your guess? > 88822\n",
    "answer   : 08180\n",
    "guess    : 88822\n",
    "clue     : PCNNN\n",
    "\n",
    "What is your guess? > 08080\n",
    "answer   : 08180\n",
    "guess    : 08080\n",
    "clue     : CCNCC\n",
    "\n",
    "What is your guess? > 08180\n",
    "answer   : 08180\n",
    "guess    : 08180\n",
    "clue     : CCCCC\n",
    "You win!\n",
    "</pre>"
   ]
  },
  {
   "cell_type": "markdown",
   "id": "23a7897f-c8fc-4eef-bcbb-ca52225b7c9b",
   "metadata": {},
   "source": [
    "How might we convert this game into something to test in a contest?  \n",
    "\n",
    "The point is not to see who plays the best, but to see who has an algorithm that correctly evaluates a guess relative to an answer, and provides the right clues.\n",
    "\n",
    "An input file could provide two columns:  answer, guess. The corresponding output file repeats the answer and guess for clarity, then adds a 3rd column: the clue.  \n",
    "\n",
    "This input file would be a test file, against which to test your algorithm.  \n",
    "\n",
    "If your output file matches the one given, exactly, then you're ready to evaluate the actual final contest file.  \n",
    "\n",
    "The judges will keep the final output file secret and compare your results to theirs."
   ]
  },
  {
   "cell_type": "markdown",
   "id": "a922ca41-b4a8-4129-8037-bdde8ecbb992",
   "metadata": {},
   "source": [
    "Input (mmind_input.txt):\n",
    "\n",
    "<pre>\n",
    "88976 91829\n",
    "88976 91416\n",
    "88976 84372\n",
    "88976 70392\n",
    "88976 83324\n",
    "88976 53681\n",
    "88976 79288\n",
    "88976 30714\n",
    "88976 35122\n",
    "88976 46093\n",
    "</pre>\n",
    "\n",
    "Output (mmind_output.txt):\n",
    "\n",
    "<pre>\n",
    "88976 91829 PNPNN\n",
    "88976 91416 PNNNC\n",
    "88976 84372 CNNCN\n",
    "88976 70392 PNNPN\n",
    "88976 83324 CNNNN\n",
    "88976 53681 NNPPN\n",
    "88976 79288 PPNPP\n",
    "88976 30714 NNPNN\n",
    "88976 35122 NNNNN\n",
    "88976 46093 NPNPN\n",
    "</pre>"
   ]
  },
  {
   "cell_type": "markdown",
   "id": "9a6a35ad-5cd8-47f4-83a0-002a29941396",
   "metadata": {},
   "source": [
    "Let's get to work!"
   ]
  }
 ],
 "metadata": {
  "kernelspec": {
   "display_name": "Python 3 (ipykernel)",
   "language": "python",
   "name": "python3"
  },
  "language_info": {
   "codemirror_mode": {
    "name": "ipython",
    "version": 3
   },
   "file_extension": ".py",
   "mimetype": "text/x-python",
   "name": "python",
   "nbconvert_exporter": "python",
   "pygments_lexer": "ipython3",
   "version": "3.7.9"
  }
 },
 "nbformat": 4,
 "nbformat_minor": 5
}
