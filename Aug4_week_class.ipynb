{
 "cells": [
  {
   "cell_type": "markdown",
   "id": "bea4dd8a",
   "metadata": {},
   "source": [
    "# August 4, 6:  High School Math with Python\n",
    "\n",
    "Where we left off:  a [Rational Number type](July28_2021.ipynb).\n",
    "\n",
    "Going forward, instead of developing in a Notebook cell, lets develop in an IDE and load or import the source code.  Lets create a new Python module named mathobjects.py and put our emerging (developing) types (classes) in there.\n",
    "\n",
    "What's up this week?  Lets learn the basics of [Group Theory](https://github.com/4dsolutions/School_of_Tomorrow/blob/master/GroupTheory.ipynb) and apply them to what we've been studying up to now, which includes some [Number Theory](https://github.com/4dsolutions/School_of_Tomorrow/blob/master/NumberTheory.ipynb).\n",
    "\n",
    "The *Socratica* channel on Youtube has [a pretty good playlist](https://www.youtube.com/playlist?list=PLi01XoE8jYoi3SgnnGorR_XOW3IcK-TP6) on Group Theory, which is part of the subject of Abstract Algebra."
   ]
  },
  {
   "cell_type": "code",
   "execution_count": 1,
   "id": "50ac4dc8",
   "metadata": {},
   "outputs": [],
   "source": [
    "import imp"
   ]
  },
  {
   "cell_type": "code",
   "execution_count": 39,
   "id": "11cc2cb7",
   "metadata": {},
   "outputs": [
    {
     "data": {
      "text/plain": [
       "<module 'mathobjects' from '/Users/mac/Documents/elite_school/mathobjects.py'>"
      ]
     },
     "execution_count": 39,
     "metadata": {},
     "output_type": "execute_result"
    }
   ],
   "source": [
    "import mathobjects\n",
    "imp.reload(mathobjects)"
   ]
  },
  {
   "cell_type": "code",
   "execution_count": 40,
   "id": "c05e458b",
   "metadata": {},
   "outputs": [],
   "source": [
    "from mathobjects import Rat"
   ]
  },
  {
   "cell_type": "code",
   "execution_count": 4,
   "id": "37681bac",
   "metadata": {},
   "outputs": [],
   "source": [
    "p = Rat(1, 2)"
   ]
  },
  {
   "cell_type": "code",
   "execution_count": 5,
   "id": "8ab78f31",
   "metadata": {},
   "outputs": [],
   "source": [
    "q = Rat(2, 3)"
   ]
  },
  {
   "cell_type": "code",
   "execution_count": 6,
   "id": "c5bbb116",
   "metadata": {},
   "outputs": [
    {
     "data": {
      "text/plain": [
       "(4/3)"
      ]
     },
     "execution_count": 6,
     "metadata": {},
     "output_type": "execute_result"
    }
   ],
   "source": [
    "2*q"
   ]
  },
  {
   "cell_type": "code",
   "execution_count": 7,
   "id": "762b54c4",
   "metadata": {},
   "outputs": [
    {
     "data": {
      "text/plain": [
       "(2/3)"
      ]
     },
     "execution_count": 7,
     "metadata": {},
     "output_type": "execute_result"
    }
   ],
   "source": [
    "q"
   ]
  },
  {
   "cell_type": "code",
   "execution_count": 8,
   "id": "02f00839",
   "metadata": {},
   "outputs": [
    {
     "data": {
      "text/plain": [
       "(4/3)"
      ]
     },
     "execution_count": 8,
     "metadata": {},
     "output_type": "execute_result"
    }
   ],
   "source": [
    "q / p"
   ]
  },
  {
   "cell_type": "code",
   "execution_count": 9,
   "id": "917e1e5e",
   "metadata": {},
   "outputs": [
    {
     "data": {
      "text/plain": [
       "(1/1)"
      ]
     },
     "execution_count": 9,
     "metadata": {},
     "output_type": "execute_result"
    }
   ],
   "source": [
    "p * ~p"
   ]
  },
  {
   "cell_type": "markdown",
   "id": "bdda3194",
   "metadata": {},
   "source": [
    "### Group Theory and Totatives of N mod N"
   ]
  },
  {
   "cell_type": "code",
   "execution_count": 10,
   "id": "fcae0431",
   "metadata": {},
   "outputs": [],
   "source": [
    "from math import gcd"
   ]
  },
  {
   "cell_type": "code",
   "execution_count": 11,
   "id": "06da7bc9",
   "metadata": {},
   "outputs": [],
   "source": [
    "def stranger(m, n):\n",
    "    return gcd(m, n) == 1"
   ]
  },
  {
   "cell_type": "code",
   "execution_count": 12,
   "id": "a468bf5a",
   "metadata": {},
   "outputs": [
    {
     "data": {
      "text/plain": [
       "True"
      ]
     },
     "execution_count": 12,
     "metadata": {},
     "output_type": "execute_result"
    }
   ],
   "source": [
    "stranger(10, 41)"
   ]
  },
  {
   "cell_type": "code",
   "execution_count": 13,
   "id": "489e0546",
   "metadata": {},
   "outputs": [],
   "source": [
    "def totatives(n):\n",
    "      return [i for i in range(1, n) if stranger(n, i)]"
   ]
  },
  {
   "cell_type": "code",
   "execution_count": 14,
   "id": "4a38ef08",
   "metadata": {},
   "outputs": [
    {
     "data": {
      "text/plain": [
       "[1, 5, 7, 11]"
      ]
     },
     "execution_count": 14,
     "metadata": {},
     "output_type": "execute_result"
    }
   ],
   "source": [
    "totatives(12)"
   ]
  },
  {
   "cell_type": "code",
   "execution_count": 15,
   "id": "c0d2bdda",
   "metadata": {},
   "outputs": [
    {
     "data": {
      "text/plain": [
       "11"
      ]
     },
     "execution_count": 15,
     "metadata": {},
     "output_type": "execute_result"
    }
   ],
   "source": [
    "(7 * 5) % 12"
   ]
  },
  {
   "cell_type": "markdown",
   "id": "b60335f7",
   "metadata": {},
   "source": [
    "The idea of a \"Cayley Table\" vis-a-vis a finite group:  everything times everything. Or everything plus everything.  \n",
    "\n",
    "Whatever the operator, do it with every possible pair.  \n",
    "\n",
    "If you're dealing with a group at all, you'll show Closure among four key properties, meaning all the products will be elements found within the original finite set.\n",
    "\n",
    "You will also have associativity, and neutral element, and an inverse within the set, for every element.  \n",
    "\n",
    "The inverse of an element is such that any element and its inverse, operated upon by the group operation, give the neutral element as a result."
   ]
  },
  {
   "cell_type": "code",
   "execution_count": 16,
   "id": "03341447",
   "metadata": {},
   "outputs": [],
   "source": [
    "from itertools import product"
   ]
  },
  {
   "cell_type": "code",
   "execution_count": 41,
   "id": "017e5556",
   "metadata": {},
   "outputs": [],
   "source": [
    "from mathobjects import Mod"
   ]
  },
  {
   "cell_type": "code",
   "execution_count": 42,
   "id": "34f3c8cd",
   "metadata": {},
   "outputs": [],
   "source": [
    "def make_group(modulus):\n",
    "    Mod._modulus = modulus\n",
    "    return [Mod(m) for m in totatives(modulus)]"
   ]
  },
  {
   "cell_type": "code",
   "execution_count": 43,
   "id": "baee25cf",
   "metadata": {},
   "outputs": [],
   "source": [
    "t = make_group(12)"
   ]
  },
  {
   "cell_type": "code",
   "execution_count": 44,
   "id": "3100b0be",
   "metadata": {},
   "outputs": [
    {
     "data": {
      "text/plain": [
       "[((1 mod 12), (1 mod 12)),\n",
       " ((1 mod 12), (5 mod 12)),\n",
       " ((1 mod 12), (7 mod 12)),\n",
       " ((1 mod 12), (11 mod 12)),\n",
       " ((5 mod 12), (1 mod 12)),\n",
       " ((5 mod 12), (5 mod 12)),\n",
       " ((5 mod 12), (7 mod 12)),\n",
       " ((5 mod 12), (11 mod 12)),\n",
       " ((7 mod 12), (1 mod 12)),\n",
       " ((7 mod 12), (5 mod 12)),\n",
       " ((7 mod 12), (7 mod 12)),\n",
       " ((7 mod 12), (11 mod 12)),\n",
       " ((11 mod 12), (1 mod 12)),\n",
       " ((11 mod 12), (5 mod 12)),\n",
       " ((11 mod 12), (7 mod 12)),\n",
       " ((11 mod 12), (11 mod 12))]"
      ]
     },
     "execution_count": 44,
     "metadata": {},
     "output_type": "execute_result"
    }
   ],
   "source": [
    "list(product(t, t))"
   ]
  },
  {
   "cell_type": "code",
   "execution_count": 45,
   "id": "b6dba8b3",
   "metadata": {},
   "outputs": [
    {
     "data": {
      "text/plain": [
       "[(1 mod 12),\n",
       " (5 mod 12),\n",
       " (7 mod 12),\n",
       " (11 mod 12),\n",
       " (5 mod 12),\n",
       " (1 mod 12),\n",
       " (11 mod 12),\n",
       " (7 mod 12),\n",
       " (7 mod 12),\n",
       " (11 mod 12),\n",
       " (1 mod 12),\n",
       " (5 mod 12),\n",
       " (11 mod 12),\n",
       " (7 mod 12),\n",
       " (5 mod 12),\n",
       " (1 mod 12)]"
      ]
     },
     "execution_count": 45,
     "metadata": {},
     "output_type": "execute_result"
    }
   ],
   "source": [
    "[a * b for a,b in product(t, t)]"
   ]
  },
  {
   "cell_type": "code",
   "execution_count": 46,
   "id": "5aa36894",
   "metadata": {},
   "outputs": [],
   "source": [
    "def closure(results, elements):\n",
    "    return set(results).issubset(elements)"
   ]
  },
  {
   "cell_type": "markdown",
   "id": "9af2aa30",
   "metadata": {},
   "source": [
    "All the products are contained within the original set of elements."
   ]
  },
  {
   "cell_type": "code",
   "execution_count": 47,
   "id": "255c9fe4",
   "metadata": {},
   "outputs": [
    {
     "data": {
      "text/plain": [
       "True"
      ]
     },
     "execution_count": 47,
     "metadata": {},
     "output_type": "execute_result"
    }
   ],
   "source": [
    "closure([a * b for a,b in product(t, t)], make_group(12) )"
   ]
  }
 ],
 "metadata": {
  "kernelspec": {
   "display_name": "Python 3",
   "language": "python",
   "name": "python3"
  },
  "language_info": {
   "codemirror_mode": {
    "name": "ipython",
    "version": 3
   },
   "file_extension": ".py",
   "mimetype": "text/x-python",
   "name": "python",
   "nbconvert_exporter": "python",
   "pygments_lexer": "ipython3",
   "version": "3.7.9"
  }
 },
 "nbformat": 4,
 "nbformat_minor": 5
}
