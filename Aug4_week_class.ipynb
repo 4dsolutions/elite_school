{
 "cells": [
  {
   "cell_type": "markdown",
   "id": "6d63783e",
   "metadata": {},
   "source": [
    "# August 4, 6:  High School Math with Python\n",
    "\n",
    "Where we left off:  a [Rational Number type](July28_2021.ipynb).\n",
    "\n",
    "Going forward, instead of developing in a Notebook cell, lets develop in an IDE and load or import the source code.  Lets create a new Python module named mathobjects.py and put our emerging (developing) types (classes) in there.\n",
    "\n",
    "What's up this week?  Lets learn the basics of [Group Theory](https://github.com/4dsolutions/School_of_Tomorrow/blob/master/GroupTheory.ipynb) and apply them to what we've been studying up to now, which includes some [Number Theory](https://github.com/4dsolutions/School_of_Tomorrow/blob/master/NumberTheory.ipynb).\n",
    "\n",
    "The *Socratica* channel on Youtube has [a pretty good playlist](https://www.youtube.com/playlist?list=PLi01XoE8jYoi3SgnnGorR_XOW3IcK-TP6) on Group Theory, which is part of the subject of Abstract Algebra.\n",
    "\n",
    "One purpose of studying the Rational Number, Mod Numbers, and Permutations, in one Notebook, is to draw attention to Group, Ring and Field properties of various abstract algebras.\n",
    "\n",
    "High school has not typically delved into Abstract Algebra much, but in light of today's technologies, that status quo may be giving way.  We have better, more powerful learning tools at our elbow.\n",
    "\n",
    "Another big topic of tonight (August 6):  [sympy](CAS_Python.ipynb)\n",
    "\n",
    "I tried to give a thumbnail of how Polynomials feature, in terms of having factors and roots. Python is able to work with polynomials alegbraically.  Polynomials also have abstract algebra properties, when considered elements of an infinite set.\n",
    "\n",
    "Using a symbolic rendering of phi, as $(\\sqrt{5}+1)/2$, we were able to evalutate it to 1000 decimal places.  See Teacher Notes (chat window) appended below."
   ]
  },
  {
   "cell_type": "code",
   "execution_count": 48,
   "id": "31152cb8",
   "metadata": {},
   "outputs": [],
   "source": [
    "import imp"
   ]
  },
  {
   "cell_type": "code",
   "execution_count": 79,
   "id": "828de0a5",
   "metadata": {},
   "outputs": [
    {
     "data": {
      "text/plain": [
       "<module 'mathobjects' from '/Users/mac/Documents/elite_school/mathobjects.py'>"
      ]
     },
     "execution_count": 79,
     "metadata": {},
     "output_type": "execute_result"
    }
   ],
   "source": [
    "import mathobjects\n",
    "imp.reload(mathobjects)"
   ]
  },
  {
   "cell_type": "code",
   "execution_count": 73,
   "id": "ea14c061",
   "metadata": {},
   "outputs": [],
   "source": [
    "from mathobjects import Rat"
   ]
  },
  {
   "cell_type": "code",
   "execution_count": 74,
   "id": "473272d8",
   "metadata": {},
   "outputs": [
    {
     "data": {
      "text/plain": [
       "(1/2)"
      ]
     },
     "execution_count": 74,
     "metadata": {},
     "output_type": "execute_result"
    }
   ],
   "source": [
    "p = Rat(1, 2)\n",
    "p"
   ]
  },
  {
   "cell_type": "code",
   "execution_count": 78,
   "id": "4933ece0",
   "metadata": {},
   "outputs": [
    {
     "data": {
      "text/plain": [
       "(1)"
      ]
     },
     "execution_count": 78,
     "metadata": {},
     "output_type": "execute_result"
    }
   ],
   "source": [
    "p**0"
   ]
  },
  {
   "cell_type": "markdown",
   "id": "9a9177a7",
   "metadata": {},
   "source": [
    "My presentation August 6th was at least 1/3rd about implementing negative integer exponents, using the insight that $-3 = (-1)(3)$ i.e. raising to a negative power only adds one new wrinkle, whereas the repetitive positive powering piece has already been implemented.\n",
    "\n",
    "Also, why not show Rats as (p) instead of (p/q) when q is 1?  I tested that feature."
   ]
  },
  {
   "cell_type": "code",
   "execution_count": 98,
   "id": "79e2590c",
   "metadata": {},
   "outputs": [
    {
     "data": {
      "text/plain": [
       "(8)"
      ]
     },
     "execution_count": 98,
     "metadata": {},
     "output_type": "execute_result"
    }
   ],
   "source": [
    "p**-3"
   ]
  },
  {
   "cell_type": "code",
   "execution_count": 7,
   "id": "42e85892",
   "metadata": {},
   "outputs": [
    {
     "data": {
      "text/plain": [
       "(2/3)"
      ]
     },
     "execution_count": 7,
     "metadata": {},
     "output_type": "execute_result"
    }
   ],
   "source": [
    "q"
   ]
  },
  {
   "cell_type": "code",
   "execution_count": 8,
   "id": "b60e4ca9",
   "metadata": {},
   "outputs": [
    {
     "data": {
      "text/plain": [
       "(4/3)"
      ]
     },
     "execution_count": 8,
     "metadata": {},
     "output_type": "execute_result"
    }
   ],
   "source": [
    "q / p"
   ]
  },
  {
   "cell_type": "code",
   "execution_count": 99,
   "id": "49aa53bc",
   "metadata": {},
   "outputs": [
    {
     "data": {
      "text/plain": [
       "(1)"
      ]
     },
     "execution_count": 99,
     "metadata": {},
     "output_type": "execute_result"
    }
   ],
   "source": [
    "p * ~p  # every Rat has a multiplicative and additive inverse"
   ]
  },
  {
   "cell_type": "markdown",
   "id": "e0e40104",
   "metadata": {},
   "source": [
    "### Group Theory and Totatives of N mod N"
   ]
  },
  {
   "cell_type": "code",
   "execution_count": 10,
   "id": "cc2d3df6",
   "metadata": {},
   "outputs": [],
   "source": [
    "from math import gcd"
   ]
  },
  {
   "cell_type": "code",
   "execution_count": 11,
   "id": "f78202fc",
   "metadata": {},
   "outputs": [],
   "source": [
    "def stranger(m, n):\n",
    "    return gcd(m, n) == 1"
   ]
  },
  {
   "cell_type": "code",
   "execution_count": 12,
   "id": "328eaa56",
   "metadata": {},
   "outputs": [
    {
     "data": {
      "text/plain": [
       "True"
      ]
     },
     "execution_count": 12,
     "metadata": {},
     "output_type": "execute_result"
    }
   ],
   "source": [
    "stranger(10, 41)"
   ]
  },
  {
   "cell_type": "code",
   "execution_count": 13,
   "id": "7ec9efdb",
   "metadata": {},
   "outputs": [],
   "source": [
    "def totatives(n):\n",
    "      return [i for i in range(1, n) if stranger(n, i)]"
   ]
  },
  {
   "cell_type": "code",
   "execution_count": 14,
   "id": "796a0ddf",
   "metadata": {},
   "outputs": [
    {
     "data": {
      "text/plain": [
       "[1, 5, 7, 11]"
      ]
     },
     "execution_count": 14,
     "metadata": {},
     "output_type": "execute_result"
    }
   ],
   "source": [
    "totatives(12)"
   ]
  },
  {
   "cell_type": "code",
   "execution_count": 15,
   "id": "d428afd8",
   "metadata": {},
   "outputs": [
    {
     "data": {
      "text/plain": [
       "11"
      ]
     },
     "execution_count": 15,
     "metadata": {},
     "output_type": "execute_result"
    }
   ],
   "source": [
    "(7 * 5) % 12"
   ]
  },
  {
   "cell_type": "markdown",
   "id": "9ecb8ec3",
   "metadata": {},
   "source": [
    "The idea of a \"Cayley Table\" vis-a-vis a finite group:  everything times everything. Or everything plus everything.  \n",
    "\n",
    "Whatever the operator, do it with every possible pair.  \n",
    "\n",
    "If you're dealing with a group at all, you'll show Closure among four key properties, meaning all the products will be elements found within the original finite set.\n",
    "\n",
    "You will also have associativity, and neutral element, and an inverse within the set, for every element.  \n",
    "\n",
    "The inverse of an element is such that any element and its inverse, operated upon by the group operation, give the neutral element as a result."
   ]
  },
  {
   "cell_type": "code",
   "execution_count": 16,
   "id": "de76bf8f",
   "metadata": {},
   "outputs": [],
   "source": [
    "from itertools import product"
   ]
  },
  {
   "cell_type": "code",
   "execution_count": 41,
   "id": "1ba9c447",
   "metadata": {},
   "outputs": [],
   "source": [
    "from mathobjects import Mod"
   ]
  },
  {
   "cell_type": "code",
   "execution_count": 42,
   "id": "4c66e467",
   "metadata": {},
   "outputs": [],
   "source": [
    "def make_group(modulus):\n",
    "    Mod._modulus = modulus\n",
    "    return [Mod(m) for m in totatives(modulus)]"
   ]
  },
  {
   "cell_type": "code",
   "execution_count": 43,
   "id": "73edaf77",
   "metadata": {},
   "outputs": [],
   "source": [
    "t = make_group(12)"
   ]
  },
  {
   "cell_type": "code",
   "execution_count": 44,
   "id": "1eb98d71",
   "metadata": {},
   "outputs": [
    {
     "data": {
      "text/plain": [
       "[((1 mod 12), (1 mod 12)),\n",
       " ((1 mod 12), (5 mod 12)),\n",
       " ((1 mod 12), (7 mod 12)),\n",
       " ((1 mod 12), (11 mod 12)),\n",
       " ((5 mod 12), (1 mod 12)),\n",
       " ((5 mod 12), (5 mod 12)),\n",
       " ((5 mod 12), (7 mod 12)),\n",
       " ((5 mod 12), (11 mod 12)),\n",
       " ((7 mod 12), (1 mod 12)),\n",
       " ((7 mod 12), (5 mod 12)),\n",
       " ((7 mod 12), (7 mod 12)),\n",
       " ((7 mod 12), (11 mod 12)),\n",
       " ((11 mod 12), (1 mod 12)),\n",
       " ((11 mod 12), (5 mod 12)),\n",
       " ((11 mod 12), (7 mod 12)),\n",
       " ((11 mod 12), (11 mod 12))]"
      ]
     },
     "execution_count": 44,
     "metadata": {},
     "output_type": "execute_result"
    }
   ],
   "source": [
    "list(product(t, t))"
   ]
  },
  {
   "cell_type": "code",
   "execution_count": 45,
   "id": "3206ae47",
   "metadata": {},
   "outputs": [
    {
     "data": {
      "text/plain": [
       "[(1 mod 12),\n",
       " (5 mod 12),\n",
       " (7 mod 12),\n",
       " (11 mod 12),\n",
       " (5 mod 12),\n",
       " (1 mod 12),\n",
       " (11 mod 12),\n",
       " (7 mod 12),\n",
       " (7 mod 12),\n",
       " (11 mod 12),\n",
       " (1 mod 12),\n",
       " (5 mod 12),\n",
       " (11 mod 12),\n",
       " (7 mod 12),\n",
       " (5 mod 12),\n",
       " (1 mod 12)]"
      ]
     },
     "execution_count": 45,
     "metadata": {},
     "output_type": "execute_result"
    }
   ],
   "source": [
    "[a * b for a,b in product(t, t)]"
   ]
  },
  {
   "cell_type": "code",
   "execution_count": 46,
   "id": "3226ddc4",
   "metadata": {},
   "outputs": [],
   "source": [
    "def closure(results, elements):\n",
    "    return set(results).issubset(elements)"
   ]
  },
  {
   "cell_type": "markdown",
   "id": "8b5b3c5b",
   "metadata": {},
   "source": [
    "All the products are contained within the original set of elements."
   ]
  },
  {
   "cell_type": "code",
   "execution_count": 47,
   "id": "ea4889d2",
   "metadata": {},
   "outputs": [
    {
     "data": {
      "text/plain": [
       "True"
      ]
     },
     "execution_count": 47,
     "metadata": {},
     "output_type": "execute_result"
    }
   ],
   "source": [
    "closure([a * b for a,b in product(t, t)], make_group(12) )"
   ]
  },
  {
   "cell_type": "markdown",
   "id": "6a992e79",
   "metadata": {},
   "source": [
    "### Groups and Permutations\n",
    "\n",
    "The source code for the P-type object is in [mathobjects.py](mathobjects.py), and also at [REPL.IT](https://replit.com/@kurner/Permutations#main.py)"
   ]
  },
  {
   "cell_type": "code",
   "execution_count": 81,
   "id": "411dff35",
   "metadata": {},
   "outputs": [
    {
     "name": "stdout",
     "output_type": "stream",
     "text": [
      "First Test Succeeds\n",
      "Second Test Succeeds\n",
      "Plain:   able was i ere i saw elba\n",
      "Cipher:  zcy btzrbmb h bmbrztb ycz\n",
      "Third Test Succeeds\n",
      "Fourth Test Succeeds\n",
      "Fifth Test Succeeds\n",
      "Perm: {'a': 'f', 'b': 'e', 'c': 'i', 'd': 'r', 'e': 'x', 'f': 'q', 'g': 'b', 'h': 'l', 'i': 'm', 'j': 'h', 'k': 'k', 'l': 's', 'm': 'v', 'n': 'z', 'o': 'u', 'p': 'o', 'q': 'c', 'r': 'w', 's': 'y', 't': 'p', 'u': 'n', 'v': 'd', 'w': ' ', 'x': 'g', 'y': 't', 'z': 'a', ' ': 'j'}\n",
      "Inv table: {' ': 23, 'a': 25, 'b': 7, 'c': 16, 'd': 20, 'e': 2, 'f': 1, 'g': 18, 'h': 7, 'i': 1, 'j': 0, 'k': 5, 'l': 3, 'm': 3, 'n': 11, 'o': 7, 'p': 9, 'q': 2, 'r': 0, 's': 1, 't': 6, 'u': 3, 'v': 1, 'w': 2, 'x': 0, 'y': 1, 'z': 0}\n",
      "Sixth Test Succeeds\n"
     ]
    }
   ],
   "source": [
    "mathobjects.test_me()"
   ]
  },
  {
   "cell_type": "code",
   "execution_count": 83,
   "id": "f3ef8456",
   "metadata": {},
   "outputs": [],
   "source": [
    "from mathobjects import P"
   ]
  },
  {
   "cell_type": "code",
   "execution_count": 85,
   "id": "a1bcdc0e",
   "metadata": {},
   "outputs": [
    {
     "data": {
      "text/plain": [
       "P class: (('a', 'a'), ('b', 'b'), ('c', 'c'))..."
      ]
     },
     "execution_count": 85,
     "metadata": {},
     "output_type": "execute_result"
    }
   ],
   "source": [
    "instance = P()\n",
    "instance"
   ]
  },
  {
   "cell_type": "code",
   "execution_count": 88,
   "id": "eb67a3b5",
   "metadata": {},
   "outputs": [
    {
     "data": {
      "text/plain": [
       "P class: (('a', 's'), ('b', 'j'), ('c', 'g'))..."
      ]
     },
     "execution_count": 88,
     "metadata": {},
     "output_type": "execute_result"
    }
   ],
   "source": [
    "instance3 = instance2.shuffle()\n",
    "instance3"
   ]
  },
  {
   "cell_type": "code",
   "execution_count": 90,
   "id": "7a8f8a01",
   "metadata": {},
   "outputs": [
    {
     "data": {
      "text/plain": [
       "P class: (('k', 'a'), (' ', 'b'), ('d', 'c'))..."
      ]
     },
     "execution_count": 90,
     "metadata": {},
     "output_type": "execute_result"
    }
   ],
   "source": [
    "~instance2"
   ]
  },
  {
   "cell_type": "code",
   "execution_count": 95,
   "id": "df6a7312",
   "metadata": {},
   "outputs": [
    {
     "data": {
      "text/plain": [
       "P class: (('a', 'a'), ('b', 'b'), ('c', 'c'))..."
      ]
     },
     "execution_count": 95,
     "metadata": {},
     "output_type": "execute_result"
    }
   ],
   "source": [
    "instance2 * ~instance2"
   ]
  },
  {
   "cell_type": "code",
   "execution_count": 93,
   "id": "dd83d00e",
   "metadata": {},
   "outputs": [
    {
     "data": {
      "text/plain": [
       "'ncofegcxailfr'"
      ]
     },
     "execution_count": 93,
     "metadata": {},
     "output_type": "execute_result"
    }
   ],
   "source": [
    "instance2.encrypt(\"i love python\")"
   ]
  },
  {
   "cell_type": "code",
   "execution_count": 97,
   "id": "1eb6d252",
   "metadata": {},
   "outputs": [
    {
     "data": {
      "text/plain": [
       "P class: (('a', 't'), ('b', 'w'), ('c', 'y'))..."
      ]
     },
     "execution_count": 97,
     "metadata": {},
     "output_type": "execute_result"
    }
   ],
   "source": [
    "instance2 * instance3"
   ]
  },
  {
   "cell_type": "markdown",
   "id": "45f486fc",
   "metadata": {},
   "source": [
    "For further exploration:\n",
    "\n",
    "[PB's class repo](https://github.com/pbarton666/data_science_usn)\n"
   ]
  },
  {
   "cell_type": "markdown",
   "id": "bc70ae6f",
   "metadata": {},
   "source": [
    "<pre>\n",
    "16:45:21 From Kirby Urner to Everyone:\n",
    "\thttps://www.youtube.com/playlist?list=PLi01XoE8jYoi3SgnnGorR_XOW3IcK-TP6\n",
    "16:45:26 From Kirby Urner to Everyone:\n",
    "\tHello everyone\n",
    "17:00:16 From Kirby Urner to Everyone:\n",
    "\tCAS_Python.ipynb\n",
    "17:00:29 From Kirby Urner to Everyone:\n",
    "\tComputer Algebra System\n",
    "17:11:21 From Kirby Urner to Everyone:\n",
    "\t1.618033988749894848204586834365638117720309179805762862135448\n",
    "    622705260462818902449707207204189391137484754088075386891752126633\n",
    "    86222353693179318006076672635443338908659593958290563832266131992829\n",
    "    026788067520876689250171169620703222104321626954862629631361443814975\n",
    "    870122034080588795445474924618569536486444924104432077134494704956584\n",
    "    6788509874339442212544877066478091588460749988712400765217057517978834\n",
    "    1662562494075890697040002812104276217711177780531531714101170466659914\n",
    "    6697987317613560067087480710131795236894275219484353056783002287856997\n",
    "    8297783478458782289110976250030269615617002504643382437764861028383126\n",
    "    8330372429267526311653392473167111211588186385133162038400522216579128\n",
    "    6675294654906811317159934323597349498509040947621322298101726107059611\n",
    "    6456299098162905552085247903524060201727997471753427775927786256194320\n",
    "    82750513121815628551222480939471234145170223735805772786160086883829523\n",
    "    04592647878017889921990270776903895321968198615143780314997411069260886\n",
    "    74296226757560523172777520353613936\n",
    "    \n",
    "17:15:58 From Kirby Urner to Everyone:\n",
    "\tThese commands were executed:\n",
    "\t>>> from __future__ import division\n",
    "\t>>> from sympy import *\n",
    "\t>>> x, y, z, t = symbols('x y z t')\n",
    "\t>>> k, m, n = symbols('k m n', integer=True)\n",
    "\t>>> f, g, h = symbols('f g h', cls=Function)\n",
    "\t>>> init_printing()\n",
    "17:29:56 From Kirby Urner to Everyone:\n",
    "\t(1/2)**-1 == (2/1)\n",
    "17:30:39 From Kirby Urner to Everyone:\n",
    "\tpow()\n",
    "17:30:52 From Kirby Urner to Everyone:\n",
    "\t__pow__\n",
    "17:36:42 From Kirby Urner to Everyone:\n",
    "\t(1/2)**(-3)\n",
    "17:36:56 From Kirby Urner to Everyone:\n",
    "\t(2/1)**3\n",
    "17:37:04 From Kirby Urner to Everyone:\n",
    "\t8\n",
    "17:37:11 From Kirby Urner to Everyone:\n",
    "\t(8/1)\n",
    "17:59:21 From Kirby Urner to Everyone:\n",
    "\t10888869450418352160768000000 permutations of letters a-z plus space.\n",
    "</pre>"
   ]
  },
  {
   "cell_type": "markdown",
   "id": "6fbc9773",
   "metadata": {},
   "source": [
    "Follow-up e-letter (one typo fixed):\n",
    "\n",
    "<pre>\n",
    "Re:  https://github.com/4dsolutions/elite_school/blob/master/Aug4_week_class.ipynb\n",
    "\n",
    "Greetings students --\n",
    "\n",
    "For those who joined me live, and those catching up by video, here's what we covered:\n",
    "\n",
    "(1) it's fine to reorganize your project, in terms of file folders, even under version control (opening remarks)\n",
    "\n",
    "(2) the Rational Number type (we went back and finished it, allowing negative powers -- I floundered a bit, developing live, showing the process, but it worked in the end)\n",
    "\n",
    "(3) the basics of Abstract Algebra:  elements do different dances (analogy), according to specific rules (about inverses etc.). \n",
    "\n",
    "From least to most complicated: \n",
    "\n",
    "* Group: one operation (closure, associative, inverse, identity)\n",
    "* Ring: two operations forming a Group + a sort-of Group\n",
    "* Field: two operations, both forming Groups\n",
    "\n",
    "Examples: \n",
    "\n",
    "Group: Totatives of N modulo N, multiplied\n",
    "Ring:  Integers, Multiplied and Added (missing multiplicative inverses)\n",
    "Field: i)  rational Numbers (closure, inverse, neutral, associate for both + and *)\n",
    "         ii) totatives of N modulo N, multiplied, N is prime.\n",
    "\n",
    "(4) while the iron is still hot from the Abstract Algebra discussion (see Socratica channel), reintroduce Permutations (from repl.it) as mappings from letters to letters (space included).  Group ideas apply!\n",
    "\n",
    "(5) admittedly abstract algebra is not featured in conventional highschool, but Polynomials are!  A lot!  What does Python, in a Jupyter Notebook context, have to offer?  We surveyed computer algebra features of sympy.\n",
    "\n",
    "That sounds like a lot for one afternoon, but then some of this was review and/or spiralling, i.e. reviewing old topics from new angles.  Or at least that was my sense of things.\n",
    "\n",
    "What do you think?  Are we having fun learning math with Python, and Python with math?\n",
    "\n",
    "Kirby Urner\n",
    "kirby.urner@gmail.com\n",
    "Sunshine Elite School\n",
    "August 6, 2021\n",
    "\n",
    " \n",
    "\n",
    "\n",
    "\n",
    "\n",
    "Course Name: Python III: Python Programming for High School\n",
    "Datetime: 06/30-08/20 Wednesday,Friday 4:30pm-6:00pm\n",
    "Location: Online\n",
    "\n",
    "Thanks,\n",
    "Sunshine Elite Education\n",
    "------------------------------------------------\n",
    "</pre>"
   ]
  }
 ],
 "metadata": {
  "kernelspec": {
   "display_name": "Python 3",
   "language": "python",
   "name": "python3"
  },
  "language_info": {
   "codemirror_mode": {
    "name": "ipython",
    "version": 3
   },
   "file_extension": ".py",
   "mimetype": "text/x-python",
   "name": "python",
   "nbconvert_exporter": "python",
   "pygments_lexer": "ipython3",
   "version": "3.7.9"
  }
 },
 "nbformat": 4,
 "nbformat_minor": 5
}
