{
 "cells": [
  {
   "cell_type": "markdown",
   "id": "9a126241-9672-4522-9675-dab49009ff74",
   "metadata": {},
   "source": [
    "# Matrix Math\n",
    "\n",
    "One way to approach maths is to let the jargon pile up for awhile, then make sure you have it down.  Spending too much time on one concept may actually be a pitfall, because it depends for its meaning on other concepts.  To delay reaching these other concepts is to make understanding even a first one all that more difficult.\n",
    "\n",
    "For example, the complex conjugate of a number or matrix, as distinct from its inverse or transpose, may not at first be clear.  However, already, we know a matrix has an inverse and so on.  That could be the news right there.  Then we go back and add more flesh."
   ]
  },
  {
   "cell_type": "markdown",
   "id": "bcc60b25-9dc5-4f27-8209-e65b42b27054",
   "metadata": {},
   "source": [
    "https://youtu.be/yeK2N7FbkVI\n",
    "\n",
    "https://youtu.be/DUuTx2nbizM\n",
    "\n",
    "https://youtu.be/7rE9gcj5I2U\n",
    "\n",
    "https://youtu.be/ganF52dxL1U"
   ]
  },
  {
   "cell_type": "code",
   "execution_count": 2,
   "id": "8041957f-9e78-46da-b92a-cc556961dcec",
   "metadata": {},
   "outputs": [],
   "source": [
    "import sympy as sp\n",
    "from sympy import Matrix"
   ]
  },
  {
   "cell_type": "code",
   "execution_count": 35,
   "id": "5feec171-5114-4b1d-98d2-a3a67d2ed035",
   "metadata": {},
   "outputs": [],
   "source": [
    "σ1, σ2, σ3 = sp.symbols('σ1 σ2 σ3')"
   ]
  },
  {
   "cell_type": "code",
   "execution_count": 3,
   "id": "404d9f89-82a0-47c5-9958-7411a41323d1",
   "metadata": {},
   "outputs": [
    {
     "data": {
      "text/latex": [
       "$\\displaystyle i$"
      ],
      "text/plain": [
       "I"
      ]
     },
     "execution_count": 3,
     "metadata": {},
     "output_type": "execute_result"
    }
   ],
   "source": [
    "sp.sqrt(-1)"
   ]
  },
  {
   "cell_type": "code",
   "execution_count": 5,
   "id": "8c65a8ab-be37-4327-86bc-3c55d80fc742",
   "metadata": {},
   "outputs": [
    {
     "data": {
      "text/latex": [
       "$\\displaystyle i$"
      ],
      "text/plain": [
       "I"
      ]
     },
     "execution_count": 5,
     "metadata": {},
     "output_type": "execute_result"
    }
   ],
   "source": [
    "sp.I"
   ]
  },
  {
   "cell_type": "code",
   "execution_count": 18,
   "id": "64fd7bb8-d554-4483-9aef-6d6c0a740cab",
   "metadata": {},
   "outputs": [
    {
     "data": {
      "text/latex": [
       "$\\displaystyle - i$"
      ],
      "text/plain": [
       "-I"
      ]
     },
     "execution_count": 18,
     "metadata": {},
     "output_type": "execute_result"
    }
   ],
   "source": [
    "sp.I.conjugate()"
   ]
  },
  {
   "cell_type": "code",
   "execution_count": 26,
   "id": "dec444cd-ef29-4da8-8861-cc33d9340e46",
   "metadata": {},
   "outputs": [
    {
     "data": {
      "text/latex": [
       "$\\displaystyle 3 + 2 i$"
      ],
      "text/plain": [
       "3 + 2*I"
      ]
     },
     "execution_count": 26,
     "metadata": {},
     "output_type": "execute_result"
    }
   ],
   "source": [
    "c = 3 + 2*sp.I; c"
   ]
  },
  {
   "cell_type": "code",
   "execution_count": 27,
   "id": "9d72befe-a2d3-40b0-acbd-9281af7cde55",
   "metadata": {},
   "outputs": [
    {
     "data": {
      "text/latex": [
       "$\\displaystyle 3 - 2 i$"
      ],
      "text/plain": [
       "3 - 2*I"
      ]
     },
     "execution_count": 27,
     "metadata": {},
     "output_type": "execute_result"
    }
   ],
   "source": [
    "c.conjugate()"
   ]
  },
  {
   "cell_type": "code",
   "execution_count": 30,
   "id": "f1ac60e5-f6d0-4889-9790-7074153af69a",
   "metadata": {},
   "outputs": [
    {
     "data": {
      "text/latex": [
       "$\\displaystyle \\left(3 - 2 i\\right) \\left(3 + 2 i\\right)$"
      ],
      "text/plain": [
       "(3 - 2*I)*(3 + 2*I)"
      ]
     },
     "execution_count": 30,
     "metadata": {},
     "output_type": "execute_result"
    }
   ],
   "source": [
    "c * c.conjugate()"
   ]
  },
  {
   "cell_type": "code",
   "execution_count": 31,
   "id": "0e4c88d0-90bc-4fbd-be98-ba09494d2db7",
   "metadata": {},
   "outputs": [
    {
     "data": {
      "text/latex": [
       "$\\displaystyle 13$"
      ],
      "text/plain": [
       "13"
      ]
     },
     "execution_count": 31,
     "metadata": {},
     "output_type": "execute_result"
    }
   ],
   "source": [
    "_.expand()"
   ]
  },
  {
   "cell_type": "code",
   "execution_count": 6,
   "id": "01ad0f0e-ac81-4501-bd01-850895bb2276",
   "metadata": {},
   "outputs": [],
   "source": [
    "a, b = sp.symbols('a b')"
   ]
  },
  {
   "cell_type": "code",
   "execution_count": 40,
   "id": "36b3ad60-12ae-41e1-87a8-574929f51ffd",
   "metadata": {},
   "outputs": [
    {
     "data": {
      "text/latex": [
       "$\\displaystyle \\left[\\begin{matrix}0 & 1\\\\1 & 0\\end{matrix}\\right]$"
      ],
      "text/plain": [
       "Matrix([\n",
       "[0, 1],\n",
       "[1, 0]])"
      ]
     },
     "execution_count": 40,
     "metadata": {},
     "output_type": "execute_result"
    }
   ],
   "source": [
    "σ1 = Matrix([[0, 1], [1, 0]])\n",
    "σ1"
   ]
  },
  {
   "cell_type": "code",
   "execution_count": 41,
   "id": "70d3203c-2721-4a06-8dc2-c044d9232018",
   "metadata": {},
   "outputs": [
    {
     "data": {
      "text/latex": [
       "$\\displaystyle \\left[\\begin{matrix}0 & - i\\\\i & 0\\end{matrix}\\right]$"
      ],
      "text/plain": [
       "Matrix([\n",
       "[0, -I],\n",
       "[I,  0]])"
      ]
     },
     "execution_count": 41,
     "metadata": {},
     "output_type": "execute_result"
    }
   ],
   "source": [
    "σ2 = Matrix([[0, -sp.I], [sp.I, 0]])\n",
    "σ2"
   ]
  },
  {
   "cell_type": "code",
   "execution_count": 42,
   "id": "c61ef2c8-1926-4fde-896a-1be423a30124",
   "metadata": {},
   "outputs": [
    {
     "data": {
      "text/latex": [
       "$\\displaystyle \\left[\\begin{matrix}1 & 0\\\\0 & -1\\end{matrix}\\right]$"
      ],
      "text/plain": [
       "Matrix([\n",
       "[1,  0],\n",
       "[0, -1]])"
      ]
     },
     "execution_count": 42,
     "metadata": {},
     "output_type": "execute_result"
    }
   ],
   "source": [
    "σ3 = Matrix([[1, 0], [0, -1]])\n",
    "σ3"
   ]
  },
  {
   "cell_type": "code",
   "execution_count": 47,
   "id": "fbdbc18f-f1db-4e7a-a81e-b6ca83250be2",
   "metadata": {},
   "outputs": [
    {
     "data": {
      "text/plain": [
       "(Matrix([\n",
       " [1, 0],\n",
       " [0, 1]]),\n",
       " Matrix([\n",
       " [1, 0],\n",
       " [0, 1]]),\n",
       " Matrix([\n",
       " [1, 0],\n",
       " [0, 1]]))"
      ]
     },
     "execution_count": 47,
     "metadata": {},
     "output_type": "execute_result"
    }
   ],
   "source": [
    "σ1 ** 2, σ2 ** 2, σ3 ** 2"
   ]
  },
  {
   "cell_type": "code",
   "execution_count": 43,
   "id": "65c86ccc-c13b-433d-b844-44e0d6953f1f",
   "metadata": {},
   "outputs": [
    {
     "data": {
      "text/latex": [
       "$\\displaystyle \\left[\\begin{matrix}0 & - i\\\\- i & 0\\end{matrix}\\right]$"
      ],
      "text/plain": [
       "Matrix([\n",
       "[ 0, -I],\n",
       "[-I,  0]])"
      ]
     },
     "execution_count": 43,
     "metadata": {},
     "output_type": "execute_result"
    }
   ],
   "source": [
    "σ3 * σ2"
   ]
  },
  {
   "cell_type": "code",
   "execution_count": 44,
   "id": "7f88901c-41c8-4736-a180-164ef960c237",
   "metadata": {},
   "outputs": [
    {
     "data": {
      "text/latex": [
       "$\\displaystyle \\left[\\begin{matrix}0 & i\\\\i & 0\\end{matrix}\\right]$"
      ],
      "text/plain": [
       "Matrix([\n",
       "[0, I],\n",
       "[I, 0]])"
      ]
     },
     "execution_count": 44,
     "metadata": {},
     "output_type": "execute_result"
    }
   ],
   "source": [
    "σ2 * σ3"
   ]
  },
  {
   "cell_type": "code",
   "execution_count": 48,
   "id": "8be749ac-5962-4bd0-8024-fc38bb05e70b",
   "metadata": {},
   "outputs": [
    {
     "data": {
      "text/latex": [
       "$\\displaystyle \\left[\\begin{matrix}0 & - 2 i\\\\- 2 i & 0\\end{matrix}\\right]$"
      ],
      "text/plain": [
       "Matrix([\n",
       "[   0, -2*I],\n",
       "[-2*I,    0]])"
      ]
     },
     "execution_count": 48,
     "metadata": {},
     "output_type": "execute_result"
    }
   ],
   "source": [
    "σ3 * σ2 - σ2 * σ3"
   ]
  },
  {
   "cell_type": "code",
   "execution_count": 49,
   "id": "bea18187-d913-47c1-8f79-2cf33a682d8c",
   "metadata": {},
   "outputs": [
    {
     "data": {
      "text/latex": [
       "$\\displaystyle \\left[\\begin{matrix}0 & 2 i\\\\2 i & 0\\end{matrix}\\right]$"
      ],
      "text/plain": [
       "Matrix([\n",
       "[  0, 2*I],\n",
       "[2*I,   0]])"
      ]
     },
     "execution_count": 49,
     "metadata": {},
     "output_type": "execute_result"
    }
   ],
   "source": [
    "2 * sp.I * σ1"
   ]
  },
  {
   "cell_type": "code",
   "execution_count": null,
   "id": "1cbb1b21-d619-4eba-a5ae-3d7b44df93d4",
   "metadata": {},
   "outputs": [],
   "source": []
  },
  {
   "cell_type": "code",
   "execution_count": 11,
   "id": "5db3e732-ff07-4286-8aa6-08e69d4fc08b",
   "metadata": {},
   "outputs": [
    {
     "data": {
      "text/latex": [
       "$\\displaystyle \\left[\\begin{matrix}- i & 0\\\\-1 & - i\\end{matrix}\\right]$"
      ],
      "text/plain": [
       "Matrix([\n",
       "[-I,  0],\n",
       "[-1, -I]])"
      ]
     },
     "execution_count": 11,
     "metadata": {},
     "output_type": "execute_result"
    }
   ],
   "source": [
    "m.conjugate()"
   ]
  },
  {
   "cell_type": "code",
   "execution_count": 13,
   "id": "e65c8906-87f3-4a6d-a546-128cd7d2f952",
   "metadata": {},
   "outputs": [
    {
     "data": {
      "text/latex": [
       "$\\displaystyle \\left[\\begin{matrix}- i & -1\\\\0 & - i\\end{matrix}\\right]$"
      ],
      "text/plain": [
       "Matrix([\n",
       "[-I, -1],\n",
       "[ 0, -I]])"
      ]
     },
     "execution_count": 13,
     "metadata": {},
     "output_type": "execute_result"
    }
   ],
   "source": [
    "m_h = m.conjugate().transpose()\n",
    "m_h"
   ]
  },
  {
   "cell_type": "code",
   "execution_count": 14,
   "id": "aa1b6e90-6f89-45fe-ad84-82c604b57dbb",
   "metadata": {},
   "outputs": [
    {
     "data": {
      "text/latex": [
       "$\\displaystyle \\left[\\begin{matrix}1 & - i\\\\i & 2\\end{matrix}\\right]$"
      ],
      "text/plain": [
       "Matrix([\n",
       "[1, -I],\n",
       "[I,  2]])"
      ]
     },
     "execution_count": 14,
     "metadata": {},
     "output_type": "execute_result"
    }
   ],
   "source": [
    "m * m_h"
   ]
  },
  {
   "cell_type": "code",
   "execution_count": 16,
   "id": "f2e029b7-631f-4d4f-98cc-e308f22ee539",
   "metadata": {},
   "outputs": [
    {
     "data": {
      "text/latex": [
       "$\\displaystyle \\left[\\begin{matrix}- i & 0\\\\-1 & - i\\end{matrix}\\right]$"
      ],
      "text/plain": [
       "Matrix([\n",
       "[-I,  0],\n",
       "[-1, -I]])"
      ]
     },
     "execution_count": 16,
     "metadata": {},
     "output_type": "execute_result"
    }
   ],
   "source": [
    "m.inv()"
   ]
  },
  {
   "cell_type": "code",
   "execution_count": 17,
   "id": "89deb8bc-1800-4d97-9ad0-b78b8e1125a8",
   "metadata": {},
   "outputs": [
    {
     "data": {
      "text/latex": [
       "$\\displaystyle \\left[\\begin{matrix}1 & 0\\\\0 & 1\\end{matrix}\\right]$"
      ],
      "text/plain": [
       "Matrix([\n",
       "[1, 0],\n",
       "[0, 1]])"
      ]
     },
     "execution_count": 17,
     "metadata": {},
     "output_type": "execute_result"
    }
   ],
   "source": [
    "m * m.inv()"
   ]
  },
  {
   "cell_type": "code",
   "execution_count": 34,
   "id": "adc0afda-37e4-42f7-8463-bbbecd15e6ac",
   "metadata": {},
   "outputs": [
    {
     "data": {
      "text/plain": [
       "False"
      ]
     },
     "execution_count": 34,
     "metadata": {},
     "output_type": "execute_result"
    }
   ],
   "source": [
    "m.is_hermitian"
   ]
  },
  {
   "cell_type": "code",
   "execution_count": null,
   "id": "2df3ed55-d891-4cc8-b5b0-7ff74d468fda",
   "metadata": {},
   "outputs": [],
   "source": []
  }
 ],
 "metadata": {
  "kernelspec": {
   "display_name": "Python 3 (ipykernel)",
   "language": "python",
   "name": "python3"
  },
  "language_info": {
   "codemirror_mode": {
    "name": "ipython",
    "version": 3
   },
   "file_extension": ".py",
   "mimetype": "text/x-python",
   "name": "python",
   "nbconvert_exporter": "python",
   "pygments_lexer": "ipython3",
   "version": "3.9.12"
  }
 },
 "nbformat": 4,
 "nbformat_minor": 5
}
