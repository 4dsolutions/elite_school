{
 "cells": [
  {
   "cell_type": "markdown",
   "id": "468e25aa-24a4-4eaf-b4e0-c47792f38b1c",
   "metadata": {
    "tags": []
   },
   "source": [
    "##### Python for High School (Summer 2022)\n",
    "\n",
    "* [Table of Contents](PY4HS.ipynb)\n",
    "* <a href=\"https://colab.research.google.com/github/4dsolutions/elite_school/blob/master/Py4HS_July_26_2022.ipynb\"><img align=\"left\" src=\"https://colab.research.google.com/assets/colab-badge.svg\" alt=\"Open in Colab\" title=\"Open and Execute in Google Colaboratory\"></a>\n",
    "* [![nbviewer](https://raw.githubusercontent.com/jupyter/design/master/logos/Badges/nbviewer_badge.svg)](https://nbviewer.org/github/4dsolutions/elite_school/blob/master/Py4HS_July_26_2022.ipynb)"
   ]
  },
  {
   "cell_type": "markdown",
   "id": "394385ec-4610-483b-b928-bf5300b5964c",
   "metadata": {},
   "source": [
    "### Fractals and the MandelBrot Set\n",
    "\n",
    "In this Notebook, we'll focus on plotting the Mandelbrot Set on a Unicode Art Canvas.\n",
    "\n",
    "A Unicode Art Canvas is similar to an ASCII Art Canvas, but with access to a lot more glyphs.\n",
    "\n",
    "<a data-flickr-embed=\"true\" href=\"https://www.flickr.com/photos/kirbyurner/20718348826/in/photolist-2nrVGQE-2na7rNW-2n2MrGu-2mZTLgr-2msgpP9-2kbBApG-2hnUSnc-QH4HMt-2cJbj8K-23WnoVK-QV5ARf-NFxum6-L4ceVK-zq9Srw-ziYmss-xyNXhN-oCe5Ac-c7m7eW-aceTxw-99YFZY-5VfsUj-5UWNgW-76XroS-6Z34Ju-6ECmpj-5Qq2cG-5NuHjT-5yweMw-2yq7oH-Joybx\" title=\"Lesson2.py output\"><img src=\"https://live.staticflickr.com/760/20718348826_ae7cb66140.jpg\" width=\"500\" height=\"421\" alt=\"Lesson2.py output\"></a><script async src=\"//embedr.flickr.com/assets/client-code.js\" charset=\"utf-8\"></script>"
   ]
  },
  {
   "cell_type": "code",
   "execution_count": null,
   "id": "198f49cd-6518-4bbe-aaf6-be510adade6d",
   "metadata": {},
   "outputs": [],
   "source": []
  }
 ],
 "metadata": {
  "kernelspec": {
   "display_name": "Python 3 (ipykernel)",
   "language": "python",
   "name": "python3"
  },
  "language_info": {
   "codemirror_mode": {
    "name": "ipython",
    "version": 3
   },
   "file_extension": ".py",
   "mimetype": "text/x-python",
   "name": "python",
   "nbconvert_exporter": "python",
   "pygments_lexer": "ipython3",
   "version": "3.9.12"
  }
 },
 "nbformat": 4,
 "nbformat_minor": 5
}
