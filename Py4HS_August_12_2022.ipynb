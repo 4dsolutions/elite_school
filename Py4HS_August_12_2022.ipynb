{
 "cells": [
  {
   "cell_type": "markdown",
   "id": "468e25aa-24a4-4eaf-b4e0-c47792f38b1c",
   "metadata": {
    "tags": []
   },
   "source": [
    "##### Python for High School (Summer 2022)\n",
    "\n",
    "* [Table of Contents](PY4HS.ipynb)\n",
    "* <a href=\"https://colab.research.google.com/github/4dsolutions/elite_school/blob/master/Py4HS_July_26_2022.ipynb\"><img align=\"left\" src=\"https://colab.research.google.com/assets/colab-badge.svg\" alt=\"Open in Colab\" title=\"Open and Execute in Google Colaboratory\"></a>\n",
    "* [![nbviewer](https://raw.githubusercontent.com/jupyter/design/master/logos/Badges/nbviewer_badge.svg)](https://nbviewer.org/github/4dsolutions/elite_school/blob/master/Py4HS_July_26_2022.ipynb)"
   ]
  },
  {
   "cell_type": "markdown",
   "id": "394385ec-4610-483b-b928-bf5300b5964c",
   "metadata": {},
   "source": [
    "### Public Key Crypto\n",
    "\n",
    "King Bob wants to yak with Queen Alice, without worrying about Eve's eavesdropping.\n",
    "\n",
    "Bob lists his public key N, with an exponent e, and tells Alice to send her message m raised to the eth power, mod N. Even though Eve knows (e, N), she cannot reverse the operation and get m from c.\n",
    "\n",
    "When Bob gets c (the cyphertext) from Alice, he raises it even more, to a secret dth power.  The only way to get d was to know the two primes that make N.  Bob shared N, but never the two primes that made it, so his d is secure, unless someone factors his N.  \n",
    "\n",
    "Bob's secret d is just the right number to make Alice's plaintext message pop out again.  e * d is exactly 1 modulo N's totient, and by Euler's Theorem, any base raised to 1 modulo N's totient, modulo N, is precisely that base.\n",
    "\n",
    "$$\n",
    "m = m^{e * d}\\mod N  \n",
    "$$\n",
    "\n",
    "provided:\n",
    "\n",
    "$$\n",
    "(e * d)\\mod \\phi(N) = 1\n",
    "$$\n",
    "\n",
    "$\\phi(N)$ is easy to derive provided we know what primes went in to making N.  \n",
    "\n",
    "$$\n",
    "\\phi(N) = (p - 1) * (q - 1)\n",
    "$$\n",
    "\n",
    "Bob derived N and $\\phi(N)$ at the same time, and from $phi(N)$ derived d.  Alice never needs d.  She has her own secret d, paired with her own public N."
   ]
  },
  {
   "cell_type": "code",
   "execution_count": null,
   "id": "832bbb03-d3b3-4e56-90cf-4cf2ec5b7a1e",
   "metadata": {},
   "outputs": [],
   "source": [
    "import nums"
   ]
  },
  {
   "cell_type": "code",
   "execution_count": null,
   "id": "8720c73c-b20f-425a-8367-26e92812a39e",
   "metadata": {},
   "outputs": [],
   "source": [
    "import primes.euler_test as et"
   ]
  },
  {
   "cell_type": "code",
   "execution_count": null,
   "id": "34fe5fd9-ab0f-4d3a-b8f4-8ee24caaa392",
   "metadata": {},
   "outputs": [],
   "source": [
    "et.test_small()"
   ]
  },
  {
   "cell_type": "code",
   "execution_count": null,
   "id": "fbd5813c-23b2-4691-bc03-884023d7bcab",
   "metadata": {},
   "outputs": [],
   "source": [
    "et.test_big()"
   ]
  },
  {
   "cell_type": "code",
   "execution_count": null,
   "id": "bc099352-3410-4823-8f8d-917e9ac74fa2",
   "metadata": {},
   "outputs": [],
   "source": [
    "p1=500001668113\n",
    "p2=704001677459\n",
    "N = p1 * p2\n",
    "totientN = (p1-1)*(p2-1)\n",
    "e = 17\n",
    "d = nums.invmod(e, totientN)"
   ]
  },
  {
   "cell_type": "code",
   "execution_count": null,
   "id": "f309fb39-882e-413d-88d8-fbeecea3fe7c",
   "metadata": {},
   "outputs": [],
   "source": [
    "e"
   ]
  },
  {
   "cell_type": "code",
   "execution_count": null,
   "id": "7c35ff78-7ae0-44fc-8662-8b529bc4fe87",
   "metadata": {},
   "outputs": [],
   "source": [
    "d"
   ]
  },
  {
   "cell_type": "code",
   "execution_count": null,
   "id": "07762bdc-1046-420c-a356-155840ca58fa",
   "metadata": {},
   "outputs": [],
   "source": [
    "(e * d) % totientN"
   ]
  },
  {
   "cell_type": "code",
   "execution_count": null,
   "id": "cdea5092-b54c-424c-b070-b73665a297d3",
   "metadata": {},
   "outputs": [],
   "source": [
    "N"
   ]
  },
  {
   "cell_type": "code",
   "execution_count": null,
   "id": "7efcd132-22b9-452c-b1c6-1c45e0acf071",
   "metadata": {},
   "outputs": [],
   "source": [
    "from binascii import hexlify"
   ]
  },
  {
   "cell_type": "code",
   "execution_count": null,
   "id": "a93e3a01-dd9f-41c4-8e63-d242845e633e",
   "metadata": {},
   "outputs": [],
   "source": [
    "m = eval(\"0x\"+str(hexlify(b'dingaling'))[2:-1])\n",
    "m"
   ]
  },
  {
   "cell_type": "code",
   "execution_count": null,
   "id": "6c674843-3505-4030-8515-6f9964d68c46",
   "metadata": {},
   "outputs": [],
   "source": [
    "c = pow(m, e, N)  # encrypt\n",
    "c"
   ]
  },
  {
   "cell_type": "code",
   "execution_count": null,
   "id": "329ea1c1-0f77-4f4e-a57d-9df5d7aa5ee1",
   "metadata": {},
   "outputs": [],
   "source": [
    "pow(c, d, N)      # decrypt"
   ]
  },
  {
   "cell_type": "code",
   "execution_count": null,
   "id": "22a375c2-8695-4438-9807-b857989c3cb7",
   "metadata": {},
   "outputs": [],
   "source": [
    "e"
   ]
  },
  {
   "cell_type": "code",
   "execution_count": null,
   "id": "5d0a7579-f6f5-420d-bcf5-826a14221f0c",
   "metadata": {},
   "outputs": [],
   "source": [
    "d"
   ]
  },
  {
   "cell_type": "code",
   "execution_count": null,
   "id": "a48c9f4c-3c5d-4156-95e7-1b63aebccec8",
   "metadata": {},
   "outputs": [],
   "source": [
    "e * d % totientN"
   ]
  },
  {
   "cell_type": "markdown",
   "id": "97b4bc24-101f-4b0f-a432-b974b4eeaaf6",
   "metadata": {},
   "source": [
    " \n",
    "$$\n",
    "c= m^e \\mod N\n",
    "$$ \n",
    "$$ m=\n",
    " c^d \\mod N\n",
    "$$\n",
    "$$\n",
    "m \\equiv c^d \\equiv m^{e^{d}} \\equiv m^{e\\cdot d} \\mod N\n",
    "$$\n"
   ]
  }
 ],
 "metadata": {
  "kernelspec": {
   "display_name": "Python 3 (ipykernel)",
   "language": "python",
   "name": "python3"
  },
  "language_info": {
   "codemirror_mode": {
    "name": "ipython",
    "version": 3
   },
   "file_extension": ".py",
   "mimetype": "text/x-python",
   "name": "python",
   "nbconvert_exporter": "python",
   "pygments_lexer": "ipython3",
   "version": "3.9.12"
  }
 },
 "nbformat": 4,
 "nbformat_minor": 5
}
