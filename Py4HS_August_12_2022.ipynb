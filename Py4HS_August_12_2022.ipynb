{
 "cells": [
  {
   "cell_type": "markdown",
   "id": "468e25aa-24a4-4eaf-b4e0-c47792f38b1c",
   "metadata": {
    "tags": []
   },
   "source": [
    "##### Python for High School (Summer 2022)\n",
    "\n",
    "* [Table of Contents](PY4HS.ipynb)\n",
    "* <a href=\"https://colab.research.google.com/github/4dsolutions/elite_school/blob/master/Py4HS_July_26_2022.ipynb\"><img align=\"left\" src=\"https://colab.research.google.com/assets/colab-badge.svg\" alt=\"Open in Colab\" title=\"Open and Execute in Google Colaboratory\"></a>\n",
    "* [![nbviewer](https://raw.githubusercontent.com/jupyter/design/master/logos/Badges/nbviewer_badge.svg)](https://nbviewer.org/github/4dsolutions/elite_school/blob/master/Py4HS_July_26_2022.ipynb)"
   ]
  },
  {
   "cell_type": "markdown",
   "id": "394385ec-4610-483b-b928-bf5300b5964c",
   "metadata": {},
   "source": [
    "### Fractals and the Mandelbrot Set\n",
    "\n",
    "In this Notebook, we'll focus on plotting the Mandelbrot Set on a Unicode Art Canvas.\n",
    "\n",
    "A Unicode Art Canvas is similar to an ASCII Art Canvas, but with access to a lot more glyphs.\n",
    "\n",
    "<a data-flickr-embed=\"true\" href=\"https://www.flickr.com/photos/kirbyurner/20718348826/in/photolist-2nrVGQE-2na7rNW-2n2MrGu-2mZTLgr-2msgpP9-2kbBApG-2hnUSnc-QH4HMt-2cJbj8K-23WnoVK-QV5ARf-NFxum6-L4ceVK-zq9Srw-ziYmss-xyNXhN-oCe5Ac-c7m7eW-aceTxw-99YFZY-5VfsUj-5UWNgW-76XroS-6Z34Ju-6ECmpj-5Qq2cG-5NuHjT-5yweMw-2yq7oH-Joybx\" title=\"Lesson2.py output\"><img src=\"https://live.staticflickr.com/760/20718348826_ae7cb66140.jpg\" width=\"500\" height=\"421\" alt=\"Lesson2.py output\"></a><script async src=\"//embedr.flickr.com/assets/client-code.js\" charset=\"utf-8\"></script>"
   ]
  },
  {
   "cell_type": "markdown",
   "id": "df290be5-5c93-4e98-a510-0026ad9db909",
   "metadata": {},
   "source": [
    "### Rationale\n",
    "\n",
    "Why should the Mandelbrot Set be a core curriculum topic at the high school level?\n",
    "\n",
    "If we have included complex numbers and therefore the Argand Plane in any way, then this fractal pattern presents itself as an ideal focus, because $z = z^{2} + c$ reminds us how complex numbers multiply.  \n",
    "\n",
    "We also get back to the core ideas of convergence vs divergence.\n",
    "\n",
    "Non-terminal sequences may: \n",
    "\n",
    "* converge to a limit\n",
    "* diverge\n",
    "* oscillate within a set, or \n",
    "* jump around chaotically  \n",
    "\n",
    "These sequences may in turn be successive sums."
   ]
  },
  {
   "cell_type": "markdown",
   "id": "700c0b2e-4fa6-4d01-8862-3b992c8fa937",
   "metadata": {},
   "source": [
    "Below is the initial algorithm for generating successive values of z, beginning with some value of c on the complex plane."
   ]
  },
  {
   "cell_type": "code",
   "execution_count": 1,
   "id": "d70ba3e5-6378-4e5c-8462-27f6e2763a2b",
   "metadata": {},
   "outputs": [],
   "source": [
    "def mandelbrot(start):\n",
    "    \"\"\"\n",
    "    generator function for successive iterations \n",
    "    of the Mandelbrot algorithm\n",
    "    \"\"\"\n",
    "    z = complex(0,0)\n",
    "    while True:\n",
    "        z = z*z + c\n",
    "        yield z"
   ]
  },
  {
   "cell_type": "code",
   "execution_count": 2,
   "id": "e3e31e92-73ac-437c-945b-098c9664f249",
   "metadata": {},
   "outputs": [],
   "source": [
    "c = complex(-1, 0)  # starting point"
   ]
  },
  {
   "cell_type": "code",
   "execution_count": 3,
   "id": "9376bb2c-4200-4854-848a-05dca90b9bee",
   "metadata": {},
   "outputs": [],
   "source": [
    "gen_terms = mandelbrot(c)   # initialize the generator"
   ]
  },
  {
   "cell_type": "code",
   "execution_count": 4,
   "id": "6da0bc04-5cd0-499c-a5ea-4fabc560b39c",
   "metadata": {},
   "outputs": [
    {
     "data": {
      "text/plain": [
       "[(-1+0j), 0j, (-1+0j), 0j, (-1+0j), 0j]"
      ]
     },
     "execution_count": 4,
     "metadata": {},
     "output_type": "execute_result"
    }
   ],
   "source": [
    "[next(gen_terms) for _ in range(6)]  # oscillatory (stable)"
   ]
  },
  {
   "cell_type": "code",
   "execution_count": 5,
   "id": "753af185-0df7-4969-8e02-cc0262db167d",
   "metadata": {},
   "outputs": [
    {
     "data": {
      "text/plain": [
       "[(1+0j), (2+0j), (5+0j), (26+0j), (677+0j), (458330+0j)]"
      ]
     },
     "execution_count": 5,
     "metadata": {},
     "output_type": "execute_result"
    }
   ],
   "source": [
    "c = complex(1, 0)\n",
    "gen_terms = mandelbrot(c)\n",
    "[next(gen_terms) for _ in range(6)]  # divergent (unstable)"
   ]
  },
  {
   "cell_type": "markdown",
   "id": "f1e80426-b961-4c83-9d8f-43c80a3b826e",
   "metadata": {},
   "source": [
    "We would like to explore the complex plane from (-2, 1) on the real axis and (-1.5, 1.5) on the imaginary axis.  How might we get such a canvas using numpy?"
   ]
  },
  {
   "cell_type": "code",
   "execution_count": 6,
   "id": "bc387716-16ea-493a-bc63-4a2cbd74c458",
   "metadata": {},
   "outputs": [],
   "source": [
    "import numpy as np"
   ]
  },
  {
   "cell_type": "markdown",
   "id": "cf6e365b-1d31-4726-a4e0-275c68a53cf3",
   "metadata": {},
   "source": [
    "`linspace` takes a start and stop point, and interpolates as many points as requested, evenly spaced.  After defining a thousand points between x and y extremes, we add the two axes to get a rectangle from the complex plane."
   ]
  },
  {
   "cell_type": "code",
   "execution_count": 7,
   "id": "578ad451-896e-428e-a147-c3b587372d58",
   "metadata": {},
   "outputs": [],
   "source": [
    "x_axis = np.linspace(-3, 1, 1000).reshape(1, -1)      # horizontal\n",
    "y_axis = np.linspace(-1.5j, 1.5j, 1000).reshape(-1,1) # vertical\n",
    "c_plane = x_axis + y_axis  # Add all x to all y for complex plane"
   ]
  },
  {
   "cell_type": "code",
   "execution_count": 8,
   "id": "1f054455-2b41-40b5-8f04-067c80fe4097",
   "metadata": {},
   "outputs": [
    {
     "data": {
      "text/plain": [
       "(1000, 1000)"
      ]
     },
     "execution_count": 8,
     "metadata": {},
     "output_type": "execute_result"
    }
   ],
   "source": [
    "c_plane.shape"
   ]
  },
  {
   "cell_type": "markdown",
   "id": "e296102a-1724-4e73-b883-92d8dcae114e",
   "metadata": {},
   "source": [
    "Next, we initialize a z_plane of 0s with the same shape as c_plane.  Adding c_plane to z_plane times itself, elementwise, gives a new z_plane.  Keep repeating this procedure (add c the 2nd power of z) ten times."
   ]
  },
  {
   "cell_type": "code",
   "execution_count": 9,
   "id": "6b7b3fca-fc6e-4237-b384-bdda03ee3db0",
   "metadata": {},
   "outputs": [],
   "source": [
    "z_plane = np.zeros((1000, 1000))  # z always starts at 0"
   ]
  },
  {
   "cell_type": "code",
   "execution_count": 10,
   "id": "9df427ad-248f-46ab-b24b-fb90541ca37c",
   "metadata": {},
   "outputs": [],
   "source": [
    "for _ in range(10):  # 10 iterations\n",
    "    z_plane = z_plane**2 + c_plane"
   ]
  },
  {
   "cell_type": "code",
   "execution_count": 11,
   "id": "ef2ba63b-6f2a-45be-9ae4-12d5e155ade5",
   "metadata": {},
   "outputs": [
    {
     "data": {
      "text/plain": [
       "(1000, 1000)"
      ]
     },
     "execution_count": 11,
     "metadata": {},
     "output_type": "execute_result"
    }
   ],
   "source": [
    "z_plane.shape"
   ]
  },
  {
   "cell_type": "markdown",
   "id": "b22aab46-bae0-41b4-aef5-e8279ffd59f8",
   "metadata": {},
   "source": [
    "The canvas rectangle has the same dimensions as the z-plane.  Have every cell start blank, but then fill in all those corresponding to z values <= 2 with some character e.g. @.  These will be considered convergent.  They still have a magnitude <= 2 after 10 iterations."
   ]
  },
  {
   "cell_type": "code",
   "execution_count": 12,
   "id": "2329c4f3-c5d9-4ca6-9d5c-ca339c66e2df",
   "metadata": {},
   "outputs": [],
   "source": [
    "canvas = np.full((1000,1000), \" \")"
   ]
  },
  {
   "cell_type": "code",
   "execution_count": 13,
   "id": "d73f1cbe-e4f7-4873-ae39-d8396a0b8911",
   "metadata": {},
   "outputs": [],
   "source": [
    "canvas[np.abs(z_plane) <= 2] = \"@\""
   ]
  },
  {
   "cell_type": "code",
   "execution_count": 14,
   "id": "e4dbf902-6794-4fae-8d7c-d4ca4f7d8970",
   "metadata": {},
   "outputs": [
    {
     "data": {
      "text/plain": [
       "(1000, 1000)"
      ]
     },
     "execution_count": 14,
     "metadata": {},
     "output_type": "execute_result"
    }
   ],
   "source": [
    "canvas.shape"
   ]
  },
  {
   "cell_type": "markdown",
   "id": "1f03142b-8c2e-4788-802f-400e69c3b560",
   "metadata": {},
   "source": [
    "Finally, lets create a text file that brings our canvas together as a single text file."
   ]
  },
  {
   "cell_type": "code",
   "execution_count": 15,
   "id": "bc8693c7-36cd-4e56-b7a9-9e83284237c3",
   "metadata": {},
   "outputs": [],
   "source": [
    "with open(\"output.txt\", 'w') as output:\n",
    "    for row in canvas:\n",
    "        print(\"\".join(row), file=output)"
   ]
  },
  {
   "cell_type": "markdown",
   "id": "d49431c2-f9d3-48d0-8568-60b148f40723",
   "metadata": {},
   "source": [
    "Here's the text file output, zoomed out to fit:\n",
    "\n",
    "<a data-flickr-embed=\"true\" href=\"https://www.flickr.com/photos/kirbyurner/52280615377/in/dateposted-public/\" title=\"mandelbrot_txt\"><img src=\"https://live.staticflickr.com/65535/52280615377_9589720555.jpg\" width=\"500\" height=\"403\" alt=\"mandelbrot_txt\"></a><script async src=\"//embedr.flickr.com/assets/client-code.js\" charset=\"utf-8\"></script>"
   ]
  },
  {
   "cell_type": "markdown",
   "id": "47c6701d-5b43-472e-9554-3bd28853378b",
   "metadata": {},
   "source": [
    "Using numpy is relatively fast and straightforward, but is not the only game in town.\n",
    "\n",
    "Instead of using \"array based computing\" lets visit each cell one by one.\n",
    "\n",
    "[Let's check out those Tractors!](Tractors.ipynb)"
   ]
  }
 ],
 "metadata": {
  "kernelspec": {
   "display_name": "Python 3 (ipykernel)",
   "language": "python",
   "name": "python3"
  },
  "language_info": {
   "codemirror_mode": {
    "name": "ipython",
    "version": 3
   },
   "file_extension": ".py",
   "mimetype": "text/x-python",
   "name": "python",
   "nbconvert_exporter": "python",
   "pygments_lexer": "ipython3",
   "version": "3.9.12"
  }
 },
 "nbformat": 4,
 "nbformat_minor": 5
}
