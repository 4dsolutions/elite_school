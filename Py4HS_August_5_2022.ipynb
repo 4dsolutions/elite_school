{
 "cells": [
  {
   "cell_type": "markdown",
   "id": "468e25aa-24a4-4eaf-b4e0-c47792f38b1c",
   "metadata": {
    "tags": []
   },
   "source": [
    "##### Python for High School (Summer 2022)\n",
    "\n",
    "* [Table of Contents](PY4HS.ipynb)\n",
    "* <a href=\"https://colab.research.google.com/github/4dsolutions/elite_school/blob/master/Py4HS_July_26_2022.ipynb\"><img align=\"left\" src=\"https://colab.research.google.com/assets/colab-badge.svg\" alt=\"Open in Colab\" title=\"Open and Execute in Google Colaboratory\"></a>\n",
    "* [![nbviewer](https://raw.githubusercontent.com/jupyter/design/master/logos/Badges/nbviewer_badge.svg)](https://nbviewer.org/github/4dsolutions/elite_school/blob/master/Py4HS_July_26_2022.ipynb)"
   ]
  },
  {
   "cell_type": "markdown",
   "id": "394385ec-4610-483b-b928-bf5300b5964c",
   "metadata": {},
   "source": [
    "### Data Structures for Games\n",
    "\n",
    "![](https://upload.wikimedia.org/wikipedia/commons/thumb/a/a7/Chess_board_blank.svg/242px-Chess_board_blank.svg.png)\n",
    "\n",
    "\n",
    "We have looked at one possible data structure for a game so far.  The adjacency matrix.  Any structure that defines a graph is a good canditate for a game with some connected geography, such as a floor plan.\n",
    "\n",
    "How about a deck of cards or a chess board?  What might be a data structure for those?"
   ]
  },
  {
   "cell_type": "code",
   "execution_count": 5,
   "id": "832bbb03-d3b3-4e56-90cf-4cf2ec5b7a1e",
   "metadata": {},
   "outputs": [],
   "source": [
    "import numpy as np"
   ]
  },
  {
   "cell_type": "code",
   "execution_count": 6,
   "id": "8720c73c-b20f-425a-8367-26e92812a39e",
   "metadata": {},
   "outputs": [],
   "source": [
    "import unicodedata as ud"
   ]
  },
  {
   "cell_type": "markdown",
   "id": "2606caed-45df-4f2a-bbdb-7681d747d620",
   "metadata": {},
   "source": [
    "### A Chess Board"
   ]
  },
  {
   "cell_type": "code",
   "execution_count": 8,
   "id": "c238c32f-3533-452a-b9e9-3dd699c91a83",
   "metadata": {},
   "outputs": [],
   "source": [
    "def initialize():\n",
    "    \"\"\"\n",
    "    Return a chess board in the form of a 3D numpy array\n",
    "    \"\"\"\n",
    "    board = np.full((2,8,8),' ', dtype=str) # start with all spaces, shape of 8 by 8\n",
    "    board[0, 0::2, 0::2] ='W'      # every other row and column starting at (0,0), layer 0\n",
    "    board[0, 1::2, 1::2] ='W'      # every other row and column starting at (1,1), layer 0\n",
    "    board[0, board[0]!='W'] = 'B'  # black everywhere on layer 0 that isn't white\n",
    "    # https://qwerty.dev/chess-symbols-to-copy-and-paste/\n",
    "    white_pieces = '♖♘♗♕♔♗♘♖'\n",
    "    white_pawns = 8 * '♙'\n",
    "    black_pieces = '♜♞♝♛♚♝♞♜'\n",
    "    black_pawns = 8 * '♟'    \n",
    "    board[1,7,0:] = list(white_pieces)\n",
    "    board[1,6,0:] = list(white_pawns)\n",
    "    board[1,0,0:] = list(black_pieces)\n",
    "    board[1,1,0:] = list(black_pawns)\n",
    "    return board"
   ]
  },
  {
   "cell_type": "code",
   "execution_count": 9,
   "id": "2afad2df-2523-499e-8512-fe68ed2873b0",
   "metadata": {},
   "outputs": [
    {
     "data": {
      "text/plain": [
       "array([[['W', 'B', 'W', 'B', 'W', 'B', 'W', 'B'],\n",
       "        ['B', 'W', 'B', 'W', 'B', 'W', 'B', 'W'],\n",
       "        ['W', 'B', 'W', 'B', 'W', 'B', 'W', 'B'],\n",
       "        ['B', 'W', 'B', 'W', 'B', 'W', 'B', 'W'],\n",
       "        ['W', 'B', 'W', 'B', 'W', 'B', 'W', 'B'],\n",
       "        ['B', 'W', 'B', 'W', 'B', 'W', 'B', 'W'],\n",
       "        ['W', 'B', 'W', 'B', 'W', 'B', 'W', 'B'],\n",
       "        ['B', 'W', 'B', 'W', 'B', 'W', 'B', 'W']],\n",
       "\n",
       "       [['♜', '♞', '♝', '♛', '♚', '♝', '♞', '♜'],\n",
       "        ['♟', '♟', '♟', '♟', '♟', '♟', '♟', '♟'],\n",
       "        [' ', ' ', ' ', ' ', ' ', ' ', ' ', ' '],\n",
       "        [' ', ' ', ' ', ' ', ' ', ' ', ' ', ' '],\n",
       "        [' ', ' ', ' ', ' ', ' ', ' ', ' ', ' '],\n",
       "        [' ', ' ', ' ', ' ', ' ', ' ', ' ', ' '],\n",
       "        ['♙', '♙', '♙', '♙', '♙', '♙', '♙', '♙'],\n",
       "        ['♖', '♘', '♗', '♕', '♔', '♗', '♘', '♖']]], dtype='<U1')"
      ]
     },
     "execution_count": 9,
     "metadata": {},
     "output_type": "execute_result"
    }
   ],
   "source": [
    "my_chess_board = initialize()\n",
    "my_chess_board"
   ]
  },
  {
   "cell_type": "code",
   "execution_count": 5,
   "id": "bc40cd80-82a9-4ddb-a995-a723b1e16d8c",
   "metadata": {},
   "outputs": [
    {
     "data": {
      "text/plain": [
       "'BLACK CHESS PAWN'"
      ]
     },
     "execution_count": 5,
     "metadata": {},
     "output_type": "execute_result"
    }
   ],
   "source": [
    "ud.name('♟')"
   ]
  },
  {
   "cell_type": "code",
   "execution_count": 6,
   "id": "e378ffb0-b4d5-4aa5-822c-edb96fcaa750",
   "metadata": {},
   "outputs": [
    {
     "data": {
      "text/plain": [
       "'WHITE CHESS KNIGHT'"
      ]
     },
     "execution_count": 6,
     "metadata": {},
     "output_type": "execute_result"
    }
   ],
   "source": [
    "ud.name('♘')"
   ]
  },
  {
   "cell_type": "markdown",
   "id": "96ed30ec-b2fa-486a-ab02-6781dbd2d554",
   "metadata": {},
   "source": [
    "![](https://upload.wikimedia.org/wikipedia/commons/thumb/a/a7/Chess_board_blank.svg/242px-Chess_board_blank.svg.png)"
   ]
  },
  {
   "cell_type": "code",
   "execution_count": 7,
   "id": "0b63efeb-50d7-4c3d-a338-90b1fed775c5",
   "metadata": {},
   "outputs": [
    {
     "data": {
      "text/plain": [
       "'♜'"
      ]
     },
     "execution_count": 7,
     "metadata": {},
     "output_type": "execute_result"
    }
   ],
   "source": [
    "my_chess_board[1,0,0]"
   ]
  },
  {
   "cell_type": "code",
   "execution_count": 8,
   "id": "09314da7-350d-4e53-9177-8650df4f75a4",
   "metadata": {},
   "outputs": [
    {
     "data": {
      "text/plain": [
       "'♖'"
      ]
     },
     "execution_count": 8,
     "metadata": {},
     "output_type": "execute_result"
    }
   ],
   "source": [
    "my_chess_board[1,7,7]"
   ]
  },
  {
   "cell_type": "code",
   "execution_count": 9,
   "id": "bebd4b6c-f845-4331-8a15-813b2085e492",
   "metadata": {},
   "outputs": [],
   "source": [
    "def get_piece(loc, game_board):\n",
    "    file = 'abcdefgh'.index(loc[0])\n",
    "    rank = 8 - loc[1]\n",
    "    return game_board[1,rank, file]"
   ]
  },
  {
   "cell_type": "code",
   "execution_count": 10,
   "id": "cc3e30c0-33e9-4197-b0c2-827a179fd5bd",
   "metadata": {},
   "outputs": [
    {
     "data": {
      "text/plain": [
       "'♛'"
      ]
     },
     "execution_count": 10,
     "metadata": {},
     "output_type": "execute_result"
    }
   ],
   "source": [
    "get_piece(('d',8), my_chess_board)"
   ]
  },
  {
   "cell_type": "code",
   "execution_count": 11,
   "id": "5f9c0253-8929-49de-91d7-0aecec39e2e6",
   "metadata": {},
   "outputs": [],
   "source": [
    "def put_piece(loc, the_piece, game_board):\n",
    "    file = 'abcdefgh'.index(loc[0])\n",
    "    rank = 8 - loc[1]\n",
    "    game_board[1,rank, file] = the_piece"
   ]
  },
  {
   "cell_type": "code",
   "execution_count": 12,
   "id": "aebe4088-6e15-4902-a115-55a4fb064c97",
   "metadata": {},
   "outputs": [],
   "source": [
    "def move_piece(start, end, game_board):\n",
    "    piece = get_piece(start, game_board)\n",
    "    piece_name = ud.name(piece)\n",
    "    print(f\"Moving {piece_name} from {start} to {end}\")\n",
    "    put_piece(start, ' ', game_board)\n",
    "    put_piece(end, piece, game_board)"
   ]
  },
  {
   "cell_type": "code",
   "execution_count": 13,
   "id": "d40f310f-e8a2-4c68-adf0-e7b8df6b54a5",
   "metadata": {},
   "outputs": [
    {
     "data": {
      "text/plain": [
       "array([['♜', '♞', '♝', '♛', '♚', '♝', '♞', '♜'],\n",
       "       ['♟', '♟', '♟', '♟', '♟', '♟', '♟', '♟'],\n",
       "       [' ', ' ', ' ', ' ', ' ', ' ', ' ', ' '],\n",
       "       [' ', ' ', ' ', ' ', ' ', ' ', ' ', ' '],\n",
       "       [' ', ' ', ' ', ' ', ' ', ' ', ' ', ' '],\n",
       "       [' ', ' ', ' ', ' ', ' ', ' ', ' ', ' '],\n",
       "       ['♙', '♙', '♙', '♙', '♙', '♙', '♙', '♙'],\n",
       "       ['♖', '♘', '♗', '♕', '♔', '♗', '♘', '♖']], dtype='<U1')"
      ]
     },
     "execution_count": 13,
     "metadata": {},
     "output_type": "execute_result"
    }
   ],
   "source": [
    "my_chess_board[1]"
   ]
  },
  {
   "cell_type": "code",
   "execution_count": 14,
   "id": "864a9f25-12e8-48a2-8bc3-81dc45050061",
   "metadata": {},
   "outputs": [
    {
     "name": "stdout",
     "output_type": "stream",
     "text": [
      "Moving WHITE CHESS PAWN from ('a', 2) to ('a', 3)\n"
     ]
    }
   ],
   "source": [
    "move_piece(('a',2), ('a',3), my_chess_board)"
   ]
  },
  {
   "cell_type": "code",
   "execution_count": 15,
   "id": "c73edb64-a244-49ab-ab94-3263f8a16956",
   "metadata": {},
   "outputs": [
    {
     "data": {
      "text/plain": [
       "array([['♜', '♞', '♝', '♛', '♚', '♝', '♞', '♜'],\n",
       "       ['♟', '♟', '♟', '♟', '♟', '♟', '♟', '♟'],\n",
       "       [' ', ' ', ' ', ' ', ' ', ' ', ' ', ' '],\n",
       "       [' ', ' ', ' ', ' ', ' ', ' ', ' ', ' '],\n",
       "       [' ', ' ', ' ', ' ', ' ', ' ', ' ', ' '],\n",
       "       ['♙', ' ', ' ', ' ', ' ', ' ', ' ', ' '],\n",
       "       [' ', '♙', '♙', '♙', '♙', '♙', '♙', '♙'],\n",
       "       ['♖', '♘', '♗', '♕', '♔', '♗', '♘', '♖']], dtype='<U1')"
      ]
     },
     "execution_count": 15,
     "metadata": {},
     "output_type": "execute_result"
    }
   ],
   "source": [
    "my_chess_board[1]"
   ]
  },
  {
   "cell_type": "markdown",
   "id": "a88d3912-e412-4392-b635-b3c99546d713",
   "metadata": {},
   "source": [
    "![](https://upload.wikimedia.org/wikipedia/commons/thumb/a/a7/Chess_board_blank.svg/242px-Chess_board_blank.svg.png)"
   ]
  },
  {
   "cell_type": "code",
   "execution_count": 16,
   "id": "ed022811-9293-4dd6-8fea-138bb0a136d1",
   "metadata": {},
   "outputs": [
    {
     "name": "stdout",
     "output_type": "stream",
     "text": [
      "Moving BLACK CHESS KNIGHT from ('b', 8) to ('c', 6)\n"
     ]
    }
   ],
   "source": [
    "move_piece(('b',8), ('c',6), my_chess_board)"
   ]
  },
  {
   "cell_type": "code",
   "execution_count": 17,
   "id": "41aa5833-ed8b-4f81-b969-c7d09d2eea01",
   "metadata": {},
   "outputs": [
    {
     "data": {
      "text/plain": [
       "array([['♜', ' ', '♝', '♛', '♚', '♝', '♞', '♜'],\n",
       "       ['♟', '♟', '♟', '♟', '♟', '♟', '♟', '♟'],\n",
       "       [' ', ' ', '♞', ' ', ' ', ' ', ' ', ' '],\n",
       "       [' ', ' ', ' ', ' ', ' ', ' ', ' ', ' '],\n",
       "       [' ', ' ', ' ', ' ', ' ', ' ', ' ', ' '],\n",
       "       ['♙', ' ', ' ', ' ', ' ', ' ', ' ', ' '],\n",
       "       [' ', '♙', '♙', '♙', '♙', '♙', '♙', '♙'],\n",
       "       ['♖', '♘', '♗', '♕', '♔', '♗', '♘', '♖']], dtype='<U1')"
      ]
     },
     "execution_count": 17,
     "metadata": {},
     "output_type": "execute_result"
    }
   ],
   "source": [
    "my_chess_board[1]"
   ]
  },
  {
   "cell_type": "code",
   "execution_count": 20,
   "id": "78542f86-480b-40ee-9c6e-0d66669ef831",
   "metadata": {},
   "outputs": [
    {
     "data": {
      "text/plain": [
       "array(['W', 'W', 'W', 'W', 'W', 'W', 'W', 'W', 'W', 'W', 'W', 'W', 'W',\n",
       "       'W', 'W', 'W', 'W', 'W', 'W', 'W', 'W', 'W', 'W', 'W', 'W', 'W',\n",
       "       'W', 'W', 'W', 'W', 'W', 'W'], dtype='<U1')"
      ]
     },
     "execution_count": 20,
     "metadata": {},
     "output_type": "execute_result"
    }
   ],
   "source": [
    "my_chess_board[my_chess_board==\"W\"]  # using a filter to select all the 'W's"
   ]
  },
  {
   "cell_type": "code",
   "execution_count": 1,
   "id": "c53c939e-ced1-4a2a-b212-29d77da9c687",
   "metadata": {},
   "outputs": [],
   "source": [
    "import pandas as pd"
   ]
  },
  {
   "cell_type": "code",
   "execution_count": 13,
   "id": "2354f301-3b83-48fc-aa29-bce40b08d3ce",
   "metadata": {},
   "outputs": [
    {
     "data": {
      "text/html": [
       "<div>\n",
       "<style scoped>\n",
       "    .dataframe tbody tr th:only-of-type {\n",
       "        vertical-align: middle;\n",
       "    }\n",
       "\n",
       "    .dataframe tbody tr th {\n",
       "        vertical-align: top;\n",
       "    }\n",
       "\n",
       "    .dataframe thead th {\n",
       "        text-align: right;\n",
       "    }\n",
       "</style>\n",
       "<table border=\"1\" class=\"dataframe\">\n",
       "  <thead>\n",
       "    <tr style=\"text-align: right;\">\n",
       "      <th></th>\n",
       "      <th>a</th>\n",
       "      <th>b</th>\n",
       "      <th>c</th>\n",
       "      <th>d</th>\n",
       "      <th>e</th>\n",
       "      <th>f</th>\n",
       "      <th>g</th>\n",
       "      <th>h</th>\n",
       "    </tr>\n",
       "  </thead>\n",
       "  <tbody>\n",
       "    <tr>\n",
       "      <th>0</th>\n",
       "      <td>♜</td>\n",
       "      <td>♞</td>\n",
       "      <td>♝</td>\n",
       "      <td>♛</td>\n",
       "      <td>♚</td>\n",
       "      <td>♝</td>\n",
       "      <td>♞</td>\n",
       "      <td>♜</td>\n",
       "    </tr>\n",
       "    <tr>\n",
       "      <th>1</th>\n",
       "      <td>♟</td>\n",
       "      <td>♟</td>\n",
       "      <td>♟</td>\n",
       "      <td>♟</td>\n",
       "      <td>♟</td>\n",
       "      <td>♟</td>\n",
       "      <td>♟</td>\n",
       "      <td>♟</td>\n",
       "    </tr>\n",
       "    <tr>\n",
       "      <th>2</th>\n",
       "      <td></td>\n",
       "      <td></td>\n",
       "      <td></td>\n",
       "      <td></td>\n",
       "      <td></td>\n",
       "      <td></td>\n",
       "      <td></td>\n",
       "      <td></td>\n",
       "    </tr>\n",
       "    <tr>\n",
       "      <th>3</th>\n",
       "      <td></td>\n",
       "      <td></td>\n",
       "      <td></td>\n",
       "      <td></td>\n",
       "      <td></td>\n",
       "      <td></td>\n",
       "      <td></td>\n",
       "      <td></td>\n",
       "    </tr>\n",
       "    <tr>\n",
       "      <th>4</th>\n",
       "      <td></td>\n",
       "      <td></td>\n",
       "      <td></td>\n",
       "      <td></td>\n",
       "      <td></td>\n",
       "      <td></td>\n",
       "      <td></td>\n",
       "      <td></td>\n",
       "    </tr>\n",
       "    <tr>\n",
       "      <th>5</th>\n",
       "      <td></td>\n",
       "      <td></td>\n",
       "      <td></td>\n",
       "      <td></td>\n",
       "      <td></td>\n",
       "      <td></td>\n",
       "      <td></td>\n",
       "      <td></td>\n",
       "    </tr>\n",
       "    <tr>\n",
       "      <th>6</th>\n",
       "      <td>♙</td>\n",
       "      <td>♙</td>\n",
       "      <td>♙</td>\n",
       "      <td>♙</td>\n",
       "      <td>♙</td>\n",
       "      <td>♙</td>\n",
       "      <td>♙</td>\n",
       "      <td>♙</td>\n",
       "    </tr>\n",
       "    <tr>\n",
       "      <th>7</th>\n",
       "      <td>♖</td>\n",
       "      <td>♘</td>\n",
       "      <td>♗</td>\n",
       "      <td>♕</td>\n",
       "      <td>♔</td>\n",
       "      <td>♗</td>\n",
       "      <td>♘</td>\n",
       "      <td>♖</td>\n",
       "    </tr>\n",
       "  </tbody>\n",
       "</table>\n",
       "</div>"
      ],
      "text/plain": [
       "   a  b  c  d  e  f  g  h\n",
       "0  ♜  ♞  ♝  ♛  ♚  ♝  ♞  ♜\n",
       "1  ♟  ♟  ♟  ♟  ♟  ♟  ♟  ♟\n",
       "2                        \n",
       "3                        \n",
       "4                        \n",
       "5                        \n",
       "6  ♙  ♙  ♙  ♙  ♙  ♙  ♙  ♙\n",
       "7  ♖  ♘  ♗  ♕  ♔  ♗  ♘  ♖"
      ]
     },
     "execution_count": 13,
     "metadata": {},
     "output_type": "execute_result"
    }
   ],
   "source": [
    "pdchess = pd.DataFrame(my_chess_board[1], columns=list(\"abcdefgh\"))\n",
    "pdchess"
   ]
  },
  {
   "cell_type": "code",
   "execution_count": null,
   "id": "94d33dc4-9e4d-4312-8449-e315eae44b85",
   "metadata": {},
   "outputs": [
    {
     "data": {
      "text/plain": [
       "'♞'"
      ]
     },
     "execution_count": 14,
     "metadata": {},
     "output_type": "execute_result"
    }
   ],
   "source": [
    "pdchess.loc[0,'b']"
   ]
  },
  {
   "cell_type": "code",
   "execution_count": 15,
   "id": "bac02a55-e304-4f40-a8e9-de8acd44a695",
   "metadata": {},
   "outputs": [
    {
     "data": {
      "text/plain": [
       "a    ♜\n",
       "b    ♞\n",
       "c    ♝\n",
       "d    ♛\n",
       "e    ♚\n",
       "f    ♝\n",
       "g    ♞\n",
       "h    ♜\n",
       "Name: 0, dtype: object"
      ]
     },
     "execution_count": 15,
     "metadata": {},
     "output_type": "execute_result"
    }
   ],
   "source": [
    "pdchess.loc[0,'a':'h']"
   ]
  },
  {
   "cell_type": "markdown",
   "id": "42b301ca-0bc0-475d-925e-195038e88a16",
   "metadata": {},
   "source": [
    "### A Deck of Playing Cards"
   ]
  },
  {
   "cell_type": "code",
   "execution_count": 39,
   "id": "d7268f78-6851-42f4-917e-5f66b432412d",
   "metadata": {},
   "outputs": [],
   "source": [
    "class Deck:\n",
    "    \"\"\"\n",
    "    Deck of Cards:  planning our methods\n",
    "    \"\"\"\n",
    "    \n",
    "    def __init__(self):\n",
    "        pass\n",
    "        \n",
    "    def shuffle(self):\n",
    "        pass\n",
    "    \n",
    "    def deal(self, n):\n",
    "        pass"
   ]
  },
  {
   "cell_type": "code",
   "execution_count": 40,
   "id": "c0646740-1811-481d-931a-b10aef6656e2",
   "metadata": {},
   "outputs": [],
   "source": [
    "spades   = [chr(x) for x in range(0x1F0A1, 0x1F0A1+13)]\n",
    "hearts   = [chr(x) for x in range(0x1F0B1, 0x1F0B1+13)]\n",
    "diamonds = [chr(x) for x in range(0x1F0C1, 0x1F0C1+13)]\n",
    "clubs    = [chr(x) for x in range(0x1F0D1, 0x1F0D1+13)]"
   ]
  },
  {
   "cell_type": "code",
   "execution_count": 41,
   "id": "c11e9d18-5850-4f8d-bbde-19d8a72bff48",
   "metadata": {},
   "outputs": [
    {
     "data": {
      "text/plain": [
       "['🃑', '🃒', '🃓', '🃔', '🃕', '🃖', '🃗', '🃘', '🃙', '🃚', '🃛', '🃜', '🃝']"
      ]
     },
     "execution_count": 41,
     "metadata": {},
     "output_type": "execute_result"
    }
   ],
   "source": [
    "clubs"
   ]
  },
  {
   "cell_type": "code",
   "execution_count": null,
   "id": "56c79670-9bb0-49ec-a9b0-2c1f10aa03e4",
   "metadata": {},
   "outputs": [],
   "source": []
  }
 ],
 "metadata": {
  "kernelspec": {
   "display_name": "Python 3 (ipykernel)",
   "language": "python",
   "name": "python3"
  },
  "language_info": {
   "codemirror_mode": {
    "name": "ipython",
    "version": 3
   },
   "file_extension": ".py",
   "mimetype": "text/x-python",
   "name": "python",
   "nbconvert_exporter": "python",
   "pygments_lexer": "ipython3",
   "version": "3.9.12"
  }
 },
 "nbformat": 4,
 "nbformat_minor": 5
}
