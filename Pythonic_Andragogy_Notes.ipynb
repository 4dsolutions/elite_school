{
 "cells": [
  {
   "cell_type": "markdown",
   "id": "7d00e929-9ad0-45ba-9cf5-621e8f75b00f",
   "metadata": {},
   "source": [
    "##### Python for High School\n",
    "\n",
    "* [Table of Contents](PY4HS.ipynb)\n",
    "* <a href=\"https://colab.research.google.com/github/4dsolutions/elite_school/blob/master/Pythonic_Andragogy_Notes.ipynb\"><img align=\"left\" src=\"https://colab.research.google.com/assets/colab-badge.svg\" alt=\"Open in Colab\" title=\"Open and Execute in Google Colaboratory\"></a>\n",
    "* [![nbviewer](https://raw.githubusercontent.com/jupyter/design/master/logos/Badges/nbviewer_badge.svg)](https://nbviewer.org/github/4dsolutions/elite_school/blob/master/Pythonic_Andragogy_Notes.ipynb)\n",
    "\n",
    "*originally developed with assistance from Sunshine Elite Education, across several teaching opportunities.*\n",
    "\n",
    "# Pythonic Andragogy\n",
    "\n",
    "We're looking at a big topic here, but only some notes underneath the umbrella.  The goal here is to look for organic connections among our topic areas."
   ]
  },
  {
   "cell_type": "markdown",
   "id": "396ebc7f-9cfe-44b1-87ae-558acdcdcb8e",
   "metadata": {},
   "source": [
    "### Self Publishing Basics\n",
    "\n",
    "For example, given the planet as a starting point, we want to arrive at great circles by way of spinning, nested polyhedrons.  We'll be doing various charts and tables, along with the expected diagrams and animations.\n",
    "\n",
    "A medium we expect to use is the web page, the contemporary surface for composition and display.  To that end, we wish to impart fluency with:\n",
    "\n",
    "* HTML\n",
    "* CSS\n",
    "* in-browser code\n",
    "\n",
    "where in-browser code is historically JavaScript (not Java).\n",
    "\n",
    "In addition, we wish to explore:\n",
    "\n",
    "* SQL\n",
    "* Python\n",
    "* Markdown\n",
    "* $\\LaTeX$"
   ]
  },
  {
   "cell_type": "markdown",
   "id": "ef1e552f-e27e-4e38-9cae-5846839326e9",
   "metadata": {},
   "source": [
    "We want to integrate HTML + CSS in a seamless manner, and in a way that reinforces topics covered elsewhere, such as CHoPS, the Concontric Hierarchy of Polyhedrons."
   ]
  },
  {
   "cell_type": "markdown",
   "id": "fbc670e6-82cd-4690-b961-3abd65c9389d",
   "metadata": {},
   "source": [
    "### Concentric Hierarchy\n",
    "\n",
    "<a data-flickr-embed=\"true\" href=\"https://www.flickr.com/photos/kirbyurner/51493803050\" title=\"Concentric Hierarchy\"><img src=\"https://live.staticflickr.com/65535/51493803050_c1923b3ff5_c.jpg\" width=\"800\" height=\"600\" alt=\"Concentric Hierarchy\"/></a><script async src=\"//embedr.flickr.com/assets/client-code.js\" charset=\"utf-8\"></script>\n",
    "<br />\n",
    "<a data-flickr-embed=\"true\" href=\"https://www.flickr.com/photos/kirbyurner/52868804828/in/datetaken/\" title=\"Replit&#x27;s New Look\"><img src=\"https://live.staticflickr.com/65535/52868804828_2dca24a657_c.jpg\" width=\"800\" height=\"504\" alt=\"Replit&#x27;s New Look\"/></a><script async src=\"//embedr.flickr.com/assets/client-code.js\" charset=\"utf-8\"></script>\n",
    "<br />\n",
    "<a data-flickr-embed=\"true\" href=\"https://www.flickr.com/photos/kirbyurner/52868221197/in/datetaken/\" title=\"Improved Codepen\"><img src=\"https://live.staticflickr.com/65535/52868221197_07be44960d_c.jpg\" width=\"800\" height=\"704\" alt=\"Improved Codepen\"/></a><script async src=\"//embedr.flickr.com/assets/client-code.js\" charset=\"utf-8\"></script>\n",
    "\n",
    "\n",
    "Here in the context of a Jupyter Notebook, we might want to focus on CSS as a format amenable to conversion.  CSS to Python dict."
   ]
  },
  {
   "cell_type": "markdown",
   "id": "9b2a1d3a-a6d7-4f2e-b022-d6083d4e529a",
   "metadata": {},
   "source": [
    "### HTML + CSS"
   ]
  },
  {
   "cell_type": "code",
   "execution_count": 1,
   "id": "ebe1fa27-30df-4f36-b316-872538125ae7",
   "metadata": {},
   "outputs": [],
   "source": [
    "css = \\\n",
    "\"\"\"\n",
    "body {\n",
    "  color: black;\n",
    "  font-family: Helvetica;\n",
    "}\n",
    "\"\"\"\n",
    "\n",
    "rule_set = dict(body = {\n",
    "                 \"color\": \"black\", \n",
    "                 \"font-family\": \"Helvetica\"})"
   ]
  },
  {
   "cell_type": "markdown",
   "id": "2b5cd01c-e3b2-45c1-aa98-f03f83167ce5",
   "metadata": {},
   "source": [
    "Regular Expressions might be used in some parsing function, taking raw CSS to a corresponding dict format.  We're permitted to keep these associations looser than that, omitting said function."
   ]
  },
  {
   "cell_type": "markdown",
   "id": "c4c65a10-68b5-4589-8c3b-d741f9d35fa1",
   "metadata": {},
   "source": [
    "Focusing on vocabulary, we want the selector, in this case `body` followed by the contents of the declaration block.  The two together comprise a ruleset."
   ]
  },
  {
   "cell_type": "code",
   "execution_count": 2,
   "id": "840588ff-9364-41a4-9f6c-a7ab6ab77270",
   "metadata": {},
   "outputs": [
    {
     "data": {
      "text/plain": [
       "<re.Match object; span=(1, 7), match='body {'>"
      ]
     },
     "execution_count": 2,
     "metadata": {},
     "output_type": "execute_result"
    }
   ],
   "source": [
    "import re\n",
    "\n",
    "m = re.search(r\"(\\w+)\\s+{\", css)\n",
    "m"
   ]
  },
  {
   "cell_type": "code",
   "execution_count": 3,
   "id": "893e12be-5a21-44c7-8fa2-118770ea7293",
   "metadata": {},
   "outputs": [
    {
     "data": {
      "text/plain": [
       "'body {'"
      ]
     },
     "execution_count": 3,
     "metadata": {},
     "output_type": "execute_result"
    }
   ],
   "source": [
    "m.group(0)"
   ]
  },
  {
   "cell_type": "code",
   "execution_count": 4,
   "id": "e121b38f-ecb5-4aab-83f6-aa27eb957bf8",
   "metadata": {},
   "outputs": [
    {
     "data": {
      "text/plain": [
       "'body'"
      ]
     },
     "execution_count": 4,
     "metadata": {},
     "output_type": "execute_result"
    }
   ],
   "source": [
    "body = m.group(1)\n",
    "body"
   ]
  },
  {
   "cell_type": "code",
   "execution_count": 5,
   "id": "3c728ff6-04a3-496d-b132-5befbeaaaebc",
   "metadata": {},
   "outputs": [
    {
     "data": {
      "text/plain": [
       "['color: black', 'font-family: Helvetica']"
      ]
     },
     "execution_count": 5,
     "metadata": {},
     "output_type": "execute_result"
    }
   ],
   "source": [
    "m = re.findall(r\"[-\\w]+:\\s.\\w+\", css, re.M)\n",
    "m"
   ]
  },
  {
   "cell_type": "code",
   "execution_count": 6,
   "id": "60f1ad42-d2b7-4887-b90e-6f29df56b9aa",
   "metadata": {},
   "outputs": [
    {
     "data": {
      "text/plain": [
       "{'body': {'color': 'black', 'font-family': 'Helvetica'}}"
      ]
     },
     "execution_count": 6,
     "metadata": {},
     "output_type": "execute_result"
    }
   ],
   "source": [
    "rule_set"
   ]
  },
  {
   "cell_type": "markdown",
   "id": "412d89cb-b944-44e0-ac0b-cd56c63fcdcd",
   "metadata": {},
   "source": [
    "### JSON"
   ]
  },
  {
   "cell_type": "markdown",
   "id": "dc959e45-1151-4892-af43-ba6b1934f32d",
   "metadata": {},
   "source": [
    "JavaScript Object Notation (JSON) is very close to being parasable as a Python data structure, a dict in particular.  With only minor tweeks, we're able to go back and forth between our Python dict and corresponding JSON, for structured content transceiving purposes."
   ]
  },
  {
   "cell_type": "code",
   "execution_count": 7,
   "id": "409fab9c-e4a6-4be2-a3ed-987774651745",
   "metadata": {},
   "outputs": [],
   "source": [
    "import json"
   ]
  },
  {
   "cell_type": "code",
   "execution_count": 8,
   "id": "82d249b6-5176-4582-8092-40fb8d78a5ee",
   "metadata": {},
   "outputs": [
    {
     "data": {
      "text/plain": [
       "'{\"body\": {\"color\": \"black\", \"font-family\": \"Helvetica\"}}'"
      ]
     },
     "execution_count": 8,
     "metadata": {},
     "output_type": "execute_result"
    }
   ],
   "source": [
    "json.dumps(rule_set)"
   ]
  },
  {
   "cell_type": "markdown",
   "id": "619276cc-a11c-4e5c-9499-1b220e80ff7b",
   "metadata": {},
   "source": [
    "### XML and HTML\n",
    "\n",
    "XML traces to SGML, XHTML and to the whole idea of a Markup Language.  History enters the picture, and the evolution of standards.  When the World Wide Web (W3) got started, people say HTML as evolving from XML, and saw XML as the future of data structuring.  A lot of work was done in this area, around validation and schemas.  One could prove a document valid, and perform operations therewith.\n",
    "\n",
    "The Ruby language, especially in the form of Ruby on Rails, was biased against XML and in favor of JSON.  We could say Ruby was a sign of the times, or that Ruby helped move us to a new time."
   ]
  },
  {
   "cell_type": "markdown",
   "id": "5b4953bc-ed15-432f-9c1e-b2c7b5a91bd4",
   "metadata": {},
   "source": [
    "### Rules of the Road\n",
    "\n",
    "Did you know an inch is 96 pixels long.  Pixels, along with picas and points, define a fixed length.  12 points make a pica.  An inch is 2.54 cm.  6 pc = 72 pt = 96 px.\n",
    "\n",
    "Excerpt from *CSS in Depth* by Keith Grant:\n",
    "\n",
    "<blockquote>\n",
    "\"Pixel\" is a slightly misleading name—a CSS pixel does not strictly equate to a monitor’s pixel. This is notably the case on high-resolution (“retina”) displays. Although the CSS measurements can be scaled a bit, depending on the browser, the operating system, and the hardware, 96 px is usually in the ballpark of 1 physical inch onscreen, though this can vary on certain devices or with a user’s resolution settings.\n",
    "</blockquote>"
   ]
  },
  {
   "cell_type": "markdown",
   "id": "f9cb341b-9903-402b-8762-24cb51798115",
   "metadata": {},
   "source": [
    "Tagging relates to nesting."
   ]
  },
  {
   "cell_type": "markdown",
   "id": "eabc1839-3c0c-4597-9011-73898b148a87",
   "metadata": {},
   "source": [
    "### Interactivity\n",
    "\n",
    "What you want is some interactivity, including with buttons, using minimal JavaScript, if any.  Our CHoP is an ideal subject, as we selectively illuminate one or more shapes.  We could use checkboxes.\n",
    "\n",
    "[Example using sliders](https://www.w3schools.com/css/css_colors_rgb.asp)"
   ]
  },
  {
   "cell_type": "markdown",
   "id": "bacb6fc8-f6d4-4d23-82f6-9dff20c4ce05",
   "metadata": {},
   "source": [
    "### Global Data\n",
    "\n",
    "As mentioned at the outset, we have an interest in plotting global data on world maps and globes.  The polyhedrons, when spun around axes, take us to great circle networks.  We're happy to segue with latitude and logitude tables, to geo-locate major airports, weather stations, and so on.\n",
    "\n",
    "Given the lat / long of any two airports, what is the straight line (geodesic) distance between them?  How might we graph the routes of any given airline, starting with a workable data structure?\n",
    "\n",
    "<a data-flickr-embed=\"true\" href=\"https://www.flickr.com/photos/kirbyurner/52632494223/in/album-72177720296706479/\" title=\"Global Data\"><img src=\"https://live.staticflickr.com/65535/52632494223_6ee936cd68.jpg\" width=\"500\" height=\"252\" alt=\"Global Data\"/></a><script async src=\"//embedr.flickr.com/assets/client-code.js\" charset=\"utf-8\"></script>"
   ]
  },
  {
   "cell_type": "markdown",
   "id": "49d3485e-7c5f-4dec-93c3-74cb2b4eff64",
   "metadata": {},
   "source": [
    "### Andragogy\n",
    "\n",
    "When instructing adults, it behooves us to survey the state of the art, meaning online tools already available.  \n",
    "\n",
    "Put yourself in the role of a student, newly encountering this material, even if it's material you've already learned.\n",
    "\n",
    "For example, you may wish to steer towards, or away from, depending on your audience, the genre of cartoon animations (anime).  My bias is to steer towards.\n",
    "\n",
    "Have you checked out [w3schools.com](https://www.w3schools.com/css/default.asp)?  Are you familiar with [regex101](https://regex101.com)?"
   ]
  },
  {
   "cell_type": "markdown",
   "id": "e31842bf-a1c5-4548-8869-7c86beb9d0e0",
   "metadata": {},
   "source": [
    "### Array Based Computing\n",
    "\n",
    "The Magic Square motivates introducing numpy n-dimensional arrays (ndarray type), as do several of our choice topics.\n",
    "\n",
    "From [Learning Scientific Programming with Python](https://scipython.com/about/the-book/):\n"
   ]
  },
  {
   "cell_type": "code",
   "execution_count": 10,
   "id": "fa2b84c7-c753-439d-a991-e33ab3ee9362",
   "metadata": {},
   "outputs": [
    {
     "name": "stdout",
     "output_type": "stream",
     "text": [
      "[[ 68  81  94 107 120   1  14  27  40  53  66]\n",
      " [ 80  93 106 119  11  13  26  39  52  65  67]\n",
      " [ 92 105 118  10  12  25  38  51  64  77  79]\n",
      " [104 117   9  22  24  37  50  63  76  78  91]\n",
      " [116   8  21  23  36  49  62  75  88  90 103]\n",
      " [  7  20  33  35  48  61  74  87  89 102 115]\n",
      " [ 19  32  34  47  60  73  86  99 101 114   6]\n",
      " [ 31  44  46  59  72  85  98 100 113   5  18]\n",
      " [ 43  45  58  71  84  97 110 112   4  17  30]\n",
      " [ 55  57  70  83  96 109 111   3  16  29  42]\n",
      " [ 56  69  82  95 108 121   2  15  28  41  54]]\n"
     ]
    }
   ],
   "source": [
    "# Create an N x N magic square. N must be odd.\n",
    "import numpy as np\n",
    "\n",
    "N  = 11\n",
    "magic_square = np.zeros((N,N), dtype=int)\n",
    "\n",
    "n = 1\n",
    "i, j = 0, N//2\n",
    "\n",
    "while n <= N**2:\n",
    "    magic_square[i, j] = n\n",
    "    n += 1\n",
    "    newi, newj = (i-1) % N, (j+1)% N\n",
    "    if magic_square[newi, newj]:\n",
    "        i += 1\n",
    "    else:\n",
    "        i, j = newi, newj\n",
    "\n",
    "print(magic_square)"
   ]
  },
  {
   "cell_type": "markdown",
   "id": "2fdae1cf-2529-41a3-9d0e-72f10c80426b",
   "metadata": {},
   "source": [
    "What other languages are array-based?  BQN, APL, R...  Here's a place to take a detour."
   ]
  },
  {
   "cell_type": "markdown",
   "id": "495e4cd0-3a5d-471c-a11e-3263d9b8dcf3",
   "metadata": {},
   "source": [
    "### Tractor Math\n",
    "\n",
    "Or call it Logo for Farmers.  The initial shift is one of metaphors.  We might start in MIT Scratch, and then move to Codesters and Python.  We used that trajectory in *Coding with Kids* when I was an instructor in Portland, Oregon.\n",
    "\n",
    "We look down from on high (drone view) at a field, whereon a tractor plows back and forth.  \n",
    "\n",
    "Both the patterns of \n",
    "\n",
    "* reading (scanning rows of symbols) and of \n",
    "* television (raster pattern) \n",
    "\n",
    "have followed the field-plowing and field-planting patterns, of back and forth, or of starting over at the left or right, while moving along the rows.\n",
    "\n",
    "Electron tunneling microscopy follows this pattern, as does weaving."
   ]
  },
  {
   "cell_type": "markdown",
   "id": "24dd5215-c6c6-49d2-99d1-de9adecac0be",
   "metadata": {},
   "source": [
    "* [School of Tomorrow](https://github.com/4dsolutions/School_of_Tomorrow/blob/master/School_of_Tomorrow.ipynb)\n",
    "* [The Farm](https://github.com/4dsolutions/elite_school/blob/master/thefarm.py)\n",
    "* [Tractor Math 1](https://github.com/4dsolutions/elite_school/blob/master/tractor_1.py)\n",
    "* [Tractor Math 2](https://github.com/4dsolutions/elite_school/blob/master/tractor_2.py)\n",
    "\n"
   ]
  }
 ],
 "metadata": {
  "kernelspec": {
   "display_name": "Python 3 (ipykernel)",
   "language": "python",
   "name": "python3"
  },
  "language_info": {
   "codemirror_mode": {
    "name": "ipython",
    "version": 3
   },
   "file_extension": ".py",
   "mimetype": "text/x-python",
   "name": "python",
   "nbconvert_exporter": "python",
   "pygments_lexer": "ipython3",
   "version": "3.11.2"
  }
 },
 "nbformat": 4,
 "nbformat_minor": 5
}
