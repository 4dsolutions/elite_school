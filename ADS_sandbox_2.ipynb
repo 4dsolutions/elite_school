{
 "cells": [
  {
   "cell_type": "markdown",
   "id": "c3b5a03b-0a91-4ce3-83f3-fa250cce477b",
   "metadata": {
    "tags": []
   },
   "source": [
    "##### Algorithms and Data Structures (Winter - Spring 2022)\n",
    "\n",
    "\n",
    "* [Table of Contents](ADS_TOC.ipynb)\n",
    "* <a href=\"https://colab.research.google.com/github/4dsolutions/elite_school/blob/master/ADS_sandbox_2.ipynb\"><img align=\"left\" src=\"https://colab.research.google.com/assets/colab-badge.svg\" alt=\"Open in Colab\" title=\"Open and Execute in Google Colaboratory\"></a>\n",
    "* [![nbviewer](https://raw.githubusercontent.com/jupyter/design/master/logos/Badges/nbviewer_badge.svg)](https://nbviewer.org/github/4dsolutions/elite_school/blob/master/ADS_sandbox_2.ipynb)\n",
    "    \n",
    "## Finite Groups:  Totatives of N Modulo N\n",
    "\n",
    "\n",
    "\n",
    "### Practice with Numpy and pandas"
   ]
  },
  {
   "cell_type": "code",
   "execution_count": 1,
   "id": "c22666a6-d71a-439a-9c5f-09aa2f056dba",
   "metadata": {},
   "outputs": [],
   "source": [
    "from IPython.display import YouTubeVideo"
   ]
  },
  {
   "cell_type": "code",
   "execution_count": 2,
   "id": "8b64fb60-2917-4c1b-a051-b490201baf02",
   "metadata": {},
   "outputs": [
    {
     "data": {
      "image/jpeg": "[encoded data removed]",
      "text/html": [
       "\n",
       "        <iframe\n",
       "            width=\"400\"\n",
       "            height=\"300\"\n",
       "            src=\"https://www.youtube.com/embed/8A84sA1YuPw\"\n",
       "            frameborder=\"0\"\n",
       "            allowfullscreen\n",
       "        ></iframe>\n",
       "        "
      ],
      "text/plain": [
       "<IPython.lib.display.YouTubeVideo at 0x113cfd190>"
      ]
     },
     "execution_count": 2,
     "metadata": {},
     "output_type": "execute_result"
    }
   ],
   "source": [
    "YouTubeVideo(\"8A84sA1YuPw\")"
   ]
  },
  {
   "cell_type": "code",
   "execution_count": 3,
   "id": "b3874b85-ec47-47d8-8e18-ca4921a6c2d0",
   "metadata": {},
   "outputs": [],
   "source": [
    "import numpy as np\n",
    "import pandas as pd\n",
    "from itertools import product\n",
    "from math import gcd\n",
    "from primes import invmod"
   ]
  },
  {
   "cell_type": "code",
   "execution_count": 4,
   "id": "b04b53d3-0cdc-41e8-9dc2-97bcdcd3ee4a",
   "metadata": {},
   "outputs": [],
   "source": [
    "class Mod:\n",
    "    \n",
    "    _modulus = 12\n",
    "    \n",
    "    def __init__(self, n):\n",
    "        self.value = n % self._modulus\n",
    "        \n",
    "    def __eq__(self, other):\n",
    "        return self.value == other.value % self._modulus\n",
    "    \n",
    "    def __repr__(self):\n",
    "        return \"({} mod {})\".format(self.value, self._modulus)\n",
    "\n",
    "    def __str__(self):\n",
    "        return \"{}\".format(self.value)\n",
    "    \n",
    "    def __add__(self, other):\n",
    "        return type(self)(self.value + other.value)\n",
    "    \n",
    "    def __mul__(self, other):\n",
    "        return type(self)(self.value * other.value)\n",
    "    \n",
    "    def __invert__(self):\n",
    "        return type(self)(invmod(self.value, self._modulus))\n",
    "    \n",
    "    def __pow__(self, n):\n",
    "        base = self.value\n",
    "        if n < 0:\n",
    "            base = ~self.value\n",
    "        return type(self)(pow(base, abs(n), self._modulus))\n",
    "    \n",
    "    def __hash__(self):\n",
    "        return self.value "
   ]
  },
  {
   "cell_type": "code",
   "execution_count": 5,
   "id": "1fe7e483-0ec0-43c4-975a-104a6659dc3e",
   "metadata": {},
   "outputs": [],
   "source": [
    "def test_invmod(k, modulus):\n",
    "    inv_k = invmod(k, modulus)\n",
    "    if (inv_k * k) % modulus != 1:\n",
    "        raise ValueError(f\"{k} has no inverse mod {modulus}\")\n",
    "    return inv_k"
   ]
  },
  {
   "cell_type": "code",
   "execution_count": 6,
   "id": "b71594f8-8da6-4d59-b75b-4e691fba72cc",
   "metadata": {},
   "outputs": [
    {
     "name": "stdout",
     "output_type": "stream",
     "text": [
      "oops: 4 has no inverse mod 12\n"
     ]
    }
   ],
   "source": [
    "try:\n",
    "    test_invmod(4, 12)\n",
    "except ValueError as e:\n",
    "    print(\"oops:\", e)"
   ]
  },
  {
   "cell_type": "code",
   "execution_count": 7,
   "id": "e4de9b06-0d17-484b-95b5-37cbee81ee46",
   "metadata": {},
   "outputs": [],
   "source": [
    "def totatives(n):\n",
    "    return [i for i in range(1, n) if gcd(i, n) == 1]\n",
    "\n",
    "def totient(n):\n",
    "    return len(totatives(n))"
   ]
  },
  {
   "cell_type": "code",
   "execution_count": 8,
   "id": "db62931f-cb04-48ed-a36b-1d674ad4878f",
   "metadata": {},
   "outputs": [],
   "source": [
    "def make_mods(n):\n",
    "    return [Mod(t) for t in totatives(n)]"
   ]
  },
  {
   "cell_type": "code",
   "execution_count": 9,
   "id": "afdb2198-0bd5-4174-ba0d-bf10013e8678",
   "metadata": {},
   "outputs": [
    {
     "data": {
      "text/plain": [
       "\u001b[0;31mInit signature:\u001b[0m  \u001b[0mproduct\u001b[0m\u001b[0;34m(\u001b[0m\u001b[0mself\u001b[0m\u001b[0;34m,\u001b[0m \u001b[0;34m/\u001b[0m\u001b[0;34m,\u001b[0m \u001b[0;34m*\u001b[0m\u001b[0margs\u001b[0m\u001b[0;34m,\u001b[0m \u001b[0;34m**\u001b[0m\u001b[0mkwargs\u001b[0m\u001b[0;34m)\u001b[0m\u001b[0;34m\u001b[0m\u001b[0;34m\u001b[0m\u001b[0m\n",
       "\u001b[0;31mDocstring:\u001b[0m     \n",
       "product(*iterables, repeat=1) --> product object\n",
       "\n",
       "Cartesian product of input iterables.  Equivalent to nested for-loops.\n",
       "\n",
       "For example, product(A, B) returns the same as:  ((x,y) for x in A for y in B).\n",
       "The leftmost iterators are in the outermost for-loop, so the output tuples\n",
       "cycle in a manner similar to an odometer (with the rightmost element changing\n",
       "on every iteration).\n",
       "\n",
       "To compute the product of an iterable with itself, specify the number\n",
       "of repetitions with the optional repeat keyword argument. For example,\n",
       "product(A, repeat=4) means the same as product(A, A, A, A).\n",
       "\n",
       "product('ab', range(3)) --> ('a',0) ('a',1) ('a',2) ('b',0) ('b',1) ('b',2)\n",
       "product((0,1), (0,1), (0,1)) --> (0,0,0) (0,0,1) (0,1,0) (0,1,1) (1,0,0) ...\n",
       "\u001b[0;31mType:\u001b[0m           type\n",
       "\u001b[0;31mSubclasses:\u001b[0m     \n"
      ]
     },
     "metadata": {},
     "output_type": "display_data"
    }
   ],
   "source": [
    "? product"
   ]
  },
  {
   "cell_type": "code",
   "execution_count": 10,
   "id": "b0dfe984-0d5e-4f81-9170-f74f5fcb85c4",
   "metadata": {},
   "outputs": [
    {
     "data": {
      "text/plain": [
       "[(1 mod 12), (5 mod 12), (7 mod 12), (11 mod 12)]"
      ]
     },
     "execution_count": 10,
     "metadata": {},
     "output_type": "execute_result"
    }
   ],
   "source": [
    "the_list = make_mods(12)\n",
    "the_list"
   ]
  },
  {
   "cell_type": "code",
   "execution_count": 11,
   "id": "00d0eb27-4d55-49ab-8791-2920f4e86f4b",
   "metadata": {},
   "outputs": [],
   "source": [
    "products = product(the_list, the_list) # makes an iterator"
   ]
  },
  {
   "cell_type": "code",
   "execution_count": 12,
   "id": "8b4eb992-e4eb-4c83-8906-ac7dcf4d982a",
   "metadata": {},
   "outputs": [
    {
     "data": {
      "text/plain": [
       "[((1 mod 12), (1 mod 12)),\n",
       " ((1 mod 12), (5 mod 12)),\n",
       " ((1 mod 12), (7 mod 12)),\n",
       " ((1 mod 12), (11 mod 12)),\n",
       " ((5 mod 12), (1 mod 12)),\n",
       " ((5 mod 12), (5 mod 12)),\n",
       " ((5 mod 12), (7 mod 12)),\n",
       " ((5 mod 12), (11 mod 12)),\n",
       " ((7 mod 12), (1 mod 12)),\n",
       " ((7 mod 12), (5 mod 12)),\n",
       " ((7 mod 12), (7 mod 12)),\n",
       " ((7 mod 12), (11 mod 12)),\n",
       " ((11 mod 12), (1 mod 12)),\n",
       " ((11 mod 12), (5 mod 12)),\n",
       " ((11 mod 12), (7 mod 12)),\n",
       " ((11 mod 12), (11 mod 12))]"
      ]
     },
     "execution_count": 12,
     "metadata": {},
     "output_type": "execute_result"
    }
   ],
   "source": [
    "list(products)  # exhausts the iterator"
   ]
  },
  {
   "cell_type": "code",
   "execution_count": 13,
   "id": "ea0d1b92-d306-45b6-bdef-9c60efa788ee",
   "metadata": {},
   "outputs": [],
   "source": [
    "def make_table(n):\n",
    "    # make all the products of totatives of n mod n\n",
    "    Mod._modulus = n\n",
    "    the_list = make_mods(n)\n",
    "    tot = totient(n)\n",
    "    products = product(the_list, the_list)  # remake the iterator\n",
    "    table = np.reshape(np.array([a*b for a,b in list(products)]), (tot, tot))\n",
    "    return table"
   ]
  },
  {
   "cell_type": "code",
   "execution_count": 14,
   "id": "d084806c-380a-4e0b-b154-3b59fb8c2350",
   "metadata": {},
   "outputs": [],
   "source": [
    "the_table = make_table(12)"
   ]
  },
  {
   "cell_type": "code",
   "execution_count": 15,
   "id": "971d2615-ff14-4c1d-8683-2f6be81861b8",
   "metadata": {},
   "outputs": [
    {
     "data": {
      "text/plain": [
       "array([[(1 mod 12), (5 mod 12), (7 mod 12), (11 mod 12)],\n",
       "       [(5 mod 12), (1 mod 12), (11 mod 12), (7 mod 12)],\n",
       "       [(7 mod 12), (11 mod 12), (1 mod 12), (5 mod 12)],\n",
       "       [(11 mod 12), (7 mod 12), (5 mod 12), (1 mod 12)]], dtype=object)"
      ]
     },
     "execution_count": 15,
     "metadata": {},
     "output_type": "execute_result"
    }
   ],
   "source": [
    "the_table"
   ]
  },
  {
   "cell_type": "code",
   "execution_count": 16,
   "id": "e54c5cd9-b458-4cba-9cf4-255501b5f49e",
   "metadata": {},
   "outputs": [
    {
     "data": {
      "image/jpeg": "[encoded data removed]",
      "text/html": [
       "\n",
       "        <iframe\n",
       "            width=\"400\"\n",
       "            height=\"300\"\n",
       "            src=\"https://www.youtube.com/embed/BwHspSCXFNM\"\n",
       "            frameborder=\"0\"\n",
       "            allowfullscreen\n",
       "        ></iframe>\n",
       "        "
      ],
      "text/plain": [
       "<IPython.lib.display.YouTubeVideo at 0x1235f9950>"
      ]
     },
     "execution_count": 16,
     "metadata": {},
     "output_type": "execute_result"
    }
   ],
   "source": [
    "YouTubeVideo(\"BwHspSCXFNM\")"
   ]
  },
  {
   "cell_type": "code",
   "execution_count": 17,
   "id": "a702a5e0-229e-40c2-8c54-0df6e8940455",
   "metadata": {},
   "outputs": [],
   "source": [
    "def make_cayley(n):\n",
    "    num_table = make_table(n)\n",
    "    caley_table = pd.DataFrame(num_table)\n",
    "    columns = num_table[0,:]\n",
    "    rows = num_table[:,0]\n",
    "    caley_table.index = rows\n",
    "    caley_table.columns = columns\n",
    "    return caley_table"
   ]
  },
  {
   "cell_type": "code",
   "execution_count": 18,
   "id": "3c8097c4-48f9-4a2b-96bf-12d72debaa23",
   "metadata": {},
   "outputs": [],
   "source": [
    "t = make_cayley(12)"
   ]
  },
  {
   "cell_type": "code",
   "execution_count": 19,
   "id": "eda2275b-36bf-4d3d-a070-34437d002e6a",
   "metadata": {},
   "outputs": [
    {
     "data": {
      "text/html": [
       "<div>\n",
       "<style scoped>\n",
       "    .dataframe tbody tr th:only-of-type {\n",
       "        vertical-align: middle;\n",
       "    }\n",
       "\n",
       "    .dataframe tbody tr th {\n",
       "        vertical-align: top;\n",
       "    }\n",
       "\n",
       "    .dataframe thead th {\n",
       "        text-align: right;\n",
       "    }\n",
       "</style>\n",
       "<table border=\"1\" class=\"dataframe\">\n",
       "  <thead>\n",
       "    <tr style=\"text-align: right;\">\n",
       "      <th></th>\n",
       "      <th>1</th>\n",
       "      <th>5</th>\n",
       "      <th>7</th>\n",
       "      <th>11</th>\n",
       "    </tr>\n",
       "  </thead>\n",
       "  <tbody>\n",
       "    <tr>\n",
       "      <th>1</th>\n",
       "      <td>1</td>\n",
       "      <td>5</td>\n",
       "      <td>7</td>\n",
       "      <td>11</td>\n",
       "    </tr>\n",
       "    <tr>\n",
       "      <th>5</th>\n",
       "      <td>5</td>\n",
       "      <td>1</td>\n",
       "      <td>11</td>\n",
       "      <td>7</td>\n",
       "    </tr>\n",
       "    <tr>\n",
       "      <th>7</th>\n",
       "      <td>7</td>\n",
       "      <td>11</td>\n",
       "      <td>1</td>\n",
       "      <td>5</td>\n",
       "    </tr>\n",
       "    <tr>\n",
       "      <th>11</th>\n",
       "      <td>11</td>\n",
       "      <td>7</td>\n",
       "      <td>5</td>\n",
       "      <td>1</td>\n",
       "    </tr>\n",
       "  </tbody>\n",
       "</table>\n",
       "</div>"
      ],
      "text/plain": [
       "     1   5   7  11\n",
       "1    1   5   7  11\n",
       "5    5   1  11   7\n",
       "7    7  11   1   5\n",
       "11  11   7   5   1"
      ]
     },
     "execution_count": 19,
     "metadata": {},
     "output_type": "execute_result"
    }
   ],
   "source": [
    "t"
   ]
  },
  {
   "cell_type": "code",
   "execution_count": 20,
   "id": "afcf8009-913a-4954-a45f-60d9c4932715",
   "metadata": {},
   "outputs": [
    {
     "data": {
      "text/plain": [
       "(1 mod 12)"
      ]
     },
     "execution_count": 20,
     "metadata": {},
     "output_type": "execute_result"
    }
   ],
   "source": [
    "t.iloc[0,0]"
   ]
  },
  {
   "cell_type": "code",
   "execution_count": 21,
   "id": "0c845f89-9b0a-491d-9a0b-a0405dbd1111",
   "metadata": {},
   "outputs": [],
   "source": [
    "the_array = t.to_numpy()"
   ]
  },
  {
   "cell_type": "code",
   "execution_count": 22,
   "id": "3eb24661-f316-43a1-80d5-6d1293dcb612",
   "metadata": {},
   "outputs": [
    {
     "data": {
      "text/plain": [
       "array([(1 mod 12), (5 mod 12), (7 mod 12), (11 mod 12)], dtype=object)"
      ]
     },
     "execution_count": 22,
     "metadata": {},
     "output_type": "execute_result"
    }
   ],
   "source": [
    "the_array[0,:]"
   ]
  },
  {
   "cell_type": "code",
   "execution_count": 23,
   "id": "66704f3d-5e76-4419-a15a-b50c451f0d26",
   "metadata": {},
   "outputs": [],
   "source": [
    "def make_pow_table(n):\n",
    "    # make all the powers\n",
    "    Mod._modulus = n\n",
    "    the_list = make_mods(n)\n",
    "    tot = totient(n)\n",
    "    products = product(the_list, range(n))  # remake the iterator\n",
    "    table = np.reshape(np.array([a**n for a,n in list(products)]), (tot, n))\n",
    "    return table\n",
    "\n",
    "def make_pow_frame(n):\n",
    "    the_table = make_pow_table(n)\n",
    "    columns = np.arange(n)\n",
    "    rows = make_mods(n)\n",
    "    pow_table = pd.DataFrame(the_table)\n",
    "    pow_table.index = rows\n",
    "    pow_table.columns = columns\n",
    "    pow_table.index.name = \"Totatives\"\n",
    "    pow_table.columns.name = \"Powers\"\n",
    "    return pow_table"
   ]
  },
  {
   "cell_type": "code",
   "execution_count": 24,
   "id": "fc8410f8-d28c-4ea8-98fa-d1f8f2a59dbb",
   "metadata": {},
   "outputs": [
    {
     "data": {
      "text/html": [
       "<div>\n",
       "<style scoped>\n",
       "    .dataframe tbody tr th:only-of-type {\n",
       "        vertical-align: middle;\n",
       "    }\n",
       "\n",
       "    .dataframe tbody tr th {\n",
       "        vertical-align: top;\n",
       "    }\n",
       "\n",
       "    .dataframe thead th {\n",
       "        text-align: right;\n",
       "    }\n",
       "</style>\n",
       "<table border=\"1\" class=\"dataframe\">\n",
       "  <thead>\n",
       "    <tr style=\"text-align: right;\">\n",
       "      <th>Powers</th>\n",
       "      <th>0</th>\n",
       "      <th>1</th>\n",
       "      <th>2</th>\n",
       "      <th>3</th>\n",
       "      <th>4</th>\n",
       "      <th>5</th>\n",
       "      <th>6</th>\n",
       "      <th>7</th>\n",
       "      <th>8</th>\n",
       "      <th>9</th>\n",
       "      <th>10</th>\n",
       "      <th>11</th>\n",
       "    </tr>\n",
       "    <tr>\n",
       "      <th>Totatives</th>\n",
       "      <th></th>\n",
       "      <th></th>\n",
       "      <th></th>\n",
       "      <th></th>\n",
       "      <th></th>\n",
       "      <th></th>\n",
       "      <th></th>\n",
       "      <th></th>\n",
       "      <th></th>\n",
       "      <th></th>\n",
       "      <th></th>\n",
       "      <th></th>\n",
       "    </tr>\n",
       "  </thead>\n",
       "  <tbody>\n",
       "    <tr>\n",
       "      <th>1</th>\n",
       "      <td>1</td>\n",
       "      <td>1</td>\n",
       "      <td>1</td>\n",
       "      <td>1</td>\n",
       "      <td>1</td>\n",
       "      <td>1</td>\n",
       "      <td>1</td>\n",
       "      <td>1</td>\n",
       "      <td>1</td>\n",
       "      <td>1</td>\n",
       "      <td>1</td>\n",
       "      <td>1</td>\n",
       "    </tr>\n",
       "    <tr>\n",
       "      <th>5</th>\n",
       "      <td>1</td>\n",
       "      <td>5</td>\n",
       "      <td>1</td>\n",
       "      <td>5</td>\n",
       "      <td>1</td>\n",
       "      <td>5</td>\n",
       "      <td>1</td>\n",
       "      <td>5</td>\n",
       "      <td>1</td>\n",
       "      <td>5</td>\n",
       "      <td>1</td>\n",
       "      <td>5</td>\n",
       "    </tr>\n",
       "    <tr>\n",
       "      <th>7</th>\n",
       "      <td>1</td>\n",
       "      <td>7</td>\n",
       "      <td>1</td>\n",
       "      <td>7</td>\n",
       "      <td>1</td>\n",
       "      <td>7</td>\n",
       "      <td>1</td>\n",
       "      <td>7</td>\n",
       "      <td>1</td>\n",
       "      <td>7</td>\n",
       "      <td>1</td>\n",
       "      <td>7</td>\n",
       "    </tr>\n",
       "    <tr>\n",
       "      <th>11</th>\n",
       "      <td>1</td>\n",
       "      <td>11</td>\n",
       "      <td>1</td>\n",
       "      <td>11</td>\n",
       "      <td>1</td>\n",
       "      <td>11</td>\n",
       "      <td>1</td>\n",
       "      <td>11</td>\n",
       "      <td>1</td>\n",
       "      <td>11</td>\n",
       "      <td>1</td>\n",
       "      <td>11</td>\n",
       "    </tr>\n",
       "  </tbody>\n",
       "</table>\n",
       "</div>"
      ],
      "text/plain": [
       "Powers    0   1  2   3  4   5  6   7  8   9  10  11\n",
       "Totatives                                          \n",
       "1          1   1  1   1  1   1  1   1  1   1  1   1\n",
       "5          1   5  1   5  1   5  1   5  1   5  1   5\n",
       "7          1   7  1   7  1   7  1   7  1   7  1   7\n",
       "11         1  11  1  11  1  11  1  11  1  11  1  11"
      ]
     },
     "execution_count": 24,
     "metadata": {},
     "output_type": "execute_result"
    }
   ],
   "source": [
    "t = make_pow_frame(12)\n",
    "t"
   ]
  },
  {
   "cell_type": "code",
   "execution_count": 25,
   "id": "ada8b855-8750-4765-bf21-8ab52f67c861",
   "metadata": {},
   "outputs": [
    {
     "data": {
      "text/html": [
       "<div>\n",
       "<style scoped>\n",
       "    .dataframe tbody tr th:only-of-type {\n",
       "        vertical-align: middle;\n",
       "    }\n",
       "\n",
       "    .dataframe tbody tr th {\n",
       "        vertical-align: top;\n",
       "    }\n",
       "\n",
       "    .dataframe thead th {\n",
       "        text-align: right;\n",
       "    }\n",
       "</style>\n",
       "<table border=\"1\" class=\"dataframe\">\n",
       "  <thead>\n",
       "    <tr style=\"text-align: right;\">\n",
       "      <th>Powers</th>\n",
       "      <th>0</th>\n",
       "      <th>1</th>\n",
       "      <th>2</th>\n",
       "      <th>3</th>\n",
       "      <th>4</th>\n",
       "      <th>5</th>\n",
       "      <th>6</th>\n",
       "      <th>7</th>\n",
       "      <th>8</th>\n",
       "      <th>9</th>\n",
       "      <th>10</th>\n",
       "      <th>11</th>\n",
       "      <th>12</th>\n",
       "    </tr>\n",
       "    <tr>\n",
       "      <th>Totatives</th>\n",
       "      <th></th>\n",
       "      <th></th>\n",
       "      <th></th>\n",
       "      <th></th>\n",
       "      <th></th>\n",
       "      <th></th>\n",
       "      <th></th>\n",
       "      <th></th>\n",
       "      <th></th>\n",
       "      <th></th>\n",
       "      <th></th>\n",
       "      <th></th>\n",
       "      <th></th>\n",
       "    </tr>\n",
       "  </thead>\n",
       "  <tbody>\n",
       "    <tr>\n",
       "      <th>1</th>\n",
       "      <td>1</td>\n",
       "      <td>1</td>\n",
       "      <td>1</td>\n",
       "      <td>1</td>\n",
       "      <td>1</td>\n",
       "      <td>1</td>\n",
       "      <td>1</td>\n",
       "      <td>1</td>\n",
       "      <td>1</td>\n",
       "      <td>1</td>\n",
       "      <td>1</td>\n",
       "      <td>1</td>\n",
       "      <td>1</td>\n",
       "    </tr>\n",
       "    <tr>\n",
       "      <th>2</th>\n",
       "      <td>1</td>\n",
       "      <td>2</td>\n",
       "      <td>4</td>\n",
       "      <td>8</td>\n",
       "      <td>3</td>\n",
       "      <td>6</td>\n",
       "      <td>12</td>\n",
       "      <td>11</td>\n",
       "      <td>9</td>\n",
       "      <td>5</td>\n",
       "      <td>10</td>\n",
       "      <td>7</td>\n",
       "      <td>1</td>\n",
       "    </tr>\n",
       "    <tr>\n",
       "      <th>3</th>\n",
       "      <td>1</td>\n",
       "      <td>3</td>\n",
       "      <td>9</td>\n",
       "      <td>1</td>\n",
       "      <td>3</td>\n",
       "      <td>9</td>\n",
       "      <td>1</td>\n",
       "      <td>3</td>\n",
       "      <td>9</td>\n",
       "      <td>1</td>\n",
       "      <td>3</td>\n",
       "      <td>9</td>\n",
       "      <td>1</td>\n",
       "    </tr>\n",
       "    <tr>\n",
       "      <th>4</th>\n",
       "      <td>1</td>\n",
       "      <td>4</td>\n",
       "      <td>3</td>\n",
       "      <td>12</td>\n",
       "      <td>9</td>\n",
       "      <td>10</td>\n",
       "      <td>1</td>\n",
       "      <td>4</td>\n",
       "      <td>3</td>\n",
       "      <td>12</td>\n",
       "      <td>9</td>\n",
       "      <td>10</td>\n",
       "      <td>1</td>\n",
       "    </tr>\n",
       "    <tr>\n",
       "      <th>5</th>\n",
       "      <td>1</td>\n",
       "      <td>5</td>\n",
       "      <td>12</td>\n",
       "      <td>8</td>\n",
       "      <td>1</td>\n",
       "      <td>5</td>\n",
       "      <td>12</td>\n",
       "      <td>8</td>\n",
       "      <td>1</td>\n",
       "      <td>5</td>\n",
       "      <td>12</td>\n",
       "      <td>8</td>\n",
       "      <td>1</td>\n",
       "    </tr>\n",
       "    <tr>\n",
       "      <th>6</th>\n",
       "      <td>1</td>\n",
       "      <td>6</td>\n",
       "      <td>10</td>\n",
       "      <td>8</td>\n",
       "      <td>9</td>\n",
       "      <td>2</td>\n",
       "      <td>12</td>\n",
       "      <td>7</td>\n",
       "      <td>3</td>\n",
       "      <td>5</td>\n",
       "      <td>4</td>\n",
       "      <td>11</td>\n",
       "      <td>1</td>\n",
       "    </tr>\n",
       "    <tr>\n",
       "      <th>7</th>\n",
       "      <td>1</td>\n",
       "      <td>7</td>\n",
       "      <td>10</td>\n",
       "      <td>5</td>\n",
       "      <td>9</td>\n",
       "      <td>11</td>\n",
       "      <td>12</td>\n",
       "      <td>6</td>\n",
       "      <td>3</td>\n",
       "      <td>8</td>\n",
       "      <td>4</td>\n",
       "      <td>2</td>\n",
       "      <td>1</td>\n",
       "    </tr>\n",
       "    <tr>\n",
       "      <th>8</th>\n",
       "      <td>1</td>\n",
       "      <td>8</td>\n",
       "      <td>12</td>\n",
       "      <td>5</td>\n",
       "      <td>1</td>\n",
       "      <td>8</td>\n",
       "      <td>12</td>\n",
       "      <td>5</td>\n",
       "      <td>1</td>\n",
       "      <td>8</td>\n",
       "      <td>12</td>\n",
       "      <td>5</td>\n",
       "      <td>1</td>\n",
       "    </tr>\n",
       "    <tr>\n",
       "      <th>9</th>\n",
       "      <td>1</td>\n",
       "      <td>9</td>\n",
       "      <td>3</td>\n",
       "      <td>1</td>\n",
       "      <td>9</td>\n",
       "      <td>3</td>\n",
       "      <td>1</td>\n",
       "      <td>9</td>\n",
       "      <td>3</td>\n",
       "      <td>1</td>\n",
       "      <td>9</td>\n",
       "      <td>3</td>\n",
       "      <td>1</td>\n",
       "    </tr>\n",
       "    <tr>\n",
       "      <th>10</th>\n",
       "      <td>1</td>\n",
       "      <td>10</td>\n",
       "      <td>9</td>\n",
       "      <td>12</td>\n",
       "      <td>3</td>\n",
       "      <td>4</td>\n",
       "      <td>1</td>\n",
       "      <td>10</td>\n",
       "      <td>9</td>\n",
       "      <td>12</td>\n",
       "      <td>3</td>\n",
       "      <td>4</td>\n",
       "      <td>1</td>\n",
       "    </tr>\n",
       "    <tr>\n",
       "      <th>11</th>\n",
       "      <td>1</td>\n",
       "      <td>11</td>\n",
       "      <td>4</td>\n",
       "      <td>5</td>\n",
       "      <td>3</td>\n",
       "      <td>7</td>\n",
       "      <td>12</td>\n",
       "      <td>2</td>\n",
       "      <td>9</td>\n",
       "      <td>8</td>\n",
       "      <td>10</td>\n",
       "      <td>6</td>\n",
       "      <td>1</td>\n",
       "    </tr>\n",
       "    <tr>\n",
       "      <th>12</th>\n",
       "      <td>1</td>\n",
       "      <td>12</td>\n",
       "      <td>1</td>\n",
       "      <td>12</td>\n",
       "      <td>1</td>\n",
       "      <td>12</td>\n",
       "      <td>1</td>\n",
       "      <td>12</td>\n",
       "      <td>1</td>\n",
       "      <td>12</td>\n",
       "      <td>1</td>\n",
       "      <td>12</td>\n",
       "      <td>1</td>\n",
       "    </tr>\n",
       "  </tbody>\n",
       "</table>\n",
       "</div>"
      ],
      "text/plain": [
       "Powers    0   1   2   3  4   5   6   7  8   9   10  11 12\n",
       "Totatives                                                \n",
       "1          1   1   1   1  1   1   1   1  1   1   1   1  1\n",
       "2          1   2   4   8  3   6  12  11  9   5  10   7  1\n",
       "3          1   3   9   1  3   9   1   3  9   1   3   9  1\n",
       "4          1   4   3  12  9  10   1   4  3  12   9  10  1\n",
       "5          1   5  12   8  1   5  12   8  1   5  12   8  1\n",
       "6          1   6  10   8  9   2  12   7  3   5   4  11  1\n",
       "7          1   7  10   5  9  11  12   6  3   8   4   2  1\n",
       "8          1   8  12   5  1   8  12   5  1   8  12   5  1\n",
       "9          1   9   3   1  9   3   1   9  3   1   9   3  1\n",
       "10         1  10   9  12  3   4   1  10  9  12   3   4  1\n",
       "11         1  11   4   5  3   7  12   2  9   8  10   6  1\n",
       "12         1  12   1  12  1  12   1  12  1  12   1  12  1"
      ]
     },
     "execution_count": 25,
     "metadata": {},
     "output_type": "execute_result"
    }
   ],
   "source": [
    "t = make_pow_frame(13)\n",
    "t"
   ]
  },
  {
   "cell_type": "code",
   "execution_count": 26,
   "id": "9b051390-f6dd-44d4-9bb9-46223191f175",
   "metadata": {},
   "outputs": [
    {
     "data": {
      "text/html": [
       "<div>\n",
       "<style scoped>\n",
       "    .dataframe tbody tr th:only-of-type {\n",
       "        vertical-align: middle;\n",
       "    }\n",
       "\n",
       "    .dataframe tbody tr th {\n",
       "        vertical-align: top;\n",
       "    }\n",
       "\n",
       "    .dataframe thead th {\n",
       "        text-align: right;\n",
       "    }\n",
       "</style>\n",
       "<table border=\"1\" class=\"dataframe\">\n",
       "  <thead>\n",
       "    <tr style=\"text-align: right;\">\n",
       "      <th>Powers</th>\n",
       "      <th>0</th>\n",
       "      <th>1</th>\n",
       "      <th>2</th>\n",
       "      <th>3</th>\n",
       "      <th>4</th>\n",
       "      <th>5</th>\n",
       "      <th>6</th>\n",
       "      <th>7</th>\n",
       "      <th>8</th>\n",
       "      <th>9</th>\n",
       "      <th>10</th>\n",
       "      <th>11</th>\n",
       "      <th>12</th>\n",
       "      <th>13</th>\n",
       "      <th>14</th>\n",
       "      <th>15</th>\n",
       "      <th>16</th>\n",
       "      <th>17</th>\n",
       "    </tr>\n",
       "    <tr>\n",
       "      <th>Totatives</th>\n",
       "      <th></th>\n",
       "      <th></th>\n",
       "      <th></th>\n",
       "      <th></th>\n",
       "      <th></th>\n",
       "      <th></th>\n",
       "      <th></th>\n",
       "      <th></th>\n",
       "      <th></th>\n",
       "      <th></th>\n",
       "      <th></th>\n",
       "      <th></th>\n",
       "      <th></th>\n",
       "      <th></th>\n",
       "      <th></th>\n",
       "      <th></th>\n",
       "      <th></th>\n",
       "      <th></th>\n",
       "    </tr>\n",
       "  </thead>\n",
       "  <tbody>\n",
       "    <tr>\n",
       "      <th>1</th>\n",
       "      <td>1</td>\n",
       "      <td>1</td>\n",
       "      <td>1</td>\n",
       "      <td>1</td>\n",
       "      <td>1</td>\n",
       "      <td>1</td>\n",
       "      <td>1</td>\n",
       "      <td>1</td>\n",
       "      <td>1</td>\n",
       "      <td>1</td>\n",
       "      <td>1</td>\n",
       "      <td>1</td>\n",
       "      <td>1</td>\n",
       "      <td>1</td>\n",
       "      <td>1</td>\n",
       "      <td>1</td>\n",
       "      <td>1</td>\n",
       "      <td>1</td>\n",
       "    </tr>\n",
       "    <tr>\n",
       "      <th>5</th>\n",
       "      <td>1</td>\n",
       "      <td>5</td>\n",
       "      <td>7</td>\n",
       "      <td>17</td>\n",
       "      <td>13</td>\n",
       "      <td>11</td>\n",
       "      <td>1</td>\n",
       "      <td>5</td>\n",
       "      <td>7</td>\n",
       "      <td>17</td>\n",
       "      <td>13</td>\n",
       "      <td>11</td>\n",
       "      <td>1</td>\n",
       "      <td>5</td>\n",
       "      <td>7</td>\n",
       "      <td>17</td>\n",
       "      <td>13</td>\n",
       "      <td>11</td>\n",
       "    </tr>\n",
       "    <tr>\n",
       "      <th>7</th>\n",
       "      <td>1</td>\n",
       "      <td>7</td>\n",
       "      <td>13</td>\n",
       "      <td>1</td>\n",
       "      <td>7</td>\n",
       "      <td>13</td>\n",
       "      <td>1</td>\n",
       "      <td>7</td>\n",
       "      <td>13</td>\n",
       "      <td>1</td>\n",
       "      <td>7</td>\n",
       "      <td>13</td>\n",
       "      <td>1</td>\n",
       "      <td>7</td>\n",
       "      <td>13</td>\n",
       "      <td>1</td>\n",
       "      <td>7</td>\n",
       "      <td>13</td>\n",
       "    </tr>\n",
       "    <tr>\n",
       "      <th>11</th>\n",
       "      <td>1</td>\n",
       "      <td>11</td>\n",
       "      <td>13</td>\n",
       "      <td>17</td>\n",
       "      <td>7</td>\n",
       "      <td>5</td>\n",
       "      <td>1</td>\n",
       "      <td>11</td>\n",
       "      <td>13</td>\n",
       "      <td>17</td>\n",
       "      <td>7</td>\n",
       "      <td>5</td>\n",
       "      <td>1</td>\n",
       "      <td>11</td>\n",
       "      <td>13</td>\n",
       "      <td>17</td>\n",
       "      <td>7</td>\n",
       "      <td>5</td>\n",
       "    </tr>\n",
       "    <tr>\n",
       "      <th>13</th>\n",
       "      <td>1</td>\n",
       "      <td>13</td>\n",
       "      <td>7</td>\n",
       "      <td>1</td>\n",
       "      <td>13</td>\n",
       "      <td>7</td>\n",
       "      <td>1</td>\n",
       "      <td>13</td>\n",
       "      <td>7</td>\n",
       "      <td>1</td>\n",
       "      <td>13</td>\n",
       "      <td>7</td>\n",
       "      <td>1</td>\n",
       "      <td>13</td>\n",
       "      <td>7</td>\n",
       "      <td>1</td>\n",
       "      <td>13</td>\n",
       "      <td>7</td>\n",
       "    </tr>\n",
       "    <tr>\n",
       "      <th>17</th>\n",
       "      <td>1</td>\n",
       "      <td>17</td>\n",
       "      <td>1</td>\n",
       "      <td>17</td>\n",
       "      <td>1</td>\n",
       "      <td>17</td>\n",
       "      <td>1</td>\n",
       "      <td>17</td>\n",
       "      <td>1</td>\n",
       "      <td>17</td>\n",
       "      <td>1</td>\n",
       "      <td>17</td>\n",
       "      <td>1</td>\n",
       "      <td>17</td>\n",
       "      <td>1</td>\n",
       "      <td>17</td>\n",
       "      <td>1</td>\n",
       "      <td>17</td>\n",
       "    </tr>\n",
       "  </tbody>\n",
       "</table>\n",
       "</div>"
      ],
      "text/plain": [
       "Powers    0   1   2   3   4   5  6   7   8   9   10  11 12  13  14  15  16  17\n",
       "Totatives                                                                     \n",
       "1          1   1   1   1   1   1  1   1   1   1   1   1  1   1   1   1   1   1\n",
       "5          1   5   7  17  13  11  1   5   7  17  13  11  1   5   7  17  13  11\n",
       "7          1   7  13   1   7  13  1   7  13   1   7  13  1   7  13   1   7  13\n",
       "11         1  11  13  17   7   5  1  11  13  17   7   5  1  11  13  17   7   5\n",
       "13         1  13   7   1  13   7  1  13   7   1  13   7  1  13   7   1  13   7\n",
       "17         1  17   1  17   1  17  1  17   1  17   1  17  1  17   1  17   1  17"
      ]
     },
     "execution_count": 26,
     "metadata": {},
     "output_type": "execute_result"
    }
   ],
   "source": [
    "t = make_pow_frame(18)\n",
    "t"
   ]
  },
  {
   "cell_type": "code",
   "execution_count": 27,
   "id": "e634356d-7e0b-45a5-9d9f-90b042e09ab3",
   "metadata": {},
   "outputs": [
    {
     "data": {
      "image/jpeg": "[encoded data removed]",
      "text/html": [
       "\n",
       "        <iframe\n",
       "            width=\"400\"\n",
       "            height=\"300\"\n",
       "            src=\"https://www.youtube.com/embed/uwUVKwC6E_0\"\n",
       "            frameborder=\"0\"\n",
       "            allowfullscreen\n",
       "        ></iframe>\n",
       "        "
      ],
      "text/plain": [
       "<IPython.lib.display.YouTubeVideo at 0x1236739d0>"
      ]
     },
     "execution_count": 27,
     "metadata": {},
     "output_type": "execute_result"
    }
   ],
   "source": [
    "YouTubeVideo(\"uwUVKwC6E_0\")"
   ]
  },
  {
   "cell_type": "markdown",
   "id": "a22fcad6-aecf-4a95-8a28-3ad26065bd0c",
   "metadata": {},
   "source": [
    "Exhibit:  From an archeological layer when Adobe Flash still worked.  [Vegetable Group Soup](http://4dsolutions.net/ocn/flash/group.html)"
   ]
  }
 ],
 "metadata": {
  "kernelspec": {
   "display_name": "Python 3 (ipykernel)",
   "language": "python",
   "name": "python3"
  },
  "language_info": {
   "codemirror_mode": {
    "name": "ipython",
    "version": 3
   },
   "file_extension": ".py",
   "mimetype": "text/x-python",
   "name": "python",
   "nbconvert_exporter": "python",
   "pygments_lexer": "ipython3",
   "version": "3.9.12"
  }
 },
 "nbformat": 4,
 "nbformat_minor": 5
}
