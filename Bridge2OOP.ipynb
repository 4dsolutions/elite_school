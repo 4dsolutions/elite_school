{
 "cells": [
  {
   "cell_type": "markdown",
   "metadata": {},
   "source": [
    "[Home](Home.ipynb)\n",
    "\n",
    "# Bridge to OOP\n",
    "\n",
    "The named tuple, in the collections module, lets us reach into a sequence both by numeric index, as usual with tuples, and by attribute, meaning each tuple made with a template will have the same fixed attribute names.\n",
    "\n",
    "For example:"
   ]
  },
  {
   "cell_type": "code",
   "execution_count": 1,
   "metadata": {},
   "outputs": [],
   "source": [
    "from collections import namedtuple"
   ]
  },
  {
   "cell_type": "code",
   "execution_count": 2,
   "metadata": {},
   "outputs": [],
   "source": [
    "Shape = namedtuple(\"Poly\", \"Faces Vertexes Edges\")"
   ]
  },
  {
   "cell_type": "markdown",
   "metadata": {},
   "source": [
    "The name ```Shape``` now points to an object in memory that serves as a callable, a kind of factory, for making any number of Shape things (a subclass of tuple, one may think of it).  "
   ]
  },
  {
   "cell_type": "code",
   "execution_count": 3,
   "metadata": {},
   "outputs": [
    {
     "data": {
      "text/plain": [
       "Poly(Faces=4, Vertexes=4, Edges=6)"
      ]
     },
     "execution_count": 3,
     "metadata": {},
     "output_type": "execute_result"
    }
   ],
   "source": [
    "tetra = Shape(4, 4, 6)\n",
    "tetra"
   ]
  },
  {
   "cell_type": "code",
   "execution_count": 4,
   "metadata": {},
   "outputs": [
    {
     "data": {
      "text/plain": [
       "Poly(Faces=6, Vertexes=8, Edges=12)"
      ]
     },
     "execution_count": 4,
     "metadata": {},
     "output_type": "execute_result"
    }
   ],
   "source": [
    "cube = Shape(Vertexes=8, Edges=12, Faces=6) # named args\n",
    "cube"
   ]
  },
  {
   "cell_type": "markdown",
   "metadata": {},
   "source": [
    "\"Shape things\" represent themselves with whatever string is provided, as the leftmost argument."
   ]
  },
  {
   "cell_type": "code",
   "execution_count": 5,
   "metadata": {},
   "outputs": [],
   "source": [
    "octa  = Shape(Faces=8, Vertexes=6, Edges=12)\n",
    "icosa = Shape(Faces=20, Vertexes=12, Edges=30)"
   ]
  },
  {
   "cell_type": "code",
   "execution_count": 6,
   "metadata": {},
   "outputs": [
    {
     "data": {
      "text/plain": [
       "Poly(Faces=20, Vertexes=12, Edges=30)"
      ]
     },
     "execution_count": 6,
     "metadata": {},
     "output_type": "execute_result"
    }
   ],
   "source": [
    "icosa"
   ]
  },
  {
   "cell_type": "markdown",
   "metadata": {},
   "source": [
    "If you're following the action, you'll see we have created a few Shape type namedtuples.  Now we can get the data in namedtuple s by saying ```s.Edges``` instead of ```s[2]```."
   ]
  },
  {
   "cell_type": "code",
   "execution_count": 7,
   "metadata": {},
   "outputs": [],
   "source": [
    "all_shapes = icosa, cube, tetra, octa\n",
    "\n",
    "for s in all_shapes:\n",
    "    # V + F == E + 2 (Euler's Law for Polyhedra with No Holes)\n",
    "    try:\n",
    "        assert s.Edges + 2 == (s.Vertexes  +  s.Faces)\n",
    "    except AssertionError:\n",
    "        print(\"Tsk Tsk, you broke Euler's rule\")"
   ]
  },
  {
   "cell_type": "code",
   "execution_count": 8,
   "metadata": {},
   "outputs": [
    {
     "data": {
      "text/plain": [
       "4"
      ]
     },
     "execution_count": 8,
     "metadata": {},
     "output_type": "execute_result"
    }
   ],
   "source": [
    "getattr(tetra, 'Faces')"
   ]
  },
  {
   "cell_type": "code",
   "execution_count": 9,
   "metadata": {},
   "outputs": [
    {
     "data": {
      "text/plain": [
       "True"
      ]
     },
     "execution_count": 9,
     "metadata": {},
     "output_type": "execute_result"
    }
   ],
   "source": [
    "hasattr(icosa, 'Edges')"
   ]
  },
  {
   "cell_type": "code",
   "execution_count": 10,
   "metadata": {},
   "outputs": [
    {
     "data": {
      "text/plain": [
       "(4, 4, 6)"
      ]
     },
     "execution_count": 10,
     "metadata": {},
     "output_type": "execute_result"
    }
   ],
   "source": [
    "tetra[0], tetra[1], tetra[2]"
   ]
  },
  {
   "cell_type": "code",
   "execution_count": 11,
   "metadata": {},
   "outputs": [
    {
     "data": {
      "text/plain": [
       "(20, 12, 30, 4, 4, 6)"
      ]
     },
     "execution_count": 11,
     "metadata": {},
     "output_type": "execute_result"
    }
   ],
   "source": [
    "*icosa, *tetra"
   ]
  },
  {
   "cell_type": "markdown",
   "metadata": {},
   "source": [
    "#### Exercise\n",
    "\n",
    "You realize future designs to add a database on the back end necessitate each Shape having an additional attribute, namely a Name.  The Name would be the exact type of Polyhedron being defined, such as \"Octahedron\" or \"Tetrahedron\".\n",
    "\n",
    "Make a new Shape below, that has this additional attribute and make it do tricks."
   ]
  },
  {
   "cell_type": "markdown",
   "metadata": {},
   "source": [
    "### Python's Object Model"
   ]
  },
  {
   "cell_type": "code",
   "execution_count": 12,
   "metadata": {},
   "outputs": [],
   "source": [
    "class Dog:\n",
    "    def __init__(me, name):\n",
    "        me.name = name\n",
    "    def bark(me, n=1):\n",
    "        \"bark n times\"\n",
    "        print(me.name, \"says\", \"Bark! \" * n)"
   ]
  },
  {
   "cell_type": "code",
   "execution_count": 14,
   "metadata": {},
   "outputs": [
    {
     "name": "stdout",
     "output_type": "stream",
     "text": [
      "Rover says Bark! Bark! Bark! Bark! Bark! \n"
     ]
    }
   ],
   "source": [
    "the_dog = Dog(\"Rover\")\n",
    "the_dog.bark(5)"
   ]
  },
  {
   "cell_type": "code",
   "execution_count": 15,
   "metadata": {},
   "outputs": [
    {
     "name": "stdout",
     "output_type": "stream",
     "text": [
      "Rover says Bark! Bark! Bark! Bark! Bark! \n"
     ]
    }
   ],
   "source": [
    "Dog.bark(the_dog, 5)"
   ]
  },
  {
   "cell_type": "code",
   "execution_count": null,
   "metadata": {},
   "outputs": [],
   "source": []
  }
 ],
 "metadata": {
  "kernelspec": {
   "display_name": "Python 3",
   "language": "python",
   "name": "python3"
  },
  "language_info": {
   "codemirror_mode": {
    "name": "ipython",
    "version": 3
   },
   "file_extension": ".py",
   "mimetype": "text/x-python",
   "name": "python",
   "nbconvert_exporter": "python",
   "pygments_lexer": "ipython3",
   "version": "3.7.9"
  }
 },
 "nbformat": 4,
 "nbformat_minor": 4
}
