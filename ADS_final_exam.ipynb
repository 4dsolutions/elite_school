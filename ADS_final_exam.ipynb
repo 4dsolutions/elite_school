{
 "cells": [
  {
   "cell_type": "markdown",
   "id": "2e2aa7cf-8455-426f-bd7d-059d03ba9f5f",
   "metadata": {},
   "source": [
    "##### Algorithms and Data Structures (Winter - Spring 2022)\n",
    "\n",
    "# Final Examination\n",
    "### June 6, 2022\n",
    "\n",
    "<br />\n",
    "<br />\n",
    "\n",
    "\n",
    "Name:  ____________________________\n",
    "\n",
    "\n",
    "<br />\n"
   ]
  },
  {
   "cell_type": "markdown",
   "id": "54d618b9-2fb6-4938-a4fc-e365efaa486f",
   "metadata": {},
   "source": [
    "<br />\n",
    "Which one of the following terms is *not* usually associated with Graph Theory? <br />\n",
    "\n",
    "<span style='font-size:30px;'>&#9634;</span> edge<br/>\n",
    "<span style='font-size:30px;'>&#9634;</span> weighted<br/>\n",
    "<span style='font-size:30px;'>&#9634;</span> axes<br/>\n",
    "<span style='font-size:30px;'>&#9634;</span> directed<br/>\n",
    "<span style='font-size:30px;'>&#9634;</span> node<br/>\n",
    "<span style='font-size:30px;'>&#9634;</span> vertex<br/>"
   ]
  },
  {
   "cell_type": "markdown",
   "id": "e33b2eb9-3815-4f9b-8e1a-dc2ff12fdf53",
   "metadata": {},
   "source": [
    "Muḥammad ibn Mūsā al-Khwārizmī (محمد  بن موسی خوارزمی), from whom the word Algorithm derives, was from: <br />\n",
    "\n",
    "<span style='font-size:30px;'>&#9634;</span> Greece<br/>\n",
    "<span style='font-size:30px;'>&#9634;</span> India<br/>\n",
    "<span style='font-size:30px;'>&#9634;</span> Persia<br/>\n",
    "<span style='font-size:30px;'>&#9634;</span> Pisa<br/>\n",
    "<span style='font-size:30px;'>&#9634;</span> Italy<br/>\n",
    "<span style='font-size:30px;'>&#9634;</span> North Africa<br/>"
   ]
  },
  {
   "cell_type": "code",
   "execution_count": 1,
   "id": "53b3bc89-a028-437a-92d6-9edde1a1c0c8",
   "metadata": {},
   "outputs": [],
   "source": [
    "# this is not a question\n",
    "bio_data = { \"Leo Fibonacci\": (1170, 1250),\n",
    "             \"Al Khwarizmi\": (780, 850),\n",
    "             \"Al Gore\": (1948,)}"
   ]
  },
  {
   "cell_type": "markdown",
   "id": "4aa026c3-fd8b-4f5b-a5c9-4514248f67ed",
   "metadata": {},
   "source": [
    "Who wrote the multivolume *The Art of Computer Programming*?\n",
    "\n",
    "<span style='font-size:30px;'>&#9634;</span> Djikstra<br/>\n",
    "<span style='font-size:30px;'>&#9634;</span> Fibonacci<br/>\n",
    "<span style='font-size:30px;'>&#9634;</span> Knuth<br/>\n",
    "<span style='font-size:30px;'>&#9634;</span> Prim<br/>\n",
    "<span style='font-size:30px;'>&#9634;</span> Ada<br/>\n",
    "<span style='font-size:30px;'>&#9634;</span> Babbage<br/>"
   ]
  },
  {
   "cell_type": "markdown",
   "id": "2ded2f94-c622-4bca-ae15-01081ffb194a",
   "metadata": {},
   "source": [
    "A caching technique often used to make recursive programs more efficient:\n",
    "\n",
    "<span style='font-size:30px;'>&#9634;</span> dynamic programming<br/>\n",
    "<span style='font-size:30px;'>&#9634;</span> memoization<br/>\n",
    "<span style='font-size:30px;'>&#9634;</span> vectorization<br/>\n",
    "<span style='font-size:30px;'>&#9634;</span> parallelization<br/>\n",
    "<span style='font-size:30px;'>&#9634;</span> list comprehension<br/>\n",
    "<span style='font-size:30px;'>&#9634;</span> depth first search<br/>"
   ]
  },
  {
   "cell_type": "markdown",
   "id": "22dd3083-c8bb-4df0-823d-36993b1a3eb0",
   "metadata": {},
   "source": [
    "Which of the following are considered data structures?  Check all that apply. <br />\n",
    "\n",
    "<span style='font-size:30px;'>&#9634;</span> queue<br/>\n",
    "<span style='font-size:30px;'>&#9634;</span> stack<br/>\n",
    "<span style='font-size:30px;'>&#9634;</span> terminal<br/>\n",
    "<span style='font-size:30px;'>&#9634;</span> array<br/>\n",
    "<span style='font-size:30px;'>&#9634;</span> vector<br/>\n",
    "<span style='font-size:30px;'>&#9634;</span> Julia<br/>"
   ]
  },
  {
   "cell_type": "markdown",
   "id": "b3d818f0-199f-46f4-b076-f020531c5ed1",
   "metadata": {},
   "source": [
    "Which one of the following is *not* considered an essential property of any group $G$ with operation $\\bigotimes$?\n",
    "\n",
    "<span style='font-size:30px;'>&#9634;</span> Closure: $a \\bigotimes b \\in G$<br/>\n",
    "<span style='font-size:30px;'>&#9634;</span> Neutral: $G$ must have neutral element $e$ such that $e \\bigotimes p = p \\bigotimes e = p$</br>\n",
    "<span style='font-size:30px;'>&#9634;</span> Associativity: $(p \\bigotimes q) \\bigotimes r ==  p \\bigotimes (q \\bigotimes r)$<br/>\n",
    "<span style='font-size:30px;'>&#9634;</span> Commutativity: $p \\bigotimes q = q \\bigotimes p$ for all $p, q \\in G$<br />\n",
    "<span style='font-size:30px;'>&#9634;</span> Inverse: every $p \\in G$ has an inverse $\\neg p \\in G$ such that $p \\bigotimes \\neg p = e$<br/>"
   ]
  },
  {
   "cell_type": "markdown",
   "id": "d5a8011d-1cf7-450b-8ccd-b8187c071592",
   "metadata": {},
   "source": [
    " <br />\n",
    " <br />\n",
    " \n",
    "**True or False?  Circle your answer.**\n",
    " \n",
    " <br />\n",
    " <br />\n",
    "  \n",
    "In Group Theory, the elements of a group must have a well-defined \"greater than\" and \"less than\" relationship.\n",
    "\n",
    "True  |  False\n",
    "\n",
    "---\n",
    "\n",
    "Napoleon was tricked into thinking he had lost a game of chess to an automaton.\n",
    "\n",
    "True  |  False\n",
    "\n",
    "---\n",
    "\n",
    "A polyhedron made of vertices (nodes) and edges is a type of graph.\n",
    "\n",
    "True  |  False\n",
    "\n",
    "---\n",
    "\n",
    "Totatives of N are positive integers < N with no factors in common with N.\n",
    "\n",
    "True  |  False\n",
    "\n",
    "---\n",
    "\n",
    "The totient of N is the number of totatives it has.\n",
    "\n",
    "True  |  False\n",
    "\n",
    "---\n",
    "\n",
    "A tree made of nodes and edges is a type of graph.\n",
    "\n",
    "True  |  False\n",
    "\n",
    "---\n",
    "\n",
    "The Radix Sort is grossly inefficient at sorting large arrays.\n",
    "\n",
    "True  |  False\n",
    "\n",
    "---\n",
    "\n",
    "Any graph must have a spanning tree, by definition.\n",
    "\n",
    "True  |  False\n",
    "\n",
    "---\n",
    "\n",
    "Replit runs code in many languages, including Python and C++.\n",
    "\n",
    "True  |  False\n",
    "\n",
    "---\n",
    "In a group, an element e always has an inverse ~e such that `e op ~e = 1` where op is the binary operation for the group, and 1 is the identity element such that `1 op e = e op 1 = e` for any e.\n",
    "\n",
    "True  |  False\n",
    "\n",
    "---\n",
    "\n",
    "Prim's Algorithm is used to find the maximum increasing (or decreasing) sub-sequence inside a give sequence of numbers.\n",
    "\n",
    "True  |  False\n",
    "\n",
    "---\n",
    "\n",
    "$V + F = E + 2$ is known as Avogadro's Law.\n",
    "\n",
    "True  |  False\n",
    "\n",
    "---\n",
    "\n",
    "A sphere may be tiled completely with hexagons.\n",
    "\n",
    "True  |  False\n",
    "\n",
    "---\n",
    "\n",
    "A graph's spanning tree may contain one or more cycles.\n",
    "\n",
    "True  |  False\n",
    "\n",
    "---\n",
    "\n",
    "The \"weight\" of a graph's edge always stands for \"distance\".\n",
    "\n",
    "True  |  False\n",
    "\n",
    "---\n",
    "\n",
    "The totatives of N multiplied modulo N form a group.\n",
    "\n",
    "True  |  False\n",
    "\n",
    "---\n",
    "\n",
    "The totatives of N added modulo N form a group.\n",
    "\n",
    "True  |  False\n"
   ]
  },
  {
   "cell_type": "code",
   "execution_count": 2,
   "id": "941ec767-96ea-45b1-9945-53835be68f7d",
   "metadata": {},
   "outputs": [],
   "source": [
    "import numpy as np\n",
    "import pandas as pd"
   ]
  },
  {
   "cell_type": "code",
   "execution_count": 3,
   "id": "547ae1f9-d36e-40d3-bbc6-20a3fa61bf15",
   "metadata": {},
   "outputs": [],
   "source": [
    "# setting up two graphs\n",
    "G1 = pd.DataFrame({'A':[0, 3, 0, 4, 0],\n",
    "                   'B':[2, 0, 0, 0, 0],\n",
    "                   'C':[0, 1, 0, 0, 1],\n",
    "                   'D':[4, 0, 3, 0, 1],\n",
    "                   'E':[0, 0, 0, 1, 0]},\n",
    "                   index = ['A', 'B', 'C', 'D', 'E'])\n",
    "\n",
    "G2 = pd.DataFrame({'A':[0, 2, 3, 0, 1],\n",
    "                   'B':[2, 0, 0, 1, 0],\n",
    "                   'C':[3, 1, 0, 0, 0],\n",
    "                   'D':[0, 1, 0, 0, 0],\n",
    "                   'E':[0, 0, 1, 0, 0]},\n",
    "                   index = ['A', 'B', 'C', 'D', 'E'])"
   ]
  },
  {
   "cell_type": "markdown",
   "id": "2b294449-5139-4e4b-ac11-3564859f3aa5",
   "metadata": {},
   "source": [
    "Based on G1 and G2 below, complete the weighted, directed graphs using one- and two-way arrows. Show weights. Avoid crossing edges.  Nodes provided."
   ]
  },
  {
   "cell_type": "code",
   "execution_count": 4,
   "id": "8b041e37-ccff-40de-9644-bcf76205c531",
   "metadata": {},
   "outputs": [
    {
     "data": {
      "text/html": [
       "<div>\n",
       "<style scoped>\n",
       "    .dataframe tbody tr th:only-of-type {\n",
       "        vertical-align: middle;\n",
       "    }\n",
       "\n",
       "    .dataframe tbody tr th {\n",
       "        vertical-align: top;\n",
       "    }\n",
       "\n",
       "    .dataframe thead th {\n",
       "        text-align: right;\n",
       "    }\n",
       "</style>\n",
       "<table border=\"1\" class=\"dataframe\">\n",
       "  <thead>\n",
       "    <tr style=\"text-align: right;\">\n",
       "      <th></th>\n",
       "      <th>A</th>\n",
       "      <th>B</th>\n",
       "      <th>C</th>\n",
       "      <th>D</th>\n",
       "      <th>E</th>\n",
       "    </tr>\n",
       "  </thead>\n",
       "  <tbody>\n",
       "    <tr>\n",
       "      <th>A</th>\n",
       "      <td>0</td>\n",
       "      <td>2</td>\n",
       "      <td>0</td>\n",
       "      <td>4</td>\n",
       "      <td>0</td>\n",
       "    </tr>\n",
       "    <tr>\n",
       "      <th>B</th>\n",
       "      <td>3</td>\n",
       "      <td>0</td>\n",
       "      <td>1</td>\n",
       "      <td>0</td>\n",
       "      <td>0</td>\n",
       "    </tr>\n",
       "    <tr>\n",
       "      <th>C</th>\n",
       "      <td>0</td>\n",
       "      <td>0</td>\n",
       "      <td>0</td>\n",
       "      <td>3</td>\n",
       "      <td>0</td>\n",
       "    </tr>\n",
       "    <tr>\n",
       "      <th>D</th>\n",
       "      <td>4</td>\n",
       "      <td>0</td>\n",
       "      <td>0</td>\n",
       "      <td>0</td>\n",
       "      <td>1</td>\n",
       "    </tr>\n",
       "    <tr>\n",
       "      <th>E</th>\n",
       "      <td>0</td>\n",
       "      <td>0</td>\n",
       "      <td>1</td>\n",
       "      <td>1</td>\n",
       "      <td>0</td>\n",
       "    </tr>\n",
       "  </tbody>\n",
       "</table>\n",
       "</div>"
      ],
      "text/plain": [
       "   A  B  C  D  E\n",
       "A  0  2  0  4  0\n",
       "B  3  0  1  0  0\n",
       "C  0  0  0  3  0\n",
       "D  4  0  0  0  1\n",
       "E  0  0  1  1  0"
      ]
     },
     "execution_count": 4,
     "metadata": {},
     "output_type": "execute_result"
    }
   ],
   "source": [
    "G1"
   ]
  },
  {
   "cell_type": "code",
   "execution_count": 5,
   "id": "08cc6155-f4a8-47be-b39e-f6930e81e24f",
   "metadata": {},
   "outputs": [
    {
     "data": {
      "text/html": [
       "<div>\n",
       "<style scoped>\n",
       "    .dataframe tbody tr th:only-of-type {\n",
       "        vertical-align: middle;\n",
       "    }\n",
       "\n",
       "    .dataframe tbody tr th {\n",
       "        vertical-align: top;\n",
       "    }\n",
       "\n",
       "    .dataframe thead th {\n",
       "        text-align: right;\n",
       "    }\n",
       "</style>\n",
       "<table border=\"1\" class=\"dataframe\">\n",
       "  <thead>\n",
       "    <tr style=\"text-align: right;\">\n",
       "      <th></th>\n",
       "      <th>A</th>\n",
       "      <th>B</th>\n",
       "      <th>C</th>\n",
       "      <th>D</th>\n",
       "      <th>E</th>\n",
       "    </tr>\n",
       "  </thead>\n",
       "  <tbody>\n",
       "    <tr>\n",
       "      <th>A</th>\n",
       "      <td>0</td>\n",
       "      <td>2</td>\n",
       "      <td>3</td>\n",
       "      <td>0</td>\n",
       "      <td>0</td>\n",
       "    </tr>\n",
       "    <tr>\n",
       "      <th>B</th>\n",
       "      <td>2</td>\n",
       "      <td>0</td>\n",
       "      <td>1</td>\n",
       "      <td>1</td>\n",
       "      <td>0</td>\n",
       "    </tr>\n",
       "    <tr>\n",
       "      <th>C</th>\n",
       "      <td>3</td>\n",
       "      <td>0</td>\n",
       "      <td>0</td>\n",
       "      <td>0</td>\n",
       "      <td>1</td>\n",
       "    </tr>\n",
       "    <tr>\n",
       "      <th>D</th>\n",
       "      <td>0</td>\n",
       "      <td>1</td>\n",
       "      <td>0</td>\n",
       "      <td>0</td>\n",
       "      <td>0</td>\n",
       "    </tr>\n",
       "    <tr>\n",
       "      <th>E</th>\n",
       "      <td>1</td>\n",
       "      <td>0</td>\n",
       "      <td>0</td>\n",
       "      <td>0</td>\n",
       "      <td>0</td>\n",
       "    </tr>\n",
       "  </tbody>\n",
       "</table>\n",
       "</div>"
      ],
      "text/plain": [
       "   A  B  C  D  E\n",
       "A  0  2  3  0  0\n",
       "B  2  0  1  1  0\n",
       "C  3  0  0  0  1\n",
       "D  0  1  0  0  0\n",
       "E  1  0  0  0  0"
      ]
     },
     "execution_count": 5,
     "metadata": {},
     "output_type": "execute_result"
    }
   ],
   "source": [
    "G2"
   ]
  },
  {
   "cell_type": "markdown",
   "id": "6d24700f-b28d-4f6f-b776-1a88a8fc29ea",
   "metadata": {},
   "source": [
    "Which of the following are well-known algorithms related to Graph Theory?  Could be more than one.\n",
    "\n",
    "<span style='font-size:30px;'>&#9634;</span> Prim's<br/>\n",
    "<span style='font-size:30px;'>&#9634;</span> Djikstra's<br/>\n",
    "<span style='font-size:30px;'>&#9634;</span> Pascal's<br/>\n",
    "<span style='font-size:30px;'>&#9634;</span> Mandelbrot's<br/>\n",
    "<span style='font-size:30px;'>&#9634;</span> Kadane's<br/>\n",
    "<span style='font-size:30px;'>&#9634;</span> Julia's<br/>"
   ]
  },
  {
   "cell_type": "markdown",
   "id": "1bde8a18-91a4-4d07-87a7-bb0f31e23c44",
   "metadata": {},
   "source": [
    "USACO story problems tend to almost always involve \n",
    "(one best answer):\n",
    "\n",
    "<span style='font-size:30px;'>&#9634;</span> recursion<br/>\n",
    "<span style='font-size:30px;'>&#9634;</span> graphs<br/>\n",
    "<span style='font-size:30px;'>&#9634;</span> random numbers<br/>\n",
    "<span style='font-size:30px;'>&#9634;</span> cows<br/>\n",
    "<span style='font-size:30px;'>&#9634;</span> dynamic programming<br/>\n",
    "<span style='font-size:30px;'>&#9634;</span> pigs<br/>"
   ]
  },
  {
   "cell_type": "code",
   "execution_count": 6,
   "id": "ce31138f-f17e-4386-af60-00ab5b6c38e5",
   "metadata": {},
   "outputs": [
    {
     "data": {
      "text/plain": [
       "[-1, 3, -2, 6, 4, 5, 10, -12]"
      ]
     },
     "execution_count": 6,
     "metadata": {},
     "output_type": "execute_result"
    }
   ],
   "source": [
    "# setting up an array\n",
    "arr = [-1, 3, -2, 6, 4, 5, 10, -12]\n",
    "arr"
   ]
  },
  {
   "cell_type": "markdown",
   "id": "b8635454-f1fd-45ab-984d-d3f183240dd5",
   "metadata": {},
   "source": [
    "What is a maximum increasing subsequence of array `arr`? \n",
    "\n",
    "List its elements: _________________\n",
    "\n",
    "What subarray of array `arr` has the maximum sum?\n",
    "\n",
    "List its elements: _________________"
   ]
  },
  {
   "cell_type": "markdown",
   "id": "8ca5f253-b6b4-4aa8-9080-ce43cb62e83d",
   "metadata": {},
   "source": [
    "Which of the following is *not* a JVM language (one only):\n",
    "\n",
    "<span style='font-size:30px;'>&#9634;</span> Java<br/>\n",
    "<span style='font-size:30px;'>&#9634;</span> Scala<br/>\n",
    "<span style='font-size:30px;'>&#9634;</span> Kotlin<br/>\n",
    "<span style='font-size:30px;'>&#9634;</span> Rust<br/>\n",
    "<span style='font-size:30px;'>&#9634;</span> Jython<br/>\n",
    "<span style='font-size:30px;'>&#9634;</span> Clojure<br/>\n",
    "\n",
    "Hint: JVM = Java Virtual Machine"
   ]
  },
  {
   "cell_type": "markdown",
   "id": "e13b3ea6-343f-479d-993b-3b015ab0fd15",
   "metadata": {},
   "source": [
    "Pair each item with a single corresponding number that connects topically (not all numbers will be needed).  \n",
    "\n",
    "Example:<br />\n",
    "\\[_3_\\] Animal<br/>\n",
    "    \n",
    "<span style='font-size:30px;'>&#9634;</span> Indian Mathematician<br/>\n",
    "<span style='font-size:30px;'>&#9634;</span> 1, 1, 2, 3, 5...<br/>\n",
    "<span style='font-size:30px;'>&#9634;</span> beat Napoleon at chess<br/>\n",
    "<span style='font-size:30px;'>&#9634;</span> Graham's Scan<br/>\n",
    "<span style='font-size:30px;'>&#9634;</span> Art of Computer Programming<br/>\n",
    "<span style='font-size:30px;'>&#9634;</span> 5757<br/>\n",
    "<span style='font-size:30px;'>&#9634;</span> 1, 12, 42, 92, 162...<br/>\n",
    "\n",
    "___\n",
    "\n",
    "0.  Donald Knuth\n",
    "1.  Fibonacci numbers\n",
    "2.  Convex Hull\n",
    "3.  a monkey\n",
    "4.  number of 5-letter words in Stanford Graph Base\n",
    "5.  cuboctahedral numbers\n",
    "6.  Ramanujan\n",
    "7.  Al Khwarizmi\n",
    "8.  Republic of Pisa\n",
    "9.  The Turk"
   ]
  },
  {
   "cell_type": "code",
   "execution_count": 7,
   "id": "430de155-d945-4aec-9aef-bbc6b895359d",
   "metadata": {},
   "outputs": [],
   "source": [
    "def some_sort(seq):\n",
    "    if len(seq) <= 1:\n",
    "        return seq\n",
    "    else:\n",
    "        pivot = seq[-1]\n",
    "        left  = [elem for elem in seq if elem < pivot]\n",
    "        right = [elem for elem in seq if elem > pivot]\n",
    "\n",
    "        return some_sort(left) + [pivot] + some_sort(right)"
   ]
  },
  {
   "cell_type": "code",
   "execution_count": 9,
   "id": "74cc9e8f-ebdc-4d32-b4e7-d851a4ae509f",
   "metadata": {},
   "outputs": [
    {
     "data": {
      "text/plain": [
       "[-1, 3, -2, 6, 4, 5, 10, -12]"
      ]
     },
     "execution_count": 9,
     "metadata": {},
     "output_type": "execute_result"
    }
   ],
   "source": [
    "arr"
   ]
  },
  {
   "cell_type": "code",
   "execution_count": 10,
   "id": "5a5da7e9-0a23-438a-9361-7091c990caf0",
   "metadata": {},
   "outputs": [
    {
     "data": {
      "text/plain": [
       "[-12, -2, -1, 3, 4, 5, 6, 10]"
      ]
     },
     "execution_count": 10,
     "metadata": {},
     "output_type": "execute_result"
    }
   ],
   "source": [
    "some_sort(arr)  # it works!"
   ]
  },
  {
   "cell_type": "markdown",
   "id": "d65aeb2b-ea64-4f94-934d-754fe2181a93",
   "metadata": {},
   "source": [
    "The above sorting algorithm is known as:\n",
    "\n",
    "<span style='font-size:30px;'>&#9634;</span> Bubble Sort<br/>\n",
    "<span style='font-size:30px;'>&#9634;</span> Insertion Sort<br/>\n",
    "<span style='font-size:30px;'>&#9634;</span> Heap Sort<br/>\n",
    "<span style='font-size:30px;'>&#9634;</span> Quick Sort<br/>\n",
    "<span style='font-size:30px;'>&#9634;</span> Merge Sort<br/>\n",
    "<span style='font-size:30px;'>&#9634;</span> Radix Sort<br/>"
   ]
  },
  {
   "cell_type": "markdown",
   "id": "640494ed-2ce3-4f13-b4ad-a021a7e136aa",
   "metadata": {},
   "source": [
    "How would you define \"dynamic programming\" in your own words?\n",
    "<br/>\n",
    "<br/>\n",
    "<br/>\n",
    "<br/>"
   ]
  },
  {
   "cell_type": "markdown",
   "id": "8c5d877c-b4f5-4a1a-b8c9-61aa66799889",
   "metadata": {},
   "source": [
    "Fill in the non-directed, not weighted graph for this Tetrahedron.\n",
    "<br />\n",
    "<br />\n",
    "<br />\n",
    "<br />\n",
    "<br />\n",
    "<br />\n",
    "*Drawing of Tetrahedron with empty adjacency matrix*\n",
    "<br />\n",
    "<br />\n",
    "<br />\n",
    "<br />\n",
    "<br />"
   ]
  },
  {
   "cell_type": "markdown",
   "id": "b4153418-a7b5-4b03-b1d0-b127d6808e0e",
   "metadata": {},
   "source": [
    "Fill in the non-directed, not weighted graph for this Cube.\n",
    "<br />\n",
    "<br />\n",
    "<br />\n",
    "<br />\n",
    "<br />\n",
    "<br />\n",
    "*Drawing of Cube with empty adjacency matrix*\n",
    "<br />\n",
    "<br />\n",
    "<br />\n",
    "<br />\n",
    "<br />"
   ]
  }
 ],
 "metadata": {
  "kernelspec": {
   "display_name": "Python 3 (ipykernel)",
   "language": "python",
   "name": "python3"
  },
  "language_info": {
   "codemirror_mode": {
    "name": "ipython",
    "version": 3
   },
   "file_extension": ".py",
   "mimetype": "text/x-python",
   "name": "python",
   "nbconvert_exporter": "python",
   "pygments_lexer": "ipython3",
   "version": "3.9.12"
  }
 },
 "nbformat": 4,
 "nbformat_minor": 5
}
