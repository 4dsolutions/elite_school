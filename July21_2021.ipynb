{
 "cells": [
  {
   "cell_type": "markdown",
   "id": "c249d93b",
   "metadata": {},
   "source": [
    "# July 21, 23 2021\n",
    "\n",
    "Lets review some of what we've studied, while also introducing some new stuff."
   ]
  },
  {
   "cell_type": "code",
   "execution_count": 1,
   "id": "600cbaa9",
   "metadata": {},
   "outputs": [],
   "source": [
    "import operator"
   ]
  },
  {
   "cell_type": "code",
   "execution_count": 2,
   "id": "97a3cfbd",
   "metadata": {},
   "outputs": [
    {
     "name": "stdout",
     "output_type": "stream",
     "text": [
      "['__abs__', '__add__', '__all__', '__and__', '__builtins__', '__cached__', '__concat__', '__contains__', '__delitem__', '__doc__', '__eq__', '__file__', '__floordiv__', '__ge__', '__getitem__', '__gt__', '__iadd__', '__iand__', '__iconcat__', '__ifloordiv__', '__ilshift__', '__imatmul__', '__imod__', '__imul__', '__index__', '__inv__', '__invert__', '__ior__', '__ipow__', '__irshift__', '__isub__', '__itruediv__', '__ixor__', '__le__', '__loader__', '__lshift__', '__lt__', '__matmul__', '__mod__', '__mul__', '__name__', '__ne__', '__neg__', '__not__', '__or__', '__package__', '__pos__', '__pow__', '__rshift__', '__setitem__', '__spec__', '__sub__', '__truediv__', '__xor__', '_abs', 'abs', 'add', 'and_', 'attrgetter', 'concat', 'contains', 'countOf', 'delitem', 'eq', 'floordiv', 'ge', 'getitem', 'gt', 'iadd', 'iand', 'iconcat', 'ifloordiv', 'ilshift', 'imatmul', 'imod', 'imul', 'index', 'indexOf', 'inv', 'invert', 'ior', 'ipow', 'irshift', 'is_', 'is_not', 'isub', 'itemgetter', 'itruediv', 'ixor', 'le', 'length_hint', 'lshift', 'lt', 'matmul', 'methodcaller', 'mod', 'mul', 'ne', 'neg', 'not_', 'or_', 'pos', 'pow', 'rshift', 'setitem', 'sub', 'truediv', 'truth', 'xor']\n"
     ]
    }
   ],
   "source": [
    "print(dir(operator))"
   ]
  },
  {
   "cell_type": "code",
   "execution_count": 3,
   "id": "59be5b74",
   "metadata": {},
   "outputs": [],
   "source": [
    "from operator import mul, add"
   ]
  },
  {
   "cell_type": "code",
   "execution_count": 4,
   "id": "f547c149",
   "metadata": {},
   "outputs": [
    {
     "data": {
      "text/plain": [
       "6"
      ]
     },
     "execution_count": 4,
     "metadata": {},
     "output_type": "execute_result"
    }
   ],
   "source": [
    "mul(3, 2)"
   ]
  },
  {
   "cell_type": "code",
   "execution_count": 5,
   "id": "a8cbd4f2",
   "metadata": {},
   "outputs": [
    {
     "data": {
      "text/plain": [
       "6"
      ]
     },
     "execution_count": 5,
     "metadata": {},
     "output_type": "execute_result"
    }
   ],
   "source": [
    "3 * 2"
   ]
  },
  {
   "cell_type": "code",
   "execution_count": 6,
   "id": "66cb9f6d",
   "metadata": {},
   "outputs": [
    {
     "data": {
      "text/plain": [
       "155367767558744989035099915780681312"
      ]
     },
     "execution_count": 6,
     "metadata": {},
     "output_type": "execute_result"
    }
   ],
   "source": [
    "mul(52938745927349857293,  2934859238485984)"
   ]
  },
  {
   "cell_type": "code",
   "execution_count": 7,
   "id": "d3f08d13",
   "metadata": {},
   "outputs": [],
   "source": [
    "from functools import reduce"
   ]
  },
  {
   "cell_type": "code",
   "execution_count": 8,
   "id": "1bd435d1",
   "metadata": {},
   "outputs": [
    {
     "name": "stdout",
     "output_type": "stream",
     "text": [
      "Everything went smoothly captain\n",
      "Close a file, log a message\n",
      "No matter what, this happens\n"
     ]
    }
   ],
   "source": [
    "try: \n",
    "    assert 23**560 % 561 == 1 # perfectly OK\n",
    "# except TypeError:\n",
    "#    print(\"That's a type error\")\n",
    "except AssertionError:\n",
    "    print(\"I have a problem with that.\")\n",
    "else:\n",
    "    print(\"Everything went smoothly captain\")\n",
    "finally:\n",
    "    print(\"Close a file, log a message\")\n",
    "    \n",
    "print(\"No matter what, this happens\")"
   ]
  },
  {
   "cell_type": "code",
   "execution_count": 9,
   "id": "5c3d5167",
   "metadata": {},
   "outputs": [],
   "source": [
    "from primes import factors"
   ]
  },
  {
   "cell_type": "code",
   "execution_count": 10,
   "id": "c854c8e0",
   "metadata": {},
   "outputs": [
    {
     "data": {
      "text/plain": [
       "(1, 3, 11, 17)"
      ]
     },
     "execution_count": 10,
     "metadata": {},
     "output_type": "execute_result"
    }
   ],
   "source": [
    "factors(561)"
   ]
  },
  {
   "cell_type": "code",
   "execution_count": 11,
   "id": "1143585a",
   "metadata": {},
   "outputs": [
    {
     "data": {
      "text/plain": [
       "10"
      ]
     },
     "execution_count": 11,
     "metadata": {},
     "output_type": "execute_result"
    }
   ],
   "source": [
    "reduce(add, (4, 3, 2, 1))"
   ]
  },
  {
   "cell_type": "code",
   "execution_count": 12,
   "id": "71cdeaf7",
   "metadata": {},
   "outputs": [],
   "source": [
    "def factorial(n):\n",
    "    if n==0:\n",
    "        return 1\n",
    "    return reduce(mul, range(1, n+1))"
   ]
  },
  {
   "cell_type": "code",
   "execution_count": 13,
   "id": "667aca67",
   "metadata": {},
   "outputs": [
    {
     "data": {
      "text/plain": [
       "1"
      ]
     },
     "execution_count": 13,
     "metadata": {},
     "output_type": "execute_result"
    }
   ],
   "source": [
    "factorial(0)"
   ]
  },
  {
   "cell_type": "code",
   "execution_count": 14,
   "id": "eb8201f6",
   "metadata": {},
   "outputs": [],
   "source": [
    "import primes"
   ]
  },
  {
   "cell_type": "code",
   "execution_count": 15,
   "id": "082451ff",
   "metadata": {},
   "outputs": [
    {
     "data": {
      "text/plain": [
       "['PrimeNumbers',\n",
       " '__builtins__',\n",
       " '__cached__',\n",
       " '__doc__',\n",
       " '__file__',\n",
       " '__loader__',\n",
       " '__name__',\n",
       " '__package__',\n",
       " '__path__',\n",
       " '__spec__',\n",
       " 'all_factors',\n",
       " 'eratosthenes',\n",
       " 'euler_test',\n",
       " 'factors',\n",
       " 'invmod',\n",
       " 'isprime',\n",
       " 'primes_gen',\n",
       " 'primesplay',\n",
       " 'xgcd']"
      ]
     },
     "execution_count": 15,
     "metadata": {},
     "output_type": "execute_result"
    }
   ],
   "source": [
    "dir(primes)"
   ]
  },
  {
   "cell_type": "code",
   "execution_count": 16,
   "id": "e2a257f8",
   "metadata": {},
   "outputs": [
    {
     "name": "stdout",
     "output_type": "stream",
     "text": [
      "Eliminating multiples of: 2\n",
      "Eliminating multiples of: 3\n",
      "Eliminating multiples of: 5\n",
      "Eliminating multiples of: 7\n",
      "Eliminating multiples of: 11\n",
      "Eliminating multiples of: 13\n",
      "Eliminating multiples of: 17\n",
      "Eliminating multiples of: 19\n",
      "Eliminating multiples of: 23\n",
      "Eliminating multiples of: 29\n",
      "Eliminating multiples of: 31\n",
      "[2, 3, 5, 7, 11, 13, 17, 19, 23, 29, 31, 37, 41, 43, 47, 53, 59, 61, 67, 71, 73, 79, 83, 89, 97, 101, 103, 107, 109, 113, 127, 131, 137, 139, 149, 151, 157, 163, 167, 173, 179, 181, 191, 193, 197, 199, 211, 223, 227, 229, 233, 239, 241, 251, 257, 263, 269, 271, 277, 281, 283, 293, 307, 311, 313, 317, 331, 337, 347, 349, 353, 359, 367, 373, 379, 383, 389, 397, 401, 409, 419, 421, 431, 433, 439, 443, 449, 457, 461, 463, 467, 479, 487, 491, 499, 503, 509, 521, 523, 541, 547, 557, 563, 569, 571, 577, 587, 593, 599, 601, 607, 613, 617, 619, 631, 641, 643, 647, 653, 659, 661, 673, 677, 683, 691, 701, 709, 719, 727, 733, 739, 743, 751, 757, 761, 769, 773, 787, 797, 809, 811, 821, 823, 827, 829, 839, 853, 857, 859, 863, 877, 881, 883, 887, 907, 911, 919, 929, 937, 941, 947, 953, 967, 971, 977, 983, 991, 997]\n"
     ]
    }
   ],
   "source": [
    "print(primes.eratosthenes(1000))"
   ]
  }
 ],
 "metadata": {
  "kernelspec": {
   "display_name": "Python 3",
   "language": "python",
   "name": "python3"
  },
  "language_info": {
   "codemirror_mode": {
    "name": "ipython",
    "version": 3
   },
   "file_extension": ".py",
   "mimetype": "text/x-python",
   "name": "python",
   "nbconvert_exporter": "python",
   "pygments_lexer": "ipython3",
   "version": "3.7.9"
  }
 },
 "nbformat": 4,
 "nbformat_minor": 5
}
