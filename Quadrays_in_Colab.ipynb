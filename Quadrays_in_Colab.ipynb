{
  "nbformat": 4,
  "nbformat_minor": 5,
  "metadata": {
    "colab": {
      "name": "Copy of Copy of Quadrays.ipynb",
      "provenance": []
    },
    "kernelspec": {
      "display_name": "Python 3",
      "language": "python",
      "name": "python3"
    },
    "language_info": {
      "codemirror_mode": {
        "name": "ipython",
        "version": 3
      },
      "file_extension": ".py",
      "mimetype": "text/x-python",
      "name": "python",
      "nbconvert_exporter": "python",
      "pygments_lexer": "ipython3",
      "version": "3.7.9"
    }
  },
  "cells": [
    {
      "cell_type": "markdown",
      "metadata": {
        "id": "1caec790"
      },
      "source": [
        "* [Home](Home.ipynb)\n",
        "\n",
        "\n",
        "# Random Walks in the Matrix\n",
        "\n",
        "<a data-flickr-embed=\"true\" href=\"https://www.flickr.com/photos/kirbyurner/479693571/in/photolist-2m29ok8-2m29ojG-2j8odSY-2fn4VBT-8ryECF-8thDyL-8iYyKN-7eU7h4-Joybi-JoybP\" title=\"Rhombic Dodecahedra\"><img src=\"https://live.staticflickr.com/190/479693571_3a51cca935_o.gif\" width=\"245\" height=\"239\" alt=\"Rhombic Dodecahedra\"></a><script async src=\"//embedr.flickr.com/assets/client-code.js\" charset=\"utf-8\"></script>\n",
        "\n",
        "Imagine standing at the center of a sphere, with 12 equally-sized spheres all around you, at the corners of a cuboctahedron.  Each time you step into a random neighboring sphere, you're in the same circumstance, of having a choice of twelve nextdoor neighbors.\n",
        "\n",
        "Have you seen [random walks](http://4dsolutions.net/ocn/numeracy3.html) on chess or checker boards?  Just take the checker pattern and extend it indefinitely around an arbitrary square marked with a lamp post.  \n",
        "\n",
        "Our little man has maybe had too much to drink and is moving randomly from one square to the next, but only across an edge, not through a diagonal.  On a square grid, he has four neighbors to select from.  On an hexagonal grid, he would have six.\n",
        "\n",
        "Back to our space-filling grid, our cells are rhombic dodecahedron shaped (twelve diamond faces).  We're free to hop at random, leaving a trace over time, of what our pathway has been.  This concept of a pathway applies regardless of which grid we're imagining.\n",
        "\n",
        "What we're going to find is that four random walkers, setting out from the same origin (lamp post) will define the four CCP sphere corners of a random tetrahedron.  That tetrahedron will have a whole number volume relative to the unit tetrahedron of four CCP balls and volume one.\n",
        "\n",
        "### Quadrays\n",
        "\n",
        "To make our pathway through the CCP (the name of this sphere packing pattern) easy to compute and keep track of, we're going to want to label all the spheres with vectorial coordinates.\n",
        "\n",
        "We will find it convenient to do so using Quadrays, an interface bolted on XYZ and easy to reason about independently of XYZ.  In this game of vectors, the origin sphere will be labeled (0,0,0,0) and the twelve around it will be the unique permutations of (2,1,1,0). \n",
        "\n",
        "Each time our random walker takes a step, he has one of twelve vectors to choose from.  Adding that vector to his current position takes him to a next position and so on, onward along a pathway.\n",
        "\n",
        "\n",
        "<a data-flickr-embed=\"true\" href=\"https://www.flickr.com/photos/kirbyurner/4723083407/in/photolist-2m29ok8-2jxGLDx-KjMqQP-EhaxK2-Bpf1cD-8P2cs1-8cn39x-7cVeMN-JotMo\" title=\"Quadray Coordinates\"><img src=\"https://live.staticflickr.com/1213/4723083407_1e315f2877_o.gif\" width=\"400\" height=\"350\" alt=\"Quadray Coordinates\"></a><script async src=\"//embedr.flickr.com/assets/client-code.js\" charset=\"utf-8\"></script>\n",
        "\n",
        "Linear combinations of the four basis rays (lets use that shoptalk) map to any point in space, as expressed by 4-tuples.  \n",
        "\n",
        "At least one of the four rays, the one not bordering a specified point's quadrant, will not contribute to wayfinding.  In canonical form, at least one element of the 4-tuple will be zero, the others non-negative.\n",
        "\n",
        "Qvectors are additive and scalable, have length and direction, according to the usual rules of vector algebra. \n",
        "\n",
        "Two way conversion from to XYZ is assurred, given Qvectors come with the one canonical representation per point, just as XYZ does.  \n",
        "\n",
        "Quadrays may be seen as \"syntactic sugar\" atop XYZ, an API.  Or vice versa."
      ],
      "id": "1caec790"
    },
    {
      "cell_type": "code",
      "metadata": {
        "colab": {
          "base_uri": "https://localhost:8080/"
        },
        "id": "d20ff2f6",
        "outputId": "3c55ccd1-e62d-470f-f0a7-a0508f3f0cea"
      },
      "source": [
        "!apt-get install libgmp-dev libmpfr-dev libmpc-dev"
      ],
      "id": "d20ff2f6",
      "execution_count": 1,
      "outputs": [
        {
          "output_type": "stream",
          "text": [
            "Reading package lists... Done\n",
            "Building dependency tree       \n",
            "Reading state information... Done\n",
            "The following additional packages will be installed:\n",
            "  libgmpxx4ldbl\n",
            "Suggested packages:\n",
            "  gmp-doc libgmp10-doc libmpfr-doc\n",
            "The following NEW packages will be installed:\n",
            "  libgmp-dev libgmpxx4ldbl libmpc-dev libmpfr-dev\n",
            "0 upgraded, 4 newly installed, 0 to remove and 40 not upgraded.\n",
            "Need to get 625 kB of archives.\n",
            "After this operation, 3,178 kB of additional disk space will be used.\n",
            "Get:1 http://archive.ubuntu.com/ubuntu bionic/main amd64 libgmpxx4ldbl amd64 2:6.1.2+dfsg-2 [8,964 B]\n",
            "Get:2 http://archive.ubuntu.com/ubuntu bionic/main amd64 libgmp-dev amd64 2:6.1.2+dfsg-2 [316 kB]\n",
            "Get:3 http://archive.ubuntu.com/ubuntu bionic/main amd64 libmpfr-dev amd64 4.0.1-1 [249 kB]\n",
            "Get:4 http://archive.ubuntu.com/ubuntu bionic/main amd64 libmpc-dev amd64 1.1.0-1 [50.5 kB]\n",
            "Fetched 625 kB in 2s (299 kB/s)\n",
            "Selecting previously unselected package libgmpxx4ldbl:amd64.\n",
            "(Reading database ... 160837 files and directories currently installed.)\n",
            "Preparing to unpack .../libgmpxx4ldbl_2%3a6.1.2+dfsg-2_amd64.deb ...\n",
            "Unpacking libgmpxx4ldbl:amd64 (2:6.1.2+dfsg-2) ...\n",
            "Selecting previously unselected package libgmp-dev:amd64.\n",
            "Preparing to unpack .../libgmp-dev_2%3a6.1.2+dfsg-2_amd64.deb ...\n",
            "Unpacking libgmp-dev:amd64 (2:6.1.2+dfsg-2) ...\n",
            "Selecting previously unselected package libmpfr-dev:amd64.\n",
            "Preparing to unpack .../libmpfr-dev_4.0.1-1_amd64.deb ...\n",
            "Unpacking libmpfr-dev:amd64 (4.0.1-1) ...\n",
            "Selecting previously unselected package libmpc-dev:amd64.\n",
            "Preparing to unpack .../libmpc-dev_1.1.0-1_amd64.deb ...\n",
            "Unpacking libmpc-dev:amd64 (1.1.0-1) ...\n",
            "Setting up libgmpxx4ldbl:amd64 (2:6.1.2+dfsg-2) ...\n",
            "Setting up libgmp-dev:amd64 (2:6.1.2+dfsg-2) ...\n",
            "Setting up libmpfr-dev:amd64 (4.0.1-1) ...\n",
            "Setting up libmpc-dev:amd64 (1.1.0-1) ...\n",
            "Processing triggers for libc-bin (2.27-3ubuntu1.2) ...\n",
            "/sbin/ldconfig.real: /usr/local/lib/python3.7/dist-packages/ideep4py/lib/libmkldnn.so.0 is not a symbolic link\n",
            "\n"
          ],
          "name": "stdout"
        }
      ]
    },
    {
      "cell_type": "code",
      "metadata": {
        "colab": {
          "base_uri": "https://localhost:8080/"
        },
        "id": "80193acb",
        "outputId": "16ea1bd1-5d4d-4e28-eecc-959ae9e47b98"
      },
      "source": [
        "pip install gmpy2"
      ],
      "id": "80193acb",
      "execution_count": 2,
      "outputs": [
        {
          "output_type": "stream",
          "text": [
            "Collecting gmpy2\n",
            "  Downloading gmpy2-2.0.8.zip (280 kB)\n",
            "\u001b[?25l\r\u001b[K     |█▏                              | 10 kB 22.9 MB/s eta 0:00:01\r\u001b[K     |██▍                             | 20 kB 29.1 MB/s eta 0:00:01\r\u001b[K     |███▌                            | 30 kB 13.7 MB/s eta 0:00:01\r\u001b[K     |████▊                           | 40 kB 10.1 MB/s eta 0:00:01\r\u001b[K     |█████▉                          | 51 kB 4.3 MB/s eta 0:00:01\r\u001b[K     |███████                         | 61 kB 4.5 MB/s eta 0:00:01\r\u001b[K     |████████▏                       | 71 kB 4.4 MB/s eta 0:00:01\r\u001b[K     |█████████▍                      | 81 kB 4.9 MB/s eta 0:00:01\r\u001b[K     |██████████▌                     | 92 kB 4.9 MB/s eta 0:00:01\r\u001b[K     |███████████▊                    | 102 kB 4.2 MB/s eta 0:00:01\r\u001b[K     |████████████▉                   | 112 kB 4.2 MB/s eta 0:00:01\r\u001b[K     |██████████████                  | 122 kB 4.2 MB/s eta 0:00:01\r\u001b[K     |███████████████▏                | 133 kB 4.2 MB/s eta 0:00:01\r\u001b[K     |████████████████▍               | 143 kB 4.2 MB/s eta 0:00:01\r\u001b[K     |█████████████████▌              | 153 kB 4.2 MB/s eta 0:00:01\r\u001b[K     |██████████████████▊             | 163 kB 4.2 MB/s eta 0:00:01\r\u001b[K     |███████████████████▉            | 174 kB 4.2 MB/s eta 0:00:01\r\u001b[K     |█████████████████████           | 184 kB 4.2 MB/s eta 0:00:01\r\u001b[K     |██████████████████████▏         | 194 kB 4.2 MB/s eta 0:00:01\r\u001b[K     |███████████████████████▍        | 204 kB 4.2 MB/s eta 0:00:01\r\u001b[K     |████████████████████████▌       | 215 kB 4.2 MB/s eta 0:00:01\r\u001b[K     |█████████████████████████▊      | 225 kB 4.2 MB/s eta 0:00:01\r\u001b[K     |██████████████████████████▉     | 235 kB 4.2 MB/s eta 0:00:01\r\u001b[K     |████████████████████████████    | 245 kB 4.2 MB/s eta 0:00:01\r\u001b[K     |█████████████████████████████▏  | 256 kB 4.2 MB/s eta 0:00:01\r\u001b[K     |██████████████████████████████▍ | 266 kB 4.2 MB/s eta 0:00:01\r\u001b[K     |███████████████████████████████▌| 276 kB 4.2 MB/s eta 0:00:01\r\u001b[K     |████████████████████████████████| 280 kB 4.2 MB/s \n",
            "\u001b[?25hBuilding wheels for collected packages: gmpy2\n",
            "  Building wheel for gmpy2 (setup.py) ... \u001b[?25l\u001b[?25hdone\n",
            "  Created wheel for gmpy2: filename=gmpy2-2.0.8-cp37-cp37m-linux_x86_64.whl size=457823 sha256=bec5592082dbfdb32db425ffc80fb92638cf026057e467d6ad53ce94d345020d\n",
            "  Stored in directory: /root/.cache/pip/wheels/ff/1c/6c/7e83f1cf633c96b7eafb0d8e10fb98dce2f0c3836754103378\n",
            "Successfully built gmpy2\n",
            "Installing collected packages: gmpy2\n",
            "Successfully installed gmpy2-2.0.8\n"
          ],
          "name": "stdout"
        }
      ]
    },
    {
      "cell_type": "code",
      "metadata": {
        "colab": {
          "base_uri": "https://localhost:8080/"
        },
        "id": "03c59a6e",
        "outputId": "a060d272-f4ce-4c5b-f72a-c01d1423aa27"
      },
      "source": [
        "!git clone https://github.com/4dsolutions/elite_school.git"
      ],
      "id": "03c59a6e",
      "execution_count": 3,
      "outputs": [
        {
          "output_type": "stream",
          "text": [
            "Cloning into 'elite_school'...\n",
            "remote: Enumerating objects: 730, done.\u001b[K\n",
            "remote: Counting objects: 100% (91/91), done.\u001b[K\n",
            "remote: Compressing objects: 100% (69/69), done.\u001b[K\n",
            "remote: Total 730 (delta 46), reused 56 (delta 20), pack-reused 639\u001b[K\n",
            "Receiving objects: 100% (730/730), 2.26 MiB | 8.02 MiB/s, done.\n",
            "Resolving deltas: 100% (428/428), done.\n"
          ],
          "name": "stdout"
        }
      ]
    },
    {
      "cell_type": "code",
      "metadata": {
        "id": "0acfff47"
      },
      "source": [
        "! cd elite_school"
      ],
      "id": "0acfff47",
      "execution_count": 4,
      "outputs": []
    },
    {
      "cell_type": "code",
      "metadata": {
        "colab": {
          "base_uri": "https://localhost:8080/",
          "height": 35
        },
        "id": "3d487e41",
        "outputId": "b4481255-e7b2-42b2-9f1f-d7cddb621e9d"
      },
      "source": [
        "import os\n",
        "os.path.abspath(os.curdir)"
      ],
      "id": "3d487e41",
      "execution_count": 5,
      "outputs": [
        {
          "output_type": "execute_result",
          "data": {
            "application/vnd.google.colaboratory.intrinsic+json": {
              "type": "string"
            },
            "text/plain": [
              "'/content'"
            ]
          },
          "metadata": {
            "tags": []
          },
          "execution_count": 5
        }
      ]
    },
    {
      "cell_type": "code",
      "metadata": {
        "id": "cb9abcc8"
      },
      "source": [
        "! cd .."
      ],
      "id": "cb9abcc8",
      "execution_count": 6,
      "outputs": []
    },
    {
      "cell_type": "code",
      "metadata": {
        "colab": {
          "base_uri": "https://localhost:8080/",
          "height": 35
        },
        "id": "470b65a6",
        "outputId": "44ae5fbb-b672-4eda-e8d5-0eef3ffa0343"
      },
      "source": [
        "os.path.abspath(os.curdir)"
      ],
      "id": "470b65a6",
      "execution_count": 7,
      "outputs": [
        {
          "output_type": "execute_result",
          "data": {
            "application/vnd.google.colaboratory.intrinsic+json": {
              "type": "string"
            },
            "text/plain": [
              "'/content'"
            ]
          },
          "metadata": {
            "tags": []
          },
          "execution_count": 7
        }
      ]
    },
    {
      "cell_type": "code",
      "metadata": {
        "colab": {
          "base_uri": "https://localhost:8080/"
        },
        "id": "c4bf6871",
        "outputId": "371869dd-f15f-45e3-c5c2-a1276d79c8bd"
      },
      "source": [
        "ls"
      ],
      "id": "c4bf6871",
      "execution_count": 8,
      "outputs": [
        {
          "output_type": "stream",
          "text": [
            "\u001b[0m\u001b[01;34melite_school\u001b[0m/  \u001b[01;34msample_data\u001b[0m/\n"
          ],
          "name": "stdout"
        }
      ]
    },
    {
      "cell_type": "code",
      "metadata": {
        "colab": {
          "base_uri": "https://localhost:8080/"
        },
        "id": "bfeb4b9e",
        "outputId": "88735bf4-1052-4409-b74e-305baa9ffd97"
      },
      "source": [
        "ls ./elite_school"
      ],
      "id": "bfeb4b9e",
      "execution_count": 9,
      "outputs": [
        {
          "output_type": "stream",
          "text": [
            "\u001b[0m\u001b[01;34macsl\u001b[0m/                  \u001b[01;32mfooding.py\u001b[0m*                      \u001b[01;34mprimes\u001b[0m/\n",
            "\u001b[01;32mairports.db\u001b[0m*           game.py                          \u001b[01;32mpuzzles.py\u001b[0m*\n",
            "Aug4_week_class.ipynb  Home.ipynb                       qrays.py\n",
            "bookmarks.db           Internals.ipynb                  Quadrays_in_Colab.ipynb\n",
            "\u001b[01;32mbookmarks.py\u001b[0m*          July_14_2021Lesson.ipynb         Quadrays.ipynb\n",
            "Bridge2OOP.ipynb       July_16_2021Lesson.ipynb         README.md\n",
            "busyoffice.py          July21_2021.ipynb                requirements.txt\n",
            "Calendar.ipynb         July28_2021.ipynb                \u001b[01;32mroller_coasters.db\u001b[0m*\n",
            "CAS_Python.ipynb       \u001b[01;32mkw_quiz.py\u001b[0m*                      RSA.ipynb\n",
            "\u001b[01;32mcastle_game.py\u001b[0m*        LambdaExpressions.ipynb          \u001b[01;32mshopping_v4.py\u001b[0m*\n",
            "\u001b[01;32mcoaster_app.py\u001b[0m*        Logs.ipynb                       SigmaNotation.ipynb\n",
            "Complex.ipynb          \u001b[01;32mmagic_circle_v2.py\u001b[0m*              \u001b[01;34mstatic\u001b[0m/\n",
            "\u001b[01;32mcontext1.py\u001b[0m*           \u001b[01;32mmake_coasters_db.py\u001b[0m*             Storytelling.ipynb\n",
            "Crypto.ipynb           \u001b[01;32mmake_links_v4.py\u001b[0m*                TabularPython.ipynb\n",
            "DatabaseFun.ipynb      \u001b[01;32mmathobjects.py\u001b[0m*                  tetravolume.py\n",
            "EEA.ipynb              \u001b[01;32mnums.py\u001b[0m*                         Trig.ipynb\n",
            "Euler.ipynb            ObjectOrientedProgramming.ipynb  \u001b[01;32mwaldo_answers.py\u001b[0m*\n",
            "Exercises.ipynb        PascalsTriangle.ipynb            \u001b[01;32mwaldo.py\u001b[0m*\n",
            "Fermat.ipynb           polyhedrons.db                   YoutubeGallery.ipynb\n"
          ],
          "name": "stdout"
        }
      ]
    },
    {
      "cell_type": "code",
      "metadata": {
        "id": "305982eb"
      },
      "source": [
        "import sys\n",
        "sys.path.append(\"./elite_school\")"
      ],
      "id": "305982eb",
      "execution_count": 10,
      "outputs": []
    },
    {
      "cell_type": "code",
      "metadata": {
        "id": "a819544b"
      },
      "source": [
        "from qrays import Qvector\n",
        "from math import sqrt"
      ],
      "id": "a819544b",
      "execution_count": 11,
      "outputs": []
    },
    {
      "cell_type": "markdown",
      "metadata": {
        "id": "ffb3c217"
      },
      "source": [
        "Is it bizarre to the point of macabre to have our basis rays not also be of unit length?  \n",
        "\n",
        "The tetrahedron cage is more important:  it's edges should be 1 exactly (or 2 if measured in sphere radii).  \n",
        "\n",
        "Our context is the IVM (= CCP = FCC), a closest packed spheres pattern well known to mathematicians, but by other names.\n",
        "\n",
        "<a data-flickr-embed=\"true\" href=\"https://www.flickr.com/photos/kirbyurner/4949801610/in/photolist-2m29ojG-5DsYaY-2i3qGpP-8EDNfx-8xp2z5-6wUiRq\" title=\"Sphere Packing\"><img src=\"https://live.staticflickr.com/4146/4949801610_da3fc94b2c_n.jpg\" width=\"240\" height=\"320\" alt=\"Sphere Packing\"></a><script async src=\"//embedr.flickr.com/assets/client-code.js\" charset=\"utf-8\"></script>"
      ],
      "id": "ffb3c217"
    },
    {
      "cell_type": "code",
      "metadata": {
        "colab": {
          "base_uri": "https://localhost:8080/"
        },
        "id": "4a0ffbae",
        "outputId": "c3b528e7-5671-4c4c-9d94-dd29bae9d9f7"
      },
      "source": [
        "a = Qvector((1,0,0,0))\n",
        "a.length()"
      ],
      "id": "4a0ffbae",
      "execution_count": 12,
      "outputs": [
        {
          "output_type": "execute_result",
          "data": {
            "text/plain": [
              "0.6123724356957945"
            ]
          },
          "metadata": {
            "tags": []
          },
          "execution_count": 12
        }
      ]
    },
    {
      "cell_type": "code",
      "metadata": {
        "colab": {
          "base_uri": "https://localhost:8080/"
        },
        "id": "e55aab2a",
        "outputId": "27b98a60-547c-4bc5-f35b-75bb7025e0c6"
      },
      "source": [
        "b = Qvector((0,1,0,0))\n",
        "b.length()"
      ],
      "id": "e55aab2a",
      "execution_count": 13,
      "outputs": [
        {
          "output_type": "execute_result",
          "data": {
            "text/plain": [
              "0.6123724356957945"
            ]
          },
          "metadata": {
            "tags": []
          },
          "execution_count": 13
        }
      ]
    },
    {
      "cell_type": "markdown",
      "metadata": {
        "id": "7ff1034d"
      },
      "source": [
        "To subtract is to add the additive inverse of, which is the Qvector rotated to point oppositely.  (1,0,0,0), negated, is (0,1,1,1).  \n",
        "\n",
        "The result of a subtraction is another Qvector, and its length will be the length separating the \"arrow tips\" of the two subtracted."
      ],
      "id": "7ff1034d"
    },
    {
      "cell_type": "code",
      "metadata": {
        "colab": {
          "base_uri": "https://localhost:8080/"
        },
        "id": "28f38268",
        "outputId": "86463cc6-48cc-46f6-8648-ff92653d435a"
      },
      "source": [
        "(a-b).length()  # the edge of our base tetrahedron"
      ],
      "id": "28f38268",
      "execution_count": 14,
      "outputs": [
        {
          "output_type": "execute_result",
          "data": {
            "text/plain": [
              "1.0"
            ]
          },
          "metadata": {
            "tags": []
          },
          "execution_count": 14
        }
      ]
    },
    {
      "cell_type": "markdown",
      "metadata": {
        "id": "0fa198d7"
      },
      "source": [
        "### IVM Vectors\n",
        "\n",
        "Two of any quadray, plus one each of two others, plus zero, will always point to one of the twelve directions surrounding any sphere in the IVM (CCP).\n",
        "\n",
        "In other words, every unique permutation of {2, 1, 1, 0} will be a vector from the origin to one of the corners of a cuboctahedron, a ball center one sphere diameter distant.\n",
        "\n",
        "Our random walks will randomly choose one of these twelve directions at each turn to play.  Lets call these \"moves\" (as in chess moves)."
      ],
      "id": "0fa198d7"
    },
    {
      "cell_type": "code",
      "metadata": {
        "colab": {
          "base_uri": "https://localhost:8080/"
        },
        "id": "67b3ac31",
        "outputId": "3c2e2831-ad4c-4948-e543-eec26674e315"
      },
      "source": [
        "from itertools import permutations\n",
        "from random import choice \n",
        "\n",
        "moves = [Qvector(p) for p in set(permutations((2,1,1,0)))]\n",
        "moves"
      ],
      "id": "67b3ac31",
      "execution_count": 15,
      "outputs": [
        {
          "output_type": "execute_result",
          "data": {
            "text/plain": [
              "[ivm_vector(a=0, b=1, c=1, d=2),\n",
              " ivm_vector(a=1, b=0, c=1, d=2),\n",
              " ivm_vector(a=2, b=0, c=1, d=1),\n",
              " ivm_vector(a=0, b=2, c=1, d=1),\n",
              " ivm_vector(a=0, b=1, c=2, d=1),\n",
              " ivm_vector(a=1, b=2, c=1, d=0),\n",
              " ivm_vector(a=1, b=1, c=2, d=0),\n",
              " ivm_vector(a=2, b=1, c=1, d=0),\n",
              " ivm_vector(a=1, b=0, c=2, d=1),\n",
              " ivm_vector(a=1, b=2, c=0, d=1),\n",
              " ivm_vector(a=2, b=1, c=0, d=1),\n",
              " ivm_vector(a=1, b=1, c=0, d=2)]"
            ]
          },
          "metadata": {
            "tags": []
          },
          "execution_count": 15
        }
      ]
    },
    {
      "cell_type": "code",
      "metadata": {
        "id": "5a016af2"
      },
      "source": [
        "def random_walk(start, steps):\n",
        "    end = start\n",
        "    for _ in range(steps):\n",
        "        end += choice(moves)\n",
        "    return end \n",
        "\n",
        "vA = random_walk(Qvector((0,0,0,0)), 1000)\n",
        "vB = random_walk(Qvector((0,0,0,0)), 1000)\n",
        "vC = random_walk(Qvector((0,0,0,0)), 1000)\n",
        "vD = random_walk(Qvector((0,0,0,0)), 1000)      "
      ],
      "id": "5a016af2",
      "execution_count": 16,
      "outputs": []
    },
    {
      "cell_type": "code",
      "metadata": {
        "id": "da2665e7"
      },
      "source": [
        "import tetravolume as tv"
      ],
      "id": "da2665e7",
      "execution_count": 17,
      "outputs": []
    },
    {
      "cell_type": "code",
      "metadata": {
        "id": "3f1a656a"
      },
      "source": [
        "c = Qvector((0,0,1,0))\n",
        "d = Qvector((0,0,0,1))\n",
        "\n",
        "ab = (a-b).length()\n",
        "ac = (a-c).length()\n",
        "ad = (a-d).length()\n",
        "bc = (b-c).length()\n",
        "cd = (c-d).length()\n",
        "bd = (b-d).length()"
      ],
      "id": "3f1a656a",
      "execution_count": 18,
      "outputs": []
    },
    {
      "cell_type": "code",
      "metadata": {
        "id": "0f67c522"
      },
      "source": [
        "t = tv.Tetrahedron(ab,ac,ad,bc,cd,ad)"
      ],
      "id": "0f67c522",
      "execution_count": 19,
      "outputs": []
    },
    {
      "cell_type": "code",
      "metadata": {
        "colab": {
          "base_uri": "https://localhost:8080/"
        },
        "id": "4f8ddfd9",
        "outputId": "b5c737bb-6a3b-442c-d46a-464ee2029771"
      },
      "source": [
        "t.ivm_volume()"
      ],
      "id": "4f8ddfd9",
      "execution_count": 20,
      "outputs": [
        {
          "output_type": "execute_result",
          "data": {
            "text/plain": [
              "1.0"
            ]
          },
          "metadata": {
            "tags": []
          },
          "execution_count": 20
        }
      ]
    },
    {
      "cell_type": "code",
      "metadata": {
        "colab": {
          "base_uri": "https://localhost:8080/"
        },
        "id": "161b786a",
        "outputId": "32e8dcb3-bea6-49cb-9ea6-e9dd89410033"
      },
      "source": [
        "t.xyz_volume()"
      ],
      "id": "161b786a",
      "execution_count": 21,
      "outputs": [
        {
          "output_type": "execute_result",
          "data": {
            "text/plain": [
              "0.9428090415820635"
            ]
          },
          "metadata": {
            "tags": []
          },
          "execution_count": 21
        }
      ]
    },
    {
      "cell_type": "markdown",
      "metadata": {
        "id": "297170f8"
      },
      "source": [
        "<a data-flickr-embed=\"true\" href=\"https://www.flickr.com/photos/kirbyurner/39391693474/in/photolist-2ifuQn8-2hvwJt9-2csiBa8-231UJ5S-QrfReH-GNshah-q8vyLo-fwsLq7-fwdt8t-fwsARu-fwsE89-c5RPLS-bH5gvP-8xp1nN-8tm3iL-8teDJ4-8thDyL-8thDHW-8ryEix-8ryECF-8teEm2-8ryyt2-8pNQou-8thE4q-8batec-5QyKsS-7jZLhp-7cXk2G-6n24Ja-5QyKe7\" title=\"Computer Volume\"><img src=\"https://live.staticflickr.com/4672/39391693474_c6c54f3d22_z.jpg\" width=\"640\" height=\"593\" alt=\"Computer Volume\"></a><script async src=\"//embedr.flickr.com/assets/client-code.js\" charset=\"utf-8\"></script>"
      ],
      "id": "297170f8"
    },
    {
      "cell_type": "code",
      "metadata": {
        "colab": {
          "base_uri": "https://localhost:8080/"
        },
        "id": "966a16c0",
        "outputId": "3b16714e-096e-4edf-bcbb-8a3338dd0ea3"
      },
      "source": [
        "(a.xyz(),\n",
        "b.xyz(),\n",
        "c.xyz(),\n",
        "d.xyz())"
      ],
      "id": "966a16c0",
      "execution_count": 22,
      "outputs": [
        {
          "output_type": "execute_result",
          "data": {
            "text/plain": [
              "(xyz_vector(x=0.35355339059327373, y=0.35355339059327373, z=0.35355339059327373),\n",
              " xyz_vector(x=-0.35355339059327373, y=-0.35355339059327373, z=0.35355339059327373),\n",
              " xyz_vector(x=-0.35355339059327373, y=0.35355339059327373, z=-0.35355339059327373),\n",
              " xyz_vector(x=0.35355339059327373, y=-0.35355339059327373, z=-0.35355339059327373))"
            ]
          },
          "metadata": {
            "tags": []
          },
          "execution_count": 22
        }
      ]
    },
    {
      "cell_type": "markdown",
      "metadata": {
        "id": "b180b7cc"
      },
      "source": [
        "Now lets get the volume using our random IVM corners."
      ],
      "id": "b180b7cc"
    },
    {
      "cell_type": "code",
      "metadata": {
        "id": "d5c102fc"
      },
      "source": [
        "ab = (vA-vB).length()\n",
        "ac = (vA-vC).length()\n",
        "ad = (vA-vD).length()\n",
        "bc = (vB-vC).length()\n",
        "cd = (vC-vD).length()\n",
        "bd = (vB-vD).length()"
      ],
      "id": "d5c102fc",
      "execution_count": 23,
      "outputs": []
    },
    {
      "cell_type": "code",
      "metadata": {
        "colab": {
          "base_uri": "https://localhost:8080/"
        },
        "id": "5f79c717",
        "outputId": "3a2ecca0-38c1-42a9-d8d4-95912e352d51"
      },
      "source": [
        "t = tv.Tetrahedron(ab,ac,ad,bc,cd,bd)\n",
        "t.ivm_volume()"
      ],
      "id": "5f79c717",
      "execution_count": 24,
      "outputs": [
        {
          "output_type": "execute_result",
          "data": {
            "text/plain": [
              "10143.0"
            ]
          },
          "metadata": {
            "tags": []
          },
          "execution_count": 24
        }
      ]
    },
    {
      "cell_type": "markdown",
      "metadata": {
        "id": "8b0164c3"
      },
      "source": [
        "Just keep re-running the cell below to appreciate how we only get whole number tetravolumes, for all of these random tetrahedrons.  Within floating point rounding error."
      ],
      "id": "8b0164c3"
    },
    {
      "cell_type": "code",
      "metadata": {
        "colab": {
          "base_uri": "https://localhost:8080/"
        },
        "id": "3545214c",
        "outputId": "e6810a1a-08ac-4b2f-a794-d9862cfc0433"
      },
      "source": [
        "vA = random_walk(Qvector((0,0,0,0)), 1000)\n",
        "vB = random_walk(Qvector((0,0,0,0)), 1000)\n",
        "vC = random_walk(Qvector((0,0,0,0)), 1000)\n",
        "vD = random_walk(Qvector((0,0,0,0)), 1000) \n",
        "ab = (vA-vB).length()\n",
        "ac = (vA-vC).length()\n",
        "ad = (vA-vD).length()\n",
        "bc = (vB-vC).length()\n",
        "cd = (vC-vD).length()\n",
        "bd = (vB-vD).length()\n",
        "t = tv.Tetrahedron(ab,ac,ad,bc,cd,bd)\n",
        "round(t.ivm_volume(), 8)"
      ],
      "id": "3545214c",
      "execution_count": 25,
      "outputs": [
        {
          "output_type": "execute_result",
          "data": {
            "text/plain": [
              "330.0"
            ]
          },
          "metadata": {
            "tags": []
          },
          "execution_count": 25
        }
      ]
    },
    {
      "cell_type": "code",
      "metadata": {
        "colab": {
          "base_uri": "https://localhost:8080/"
        },
        "id": "b957ab76",
        "outputId": "43510644-b1db-46c0-fc54-a317c273dca2"
      },
      "source": [
        "import gmpy2\n",
        "from gmpy2 import mpfr\n",
        "gmpy2.get_context().precision=300\n",
        "z0 = mpfr('0')\n",
        "vA = random_walk(Qvector((z0,z0,z0,z0)), 1000)\n",
        "vB = random_walk(Qvector((z0,z0,z0,z0)), 1000)\n",
        "vC = random_walk(Qvector((z0,z0,z0,z0)), 1000)\n",
        "vD = random_walk(Qvector((z0,z0,z0,z0)), 1000) \n",
        "ab = (vA-vB).length()\n",
        "ac = (vA-vC).length()\n",
        "ad = (vA-vD).length()\n",
        "bc = (vB-vC).length()\n",
        "cd = (vC-vD).length()\n",
        "bd = (vB-vD).length()\n",
        "t = tv.Tetrahedron(ab,ac,ad,bc,cd,bd)\n",
        "t.ivm_volume()"
      ],
      "id": "b957ab76",
      "execution_count": 26,
      "outputs": [
        {
          "output_type": "execute_result",
          "data": {
            "text/plain": [
              "mpfr('18720.0',300)"
            ]
          },
          "metadata": {
            "tags": []
          },
          "execution_count": 26
        }
      ]
    },
    {
      "cell_type": "markdown",
      "metadata": {
        "id": "b340c99c"
      },
      "source": [
        "### Volume of the A Module\n",
        "\n",
        "The cells below confirm that our base tetrahedron of unit volume, fractionates into 24 subvolumes with angles and edges at our finger tips, thanks to the ```qrays``` module"
      ],
      "id": "b340c99c"
    },
    {
      "cell_type": "markdown",
      "metadata": {
        "id": "799852a2"
      },
      "source": [
        "<a data-flickr-embed=\"true\" href=\"https://www.flickr.com/photos/kirbyurner/41174923590\" title=\"24 A Modules (12A + 12A&#x27;) &#x3D; Tetrahedron\"><img src=\"https://live.staticflickr.com/1812/41174923590_463a04427a_w.jpg\" width=\"267\" height=\"400\" alt=\"24 A Modules (12A + 12A&#x27;) &#x3D; Tetrahedron\"></a><script async src=\"//embedr.flickr.com/assets/client-code.js\" charset=\"utf-8\"></script>\n",
        "\n",
        "<img src=\"http://www.rwgrayprojects.com/synergetics/s09/figs/f1301.gif\" width=\"332\" height=\"412\" />"
      ],
      "id": "799852a2"
    },
    {
      "cell_type": "code",
      "metadata": {
        "id": "0a9387a7"
      },
      "source": [
        "amod_E  = Qvector((0,0,0,0))\n",
        "amod_C  = b\n",
        "amod_D  = (b + c)/2\n",
        "amod_F  = (b + c + d)/3\n",
        "\n",
        "# apex E to base F, C, D\n",
        "amod_EF = amod_F\n",
        "amod_CE = b\n",
        "amod_DE = amod_D\n",
        "\n",
        "# around the base, C, D, E\n",
        "amod_CF = amod_C - amod_F\n",
        "amod_CD = amod_C - amod_D\n",
        "amod_DF = amod_D - amod_F"
      ],
      "id": "0a9387a7",
      "execution_count": 27,
      "outputs": []
    },
    {
      "cell_type": "code",
      "metadata": {
        "colab": {
          "base_uri": "https://localhost:8080/"
        },
        "id": "cab7162c",
        "outputId": "255b0afa-57d2-4112-e0df-e6bd5ecd080a"
      },
      "source": [
        "amod_EF.length()  # apex to face center"
      ],
      "id": "cab7162c",
      "execution_count": 28,
      "outputs": [
        {
          "output_type": "execute_result",
          "data": {
            "text/plain": [
              "0.2041241452319315"
            ]
          },
          "metadata": {
            "tags": []
          },
          "execution_count": 28
        }
      ]
    },
    {
      "cell_type": "code",
      "metadata": {
        "colab": {
          "base_uri": "https://localhost:8080/"
        },
        "id": "3de27f2a",
        "outputId": "24dcd242-cd89-44a4-b7a9-a03af7dbc4fd"
      },
      "source": [
        "amod_CE.length()  # apex to corner"
      ],
      "id": "3de27f2a",
      "execution_count": 29,
      "outputs": [
        {
          "output_type": "execute_result",
          "data": {
            "text/plain": [
              "0.6123724356957945"
            ]
          },
          "metadata": {
            "tags": []
          },
          "execution_count": 29
        }
      ]
    },
    {
      "cell_type": "code",
      "metadata": {
        "colab": {
          "base_uri": "https://localhost:8080/"
        },
        "id": "03bcac54",
        "outputId": "82c877af-88b1-4f55-9bc0-285029e8a6f9"
      },
      "source": [
        "amod_DE.length() # apex to mid-edge"
      ],
      "id": "03bcac54",
      "execution_count": 30,
      "outputs": [
        {
          "output_type": "execute_result",
          "data": {
            "text/plain": [
              "0.3535533905932738"
            ]
          },
          "metadata": {
            "tags": []
          },
          "execution_count": 30
        }
      ]
    },
    {
      "cell_type": "code",
      "metadata": {
        "colab": {
          "base_uri": "https://localhost:8080/"
        },
        "id": "11bc55ba",
        "outputId": "b583710a-db17-4075-9704-6c67629fe206"
      },
      "source": [
        "amod_CF.length() # face center to corner"
      ],
      "id": "11bc55ba",
      "execution_count": 31,
      "outputs": [
        {
          "output_type": "execute_result",
          "data": {
            "text/plain": [
              "0.5773502691896258"
            ]
          },
          "metadata": {
            "tags": []
          },
          "execution_count": 31
        }
      ]
    },
    {
      "cell_type": "code",
      "metadata": {
        "colab": {
          "base_uri": "https://localhost:8080/"
        },
        "id": "ec16bbfb",
        "outputId": "3a472755-1c0e-4718-baa3-dc97ee1ee7a7"
      },
      "source": [
        "amod_CD.length() # corner to mid-edge"
      ],
      "id": "ec16bbfb",
      "execution_count": 32,
      "outputs": [
        {
          "output_type": "execute_result",
          "data": {
            "text/plain": [
              "0.5"
            ]
          },
          "metadata": {
            "tags": []
          },
          "execution_count": 32
        }
      ]
    },
    {
      "cell_type": "code",
      "metadata": {
        "colab": {
          "base_uri": "https://localhost:8080/"
        },
        "id": "7e81f077",
        "outputId": "4565e1f7-9a31-49d6-b205-72cd4f1da7b3"
      },
      "source": [
        "amod_DF.length() # mid-edge to face center"
      ],
      "id": "7e81f077",
      "execution_count": 33,
      "outputs": [
        {
          "output_type": "execute_result",
          "data": {
            "text/plain": [
              "0.2886751345948129"
            ]
          },
          "metadata": {
            "tags": []
          },
          "execution_count": 33
        }
      ]
    },
    {
      "cell_type": "code",
      "metadata": {
        "colab": {
          "base_uri": "https://localhost:8080/"
        },
        "id": "47f7ea32",
        "outputId": "61218acc-c7e4-474a-dcfb-2918f3aface5"
      },
      "source": [
        "lengths = map(lambda v: v.length(), \n",
        "              (amod_EF, amod_CE, amod_DE, amod_CF, amod_CD, amod_DF))\n",
        "t = tv.Tetrahedron(*lengths)\n",
        "t.ivm_volume()"
      ],
      "id": "47f7ea32",
      "execution_count": 34,
      "outputs": [
        {
          "output_type": "execute_result",
          "data": {
            "text/plain": [
              "0.04166666666666655"
            ]
          },
          "metadata": {
            "tags": []
          },
          "execution_count": 34
        }
      ]
    },
    {
      "cell_type": "markdown",
      "metadata": {
        "id": "784ce07b"
      },
      "source": [
        "## And now, in higher precision..."
      ],
      "id": "784ce07b"
    },
    {
      "cell_type": "code",
      "metadata": {
        "id": "e5b7be15",
        "tags": []
      },
      "source": [
        "one = mpfr('1')\n",
        "a = Qvector((one, z0, z0, z0))\n",
        "b = Qvector((z0, one, z0, z0))\n",
        "c = Qvector((z0, z0, one, z0))\n",
        "d = Qvector((z0, z0, z0, one))"
      ],
      "id": "e5b7be15",
      "execution_count": 35,
      "outputs": []
    },
    {
      "cell_type": "code",
      "metadata": {
        "id": "7c1413ab"
      },
      "source": [
        "amod_E  = Qvector((z0,z0,z0,z0))\n",
        "amod_C  = b\n",
        "amod_D  = (b + c)/mpfr('2')\n",
        "amod_F  = (b + c + d)/mpfr('3')\n",
        "\n",
        "# apex E to base F, C, D\n",
        "amod_EF = amod_F\n",
        "amod_CE = b\n",
        "amod_DE = amod_D\n",
        "\n",
        "# around the base, C, D, E\n",
        "amod_CF = amod_C - amod_F\n",
        "amod_CD = amod_C - amod_D\n",
        "amod_DF = amod_D - amod_F\n",
        "\n",
        "lengths = list(map(lambda v: v.length(), \n",
        "              (amod_EF, amod_CE, amod_DE, amod_CF, amod_CD, amod_DF)))"
      ],
      "id": "7c1413ab",
      "execution_count": 36,
      "outputs": []
    },
    {
      "cell_type": "code",
      "metadata": {
        "colab": {
          "base_uri": "https://localhost:8080/"
        },
        "id": "88fcb545",
        "outputId": "2a7317ac-94ff-41c2-c494-0d516a70c1c3"
      },
      "source": [
        "t = tv.Tetrahedron(*lengths)\n",
        "t.ivm_volume()"
      ],
      "id": "88fcb545",
      "execution_count": 37,
      "outputs": [
        {
          "output_type": "execute_result",
          "data": {
            "text/plain": [
              "mpfr('0.041666666666666666666666666666666666666666666666666666666666666666666666666666666666666666738',300)"
            ]
          },
          "metadata": {
            "tags": []
          },
          "execution_count": 37
        }
      ]
    },
    {
      "cell_type": "markdown",
      "metadata": {
        "id": "e82566c5"
      },
      "source": [
        "\n",
        "<a data-flickr-embed=\"true\" href=\"https://www.flickr.com/photos/kirbyurner/28435901559/in/photolist-2m29ok8-2jxGLDx-KjMqQP-EhaxK2-Bpf1cD-8P2cs1-8cn39x-7cVeMN-JotMo\" title=\"quadray_papers\"><img src=\"https://live.staticflickr.com/4704/28435901559_c3a76b6052.jpg\" width=\"486\" height=\"500\" alt=\"quadray_papers\"></a><script async src=\"//embedr.flickr.com/assets/client-code.js\" charset=\"utf-8\"></script>\n"
      ],
      "id": "e82566c5"
    },
    {
      "cell_type": "markdown",
      "metadata": {
        "id": "1e88b7c2"
      },
      "source": [
        "* [Wikipedia Entry](https://en.wikipedia.org/wiki/Quadray_coordinates)\n",
        "* [Early Development](http://grunch.net/synergetics/quadrays.html)\n",
        "* [Recent Use](https://nbviewer.jupyter.org/github/4dsolutions/School_of_Tomorrow/blob/master/Flextegrity_Lattice.ipynb)\n",
        "* [Clues for Teachers](https://mybizmo.blogspot.com/2021/07/canonical-lesson-plan.html)"
      ],
      "id": "1e88b7c2"
    }
  ]
}