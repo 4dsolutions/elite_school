{
 "cells": [
  {
   "cell_type": "markdown",
   "id": "529a4b2a",
   "metadata": {
    "id": "3a6bfdab"
   },
   "source": [
    "* [Home](Home.ipynb)\n",
    "\n",
    "\n",
    "# Random Walks in the Matrix\n",
    "\n",
    "<a data-flickr-embed=\"true\" href=\"https://www.flickr.com/photos/kirbyurner/479693571/in/photolist-2m29ok8-2m29ojG-2j8odSY-2fn4VBT-8ryECF-8thDyL-8iYyKN-7eU7h4-Joybi-JoybP\" title=\"Rhombic Dodecahedra\"><img src=\"https://live.staticflickr.com/190/479693571_3a51cca935_o.gif\" width=\"245\" height=\"239\" alt=\"Rhombic Dodecahedra\"></a><script async src=\"//embedr.flickr.com/assets/client-code.js\" charset=\"utf-8\"></script>\n",
    "\n",
    "Imagine standing at the center of a sphere, with 12 equally-sized spheres all around you, at the corners of a cuboctahedron.  Each time you step into a random neighboring sphere, you're in the same circumstance, of having a choice of twelve nextdoor neighbors.\n",
    "\n",
    "Have you seen [random walks](http://4dsolutions.net/ocn/numeracy3.html) on chess or checker boards?  Just take the checker pattern and extend it indefinitely around an arbitrary square marked with a lamp post.  \n",
    "\n",
    "Our little man has maybe had too much to drink and is moving randomly from one square to the next, but only across an edge, not through a diagonal.  On a square grid, he has four neighbors to select from.  On an hexagonal grid, he would have six.\n",
    "\n",
    "Back to our space-filling grid, our cells are rhombic dodecahedron shaped (twelve diamond faces).  We're free to hop at random, leaving a trace over time, of what our pathway has been.  This concept of a pathway applies regardless of which grid we're imagining.\n",
    "\n",
    "What we're going to find is that four random walkers, setting out from the same origin (lamp post) will define the four CCP sphere corners of a random tetrahedron.  That tetrahedron will have a whole number volume relative to the unit tetrahedron of four CCP balls and volume one.\n",
    "\n",
    "### Quadrays\n",
    "\n",
    "To make our pathway through the CCP (the name of this sphere packing pattern) easy to compute and keep track of, we're going to want to label all the spheres with vectorial coordinates.\n",
    "\n",
    "We will find it convenient to do so using Quadrays, an interface bolted on XYZ and easy to reason about independently of XYZ.  In this game of vectors, the origin sphere will be labeled (0,0,0,0) and the twelve around it will be the unique permutations of (2,1,1,0). \n",
    "\n",
    "Each time our random walker takes a step, he has one of twelve vectors to choose from.  Adding that vector to his current position takes him to a next position and so on, onward along a pathway.\n",
    "\n",
    "\n",
    "<a data-flickr-embed=\"true\" href=\"https://www.flickr.com/photos/kirbyurner/4723083407/in/photolist-2m29ok8-2jxGLDx-KjMqQP-EhaxK2-Bpf1cD-8P2cs1-8cn39x-7cVeMN-JotMo\" title=\"Quadray Coordinates\"><img src=\"https://live.staticflickr.com/1213/4723083407_1e315f2877_o.gif\" width=\"400\" height=\"350\" alt=\"Quadray Coordinates\"></a><script async src=\"//embedr.flickr.com/assets/client-code.js\" charset=\"utf-8\"></script>\n",
    "\n",
    "Linear combinations of the four basis rays (lets use that shoptalk) map to any point in space, as expressed by 4-tuples.  \n",
    "\n",
    "At least one of the four rays, the one not bordering a specified point's quadrant, will not contribute to wayfinding.  In canonical form, at least one element of the 4-tuple will be zero, the others non-negative.\n",
    "\n",
    "Qvectors are additive and scalable, have length and direction, according to the usual rules of vector algebra. \n",
    "\n",
    "Two way conversion from to XYZ is assurred, given Qvectors come with the one canonical representation per point, just as XYZ does.  \n",
    "\n",
    "Quadrays may be seen as \"syntactic sugar\" atop XYZ, an API.  Or vice versa."
   ]
  },
  {
   "cell_type": "code",
   "execution_count": 1,
   "id": "d668c25a",
   "metadata": {
    "colab": {
     "base_uri": "https://localhost:8080/"
    },
    "executionInfo": {
     "elapsed": 13840,
     "status": "ok",
     "timestamp": 1627417466713,
     "user": {
      "displayName": "kirby urner",
      "photoUrl": "https://lh3.googleusercontent.com/a-/AOh14GiJtug8FdmxDRoWkqyXsb2CYO2IN9JkSaTFgCOC4w=s64",
      "userId": "08454290975879238518"
     },
     "user_tz": 420
    },
    "id": "rqzCphtIbRMZ",
    "outputId": "18bccaab-122b-4de0-a06b-21f8a5eb57b9"
   },
   "outputs": [
    {
     "name": "stdout",
     "output_type": "stream",
     "text": [
      "Reading package lists... Done\n",
      "Building dependency tree       \n",
      "Reading state information... Done\n",
      "The following additional packages will be installed:\n",
      "  libgmpxx4ldbl\n",
      "Suggested packages:\n",
      "  gmp-doc libgmp10-doc libmpfr-doc\n",
      "The following NEW packages will be installed:\n",
      "  libgmp-dev libgmpxx4ldbl libmpc-dev libmpfr-dev\n",
      "0 upgraded, 4 newly installed, 0 to remove and 40 not upgraded.\n",
      "Need to get 625 kB of archives.\n",
      "After this operation, 3,178 kB of additional disk space will be used.\n",
      "Get:1 http://archive.ubuntu.com/ubuntu bionic/main amd64 libgmpxx4ldbl amd64 2:6.1.2+dfsg-2 [8,964 B]\n",
      "Get:2 http://archive.ubuntu.com/ubuntu bionic/main amd64 libgmp-dev amd64 2:6.1.2+dfsg-2 [316 kB]\n",
      "Get:3 http://archive.ubuntu.com/ubuntu bionic/main amd64 libmpfr-dev amd64 4.0.1-1 [249 kB]\n",
      "Get:4 http://archive.ubuntu.com/ubuntu bionic/main amd64 libmpc-dev amd64 1.1.0-1 [50.5 kB]\n",
      "Fetched 625 kB in 1s (848 kB/s)\n",
      "Selecting previously unselected package libgmpxx4ldbl:amd64.\n",
      "(Reading database ... 160837 files and directories currently installed.)\n",
      "Preparing to unpack .../libgmpxx4ldbl_2%3a6.1.2+dfsg-2_amd64.deb ...\n",
      "Unpacking libgmpxx4ldbl:amd64 (2:6.1.2+dfsg-2) ...\n",
      "Selecting previously unselected package libgmp-dev:amd64.\n",
      "Preparing to unpack .../libgmp-dev_2%3a6.1.2+dfsg-2_amd64.deb ...\n",
      "Unpacking libgmp-dev:amd64 (2:6.1.2+dfsg-2) ...\n",
      "Selecting previously unselected package libmpfr-dev:amd64.\n",
      "Preparing to unpack .../libmpfr-dev_4.0.1-1_amd64.deb ...\n",
      "Unpacking libmpfr-dev:amd64 (4.0.1-1) ...\n",
      "Selecting previously unselected package libmpc-dev:amd64.\n",
      "Preparing to unpack .../libmpc-dev_1.1.0-1_amd64.deb ...\n",
      "Unpacking libmpc-dev:amd64 (1.1.0-1) ...\n",
      "Setting up libgmpxx4ldbl:amd64 (2:6.1.2+dfsg-2) ...\n",
      "Setting up libgmp-dev:amd64 (2:6.1.2+dfsg-2) ...\n",
      "Setting up libmpfr-dev:amd64 (4.0.1-1) ...\n",
      "Setting up libmpc-dev:amd64 (1.1.0-1) ...\n",
      "Processing triggers for libc-bin (2.27-3ubuntu1.2) ...\n",
      "/sbin/ldconfig.real: /usr/local/lib/python3.7/dist-packages/ideep4py/lib/libmkldnn.so.0 is not a symbolic link\n",
      "\n"
     ]
    }
   ],
   "source": [
    "!apt-get install libgmp-dev libmpfr-dev libmpc-dev"
   ]
  },
  {
   "cell_type": "code",
   "execution_count": 2,
   "id": "f472c955",
   "metadata": {
    "colab": {
     "base_uri": "https://localhost:8080/"
    },
    "executionInfo": {
     "elapsed": 12490,
     "status": "ok",
     "timestamp": 1627417479193,
     "user": {
      "displayName": "kirby urner",
      "photoUrl": "https://lh3.googleusercontent.com/a-/AOh14GiJtug8FdmxDRoWkqyXsb2CYO2IN9JkSaTFgCOC4w=s64",
      "userId": "08454290975879238518"
     },
     "user_tz": 420
    },
    "id": "xNIRV1mAbbBK",
    "outputId": "8c66d84b-8a44-4953-924c-47dc2da6264c"
   },
   "outputs": [
    {
     "name": "stdout",
     "output_type": "stream",
     "text": [
      "Collecting gmpy2\n",
      "  Downloading gmpy2-2.0.8.zip (280 kB)\n",
      "\u001b[K     |████████████████████████████████| 280 kB 5.2 MB/s eta 0:00:01\n",
      "\u001b[?25hBuilding wheels for collected packages: gmpy2\n",
      "  Building wheel for gmpy2 (setup.py) ... \u001b[?25l\u001b[?25hdone\n",
      "  Created wheel for gmpy2: filename=gmpy2-2.0.8-cp37-cp37m-linux_x86_64.whl size=457815 sha256=54fe3210fb0633a8f1a2e13b2ecf1ffe493455797c360aeff082365ad12e8a2e\n",
      "  Stored in directory: /root/.cache/pip/wheels/ff/1c/6c/7e83f1cf633c96b7eafb0d8e10fb98dce2f0c3836754103378\n",
      "Successfully built gmpy2\n",
      "Installing collected packages: gmpy2\n",
      "Successfully installed gmpy2-2.0.8\n"
     ]
    }
   ],
   "source": [
    "pip install gmpy2"
   ]
  },
  {
   "cell_type": "code",
   "execution_count": 3,
   "id": "95e79c90",
   "metadata": {
    "colab": {
     "base_uri": "https://localhost:8080/"
    },
    "executionInfo": {
     "elapsed": 380,
     "status": "ok",
     "timestamp": 1627417479530,
     "user": {
      "displayName": "kirby urner",
      "photoUrl": "https://lh3.googleusercontent.com/a-/AOh14GiJtug8FdmxDRoWkqyXsb2CYO2IN9JkSaTFgCOC4w=s64",
      "userId": "08454290975879238518"
     },
     "user_tz": 420
    },
    "id": "jNo0UpXqngFR",
    "outputId": "67ed6c12-7152-48ac-9164-888f0500ddf0"
   },
   "outputs": [
    {
     "name": "stdout",
     "output_type": "stream",
     "text": [
      "Cloning into 'elite_school'...\n",
      "remote: Enumerating objects: 673, done.\u001b[K\n",
      "remote: Counting objects: 100% (34/34), done.\u001b[K\n",
      "remote: Compressing objects: 100% (26/26), done.\u001b[K\n",
      "remote: Total 673 (delta 13), reused 20 (delta 6), pack-reused 639\u001b[K\n",
      "Receiving objects: 100% (673/673), 2.18 MiB | 20.14 MiB/s, done.\n",
      "Resolving deltas: 100% (395/395), done.\n"
     ]
    }
   ],
   "source": [
    "!git clone https://github.com/4dsolutions/elite_school.git"
   ]
  },
  {
   "cell_type": "code",
   "execution_count": 4,
   "id": "09c30031",
   "metadata": {
    "executionInfo": {
     "elapsed": 272,
     "status": "ok",
     "timestamp": 1627417479794,
     "user": {
      "displayName": "kirby urner",
      "photoUrl": "https://lh3.googleusercontent.com/a-/AOh14GiJtug8FdmxDRoWkqyXsb2CYO2IN9JkSaTFgCOC4w=s64",
      "userId": "08454290975879238518"
     },
     "user_tz": 420
    },
    "id": "SUNwllkinr8K"
   },
   "outputs": [],
   "source": [
    "! cd elite_school"
   ]
  },
  {
   "cell_type": "code",
   "execution_count": 5,
   "id": "159da266",
   "metadata": {
    "colab": {
     "base_uri": "https://localhost:8080/",
     "height": 35
    },
    "executionInfo": {
     "elapsed": 41,
     "status": "ok",
     "timestamp": 1627417479795,
     "user": {
      "displayName": "kirby urner",
      "photoUrl": "https://lh3.googleusercontent.com/a-/AOh14GiJtug8FdmxDRoWkqyXsb2CYO2IN9JkSaTFgCOC4w=s64",
      "userId": "08454290975879238518"
     },
     "user_tz": 420
    },
    "id": "M9oUC1lIn35S",
    "outputId": "cb04bddf-3e0a-4ea8-fab0-bc66befbf9b1"
   },
   "outputs": [
    {
     "data": {
      "application/vnd.google.colaboratory.intrinsic+json": {
       "type": "string"
      },
      "text/plain": [
       "'/content'"
      ]
     },
     "execution_count": 5,
     "metadata": {
      "tags": []
     },
     "output_type": "execute_result"
    }
   ],
   "source": [
    "import os\n",
    "os.path.abspath(os.curdir)"
   ]
  },
  {
   "cell_type": "code",
   "execution_count": 6,
   "id": "b6fd8f2e",
   "metadata": {
    "executionInfo": {
     "elapsed": 37,
     "status": "ok",
     "timestamp": 1627417479796,
     "user": {
      "displayName": "kirby urner",
      "photoUrl": "https://lh3.googleusercontent.com/a-/AOh14GiJtug8FdmxDRoWkqyXsb2CYO2IN9JkSaTFgCOC4w=s64",
      "userId": "08454290975879238518"
     },
     "user_tz": 420
    },
    "id": "LAarPHJnoDNP"
   },
   "outputs": [],
   "source": [
    "! cd .."
   ]
  },
  {
   "cell_type": "code",
   "execution_count": 7,
   "id": "ba2cdcac",
   "metadata": {
    "colab": {
     "base_uri": "https://localhost:8080/",
     "height": 35
    },
    "executionInfo": {
     "elapsed": 36,
     "status": "ok",
     "timestamp": 1627417479797,
     "user": {
      "displayName": "kirby urner",
      "photoUrl": "https://lh3.googleusercontent.com/a-/AOh14GiJtug8FdmxDRoWkqyXsb2CYO2IN9JkSaTFgCOC4w=s64",
      "userId": "08454290975879238518"
     },
     "user_tz": 420
    },
    "id": "d0VUcnILoGtr",
    "outputId": "47772b27-e29d-4935-e664-5bbf7054e469"
   },
   "outputs": [
    {
     "data": {
      "application/vnd.google.colaboratory.intrinsic+json": {
       "type": "string"
      },
      "text/plain": [
       "'/content'"
      ]
     },
     "execution_count": 7,
     "metadata": {
      "tags": []
     },
     "output_type": "execute_result"
    }
   ],
   "source": [
    "os.path.abspath(os.curdir)"
   ]
  },
  {
   "cell_type": "code",
   "execution_count": 8,
   "id": "35c72562",
   "metadata": {
    "colab": {
     "base_uri": "https://localhost:8080/"
    },
    "executionInfo": {
     "elapsed": 291,
     "status": "ok",
     "timestamp": 1627417480054,
     "user": {
      "displayName": "kirby urner",
      "photoUrl": "https://lh3.googleusercontent.com/a-/AOh14GiJtug8FdmxDRoWkqyXsb2CYO2IN9JkSaTFgCOC4w=s64",
      "userId": "08454290975879238518"
     },
     "user_tz": 420
    },
    "id": "zuRqecVioJ9Z",
    "outputId": "58f7d628-b022-4f3d-a866-9a7174f97a3a"
   },
   "outputs": [
    {
     "name": "stdout",
     "output_type": "stream",
     "text": [
      "\u001b[0m\u001b[01;34melite_school\u001b[0m/  \u001b[01;34msample_data\u001b[0m/\n"
     ]
    }
   ],
   "source": [
    "ls"
   ]
  },
  {
   "cell_type": "code",
   "execution_count": 9,
   "id": "4bb8d103",
   "metadata": {
    "colab": {
     "base_uri": "https://localhost:8080/"
    },
    "executionInfo": {
     "elapsed": 417,
     "status": "ok",
     "timestamp": 1627417480464,
     "user": {
      "displayName": "kirby urner",
      "photoUrl": "https://lh3.googleusercontent.com/a-/AOh14GiJtug8FdmxDRoWkqyXsb2CYO2IN9JkSaTFgCOC4w=s64",
      "userId": "08454290975879238518"
     },
     "user_tz": 420
    },
    "id": "8ls4Z40MoL_c",
    "outputId": "2fe81a4b-1d6d-49b9-a1e6-02c1bdbe6f65"
   },
   "outputs": [
    {
     "name": "stdout",
     "output_type": "stream",
     "text": [
      "\u001b[0m\u001b[01;34macsl\u001b[0m/              \u001b[01;32mfooding.py\u001b[0m*                      \u001b[01;32mpuzzles.py\u001b[0m*\n",
      "\u001b[01;32mairports.db\u001b[0m*       game.py                          qrays.py\n",
      "bookmarks.db       Home.ipynb                       Quadrays.ipynb\n",
      "\u001b[01;32mbookmarks.py\u001b[0m*      Internals.ipynb                  README.md\n",
      "Bridge2OOP.ipynb   July_14_2021Lesson.ipynb         requirements.txt\n",
      "busyoffice.py      July_16_2021Lesson.ipynb         \u001b[01;32mroller_coasters.db\u001b[0m*\n",
      "Calendar.ipynb     July21_2021.ipynb                RSA.ipynb\n",
      "CAS_Python.ipynb   \u001b[01;32mkw_quiz.py\u001b[0m*                      \u001b[01;32mshopping_v4.py\u001b[0m*\n",
      "\u001b[01;32mcastle_game.py\u001b[0m*    LambdaExpressions.ipynb          SigmaNotation.ipynb\n",
      "\u001b[01;32mcoaster_app.py\u001b[0m*    Logs.ipynb                       \u001b[01;34mstatic\u001b[0m/\n",
      "Complex.ipynb      \u001b[01;32mmagic_circle_v2.py\u001b[0m*              Storytelling.ipynb\n",
      "\u001b[01;32mcontext1.py\u001b[0m*       \u001b[01;32mmake_coasters_db.py\u001b[0m*             TabularPython.ipynb\n",
      "Crypto.ipynb       \u001b[01;32mmake_links_v4.py\u001b[0m*                tetravolume.py\n",
      "DatabaseFun.ipynb  \u001b[01;32mnums.py\u001b[0m*                         Trig.ipynb\n",
      "EEA.ipynb          ObjectOrientedProgramming.ipynb  \u001b[01;32mwaldo_answers.py\u001b[0m*\n",
      "Euler.ipynb        PascalsTriangle.ipynb            \u001b[01;32mwaldo.py\u001b[0m*\n",
      "Exercises.ipynb    polyhedrons.db                   YoutubeGallery.ipynb\n",
      "Fermat.ipynb       \u001b[01;34mprimes\u001b[0m/\n"
     ]
    }
   ],
   "source": [
    "ls ./elite_school"
   ]
  },
  {
   "cell_type": "code",
   "execution_count": 10,
   "id": "fcd37dd2",
   "metadata": {
    "executionInfo": {
     "elapsed": 76,
     "status": "ok",
     "timestamp": 1627417480465,
     "user": {
      "displayName": "kirby urner",
      "photoUrl": "https://lh3.googleusercontent.com/a-/AOh14GiJtug8FdmxDRoWkqyXsb2CYO2IN9JkSaTFgCOC4w=s64",
      "userId": "08454290975879238518"
     },
     "user_tz": 420
    },
    "id": "WHeLp9fGoRXk"
   },
   "outputs": [],
   "source": [
    "import sys\n",
    "sys.path.append(\"./elite_school\")"
   ]
  },
  {
   "cell_type": "code",
   "execution_count": 11,
   "id": "116bf599",
   "metadata": {
    "executionInfo": {
     "elapsed": 76,
     "status": "ok",
     "timestamp": 1627417480466,
     "user": {
      "displayName": "kirby urner",
      "photoUrl": "https://lh3.googleusercontent.com/a-/AOh14GiJtug8FdmxDRoWkqyXsb2CYO2IN9JkSaTFgCOC4w=s64",
      "userId": "08454290975879238518"
     },
     "user_tz": 420
    },
    "id": "9e320ae9"
   },
   "outputs": [],
   "source": [
    "from qrays import Qvector\n",
    "from math import sqrt"
   ]
  },
  {
   "cell_type": "markdown",
   "id": "3bac4307",
   "metadata": {
    "id": "75e8cb31"
   },
   "source": [
    "Is it bizarre to the point of macabre to have our basis rays not also be of unit length?  \n",
    "\n",
    "The tetrahedron cage is more important:  it's edges should be 1 exactly (or 2 if measured in sphere radii).  \n",
    "\n",
    "Our context is the IVM (= CCP = FCC), a closest packed spheres pattern well known to mathematicians, but by other names.\n",
    "\n",
    "<a data-flickr-embed=\"true\" href=\"https://www.flickr.com/photos/kirbyurner/4949801610/in/photolist-2m29ojG-5DsYaY-2i3qGpP-8EDNfx-8xp2z5-6wUiRq\" title=\"Sphere Packing\"><img src=\"https://live.staticflickr.com/4146/4949801610_da3fc94b2c_n.jpg\" width=\"240\" height=\"320\" alt=\"Sphere Packing\"></a><script async src=\"//embedr.flickr.com/assets/client-code.js\" charset=\"utf-8\"></script>"
   ]
  },
  {
   "cell_type": "code",
   "execution_count": 12,
   "id": "ea81d170",
   "metadata": {
    "colab": {
     "base_uri": "https://localhost:8080/"
    },
    "executionInfo": {
     "elapsed": 76,
     "status": "ok",
     "timestamp": 1627417480467,
     "user": {
      "displayName": "kirby urner",
      "photoUrl": "https://lh3.googleusercontent.com/a-/AOh14GiJtug8FdmxDRoWkqyXsb2CYO2IN9JkSaTFgCOC4w=s64",
      "userId": "08454290975879238518"
     },
     "user_tz": 420
    },
    "id": "45b90e4d",
    "outputId": "22f649aa-62f4-42f3-f85b-8c6f6d76f878"
   },
   "outputs": [
    {
     "data": {
      "text/plain": [
       "0.6123724356957945"
      ]
     },
     "execution_count": 12,
     "metadata": {
      "tags": []
     },
     "output_type": "execute_result"
    }
   ],
   "source": [
    "a = Qvector((1,0,0,0))\n",
    "a.length()"
   ]
  },
  {
   "cell_type": "code",
   "execution_count": 13,
   "id": "bf97237e",
   "metadata": {
    "colab": {
     "base_uri": "https://localhost:8080/"
    },
    "executionInfo": {
     "elapsed": 70,
     "status": "ok",
     "timestamp": 1627417480468,
     "user": {
      "displayName": "kirby urner",
      "photoUrl": "https://lh3.googleusercontent.com/a-/AOh14GiJtug8FdmxDRoWkqyXsb2CYO2IN9JkSaTFgCOC4w=s64",
      "userId": "08454290975879238518"
     },
     "user_tz": 420
    },
    "id": "a550fdb0",
    "outputId": "2f637ebe-c9d5-48cc-c22a-23594c76df75"
   },
   "outputs": [
    {
     "data": {
      "text/plain": [
       "0.6123724356957945"
      ]
     },
     "execution_count": 13,
     "metadata": {
      "tags": []
     },
     "output_type": "execute_result"
    }
   ],
   "source": [
    "b = Qvector((0,1,0,0))\n",
    "b.length()"
   ]
  },
  {
   "cell_type": "markdown",
   "id": "90c94c29",
   "metadata": {
    "id": "af4f296c"
   },
   "source": [
    "To subtract is to add the additive inverse of, which is the Qvector rotated to point oppositely.  (1,0,0,0), negated, is (0,1,1,1).  \n",
    "\n",
    "The result of a subtraction is another Qvector, and its length will be the length separating the \"arrow tips\" of the two subtracted."
   ]
  },
  {
   "cell_type": "code",
   "execution_count": 14,
   "id": "8d6e7e98",
   "metadata": {
    "colab": {
     "base_uri": "https://localhost:8080/"
    },
    "executionInfo": {
     "elapsed": 70,
     "status": "ok",
     "timestamp": 1627417480472,
     "user": {
      "displayName": "kirby urner",
      "photoUrl": "https://lh3.googleusercontent.com/a-/AOh14GiJtug8FdmxDRoWkqyXsb2CYO2IN9JkSaTFgCOC4w=s64",
      "userId": "08454290975879238518"
     },
     "user_tz": 420
    },
    "id": "24a49854",
    "outputId": "4e480e8e-1707-4f62-ede8-c55d85687370"
   },
   "outputs": [
    {
     "data": {
      "text/plain": [
       "1.0"
      ]
     },
     "execution_count": 14,
     "metadata": {
      "tags": []
     },
     "output_type": "execute_result"
    }
   ],
   "source": [
    "(a-b).length()  # the edge of our base tetrahedron"
   ]
  },
  {
   "cell_type": "markdown",
   "id": "c9a72bd3",
   "metadata": {
    "id": "7e8269f0"
   },
   "source": [
    "### IVM Vectors\n",
    "\n",
    "Two of any quadray, plus one each of two others, plus zero, will always point to one of the twelve directions surrounding any sphere in the IVM (CCP).\n",
    "\n",
    "In other words, every unique permutation of {2, 1, 1, 0} will be a vector from the origin to one of the corners of a cuboctahedron, a ball center one sphere diameter distant.\n",
    "\n",
    "Our random walks will randomly choose one of these twelve directions at each turn to play.  Lets call these \"moves\" (as in chess moves)."
   ]
  },
  {
   "cell_type": "code",
   "execution_count": 15,
   "id": "ffe72612",
   "metadata": {
    "colab": {
     "base_uri": "https://localhost:8080/"
    },
    "executionInfo": {
     "elapsed": 67,
     "status": "ok",
     "timestamp": 1627417480473,
     "user": {
      "displayName": "kirby urner",
      "photoUrl": "https://lh3.googleusercontent.com/a-/AOh14GiJtug8FdmxDRoWkqyXsb2CYO2IN9JkSaTFgCOC4w=s64",
      "userId": "08454290975879238518"
     },
     "user_tz": 420
    },
    "id": "60e8bfb0",
    "outputId": "a2750a46-4663-4824-ce9b-efb9fd260365"
   },
   "outputs": [
    {
     "data": {
      "text/plain": [
       "[ivm_vector(a=0, b=1, c=1, d=2),\n",
       " ivm_vector(a=1, b=0, c=1, d=2),\n",
       " ivm_vector(a=2, b=0, c=1, d=1),\n",
       " ivm_vector(a=0, b=2, c=1, d=1),\n",
       " ivm_vector(a=0, b=1, c=2, d=1),\n",
       " ivm_vector(a=1, b=2, c=1, d=0),\n",
       " ivm_vector(a=1, b=1, c=2, d=0),\n",
       " ivm_vector(a=2, b=1, c=1, d=0),\n",
       " ivm_vector(a=1, b=0, c=2, d=1),\n",
       " ivm_vector(a=1, b=2, c=0, d=1),\n",
       " ivm_vector(a=2, b=1, c=0, d=1),\n",
       " ivm_vector(a=1, b=1, c=0, d=2)]"
      ]
     },
     "execution_count": 15,
     "metadata": {
      "tags": []
     },
     "output_type": "execute_result"
    }
   ],
   "source": [
    "from itertools import permutations\n",
    "from random import choice \n",
    "\n",
    "moves = [Qvector(p) for p in set(permutations((2,1,1,0)))]\n",
    "moves"
   ]
  },
  {
   "cell_type": "code",
   "execution_count": 16,
   "id": "b6ed1769",
   "metadata": {
    "executionInfo": {
     "elapsed": 63,
     "status": "ok",
     "timestamp": 1627417480474,
     "user": {
      "displayName": "kirby urner",
      "photoUrl": "https://lh3.googleusercontent.com/a-/AOh14GiJtug8FdmxDRoWkqyXsb2CYO2IN9JkSaTFgCOC4w=s64",
      "userId": "08454290975879238518"
     },
     "user_tz": 420
    },
    "id": "3d961c8f"
   },
   "outputs": [],
   "source": [
    "def random_walk(start, steps):\n",
    "    end = start\n",
    "    for _ in range(steps):\n",
    "        end += choice(moves)\n",
    "    return end \n",
    "\n",
    "vA = random_walk(Qvector((0,0,0,0)), 1000)\n",
    "vB = random_walk(Qvector((0,0,0,0)), 1000)\n",
    "vC = random_walk(Qvector((0,0,0,0)), 1000)\n",
    "vD = random_walk(Qvector((0,0,0,0)), 1000)      "
   ]
  },
  {
   "cell_type": "code",
   "execution_count": 17,
   "id": "ffd30624",
   "metadata": {
    "executionInfo": {
     "elapsed": 63,
     "status": "ok",
     "timestamp": 1627417480475,
     "user": {
      "displayName": "kirby urner",
      "photoUrl": "https://lh3.googleusercontent.com/a-/AOh14GiJtug8FdmxDRoWkqyXsb2CYO2IN9JkSaTFgCOC4w=s64",
      "userId": "08454290975879238518"
     },
     "user_tz": 420
    },
    "id": "a05ed4ff"
   },
   "outputs": [],
   "source": [
    "import tetravolume as tv"
   ]
  },
  {
   "cell_type": "code",
   "execution_count": 18,
   "id": "88193b4a",
   "metadata": {
    "executionInfo": {
     "elapsed": 63,
     "status": "ok",
     "timestamp": 1627417480476,
     "user": {
      "displayName": "kirby urner",
      "photoUrl": "https://lh3.googleusercontent.com/a-/AOh14GiJtug8FdmxDRoWkqyXsb2CYO2IN9JkSaTFgCOC4w=s64",
      "userId": "08454290975879238518"
     },
     "user_tz": 420
    },
    "id": "0b262d7b"
   },
   "outputs": [],
   "source": [
    "c = Qvector((0,0,1,0))\n",
    "d = Qvector((0,0,0,1))\n",
    "\n",
    "ab = (a-b).length()\n",
    "ac = (a-c).length()\n",
    "ad = (a-d).length()\n",
    "bc = (b-c).length()\n",
    "cd = (c-d).length()\n",
    "bd = (b-d).length()"
   ]
  },
  {
   "cell_type": "code",
   "execution_count": 19,
   "id": "5a9e2183",
   "metadata": {
    "executionInfo": {
     "elapsed": 65,
     "status": "ok",
     "timestamp": 1627417480479,
     "user": {
      "displayName": "kirby urner",
      "photoUrl": "https://lh3.googleusercontent.com/a-/AOh14GiJtug8FdmxDRoWkqyXsb2CYO2IN9JkSaTFgCOC4w=s64",
      "userId": "08454290975879238518"
     },
     "user_tz": 420
    },
    "id": "5fdc9a29"
   },
   "outputs": [],
   "source": [
    "t = tv.Tetrahedron(ab,ac,ad,bc,cd,ad)"
   ]
  },
  {
   "cell_type": "code",
   "execution_count": 20,
   "id": "1b400fb2",
   "metadata": {
    "colab": {
     "base_uri": "https://localhost:8080/"
    },
    "executionInfo": {
     "elapsed": 63,
     "status": "ok",
     "timestamp": 1627417480480,
     "user": {
      "displayName": "kirby urner",
      "photoUrl": "https://lh3.googleusercontent.com/a-/AOh14GiJtug8FdmxDRoWkqyXsb2CYO2IN9JkSaTFgCOC4w=s64",
      "userId": "08454290975879238518"
     },
     "user_tz": 420
    },
    "id": "84a18f54",
    "outputId": "f464f90f-5386-4a2d-fac0-f5f6505c0c3d"
   },
   "outputs": [
    {
     "data": {
      "text/plain": [
       "1.0"
      ]
     },
     "execution_count": 20,
     "metadata": {
      "tags": []
     },
     "output_type": "execute_result"
    }
   ],
   "source": [
    "t.ivm_volume()"
   ]
  },
  {
   "cell_type": "code",
   "execution_count": 21,
   "id": "eb2ba3fc",
   "metadata": {
    "colab": {
     "base_uri": "https://localhost:8080/"
    },
    "executionInfo": {
     "elapsed": 61,
     "status": "ok",
     "timestamp": 1627417480481,
     "user": {
      "displayName": "kirby urner",
      "photoUrl": "https://lh3.googleusercontent.com/a-/AOh14GiJtug8FdmxDRoWkqyXsb2CYO2IN9JkSaTFgCOC4w=s64",
      "userId": "08454290975879238518"
     },
     "user_tz": 420
    },
    "id": "87ce0482",
    "outputId": "e5b229ae-1d9f-419a-e0ef-2a5137c949d4"
   },
   "outputs": [
    {
     "data": {
      "text/plain": [
       "0.9428090415820635"
      ]
     },
     "execution_count": 21,
     "metadata": {
      "tags": []
     },
     "output_type": "execute_result"
    }
   ],
   "source": [
    "t.xyz_volume()"
   ]
  },
  {
   "cell_type": "markdown",
   "id": "234c2706",
   "metadata": {
    "id": "704e397a"
   },
   "source": [
    "<a data-flickr-embed=\"true\" href=\"https://www.flickr.com/photos/kirbyurner/39391693474/in/photolist-2ifuQn8-2hvwJt9-2csiBa8-231UJ5S-QrfReH-GNshah-q8vyLo-fwsLq7-fwdt8t-fwsARu-fwsE89-c5RPLS-bH5gvP-8xp1nN-8tm3iL-8teDJ4-8thDyL-8thDHW-8ryEix-8ryECF-8teEm2-8ryyt2-8pNQou-8thE4q-8batec-5QyKsS-7jZLhp-7cXk2G-6n24Ja-5QyKe7\" title=\"Computer Volume\"><img src=\"https://live.staticflickr.com/4672/39391693474_c6c54f3d22_z.jpg\" width=\"640\" height=\"593\" alt=\"Computer Volume\"></a><script async src=\"//embedr.flickr.com/assets/client-code.js\" charset=\"utf-8\"></script>"
   ]
  },
  {
   "cell_type": "code",
   "execution_count": 22,
   "id": "d3e3a0d9",
   "metadata": {
    "colab": {
     "base_uri": "https://localhost:8080/"
    },
    "executionInfo": {
     "elapsed": 60,
     "status": "ok",
     "timestamp": 1627417480482,
     "user": {
      "displayName": "kirby urner",
      "photoUrl": "https://lh3.googleusercontent.com/a-/AOh14GiJtug8FdmxDRoWkqyXsb2CYO2IN9JkSaTFgCOC4w=s64",
      "userId": "08454290975879238518"
     },
     "user_tz": 420
    },
    "id": "56a39c37",
    "outputId": "d4612f0e-0fa7-4964-b35f-4b43f9298ae8"
   },
   "outputs": [
    {
     "data": {
      "text/plain": [
       "(xyz_vector(x=0.35355339059327373, y=0.35355339059327373, z=0.35355339059327373),\n",
       " xyz_vector(x=-0.35355339059327373, y=-0.35355339059327373, z=0.35355339059327373),\n",
       " xyz_vector(x=-0.35355339059327373, y=0.35355339059327373, z=-0.35355339059327373),\n",
       " xyz_vector(x=0.35355339059327373, y=-0.35355339059327373, z=-0.35355339059327373))"
      ]
     },
     "execution_count": 22,
     "metadata": {
      "tags": []
     },
     "output_type": "execute_result"
    }
   ],
   "source": [
    "(a.xyz(),\n",
    "b.xyz(),\n",
    "c.xyz(),\n",
    "d.xyz())"
   ]
  },
  {
   "cell_type": "markdown",
   "id": "a9a38009",
   "metadata": {
    "id": "00db5ae0"
   },
   "source": [
    "Now lets get the volume using our random IVM corners."
   ]
  },
  {
   "cell_type": "code",
   "execution_count": 23,
   "id": "49af660c",
   "metadata": {
    "executionInfo": {
     "elapsed": 54,
     "status": "ok",
     "timestamp": 1627417480482,
     "user": {
      "displayName": "kirby urner",
      "photoUrl": "https://lh3.googleusercontent.com/a-/AOh14GiJtug8FdmxDRoWkqyXsb2CYO2IN9JkSaTFgCOC4w=s64",
      "userId": "08454290975879238518"
     },
     "user_tz": 420
    },
    "id": "32a9347a"
   },
   "outputs": [],
   "source": [
    "ab = (vA-vB).length()\n",
    "ac = (vA-vC).length()\n",
    "ad = (vA-vD).length()\n",
    "bc = (vB-vC).length()\n",
    "cd = (vC-vD).length()\n",
    "bd = (vB-vD).length()"
   ]
  },
  {
   "cell_type": "code",
   "execution_count": 24,
   "id": "66027b37",
   "metadata": {
    "colab": {
     "base_uri": "https://localhost:8080/"
    },
    "executionInfo": {
     "elapsed": 54,
     "status": "ok",
     "timestamp": 1627417480483,
     "user": {
      "displayName": "kirby urner",
      "photoUrl": "https://lh3.googleusercontent.com/a-/AOh14GiJtug8FdmxDRoWkqyXsb2CYO2IN9JkSaTFgCOC4w=s64",
      "userId": "08454290975879238518"
     },
     "user_tz": 420
    },
    "id": "1c64ad65",
    "outputId": "e64e9076-1973-4e8c-fe39-ff6acd577def"
   },
   "outputs": [
    {
     "data": {
      "text/plain": [
       "64831.99999999994"
      ]
     },
     "execution_count": 24,
     "metadata": {
      "tags": []
     },
     "output_type": "execute_result"
    }
   ],
   "source": [
    "t = tv.Tetrahedron(ab,ac,ad,bc,cd,bd)\n",
    "t.ivm_volume()"
   ]
  },
  {
   "cell_type": "markdown",
   "id": "25d19ce6",
   "metadata": {
    "id": "51462095"
   },
   "source": [
    "Just keep re-running the cell below to appreciate how we only get whole number tetravolumes, for all of these random tetrahedrons.  Within floating point rounding error."
   ]
  },
  {
   "cell_type": "code",
   "execution_count": 25,
   "id": "6c0b6b64",
   "metadata": {
    "colab": {
     "base_uri": "https://localhost:8080/"
    },
    "executionInfo": {
     "elapsed": 54,
     "status": "ok",
     "timestamp": 1627417480484,
     "user": {
      "displayName": "kirby urner",
      "photoUrl": "https://lh3.googleusercontent.com/a-/AOh14GiJtug8FdmxDRoWkqyXsb2CYO2IN9JkSaTFgCOC4w=s64",
      "userId": "08454290975879238518"
     },
     "user_tz": 420
    },
    "id": "1a545e03",
    "outputId": "7f69e11d-fc08-4f72-d06f-bd9401e5a5e3"
   },
   "outputs": [
    {
     "data": {
      "text/plain": [
       "28692.0"
      ]
     },
     "execution_count": 25,
     "metadata": {
      "tags": []
     },
     "output_type": "execute_result"
    }
   ],
   "source": [
    "vA = random_walk(Qvector((0,0,0,0)), 1000)\n",
    "vB = random_walk(Qvector((0,0,0,0)), 1000)\n",
    "vC = random_walk(Qvector((0,0,0,0)), 1000)\n",
    "vD = random_walk(Qvector((0,0,0,0)), 1000) \n",
    "ab = (vA-vB).length()\n",
    "ac = (vA-vC).length()\n",
    "ad = (vA-vD).length()\n",
    "bc = (vB-vC).length()\n",
    "cd = (vC-vD).length()\n",
    "bd = (vB-vD).length()\n",
    "t = tv.Tetrahedron(ab,ac,ad,bc,cd,bd)\n",
    "round(t.ivm_volume(), 8)"
   ]
  },
  {
   "cell_type": "code",
   "execution_count": 2,
   "id": "929e15a8",
   "metadata": {},
   "outputs": [
    {
     "ename": "NameError",
     "evalue": "name 'gmpy2' is not defined",
     "output_type": "error",
     "traceback": [
      "\u001b[0;31m---------------------------------------------------------------------------\u001b[0m",
      "\u001b[0;31mNameError\u001b[0m                                 Traceback (most recent call last)",
      "\u001b[0;32m<ipython-input-2-ce4fbb8cd4c6>\u001b[0m in \u001b[0;36m<module>\u001b[0;34m\u001b[0m\n\u001b[1;32m      1\u001b[0m \u001b[0;32mfrom\u001b[0m \u001b[0mgmpy2\u001b[0m \u001b[0;32mimport\u001b[0m \u001b[0mmpfr\u001b[0m\u001b[0;34m\u001b[0m\u001b[0;34m\u001b[0m\u001b[0m\n\u001b[0;32m----> 2\u001b[0;31m \u001b[0mgmpy2\u001b[0m\u001b[0;34m.\u001b[0m\u001b[0mget_context\u001b[0m\u001b[0;34m(\u001b[0m\u001b[0;34m)\u001b[0m\u001b[0;34m.\u001b[0m\u001b[0mprecision\u001b[0m\u001b[0;34m=\u001b[0m\u001b[0;36m100\u001b[0m\u001b[0;34m\u001b[0m\u001b[0;34m\u001b[0m\u001b[0m\n\u001b[0m\u001b[1;32m      3\u001b[0m \u001b[0mz0\u001b[0m \u001b[0;34m=\u001b[0m \u001b[0mmpfr\u001b[0m\u001b[0;34m(\u001b[0m\u001b[0;34m'0'\u001b[0m\u001b[0;34m)\u001b[0m\u001b[0;34m\u001b[0m\u001b[0;34m\u001b[0m\u001b[0m\n\u001b[1;32m      4\u001b[0m \u001b[0mvA\u001b[0m \u001b[0;34m=\u001b[0m \u001b[0mrandom_walk\u001b[0m\u001b[0;34m(\u001b[0m\u001b[0mQvector\u001b[0m\u001b[0;34m(\u001b[0m\u001b[0;34m(\u001b[0m\u001b[0mz0\u001b[0m\u001b[0;34m,\u001b[0m\u001b[0mz0\u001b[0m\u001b[0;34m,\u001b[0m\u001b[0mz0\u001b[0m\u001b[0;34m,\u001b[0m\u001b[0mz0\u001b[0m\u001b[0;34m)\u001b[0m\u001b[0;34m)\u001b[0m\u001b[0;34m,\u001b[0m \u001b[0;36m1000\u001b[0m\u001b[0;34m)\u001b[0m\u001b[0;34m\u001b[0m\u001b[0;34m\u001b[0m\u001b[0m\n\u001b[1;32m      5\u001b[0m \u001b[0mvB\u001b[0m \u001b[0;34m=\u001b[0m \u001b[0mrandom_walk\u001b[0m\u001b[0;34m(\u001b[0m\u001b[0mQvector\u001b[0m\u001b[0;34m(\u001b[0m\u001b[0;34m(\u001b[0m\u001b[0mz0\u001b[0m\u001b[0;34m,\u001b[0m\u001b[0mz0\u001b[0m\u001b[0;34m,\u001b[0m\u001b[0mz0\u001b[0m\u001b[0;34m,\u001b[0m\u001b[0mz0\u001b[0m\u001b[0;34m)\u001b[0m\u001b[0;34m)\u001b[0m\u001b[0;34m,\u001b[0m \u001b[0;36m1000\u001b[0m\u001b[0;34m)\u001b[0m\u001b[0;34m\u001b[0m\u001b[0;34m\u001b[0m\u001b[0m\n",
      "\u001b[0;31mNameError\u001b[0m: name 'gmpy2' is not defined"
     ]
    }
   ],
   "source": [
    "from gmpy2 import mpfr\n",
    "gmpy2.get_context().precision=100\n",
    "z0 = mpfr('0')\n",
    "vA = random_walk(Qvector((z0,z0,z0,z0)), 1000)\n",
    "vB = random_walk(Qvector((z0,z0,z0,z0)), 1000)\n",
    "vC = random_walk(Qvector((z0,z0,z0,z0)), 1000)\n",
    "vD = random_walk(Qvector((z0,z0,z0,z0)), 1000) \n",
    "ab = (vA-vB).length()\n",
    "ac = (vA-vC).length()\n",
    "ad = (vA-vD).length()\n",
    "bc = (vB-vC).length()\n",
    "cd = (vC-vD).length()\n",
    "bd = (vB-vD).length()\n",
    "t = tv.Tetrahedron(ab,ac,ad,bc,cd,bd)\n",
    "t.ivm_volume()"
   ]
  },
  {
   "cell_type": "markdown",
   "id": "55afef6d",
   "metadata": {
    "id": "83d85408"
   },
   "source": [
    "### Volume of the A Module\n",
    "\n",
    "The cells below confirm that our base tetrahedron of unit volume, fractionates into 24 subvolumes with angles and edges at our finger tips, thanks to the ```qrays``` module"
   ]
  },
  {
   "cell_type": "markdown",
   "id": "04a2488f",
   "metadata": {
    "id": "e378dc43"
   },
   "source": [
    "<a data-flickr-embed=\"true\" href=\"https://www.flickr.com/photos/kirbyurner/41174923590\" title=\"24 A Modules (12A + 12A&#x27;) &#x3D; Tetrahedron\"><img src=\"https://live.staticflickr.com/1812/41174923590_463a04427a_w.jpg\" width=\"267\" height=\"400\" alt=\"24 A Modules (12A + 12A&#x27;) &#x3D; Tetrahedron\"></a><script async src=\"//embedr.flickr.com/assets/client-code.js\" charset=\"utf-8\"></script>\n",
    "\n",
    "<img src=\"http://www.rwgrayprojects.com/synergetics/s09/figs/f1301.gif\" width=\"332\" height=\"412\" />"
   ]
  },
  {
   "cell_type": "code",
   "execution_count": 26,
   "id": "62c313eb",
   "metadata": {
    "executionInfo": {
     "elapsed": 53,
     "status": "ok",
     "timestamp": 1627417480485,
     "user": {
      "displayName": "kirby urner",
      "photoUrl": "https://lh3.googleusercontent.com/a-/AOh14GiJtug8FdmxDRoWkqyXsb2CYO2IN9JkSaTFgCOC4w=s64",
      "userId": "08454290975879238518"
     },
     "user_tz": 420
    },
    "id": "f227f2b2"
   },
   "outputs": [],
   "source": [
    "amod_E  = Qvector((0,0,0,0))\n",
    "amod_C  = b\n",
    "amod_D  = (b + c)/2\n",
    "amod_F  = (b + c + d)/3\n",
    "\n",
    "# apex E to base F, C, D\n",
    "amod_EF = amod_F\n",
    "amod_CE = b\n",
    "amod_DE = amod_D\n",
    "\n",
    "# around the base, C, D, E\n",
    "amod_CF = amod_C - amod_F\n",
    "amod_CD = amod_C - amod_D\n",
    "amod_DF = amod_D - amod_F"
   ]
  },
  {
   "cell_type": "code",
   "execution_count": 27,
   "id": "ec1463c0",
   "metadata": {
    "colab": {
     "base_uri": "https://localhost:8080/"
    },
    "executionInfo": {
     "elapsed": 52,
     "status": "ok",
     "timestamp": 1627417480486,
     "user": {
      "displayName": "kirby urner",
      "photoUrl": "https://lh3.googleusercontent.com/a-/AOh14GiJtug8FdmxDRoWkqyXsb2CYO2IN9JkSaTFgCOC4w=s64",
      "userId": "08454290975879238518"
     },
     "user_tz": 420
    },
    "id": "8fbbf089",
    "outputId": "053b1dd0-0164-4a18-b4f2-989e3eeff952"
   },
   "outputs": [
    {
     "data": {
      "text/plain": [
       "0.2041241452319315"
      ]
     },
     "execution_count": 27,
     "metadata": {
      "tags": []
     },
     "output_type": "execute_result"
    }
   ],
   "source": [
    "amod_EF.length()  # apex to face center"
   ]
  },
  {
   "cell_type": "code",
   "execution_count": 28,
   "id": "25258efd",
   "metadata": {
    "colab": {
     "base_uri": "https://localhost:8080/"
    },
    "executionInfo": {
     "elapsed": 51,
     "status": "ok",
     "timestamp": 1627417480487,
     "user": {
      "displayName": "kirby urner",
      "photoUrl": "https://lh3.googleusercontent.com/a-/AOh14GiJtug8FdmxDRoWkqyXsb2CYO2IN9JkSaTFgCOC4w=s64",
      "userId": "08454290975879238518"
     },
     "user_tz": 420
    },
    "id": "856967d4",
    "outputId": "c825ab1a-6c3f-492b-9498-a35e7cffcc38"
   },
   "outputs": [
    {
     "data": {
      "text/plain": [
       "0.6123724356957945"
      ]
     },
     "execution_count": 28,
     "metadata": {
      "tags": []
     },
     "output_type": "execute_result"
    }
   ],
   "source": [
    "amod_CE.length()  # apex to corner"
   ]
  },
  {
   "cell_type": "code",
   "execution_count": 29,
   "id": "a29e6ba7",
   "metadata": {
    "colab": {
     "base_uri": "https://localhost:8080/"
    },
    "executionInfo": {
     "elapsed": 49,
     "status": "ok",
     "timestamp": 1627417480487,
     "user": {
      "displayName": "kirby urner",
      "photoUrl": "https://lh3.googleusercontent.com/a-/AOh14GiJtug8FdmxDRoWkqyXsb2CYO2IN9JkSaTFgCOC4w=s64",
      "userId": "08454290975879238518"
     },
     "user_tz": 420
    },
    "id": "68197a8d",
    "outputId": "df92fa16-6e9c-4c0c-b921-99c7d3d1689b"
   },
   "outputs": [
    {
     "data": {
      "text/plain": [
       "0.3535533905932738"
      ]
     },
     "execution_count": 29,
     "metadata": {
      "tags": []
     },
     "output_type": "execute_result"
    }
   ],
   "source": [
    "amod_DE.length() # apex to mid-edge"
   ]
  },
  {
   "cell_type": "code",
   "execution_count": 30,
   "id": "781807dd",
   "metadata": {
    "colab": {
     "base_uri": "https://localhost:8080/"
    },
    "executionInfo": {
     "elapsed": 48,
     "status": "ok",
     "timestamp": 1627417480488,
     "user": {
      "displayName": "kirby urner",
      "photoUrl": "https://lh3.googleusercontent.com/a-/AOh14GiJtug8FdmxDRoWkqyXsb2CYO2IN9JkSaTFgCOC4w=s64",
      "userId": "08454290975879238518"
     },
     "user_tz": 420
    },
    "id": "56041742",
    "outputId": "8670801d-c8c2-4e8d-b67c-2b99b04e1137"
   },
   "outputs": [
    {
     "data": {
      "text/plain": [
       "0.5773502691896258"
      ]
     },
     "execution_count": 30,
     "metadata": {
      "tags": []
     },
     "output_type": "execute_result"
    }
   ],
   "source": [
    "amod_CF.length() # face center to corner"
   ]
  },
  {
   "cell_type": "code",
   "execution_count": 31,
   "id": "186aef98",
   "metadata": {
    "colab": {
     "base_uri": "https://localhost:8080/"
    },
    "executionInfo": {
     "elapsed": 47,
     "status": "ok",
     "timestamp": 1627417480489,
     "user": {
      "displayName": "kirby urner",
      "photoUrl": "https://lh3.googleusercontent.com/a-/AOh14GiJtug8FdmxDRoWkqyXsb2CYO2IN9JkSaTFgCOC4w=s64",
      "userId": "08454290975879238518"
     },
     "user_tz": 420
    },
    "id": "5f2cf01a",
    "outputId": "7a754df8-3ace-4bea-b55d-1509ab2f5b45"
   },
   "outputs": [
    {
     "data": {
      "text/plain": [
       "0.5"
      ]
     },
     "execution_count": 31,
     "metadata": {
      "tags": []
     },
     "output_type": "execute_result"
    }
   ],
   "source": [
    "amod_CD.length() # corner to mid-edge"
   ]
  },
  {
   "cell_type": "code",
   "execution_count": 32,
   "id": "fe2afba3",
   "metadata": {
    "colab": {
     "base_uri": "https://localhost:8080/"
    },
    "executionInfo": {
     "elapsed": 47,
     "status": "ok",
     "timestamp": 1627417480491,
     "user": {
      "displayName": "kirby urner",
      "photoUrl": "https://lh3.googleusercontent.com/a-/AOh14GiJtug8FdmxDRoWkqyXsb2CYO2IN9JkSaTFgCOC4w=s64",
      "userId": "08454290975879238518"
     },
     "user_tz": 420
    },
    "id": "47e2e244",
    "outputId": "b3e45bf7-4c3b-491f-8238-a40eabc913c8"
   },
   "outputs": [
    {
     "data": {
      "text/plain": [
       "0.2886751345948129"
      ]
     },
     "execution_count": 32,
     "metadata": {
      "tags": []
     },
     "output_type": "execute_result"
    }
   ],
   "source": [
    "amod_DF.length() # mid-edge to face center"
   ]
  },
  {
   "cell_type": "code",
   "execution_count": 33,
   "id": "8ddd4397",
   "metadata": {
    "colab": {
     "base_uri": "https://localhost:8080/"
    },
    "executionInfo": {
     "elapsed": 958,
     "status": "ok",
     "timestamp": 1627417481404,
     "user": {
      "displayName": "kirby urner",
      "photoUrl": "https://lh3.googleusercontent.com/a-/AOh14GiJtug8FdmxDRoWkqyXsb2CYO2IN9JkSaTFgCOC4w=s64",
      "userId": "08454290975879238518"
     },
     "user_tz": 420
    },
    "id": "5d1605c9",
    "outputId": "0c002907-27e9-4105-d45c-49a7c1b9082c"
   },
   "outputs": [
    {
     "data": {
      "text/plain": [
       "0.04166666666666655"
      ]
     },
     "execution_count": 33,
     "metadata": {
      "tags": []
     },
     "output_type": "execute_result"
    }
   ],
   "source": [
    "lengths = map(lambda v: v.length(), \n",
    "              (amod_EF, amod_CE, amod_DE, amod_CF, amod_CD, amod_DF))\n",
    "t = tv.Tetrahedron(*lengths)\n",
    "t.ivm_volume()"
   ]
  },
  {
   "cell_type": "markdown",
   "id": "6e119633",
   "metadata": {
    "id": "5489f9d9"
   },
   "source": [
    "\n",
    "<a data-flickr-embed=\"true\" href=\"https://www.flickr.com/photos/kirbyurner/28435901559/in/photolist-2m29ok8-2jxGLDx-KjMqQP-EhaxK2-Bpf1cD-8P2cs1-8cn39x-7cVeMN-JotMo\" title=\"quadray_papers\"><img src=\"https://live.staticflickr.com/4704/28435901559_c3a76b6052.jpg\" width=\"486\" height=\"500\" alt=\"quadray_papers\"></a><script async src=\"//embedr.flickr.com/assets/client-code.js\" charset=\"utf-8\"></script>\n"
   ]
  },
  {
   "cell_type": "markdown",
   "id": "da845069",
   "metadata": {
    "id": "9bac8736"
   },
   "source": [
    "* [Wikipedia Entry](https://en.wikipedia.org/wiki/Quadray_coordinates)\n",
    "* [Early Development](http://grunch.net/synergetics/quadrays.html)\n",
    "* [Recent Use](https://nbviewer.jupyter.org/github/4dsolutions/School_of_Tomorrow/blob/master/Flextegrity_Lattice.ipynb)\n",
    "* [Clues for Teachers](https://mybizmo.blogspot.com/2021/07/canonical-lesson-plan.html)"
   ]
  }
 ],
 "metadata": {
  "colab": {
   "name": "Copy of Quadrays.ipynb",
   "provenance": [
    {
     "file_id": "https://github.com/4dsolutions/elite_school/blob/master/Quadrays.ipynb",
     "timestamp": 1627417415518
    }
   ]
  },
  "kernelspec": {
   "display_name": "Python 3",
   "language": "python",
   "name": "python3"
  },
  "language_info": {
   "codemirror_mode": {
    "name": "ipython",
    "version": 3
   },
   "file_extension": ".py",
   "mimetype": "text/x-python",
   "name": "python",
   "nbconvert_exporter": "python",
   "pygments_lexer": "ipython3",
   "version": "3.7.9"
  }
 },
 "nbformat": 4,
 "nbformat_minor": 5
}
