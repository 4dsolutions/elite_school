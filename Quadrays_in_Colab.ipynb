{
 "cells": [
  {
   "cell_type": "markdown",
   "id": "fd460fef",
   "metadata": {
    "id": "529a4b2a"
   },
   "source": [
    "* [Home](Home.ipynb)\n",
    "\n",
    "\n",
    "# Random Walks in the Matrix\n",
    "\n",
    "<a data-flickr-embed=\"true\" href=\"https://www.flickr.com/photos/kirbyurner/479693571/in/photolist-2m29ok8-2m29ojG-2j8odSY-2fn4VBT-8ryECF-8thDyL-8iYyKN-7eU7h4-Joybi-JoybP\" title=\"Rhombic Dodecahedra\"><img src=\"https://live.staticflickr.com/190/479693571_3a51cca935_o.gif\" width=\"245\" height=\"239\" alt=\"Rhombic Dodecahedra\"></a><script async src=\"//embedr.flickr.com/assets/client-code.js\" charset=\"utf-8\"></script>\n",
    "\n",
    "Imagine standing at the center of a sphere, with 12 equally-sized spheres all around you, at the corners of a cuboctahedron.  Each time you step into a random neighboring sphere, you're in the same circumstance, of having a choice of twelve nextdoor neighbors.\n",
    "\n",
    "Have you seen [random walks](http://4dsolutions.net/ocn/numeracy3.html) on chess or checker boards?  Just take the checker pattern and extend it indefinitely around an arbitrary square marked with a lamp post.  \n",
    "\n",
    "Our little man has maybe had too much to drink and is moving randomly from one square to the next, but only across an edge, not through a diagonal.  On a square grid, he has four neighbors to select from.  On an hexagonal grid, he would have six.\n",
    "\n",
    "Back to our space-filling grid, our cells are rhombic dodecahedron shaped (twelve diamond faces).  We're free to hop at random, leaving a trace over time, of what our pathway has been.  This concept of a pathway applies regardless of which grid we're imagining.\n",
    "\n",
    "What we're going to find is that four random walkers, setting out from the same origin (lamp post) will define the four CCP sphere corners of a random tetrahedron.  That tetrahedron will have a whole number volume relative to the unit tetrahedron of four CCP balls and volume one.\n",
    "\n",
    "### Quadrays\n",
    "\n",
    "To make our pathway through the CCP (the name of this sphere packing pattern) easy to compute and keep track of, we're going to want to label all the spheres with vectorial coordinates.\n",
    "\n",
    "We will find it convenient to do so using Quadrays, an interface bolted on XYZ and easy to reason about independently of XYZ.  In this game of vectors, the origin sphere will be labeled (0,0,0,0) and the twelve around it will be the unique permutations of (2,1,1,0). \n",
    "\n",
    "Each time our random walker takes a step, he has one of twelve vectors to choose from.  Adding that vector to his current position takes him to a next position and so on, onward along a pathway.\n",
    "\n",
    "\n",
    "<a data-flickr-embed=\"true\" href=\"https://www.flickr.com/photos/kirbyurner/4723083407/in/photolist-2m29ok8-2jxGLDx-KjMqQP-EhaxK2-Bpf1cD-8P2cs1-8cn39x-7cVeMN-JotMo\" title=\"Quadray Coordinates\"><img src=\"https://live.staticflickr.com/1213/4723083407_1e315f2877_o.gif\" width=\"400\" height=\"350\" alt=\"Quadray Coordinates\"></a><script async src=\"//embedr.flickr.com/assets/client-code.js\" charset=\"utf-8\"></script>\n",
    "\n",
    "Linear combinations of the four basis rays (lets use that shoptalk) map to any point in space, as expressed by 4-tuples.  \n",
    "\n",
    "At least one of the four rays, the one not bordering a specified point's quadrant, will not contribute to wayfinding.  In canonical form, at least one element of the 4-tuple will be zero, the others non-negative.\n",
    "\n",
    "Qvectors are additive and scalable, have length and direction, according to the usual rules of vector algebra. \n",
    "\n",
    "Two way conversion from to XYZ is assurred, given Qvectors come with the one canonical representation per point, just as XYZ does.  \n",
    "\n",
    "Quadrays may be seen as \"syntactic sugar\" atop XYZ, an API.  Or vice versa."
   ]
  },
  {
   "cell_type": "code",
   "execution_count": null,
   "id": "e1954732",
   "metadata": {
    "colab": {
     "base_uri": "https://localhost:8080/"
    },
    "id": "d668c25a",
    "outputId": "d3936232-1368-4703-eb75-79c66e959647"
   },
   "outputs": [
    {
     "name": "stdout",
     "output_type": "stream",
     "text": [
      "Reading package lists... Done\n",
      "Building dependency tree       \n",
      "Reading state information... Done\n",
      "The following additional packages will be installed:\n",
      "  libgmpxx4ldbl\n",
      "Suggested packages:\n",
      "  gmp-doc libgmp10-doc libmpfr-doc\n",
      "The following NEW packages will be installed:\n",
      "  libgmp-dev libgmpxx4ldbl libmpc-dev libmpfr-dev\n",
      "0 upgraded, 4 newly installed, 0 to remove and 40 not upgraded.\n",
      "Need to get 625 kB of archives.\n",
      "After this operation, 3,178 kB of additional disk space will be used.\n",
      "Get:1 http://archive.ubuntu.com/ubuntu bionic/main amd64 libgmpxx4ldbl amd64 2:6.1.2+dfsg-2 [8,964 B]\n",
      "Get:2 http://archive.ubuntu.com/ubuntu bionic/main amd64 libgmp-dev amd64 2:6.1.2+dfsg-2 [316 kB]\n",
      "Get:3 http://archive.ubuntu.com/ubuntu bionic/main amd64 libmpfr-dev amd64 4.0.1-1 [249 kB]\n",
      "Get:4 http://archive.ubuntu.com/ubuntu bionic/main amd64 libmpc-dev amd64 1.1.0-1 [50.5 kB]\n",
      "Fetched 625 kB in 2s (299 kB/s)\n",
      "Selecting previously unselected package libgmpxx4ldbl:amd64.\n",
      "(Reading database ... 160837 files and directories currently installed.)\n",
      "Preparing to unpack .../libgmpxx4ldbl_2%3a6.1.2+dfsg-2_amd64.deb ...\n",
      "Unpacking libgmpxx4ldbl:amd64 (2:6.1.2+dfsg-2) ...\n",
      "Selecting previously unselected package libgmp-dev:amd64.\n",
      "Preparing to unpack .../libgmp-dev_2%3a6.1.2+dfsg-2_amd64.deb ...\n",
      "Unpacking libgmp-dev:amd64 (2:6.1.2+dfsg-2) ...\n",
      "Selecting previously unselected package libmpfr-dev:amd64.\n",
      "Preparing to unpack .../libmpfr-dev_4.0.1-1_amd64.deb ...\n",
      "Unpacking libmpfr-dev:amd64 (4.0.1-1) ...\n",
      "Selecting previously unselected package libmpc-dev:amd64.\n",
      "Preparing to unpack .../libmpc-dev_1.1.0-1_amd64.deb ...\n",
      "Unpacking libmpc-dev:amd64 (1.1.0-1) ...\n",
      "Setting up libgmpxx4ldbl:amd64 (2:6.1.2+dfsg-2) ...\n",
      "Setting up libgmp-dev:amd64 (2:6.1.2+dfsg-2) ...\n",
      "Setting up libmpfr-dev:amd64 (4.0.1-1) ...\n",
      "Setting up libmpc-dev:amd64 (1.1.0-1) ...\n",
      "Processing triggers for libc-bin (2.27-3ubuntu1.2) ...\n",
      "/sbin/ldconfig.real: /usr/local/lib/python3.7/dist-packages/ideep4py/lib/libmkldnn.so.0 is not a symbolic link\n",
      "\n"
     ]
    }
   ],
   "source": [
    "!apt-get install libgmp-dev libmpfr-dev libmpc-dev"
   ]
  },
  {
   "cell_type": "code",
   "execution_count": null,
   "id": "b45c32a4",
   "metadata": {
    "colab": {
     "base_uri": "https://localhost:8080/"
    },
    "id": "f472c955",
    "outputId": "3e1aeada-d2c9-4c3a-8e60-00f8fcf9cf2c"
   },
   "outputs": [
    {
     "name": "stdout",
     "output_type": "stream",
     "text": [
      "Collecting gmpy2\n",
      "  Downloading gmpy2-2.0.8.zip (280 kB)\n",
      "\u001b[K     |████████████████████████████████| 280 kB 4.3 MB/s eta 0:00:01\n",
      "\u001b[?25hBuilding wheels for collected packages: gmpy2\n",
      "  Building wheel for gmpy2 (setup.py) ... \u001b[?25l\u001b[?25hdone\n",
      "  Created wheel for gmpy2: filename=gmpy2-2.0.8-cp37-cp37m-linux_x86_64.whl size=457818 sha256=6302e4c6d003d81674b3a3f705b0fc2e3632b456ea56e1d76b7990d2b9bd9ef4\n",
      "  Stored in directory: /root/.cache/pip/wheels/ff/1c/6c/7e83f1cf633c96b7eafb0d8e10fb98dce2f0c3836754103378\n",
      "Successfully built gmpy2\n",
      "Installing collected packages: gmpy2\n",
      "Successfully installed gmpy2-2.0.8\n"
     ]
    }
   ],
   "source": [
    "pip install gmpy2"
   ]
  },
  {
   "cell_type": "code",
   "execution_count": null,
   "id": "28666c18",
   "metadata": {
    "colab": {
     "base_uri": "https://localhost:8080/"
    },
    "id": "95e79c90",
    "outputId": "50bd7e04-a4d7-4d14-8f31-be1c58221be1"
   },
   "outputs": [
    {
     "name": "stdout",
     "output_type": "stream",
     "text": [
      "Cloning into 'elite_school'...\n",
      "remote: Enumerating objects: 683, done.\u001b[K\n",
      "remote: Counting objects: 100% (44/44), done.\u001b[K\n",
      "remote: Compressing objects: 100% (34/34), done.\u001b[K\n",
      "remote: Total 683 (delta 18), reused 27 (delta 8), pack-reused 639\u001b[K\n",
      "Receiving objects: 100% (683/683), 2.20 MiB | 9.35 MiB/s, done.\n",
      "Resolving deltas: 100% (400/400), done.\n"
     ]
    }
   ],
   "source": [
    "!git clone https://github.com/4dsolutions/elite_school.git"
   ]
  },
  {
   "cell_type": "code",
   "execution_count": null,
   "id": "a4f6eb66",
   "metadata": {
    "id": "09c30031"
   },
   "outputs": [],
   "source": [
    "! cd elite_school"
   ]
  },
  {
   "cell_type": "code",
   "execution_count": null,
   "id": "1f1d0e4f",
   "metadata": {
    "colab": {
     "base_uri": "https://localhost:8080/",
     "height": 35
    },
    "id": "159da266",
    "outputId": "fb1b6cfc-28f9-459b-9b0a-f540d842440c"
   },
   "outputs": [
    {
     "data": {
      "application/vnd.google.colaboratory.intrinsic+json": {
       "type": "string"
      },
      "text/plain": [
       "'/content'"
      ]
     },
     "execution_count": 5,
     "metadata": {
      "tags": []
     },
     "output_type": "execute_result"
    }
   ],
   "source": [
    "import os\n",
    "os.path.abspath(os.curdir)"
   ]
  },
  {
   "cell_type": "code",
   "execution_count": null,
   "id": "cc9d47a4",
   "metadata": {
    "id": "b6fd8f2e"
   },
   "outputs": [],
   "source": [
    "! cd .."
   ]
  },
  {
   "cell_type": "code",
   "execution_count": null,
   "id": "7296ddce",
   "metadata": {
    "colab": {
     "base_uri": "https://localhost:8080/",
     "height": 35
    },
    "id": "ba2cdcac",
    "outputId": "a825386f-ae4f-4058-c323-6798f15a3822"
   },
   "outputs": [
    {
     "data": {
      "application/vnd.google.colaboratory.intrinsic+json": {
       "type": "string"
      },
      "text/plain": [
       "'/content'"
      ]
     },
     "execution_count": 7,
     "metadata": {
      "tags": []
     },
     "output_type": "execute_result"
    }
   ],
   "source": [
    "os.path.abspath(os.curdir)"
   ]
  },
  {
   "cell_type": "code",
   "execution_count": null,
   "id": "25228e0c",
   "metadata": {
    "colab": {
     "base_uri": "https://localhost:8080/"
    },
    "id": "35c72562",
    "outputId": "75dec8a7-f0e1-4b73-e766-41014e53534e"
   },
   "outputs": [
    {
     "name": "stdout",
     "output_type": "stream",
     "text": [
      "\u001b[0m\u001b[01;34melite_school\u001b[0m/  \u001b[01;34msample_data\u001b[0m/\n"
     ]
    }
   ],
   "source": [
    "ls"
   ]
  },
  {
   "cell_type": "code",
   "execution_count": null,
   "id": "34d69560",
   "metadata": {
    "colab": {
     "base_uri": "https://localhost:8080/"
    },
    "id": "4bb8d103",
    "outputId": "d4910cad-c60e-42fe-a5a2-35b53481a33e"
   },
   "outputs": [
    {
     "name": "stdout",
     "output_type": "stream",
     "text": [
      "\u001b[0m\u001b[01;34macsl\u001b[0m/              game.py                          qrays.py\n",
      "\u001b[01;32mairports.db\u001b[0m*       Home.ipynb                       Quadrays_in_Colab.ipynb\n",
      "bookmarks.db       Internals.ipynb                  Quadrays.ipynb\n",
      "\u001b[01;32mbookmarks.py\u001b[0m*      July_14_2021Lesson.ipynb         README.md\n",
      "Bridge2OOP.ipynb   July_16_2021Lesson.ipynb         requirements.txt\n",
      "busyoffice.py      July21_2021.ipynb                \u001b[01;32mroller_coasters.db\u001b[0m*\n",
      "Calendar.ipynb     July28_2021.ipynb                RSA.ipynb\n",
      "CAS_Python.ipynb   \u001b[01;32mkw_quiz.py\u001b[0m*                      \u001b[01;32mshopping_v4.py\u001b[0m*\n",
      "\u001b[01;32mcastle_game.py\u001b[0m*    LambdaExpressions.ipynb          SigmaNotation.ipynb\n",
      "\u001b[01;32mcoaster_app.py\u001b[0m*    Logs.ipynb                       \u001b[01;34mstatic\u001b[0m/\n",
      "Complex.ipynb      \u001b[01;32mmagic_circle_v2.py\u001b[0m*              Storytelling.ipynb\n",
      "\u001b[01;32mcontext1.py\u001b[0m*       \u001b[01;32mmake_coasters_db.py\u001b[0m*             TabularPython.ipynb\n",
      "Crypto.ipynb       \u001b[01;32mmake_links_v4.py\u001b[0m*                tetravolume.py\n",
      "DatabaseFun.ipynb  \u001b[01;32mnums.py\u001b[0m*                         Trig.ipynb\n",
      "EEA.ipynb          ObjectOrientedProgramming.ipynb  \u001b[01;32mwaldo_answers.py\u001b[0m*\n",
      "Euler.ipynb        PascalsTriangle.ipynb            \u001b[01;32mwaldo.py\u001b[0m*\n",
      "Exercises.ipynb    polyhedrons.db                   YoutubeGallery.ipynb\n",
      "Fermat.ipynb       \u001b[01;34mprimes\u001b[0m/\n",
      "\u001b[01;32mfooding.py\u001b[0m*        \u001b[01;32mpuzzles.py\u001b[0m*\n"
     ]
    }
   ],
   "source": [
    "ls ./elite_school"
   ]
  },
  {
   "cell_type": "code",
   "execution_count": null,
   "id": "560a88a6",
   "metadata": {
    "id": "fcd37dd2"
   },
   "outputs": [],
   "source": [
    "import sys\n",
    "sys.path.append(\"./elite_school\")"
   ]
  },
  {
   "cell_type": "code",
   "execution_count": null,
   "id": "fe2223f6",
   "metadata": {
    "id": "116bf599"
   },
   "outputs": [],
   "source": [
    "from qrays import Qvector\n",
    "from math import sqrt"
   ]
  },
  {
   "cell_type": "markdown",
   "id": "f6f49a98",
   "metadata": {
    "id": "3bac4307"
   },
   "source": [
    "Is it bizarre to the point of macabre to have our basis rays not also be of unit length?  \n",
    "\n",
    "The tetrahedron cage is more important:  it's edges should be 1 exactly (or 2 if measured in sphere radii).  \n",
    "\n",
    "Our context is the IVM (= CCP = FCC), a closest packed spheres pattern well known to mathematicians, but by other names.\n",
    "\n",
    "<a data-flickr-embed=\"true\" href=\"https://www.flickr.com/photos/kirbyurner/4949801610/in/photolist-2m29ojG-5DsYaY-2i3qGpP-8EDNfx-8xp2z5-6wUiRq\" title=\"Sphere Packing\"><img src=\"https://live.staticflickr.com/4146/4949801610_da3fc94b2c_n.jpg\" width=\"240\" height=\"320\" alt=\"Sphere Packing\"></a><script async src=\"//embedr.flickr.com/assets/client-code.js\" charset=\"utf-8\"></script>"
   ]
  },
  {
   "cell_type": "code",
   "execution_count": null,
   "id": "6282a855",
   "metadata": {
    "colab": {
     "base_uri": "https://localhost:8080/"
    },
    "id": "ea81d170",
    "outputId": "c9ae188d-e91d-4b96-d924-058fccd57cbd"
   },
   "outputs": [
    {
     "data": {
      "text/plain": [
       "0.6123724356957945"
      ]
     },
     "execution_count": 12,
     "metadata": {
      "tags": []
     },
     "output_type": "execute_result"
    }
   ],
   "source": [
    "a = Qvector((1,0,0,0))\n",
    "a.length()"
   ]
  },
  {
   "cell_type": "code",
   "execution_count": null,
   "id": "03d5b612",
   "metadata": {
    "colab": {
     "base_uri": "https://localhost:8080/"
    },
    "id": "bf97237e",
    "outputId": "b1e58b44-a03a-4691-9b7c-860b039aaa8a"
   },
   "outputs": [
    {
     "data": {
      "text/plain": [
       "0.6123724356957945"
      ]
     },
     "execution_count": 13,
     "metadata": {
      "tags": []
     },
     "output_type": "execute_result"
    }
   ],
   "source": [
    "b = Qvector((0,1,0,0))\n",
    "b.length()"
   ]
  },
  {
   "cell_type": "markdown",
   "id": "dd6ed2ea",
   "metadata": {
    "id": "90c94c29"
   },
   "source": [
    "To subtract is to add the additive inverse of, which is the Qvector rotated to point oppositely.  (1,0,0,0), negated, is (0,1,1,1).  \n",
    "\n",
    "The result of a subtraction is another Qvector, and its length will be the length separating the \"arrow tips\" of the two subtracted."
   ]
  },
  {
   "cell_type": "code",
   "execution_count": null,
   "id": "268d2039",
   "metadata": {
    "colab": {
     "base_uri": "https://localhost:8080/"
    },
    "id": "8d6e7e98",
    "outputId": "42915a66-8d00-4279-b677-cfdae47c24f1"
   },
   "outputs": [
    {
     "data": {
      "text/plain": [
       "1.0"
      ]
     },
     "execution_count": 14,
     "metadata": {
      "tags": []
     },
     "output_type": "execute_result"
    }
   ],
   "source": [
    "(a-b).length()  # the edge of our base tetrahedron"
   ]
  },
  {
   "cell_type": "markdown",
   "id": "83ef2bab",
   "metadata": {
    "id": "c9a72bd3"
   },
   "source": [
    "### IVM Vectors\n",
    "\n",
    "Two of any quadray, plus one each of two others, plus zero, will always point to one of the twelve directions surrounding any sphere in the IVM (CCP).\n",
    "\n",
    "In other words, every unique permutation of {2, 1, 1, 0} will be a vector from the origin to one of the corners of a cuboctahedron, a ball center one sphere diameter distant.\n",
    "\n",
    "Our random walks will randomly choose one of these twelve directions at each turn to play.  Lets call these \"moves\" (as in chess moves)."
   ]
  },
  {
   "cell_type": "code",
   "execution_count": null,
   "id": "9b7855fc",
   "metadata": {
    "colab": {
     "base_uri": "https://localhost:8080/"
    },
    "id": "ffe72612",
    "outputId": "df511b56-d8db-4d55-8979-cecd5de96733"
   },
   "outputs": [
    {
     "data": {
      "text/plain": [
       "[ivm_vector(a=0, b=1, c=1, d=2),\n",
       " ivm_vector(a=1, b=0, c=1, d=2),\n",
       " ivm_vector(a=2, b=0, c=1, d=1),\n",
       " ivm_vector(a=0, b=2, c=1, d=1),\n",
       " ivm_vector(a=0, b=1, c=2, d=1),\n",
       " ivm_vector(a=1, b=2, c=1, d=0),\n",
       " ivm_vector(a=1, b=1, c=2, d=0),\n",
       " ivm_vector(a=2, b=1, c=1, d=0),\n",
       " ivm_vector(a=1, b=0, c=2, d=1),\n",
       " ivm_vector(a=1, b=2, c=0, d=1),\n",
       " ivm_vector(a=2, b=1, c=0, d=1),\n",
       " ivm_vector(a=1, b=1, c=0, d=2)]"
      ]
     },
     "execution_count": 15,
     "metadata": {
      "tags": []
     },
     "output_type": "execute_result"
    }
   ],
   "source": [
    "from itertools import permutations\n",
    "from random import choice \n",
    "\n",
    "moves = [Qvector(p) for p in set(permutations((2,1,1,0)))]\n",
    "moves"
   ]
  },
  {
   "cell_type": "code",
   "execution_count": null,
   "id": "e261c488",
   "metadata": {
    "id": "b6ed1769"
   },
   "outputs": [],
   "source": [
    "def random_walk(start, steps):\n",
    "    end = start\n",
    "    for _ in range(steps):\n",
    "        end += choice(moves)\n",
    "    return end \n",
    "\n",
    "vA = random_walk(Qvector((0,0,0,0)), 1000)\n",
    "vB = random_walk(Qvector((0,0,0,0)), 1000)\n",
    "vC = random_walk(Qvector((0,0,0,0)), 1000)\n",
    "vD = random_walk(Qvector((0,0,0,0)), 1000)      "
   ]
  },
  {
   "cell_type": "code",
   "execution_count": null,
   "id": "031037c7",
   "metadata": {
    "id": "ffd30624"
   },
   "outputs": [],
   "source": [
    "import tetravolume as tv"
   ]
  },
  {
   "cell_type": "code",
   "execution_count": null,
   "id": "3ca079d5",
   "metadata": {
    "id": "88193b4a"
   },
   "outputs": [],
   "source": [
    "c = Qvector((0,0,1,0))\n",
    "d = Qvector((0,0,0,1))\n",
    "\n",
    "ab = (a-b).length()\n",
    "ac = (a-c).length()\n",
    "ad = (a-d).length()\n",
    "bc = (b-c).length()\n",
    "cd = (c-d).length()\n",
    "bd = (b-d).length()"
   ]
  },
  {
   "cell_type": "code",
   "execution_count": null,
   "id": "7e22a689",
   "metadata": {
    "id": "5a9e2183"
   },
   "outputs": [],
   "source": [
    "t = tv.Tetrahedron(ab,ac,ad,bc,cd,ad)"
   ]
  },
  {
   "cell_type": "code",
   "execution_count": null,
   "id": "7c843d4d",
   "metadata": {
    "colab": {
     "base_uri": "https://localhost:8080/"
    },
    "id": "1b400fb2",
    "outputId": "7240e731-0344-4056-a0b0-39b843efb41b"
   },
   "outputs": [
    {
     "data": {
      "text/plain": [
       "1.0"
      ]
     },
     "execution_count": 20,
     "metadata": {
      "tags": []
     },
     "output_type": "execute_result"
    }
   ],
   "source": [
    "t.ivm_volume()"
   ]
  },
  {
   "cell_type": "code",
   "execution_count": null,
   "id": "48b6c5fd",
   "metadata": {
    "colab": {
     "base_uri": "https://localhost:8080/"
    },
    "id": "eb2ba3fc",
    "outputId": "3292a9ed-f1d4-4750-ef5f-26219865d818"
   },
   "outputs": [
    {
     "data": {
      "text/plain": [
       "0.9428090415820635"
      ]
     },
     "execution_count": 21,
     "metadata": {
      "tags": []
     },
     "output_type": "execute_result"
    }
   ],
   "source": [
    "t.xyz_volume()"
   ]
  },
  {
   "cell_type": "markdown",
   "id": "8255b71a",
   "metadata": {
    "id": "234c2706"
   },
   "source": [
    "<a data-flickr-embed=\"true\" href=\"https://www.flickr.com/photos/kirbyurner/39391693474/in/photolist-2ifuQn8-2hvwJt9-2csiBa8-231UJ5S-QrfReH-GNshah-q8vyLo-fwsLq7-fwdt8t-fwsARu-fwsE89-c5RPLS-bH5gvP-8xp1nN-8tm3iL-8teDJ4-8thDyL-8thDHW-8ryEix-8ryECF-8teEm2-8ryyt2-8pNQou-8thE4q-8batec-5QyKsS-7jZLhp-7cXk2G-6n24Ja-5QyKe7\" title=\"Computer Volume\"><img src=\"https://live.staticflickr.com/4672/39391693474_c6c54f3d22_z.jpg\" width=\"640\" height=\"593\" alt=\"Computer Volume\"></a><script async src=\"//embedr.flickr.com/assets/client-code.js\" charset=\"utf-8\"></script>"
   ]
  },
  {
   "cell_type": "code",
   "execution_count": null,
   "id": "c48ad4a0",
   "metadata": {
    "colab": {
     "base_uri": "https://localhost:8080/"
    },
    "id": "d3e3a0d9",
    "outputId": "401bcdd5-90d2-427e-8f9d-a3a68141bf76"
   },
   "outputs": [
    {
     "data": {
      "text/plain": [
       "(xyz_vector(x=0.35355339059327373, y=0.35355339059327373, z=0.35355339059327373),\n",
       " xyz_vector(x=-0.35355339059327373, y=-0.35355339059327373, z=0.35355339059327373),\n",
       " xyz_vector(x=-0.35355339059327373, y=0.35355339059327373, z=-0.35355339059327373),\n",
       " xyz_vector(x=0.35355339059327373, y=-0.35355339059327373, z=-0.35355339059327373))"
      ]
     },
     "execution_count": 22,
     "metadata": {
      "tags": []
     },
     "output_type": "execute_result"
    }
   ],
   "source": [
    "(a.xyz(),\n",
    "b.xyz(),\n",
    "c.xyz(),\n",
    "d.xyz())"
   ]
  },
  {
   "cell_type": "markdown",
   "id": "11fcbd4a",
   "metadata": {
    "id": "a9a38009"
   },
   "source": [
    "Now lets get the volume using our random IVM corners."
   ]
  },
  {
   "cell_type": "code",
   "execution_count": null,
   "id": "428b85ff",
   "metadata": {
    "id": "49af660c"
   },
   "outputs": [],
   "source": [
    "ab = (vA-vB).length()\n",
    "ac = (vA-vC).length()\n",
    "ad = (vA-vD).length()\n",
    "bc = (vB-vC).length()\n",
    "cd = (vC-vD).length()\n",
    "bd = (vB-vD).length()"
   ]
  },
  {
   "cell_type": "code",
   "execution_count": null,
   "id": "4233bc1d",
   "metadata": {
    "colab": {
     "base_uri": "https://localhost:8080/"
    },
    "id": "66027b37",
    "outputId": "48fd73c1-f00a-4a9b-bc82-753571beede6"
   },
   "outputs": [
    {
     "data": {
      "text/plain": [
       "58458.000000000065"
      ]
     },
     "execution_count": 24,
     "metadata": {
      "tags": []
     },
     "output_type": "execute_result"
    }
   ],
   "source": [
    "t = tv.Tetrahedron(ab,ac,ad,bc,cd,bd)\n",
    "t.ivm_volume()"
   ]
  },
  {
   "cell_type": "markdown",
   "id": "16f6fefc",
   "metadata": {
    "id": "25d19ce6"
   },
   "source": [
    "Just keep re-running the cell below to appreciate how we only get whole number tetravolumes, for all of these random tetrahedrons.  Within floating point rounding error."
   ]
  },
  {
   "cell_type": "code",
   "execution_count": null,
   "id": "9cbc9741",
   "metadata": {
    "colab": {
     "base_uri": "https://localhost:8080/"
    },
    "id": "6c0b6b64",
    "outputId": "e7b2061d-2d3b-4ae7-841d-97c2f38ce9a9"
   },
   "outputs": [
    {
     "data": {
      "text/plain": [
       "17114.0"
      ]
     },
     "execution_count": 25,
     "metadata": {
      "tags": []
     },
     "output_type": "execute_result"
    }
   ],
   "source": [
    "vA = random_walk(Qvector((0,0,0,0)), 1000)\n",
    "vB = random_walk(Qvector((0,0,0,0)), 1000)\n",
    "vC = random_walk(Qvector((0,0,0,0)), 1000)\n",
    "vD = random_walk(Qvector((0,0,0,0)), 1000) \n",
    "ab = (vA-vB).length()\n",
    "ac = (vA-vC).length()\n",
    "ad = (vA-vD).length()\n",
    "bc = (vB-vC).length()\n",
    "cd = (vC-vD).length()\n",
    "bd = (vB-vD).length()\n",
    "t = tv.Tetrahedron(ab,ac,ad,bc,cd,bd)\n",
    "round(t.ivm_volume(), 8)"
   ]
  },
  {
   "cell_type": "code",
   "execution_count": null,
   "id": "b289197b",
   "metadata": {
    "colab": {
     "base_uri": "https://localhost:8080/"
    },
    "id": "929e15a8",
    "outputId": "d2b68831-5196-4e72-b7dc-c3b464871114"
   },
   "outputs": [
    {
     "data": {
      "text/plain": [
       "mpfr('13289.999999999999999999999999999999999999999999999999999996778',200)"
      ]
     },
     "execution_count": 48,
     "metadata": {
      "tags": []
     },
     "output_type": "execute_result"
    }
   ],
   "source": [
    "import gmpy2\n",
    "from gmpy2 import mpfr\n",
    "gmpy2.get_context().precision=200\n",
    "z0 = mpfr('0')\n",
    "vA = random_walk(Qvector((z0,z0,z0,z0)), 1000)\n",
    "vB = random_walk(Qvector((z0,z0,z0,z0)), 1000)\n",
    "vC = random_walk(Qvector((z0,z0,z0,z0)), 1000)\n",
    "vD = random_walk(Qvector((z0,z0,z0,z0)), 1000) \n",
    "ab = (vA-vB).length()\n",
    "ac = (vA-vC).length()\n",
    "ad = (vA-vD).length()\n",
    "bc = (vB-vC).length()\n",
    "cd = (vC-vD).length()\n",
    "bd = (vB-vD).length()\n",
    "t = tv.Tetrahedron(ab,ac,ad,bc,cd,bd)\n",
    "t.ivm_volume()"
   ]
  },
  {
   "cell_type": "markdown",
   "id": "d630b725",
   "metadata": {
    "id": "55afef6d"
   },
   "source": [
    "### Volume of the A Module\n",
    "\n",
    "The cells below confirm that our base tetrahedron of unit volume, fractionates into 24 subvolumes with angles and edges at our finger tips, thanks to the ```qrays``` module"
   ]
  },
  {
   "cell_type": "markdown",
   "id": "6120169f",
   "metadata": {
    "id": "04a2488f"
   },
   "source": [
    "<a data-flickr-embed=\"true\" href=\"https://www.flickr.com/photos/kirbyurner/41174923590\" title=\"24 A Modules (12A + 12A&#x27;) &#x3D; Tetrahedron\"><img src=\"https://live.staticflickr.com/1812/41174923590_463a04427a_w.jpg\" width=\"267\" height=\"400\" alt=\"24 A Modules (12A + 12A&#x27;) &#x3D; Tetrahedron\"></a><script async src=\"//embedr.flickr.com/assets/client-code.js\" charset=\"utf-8\"></script>\n",
    "\n",
    "<img src=\"http://www.rwgrayprojects.com/synergetics/s09/figs/f1301.gif\" width=\"332\" height=\"412\" />"
   ]
  },
  {
   "cell_type": "code",
   "execution_count": null,
   "id": "608f5e36",
   "metadata": {
    "id": "62c313eb"
   },
   "outputs": [],
   "source": [
    "amod_E  = Qvector((0,0,0,0))\n",
    "amod_C  = b\n",
    "amod_D  = (b + c)/2\n",
    "amod_F  = (b + c + d)/3\n",
    "\n",
    "# apex E to base F, C, D\n",
    "amod_EF = amod_F\n",
    "amod_CE = b\n",
    "amod_DE = amod_D\n",
    "\n",
    "# around the base, C, D, E\n",
    "amod_CF = amod_C - amod_F\n",
    "amod_CD = amod_C - amod_D\n",
    "amod_DF = amod_D - amod_F"
   ]
  },
  {
   "cell_type": "code",
   "execution_count": null,
   "id": "5f4708fc",
   "metadata": {
    "id": "ec1463c0"
   },
   "outputs": [],
   "source": [
    "amod_EF.length()  # apex to face center"
   ]
  },
  {
   "cell_type": "code",
   "execution_count": null,
   "id": "09acd490",
   "metadata": {
    "id": "25258efd"
   },
   "outputs": [],
   "source": [
    "amod_CE.length()  # apex to corner"
   ]
  },
  {
   "cell_type": "code",
   "execution_count": null,
   "id": "f4309ee0",
   "metadata": {
    "id": "a29e6ba7"
   },
   "outputs": [],
   "source": [
    "amod_DE.length() # apex to mid-edge"
   ]
  },
  {
   "cell_type": "code",
   "execution_count": null,
   "id": "f21211e3",
   "metadata": {
    "id": "781807dd"
   },
   "outputs": [],
   "source": [
    "amod_CF.length() # face center to corner"
   ]
  },
  {
   "cell_type": "code",
   "execution_count": null,
   "id": "53db9de0",
   "metadata": {
    "id": "186aef98"
   },
   "outputs": [],
   "source": [
    "amod_CD.length() # corner to mid-edge"
   ]
  },
  {
   "cell_type": "code",
   "execution_count": null,
   "id": "c1a5a6a3",
   "metadata": {
    "id": "fe2afba3"
   },
   "outputs": [],
   "source": [
    "amod_DF.length() # mid-edge to face center"
   ]
  },
  {
   "cell_type": "code",
   "execution_count": null,
   "id": "2c9b5ea4",
   "metadata": {
    "id": "8ddd4397"
   },
   "outputs": [],
   "source": [
    "lengths = map(lambda v: v.length(), \n",
    "              (amod_EF, amod_CE, amod_DE, amod_CF, amod_CD, amod_DF))\n",
    "t = tv.Tetrahedron(*lengths)\n",
    "t.ivm_volume()"
   ]
  },
  {
   "cell_type": "markdown",
   "id": "12751909",
   "metadata": {
    "id": "6e119633"
   },
   "source": [
    "\n",
    "<a data-flickr-embed=\"true\" href=\"https://www.flickr.com/photos/kirbyurner/28435901559/in/photolist-2m29ok8-2jxGLDx-KjMqQP-EhaxK2-Bpf1cD-8P2cs1-8cn39x-7cVeMN-JotMo\" title=\"quadray_papers\"><img src=\"https://live.staticflickr.com/4704/28435901559_c3a76b6052.jpg\" width=\"486\" height=\"500\" alt=\"quadray_papers\"></a><script async src=\"//embedr.flickr.com/assets/client-code.js\" charset=\"utf-8\"></script>\n"
   ]
  },
  {
   "cell_type": "markdown",
   "id": "7e4c8a7f",
   "metadata": {
    "id": "da845069"
   },
   "source": [
    "* [Wikipedia Entry](https://en.wikipedia.org/wiki/Quadray_coordinates)\n",
    "* [Early Development](http://grunch.net/synergetics/quadrays.html)\n",
    "* [Recent Use](https://nbviewer.jupyter.org/github/4dsolutions/School_of_Tomorrow/blob/master/Flextegrity_Lattice.ipynb)\n",
    "* [Clues for Teachers](https://mybizmo.blogspot.com/2021/07/canonical-lesson-plan.html)"
   ]
  }
 ],
 "metadata": {
  "colab": {
   "name": "Copy of Copy of Quadrays.ipynb",
   "provenance": []
  },
  "kernelspec": {
   "display_name": "Python 3",
   "language": "python",
   "name": "python3"
  },
  "language_info": {
   "codemirror_mode": {
    "name": "ipython",
    "version": 3
   },
   "file_extension": ".py",
   "mimetype": "text/x-python",
   "name": "python",
   "nbconvert_exporter": "python",
   "pygments_lexer": "ipython3",
   "version": "3.7.9"
  }
 },
 "nbformat": 4,
 "nbformat_minor": 5
}
