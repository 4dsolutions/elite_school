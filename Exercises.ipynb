{
 "cells": [
  {
   "cell_type": "markdown",
   "metadata": {},
   "source": [
    "[Home](Home.ipynb)\n",
    "\n",
    "[nbviewer view](https://nbviewer.org/github/4dsolutions/elite_school/blob/master/Exercises.ipynb#USA-Computing-Olympiad)\n",
    "\n",
    "\n",
    "# Example Exercises and Games\n",
    "\n",
    "If you forked this project, consider adding your own example exercises to this Notebook.  Whether you include solutions or not is up to you.  Are you a teacher?  Perhaps you have hidden the answers in another place.\n",
    "\n",
    "Jump to (internal links, may not work on Github):\n",
    "\n",
    "* [ACSL](#American-Computer-Science-League)\n",
    "* [USACO](#USA-Computing-Olympiad)"
   ]
  },
  {
   "cell_type": "markdown",
   "metadata": {},
   "source": [
    "#### Idea: Scissors Paper Rock\n",
    "\n",
    "Write a scissors-paper-rock game that uses input( ) for a player. The computer plays the other player and doesn't cheat; it uses random.\n",
    "\n",
    "Keep score such that after a certain number of rounds, a winner is declared."
   ]
  },
  {
   "cell_type": "code",
   "execution_count": 1,
   "metadata": {},
   "outputs": [],
   "source": [
    "from puzzles import spr"
   ]
  },
  {
   "cell_type": "code",
   "execution_count": 2,
   "metadata": {},
   "outputs": [
    {
     "name": "stdin",
     "output_type": "stream",
     "text": [
      "s, p, r or q:  q\n"
     ]
    },
    {
     "name": "stdout",
     "output_type": "stream",
     "text": [
      "Thanks for playing\n"
     ]
    }
   ],
   "source": [
    "spr()"
   ]
  },
  {
   "cell_type": "markdown",
   "metadata": {},
   "source": [
    "Before taking a look at [one possible implementation](puzzles.py), why not come up with a solution yourself?  Take your time.  Don't feel you have to follow the example interface exactly."
   ]
  },
  {
   "cell_type": "markdown",
   "metadata": {},
   "source": [
    "#### Idea: Indigs\n",
    "Write a function that takes any positive integer or zero and returns its \"indig\", meaning you keep adding the integers together until you're down to one between 0 and 9.\n",
    "\n",
    "Below, the comments next to the function call show the steps to the final answer.\n",
    "\n",
    "<pre>\n",
    ">>> indig(12345) # -> 15 -> 6\n",
    "6\n",
    ">>> indig(7822)  # -> 19 -> 10 -> 1\n",
    "1\n",
    "</pre>"
   ]
  },
  {
   "cell_type": "code",
   "execution_count": 3,
   "metadata": {},
   "outputs": [],
   "source": [
    "from puzzles import indig"
   ]
  },
  {
   "cell_type": "code",
   "execution_count": 4,
   "metadata": {},
   "outputs": [
    {
     "data": {
      "text/plain": [
       "6"
      ]
     },
     "execution_count": 4,
     "metadata": {},
     "output_type": "execute_result"
    }
   ],
   "source": [
    "indig(12345)"
   ]
  },
  {
   "cell_type": "code",
   "execution_count": 5,
   "metadata": {},
   "outputs": [
    {
     "data": {
      "text/plain": [
       "1"
      ]
     },
     "execution_count": 5,
     "metadata": {},
     "output_type": "execute_result"
    }
   ],
   "source": [
    "indig(7822)"
   ]
  },
  {
   "cell_type": "markdown",
   "metadata": {},
   "source": [
    "#### Idea: Explore a Ramanujan Identity\n",
    "\n",
    "Find a Ramanujan Identity and validate it (not a proof) using an extended precision library, either Python's native Decimal, or something 3rd party such as [gmpy2](https://pypi.org/project/gmpy2/).\n",
    "\n",
    "$$\n",
    "\\frac{1}{\\pi}\n",
    "=\n",
    "\\frac{\\sqrt{8}}{9801}\n",
    "\\sum_{n=0}^{\\infty}\\frac{(4n)!}{(n!)^4}\\times\\frac{26390n + 1103}{396^{4n}}\n",
    "$$"
   ]
  },
  {
   "cell_type": "code",
   "execution_count": 6,
   "metadata": {},
   "outputs": [],
   "source": [
    "from math import factorial"
   ]
  },
  {
   "cell_type": "code",
   "execution_count": 7,
   "metadata": {},
   "outputs": [
    {
     "data": {
      "text/plain": [
       "3628800"
      ]
     },
     "execution_count": 7,
     "metadata": {},
     "output_type": "execute_result"
    }
   ],
   "source": [
    "factorial(10) # 10 * 9 * 8 ..... * 2 * 1"
   ]
  },
  {
   "cell_type": "code",
   "execution_count": 8,
   "metadata": {},
   "outputs": [
    {
     "data": {
      "text/plain": [
       "1"
      ]
     },
     "execution_count": 8,
     "metadata": {},
     "output_type": "execute_result"
    }
   ],
   "source": [
    "factorial(0)"
   ]
  },
  {
   "cell_type": "markdown",
   "metadata": {},
   "source": [
    "Validating the above identity from Ramanujan requires a multiple-precision number type. The Anaconda ecosystem supplies one, mpmath.  Or we can pip install it.\n",
    "\n",
    "Lets install it:"
   ]
  },
  {
   "cell_type": "code",
   "execution_count": 11,
   "metadata": {},
   "outputs": [
    {
     "name": "stdout",
     "output_type": "stream",
     "text": [
      "Collecting mpmath\n",
      "  Downloading mpmath-1.2.1-py3-none-any.whl (532 kB)\n",
      "\u001b[K     |████████████████████████████████| 532 kB 953 kB/s eta 0:00:01\n",
      "\u001b[?25hInstalling collected packages: mpmath\n",
      "Successfully installed mpmath-1.2.1\n"
     ]
    }
   ],
   "source": [
    "! pip install mpmath  # ! means Operating Sys shell"
   ]
  },
  {
   "cell_type": "code",
   "execution_count": 12,
   "metadata": {},
   "outputs": [],
   "source": [
    "import mpmath\n",
    "from mpmath import mp, mpf"
   ]
  },
  {
   "cell_type": "markdown",
   "metadata": {},
   "source": [
    "Instead of going straight to Ramanujan's formula, lets practice with the number e, a convergence based on a single input, n, as n increases towards infinity.\n",
    "\n",
    "$$e = \\mathop {\\lim }\\limits_{n \\to \\infty } \\left( {1 + \\frac{1}{n}} \\right)^n$$"
   ]
  },
  {
   "cell_type": "code",
   "execution_count": 13,
   "metadata": {},
   "outputs": [],
   "source": [
    "mp.prec = 1000"
   ]
  },
  {
   "cell_type": "code",
   "execution_count": 14,
   "metadata": {},
   "outputs": [],
   "source": [
    "n = mpf('1'+'0'*100) # that's 1 followed by 100 zeroes"
   ]
  },
  {
   "cell_type": "code",
   "execution_count": 15,
   "metadata": {},
   "outputs": [
    {
     "data": {
      "text/plain": [
       "mpf('10000000000000000000000000000000000000000000000000000000000000000000000000000000000000000000000000000.0')"
      ]
     },
     "execution_count": 15,
     "metadata": {},
     "output_type": "execute_result"
    }
   ],
   "source": [
    "n"
   ]
  },
  {
   "cell_type": "code",
   "execution_count": 16,
   "metadata": {},
   "outputs": [
    {
     "data": {
      "text/plain": [
       "mpf('2.71828182845904523536028747135266249775724709369995957496696762772407663035354759457138217852516642729155230050905079815380304002899591868503797961026261688238975094242411197308585410131164426899269765211310564282704549680989698996537618283902467719057129820836416823535319224585963641777525861808095801')"
      ]
     },
     "execution_count": 16,
     "metadata": {},
     "output_type": "execute_result"
    }
   ],
   "source": [
    "(1 + 1/n)**n"
   ]
  },
  {
   "cell_type": "markdown",
   "metadata": {},
   "source": [
    "From [a published source](https://www.boxentriq.com/code-breaking/euler-number):\n",
    "\n",
    "2.7182818284 5904523536 0287471352 6624977572 4709369995 9574966967"
   ]
  },
  {
   "cell_type": "markdown",
   "metadata": {},
   "source": [
    "#### Idea:  Quiz Me on the Keywords\n",
    "\n",
    "In the first version, the goal is to remember as many of the 33-35 keywords as you can.  Then q to quit and see which ones you missed.  \n",
    "\n",
    "Entering any correct guess another time will trigger a listing of all the keywords guessed so far."
   ]
  },
  {
   "cell_type": "code",
   "execution_count": null,
   "metadata": {},
   "outputs": [],
   "source": [
    "import kw_quiz"
   ]
  },
  {
   "cell_type": "markdown",
   "metadata": {},
   "source": [
    "In this next version, the computer picks a keyword at random, and you have only a few chances to guess it. Thanks to hints, however, guessing correctly is pretty easy."
   ]
  },
  {
   "cell_type": "code",
   "execution_count": null,
   "metadata": {},
   "outputs": [],
   "source": [
    "%run castle_game.py"
   ]
  },
  {
   "cell_type": "markdown",
   "metadata": {},
   "source": [
    "Playing these games may be fun and challenging, but don't forget to read the source code to see exactly how each works\n",
    "\n",
    "* [kw_quiz.py](kw_quiz.py)\n",
    "* [castle_game.py](castle_game.py)\n",
    "\n",
    "Check them out!"
   ]
  },
  {
   "cell_type": "markdown",
   "metadata": {},
   "source": [
    "# American Computer Science League\n",
    "\n",
    "* [ACSL Ball](#ACLS-Ball)\n",
    "* [ACSL Letters](#ACLS-Letters)\n",
    "* [Pattern Finder](#Pattern-Finder)\n",
    "* [Hexgrid Walk](#HexaGrid-Walk)\n",
    "* [15 Puzzle](#15-Puzzle)\n",
    "* [Look and Say](#Look-and-Say)\n",
    "* [Subpattern Coverage](#Subpattern-Coverage)\n",
    "* [Gridimeter](#Gridimeter)\n",
    "* [Compressed Trees](#Compressed-Trees)\n",
    "* [Hexgrid Path Generation](#Hexgrid-Path-Generation)"
   ]
  },
  {
   "cell_type": "code",
   "execution_count": null,
   "metadata": {},
   "outputs": [],
   "source": [
    "import os\n",
    "os.chdir(\"./acsl\")"
   ]
  },
  {
   "cell_type": "code",
   "execution_count": null,
   "metadata": {},
   "outputs": [],
   "source": [
    "! pwd"
   ]
  },
  {
   "cell_type": "markdown",
   "metadata": {},
   "source": [
    "#### ACLS Ball\n",
    "\n",
    "* [PDF Instructions](acsl/as_1_aball.pdf)\n",
    "* [Solution](acsl/as_1_aball.py)\n",
    "* [Test Data 1](acsl/as_1_aball_sample1.txt)\n",
    "* [Test Data 2](acsl/as_1_aball_sample2.txt)"
   ]
  },
  {
   "cell_type": "code",
   "execution_count": null,
   "metadata": {},
   "outputs": [],
   "source": [
    "import as_1_aball"
   ]
  },
  {
   "cell_type": "code",
   "execution_count": null,
   "metadata": {},
   "outputs": [],
   "source": [
    "as_1_aball.main(\"as_1_aball_sample1.txt\")"
   ]
  },
  {
   "cell_type": "code",
   "execution_count": null,
   "metadata": {},
   "outputs": [],
   "source": [
    "as_1_aball.main(\"as_1_aball_sample2.txt\")"
   ]
  },
  {
   "cell_type": "markdown",
   "metadata": {},
   "source": [
    "#### ACLS Letters\n",
    "\n",
    "* [PDF Instruction](./acsl/as_5_letters.pdf)\n",
    "* [Solution](./acsl/as_5_letters.py)\n",
    "* [Test Data 1](./acsl/as_5_letters_sample1.py)\n",
    "* [Test Data 2](./acsl/as_5_letters_sample2.py)"
   ]
  },
  {
   "cell_type": "code",
   "execution_count": null,
   "metadata": {},
   "outputs": [],
   "source": [
    "import as_5_letters"
   ]
  },
  {
   "cell_type": "code",
   "execution_count": null,
   "metadata": {},
   "outputs": [],
   "source": [
    "as_5_letters.main(\"as_5_letters_sample1.txt\")"
   ]
  },
  {
   "cell_type": "code",
   "execution_count": null,
   "metadata": {},
   "outputs": [],
   "source": [
    "as_5_letters.main(\"as_5_letters_sample2.txt\")"
   ]
  },
  {
   "cell_type": "markdown",
   "metadata": {},
   "source": [
    "#### Pattern Finder\n",
    "\n",
    "* [PDF Instructions](acsl/as_1_pattern.pdf)\n",
    "* [Solution](acsl/as1.py)\n",
    "* [Test Data 1](acsl/as1_pattern_sample1.txt)\n",
    "* [Test Data 2](acsl/as1_pattern_sample2.txt)"
   ]
  },
  {
   "cell_type": "code",
   "execution_count": null,
   "metadata": {},
   "outputs": [],
   "source": [
    "import as1\n",
    "from imp import reload\n",
    "reload(as1)"
   ]
  },
  {
   "cell_type": "code",
   "execution_count": null,
   "metadata": {},
   "outputs": [],
   "source": [
    "as1.main(\"as1_pattern_sample1.txt\")"
   ]
  },
  {
   "cell_type": "code",
   "execution_count": null,
   "metadata": {},
   "outputs": [],
   "source": [
    "as1.main(\"as1_pattern_sample2.txt\")"
   ]
  },
  {
   "cell_type": "markdown",
   "metadata": {},
   "source": [
    "#### HexGrid Walk\n",
    "\n",
    "* [PDF Instructions](acsl/as_3_hexgrid_walk.pdf)\n",
    "* [Solution](acsl/as3.py)\n",
    "* [Test Data 1](acsl/as3_hexwalk1.txt)\n",
    "* [Test Data 2](acsl/as3_hexwalk2.txt)"
   ]
  },
  {
   "cell_type": "code",
   "execution_count": null,
   "metadata": {},
   "outputs": [],
   "source": [
    "import as3\n",
    "reload(as3)"
   ]
  },
  {
   "cell_type": "code",
   "execution_count": null,
   "metadata": {},
   "outputs": [],
   "source": [
    "as3.main(\"as3_hexwalk1.txt\")"
   ]
  },
  {
   "cell_type": "code",
   "execution_count": null,
   "metadata": {},
   "outputs": [],
   "source": [
    "as3.main(\"as3_hexwalk2.txt\")"
   ]
  },
  {
   "cell_type": "markdown",
   "metadata": {},
   "source": [
    "#### 15 Puzzle\n",
    "\n",
    "* [PDF Instructions](acsl/as_4_fifteen_puzzle.pdf)\n",
    "* [Solution](acsl/as3.py)\n",
    "* [Test Data 1](acsl/as4_fifteen_sample1.txt)\n",
    "* [Test Data 2](acsl/as4_fifteen_sample2.txt)"
   ]
  },
  {
   "cell_type": "code",
   "execution_count": null,
   "metadata": {},
   "outputs": [],
   "source": [
    "import as4\n",
    "reload(as4)"
   ]
  },
  {
   "cell_type": "code",
   "execution_count": null,
   "metadata": {},
   "outputs": [],
   "source": [
    "as4.main(\"as4_fifteen_sample1.txt\")"
   ]
  },
  {
   "cell_type": "code",
   "execution_count": null,
   "metadata": {},
   "outputs": [],
   "source": [
    "as4.main(\"as4_fifteen_sample2.txt\")"
   ]
  },
  {
   "cell_type": "markdown",
   "metadata": {},
   "source": [
    "#### Look and Say\n",
    "\n",
    "* [PDF Instructions](acsl/as_5_look_and_say.pdf)\n",
    "* [Solution](acsl/as5_looksay.py)\n",
    "* [Test Data 1](acsl/as5_sample1.txt)\n",
    "* [Test Data 2](acsl/as5_sample2.txt)"
   ]
  },
  {
   "cell_type": "code",
   "execution_count": null,
   "metadata": {},
   "outputs": [],
   "source": [
    "from as5_looksay import substr, looksay"
   ]
  },
  {
   "cell_type": "code",
   "execution_count": null,
   "metadata": {},
   "outputs": [],
   "source": [
    "s = \"21131211131221\"\n",
    "substr(s,7,3)  # Term 9: 21131211131221"
   ]
  },
  {
   "cell_type": "code",
   "execution_count": null,
   "metadata": {},
   "outputs": [],
   "source": [
    "s"
   ]
  },
  {
   "cell_type": "code",
   "execution_count": null,
   "metadata": {},
   "outputs": [],
   "source": [
    "looksay(s)"
   ]
  },
  {
   "cell_type": "code",
   "execution_count": null,
   "metadata": {},
   "outputs": [],
   "source": [
    "assert looksay('312211') == '13112221'\n",
    "assert looksay('13112221') == '1113213211'"
   ]
  },
  {
   "cell_type": "code",
   "execution_count": null,
   "metadata": {},
   "outputs": [],
   "source": [
    "looksay('1')"
   ]
  },
  {
   "cell_type": "code",
   "execution_count": null,
   "metadata": {},
   "outputs": [],
   "source": [
    "sequence = ['1']\n",
    "for i in range(25):\n",
    "    sequence.append(looksay(sequence[-1]))"
   ]
  },
  {
   "cell_type": "code",
   "execution_count": null,
   "metadata": {},
   "outputs": [],
   "source": [
    "sequence[:10]"
   ]
  },
  {
   "cell_type": "code",
   "execution_count": null,
   "metadata": {},
   "outputs": [],
   "source": [
    "test = open(\"as5_sample1.txt\")\n",
    "ans = open(\"as5_looksay1.txt\")\n",
    "for line, answer in zip(test, ans):\n",
    "    print(line[:-1], end=\"\")\n",
    "    args = [int(arg) for arg in line[:-1].split()]\n",
    "    print(\" -->\", substr(sequence[args[0]-1], args[1], args[2]), end=\"\")\n",
    "    print(\"  [\", answer[:-1], \"]\")"
   ]
  },
  {
   "cell_type": "code",
   "execution_count": null,
   "metadata": {},
   "outputs": [],
   "source": [
    "test = open(\"as5_sample2.txt\")\n",
    "ans = open(\"as5_looksay2.txt\")\n",
    "for line, answer in zip(test, ans):\n",
    "    print(line[:-1], end=\"\")\n",
    "    args = [int(arg) for arg in line[:-1].split()]\n",
    "    print(\" -->\", substr(sequence[args[0]-1], args[1], args[2]), end=\"\")\n",
    "    print(\"  [\", answer[:-1], \"]\")"
   ]
  },
  {
   "cell_type": "markdown",
   "metadata": {},
   "source": [
    "#### Subpattern Coverage\n",
    "\n",
    "* [PDF Instructions](acsl/as_6_subpattern_coverage.pdf)\n",
    "* [Solution](as6.py)\n",
    "* [Test Data 1](acsl/as6_sample1.txt)\n",
    "* [Test Data 2](acsl/as6_sample2.txt)"
   ]
  },
  {
   "cell_type": "code",
   "execution_count": null,
   "metadata": {},
   "outputs": [],
   "source": [
    "with open(\"as6_sample1.txt\") as f:\n",
    "    for line in f:\n",
    "        print(line, end=\"\")"
   ]
  },
  {
   "cell_type": "code",
   "execution_count": null,
   "metadata": {},
   "outputs": [],
   "source": [
    "list(\"{:08b}\".format((int(\"AA\", 16))))"
   ]
  },
  {
   "cell_type": "code",
   "execution_count": null,
   "metadata": {},
   "outputs": [],
   "source": [
    "def make_panel(rows, cols, data):\n",
    "    rows = []\n",
    "    template = \"{:0\" + str(cols) + \"b}\"\n",
    "    for hexcode in data.split():\n",
    "        row = list(template.format((int(hexcode, 16))))\n",
    "        rows.append(row)\n",
    "    return rows"
   ]
  },
  {
   "cell_type": "code",
   "execution_count": null,
   "metadata": {},
   "outputs": [],
   "source": [
    "target = make_panel(8,8,\"FF AA 55 00 FF AA 55 00\")\n",
    "target"
   ]
  },
  {
   "cell_type": "code",
   "execution_count": null,
   "metadata": {},
   "outputs": [],
   "source": [
    "target = make_panel(4, 4, \"F F F F\")\n",
    "target"
   ]
  },
  {
   "cell_type": "code",
   "execution_count": null,
   "metadata": {},
   "outputs": [],
   "source": [
    "target = make_panel(8,8,\"FF AA 55 00 FF AA 55 00\")"
   ]
  },
  {
   "cell_type": "code",
   "execution_count": null,
   "metadata": {},
   "outputs": [],
   "source": [
    "from as6 import *"
   ]
  },
  {
   "cell_type": "markdown",
   "metadata": {},
   "source": [
    "What tile sizes evenly divide the target panel?  In order of total tile size?  We will start with smallest and go bigger, each time generating the whole from the part, to see if we have a match."
   ]
  },
  {
   "cell_type": "code",
   "execution_count": null,
   "metadata": {},
   "outputs": [],
   "source": [
    "make_sizes(8,8)"
   ]
  },
  {
   "cell_type": "markdown",
   "metadata": {},
   "source": [
    "Let's get the subpanel of a specific size."
   ]
  },
  {
   "cell_type": "code",
   "execution_count": null,
   "metadata": {},
   "outputs": [],
   "source": [
    "subp = get_subpanel(target, 4, 2)\n",
    "subp"
   ]
  },
  {
   "cell_type": "markdown",
   "metadata": {},
   "source": [
    "Now lets generate the target using the candidate tile.  We need so many across and so many down."
   ]
  },
  {
   "cell_type": "code",
   "execution_count": null,
   "metadata": {},
   "outputs": [],
   "source": [
    "generated = mult_subpanel(subp, across=8//2, down=8//4)"
   ]
  },
  {
   "cell_type": "code",
   "execution_count": null,
   "metadata": {},
   "outputs": [],
   "source": [
    "generated == target"
   ]
  },
  {
   "cell_type": "markdown",
   "metadata": {},
   "source": [
    "The solve method brings it all together:\n",
    "\n",
    "* generate the target panel from hexcodes\n",
    "* generate possible subpanel sizes in size order\n",
    "* multiply subpanels to make candidate\n",
    "* if candidate == target, we have found the smallest size."
   ]
  },
  {
   "cell_type": "code",
   "execution_count": null,
   "metadata": {},
   "outputs": [],
   "source": [
    "solve(8, 8, \"FF AA 55 00 FF AA 55 00\")"
   ]
  },
  {
   "cell_type": "code",
   "execution_count": null,
   "metadata": {},
   "outputs": [],
   "source": [
    "solve(4, 4, \"F F F F\")"
   ]
  },
  {
   "cell_type": "markdown",
   "metadata": {},
   "source": [
    "#### Gridimeter\n",
    "\n",
    "* [PDF Instructions](acsl/as_7_gridimeter.pdf)\n",
    "* [Solution](acsl/as7_Gridimeter.py)\n",
    "* [Test Data 1](acsl/as7_sample1.txt)\n",
    "* [Test Data 2](acsl/as7_sample2.txt)"
   ]
  },
  {
   "cell_type": "markdown",
   "metadata": {},
   "source": [
    "The code cell below reviews the \"scatter and gather\" operator.  The star in front of a parameter makes it collect positional arguments.  The star in front of an argument breaks it up into separate elements.\n",
    "\n",
    "The actual solution provided is translated from Java and involves figuring out the \"gray area\" i.e. the internal versus external cells, using a 2nd grid to develop such a picture.  Only 1s and 2s get used in the 2nd grid eventually. "
   ]
  },
  {
   "cell_type": "code",
   "execution_count": null,
   "metadata": {},
   "outputs": [],
   "source": [
    "data = \"4 4 6E 4C5 4C5 6E\"\n",
    "\n",
    "def make_grid(r, c, *rows): # gather into 3 params\n",
    "    \"\"\"\n",
    "    r - number of rows\n",
    "    c - number of columns\n",
    "    rows - data for each row, convert to decimal\n",
    "    \"\"\"\n",
    "    print(f\"r: {r}; c: {c}; rows: {rows}\")\n",
    "    # more code\n",
    "    gridmeter = 0\n",
    "    return gridmeter\n",
    "    \n",
    "make_grid(*data.split())  # explode into 6 args"
   ]
  },
  {
   "cell_type": "code",
   "execution_count": null,
   "metadata": {},
   "outputs": [],
   "source": [
    "\"{:04d}\".format(int('6E', 16))"
   ]
  },
  {
   "cell_type": "code",
   "execution_count": null,
   "metadata": {},
   "outputs": [],
   "source": [
    "\"{:04d}\".format(int('4C5', 16))"
   ]
  },
  {
   "cell_type": "markdown",
   "metadata": {},
   "source": [
    "#### Compressed Trees\n",
    "\n",
    "* [PDF Instructions](acsl/as_8_compressed_trees.pdf)\n",
    "* [Solution](acsl/as8.py)\n",
    "* [Test Data 1](acsl/as8_sample1.txt)\n",
    "* [Test Data 2](acsl/as8_sample2.txt)"
   ]
  },
  {
   "cell_type": "code",
   "execution_count": null,
   "metadata": {},
   "outputs": [],
   "source": [
    "data = \"HELLOAWORLD\"\n",
    "freq = \"1A 1D 1E 1H 1R 1W 2O 3L\"\n",
    "\n",
    "from collections import Counter\n",
    "\n",
    "def make_freq(s):\n",
    "    ordered = sorted(Counter(s).items(), \n",
    "                 key=lambda t: (t[1],t[0]))\n",
    "    return [(num, let) for let, num in ordered]\n",
    "    \n",
    "data = make_freq(data)\n",
    "data"
   ]
  },
  {
   "cell_type": "code",
   "execution_count": null,
   "metadata": {},
   "outputs": [],
   "source": [
    "def pretty(the_row):\n",
    "    s = \"\"\n",
    "    return \" \".join([str(i)+j for i,j in the_row])\n",
    "\n",
    "pretty(data)"
   ]
  },
  {
   "cell_type": "markdown",
   "metadata": {},
   "source": [
    "Fixed this after class (May 9th):"
   ]
  },
  {
   "cell_type": "code",
   "execution_count": null,
   "metadata": {},
   "outputs": [],
   "source": [
    "tree = {}\n",
    "\n",
    "def combine(t0, t1):\n",
    "    number = t0[0] + t1[0]\n",
    "    # alphabetize the concatenated letters\n",
    "    letters = \"\".join(sorted(list(t0[1] + t1[1])))\n",
    "    newterm = (number,   # numeric\n",
    "               letters)  # lexical\n",
    "    return newterm\n",
    "\n",
    "def add2tree(the_tree, new_key, left, right):\n",
    "    the_tree[new_key] = (left, right)\n",
    "    return the_tree\n",
    "\n",
    "def insert(the_data, term):\n",
    "    the_data.append(term)\n",
    "    newdata = sorted(the_data,  # by number, letters \n",
    "                 key=lambda t: (t[0],t[1]))\n",
    "    return newdata"
   ]
  },
  {
   "cell_type": "code",
   "execution_count": null,
   "metadata": {},
   "outputs": [],
   "source": [
    "def compress(the_data = \"HELLOAWORLD\", tree={}):\n",
    "    the_data = make_freq(the_data)\n",
    "    print(pretty(the_data))\n",
    "    while len(the_data) > 1:\n",
    "        result = combine(*the_data[:2])\n",
    "        add2tree(tree, result, the_data[0], the_data[1])\n",
    "        the_data = the_data[2:]\n",
    "        the_data = insert(the_data, result)\n",
    "        print(pretty(the_data))\n",
    "    return tree"
   ]
  },
  {
   "cell_type": "code",
   "execution_count": null,
   "metadata": {},
   "outputs": [],
   "source": [
    "t = compress()\n",
    "t"
   ]
  },
  {
   "cell_type": "code",
   "execution_count": null,
   "metadata": {},
   "outputs": [],
   "source": [
    "def findit(c, the_tree):\n",
    "    the_key, (left, right) = list(the_tree.items())[-1] # root\n",
    "    searching = True\n",
    "    srchstr = \"\"\n",
    "    if c not in the_key[1]:\n",
    "        return None\n",
    "    \n",
    "    while searching:\n",
    "        print(the_key, left, right)\n",
    "        if c in left[1]:\n",
    "            the_key = left\n",
    "            srchstr += \"0\"\n",
    "            if len(left[1])==1:\n",
    "                searching = False\n",
    "                continue\n",
    "                \n",
    "        else:\n",
    "            the_key = right\n",
    "            srchstr += \"1\"\n",
    "            if len(right[1])==1:\n",
    "                searching = False\n",
    "                continue\n",
    "        \n",
    "        left, right = the_tree[the_key]\n",
    "        \n",
    "    return srchstr"
   ]
  },
  {
   "cell_type": "code",
   "execution_count": null,
   "metadata": {},
   "outputs": [],
   "source": [
    "t = compress(\"ABCDEFHHHLLLNNN\")\n",
    "t"
   ]
  },
  {
   "cell_type": "code",
   "execution_count": null,
   "metadata": {},
   "outputs": [],
   "source": [
    "findit(\"D\", t)"
   ]
  },
  {
   "cell_type": "code",
   "execution_count": null,
   "metadata": {},
   "outputs": [],
   "source": [
    "t = compress(\"ABCDGGGKKKKK\")\n",
    "t"
   ]
  },
  {
   "cell_type": "code",
   "execution_count": null,
   "metadata": {},
   "outputs": [],
   "source": [
    "code = findit(\"G\", t)\n",
    "code"
   ]
  },
  {
   "cell_type": "code",
   "execution_count": null,
   "metadata": {},
   "outputs": [],
   "source": [
    "t = compress(\"LYAAEEGGPPP\")\n",
    "code = findit(\"L\", t)\n",
    "code"
   ]
  },
  {
   "cell_type": "code",
   "execution_count": null,
   "metadata": {},
   "outputs": [],
   "source": [
    "t = compress(\"ABCDEFHHLLL\")\n",
    "code = findit(\"A\", t)\n",
    "code"
   ]
  },
  {
   "cell_type": "markdown",
   "metadata": {},
   "source": [
    "#### Hexgrid Path Generation\n",
    "\n",
    "* [PDF Instructions](acsl/as_9_hexgrid_path_generation.pdf)\n",
    "* [Solution](acsl/as9_hexgrid.py)\n",
    "* [Test Data 1](acsl/as9_sample1.txt)\n",
    "* [Test Data 2](acsl/as9_sample2.txt)\n",
    "\n",
    "Given a valid path of the required length, what transformation rules might give an alternative path?  Do we have a way to cover all the paths of a given length by means of these transformations, and count only the unique ones?\n",
    "\n",
    "In point of fact, the provided solution employs a recursive strategy. Every path from a starting tile is explored out to a given length, counting only those that happen to end up exactly on the target tile."
   ]
  },
  {
   "cell_type": "markdown",
   "metadata": {},
   "source": [
    "# USA Computing Olympiad\n",
    "\n",
    "Sign up for an account in [the USACO training area](https://train.usaco.org/).  \n",
    "\n",
    "You'll find a lot of interesting challenges such as...\n",
    "\n",
    "* [Broken Necklace](https://train.usaco.org/usacoprob2?a=gTpkbBkxTzg&S=beads) | [replit solution](https://replit.com/@kurner/BrokenNecklace#main.py)\n",
    "* [Friday 13](https://train.usaco.org/usacoprob2?a=gTpkbBkxTzg&S=friday) | [replit solution](https://replit.com/@kurner/friday13#main.py)\n",
    "\n",
    "From past competitions:\n",
    "\n",
    "January 2021, Bronze level:\n",
    "\n",
    "* [Uddered But Not Heard](http://usaco.org/index.php?page=viewproblem2&cpid=1083) | [replit in progress](https://replit.com/@kurner/notherd#main.py)\n",
    "* [Even More Odd Photos](http://usaco.org/index.php?page=viewproblem2&cpid=1084) | [replit solution](https://replit.com/@kurner/evenoddcows#main.py)\n",
    "* [Just Stalling](http://usaco.org/index.php?page=viewproblem2&cpid=1085)  | [replit solution](https://replit.com/@kurner/JustStalling#main.py) ($N <= 8$ only)."
   ]
  },
  {
   "cell_type": "markdown",
   "metadata": {},
   "source": [
    "## Your Olympiad Sandbox\n",
    "\n",
    "Drawing from examples above, one may conclude that any attempt to solve a USACO problem should focus on the following elements:\n",
    "\n",
    "* a statement of the problem\n",
    "* the provided test data\n",
    "* template code, modified to suit each problem, to and make reading test files routine\n",
    "* a placeholder function where a solution would go\n",
    "* a solution\n",
    "\n",
    "Whether you set up these sandboxes in Replit, per the homework, or choose something on your local device, the point is to maximize the value of what's already given.\n",
    "\n",
    "Another question is when to consult the published solution.  Training exercises often feature a correct answer. A serious USACO training need be no exception.\n",
    "\n",
    "Given the number of past problems on file, a few may be selected to provide complete demos, which may involve converting the suggested solution into working code in another language.\n",
    "\n",
    "## Typical Homework Assignment\n",
    "\n",
    "* Choose a USACO problem\n",
    "* download and unzip the test data \n",
    "* migrate the test data to a final subfolder\n",
    "* start with a URL in the comments or docstring pointing to the USACO problem\n",
    "* include \"boilerplate code\" for reading all or any test data files (examples given)\n",
    "* modify the file-reading code to give informative variable names to the data\n",
    "* pass some or all of these variables to a function that will become your solution"
   ]
  },
  {
   "cell_type": "markdown",
   "metadata": {},
   "source": [
    "## Eureka Moments\n",
    "\n",
    "#### Triangular Numbers\n",
    "\n",
    "At this juncture, it's useful to share a story about the young Johann Carl Friedrich Gauss (1777-1855) , later a famous mathematician. The class was misbehaving and the teacher assigned everyone to find the sum of all the numbers from 1 to 100 as busy work.\n",
    "\n",
    "The young Gauss, already brilliant, wrote two lines and added them, like this (notice we skip actually writing and adding most of the numbers -- so did he):\n",
    "\n",
    "      1 +   2 +   3 + ... + 100\n",
    "    100 +  99 +  98 + ... +   1 <-- same 100 terms in reverse \n",
    "    --------------------------- \n",
    "    101 + 101 + 101 + ... + 101 \n",
    "\n",
    "Clearly, he reasoned, I'm getting this number 101 in the bottom row 100 times. But that's from adding all the numbers I need twice (I added the series to itself). So the number I really want is 1/2 of 100 x 101 = 10100/2 = 5050.\n",
    "\n",
    "So a more general way of writing the solution is:\n",
    "\n",
    "     1 +   2 +   3 + ... +   N \n",
    "     N + N-1 + N-2 + ... +   1 <-- same N terms in reverse \n",
    "   --------------------------- \n",
    "   N+1 + N+1 + N+1 + ... + N+1 \n",
    "\n",
    "where we're adding all consecutive integers from 1 up to N. In other words, we have N+1 added to itself N times, for a total of $N(N+1)$ . But again, that's from adding the series twice (adding it to itself). So the answer we're really looking for is:\n",
    "\n",
    "Sum of N consecutive integers = $N (N+1) / 2$\n",
    "\n",
    "Also note that when we're talking about \"consecutive integers\" what's important is one of them be one larger than the other.  $N(N+1)/2$ is a perfectly fine way of writing it, but then so is $N(N-1)/2$.\n",
    "\n",
    "Think of asking yourself this question:  with N people in a room, how many ways may two people shake hands?  \n",
    "\n",
    "Consider yourself to be one of these N people.  You will not shake your own hand, so you have N - 1 hands to shake.  And so for everybody.  \n",
    "\n",
    "It would seem that for N people, we have (N-1) handshakes, so $N (N - 1)$ would be the answer.  However, lets stop to remember that me shaking George's hand is the same as George shaking my hand.  We will count every handshake twice if we go with $N (N - 1)$, and so $N (N - 1)/2$ must be our answer."
   ]
  },
  {
   "cell_type": "markdown",
   "metadata": {},
   "source": [
    "#### Counting Edges from Faces\n",
    "\n",
    "A similar divide-by-two step applies when we want the number of edges in some Platonic polyhedron, i.e. a shape with all faces bordered by the same number of edges, such as the tetrahedron, cube, octahedron, pentagonal dodecahedron and icosahedron.\n",
    "\n",
    "Multiply the number of edges defining each face, by the number of faces.  You will have counted every edge twice, since each is a fence between two fields, we could say.\n",
    "\n",
    "Four faces times three edges is twelve edges, divided by two, gives us six edges in a tetrahedron.\n",
    "\n",
    "Six faces times the four edges of the cube, divided by two, gives the twelve edges of the cube.\n",
    "\n",
    "Eight faces times three edges is twenty-four, divided by two, gives the twelve edges in an octahedron.\n",
    "\n",
    "Twenty faces times three edges is sixty, divided by two, gives the thirty edges of the icosahedron.\n",
    "\n",
    "Twelve faces times five edges is sixty, divided by two, gives the thirty edges of the pentagonal dodecahedron.\n",
    "\n",
    "#### Counting Edges from Vertexes\n",
    "\n",
    "A Platonic polyhedron has the property that every vertex is the same i.e. the same number of edges branch from it.  If we know how many spokes per vertex, such as five, and the number of vertexes, such as twelve, then these two number multiplied (five times twelve) gives twice the number of edges again, in this case thirty."
   ]
  },
  {
   "cell_type": "markdown",
   "metadata": {},
   "source": [
    "#### Outer Product or Cartesian Product\n",
    "\n",
    "Suppose you want to evaluate \"everything times everything\" except you might not want \"times\" to be the operator.  You want all possible pairs (i, j) where i is a row and j is a column, in some rectangle.  If the indexing row and column are the same, then the rectangle will be a square."
   ]
  },
  {
   "cell_type": "code",
   "execution_count": null,
   "metadata": {},
   "outputs": [],
   "source": [
    "import numpy as np\n",
    "import pandas as pd\n",
    "\n",
    "cols = np.array(range(5))\n",
    "rows = np.array((10, 20, 30))\n",
    "pd.DataFrame(np.multiply.outer(rows, cols), index = rows, columns = cols)"
   ]
  },
  {
   "cell_type": "code",
   "execution_count": null,
   "metadata": {},
   "outputs": [],
   "source": [
    "num_cows = 4\n",
    "cows = \"1 2 3 4\"\n",
    "barns = \"2 4 3 4\"\n",
    "ans = 8\n",
    "\n",
    "import numpy as np\n",
    "from itertools import permutations\n",
    "\n",
    "the_cows = np.array(cows.split(), dtype=np.int64)\n",
    "the_barns = np.array(barns.split(), dtype=np.int64)\n",
    "table = np.less_equal.outer(the_cows, the_barns, dtype=np.int16)\n",
    "print(table)\n",
    "\n",
    "total = 0\n",
    "rows = range(num_cows)\n",
    "for perm in permutations(range(num_cows), num_cows):\n",
    "    total += sum(table[rows,perm]) == num_cows\n",
    "print(total)"
   ]
  },
  {
   "cell_type": "code",
   "execution_count": null,
   "metadata": {},
   "outputs": [],
   "source": [
    "pd.DataFrame(np.less_equal.outer(the_cows, the_barns), index = the_cows, columns = the_barns)"
   ]
  },
  {
   "cell_type": "markdown",
   "metadata": {},
   "source": [
    "#### Just Stalling (work area)"
   ]
  },
  {
   "cell_type": "code",
   "execution_count": null,
   "metadata": {},
   "outputs": [],
   "source": [
    "num_cows = 4\n",
    "cows = \"1 2 3 4\"\n",
    "barns = \"2 4 3 4\"\n",
    "ans = 8\n",
    "\n",
    "def get_data(file_name):\n",
    "    with open(\"./usaco/bronze_jan_2021/prob3/\"+file_name) as testfile:\n",
    "        num_cows = int(testfile.readline()[:-1])\n",
    "        cows = testfile.readline()[:-1]\n",
    "        barns = testfile.readline()[:-1]\n",
    "    return num_cows, cows, barns\n",
    "\n",
    "def get_out(file_name):\n",
    "    with open(\"./usaco/bronze_jan_2021/prob3/\"+file_name) as testfile:\n",
    "        answer = testfile.read()\n",
    "    return int(answer)\n",
    "\n",
    "def make_combo(a, b):\n",
    "    if type(a) == list:\n",
    "        return a + [b]\n",
    "    return [a, b]\n",
    "\n",
    "def solve(rows):\n",
    "    combos = [make_combo(i, j) for i in rows[0] for j in rows[1]]\n",
    "    combos = [c for c in combos if len(c) == len(set(c))]\n",
    "    for row in rows[2:]:\n",
    "        combos = [make_combo(c, j) for c in combos for j in row]\n",
    "        combos = [c for c in combos if len(c) == len(set(c))]\n",
    "        print(len(combos))\n",
    "    return len(combos)\n",
    "  \n",
    "def get_tally(cows, barns):\n",
    "    cows = [int(x) for x in cows.split()]\n",
    "    barns = [int(x) for x in barns.split()]\n",
    "    numcows = len(cows)\n",
    "    rows = []\n",
    "    for cow in cows:\n",
    "        rows.append([rnum for rnum in range(numcows) \n",
    "                     if cow <= barns[rnum]])\n",
    "    rows = sorted(rows, key=lambda r: len(r))\n",
    "    answer = solve(rows)\n",
    "    return answer\n",
    "\n",
    "def check_all():\n",
    "    for x in range(1, 12):\n",
    "        check_one(x)\n",
    "\n",
    "def check_one(x):\n",
    "    if x >= 6:\n",
    "        raise ValueError(\"code will stall at this level\")\n",
    "    print(f'Testing file {x}')\n",
    "    infile = str(x)+\".in\"\n",
    "    outfile = str(x)+\".out\"\n",
    "    num_cows, cows, barns = get_data(infile)\n",
    "    the_tally = get_tally(cows, barns)\n",
    "    print(\"Number:\", the_tally)\n",
    "    print(\"Answer:\", get_out(outfile))"
   ]
  },
  {
   "cell_type": "code",
   "execution_count": null,
   "metadata": {},
   "outputs": [],
   "source": [
    "check_one(1)"
   ]
  },
  {
   "cell_type": "code",
   "execution_count": null,
   "metadata": {},
   "outputs": [],
   "source": [
    "check_one(2)"
   ]
  },
  {
   "cell_type": "code",
   "execution_count": null,
   "metadata": {},
   "outputs": [],
   "source": [
    "check_one(3)"
   ]
  },
  {
   "cell_type": "code",
   "execution_count": null,
   "metadata": {},
   "outputs": [],
   "source": [
    "check_one(4)"
   ]
  },
  {
   "cell_type": "markdown",
   "metadata": {},
   "source": [
    "#### Uddered But Not Heard"
   ]
  },
  {
   "cell_type": "code",
   "execution_count": 17,
   "metadata": {},
   "outputs": [],
   "source": [
    "\"\"\"\n",
    "http://usaco.org/index.php?page=viewproblem2&cpid=1083\n",
    "\n",
    "abcdefghijklmnopqrstuvwxyz\n",
    "mood\n",
    "3\n",
    "\"\"\"\n",
    "from usaco.prob3 import get_passes\n",
    "\n",
    "def get_data(file_name):\n",
    "    with open(\"./usaco/bronze_jan_2021/prob1/\"+file_name) as testfile:\n",
    "        cowphabet = testfile.readline()[:-1]\n",
    "        overhears = testfile.readline()[:-1]\n",
    "    return cowphabet, overhears\n",
    "\n",
    "def get_out(file_name):\n",
    "    with open(\"./usaco/bronze_jan_2021/prob1/\"+file_name) as testfile:\n",
    "        answer = testfile.read()\n",
    "    return int(answer)\n",
    "\n",
    "def check_all():\n",
    "    for x in range(1, 10):\n",
    "        check_one(x)\n",
    "\n",
    "def check_one(x):\n",
    "    print(f'Testing file {x}')\n",
    "    infile = str(x)+\".in\"\n",
    "    outfile = str(x)+\".out\"\n",
    "    calpha, hears = get_data(infile)\n",
    "    the_tally = get_passes(calpha, hears)\n",
    "    print(\"Number:\", the_tally)\n",
    "    print(\"Answer:\", get_out(outfile))"
   ]
  },
  {
   "cell_type": "code",
   "execution_count": 18,
   "metadata": {},
   "outputs": [
    {
     "name": "stdout",
     "output_type": "stream",
     "text": [
      "Testing file 1\n",
      "Number: 3\n",
      "Answer: 3\n",
      "Testing file 2\n",
      "Number: 496\n",
      "Answer: 496\n",
      "Testing file 3\n",
      "Number: 530\n",
      "Answer: 530\n",
      "Testing file 4\n",
      "Number: 514\n",
      "Answer: 514\n",
      "Testing file 5\n",
      "Number: 459\n",
      "Answer: 459\n",
      "Testing file 6\n",
      "Number: 516\n",
      "Answer: 516\n",
      "Testing file 7\n",
      "Number: 515\n",
      "Answer: 515\n",
      "Testing file 8\n",
      "Number: 524\n",
      "Answer: 524\n",
      "Testing file 9\n",
      "Number: 482\n",
      "Answer: 482\n"
     ]
    }
   ],
   "source": [
    "check_all()"
   ]
  },
  {
   "cell_type": "code",
   "execution_count": null,
   "metadata": {},
   "outputs": [],
   "source": []
  }
 ],
 "metadata": {
  "kernelspec": {
   "display_name": "Python 3 (ipykernel)",
   "language": "python",
   "name": "python3"
  },
  "language_info": {
   "codemirror_mode": {
    "name": "ipython",
    "version": 3
   },
   "file_extension": ".py",
   "mimetype": "text/x-python",
   "name": "python",
   "nbconvert_exporter": "python",
   "pygments_lexer": "ipython3",
   "version": "3.9.12"
  }
 },
 "nbformat": 4,
 "nbformat_minor": 4
}
