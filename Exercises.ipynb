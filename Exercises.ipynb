{
 "cells": [
  {
   "cell_type": "markdown",
   "metadata": {},
   "source": [
    "[Home](Home.ipynb)\n",
    "\n",
    "# Example Exercises\n",
    "\n",
    "If you forked this project, consider adding your own example exercises to this Notebook.  Whether you include solutions or not is up to you.  Are you a teacher?  Perhaps you have hidden the answers in another place."
   ]
  },
  {
   "cell_type": "markdown",
   "metadata": {},
   "source": [
    "#### Idea: Scissors Paper Rock\n",
    "\n",
    "Write a scissors-paper-rock game that uses input( ) for a player. The computer plays the other player and doesn't cheat; it uses random.\n",
    "\n",
    "Keep score such that after a certain number of rounds, a winner is declared."
   ]
  },
  {
   "cell_type": "markdown",
   "metadata": {},
   "source": [
    "#### Idea: Indigs\n",
    "Write a function that takes any positive integer or zero and returns its \"indig\", meaning you keep adding the integers together until you're down to one between 0 and 9.\n",
    "\n",
    "Below, the comments next to the function call show the steps to the final answer.\n",
    "\n",
    "<pre>\n",
    ">>> indig(12345) # -> 15 -> 6\n",
    "6\n",
    ">>> indig(7822)  # -> 19 -> 10 -> 1\n",
    "1\n",
    "</pre>"
   ]
  },
  {
   "cell_type": "markdown",
   "metadata": {},
   "source": [
    "#### Idea: Explore a Ramanujan Identity\n",
    "\n",
    "Find a Ramanujan Identity and validate it (not a proof) using an extended precision library, either Python's native Decimal, or something 3rd party such as [gmpy2](https://pypi.org/project/gmpy2/).\n",
    "\n",
    "$$\n",
    "\\frac{1}{\\pi}\n",
    "=\n",
    "\\frac{\\sqrt{8}}{9801}\n",
    "\\sum_{n=0}^{\\infty}\\frac{(4n)!}{(n!)^4}\\times\\frac{26390n + 1103}{396^{4n}}\n",
    "$$"
   ]
  },
  {
   "cell_type": "code",
   "execution_count": 1,
   "metadata": {},
   "outputs": [],
   "source": [
    "from math import factorial"
   ]
  },
  {
   "cell_type": "code",
   "execution_count": 2,
   "metadata": {},
   "outputs": [
    {
     "data": {
      "text/plain": [
       "3628800"
      ]
     },
     "execution_count": 2,
     "metadata": {},
     "output_type": "execute_result"
    }
   ],
   "source": [
    "factorial(10) # 10 * 9 * 8 ..... * 2 * 1"
   ]
  },
  {
   "cell_type": "code",
   "execution_count": 3,
   "metadata": {},
   "outputs": [
    {
     "data": {
      "text/plain": [
       "1"
      ]
     },
     "execution_count": 3,
     "metadata": {},
     "output_type": "execute_result"
    }
   ],
   "source": [
    "factorial(0)"
   ]
  },
  {
   "cell_type": "code",
   "execution_count": null,
   "metadata": {},
   "outputs": [],
   "source": []
  }
 ],
 "metadata": {
  "kernelspec": {
   "display_name": "Python 3",
   "language": "python",
   "name": "python3"
  },
  "language_info": {
   "codemirror_mode": {
    "name": "ipython",
    "version": 3
   },
   "file_extension": ".py",
   "mimetype": "text/x-python",
   "name": "python",
   "nbconvert_exporter": "python",
   "pygments_lexer": "ipython3",
   "version": "3.9.1"
  }
 },
 "nbformat": 4,
 "nbformat_minor": 4
}
