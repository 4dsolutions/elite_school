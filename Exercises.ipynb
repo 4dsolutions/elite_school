{
 "cells": [
  {
   "cell_type": "markdown",
   "metadata": {},
   "source": [
    "[Home](Home.ipynb)\n",
    "\n",
    "# Example Exercises and Games\n",
    "\n",
    "If you forked this project, consider adding your own example exercises to this Notebook.  Whether you include solutions or not is up to you.  Are you a teacher?  Perhaps you have hidden the answers in another place."
   ]
  },
  {
   "cell_type": "markdown",
   "metadata": {},
   "source": [
    "#### Idea: Scissors Paper Rock\n",
    "\n",
    "Write a scissors-paper-rock game that uses input( ) for a player. The computer plays the other player and doesn't cheat; it uses random.\n",
    "\n",
    "Keep score such that after a certain number of rounds, a winner is declared."
   ]
  },
  {
   "cell_type": "code",
   "execution_count": 1,
   "metadata": {},
   "outputs": [],
   "source": [
    "from puzzles import spr"
   ]
  },
  {
   "cell_type": "code",
   "execution_count": 2,
   "metadata": {},
   "outputs": [
    {
     "name": "stdin",
     "output_type": "stream",
     "text": [
      "s, p, r or q:  s\n"
     ]
    },
    {
     "name": "stdout",
     "output_type": "stream",
     "text": [
      "player picks scissors\n",
      "computer picks paper\n",
      "scissors versus paper\n",
      "player wins\n"
     ]
    },
    {
     "name": "stdin",
     "output_type": "stream",
     "text": [
      "s, p, r or q:  r\n"
     ]
    },
    {
     "name": "stdout",
     "output_type": "stream",
     "text": [
      "player picks rock\n",
      "computer picks scissors\n",
      "rock versus scissors\n",
      "player wins\n"
     ]
    },
    {
     "name": "stdin",
     "output_type": "stream",
     "text": [
      "s, p, r or q:  q\n"
     ]
    },
    {
     "name": "stdout",
     "output_type": "stream",
     "text": [
      "Thanks for playing\n"
     ]
    }
   ],
   "source": [
    "spr()"
   ]
  },
  {
   "cell_type": "markdown",
   "metadata": {},
   "source": [
    "Before taking a look at [one possible implementation](puzzles.py), why not come up with a solution yourself?  Take your time.  Don't feel you have to follow the example interface exactly."
   ]
  },
  {
   "cell_type": "markdown",
   "metadata": {},
   "source": [
    "#### Idea: Indigs\n",
    "Write a function that takes any positive integer or zero and returns its \"indig\", meaning you keep adding the integers together until you're down to one between 0 and 9.\n",
    "\n",
    "Below, the comments next to the function call show the steps to the final answer.\n",
    "\n",
    "<pre>\n",
    ">>> indig(12345) # -> 15 -> 6\n",
    "6\n",
    ">>> indig(7822)  # -> 19 -> 10 -> 1\n",
    "1\n",
    "</pre>"
   ]
  },
  {
   "cell_type": "code",
   "execution_count": 3,
   "metadata": {},
   "outputs": [],
   "source": [
    "from puzzles import indig"
   ]
  },
  {
   "cell_type": "code",
   "execution_count": 4,
   "metadata": {},
   "outputs": [
    {
     "data": {
      "text/plain": [
       "6"
      ]
     },
     "execution_count": 4,
     "metadata": {},
     "output_type": "execute_result"
    }
   ],
   "source": [
    "indig(12345)"
   ]
  },
  {
   "cell_type": "code",
   "execution_count": 5,
   "metadata": {},
   "outputs": [
    {
     "data": {
      "text/plain": [
       "1"
      ]
     },
     "execution_count": 5,
     "metadata": {},
     "output_type": "execute_result"
    }
   ],
   "source": [
    "indig(7822)"
   ]
  },
  {
   "cell_type": "markdown",
   "metadata": {},
   "source": [
    "#### Idea: Explore a Ramanujan Identity\n",
    "\n",
    "Find a Ramanujan Identity and validate it (not a proof) using an extended precision library, either Python's native Decimal, or something 3rd party such as [gmpy2](https://pypi.org/project/gmpy2/).\n",
    "\n",
    "$$\n",
    "\\frac{1}{\\pi}\n",
    "=\n",
    "\\frac{\\sqrt{8}}{9801}\n",
    "\\sum_{n=0}^{\\infty}\\frac{(4n)!}{(n!)^4}\\times\\frac{26390n + 1103}{396^{4n}}\n",
    "$$"
   ]
  },
  {
   "cell_type": "code",
   "execution_count": 6,
   "metadata": {},
   "outputs": [],
   "source": [
    "from math import factorial"
   ]
  },
  {
   "cell_type": "code",
   "execution_count": 7,
   "metadata": {},
   "outputs": [
    {
     "data": {
      "text/plain": [
       "3628800"
      ]
     },
     "execution_count": 7,
     "metadata": {},
     "output_type": "execute_result"
    }
   ],
   "source": [
    "factorial(10) # 10 * 9 * 8 ..... * 2 * 1"
   ]
  },
  {
   "cell_type": "code",
   "execution_count": 8,
   "metadata": {},
   "outputs": [
    {
     "data": {
      "text/plain": [
       "1"
      ]
     },
     "execution_count": 8,
     "metadata": {},
     "output_type": "execute_result"
    }
   ],
   "source": [
    "factorial(0)"
   ]
  },
  {
   "cell_type": "markdown",
   "metadata": {},
   "source": [
    "Validating the above identity from Ramanujan requires a multiple-precision number type. The Anaconda ecosystem supplies one, mpmath.  Or we can pip install it.\n",
    "\n",
    "Lets install it:"
   ]
  },
  {
   "cell_type": "code",
   "execution_count": 9,
   "metadata": {},
   "outputs": [],
   "source": [
    "# ! pip install mpmath  # ! means Operating Sys shell"
   ]
  },
  {
   "cell_type": "code",
   "execution_count": 10,
   "metadata": {},
   "outputs": [],
   "source": [
    "import mpmath\n",
    "from mpmath import mp, mpf"
   ]
  },
  {
   "cell_type": "markdown",
   "metadata": {},
   "source": [
    "Instead of going straight to Ramanujan's formula, lets practice with the number e, a convergence based on a single input, n, as n increases towards infinity.\n",
    "\n",
    "$$e = \\mathop {\\lim }\\limits_{n \\to \\infty } \\left( {1 + \\frac{1}{n}} \\right)^n$$"
   ]
  },
  {
   "cell_type": "code",
   "execution_count": 11,
   "metadata": {},
   "outputs": [],
   "source": [
    "mp.prec = 1000"
   ]
  },
  {
   "cell_type": "code",
   "execution_count": 12,
   "metadata": {},
   "outputs": [],
   "source": [
    "n = mpf('1'+'0'*100) # that's 1 followed by 100 zeroes"
   ]
  },
  {
   "cell_type": "code",
   "execution_count": 13,
   "metadata": {},
   "outputs": [
    {
     "data": {
      "text/plain": [
       "mpf('10000000000000000000000000000000000000000000000000000000000000000000000000000000000000000000000000000.0')"
      ]
     },
     "execution_count": 13,
     "metadata": {},
     "output_type": "execute_result"
    }
   ],
   "source": [
    "n"
   ]
  },
  {
   "cell_type": "code",
   "execution_count": 14,
   "metadata": {},
   "outputs": [
    {
     "data": {
      "text/plain": [
       "mpf('2.71828182845904523536028747135266249775724709369995957496696762772407663035354759457138217852516642729155230050905079815380304002899591868503797961026261688238975094242411197308585410131164426899269765211310564282704549680989698996537618283902467719057129820836416823535319224585963641777525861808095801')"
      ]
     },
     "execution_count": 14,
     "metadata": {},
     "output_type": "execute_result"
    }
   ],
   "source": [
    "(1 + 1/n)**n"
   ]
  },
  {
   "cell_type": "markdown",
   "metadata": {},
   "source": [
    "From [a published source](https://www.boxentriq.com/code-breaking/euler-number):\n",
    "\n",
    "2.7182818284 5904523536 0287471352 6624977572 4709369995 9574966967"
   ]
  },
  {
   "cell_type": "markdown",
   "metadata": {},
   "source": [
    "#### Idea:  Quiz Me on the Keywords\n",
    "\n",
    "In the first version, the goal is to remember as many of the 33-35 keywords as you can.  Then q to quit and see which ones you missed.  \n",
    "\n",
    "Entering any correct guess another time will trigger a listing of all the keywords guessed so far."
   ]
  },
  {
   "cell_type": "code",
   "execution_count": 15,
   "metadata": {},
   "outputs": [
    {
     "name": "stdout",
     "output_type": "stream",
     "text": [
      "35 keywords left to guess\n"
     ]
    },
    {
     "name": "stdin",
     "output_type": "stream",
     "text": [
      "What is your guess? (q to quit):  if\n"
     ]
    },
    {
     "name": "stdout",
     "output_type": "stream",
     "text": [
      "Yes, that's one of them\n",
      "34 keywords left to guess\n"
     ]
    },
    {
     "name": "stdin",
     "output_type": "stream",
     "text": [
      "What is your guess? (q to quit):  for\n"
     ]
    },
    {
     "name": "stdout",
     "output_type": "stream",
     "text": [
      "Yes, that's one of them\n",
      "33 keywords left to guess\n"
     ]
    },
    {
     "name": "stdin",
     "output_type": "stream",
     "text": [
      "What is your guess? (q to quit):  else\n"
     ]
    },
    {
     "name": "stdout",
     "output_type": "stream",
     "text": [
      "Yes, that's one of them\n",
      "32 keywords left to guess\n"
     ]
    },
    {
     "name": "stdin",
     "output_type": "stream",
     "text": [
      "What is your guess? (q to quit):  yield\n"
     ]
    },
    {
     "name": "stdout",
     "output_type": "stream",
     "text": [
      "Yes, that's one of them\n",
      "31 keywords left to guess\n"
     ]
    },
    {
     "name": "stdin",
     "output_type": "stream",
     "text": [
      "What is your guess? (q to quit):  assert\n"
     ]
    },
    {
     "name": "stdout",
     "output_type": "stream",
     "text": [
      "Yes, that's one of them\n",
      "30 keywords left to guess\n"
     ]
    },
    {
     "name": "stdin",
     "output_type": "stream",
     "text": [
      "What is your guess? (q to quit):  print\n"
     ]
    },
    {
     "name": "stdout",
     "output_type": "stream",
     "text": [
      "print is not a keyword in Python.\n",
      "30 keywords left to guess\n"
     ]
    },
    {
     "name": "stdin",
     "output_type": "stream",
     "text": [
      "What is your guess? (q to quit):  q\n"
     ]
    },
    {
     "name": "stdout",
     "output_type": "stream",
     "text": [
      "You gave up!\n",
      "Unguessed:  ['False', 'None', 'True', 'and', 'as', 'async', 'await', 'break', 'class', 'continue', 'def', 'del', 'elif', 'except', 'finally', 'from', 'global', 'import', 'in', 'is', 'lambda', 'nonlocal', 'not', 'or', 'pass', 'raise', 'return', 'try', 'while', 'with']\n",
      "Guessed:  ['if', 'for', 'else', 'yield', 'assert']\n"
     ]
    }
   ],
   "source": [
    "import kw_quiz"
   ]
  },
  {
   "cell_type": "markdown",
   "metadata": {},
   "source": [
    "In this next version, the computer picks a keyword at random, and you have only a few chances to guess it. Thanks to hints, however, guessing correctly is pretty easy."
   ]
  },
  {
   "cell_type": "code",
   "execution_count": 16,
   "metadata": {},
   "outputs": [
    {
     "name": "stdout",
     "output_type": "stream",
     "text": [
      "Welcome to Spooky Castle. To Escape, guess the secret keyword\n",
      "So what is the secret keyword then?  Guess so far: 0\n"
     ]
    },
    {
     "name": "stdin",
     "output_type": "stream",
     "text": [
      "You may answer (or type 'hint'):  hint\n"
     ]
    },
    {
     "name": "stdout",
     "output_type": "stream",
     "text": [
      "The keyword begins with p\n",
      "So what is the secret keyword then?  Guess so far: 0\n"
     ]
    },
    {
     "name": "stdin",
     "output_type": "stream",
     "text": [
      "You may answer (or type 'hint'):  hint\n"
     ]
    },
    {
     "name": "stdout",
     "output_type": "stream",
     "text": [
      "The keyword is 4 letters long.\n",
      "So what is the secret keyword then?  Guess so far: 0\n"
     ]
    },
    {
     "name": "stdin",
     "output_type": "stream",
     "text": [
      "You may answer (or type 'hint'):  pass\n"
     ]
    },
    {
     "name": "stdout",
     "output_type": "stream",
     "text": [
      "Excellent, we're done here\n",
      "You have won the Copper Key\n",
      "Congratulations!\n",
      "Here is your Copper Key\n",
      "Always always run this...\n"
     ]
    }
   ],
   "source": [
    "%run castle_game.py"
   ]
  },
  {
   "cell_type": "markdown",
   "metadata": {},
   "source": [
    "Playing these games may be fun and challenging, but don't forget to read the source code to see exactly how each works\n",
    "\n",
    "* [kw_quiz.py](kw_quiz.py)\n",
    "* [castle_game.py](castle_game.py)\n",
    "\n",
    "Check them out!"
   ]
  },
  {
   "cell_type": "markdown",
   "metadata": {},
   "source": [
    "# American Computer Science League\n",
    "\n",
    "* [ACSL Ball](./acsl/as_1_aball.pdf)\n",
    "\n",
    "* [ACSL Letters](./acsl/as_5_letters.pdf)\n",
    "\n",
    "* [Pattern Finder](./acsl/as_1_pattern.pdf)\n",
    "\n",
    "* [Hexgrid Walk](./acsl/as_3_hexgrid_walk.pdf)\n",
    "\n",
    "* [15 Puzzle](./acsl/as_4_fifteen_puzzle.pdf)\n",
    "\n",
    "* [Look and Say](./acsl/as_5_look_and_say.pdf)\n",
    "\n",
    "* [Subpattern Coverage](./acsl/as_6_subpattern_coverage.pdf )\n",
    "\n",
    "and so on."
   ]
  },
  {
   "cell_type": "code",
   "execution_count": 17,
   "metadata": {},
   "outputs": [],
   "source": [
    "import os\n",
    "os.chdir(\"./acsl\")"
   ]
  },
  {
   "cell_type": "code",
   "execution_count": 18,
   "metadata": {},
   "outputs": [
    {
     "name": "stdout",
     "output_type": "stream",
     "text": [
      "/Users/mac/Documents/elite_school/acsl\n"
     ]
    }
   ],
   "source": [
    "! pwd"
   ]
  },
  {
   "cell_type": "markdown",
   "metadata": {},
   "source": [
    "#### ACLS Ball\n",
    "\n",
    "* [PDF Instructions](acsl/as_1_aball.pdf)\n",
    "* [Solution](acsl/as_1_aball.py)\n",
    "* [Test Data 1](acsl/as_1_aball_sample1.txt)\n",
    "* [Test Data 2](acsl/as_1_aball_sample2.txt)"
   ]
  },
  {
   "cell_type": "code",
   "execution_count": 19,
   "metadata": {},
   "outputs": [],
   "source": [
    "import as_1_aball"
   ]
  },
  {
   "cell_type": "code",
   "execution_count": 20,
   "metadata": {},
   "outputs": [
    {
     "name": "stdout",
     "output_type": "stream",
     "text": [
      "6\n",
      "Chico\n",
      "Shemp\n",
      "50\n",
      "Groucho\n"
     ]
    }
   ],
   "source": [
    "as_1_aball.main(\"as_1_aball_sample1.txt\")"
   ]
  },
  {
   "cell_type": "code",
   "execution_count": 21,
   "metadata": {},
   "outputs": [
    {
     "name": "stdout",
     "output_type": "stream",
     "text": [
      "19\n",
      "Beth\n",
      "Dick\n",
      "57\n",
      "Ellen\n"
     ]
    }
   ],
   "source": [
    "as_1_aball.main(\"as_1_aball_sample2.txt\")"
   ]
  },
  {
   "cell_type": "markdown",
   "metadata": {},
   "source": [
    "#### ACLS Letters\n",
    "\n",
    "* [PDF Instruction](acsl/as_5_letters.pdf)\n",
    "* [Solution](acsl/as_5_letters.py)\n",
    "* [Test Data 1](acsl/as_5_letters_sample1.py)\n",
    "* [Test Data 2](acsl/as_5_letters_sample2.py)"
   ]
  },
  {
   "cell_type": "code",
   "execution_count": 22,
   "metadata": {},
   "outputs": [],
   "source": [
    "import as_5_letters"
   ]
  },
  {
   "cell_type": "code",
   "execution_count": 23,
   "metadata": {},
   "outputs": [
    {
     "name": "stdout",
     "output_type": "stream",
     "text": [
      "L 7\n",
      "L 5\n",
      "WTSRONLIHFEDCBA\n",
      "LOT\n",
      "LAEOTDINRHS\n",
      "E 5\n",
      "E 5\n",
      "YWTSRONLIGFEDA\n",
      "G\n",
      "EWINORADGT\n"
     ]
    }
   ],
   "source": [
    "as_5_letters.main(\"as_5_letters_sample1.txt\")"
   ]
  },
  {
   "cell_type": "code",
   "execution_count": 24,
   "metadata": {},
   "outputs": [
    {
     "name": "stdout",
     "output_type": "stream",
     "text": [
      "R 6\n",
      "R 5\n",
      "ZYWVUTSRPONLIHGFEDA\n",
      "IRST\n",
      "RTAIODESHLNUW\n",
      "E 11\n",
      "E 8\n",
      "WVTSRPONLIHGFEDCBA\n",
      "CE\n",
      "EWATCHIDNORV\n"
     ]
    }
   ],
   "source": [
    "as_5_letters.main(\"as_5_letters_sample2.txt\")"
   ]
  },
  {
   "cell_type": "markdown",
   "metadata": {},
   "source": [
    "#### Pattern Finder\n",
    "\n",
    "* [PDF Instructions](acsl/as_1_pattern.pdf)\n",
    "* [Solution](acsl/as1.py)\n",
    "* [Test Data 1](acsl/as1_pattern_sample1.txt)\n",
    "* [Test Data 2](acsl/as1_pattern_sample2.txt)"
   ]
  },
  {
   "cell_type": "code",
   "execution_count": 25,
   "metadata": {},
   "outputs": [
    {
     "data": {
      "text/plain": [
       "<module 'as1' from '/Users/mac/Documents/elite_school/acsl/as1.py'>"
      ]
     },
     "execution_count": 25,
     "metadata": {},
     "output_type": "execute_result"
    }
   ],
   "source": [
    "import as1\n",
    "from imp import reload\n",
    "reload(as1)"
   ]
  },
  {
   "cell_type": "code",
   "execution_count": 26,
   "metadata": {},
   "outputs": [
    {
     "name": "stdout",
     "output_type": "stream",
     "text": [
      " 1.  2\n",
      " 2.  1\n",
      " 3.  0\n",
      " 4. 15\n",
      " 5.  1\n",
      " 6.  1\n",
      " 7.  5\n",
      " 8.  2\n",
      " 9.  3\n",
      "10.  3\n"
     ]
    }
   ],
   "source": [
    "as1.main(\"as1_pattern_sample1.txt\")"
   ]
  },
  {
   "cell_type": "code",
   "execution_count": 27,
   "metadata": {},
   "outputs": [
    {
     "name": "stdout",
     "output_type": "stream",
     "text": [
      " 1.  4\n",
      " 2.  2\n",
      " 3.  6\n",
      " 4. 32\n",
      " 5.  1\n",
      " 6. 11\n",
      " 7.  0\n",
      " 8. 13\n",
      " 9.  7\n",
      "10.  3\n"
     ]
    }
   ],
   "source": [
    "as1.main(\"as1_pattern_sample2.txt\")"
   ]
  },
  {
   "cell_type": "markdown",
   "metadata": {},
   "source": [
    "#### Hexgrid Walk\n",
    "\n",
    "* [PDF Instructions](acsl/as_3_hexgrid_walk.pdf)\n",
    "* [Solution](acsl/as3.py)\n",
    "* [Test Data 1](acsl/as3_hexwalk1.txt)\n",
    "* [Test Data 2](acsl/as3_hexwalk2.txt)"
   ]
  },
  {
   "cell_type": "code",
   "execution_count": 28,
   "metadata": {},
   "outputs": [
    {
     "data": {
      "text/plain": [
       "<module 'as3' from '/Users/mac/Documents/elite_school/acsl/as3.py'>"
      ]
     },
     "execution_count": 28,
     "metadata": {},
     "output_type": "execute_result"
    }
   ],
   "source": [
    "import as3\n",
    "reload(as3)"
   ]
  },
  {
   "cell_type": "code",
   "execution_count": 29,
   "metadata": {},
   "outputs": [
    {
     "name": "stdout",
     "output_type": "stream",
     "text": [
      " 1. D4\n",
      " 2. E3\n",
      " 3. I8\n",
      " 4. B1\n",
      " 5. B1\n",
      " 6. A8\n",
      " 7. Z3\n",
      " 8. N12\n",
      " 9. N36\n",
      "10. J118\n"
     ]
    }
   ],
   "source": [
    "as3.main(\"as3_hexwalk1.txt\")"
   ]
  },
  {
   "cell_type": "code",
   "execution_count": 30,
   "metadata": {},
   "outputs": [
    {
     "name": "stdout",
     "output_type": "stream",
     "text": [
      " 1. D1\n",
      " 2. E3\n",
      " 3. C7\n",
      " 4. E5\n",
      " 5. E5\n",
      " 6. U9\n",
      " 7. H9\n",
      " 8. G10\n",
      " 9. B3\n",
      "10. A2\n"
     ]
    }
   ],
   "source": [
    "as3.main(\"as3_hexwalk2.txt\")"
   ]
  },
  {
   "cell_type": "markdown",
   "metadata": {},
   "source": [
    "#### 15 Puzzle\n",
    "\n",
    "* [PDF Instructions](acsl/as_4_fifteen_puzzle.pdf)\n",
    "* [Solution](acsl/as3.py)\n",
    "* [Test Data 1](acsl/as4_fifteen_sample1.txt)\n",
    "* [Test Data 2](acsl/as4_fifteen_sample2.txt)"
   ]
  },
  {
   "cell_type": "code",
   "execution_count": 31,
   "metadata": {},
   "outputs": [
    {
     "data": {
      "text/plain": [
       "<module 'as4' from '/Users/mac/Documents/elite_school/acsl/as4.py'>"
      ]
     },
     "execution_count": 31,
     "metadata": {},
     "output_type": "execute_result"
    }
   ],
   "source": [
    "import as4\n",
    "reload(as4)"
   ]
  },
  {
   "cell_type": "code",
   "execution_count": 32,
   "metadata": {},
   "outputs": [
    {
     "name": "stdout",
     "output_type": "stream",
     "text": [
      "1. 10\n",
      "2. 7\n",
      "3. 5\n",
      "4. 10\n",
      "5. 3\n",
      "6. 10\n",
      "7. 1\n",
      "8. 6\n",
      "9. 16\n",
      "10. 4\n"
     ]
    }
   ],
   "source": [
    "as4.main(\"as4_fifteen_sample1.txt\")"
   ]
  },
  {
   "cell_type": "code",
   "execution_count": 33,
   "metadata": {},
   "outputs": [
    {
     "name": "stdout",
     "output_type": "stream",
     "text": [
      "1. 6\n",
      "2. 13\n",
      "3. 4\n",
      "4. 16\n",
      "5. 10\n",
      "6. 1\n",
      "7. 9\n",
      "8. 16\n",
      "9. 15\n",
      "10. 12\n"
     ]
    }
   ],
   "source": [
    "as4.main(\"as4_fifteen_sample2.txt\")"
   ]
  },
  {
   "cell_type": "markdown",
   "metadata": {},
   "source": [
    "#### Look and Say\n",
    "\n",
    "* [PDF Instructions](acsl/as_5_look_and_say.pdf)\n",
    "* [Solution](acsl/as5_looksay.py)\n",
    "* [Test Data 1](acsl/as5_sample1.txt)\n",
    "* [Test Data 2](acsl/as5_sample2.txt)"
   ]
  },
  {
   "cell_type": "code",
   "execution_count": 34,
   "metadata": {},
   "outputs": [],
   "source": [
    "from as5_looksay import substr, looksay"
   ]
  },
  {
   "cell_type": "code",
   "execution_count": 35,
   "metadata": {},
   "outputs": [
    {
     "data": {
      "text/plain": [
       "'1113'"
      ]
     },
     "execution_count": 35,
     "metadata": {},
     "output_type": "execute_result"
    }
   ],
   "source": [
    "s = \"21131211131221\"\n",
    "substr(s,7,3)  # Term 9: 21131211131221"
   ]
  },
  {
   "cell_type": "code",
   "execution_count": 36,
   "metadata": {},
   "outputs": [
    {
     "data": {
      "text/plain": [
       "'21131211131221'"
      ]
     },
     "execution_count": 36,
     "metadata": {},
     "output_type": "execute_result"
    }
   ],
   "source": [
    "s"
   ]
  },
  {
   "cell_type": "code",
   "execution_count": 37,
   "metadata": {},
   "outputs": [
    {
     "data": {
      "text/plain": [
       "'12211311123113112211'"
      ]
     },
     "execution_count": 37,
     "metadata": {},
     "output_type": "execute_result"
    }
   ],
   "source": [
    "looksay(s)"
   ]
  },
  {
   "cell_type": "code",
   "execution_count": 38,
   "metadata": {},
   "outputs": [],
   "source": [
    "assert looksay('312211') == '13112221'\n",
    "assert looksay('13112221') == '1113213211'"
   ]
  },
  {
   "cell_type": "code",
   "execution_count": 39,
   "metadata": {},
   "outputs": [
    {
     "data": {
      "text/plain": [
       "'11'"
      ]
     },
     "execution_count": 39,
     "metadata": {},
     "output_type": "execute_result"
    }
   ],
   "source": [
    "looksay('1')"
   ]
  },
  {
   "cell_type": "code",
   "execution_count": 40,
   "metadata": {},
   "outputs": [],
   "source": [
    "sequence = ['1']\n",
    "for i in range(25):\n",
    "    sequence.append(looksay(sequence[-1]))"
   ]
  },
  {
   "cell_type": "code",
   "execution_count": 41,
   "metadata": {},
   "outputs": [
    {
     "data": {
      "text/plain": [
       "['1',\n",
       " '11',\n",
       " '21',\n",
       " '1211',\n",
       " '111221',\n",
       " '312211',\n",
       " '13112221',\n",
       " '1113213211',\n",
       " '31131211131221',\n",
       " '13211311123113112211']"
      ]
     },
     "execution_count": 41,
     "metadata": {},
     "output_type": "execute_result"
    }
   ],
   "source": [
    "sequence[:10]"
   ]
  },
  {
   "cell_type": "code",
   "execution_count": 42,
   "metadata": {},
   "outputs": [
    {
     "name": "stdout",
     "output_type": "stream",
     "text": [
      "2 2 0 --> 1  [ 1. 1 ]\n",
      "3 1 1 --> 21  [ 2. 21 ]\n",
      "4 2 2 --> 211  [ 3. 211 ]\n",
      "5 4 2 --> 221  [ 4. 221 ]\n",
      "6 1 2 --> 312  [ 5. 312 ]\n",
      "7 2 4 --> 31122  [ 6. 31122 ]\n",
      "8 4 4 --> 32132  [ 7. 32132 ]\n",
      "9 7 3 --> 1113  [ 8. 1113 ]\n",
      "10 10 5 --> 231131  [ 9. 231131 ]\n",
      "11 15 6 --> 1321132  [ 10. 1321132 ]\n"
     ]
    }
   ],
   "source": [
    "test = open(\"as5_sample1.txt\")\n",
    "ans = open(\"as5_looksay1.txt\")\n",
    "for line, answer in zip(test, ans):\n",
    "    print(line[:-1], end=\"\")\n",
    "    args = [int(arg) for arg in line[:-1].split()]\n",
    "    print(\" -->\", substr(sequence[args[0]-1], args[1], args[2]), end=\"\")\n",
    "    print(\"  [\", answer[:-1], \"]\")"
   ]
  },
  {
   "cell_type": "code",
   "execution_count": 43,
   "metadata": {},
   "outputs": [
    {
     "name": "stdout",
     "output_type": "stream",
     "text": [
      "12 10 2 --> 123  [ 1. 123 ]\n",
      "13 15 4 --> 13122  [ 2. 13122 ]\n",
      "14 20 5 --> 112111  [ 3. 112111 ]\n",
      "16 25 6 --> 3112111  [ 4. 3112111 ]\n",
      "18 40 7 --> 12211121  [ 5. 12211121 ]\n",
      "20 100 10 --> 12221131112  [ 6. 12221131112 ]\n",
      "21 200 5 --> 321133  [ 7. 321133 ]\n",
      "22 300 8 --> 112311332  [ 8. 112311332 ]\n",
      "23 400 10 --> 21321231231  [ 9. 21321231231 ]\n",
      "24 500 10 --> 21113122113  [ 10. 21113122113 ]\n"
     ]
    }
   ],
   "source": [
    "test = open(\"as5_sample2.txt\")\n",
    "ans = open(\"as5_looksay2.txt\")\n",
    "for line, answer in zip(test, ans):\n",
    "    print(line[:-1], end=\"\")\n",
    "    args = [int(arg) for arg in line[:-1].split()]\n",
    "    print(\" -->\", substr(sequence[args[0]-1], args[1], args[2]), end=\"\")\n",
    "    print(\"  [\", answer[:-1], \"]\")"
   ]
  },
  {
   "cell_type": "markdown",
   "metadata": {},
   "source": [
    "#### Subpattern Coverage\n",
    "\n",
    "* [PDF Instructions](acsl/as_6_subpattern_coverage.pdf)\n",
    "* [Solution](as6.py)\n",
    "* [Test Data 1](acsl/as6_sample1.txt)\n",
    "* [Test Data 2](acsl/as6_sample2.txt)"
   ]
  },
  {
   "cell_type": "code",
   "execution_count": 44,
   "metadata": {},
   "outputs": [
    {
     "name": "stdout",
     "output_type": "stream",
     "text": [
      "8 8 FF AA 55 00 FF AA 55 00\n",
      "4 4 F F F F\n",
      "4 4 1 1 1 1\n",
      "3 4 A A A\n",
      "4 8 CC AA CC AA\n",
      "4 6 22 B1 22 B1\n",
      "6 4 3 A F 3 A F\n",
      "6 6 B1 D2 21 B1 D2 21\n",
      "6 8 AA AA AA AA AA AA\n",
      "5 5 00 00 00 00 00\n"
     ]
    }
   ],
   "source": [
    "with open(\"as6_sample1.txt\") as f:\n",
    "    for line in f:\n",
    "        print(line, end=\"\")"
   ]
  },
  {
   "cell_type": "code",
   "execution_count": 45,
   "metadata": {},
   "outputs": [
    {
     "data": {
      "text/plain": [
       "['1', '0', '1', '0', '1', '0', '1', '0']"
      ]
     },
     "execution_count": 45,
     "metadata": {},
     "output_type": "execute_result"
    }
   ],
   "source": [
    "list(\"{:08b}\".format((int(\"AA\", 16))))"
   ]
  },
  {
   "cell_type": "code",
   "execution_count": 46,
   "metadata": {},
   "outputs": [],
   "source": [
    "def make_panel(rows, cols, data):\n",
    "    rows = []\n",
    "    template = \"{:0\" + str(cols) + \"b}\"\n",
    "    for hexcode in data.split():\n",
    "        row = list(template.format((int(hexcode, 16))))\n",
    "        rows.append(row)\n",
    "    return rows"
   ]
  },
  {
   "cell_type": "code",
   "execution_count": 47,
   "metadata": {},
   "outputs": [
    {
     "data": {
      "text/plain": [
       "[['1', '1', '1', '1', '1', '1', '1', '1'],\n",
       " ['1', '0', '1', '0', '1', '0', '1', '0'],\n",
       " ['0', '1', '0', '1', '0', '1', '0', '1'],\n",
       " ['0', '0', '0', '0', '0', '0', '0', '0'],\n",
       " ['1', '1', '1', '1', '1', '1', '1', '1'],\n",
       " ['1', '0', '1', '0', '1', '0', '1', '0'],\n",
       " ['0', '1', '0', '1', '0', '1', '0', '1'],\n",
       " ['0', '0', '0', '0', '0', '0', '0', '0']]"
      ]
     },
     "execution_count": 47,
     "metadata": {},
     "output_type": "execute_result"
    }
   ],
   "source": [
    "target = make_panel(8,8,\"FF AA 55 00 FF AA 55 00\")\n",
    "target"
   ]
  },
  {
   "cell_type": "code",
   "execution_count": 48,
   "metadata": {},
   "outputs": [
    {
     "data": {
      "text/plain": [
       "[['1', '1', '1', '1'],\n",
       " ['1', '1', '1', '1'],\n",
       " ['1', '1', '1', '1'],\n",
       " ['1', '1', '1', '1']]"
      ]
     },
     "execution_count": 48,
     "metadata": {},
     "output_type": "execute_result"
    }
   ],
   "source": [
    "target = make_panel(4, 4, \"F F F F\")\n",
    "target"
   ]
  },
  {
   "cell_type": "code",
   "execution_count": 49,
   "metadata": {},
   "outputs": [],
   "source": [
    "target = make_panel(8,8,\"FF AA 55 00 FF AA 55 00\")"
   ]
  },
  {
   "cell_type": "code",
   "execution_count": 50,
   "metadata": {},
   "outputs": [],
   "source": [
    "from as6 import *"
   ]
  },
  {
   "cell_type": "markdown",
   "metadata": {},
   "source": [
    "What tile sizes evenly divide the target panel?  In order of total tile size?  We will start with smallest and go bigger, each time generating the whole from the part, to see if we have a match."
   ]
  },
  {
   "cell_type": "code",
   "execution_count": 51,
   "metadata": {},
   "outputs": [
    {
     "data": {
      "text/plain": [
       "[(1, 1),\n",
       " (1, 2),\n",
       " (2, 1),\n",
       " (1, 4),\n",
       " (2, 2),\n",
       " (4, 1),\n",
       " (1, 8),\n",
       " (2, 4),\n",
       " (4, 2),\n",
       " (8, 1),\n",
       " (2, 8),\n",
       " (4, 4),\n",
       " (8, 2),\n",
       " (4, 8),\n",
       " (8, 4),\n",
       " (8, 8)]"
      ]
     },
     "execution_count": 51,
     "metadata": {},
     "output_type": "execute_result"
    }
   ],
   "source": [
    "make_sizes(8,8)"
   ]
  },
  {
   "cell_type": "markdown",
   "metadata": {},
   "source": [
    "Let's get the subpanel of a specific size."
   ]
  },
  {
   "cell_type": "code",
   "execution_count": 53,
   "metadata": {},
   "outputs": [
    {
     "data": {
      "text/plain": [
       "[['1', '1'], ['1', '0'], ['0', '1'], ['0', '0']]"
      ]
     },
     "execution_count": 53,
     "metadata": {},
     "output_type": "execute_result"
    }
   ],
   "source": [
    "subp = get_subpanel(target, 4, 2)\n",
    "subp"
   ]
  },
  {
   "cell_type": "markdown",
   "metadata": {},
   "source": [
    "Now lets generate the target using the candidate tile.  We need so many across and so many down."
   ]
  },
  {
   "cell_type": "code",
   "execution_count": 54,
   "metadata": {},
   "outputs": [],
   "source": [
    "generated = mult_subpanel(subp, across=8//2, down=8//4)"
   ]
  },
  {
   "cell_type": "code",
   "execution_count": 55,
   "metadata": {},
   "outputs": [
    {
     "data": {
      "text/plain": [
       "True"
      ]
     },
     "execution_count": 55,
     "metadata": {},
     "output_type": "execute_result"
    }
   ],
   "source": [
    "generated == target"
   ]
  },
  {
   "cell_type": "markdown",
   "metadata": {},
   "source": [
    "The solve method brings it all together:\n",
    "\n",
    "* generate the target panel from hexcodes\n",
    "* generate possible subpanel sizes in size order\n",
    "* multiply subpanels to make candidate\n",
    "* if candidate == target, we have found the smallest size."
   ]
  },
  {
   "cell_type": "code",
   "execution_count": 56,
   "metadata": {},
   "outputs": [
    {
     "data": {
      "text/plain": [
       "(4, 2)"
      ]
     },
     "execution_count": 56,
     "metadata": {},
     "output_type": "execute_result"
    }
   ],
   "source": [
    "solve(8, 8, \"FF AA 55 00 FF AA 55 00\")"
   ]
  },
  {
   "cell_type": "code",
   "execution_count": 57,
   "metadata": {},
   "outputs": [
    {
     "data": {
      "text/plain": [
       "(1, 1)"
      ]
     },
     "execution_count": 57,
     "metadata": {},
     "output_type": "execute_result"
    }
   ],
   "source": [
    "solve(4, 4, \"F F F F\")"
   ]
  },
  {
   "cell_type": "markdown",
   "metadata": {},
   "source": [
    "#### Gridmeter\n",
    "\n",
    "* [PDF Instructions](acsl/as_7_gridmeter.pdf)\n",
    "* [Solution](acsl/as7.py)\n",
    "* [Test Data 1](acsl/as7_sample1.txt)\n",
    "* [Test Data 2](acsl/as7_sample2.txt)"
   ]
  },
  {
   "cell_type": "markdown",
   "metadata": {},
   "source": [
    "#### Gridmeter\n",
    "\n",
    "* [PDF Instructions](acsl/as_7_gridmeter.pdf)\n",
    "* [Solution](acsl/as7.py)\n",
    "* [Test Data 1](acsl/as7_sample1.txt)\n",
    "* [Test Data 2](acsl/as7_sample2.txt)"
   ]
  },
  {
   "cell_type": "markdown",
   "metadata": {},
   "source": [
    "#### Compressed Trees\n",
    "\n",
    "* [PDF Instructions](acsl/as_8_compressed_trees.pdf)\n",
    "* [Solution](acsl/as8.py)\n",
    "* [Test Data 1](acsl/as8_sample1.txt)\n",
    "* [Test Data 2](acsl/as8_sample2.txt)"
   ]
  },
  {
   "cell_type": "markdown",
   "metadata": {},
   "source": [
    "#### Hexgrid Path Generation\n",
    "\n",
    "* [PDF Instructions](acsl/as_9_hexgrid_path_generation.pdf)\n",
    "* [Solution](acsl/as9.py)\n",
    "* [Test Data 1](acsl/as9_sample1.txt)\n",
    "* [Test Data 2](acsl/as9_sample2.txt)"
   ]
  },
  {
   "cell_type": "code",
   "execution_count": null,
   "metadata": {},
   "outputs": [],
   "source": []
  }
 ],
 "metadata": {
  "kernelspec": {
   "display_name": "Python 3",
   "language": "python",
   "name": "python3"
  },
  "language_info": {
   "codemirror_mode": {
    "name": "ipython",
    "version": 3
   },
   "file_extension": ".py",
   "mimetype": "text/x-python",
   "name": "python",
   "nbconvert_exporter": "python",
   "pygments_lexer": "ipython3",
   "version": "3.7.9"
  }
 },
 "nbformat": 4,
 "nbformat_minor": 4
}
